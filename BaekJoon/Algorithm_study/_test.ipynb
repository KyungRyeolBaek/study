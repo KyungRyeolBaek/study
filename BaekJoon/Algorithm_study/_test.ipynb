{
 "cells": [
  {
   "cell_type": "code",
   "execution_count": 5,
   "metadata": {},
   "outputs": [
    {
     "name": "stdout",
     "output_type": "stream",
     "text": [
      "[[1, 2], [3, 4], [5, 6]]\n",
      "[[1, 2], [3, 5], [4, 6]]\n",
      "[[1, 2], [3, 6], [4, 5]]\n",
      "[[1, 2], [4, 5], [3, 6]]\n",
      "[[1, 2], [4, 6], [3, 5]]\n",
      "[[1, 2], [5, 6], [3, 4]]\n",
      "[[1, 3], [2, 4], [5, 6]]\n",
      "[[1, 3], [2, 5], [4, 6]]\n",
      "[[1, 3], [2, 6], [4, 5]]\n",
      "[[1, 3], [4, 5], [2, 6]]\n",
      "[[1, 3], [4, 6], [2, 5]]\n",
      "[[1, 3], [5, 6], [2, 4]]\n",
      "[[1, 4], [2, 3], [5, 6]]\n",
      "[[1, 4], [2, 5], [3, 6]]\n",
      "[[1, 4], [2, 6], [3, 5]]\n",
      "[[1, 4], [3, 5], [2, 6]]\n",
      "[[1, 4], [3, 6], [2, 5]]\n",
      "[[1, 4], [5, 6], [2, 3]]\n",
      "[[1, 5], [2, 3], [4, 6]]\n",
      "[[1, 5], [2, 4], [3, 6]]\n",
      "[[1, 5], [2, 6], [3, 4]]\n",
      "[[1, 5], [3, 4], [2, 6]]\n",
      "[[1, 5], [3, 6], [2, 4]]\n",
      "[[1, 5], [4, 6], [2, 3]]\n",
      "[[1, 6], [2, 3], [4, 5]]\n",
      "[[1, 6], [2, 4], [3, 5]]\n",
      "[[1, 6], [2, 5], [3, 4]]\n",
      "[[1, 6], [3, 4], [2, 5]]\n",
      "[[1, 6], [3, 5], [2, 4]]\n",
      "[[1, 6], [4, 5], [2, 3]]\n",
      "[[2, 3], [1, 4], [5, 6]]\n",
      "[[2, 3], [1, 5], [4, 6]]\n",
      "[[2, 3], [1, 6], [4, 5]]\n",
      "[[2, 3], [4, 5], [1, 6]]\n",
      "[[2, 3], [4, 6], [1, 5]]\n",
      "[[2, 3], [5, 6], [1, 4]]\n",
      "[[2, 4], [1, 3], [5, 6]]\n",
      "[[2, 4], [1, 5], [3, 6]]\n",
      "[[2, 4], [1, 6], [3, 5]]\n",
      "[[2, 4], [3, 5], [1, 6]]\n",
      "[[2, 4], [3, 6], [1, 5]]\n",
      "[[2, 4], [5, 6], [1, 3]]\n",
      "[[2, 5], [1, 3], [4, 6]]\n",
      "[[2, 5], [1, 4], [3, 6]]\n",
      "[[2, 5], [1, 6], [3, 4]]\n",
      "[[2, 5], [3, 4], [1, 6]]\n",
      "[[2, 5], [3, 6], [1, 4]]\n",
      "[[2, 5], [4, 6], [1, 3]]\n",
      "[[2, 6], [1, 3], [4, 5]]\n",
      "[[2, 6], [1, 4], [3, 5]]\n",
      "[[2, 6], [1, 5], [3, 4]]\n",
      "[[2, 6], [3, 4], [1, 5]]\n",
      "[[2, 6], [3, 5], [1, 4]]\n",
      "[[2, 6], [4, 5], [1, 3]]\n",
      "[[3, 4], [1, 2], [5, 6]]\n",
      "[[3, 4], [1, 5], [2, 6]]\n",
      "[[3, 4], [1, 6], [2, 5]]\n",
      "[[3, 4], [2, 5], [1, 6]]\n",
      "[[3, 4], [2, 6], [1, 5]]\n",
      "[[3, 4], [5, 6], [1, 2]]\n",
      "[[3, 5], [1, 2], [4, 6]]\n",
      "[[3, 5], [1, 4], [2, 6]]\n",
      "[[3, 5], [1, 6], [2, 4]]\n",
      "[[3, 5], [2, 4], [1, 6]]\n",
      "[[3, 5], [2, 6], [1, 4]]\n",
      "[[3, 5], [4, 6], [1, 2]]\n",
      "[[3, 6], [1, 2], [4, 5]]\n",
      "[[3, 6], [1, 4], [2, 5]]\n",
      "[[3, 6], [1, 5], [2, 4]]\n",
      "[[3, 6], [2, 4], [1, 5]]\n",
      "[[3, 6], [2, 5], [1, 4]]\n",
      "[[3, 6], [4, 5], [1, 2]]\n",
      "[[4, 5], [1, 2], [3, 6]]\n",
      "[[4, 5], [1, 3], [2, 6]]\n",
      "[[4, 5], [1, 6], [2, 3]]\n",
      "[[4, 5], [2, 3], [1, 6]]\n",
      "[[4, 5], [2, 6], [1, 3]]\n",
      "[[4, 5], [3, 6], [1, 2]]\n",
      "[[4, 6], [1, 2], [3, 5]]\n",
      "[[4, 6], [1, 3], [2, 5]]\n",
      "[[4, 6], [1, 5], [2, 3]]\n",
      "[[4, 6], [2, 3], [1, 5]]\n",
      "[[4, 6], [2, 5], [1, 3]]\n",
      "[[4, 6], [3, 5], [1, 2]]\n",
      "[[5, 6], [1, 2], [3, 4]]\n",
      "[[5, 6], [1, 3], [2, 4]]\n",
      "[[5, 6], [1, 4], [2, 3]]\n",
      "[[5, 6], [2, 3], [1, 4]]\n",
      "[[5, 6], [2, 4], [1, 3]]\n",
      "[[5, 6], [3, 4], [1, 2]]\n"
     ]
    }
   ],
   "source": [
    "import itertools\n",
    "\n",
    "def create_all_pairs(lst):\n",
    "    all_pairs = []\n",
    "    for first_pair in itertools.combinations(lst, 2):\n",
    "        remaining_elements = [x for x in lst if x not in first_pair]\n",
    "        for second_pair in itertools.combinations(remaining_elements, 2):\n",
    "            third_pair = [x for x in remaining_elements if x not in second_pair]\n",
    "            all_pairs.append([list(first_pair), list(second_pair), third_pair])\n",
    "    return all_pairs\n",
    "\n",
    "# 입력 리스트\n",
    "lst = [1, 2, 3, 4, 5, 6]\n",
    "\n",
    "# 모든 순서쌍 생성\n",
    "all_possible_pairs = create_all_pairs(lst)\n",
    "\n",
    "# 결과 출력\n",
    "for pairs in all_possible_pairs:\n",
    "    print(pairs)\n"
   ]
  },
  {
   "cell_type": "code",
   "execution_count": 8,
   "metadata": {},
   "outputs": [
    {
     "data": {
      "text/plain": [
       "[[{1, 2}, {3, 4}, {5, 6}],\n",
       " [{1, 2}, {5, 6}, {3, 4}],\n",
       " [{1, 4}, {2, 3}, {5, 6}],\n",
       " [{1, 4}, {5, 6}, {2, 3}],\n",
       " [{1, 6}, {2, 5}, {3, 4}]]"
      ]
     },
     "execution_count": 8,
     "metadata": {},
     "output_type": "execute_result"
    }
   ],
   "source": [
    "import itertools\n",
    "import math\n",
    "\n",
    "\n",
    "# 소수 판별 함수\n",
    "def is_prime_number(x):\n",
    "    if x < 2:\n",
    "        return False        # 2 이하 소수 아님\n",
    "    # 2부터 x의 제곱근까지의 모든 수를 확인하며\n",
    "    for i in range(2, int(math.sqrt(x)) + 1):\n",
    "        # x가 해당 수로 나누어떨어진다면\n",
    "        if x % i == 0:\n",
    "            return False    # 소수가 아님\n",
    "    return True             # 소수임\n",
    "\n",
    "def create_unique_pairs(lst):\n",
    "    all_pairs = []\n",
    "    for perm in itertools.permutations(lst):\n",
    "        pairs = []\n",
    "        is_prime_pairs = False\n",
    "        for i in range(0, len(lst), 2):\n",
    "            nums = list(perm[i:i+2])\n",
    "            if is_prime_number(sum(nums)):\n",
    "                pairs.append(set(nums))\n",
    "            else:\n",
    "                break\n",
    "        else:\n",
    "            is_prime_pairs = True\n",
    "\n",
    "        if is_prime_pairs and (pairs not in all_pairs):\n",
    "            all_pairs.append(pairs)\n",
    "    return all_pairs\n",
    "\n",
    "# 입력 리스트\n",
    "lst = [1, 2, 3, 4, 5, 6]\n",
    "\n",
    "# 모든 순서쌍 생성\n",
    "unique_pairs = create_unique_pairs(lst)\n",
    "\n",
    "# 결과의 일부 출력\n",
    "unique_pairs[:5]  # 첫 5개 조합만 출력\n"
   ]
  },
  {
   "cell_type": "code",
   "execution_count": 19,
   "metadata": {},
   "outputs": [
    {
     "ename": "KeyboardInterrupt",
     "evalue": "",
     "output_type": "error",
     "traceback": [
      "\u001b[1;31m---------------------------------------------------------------------------\u001b[0m",
      "\u001b[1;31mKeyboardInterrupt\u001b[0m                         Traceback (most recent call last)",
      "Cell \u001b[1;32mIn [19], line 42\u001b[0m\n\u001b[0;32m     39\u001b[0m lst \u001b[38;5;241m=\u001b[39m [\u001b[38;5;241m941\u001b[39m, \u001b[38;5;241m902\u001b[39m, \u001b[38;5;241m873\u001b[39m, \u001b[38;5;241m841\u001b[39m, \u001b[38;5;241m948\u001b[39m, \u001b[38;5;241m851\u001b[39m, \u001b[38;5;241m945\u001b[39m, \u001b[38;5;241m854\u001b[39m, \u001b[38;5;241m815\u001b[39m, \u001b[38;5;241m898\u001b[39m, \u001b[38;5;241m806\u001b[39m, \u001b[38;5;241m826\u001b[39m, \u001b[38;5;241m976\u001b[39m, \u001b[38;5;241m878\u001b[39m, \u001b[38;5;241m861\u001b[39m, \u001b[38;5;241m919\u001b[39m, \u001b[38;5;241m926\u001b[39m, \u001b[38;5;241m901\u001b[39m, \u001b[38;5;241m875\u001b[39m, \u001b[38;5;241m864\u001b[39m]\n\u001b[0;32m     41\u001b[0m \u001b[38;5;66;03m# 모든 순서쌍 생성\u001b[39;00m\n\u001b[1;32m---> 42\u001b[0m unique_pairs \u001b[38;5;241m=\u001b[39m \u001b[43mcreate_unique_pairs\u001b[49m\u001b[43m(\u001b[49m\u001b[43mlst\u001b[49m\u001b[43m)\u001b[49m\n\u001b[0;32m     44\u001b[0m \u001b[38;5;66;03m# 결과의 일부 출력\u001b[39;00m\n\u001b[0;32m     45\u001b[0m unique_pairs[:\u001b[38;5;241m5\u001b[39m]\n",
      "Cell \u001b[1;32mIn [19], line 24\u001b[0m, in \u001b[0;36mcreate_unique_pairs\u001b[1;34m(lst)\u001b[0m\n\u001b[0;32m     22\u001b[0m \u001b[38;5;28;01mfor\u001b[39;00m i \u001b[38;5;129;01min\u001b[39;00m \u001b[38;5;28mrange\u001b[39m(\u001b[38;5;241m0\u001b[39m, \u001b[38;5;28mlen\u001b[39m(lst), \u001b[38;5;241m2\u001b[39m):\n\u001b[0;32m     23\u001b[0m     nums \u001b[38;5;241m=\u001b[39m \u001b[38;5;28mlist\u001b[39m(perm[i:i\u001b[38;5;241m+\u001b[39m\u001b[38;5;241m2\u001b[39m])\n\u001b[1;32m---> 24\u001b[0m     \u001b[38;5;28;01mif\u001b[39;00m (\u001b[38;5;28mset\u001b[39m(nums) \u001b[38;5;129;01mnot\u001b[39;00m \u001b[38;5;129;01min\u001b[39;00m done_pairs) \u001b[38;5;129;01mand\u001b[39;00m \u001b[43mis_prime_number\u001b[49m\u001b[43m(\u001b[49m\u001b[38;5;28;43msum\u001b[39;49m\u001b[43m(\u001b[49m\u001b[43mnums\u001b[49m\u001b[43m)\u001b[49m\u001b[43m)\u001b[49m:\n\u001b[0;32m     25\u001b[0m         pairs\u001b[38;5;241m.\u001b[39mappend(\u001b[38;5;28mset\u001b[39m(nums))\n\u001b[0;32m     26\u001b[0m     \u001b[38;5;28;01melse\u001b[39;00m:\n",
      "Cell \u001b[1;32mIn [19], line 12\u001b[0m, in \u001b[0;36mis_prime_number\u001b[1;34m(x)\u001b[0m\n\u001b[0;32m      9\u001b[0m \u001b[38;5;66;03m# 2부터 x의 제곱근까지의 모든 수를 확인하며\u001b[39;00m\n\u001b[0;32m     10\u001b[0m \u001b[38;5;28;01mfor\u001b[39;00m i \u001b[38;5;129;01min\u001b[39;00m \u001b[38;5;28mrange\u001b[39m(\u001b[38;5;241m2\u001b[39m, \u001b[38;5;28mint\u001b[39m(math\u001b[38;5;241m.\u001b[39msqrt(x)) \u001b[38;5;241m+\u001b[39m \u001b[38;5;241m1\u001b[39m):\n\u001b[0;32m     11\u001b[0m     \u001b[38;5;66;03m# x가 해당 수로 나누어떨어진다면\u001b[39;00m\n\u001b[1;32m---> 12\u001b[0m     \u001b[38;5;28;01mif\u001b[39;00m \u001b[43mx\u001b[49m\u001b[43m \u001b[49m\u001b[38;5;241;43m%\u001b[39;49m\u001b[43m \u001b[49m\u001b[43mi\u001b[49m\u001b[43m \u001b[49m\u001b[38;5;241;43m==\u001b[39;49m\u001b[43m \u001b[49m\u001b[38;5;241;43m0\u001b[39;49m:\n\u001b[0;32m     13\u001b[0m         \u001b[38;5;28;01mreturn\u001b[39;00m \u001b[38;5;28;01mFalse\u001b[39;00m    \u001b[38;5;66;03m# 소수가 아님\u001b[39;00m\n\u001b[0;32m     14\u001b[0m \u001b[38;5;28;01mreturn\u001b[39;00m \u001b[38;5;28;01mTrue\u001b[39;00m\n",
      "\u001b[1;31mKeyboardInterrupt\u001b[0m: "
     ]
    }
   ],
   "source": [
    "import itertools\n",
    "import math\n",
    "\n",
    "\n",
    "# 소수 판별 함수\n",
    "def is_prime_number(x):\n",
    "    if x < 2:\n",
    "        return False        # 2 이하 소수 아님\n",
    "    # 2부터 x의 제곱근까지의 모든 수를 확인하며\n",
    "    for i in range(2, int(math.sqrt(x)) + 1):\n",
    "        # x가 해당 수로 나누어떨어진다면\n",
    "        if x % i == 0:\n",
    "            return False    # 소수가 아님\n",
    "    return True             # 소수임\n",
    "\n",
    "def create_unique_pairs(lst):\n",
    "    all_pairs = []\n",
    "    done_pairs = []\n",
    "    for perm in itertools.permutations(lst):\n",
    "        pairs = []\n",
    "        is_prime_pairs = False\n",
    "        for i in range(0, len(lst), 2):\n",
    "            nums = list(perm[i:i+2])\n",
    "            if (set(nums) not in done_pairs) and is_prime_number(sum(nums)):\n",
    "                pairs.append(set(nums))\n",
    "            else:\n",
    "                break\n",
    "        else:\n",
    "            is_prime_pairs = True\n",
    "            done_pairs.append(pairs[0])\n",
    "\n",
    "        if is_prime_pairs and (pairs not in all_pairs):\n",
    "            all_pairs.append(pairs)\n",
    "    return all_pairs\n",
    "\n",
    "# 입력 리스트\n",
    "# lst = [1, 2, 3, 4, 5, 6]\n",
    "# lst = [34, 39, 32, 4, 9, 35, 14, 17]\n",
    "lst = [941, 902, 873, 841, 948, 851, 945, 854, 815, 898, 806, 826, 976, 878, 861, 919, 926, 901, 875, 864]\n",
    "\n",
    "# 모든 순서쌍 생성\n",
    "unique_pairs = create_unique_pairs(lst)\n",
    "\n",
    "# 결과의 일부 출력\n",
    "unique_pairs[:5]  # 첫 5개 조합만 출력\n"
   ]
  },
  {
   "cell_type": "code",
   "execution_count": 16,
   "metadata": {},
   "outputs": [
    {
     "data": {
      "text/plain": [
       "[34, 39, 32, 4, 9, 35, 14, 17]"
      ]
     },
     "execution_count": 16,
     "metadata": {},
     "output_type": "execute_result"
    }
   ],
   "source": [
    "list(map(int, input().strip().split()))"
   ]
  },
  {
   "cell_type": "code",
   "execution_count": 62,
   "metadata": {},
   "outputs": [
    {
     "name": "stdout",
     "output_type": "stream",
     "text": [
      "1\n"
     ]
    },
    {
     "data": {
      "text/plain": [
       "[806, 926]"
      ]
     },
     "execution_count": 62,
     "metadata": {},
     "output_type": "execute_result"
    }
   ],
   "source": [
    "import itertools\n",
    "import math\n",
    "\n",
    "# 소수 판별 함수\n",
    "def is_prime(x):\n",
    "    if x < 2:\n",
    "        return False\n",
    "    for i in range(2, int(math.sqrt(x)) + 1):\n",
    "        if x % i == 0:\n",
    "            return False\n",
    "    return True\n",
    "\n",
    "# 리스트에서 두 요소의 합이 소수인 모든 순서쌍 찾기\n",
    "def find_prime_pairs(lst):\n",
    "    prime_pairs = []\n",
    "    for pair in itertools.combinations(lst, 2):\n",
    "        if is_prime(sum(pair)):\n",
    "            prime_pairs.append(pair)\n",
    "    return prime_pairs\n",
    "\n",
    "# 소수 합 순서쌍을 사용하여 전체 조합 만들기\n",
    "def create_combinations(lst):\n",
    "    first_num = lst[0]\n",
    "    combinations, done_pairs = [], []\n",
    "    prime_pairs = find_prime_pairs(lst)\n",
    "    for comb in itertools.combinations(prime_pairs, len(lst)//2):\n",
    "        flat_comb = sum(comb, ())\n",
    "        if (flat_comb[0] == first_num) and (flat_comb[1] not in done_pairs) and len(set(flat_comb)) == len(lst):\n",
    "            combinations.append(comb)\n",
    "            done_pairs.append(flat_comb[1])\n",
    "    return done_pairs\n",
    "\n",
    "\n",
    "# 입력 리스트\n",
    "# lst = [1, 2, 3, 4, 5, 6]\n",
    "# lst = [34, 39, 32, 4, 9, 35, 14, 17]\n",
    "lst = [941, 902, 873, 841, 948, 851, 945, 854, 815, 898, 806, 826, 976, 878, 861, 919, 926, 901, 875, 864]\n",
    "\n",
    "# # 모든 순서쌍 생성\n",
    "# unique_pairs = create_unique_pairs(lst)\n",
    "\n",
    "# # 결과의 일부 출력\n",
    "# unique_pairs  # 첫 5개 조합만 출력\n",
    "\n",
    "\n",
    "def test():\n",
    "    print('1')\n",
    "t = test()\n",
    "t\n",
    "\n",
    "create_combinations(lst)\n"
   ]
  },
  {
   "cell_type": "code",
   "execution_count": 63,
   "metadata": {},
   "outputs": [
    {
     "data": {
      "text/plain": [
       "[1, 4, 9, 16, 25]"
      ]
     },
     "execution_count": 63,
     "metadata": {},
     "output_type": "execute_result"
    }
   ],
   "source": [
    "def calc(x):\n",
    "    return x*x\n",
    "\n",
    "list(map(calc, range(1,6)))"
   ]
  },
  {
   "cell_type": "code",
   "execution_count": 64,
   "metadata": {},
   "outputs": [
    {
     "data": {
      "text/plain": [
       "[3, 7, 11, 15]"
      ]
     },
     "execution_count": 64,
     "metadata": {},
     "output_type": "execute_result"
    }
   ],
   "source": [
    "in1 = [1, 3, 5, 7]\n",
    "in2 = [2, 4, 6, 8]\n",
    "\n",
    "list(map(lambda x,y:x+y, in1, in2))"
   ]
  },
  {
   "cell_type": "code",
   "execution_count": 5,
   "metadata": {},
   "outputs": [
    {
     "data": {
      "text/plain": [
       "97"
      ]
     },
     "execution_count": 5,
     "metadata": {},
     "output_type": "execute_result"
    }
   ],
   "source": [
    "ord('a')"
   ]
  },
  {
   "cell_type": "code",
   "execution_count": 6,
   "metadata": {},
   "outputs": [
    {
     "name": "stdout",
     "output_type": "stream",
     "text": [
      "1 0 -1 -1 2 -1 -1 -1 -1 4 3 -1 -1 7 5 -1 -1 -1 -1 -1 -1 -1 -1 -1 -1 -1\n"
     ]
    }
   ],
   "source": [
    "print(*map(input().find,map(chr,range(97,123))))"
   ]
  },
  {
   "cell_type": "code",
   "execution_count": null,
   "metadata": {},
   "outputs": [],
   "source": [
    "\n"
   ]
  }
 ],
 "metadata": {
  "kernelspec": {
   "display_name": "Python 3",
   "language": "python",
   "name": "python3"
  },
  "language_info": {
   "codemirror_mode": {
    "name": "ipython",
    "version": 3
   },
   "file_extension": ".py",
   "mimetype": "text/x-python",
   "name": "python",
   "nbconvert_exporter": "python",
   "pygments_lexer": "ipython3",
   "version": "3.10.1"
  }
 },
 "nbformat": 4,
 "nbformat_minor": 2
}
