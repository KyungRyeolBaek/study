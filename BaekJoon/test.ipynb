{
 "cells": [
  {
   "cell_type": "code",
   "execution_count": 7,
   "metadata": {},
   "outputs": [
    {
     "name": "stdout",
     "output_type": "stream",
     "text": [
      "n = 3\n",
      "1 -> 3\n",
      "1 -> 2\n",
      "3 -> 2\n",
      "1 -> 3\n",
      "2 -> 1\n",
      "2 -> 3\n",
      "1 -> 3\n"
     ]
    }
   ],
   "source": [
    "# 하노이의 탑\n",
    "# 입력: 옮기려는 원반의 갯수 n\n",
    "#      옮길 원반이 현재 있는 출발점 기둥 from_pos\n",
    "#      원반을 옮길 도착점 기둥 to_pos\n",
    "#      옮기는 과정에서 사용할 보조 기둥 aux_pos\n",
    "# 출력: 원반을 옮기는 순서 \n",
    "\n",
    "def hanoi(n, from_pos, to_pos, aux_pos):\n",
    "    if n == 1:  # 원반 한 개를 옮기는 문제면 그냥 옮기면 됨\n",
    "        print(from_pos, \"->\", to_pos)\n",
    "        return\n",
    "\n",
    "    # 원반 n - 1개를 aux_pos로 이동(to_pos를 보조 기둥으로)\n",
    "    hanoi(n - 1, from_pos, aux_pos, to_pos)\n",
    "    # 가장 큰 원반을 목적지로 이동\n",
    "    print(from_pos, \"->\", to_pos)\n",
    "    # aux_pos에 있는 원반 n-1개를 목적지로 이동(from_pos를 보조 기둥으로)\n",
    "    hanoi(n - 1, aux_pos, to_pos, from_pos)\n",
    "\n",
    "# print(\"n = 1\")\n",
    "# hanoi(1, 1, 3, 2)  # 원반 한 개를 1번 기둥에서 3번 기둥으로 이동(2번을 보조 기둥으로)\n",
    "# print(\"n = 2\")\n",
    "# hanoi(2, 1, 3, 2)  # 원반 두 개를 1번 기둥에서 3번 기둥으로 이동(2번을 보조 기둥으로)\n",
    "print(\"n = 3\")\n",
    "hanoi(3, 1, 3, 2) # 원반 세 개를 1번 기둥에서 3번 기둥으로 이동(2번을 보조 기둥으로)\n"
   ]
  },
  {
   "cell_type": "code",
   "execution_count": 9,
   "metadata": {},
   "outputs": [],
   "source": [
    "a = 23\n",
    "\n",
    "if 1 <= a <=20:\n",
    "    print(20)\n"
   ]
  },
  {
   "cell_type": "code",
   "execution_count": 1,
   "metadata": {},
   "outputs": [
    {
     "ename": "KeyboardInterrupt",
     "evalue": "",
     "output_type": "error",
     "traceback": [
      "\u001b[0;31m---------------------------------------------------------------------------\u001b[0m",
      "\u001b[0;31mKeyboardInterrupt\u001b[0m                         Traceback (most recent call last)",
      "\u001b[0;32m/var/folders/b6/f5xr702d2jl1p6d70p7m2h2m0000gn/T/ipykernel_5767/2982977878.py\u001b[0m in \u001b[0;36m<module>\u001b[0;34m\u001b[0m\n\u001b[1;32m      4\u001b[0m \u001b[0minput\u001b[0m \u001b[0;34m=\u001b[0m \u001b[0msys\u001b[0m\u001b[0;34m.\u001b[0m\u001b[0mstdin\u001b[0m\u001b[0;34m.\u001b[0m\u001b[0mreadline\u001b[0m\u001b[0;34m\u001b[0m\u001b[0;34m\u001b[0m\u001b[0m\n\u001b[1;32m      5\u001b[0m \u001b[0;34m\u001b[0m\u001b[0m\n\u001b[0;32m----> 6\u001b[0;31m \u001b[0mN\u001b[0m \u001b[0;34m=\u001b[0m \u001b[0minput\u001b[0m\u001b[0;34m(\u001b[0m\u001b[0;34m)\u001b[0m\u001b[0;34m\u001b[0m\u001b[0;34m\u001b[0m\u001b[0m\n\u001b[0m\u001b[1;32m      7\u001b[0m \u001b[0mF\u001b[0m \u001b[0;34m=\u001b[0m \u001b[0mint\u001b[0m\u001b[0;34m(\u001b[0m\u001b[0minput\u001b[0m\u001b[0;34m(\u001b[0m\u001b[0;34m)\u001b[0m\u001b[0;34m)\u001b[0m\u001b[0;34m\u001b[0m\u001b[0;34m\u001b[0m\u001b[0m\n\u001b[1;32m      8\u001b[0m \u001b[0;34m\u001b[0m\u001b[0m\n",
      "\u001b[0;31mKeyboardInterrupt\u001b[0m: "
     ]
    }
   ],
   "source": [
    "import sys\n",
    "\n",
    "\n",
    "input = sys.stdin.readline\n",
    "\n",
    "N = input()\n",
    "F = int(input())\n",
    "\n",
    "N[-2] = '0'\n",
    "N[-1] = '0'\n",
    "\n",
    "\n",
    "\n",
    "result = N % F\n",
    "result = str(int(str(N)[-2:]) - result)\n",
    "if len(result) == 1:\n",
    "    print('0' + result)\n",
    "else:\n",
    "    print(result)\n"
   ]
  },
  {
   "cell_type": "code",
   "execution_count": null,
   "metadata": {},
   "outputs": [],
   "source": [
    "1\n",
    "5 10\n",
    "100000 99999 99997 99994 99990\n",
    "4 5\n",
    "3 5\n",
    "3 4\n",
    "2 5\n",
    "2 4\n",
    "2 3\n",
    "1 5\n",
    "1 4\n",
    "1 3\n",
    "1 2\n",
    "4"
   ]
  },
  {
   "cell_type": "code",
   "execution_count": null,
   "metadata": {},
   "outputs": [],
   "source": [
    "import sys\n",
    "from collections import deque\n",
    "\n",
    "input = sys.stdin.readline\n",
    "\n",
    "T = int(input())\n",
    "for _ in range(T):\n",
    "    N, K = map(int, input().strip().split())\n",
    "    D = list(map(int, input().strip().split()))\n",
    "    G = [list(map(int, input().strip().split())) for _ in range(K)]\n",
    "    W = int(input())\n",
    "    graph = {n + 1: {'next_building': [], 'require_building': {}, 'require_time': time, 'spended_time': 0, 'status': 0} for n, time in zip(range(N), D)}\n",
    "    for g in G:\n",
    "        graph[g[0]]['next_building'].append(g[1])\n",
    "        graph[g[1]]['require_building'][g[0]] = 0\n",
    "\n",
    "    except_case = False\n",
    "    init_building = []\n",
    "    for check_building_key, check_building_value in graph.items():\n",
    "        if check_building_value['require_building'] == {}:\n",
    "            init_building.append(check_building_key)\n",
    "            if W == check_building_key:\n",
    "                except_case = True\n",
    "                break\n",
    "    if except_case:\n",
    "        print(graph[W]['require_time'])\n",
    "        continue\n",
    "\n",
    "    que = deque([])\n",
    "    for building_num in init_building:\n",
    "        building_dict = graph[building_num]\n",
    "        building_dict['status'] = 1\n",
    "        for next_building in building_dict['next_building']:\n",
    "            que.appendleft(next_building)\n",
    "\n",
    "    while que:\n",
    "        building_num = que.pop()\n",
    "        building_dict = graph[building_num]\n",
    "        building_dict['status'] = 1\n",
    "        \n",
    "        spended_time_list = []\n",
    "        for building_key, building_value in building_dict['require_building'].items():\n",
    "            prev_building = graph[building_key]\n",
    "            spended_time_list.append(prev_building['spended_time'] + prev_building['require_time'])\n",
    "            if (building_value == 0) and (prev_building['status'] == 1):\n",
    "                building_dict['require_building'][building_key] = 1\n",
    "        building_dict['spended_time'] = max(spended_time_list)\n",
    "\n",
    "        if sum(building_dict['require_building'].values()) == len(building_dict['require_building'].values()):\n",
    "            for next_building in building_dict['next_building']:\n",
    "                que.appendleft(next_building)\n",
    "\n",
    "            if building_num == W:\n",
    "                print(building_dict['spended_time'] + building_dict['require_time'])\n",
    "                break\n"
   ]
  },
  {
   "cell_type": "code",
   "execution_count": null,
   "metadata": {},
   "outputs": [],
   "source": []
  }
 ],
 "metadata": {
  "kernelspec": {
   "display_name": "Python 3",
   "language": "python",
   "name": "python3"
  },
  "language_info": {
   "codemirror_mode": {
    "name": "ipython",
    "version": 3
   },
   "file_extension": ".py",
   "mimetype": "text/x-python",
   "name": "python",
   "nbconvert_exporter": "python",
   "pygments_lexer": "ipython3",
   "version": "3.10.9"
  },
  "orig_nbformat": 4
 },
 "nbformat": 4,
 "nbformat_minor": 2
}
