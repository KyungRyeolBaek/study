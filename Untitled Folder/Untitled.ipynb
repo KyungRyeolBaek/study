{
 "cells": [
  {
   "cell_type": "code",
   "execution_count": 3,
   "metadata": {},
   "outputs": [
    {
     "name": "stdout",
     "output_type": "stream",
     "text": [
      "33.74772412\n",
      "0\n"
     ]
    }
   ],
   "source": [
    "import pyupbit\n",
    "\n",
    "access = \"naahaVSh29BJPu3pfBZPEWSyjsGwytkYiexmAuHR\"          # 본인 값으로 변경\n",
    "secret = \"e0fJfTu1BjPnn35Qc2pAOheSn7xCOXIMxG0Dzluj\"          # 본인 값으로 변경\n",
    "upbit = pyupbit.Upbit(access, secret)\n",
    "\n",
    "print(upbit.get_balance(\"KRW-DOGE\"))     # KRW-XRP 조회\n",
    "print(upbit.get_balance(\"KRW\"))         # 보유 현금 조회"
   ]
  },
  {
   "cell_type": "code",
   "execution_count": 6,
   "metadata": {},
   "outputs": [
    {
     "name": "stdout",
     "output_type": "stream",
     "text": [
      "                           open        high         low       close  \\\n",
      "2021-04-19 09:00:00  75692000.0  76829000.0  70780000.0  71456000.0   \n",
      "2021-04-20 09:00:00  71448000.0  72077000.0  66001000.0  70402000.0   \n",
      "2021-04-21 09:00:00  70400000.0  71490000.0  67601000.0  68198000.0   \n",
      "2021-04-22 09:00:00  68193000.0  69000000.0  59111000.0  59962000.0   \n",
      "2021-04-23 09:00:00  59950000.0  61900000.0  54964000.0  60900000.0   \n",
      "2021-04-24 09:00:00  60901000.0  62519000.0  58500000.0  60853000.0   \n",
      "2021-04-25 09:00:00  60853000.0  61744000.0  60475000.0  60853000.0   \n",
      "\n",
      "                           volume      range      target  \n",
      "2021-04-19 09:00:00  11873.849833  3024500.0         NaN  \n",
      "2021-04-20 09:00:00  15744.700222  3038000.0  74472500.0  \n",
      "2021-04-21 09:00:00   8571.433882  1944500.0  73438000.0  \n",
      "2021-04-22 09:00:00  20651.787708  4944500.0  70137500.0  \n",
      "2021-04-23 09:00:00  21936.253748  3468000.0  64894500.0  \n",
      "2021-04-24 09:00:00   9176.447943  2009500.0  64369000.0  \n",
      "2021-04-25 09:00:00   1179.446847   634500.0  62862500.0  \n"
     ]
    }
   ],
   "source": [
    "# backtest\n",
    "import numpy as np\n",
    "\n",
    "# OHLCV(oppen, high, low, close, volum) == (당일 시가, 고가, 저가, 종가, 거래량) 데이터\n",
    "df = pyupbit.get_ohlcv(\"KRW-BTC\", count=7)\n",
    "\n",
    "# 변동폭 * k 계산, (고가 - 저가) * k 값\n",
    "df['range'] = (df['high'] - df['low']) * 0.5\n",
    "\n",
    "# target(매수가), range 칼럼을 한칸씩 밑으로 내림(.shift(1))\n",
    "df['target'] = df['open'] + df['range'].shift(1)\n",
    "\n",
    "# 수수료(fee)\n",
    "fee = 0.05\n",
    "\n",
    "# np.where(조건문, 참일때 값, 거짓일 때 값)\n",
    "df['ror'] = np.where(df['high'] > df['target'],\n",
    "                     df['close'] / df['target'] - fee,\n",
    "                     1)\n",
    "\n",
    "# 누적 곱 계산 (comprod) ==> 누적 수익률\n",
    "df['hpr'] = df['ror'].cumprod()\n",
    "\n",
    "# Draw Down 계산 (누적 최대 값과 현재 hpr 차이 / 누적 최대값 * 100)\n",
    "df['dd'] = (df['hpr'].cummax() - df['hpr']) / df['hpr'].cummax() * 100\n",
    "\n",
    "print(\"MDD(%): \", df['dd'].max())\n",
    "df.to_excel(\"dd.xlsx\")"
   ]
  },
  {
   "cell_type": "code",
   "execution_count": 7,
   "metadata": {},
   "outputs": [
    {
     "name": "stdout",
     "output_type": "stream",
     "text": [
      "0.1 0.619550\n",
      "0.2 0.759534\n",
      "0.3 1.000000\n",
      "0.4 1.000000\n",
      "0.5 1.000000\n",
      "0.6 1.000000\n",
      "0.7 1.000000\n",
      "0.8 1.000000\n",
      "0.9 1.000000\n"
     ]
    }
   ],
   "source": [
    "def get_ror(k=0.5):\n",
    "    df = pyupbit.get_ohlcv(\"KRW-BTC\", count=7)\n",
    "    df['range'] = (df['high'] - df['low']) * k\n",
    "    df['target'] = df['open'] + df['range'].shift(1)\n",
    "\n",
    "    fee = 0.05\n",
    "    df['ror'] = np.where(df['high'] > df['target'],\n",
    "                         df['close'] / df['target'] - fee,\n",
    "                         1)\n",
    "\n",
    "    ror = df['ror'].cumprod()[-2]\n",
    "    return ror\n",
    "\n",
    "\n",
    "for k in np.arange(0.1, 1.0, 0.1):\n",
    "    ror = get_ror(k)\n",
    "    print(\"%.1f %f\" % (k, ror))"
   ]
  },
  {
   "cell_type": "code",
   "execution_count": null,
   "metadata": {},
   "outputs": [],
   "source": [
    "import time\n",
    "import pyupbit\n",
    "import datetime\n",
    "\n",
    "access = \"naahaVSh29BJPu3pfBZPEWSyjsGwytkYiexmAuHR\"          # 본인 값으로 변경\n",
    "secret = \"e0fJfTu1BjPnn35Qc2pAOheSn7xCOXIMxG0Dzluj\" \n",
    "\n",
    "def get_target_price(ticker, k):\n",
    "    \"\"\"변동성 돌파 전략으로 매수 목표가 조회\"\"\"\n",
    "    df = pyupbit.get_ohlcv(ticker, interval=\"day\", count=2)\n",
    "    target_price = df.iloc[0]['close'] + (df.iloc[0]['high'] - df.iloc[0]['low']) * k\n",
    "    return target_price\n",
    "\n",
    "def get_start_time(ticker):\n",
    "    \"\"\"시작 시간 조회\"\"\"\n",
    "    df = pyupbit.get_ohlcv(ticker, interval=\"day\", count=1)\n",
    "    start_time = df.index[0]\n",
    "    return start_time\n",
    "\n",
    "def get_balance(ticker):\n",
    "    \"\"\"잔고 조회\"\"\"\n",
    "    balances = upbit.get_balances()\n",
    "    for b in balances:\n",
    "        if b['currency'] == ticker:\n",
    "            if b['balance'] is not None:\n",
    "                return float(b['balance'])\n",
    "            else:\n",
    "                return 0\n",
    "\n",
    "def get_current_price(ticker):\n",
    "    \"\"\"현재가 조회\"\"\"\n",
    "    return pyupbit.get_orderbook(tickers=ticker)[0][\"orderbook_units\"][0][\"ask_price\"]\n",
    "\n",
    "# 로그인\n",
    "upbit = pyupbit.Upbit(access, secret)\n",
    "print(\"autotrade start\")\n",
    "\n",
    "# 자동매매 시작\n",
    "while True:\n",
    "    try:\n",
    "        now = datetime.datetime.now()\n",
    "        start_time = get_start_time(\"KRW-BTC\")\n",
    "        end_time = start_time + datetime.timedelta(days=1)\n",
    "\n",
    "        if start_time < now < end_time - datetime.timedelta(seconds=10):\n",
    "            target_price = get_target_price(\"KRW-BTC\", 0.5)\n",
    "            current_price = get_current_price(\"KRW-BTC\")\n",
    "            if target_price < current_price:\n",
    "                krw = get_balance(\"KRW\")\n",
    "                if krw > 5000:\n",
    "                    upbit.buy_market_order(\"KRW-BTC\", krw*0.9995)\n",
    "        else:\n",
    "            btc = get_balance(\"BTC\")\n",
    "            if btc > 0.00008:\n",
    "                upbit.sell_market_order(\"KRW-BTC\", btc*0.9995)\n",
    "            time.sleep(1)\n",
    "    except Exception as e:\n",
    "        print(e)\n",
    "        time.sleep(1)"
   ]
  }
 ],
 "metadata": {
  "kernelspec": {
   "display_name": "Python 3",
   "language": "python",
   "name": "python3"
  },
  "language_info": {
   "codemirror_mode": {
    "name": "ipython",
    "version": 3
   },
   "file_extension": ".py",
   "mimetype": "text/x-python",
   "name": "python",
   "nbconvert_exporter": "python",
   "pygments_lexer": "ipython3",
   "version": "3.7.6"
  }
 },
 "nbformat": 4,
 "nbformat_minor": 4
}
