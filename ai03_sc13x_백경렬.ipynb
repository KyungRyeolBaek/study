{
  "nbformat": 4,
  "nbformat_minor": 0,
  "metadata": {
    "colab": {
      "name": "ai03-sc13x-백경렬.ipynb",
      "provenance": [],
      "include_colab_link": true
    },
    "kernelspec": {
      "name": "python3",
      "display_name": "Python 3"
    }
  },
  "cells": [
    {
      "cell_type": "markdown",
      "metadata": {
        "id": "view-in-github",
        "colab_type": "text"
      },
      "source": [
        "<a href=\"https://colab.research.google.com/github/KyungRyeolBaek/study/blob/main/ai03_sc13x_%EB%B0%B1%EA%B2%BD%EB%A0%AC.ipynb\" target=\"_parent\"><img src=\"https://colab.research.google.com/assets/colab-badge.svg\" alt=\"Open In Colab\"/></a>"
      ]
    },
    {
      "cell_type": "markdown",
      "metadata": {
        "id": "-wQxiT7yC4_v"
      },
      "source": [
        "# SC13x Linear Algebra"
      ]
    },
    {
      "cell_type": "markdown",
      "metadata": {
        "id": "vBbJ0ZyPD6RG"
      },
      "source": [
        "## 1. $\\vec{c} \\cdot \\vec{d}$ 를 구해보세요. 이 두 개의 vector는 orthogonal 관계 (직교)에 있나요? 왜 그런가요? 왜 아닌가요?\n",
        "\n",
        "\\begin{align}\n",
        "\\vec{c} = \\begin{bmatrix}3 & 7 & -2 & 12\\end{bmatrix}\n",
        "\\qquad\n",
        "\\vec{d} = \\begin{bmatrix}9 & -7 & 4 & 6\\end{bmatrix}\n",
        "\\end{align}"
      ]
    },
    {
      "cell_type": "markdown",
      "metadata": {
        "id": "4K1uD4euJiaN"
      },
      "source": [
        "  # 1. 답\n",
        "  \n",
        "  $\\vec{c} \\cdot \\vec{d}$ = 42\n",
        "\n",
        "  두 벡터는 직교관계에 있지 않다. \n",
        "  \n",
        "  직교 관계에 있으려면, 내적이 0이 되어야 한다. 하지만 내적이 0이 아니므로 직교 관계에 있지 않다."
      ]
    },
    {
      "cell_type": "code",
      "metadata": {
        "id": "NYb8BalmIfgY",
        "colab": {
          "base_uri": "https://localhost:8080/"
        },
        "outputId": "e306600d-d572-49d4-9f1b-cb2ab474c1f0"
      },
      "source": [
        "c, d = np.array([3, 7, -2, 12]), np.array([9, -7, 4, 6])\n",
        "\n",
        "import numpy as np\n",
        "np.dot(c, d.T), np.dot(c, d)"
      ],
      "execution_count": 8,
      "outputs": [
        {
          "output_type": "execute_result",
          "data": {
            "text/plain": [
              "(42, 42)"
            ]
          },
          "metadata": {
            "tags": []
          },
          "execution_count": 8
        }
      ]
    },
    {
      "cell_type": "markdown",
      "metadata": {
        "id": "gS85sJHWG7iU"
      },
      "source": [
        "## 2. $E^{-1}$ 와 $E^{T}$ 를 구하세요.\n",
        "\n",
        "\\begin{align}\n",
        "E = \n",
        "\\begin{bmatrix}\n",
        "    7 & 4 & 2 \\\\\n",
        "    1 & 3 & -1 \\\\\n",
        "    2 & 6 & -4\n",
        "\\end{bmatrix}\n",
        "\\end{align}"
      ]
    },
    {
      "cell_type": "markdown",
      "metadata": {
        "id": "qlZsFRT2M6tP"
      },
      "source": [
        "# 2. 답\n",
        "\n",
        "$E^{-1}$ (E의 역행렬) = \n",
        "\n",
        "[[ 0.17647059 -0.82352941  0.29411765]\n",
        "\n",
        " [-0.05882353  0.94117647 -0.26470588]\n",
        " \n",
        " [ 0.          1.         -0.5       ]]\n",
        "\n",
        "$E^{T}$ (E의 전치행렬) =\n",
        "\n",
        "[[ 7  1  2]\n",
        "\n",
        " [ 4  3  6]\n",
        "\n",
        " [ 2 -1 -4]]\n",
        "\n"
      ]
    },
    {
      "cell_type": "code",
      "metadata": {
        "id": "QiISq5egIgSS",
        "colab": {
          "base_uri": "https://localhost:8080/"
        },
        "outputId": "a7d23080-cb04-4c16-f3fe-c849c738d802"
      },
      "source": [
        "E = np.array([[7, 4, 2],\n",
        "              [1, 3, -1],\n",
        "              [2, 6, -4]])\n",
        "\n",
        "print('E의 역행렬 = \\n{},\\n\\nE의 전치행렬 = \\n{}'.format(np.linalg.inv(E), E.T))"
      ],
      "execution_count": 20,
      "outputs": [
        {
          "output_type": "stream",
          "text": [
            "E의 역행렬 = \n",
            "[[ 0.17647059 -0.82352941  0.29411765]\n",
            " [-0.05882353  0.94117647 -0.26470588]\n",
            " [ 0.          1.         -0.5       ]],\n",
            "\n",
            "E의 전치행렬 = \n",
            "[[ 7  1  2]\n",
            " [ 4  3  6]\n",
            " [ 2 -1 -4]]\n"
          ],
          "name": "stdout"
        }
      ]
    },
    {
      "cell_type": "markdown",
      "metadata": {
        "id": "_DFQHO2HcPNz"
      },
      "source": [
        "## 3. $|F|$ 를 구하세요. 이 데이터는 어떤 의미가 있나요?\n",
        "\n",
        "\\begin{align}\n",
        "F = \n",
        "\\begin{bmatrix}\n",
        "    2 & -2 & 5 \\\\\n",
        "    4 & 1 & 10 \\\\\n",
        "    12 & 6 & 30\n",
        "\\end{bmatrix}\n",
        "\\end{align}"
      ]
    },
    {
      "cell_type": "markdown",
      "metadata": {
        "id": "LR9MytqFPVIc"
      },
      "source": [
        "# 3. 답\n",
        "\n",
        "$|F|$ = 35.07135583350036\n",
        "\n",
        "||F|| 는 [12.80624847,  6.40312424, 32.01562119] 이다.\n",
        "\n",
        "F의 행렬식이 0 이므로 이 행렬은 역행렬을 갖지 않는다.\n",
        "\n",
        "벡터로 이루어진 F의 차원은 2차원 이다."
      ]
    },
    {
      "cell_type": "code",
      "metadata": {
        "colab": {
          "base_uri": "https://localhost:8080/"
        },
        "id": "2knRL00mNbVM",
        "outputId": "d4f6da5b-4975-4f3a-b1c1-6965a470cc9d"
      },
      "source": [
        "F = np.array([[2, -2, 5],\n",
        "              [4, 1, 10],\n",
        "              [12, 6, 30]])\n",
        "\n",
        "print('|F| = {}, ||F|| = {}, det(F) = {}, F의 차원 = {}'.format(np.linalg.norm(F, axis=0, ord=1), np.linalg.norm(F, axis=0, ord=2), np.linalg.det(F), np.linalg.matrix_rank(F)))\n",
        "print('F 는 35.071 만큼의 크기를 가지고 있다.')\n",
        "print('||F|| 는 [12.80624847,  6.40312424, 32.01562119] 이다.')\n",
        "print('det(F)가 {} 이므로 이 행렬은 역행렬을 갖지 않는다.'.format(np.linalg.det(F)))\n",
        "print('벡터로 이루어진 F의 차원은 {}차원 이다.'.format(np.linalg.matrix_rank(F)))"
      ],
      "execution_count": 32,
      "outputs": [
        {
          "output_type": "stream",
          "text": [
            "|F| = [18.  9. 45.], ||F|| = [12.80624847  6.40312424 32.01562119], det(F) = 0.0, F의 차원 = 2\n",
            "F 는 35.071 만큼의 크기를 가지고 있다.\n",
            "||F|| 는 [12.80624847,  6.40312424, 32.01562119] 이다.\n",
            "det(F)가 0.0 이므로 이 행렬은 역행렬을 갖지 않는다.\n",
            "벡터로 이루어진 F의 차원은 2차원 이다.\n"
          ],
          "name": "stdout"
        }
      ]
    },
    {
      "cell_type": "markdown",
      "metadata": {
        "id": "ap-us2lBGQyi"
      },
      "source": [
        "## 4. 다음 데이터의 covariance, correlation을 구하세요.\n",
        "\n",
        "- x = [820, 760, 1250, 990, 1080, 1450, 1600]\n",
        "\n",
        "- y = [0, 1, 7, 1, 0, 6, 4]"
      ]
    },
    {
      "cell_type": "markdown",
      "metadata": {
        "id": "JqiUkBWdU983"
      },
      "source": [
        "# 4. 답\n",
        "\n",
        "covariance(공분산) = 670.2380952380952\\\n",
        "correlation(상관 계수) = 0.7284634644730714"
      ]
    },
    {
      "cell_type": "code",
      "metadata": {
        "id": "xS-JuHl9JiiP",
        "colab": {
          "base_uri": "https://localhost:8080/"
        },
        "outputId": "89e05323-c02a-40ff-8b6f-a6b9519d9d4f"
      },
      "source": [
        "x = [820, 760, 1250, 990, 1080, 1450, 1600]\n",
        "y = [0, 1, 7, 1, 0, 6, 4]\n",
        "\n",
        "print('covariance(공분산) = \\n{}\\n\\ncorrelation(상관 계수) = \\n{}'.format(np.cov(x, y)[0,1], np.corrcoef(x, y)[0,1]))"
      ],
      "execution_count": 41,
      "outputs": [
        {
          "output_type": "stream",
          "text": [
            "covariance(공분산) = \n",
            "670.2380952380952\n",
            "\n",
            "correlation(상관 계수) = \n",
            "0.7284634644730714\n"
          ],
          "name": "stdout"
        }
      ]
    },
    {
      "cell_type": "markdown",
      "metadata": {
        "id": "f6qJAPaaOdzD"
      },
      "source": [
        "## 5. 다음 데이터를 정규화 하세요.\n",
        "\n",
        "아래 링크를 참조하세요.\n",
        "\n",
        "<https://scikit-learn.org/stable/modules/generated/sklearn.preprocessing.StandardScaler.html>"
      ]
    },
    {
      "cell_type": "code",
      "metadata": {
        "id": "bogsxfNyJlAw",
        "colab": {
          "base_uri": "https://localhost:8080/",
          "height": 173
        },
        "outputId": "864d8ac2-51be-45bf-9d7c-dd5cb54f6937"
      },
      "source": [
        "import pandas as pd\n",
        "\n",
        "data = {\"Country\": [\"England\",\"Wales\",\"Scotland\",\"North Ireland\"], \n",
        "        \"Cheese\": [105,103,103,66], \n",
        "        \"Carcass_Meat\": [245,227,242,267], \n",
        "        \"Other_Meat\": [685, 803, 750, 586], \n",
        "        \"Fish\": [147, 160, 122, 93], \n",
        "        \"Fats_and_Oils\": [193, 235, 184, 209], \n",
        "        \"Sugars\": [156, 175, 147, 139], \n",
        "        \"Fresh_Potatoes\": [720, 874, 566, 1033], \n",
        "        \"Fresh_Veg\": [253, 265, 171, 143], \n",
        "        \"Other_Veg\": [488, 570, 418, 355], \n",
        "        \"Processed_Potatoes\": [198, 203, 220, 187], \n",
        "        \"Processed_Veg\": [360, 365, 337, 334], \n",
        "        \"Fresh_Fruit\": [1102, 1137, 957, 674], \n",
        "        \"Cereals\": [1472, 1582, 1462, 1494], \n",
        "        \"Beverages\": [57,73,53,47], \n",
        "        \"Soft_Drinks\": [1374, 1256, 1572, 1506], \n",
        "        \"Alcoholic Drinks\": [375, 475, 458, 135], \n",
        "        \"Confectionery\": [54, 64, 62, 41]}\n",
        "\n",
        "df = pd.DataFrame(data)\n",
        "\n",
        "df"
      ],
      "execution_count": 62,
      "outputs": [
        {
          "output_type": "execute_result",
          "data": {
            "text/html": [
              "<div>\n",
              "<style scoped>\n",
              "    .dataframe tbody tr th:only-of-type {\n",
              "        vertical-align: middle;\n",
              "    }\n",
              "\n",
              "    .dataframe tbody tr th {\n",
              "        vertical-align: top;\n",
              "    }\n",
              "\n",
              "    .dataframe thead th {\n",
              "        text-align: right;\n",
              "    }\n",
              "</style>\n",
              "<table border=\"1\" class=\"dataframe\">\n",
              "  <thead>\n",
              "    <tr style=\"text-align: right;\">\n",
              "      <th></th>\n",
              "      <th>Country</th>\n",
              "      <th>Cheese</th>\n",
              "      <th>Carcass_Meat</th>\n",
              "      <th>Other_Meat</th>\n",
              "      <th>Fish</th>\n",
              "      <th>Fats_and_Oils</th>\n",
              "      <th>Sugars</th>\n",
              "      <th>Fresh_Potatoes</th>\n",
              "      <th>Fresh_Veg</th>\n",
              "      <th>Other_Veg</th>\n",
              "      <th>Processed_Potatoes</th>\n",
              "      <th>Processed_Veg</th>\n",
              "      <th>Fresh_Fruit</th>\n",
              "      <th>Cereals</th>\n",
              "      <th>Beverages</th>\n",
              "      <th>Soft_Drinks</th>\n",
              "      <th>Alcoholic Drinks</th>\n",
              "      <th>Confectionery</th>\n",
              "    </tr>\n",
              "  </thead>\n",
              "  <tbody>\n",
              "    <tr>\n",
              "      <th>0</th>\n",
              "      <td>England</td>\n",
              "      <td>105</td>\n",
              "      <td>245</td>\n",
              "      <td>685</td>\n",
              "      <td>147</td>\n",
              "      <td>193</td>\n",
              "      <td>156</td>\n",
              "      <td>720</td>\n",
              "      <td>253</td>\n",
              "      <td>488</td>\n",
              "      <td>198</td>\n",
              "      <td>360</td>\n",
              "      <td>1102</td>\n",
              "      <td>1472</td>\n",
              "      <td>57</td>\n",
              "      <td>1374</td>\n",
              "      <td>375</td>\n",
              "      <td>54</td>\n",
              "    </tr>\n",
              "    <tr>\n",
              "      <th>1</th>\n",
              "      <td>Wales</td>\n",
              "      <td>103</td>\n",
              "      <td>227</td>\n",
              "      <td>803</td>\n",
              "      <td>160</td>\n",
              "      <td>235</td>\n",
              "      <td>175</td>\n",
              "      <td>874</td>\n",
              "      <td>265</td>\n",
              "      <td>570</td>\n",
              "      <td>203</td>\n",
              "      <td>365</td>\n",
              "      <td>1137</td>\n",
              "      <td>1582</td>\n",
              "      <td>73</td>\n",
              "      <td>1256</td>\n",
              "      <td>475</td>\n",
              "      <td>64</td>\n",
              "    </tr>\n",
              "    <tr>\n",
              "      <th>2</th>\n",
              "      <td>Scotland</td>\n",
              "      <td>103</td>\n",
              "      <td>242</td>\n",
              "      <td>750</td>\n",
              "      <td>122</td>\n",
              "      <td>184</td>\n",
              "      <td>147</td>\n",
              "      <td>566</td>\n",
              "      <td>171</td>\n",
              "      <td>418</td>\n",
              "      <td>220</td>\n",
              "      <td>337</td>\n",
              "      <td>957</td>\n",
              "      <td>1462</td>\n",
              "      <td>53</td>\n",
              "      <td>1572</td>\n",
              "      <td>458</td>\n",
              "      <td>62</td>\n",
              "    </tr>\n",
              "    <tr>\n",
              "      <th>3</th>\n",
              "      <td>North Ireland</td>\n",
              "      <td>66</td>\n",
              "      <td>267</td>\n",
              "      <td>586</td>\n",
              "      <td>93</td>\n",
              "      <td>209</td>\n",
              "      <td>139</td>\n",
              "      <td>1033</td>\n",
              "      <td>143</td>\n",
              "      <td>355</td>\n",
              "      <td>187</td>\n",
              "      <td>334</td>\n",
              "      <td>674</td>\n",
              "      <td>1494</td>\n",
              "      <td>47</td>\n",
              "      <td>1506</td>\n",
              "      <td>135</td>\n",
              "      <td>41</td>\n",
              "    </tr>\n",
              "  </tbody>\n",
              "</table>\n",
              "</div>"
            ],
            "text/plain": [
              "         Country  Cheese  ...  Alcoholic Drinks  Confectionery\n",
              "0        England     105  ...               375             54\n",
              "1          Wales     103  ...               475             64\n",
              "2       Scotland     103  ...               458             62\n",
              "3  North Ireland      66  ...               135             41\n",
              "\n",
              "[4 rows x 18 columns]"
            ]
          },
          "metadata": {
            "tags": []
          },
          "execution_count": 62
        }
      ]
    },
    {
      "cell_type": "markdown",
      "metadata": {
        "id": "jdvm3u9YV4qs"
      },
      "source": [
        "# 5. 정규화"
      ]
    },
    {
      "cell_type": "code",
      "metadata": {
        "id": "2HY91nOpaTTZ",
        "colab": {
          "base_uri": "https://localhost:8080/",
          "height": 173
        },
        "outputId": "03b6c701-9709-4bd7-caf3-8d1fbe8bd18d"
      },
      "source": [
        "from sklearn.preprocessing import StandardScaler\n",
        "\n",
        "scaler = StandardScaler()\n",
        "df.iloc[:,1:] = scaler.fit_transform(df.iloc[:,1:])   # 정규화 할 때 숫자가 아닌 Country 는 빼준다.\n",
        "df"
      ],
      "execution_count": 63,
      "outputs": [
        {
          "output_type": "execute_result",
          "data": {
            "text/html": [
              "<div>\n",
              "<style scoped>\n",
              "    .dataframe tbody tr th:only-of-type {\n",
              "        vertical-align: middle;\n",
              "    }\n",
              "\n",
              "    .dataframe tbody tr th {\n",
              "        vertical-align: top;\n",
              "    }\n",
              "\n",
              "    .dataframe thead th {\n",
              "        text-align: right;\n",
              "    }\n",
              "</style>\n",
              "<table border=\"1\" class=\"dataframe\">\n",
              "  <thead>\n",
              "    <tr style=\"text-align: right;\">\n",
              "      <th></th>\n",
              "      <th>Country</th>\n",
              "      <th>Cheese</th>\n",
              "      <th>Carcass_Meat</th>\n",
              "      <th>Other_Meat</th>\n",
              "      <th>Fish</th>\n",
              "      <th>Fats_and_Oils</th>\n",
              "      <th>Sugars</th>\n",
              "      <th>Fresh_Potatoes</th>\n",
              "      <th>Fresh_Veg</th>\n",
              "      <th>Other_Veg</th>\n",
              "      <th>Processed_Potatoes</th>\n",
              "      <th>Processed_Veg</th>\n",
              "      <th>Fresh_Fruit</th>\n",
              "      <th>Cereals</th>\n",
              "      <th>Beverages</th>\n",
              "      <th>Soft_Drinks</th>\n",
              "      <th>Alcoholic Drinks</th>\n",
              "      <th>Confectionery</th>\n",
              "    </tr>\n",
              "  </thead>\n",
              "  <tbody>\n",
              "    <tr>\n",
              "      <th>0</th>\n",
              "      <td>England</td>\n",
              "      <td>0.658275</td>\n",
              "      <td>-0.017495</td>\n",
              "      <td>-0.259546</td>\n",
              "      <td>0.644585</td>\n",
              "      <td>-0.632429</td>\n",
              "      <td>0.130551</td>\n",
              "      <td>-0.450076</td>\n",
              "      <td>0.863312</td>\n",
              "      <td>0.377736</td>\n",
              "      <td>-0.336265</td>\n",
              "      <td>0.805477</td>\n",
              "      <td>0.737407</td>\n",
              "      <td>-0.644322</td>\n",
              "      <td>-0.051917</td>\n",
              "      <td>-0.435231</td>\n",
              "      <td>0.104998</td>\n",
              "      <td>-0.138303</td>\n",
              "    </tr>\n",
              "    <tr>\n",
              "      <th>1</th>\n",
              "      <td>Wales</td>\n",
              "      <td>0.535805</td>\n",
              "      <td>-1.277169</td>\n",
              "      <td>1.198856</td>\n",
              "      <td>1.152440</td>\n",
              "      <td>1.535899</td>\n",
              "      <td>1.547958</td>\n",
              "      <td>0.435696</td>\n",
              "      <td>1.093528</td>\n",
              "      <td>1.401682</td>\n",
              "      <td>0.084066</td>\n",
              "      <td>1.171603</td>\n",
              "      <td>0.929297</td>\n",
              "      <td>1.679463</td>\n",
              "      <td>1.609440</td>\n",
              "      <td>-1.404236</td>\n",
              "      <td>0.841823</td>\n",
              "      <td>0.968122</td>\n",
              "    </tr>\n",
              "    <tr>\n",
              "      <th>2</th>\n",
              "      <td>Scotland</td>\n",
              "      <td>0.535805</td>\n",
              "      <td>-0.227441</td>\n",
              "      <td>0.543811</td>\n",
              "      <td>-0.332059</td>\n",
              "      <td>-1.097071</td>\n",
              "      <td>-0.540853</td>\n",
              "      <td>-1.335847</td>\n",
              "      <td>-0.709834</td>\n",
              "      <td>-0.496364</td>\n",
              "      <td>1.513193</td>\n",
              "      <td>-0.878702</td>\n",
              "      <td>-0.057567</td>\n",
              "      <td>-0.855575</td>\n",
              "      <td>-0.467257</td>\n",
              "      <td>1.190727</td>\n",
              "      <td>0.716563</td>\n",
              "      <td>0.746837</td>\n",
              "    </tr>\n",
              "    <tr>\n",
              "      <th>3</th>\n",
              "      <td>North Ireland</td>\n",
              "      <td>-1.729885</td>\n",
              "      <td>1.522105</td>\n",
              "      <td>-1.483121</td>\n",
              "      <td>-1.464967</td>\n",
              "      <td>0.193601</td>\n",
              "      <td>-1.137656</td>\n",
              "      <td>1.350227</td>\n",
              "      <td>-1.247006</td>\n",
              "      <td>-1.283054</td>\n",
              "      <td>-1.260994</td>\n",
              "      <td>-1.098378</td>\n",
              "      <td>-1.609137</td>\n",
              "      <td>-0.179565</td>\n",
              "      <td>-1.090266</td>\n",
              "      <td>0.648741</td>\n",
              "      <td>-1.663384</td>\n",
              "      <td>-1.576656</td>\n",
              "    </tr>\n",
              "  </tbody>\n",
              "</table>\n",
              "</div>"
            ],
            "text/plain": [
              "         Country    Cheese  ...  Alcoholic Drinks  Confectionery\n",
              "0        England  0.658275  ...          0.104998      -0.138303\n",
              "1          Wales  0.535805  ...          0.841823       0.968122\n",
              "2       Scotland  0.535805  ...          0.716563       0.746837\n",
              "3  North Ireland -1.729885  ...         -1.663384      -1.576656\n",
              "\n",
              "[4 rows x 18 columns]"
            ]
          },
          "metadata": {
            "tags": []
          },
          "execution_count": 63
        }
      ]
    },
    {
      "cell_type": "markdown",
      "metadata": {
        "id": "5U50KZkdJb_s"
      },
      "source": [
        "## 6. 위 데이터에 PCA 를 적용 후 scatterplot을 그리세요."
      ]
    },
    {
      "cell_type": "code",
      "metadata": {
        "id": "RqjwVokgP1fL",
        "colab": {
          "base_uri": "https://localhost:8080/",
          "height": 963
        },
        "outputId": "5e194330-c6c0-4352-fb10-508d3c09c28c"
      },
      "source": [
        "def myPCA(n = 2):\n",
        "  import pandas as pd\n",
        "  from sklearn.decomposition import PCA\n",
        "  pca = PCA(n_components = n) # 주성분을 입력받은 n개로 설정\n",
        "  pc = pca.fit_transform(df.iloc[:, 1:]) # pca 결과로 데이터 feature로 pc 값들 구함.\n",
        "  \n",
        "  # PCA 결과 printing 과정.\n",
        "  pclist = []\n",
        "  for i in range(n):\n",
        "    pclist += ['PC{}'.format(i+1)]\n",
        "  print('{}개의 성분이 전체 데이터 분산의 {}%를 설명 할수 있다.'.format(n, round(sum(pca.explained_variance_ratio_)*100, 1)))\n",
        "  for i, j in zip(pclist, range(n)):\n",
        "    print(i+'로 전체 분산의 {}%를 설명 할수 있다.'.format(round(pca.explained_variance_ratio_[j]*100, 1)))\n",
        "\n",
        "  # \"Scatter Plot Plot\" 그리기.\n",
        "  import matplotlib.pyplot as plt\n",
        "  PC_figure = pd.DataFrame(data = pc, columns = pclist)  # PC 리스트 dataframe에 입력\n",
        "  plt.figure(figsize = (4.5, 4.5))\n",
        "  ax = plt.subplot()\n",
        "  plt.title('Scatter Plot')\n",
        "  color = ['cornflowerblue', 'orange', 'limegreen', 'red']\n",
        "  label = ['England', 'Wales', 'Scotland', 'North Ireland']\n",
        "  for i, j, k in zip(color, label, range(4)):\n",
        "    ax.scatter(PC_figure.iloc[k]['PC1'], PC_figure.iloc[k]['PC2'], s = 10, c = i, label = j)\n",
        "    ax.legend()\n",
        "\n",
        "  # \"Scree Plot\" 그리기.\n",
        "  plt.figure(figsize = (3, 3))\n",
        "  plt.title('Scree Plot')\n",
        "  plt.ylabel('Explained Variance Ratio')\n",
        "  plt.bar(x = pclist, height= pca.explained_variance_ratio_)\n",
        "  plt.figure(figsize = (3, 3))\n",
        "  plt.title('Scree Plot')\n",
        "  plt.ylabel('Explained Variance')\n",
        "  plt.bar(x = pclist, height= pca.explained_variance_)\n",
        "\n",
        "  # 3D 시각화\n",
        "  if n == 2:\n",
        "    pd.concat([PC_figure, df['Country']], axis = 1)\n",
        "    fig = plt.figure(figsize = (3, 3))\n",
        "    ax = fig.gca(projection = '3d')\n",
        "    plt.title('3D')\n",
        "    ax.scatter(PC_figure['PC1'],PC_figure['PC2'], s = 10, c = df['Country'].replace({'England': 0, 'Wales': 1, 'Scotland': 2, 'North Ireland': 3}))\n",
        "  elif n == 3:\n",
        "    pd.concat([PC_figure, df['Country']], axis = 1)\n",
        "    fig = plt.figure(figsize = (3, 3))\n",
        "    ax = fig.gca(projection = '3d')\n",
        "    plt.title('3D')\n",
        "    ax.scatter(PC_figure['PC1'],PC_figure['PC2'],PC_figure['PC3'], s = 10, c = df['Country'].replace({'England': 0, 'Wales': 1, 'Scotland': 2, 'North Ireland': 3}))\n",
        "  plt.show()\n",
        "myPCA(2)"
      ],
      "execution_count": 141,
      "outputs": [
        {
          "output_type": "stream",
          "text": [
            "2개의 성분이 전체 데이터 분산의 93.2%를 설명 할수 있다.\n",
            "PC1로 전체 분산의 68.3%를 설명 할수 있다.\n",
            "PC2로 전체 분산의 24.9%를 설명 할수 있다.\n"
          ],
          "name": "stdout"
        },
        {
          "output_type": "display_data",
          "data": {
            "image/png": "[encoded data removed]",
            "text/plain": [
              "<Figure size 324x324 with 1 Axes>"
            ]
          },
          "metadata": {
            "tags": [],
            "needs_background": "light"
          }
        },
        {
          "output_type": "display_data",
          "data": {
            "image/png": "[encoded data removed]",
            "text/plain": [
              "<Figure size 216x216 with 1 Axes>"
            ]
          },
          "metadata": {
            "tags": [],
            "needs_background": "light"
          }
        },
        {
          "output_type": "display_data",
          "data": {
            "image/png": "[encoded data removed]",
            "text/plain": [
              "<Figure size 216x216 with 1 Axes>"
            ]
          },
          "metadata": {
            "tags": [],
            "needs_background": "light"
          }
        },
        {
          "output_type": "display_data",
          "data": {
            "image/png": "[encoded data removed]",
            "text/plain": [
              "<Figure size 216x216 with 1 Axes>"
            ]
          },
          "metadata": {
            "tags": [],
            "needs_background": "light"
          }
        }
      ]
    },
    {
      "cell_type": "code",
      "metadata": {
        "colab": {
          "base_uri": "https://localhost:8080/",
          "height": 981
        },
        "id": "ewO7Cm0bZ7I8",
        "outputId": "525f4455-4816-4519-f1ed-935683192fdc"
      },
      "source": [
        "myPCA(3)"
      ],
      "execution_count": 142,
      "outputs": [
        {
          "output_type": "stream",
          "text": [
            "3개의 성분이 전체 데이터 분산의 100.0%를 설명 할수 있다.\n",
            "PC1로 전체 분산의 68.3%를 설명 할수 있다.\n",
            "PC2로 전체 분산의 24.9%를 설명 할수 있다.\n",
            "PC3로 전체 분산의 6.8%를 설명 할수 있다.\n"
          ],
          "name": "stdout"
        },
        {
          "output_type": "display_data",
          "data": {
            "image/png": "[encoded data removed]",
            "text/plain": [
              "<Figure size 324x324 with 1 Axes>"
            ]
          },
          "metadata": {
            "tags": [],
            "needs_background": "light"
          }
        },
        {
          "output_type": "display_data",
          "data": {
            "image/png": "[encoded data removed]",
            "text/plain": [
              "<Figure size 216x216 with 1 Axes>"
            ]
          },
          "metadata": {
            "tags": [],
            "needs_background": "light"
          }
        },
        {
          "output_type": "display_data",
          "data": {
            "image/png": "[encoded data removed]",
            "text/plain": [
              "<Figure size 216x216 with 1 Axes>"
            ]
          },
          "metadata": {
            "tags": [],
            "needs_background": "light"
          }
        },
        {
          "output_type": "display_data",
          "data": {
            "image/png": "[encoded data removed]",
            "text/plain": [
              "<Figure size 216x216 with 1 Axes>"
            ]
          },
          "metadata": {
            "tags": [],
            "needs_background": "light"
          }
        }
      ]
    },
    {
      "cell_type": "code",
      "metadata": {
        "colab": {
          "base_uri": "https://localhost:8080/",
          "height": 819
        },
        "id": "KPw1mXOUZ8dF",
        "outputId": "ae1c1268-49b4-408e-d80f-d8003866b2a6"
      },
      "source": [
        "myPCA(4)"
      ],
      "execution_count": 143,
      "outputs": [
        {
          "output_type": "stream",
          "text": [
            "4개의 성분이 전체 데이터 분산의 100.0%를 설명 할수 있다.\n",
            "PC1로 전체 분산의 68.3%를 설명 할수 있다.\n",
            "PC2로 전체 분산의 24.9%를 설명 할수 있다.\n",
            "PC3로 전체 분산의 6.8%를 설명 할수 있다.\n",
            "PC4로 전체 분산의 0.0%를 설명 할수 있다.\n"
          ],
          "name": "stdout"
        },
        {
          "output_type": "display_data",
          "data": {
            "image/png": "[encoded data removed]",
            "text/plain": [
              "<Figure size 324x324 with 1 Axes>"
            ]
          },
          "metadata": {
            "tags": [],
            "needs_background": "light"
          }
        },
        {
          "output_type": "display_data",
          "data": {
            "image/png": "[encoded data removed]",
            "text/plain": [
              "<Figure size 216x216 with 1 Axes>"
            ]
          },
          "metadata": {
            "tags": [],
            "needs_background": "light"
          }
        },
        {
          "output_type": "display_data",
          "data": {
            "image/png": "[encoded data removed]",
            "text/plain": [
              "<Figure size 216x216 with 1 Axes>"
            ]
          },
          "metadata": {
            "tags": [],
            "needs_background": "light"
          }
        }
      ]
    },
    {
      "cell_type": "markdown",
      "metadata": {
        "id": "62efk4plJe54"
      },
      "source": [
        "## 7. 아래 데이터에 대해 k-means clustering을 적용 후, 결과를 그래프로 그리세요.\n",
        "\n"
      ]
    },
    {
      "cell_type": "code",
      "metadata": {
        "id": "miK5Aeg-JlzJ",
        "colab": {
          "base_uri": "https://localhost:8080/",
          "height": 204
        },
        "outputId": "6ab11ef9-8b03-49cd-d6bc-80492db6de1d"
      },
      "source": [
        "points = pd.read_csv('https://ds-lecture-data.s3.ap-northeast-2.amazonaws.com/sc13x/data.csv')\n",
        "points.head()"
      ],
      "execution_count": 110,
      "outputs": [
        {
          "output_type": "execute_result",
          "data": {
            "text/html": [
              "<div>\n",
              "<style scoped>\n",
              "    .dataframe tbody tr th:only-of-type {\n",
              "        vertical-align: middle;\n",
              "    }\n",
              "\n",
              "    .dataframe tbody tr th {\n",
              "        vertical-align: top;\n",
              "    }\n",
              "\n",
              "    .dataframe thead th {\n",
              "        text-align: right;\n",
              "    }\n",
              "</style>\n",
              "<table border=\"1\" class=\"dataframe\">\n",
              "  <thead>\n",
              "    <tr style=\"text-align: right;\">\n",
              "      <th></th>\n",
              "      <th>x</th>\n",
              "      <th>y</th>\n",
              "    </tr>\n",
              "  </thead>\n",
              "  <tbody>\n",
              "    <tr>\n",
              "      <th>0</th>\n",
              "      <td>-7.846803</td>\n",
              "      <td>-3.421277</td>\n",
              "    </tr>\n",
              "    <tr>\n",
              "      <th>1</th>\n",
              "      <td>-3.554323</td>\n",
              "      <td>-6.884729</td>\n",
              "    </tr>\n",
              "    <tr>\n",
              "      <th>2</th>\n",
              "      <td>-0.192822</td>\n",
              "      <td>-9.671030</td>\n",
              "    </tr>\n",
              "    <tr>\n",
              "      <th>3</th>\n",
              "      <td>-6.401456</td>\n",
              "      <td>-5.223972</td>\n",
              "    </tr>\n",
              "    <tr>\n",
              "      <th>4</th>\n",
              "      <td>-0.804026</td>\n",
              "      <td>-9.704457</td>\n",
              "    </tr>\n",
              "  </tbody>\n",
              "</table>\n",
              "</div>"
            ],
            "text/plain": [
              "          x         y\n",
              "0 -7.846803 -3.421277\n",
              "1 -3.554323 -6.884729\n",
              "2 -0.192822 -9.671030\n",
              "3 -6.401456 -5.223972\n",
              "4 -0.804026 -9.704457"
            ]
          },
          "metadata": {
            "tags": []
          },
          "execution_count": 110
        }
      ]
    },
    {
      "cell_type": "code",
      "metadata": {
        "id": "Y79xDU4T97bG",
        "colab": {
          "base_uri": "https://localhost:8080/"
        },
        "outputId": "c5a65620-bce4-4aaf-e2fd-cb44ba4d6dcc"
      },
      "source": [
        "points.shape"
      ],
      "execution_count": 111,
      "outputs": [
        {
          "output_type": "execute_result",
          "data": {
            "text/plain": [
              "(200, 2)"
            ]
          },
          "metadata": {
            "tags": []
          },
          "execution_count": 111
        }
      ]
    },
    {
      "cell_type": "markdown",
      "metadata": {
        "id": "NEiOyS6rgspz"
      },
      "source": [
        "# 7. K-means"
      ]
    },
    {
      "cell_type": "code",
      "metadata": {
        "colab": {
          "base_uri": "https://localhost:8080/"
        },
        "id": "KZlbc48Bf2aR",
        "outputId": "e223b9c7-d4d7-44e2-fe2e-a44c853f1e3d"
      },
      "source": [
        "# 결측값 확인\n",
        "points.isnull().sum()"
      ],
      "execution_count": 112,
      "outputs": [
        {
          "output_type": "execute_result",
          "data": {
            "text/plain": [
              "x    0\n",
              "y    0\n",
              "dtype: int64"
            ]
          },
          "metadata": {
            "tags": []
          },
          "execution_count": 112
        }
      ]
    },
    {
      "cell_type": "code",
      "metadata": {
        "colab": {
          "base_uri": "https://localhost:8080/",
          "height": 204
        },
        "id": "DFtzZUi2gxLR",
        "outputId": "21700ea8-16f8-41ec-aa4d-e97425642cfb"
      },
      "source": [
        "# x, y에 StandardScaler로 적용 정규화\n",
        "from sklearn.preprocessing import StandardScaler\n",
        "scaler = StandardScaler()\n",
        "points.iloc[:] = scaler.fit_transform(points.iloc[:])\n",
        "points.head()"
      ],
      "execution_count": 114,
      "outputs": [
        {
          "output_type": "execute_result",
          "data": {
            "text/html": [
              "<div>\n",
              "<style scoped>\n",
              "    .dataframe tbody tr th:only-of-type {\n",
              "        vertical-align: middle;\n",
              "    }\n",
              "\n",
              "    .dataframe tbody tr th {\n",
              "        vertical-align: top;\n",
              "    }\n",
              "\n",
              "    .dataframe thead th {\n",
              "        text-align: right;\n",
              "    }\n",
              "</style>\n",
              "<table border=\"1\" class=\"dataframe\">\n",
              "  <thead>\n",
              "    <tr style=\"text-align: right;\">\n",
              "      <th></th>\n",
              "      <th>x</th>\n",
              "      <th>y</th>\n",
              "    </tr>\n",
              "  </thead>\n",
              "  <tbody>\n",
              "    <tr>\n",
              "      <th>0</th>\n",
              "      <td>-1.215264</td>\n",
              "      <td>0.000286</td>\n",
              "    </tr>\n",
              "    <tr>\n",
              "      <th>1</th>\n",
              "      <td>-0.270846</td>\n",
              "      <td>-0.621863</td>\n",
              "    </tr>\n",
              "    <tr>\n",
              "      <th>2</th>\n",
              "      <td>0.468740</td>\n",
              "      <td>-1.122373</td>\n",
              "    </tr>\n",
              "    <tr>\n",
              "      <th>3</th>\n",
              "      <td>-0.897263</td>\n",
              "      <td>-0.323537</td>\n",
              "    </tr>\n",
              "    <tr>\n",
              "      <th>4</th>\n",
              "      <td>0.334265</td>\n",
              "      <td>-1.128378</td>\n",
              "    </tr>\n",
              "  </tbody>\n",
              "</table>\n",
              "</div>"
            ],
            "text/plain": [
              "          x         y\n",
              "0 -1.215264  0.000286\n",
              "1 -0.270846 -0.621863\n",
              "2  0.468740 -1.122373\n",
              "3 -0.897263 -0.323537\n",
              "4  0.334265 -1.128378"
            ]
          },
          "metadata": {
            "tags": []
          },
          "execution_count": 114
        }
      ]
    },
    {
      "cell_type": "code",
      "metadata": {
        "colab": {
          "base_uri": "https://localhost:8080/"
        },
        "id": "kkM4srQhhMkE",
        "outputId": "f2a61ec5-3d08-4f42-8b22-2c25283d5b39"
      },
      "source": [
        "# kmeans clustering 시킴\n",
        "from sklearn.cluster import KMeans \n",
        "kmeans = KMeans(n_clusters = 5, random_state = 42)\n",
        "kmeans.fit(points.iloc[:])\n",
        "clustering_labels = kmeans.labels_\n",
        "points_clusters = points.iloc[:]\n",
        "clustering_labels[0:20]"
      ],
      "execution_count": 145,
      "outputs": [
        {
          "output_type": "execute_result",
          "data": {
            "text/plain": [
              "array([2, 1, 4, 2, 4, 1, 2, 2, 3, 1, 1, 1, 4, 1, 2, 4, 2, 1, 1, 0],\n",
              "      dtype=int32)"
            ]
          },
          "metadata": {
            "tags": []
          },
          "execution_count": 145
        }
      ]
    },
    {
      "cell_type": "code",
      "metadata": {
        "colab": {
          "base_uri": "https://localhost:8080/"
        },
        "id": "GvVMG0y0icKp",
        "outputId": "bcebc6fc-4978-4c65-eaa7-e1f7d90715af"
      },
      "source": [
        "# 0과 1의 분리 갯수 확인 !\n",
        "new_series = pd.Series(clustering_labels)\n",
        "points_clusters['clusters'] = new_series.values\n",
        "points_clusters['clusters'].value_counts()"
      ],
      "execution_count": 146,
      "outputs": [
        {
          "output_type": "execute_result",
          "data": {
            "text/plain": [
              "1    69\n",
              "3    33\n",
              "2    33\n",
              "0    33\n",
              "4    32\n",
              "Name: clusters, dtype: int64"
            ]
          },
          "metadata": {
            "tags": []
          },
          "execution_count": 146
        }
      ]
    },
    {
      "cell_type": "code",
      "metadata": {
        "colab": {
          "base_uri": "https://localhost:8080/",
          "height": 419
        },
        "id": "y7x-Cajuimti",
        "outputId": "e78ba826-a250-4b2f-9db9-e5ca8383608b"
      },
      "source": [
        "points_clusters"
      ],
      "execution_count": 147,
      "outputs": [
        {
          "output_type": "execute_result",
          "data": {
            "text/html": [
              "<div>\n",
              "<style scoped>\n",
              "    .dataframe tbody tr th:only-of-type {\n",
              "        vertical-align: middle;\n",
              "    }\n",
              "\n",
              "    .dataframe tbody tr th {\n",
              "        vertical-align: top;\n",
              "    }\n",
              "\n",
              "    .dataframe thead th {\n",
              "        text-align: right;\n",
              "    }\n",
              "</style>\n",
              "<table border=\"1\" class=\"dataframe\">\n",
              "  <thead>\n",
              "    <tr style=\"text-align: right;\">\n",
              "      <th></th>\n",
              "      <th>x</th>\n",
              "      <th>y</th>\n",
              "      <th>clusters</th>\n",
              "    </tr>\n",
              "  </thead>\n",
              "  <tbody>\n",
              "    <tr>\n",
              "      <th>0</th>\n",
              "      <td>-1.215264</td>\n",
              "      <td>0.000286</td>\n",
              "      <td>2</td>\n",
              "    </tr>\n",
              "    <tr>\n",
              "      <th>1</th>\n",
              "      <td>-0.270846</td>\n",
              "      <td>-0.621863</td>\n",
              "      <td>1</td>\n",
              "    </tr>\n",
              "    <tr>\n",
              "      <th>2</th>\n",
              "      <td>0.468740</td>\n",
              "      <td>-1.122373</td>\n",
              "      <td>4</td>\n",
              "    </tr>\n",
              "    <tr>\n",
              "      <th>3</th>\n",
              "      <td>-0.897263</td>\n",
              "      <td>-0.323537</td>\n",
              "      <td>2</td>\n",
              "    </tr>\n",
              "    <tr>\n",
              "      <th>4</th>\n",
              "      <td>0.334265</td>\n",
              "      <td>-1.128378</td>\n",
              "      <td>4</td>\n",
              "    </tr>\n",
              "    <tr>\n",
              "      <th>...</th>\n",
              "      <td>...</td>\n",
              "      <td>...</td>\n",
              "      <td>...</td>\n",
              "    </tr>\n",
              "    <tr>\n",
              "      <th>195</th>\n",
              "      <td>-0.272247</td>\n",
              "      <td>1.435299</td>\n",
              "      <td>3</td>\n",
              "    </tr>\n",
              "    <tr>\n",
              "      <th>196</th>\n",
              "      <td>1.622517</td>\n",
              "      <td>1.467231</td>\n",
              "      <td>0</td>\n",
              "    </tr>\n",
              "    <tr>\n",
              "      <th>197</th>\n",
              "      <td>1.859345</td>\n",
              "      <td>1.384618</td>\n",
              "      <td>0</td>\n",
              "    </tr>\n",
              "    <tr>\n",
              "      <th>198</th>\n",
              "      <td>0.118857</td>\n",
              "      <td>-0.982146</td>\n",
              "      <td>4</td>\n",
              "    </tr>\n",
              "    <tr>\n",
              "      <th>199</th>\n",
              "      <td>0.436450</td>\n",
              "      <td>-0.884167</td>\n",
              "      <td>4</td>\n",
              "    </tr>\n",
              "  </tbody>\n",
              "</table>\n",
              "<p>200 rows × 3 columns</p>\n",
              "</div>"
            ],
            "text/plain": [
              "            x         y  clusters\n",
              "0   -1.215264  0.000286         2\n",
              "1   -0.270846 -0.621863         1\n",
              "2    0.468740 -1.122373         4\n",
              "3   -0.897263 -0.323537         2\n",
              "4    0.334265 -1.128378         4\n",
              "..        ...       ...       ...\n",
              "195 -0.272247  1.435299         3\n",
              "196  1.622517  1.467231         0\n",
              "197  1.859345  1.384618         0\n",
              "198  0.118857 -0.982146         4\n",
              "199  0.436450 -0.884167         4\n",
              "\n",
              "[200 rows x 3 columns]"
            ]
          },
          "metadata": {
            "tags": []
          },
          "execution_count": 147
        }
      ]
    },
    {
      "cell_type": "code",
      "metadata": {
        "colab": {
          "base_uri": "https://localhost:8080/",
          "height": 364
        },
        "id": "FY3jqWwCi_aT",
        "outputId": "7feac85e-38ff-46f0-a634-94e4270d7c88"
      },
      "source": [
        "import matplotlib.pyplot as plt\n",
        "\n",
        "plt.figure(figsize = (5, 5))\n",
        "ax = plt.subplot()\n",
        "plt.title('K-Mean Scatter Plot', fontsize = 20)\n",
        "color = ['cornflowerblue', 'orange','red', 'yellow', 'green']\n",
        "grouped = points_clusters.groupby('clusters')\n",
        "plt.xlabel('x', fontsize = 20)\n",
        "plt.ylabel('y', fontsize = 20)\n",
        "for key, group in grouped:\n",
        "  ax.scatter(group['x'], group['y'], s = 10, c = color[key], label = key)\n",
        "  ax.legend(loc = 'lower right')"
      ],
      "execution_count": 152,
      "outputs": [
        {
          "output_type": "display_data",
          "data": {
            "image/png": "[encoded data removed]",
            "text/plain": [
              "<Figure size 360x360 with 1 Axes>"
            ]
          },
          "metadata": {
            "tags": [],
            "needs_background": "light"
          }
        }
      ]
    },
    {
      "cell_type": "code",
      "metadata": {
        "colab": {
          "base_uri": "https://localhost:8080/",
          "height": 867
        },
        "id": "6udj-5yAimjB",
        "outputId": "9f3fab24-8720-4c01-ee8d-e80af0e5647f"
      },
      "source": [
        "from scipy.cluster.hierarchy import linkage, dendrogram\n",
        "import matplotlib.pyplot as plt\n",
        "\n",
        "# linkage로 구한 points_clusters 데이터 프레임을 계산 해서 mergings에 저장.\n",
        "mergings = linkage(points_clusters, method='complete')\n",
        "\n",
        "# 덴드로그램으로 mergings 시각화 !, 폰트를 90도 회전해서 시각화. \n",
        "plt.figure(figsize=(35,15))\n",
        "dendrogram(mergings,\n",
        "           leaf_rotation=90,    # 폰트 90도 회전 !\n",
        "           leaf_font_size=7,\n",
        ")\n",
        "plt.show()"
      ],
      "execution_count": 153,
      "outputs": [
        {
          "output_type": "display_data",
          "data": {
            "image/png": "[encoded data removed]",
            "text/plain": [
              "<Figure size 2520x1080 with 1 Axes>"
            ]
          },
          "metadata": {
            "tags": [],
            "needs_background": "light"
          }
        }
      ]
    },
    {
      "cell_type": "code",
      "metadata": {
        "colab": {
          "base_uri": "https://localhost:8080/",
          "height": 364
        },
        "id": "D3b2VVeApnkU",
        "outputId": "ad6ef482-ac6f-4a2f-9718-6881ec138f88"
      },
      "source": [
        "# x, y에 StandardScaler로 적용 정규화\n",
        "from sklearn.preprocessing import StandardScaler\n",
        "scaler = StandardScaler()\n",
        "points.iloc[:] = scaler.fit_transform(points.iloc[:])\n",
        "# kmeans clustering 시킴\n",
        "from sklearn.cluster import KMeans \n",
        "kmeans = KMeans(n_clusters = 3, random_state = 42)\n",
        "kmeans.fit(points.iloc[:])\n",
        "clustering_labels = kmeans.labels_\n",
        "points_clusters = points.iloc[:]\n",
        "# 0과 1의 분리 갯수 확인 !\n",
        "new_series = pd.Series(clustering_labels)\n",
        "points_clusters['clusters'] = new_series.values\n",
        "import matplotlib.pyplot as plt\n",
        "\n",
        "plt.figure(figsize = (5, 5))\n",
        "ax = plt.subplot()\n",
        "plt.title('K-Mean Scatter Plot', fontsize = 20)\n",
        "color = ['cornflowerblue', 'orange','red']\n",
        "grouped = points_clusters.groupby('clusters')\n",
        "plt.xlabel('x', fontsize = 20)\n",
        "plt.ylabel('y', fontsize = 20)\n",
        "for key, group in grouped:\n",
        "  ax.scatter(group['x'], group['y'], s = 10, c = color[key], label = key)\n",
        "  ax.legend(loc = 'lower right')"
      ],
      "execution_count": 154,
      "outputs": [
        {
          "output_type": "display_data",
          "data": {
            "image/png": "[encoded data removed]",
            "text/plain": [
              "<Figure size 360x360 with 1 Axes>"
            ]
          },
          "metadata": {
            "tags": [],
            "needs_background": "light"
          }
        }
      ]
    },
    {
      "cell_type": "code",
      "metadata": {
        "colab": {
          "base_uri": "https://localhost:8080/"
        },
        "id": "0_NcTCVCpxM6",
        "outputId": "8317618d-3e5f-444e-a1d4-ac79f300b23a"
      },
      "source": [
        "points_clusters['clusters'].value_counts()"
      ],
      "execution_count": 155,
      "outputs": [
        {
          "output_type": "execute_result",
          "data": {
            "text/plain": [
              "1    102\n",
              "2     65\n",
              "0     33\n",
              "Name: clusters, dtype: int64"
            ]
          },
          "metadata": {
            "tags": []
          },
          "execution_count": 155
        }
      ]
    },
    {
      "cell_type": "markdown",
      "metadata": {
        "id": "oxxNyhv_FGKB"
      },
      "source": [
        "# SC 3점 요구사항:\n",
        "위에서 요구된 사항들을 모두 정확하게 만족하였으며, 아직 시간이 남았다면 아래 2개의 내용들 중 하나를 만족하는 경우 3점을 얻을 수 있습니다.\n",
        "\n",
        "아래 요구사항들은 모두 optional 임을 다시 한 번 강조합니다. (필수 요구사항이 아닙니다.)\n",
        "\n",
        "- 6번의 PCA 결과에 대해서 Scree plot을 추가하세요.\n",
        "\n",
        "- 7번에서 k값을 선택하는 과정을 논리적으로 설명하세요.\n"
      ]
    },
    {
      "cell_type": "markdown",
      "metadata": {
        "id": "i-Cizn0Ulr81"
      },
      "source": [
        "# 6번의 PCA 결과에서 Scree Plot 추가"
      ]
    },
    {
      "cell_type": "code",
      "metadata": {
        "id": "1kGX2sWt97bH",
        "colab": {
          "base_uri": "https://localhost:8080/",
          "height": 963
        },
        "outputId": "eff17e16-a3d6-4864-a63e-bae846f1786c"
      },
      "source": [
        "myPCA(2)"
      ],
      "execution_count": 144,
      "outputs": [
        {
          "output_type": "stream",
          "text": [
            "2개의 성분이 전체 데이터 분산의 93.2%를 설명 할수 있다.\n",
            "PC1로 전체 분산의 68.3%를 설명 할수 있다.\n",
            "PC2로 전체 분산의 24.9%를 설명 할수 있다.\n"
          ],
          "name": "stdout"
        },
        {
          "output_type": "display_data",
          "data": {
            "image/png": "[encoded data removed]",
            "text/plain": [
              "<Figure size 324x324 with 1 Axes>"
            ]
          },
          "metadata": {
            "tags": [],
            "needs_background": "light"
          }
        },
        {
          "output_type": "display_data",
          "data": {
            "image/png": "[encoded data removed]",
            "text/plain": [
              "<Figure size 216x216 with 1 Axes>"
            ]
          },
          "metadata": {
            "tags": [],
            "needs_background": "light"
          }
        },
        {
          "output_type": "display_data",
          "data": {
            "image/png": "[encoded data removed]",
            "text/plain": [
              "<Figure size 216x216 with 1 Axes>"
            ]
          },
          "metadata": {
            "tags": [],
            "needs_background": "light"
          }
        },
        {
          "output_type": "display_data",
          "data": {
            "image/png": "[encoded data removed]",
            "text/plain": [
              "<Figure size 216x216 with 1 Axes>"
            ]
          },
          "metadata": {
            "tags": [],
            "needs_background": "light"
          }
        }
      ]
    },
    {
      "cell_type": "markdown",
      "metadata": {
        "id": "XV845jsSnALz"
      },
      "source": [
        "# 7번에서 K값을 선택 하는 과정을 논리적으로 설명 하시오.\n",
        "\n",
        "K-mean에서 K란 데이터 세트에서 찾을 것으로 예상되는 클러스터(그룹) 수를 말한다.\n",
        "\n",
        "mean은 각 데이터로부터 그 데이터가 속한 클러스터의 중심까지의 평균 거리를 의미한다.\n",
        "\n",
        "따라서 mean 값을 최소화 하는 알고리즘이 K-mean 알고리즘이다.\n",
        "\n",
        "분리하고자 하는 K 값 즉 그룹 수가 정해저 있으면 그 값을 K 값으로 두면 되지만,\n",
        "\n",
        "어떤 그룹으로 나누어야 될지 모르는 상황에는 K값을 선택 하는 과정은 여러가지 방법이 있는데,\n",
        "\n",
        "시각적인 방법으로는 우선 데이터의 형태를 보고 이 데이터를 몇개의 그룹으로 나눌지 확인 한뒤 K값을 설정 하는게 좋다.\n",
        "\n",
        "다음으로는 K값을 올려가면서 분리를 하는 방법이다. \n",
        "\n",
        "이 방법을 사용할 때 K 값을 올려가면서 서로의 그룹간의 응집도를 측정 하는데,\n",
        "\n",
        "응집도가 낮을수록 군집화가 잘 되어 있다고 볼수 있다.\n",
        "\n",
        "따라서 최적의 K 값을 구하려면 응집도는 낮으나 K값이 너무 높지 않은 K를 선택 하면 되므로,\n",
        "\n",
        "K값을 올려가면서 그룹간의 응집도의 변화가 어느정도 작아졌을 때의 K 값을 선택 하면 된다.\n",
        "\n"
      ]
    },
    {
      "cell_type": "code",
      "metadata": {
        "id": "agnMox0grMst"
      },
      "source": [
        "points = pd.read_csv('https://ds-lecture-data.s3.ap-northeast-2.amazonaws.com/sc13x/data.csv')\n",
        "from sklearn.preprocessing import StandardScaler\n",
        "scaler = StandardScaler()\n",
        "points.iloc[:] = scaler.fit_transform(points.iloc[:])"
      ],
      "execution_count": 173,
      "outputs": []
    },
    {
      "cell_type": "code",
      "metadata": {
        "id": "VG_QFpwerc36"
      },
      "source": [
        "from sklearn.cluster import KMeans\n",
        "test_inertia = []\n",
        "for i in range(10):\n",
        "  test_means = KMeans(n_clusters = i+1, random_state = 42)\n",
        "  test_means.fit(points.iloc[:])\n",
        "  test_inertia += [test_means.inertia_]"
      ],
      "execution_count": 179,
      "outputs": []
    },
    {
      "cell_type": "code",
      "metadata": {
        "colab": {
          "base_uri": "https://localhost:8080/",
          "height": 636
        },
        "id": "ZTycxJW8rrks",
        "outputId": "8611f60e-cdad-4647-81c4-a91f668fae7d"
      },
      "source": [
        "plt.figure(figsize= (10, 10))\n",
        "plt.title('K in inertia', fontsize = 20)\n",
        "plt.xlabel('K', fontsize = 20)\n",
        "plt.ylabel('inertia', fontsize = 20)\n",
        "plt.plot(test_inertia, 'o-');"
      ],
      "execution_count": 192,
      "outputs": [
        {
          "output_type": "display_data",
          "data": {
            "image/png": "[encoded data removed]",
            "text/plain": [
              "<Figure size 720x720 with 1 Axes>"
            ]
          },
          "metadata": {
            "tags": [],
            "needs_background": "light"
          }
        }
      ]
    },
    {
      "cell_type": "code",
      "metadata": {
        "id": "xd0xm9MFtkn0"
      },
      "source": [
        ""
      ],
      "execution_count": null,
      "outputs": []
    }
  ]
}