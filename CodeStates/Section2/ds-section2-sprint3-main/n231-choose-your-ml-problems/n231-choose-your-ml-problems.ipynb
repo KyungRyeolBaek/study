{
 "cells": [
  {
   "cell_type": "markdown",
   "metadata": {},
   "source": [
    "<img align=\"right\" src=\"https://ds-cs-images.s3.ap-northeast-2.amazonaws.com/Codestates_Fulllogo_Color.png\" width=100>\n",
    "\n",
    "## *DATA SCIENCE / SECTION 2 / SPRINT 3 / NOTE 1*\n",
    "\n",
    "---\n",
    "\n",
    "# Choose your ML problems"
   ]
  },
  {
   "cell_type": "markdown",
   "metadata": {},
   "source": [
    "- 예측모델을 위한 타겟을 올바르게 선택하고 그 분포를 확인할 수 있다.\n",
    "- 테스트/학습 데이터 사이 or 타겟과 특성들간 일어나는 정보의 누출(leakage)을 피할 수 있다.\n",
    "- 상황에 맞는 검증 지표(metrics)를 사용할 수 있다. \n"
   ]
  },
  {
   "cell_type": "markdown",
   "metadata": {},
   "source": [
    "### Warm up\n"
   ]
  },
  {
   "cell_type": "markdown",
   "metadata": {},
   "source": [
    "다음 동영상을 시청하세요.\n",
    "- [IAML2.22: Classification accuracy and imbalanced classes](https://www.youtube.com/watch?v=XeJZbCT84Js)\n",
    "    - 왜 accuracy 만 사용하면 모델 성능에 대해 잘못된 판단을 내릴 수 있을까요?\n",
    "\n",
    "\n",
    "- 캐글에서 오늘 살펴볼 데이터에 관해 살펴보세요.\n",
    "    - [Chocolate Bar Ratings](https://www.kaggle.com/rtatman/chocolate-bar-ratings)\n",
    "    "
   ]
  },
  {
   "cell_type": "markdown",
   "metadata": {},
   "source": [
    "---"
   ]
  },
  {
   "cell_type": "markdown",
   "metadata": {},
   "source": [
    "이번 강의에서는 초컬릿 바 평점 데이터세트를 사용해 머신러닝 문제를 정의해 나가는 과정을 살펴보겠습니다.    "
   ]
  },
  {
   "cell_type": "code",
   "execution_count": 1,
   "metadata": {
    "lines_to_next_cell": 2
   },
   "outputs": [],
   "source": [
    "import pandas as pd\n",
    "import numpy as np\n",
    "pd.options.display.max_columns = None\n",
    "df = pd.read_csv('https://ds-lecture-data.s3.ap-northeast-2.amazonaws.com/chocolate_bar_ratings/flavors_of_cacao.csv')"
   ]
  },
  {
   "cell_type": "markdown",
   "metadata": {},
   "source": [
    "### 데이터 과학자 실무 프로세스"
   ]
  },
  {
   "cell_type": "markdown",
   "metadata": {},
   "source": [
    "실무에서 데이터과학자와 분석가들은 다음과 같은 프로세스를 거치며 프로젝트를 진행하게 됩니다.\n",
    "\n",
    "1. 비즈니스 문제\n",
    "    - 실무자들과 대화를 통해 문제를 발견\n",
    "2. 데이터 문제\n",
    "    - 문제와 관련된 데이터를 발견\n",
    "3. 데이터 문제 해결\n",
    "    - 데이터 처리, 시각화\n",
    "    - 머신러닝/통계\n",
    "4. 비즈니스 문제 해결\n",
    "    - 데이터 문제 해결을 통해 실무자들과 함께 해결"
   ]
  },
  {
   "cell_type": "markdown",
   "metadata": {},
   "source": [
    "지금까지는 예측 모델을 만들면서 데이터 문제를 확인하고 해결 부분에 집중해 왔습니다. 이 문제들은 여러 비즈니스 문제들을 통해서 나온 것이지요.\n",
    "\n",
    "캐글 대회를 수행하는것은 여러 모델을 검증해보며 기술을 익히는데 매우 훌륭한 방법입니다. 하지만 이 과정도 데이터 과학 업무의 한 부분에 지나지 않습니다. 이미 문제를 정의하는 과정은 이미 누군가에 의해 정해져 있었고 우리는 기술적으로 데이터를 통한 문제해결에만 집중해 왔습니다.\n",
    "\n",
    "이번에는 여러분이 각자 프로젝트를 수행하기 위해 어떤 문제를 풀어야 하는지 부터 고민해 봐야 할 시간입니다."
   ]
  },
  {
   "cell_type": "markdown",
   "metadata": {},
   "source": [
    "## 우선 예측 해야 하는 타겟을 명확히 정하고 그 분포를 살펴봐야 합니다\n",
    "### 지도학습(Supervised learning)에서는 예측할 타겟을 먼저 정합니다."
   ]
  },
  {
   "cell_type": "markdown",
   "metadata": {},
   "source": [
    "테이블 형태의 데이터세트인 경우 어떤 특성을 예측타겟으로 할지 먼저 정해야 합니다.\n",
    "\n",
    "어떤 문제는 회귀/분류문제가 쉽게 구분이 안되는 경우도 있습니다.\n",
    "\n",
    "- 이산형, 순서형, 범주형 타겟 특성도 **회귀**문제 또는 다중클래스**분류** 문제로도 볼 수 있습니다.\n",
    "- 회귀, 다중클래스분류 문제들도 **이진분류** 문제로 바꿀 수 있습니다."
   ]
  },
  {
   "cell_type": "code",
   "execution_count": 2,
   "metadata": {},
   "outputs": [
    {
     "data": {
      "text/html": [
       "<div>\n",
       "<style scoped>\n",
       "    .dataframe tbody tr th:only-of-type {\n",
       "        vertical-align: middle;\n",
       "    }\n",
       "\n",
       "    .dataframe tbody tr th {\n",
       "        vertical-align: top;\n",
       "    }\n",
       "\n",
       "    .dataframe thead th {\n",
       "        text-align: right;\n",
       "    }\n",
       "</style>\n",
       "<table border=\"1\" class=\"dataframe\">\n",
       "  <thead>\n",
       "    <tr style=\"text-align: right;\">\n",
       "      <th></th>\n",
       "      <th>Company \\n(Maker-if known)</th>\n",
       "      <th>Specific Bean Origin\\nor Bar Name</th>\n",
       "      <th>REF</th>\n",
       "      <th>Review\\nDate</th>\n",
       "      <th>Cocoa\\nPercent</th>\n",
       "      <th>Company\\nLocation</th>\n",
       "      <th>Rating</th>\n",
       "      <th>Bean\\nType</th>\n",
       "      <th>Broad Bean\\nOrigin</th>\n",
       "    </tr>\n",
       "  </thead>\n",
       "  <tbody>\n",
       "    <tr>\n",
       "      <th>0</th>\n",
       "      <td>A. Morin</td>\n",
       "      <td>Agua Grande</td>\n",
       "      <td>1876</td>\n",
       "      <td>2016</td>\n",
       "      <td>63%</td>\n",
       "      <td>France</td>\n",
       "      <td>3.75</td>\n",
       "      <td></td>\n",
       "      <td>Sao Tome</td>\n",
       "    </tr>\n",
       "    <tr>\n",
       "      <th>1</th>\n",
       "      <td>A. Morin</td>\n",
       "      <td>Kpime</td>\n",
       "      <td>1676</td>\n",
       "      <td>2015</td>\n",
       "      <td>70%</td>\n",
       "      <td>France</td>\n",
       "      <td>2.75</td>\n",
       "      <td></td>\n",
       "      <td>Togo</td>\n",
       "    </tr>\n",
       "    <tr>\n",
       "      <th>2</th>\n",
       "      <td>A. Morin</td>\n",
       "      <td>Atsane</td>\n",
       "      <td>1676</td>\n",
       "      <td>2015</td>\n",
       "      <td>70%</td>\n",
       "      <td>France</td>\n",
       "      <td>3.00</td>\n",
       "      <td></td>\n",
       "      <td>Togo</td>\n",
       "    </tr>\n",
       "    <tr>\n",
       "      <th>3</th>\n",
       "      <td>A. Morin</td>\n",
       "      <td>Akata</td>\n",
       "      <td>1680</td>\n",
       "      <td>2015</td>\n",
       "      <td>70%</td>\n",
       "      <td>France</td>\n",
       "      <td>3.50</td>\n",
       "      <td></td>\n",
       "      <td>Togo</td>\n",
       "    </tr>\n",
       "    <tr>\n",
       "      <th>4</th>\n",
       "      <td>A. Morin</td>\n",
       "      <td>Quilla</td>\n",
       "      <td>1704</td>\n",
       "      <td>2015</td>\n",
       "      <td>70%</td>\n",
       "      <td>France</td>\n",
       "      <td>3.50</td>\n",
       "      <td></td>\n",
       "      <td>Peru</td>\n",
       "    </tr>\n",
       "  </tbody>\n",
       "</table>\n",
       "</div>"
      ],
      "text/plain": [
       "  Company \\n(Maker-if known) Specific Bean Origin\\nor Bar Name   REF  \\\n",
       "0                   A. Morin                       Agua Grande  1876   \n",
       "1                   A. Morin                             Kpime  1676   \n",
       "2                   A. Morin                            Atsane  1676   \n",
       "3                   A. Morin                             Akata  1680   \n",
       "4                   A. Morin                            Quilla  1704   \n",
       "\n",
       "   Review\\nDate Cocoa\\nPercent Company\\nLocation  Rating Bean\\nType  \\\n",
       "0          2016            63%            France    3.75              \n",
       "1          2015            70%            France    2.75              \n",
       "2          2015            70%            France    3.00              \n",
       "3          2015            70%            France    3.50              \n",
       "4          2015            70%            France    3.50              \n",
       "\n",
       "  Broad Bean\\nOrigin  \n",
       "0           Sao Tome  \n",
       "1               Togo  \n",
       "2               Togo  \n",
       "3               Togo  \n",
       "4               Peru  "
      ]
     },
     "execution_count": 2,
     "metadata": {},
     "output_type": "execute_result"
    }
   ],
   "source": [
    "df.head()"
   ]
  },
  {
   "cell_type": "code",
   "execution_count": 3,
   "metadata": {},
   "outputs": [
    {
     "data": {
      "text/plain": [
       "Index(['Company \\n(Maker-if known)', 'Specific Bean Origin\\nor Bar Name',\n",
       "       'REF', 'Review\\nDate', 'Cocoa\\nPercent', 'Company\\nLocation', 'Rating',\n",
       "       'Bean\\nType', 'Broad Bean\\nOrigin'],\n",
       "      dtype='object')"
      ]
     },
     "execution_count": 3,
     "metadata": {},
     "output_type": "execute_result"
    }
   ],
   "source": [
    "df.columns"
   ]
  },
  {
   "cell_type": "markdown",
   "metadata": {},
   "source": [
    "#### 칼럼명을 정리해줍니다."
   ]
  },
  {
   "cell_type": "code",
   "execution_count": 4,
   "metadata": {},
   "outputs": [],
   "source": [
    "df.columns = ['company','specificOrigin','ref','reviewDate','cocoaPercent','companyLocation','rating','beanType','broadOrigin']"
   ]
  },
  {
   "cell_type": "markdown",
   "metadata": {},
   "source": [
    "#### 결측치가 있는 특성을 확인합니다."
   ]
  },
  {
   "cell_type": "code",
   "execution_count": 5,
   "metadata": {},
   "outputs": [
    {
     "data": {
      "text/plain": [
       "[('beanType', 1), ('broadOrigin', 1)]"
      ]
     },
     "execution_count": 5,
     "metadata": {},
     "output_type": "execute_result"
    }
   ],
   "source": [
    "# 결측값이 있는 특성을 찾습니다. 몇 개 안되어 후에 전처리 과정에서 제거 하겠습니다.\n",
    "[(x, df[x].isnull().sum()) for x in df.columns if df[x].isnull().any()]"
   ]
  },
  {
   "cell_type": "markdown",
   "metadata": {},
   "source": [
    "#### 타겟을 확인합니다. 어떤 특성을 예측해야 할까요?"
   ]
  },
  {
   "cell_type": "code",
   "execution_count": 6,
   "metadata": {},
   "outputs": [
    {
     "data": {
      "text/plain": [
       "company             object\n",
       "specificOrigin      object\n",
       "ref                  int64\n",
       "reviewDate           int64\n",
       "cocoaPercent        object\n",
       "companyLocation     object\n",
       "rating             float64\n",
       "beanType            object\n",
       "broadOrigin         object\n",
       "dtype: object"
      ]
     },
     "execution_count": 6,
     "metadata": {},
     "output_type": "execute_result"
    }
   ],
   "source": [
    "df.dtypes"
   ]
  },
  {
   "cell_type": "code",
   "execution_count": 7,
   "metadata": {},
   "outputs": [
    {
     "data": {
      "text/html": [
       "<div>\n",
       "<style scoped>\n",
       "    .dataframe tbody tr th:only-of-type {\n",
       "        vertical-align: middle;\n",
       "    }\n",
       "\n",
       "    .dataframe tbody tr th {\n",
       "        vertical-align: top;\n",
       "    }\n",
       "\n",
       "    .dataframe thead th {\n",
       "        text-align: right;\n",
       "    }\n",
       "</style>\n",
       "<table border=\"1\" class=\"dataframe\">\n",
       "  <thead>\n",
       "    <tr style=\"text-align: right;\">\n",
       "      <th></th>\n",
       "      <th>count</th>\n",
       "      <th>unique</th>\n",
       "      <th>top</th>\n",
       "      <th>freq</th>\n",
       "      <th>mean</th>\n",
       "      <th>std</th>\n",
       "      <th>min</th>\n",
       "      <th>25%</th>\n",
       "      <th>50%</th>\n",
       "      <th>75%</th>\n",
       "      <th>max</th>\n",
       "    </tr>\n",
       "  </thead>\n",
       "  <tbody>\n",
       "    <tr>\n",
       "      <th>company</th>\n",
       "      <td>1795</td>\n",
       "      <td>416</td>\n",
       "      <td>Soma</td>\n",
       "      <td>47</td>\n",
       "      <td>NaN</td>\n",
       "      <td>NaN</td>\n",
       "      <td>NaN</td>\n",
       "      <td>NaN</td>\n",
       "      <td>NaN</td>\n",
       "      <td>NaN</td>\n",
       "      <td>NaN</td>\n",
       "    </tr>\n",
       "    <tr>\n",
       "      <th>specificOrigin</th>\n",
       "      <td>1795</td>\n",
       "      <td>1039</td>\n",
       "      <td>Madagascar</td>\n",
       "      <td>57</td>\n",
       "      <td>NaN</td>\n",
       "      <td>NaN</td>\n",
       "      <td>NaN</td>\n",
       "      <td>NaN</td>\n",
       "      <td>NaN</td>\n",
       "      <td>NaN</td>\n",
       "      <td>NaN</td>\n",
       "    </tr>\n",
       "    <tr>\n",
       "      <th>ref</th>\n",
       "      <td>1795</td>\n",
       "      <td>NaN</td>\n",
       "      <td>NaN</td>\n",
       "      <td>NaN</td>\n",
       "      <td>1035.9</td>\n",
       "      <td>552.886</td>\n",
       "      <td>5</td>\n",
       "      <td>576</td>\n",
       "      <td>1069</td>\n",
       "      <td>1502</td>\n",
       "      <td>1952</td>\n",
       "    </tr>\n",
       "    <tr>\n",
       "      <th>reviewDate</th>\n",
       "      <td>1795</td>\n",
       "      <td>NaN</td>\n",
       "      <td>NaN</td>\n",
       "      <td>NaN</td>\n",
       "      <td>2012.33</td>\n",
       "      <td>2.92721</td>\n",
       "      <td>2006</td>\n",
       "      <td>2010</td>\n",
       "      <td>2013</td>\n",
       "      <td>2015</td>\n",
       "      <td>2017</td>\n",
       "    </tr>\n",
       "    <tr>\n",
       "      <th>cocoaPercent</th>\n",
       "      <td>1795</td>\n",
       "      <td>45</td>\n",
       "      <td>70%</td>\n",
       "      <td>672</td>\n",
       "      <td>NaN</td>\n",
       "      <td>NaN</td>\n",
       "      <td>NaN</td>\n",
       "      <td>NaN</td>\n",
       "      <td>NaN</td>\n",
       "      <td>NaN</td>\n",
       "      <td>NaN</td>\n",
       "    </tr>\n",
       "    <tr>\n",
       "      <th>companyLocation</th>\n",
       "      <td>1795</td>\n",
       "      <td>60</td>\n",
       "      <td>U.S.A.</td>\n",
       "      <td>764</td>\n",
       "      <td>NaN</td>\n",
       "      <td>NaN</td>\n",
       "      <td>NaN</td>\n",
       "      <td>NaN</td>\n",
       "      <td>NaN</td>\n",
       "      <td>NaN</td>\n",
       "      <td>NaN</td>\n",
       "    </tr>\n",
       "    <tr>\n",
       "      <th>rating</th>\n",
       "      <td>1795</td>\n",
       "      <td>NaN</td>\n",
       "      <td>NaN</td>\n",
       "      <td>NaN</td>\n",
       "      <td>3.18593</td>\n",
       "      <td>0.478062</td>\n",
       "      <td>1</td>\n",
       "      <td>2.875</td>\n",
       "      <td>3.25</td>\n",
       "      <td>3.5</td>\n",
       "      <td>5</td>\n",
       "    </tr>\n",
       "    <tr>\n",
       "      <th>beanType</th>\n",
       "      <td>1794</td>\n",
       "      <td>41</td>\n",
       "      <td></td>\n",
       "      <td>887</td>\n",
       "      <td>NaN</td>\n",
       "      <td>NaN</td>\n",
       "      <td>NaN</td>\n",
       "      <td>NaN</td>\n",
       "      <td>NaN</td>\n",
       "      <td>NaN</td>\n",
       "      <td>NaN</td>\n",
       "    </tr>\n",
       "    <tr>\n",
       "      <th>broadOrigin</th>\n",
       "      <td>1794</td>\n",
       "      <td>100</td>\n",
       "      <td>Venezuela</td>\n",
       "      <td>214</td>\n",
       "      <td>NaN</td>\n",
       "      <td>NaN</td>\n",
       "      <td>NaN</td>\n",
       "      <td>NaN</td>\n",
       "      <td>NaN</td>\n",
       "      <td>NaN</td>\n",
       "      <td>NaN</td>\n",
       "    </tr>\n",
       "  </tbody>\n",
       "</table>\n",
       "</div>"
      ],
      "text/plain": [
       "                count unique         top freq     mean       std   min    25%  \\\n",
       "company          1795    416        Soma   47      NaN       NaN   NaN    NaN   \n",
       "specificOrigin   1795   1039  Madagascar   57      NaN       NaN   NaN    NaN   \n",
       "ref              1795    NaN         NaN  NaN   1035.9   552.886     5    576   \n",
       "reviewDate       1795    NaN         NaN  NaN  2012.33   2.92721  2006   2010   \n",
       "cocoaPercent     1795     45         70%  672      NaN       NaN   NaN    NaN   \n",
       "companyLocation  1795     60      U.S.A.  764      NaN       NaN   NaN    NaN   \n",
       "rating           1795    NaN         NaN  NaN  3.18593  0.478062     1  2.875   \n",
       "beanType         1794     41              887      NaN       NaN   NaN    NaN   \n",
       "broadOrigin      1794    100   Venezuela  214      NaN       NaN   NaN    NaN   \n",
       "\n",
       "                  50%   75%   max  \n",
       "company           NaN   NaN   NaN  \n",
       "specificOrigin    NaN   NaN   NaN  \n",
       "ref              1069  1502  1952  \n",
       "reviewDate       2013  2015  2017  \n",
       "cocoaPercent      NaN   NaN   NaN  \n",
       "companyLocation   NaN   NaN   NaN  \n",
       "rating           3.25   3.5     5  \n",
       "beanType          NaN   NaN   NaN  \n",
       "broadOrigin       NaN   NaN   NaN  "
      ]
     },
     "execution_count": 7,
     "metadata": {},
     "output_type": "execute_result"
    }
   ],
   "source": [
    "df.describe(include='all').T"
   ]
  },
  {
   "cell_type": "markdown",
   "metadata": {},
   "source": [
    "#### rating이 타겟특성인데 실수형 입니다."
   ]
  },
  {
   "cell_type": "code",
   "execution_count": 8,
   "metadata": {},
   "outputs": [
    {
     "data": {
      "text/plain": [
       "count    1795.000000\n",
       "mean        3.185933\n",
       "std         0.478062\n",
       "min         1.000000\n",
       "25%         2.875000\n",
       "50%         3.250000\n",
       "75%         3.500000\n",
       "max         5.000000\n",
       "Name: rating, dtype: float64"
      ]
     },
     "execution_count": 8,
     "metadata": {},
     "output_type": "execute_result"
    }
   ],
   "source": [
    "df['rating'].describe()"
   ]
  },
  {
   "cell_type": "markdown",
   "metadata": {},
   "source": [
    "#### 분포를 확인해 보겠습니다."
   ]
  },
  {
   "cell_type": "code",
   "execution_count": 9,
   "metadata": {},
   "outputs": [
    {
     "data": {
      "image/png": "[encoded data removed]",
      "text/plain": [
       "<Figure size 360x360 with 1 Axes>"
      ]
     },
     "metadata": {
      "needs_background": "light"
     },
     "output_type": "display_data"
    }
   ],
   "source": [
    "import seaborn as sns\n",
    "import matplotlib.pyplot as plt\n",
    "sns.displot(df['rating'],kde=True);\n",
    "plt.axvline(3.7, color='red');"
   ]
  },
  {
   "cell_type": "markdown",
   "metadata": {},
   "source": [
    "#### rating 이진타입으로 변형시켜 분류문제로 바꾸겠습니다."
   ]
  },
  {
   "cell_type": "code",
   "execution_count": 10,
   "metadata": {
    "lines_to_next_cell": 2
   },
   "outputs": [
    {
     "data": {
      "text/plain": [
       "2"
      ]
     },
     "execution_count": 10,
     "metadata": {},
     "output_type": "execute_result"
    }
   ],
   "source": [
    "## recommend 특성을 만들어 이진분류문제로 변환합니다\n",
    "df['recommend'] = df['rating'] >= 3.7\n",
    "df['recommend'].nunique()"
   ]
  },
  {
   "cell_type": "code",
   "execution_count": 11,
   "metadata": {},
   "outputs": [
    {
     "data": {
      "text/plain": [
       "False    1485\n",
       "True      310\n",
       "Name: recommend, dtype: int64"
      ]
     },
     "execution_count": 11,
     "metadata": {},
     "output_type": "execute_result"
    }
   ],
   "source": [
    "df['recommend'].value_counts()"
   ]
  },
  {
   "cell_type": "markdown",
   "metadata": {},
   "source": [
    "### 데이터 특성들을 살펴보고 간단하게 전처리 하겠습니다."
   ]
  },
  {
   "cell_type": "code",
   "execution_count": 12,
   "metadata": {},
   "outputs": [
    {
     "data": {
      "text/plain": [
       "0    63%\n",
       "1    70%\n",
       "2    70%\n",
       "3    70%\n",
       "4    70%\n",
       "Name: cocoaPercent, dtype: object"
      ]
     },
     "execution_count": 12,
     "metadata": {},
     "output_type": "execute_result"
    }
   ],
   "source": [
    "df['cocoaPercent'].head()"
   ]
  },
  {
   "cell_type": "code",
   "execution_count": 13,
   "metadata": {},
   "outputs": [
    {
     "data": {
      "text/plain": [
       "array(['Sao Tome', 'Togo', 'Peru', 'Venezuela', 'Cuba', 'Panama',\n",
       "       'Madagascar', 'Brazil', 'Ecuador', 'Colombia', 'Burma',\n",
       "       'Papua New Guinea', 'Bolivia', 'Fiji', 'Mexico', 'Indonesia',\n",
       "       'Trinidad', 'Vietnam', 'Nicaragua', 'Tanzania',\n",
       "       'Dominican Republic', 'Ghana', 'Belize', '\\xa0', 'Jamaica',\n",
       "       'Grenada', 'Guatemala', 'Honduras', 'Costa Rica',\n",
       "       'Domincan Republic', 'Haiti', 'Congo', 'Philippines', 'Malaysia',\n",
       "       'Dominican Rep., Bali', 'Venez,Africa,Brasil,Peru,Mex', 'Gabon',\n",
       "       'Ivory Coast', 'Carribean', 'Sri Lanka', 'Puerto Rico', 'Uganda',\n",
       "       'Martinique', 'Sao Tome & Principe', 'Vanuatu', 'Australia',\n",
       "       'Liberia', 'Ecuador, Costa Rica', 'West Africa', 'Hawaii',\n",
       "       'St. Lucia', 'Cost Rica, Ven', 'Peru, Madagascar',\n",
       "       'Venezuela, Trinidad', 'Trinidad, Tobago',\n",
       "       'Ven, Trinidad, Ecuador', 'South America, Africa', 'India',\n",
       "       'Africa, Carribean, C. Am.', 'Tobago', 'Ven., Indonesia, Ecuad.',\n",
       "       'Trinidad-Tobago', 'Peru, Ecuador, Venezuela',\n",
       "       'Venezuela, Dom. Rep.', 'Colombia, Ecuador', 'Solomon Islands',\n",
       "       'Nigeria', 'Peru, Belize', 'Peru, Mad., Dom. Rep.', nan,\n",
       "       'PNG, Vanuatu, Mad', 'El Salvador', 'South America', 'Samoa',\n",
       "       'Ghana, Domin. Rep', 'Trinidad, Ecuador', 'Cameroon',\n",
       "       'Venezuela, Java', 'Venezuela/ Ghana', 'Venezuela, Ghana',\n",
       "       'Indonesia, Ghana', 'Peru(SMartin,Pangoa,nacional)', 'Principe',\n",
       "       'Central and S. America', 'Ven., Trinidad, Mad.',\n",
       "       'Carribean(DR/Jam/Tri)', 'Ghana & Madagascar',\n",
       "       'Ven.,Ecu.,Peru,Nic.', 'Madagascar & Ecuador',\n",
       "       'Guat., D.R., Peru, Mad., PNG', 'Peru, Dom. Rep',\n",
       "       'Dom. Rep., Madagascar', 'Gre., PNG, Haw., Haiti, Mad',\n",
       "       'Mad., Java, PNG', 'Ven, Bolivia, D.R.', 'DR, Ecuador, Peru',\n",
       "       'Suriname', 'Peru, Ecuador', 'Ecuador, Mad., PNG',\n",
       "       'Ghana, Panama, Ecuador', 'Venezuela, Carribean'], dtype=object)"
      ]
     },
     "execution_count": 13,
     "metadata": {},
     "output_type": "execute_result"
    }
   ],
   "source": [
    "df['broadOrigin'].unique()"
   ]
  },
  {
   "cell_type": "code",
   "execution_count": 14,
   "metadata": {},
   "outputs": [],
   "source": [
    "import re\n",
    "\n",
    "# broadOrigin 텍스트를 수정하기 위한 함수입니다.\n",
    "def txt_prep(text):\n",
    "    replacements = [\n",
    "        ['-', ', '], ['/ ', ', '], ['/', ', '], ['\\(', ', '], [' and', ', '], [' &', ', '], ['\\)', ''],\n",
    "        ['Dom Rep|DR|Domin Rep|Dominican Rep,|Domincan Republic', 'Dominican Republic'],\n",
    "        ['Mad,|Mad$', 'Madagascar, '],\n",
    "        ['PNG', 'Papua New Guinea, '],\n",
    "        ['Guat,|Guat$', 'Guatemala, '],\n",
    "        ['Ven,|Ven$|Venez,|Venez$', 'Venezuela, '],\n",
    "        ['Ecu,|Ecu$|Ecuad,|Ecuad$', 'Ecuador, '],\n",
    "        ['Nic,|Nic$', 'Nicaragua, '],\n",
    "        ['Cost Rica', 'Costa Rica'],\n",
    "        ['Mex,|Mex$', 'Mexico, '],\n",
    "        ['Jam,|Jam$', 'Jamaica, '],\n",
    "        ['Haw,|Haw$', 'Hawaii, '],\n",
    "        ['Gre,|Gre$', 'Grenada, '],\n",
    "        ['Tri,|Tri$', 'Trinidad, '],\n",
    "        ['C Am', 'Central America'],\n",
    "        ['S America', 'South America'],\n",
    "        [', $', ''], [',  ', ', '], [', ,', ', '], ['\\xa0', ' '],[',\\s+', ','],\n",
    "        ['\\.',''],\n",
    "        [' Bali', ',Bali']\n",
    "    ]\n",
    "    for i, j in replacements:\n",
    "        text = re.sub(i, j, text)\n",
    "    return text"
   ]
  },
  {
   "cell_type": "code",
   "execution_count": 15,
   "metadata": {},
   "outputs": [],
   "source": [
    "# 몇가지 간단하게 수정할 수 있는 부분만 전처리 합니다.\n",
    "def preprocess (df):\n",
    "\n",
    "    df.dropna(inplace=True)\n",
    "    \n",
    "    df['cocoaPercent'] = df['cocoaPercent'].str.replace('%','').astype(float)/100\n",
    "    \n",
    "    df['broadOrigin'] = df['broadOrigin'].apply(txt_prep)\n",
    "    \n",
    "    df['companyLocation'] = df['companyLocation']\\\n",
    "        .str.replace('Amsterdam', 'Holland')\\\n",
    "        .str.replace('U.K.', 'England')\\\n",
    "        .str.replace('Niacragua', 'Nicaragua')\\\n",
    "        .str.replace('Domincan Republic', 'Dominican Republic')\n",
    "    \n",
    "    df['beanType'] = df['beanType'].apply(lambda x : 'Missing' if (x is \"\\xa0\") else x)\n",
    "    \n",
    "    df['is_blend'] = np.where(\n",
    "    np.logical_or(\n",
    "        np.logical_or(df['specificOrigin'].str.lower().str.contains(',|blend|;'),\n",
    "                      df['broadOrigin'].str.len() == 1),\n",
    "        df['broadOrigin'].str.lower().str.contains(',')\n",
    "    )\n",
    "    , 1\n",
    "    , 0\n",
    ")\n",
    "    \n",
    "    return df\n",
    "\n",
    "df = preprocess(df)"
   ]
  },
  {
   "cell_type": "code",
   "execution_count": 16,
   "metadata": {},
   "outputs": [
    {
     "data": {
      "text/plain": [
       "0    1095\n",
       "1     698\n",
       "Name: is_blend, dtype: int64"
      ]
     },
     "execution_count": 16,
     "metadata": {},
     "output_type": "execute_result"
    }
   ],
   "source": [
    "df['is_blend'].value_counts()"
   ]
  },
  {
   "cell_type": "markdown",
   "metadata": {},
   "source": [
    "## 정보의 누수(leakage)가 없는지 확인합니다.\n",
    "\n",
    "여러분들이 아직 데이터에 대해 완전히 이해하고 있지 못할 때, 모델을 만들고 평가를 진행했는데 예측을 100% 가깝게 잘 하는 경우를 종종 보게 될 것입니다!\n",
    "\n",
    "이때 너무 좋아하시면 안됩니다! 정보의 누수가 존재할 가능성이 매우 큽니다!\n",
    "\n",
    "여러 특성을 다루다 보면 \n",
    "1. 타겟변수 외에 예측 시점에 사용할 수 없는 데이터가 포함되어 학습이 이루어 질 경우\n",
    "2. 훈련데이터와 검증데이터를 완전히 분리하지 못했을 경우\n",
    "\n",
    "**정보의 누수**가 일어나 과적합을 일으키고 실제 테스트 데이터에서 성능이 급격하게 떨어지는 결과를 확인할 수 있습니다.\n",
    "- [How (and why) to create a good validation set](https://www.fast.ai/2017/11/13/validation-sets/)."
   ]
  },
  {
   "cell_type": "markdown",
   "metadata": {},
   "source": [
    "우선 데이터를 깨끗하게 정리해야 합니다."
   ]
  },
  {
   "cell_type": "code",
   "execution_count": 17,
   "metadata": {},
   "outputs": [
    {
     "data": {
      "text/plain": [
       "company            0\n",
       "specificOrigin     0\n",
       "ref                0\n",
       "reviewDate         0\n",
       "cocoaPercent       0\n",
       "companyLocation    0\n",
       "rating             0\n",
       "beanType           0\n",
       "broadOrigin        0\n",
       "recommend          0\n",
       "is_blend           0\n",
       "dtype: int64"
      ]
     },
     "execution_count": 17,
     "metadata": {},
     "output_type": "execute_result"
    }
   ],
   "source": [
    "df.isna().sum().sort_values()"
   ]
  },
  {
   "cell_type": "code",
   "execution_count": 18,
   "metadata": {},
   "outputs": [
    {
     "data": {
      "text/plain": [
       "2006     72\n",
       "2007     77\n",
       "2008     93\n",
       "2009    123\n",
       "2010    111\n",
       "2011    164\n",
       "2012    194\n",
       "2013    184\n",
       "2014    247\n",
       "2015    285\n",
       "2016    219\n",
       "2017     24\n",
       "Name: reviewDate, dtype: int64"
      ]
     },
     "execution_count": 18,
     "metadata": {},
     "output_type": "execute_result"
    }
   ],
   "source": [
    "df['reviewDate'].value_counts().sort_index()"
   ]
  },
  {
   "cell_type": "markdown",
   "metadata": {},
   "source": [
    "#### 데이터를 나누겠습니다. 훈련/검증세트로만 나누겠습니다."
   ]
  },
  {
   "cell_type": "code",
   "execution_count": 19,
   "metadata": {},
   "outputs": [
    {
     "data": {
      "text/plain": [
       "((1434, 11), (359, 11))"
      ]
     },
     "execution_count": 19,
     "metadata": {},
     "output_type": "execute_result"
    }
   ],
   "source": [
    "from sklearn.model_selection import train_test_split\n",
    "train, val = train_test_split(df, test_size=0.2, random_state=2)\n",
    "train.shape, val.shape"
   ]
  },
  {
   "cell_type": "markdown",
   "metadata": {},
   "source": [
    "여기서 이미 알아차리신 경우도 있겠습니다. 어떤 특성이 데이터 누수 문제가 있을까요?\n",
    "데이터 누수가 일어난 특성을 제거하지 않으면 어떤 결과를 생길까요?"
   ]
  },
  {
   "cell_type": "code",
   "execution_count": 20,
   "metadata": {},
   "outputs": [
    {
     "name": "stdout",
     "output_type": "stream",
     "text": [
      "검증 정확도:  1.0\n"
     ]
    }
   ],
   "source": [
    "from category_encoders import OrdinalEncoder\n",
    "from sklearn.pipeline import make_pipeline\n",
    "from sklearn.tree import DecisionTreeClassifier\n",
    "\n",
    "target = 'recommend'\n",
    "features = df.columns.drop([target, 'reviewDate'])\n",
    "X_train = train[features]\n",
    "y_train = train[target]\n",
    "X_val = val[features]\n",
    "y_val = val[target]\n",
    "\n",
    "pipe = make_pipeline(\n",
    "    OrdinalEncoder(), \n",
    "    DecisionTreeClassifier(max_depth=5, random_state=2)\n",
    ")\n",
    "\n",
    "pipe.fit(X_train, y_train)\n",
    "print('검증 정확도: ', pipe.score(X_val, y_val))"
   ]
  },
  {
   "cell_type": "code",
   "execution_count": 21,
   "metadata": {},
   "outputs": [
    {
     "data": {
      "image/svg+xml": [
       "<?xml version=\"1.0\" encoding=\"UTF-8\" standalone=\"no\"?>\n",
       "<!DOCTYPE svg PUBLIC \"-//W3C//DTD SVG 1.1//EN\"\n",
       " \"http://www.w3.org/Graphics/SVG/1.1/DTD/svg11.dtd\">\n",
       "<!-- Generated by graphviz version 2.42.3 (20191010.1750)\n",
       " -->\n",
       "<!-- Title: Tree Pages: 1 -->\n",
       "<svg width=\"252pt\" height=\"186pt\"\n",
       " viewBox=\"0.00 0.00 251.54 186.00\" xmlns=\"http://www.w3.org/2000/svg\" xmlns:xlink=\"http://www.w3.org/1999/xlink\">\n",
       "<g id=\"graph0\" class=\"graph\" transform=\"scale(1 1) rotate(0) translate(4 182)\">\n",
       "<title>Tree</title>\n",
       "<polygon fill=\"white\" stroke=\"transparent\" points=\"-4,4 -4,-182 247.54,-182 247.54,4 -4,4\"/>\n",
       "<!-- 0 -->\n",
       "<g id=\"node1\" class=\"node\">\n",
       "<title>0</title>\n",
       "<polygon fill=\"#eb9c63\" stroke=\"black\" points=\"191.31,-178 51.23,-178 51.23,-100 191.31,-100 191.31,-178\"/>\n",
       "<text text-anchor=\"middle\" x=\"121.27\" y=\"-162.8\" font-family=\"Times,serif\" font-size=\"14.00\">rating &lt;= 3.625</text>\n",
       "<text text-anchor=\"middle\" x=\"121.27\" y=\"-148.8\" font-family=\"Times,serif\" font-size=\"14.00\">gini = 0.29</text>\n",
       "<text text-anchor=\"middle\" x=\"121.27\" y=\"-134.8\" font-family=\"Times,serif\" font-size=\"14.00\">samples = 100.0%</text>\n",
       "<text text-anchor=\"middle\" x=\"121.27\" y=\"-120.8\" font-family=\"Times,serif\" font-size=\"14.00\">value = [0.824, 0.176]</text>\n",
       "<text text-anchor=\"middle\" x=\"121.27\" y=\"-106.8\" font-family=\"Times,serif\" font-size=\"14.00\">class = False</text>\n",
       "</g>\n",
       "<!-- 1 -->\n",
       "<g id=\"node2\" class=\"node\">\n",
       "<title>1</title>\n",
       "<polygon fill=\"#e58139\" stroke=\"black\" points=\"112.31,-64 0.23,-64 0.23,0 112.31,0 112.31,-64\"/>\n",
       "<text text-anchor=\"middle\" x=\"56.27\" y=\"-48.8\" font-family=\"Times,serif\" font-size=\"14.00\">gini = 0.0</text>\n",
       "<text text-anchor=\"middle\" x=\"56.27\" y=\"-34.8\" font-family=\"Times,serif\" font-size=\"14.00\">samples = 82.4%</text>\n",
       "<text text-anchor=\"middle\" x=\"56.27\" y=\"-20.8\" font-family=\"Times,serif\" font-size=\"14.00\">value = [1.0, 0.0]</text>\n",
       "<text text-anchor=\"middle\" x=\"56.27\" y=\"-6.8\" font-family=\"Times,serif\" font-size=\"14.00\">class = False</text>\n",
       "</g>\n",
       "<!-- 0&#45;&gt;1 -->\n",
       "<g id=\"edge1\" class=\"edge\">\n",
       "<title>0&#45;&gt;1</title>\n",
       "<path fill=\"none\" stroke=\"black\" d=\"M97.62,-99.8C92.17,-91 86.37,-81.63 80.88,-72.76\"/>\n",
       "<polygon fill=\"black\" stroke=\"black\" points=\"83.77,-70.78 75.53,-64.12 77.82,-74.46 83.77,-70.78\"/>\n",
       "<text text-anchor=\"middle\" x=\"69.81\" y=\"-84.25\" font-family=\"Times,serif\" font-size=\"14.00\">True</text>\n",
       "</g>\n",
       "<!-- 2 -->\n",
       "<g id=\"node3\" class=\"node\">\n",
       "<title>2</title>\n",
       "<polygon fill=\"#399de5\" stroke=\"black\" points=\"243.31,-64 131.23,-64 131.23,0 243.31,0 243.31,-64\"/>\n",
       "<text text-anchor=\"middle\" x=\"187.27\" y=\"-48.8\" font-family=\"Times,serif\" font-size=\"14.00\">gini = 0.0</text>\n",
       "<text text-anchor=\"middle\" x=\"187.27\" y=\"-34.8\" font-family=\"Times,serif\" font-size=\"14.00\">samples = 17.6%</text>\n",
       "<text text-anchor=\"middle\" x=\"187.27\" y=\"-20.8\" font-family=\"Times,serif\" font-size=\"14.00\">value = [0.0, 1.0]</text>\n",
       "<text text-anchor=\"middle\" x=\"187.27\" y=\"-6.8\" font-family=\"Times,serif\" font-size=\"14.00\">class = True</text>\n",
       "</g>\n",
       "<!-- 0&#45;&gt;2 -->\n",
       "<g id=\"edge2\" class=\"edge\">\n",
       "<title>0&#45;&gt;2</title>\n",
       "<path fill=\"none\" stroke=\"black\" d=\"M145.28,-99.8C150.81,-91 156.7,-81.63 162.27,-72.76\"/>\n",
       "<polygon fill=\"black\" stroke=\"black\" points=\"165.35,-74.45 167.71,-64.12 159.42,-70.72 165.35,-74.45\"/>\n",
       "<text text-anchor=\"middle\" x=\"173.27\" y=\"-84.29\" font-family=\"Times,serif\" font-size=\"14.00\">False</text>\n",
       "</g>\n",
       "</g>\n",
       "</svg>\n"
      ],
      "text/plain": [
       "<graphviz.files.Source at 0x7ff164832250>"
      ]
     },
     "execution_count": 21,
     "metadata": {},
     "output_type": "execute_result"
    }
   ],
   "source": [
    "### 어떤 트리가 만들어졌는지 그려봅시다\n",
    "import graphviz\n",
    "from sklearn.tree import export_graphviz\n",
    "\n",
    "tree = pipe.named_steps['decisiontreeclassifier']\n",
    "\n",
    "dot_data = export_graphviz(\n",
    "    tree,\n",
    "    feature_names=X_train.columns, \n",
    "    class_names=y_train.unique().astype(str), \n",
    "    filled=True, \n",
    "    proportion=True\n",
    ")\n",
    "\n",
    "graphviz.Source(dot_data)"
   ]
  },
  {
   "cell_type": "markdown",
   "metadata": {},
   "source": [
    "#### 정보 누수가 일어난 컬럼을 제거해 봅시다."
   ]
  },
  {
   "cell_type": "code",
   "execution_count": 22,
   "metadata": {},
   "outputs": [
    {
     "name": "stdout",
     "output_type": "stream",
     "text": [
      "검증 정확도 0.83008356545961\n"
     ]
    }
   ],
   "source": [
    "features = df.columns.drop([target\n",
    "                            , 'reviewDate'\n",
    "                            , 'rating'\n",
    "                            , 'ref'\n",
    "                           ])\n",
    "X_train = train[features]\n",
    "y_train = train[target]\n",
    "X_val = val[features]\n",
    "y_val = val[target]\n",
    "\n",
    "pipe = make_pipeline(\n",
    "    OrdinalEncoder(), \n",
    "    DecisionTreeClassifier(max_depth=5, random_state=2)\n",
    ")\n",
    "\n",
    "pipe.fit(X_train, y_train)\n",
    "print('검증 정확도', pipe.score(X_val, y_val))"
   ]
  },
  {
   "cell_type": "code",
   "execution_count": 23,
   "metadata": {},
   "outputs": [
    {
     "data": {
      "image/svg+xml": [
       "<?xml version=\"1.0\" encoding=\"UTF-8\" standalone=\"no\"?>\n",
       "<!DOCTYPE svg PUBLIC \"-//W3C//DTD SVG 1.1//EN\"\n",
       " \"http://www.w3.org/Graphics/SVG/1.1/DTD/svg11.dtd\">\n",
       "<!-- Generated by graphviz version 2.42.3 (20191010.1750)\n",
       " -->\n",
       "<!-- Title: Tree Pages: 1 -->\n",
       "<svg width=\"2652pt\" height=\"642pt\"\n",
       " viewBox=\"0.00 0.00 2651.54 642.00\" xmlns=\"http://www.w3.org/2000/svg\" xmlns:xlink=\"http://www.w3.org/1999/xlink\">\n",
       "<g id=\"graph0\" class=\"graph\" transform=\"scale(1 1) rotate(0) translate(4 638)\">\n",
       "<title>Tree</title>\n",
       "<polygon fill=\"white\" stroke=\"transparent\" points=\"-4,4 -4,-638 2647.54,-638 2647.54,4 -4,4\"/>\n",
       "<!-- 0 -->\n",
       "<g id=\"node1\" class=\"node\">\n",
       "<title>0</title>\n",
       "<polygon fill=\"#eb9c63\" stroke=\"black\" points=\"1675.88,-634 1526.66,-634 1526.66,-556 1675.88,-556 1675.88,-634\"/>\n",
       "<text text-anchor=\"middle\" x=\"1601.27\" y=\"-618.8\" font-family=\"Times,serif\" font-size=\"14.00\">specificOrigin &lt;= 265.5</text>\n",
       "<text text-anchor=\"middle\" x=\"1601.27\" y=\"-604.8\" font-family=\"Times,serif\" font-size=\"14.00\">gini = 0.29</text>\n",
       "<text text-anchor=\"middle\" x=\"1601.27\" y=\"-590.8\" font-family=\"Times,serif\" font-size=\"14.00\">samples = 100.0%</text>\n",
       "<text text-anchor=\"middle\" x=\"1601.27\" y=\"-576.8\" font-family=\"Times,serif\" font-size=\"14.00\">value = [0.824, 0.176]</text>\n",
       "<text text-anchor=\"middle\" x=\"1601.27\" y=\"-562.8\" font-family=\"Times,serif\" font-size=\"14.00\">class = False</text>\n",
       "</g>\n",
       "<!-- 1 -->\n",
       "<g id=\"node2\" class=\"node\">\n",
       "<title>1</title>\n",
       "<polygon fill=\"#e99457\" stroke=\"black\" points=\"1328.31,-520 1188.23,-520 1188.23,-442 1328.31,-442 1328.31,-520\"/>\n",
       "<text text-anchor=\"middle\" x=\"1258.27\" y=\"-504.8\" font-family=\"Times,serif\" font-size=\"14.00\">company &lt;= 110.5</text>\n",
       "<text text-anchor=\"middle\" x=\"1258.27\" y=\"-490.8\" font-family=\"Times,serif\" font-size=\"14.00\">gini = 0.23</text>\n",
       "<text text-anchor=\"middle\" x=\"1258.27\" y=\"-476.8\" font-family=\"Times,serif\" font-size=\"14.00\">samples = 52.6%</text>\n",
       "<text text-anchor=\"middle\" x=\"1258.27\" y=\"-462.8\" font-family=\"Times,serif\" font-size=\"14.00\">value = [0.868, 0.132]</text>\n",
       "<text text-anchor=\"middle\" x=\"1258.27\" y=\"-448.8\" font-family=\"Times,serif\" font-size=\"14.00\">class = False</text>\n",
       "</g>\n",
       "<!-- 0&#45;&gt;1 -->\n",
       "<g id=\"edge1\" class=\"edge\">\n",
       "<title>0&#45;&gt;1</title>\n",
       "<path fill=\"none\" stroke=\"black\" d=\"M1526.42,-569.56C1470.8,-551.4 1395.04,-526.66 1338.23,-508.11\"/>\n",
       "<polygon fill=\"black\" stroke=\"black\" points=\"1339.16,-504.73 1328.57,-504.96 1336.99,-511.39 1339.16,-504.73\"/>\n",
       "<text text-anchor=\"middle\" x=\"1339.89\" y=\"-523.05\" font-family=\"Times,serif\" font-size=\"14.00\">True</text>\n",
       "</g>\n",
       "<!-- 24 -->\n",
       "<g id=\"node25\" class=\"node\">\n",
       "<title>24</title>\n",
       "<polygon fill=\"#eca572\" stroke=\"black\" points=\"2098.31,-520 1958.23,-520 1958.23,-442 2098.31,-442 2098.31,-520\"/>\n",
       "<text text-anchor=\"middle\" x=\"2028.27\" y=\"-504.8\" font-family=\"Times,serif\" font-size=\"14.00\">company &lt;= 284.0</text>\n",
       "<text text-anchor=\"middle\" x=\"2028.27\" y=\"-490.8\" font-family=\"Times,serif\" font-size=\"14.00\">gini = 0.347</text>\n",
       "<text text-anchor=\"middle\" x=\"2028.27\" y=\"-476.8\" font-family=\"Times,serif\" font-size=\"14.00\">samples = 47.4%</text>\n",
       "<text text-anchor=\"middle\" x=\"2028.27\" y=\"-462.8\" font-family=\"Times,serif\" font-size=\"14.00\">value = [0.776, 0.224]</text>\n",
       "<text text-anchor=\"middle\" x=\"2028.27\" y=\"-448.8\" font-family=\"Times,serif\" font-size=\"14.00\">class = False</text>\n",
       "</g>\n",
       "<!-- 0&#45;&gt;24 -->\n",
       "<g id=\"edge24\" class=\"edge\">\n",
       "<title>0&#45;&gt;24</title>\n",
       "<path fill=\"none\" stroke=\"black\" d=\"M1676.13,-574.36C1752.4,-554.36 1870.25,-523.45 1948.31,-502.97\"/>\n",
       "<polygon fill=\"black\" stroke=\"black\" points=\"1949.31,-506.33 1958.1,-500.41 1947.54,-499.56 1949.31,-506.33\"/>\n",
       "<text text-anchor=\"middle\" x=\"1945.48\" y=\"-517.79\" font-family=\"Times,serif\" font-size=\"14.00\">False</text>\n",
       "</g>\n",
       "<!-- 2 -->\n",
       "<g id=\"node3\" class=\"node\">\n",
       "<title>2</title>\n",
       "<polygon fill=\"#eb9c63\" stroke=\"black\" points=\"872.31,-406 732.23,-406 732.23,-328 872.31,-328 872.31,-406\"/>\n",
       "<text text-anchor=\"middle\" x=\"802.27\" y=\"-390.8\" font-family=\"Times,serif\" font-size=\"14.00\">broadOrigin &lt;= 14.5</text>\n",
       "<text text-anchor=\"middle\" x=\"802.27\" y=\"-376.8\" font-family=\"Times,serif\" font-size=\"14.00\">gini = 0.29</text>\n",
       "<text text-anchor=\"middle\" x=\"802.27\" y=\"-362.8\" font-family=\"Times,serif\" font-size=\"14.00\">samples = 28.5%</text>\n",
       "<text text-anchor=\"middle\" x=\"802.27\" y=\"-348.8\" font-family=\"Times,serif\" font-size=\"14.00\">value = [0.824, 0.176]</text>\n",
       "<text text-anchor=\"middle\" x=\"802.27\" y=\"-334.8\" font-family=\"Times,serif\" font-size=\"14.00\">class = False</text>\n",
       "</g>\n",
       "<!-- 1&#45;&gt;2 -->\n",
       "<g id=\"edge2\" class=\"edge\">\n",
       "<title>1&#45;&gt;2</title>\n",
       "<path fill=\"none\" stroke=\"black\" d=\"M1188.02,-462.75C1105.51,-442.48 968.93,-408.94 882.38,-387.68\"/>\n",
       "<polygon fill=\"black\" stroke=\"black\" points=\"883.15,-384.26 872.6,-385.27 881.48,-391.06 883.15,-384.26\"/>\n",
       "</g>\n",
       "<!-- 15 -->\n",
       "<g id=\"node16\" class=\"node\">\n",
       "<title>15</title>\n",
       "<polygon fill=\"#e78c4a\" stroke=\"black\" points=\"1328.31,-406 1188.23,-406 1188.23,-328 1328.31,-328 1328.31,-406\"/>\n",
       "<text text-anchor=\"middle\" x=\"1258.27\" y=\"-390.8\" font-family=\"Times,serif\" font-size=\"14.00\">broadOrigin &lt;= 66.5</text>\n",
       "<text text-anchor=\"middle\" x=\"1258.27\" y=\"-376.8\" font-family=\"Times,serif\" font-size=\"14.00\">gini = 0.149</text>\n",
       "<text text-anchor=\"middle\" x=\"1258.27\" y=\"-362.8\" font-family=\"Times,serif\" font-size=\"14.00\">samples = 24.1%</text>\n",
       "<text text-anchor=\"middle\" x=\"1258.27\" y=\"-348.8\" font-family=\"Times,serif\" font-size=\"14.00\">value = [0.919, 0.081]</text>\n",
       "<text text-anchor=\"middle\" x=\"1258.27\" y=\"-334.8\" font-family=\"Times,serif\" font-size=\"14.00\">class = False</text>\n",
       "</g>\n",
       "<!-- 1&#45;&gt;15 -->\n",
       "<g id=\"edge15\" class=\"edge\">\n",
       "<title>1&#45;&gt;15</title>\n",
       "<path fill=\"none\" stroke=\"black\" d=\"M1258.27,-441.77C1258.27,-433.57 1258.27,-424.8 1258.27,-416.28\"/>\n",
       "<polygon fill=\"black\" stroke=\"black\" points=\"1261.77,-416.06 1258.27,-406.06 1254.77,-416.06 1261.77,-416.06\"/>\n",
       "</g>\n",
       "<!-- 3 -->\n",
       "<g id=\"node4\" class=\"node\">\n",
       "<title>3</title>\n",
       "<polygon fill=\"#eca36f\" stroke=\"black\" points=\"493.38,-292 351.16,-292 351.16,-214 493.38,-214 493.38,-292\"/>\n",
       "<text text-anchor=\"middle\" x=\"422.27\" y=\"-276.8\" font-family=\"Times,serif\" font-size=\"14.00\">specificOrigin &lt;= 44.5</text>\n",
       "<text text-anchor=\"middle\" x=\"422.27\" y=\"-262.8\" font-family=\"Times,serif\" font-size=\"14.00\">gini = 0.337</text>\n",
       "<text text-anchor=\"middle\" x=\"422.27\" y=\"-248.8\" font-family=\"Times,serif\" font-size=\"14.00\">samples = 20.8%</text>\n",
       "<text text-anchor=\"middle\" x=\"422.27\" y=\"-234.8\" font-family=\"Times,serif\" font-size=\"14.00\">value = [0.785, 0.215]</text>\n",
       "<text text-anchor=\"middle\" x=\"422.27\" y=\"-220.8\" font-family=\"Times,serif\" font-size=\"14.00\">class = False</text>\n",
       "</g>\n",
       "<!-- 2&#45;&gt;3 -->\n",
       "<g id=\"edge3\" class=\"edge\">\n",
       "<title>2&#45;&gt;3</title>\n",
       "<path fill=\"none\" stroke=\"black\" d=\"M732.13,-345.33C667.44,-326.26 571.41,-297.96 503.43,-277.92\"/>\n",
       "<polygon fill=\"black\" stroke=\"black\" points=\"504.19,-274.5 493.61,-275.03 502.21,-281.21 504.19,-274.5\"/>\n",
       "</g>\n",
       "<!-- 10 -->\n",
       "<g id=\"node11\" class=\"node\">\n",
       "<title>10</title>\n",
       "<polygon fill=\"#e78b48\" stroke=\"black\" points=\"872.31,-292 732.23,-292 732.23,-214 872.31,-214 872.31,-292\"/>\n",
       "<text text-anchor=\"middle\" x=\"802.27\" y=\"-276.8\" font-family=\"Times,serif\" font-size=\"14.00\">broadOrigin &lt;= 58.5</text>\n",
       "<text text-anchor=\"middle\" x=\"802.27\" y=\"-262.8\" font-family=\"Times,serif\" font-size=\"14.00\">gini = 0.134</text>\n",
       "<text text-anchor=\"middle\" x=\"802.27\" y=\"-248.8\" font-family=\"Times,serif\" font-size=\"14.00\">samples = 7.7%</text>\n",
       "<text text-anchor=\"middle\" x=\"802.27\" y=\"-234.8\" font-family=\"Times,serif\" font-size=\"14.00\">value = [0.928, 0.072]</text>\n",
       "<text text-anchor=\"middle\" x=\"802.27\" y=\"-220.8\" font-family=\"Times,serif\" font-size=\"14.00\">class = False</text>\n",
       "</g>\n",
       "<!-- 2&#45;&gt;10 -->\n",
       "<g id=\"edge10\" class=\"edge\">\n",
       "<title>2&#45;&gt;10</title>\n",
       "<path fill=\"none\" stroke=\"black\" d=\"M802.27,-327.77C802.27,-319.57 802.27,-310.8 802.27,-302.28\"/>\n",
       "<polygon fill=\"black\" stroke=\"black\" points=\"805.77,-302.06 802.27,-292.06 798.77,-302.06 805.77,-302.06\"/>\n",
       "</g>\n",
       "<!-- 4 -->\n",
       "<g id=\"node5\" class=\"node\">\n",
       "<title>4</title>\n",
       "<polygon fill=\"#ea975b\" stroke=\"black\" points=\"271.31,-178 131.23,-178 131.23,-100 271.31,-100 271.31,-178\"/>\n",
       "<text text-anchor=\"middle\" x=\"201.27\" y=\"-162.8\" font-family=\"Times,serif\" font-size=\"14.00\">broadOrigin &lt;= 9.5</text>\n",
       "<text text-anchor=\"middle\" x=\"201.27\" y=\"-148.8\" font-family=\"Times,serif\" font-size=\"14.00\">gini = 0.252</text>\n",
       "<text text-anchor=\"middle\" x=\"201.27\" y=\"-134.8\" font-family=\"Times,serif\" font-size=\"14.00\">samples = 9.4%</text>\n",
       "<text text-anchor=\"middle\" x=\"201.27\" y=\"-120.8\" font-family=\"Times,serif\" font-size=\"14.00\">value = [0.852, 0.148]</text>\n",
       "<text text-anchor=\"middle\" x=\"201.27\" y=\"-106.8\" font-family=\"Times,serif\" font-size=\"14.00\">class = False</text>\n",
       "</g>\n",
       "<!-- 3&#45;&gt;4 -->\n",
       "<g id=\"edge4\" class=\"edge\">\n",
       "<title>3&#45;&gt;4</title>\n",
       "<path fill=\"none\" stroke=\"black\" d=\"M351.13,-215.95C328.62,-204.54 303.62,-191.87 280.58,-180.19\"/>\n",
       "<polygon fill=\"black\" stroke=\"black\" points=\"282.02,-177 271.52,-175.6 278.86,-183.25 282.02,-177\"/>\n",
       "</g>\n",
       "<!-- 7 -->\n",
       "<g id=\"node8\" class=\"node\">\n",
       "<title>7</title>\n",
       "<polygon fill=\"#efb082\" stroke=\"black\" points=\"485.31,-178 359.23,-178 359.23,-100 485.31,-100 485.31,-178\"/>\n",
       "<text text-anchor=\"middle\" x=\"422.27\" y=\"-162.8\" font-family=\"Times,serif\" font-size=\"14.00\">company &lt;= 98.5</text>\n",
       "<text text-anchor=\"middle\" x=\"422.27\" y=\"-148.8\" font-family=\"Times,serif\" font-size=\"14.00\">gini = 0.394</text>\n",
       "<text text-anchor=\"middle\" x=\"422.27\" y=\"-134.8\" font-family=\"Times,serif\" font-size=\"14.00\">samples = 11.4%</text>\n",
       "<text text-anchor=\"middle\" x=\"422.27\" y=\"-120.8\" font-family=\"Times,serif\" font-size=\"14.00\">value = [0.73, 0.27]</text>\n",
       "<text text-anchor=\"middle\" x=\"422.27\" y=\"-106.8\" font-family=\"Times,serif\" font-size=\"14.00\">class = False</text>\n",
       "</g>\n",
       "<!-- 3&#45;&gt;7 -->\n",
       "<g id=\"edge7\" class=\"edge\">\n",
       "<title>3&#45;&gt;7</title>\n",
       "<path fill=\"none\" stroke=\"black\" d=\"M422.27,-213.77C422.27,-205.57 422.27,-196.8 422.27,-188.28\"/>\n",
       "<polygon fill=\"black\" stroke=\"black\" points=\"425.77,-188.06 422.27,-178.06 418.77,-188.06 425.77,-188.06\"/>\n",
       "</g>\n",
       "<!-- 5 -->\n",
       "<g id=\"node6\" class=\"node\">\n",
       "<title>5</title>\n",
       "<polygon fill=\"#eb9d65\" stroke=\"black\" points=\"126.31,-64 0.23,-64 0.23,0 126.31,0 126.31,-64\"/>\n",
       "<text text-anchor=\"middle\" x=\"63.27\" y=\"-48.8\" font-family=\"Times,serif\" font-size=\"14.00\">gini = 0.295</text>\n",
       "<text text-anchor=\"middle\" x=\"63.27\" y=\"-34.8\" font-family=\"Times,serif\" font-size=\"14.00\">samples = 7.7%</text>\n",
       "<text text-anchor=\"middle\" x=\"63.27\" y=\"-20.8\" font-family=\"Times,serif\" font-size=\"14.00\">value = [0.82, 0.18]</text>\n",
       "<text text-anchor=\"middle\" x=\"63.27\" y=\"-6.8\" font-family=\"Times,serif\" font-size=\"14.00\">class = False</text>\n",
       "</g>\n",
       "<!-- 4&#45;&gt;5 -->\n",
       "<g id=\"edge5\" class=\"edge\">\n",
       "<title>4&#45;&gt;5</title>\n",
       "<path fill=\"none\" stroke=\"black\" d=\"M151.06,-99.8C138.41,-90.18 124.86,-79.86 112.28,-70.29\"/>\n",
       "<polygon fill=\"black\" stroke=\"black\" points=\"114.24,-67.39 104.17,-64.12 110,-72.96 114.24,-67.39\"/>\n",
       "</g>\n",
       "<!-- 6 -->\n",
       "<g id=\"node7\" class=\"node\">\n",
       "<title>6</title>\n",
       "<polygon fill=\"#e58139\" stroke=\"black\" points=\"257.31,-64 145.23,-64 145.23,0 257.31,0 257.31,-64\"/>\n",
       "<text text-anchor=\"middle\" x=\"201.27\" y=\"-48.8\" font-family=\"Times,serif\" font-size=\"14.00\">gini = 0.0</text>\n",
       "<text text-anchor=\"middle\" x=\"201.27\" y=\"-34.8\" font-family=\"Times,serif\" font-size=\"14.00\">samples = 1.7%</text>\n",
       "<text text-anchor=\"middle\" x=\"201.27\" y=\"-20.8\" font-family=\"Times,serif\" font-size=\"14.00\">value = [1.0, 0.0]</text>\n",
       "<text text-anchor=\"middle\" x=\"201.27\" y=\"-6.8\" font-family=\"Times,serif\" font-size=\"14.00\">class = False</text>\n",
       "</g>\n",
       "<!-- 4&#45;&gt;6 -->\n",
       "<g id=\"edge6\" class=\"edge\">\n",
       "<title>4&#45;&gt;6</title>\n",
       "<path fill=\"none\" stroke=\"black\" d=\"M201.27,-99.8C201.27,-91.46 201.27,-82.6 201.27,-74.15\"/>\n",
       "<polygon fill=\"black\" stroke=\"black\" points=\"204.77,-74.12 201.27,-64.12 197.77,-74.12 204.77,-74.12\"/>\n",
       "</g>\n",
       "<!-- 8 -->\n",
       "<g id=\"node9\" class=\"node\">\n",
       "<title>8</title>\n",
       "<polygon fill=\"#eeab7b\" stroke=\"black\" points=\"402.31,-64 276.23,-64 276.23,0 402.31,0 402.31,-64\"/>\n",
       "<text text-anchor=\"middle\" x=\"339.27\" y=\"-48.8\" font-family=\"Times,serif\" font-size=\"14.00\">gini = 0.375</text>\n",
       "<text text-anchor=\"middle\" x=\"339.27\" y=\"-34.8\" font-family=\"Times,serif\" font-size=\"14.00\">samples = 10.6%</text>\n",
       "<text text-anchor=\"middle\" x=\"339.27\" y=\"-20.8\" font-family=\"Times,serif\" font-size=\"14.00\">value = [0.75, 0.25]</text>\n",
       "<text text-anchor=\"middle\" x=\"339.27\" y=\"-6.8\" font-family=\"Times,serif\" font-size=\"14.00\">class = False</text>\n",
       "</g>\n",
       "<!-- 7&#45;&gt;8 -->\n",
       "<g id=\"edge8\" class=\"edge\">\n",
       "<title>7&#45;&gt;8</title>\n",
       "<path fill=\"none\" stroke=\"black\" d=\"M392.07,-99.8C384.97,-90.82 377.4,-81.23 370.26,-72.21\"/>\n",
       "<polygon fill=\"black\" stroke=\"black\" points=\"372.81,-69.79 363.87,-64.12 367.32,-74.13 372.81,-69.79\"/>\n",
       "</g>\n",
       "<!-- 9 -->\n",
       "<g id=\"node10\" class=\"node\">\n",
       "<title>9</title>\n",
       "<polygon fill=\"#deeffb\" stroke=\"black\" points=\"561.31,-64 421.23,-64 421.23,0 561.31,0 561.31,-64\"/>\n",
       "<text text-anchor=\"middle\" x=\"491.27\" y=\"-48.8\" font-family=\"Times,serif\" font-size=\"14.00\">gini = 0.496</text>\n",
       "<text text-anchor=\"middle\" x=\"491.27\" y=\"-34.8\" font-family=\"Times,serif\" font-size=\"14.00\">samples = 0.8%</text>\n",
       "<text text-anchor=\"middle\" x=\"491.27\" y=\"-20.8\" font-family=\"Times,serif\" font-size=\"14.00\">value = [0.455, 0.545]</text>\n",
       "<text text-anchor=\"middle\" x=\"491.27\" y=\"-6.8\" font-family=\"Times,serif\" font-size=\"14.00\">class = True</text>\n",
       "</g>\n",
       "<!-- 7&#45;&gt;9 -->\n",
       "<g id=\"edge9\" class=\"edge\">\n",
       "<title>7&#45;&gt;9</title>\n",
       "<path fill=\"none\" stroke=\"black\" d=\"M447.37,-99.8C453.21,-90.91 459.44,-81.43 465.32,-72.49\"/>\n",
       "<polygon fill=\"black\" stroke=\"black\" points=\"468.25,-74.4 470.82,-64.12 462.4,-70.55 468.25,-74.4\"/>\n",
       "</g>\n",
       "<!-- 11 -->\n",
       "<g id=\"node12\" class=\"node\">\n",
       "<title>11</title>\n",
       "<polygon fill=\"#e78a46\" stroke=\"black\" points=\"800.31,-178 660.23,-178 660.23,-100 800.31,-100 800.31,-178\"/>\n",
       "<text text-anchor=\"middle\" x=\"730.27\" y=\"-162.8\" font-family=\"Times,serif\" font-size=\"14.00\">is_blend &lt;= 0.5</text>\n",
       "<text text-anchor=\"middle\" x=\"730.27\" y=\"-148.8\" font-family=\"Times,serif\" font-size=\"14.00\">gini = 0.119</text>\n",
       "<text text-anchor=\"middle\" x=\"730.27\" y=\"-134.8\" font-family=\"Times,serif\" font-size=\"14.00\">samples = 7.7%</text>\n",
       "<text text-anchor=\"middle\" x=\"730.27\" y=\"-120.8\" font-family=\"Times,serif\" font-size=\"14.00\">value = [0.936, 0.064]</text>\n",
       "<text text-anchor=\"middle\" x=\"730.27\" y=\"-106.8\" font-family=\"Times,serif\" font-size=\"14.00\">class = False</text>\n",
       "</g>\n",
       "<!-- 10&#45;&gt;11 -->\n",
       "<g id=\"edge11\" class=\"edge\">\n",
       "<title>10&#45;&gt;11</title>\n",
       "<path fill=\"none\" stroke=\"black\" d=\"M777.69,-213.77C772.07,-205.03 766.04,-195.64 760.22,-186.6\"/>\n",
       "<polygon fill=\"black\" stroke=\"black\" points=\"763.09,-184.58 754.73,-178.06 757.2,-188.36 763.09,-184.58\"/>\n",
       "</g>\n",
       "<!-- 14 -->\n",
       "<g id=\"node15\" class=\"node\">\n",
       "<title>14</title>\n",
       "<polygon fill=\"#399de5\" stroke=\"black\" points=\"931.31,-171 819.23,-171 819.23,-107 931.31,-107 931.31,-171\"/>\n",
       "<text text-anchor=\"middle\" x=\"875.27\" y=\"-155.8\" font-family=\"Times,serif\" font-size=\"14.00\">gini = 0.0</text>\n",
       "<text text-anchor=\"middle\" x=\"875.27\" y=\"-141.8\" font-family=\"Times,serif\" font-size=\"14.00\">samples = 0.1%</text>\n",
       "<text text-anchor=\"middle\" x=\"875.27\" y=\"-127.8\" font-family=\"Times,serif\" font-size=\"14.00\">value = [0.0, 1.0]</text>\n",
       "<text text-anchor=\"middle\" x=\"875.27\" y=\"-113.8\" font-family=\"Times,serif\" font-size=\"14.00\">class = True</text>\n",
       "</g>\n",
       "<!-- 10&#45;&gt;14 -->\n",
       "<g id=\"edge14\" class=\"edge\">\n",
       "<title>10&#45;&gt;14</title>\n",
       "<path fill=\"none\" stroke=\"black\" d=\"M827.19,-213.77C834.36,-202.77 842.19,-190.75 849.42,-179.66\"/>\n",
       "<polygon fill=\"black\" stroke=\"black\" points=\"852.53,-181.3 855.06,-171.01 846.66,-177.48 852.53,-181.3\"/>\n",
       "</g>\n",
       "<!-- 12 -->\n",
       "<g id=\"node13\" class=\"node\">\n",
       "<title>12</title>\n",
       "<polygon fill=\"#e5833c\" stroke=\"black\" points=\"720.31,-64 580.23,-64 580.23,0 720.31,0 720.31,-64\"/>\n",
       "<text text-anchor=\"middle\" x=\"650.27\" y=\"-48.8\" font-family=\"Times,serif\" font-size=\"14.00\">gini = 0.029</text>\n",
       "<text text-anchor=\"middle\" x=\"650.27\" y=\"-34.8\" font-family=\"Times,serif\" font-size=\"14.00\">samples = 4.8%</text>\n",
       "<text text-anchor=\"middle\" x=\"650.27\" y=\"-20.8\" font-family=\"Times,serif\" font-size=\"14.00\">value = [0.986, 0.014]</text>\n",
       "<text text-anchor=\"middle\" x=\"650.27\" y=\"-6.8\" font-family=\"Times,serif\" font-size=\"14.00\">class = False</text>\n",
       "</g>\n",
       "<!-- 11&#45;&gt;12 -->\n",
       "<g id=\"edge12\" class=\"edge\">\n",
       "<title>11&#45;&gt;12</title>\n",
       "<path fill=\"none\" stroke=\"black\" d=\"M701.16,-99.8C694.32,-90.82 687.02,-81.23 680.14,-72.21\"/>\n",
       "<polygon fill=\"black\" stroke=\"black\" points=\"682.82,-69.95 673.98,-64.12 677.25,-74.19 682.82,-69.95\"/>\n",
       "</g>\n",
       "<!-- 13 -->\n",
       "<g id=\"node14\" class=\"node\">\n",
       "<title>13</title>\n",
       "<polygon fill=\"#e9975b\" stroke=\"black\" points=\"879.31,-64 739.23,-64 739.23,0 879.31,0 879.31,-64\"/>\n",
       "<text text-anchor=\"middle\" x=\"809.27\" y=\"-48.8\" font-family=\"Times,serif\" font-size=\"14.00\">gini = 0.25</text>\n",
       "<text text-anchor=\"middle\" x=\"809.27\" y=\"-34.8\" font-family=\"Times,serif\" font-size=\"14.00\">samples = 2.9%</text>\n",
       "<text text-anchor=\"middle\" x=\"809.27\" y=\"-20.8\" font-family=\"Times,serif\" font-size=\"14.00\">value = [0.854, 0.146]</text>\n",
       "<text text-anchor=\"middle\" x=\"809.27\" y=\"-6.8\" font-family=\"Times,serif\" font-size=\"14.00\">class = False</text>\n",
       "</g>\n",
       "<!-- 11&#45;&gt;13 -->\n",
       "<g id=\"edge13\" class=\"edge\">\n",
       "<title>11&#45;&gt;13</title>\n",
       "<path fill=\"none\" stroke=\"black\" d=\"M759.01,-99.8C765.77,-90.82 772.98,-81.23 779.77,-72.21\"/>\n",
       "<polygon fill=\"black\" stroke=\"black\" points=\"782.64,-74.21 785.86,-64.12 777.05,-70 782.64,-74.21\"/>\n",
       "</g>\n",
       "<!-- 16 -->\n",
       "<g id=\"node17\" class=\"node\">\n",
       "<title>16</title>\n",
       "<polygon fill=\"#e78c4a\" stroke=\"black\" points=\"1256.31,-292 1116.23,-292 1116.23,-214 1256.31,-214 1256.31,-292\"/>\n",
       "<text text-anchor=\"middle\" x=\"1186.27\" y=\"-276.8\" font-family=\"Times,serif\" font-size=\"14.00\">specificOrigin &lt;= 6.5</text>\n",
       "<text text-anchor=\"middle\" x=\"1186.27\" y=\"-262.8\" font-family=\"Times,serif\" font-size=\"14.00\">gini = 0.144</text>\n",
       "<text text-anchor=\"middle\" x=\"1186.27\" y=\"-248.8\" font-family=\"Times,serif\" font-size=\"14.00\">samples = 24.1%</text>\n",
       "<text text-anchor=\"middle\" x=\"1186.27\" y=\"-234.8\" font-family=\"Times,serif\" font-size=\"14.00\">value = [0.922, 0.078]</text>\n",
       "<text text-anchor=\"middle\" x=\"1186.27\" y=\"-220.8\" font-family=\"Times,serif\" font-size=\"14.00\">class = False</text>\n",
       "</g>\n",
       "<!-- 15&#45;&gt;16 -->\n",
       "<g id=\"edge16\" class=\"edge\">\n",
       "<title>15&#45;&gt;16</title>\n",
       "<path fill=\"none\" stroke=\"black\" d=\"M1233.69,-327.77C1228.07,-319.03 1222.04,-309.64 1216.22,-300.6\"/>\n",
       "<polygon fill=\"black\" stroke=\"black\" points=\"1219.09,-298.58 1210.73,-292.06 1213.2,-302.36 1219.09,-298.58\"/>\n",
       "</g>\n",
       "<!-- 23 -->\n",
       "<g id=\"node24\" class=\"node\">\n",
       "<title>23</title>\n",
       "<polygon fill=\"#399de5\" stroke=\"black\" points=\"1387.31,-285 1275.23,-285 1275.23,-221 1387.31,-221 1387.31,-285\"/>\n",
       "<text text-anchor=\"middle\" x=\"1331.27\" y=\"-269.8\" font-family=\"Times,serif\" font-size=\"14.00\">gini = 0.0</text>\n",
       "<text text-anchor=\"middle\" x=\"1331.27\" y=\"-255.8\" font-family=\"Times,serif\" font-size=\"14.00\">samples = 0.1%</text>\n",
       "<text text-anchor=\"middle\" x=\"1331.27\" y=\"-241.8\" font-family=\"Times,serif\" font-size=\"14.00\">value = [0.0, 1.0]</text>\n",
       "<text text-anchor=\"middle\" x=\"1331.27\" y=\"-227.8\" font-family=\"Times,serif\" font-size=\"14.00\">class = True</text>\n",
       "</g>\n",
       "<!-- 15&#45;&gt;23 -->\n",
       "<g id=\"edge23\" class=\"edge\">\n",
       "<title>15&#45;&gt;23</title>\n",
       "<path fill=\"none\" stroke=\"black\" d=\"M1283.19,-327.77C1290.36,-316.77 1298.19,-304.75 1305.42,-293.66\"/>\n",
       "<polygon fill=\"black\" stroke=\"black\" points=\"1308.53,-295.3 1311.06,-285.01 1302.66,-291.48 1308.53,-295.3\"/>\n",
       "</g>\n",
       "<!-- 17 -->\n",
       "<g id=\"node18\" class=\"node\">\n",
       "<title>17</title>\n",
       "<polygon fill=\"#eb9e67\" stroke=\"black\" points=\"1176.31,-178 1036.23,-178 1036.23,-100 1176.31,-100 1176.31,-178\"/>\n",
       "<text text-anchor=\"middle\" x=\"1106.27\" y=\"-162.8\" font-family=\"Times,serif\" font-size=\"14.00\">beanType &lt;= 11.5</text>\n",
       "<text text-anchor=\"middle\" x=\"1106.27\" y=\"-148.8\" font-family=\"Times,serif\" font-size=\"14.00\">gini = 0.305</text>\n",
       "<text text-anchor=\"middle\" x=\"1106.27\" y=\"-134.8\" font-family=\"Times,serif\" font-size=\"14.00\">samples = 2.2%</text>\n",
       "<text text-anchor=\"middle\" x=\"1106.27\" y=\"-120.8\" font-family=\"Times,serif\" font-size=\"14.00\">value = [0.812, 0.188]</text>\n",
       "<text text-anchor=\"middle\" x=\"1106.27\" y=\"-106.8\" font-family=\"Times,serif\" font-size=\"14.00\">class = False</text>\n",
       "</g>\n",
       "<!-- 16&#45;&gt;17 -->\n",
       "<g id=\"edge17\" class=\"edge\">\n",
       "<title>16&#45;&gt;17</title>\n",
       "<path fill=\"none\" stroke=\"black\" d=\"M1158.96,-213.77C1152.65,-204.94 1145.88,-195.45 1139.35,-186.32\"/>\n",
       "<polygon fill=\"black\" stroke=\"black\" points=\"1142.11,-184.16 1133.45,-178.06 1136.42,-188.23 1142.11,-184.16\"/>\n",
       "</g>\n",
       "<!-- 20 -->\n",
       "<g id=\"node21\" class=\"node\">\n",
       "<title>20</title>\n",
       "<polygon fill=\"#e78a47\" stroke=\"black\" points=\"1335.31,-178 1195.23,-178 1195.23,-100 1335.31,-100 1335.31,-178\"/>\n",
       "<text text-anchor=\"middle\" x=\"1265.27\" y=\"-162.8\" font-family=\"Times,serif\" font-size=\"14.00\">broadOrigin &lt;= 28.5</text>\n",
       "<text text-anchor=\"middle\" x=\"1265.27\" y=\"-148.8\" font-family=\"Times,serif\" font-size=\"14.00\">gini = 0.125</text>\n",
       "<text text-anchor=\"middle\" x=\"1265.27\" y=\"-134.8\" font-family=\"Times,serif\" font-size=\"14.00\">samples = 21.8%</text>\n",
       "<text text-anchor=\"middle\" x=\"1265.27\" y=\"-120.8\" font-family=\"Times,serif\" font-size=\"14.00\">value = [0.933, 0.067]</text>\n",
       "<text text-anchor=\"middle\" x=\"1265.27\" y=\"-106.8\" font-family=\"Times,serif\" font-size=\"14.00\">class = False</text>\n",
       "</g>\n",
       "<!-- 16&#45;&gt;20 -->\n",
       "<g id=\"edge20\" class=\"edge\">\n",
       "<title>16&#45;&gt;20</title>\n",
       "<path fill=\"none\" stroke=\"black\" d=\"M1213.23,-213.77C1219.46,-204.94 1226.16,-195.45 1232.6,-186.32\"/>\n",
       "<polygon fill=\"black\" stroke=\"black\" points=\"1235.52,-188.25 1238.42,-178.06 1229.8,-184.21 1235.52,-188.25\"/>\n",
       "</g>\n",
       "<!-- 18 -->\n",
       "<g id=\"node19\" class=\"node\">\n",
       "<title>18</title>\n",
       "<polygon fill=\"#ea995f\" stroke=\"black\" points=\"1038.31,-64 898.23,-64 898.23,0 1038.31,0 1038.31,-64\"/>\n",
       "<text text-anchor=\"middle\" x=\"968.27\" y=\"-48.8\" font-family=\"Times,serif\" font-size=\"14.00\">gini = 0.271</text>\n",
       "<text text-anchor=\"middle\" x=\"968.27\" y=\"-34.8\" font-family=\"Times,serif\" font-size=\"14.00\">samples = 2.2%</text>\n",
       "<text text-anchor=\"middle\" x=\"968.27\" y=\"-20.8\" font-family=\"Times,serif\" font-size=\"14.00\">value = [0.839, 0.161]</text>\n",
       "<text text-anchor=\"middle\" x=\"968.27\" y=\"-6.8\" font-family=\"Times,serif\" font-size=\"14.00\">class = False</text>\n",
       "</g>\n",
       "<!-- 17&#45;&gt;18 -->\n",
       "<g id=\"edge18\" class=\"edge\">\n",
       "<title>17&#45;&gt;18</title>\n",
       "<path fill=\"none\" stroke=\"black\" d=\"M1056.06,-99.8C1043.41,-90.18 1029.86,-79.86 1017.28,-70.29\"/>\n",
       "<polygon fill=\"black\" stroke=\"black\" points=\"1019.24,-67.39 1009.17,-64.12 1015,-72.96 1019.24,-67.39\"/>\n",
       "</g>\n",
       "<!-- 19 -->\n",
       "<g id=\"node20\" class=\"node\">\n",
       "<title>19</title>\n",
       "<polygon fill=\"#399de5\" stroke=\"black\" points=\"1169.31,-64 1057.23,-64 1057.23,0 1169.31,0 1169.31,-64\"/>\n",
       "<text text-anchor=\"middle\" x=\"1113.27\" y=\"-48.8\" font-family=\"Times,serif\" font-size=\"14.00\">gini = 0.0</text>\n",
       "<text text-anchor=\"middle\" x=\"1113.27\" y=\"-34.8\" font-family=\"Times,serif\" font-size=\"14.00\">samples = 0.1%</text>\n",
       "<text text-anchor=\"middle\" x=\"1113.27\" y=\"-20.8\" font-family=\"Times,serif\" font-size=\"14.00\">value = [0.0, 1.0]</text>\n",
       "<text text-anchor=\"middle\" x=\"1113.27\" y=\"-6.8\" font-family=\"Times,serif\" font-size=\"14.00\">class = True</text>\n",
       "</g>\n",
       "<!-- 17&#45;&gt;19 -->\n",
       "<g id=\"edge19\" class=\"edge\">\n",
       "<title>17&#45;&gt;19</title>\n",
       "<path fill=\"none\" stroke=\"black\" d=\"M1108.82,-99.8C1109.37,-91.46 1109.96,-82.6 1110.52,-74.15\"/>\n",
       "<polygon fill=\"black\" stroke=\"black\" points=\"1114.02,-74.33 1111.19,-64.12 1107.04,-73.86 1114.02,-74.33\"/>\n",
       "</g>\n",
       "<!-- 21 -->\n",
       "<g id=\"node22\" class=\"node\">\n",
       "<title>21</title>\n",
       "<polygon fill=\"#e78b49\" stroke=\"black\" points=\"1328.31,-64 1188.23,-64 1188.23,0 1328.31,0 1328.31,-64\"/>\n",
       "<text text-anchor=\"middle\" x=\"1258.27\" y=\"-48.8\" font-family=\"Times,serif\" font-size=\"14.00\">gini = 0.141</text>\n",
       "<text text-anchor=\"middle\" x=\"1258.27\" y=\"-34.8\" font-family=\"Times,serif\" font-size=\"14.00\">samples = 19.2%</text>\n",
       "<text text-anchor=\"middle\" x=\"1258.27\" y=\"-20.8\" font-family=\"Times,serif\" font-size=\"14.00\">value = [0.924, 0.076]</text>\n",
       "<text text-anchor=\"middle\" x=\"1258.27\" y=\"-6.8\" font-family=\"Times,serif\" font-size=\"14.00\">class = False</text>\n",
       "</g>\n",
       "<!-- 20&#45;&gt;21 -->\n",
       "<g id=\"edge21\" class=\"edge\">\n",
       "<title>20&#45;&gt;21</title>\n",
       "<path fill=\"none\" stroke=\"black\" d=\"M1262.72,-99.8C1262.17,-91.46 1261.58,-82.6 1261.01,-74.15\"/>\n",
       "<polygon fill=\"black\" stroke=\"black\" points=\"1264.5,-73.86 1260.34,-64.12 1257.52,-74.33 1264.5,-73.86\"/>\n",
       "</g>\n",
       "<!-- 22 -->\n",
       "<g id=\"node23\" class=\"node\">\n",
       "<title>22</title>\n",
       "<polygon fill=\"#e58139\" stroke=\"black\" points=\"1459.31,-64 1347.23,-64 1347.23,0 1459.31,0 1459.31,-64\"/>\n",
       "<text text-anchor=\"middle\" x=\"1403.27\" y=\"-48.8\" font-family=\"Times,serif\" font-size=\"14.00\">gini = 0.0</text>\n",
       "<text text-anchor=\"middle\" x=\"1403.27\" y=\"-34.8\" font-family=\"Times,serif\" font-size=\"14.00\">samples = 2.6%</text>\n",
       "<text text-anchor=\"middle\" x=\"1403.27\" y=\"-20.8\" font-family=\"Times,serif\" font-size=\"14.00\">value = [1.0, 0.0]</text>\n",
       "<text text-anchor=\"middle\" x=\"1403.27\" y=\"-6.8\" font-family=\"Times,serif\" font-size=\"14.00\">class = False</text>\n",
       "</g>\n",
       "<!-- 20&#45;&gt;22 -->\n",
       "<g id=\"edge22\" class=\"edge\">\n",
       "<title>20&#45;&gt;22</title>\n",
       "<path fill=\"none\" stroke=\"black\" d=\"M1315.48,-99.8C1328.12,-90.18 1341.68,-79.86 1354.26,-70.29\"/>\n",
       "<polygon fill=\"black\" stroke=\"black\" points=\"1356.53,-72.96 1362.37,-64.12 1352.29,-67.39 1356.53,-72.96\"/>\n",
       "</g>\n",
       "<!-- 25 -->\n",
       "<g id=\"node26\" class=\"node\">\n",
       "<title>25</title>\n",
       "<polygon fill=\"#edaa7a\" stroke=\"black\" points=\"2098.31,-406 1958.23,-406 1958.23,-328 2098.31,-328 2098.31,-406\"/>\n",
       "<text text-anchor=\"middle\" x=\"2028.27\" y=\"-390.8\" font-family=\"Times,serif\" font-size=\"14.00\">cocoaPercent &lt;= 0.79</text>\n",
       "<text text-anchor=\"middle\" x=\"2028.27\" y=\"-376.8\" font-family=\"Times,serif\" font-size=\"14.00\">gini = 0.371</text>\n",
       "<text text-anchor=\"middle\" x=\"2028.27\" y=\"-362.8\" font-family=\"Times,serif\" font-size=\"14.00\">samples = 41.7%</text>\n",
       "<text text-anchor=\"middle\" x=\"2028.27\" y=\"-348.8\" font-family=\"Times,serif\" font-size=\"14.00\">value = [0.754, 0.246]</text>\n",
       "<text text-anchor=\"middle\" x=\"2028.27\" y=\"-334.8\" font-family=\"Times,serif\" font-size=\"14.00\">class = False</text>\n",
       "</g>\n",
       "<!-- 24&#45;&gt;25 -->\n",
       "<g id=\"edge25\" class=\"edge\">\n",
       "<title>24&#45;&gt;25</title>\n",
       "<path fill=\"none\" stroke=\"black\" d=\"M2028.27,-441.77C2028.27,-433.57 2028.27,-424.8 2028.27,-416.28\"/>\n",
       "<polygon fill=\"black\" stroke=\"black\" points=\"2031.77,-416.06 2028.27,-406.06 2024.77,-416.06 2031.77,-416.06\"/>\n",
       "</g>\n",
       "<!-- 38 -->\n",
       "<g id=\"node39\" class=\"node\">\n",
       "<title>38</title>\n",
       "<polygon fill=\"#e78946\" stroke=\"black\" points=\"2513.14,-406 2355.4,-406 2355.4,-328 2513.14,-328 2513.14,-406\"/>\n",
       "<text text-anchor=\"middle\" x=\"2434.27\" y=\"-390.8\" font-family=\"Times,serif\" font-size=\"14.00\">companyLocation &lt;= 1.5</text>\n",
       "<text text-anchor=\"middle\" x=\"2434.27\" y=\"-376.8\" font-family=\"Times,serif\" font-size=\"14.00\">gini = 0.116</text>\n",
       "<text text-anchor=\"middle\" x=\"2434.27\" y=\"-362.8\" font-family=\"Times,serif\" font-size=\"14.00\">samples = 5.6%</text>\n",
       "<text text-anchor=\"middle\" x=\"2434.27\" y=\"-348.8\" font-family=\"Times,serif\" font-size=\"14.00\">value = [0.938, 0.062]</text>\n",
       "<text text-anchor=\"middle\" x=\"2434.27\" y=\"-334.8\" font-family=\"Times,serif\" font-size=\"14.00\">class = False</text>\n",
       "</g>\n",
       "<!-- 24&#45;&gt;38 -->\n",
       "<g id=\"edge38\" class=\"edge\">\n",
       "<title>24&#45;&gt;38</title>\n",
       "<path fill=\"none\" stroke=\"black\" d=\"M2098.52,-460.62C2167.05,-441.71 2271.52,-412.9 2345.71,-392.43\"/>\n",
       "<polygon fill=\"black\" stroke=\"black\" points=\"2346.8,-395.76 2355.51,-389.73 2344.94,-389.01 2346.8,-395.76\"/>\n",
       "</g>\n",
       "<!-- 26 -->\n",
       "<g id=\"node27\" class=\"node\">\n",
       "<title>26</title>\n",
       "<polygon fill=\"#eeae80\" stroke=\"black\" points=\"1986.31,-292 1846.23,-292 1846.23,-214 1986.31,-214 1986.31,-292\"/>\n",
       "<text text-anchor=\"middle\" x=\"1916.27\" y=\"-276.8\" font-family=\"Times,serif\" font-size=\"14.00\">company &lt;= 7.0</text>\n",
       "<text text-anchor=\"middle\" x=\"1916.27\" y=\"-262.8\" font-family=\"Times,serif\" font-size=\"14.00\">gini = 0.388</text>\n",
       "<text text-anchor=\"middle\" x=\"1916.27\" y=\"-248.8\" font-family=\"Times,serif\" font-size=\"14.00\">samples = 37.8%</text>\n",
       "<text text-anchor=\"middle\" x=\"1916.27\" y=\"-234.8\" font-family=\"Times,serif\" font-size=\"14.00\">value = [0.736, 0.264]</text>\n",
       "<text text-anchor=\"middle\" x=\"1916.27\" y=\"-220.8\" font-family=\"Times,serif\" font-size=\"14.00\">class = False</text>\n",
       "</g>\n",
       "<!-- 25&#45;&gt;26 -->\n",
       "<g id=\"edge26\" class=\"edge\">\n",
       "<title>25&#45;&gt;26</title>\n",
       "<path fill=\"none\" stroke=\"black\" d=\"M1990.04,-327.77C1980.85,-318.58 1970.94,-308.68 1961.47,-299.2\"/>\n",
       "<polygon fill=\"black\" stroke=\"black\" points=\"1963.87,-296.65 1954.33,-292.06 1958.92,-301.6 1963.87,-296.65\"/>\n",
       "</g>\n",
       "<!-- 33 -->\n",
       "<g id=\"node34\" class=\"node\">\n",
       "<title>33</title>\n",
       "<polygon fill=\"#e78b48\" stroke=\"black\" points=\"2214.88,-292 2065.66,-292 2065.66,-214 2214.88,-214 2214.88,-292\"/>\n",
       "<text text-anchor=\"middle\" x=\"2140.27\" y=\"-276.8\" font-family=\"Times,serif\" font-size=\"14.00\">specificOrigin &lt;= 850.5</text>\n",
       "<text text-anchor=\"middle\" x=\"2140.27\" y=\"-262.8\" font-family=\"Times,serif\" font-size=\"14.00\">gini = 0.133</text>\n",
       "<text text-anchor=\"middle\" x=\"2140.27\" y=\"-248.8\" font-family=\"Times,serif\" font-size=\"14.00\">samples = 3.9%</text>\n",
       "<text text-anchor=\"middle\" x=\"2140.27\" y=\"-234.8\" font-family=\"Times,serif\" font-size=\"14.00\">value = [0.929, 0.071]</text>\n",
       "<text text-anchor=\"middle\" x=\"2140.27\" y=\"-220.8\" font-family=\"Times,serif\" font-size=\"14.00\">class = False</text>\n",
       "</g>\n",
       "<!-- 25&#45;&gt;33 -->\n",
       "<g id=\"edge33\" class=\"edge\">\n",
       "<title>25&#45;&gt;33</title>\n",
       "<path fill=\"none\" stroke=\"black\" d=\"M2066.5,-327.77C2075.69,-318.58 2085.59,-308.68 2095.07,-299.2\"/>\n",
       "<polygon fill=\"black\" stroke=\"black\" points=\"2097.61,-301.6 2102.21,-292.06 2092.66,-296.65 2097.61,-301.6\"/>\n",
       "</g>\n",
       "<!-- 27 -->\n",
       "<g id=\"node28\" class=\"node\">\n",
       "<title>27</title>\n",
       "<polygon fill=\"#e78946\" stroke=\"black\" points=\"1748.31,-178 1608.23,-178 1608.23,-100 1748.31,-100 1748.31,-178\"/>\n",
       "<text text-anchor=\"middle\" x=\"1678.27\" y=\"-162.8\" font-family=\"Times,serif\" font-size=\"14.00\">broadOrigin &lt;= 15.0</text>\n",
       "<text text-anchor=\"middle\" x=\"1678.27\" y=\"-148.8\" font-family=\"Times,serif\" font-size=\"14.00\">gini = 0.114</text>\n",
       "<text text-anchor=\"middle\" x=\"1678.27\" y=\"-134.8\" font-family=\"Times,serif\" font-size=\"14.00\">samples = 2.3%</text>\n",
       "<text text-anchor=\"middle\" x=\"1678.27\" y=\"-120.8\" font-family=\"Times,serif\" font-size=\"14.00\">value = [0.939, 0.061]</text>\n",
       "<text text-anchor=\"middle\" x=\"1678.27\" y=\"-106.8\" font-family=\"Times,serif\" font-size=\"14.00\">class = False</text>\n",
       "</g>\n",
       "<!-- 26&#45;&gt;27 -->\n",
       "<g id=\"edge27\" class=\"edge\">\n",
       "<title>26&#45;&gt;27</title>\n",
       "<path fill=\"none\" stroke=\"black\" d=\"M1846.15,-219C1818.43,-205.96 1786.44,-190.9 1757.86,-177.45\"/>\n",
       "<polygon fill=\"black\" stroke=\"black\" points=\"1759.25,-174.24 1748.71,-173.15 1756.27,-180.57 1759.25,-174.24\"/>\n",
       "</g>\n",
       "<!-- 30 -->\n",
       "<g id=\"node31\" class=\"node\">\n",
       "<title>30</title>\n",
       "<polygon fill=\"#efb185\" stroke=\"black\" points=\"1986.31,-178 1846.23,-178 1846.23,-100 1986.31,-100 1986.31,-178\"/>\n",
       "<text text-anchor=\"middle\" x=\"1916.27\" y=\"-162.8\" font-family=\"Times,serif\" font-size=\"14.00\">company &lt;= 32.5</text>\n",
       "<text text-anchor=\"middle\" x=\"1916.27\" y=\"-148.8\" font-family=\"Times,serif\" font-size=\"14.00\">gini = 0.401</text>\n",
       "<text text-anchor=\"middle\" x=\"1916.27\" y=\"-134.8\" font-family=\"Times,serif\" font-size=\"14.00\">samples = 35.5%</text>\n",
       "<text text-anchor=\"middle\" x=\"1916.27\" y=\"-120.8\" font-family=\"Times,serif\" font-size=\"14.00\">value = [0.723, 0.277]</text>\n",
       "<text text-anchor=\"middle\" x=\"1916.27\" y=\"-106.8\" font-family=\"Times,serif\" font-size=\"14.00\">class = False</text>\n",
       "</g>\n",
       "<!-- 26&#45;&gt;30 -->\n",
       "<g id=\"edge30\" class=\"edge\">\n",
       "<title>26&#45;&gt;30</title>\n",
       "<path fill=\"none\" stroke=\"black\" d=\"M1916.27,-213.77C1916.27,-205.57 1916.27,-196.8 1916.27,-188.28\"/>\n",
       "<polygon fill=\"black\" stroke=\"black\" points=\"1919.77,-188.06 1916.27,-178.06 1912.77,-188.06 1919.77,-188.06\"/>\n",
       "</g>\n",
       "<!-- 28 -->\n",
       "<g id=\"node29\" class=\"node\">\n",
       "<title>28</title>\n",
       "<polygon fill=\"#e58139\" stroke=\"black\" points=\"1590.31,-64 1478.23,-64 1478.23,0 1590.31,0 1590.31,-64\"/>\n",
       "<text text-anchor=\"middle\" x=\"1534.27\" y=\"-48.8\" font-family=\"Times,serif\" font-size=\"14.00\">gini = 0.0</text>\n",
       "<text text-anchor=\"middle\" x=\"1534.27\" y=\"-34.8\" font-family=\"Times,serif\" font-size=\"14.00\">samples = 1.0%</text>\n",
       "<text text-anchor=\"middle\" x=\"1534.27\" y=\"-20.8\" font-family=\"Times,serif\" font-size=\"14.00\">value = [1.0, 0.0]</text>\n",
       "<text text-anchor=\"middle\" x=\"1534.27\" y=\"-6.8\" font-family=\"Times,serif\" font-size=\"14.00\">class = False</text>\n",
       "</g>\n",
       "<!-- 27&#45;&gt;28 -->\n",
       "<g id=\"edge28\" class=\"edge\">\n",
       "<title>27&#45;&gt;28</title>\n",
       "<path fill=\"none\" stroke=\"black\" d=\"M1625.87,-99.8C1612.55,-90.08 1598.27,-79.67 1585.03,-70.01\"/>\n",
       "<polygon fill=\"black\" stroke=\"black\" points=\"1587.09,-67.18 1576.94,-64.12 1582.96,-72.84 1587.09,-67.18\"/>\n",
       "</g>\n",
       "<!-- 29 -->\n",
       "<g id=\"node30\" class=\"node\">\n",
       "<title>29</title>\n",
       "<polygon fill=\"#e89152\" stroke=\"black\" points=\"1747.78,-64 1608.76,-64 1608.76,0 1747.78,0 1747.78,-64\"/>\n",
       "<text text-anchor=\"middle\" x=\"1678.27\" y=\"-48.8\" font-family=\"Times,serif\" font-size=\"14.00\">gini = 0.198</text>\n",
       "<text text-anchor=\"middle\" x=\"1678.27\" y=\"-34.8\" font-family=\"Times,serif\" font-size=\"14.00\">samples = 1.3%</text>\n",
       "<text text-anchor=\"middle\" x=\"1678.27\" y=\"-20.8\" font-family=\"Times,serif\" font-size=\"14.00\">value = [0.889, 0.111]</text>\n",
       "<text text-anchor=\"middle\" x=\"1678.27\" y=\"-6.8\" font-family=\"Times,serif\" font-size=\"14.00\">class = False</text>\n",
       "</g>\n",
       "<!-- 27&#45;&gt;29 -->\n",
       "<g id=\"edge29\" class=\"edge\">\n",
       "<title>27&#45;&gt;29</title>\n",
       "<path fill=\"none\" stroke=\"black\" d=\"M1678.27,-99.8C1678.27,-91.46 1678.27,-82.6 1678.27,-74.15\"/>\n",
       "<polygon fill=\"black\" stroke=\"black\" points=\"1681.77,-74.12 1678.27,-64.12 1674.77,-74.12 1681.77,-74.12\"/>\n",
       "</g>\n",
       "<!-- 31 -->\n",
       "<g id=\"node32\" class=\"node\">\n",
       "<title>31</title>\n",
       "<polygon fill=\"#f6d3b9\" stroke=\"black\" points=\"1906.31,-64 1766.23,-64 1766.23,0 1906.31,0 1906.31,-64\"/>\n",
       "<text text-anchor=\"middle\" x=\"1836.27\" y=\"-48.8\" font-family=\"Times,serif\" font-size=\"14.00\">gini = 0.477</text>\n",
       "<text text-anchor=\"middle\" x=\"1836.27\" y=\"-34.8\" font-family=\"Times,serif\" font-size=\"14.00\">samples = 6.2%</text>\n",
       "<text text-anchor=\"middle\" x=\"1836.27\" y=\"-20.8\" font-family=\"Times,serif\" font-size=\"14.00\">value = [0.607, 0.393]</text>\n",
       "<text text-anchor=\"middle\" x=\"1836.27\" y=\"-6.8\" font-family=\"Times,serif\" font-size=\"14.00\">class = False</text>\n",
       "</g>\n",
       "<!-- 30&#45;&gt;31 -->\n",
       "<g id=\"edge31\" class=\"edge\">\n",
       "<title>30&#45;&gt;31</title>\n",
       "<path fill=\"none\" stroke=\"black\" d=\"M1887.16,-99.8C1880.32,-90.82 1873.02,-81.23 1866.14,-72.21\"/>\n",
       "<polygon fill=\"black\" stroke=\"black\" points=\"1868.82,-69.95 1859.98,-64.12 1863.25,-74.19 1868.82,-69.95\"/>\n",
       "</g>\n",
       "<!-- 32 -->\n",
       "<g id=\"node33\" class=\"node\">\n",
       "<title>32</title>\n",
       "<polygon fill=\"#eeac7c\" stroke=\"black\" points=\"2065.31,-64 1925.23,-64 1925.23,0 2065.31,0 2065.31,-64\"/>\n",
       "<text text-anchor=\"middle\" x=\"1995.27\" y=\"-48.8\" font-family=\"Times,serif\" font-size=\"14.00\">gini = 0.377</text>\n",
       "<text text-anchor=\"middle\" x=\"1995.27\" y=\"-34.8\" font-family=\"Times,serif\" font-size=\"14.00\">samples = 29.3%</text>\n",
       "<text text-anchor=\"middle\" x=\"1995.27\" y=\"-20.8\" font-family=\"Times,serif\" font-size=\"14.00\">value = [0.748, 0.252]</text>\n",
       "<text text-anchor=\"middle\" x=\"1995.27\" y=\"-6.8\" font-family=\"Times,serif\" font-size=\"14.00\">class = False</text>\n",
       "</g>\n",
       "<!-- 30&#45;&gt;32 -->\n",
       "<g id=\"edge32\" class=\"edge\">\n",
       "<title>30&#45;&gt;32</title>\n",
       "<path fill=\"none\" stroke=\"black\" d=\"M1945.01,-99.8C1951.77,-90.82 1958.98,-81.23 1965.77,-72.21\"/>\n",
       "<polygon fill=\"black\" stroke=\"black\" points=\"1968.64,-74.21 1971.86,-64.12 1963.05,-70 1968.64,-74.21\"/>\n",
       "</g>\n",
       "<!-- 34 -->\n",
       "<g id=\"node35\" class=\"node\">\n",
       "<title>34</title>\n",
       "<polygon fill=\"#e68844\" stroke=\"black\" points=\"2210.31,-178 2070.23,-178 2070.23,-100 2210.31,-100 2210.31,-178\"/>\n",
       "<text text-anchor=\"middle\" x=\"2140.27\" y=\"-162.8\" font-family=\"Times,serif\" font-size=\"14.00\">beanType &lt;= 8.0</text>\n",
       "<text text-anchor=\"middle\" x=\"2140.27\" y=\"-148.8\" font-family=\"Times,serif\" font-size=\"14.00\">gini = 0.103</text>\n",
       "<text text-anchor=\"middle\" x=\"2140.27\" y=\"-134.8\" font-family=\"Times,serif\" font-size=\"14.00\">samples = 3.8%</text>\n",
       "<text text-anchor=\"middle\" x=\"2140.27\" y=\"-120.8\" font-family=\"Times,serif\" font-size=\"14.00\">value = [0.945, 0.055]</text>\n",
       "<text text-anchor=\"middle\" x=\"2140.27\" y=\"-106.8\" font-family=\"Times,serif\" font-size=\"14.00\">class = False</text>\n",
       "</g>\n",
       "<!-- 33&#45;&gt;34 -->\n",
       "<g id=\"edge34\" class=\"edge\">\n",
       "<title>33&#45;&gt;34</title>\n",
       "<path fill=\"none\" stroke=\"black\" d=\"M2140.27,-213.77C2140.27,-205.57 2140.27,-196.8 2140.27,-188.28\"/>\n",
       "<polygon fill=\"black\" stroke=\"black\" points=\"2143.77,-188.06 2140.27,-178.06 2136.77,-188.06 2143.77,-188.06\"/>\n",
       "</g>\n",
       "<!-- 37 -->\n",
       "<g id=\"node38\" class=\"node\">\n",
       "<title>37</title>\n",
       "<polygon fill=\"#399de5\" stroke=\"black\" points=\"2341.31,-171 2229.23,-171 2229.23,-107 2341.31,-107 2341.31,-171\"/>\n",
       "<text text-anchor=\"middle\" x=\"2285.27\" y=\"-155.8\" font-family=\"Times,serif\" font-size=\"14.00\">gini = 0.0</text>\n",
       "<text text-anchor=\"middle\" x=\"2285.27\" y=\"-141.8\" font-family=\"Times,serif\" font-size=\"14.00\">samples = 0.1%</text>\n",
       "<text text-anchor=\"middle\" x=\"2285.27\" y=\"-127.8\" font-family=\"Times,serif\" font-size=\"14.00\">value = [0.0, 1.0]</text>\n",
       "<text text-anchor=\"middle\" x=\"2285.27\" y=\"-113.8\" font-family=\"Times,serif\" font-size=\"14.00\">class = True</text>\n",
       "</g>\n",
       "<!-- 33&#45;&gt;37 -->\n",
       "<g id=\"edge37\" class=\"edge\">\n",
       "<title>33&#45;&gt;37</title>\n",
       "<path fill=\"none\" stroke=\"black\" d=\"M2189.76,-213.77C2204.99,-202.01 2221.73,-189.08 2236.89,-177.37\"/>\n",
       "<polygon fill=\"black\" stroke=\"black\" points=\"2239.35,-179.89 2245.12,-171.01 2235.07,-174.35 2239.35,-179.89\"/>\n",
       "</g>\n",
       "<!-- 35 -->\n",
       "<g id=\"node36\" class=\"node\">\n",
       "<title>35</title>\n",
       "<polygon fill=\"#e6843d\" stroke=\"black\" points=\"2210.31,-64 2084.23,-64 2084.23,0 2210.31,0 2210.31,-64\"/>\n",
       "<text text-anchor=\"middle\" x=\"2147.27\" y=\"-48.8\" font-family=\"Times,serif\" font-size=\"14.00\">gini = 0.039</text>\n",
       "<text text-anchor=\"middle\" x=\"2147.27\" y=\"-34.8\" font-family=\"Times,serif\" font-size=\"14.00\">samples = 3.5%</text>\n",
       "<text text-anchor=\"middle\" x=\"2147.27\" y=\"-20.8\" font-family=\"Times,serif\" font-size=\"14.00\">value = [0.98, 0.02]</text>\n",
       "<text text-anchor=\"middle\" x=\"2147.27\" y=\"-6.8\" font-family=\"Times,serif\" font-size=\"14.00\">class = False</text>\n",
       "</g>\n",
       "<!-- 34&#45;&gt;35 -->\n",
       "<g id=\"edge35\" class=\"edge\">\n",
       "<title>34&#45;&gt;35</title>\n",
       "<path fill=\"none\" stroke=\"black\" d=\"M2142.82,-99.8C2143.37,-91.46 2143.96,-82.6 2144.52,-74.15\"/>\n",
       "<polygon fill=\"black\" stroke=\"black\" points=\"2148.02,-74.33 2145.19,-64.12 2141.04,-73.86 2148.02,-74.33\"/>\n",
       "</g>\n",
       "<!-- 36 -->\n",
       "<g id=\"node37\" class=\"node\">\n",
       "<title>36</title>\n",
       "<polygon fill=\"#f6d5bd\" stroke=\"black\" points=\"2341.31,-64 2229.23,-64 2229.23,0 2341.31,0 2341.31,-64\"/>\n",
       "<text text-anchor=\"middle\" x=\"2285.27\" y=\"-48.8\" font-family=\"Times,serif\" font-size=\"14.00\">gini = 0.48</text>\n",
       "<text text-anchor=\"middle\" x=\"2285.27\" y=\"-34.8\" font-family=\"Times,serif\" font-size=\"14.00\">samples = 0.3%</text>\n",
       "<text text-anchor=\"middle\" x=\"2285.27\" y=\"-20.8\" font-family=\"Times,serif\" font-size=\"14.00\">value = [0.6, 0.4]</text>\n",
       "<text text-anchor=\"middle\" x=\"2285.27\" y=\"-6.8\" font-family=\"Times,serif\" font-size=\"14.00\">class = False</text>\n",
       "</g>\n",
       "<!-- 34&#45;&gt;36 -->\n",
       "<g id=\"edge36\" class=\"edge\">\n",
       "<title>34&#45;&gt;36</title>\n",
       "<path fill=\"none\" stroke=\"black\" d=\"M2193.03,-99.8C2206.44,-90.08 2220.83,-79.67 2234.15,-70.01\"/>\n",
       "<polygon fill=\"black\" stroke=\"black\" points=\"2236.25,-72.82 2242.3,-64.12 2232.14,-67.15 2236.25,-72.82\"/>\n",
       "</g>\n",
       "<!-- 39 -->\n",
       "<g id=\"node40\" class=\"node\">\n",
       "<title>39</title>\n",
       "<polygon fill=\"#e99457\" stroke=\"black\" points=\"2506.68,-292 2361.86,-292 2361.86,-214 2506.68,-214 2506.68,-292\"/>\n",
       "<text text-anchor=\"middle\" x=\"2434.27\" y=\"-276.8\" font-family=\"Times,serif\" font-size=\"14.00\">cocoaPercent &lt;= 0.725</text>\n",
       "<text text-anchor=\"middle\" x=\"2434.27\" y=\"-262.8\" font-family=\"Times,serif\" font-size=\"14.00\">gini = 0.229</text>\n",
       "<text text-anchor=\"middle\" x=\"2434.27\" y=\"-248.8\" font-family=\"Times,serif\" font-size=\"14.00\">samples = 2.6%</text>\n",
       "<text text-anchor=\"middle\" x=\"2434.27\" y=\"-234.8\" font-family=\"Times,serif\" font-size=\"14.00\">value = [0.868, 0.132]</text>\n",
       "<text text-anchor=\"middle\" x=\"2434.27\" y=\"-220.8\" font-family=\"Times,serif\" font-size=\"14.00\">class = False</text>\n",
       "</g>\n",
       "<!-- 38&#45;&gt;39 -->\n",
       "<g id=\"edge39\" class=\"edge\">\n",
       "<title>38&#45;&gt;39</title>\n",
       "<path fill=\"none\" stroke=\"black\" d=\"M2434.27,-327.77C2434.27,-319.57 2434.27,-310.8 2434.27,-302.28\"/>\n",
       "<polygon fill=\"black\" stroke=\"black\" points=\"2437.77,-302.06 2434.27,-292.06 2430.77,-302.06 2437.77,-302.06\"/>\n",
       "</g>\n",
       "<!-- 44 -->\n",
       "<g id=\"node45\" class=\"node\">\n",
       "<title>44</title>\n",
       "<polygon fill=\"#e58139\" stroke=\"black\" points=\"2637.31,-285 2525.23,-285 2525.23,-221 2637.31,-221 2637.31,-285\"/>\n",
       "<text text-anchor=\"middle\" x=\"2581.27\" y=\"-269.8\" font-family=\"Times,serif\" font-size=\"14.00\">gini = 0.0</text>\n",
       "<text text-anchor=\"middle\" x=\"2581.27\" y=\"-255.8\" font-family=\"Times,serif\" font-size=\"14.00\">samples = 3.0%</text>\n",
       "<text text-anchor=\"middle\" x=\"2581.27\" y=\"-241.8\" font-family=\"Times,serif\" font-size=\"14.00\">value = [1.0, 0.0]</text>\n",
       "<text text-anchor=\"middle\" x=\"2581.27\" y=\"-227.8\" font-family=\"Times,serif\" font-size=\"14.00\">class = False</text>\n",
       "</g>\n",
       "<!-- 38&#45;&gt;44 -->\n",
       "<g id=\"edge44\" class=\"edge\">\n",
       "<title>38&#45;&gt;44</title>\n",
       "<path fill=\"none\" stroke=\"black\" d=\"M2484.45,-327.77C2499.89,-316.01 2516.86,-303.08 2532.22,-291.37\"/>\n",
       "<polygon fill=\"black\" stroke=\"black\" points=\"2534.73,-293.85 2540.57,-285.01 2530.49,-288.29 2534.73,-293.85\"/>\n",
       "</g>\n",
       "<!-- 40 -->\n",
       "<g id=\"node41\" class=\"node\">\n",
       "<title>40</title>\n",
       "<polygon fill=\"#eeab7b\" stroke=\"black\" points=\"2508.88,-178 2359.66,-178 2359.66,-100 2508.88,-100 2508.88,-178\"/>\n",
       "<text text-anchor=\"middle\" x=\"2434.27\" y=\"-162.8\" font-family=\"Times,serif\" font-size=\"14.00\">specificOrigin &lt;= 526.0</text>\n",
       "<text text-anchor=\"middle\" x=\"2434.27\" y=\"-148.8\" font-family=\"Times,serif\" font-size=\"14.00\">gini = 0.375</text>\n",
       "<text text-anchor=\"middle\" x=\"2434.27\" y=\"-134.8\" font-family=\"Times,serif\" font-size=\"14.00\">samples = 1.4%</text>\n",
       "<text text-anchor=\"middle\" x=\"2434.27\" y=\"-120.8\" font-family=\"Times,serif\" font-size=\"14.00\">value = [0.75, 0.25]</text>\n",
       "<text text-anchor=\"middle\" x=\"2434.27\" y=\"-106.8\" font-family=\"Times,serif\" font-size=\"14.00\">class = False</text>\n",
       "</g>\n",
       "<!-- 39&#45;&gt;40 -->\n",
       "<g id=\"edge40\" class=\"edge\">\n",
       "<title>39&#45;&gt;40</title>\n",
       "<path fill=\"none\" stroke=\"black\" d=\"M2434.27,-213.77C2434.27,-205.57 2434.27,-196.8 2434.27,-188.28\"/>\n",
       "<polygon fill=\"black\" stroke=\"black\" points=\"2437.77,-188.06 2434.27,-178.06 2430.77,-188.06 2437.77,-188.06\"/>\n",
       "</g>\n",
       "<!-- 43 -->\n",
       "<g id=\"node44\" class=\"node\">\n",
       "<title>43</title>\n",
       "<polygon fill=\"#e58139\" stroke=\"black\" points=\"2639.31,-171 2527.23,-171 2527.23,-107 2639.31,-107 2639.31,-171\"/>\n",
       "<text text-anchor=\"middle\" x=\"2583.27\" y=\"-155.8\" font-family=\"Times,serif\" font-size=\"14.00\">gini = 0.0</text>\n",
       "<text text-anchor=\"middle\" x=\"2583.27\" y=\"-141.8\" font-family=\"Times,serif\" font-size=\"14.00\">samples = 1.3%</text>\n",
       "<text text-anchor=\"middle\" x=\"2583.27\" y=\"-127.8\" font-family=\"Times,serif\" font-size=\"14.00\">value = [1.0, 0.0]</text>\n",
       "<text text-anchor=\"middle\" x=\"2583.27\" y=\"-113.8\" font-family=\"Times,serif\" font-size=\"14.00\">class = False</text>\n",
       "</g>\n",
       "<!-- 39&#45;&gt;43 -->\n",
       "<g id=\"edge43\" class=\"edge\">\n",
       "<title>39&#45;&gt;43</title>\n",
       "<path fill=\"none\" stroke=\"black\" d=\"M2485.13,-213.77C2500.92,-201.9 2518.3,-188.84 2533.98,-177.05\"/>\n",
       "<polygon fill=\"black\" stroke=\"black\" points=\"2536.12,-179.82 2542.01,-171.01 2531.92,-174.22 2536.12,-179.82\"/>\n",
       "</g>\n",
       "<!-- 41 -->\n",
       "<g id=\"node42\" class=\"node\">\n",
       "<title>41</title>\n",
       "<polygon fill=\"#e58139\" stroke=\"black\" points=\"2484.31,-64 2372.23,-64 2372.23,0 2484.31,0 2484.31,-64\"/>\n",
       "<text text-anchor=\"middle\" x=\"2428.27\" y=\"-48.8\" font-family=\"Times,serif\" font-size=\"14.00\">gini = 0.0</text>\n",
       "<text text-anchor=\"middle\" x=\"2428.27\" y=\"-34.8\" font-family=\"Times,serif\" font-size=\"14.00\">samples = 0.5%</text>\n",
       "<text text-anchor=\"middle\" x=\"2428.27\" y=\"-20.8\" font-family=\"Times,serif\" font-size=\"14.00\">value = [1.0, 0.0]</text>\n",
       "<text text-anchor=\"middle\" x=\"2428.27\" y=\"-6.8\" font-family=\"Times,serif\" font-size=\"14.00\">class = False</text>\n",
       "</g>\n",
       "<!-- 40&#45;&gt;41 -->\n",
       "<g id=\"edge41\" class=\"edge\">\n",
       "<title>40&#45;&gt;41</title>\n",
       "<path fill=\"none\" stroke=\"black\" d=\"M2432.09,-99.8C2431.61,-91.46 2431.1,-82.6 2430.62,-74.15\"/>\n",
       "<polygon fill=\"black\" stroke=\"black\" points=\"2434.11,-73.9 2430.05,-64.12 2427.12,-74.3 2434.11,-73.9\"/>\n",
       "</g>\n",
       "<!-- 42 -->\n",
       "<g id=\"node43\" class=\"node\">\n",
       "<title>42</title>\n",
       "<polygon fill=\"#f5d0b5\" stroke=\"black\" points=\"2643.31,-64 2503.23,-64 2503.23,0 2643.31,0 2643.31,-64\"/>\n",
       "<text text-anchor=\"middle\" x=\"2573.27\" y=\"-48.8\" font-family=\"Times,serif\" font-size=\"14.00\">gini = 0.473</text>\n",
       "<text text-anchor=\"middle\" x=\"2573.27\" y=\"-34.8\" font-family=\"Times,serif\" font-size=\"14.00\">samples = 0.9%</text>\n",
       "<text text-anchor=\"middle\" x=\"2573.27\" y=\"-20.8\" font-family=\"Times,serif\" font-size=\"14.00\">value = [0.615, 0.385]</text>\n",
       "<text text-anchor=\"middle\" x=\"2573.27\" y=\"-6.8\" font-family=\"Times,serif\" font-size=\"14.00\">class = False</text>\n",
       "</g>\n",
       "<!-- 40&#45;&gt;42 -->\n",
       "<g id=\"edge42\" class=\"edge\">\n",
       "<title>40&#45;&gt;42</title>\n",
       "<path fill=\"none\" stroke=\"black\" d=\"M2484.84,-99.8C2497.58,-90.18 2511.23,-79.86 2523.91,-70.29\"/>\n",
       "<polygon fill=\"black\" stroke=\"black\" points=\"2526.21,-72.94 2532.08,-64.12 2521.99,-67.35 2526.21,-72.94\"/>\n",
       "</g>\n",
       "</g>\n",
       "</svg>\n"
      ],
      "text/plain": [
       "<graphviz.files.Source at 0x7ff164832410>"
      ]
     },
     "execution_count": 23,
     "metadata": {},
     "output_type": "execute_result"
    }
   ],
   "source": [
    "tree = pipe.named_steps['decisiontreeclassifier']\n",
    "\n",
    "dot_data = export_graphviz(\n",
    "    tree, \n",
    "    feature_names=X_train.columns, \n",
    "    class_names=y_train.unique().astype(str), \n",
    "    filled=True, \n",
    "    proportion=True\n",
    ")\n",
    "\n",
    "graphviz.Source(dot_data)"
   ]
  },
  {
   "cell_type": "markdown",
   "metadata": {},
   "source": [
    "### 문제에 적합한 평가지표를 선택해야 합니다."
   ]
  },
  {
   "cell_type": "markdown",
   "metadata": {},
   "source": [
    "여러분이 만든 예측모델을 어떻게 평가해야 할까요? 그것은 문제의 상황에 따라 다를것 입니다.\n",
    "특히 **분류 & 회귀 모델의 평가지표는 완전히 다릅니다!**\n",
    "\n",
    "- [Scikit-learn metrics](https://scikit-learn.org/stable/modules/model_evaluation.html#common-cases-predefined-values)\n",
    "- [분류(classification) metrics](https://scikit-learn.org/stable/modules/model_evaluation.html#classification-metrics)\n",
    "- [회귀(regression) metrics](https://scikit-learn.org/stable/modules/model_evaluation.html#regression-metrics)\n",
    "\n"
   ]
  },
  {
   "cell_type": "markdown",
   "metadata": {},
   "source": [
    "분류문제에서 타겟 클래스비율이 70% 이상 차이날 경우에는 정확도만 사용하면 판단을 정확히 할 수 없습니다. \n",
    "\n",
    "**정밀도, 재현율, ROC curve, AUC** 등을 같이 사용하여야 합니다."
   ]
  },
  {
   "cell_type": "code",
   "execution_count": 24,
   "metadata": {},
   "outputs": [
    {
     "data": {
      "text/plain": [
       "Text(0.5, 1.0, 'Confusion matrix, n = 359')"
      ]
     },
     "execution_count": 24,
     "metadata": {},
     "output_type": "execute_result"
    },
    {
     "data": {
      "image/png": "[encoded data removed]",
      "text/plain": [
       "<Figure size 432x288 with 2 Axes>"
      ]
     },
     "metadata": {
      "needs_background": "light"
     },
     "output_type": "display_data"
    }
   ],
   "source": [
    "from sklearn.metrics import plot_confusion_matrix\n",
    "import matplotlib.pyplot as plt\n",
    "\n",
    "fig, ax = plt.subplots()\n",
    "pcm = plot_confusion_matrix(pipe, X_val, y_val,\n",
    "                            cmap=plt.cm.Blues,\n",
    "                            ax=ax);\n",
    "plt.title(f'Confusion matrix, n = {len(y_val)}', fontsize=15)"
   ]
  },
  {
   "cell_type": "code",
   "execution_count": 25,
   "metadata": {
    "colab": {
     "base_uri": "https://localhost:8080/",
     "height": 35
    },
    "colab_type": "code",
    "id": "t8Cjxzrwn_iL",
    "outputId": "13db338d-2c62-402b-ef4d-43816accddff"
   },
   "outputs": [
    {
     "name": "stdout",
     "output_type": "stream",
     "text": [
      "검증 정확도 0.83008356545961\n"
     ]
    }
   ],
   "source": [
    "pipe = make_pipeline(\n",
    "    OrdinalEncoder(), \n",
    "    DecisionTreeClassifier(max_depth=5, random_state=2)\n",
    ")\n",
    "\n",
    "pipe.fit(X_train, y_train)\n",
    "print('검증 정확도', pipe.score(X_val, y_val))"
   ]
  },
  {
   "cell_type": "code",
   "execution_count": 26,
   "metadata": {},
   "outputs": [
    {
     "name": "stdout",
     "output_type": "stream",
     "text": [
      "              precision    recall  f1-score   support\n",
      "\n",
      "       False       0.84      0.98      0.91       302\n",
      "        True       0.17      0.02      0.03        57\n",
      "\n",
      "    accuracy                           0.83       359\n",
      "   macro avg       0.50      0.50      0.47       359\n",
      "weighted avg       0.73      0.83      0.77       359\n",
      "\n"
     ]
    }
   ],
   "source": [
    "from sklearn.metrics import classification_report\n",
    "y_pred = pipe.predict(X_val)\n",
    "print(classification_report(y_val, y_pred))"
   ]
  },
  {
   "cell_type": "code",
   "execution_count": 27,
   "metadata": {},
   "outputs": [
    {
     "name": "stdout",
     "output_type": "stream",
     "text": [
      "AUC score:  0.5991634715928895\n"
     ]
    }
   ],
   "source": [
    "from sklearn.metrics import roc_auc_score\n",
    "\n",
    "y_pred_proba = pipe.predict_proba(X_val)[:, -1]\n",
    "print('AUC score: ', roc_auc_score(y_val, y_pred_proba))"
   ]
  },
  {
   "cell_type": "code",
   "execution_count": 28,
   "metadata": {},
   "outputs": [
    {
     "data": {
      "text/plain": [
       "Text(0, 0.5, 'TPR')"
      ]
     },
     "execution_count": 28,
     "metadata": {},
     "output_type": "execute_result"
    },
    {
     "data": {
      "image/png": "[encoded data removed]",
      "text/plain": [
       "<Figure size 432x288 with 1 Axes>"
      ]
     },
     "metadata": {
      "needs_background": "light"
     },
     "output_type": "display_data"
    }
   ],
   "source": [
    "from sklearn.metrics import roc_curve\n",
    "import matplotlib.pyplot as plt\n",
    "\n",
    "fpr, tpr, thresholds = roc_curve(y_val, y_pred_proba)\n",
    "\n",
    "plt.scatter(fpr, tpr, color='blue')\n",
    "plt.plot(fpr, tpr, color='green')\n",
    "plt.title('ROC curve')\n",
    "plt.xlabel('FPR')\n",
    "plt.ylabel('TPR')"
   ]
  },
  {
   "cell_type": "markdown",
   "metadata": {},
   "source": [
    "### 불균형 클래스\n",
    "\n",
    "타겟 특성의 클래스 비율이 차이가 많이 날 경우가 많습니다.\n",
    "\n",
    "- 대부분 scikit-learn 분류기들은 `class_weight` 와 같은 클래스의 밸런스를 맞추는 파라미터를 가지고 있습니다.\n",
    "1. 데이터가 적은 범주 데이터의 손실을 계산할 때 가중치를 더 곱하여 데이터의 균형을 맞추거나\n",
    "2. 적은 범주 데이터를 추가샘플링(oversampling)하거나 반대로 많은 범주 데이터를 적게 샘플링(undersampling)하는 방법이 있습니다.\n",
    "\n",
    "\n",
    "[Handling Imbalanced Datasets in Deep Learning](https://towardsdatascience.com/handling-imbalanced-datasets-in-deep-learning-f48407a0e758)"
   ]
  },
  {
   "cell_type": "markdown",
   "metadata": {},
   "source": [
    "#### 범주의 비율을 확인합니다.\n",
    "`class_weight`에서 원하는 비율을 적용하거나 `class_weight='balance'` 옵션을 사용합니다."
   ]
  },
  {
   "cell_type": "code",
   "execution_count": 29,
   "metadata": {},
   "outputs": [
    {
     "data": {
      "text/plain": [
       "False    0.824268\n",
       "True     0.175732\n",
       "Name: recommend, dtype: float64"
      ]
     },
     "execution_count": 29,
     "metadata": {},
     "output_type": "execute_result"
    }
   ],
   "source": [
    "y_train.value_counts(normalize=True)"
   ]
  },
  {
   "cell_type": "code",
   "execution_count": 30,
   "metadata": {},
   "outputs": [
    {
     "data": {
      "text/plain": [
       "array([0.60659898, 2.8452381 ])"
      ]
     },
     "execution_count": 30,
     "metadata": {},
     "output_type": "execute_result"
    }
   ],
   "source": [
    "# class weights 계산\n",
    "# n_samples / (n_classes * np.bincount(y))\n",
    "custom = len(y_train)/(2*np.bincount(y_train))\n",
    "custom"
   ]
  },
  {
   "cell_type": "code",
   "execution_count": 36,
   "metadata": {
    "colab": {
     "base_uri": "https://localhost:8080/",
     "height": 35
    },
    "colab_type": "code",
    "id": "t8Cjxzrwn_iL",
    "outputId": "13db338d-2c62-402b-ef4d-43816accddff"
   },
   "outputs": [
    {
     "name": "stdout",
     "output_type": "stream",
     "text": [
      "검증 정확도:  0.584958217270195\n"
     ]
    }
   ],
   "source": [
    "# 파이프라인을 만들어 봅시다.\n",
    "pipe = make_pipeline(\n",
    "    OrdinalEncoder(), \n",
    "#     DecisionTreeClassifier(max_depth=5, class_weight='balanced', random_state=2)\n",
    "    DecisionTreeClassifier(max_depth=5, class_weight={False:custom[0],True:custom[1]}, random_state=2)\n",
    ")\n",
    "\n",
    "\n",
    "pipe.fit(X_train, y_train)\n",
    "print('검증 정확도: ', pipe.score(X_val, y_val))"
   ]
  },
  {
   "cell_type": "code",
   "execution_count": 37,
   "metadata": {},
   "outputs": [
    {
     "data": {
      "text/plain": [
       "Text(0.5, 1.0, 'Confusion matrix, n = 359')"
      ]
     },
     "execution_count": 37,
     "metadata": {},
     "output_type": "execute_result"
    },
    {
     "data": {
      "image/png": "[encoded data removed]",
      "text/plain": [
       "<Figure size 432x288 with 2 Axes>"
      ]
     },
     "metadata": {
      "needs_background": "light"
     },
     "output_type": "display_data"
    }
   ],
   "source": [
    "fig, ax = plt.subplots()\n",
    "pcm = plot_confusion_matrix(pipe, X_val, y_val,\n",
    "                            cmap=plt.cm.Blues,\n",
    "                            ax=ax);\n",
    "plt.title(f'Confusion matrix, n = {len(y_val)}', fontsize=15)"
   ]
  },
  {
   "cell_type": "markdown",
   "metadata": {},
   "source": [
    "#### True 범주의 수치를 비교해 보세요"
   ]
  },
  {
   "cell_type": "code",
   "execution_count": 38,
   "metadata": {},
   "outputs": [
    {
     "name": "stdout",
     "output_type": "stream",
     "text": [
      "              precision    recall  f1-score   support\n",
      "\n",
      "       False       0.86      0.60      0.71       302\n",
      "        True       0.19      0.49      0.27        57\n",
      "\n",
      "    accuracy                           0.58       359\n",
      "   macro avg       0.53      0.55      0.49       359\n",
      "weighted avg       0.76      0.58      0.64       359\n",
      "\n"
     ]
    }
   ],
   "source": [
    "y_pred = pipe.predict(X_val)\n",
    "print(classification_report(y_val, y_pred))"
   ]
  },
  {
   "cell_type": "code",
   "execution_count": 39,
   "metadata": {},
   "outputs": [
    {
     "name": "stdout",
     "output_type": "stream",
     "text": [
      "AUC score:  0.624056000929476\n"
     ]
    },
    {
     "data": {
      "text/plain": [
       "Text(0, 0.5, 'TPR')"
      ]
     },
     "execution_count": 39,
     "metadata": {},
     "output_type": "execute_result"
    },
    {
     "data": {
      "image/png": "[encoded data removed]",
      "text/plain": [
       "<Figure size 432x288 with 1 Axes>"
      ]
     },
     "metadata": {
      "needs_background": "light"
     },
     "output_type": "display_data"
    }
   ],
   "source": [
    "y_pred_proba = pipe.predict_proba(X_val)[:, -1]\n",
    "print('AUC score: ', roc_auc_score(y_val, y_pred_proba))\n",
    "fpr, tpr, thresholds = roc_curve(y_val, y_pred_proba)\n",
    "plt.scatter(fpr, tpr, color='blue')\n",
    "plt.plot(fpr, tpr, color='green')\n",
    "plt.title('ROC curve')\n",
    "plt.xlabel('FPR')\n",
    "plt.ylabel('TPR')"
   ]
  },
  {
   "cell_type": "markdown",
   "metadata": {},
   "source": [
    "## 회귀문제에서는 타겟의 분포를 주의깊게 살펴보아야 합니다."
   ]
  },
  {
   "cell_type": "code",
   "execution_count": 40,
   "metadata": {
    "lines_to_next_cell": 2
   },
   "outputs": [],
   "source": [
    "# house price 데이터를 사용합니다.\n",
    "df = pd.read_csv('https://ds-lecture-data.s3.ap-northeast-2.amazonaws.com/house-prices/house_prices_train.csv')"
   ]
  },
  {
   "cell_type": "markdown",
   "metadata": {},
   "source": [
    "### 타겟을 정합니다\n",
    "어떤 특성을 예측할 예정입니까?\n"
   ]
  },
  {
   "cell_type": "code",
   "execution_count": 41,
   "metadata": {
    "lines_to_next_cell": 2
   },
   "outputs": [],
   "source": [
    "target = df['SalePrice']"
   ]
  },
  {
   "cell_type": "markdown",
   "metadata": {},
   "source": [
    "### 타겟의 분포를 살펴봅시다\n",
    "회귀분석에서는 타겟 분포가 비대칭 형태인지 확인해 보세요.\n",
    "\n",
    "선형 회귀 모델은 \n",
    "- 일반적으로 특성과 타겟간에 선형관계를 가정합니다. \n",
    "- 그리고 특성 변수들과 타겟변수의 분포가 정규분포 형태일때 좋은 성능을 보입니다. \n",
    "\n",
    "특히 타겟변수가 왜곡된 형태의 분포(skewed)일 경우 예측 성능에 부정적인 영향을 미칩니다.\n",
    "\n",
    "<img src=\"https://www.researchgate.net/profile/Marco_Faria/publication/294890337/figure/fig5/AS:668873900716049@1536483373457/a-Negative-skewness-b-Normal-curve-c-Positive-skewness-Durkhure-and-Lodwal-2014.ppm\" />"
   ]
  },
  {
   "cell_type": "code",
   "execution_count": 42,
   "metadata": {
    "lines_to_next_cell": 2
   },
   "outputs": [
    {
     "data": {
      "image/png": "[encoded data removed]",
      "text/plain": [
       "<Figure size 360x360 with 1 Axes>"
      ]
     },
     "metadata": {
      "needs_background": "light"
     },
     "output_type": "display_data"
    }
   ],
   "source": [
    "# 타겟 분포가 right(positively) skewed 되어 있네요!\n",
    "sns.displot(target);"
   ]
  },
  {
   "cell_type": "markdown",
   "metadata": {},
   "source": [
    "### 이상치가 포함되어 있나요?\n",
    "이상치를 제거할까요??"
   ]
  },
  {
   "cell_type": "code",
   "execution_count": 43,
   "metadata": {
    "lines_to_next_cell": 2
   },
   "outputs": [],
   "source": [
    "## 몇몇 가격이나 다른 수치들은 은 너무 높아 문제가 될 수 있습니다. \n",
    "import numpy as np\n",
    "\n",
    "## 타겟 이상치(outlier)를 제거합니다.\n",
    "df['SalePrice'] = df[df['SalePrice'] < np.percentile(df['SalePrice'], 99.5)]['SalePrice']\n",
    "\n",
    "## 몇몇 변수를 합치고 이상치를 제거합니다.\n",
    "df['All_Flr_SF'] = df['1stFlrSF'] + df['2ndFlrSF']\n",
    "df['All_Liv_SF'] = df['All_Flr_SF'] + df['LowQualFinSF'] + df['GrLivArea']\n",
    "df = df.drop(['1stFlrSF','2ndFlrSF','LowQualFinSF','GrLivArea'], axis=1)\n",
    "\n",
    "df['All_Flr_SF'] = df[df['All_Flr_SF'] < np.percentile(df['All_Flr_SF'], 99.5)]['All_Flr_SF']\n",
    "df['All_Liv_SF'] = df[df['All_Liv_SF'] < np.percentile(df['All_Liv_SF'], 99.5)]['All_Liv_SF']\n"
   ]
  },
  {
   "cell_type": "code",
   "execution_count": 44,
   "metadata": {},
   "outputs": [
    {
     "data": {
      "text/plain": [
       "0       208500.0\n",
       "1       181500.0\n",
       "2       223500.0\n",
       "3       140000.0\n",
       "4       250000.0\n",
       "          ...   \n",
       "1455    175000.0\n",
       "1456    210000.0\n",
       "1457    266500.0\n",
       "1458    142125.0\n",
       "1459    147500.0\n",
       "Name: SalePrice, Length: 1460, dtype: float64"
      ]
     },
     "execution_count": 44,
     "metadata": {},
     "output_type": "execute_result"
    }
   ],
   "source": [
    "df['SalePrice']"
   ]
  },
  {
   "cell_type": "code",
   "execution_count": 45,
   "metadata": {},
   "outputs": [
    {
     "data": {
      "image/png": "[encoded data removed]",
      "text/plain": [
       "<Figure size 360x360 with 1 Axes>"
      ]
     },
     "metadata": {
      "needs_background": "light"
     },
     "output_type": "display_data"
    }
   ],
   "source": [
    "# 분포의 치우침이 어느정도 개선은 되었지만 여전히 right-skewed 상태입니다.\n",
    "target = df['SalePrice']\n",
    "sns.displot(target);"
   ]
  },
  {
   "cell_type": "markdown",
   "metadata": {},
   "source": [
    "### 로그변환(Log-Transform)\n",
    "\n",
    "타겟이 right-skewed 상태라면 로그변환을 사용해 보세요. 비대칭 분포형태를 정규분포형태로 변환시켜줍니다.\n",
    "\n",
    "<img src=\"https://www.researchgate.net/profile/Matthieu_Komorowski4/publication/308022342/figure/fig3/AS:405548043390978@1473701596576/Example-of-the-effect-of-a-log-transformation-on-the-distribution-of-the-dataset.png\" width=\"600\" />\n",
    "\n",
    "\n",
    "- [log1p](https://numpy.org/doc/stable/reference/generated/numpy.log1p.html): `ln(1 + x)`\n",
    "- [expm1](https://numpy.org/doc/stable/reference/generated/numpy.expm1.html#numpy.expm1): `exp(x) - 1`, the inverse of log1p."
   ]
  },
  {
   "cell_type": "code",
   "execution_count": 46,
   "metadata": {},
   "outputs": [
    {
     "data": {
      "image/png": "[encoded data removed]",
      "text/plain": [
       "<Figure size 1080x360 with 3 Axes>"
      ]
     },
     "metadata": {
      "needs_background": "light"
     },
     "output_type": "display_data"
    }
   ],
   "source": [
    "plots=pd.DataFrame()\n",
    "plots['original']=target\n",
    "plots['transformed']=np.log1p(target)\n",
    "plots['backToOriginal']=np.expm1(np.log1p(target))\n",
    "\n",
    "fig, ax = plt.subplots(1,3,figsize=(15,5))\n",
    "sns.histplot(plots['original'], ax=ax[0]);\n",
    "sns.histplot(plots['transformed'], ax=ax[1]);\n",
    "sns.histplot(plots['backToOriginal'], ax=ax[2]);"
   ]
  },
  {
   "cell_type": "markdown",
   "metadata": {},
   "source": [
    "#### TransformedTargetRegressor"
   ]
  },
  {
   "cell_type": "code",
   "execution_count": 47,
   "metadata": {},
   "outputs": [],
   "source": [
    "target = 'SalePrice'\n",
    "from sklearn.model_selection import train_test_split\n",
    "\n",
    "df = df[df[target].notna()]\n",
    "\n",
    "train, val = train_test_split(df, test_size=260, random_state=2)\n",
    "\n",
    "features = train.drop(columns=[target]).columns\n",
    "\n",
    "X_train = train[features]\n",
    "y_train = train[target]\n",
    "X_val = val[features]\n",
    "y_val = val[target]"
   ]
  },
  {
   "cell_type": "code",
   "execution_count": 48,
   "metadata": {},
   "outputs": [
    {
     "data": {
      "text/plain": [
       "0.8853294698484703"
      ]
     },
     "execution_count": 48,
     "metadata": {},
     "output_type": "execute_result"
    }
   ],
   "source": [
    "from category_encoders import OrdinalEncoder\n",
    "from sklearn.impute import SimpleImputer\n",
    "from sklearn.ensemble import RandomForestRegressor\n",
    "from sklearn.compose import TransformedTargetRegressor\n",
    "\n",
    "pipe = make_pipeline(\n",
    "    OrdinalEncoder(), \n",
    "    SimpleImputer(),\n",
    "    RandomForestRegressor(random_state=2)\n",
    ")\n",
    "\n",
    "\n",
    "pipe.fit(X_train, y_train)\n",
    "pipe.score(X_val, y_val)"
   ]
  },
  {
   "cell_type": "code",
   "execution_count": 49,
   "metadata": {},
   "outputs": [
    {
     "data": {
      "text/plain": [
       "0.8886126974296943"
      ]
     },
     "execution_count": 49,
     "metadata": {},
     "output_type": "execute_result"
    }
   ],
   "source": [
    "from category_encoders import OrdinalEncoder\n",
    "from sklearn.impute import SimpleImputer\n",
    "from sklearn.ensemble import RandomForestRegressor\n",
    "from sklearn.compose import TransformedTargetRegressor\n",
    "\n",
    "pipe = make_pipeline(\n",
    "    OrdinalEncoder(), \n",
    "    SimpleImputer(),\n",
    "    RandomForestRegressor(random_state=2)\n",
    ")\n",
    "\n",
    "tt = TransformedTargetRegressor(regressor=pipe,\n",
    "                                func=np.log1p, inverse_func=np.expm1)\n",
    "\n",
    "tt.fit(X_train, y_train)\n",
    "tt.score(X_val, y_val)"
   ]
  },
  {
   "cell_type": "markdown",
   "metadata": {},
   "source": [
    "## 참고자료\n",
    "- [How to create a good validation set](https://www.fast.ai/2017/11/13/validation-sets/)\n",
    "- [Learning from Imbalanced Classes](https://www.svds.com/tbt-learning-imbalanced-classes/)\n",
    "- [Top 3 Methods for Handling Skewed Data](https://towardsdatascience.com/top-3-methods-for-handling-skewed-data-1334e0debf45)\n",
    "- [Handling Imbalanced Datasets in Deep Learning](https://towardsdatascience.com/handling-imbalanced-datasets-in-deep-learning-f48407a0e758)\n",
    "- [Basic Intuition about Skewness](https://www.kaggle.com/getting-started/176174)"
   ]
  }
 ],
 "metadata": {
  "kernelspec": {
   "display_name": "Python 3",
   "language": "python",
   "name": "python3"
  },
  "language_info": {
   "codemirror_mode": {
    "name": "ipython",
    "version": 3
   },
   "file_extension": ".py",
   "mimetype": "text/x-python",
   "name": "python",
   "nbconvert_exporter": "python",
   "pygments_lexer": "ipython3",
   "version": "3.7.7"
  }
 },
 "nbformat": 4,
 "nbformat_minor": 4
}
