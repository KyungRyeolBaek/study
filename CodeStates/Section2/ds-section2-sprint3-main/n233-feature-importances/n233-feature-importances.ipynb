{
 "cells": [
  {
   "cell_type": "markdown",
   "metadata": {
    "colab_type": "text",
    "id": "U2ha9OWxf0jw"
   },
   "source": [
    "<img align=\"right\" src=\"https://ds-cs-images.s3.ap-northeast-2.amazonaws.com/Codestates_Fulllogo_Color.png\" width=100>\n",
    "\n",
    "## *DATA SCIENCE / SECTION 2 / SPRINT 3 / NOTE 3*\n",
    "\n",
    "---\n",
    "\n",
    "# Feature Importances"
   ]
  },
  {
   "cell_type": "markdown",
   "metadata": {
    "colab_type": "text",
    "id": "-hTictxWYih7"
   },
   "source": [
    "- 특성 중요도 계산 방법들(**permutation importances**, Feature importance, ...)을 이해하고 사용하여 모델을 해석하고 특성 선택시 활용할 수 있다.\n",
    "- **gradient boosting** 을 이해하고 xgboost를 사용하여 모델을 만들 수 있다."
   ]
  },
  {
   "cell_type": "markdown",
   "metadata": {
    "colab_type": "text",
    "id": "wMejJg0w8v76"
   },
   "source": [
    "### Warm up\n",
    "\n",
    "오늘 학습할 주제에 대한 동영상을 시청하세요.\n",
    "\n",
    "- 배깅 복습\n",
    "    - [Bootstrap aggregating bagging](https://youtu.be/2Mg8QD0F1dQ)\n",
    "- 부스팅(Boosting)\n",
    "    - [AdaBoost](https://youtu.be/LsK-xG1cLYA)\n",
    "        - AdaBoost와 RandomForest와 핵심 차이점 3가지는? \n",
    "    - [Gradient Boosting](https://youtu.be/3CC4N4z3GJc)\n",
    "\n",
    "\n"
   ]
  },
  {
   "cell_type": "markdown",
   "metadata": {},
   "source": [
    "---"
   ]
  },
  {
   "cell_type": "markdown",
   "metadata": {},
   "source": [
    "이번 모듈에서 추가적으로 활용하는 주요 라이브러리는 다음과 같습니다. 라이브러리를 import 하기 전에 설치를 확인해 주세요.\n",
    "- [**eli5**](https://eli5.readthedocs.io/en/latest/)\n",
    "- [**xgboost**](https://xgboost.readthedocs.io/en/latest/)\n"
   ]
  },
  {
   "cell_type": "markdown",
   "metadata": {},
   "source": [
    "#### H1N1 데이터를 다시 사용하여 학습을 진행하도록 하겠습니다."
   ]
  },
  {
   "cell_type": "code",
   "execution_count": 1,
   "metadata": {
    "colab": {},
    "colab_type": "code",
    "id": "z-TExplb_Slf"
   },
   "outputs": [],
   "source": [
    "import numpy as np\n",
    "import pandas as pd\n",
    "from sklearn.model_selection import train_test_split\n",
    "\n",
    "# 타겟을 정합니다.\n",
    "target = 'vacc_seas_f'\n",
    "# 학습데이터 features, labels 를 병합합니다.\n",
    "train = pd.merge(pd.read_csv('https://ds-lecture-data.s3.ap-northeast-2.amazonaws.com/vacc_flu/train.csv'), \n",
    "                 pd.read_csv('https://ds-lecture-data.s3.ap-northeast-2.amazonaws.com/vacc_flu/train_labels.csv')[target], left_index=True, right_index=True)\n",
    "test = pd.read_csv('https://ds-lecture-data.s3.ap-northeast-2.amazonaws.com/vacc_flu/test.csv')\n",
    "\n",
    "\n",
    "\n",
    "# 80/20 비율로 학습/테스트 데이터를 분리합니다.\n",
    "train, val = train_test_split(train, train_size=0.80, test_size=0.20, \n",
    "                              stratify=train[target], random_state=2)\n",
    "\n",
    "def engineer(df):\n",
    "    \"\"\"특성을 엔지니어링 하는 함수입니다.\"\"\"\n",
    "    \n",
    "    # 새로운 특성을 생성합니다.\n",
    "    behaviorals = [col for col in df.columns if 'behavioral' in col] \n",
    "    df['behaviorals'] = df[behaviorals].sum(axis=1)\n",
    "    \n",
    "    dels = [col for col in df.columns if ('employment' in col or 'h1n1' in col)]\n",
    "    df.drop(columns=dels, inplace=True)\n",
    "        \n",
    "    return df\n",
    "\n",
    "train = engineer(train)\n",
    "val = engineer(val)\n",
    "test = engineer(test)"
   ]
  },
  {
   "cell_type": "code",
   "execution_count": 2,
   "metadata": {
    "colab": {},
    "colab_type": "code",
    "id": "rhg8PQKt_jzP"
   },
   "outputs": [],
   "source": [
    "X_train = train.drop(columns=target)\n",
    "y_train = train[target]\n",
    "X_val = val.drop(columns=target)\n",
    "y_val = val[target]\n",
    "X_test = test"
   ]
  },
  {
   "cell_type": "code",
   "execution_count": 3,
   "metadata": {
    "colab": {},
    "colab_type": "code",
    "id": "m8lB4z5l_eml"
   },
   "outputs": [],
   "source": [
    "from category_encoders import OrdinalEncoder\n",
    "from sklearn.impute import SimpleImputer\n",
    "from sklearn.ensemble import RandomForestClassifier\n",
    "from sklearn.model_selection import train_test_split\n",
    "from sklearn.pipeline import make_pipeline\n",
    "\n",
    "pipe = make_pipeline(\n",
    "    OrdinalEncoder(),\n",
    "    SimpleImputer(), \n",
    "    RandomForestClassifier(n_estimators=100, random_state=2, n_jobs=-1)\n",
    ")"
   ]
  },
  {
   "cell_type": "code",
   "execution_count": 4,
   "metadata": {},
   "outputs": [
    {
     "data": {
      "text/plain": [
       "Pipeline(steps=[('ordinalencoder', OrdinalEncoder()),\n",
       "                ('simpleimputer', SimpleImputer()),\n",
       "                ('randomforestclassifier',\n",
       "                 RandomForestClassifier(n_jobs=-1, random_state=2))])"
      ]
     },
     "execution_count": 4,
     "metadata": {},
     "output_type": "execute_result"
    }
   ],
   "source": [
    "pipe"
   ]
  },
  {
   "cell_type": "code",
   "execution_count": 5,
   "metadata": {},
   "outputs": [
    {
     "name": "stdout",
     "output_type": "stream",
     "text": [
      "검증 정확도 0.7526983750444787\n",
      "              precision    recall  f1-score   support\n",
      "\n",
      "           0       0.76      0.80      0.78      4608\n",
      "           1       0.74      0.70      0.72      3823\n",
      "\n",
      "    accuracy                           0.75      8431\n",
      "   macro avg       0.75      0.75      0.75      8431\n",
      "weighted avg       0.75      0.75      0.75      8431\n",
      "\n"
     ]
    }
   ],
   "source": [
    "from sklearn.metrics import classification_report\n",
    "# train 학습, 검증셋 정확도\n",
    "pipe.fit(X_train, y_train)\n",
    "print('검증 정확도', pipe.score(X_val, y_val))\n",
    "\n",
    "print(classification_report(y_val, pipe.predict(X_val)))\n"
   ]
  },
  {
   "cell_type": "markdown",
   "metadata": {},
   "source": [
    "## 모델 해석과 특성 선택을 위한 순열 중요도(Permutation Importances) 계산"
   ]
  },
  {
   "cell_type": "markdown",
   "metadata": {},
   "source": [
    "- 기본 특성 중요도는 빠르지만 특성 종류에 따라 부정확한 결과가 나올 수 있어 주의가 필요합니다.\n",
    "- 순열 중요도 사용하면 더욱 정확한 계산이 가능합니다."
   ]
  },
  {
   "cell_type": "markdown",
   "metadata": {
    "colab_type": "text",
    "id": "7HOayKBOYiit"
   },
   "source": [
    "### 3가지 특성 중요도 계산 방법을 살펴 보겠습니다."
   ]
  },
  {
   "cell_type": "markdown",
   "metadata": {
    "colab_type": "text",
    "id": "4bRhsxENYiiu"
   },
   "source": [
    "### 1. Feature Importances(Mean decrease impurity, MDI)\n",
    "sklearn 트리 기반 분류기에서 디폴트로 사용되는 특성 중요도는 속도는 빠르지만 결과를 주의해서 봐야 합니다. 각각 특성을 모든 트리에 대해 평균불순도감소(mean decrease impurity)를 계산한 값입니다.\n",
    "\n",
    "- [Sklearn, DecisionTreeClassifier, min_impurity_decrease](https://scikit-learn.org/stable/modules/generated/sklearn.tree.DecisionTreeClassifier.html#sklearn-tree-decisiontreeclassifier)\n",
    "\n",
    "> 불순도 감소(impurity decrease)는 다음과 같이 계산합니다:\n",
    "\n",
    "> $\\displaystyle \\frac{N_t}{N}$ * (impurity - $\\displaystyle\\frac{N_{tR}}{N_t}$ * right_impurity\n",
    "                    - $\\displaystyle\\frac{N_{tL}}{N_t}$ * left_impurity)\n",
    "\n",
    "> $N$: 전체 관측치 수, $N_t$: 현재 노드 t에 존재하는 관측치 수\n",
    "\n",
    "> $N_{tL}$, $N_{tR}$: 노드 t 왼쪽(L)/오른쪽(R) 자식노드에 존재하는 관측치 수\n",
    "\n",
    "> 만약 `sample_weight`가 주어진다면, $N$, $N_t$, $N_{tR}$, $N_{tL}$는 가중합을 합니다.\n",
    "\n",
    "\n",
    "- [sklearn, property feature_importances_](https://scikit-learn.org/stable/modules/generated/sklearn.tree.DecisionTreeClassifier.html#sklearn.tree.DecisionTreeClassifier.feature_importances_)\n",
    "\n",
    "> Warning: impurity-based feature importances can be misleading for **high cardinality features (many unique values)**. See sklearn.inspection.permutation_importance as an alternative.\n"
   ]
  },
  {
   "cell_type": "code",
   "execution_count": 6,
   "metadata": {
    "colab": {},
    "colab_type": "code",
    "id": "BNVm6f7mYiiu"
   },
   "outputs": [
    {
     "data": {
      "image/png": "[encoded data removed]",
      "text/plain": [
       "<Figure size 720x720 with 1 Axes>"
      ]
     },
     "metadata": {
      "needs_background": "light"
     },
     "output_type": "display_data"
    }
   ],
   "source": [
    "# 특성 중요도\n",
    "rf = pipe.named_steps['randomforestclassifier']\n",
    "importances = pd.Series(rf.feature_importances_, X_train.columns)\n",
    "\n",
    "%matplotlib inline\n",
    "import matplotlib.pyplot as plt\n",
    "\n",
    "n = 20\n",
    "plt.figure(figsize=(10,n/2))\n",
    "plt.title(f'Top {n} features')\n",
    "importances.sort_values()[-n:].plot.barh();"
   ]
  },
  {
   "cell_type": "markdown",
   "metadata": {},
   "source": [
    "특성 중요도가 높게 나온 state는 유의해서 봐야 하겠습니다.\n",
    "51개 카테고리로 구성되어 있는데 다른 특성과 비교하여 상대적으로 high-cardinarity 특성입니다.\n",
    "트리 구성 중 분기에 이용될 확률이 높아 과적합 위험이 있습니다."
   ]
  },
  {
   "cell_type": "code",
   "execution_count": 7,
   "metadata": {},
   "outputs": [
    {
     "data": {
      "text/plain": [
       "51"
      ]
     },
     "execution_count": 7,
     "metadata": {},
     "output_type": "execute_result"
    }
   ],
   "source": [
    "len(X_train['state'].value_counts())"
   ]
  },
  {
   "cell_type": "markdown",
   "metadata": {
    "colab_type": "text",
    "id": "y8HzLcCBYiiv"
   },
   "source": [
    "### 2. Drop-Column Importance\n",
    "이론적으로 가장 좋아 보이는 방법이지만, 매 특성을 drop한 후 fit을 다시 해야 하기 때문에 매우 느리다는 단점이 있습니다.\n",
    "\n",
    "특성이 n개 존재할 때 n + 1 번 학습이 필요합니다."
   ]
  },
  {
   "cell_type": "code",
   "execution_count": 8,
   "metadata": {
    "colab": {},
    "colab_type": "code",
    "id": "DQAOlERnYiiw"
   },
   "outputs": [
    {
     "name": "stdout",
     "output_type": "stream",
     "text": [
      "검증 정확도 (opinion_seas_risk 제외): 0.733127742853754\n",
      "검증 정확도 (opinion_seas_risk 포함): 0.7526983750444787\n",
      "opinion_seas_risk의 Drop-Column 중요도: 0.019570632190724635\n"
     ]
    }
   ],
   "source": [
    "column  = 'opinion_seas_risk'\n",
    "\n",
    "# opinion_h1n1_risk 없이 fit\n",
    "pipe = make_pipeline(\n",
    "    OrdinalEncoder(), \n",
    "    SimpleImputer(), \n",
    "    RandomForestClassifier(n_estimators=100, random_state=2, n_jobs=-1)\n",
    ")\n",
    "pipe.fit(X_train.drop(columns=column), y_train)\n",
    "score_without = pipe.score(X_val.drop(columns=column), y_val)\n",
    "print(f'검증 정확도 ({column} 제외): {score_without}')\n",
    "\n",
    "# opinion_h1n1_risk 포함 후 다시 학습\n",
    "pipe = make_pipeline(\n",
    "    OrdinalEncoder(), \n",
    "    SimpleImputer(), \n",
    "    RandomForestClassifier(n_estimators=100, random_state=2, n_jobs=-1)\n",
    ")\n",
    "pipe.fit(X_train, y_train)\n",
    "score_with = pipe.score(X_val, y_val)\n",
    "print(f'검증 정확도 ({column} 포함): {score_with}')\n",
    "\n",
    "# opinion_h1n1_risk 포함 전 후 정확도 차이를 계산합니다\n",
    "print(f'{column}의 Drop-Column 중요도: {score_with - score_without}')"
   ]
  },
  {
   "cell_type": "markdown",
   "metadata": {
    "colab_type": "text",
    "id": "6Vu39wGkYiix"
   },
   "source": [
    "### 3. 순열중요도, (Permutation Importance, Mean Decrease Accuracy,MDA)\n",
    "순열 중요도는 기본 특성 중요도와 Drop-column 중요도 중간에 위치하는 특징을 가진다고 볼 수 있습니다.\n",
    "\n",
    "중요도 측정은 관심있는 특성에만 무작위로 노이즈를 주고 예측을 하였을 때 성능 평가지표(정확도, F1, $R^2$ 등)가 얼마나 감소하는지를 측정합니다.\n",
    "\n",
    "Drop-column 중요도를 계산하기 위해 재학습을 해야 했다면, 순열중요도는 검증데이터에서 각 특성을 제거하지 않고 특성값에 무작위로 노이즈를 주어 기존 정보를 제거하여 특성이 기존에 하던 역할을 하지 못하게 하고 성능을 측정합니다. 이때 노이즈를 주는 가장 간단한 방법이 그 특성값들을 샘플들 내에서 섞는 것(shuffle, permutation) 입니다.\n",
    "\n",
    "[The ELI5 library documentation explains, permutation importance](https://eli5.readthedocs.io/en/latest/blackbox/permutation_importance.html)\n"
   ]
  },
  {
   "cell_type": "markdown",
   "metadata": {
    "colab_type": "text",
    "id": "GYCiEx7zYiiy"
   },
   "source": [
    "### 순열중요도를 직접 계산해 봅시다"
   ]
  },
  {
   "cell_type": "code",
   "execution_count": 9,
   "metadata": {
    "colab": {},
    "colab_type": "code",
    "id": "TksOf_n2Yiiy"
   },
   "outputs": [
    {
     "data": {
      "text/plain": [
       "11966     Somewhat Low\n",
       "1211          Very Low\n",
       "4407      Somewhat Low\n",
       "1827     Somewhat High\n",
       "23988              NaN\n",
       "Name: opinion_seas_risk, dtype: object"
      ]
     },
     "execution_count": 9,
     "metadata": {},
     "output_type": "execute_result"
    }
   ],
   "source": [
    "# 변경 할 특성을 선택합니다\n",
    "feature = 'opinion_seas_risk'\n",
    "X_val[feature].head()"
   ]
  },
  {
   "cell_type": "code",
   "execution_count": 10,
   "metadata": {},
   "outputs": [
    {
     "data": {
      "text/plain": [
       "Somewhat Low     2300\n",
       "Somewhat High    1875\n",
       "Very Low         1505\n",
       "Very High         780\n",
       "Dont Know         175\n",
       "Refused            11\n",
       "Name: opinion_seas_risk, dtype: int64"
      ]
     },
     "execution_count": 10,
     "metadata": {},
     "output_type": "execute_result"
    }
   ],
   "source": [
    "# 특성의 분포를 확인합니다\n",
    "X_val[feature].value_counts()"
   ]
  },
  {
   "cell_type": "code",
   "execution_count": 11,
   "metadata": {},
   "outputs": [],
   "source": [
    "# 특성의 값을 무작위로 섞습니다\n",
    "X_val_permuted = X_val.copy()\n",
    "X_val_permuted[feature] = np.random.RandomState(seed=7).permutation(X_val_permuted[feature])"
   ]
  },
  {
   "cell_type": "code",
   "execution_count": 12,
   "metadata": {},
   "outputs": [
    {
     "data": {
      "text/plain": [
       "11966     Somewhat Low\n",
       "1211     Somewhat High\n",
       "4407     Somewhat High\n",
       "1827               NaN\n",
       "23988         Very Low\n",
       "Name: opinion_seas_risk, dtype: object"
      ]
     },
     "execution_count": 12,
     "metadata": {},
     "output_type": "execute_result"
    }
   ],
   "source": [
    "# 특성 값의 순서가 뒤바뀐 것을 확인합니다\n",
    "X_val_permuted[feature].head()"
   ]
  },
  {
   "cell_type": "code",
   "execution_count": 13,
   "metadata": {},
   "outputs": [
    {
     "data": {
      "text/plain": [
       "Somewhat Low     2300\n",
       "Somewhat High    1875\n",
       "Very Low         1505\n",
       "Very High         780\n",
       "Dont Know         175\n",
       "Refused            11\n",
       "Name: opinion_seas_risk, dtype: int64"
      ]
     },
     "execution_count": 13,
     "metadata": {},
     "output_type": "execute_result"
    }
   ],
   "source": [
    "# 카테고리들의 분포는 바뀌지는 않았음을 확인합니다\n",
    "X_val_permuted[feature].value_counts()"
   ]
  },
  {
   "cell_type": "code",
   "execution_count": 14,
   "metadata": {},
   "outputs": [
    {
     "name": "stdout",
     "output_type": "stream",
     "text": [
      "검증 정확도 (opinion_seas_risk): 0.7526983750444787\n",
      "검증 정확도 (permuted \"opinion_seas_risk\"): 0.7205550942948642\n",
      "순열 중요도: 0.03214328074961448\n"
     ]
    }
   ],
   "source": [
    "# 순열 중요도 값을 얻습니다. (재학습이 필요 없습니다!)\n",
    "score_permuted = pipe.score(X_val_permuted, y_val)\n",
    "\n",
    "print(f'검증 정확도 ({feature}): {score_with}')\n",
    "print(f'검증 정확도 (permuted \"{feature}\"): {score_permuted}')\n",
    "print(f'순열 중요도: {score_with - score_permuted}')"
   ]
  },
  {
   "cell_type": "code",
   "execution_count": 15,
   "metadata": {},
   "outputs": [
    {
     "name": "stdout",
     "output_type": "stream",
     "text": [
      "검증 정확도 (doctor_recc_seasonal): 0.7526983750444787\n",
      "검증 정확도 (permuted \"doctor_recc_seasonal\"): 0.6863954453801447\n",
      "순열 중요도: 0.06630292966433393\n"
     ]
    }
   ],
   "source": [
    "# doctor_recc_h1n1 에 대해서 순열 중요도를 계산해 봅시다\n",
    "feature = 'doctor_recc_seasonal'\n",
    "X_val_permuted = X_val.copy()\n",
    "X_val_permuted[feature] = np.random.permutation(X_val_permuted[feature])\n",
    "score_permuted = pipe.score(X_val_permuted, y_val)\n",
    "\n",
    "print(f'검증 정확도 ({feature}): {score_with}')\n",
    "print(f'검증 정확도 (permuted \"{feature}\"): {score_permuted}')\n",
    "print(f'순열 중요도: {score_with - score_permuted}')"
   ]
  },
  {
   "cell_type": "markdown",
   "metadata": {},
   "source": [
    "eli5 라이브러를 사용해서 순열 중요도를 계산해 보겠습니다."
   ]
  },
  {
   "cell_type": "markdown",
   "metadata": {
    "colab_type": "text",
    "id": "0LYk19SNYii7"
   },
   "source": [
    "eli5 에 관한 문서를 확인해 보세요:\n",
    "- [eli5.sklearn.PermutationImportance](https://eli5.readthedocs.io/en/latest/autodocs/sklearn.html#eli5.sklearn.permutation_importance.PermutationImportance)\n",
    "- [eli5.show_weights](https://eli5.readthedocs.io/en/latest/autodocs/eli5.html#eli5.show_weights)\n",
    "- [scikit-learn user guide, `scoring` parameter](https://scikit-learn.org/stable/modules/model_evaluation.html#the-scoring-parameter-defining-model-evaluation-rules)"
   ]
  },
  {
   "cell_type": "code",
   "execution_count": 16,
   "metadata": {},
   "outputs": [],
   "source": [
    "from sklearn.pipeline import Pipeline\n",
    "# encoder, imputer를 preprocessing으로 묶었습니다. 후에 eli5 permutation 계산에 사용합니다\n",
    "pipe = Pipeline([\n",
    "    ('preprocessing', make_pipeline(OrdinalEncoder(), SimpleImputer())),\n",
    "    ('rf', RandomForestClassifier(n_estimators=100, random_state=2, n_jobs=-1)) \n",
    "])"
   ]
  },
  {
   "cell_type": "code",
   "execution_count": 17,
   "metadata": {},
   "outputs": [
    {
     "data": {
      "text/plain": [
       "{'preprocessing': Pipeline(steps=[('ordinalencoder', OrdinalEncoder()),\n",
       "                 ('simpleimputer', SimpleImputer())]),\n",
       " 'rf': RandomForestClassifier(n_jobs=-1, random_state=2)}"
      ]
     },
     "execution_count": 17,
     "metadata": {},
     "output_type": "execute_result"
    }
   ],
   "source": [
    "# pipeline 생성을 확인합니다.\n",
    "pipe.named_steps"
   ]
  },
  {
   "cell_type": "code",
   "execution_count": 18,
   "metadata": {},
   "outputs": [
    {
     "name": "stdout",
     "output_type": "stream",
     "text": [
      "검증 정확도:  0.7526983750444787\n"
     ]
    }
   ],
   "source": [
    "pipe.fit(X_train, y_train)\n",
    "print('검증 정확도: ', pipe.score(X_val, y_val))"
   ]
  },
  {
   "cell_type": "code",
   "execution_count": 19,
   "metadata": {},
   "outputs": [],
   "source": [
    "import warnings\n",
    "warnings.simplefilter(action='ignore', category=FutureWarning)\n",
    "\n",
    "import eli5\n",
    "from eli5.sklearn import PermutationImportance\n",
    "\n",
    "# permuter 정의\n",
    "permuter = PermutationImportance(\n",
    "    pipe.named_steps['rf'], # model\n",
    "    scoring='accuracy', # metric\n",
    "    n_iter=5, # 다른 random seed를 사용하여 5번 반복\n",
    "    random_state=2\n",
    ")\n",
    "\n",
    "# permuter 계산은 preprocessing 된 X_val을 사용합니다.\n",
    "X_val_transformed = pipe.named_steps['preprocessing'].transform(X_val)\n",
    "\n",
    "# 실제로 fit 의미보다는 스코어를 다시 계산하는 작업입니다\n",
    "permuter.fit(X_val_transformed, y_val);"
   ]
  },
  {
   "cell_type": "code",
   "execution_count": 20,
   "metadata": {},
   "outputs": [
    {
     "data": {
      "text/plain": [
       "n_adult_r                     -0.003511\n",
       "hhs_region                    -0.003108\n",
       "census_region                 -0.003084\n",
       "behavioral_face_mask          -0.003060\n",
       "sex_i                         -0.002942\n",
       "state                         -0.002918\n",
       "behavioral_wash_hands         -0.002657\n",
       "n_people_r                    -0.002562\n",
       "behavioral_large_gatherings   -0.002538\n",
       "behavioral_antiviral_meds     -0.002420\n",
       "behavioral_avoidance          -0.002159\n",
       "behavioral_outside_home       -0.002064\n",
       "behavioral_touch_face         -0.001755\n",
       "chronic_med_condition         -0.001613\n",
       "census_msa                    -0.001542\n",
       "behaviorals                   -0.001471\n",
       "child_under_6_months          -0.001400\n",
       "marital                       -0.001328\n",
       "rent_own_r                    -0.000712\n",
       "inc_pov                       -0.000474\n",
       "raceeth4_i                    -0.000213\n",
       "household_children            -0.000119\n",
       "education_comp                 0.001234\n",
       "health_insurance               0.002775\n",
       "health_worker                  0.003060\n",
       "opinion_seas_sick_from_vacc    0.004792\n",
       "agegrp                         0.007733\n",
       "opinion_seas_risk              0.041039\n",
       "opinion_seas_vacc_effective    0.043814\n",
       "doctor_recc_seasonal           0.071427\n",
       "dtype: float64"
      ]
     },
     "execution_count": 20,
     "metadata": {},
     "output_type": "execute_result"
    }
   ],
   "source": [
    "feature_names = X_val.columns.tolist()\n",
    "pd.Series(permuter.feature_importances_, feature_names).sort_values()"
   ]
  },
  {
   "cell_type": "code",
   "execution_count": 21,
   "metadata": {},
   "outputs": [
    {
     "data": {
      "text/html": [
       "\n",
       "    <style>\n",
       "    table.eli5-weights tr:hover {\n",
       "        filter: brightness(85%);\n",
       "    }\n",
       "</style>\n",
       "\n",
       "\n",
       "\n",
       "    \n",
       "\n",
       "    \n",
       "\n",
       "    \n",
       "\n",
       "    \n",
       "\n",
       "    \n",
       "\n",
       "    \n",
       "\n",
       "\n",
       "    \n",
       "\n",
       "    \n",
       "\n",
       "    \n",
       "\n",
       "    \n",
       "\n",
       "    \n",
       "\n",
       "    \n",
       "\n",
       "\n",
       "    \n",
       "\n",
       "    \n",
       "\n",
       "    \n",
       "\n",
       "    \n",
       "\n",
       "    \n",
       "        <table class=\"eli5-weights eli5-feature-importances\" style=\"border-collapse: collapse; border: none; margin-top: 0em; table-layout: auto;\">\n",
       "    <thead>\n",
       "    <tr style=\"border: none;\">\n",
       "        <th style=\"padding: 0 1em 0 0.5em; text-align: right; border: none;\">Weight</th>\n",
       "        <th style=\"padding: 0 0.5em 0 0.5em; text-align: left; border: none;\">Feature</th>\n",
       "    </tr>\n",
       "    </thead>\n",
       "    <tbody>\n",
       "    \n",
       "        <tr style=\"background-color: hsl(120, 100.00%, 80.00%); border: none;\">\n",
       "            <td style=\"padding: 0 1em 0 0.5em; text-align: right; border: none;\">\n",
       "                0.0714\n",
       "                \n",
       "                    &plusmn; 0.0047\n",
       "                \n",
       "            </td>\n",
       "            <td style=\"padding: 0 0.5em 0 0.5em; text-align: left; border: none;\">\n",
       "                doctor_recc_seasonal\n",
       "            </td>\n",
       "        </tr>\n",
       "    \n",
       "        <tr style=\"background-color: hsl(120, 100.00%, 85.79%); border: none;\">\n",
       "            <td style=\"padding: 0 1em 0 0.5em; text-align: right; border: none;\">\n",
       "                0.0438\n",
       "                \n",
       "                    &plusmn; 0.0034\n",
       "                \n",
       "            </td>\n",
       "            <td style=\"padding: 0 0.5em 0 0.5em; text-align: left; border: none;\">\n",
       "                opinion_seas_vacc_effective\n",
       "            </td>\n",
       "        </tr>\n",
       "    \n",
       "        <tr style=\"background-color: hsl(120, 100.00%, 86.43%); border: none;\">\n",
       "            <td style=\"padding: 0 1em 0 0.5em; text-align: right; border: none;\">\n",
       "                0.0410\n",
       "                \n",
       "                    &plusmn; 0.0032\n",
       "                \n",
       "            </td>\n",
       "            <td style=\"padding: 0 0.5em 0 0.5em; text-align: left; border: none;\">\n",
       "                opinion_seas_risk\n",
       "            </td>\n",
       "        </tr>\n",
       "    \n",
       "        <tr style=\"background-color: hsl(120, 100.00%, 95.78%); border: none;\">\n",
       "            <td style=\"padding: 0 1em 0 0.5em; text-align: right; border: none;\">\n",
       "                0.0077\n",
       "                \n",
       "                    &plusmn; 0.0028\n",
       "                \n",
       "            </td>\n",
       "            <td style=\"padding: 0 0.5em 0 0.5em; text-align: left; border: none;\">\n",
       "                agegrp\n",
       "            </td>\n",
       "        </tr>\n",
       "    \n",
       "        <tr style=\"background-color: hsl(120, 100.00%, 96.98%); border: none;\">\n",
       "            <td style=\"padding: 0 1em 0 0.5em; text-align: right; border: none;\">\n",
       "                0.0048\n",
       "                \n",
       "                    &plusmn; 0.0019\n",
       "                \n",
       "            </td>\n",
       "            <td style=\"padding: 0 0.5em 0 0.5em; text-align: left; border: none;\">\n",
       "                opinion_seas_sick_from_vacc\n",
       "            </td>\n",
       "        </tr>\n",
       "    \n",
       "        <tr style=\"background-color: hsl(120, 100.00%, 97.80%); border: none;\">\n",
       "            <td style=\"padding: 0 1em 0 0.5em; text-align: right; border: none;\">\n",
       "                0.0031\n",
       "                \n",
       "                    &plusmn; 0.0026\n",
       "                \n",
       "            </td>\n",
       "            <td style=\"padding: 0 0.5em 0 0.5em; text-align: left; border: none;\">\n",
       "                health_worker\n",
       "            </td>\n",
       "        </tr>\n",
       "    \n",
       "        <tr style=\"background-color: hsl(120, 100.00%, 97.94%); border: none;\">\n",
       "            <td style=\"padding: 0 1em 0 0.5em; text-align: right; border: none;\">\n",
       "                0.0028\n",
       "                \n",
       "                    &plusmn; 0.0020\n",
       "                \n",
       "            </td>\n",
       "            <td style=\"padding: 0 0.5em 0 0.5em; text-align: left; border: none;\">\n",
       "                health_insurance\n",
       "            </td>\n",
       "        </tr>\n",
       "    \n",
       "        <tr style=\"background-color: hsl(120, 100.00%, 98.83%); border: none;\">\n",
       "            <td style=\"padding: 0 1em 0 0.5em; text-align: right; border: none;\">\n",
       "                0.0012\n",
       "                \n",
       "                    &plusmn; 0.0043\n",
       "                \n",
       "            </td>\n",
       "            <td style=\"padding: 0 0.5em 0 0.5em; text-align: left; border: none;\">\n",
       "                education_comp\n",
       "            </td>\n",
       "        </tr>\n",
       "    \n",
       "        <tr style=\"background-color: hsl(0, 100.00%, 99.77%); border: none;\">\n",
       "            <td style=\"padding: 0 1em 0 0.5em; text-align: right; border: none;\">\n",
       "                -0.0001\n",
       "                \n",
       "                    &plusmn; 0.0025\n",
       "                \n",
       "            </td>\n",
       "            <td style=\"padding: 0 0.5em 0 0.5em; text-align: left; border: none;\">\n",
       "                household_children\n",
       "            </td>\n",
       "        </tr>\n",
       "    \n",
       "        <tr style=\"background-color: hsl(0, 100.00%, 99.66%); border: none;\">\n",
       "            <td style=\"padding: 0 1em 0 0.5em; text-align: right; border: none;\">\n",
       "                -0.0002\n",
       "                \n",
       "                    &plusmn; 0.0028\n",
       "                \n",
       "            </td>\n",
       "            <td style=\"padding: 0 0.5em 0 0.5em; text-align: left; border: none;\">\n",
       "                raceeth4_i\n",
       "            </td>\n",
       "        </tr>\n",
       "    \n",
       "        <tr style=\"background-color: hsl(0, 100.00%, 99.40%); border: none;\">\n",
       "            <td style=\"padding: 0 1em 0 0.5em; text-align: right; border: none;\">\n",
       "                -0.0005\n",
       "                \n",
       "                    &plusmn; 0.0025\n",
       "                \n",
       "            </td>\n",
       "            <td style=\"padding: 0 0.5em 0 0.5em; text-align: left; border: none;\">\n",
       "                inc_pov\n",
       "            </td>\n",
       "        </tr>\n",
       "    \n",
       "        <tr style=\"background-color: hsl(0, 100.00%, 99.21%); border: none;\">\n",
       "            <td style=\"padding: 0 1em 0 0.5em; text-align: right; border: none;\">\n",
       "                -0.0007\n",
       "                \n",
       "                    &plusmn; 0.0016\n",
       "                \n",
       "            </td>\n",
       "            <td style=\"padding: 0 0.5em 0 0.5em; text-align: left; border: none;\">\n",
       "                rent_own_r\n",
       "            </td>\n",
       "        </tr>\n",
       "    \n",
       "        <tr style=\"background-color: hsl(0, 100.00%, 98.77%); border: none;\">\n",
       "            <td style=\"padding: 0 1em 0 0.5em; text-align: right; border: none;\">\n",
       "                -0.0013\n",
       "                \n",
       "                    &plusmn; 0.0026\n",
       "                \n",
       "            </td>\n",
       "            <td style=\"padding: 0 0.5em 0 0.5em; text-align: left; border: none;\">\n",
       "                marital\n",
       "            </td>\n",
       "        </tr>\n",
       "    \n",
       "        <tr style=\"background-color: hsl(0, 100.00%, 98.72%); border: none;\">\n",
       "            <td style=\"padding: 0 1em 0 0.5em; text-align: right; border: none;\">\n",
       "                -0.0014\n",
       "                \n",
       "                    &plusmn; 0.0008\n",
       "                \n",
       "            </td>\n",
       "            <td style=\"padding: 0 0.5em 0 0.5em; text-align: left; border: none;\">\n",
       "                child_under_6_months\n",
       "            </td>\n",
       "        </tr>\n",
       "    \n",
       "        <tr style=\"background-color: hsl(0, 100.00%, 98.68%); border: none;\">\n",
       "            <td style=\"padding: 0 1em 0 0.5em; text-align: right; border: none;\">\n",
       "                -0.0015\n",
       "                \n",
       "                    &plusmn; 0.0029\n",
       "                \n",
       "            </td>\n",
       "            <td style=\"padding: 0 0.5em 0 0.5em; text-align: left; border: none;\">\n",
       "                behaviorals\n",
       "            </td>\n",
       "        </tr>\n",
       "    \n",
       "        <tr style=\"background-color: hsl(0, 100.00%, 98.64%); border: none;\">\n",
       "            <td style=\"padding: 0 1em 0 0.5em; text-align: right; border: none;\">\n",
       "                -0.0015\n",
       "                \n",
       "                    &plusmn; 0.0028\n",
       "                \n",
       "            </td>\n",
       "            <td style=\"padding: 0 0.5em 0 0.5em; text-align: left; border: none;\">\n",
       "                census_msa\n",
       "            </td>\n",
       "        </tr>\n",
       "    \n",
       "        <tr style=\"background-color: hsl(0, 100.00%, 98.59%); border: none;\">\n",
       "            <td style=\"padding: 0 1em 0 0.5em; text-align: right; border: none;\">\n",
       "                -0.0016\n",
       "                \n",
       "                    &plusmn; 0.0011\n",
       "                \n",
       "            </td>\n",
       "            <td style=\"padding: 0 0.5em 0 0.5em; text-align: left; border: none;\">\n",
       "                chronic_med_condition\n",
       "            </td>\n",
       "        </tr>\n",
       "    \n",
       "        <tr style=\"background-color: hsl(0, 100.00%, 98.51%); border: none;\">\n",
       "            <td style=\"padding: 0 1em 0 0.5em; text-align: right; border: none;\">\n",
       "                -0.0018\n",
       "                \n",
       "                    &plusmn; 0.0021\n",
       "                \n",
       "            </td>\n",
       "            <td style=\"padding: 0 0.5em 0 0.5em; text-align: left; border: none;\">\n",
       "                behavioral_touch_face\n",
       "            </td>\n",
       "        </tr>\n",
       "    \n",
       "        <tr style=\"background-color: hsl(0, 100.00%, 98.33%); border: none;\">\n",
       "            <td style=\"padding: 0 1em 0 0.5em; text-align: right; border: none;\">\n",
       "                -0.0021\n",
       "                \n",
       "                    &plusmn; 0.0016\n",
       "                \n",
       "            </td>\n",
       "            <td style=\"padding: 0 0.5em 0 0.5em; text-align: left; border: none;\">\n",
       "                behavioral_outside_home\n",
       "            </td>\n",
       "        </tr>\n",
       "    \n",
       "        <tr style=\"background-color: hsl(0, 100.00%, 98.27%); border: none;\">\n",
       "            <td style=\"padding: 0 1em 0 0.5em; text-align: right; border: none;\">\n",
       "                -0.0022\n",
       "                \n",
       "                    &plusmn; 0.0009\n",
       "                \n",
       "            </td>\n",
       "            <td style=\"padding: 0 0.5em 0 0.5em; text-align: left; border: none;\">\n",
       "                behavioral_avoidance\n",
       "            </td>\n",
       "        </tr>\n",
       "    \n",
       "        <tr style=\"background-color: hsl(0, 100.00%, 98.13%); border: none;\">\n",
       "            <td style=\"padding: 0 1em 0 0.5em; text-align: right; border: none;\">\n",
       "                -0.0024\n",
       "                \n",
       "                    &plusmn; 0.0010\n",
       "                \n",
       "            </td>\n",
       "            <td style=\"padding: 0 0.5em 0 0.5em; text-align: left; border: none;\">\n",
       "                behavioral_antiviral_meds\n",
       "            </td>\n",
       "        </tr>\n",
       "    \n",
       "        <tr style=\"background-color: hsl(0, 100.00%, 98.07%); border: none;\">\n",
       "            <td style=\"padding: 0 1em 0 0.5em; text-align: right; border: none;\">\n",
       "                -0.0025\n",
       "                \n",
       "                    &plusmn; 0.0022\n",
       "                \n",
       "            </td>\n",
       "            <td style=\"padding: 0 0.5em 0 0.5em; text-align: left; border: none;\">\n",
       "                behavioral_large_gatherings\n",
       "            </td>\n",
       "        </tr>\n",
       "    \n",
       "        <tr style=\"background-color: hsl(0, 100.00%, 98.05%); border: none;\">\n",
       "            <td style=\"padding: 0 1em 0 0.5em; text-align: right; border: none;\">\n",
       "                -0.0026\n",
       "                \n",
       "                    &plusmn; 0.0036\n",
       "                \n",
       "            </td>\n",
       "            <td style=\"padding: 0 0.5em 0 0.5em; text-align: left; border: none;\">\n",
       "                n_people_r\n",
       "            </td>\n",
       "        </tr>\n",
       "    \n",
       "        <tr style=\"background-color: hsl(0, 100.00%, 98.00%); border: none;\">\n",
       "            <td style=\"padding: 0 1em 0 0.5em; text-align: right; border: none;\">\n",
       "                -0.0027\n",
       "                \n",
       "                    &plusmn; 0.0021\n",
       "                \n",
       "            </td>\n",
       "            <td style=\"padding: 0 0.5em 0 0.5em; text-align: left; border: none;\">\n",
       "                behavioral_wash_hands\n",
       "            </td>\n",
       "        </tr>\n",
       "    \n",
       "        <tr style=\"background-color: hsl(0, 100.00%, 97.87%); border: none;\">\n",
       "            <td style=\"padding: 0 1em 0 0.5em; text-align: right; border: none;\">\n",
       "                -0.0029\n",
       "                \n",
       "                    &plusmn; 0.0018\n",
       "                \n",
       "            </td>\n",
       "            <td style=\"padding: 0 0.5em 0 0.5em; text-align: left; border: none;\">\n",
       "                state\n",
       "            </td>\n",
       "        </tr>\n",
       "    \n",
       "        <tr style=\"background-color: hsl(0, 100.00%, 97.86%); border: none;\">\n",
       "            <td style=\"padding: 0 1em 0 0.5em; text-align: right; border: none;\">\n",
       "                -0.0029\n",
       "                \n",
       "                    &plusmn; 0.0028\n",
       "                \n",
       "            </td>\n",
       "            <td style=\"padding: 0 0.5em 0 0.5em; text-align: left; border: none;\">\n",
       "                sex_i\n",
       "            </td>\n",
       "        </tr>\n",
       "    \n",
       "        <tr style=\"background-color: hsl(0, 100.00%, 97.80%); border: none;\">\n",
       "            <td style=\"padding: 0 1em 0 0.5em; text-align: right; border: none;\">\n",
       "                -0.0031\n",
       "                \n",
       "                    &plusmn; 0.0015\n",
       "                \n",
       "            </td>\n",
       "            <td style=\"padding: 0 0.5em 0 0.5em; text-align: left; border: none;\">\n",
       "                behavioral_face_mask\n",
       "            </td>\n",
       "        </tr>\n",
       "    \n",
       "        <tr style=\"background-color: hsl(0, 100.00%, 97.78%); border: none;\">\n",
       "            <td style=\"padding: 0 1em 0 0.5em; text-align: right; border: none;\">\n",
       "                -0.0031\n",
       "                \n",
       "                    &plusmn; 0.0025\n",
       "                \n",
       "            </td>\n",
       "            <td style=\"padding: 0 0.5em 0 0.5em; text-align: left; border: none;\">\n",
       "                census_region\n",
       "            </td>\n",
       "        </tr>\n",
       "    \n",
       "        <tr style=\"background-color: hsl(0, 100.00%, 97.77%); border: none;\">\n",
       "            <td style=\"padding: 0 1em 0 0.5em; text-align: right; border: none;\">\n",
       "                -0.0031\n",
       "                \n",
       "                    &plusmn; 0.0031\n",
       "                \n",
       "            </td>\n",
       "            <td style=\"padding: 0 0.5em 0 0.5em; text-align: left; border: none;\">\n",
       "                hhs_region\n",
       "            </td>\n",
       "        </tr>\n",
       "    \n",
       "        <tr style=\"background-color: hsl(0, 100.00%, 97.57%); border: none;\">\n",
       "            <td style=\"padding: 0 1em 0 0.5em; text-align: right; border: none;\">\n",
       "                -0.0035\n",
       "                \n",
       "                    &plusmn; 0.0022\n",
       "                \n",
       "            </td>\n",
       "            <td style=\"padding: 0 0.5em 0 0.5em; text-align: left; border: none;\">\n",
       "                n_adult_r\n",
       "            </td>\n",
       "        </tr>\n",
       "    \n",
       "    \n",
       "    </tbody>\n",
       "</table>\n",
       "    \n",
       "\n",
       "    \n",
       "\n",
       "\n",
       "    \n",
       "\n",
       "    \n",
       "\n",
       "    \n",
       "\n",
       "    \n",
       "\n",
       "    \n",
       "\n",
       "    \n",
       "\n",
       "\n",
       "\n"
      ],
      "text/plain": [
       "<IPython.core.display.HTML object>"
      ]
     },
     "execution_count": 21,
     "metadata": {},
     "output_type": "execute_result"
    }
   ],
   "source": [
    "# 특성별 score 확인\n",
    "eli5.show_weights(\n",
    "    permuter, \n",
    "    top=None, # top n 지정 가능, None 일 경우 모든 특성 \n",
    "    feature_names=feature_names # list 형식으로 넣어야 합니다\n",
    ")"
   ]
  },
  {
   "cell_type": "markdown",
   "metadata": {
    "colab_type": "text",
    "id": "q07yW9k-Yii8"
   },
   "source": [
    "### 중요도를 이용하여 특성을 선택(Feature selection)해 봅시다.\n",
    "\n",
    "중요도가 -인 특성을 제외해도 성능은 거의 영향이 없으며, 모델학습 속도는 개선됩니다."
   ]
  },
  {
   "cell_type": "code",
   "execution_count": 22,
   "metadata": {
    "colab": {},
    "colab_type": "code",
    "id": "tZrPFyEMYii9"
   },
   "outputs": [
    {
     "name": "stdout",
     "output_type": "stream",
     "text": [
      "특성 삭제 전: (33723, 30) (8431, 30)\n"
     ]
    }
   ],
   "source": [
    "print('특성 삭제 전:', X_train.shape, X_val.shape)"
   ]
  },
  {
   "cell_type": "code",
   "execution_count": 23,
   "metadata": {},
   "outputs": [],
   "source": [
    "minimum_importance = 0.001\n",
    "mask = permuter.feature_importances_ > minimum_importance\n",
    "features = X_train.columns[mask]\n",
    "X_train_selected = X_train[features]\n",
    "X_val_selected = X_val[features]"
   ]
  },
  {
   "cell_type": "code",
   "execution_count": 24,
   "metadata": {},
   "outputs": [
    {
     "name": "stdout",
     "output_type": "stream",
     "text": [
      "특성 삭제 후: (33723, 8) (8431, 8)\n"
     ]
    }
   ],
   "source": [
    "print('특성 삭제 후:', X_train_selected.shape, X_val_selected.shape)"
   ]
  },
  {
   "cell_type": "code",
   "execution_count": 25,
   "metadata": {},
   "outputs": [
    {
     "name": "stdout",
     "output_type": "stream",
     "text": [
      "[Pipeline] ..... (step 1 of 2) Processing preprocessing, total=   0.1s\n",
      "[Pipeline] ................ (step 2 of 2) Processing rf, total=   0.4s\n"
     ]
    }
   ],
   "source": [
    "# pipeline 다시 정의\n",
    "pipe = Pipeline([\n",
    "    ('preprocessing', make_pipeline(OrdinalEncoder(), SimpleImputer())),\n",
    "    ('rf', RandomForestClassifier(n_estimators=100, random_state=2, n_jobs=-1)) \n",
    "], verbose=1)\n",
    "\n",
    "pipe.fit(X_train_selected, y_train);"
   ]
  },
  {
   "cell_type": "code",
   "execution_count": 26,
   "metadata": {},
   "outputs": [
    {
     "name": "stdout",
     "output_type": "stream",
     "text": [
      "검증 정확도:  0.7513936662317637\n"
     ]
    }
   ],
   "source": [
    "print('검증 정확도: ', pipe.score(X_val_selected, y_val))"
   ]
  },
  {
   "cell_type": "code",
   "execution_count": 27,
   "metadata": {},
   "outputs": [
    {
     "data": {
      "text/plain": [
       "array([False, False, False, False, False, False, False,  True, False,\n",
       "       False,  True,  True,  True,  True,  True,  True, False, False,\n",
       "       False, False, False, False, False, False, False, False, False,\n",
       "       False, False, False])"
      ]
     },
     "execution_count": 27,
     "metadata": {},
     "output_type": "execute_result"
    }
   ],
   "source": [
    "# 순열 중요도의 평균 감소값과 그 표준편차의 차가 양수인 특징들을 확인할 수 있습니다.\n",
    "permuter.feature_importances_ - permuter.feature_importances_std_ > 0"
   ]
  },
  {
   "cell_type": "markdown",
   "metadata": {
    "colab_type": "text",
    "id": "fl67bCR7WY6j"
   },
   "source": [
    "## Boosting(xgboost for gradient boosting)를 사용해 봅시다"
   ]
  },
  {
   "cell_type": "markdown",
   "metadata": {},
   "source": [
    "#### 분류문제를 풀기 위해서는 트리 앙상블 모델을 많이 사용합니다.\n",
    "- 트리 앙상블은 랜덤포레스트나 **그래디언트 부스팅** 모델을 이야기 하며 여러 문제에서 좋은 성능을 보이는 것을 확인하였습니다.\n",
    "- 트리모델은 non-linear, non-monotonic 관계, 특성간 상호작용이 존재하는 데이터 학습에 적용하기 좋습니다.\n",
    "- 한 트리를 깊게 학습시키면 과적합을 일으키기 쉽기 때문에. 배깅(Bagging, 랜덤포레스트)이나 **부스팅(Boosting)** 앙상블 모델을 사용해 과적합을 피합니다.\n",
    "- 랜덤포레스트의 장점은 **하이퍼파라미터에 상대적으로 덜 민감한** 것인데, 그래디언트 부스팅의 경우 하이퍼파라미터 셋팅에 따라 랜덤포레스트 보다 **더 좋은 예측 성능**을 보여줄 수도 있습니다."
   ]
  },
  {
   "cell_type": "markdown",
   "metadata": {},
   "source": [
    "#### 부스팅과 배깅의 차이점은?\n",
    "\n",
    "랜덤포레스트나 그래디언트 부스팅은 모두 트리 앙상블 모델이지만 트리를 만드는 방법에 차이가 있습니다.\n",
    "\n",
    "가장 큰 차이는, 랜덤포레스트의 경우 각 트리를 독립적으로 만들지만 **부스팅은 만들어지는 트리가 이전에 만들어진 트리에 영향을 받는다**는 것입니다.\n",
    "\n",
    "부스팅 알고리즘 중 AdaBoost는 각 트리(약한 학습기들, weak learners)가 만들어질 때 잘못 분류되는 관측치에 가중치를 줍니다.\n",
    "\n",
    "그리고 다음 트리가 만들어질 때 이전에 잘못 분류된 관측치가 더 많이 샘플링되게 하여 그 관측치를 분류하는데 더 초점을 맞춥니다.\n",
    "\n",
    "\n",
    "#### AdaBoost의 알고리즘 예시 입니다.\n",
    "\n",
    "##### Step 0. 모든 관측치에 대해 가중치를 동일하게 설정 합니다.\n",
    "\n",
    "##### Step 1. 관측치를 복원추출 하여 약한 학습기 Dn을 학습하고 +, - 분류 합니다.\n",
    "\n",
    "##### Step 2. 잘못 분류된 관측치에 가중치를 부여해 다음 과정에서 샘플링이 잘되도록 합니다.\n",
    "\n",
    "##### Step 3. Step 1~2 과정을 n회 반복(n = 3) 합니다.\n",
    "\n",
    "##### Step 4. 분류기들(D1, D2, D3)을 결합하여 최종 예측을 수행합니다.\n",
    "\n",
    "<img src=\"https://i.imgur.com/XzrlIjT.png\" width=\"500\"  />\n"
   ]
  },
  {
   "cell_type": "markdown",
   "metadata": {},
   "source": [
    "알고리즘을 다시 살펴 볼까요?\n",
    "\n",
    "<img src=\"https://i.imgur.com/UFtdSCR.png\" width=\"700\" />"
   ]
  },
  {
   "cell_type": "markdown",
   "metadata": {},
   "source": [
    "최종 학습기 **H(x)** 는 **약한 학습기들**($h_t$)의 **가중($\\alpha$)합**으로 만들어집니다.\n",
    "여기서 $\\alpha_t$ 가 크면 $e_t$가 작다는 것으로 분류기 $h_t$ 성능이 좋다는 것이고\n",
    "여기서 $\\alpha_t$ 가 작으면 $e_t$가 크다는 것으로 분류기 $h_t$ 성능이 안좋다는 뜻입니다.\n"
   ]
  },
  {
   "cell_type": "markdown",
   "metadata": {},
   "source": [
    "#### 그래디언트 부스팅\n",
    "그래디언트 부스팅은 회귀와 분류문제에 모두 사용할 수 있습니다. 아래 그림은 직관적인 이해를 위해 회귀문제에 적용하는 그래디언트 부스팅 학습 방법을 보여줍니다.\n",
    "<img src=\"https://i.imgur.com/OhKsBke.png\" />\n",
    "\n",
    "그래디언트 부스팅은 AdaBoost와 유사하지만 비용함수(Loss function)을 최적화하는 방법에 있어서 차이가 있습니다. 그래디언트 부스팅에서는 샘플의 가중치를 조정하는 대신 잔차(residual)을 학습하도록 합니다. 이것은 잔차가 더 큰 데이터를 더 학습하도록 만드는 효과가 있습니다.\n",
    "\n"
   ]
  },
  {
   "cell_type": "markdown",
   "metadata": {},
   "source": [
    "sklearn 외에 부스팅이 구현된 여러가지 라이브러리를 사용할 수 있습니다:\n",
    "\n",
    "#### Python libraries for Gradient Boosting\n",
    "- [scikit-learn Gradient Tree Boosting](https://scikit-learn.org/stable/modules/ensemble.html#gradient-boosting) — 상대적으로 속도가 느릴 수 있습니다.\n",
    "  - Anaconda: already installed\n",
    "  - Google Colab: already installed\n",
    "- [xgboost](https://xgboost.readthedocs.io/en/latest/) — 결측값을 수용하며, [monotonic constraints](https://xiaoxiaowang87.github.io/monotonicity_constraint/)를 강제할 수 있습니다.\n",
    "  - Anaconda, Mac/Linux: `conda install -c conda-forge xgboost`\n",
    "  - Windows: `conda install -c anaconda py-xgboost`\n",
    "  - Google Colab: already installed\n",
    "- [LightGBM](https://lightgbm.readthedocs.io/en/latest/) — 결측값을 수용하며, [monotonic constraints](https://blog.datadive.net/monotonicity-constraints-in-machine-learning/)를 강제할 수 있습니다.\n",
    "  - Anaconda: `conda install -c conda-forge lightgbm`\n",
    "  - Google Colab: already installed\n",
    "- [CatBoost](https://catboost.ai/) — 결측값을 수용하며, [categorical features](https://catboost.ai/docs/concepts/algorithm-main-stages_cat-to-numberic.html)를 전처리 없이 사용할 수 있습니다.\n",
    "  - Anaconda: `conda install -c conda-forge catboost`\n",
    "  - Google Colab: `pip install catboost`"
   ]
  },
  {
   "cell_type": "markdown",
   "metadata": {},
   "source": [
    "##### 참고: monotonic constraints"
   ]
  },
  {
   "cell_type": "code",
   "execution_count": 28,
   "metadata": {},
   "outputs": [
    {
     "data": {
      "text/html": [
       "<table><tr><td><img src=\"https://xiaoxiaowang87.github.io/images/2016-11-20-monotonicity_constraint/no_constraint_one_feature.png\" width=\"300\" /></td><td><img src=\"https://xiaoxiaowang87.github.io/images/2016-11-20-monotonicity_constraint/w_constraint_one_feature.png\" width=\"300\" /></td></tr></table>"
      ],
      "text/plain": [
       "<IPython.core.display.HTML object>"
      ]
     },
     "metadata": {},
     "output_type": "display_data"
    }
   ],
   "source": [
    "# monotonic constraints 효과, 단조증가해야 하는 특성이 오류로 비단조 증가할때 변수마다 적용 가능합니다.\n",
    "from IPython.display import HTML, display\n",
    "display(HTML('<table><tr><td><img src=\"https://xiaoxiaowang87.github.io/images/2016-11-20-monotonicity_constraint/no_constraint_one_feature.png\" width=\"300\" /></td><td><img src=\"https://xiaoxiaowang87.github.io/images/2016-11-20-monotonicity_constraint/w_constraint_one_feature.png\" width=\"300\" /></td></tr></table>'))\n"
   ]
  },
  {
   "cell_type": "markdown",
   "metadata": {},
   "source": [
    "이번에는 sklearn 이 아닌 다른 라이브러리의 ML 모델을 사용해 봅시다. xgboost는, sklearn과 사용방법이 매우 유사하니 걱정하실 필요 없습니다.\n",
    "\n",
    "#### [XGBoost Python API Reference: Scikit-Learn API](https://xgboost.readthedocs.io/en/latest/python/python_api.html#module-xgboost.sklearn)"
   ]
  },
  {
   "cell_type": "code",
   "execution_count": 29,
   "metadata": {
    "colab": {},
    "colab_type": "code",
    "id": "wsnJRKjfWYph"
   },
   "outputs": [],
   "source": [
    "from xgboost import XGBClassifier\n",
    "\n",
    "pipe = make_pipeline(\n",
    "    OrdinalEncoder(),\n",
    "    SimpleImputer(strategy='median'),\n",
    "    XGBClassifier(n_estimators=200\n",
    "                  , random_state=2\n",
    "                  , n_jobs=-1\n",
    "                  , max_depth=7\n",
    "                  , learning_rate=0.2\n",
    "                 )\n",
    ")\n",
    "\n",
    "pipe.fit(X_train, y_train);"
   ]
  },
  {
   "cell_type": "markdown",
   "metadata": {},
   "source": [
    "xgboost 는 랜덤포레스트보다 하이퍼파라미터 셋팅에 민감합니다"
   ]
  },
  {
   "cell_type": "code",
   "execution_count": 30,
   "metadata": {},
   "outputs": [
    {
     "name": "stdout",
     "output_type": "stream",
     "text": [
      "검증 정확도:  0.7601707982445736\n",
      "              precision    recall  f1-score   support\n",
      "\n",
      "           0       0.79      0.77      0.78      4724\n",
      "           1       0.72      0.74      0.73      3707\n",
      "\n",
      "    accuracy                           0.76      8431\n",
      "   macro avg       0.76      0.76      0.76      8431\n",
      "weighted avg       0.76      0.76      0.76      8431\n",
      "\n"
     ]
    }
   ],
   "source": [
    "from sklearn.metrics import accuracy_score\n",
    "y_pred = pipe.predict(X_val)\n",
    "print('검증 정확도: ', accuracy_score(y_val, y_pred))\n",
    "\n",
    "print(classification_report(y_pred, y_val))"
   ]
  },
  {
   "cell_type": "markdown",
   "metadata": {
    "colab_type": "text",
    "id": "eCjVSlD_XJr2"
   },
   "source": [
    "#### Early Stopping을 사용하여 과적합을 피합니다\n",
    "\n",
    "왜 `n_estimators` 최적화를 위해 GridSearchCV나 반복문 대신 early stopping을 사용할까요?\n",
    "\n",
    "`n_iterations` 가 반복수라 할때, early stopping을 사용하면 우리는 `n_iterations` 만큼의 트리를 학습하면 됩니다.\n",
    "\n",
    "하지만 GridSearchCV나 반복문을 사용하면 무려 `sum(range(1,n_rounds+1))` 트리를 학습해야 합니다!\n",
    "거기에 `max_depth`, `learning_rate` 등등 파라미터 값에 따라 더 돌려야 합니다.\n",
    "\n",
    "early stopping을 잘 활용하는게 훨씬 효과적이겠지요.\n",
    "\n",
    "- [Avoid Overfitting By Early Stopping With XGBoost In Python](https://machinelearningmastery.com/avoid-overfitting-by-early-stopping-with-xgboost-in-python/)\n"
   ]
  },
  {
   "cell_type": "markdown",
   "metadata": {},
   "source": [
    "#### 타겟 비율이 균형이 안맞을 때는 클래스에 weight를 주기 위해 ratio를 계산합니다."
   ]
  },
  {
   "cell_type": "raw",
   "metadata": {},
   "source": [
    "vc = y_train.value_counts().tolist()\n",
    "vc"
   ]
  },
  {
   "cell_type": "raw",
   "metadata": {},
   "source": [
    "# sum(negative instances) / sum(positive instances)\n",
    "ratio = float(vc[0]/vc[1])\n",
    "ratio"
   ]
  },
  {
   "cell_type": "code",
   "execution_count": 31,
   "metadata": {
    "colab": {},
    "colab_type": "code",
    "id": "ZNX3IKftXBFS"
   },
   "outputs": [
    {
     "name": "stdout",
     "output_type": "stream",
     "text": [
      "[0]\tvalidation_0-error:0.23978\tvalidation_1-error:0.24801\n",
      "Multiple eval metrics have been passed: 'validation_1-error' will be used for early stopping.\n",
      "\n",
      "Will train until validation_1-error hasn't improved in 50 rounds.\n",
      "[1]\tvalidation_0-error:0.23509\tvalidation_1-error:0.24564\n",
      "[2]\tvalidation_0-error:0.22940\tvalidation_1-error:0.24268\n",
      "[3]\tvalidation_0-error:0.22830\tvalidation_1-error:0.24173\n",
      "[4]\tvalidation_0-error:0.22575\tvalidation_1-error:0.23900\n",
      "[5]\tvalidation_0-error:0.22409\tvalidation_1-error:0.23817\n",
      "[6]\tvalidation_0-error:0.22258\tvalidation_1-error:0.23663\n",
      "[7]\tvalidation_0-error:0.22098\tvalidation_1-error:0.23627\n",
      "[8]\tvalidation_0-error:0.22089\tvalidation_1-error:0.23734\n",
      "[9]\tvalidation_0-error:0.21893\tvalidation_1-error:0.23627\n",
      "[10]\tvalidation_0-error:0.21691\tvalidation_1-error:0.23485\n",
      "[11]\tvalidation_0-error:0.21626\tvalidation_1-error:0.23508\n",
      "[12]\tvalidation_0-error:0.21419\tvalidation_1-error:0.23437\n",
      "[13]\tvalidation_0-error:0.21261\tvalidation_1-error:0.23331\n",
      "[14]\tvalidation_0-error:0.21101\tvalidation_1-error:0.23354\n",
      "[15]\tvalidation_0-error:0.21009\tvalidation_1-error:0.23212\n",
      "[16]\tvalidation_0-error:0.20888\tvalidation_1-error:0.23224\n",
      "[17]\tvalidation_0-error:0.20769\tvalidation_1-error:0.23295\n",
      "[18]\tvalidation_0-error:0.20627\tvalidation_1-error:0.23236\n",
      "[19]\tvalidation_0-error:0.20473\tvalidation_1-error:0.23271\n",
      "[20]\tvalidation_0-error:0.20393\tvalidation_1-error:0.23200\n",
      "[21]\tvalidation_0-error:0.20298\tvalidation_1-error:0.23188\n",
      "[22]\tvalidation_0-error:0.20179\tvalidation_1-error:0.23105\n",
      "[23]\tvalidation_0-error:0.20061\tvalidation_1-error:0.23129\n",
      "[24]\tvalidation_0-error:0.19954\tvalidation_1-error:0.23117\n",
      "[25]\tvalidation_0-error:0.19865\tvalidation_1-error:0.23046\n",
      "[26]\tvalidation_0-error:0.19758\tvalidation_1-error:0.23176\n",
      "[27]\tvalidation_0-error:0.19660\tvalidation_1-error:0.23188\n",
      "[28]\tvalidation_0-error:0.19524\tvalidation_1-error:0.23141\n",
      "[29]\tvalidation_0-error:0.19503\tvalidation_1-error:0.23129\n",
      "[30]\tvalidation_0-error:0.19370\tvalidation_1-error:0.23271\n",
      "[31]\tvalidation_0-error:0.19293\tvalidation_1-error:0.23236\n",
      "[32]\tvalidation_0-error:0.19180\tvalidation_1-error:0.23259\n",
      "[33]\tvalidation_0-error:0.19014\tvalidation_1-error:0.23070\n",
      "[34]\tvalidation_0-error:0.18892\tvalidation_1-error:0.23034\n",
      "[35]\tvalidation_0-error:0.18862\tvalidation_1-error:0.22951\n",
      "[36]\tvalidation_0-error:0.18753\tvalidation_1-error:0.23034\n",
      "[37]\tvalidation_0-error:0.18622\tvalidation_1-error:0.23153\n",
      "[38]\tvalidation_0-error:0.18524\tvalidation_1-error:0.23034\n",
      "[39]\tvalidation_0-error:0.18471\tvalidation_1-error:0.23046\n",
      "[40]\tvalidation_0-error:0.18379\tvalidation_1-error:0.22987\n",
      "[41]\tvalidation_0-error:0.18344\tvalidation_1-error:0.23022\n",
      "[42]\tvalidation_0-error:0.18266\tvalidation_1-error:0.23283\n",
      "[43]\tvalidation_0-error:0.18222\tvalidation_1-error:0.23354\n",
      "[44]\tvalidation_0-error:0.18115\tvalidation_1-error:0.23390\n",
      "[45]\tvalidation_0-error:0.17991\tvalidation_1-error:0.23366\n",
      "[46]\tvalidation_0-error:0.17955\tvalidation_1-error:0.23437\n",
      "[47]\tvalidation_0-error:0.17842\tvalidation_1-error:0.23402\n",
      "[48]\tvalidation_0-error:0.17777\tvalidation_1-error:0.23307\n",
      "[49]\tvalidation_0-error:0.17700\tvalidation_1-error:0.23283\n",
      "[50]\tvalidation_0-error:0.17629\tvalidation_1-error:0.23402\n",
      "[51]\tvalidation_0-error:0.17513\tvalidation_1-error:0.23449\n",
      "[52]\tvalidation_0-error:0.17442\tvalidation_1-error:0.23437\n",
      "[53]\tvalidation_0-error:0.17442\tvalidation_1-error:0.23461\n",
      "[54]\tvalidation_0-error:0.17294\tvalidation_1-error:0.23331\n",
      "[55]\tvalidation_0-error:0.17214\tvalidation_1-error:0.23414\n",
      "[56]\tvalidation_0-error:0.17184\tvalidation_1-error:0.23414\n",
      "[57]\tvalidation_0-error:0.17128\tvalidation_1-error:0.23508\n",
      "[58]\tvalidation_0-error:0.16983\tvalidation_1-error:0.23461\n",
      "[59]\tvalidation_0-error:0.16890\tvalidation_1-error:0.23402\n",
      "[60]\tvalidation_0-error:0.16819\tvalidation_1-error:0.23378\n",
      "[61]\tvalidation_0-error:0.16760\tvalidation_1-error:0.23425\n",
      "[62]\tvalidation_0-error:0.16686\tvalidation_1-error:0.23508\n",
      "[63]\tvalidation_0-error:0.16597\tvalidation_1-error:0.23366\n",
      "[64]\tvalidation_0-error:0.16526\tvalidation_1-error:0.23366\n",
      "[65]\tvalidation_0-error:0.16413\tvalidation_1-error:0.23366\n",
      "[66]\tvalidation_0-error:0.16336\tvalidation_1-error:0.23366\n",
      "[67]\tvalidation_0-error:0.16289\tvalidation_1-error:0.23354\n",
      "[68]\tvalidation_0-error:0.16259\tvalidation_1-error:0.23390\n",
      "[69]\tvalidation_0-error:0.16223\tvalidation_1-error:0.23342\n",
      "[70]\tvalidation_0-error:0.16194\tvalidation_1-error:0.23259\n",
      "[71]\tvalidation_0-error:0.16123\tvalidation_1-error:0.23283\n",
      "[72]\tvalidation_0-error:0.16060\tvalidation_1-error:0.23402\n",
      "[73]\tvalidation_0-error:0.15980\tvalidation_1-error:0.23342\n",
      "[74]\tvalidation_0-error:0.15939\tvalidation_1-error:0.23283\n",
      "[75]\tvalidation_0-error:0.15900\tvalidation_1-error:0.23342\n",
      "[76]\tvalidation_0-error:0.15820\tvalidation_1-error:0.23295\n",
      "[77]\tvalidation_0-error:0.15749\tvalidation_1-error:0.23354\n",
      "[78]\tvalidation_0-error:0.15672\tvalidation_1-error:0.23319\n",
      "[79]\tvalidation_0-error:0.15589\tvalidation_1-error:0.23307\n",
      "[80]\tvalidation_0-error:0.15559\tvalidation_1-error:0.23247\n",
      "[81]\tvalidation_0-error:0.15458\tvalidation_1-error:0.23283\n",
      "[82]\tvalidation_0-error:0.15408\tvalidation_1-error:0.23319\n",
      "[83]\tvalidation_0-error:0.15369\tvalidation_1-error:0.23271\n",
      "[84]\tvalidation_0-error:0.15283\tvalidation_1-error:0.23295\n",
      "[85]\tvalidation_0-error:0.15233\tvalidation_1-error:0.23354\n",
      "Stopping. Best iteration:\n",
      "[35]\tvalidation_0-error:0.18862\tvalidation_1-error:0.22951\n",
      "\n"
     ]
    },
    {
     "data": {
      "text/plain": [
       "XGBClassifier(base_score=0.5, booster=None, colsample_bylevel=1,\n",
       "              colsample_bynode=1, colsample_bytree=1, gamma=0, gpu_id=-1,\n",
       "              importance_type='gain', interaction_constraints=None,\n",
       "              learning_rate=0.2, max_delta_step=0, max_depth=7,\n",
       "              min_child_weight=1, missing=nan, monotone_constraints=None,\n",
       "              n_estimators=1000, n_jobs=-1, num_parallel_tree=1, random_state=0,\n",
       "              reg_alpha=0, reg_lambda=1, scale_pos_weight=1, subsample=1,\n",
       "              tree_method=None, validate_parameters=False, verbosity=None)"
      ]
     },
     "execution_count": 31,
     "metadata": {},
     "output_type": "execute_result"
    }
   ],
   "source": [
    "encoder = OrdinalEncoder()\n",
    "X_train_encoded = encoder.fit_transform(X_train) # 학습데이터\n",
    "X_val_encoded = encoder.transform(X_val) # 검증데이터\n",
    "\n",
    "model = XGBClassifier(\n",
    "    n_estimators=1000,  # <= 1000 트리로 설정했지만, early stopping 에 따라 조절됩니다.\n",
    "    max_depth=7,        # default=3, high cardinality 특성을 위해 기본보다 높여 보았습니다.\n",
    "    learning_rate=0.2,\n",
    "#     scale_pos_weight=ratio, # imbalance 데이터 일 경우 비율을 적용합니다.\n",
    "    n_jobs=-1\n",
    ")\n",
    "\n",
    "eval_set = [(X_train_encoded, y_train), \n",
    "            (X_val_encoded, y_val)]\n",
    "\n",
    "model.fit(X_train_encoded, y_train, \n",
    "          eval_set=eval_set,\n",
    "          eval_metric='error', # #(wrong cases)/#(all cases)\n",
    "          early_stopping_rounds=50\n",
    "         ) # 50 rounds 동안 스코어의 개선이 없으면 멈춤"
   ]
  },
  {
   "cell_type": "code",
   "execution_count": 32,
   "metadata": {},
   "outputs": [
    {
     "data": {
      "image/png": "[encoded data removed]",
      "text/plain": [
       "<Figure size 432x288 with 1 Axes>"
      ]
     },
     "metadata": {
      "needs_background": "light"
     },
     "output_type": "display_data"
    }
   ],
   "source": [
    "results = model.evals_result()\n",
    "train_error = results['validation_0']['error']\n",
    "val_error = results['validation_1']['error']\n",
    "\n",
    "epoch = range(1, len(train_error)+1)\n",
    "plt.plot(epoch, train_error, label='Train')\n",
    "plt.plot(epoch, val_error, label='Validation')\n",
    "plt.ylabel('Classification Error')\n",
    "plt.xlabel('Model Complexity (n_estimators)')\n",
    "plt.ylim((0.15, 0.25)) # Zoom in\n",
    "plt.legend();"
   ]
  },
  {
   "cell_type": "code",
   "execution_count": 33,
   "metadata": {},
   "outputs": [
    {
     "name": "stdout",
     "output_type": "stream",
     "text": [
      "검증 정확도 0.7704898588542285\n",
      "              precision    recall  f1-score   support\n",
      "\n",
      "           0       0.78      0.81      0.79      4608\n",
      "           1       0.76      0.73      0.74      3823\n",
      "\n",
      "    accuracy                           0.77      8431\n",
      "   macro avg       0.77      0.77      0.77      8431\n",
      "weighted avg       0.77      0.77      0.77      8431\n",
      "\n"
     ]
    }
   ],
   "source": [
    "print('검증 정확도', model.score(X_val_encoded, y_val))\n",
    "\n",
    "print(classification_report(y_val, model.predict(X_val_encoded)))\n"
   ]
  },
  {
   "cell_type": "markdown",
   "metadata": {
    "colab_type": "text",
    "id": "ZF7-ml6BhRRf"
   },
   "source": [
    "### 하이퍼파라미터 튜닝\n",
    "#### Random Forest\n",
    "- max_depth (높은값에서 감소시키며 튜닝, 너무 깊어지면 과적합)\n",
    "- n_estimators (적을경우 과소적합, 높을경우 긴 학습시간)\n",
    "- min_samples_leaf (과적합일경우 높임)\n",
    "- max_features (줄일 수록 다양한 트리생성, 높이면 같은 특성을 사용하는 트리가 많아져 다양성이 감소)\n",
    "- class_weight (imbalanced 클래스인 경우 시도)\n",
    "\n",
    "#### XGBoost\n",
    "- learning_rate (높을경우 과적합 위험이 있습니다)\n",
    "- max_depth (낮은값에서 증가시키며 튜닝, 너무 깊어지면 과적합위험, -1 설정시 제한 없이 분기, 특성이 많을 수록 깊게 설정)\n",
    "- n_estimators (너무 크게 주면 긴 학습시간, early_stopping_rounds와 같이 사용)\n",
    "- scale_pos_weight (imbalanced 문제인 경우 적용시도)\n",
    "\n",
    "\n",
    "\n",
    "보다 자세한 내용은 다음을 참고하세요\n",
    "- [Notes on Parameter Tuning](https://xgboost.readthedocs.io/en/latest/tutorials/param_tuning.html)"
   ]
  },
  {
   "cell_type": "markdown",
   "metadata": {},
   "source": [
    "## 참고자료\n",
    "\n",
    "- [Olson 2017](https://arxiv.org/abs/1708.05070)\n",
    "\n",
    "- [Feature Importance in Decision Trees](https://sefiks.com/2020/04/06/feature-importance-in-decision-trees/)\n",
    "\n",
    "- Permutation Importance\n",
    "    - [Kaggle: Machine Learning Explainability](https://www.kaggle.com/dansbecker/permutation-importance)\n",
    "    - [Christoph Molnar: Interpretable Machine Learning](https://christophm.github.io/interpretable-ml-book/feature-importance.html)\n",
    "    - [Selecting good features, Part 3, Random Forests](https://blog.datadive.net/selecting-good-features-part-iii-random-forests/)\n",
    "    - [Permutation Importance vs Random Forest Feature Importance (MDI)](https://scikit-learn.org/stable/auto_examples/inspection/plot_permutation_importance.html) \n",
    "    - [Beware Default Random Forest Importances](https://explained.ai/rf-importance/index.html)\n",
    "    - [eli5.sklearn.PermutationImportance](https://eli5.readthedocs.io/en/latest/autodocs/sklearn.html#eli5.sklearn.permutation_importance.PermutationImportance)\n",
    "    - [eli5.show_weights](https://eli5.readthedocs.io/en/latest/autodocs/eli5.html#eli5.show_weights)\n",
    "    - [scikit-learn user guide, `scoring` parameter](https://scikit-learn.org/stable/modules/model_evaluation.html#the-scoring-parameter-defining-model-evaluation-rules)\n",
    "    \n",
    "- Boosting\n",
    "    - [Understanding AdaBoost](https://towardsdatascience.com/understanding-adaboost-2f94f22d5bfe)\n",
    "    - [Study of AdaBoost and Gradient Boosting Algorithms for Predictive Analytics](https://link.springer.com/chapter/10.1007/978-981-15-0633-8_22)\n",
    "    - [Gradient Boosting, DataCamp](https://campus.datacamp.com/courses/machine-learning-with-tree-based-models-in-python/boosting?ex=5)\n",
    "    - [Gradient Boost Part 2: Regression Details](https://youtu.be/2xudPOBz-vs)\n",
    "    - [Gradient Boost Part 3: Classification](https://youtu.be/jxuNLH5dXCs)\n",
    "    - [Avoid Overfitting By Early Stopping With XGBoost In Python](https://machinelearningmastery.com/avoid-overfitting-by-early-stopping-with-xgboost-in-python/)\n",
    "    - [Notes on parameter tuning](https://xgboost.readthedocs.io/en/latest/tutorials/param_tuning.html)\n",
    "    - [Parameters documentation](https://xgboost.readthedocs.io/en/latest/parameter.html)\n",
    "\n"
   ]
  }
 ],
 "metadata": {
  "kernelspec": {
   "display_name": "codestates_ds",
   "language": "python",
   "name": "codestates_ds"
  },
  "language_info": {
   "codemirror_mode": {
    "name": "ipython",
    "version": 3
   },
   "file_extension": ".py",
   "mimetype": "text/x-python",
   "name": "python",
   "nbconvert_exporter": "python",
   "pygments_lexer": "ipython3",
   "version": "3.7.7"
  }
 },
 "nbformat": 4,
 "nbformat_minor": 4
}
