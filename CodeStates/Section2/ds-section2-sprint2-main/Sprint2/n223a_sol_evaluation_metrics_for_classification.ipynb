{
 "cells": [
  {
   "cell_type": "markdown",
   "metadata": {},
   "source": [
    "<img align=\"right\" src=\"https://ds-cs-images.s3.ap-northeast-2.amazonaws.com/Codestates_Fulllogo_Color.png\" width=100>\n",
    "\n",
    "## *DATA SCIENCE / SECTION 2 / SPRINT 2 / NOTE 3*\n",
    "\n",
    "# 📝 Assignment\n",
    "---"
   ]
  },
  {
   "cell_type": "markdown",
   "metadata": {
    "colab_type": "text",
    "id": "nCc3XZEyG3XV"
   },
   "source": [
    "# Evaluation Metrics for Classification\n",
    "\n",
    "### 1) Kaggle 챌린지를 이어서 진행합니다.\n",
    "- **다음 조건에서 F beta score를 구하고 과제 제출폼에 제출하세요.**\n",
    "    - TP = 4442, TN = 6165, FP = 1515, FN = 1930, 재현율에 정확도의 2배 가중치를 부여합니다."
   ]
  },
  {
   "cell_type": "code",
   "execution_count": 1,
   "metadata": {},
   "outputs": [],
   "source": [
    "# 변수 설정\n",
    "tp = 4442\n",
    "tn = 6165\n",
    "fp = 1515\n",
    "fn = 1930\n",
    "\n",
    "# 가중치\n",
    "beta = 2"
   ]
  },
  {
   "cell_type": "code",
   "execution_count": 2,
   "metadata": {},
   "outputs": [],
   "source": [
    "# 정밀도 : 모델이 Positive로 예측한 경우 중 올바르게 예측한 경우\n",
    "positive = tp+fp\n",
    "precision = tp/positive\n",
    "\n",
    "# 재현율 : 실제 Positive인 것들 중 올바르게 Positive라고 예측한경우\n",
    "real_positive = tp + fn\n",
    "recall = tp/real_positive\n",
    "\n",
    "# f1 beta 스코어\n",
    "f1_beta = (1+beta**2)*((precision*recall)/((beta**2*precision)+recall))"
   ]
  },
  {
   "cell_type": "code",
   "execution_count": 3,
   "metadata": {},
   "outputs": [
    {
     "data": {
      "text/plain": [
       "(0.7456773543730065, 0.697112366603892, 0.7063126093178564)"
      ]
     },
     "execution_count": 3,
     "metadata": {},
     "output_type": "execute_result"
    }
   ],
   "source": [
    "# 확인\n",
    "precision, recall, f1_beta"
   ]
  },
  {
   "cell_type": "markdown",
   "metadata": {},
   "source": [
    "### 2) 모델을 학습한 후 Confusion matrix를 그리고 해석하세요\n",
    "- 임계값을 조정한 후 confusion matrix를 그려보세요\n",
    "- **(객관식) 임계값을 증가시킬때 positive 범주에 대한 재현율의 변화 양상을 과제 제출폼에 제출하세요.**\n",
    "    1. 증가\n",
    "    2. 감소\n",
    "    3. 변화가 없다\n"
   ]
  },
  {
   "cell_type": "code",
   "execution_count": 4,
   "metadata": {},
   "outputs": [],
   "source": [
    "# 데이터 호출 및 split\n",
    "import pandas as pd\n",
    "from sklearn.model_selection import train_test_split\n",
    "\n",
    "# target\n",
    "target = 'vacc_h1n1_f'\n",
    "\n",
    "\n",
    "# train, test data\n",
    "train = pd.merge(pd.read_csv('https://ds-lecture-data.s3.ap-northeast-2.amazonaws.com/vacc_flu/train.csv'), \n",
    "                 pd.read_csv('https://ds-lecture-data.s3.ap-northeast-2.amazonaws.com/vacc_flu/train_labels.csv')[target], left_index=True, right_index=True)\n",
    "test = pd.read_csv('https://ds-lecture-data.s3.ap-northeast-2.amazonaws.com/vacc_flu/test.csv')\n",
    "\n",
    "\n",
    "# submission form\n",
    "sample_submission = pd.read_csv('https://ds-lecture-data.s3.ap-northeast-2.amazonaws.com/vacc_flu/submission.csv')"
   ]
  },
  {
   "cell_type": "code",
   "execution_count": 7,
   "metadata": {},
   "outputs": [],
   "source": [
    "# train, validation의 target, 즉 y 값 나누기\n",
    "y = train[target]\n",
    "X_train = train.drop(target, axis=1,inplace=True)\n",
    "\n",
    "# train, validation 나누기\n",
    "X_train, X_val, y_train, y_val = train_test_split(train, y, test_size=0.20, random_state=2)"
   ]
  },
  {
   "cell_type": "code",
   "execution_count": 9,
   "metadata": {
    "tags": []
   },
   "outputs": [
    {
     "data": {
      "text/plain": [
       "((33723, 38), (8431, 38))"
      ]
     },
     "execution_count": 9,
     "metadata": {},
     "output_type": "execute_result"
    }
   ],
   "source": [
    "X_train.shape, X_val.shape"
   ]
  },
  {
   "cell_type": "markdown",
   "metadata": {},
   "source": [
    "### simple EDA & feature engineering"
   ]
  },
  {
   "cell_type": "code",
   "execution_count": 10,
   "metadata": {},
   "outputs": [],
   "source": [
    "def feature_engineering(df):\n",
    "    \n",
    "    # behavior : 점수가 높을 수록 더 조심하고 있음\n",
    "    # behavior_careful 생성\n",
    "    behaviorals = [col for col in df.columns if 'behavioral' in col] \n",
    "    df['behavior_careful'] = df[behaviorals].sum(axis=1)\n",
    "    \n",
    "    # 거주 구성원 : 어린이 구성원 비율, 어른 구성원 비율 컬럼 생성\n",
    "    df[\"proportion_child\"] = round((df[\"household_children\"]/df[\"n_people_r\"])*100, 0)\n",
    "    df[\"proportion_adult\"] = round((df[\"n_adult_r\"]/df[\"n_people_r\"])*100, 0)\n",
    "    \n",
    "    # 특성 drop\n",
    "    features_del = [\"employment_industry\", \"employment_occupation\", \"n_adult_r\", \"household_children\",\"census_msa\", \"state\",\n",
    "                   'doctor_recc_seasonal', 'opinion_seas_vacc_effective', 'opinion_seas_risk', 'opinion_seas_sick_from_vacc']\n",
    "    df.drop(features_del, axis=1, inplace= True)\n",
    "    \n",
    "    return df"
   ]
  },
  {
   "cell_type": "code",
   "execution_count": 11,
   "metadata": {},
   "outputs": [
    {
     "name": "stderr",
     "output_type": "stream",
     "text": [
      "<ipython-input-10-45a4e5bdad2e>:6: SettingWithCopyWarning: \n",
      "A value is trying to be set on a copy of a slice from a DataFrame.\n",
      "Try using .loc[row_indexer,col_indexer] = value instead\n",
      "\n",
      "See the caveats in the documentation: https://pandas.pydata.org/pandas-docs/stable/user_guide/indexing.html#returning-a-view-versus-a-copy\n",
      "  df['behavior_careful'] = df[behaviorals].sum(axis=1)\n",
      "<ipython-input-10-45a4e5bdad2e>:9: SettingWithCopyWarning: \n",
      "A value is trying to be set on a copy of a slice from a DataFrame.\n",
      "Try using .loc[row_indexer,col_indexer] = value instead\n",
      "\n",
      "See the caveats in the documentation: https://pandas.pydata.org/pandas-docs/stable/user_guide/indexing.html#returning-a-view-versus-a-copy\n",
      "  df[\"proportion_child\"] = round((df[\"household_children\"]/df[\"n_people_r\"])*100, 0)\n",
      "<ipython-input-10-45a4e5bdad2e>:10: SettingWithCopyWarning: \n",
      "A value is trying to be set on a copy of a slice from a DataFrame.\n",
      "Try using .loc[row_indexer,col_indexer] = value instead\n",
      "\n",
      "See the caveats in the documentation: https://pandas.pydata.org/pandas-docs/stable/user_guide/indexing.html#returning-a-view-versus-a-copy\n",
      "  df[\"proportion_adult\"] = round((df[\"n_adult_r\"]/df[\"n_people_r\"])*100, 0)\n",
      "/Library/Frameworks/Python.framework/Versions/3.8/lib/python3.8/site-packages/pandas/core/frame.py:4308: SettingWithCopyWarning: \n",
      "A value is trying to be set on a copy of a slice from a DataFrame\n",
      "\n",
      "See the caveats in the documentation: https://pandas.pydata.org/pandas-docs/stable/user_guide/indexing.html#returning-a-view-versus-a-copy\n",
      "  return super().drop(\n"
     ]
    }
   ],
   "source": [
    "X_train_cleaned = feature_engineering(X_train)\n",
    "X_val_cleaned = feature_engineering(X_val)"
   ]
  },
  {
   "cell_type": "code",
   "execution_count": 12,
   "metadata": {},
   "outputs": [
    {
     "data": {
      "text/plain": [
       "((33723, 31),\n",
       " Index(['h1n1_concern', 'h1n1_knowledge', 'behavioral_antiviral_meds',\n",
       "        'behavioral_avoidance', 'behavioral_face_mask', 'behavioral_wash_hands',\n",
       "        'behavioral_large_gatherings', 'behavioral_outside_home',\n",
       "        'behavioral_touch_face', 'doctor_recc_h1n1', 'chronic_med_condition',\n",
       "        'child_under_6_months', 'health_insurance', 'health_worker',\n",
       "        'opinion_h1n1_vacc_effective', 'opinion_h1n1_risk',\n",
       "        'opinion_h1n1_sick_from_vacc', 'agegrp', 'education_comp', 'raceeth4_i',\n",
       "        'sex_i', 'inc_pov', 'marital', 'rent_own_r', 'employment_status',\n",
       "        'census_region', 'n_people_r', 'hhs_region', 'behavior_careful',\n",
       "        'proportion_child', 'proportion_adult'],\n",
       "       dtype='object'))"
      ]
     },
     "execution_count": 12,
     "metadata": {},
     "output_type": "execute_result"
    }
   ],
   "source": [
    "# 확인\n",
    "X_train_cleaned.shape, X_train_cleaned.columns"
   ]
  },
  {
   "cell_type": "code",
   "execution_count": 13,
   "metadata": {
    "tags": []
   },
   "outputs": [
    {
     "data": {
      "text/plain": [
       "((8431, 31),\n",
       " Index(['h1n1_concern', 'h1n1_knowledge', 'behavioral_antiviral_meds',\n",
       "        'behavioral_avoidance', 'behavioral_face_mask', 'behavioral_wash_hands',\n",
       "        'behavioral_large_gatherings', 'behavioral_outside_home',\n",
       "        'behavioral_touch_face', 'doctor_recc_h1n1', 'chronic_med_condition',\n",
       "        'child_under_6_months', 'health_insurance', 'health_worker',\n",
       "        'opinion_h1n1_vacc_effective', 'opinion_h1n1_risk',\n",
       "        'opinion_h1n1_sick_from_vacc', 'agegrp', 'education_comp', 'raceeth4_i',\n",
       "        'sex_i', 'inc_pov', 'marital', 'rent_own_r', 'employment_status',\n",
       "        'census_region', 'n_people_r', 'hhs_region', 'behavior_careful',\n",
       "        'proportion_child', 'proportion_adult'],\n",
       "       dtype='object'))"
      ]
     },
     "execution_count": 13,
     "metadata": {},
     "output_type": "execute_result"
    }
   ],
   "source": [
    "# 확인\n",
    "X_val_cleaned.shape, X_val_cleaned.columns"
   ]
  },
  {
   "cell_type": "markdown",
   "metadata": {},
   "source": [
    "### Model fit & predict"
   ]
  },
  {
   "cell_type": "code",
   "execution_count": 64,
   "metadata": {},
   "outputs": [],
   "source": [
    "from sklearn.pipeline import make_pipeline\n",
    "from sklearn.ensemble import RandomForestClassifier\n",
    "from category_encoders import OrdinalEncoder,OneHotEncoder\n",
    "from sklearn.impute import KNNImputer, SimpleImputer\n",
    "from sklearn.metrics import accuracy_score, f1_score, confusion_matrix, precision_score, recall_score"
   ]
  },
  {
   "cell_type": "code",
   "execution_count": 24,
   "metadata": {},
   "outputs": [
    {
     "name": "stderr",
     "output_type": "stream",
     "text": [
      "/Library/Frameworks/Python.framework/Versions/3.8/lib/python3.8/site-packages/category_encoders/utils.py:21: FutureWarning: is_categorical is deprecated and will be removed in a future version.  Use is_categorical_dtype instead\n",
      "  elif pd.api.types.is_categorical(cols):\n",
      "/Library/Frameworks/Python.framework/Versions/3.8/lib/python3.8/site-packages/category_encoders/utils.py:21: FutureWarning: is_categorical is deprecated and will be removed in a future version.  Use is_categorical_dtype instead\n",
      "  elif pd.api.types.is_categorical(cols):\n"
     ]
    },
    {
     "name": "stdout",
     "output_type": "stream",
     "text": [
      "\n",
      "훈련 정확도:  0.9382320671351896\n",
      "검증 정확도:  0.8040564583086229\n",
      "검증 f1:  0.5178050204319907\n"
     ]
    }
   ],
   "source": [
    "onehot= [\"employment_status\"]\n",
    "ordinals = ['opinion_h1n1_vacc_effective','opinion_h1n1_risk','opinion_h1n1_sick_from_vacc', \"agegrp\"]\n",
    "\n",
    "\n",
    "pipe = make_pipeline(\n",
    "    OneHotEncoder(use_cat_names=True, cols=onehot), \n",
    "    OrdinalEncoder(cols=ordinals),\n",
    "    KNNImputer(n_neighbors = 3, weights = 'distance'), \n",
    "    RandomForestClassifier(n_jobs=-1, random_state=10, oob_score=True, n_estimators = 150, min_samples_split = 6)\n",
    ")\n",
    "\n",
    "pipe.fit(X_train_cleaned, y_train)\n",
    "print('\\n훈련 정확도: ', pipe.score(X_train_cleaned, y_train))\n",
    "print('검증 정확도: ', pipe.score(X_val_cleaned, y_val))\n",
    "\n",
    "y_pred = pipe.predict(X_val_cleaned)\n",
    "print('검증 f1: ', f1_score(y_val, y_pred))"
   ]
  },
  {
   "cell_type": "code",
   "execution_count": 28,
   "metadata": {},
   "outputs": [
    {
     "data": {
      "text/plain": [
       "{'onehotencoder': OneHotEncoder(cols=['employment_status'], use_cat_names=True),\n",
       " 'ordinalencoder': OrdinalEncoder(cols=['opinion_h1n1_vacc_effective', 'opinion_h1n1_risk',\n",
       "                      'opinion_h1n1_sick_from_vacc', 'agegrp'],\n",
       "                mapping=[{'col': 'opinion_h1n1_vacc_effective',\n",
       "                          'data_type': dtype('O'),\n",
       "                          'mapping': Somewhat Effective      1\n",
       " NaN                     2\n",
       " Very Effective          3\n",
       " Dont Know               4\n",
       " Not At All Effective    5\n",
       " Not Very Effective      6\n",
       " Refused                 7\n",
       " dtype: int64},\n",
       "                         {'col': 'opinion_h1n1_risk', 'data_type': dtype('O'),\n",
       "                          'mapping'...\n",
       " Somewhat High    4\n",
       " Very High        5\n",
       " Dont Know        6\n",
       " Refused          7\n",
       " dtype: int64},\n",
       "                         {'col': 'opinion_h1n1_sick_from_vacc',\n",
       "                          'data_type': dtype('O'),\n",
       "                          'mapping': Not Very Worried      1\n",
       " NaN                   2\n",
       " Somewhat Worried      3\n",
       " Not At All Worried    4\n",
       " Very Worried          5\n",
       " Dont Know             6\n",
       " Refused               7\n",
       " dtype: int64},\n",
       "                         {'col': 'agegrp', 'data_type': dtype('O'),\n",
       "                          'mapping': 55 - 64 Years         1\n",
       " 6 Months - 9 Years    2\n",
       " 18 - 34 Years         3\n",
       " 35 - 44 Years         4\n",
       " 45 - 54 Years         5\n",
       " 65+ Years             6\n",
       " 10 - 17 Years         7\n",
       " NaN                  -2\n",
       " dtype: int64}]),\n",
       " 'knnimputer': KNNImputer(n_neighbors=3, weights='distance'),\n",
       " 'randomforestclassifier': RandomForestClassifier(min_samples_split=6, n_estimators=150, n_jobs=-1,\n",
       "                        oob_score=True, random_state=10)}"
      ]
     },
     "execution_count": 28,
     "metadata": {},
     "output_type": "execute_result"
    }
   ],
   "source": [
    "# 각 단계 확인\n",
    "pipe.named_steps"
   ]
  },
  {
   "cell_type": "code",
   "execution_count": 31,
   "metadata": {},
   "outputs": [
    {
     "data": {
      "image/png": "[encoded data removed]",
      "text/plain": [
       "<Figure size 360x360 with 1 Axes>"
      ]
     },
     "metadata": {
      "needs_background": "light"
     },
     "output_type": "display_data"
    }
   ],
   "source": [
    "import seaborn as sns\n",
    "# y_pred_proba = pipe.predict_proba(X_val)[:, 0]\n",
    "y_pred_proba = pipe.predict_proba(X_val)[:, 1]\n",
    "y_pred_proba\n",
    "\n",
    "sns.displot(y_pred_proba);"
   ]
  },
  {
   "cell_type": "code",
   "execution_count": 53,
   "metadata": {},
   "outputs": [
    {
     "data": {
      "image/png": "[encoded data removed]",
      "text/plain": [
       "<Figure size 432x288 with 2 Axes>"
      ]
     },
     "metadata": {
      "needs_background": "light"
     },
     "output_type": "display_data"
    }
   ],
   "source": [
    "# 오차 행렬 - 시각화\n",
    "from sklearn.metrics import plot_confusion_matrix\n",
    "import matplotlib.pyplot as plt\n",
    "\n",
    "fig, ax = plt.subplots()\n",
    "matrix = plot_confusion_matrix(pipe, X_val_cleaned, y_val,\n",
    "                            cmap = plt.cm.Blues,\n",
    "                            ax = ax);\n",
    "plt.title(f'Confusion matrix, n = {len(y_val)}', fontsize=15)\n",
    "plt.show()"
   ]
  },
  {
   "cell_type": "code",
   "execution_count": 65,
   "metadata": {},
   "outputs": [],
   "source": [
    "# 재현율 확인 - 함수\n",
    "def recall_check(model, X, y, threshold):\n",
    "    \n",
    "    confmat = confusion_matrix(y_true=y_val, y_pred=y_pred)\n",
    "    y_pred_proba = model.predict_proba(X)[:, 1]\n",
    "    y_pred_threshold = y_pred_proba > threshold\n",
    "    \n",
    "    print('정밀도: %.3f' % precision_score(y_true=y, y_pred=y_pred_threshold)) \n",
    "    print('재현율: %.3f' % recall_score(y_true=y, y_pred=y_pred_threshold))"
   ]
  },
  {
   "cell_type": "code",
   "execution_count": 66,
   "metadata": {},
   "outputs": [
    {
     "name": "stdout",
     "output_type": "stream",
     "text": [
      "정밀도: 0.433\n",
      "재현율: 0.790\n"
     ]
    }
   ],
   "source": [
    "# 임계값(threshold)= 0.2\n",
    "recall_check(pipe, X_val_cleaned, y_val, 0.2)"
   ]
  },
  {
   "cell_type": "code",
   "execution_count": 67,
   "metadata": {},
   "outputs": [
    {
     "name": "stdout",
     "output_type": "stream",
     "text": [
      "정밀도: 0.433\n",
      "재현율: 0.790\n"
     ]
    }
   ],
   "source": [
    "# 임계값(threshold)= 0.5\n",
    "recall_check(pipe, X_val_cleaned, y_val, 0.5)"
   ]
  },
  {
   "cell_type": "code",
   "execution_count": 68,
   "metadata": {},
   "outputs": [
    {
     "name": "stdout",
     "output_type": "stream",
     "text": [
      "정밀도: 0.849\n",
      "재현율: 0.052\n"
     ]
    }
   ],
   "source": [
    "# 임계값(threshold)= 0.5\n",
    "recall_check(pipe, X_val_cleaned, y_val, 0.8)"
   ]
  },
  {
   "cell_type": "markdown",
   "metadata": {},
   "source": [
    "### 3) 랜덤포레스트의 n_estimator를 1, 10, 100, 1000으로 바꾸어 가며 positive 범주의 predict_proba를 비교해 보세요\n",
    "- 파라미터는 다음과 같이 설정합니다.\n",
    "    - n_jobs=-1, random_state=10, max_depth=None, n_estimators = n\n",
    "- **(객관식) 확률값들의 분포(종류)의 변화를 과제 제출폼에 제출하세요**\n",
    "    1. 다양해진다\n",
    "    2. 변화가없다\n"
   ]
  },
  {
   "cell_type": "code",
   "execution_count": 77,
   "metadata": {},
   "outputs": [
    {
     "name": "stdout",
     "output_type": "stream",
     "text": [
      "n_estimators = 1 일때\n"
     ]
    },
    {
     "name": "stderr",
     "output_type": "stream",
     "text": [
      "/Library/Frameworks/Python.framework/Versions/3.8/lib/python3.8/site-packages/category_encoders/utils.py:21: FutureWarning: is_categorical is deprecated and will be removed in a future version.  Use is_categorical_dtype instead\n",
      "  elif pd.api.types.is_categorical(cols):\n",
      "/Library/Frameworks/Python.framework/Versions/3.8/lib/python3.8/site-packages/category_encoders/utils.py:21: FutureWarning: is_categorical is deprecated and will be removed in a future version.  Use is_categorical_dtype instead\n",
      "  elif pd.api.types.is_categorical(cols):\n",
      "/Library/Frameworks/Python.framework/Versions/3.8/lib/python3.8/site-packages/sklearn/ensemble/_forest.py:541: UserWarning: Some inputs do not have OOB scores. This probably means too few trees were used to compute any reliable oob estimates.\n",
      "  warn(\"Some inputs do not have OOB scores. \"\n",
      "/Library/Frameworks/Python.framework/Versions/3.8/lib/python3.8/site-packages/sklearn/ensemble/_forest.py:545: RuntimeWarning: invalid value encountered in true_divide\n",
      "  decision = (predictions[k] /\n"
     ]
    },
    {
     "name": "stdout",
     "output_type": "stream",
     "text": [
      "\n",
      "훈련 정확도:  0.8501616107700976\n",
      "검증 정확도:  0.7619499466255486\n",
      "검증 f1:  0.4839290305991258\n"
     ]
    },
    {
     "data": {
      "image/png": "[encoded data removed]",
      "text/plain": [
       "<Figure size 360x360 with 1 Axes>"
      ]
     },
     "metadata": {
      "needs_background": "light"
     },
     "output_type": "display_data"
    }
   ],
   "source": [
    "# 파이프라인 구축\n",
    "pipe_1 = make_pipeline(\n",
    "    OneHotEncoder(use_cat_names=True, cols=onehot), \n",
    "    OrdinalEncoder(cols=ordinals),\n",
    "    SimpleImputer(), \n",
    "    RandomForestClassifier(n_jobs=-1, random_state=10, oob_score=True, n_estimators = 1, min_samples_split = 6)\n",
    ")\n",
    "print(\"n_estimators = 1 일때\")\n",
    "\n",
    "# 모델 학습 및 정확도 측정\n",
    "pipe_1.fit(X_train_cleaned, y_train)\n",
    "print('\\n훈련 정확도: ', pipe_1.score(X_train_cleaned, y_train))\n",
    "print('검증 정확도: ', pipe_1.score(X_val_cleaned, y_val))\n",
    "\n",
    "# f1 score\n",
    "y_pred_1 = pipe_1.predict(X_val_cleaned)\n",
    "print('검증 f1: ', f1_score(y_val, y_pred_1))\n",
    "\n",
    "# 확률값 분포\n",
    "y_pred_proba_1 = pipe_1.predict_proba(X_val)[:, 1]\n",
    "sns.displot(y_pred_proba_1)\n",
    "plt.title(\"predict_proba\")\n",
    "plt.show()"
   ]
  },
  {
   "cell_type": "code",
   "execution_count": 79,
   "metadata": {},
   "outputs": [
    {
     "name": "stdout",
     "output_type": "stream",
     "text": [
      "n_estimators = 10 일때\n"
     ]
    },
    {
     "name": "stderr",
     "output_type": "stream",
     "text": [
      "/Library/Frameworks/Python.framework/Versions/3.8/lib/python3.8/site-packages/category_encoders/utils.py:21: FutureWarning: is_categorical is deprecated and will be removed in a future version.  Use is_categorical_dtype instead\n",
      "  elif pd.api.types.is_categorical(cols):\n",
      "/Library/Frameworks/Python.framework/Versions/3.8/lib/python3.8/site-packages/category_encoders/utils.py:21: FutureWarning: is_categorical is deprecated and will be removed in a future version.  Use is_categorical_dtype instead\n",
      "  elif pd.api.types.is_categorical(cols):\n",
      "/Library/Frameworks/Python.framework/Versions/3.8/lib/python3.8/site-packages/sklearn/ensemble/_forest.py:541: UserWarning: Some inputs do not have OOB scores. This probably means too few trees were used to compute any reliable oob estimates.\n",
      "  warn(\"Some inputs do not have OOB scores. \"\n",
      "/Library/Frameworks/Python.framework/Versions/3.8/lib/python3.8/site-packages/sklearn/ensemble/_forest.py:545: RuntimeWarning: invalid value encountered in true_divide\n",
      "  decision = (predictions[k] /\n"
     ]
    },
    {
     "name": "stdout",
     "output_type": "stream",
     "text": [
      "\n",
      "훈련 정확도:  0.9239094979687453\n",
      "검증 정확도:  0.8121219309690428\n",
      "검증 f1:  0.5507657402155417\n"
     ]
    },
    {
     "data": {
      "image/png": "[encoded data removed]",
      "text/plain": [
       "<Figure size 360x360 with 1 Axes>"
      ]
     },
     "metadata": {
      "needs_background": "light"
     },
     "output_type": "display_data"
    }
   ],
   "source": [
    "# 파이프라인 구축\n",
    "pipe_10 = make_pipeline(\n",
    "    OneHotEncoder(use_cat_names=True, cols=onehot), \n",
    "    OrdinalEncoder(cols=ordinals),\n",
    "    SimpleImputer(), \n",
    "    RandomForestClassifier(n_jobs=-1, random_state=10, oob_score=True, n_estimators = 10, min_samples_split = 6)\n",
    ")\n",
    "print(\"n_estimators = 10 일때\")\n",
    "\n",
    "# 모델 학습 및 정확도 측정\n",
    "pipe_10.fit(X_train_cleaned, y_train)\n",
    "print('\\n훈련 정확도: ', pipe_10.score(X_train_cleaned, y_train))\n",
    "print('검증 정확도: ', pipe_10.score(X_val_cleaned, y_val))\n",
    "\n",
    "# f1 score\n",
    "y_pred_10 = pipe_10.predict(X_val_cleaned)\n",
    "print('검증 f1: ', f1_score(y_val, y_pred_10))\n",
    "\n",
    "# 확률값 분포\n",
    "y_pred_proba_10 = pipe_10.predict_proba(X_val_cleaned)[:, 1]\n",
    "sns.displot(y_pred_proba_10)\n",
    "plt.title(\"predict_proba\")\n",
    "plt.show()"
   ]
  },
  {
   "cell_type": "code",
   "execution_count": 80,
   "metadata": {},
   "outputs": [
    {
     "name": "stdout",
     "output_type": "stream",
     "text": [
      "n_estimators = 100 일때\n"
     ]
    },
    {
     "name": "stderr",
     "output_type": "stream",
     "text": [
      "/Library/Frameworks/Python.framework/Versions/3.8/lib/python3.8/site-packages/category_encoders/utils.py:21: FutureWarning: is_categorical is deprecated and will be removed in a future version.  Use is_categorical_dtype instead\n",
      "  elif pd.api.types.is_categorical(cols):\n",
      "/Library/Frameworks/Python.framework/Versions/3.8/lib/python3.8/site-packages/category_encoders/utils.py:21: FutureWarning: is_categorical is deprecated and will be removed in a future version.  Use is_categorical_dtype instead\n",
      "  elif pd.api.types.is_categorical(cols):\n"
     ]
    },
    {
     "name": "stdout",
     "output_type": "stream",
     "text": [
      "\n",
      "훈련 정확도:  0.9333096106514841\n",
      "검증 정확도:  0.8239829201755426\n",
      "검증 f1:  0.5648093841642229\n"
     ]
    },
    {
     "data": {
      "image/png": "[encoded data removed]",
      "text/plain": [
       "<Figure size 360x360 with 1 Axes>"
      ]
     },
     "metadata": {
      "needs_background": "light"
     },
     "output_type": "display_data"
    }
   ],
   "source": [
    "# 파이프라인 구축\n",
    "pipe_100 = make_pipeline(\n",
    "    OneHotEncoder(use_cat_names=True, cols=onehot), \n",
    "    OrdinalEncoder(cols=ordinals),\n",
    "    SimpleImputer(), \n",
    "    RandomForestClassifier(n_jobs=-1, random_state=10, oob_score=True, n_estimators = 100, min_samples_split = 6)\n",
    ")\n",
    "print(\"n_estimators = 100 일때\")\n",
    "\n",
    "# 모델 학습 및 정확도 측정\n",
    "pipe_100.fit(X_train_cleaned, y_train)\n",
    "print('\\n훈련 정확도: ', pipe_100.score(X_train_cleaned, y_train))\n",
    "print('검증 정확도: ', pipe_100.score(X_val_cleaned, y_val))\n",
    "\n",
    "# f1 score\n",
    "y_pred_100 = pipe_100.predict(X_val_cleaned)\n",
    "print('검증 f1: ', f1_score(y_val, y_pred_100))\n",
    "\n",
    "# 확률값 분포\n",
    "y_pred_proba_100 = pipe_100.predict_proba(X_val_cleaned)[:, 1]\n",
    "sns.displot(y_pred_proba_100)\n",
    "plt.title(\"predict_proba\")\n",
    "plt.show()"
   ]
  },
  {
   "cell_type": "code",
   "execution_count": 81,
   "metadata": {},
   "outputs": [
    {
     "name": "stdout",
     "output_type": "stream",
     "text": [
      "n_estimators = 1000 일때\n"
     ]
    },
    {
     "name": "stderr",
     "output_type": "stream",
     "text": [
      "/Library/Frameworks/Python.framework/Versions/3.8/lib/python3.8/site-packages/category_encoders/utils.py:21: FutureWarning: is_categorical is deprecated and will be removed in a future version.  Use is_categorical_dtype instead\n",
      "  elif pd.api.types.is_categorical(cols):\n",
      "/Library/Frameworks/Python.framework/Versions/3.8/lib/python3.8/site-packages/category_encoders/utils.py:21: FutureWarning: is_categorical is deprecated and will be removed in a future version.  Use is_categorical_dtype instead\n",
      "  elif pd.api.types.is_categorical(cols):\n"
     ]
    },
    {
     "name": "stdout",
     "output_type": "stream",
     "text": [
      "\n",
      "훈련 정확도:  0.9334578774130415\n",
      "검증 정확도:  0.8241015300676077\n",
      "검증 f1:  0.5654849106358043\n"
     ]
    },
    {
     "data": {
      "image/png": "[encoded data removed]",
      "text/plain": [
       "<Figure size 360x360 with 1 Axes>"
      ]
     },
     "metadata": {
      "needs_background": "light"
     },
     "output_type": "display_data"
    }
   ],
   "source": [
    "# 파이프라인 구축\n",
    "pipe_1000 = make_pipeline(\n",
    "    OneHotEncoder(use_cat_names=True, cols=onehot), \n",
    "    OrdinalEncoder(cols=ordinals),\n",
    "    SimpleImputer(), \n",
    "    RandomForestClassifier(n_jobs=-1, random_state=10, oob_score=True, n_estimators = 1000, min_samples_split = 6)\n",
    ")\n",
    "print(\"n_estimators = 1000 일때\")\n",
    "\n",
    "# 모델 학습 및 정확도 측정\n",
    "pipe_1000.fit(X_train_cleaned, y_train)\n",
    "print('\\n훈련 정확도: ', pipe_1000.score(X_train_cleaned, y_train))\n",
    "print('검증 정확도: ', pipe_1000.score(X_val_cleaned, y_val))\n",
    "\n",
    "# f1 score\n",
    "y_pred_1000 = pipe_1000.predict(X_val_cleaned)\n",
    "print('검증 f1: ', f1_score(y_val, y_pred_1000))\n",
    "\n",
    "# 확률값 분포\n",
    "y_pred_proba_1000 = pipe_1000.predict_proba(X_val_cleaned)[:, 1]\n",
    "sns.displot(y_pred_proba_1000)\n",
    "plt.title(\"predict proba\")\n",
    "plt.show()"
   ]
  },
  {
   "cell_type": "markdown",
   "metadata": {},
   "source": [
    "### 4) 두개 이상의 다른 분류 모델을 학습시켜 ROC curve, AUC 점수를 비교하고 설명합니다.\n",
    "- 더 좋은 결과가 나오는 모델을 사용해서 캐글에 제출하세요\n",
    "- **캐글 Leaderboard의 본인 Score를 과제 제출폼에 제출하세요.**"
   ]
  },
  {
   "cell_type": "code",
   "execution_count": 94,
   "metadata": {},
   "outputs": [
    {
     "data": {
      "text/plain": [
       "0.7057952550758024"
      ]
     },
     "execution_count": 94,
     "metadata": {},
     "output_type": "execute_result"
    },
    {
     "data": {
      "image/png": "[encoded data removed]",
      "text/plain": [
       "<Figure size 432x288 with 1 Axes>"
      ]
     },
     "metadata": {
      "needs_background": "light"
     },
     "output_type": "display_data"
    }
   ],
   "source": [
    "from sklearn.metrics import roc_curve, roc_auc_score\n",
    "\n",
    "auc_score_1 = roc_auc_score(y_val, y_pred_proba_1)\n",
    "fpr_1, tpr_1, thresholds_1 = roc_curve(y_val, y_pred_proba_1)\n",
    "\n",
    "roc_1 = pd.DataFrame({'FPR(Fall-out)': fpr_1, \n",
    "                      'TPRate(Recall)': tpr_1, \n",
    "                      'Threshold': thresholds_1\n",
    "})\n",
    "\n",
    "plt.scatter(fpr_1, tpr_1)\n",
    "plt.title('ROC curve')\n",
    "plt.xlabel('FPR(Fall-out)')\n",
    "plt.ylabel('TPR(Recall)')\n",
    "\n",
    "auc_score_1"
   ]
  },
  {
   "cell_type": "code",
   "execution_count": 96,
   "metadata": {},
   "outputs": [
    {
     "data": {
      "text/plain": [
       "0.813884806503536"
      ]
     },
     "execution_count": 96,
     "metadata": {},
     "output_type": "execute_result"
    },
    {
     "data": {
      "image/png": "[encoded data removed]",
      "text/plain": [
       "<Figure size 432x288 with 1 Axes>"
      ]
     },
     "metadata": {
      "needs_background": "light"
     },
     "output_type": "display_data"
    }
   ],
   "source": [
    "auc_score_10 = roc_auc_score(y_val, y_pred_proba_10)\n",
    "fpr_10, tpr_10, thresholds_10 = roc_curve(y_val, y_pred_proba_10)\n",
    "\n",
    "roc_10 = pd.DataFrame({'FPR(Fall-out)': fpr_10, \n",
    "                      'TPRate(Recall)': tpr_10, \n",
    "                      'Threshold': thresholds_10\n",
    "})\n",
    "\n",
    "plt.scatter(fpr_10, tpr_10)\n",
    "plt.title('ROC curve')\n",
    "plt.xlabel('FPR(Fall-out)')\n",
    "plt.ylabel('TPR(Recall)')\n",
    "\n",
    "auc_score_10"
   ]
  },
  {
   "cell_type": "code",
   "execution_count": 97,
   "metadata": {},
   "outputs": [
    {
     "data": {
      "text/plain": [
       "0.8373425376491896"
      ]
     },
     "execution_count": 97,
     "metadata": {},
     "output_type": "execute_result"
    },
    {
     "data": {
      "image/png": "[encoded data removed]",
      "text/plain": [
       "<Figure size 432x288 with 1 Axes>"
      ]
     },
     "metadata": {
      "needs_background": "light"
     },
     "output_type": "display_data"
    }
   ],
   "source": [
    "auc_score_100 = roc_auc_score(y_val, y_pred_proba_100)\n",
    "fpr_100, tpr_100, thresholds_100 = roc_curve(y_val, y_pred_proba_100)\n",
    "\n",
    "roc_100 = pd.DataFrame({'FPR(Fall-out)': fpr_100, \n",
    "                      'TPRate(Recall)': tpr_100, \n",
    "                      'Threshold': thresholds_100\n",
    "})\n",
    "\n",
    "plt.scatter(fpr_100, tpr_100)\n",
    "plt.title('ROC curve')\n",
    "plt.xlabel('FPR(Fall-out)')\n",
    "plt.ylabel('TPR(Recall)')\n",
    "\n",
    "auc_score_100"
   ]
  },
  {
   "cell_type": "code",
   "execution_count": 98,
   "metadata": {},
   "outputs": [
    {
     "data": {
      "text/plain": [
       "0.8384292229236404"
      ]
     },
     "execution_count": 98,
     "metadata": {},
     "output_type": "execute_result"
    },
    {
     "data": {
      "image/png": "[encoded data removed]",
      "text/plain": [
       "<Figure size 432x288 with 1 Axes>"
      ]
     },
     "metadata": {
      "needs_background": "light"
     },
     "output_type": "display_data"
    }
   ],
   "source": [
    "auc_score_1000 = roc_auc_score(y_val, y_pred_proba_1000)\n",
    "fpr_1000, tpr_1000, thresholds_1000 = roc_curve(y_val, y_pred_proba_1000)\n",
    "\n",
    "roc_1000 = pd.DataFrame({'FPR(Fall-out)': fpr_1000, \n",
    "                      'TPRate(Recall)': tpr_1000, \n",
    "                      'Threshold': thresholds_1000\n",
    "})\n",
    "\n",
    "plt.scatter(fpr_1000, tpr_1000)\n",
    "plt.title('ROC curve')\n",
    "plt.xlabel('FPR(Fall-out)')\n",
    "plt.ylabel('TPR(Recall)')\n",
    "\n",
    "auc_score_1000"
   ]
  }
 ],
 "metadata": {
  "kernelspec": {
   "display_name": "Python 3",
   "language": "python",
   "name": "python3"
  },
  "language_info": {
   "codemirror_mode": {
    "name": "ipython",
    "version": 3
   },
   "file_extension": ".py",
   "mimetype": "text/x-python",
   "name": "python",
   "nbconvert_exporter": "python",
   "pygments_lexer": "ipython3",
   "version": "3.8.8"
  }
 },
 "nbformat": 4,
 "nbformat_minor": 4
}
