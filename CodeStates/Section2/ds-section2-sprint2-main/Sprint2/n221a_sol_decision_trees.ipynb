{
 "cells": [
  {
   "cell_type": "markdown",
   "metadata": {
    "colab_type": "text",
    "id": "view-in-github"
   },
   "source": [
    "<a href=\"https://colab.research.google.com/github/creative-dana/ds-cs-section2-sprint2/blob/master/n221-decision-trees/n221a_sol_decision_trees.ipynb\" target=\"_parent\"><img src=\"https://colab.research.google.com/assets/colab-badge.svg\" alt=\"Open In Colab\"/></a>"
   ]
  },
  {
   "cell_type": "markdown",
   "metadata": {
    "id": "ktNG4t7blhkB"
   },
   "source": [
    "<img align=\"right\" src=\"https://ds-cs-images.s3.ap-northeast-2.amazonaws.com/Codestates_Fulllogo_Color.png\" width=100>\n",
    "\n",
    "## *DATA SCIENCE / SECTION 2 / SPRINT 2 / NOTE 1*\n",
    "\n",
    "# 📝 Assignment\n",
    "---"
   ]
  },
  {
   "cell_type": "markdown",
   "metadata": {
    "id": "3_Gyt8EGlhkM"
   },
   "source": [
    "# Decision Trees(결정트리)"
   ]
  },
  {
   "cell_type": "markdown",
   "metadata": {
    "id": "CI_pBGYylhkO"
   },
   "source": [
    "## 캐글 인클래스(InClass) Competitions\n",
    "\n",
    "### 1) EDA를 수행합시다\n",
    "\n",
    "- [캐글 계정을 만드세요](https://www.kaggle.com/), 공유된 인클래스 대회 url을 통해 이동한 후 대회에 참여하세요.\n",
    "- H1N1 데이터를 훈련/검증/테스트 셋으로 나누어 준비하세요\n",
    "- profiling을 사용하여 데이터를 살펴보고, missing value, zeros, cardinarity 등을 확인하여 처리하세요.\n",
    "- 본인만의 특성공학을 수행하세요.\n",
    "- **(객관식) H1N1 분류기의 기준모델을 설정하세요. 기준모델의 정확도를 과제 제출폼에 제출하세요.**\n",
    "    1. 0.24\n",
    "    2. 0.50\n",
    "    3. 0.76\n",
    "    4. 1\n"
   ]
  },
  {
   "cell_type": "code",
   "execution_count": null,
   "metadata": {
    "id": "LGbwIQwIqJn-"
   },
   "outputs": [],
   "source": [
    "import numpy as np\n",
    "import pandas as pd\n",
    "\n",
    "from sklearn.model_selection import train_test_split\n",
    "from category_encoders import OneHotEncoder\n",
    "from sklearn.impute import SimpleImputer\n",
    "from sklearn.preprocessing import StandardScaler\n",
    "from sklearn.pipeline import make_pipeline\n",
    "\n",
    "from sklearn.linear_model import LogisticRegression\n",
    "from sklearn.tree import DecisionTreeClassifier\n",
    "from sklearn.metrics import accuracy_score\n",
    "from sklearn.metrics import f1_score\n",
    "\n",
    "import graphviz\n",
    "from sklearn.tree import export_graphviz"
   ]
  },
  {
   "cell_type": "code",
   "execution_count": null,
   "metadata": {
    "id": "xpZ4DDxglhkO"
   },
   "outputs": [],
   "source": [
    "target = 'vacc_h1n1_f'\n",
    "# target = 'vacc_seas_f'\n",
    "\n",
    "train = pd.merge(pd.read_csv('https://ds-lecture-data.s3.ap-northeast-2.amazonaws.com/vacc_flu/train.csv'), \n",
    "                 pd.read_csv('https://ds-lecture-data.s3.ap-northeast-2.amazonaws.com/vacc_flu/train_labels.csv')[target], left_index=True, right_index=True)\n",
    "test = pd.read_csv('https://ds-lecture-data.s3.ap-northeast-2.amazonaws.com/vacc_flu/test.csv')\n",
    "sample_submission = pd.read_csv('https://ds-lecture-data.s3.ap-northeast-2.amazonaws.com/vacc_flu/submission.csv')"
   ]
  },
  {
   "cell_type": "markdown",
   "metadata": {
    "id": "r2ZOxkizNXoq"
   },
   "source": [
    "### 컬럼 설명"
   ]
  },
  {
   "cell_type": "code",
   "execution_count": null,
   "metadata": {
    "colab": {
     "base_uri": "https://localhost:8080/"
    },
    "id": "iGsvdMaDqx_V",
    "outputId": "081762c6-d988-42b8-db82-db140e2b3a70"
   },
   "outputs": [
    {
     "data": {
      "text/plain": [
       "Index(['h1n1_concern', 'h1n1_knowledge', 'behavioral_antiviral_meds',\n",
       "       'behavioral_avoidance', 'behavioral_face_mask', 'behavioral_wash_hands',\n",
       "       'behavioral_large_gatherings', 'behavioral_outside_home',\n",
       "       'behavioral_touch_face', 'doctor_recc_h1n1', 'doctor_recc_seasonal',\n",
       "       'chronic_med_condition', 'child_under_6_months', 'health_insurance',\n",
       "       'health_worker', 'opinion_h1n1_vacc_effective', 'opinion_h1n1_risk',\n",
       "       'opinion_h1n1_sick_from_vacc', 'opinion_seas_vacc_effective',\n",
       "       'opinion_seas_risk', 'opinion_seas_sick_from_vacc', 'agegrp',\n",
       "       'education_comp', 'raceeth4_i', 'sex_i', 'inc_pov', 'marital',\n",
       "       'rent_own_r', 'employment_status', 'census_region', 'census_msa',\n",
       "       'n_adult_r', 'household_children', 'n_people_r', 'employment_industry',\n",
       "       'employment_occupation', 'hhs_region', 'state', 'vacc_h1n1_f'],\n",
       "      dtype='object')"
      ]
     },
     "execution_count": 5,
     "metadata": {
      "tags": []
     },
     "output_type": "execute_result"
    }
   ],
   "source": [
    "# 컬럼명 확인\n",
    "train.columns"
   ]
  },
  {
   "cell_type": "markdown",
   "metadata": {
    "id": "eoRgZ5DuqyCI"
   },
   "source": [
    "targets\n",
    "  - vacc_h1n1_f : H1N1독감 백신 반응 (이 문제의 label)\n",
    "  - vacc_ease_f : 계절성 독감 백신 반응\n",
    "\n",
    "\n",
    "모든 binary binary 변수는 다음과 같은 규칙을 따릅니다.\n",
    "0 : No / 1 : Yes\n",
    "\n",
    "1. h1n1_concern : H1N1백신에 대한 우려 정도\n",
    "    - 0 : 전혀 우려되지 않음\n",
    "    - 1 : 그다지 우려되지 않음\n",
    "    - 2 : 다소 우려됨\n",
    "    - 3 : 매우 걱정됨\n",
    "\n",
    "2. h1n1_knowledge : H1N1백신에 대해 얼마나 잘 알고 있는가?\n",
    "    - 0 : 아는 것이 전혀 없다\n",
    "    - 1 : 조금 알고 있다.\n",
    "    - 2 : 매우 잘 알고 있다.\n",
    "\n",
    "3. behavioral_antiviral_meds - 항생제 복용 여부 (binary)\n",
    "\n",
    "4. behavioral_avoidance - 독감 유증상자와의 접촉을 피해왔는가?\n",
    "\n",
    "5. behavioral_face_mask - 마스크를 착용 하였는가?\n",
    "\n",
    "6. behavioral_wash_hands - 손을 자주 씻거나 세정제를 사용하였는가? \n",
    "\n",
    "7. behavioral_large_gatherings - 대규모 집단 모임 참석을 줄였는가? \n",
    "\n",
    "8. behavioral_outside_home - 동거인 외의 사람들과의 접촉을 피하였는가?\n",
    "\n",
    "9. behavioral_touch_face - 눈, 코, 입 등을 만지지 않았는가?\n",
    "\n",
    "10. doctor_recc_h1n1 - 의사에게 H1N1독감 백신 투여를 권유받았는가? \n",
    "\n",
    "11. doctor_recc_seasonal - 의사에게 계절성 독감 백신 투여를 권유받았는가?\n",
    "\n",
    "12. chronic_med_condition - 다음의 만성질환으로 인해 약물을 복용하고 있는가? (다음 : 천식 또는 기타 폐 질환, 당뇨병, 심장 질환, 신장 질환, 겸상 적혈구 빈혈 또는 기타 빈혈, 신경 학적 또는 신경근 질환, 간 질환 또는 만성 질환 또는 약물 복용으로 인한 면역 체계 약화 만성 질환)\n",
    "\n",
    "13. child_under_6_months - 6개월 미만 영아와 정기적으로 긴밀히 접촉을 한 적이 있는가?\n",
    "\n",
    "14. health_insurance - 건강 보험에 가입되어 있는가?\n",
    "\n",
    "15. health_worker - 의료계 종사자인가?\n",
    "\n",
    "16. opinion_h1n1_vacc_effective H1N1백신의 효과에 대한 응답자의 생각\n",
    "    - Not at all effective\n",
    "    - Not very effective\n",
    "    - Don't know\n",
    "    - Somewhat effective\n",
    "    - Very effective\n",
    "\n",
    "17. opinion_h1n1_risk - H1N1백신의 위험에 대한 응답자의 생각\n",
    "    - Very Low\n",
    "    - Somewhat low\n",
    "    - Don't know\n",
    "    - Somewhat high\n",
    "    - Very high\n",
    "\n",
    "18. opinion_h1n1_sick_from_vacc - H1N1백신 투여 후 질병에 걸릴 수도 있는 위험에 대한 응답자의 생각 \n",
    "    - Not at all worried\n",
    "    - Not very worried\n",
    "    - Don't know\n",
    "    - Somewhat worried\n",
    "    - Very worried\n",
    "\n",
    "19. opinion_seas_vacc_effective - 계절성 백신의 효과에 대한 응답자의 생각\n",
    "    - Not very effective\n",
    "    - Don't know\n",
    "    - Somewhat effective\n",
    "    - Very effective\n",
    "\n",
    "20. opinion_seas_risk - 계절성 백신의 위험에 대한 응답자의 생각\n",
    "    - Very Low\n",
    "    - Somewhat low\n",
    "    - Don't know\n",
    "    - Somewhat high\n",
    "    - Very high\n",
    "\n",
    "21. opinion_seas_sick_from_vacc - 계절성 백신 투여 후 질병에 걸릴 수도 있는 위험에 대한 응답자의 생각\n",
    "    - Not at all worried\n",
    "    - Not very worried\n",
    "    - Don't know\n",
    "    - Somewhat worried\n",
    "    - Very worried\n",
    "\n",
    "22. agegrp - 응답자의 연령별 그룹\n",
    "    - 6 Months - 9 Years\n",
    "    - 10 - 17 Years\n",
    "    - 18 - 34 Years\n",
    "    - 35 - 44 Years\n",
    "    - 45 - 54 Years\n",
    "    - 55 - 64 Years\n",
    "    - 65+ Years\n",
    "\n",
    "23. education_comp - 응답자 스스로가 답한 교육 이수 수준\n",
    "    - 1 = < 12 Years\n",
    "    - 2 = 12 Years\n",
    "    - 3 = Some College\n",
    "    - 4 = College Graduate\n",
    "\n",
    "24. raceeth4_i - 응답자의 인종\n",
    "    - 1 = Hispanic\n",
    "    - 2 = Non-Hispanic, Black Only\n",
    "    - 3 = Non-Hispanic, White Only\n",
    "    - 4 = Non-Hispanic, Other or Multiple Races\n",
    "\n",
    "25. sex_i - 응답자의 성별\n",
    "  - 1 = Male\n",
    "  - 2 = Female\n",
    "\n",
    "24. inc_pov - 2008 년 인구 조사 빈곤 기준과 관련하여 응답자의 가구 연간 소득\n",
    "    - 1 = > $75,000\n",
    "    - 2 = <= $75,000\n",
    "    - 3 = Below Poverty\n",
    "    - 4 = Unknown\n",
    "\n",
    "25. marital - 응답자의 결혼 여부\n",
    "    - 1 = Married\n",
    "    - 2 = Not Married\n",
    "\n",
    "26. rent_own_r - 응답자의 거주 현황\n",
    "    - 1 = Home is Owned\n",
    "    - 2 = Home is Rented or Other Arrangement\n",
    "\n",
    "27. employment_status - 응답자의 근로 현황\n",
    "    - Employed\n",
    "    - Not in Labor Force\n",
    "    - Unemployed\n",
    "\n",
    "28. census_region - 실제 인구 조사 거주 지역\n",
    "    - 1=northeast\n",
    "    - 2=midwest\n",
    "    - 3=south\n",
    "    - 4=west\n",
    "\n",
    "29. census_msa -미국 인구 조사에서 정의한 대도시 통계 지역 (MSA) 내 응답자의 거주지.\n",
    "\n",
    "30. n_adult_r - 거주 구성원 중 어른 인원 수\n",
    "\n",
    "31. household_children - 거주 구성원 중 어린이 인원 수\n",
    "\n",
    "32. n_people_r - 거주 구성원의 총 인원 수\n",
    "\n",
    "33. employment_industry - 응답자가 종사하는 산업 구분\n",
    "\n",
    "34. employment_occupation - 응답자의 직업 유형 (짧은 임의의 문자열로 표시)\n",
    "\n",
    "35. hhs_region - HHS 감시 지역 번호\n",
    "    - Region 1: CT,ME,MA,NH,RI,VT\n",
    "    - Region 2: NJ,NY\n",
    "    - Region 3: DE,DC,MD,PA,VA,WV\n",
    "    - Region 4: AL,FL,GA,KY,MS,NC,SC,TN\n",
    "    - Region 5: IL,IN,MI,MN,OH,WI\n",
    "    - Region 6: AR,LA,NM,OK,TX\n",
    "    - Region 7: IA,KS,MO,NE\n",
    "    - Region 8: CO,MT,ND,SD,UT,WY\n",
    "    - Region 9: AZ,CA,HI,NV\n",
    "    - Region 10: AK,ID,OR,WA\n",
    "\n",
    "36. state - 거주하는 주(州)"
   ]
  },
  {
   "cell_type": "markdown",
   "metadata": {
    "id": "AL8Urt4aNKxX"
   },
   "source": [
    "## EDA"
   ]
  },
  {
   "cell_type": "code",
   "execution_count": null,
   "metadata": {
    "colab": {
     "base_uri": "https://localhost:8080/"
    },
    "id": "or8CdxxQqx8s",
    "outputId": "49ceaf44-3bdd-4c18-91ad-5ba13c88d049"
   },
   "outputs": [
    {
     "name": "stdout",
     "output_type": "stream",
     "text": [
      "훈련 데이터 : 42154\n",
      "테스트 데이터 - features : 28104\n"
     ]
    }
   ],
   "source": [
    "# 데이터 사이즈 확인\n",
    "print(\"훈련 데이터 :\",train.shape[0])\n",
    "print(\"테스트 데이터 - features :\", test.shape[0])"
   ]
  },
  {
   "cell_type": "code",
   "execution_count": null,
   "metadata": {
    "colab": {
     "base_uri": "https://localhost:8080/"
    },
    "id": "ibIEMhB5Ntit",
    "outputId": "f943cdb3-e9af-4004-954f-cf672f1f5399"
   },
   "outputs": [
    {
     "data": {
      "text/plain": [
       "h1n1_concern                   float64\n",
       "h1n1_knowledge                 float64\n",
       "behavioral_antiviral_meds      float64\n",
       "behavioral_avoidance           float64\n",
       "behavioral_face_mask           float64\n",
       "behavioral_wash_hands          float64\n",
       "behavioral_large_gatherings    float64\n",
       "behavioral_outside_home        float64\n",
       "behavioral_touch_face          float64\n",
       "doctor_recc_h1n1               float64\n",
       "doctor_recc_seasonal           float64\n",
       "chronic_med_condition          float64\n",
       "child_under_6_months           float64\n",
       "health_insurance               float64\n",
       "health_worker                  float64\n",
       "opinion_h1n1_vacc_effective     object\n",
       "opinion_h1n1_risk               object\n",
       "opinion_h1n1_sick_from_vacc     object\n",
       "opinion_seas_vacc_effective     object\n",
       "opinion_seas_risk               object\n",
       "opinion_seas_sick_from_vacc     object\n",
       "agegrp                          object\n",
       "education_comp                 float64\n",
       "raceeth4_i                       int64\n",
       "sex_i                            int64\n",
       "inc_pov                          int64\n",
       "marital                        float64\n",
       "rent_own_r                     float64\n",
       "employment_status               object\n",
       "census_region                    int64\n",
       "census_msa                      object\n",
       "n_adult_r                      float64\n",
       "household_children             float64\n",
       "n_people_r                     float64\n",
       "employment_industry             object\n",
       "employment_occupation           object\n",
       "hhs_region                       int64\n",
       "state                           object\n",
       "vacc_h1n1_f                      int64\n",
       "dtype: object"
      ]
     },
     "execution_count": 7,
     "metadata": {
      "tags": []
     },
     "output_type": "execute_result"
    }
   ],
   "source": [
    "# 데이터 타입 확인 - 훈련용\n",
    "train.dtypes\n",
    "\n",
    "# 실수, 정수, 카테고리 (= objects) 타입 확인"
   ]
  },
  {
   "cell_type": "code",
   "execution_count": null,
   "metadata": {
    "colab": {
     "base_uri": "https://localhost:8080/"
    },
    "id": "uXUzIIuUNtlT",
    "outputId": "1a932568-4848-4d86-df59-cfa852c5b60d"
   },
   "outputs": [
    {
     "data": {
      "text/plain": [
       "h1n1_concern                   float64\n",
       "h1n1_knowledge                 float64\n",
       "behavioral_antiviral_meds      float64\n",
       "behavioral_avoidance           float64\n",
       "behavioral_face_mask           float64\n",
       "behavioral_wash_hands          float64\n",
       "behavioral_large_gatherings    float64\n",
       "behavioral_outside_home        float64\n",
       "behavioral_touch_face          float64\n",
       "doctor_recc_h1n1               float64\n",
       "doctor_recc_seasonal           float64\n",
       "chronic_med_condition          float64\n",
       "child_under_6_months           float64\n",
       "health_insurance               float64\n",
       "health_worker                  float64\n",
       "opinion_h1n1_vacc_effective     object\n",
       "opinion_h1n1_risk               object\n",
       "opinion_h1n1_sick_from_vacc     object\n",
       "opinion_seas_vacc_effective     object\n",
       "opinion_seas_risk               object\n",
       "opinion_seas_sick_from_vacc     object\n",
       "agegrp                          object\n",
       "education_comp                 float64\n",
       "raceeth4_i                       int64\n",
       "sex_i                            int64\n",
       "inc_pov                          int64\n",
       "marital                        float64\n",
       "rent_own_r                     float64\n",
       "employment_status               object\n",
       "census_region                    int64\n",
       "census_msa                      object\n",
       "n_adult_r                      float64\n",
       "household_children             float64\n",
       "n_people_r                     float64\n",
       "employment_industry             object\n",
       "employment_occupation           object\n",
       "hhs_region                       int64\n",
       "state                           object\n",
       "dtype: object"
      ]
     },
     "execution_count": 8,
     "metadata": {
      "tags": []
     },
     "output_type": "execute_result"
    }
   ],
   "source": [
    "# 데이터 타입 확인 - 테스트용\n",
    "test.dtypes\n",
    "\n",
    "# 실수, 정수, 카테고리 (= objects) 타입 확인"
   ]
  },
  {
   "cell_type": "code",
   "execution_count": null,
   "metadata": {
    "colab": {
     "base_uri": "https://localhost:8080/"
    },
    "id": "RQVVaYuXNtnq",
    "outputId": "2630b336-8953-4a07-b988-627bfe7f4942"
   },
   "outputs": [
    {
     "data": {
      "text/plain": [
       "h1n1_concern                   False\n",
       "h1n1_knowledge                 False\n",
       "behavioral_antiviral_meds      False\n",
       "behavioral_avoidance           False\n",
       "behavioral_face_mask           False\n",
       "behavioral_wash_hands          False\n",
       "behavioral_large_gatherings    False\n",
       "behavioral_outside_home        False\n",
       "behavioral_touch_face          False\n",
       "doctor_recc_h1n1               False\n",
       "doctor_recc_seasonal           False\n",
       "chronic_med_condition          False\n",
       "child_under_6_months           False\n",
       "health_insurance               False\n",
       "health_worker                  False\n",
       "opinion_h1n1_vacc_effective    False\n",
       "opinion_h1n1_risk              False\n",
       "opinion_h1n1_sick_from_vacc    False\n",
       "opinion_seas_vacc_effective    False\n",
       "opinion_seas_risk              False\n",
       "opinion_seas_sick_from_vacc    False\n",
       "agegrp                         False\n",
       "education_comp                 False\n",
       "raceeth4_i                     False\n",
       "sex_i                          False\n",
       "inc_pov                        False\n",
       "marital                        False\n",
       "rent_own_r                     False\n",
       "employment_status              False\n",
       "census_region                  False\n",
       "census_msa                     False\n",
       "n_adult_r                      False\n",
       "household_children             False\n",
       "n_people_r                     False\n",
       "employment_industry            False\n",
       "employment_occupation          False\n",
       "hhs_region                     False\n",
       "state                          False\n",
       "vacc_h1n1_f                    False\n",
       "dtype: bool"
      ]
     },
     "execution_count": 9,
     "metadata": {
      "tags": []
     },
     "output_type": "execute_result"
    }
   ],
   "source": [
    "# 데이터 중복값 확인 - 훈련용\n",
    "train.T.duplicated()\n",
    "\n",
    "# 중복값 없음"
   ]
  },
  {
   "cell_type": "code",
   "execution_count": null,
   "metadata": {
    "colab": {
     "base_uri": "https://localhost:8080/"
    },
    "id": "kTjgOz-0NtqP",
    "outputId": "1c8d4c8d-3d31-4c00-bb95-f9aeb4e56201"
   },
   "outputs": [
    {
     "data": {
      "text/plain": [
       "h1n1_concern                   False\n",
       "h1n1_knowledge                 False\n",
       "behavioral_antiviral_meds      False\n",
       "behavioral_avoidance           False\n",
       "behavioral_face_mask           False\n",
       "behavioral_wash_hands          False\n",
       "behavioral_large_gatherings    False\n",
       "behavioral_outside_home        False\n",
       "behavioral_touch_face          False\n",
       "doctor_recc_h1n1               False\n",
       "doctor_recc_seasonal           False\n",
       "chronic_med_condition          False\n",
       "child_under_6_months           False\n",
       "health_insurance               False\n",
       "health_worker                  False\n",
       "opinion_h1n1_vacc_effective    False\n",
       "opinion_h1n1_risk              False\n",
       "opinion_h1n1_sick_from_vacc    False\n",
       "opinion_seas_vacc_effective    False\n",
       "opinion_seas_risk              False\n",
       "opinion_seas_sick_from_vacc    False\n",
       "agegrp                         False\n",
       "education_comp                 False\n",
       "raceeth4_i                     False\n",
       "sex_i                          False\n",
       "inc_pov                        False\n",
       "marital                        False\n",
       "rent_own_r                     False\n",
       "employment_status              False\n",
       "census_region                  False\n",
       "census_msa                     False\n",
       "n_adult_r                      False\n",
       "household_children             False\n",
       "n_people_r                     False\n",
       "employment_industry            False\n",
       "employment_occupation          False\n",
       "hhs_region                     False\n",
       "state                          False\n",
       "dtype: bool"
      ]
     },
     "execution_count": 10,
     "metadata": {
      "tags": []
     },
     "output_type": "execute_result"
    }
   ],
   "source": [
    "# 데이터 중복값 확인 - 테스트용\n",
    "test.T.duplicated()\n",
    "\n",
    "# 중복값 없음"
   ]
  },
  {
   "cell_type": "code",
   "execution_count": null,
   "metadata": {
    "colab": {
     "base_uri": "https://localhost:8080/"
    },
    "id": "DbHAiYoRNtst",
    "outputId": "ca524cf7-6f01-4a45-a941-d10d194b69de"
   },
   "outputs": [
    {
     "data": {
      "text/plain": [
       "h1n1_concern                    8420\n",
       "h1n1_knowledge                  8420\n",
       "behavioral_antiviral_meds       8519\n",
       "behavioral_avoidance            8672\n",
       "behavioral_face_mask            8444\n",
       "behavioral_wash_hands           8471\n",
       "behavioral_large_gatherings     8514\n",
       "behavioral_outside_home         8521\n",
       "behavioral_touch_face           8583\n",
       "doctor_recc_h1n1                1885\n",
       "doctor_recc_seasonal            1885\n",
       "chronic_med_condition           1317\n",
       "child_under_6_months            9449\n",
       "health_insurance               19421\n",
       "health_worker                   9430\n",
       "opinion_h1n1_vacc_effective     8779\n",
       "opinion_h1n1_risk               8825\n",
       "opinion_h1n1_sick_from_vacc     8869\n",
       "opinion_seas_vacc_effective     8934\n",
       "opinion_seas_risk               9001\n",
       "opinion_seas_sick_from_vacc     9065\n",
       "agegrp                             0\n",
       "education_comp                 10166\n",
       "raceeth4_i                         0\n",
       "sex_i                              0\n",
       "inc_pov                            0\n",
       "marital                        10199\n",
       "rent_own_r                      2196\n",
       "employment_status              10278\n",
       "census_region                      0\n",
       "census_msa                         0\n",
       "n_adult_r                        309\n",
       "household_children               309\n",
       "n_people_r                       134\n",
       "employment_industry            24989\n",
       "employment_occupation          24989\n",
       "hhs_region                         0\n",
       "state                              0\n",
       "vacc_h1n1_f                        0\n",
       "dtype: int64"
      ]
     },
     "execution_count": 11,
     "metadata": {
      "tags": []
     },
     "output_type": "execute_result"
    }
   ],
   "source": [
    "# 데이터 결측치 확인 - 훈련용\n",
    "# 참고 : 훈련용 데이터는 42,154개\n",
    "train.isnull().sum()\n",
    "\n",
    "# health_insurance, employment_industry, employment_occupation의 경우 결측치가 50%에 육박함."
   ]
  },
  {
   "cell_type": "code",
   "execution_count": null,
   "metadata": {
    "colab": {
     "base_uri": "https://localhost:8080/"
    },
    "id": "bFdoUUNsNtu2",
    "outputId": "a98e3be0-42de-49bf-e275-97b212f4c824"
   },
   "outputs": [
    {
     "data": {
      "text/plain": [
       "h1n1_concern                    5612\n",
       "h1n1_knowledge                  5612\n",
       "behavioral_antiviral_meds       5672\n",
       "behavioral_avoidance            5810\n",
       "behavioral_face_mask            5626\n",
       "behavioral_wash_hands           5648\n",
       "behavioral_large_gatherings     5683\n",
       "behavioral_outside_home         5682\n",
       "behavioral_touch_face           5720\n",
       "doctor_recc_h1n1                1207\n",
       "doctor_recc_seasonal            1207\n",
       "chronic_med_condition            854\n",
       "child_under_6_months            6291\n",
       "health_insurance               12740\n",
       "health_worker                   6270\n",
       "opinion_h1n1_vacc_effective     5864\n",
       "opinion_h1n1_risk               5903\n",
       "opinion_h1n1_sick_from_vacc     5933\n",
       "opinion_seas_vacc_effective     5957\n",
       "opinion_seas_risk               5993\n",
       "opinion_seas_sick_from_vacc     6035\n",
       "agegrp                             0\n",
       "education_comp                  6811\n",
       "raceeth4_i                         0\n",
       "sex_i                              0\n",
       "inc_pov                            0\n",
       "marital                         6823\n",
       "rent_own_r                      1440\n",
       "employment_status               6830\n",
       "census_region                      0\n",
       "census_msa                         0\n",
       "n_adult_r                        185\n",
       "household_children               185\n",
       "n_people_r                        84\n",
       "employment_industry            16671\n",
       "employment_occupation          16671\n",
       "hhs_region                         0\n",
       "state                              0\n",
       "dtype: int64"
      ]
     },
     "execution_count": 12,
     "metadata": {
      "tags": []
     },
     "output_type": "execute_result"
    }
   ],
   "source": [
    "# 데이터 결측치 확인 - 테스트용\n",
    "# 참고 : 테스트용 데이터는 28,104개\n",
    "test.isnull().sum()\n",
    "\n",
    "# health_insurance : 결측치가 50%에 육박함.\n",
    "# employment_industry, employment_occupation : 결측치가 50% 이상"
   ]
  },
  {
   "cell_type": "code",
   "execution_count": null,
   "metadata": {
    "colab": {
     "base_uri": "https://localhost:8080/"
    },
    "id": "Xl4wt-ajNtx9",
    "outputId": "58af40ef-3ade-4276-c536-54d42dd6a954"
   },
   "outputs": [
    {
     "data": {
      "text/plain": [
       "1.0    20302\n",
       "0.0     2431\n",
       "Name: health_insurance, dtype: int64"
      ]
     },
     "execution_count": 13,
     "metadata": {
      "tags": []
     },
     "output_type": "execute_result"
    }
   ],
   "source": [
    "# 결측치 많은 컬럼 상세 확인\n",
    "# 1. helth_insurance\n",
    "train[\"health_insurance\"].value_counts()"
   ]
  },
  {
   "cell_type": "code",
   "execution_count": null,
   "metadata": {
    "colab": {
     "base_uri": "https://localhost:8080/"
    },
    "id": "_iYscKRbNtzp",
    "outputId": "5b3149f2-5969-4185-bc94-45ec8ae5dac1"
   },
   "outputs": [
    {
     "data": {
      "text/plain": [
       "19421"
      ]
     },
     "execution_count": 14,
     "metadata": {
      "tags": []
     },
     "output_type": "execute_result"
    }
   ],
   "source": [
    "# 결측치 개수 재확인\n",
    "train[\"health_insurance\"].isnull().sum()"
   ]
  },
  {
   "cell_type": "code",
   "execution_count": null,
   "metadata": {
    "colab": {
     "base_uri": "https://localhost:8080/",
     "height": 400
    },
    "id": "DGC1uUjFX-00",
    "outputId": "83254789-0c4b-4ccf-9d05-e2ef9e67113f"
   },
   "outputs": [
    {
     "data": {
      "text/html": [
       "<div>\n",
       "<style scoped>\n",
       "    .dataframe tbody tr th:only-of-type {\n",
       "        vertical-align: middle;\n",
       "    }\n",
       "\n",
       "    .dataframe tbody tr th {\n",
       "        vertical-align: top;\n",
       "    }\n",
       "\n",
       "    .dataframe thead th {\n",
       "        text-align: right;\n",
       "    }\n",
       "</style>\n",
       "<table border=\"1\" class=\"dataframe\">\n",
       "  <thead>\n",
       "    <tr style=\"text-align: right;\">\n",
       "      <th></th>\n",
       "      <th>h1n1_concern</th>\n",
       "      <th>h1n1_knowledge</th>\n",
       "      <th>behavioral_antiviral_meds</th>\n",
       "      <th>behavioral_avoidance</th>\n",
       "      <th>behavioral_face_mask</th>\n",
       "      <th>behavioral_wash_hands</th>\n",
       "      <th>behavioral_large_gatherings</th>\n",
       "      <th>behavioral_outside_home</th>\n",
       "      <th>behavioral_touch_face</th>\n",
       "      <th>doctor_recc_h1n1</th>\n",
       "      <th>doctor_recc_seasonal</th>\n",
       "      <th>chronic_med_condition</th>\n",
       "      <th>child_under_6_months</th>\n",
       "      <th>health_insurance</th>\n",
       "      <th>health_worker</th>\n",
       "      <th>opinion_h1n1_vacc_effective</th>\n",
       "      <th>opinion_h1n1_risk</th>\n",
       "      <th>opinion_h1n1_sick_from_vacc</th>\n",
       "      <th>opinion_seas_vacc_effective</th>\n",
       "      <th>opinion_seas_risk</th>\n",
       "      <th>opinion_seas_sick_from_vacc</th>\n",
       "      <th>agegrp</th>\n",
       "      <th>education_comp</th>\n",
       "      <th>raceeth4_i</th>\n",
       "      <th>sex_i</th>\n",
       "      <th>inc_pov</th>\n",
       "      <th>marital</th>\n",
       "      <th>rent_own_r</th>\n",
       "      <th>employment_status</th>\n",
       "      <th>census_region</th>\n",
       "      <th>census_msa</th>\n",
       "      <th>n_adult_r</th>\n",
       "      <th>household_children</th>\n",
       "      <th>n_people_r</th>\n",
       "      <th>employment_industry</th>\n",
       "      <th>employment_occupation</th>\n",
       "      <th>hhs_region</th>\n",
       "      <th>state</th>\n",
       "      <th>vacc_h1n1_f</th>\n",
       "    </tr>\n",
       "  </thead>\n",
       "  <tbody>\n",
       "    <tr>\n",
       "      <th>1</th>\n",
       "      <td>3.0</td>\n",
       "      <td>1.0</td>\n",
       "      <td>0.0</td>\n",
       "      <td>0.0</td>\n",
       "      <td>0.0</td>\n",
       "      <td>1.0</td>\n",
       "      <td>0.0</td>\n",
       "      <td>0.0</td>\n",
       "      <td>1.0</td>\n",
       "      <td>0.0</td>\n",
       "      <td>0.0</td>\n",
       "      <td>0.0</td>\n",
       "      <td>0.0</td>\n",
       "      <td>NaN</td>\n",
       "      <td>0.0</td>\n",
       "      <td>Very Effective</td>\n",
       "      <td>Very Low</td>\n",
       "      <td>Not Very Worried</td>\n",
       "      <td>Very Effective</td>\n",
       "      <td>Somewhat Low</td>\n",
       "      <td>Not At All Worried</td>\n",
       "      <td>45 - 54 Years</td>\n",
       "      <td>3.0</td>\n",
       "      <td>3</td>\n",
       "      <td>1</td>\n",
       "      <td>2</td>\n",
       "      <td>2.0</td>\n",
       "      <td>1.0</td>\n",
       "      <td>Employed</td>\n",
       "      <td>2</td>\n",
       "      <td>MSA, Principle City</td>\n",
       "      <td>1.0</td>\n",
       "      <td>0.0</td>\n",
       "      <td>1.0</td>\n",
       "      <td>Accommodation and Food Services Industries</td>\n",
       "      <td>Food Preparation and Serving Related Occupations</td>\n",
       "      <td>7</td>\n",
       "      <td>NEBRASKA</td>\n",
       "      <td>0</td>\n",
       "    </tr>\n",
       "    <tr>\n",
       "      <th>2</th>\n",
       "      <td>2.0</td>\n",
       "      <td>1.0</td>\n",
       "      <td>0.0</td>\n",
       "      <td>1.0</td>\n",
       "      <td>0.0</td>\n",
       "      <td>1.0</td>\n",
       "      <td>1.0</td>\n",
       "      <td>0.0</td>\n",
       "      <td>1.0</td>\n",
       "      <td>0.0</td>\n",
       "      <td>1.0</td>\n",
       "      <td>0.0</td>\n",
       "      <td>0.0</td>\n",
       "      <td>NaN</td>\n",
       "      <td>0.0</td>\n",
       "      <td>Somewhat Effective</td>\n",
       "      <td>Somewhat Low</td>\n",
       "      <td>Very Worried</td>\n",
       "      <td>Somewhat Effective</td>\n",
       "      <td>Somewhat Low</td>\n",
       "      <td>Very Worried</td>\n",
       "      <td>45 - 54 Years</td>\n",
       "      <td>3.0</td>\n",
       "      <td>3</td>\n",
       "      <td>1</td>\n",
       "      <td>2</td>\n",
       "      <td>2.0</td>\n",
       "      <td>2.0</td>\n",
       "      <td>Employed</td>\n",
       "      <td>1</td>\n",
       "      <td>MSA, Not Principle City</td>\n",
       "      <td>1.0</td>\n",
       "      <td>2.0</td>\n",
       "      <td>3.0</td>\n",
       "      <td>Transportation and Warehousing Industries</td>\n",
       "      <td>Transportation and Material Moving Occupations</td>\n",
       "      <td>1</td>\n",
       "      <td>MASSACHUSETTS</td>\n",
       "      <td>0</td>\n",
       "    </tr>\n",
       "    <tr>\n",
       "      <th>7</th>\n",
       "      <td>1.0</td>\n",
       "      <td>1.0</td>\n",
       "      <td>0.0</td>\n",
       "      <td>0.0</td>\n",
       "      <td>0.0</td>\n",
       "      <td>0.0</td>\n",
       "      <td>0.0</td>\n",
       "      <td>0.0</td>\n",
       "      <td>0.0</td>\n",
       "      <td>0.0</td>\n",
       "      <td>0.0</td>\n",
       "      <td>0.0</td>\n",
       "      <td>0.0</td>\n",
       "      <td>NaN</td>\n",
       "      <td>0.0</td>\n",
       "      <td>Not Very Effective</td>\n",
       "      <td>Very Low</td>\n",
       "      <td>Not At All Worried</td>\n",
       "      <td>Not Very Effective</td>\n",
       "      <td>Very Low</td>\n",
       "      <td>Not At All Worried</td>\n",
       "      <td>18 - 34 Years</td>\n",
       "      <td>3.0</td>\n",
       "      <td>3</td>\n",
       "      <td>1</td>\n",
       "      <td>2</td>\n",
       "      <td>2.0</td>\n",
       "      <td>1.0</td>\n",
       "      <td>Employed</td>\n",
       "      <td>2</td>\n",
       "      <td>MSA, Not Principle City</td>\n",
       "      <td>2.0</td>\n",
       "      <td>0.0</td>\n",
       "      <td>2.0</td>\n",
       "      <td>Construction Industries</td>\n",
       "      <td>Management Occupations</td>\n",
       "      <td>7</td>\n",
       "      <td>MISSOURI</td>\n",
       "      <td>0</td>\n",
       "    </tr>\n",
       "    <tr>\n",
       "      <th>8</th>\n",
       "      <td>2.0</td>\n",
       "      <td>1.0</td>\n",
       "      <td>0.0</td>\n",
       "      <td>1.0</td>\n",
       "      <td>0.0</td>\n",
       "      <td>1.0</td>\n",
       "      <td>1.0</td>\n",
       "      <td>1.0</td>\n",
       "      <td>1.0</td>\n",
       "      <td>NaN</td>\n",
       "      <td>NaN</td>\n",
       "      <td>0.0</td>\n",
       "      <td>0.0</td>\n",
       "      <td>NaN</td>\n",
       "      <td>0.0</td>\n",
       "      <td>Dont Know</td>\n",
       "      <td>Somewhat Low</td>\n",
       "      <td>Not At All Worried</td>\n",
       "      <td>Somewhat Effective</td>\n",
       "      <td>Somewhat Low</td>\n",
       "      <td>Not At All Worried</td>\n",
       "      <td>35 - 44 Years</td>\n",
       "      <td>3.0</td>\n",
       "      <td>1</td>\n",
       "      <td>1</td>\n",
       "      <td>2</td>\n",
       "      <td>1.0</td>\n",
       "      <td>1.0</td>\n",
       "      <td>Employed</td>\n",
       "      <td>2</td>\n",
       "      <td>MSA, Not Principle City</td>\n",
       "      <td>2.0</td>\n",
       "      <td>2.0</td>\n",
       "      <td>4.0</td>\n",
       "      <td>Manufacturing Industries</td>\n",
       "      <td>Transportation and Material Moving Occupations</td>\n",
       "      <td>5</td>\n",
       "      <td>WISCONSIN</td>\n",
       "      <td>0</td>\n",
       "    </tr>\n",
       "    <tr>\n",
       "      <th>9</th>\n",
       "      <td>NaN</td>\n",
       "      <td>NaN</td>\n",
       "      <td>NaN</td>\n",
       "      <td>NaN</td>\n",
       "      <td>NaN</td>\n",
       "      <td>NaN</td>\n",
       "      <td>NaN</td>\n",
       "      <td>NaN</td>\n",
       "      <td>NaN</td>\n",
       "      <td>0.0</td>\n",
       "      <td>0.0</td>\n",
       "      <td>1.0</td>\n",
       "      <td>NaN</td>\n",
       "      <td>NaN</td>\n",
       "      <td>NaN</td>\n",
       "      <td>NaN</td>\n",
       "      <td>NaN</td>\n",
       "      <td>NaN</td>\n",
       "      <td>NaN</td>\n",
       "      <td>NaN</td>\n",
       "      <td>NaN</td>\n",
       "      <td>6 Months - 9 Years</td>\n",
       "      <td>NaN</td>\n",
       "      <td>1</td>\n",
       "      <td>2</td>\n",
       "      <td>2</td>\n",
       "      <td>NaN</td>\n",
       "      <td>2.0</td>\n",
       "      <td>NaN</td>\n",
       "      <td>3</td>\n",
       "      <td>MSA, Not Principle City</td>\n",
       "      <td>2.0</td>\n",
       "      <td>3.0</td>\n",
       "      <td>5.0</td>\n",
       "      <td>NaN</td>\n",
       "      <td>NaN</td>\n",
       "      <td>4</td>\n",
       "      <td>FLORIDA</td>\n",
       "      <td>0</td>\n",
       "    </tr>\n",
       "  </tbody>\n",
       "</table>\n",
       "</div>"
      ],
      "text/plain": [
       "   h1n1_concern  h1n1_knowledge  ...          state  vacc_h1n1_f\n",
       "1           3.0             1.0  ...       NEBRASKA            0\n",
       "2           2.0             1.0  ...  MASSACHUSETTS            0\n",
       "7           1.0             1.0  ...       MISSOURI            0\n",
       "8           2.0             1.0  ...      WISCONSIN            0\n",
       "9           NaN             NaN  ...        FLORIDA            0\n",
       "\n",
       "[5 rows x 39 columns]"
      ]
     },
     "execution_count": 15,
     "metadata": {
      "tags": []
     },
     "output_type": "execute_result"
    }
   ],
   "source": [
    "# 결측치 실제 값 확인 -> NaN\n",
    "# yes/no의 구분이기 때문에 결측치를 평균값으로 채운다던지등의 선택은 할 수 없다.\n",
    "train[train[\"health_insurance\"].isnull()].head(5)"
   ]
  },
  {
   "cell_type": "code",
   "execution_count": null,
   "metadata": {
    "colab": {
     "base_uri": "https://localhost:8080/"
    },
    "id": "FmxDh2A4Nt1w",
    "outputId": "c661cb4a-46fb-4448-e1c8-a33caf374b54"
   },
   "outputs": [
    {
     "data": {
      "text/plain": [
       "Health Care and Social Assistance Industries                     3086\n",
       "Education Services Industries                                    2298\n",
       "Professional, Scientific, and Technical Services Industries      1535\n",
       "Retail Trade Industries                                          1360\n",
       "Construction Industries                                          1115\n",
       "Public Administration Industries                                 1103\n",
       "Manufacturing Industries                                         1062\n",
       "Finance and Insurance Industries                                  778\n",
       "Other Services (except Public)                                    717\n",
       "Accommodation and Food Services Industries                        672\n",
       "Transportation and Warehousing Industries                         637\n",
       "Information Industries                                            426\n",
       "Administrative and Support and Waste Management                   416\n",
       "Agriculture, Forestry, Fishing, and Hunting Industries            377\n",
       "Arts, Entertainment, and Recreation Industries Administration     353\n",
       "Real Estate and Rental and Leasing Industries                     272\n",
       "Wholesale Trade Industries                                        265\n",
       "Armed Forces                                                      194\n",
       "Not ascertained                                                   177\n",
       "Utilities Industries                                              165\n",
       "Mining Industries                                                 109\n",
       "Refused, classified                                                40\n",
       "Management of Companies and Enterprises Industries                  8\n",
       "Name: employment_industry, dtype: int64"
      ]
     },
     "execution_count": 16,
     "metadata": {
      "tags": []
     },
     "output_type": "execute_result"
    }
   ],
   "source": [
    "# 결측치 많은 컬럼을 상세하게 확인해보기\n",
    "# 2. employment_industry\n",
    "train[\"employment_industry\"].value_counts()"
   ]
  },
  {
   "cell_type": "code",
   "execution_count": null,
   "metadata": {
    "colab": {
     "base_uri": "https://localhost:8080/"
    },
    "id": "iXJ-yGTZNt4h",
    "outputId": "41badb68-9a6b-4a9f-f961-ae0571101836"
   },
   "outputs": [
    {
     "data": {
      "text/plain": [
       "24989"
      ]
     },
     "execution_count": 17,
     "metadata": {
      "tags": []
     },
     "output_type": "execute_result"
    }
   ],
   "source": [
    "# 결측치 개수 재확인\n",
    "train[\"employment_industry\"].isnull().sum()"
   ]
  },
  {
   "cell_type": "code",
   "execution_count": null,
   "metadata": {
    "colab": {
     "base_uri": "https://localhost:8080/",
     "height": 417
    },
    "id": "-fodvbamWuot",
    "outputId": "98fb90bb-4381-402d-ed3f-c75bd3a845e5"
   },
   "outputs": [
    {
     "data": {
      "text/html": [
       "<div>\n",
       "<style scoped>\n",
       "    .dataframe tbody tr th:only-of-type {\n",
       "        vertical-align: middle;\n",
       "    }\n",
       "\n",
       "    .dataframe tbody tr th {\n",
       "        vertical-align: top;\n",
       "    }\n",
       "\n",
       "    .dataframe thead th {\n",
       "        text-align: right;\n",
       "    }\n",
       "</style>\n",
       "<table border=\"1\" class=\"dataframe\">\n",
       "  <thead>\n",
       "    <tr style=\"text-align: right;\">\n",
       "      <th></th>\n",
       "      <th>h1n1_concern</th>\n",
       "      <th>h1n1_knowledge</th>\n",
       "      <th>behavioral_antiviral_meds</th>\n",
       "      <th>behavioral_avoidance</th>\n",
       "      <th>behavioral_face_mask</th>\n",
       "      <th>behavioral_wash_hands</th>\n",
       "      <th>behavioral_large_gatherings</th>\n",
       "      <th>behavioral_outside_home</th>\n",
       "      <th>behavioral_touch_face</th>\n",
       "      <th>doctor_recc_h1n1</th>\n",
       "      <th>doctor_recc_seasonal</th>\n",
       "      <th>chronic_med_condition</th>\n",
       "      <th>child_under_6_months</th>\n",
       "      <th>health_insurance</th>\n",
       "      <th>health_worker</th>\n",
       "      <th>opinion_h1n1_vacc_effective</th>\n",
       "      <th>opinion_h1n1_risk</th>\n",
       "      <th>opinion_h1n1_sick_from_vacc</th>\n",
       "      <th>opinion_seas_vacc_effective</th>\n",
       "      <th>opinion_seas_risk</th>\n",
       "      <th>opinion_seas_sick_from_vacc</th>\n",
       "      <th>agegrp</th>\n",
       "      <th>education_comp</th>\n",
       "      <th>raceeth4_i</th>\n",
       "      <th>sex_i</th>\n",
       "      <th>inc_pov</th>\n",
       "      <th>marital</th>\n",
       "      <th>rent_own_r</th>\n",
       "      <th>employment_status</th>\n",
       "      <th>census_region</th>\n",
       "      <th>census_msa</th>\n",
       "      <th>n_adult_r</th>\n",
       "      <th>household_children</th>\n",
       "      <th>n_people_r</th>\n",
       "      <th>employment_industry</th>\n",
       "      <th>employment_occupation</th>\n",
       "      <th>hhs_region</th>\n",
       "      <th>state</th>\n",
       "      <th>vacc_h1n1_f</th>\n",
       "    </tr>\n",
       "  </thead>\n",
       "  <tbody>\n",
       "    <tr>\n",
       "      <th>0</th>\n",
       "      <td>NaN</td>\n",
       "      <td>NaN</td>\n",
       "      <td>NaN</td>\n",
       "      <td>NaN</td>\n",
       "      <td>NaN</td>\n",
       "      <td>NaN</td>\n",
       "      <td>NaN</td>\n",
       "      <td>NaN</td>\n",
       "      <td>NaN</td>\n",
       "      <td>0.0</td>\n",
       "      <td>0.0</td>\n",
       "      <td>0.0</td>\n",
       "      <td>NaN</td>\n",
       "      <td>1.0</td>\n",
       "      <td>NaN</td>\n",
       "      <td>NaN</td>\n",
       "      <td>NaN</td>\n",
       "      <td>NaN</td>\n",
       "      <td>NaN</td>\n",
       "      <td>NaN</td>\n",
       "      <td>NaN</td>\n",
       "      <td>10 - 17 Years</td>\n",
       "      <td>NaN</td>\n",
       "      <td>3</td>\n",
       "      <td>1</td>\n",
       "      <td>2</td>\n",
       "      <td>NaN</td>\n",
       "      <td>2.0</td>\n",
       "      <td>NaN</td>\n",
       "      <td>4</td>\n",
       "      <td>MSA, Not Principle City</td>\n",
       "      <td>2.0</td>\n",
       "      <td>3.0</td>\n",
       "      <td>5.0</td>\n",
       "      <td>NaN</td>\n",
       "      <td>NaN</td>\n",
       "      <td>9</td>\n",
       "      <td>CALIFORNIA</td>\n",
       "      <td>0</td>\n",
       "    </tr>\n",
       "    <tr>\n",
       "      <th>6</th>\n",
       "      <td>NaN</td>\n",
       "      <td>NaN</td>\n",
       "      <td>NaN</td>\n",
       "      <td>NaN</td>\n",
       "      <td>NaN</td>\n",
       "      <td>NaN</td>\n",
       "      <td>NaN</td>\n",
       "      <td>NaN</td>\n",
       "      <td>NaN</td>\n",
       "      <td>0.0</td>\n",
       "      <td>0.0</td>\n",
       "      <td>1.0</td>\n",
       "      <td>NaN</td>\n",
       "      <td>1.0</td>\n",
       "      <td>NaN</td>\n",
       "      <td>NaN</td>\n",
       "      <td>NaN</td>\n",
       "      <td>NaN</td>\n",
       "      <td>NaN</td>\n",
       "      <td>NaN</td>\n",
       "      <td>NaN</td>\n",
       "      <td>10 - 17 Years</td>\n",
       "      <td>NaN</td>\n",
       "      <td>3</td>\n",
       "      <td>2</td>\n",
       "      <td>1</td>\n",
       "      <td>NaN</td>\n",
       "      <td>1.0</td>\n",
       "      <td>NaN</td>\n",
       "      <td>2</td>\n",
       "      <td>MSA, Not Principle City</td>\n",
       "      <td>3.0</td>\n",
       "      <td>1.0</td>\n",
       "      <td>4.0</td>\n",
       "      <td>NaN</td>\n",
       "      <td>NaN</td>\n",
       "      <td>7</td>\n",
       "      <td>MISSOURI</td>\n",
       "      <td>0</td>\n",
       "    </tr>\n",
       "    <tr>\n",
       "      <th>9</th>\n",
       "      <td>NaN</td>\n",
       "      <td>NaN</td>\n",
       "      <td>NaN</td>\n",
       "      <td>NaN</td>\n",
       "      <td>NaN</td>\n",
       "      <td>NaN</td>\n",
       "      <td>NaN</td>\n",
       "      <td>NaN</td>\n",
       "      <td>NaN</td>\n",
       "      <td>0.0</td>\n",
       "      <td>0.0</td>\n",
       "      <td>1.0</td>\n",
       "      <td>NaN</td>\n",
       "      <td>NaN</td>\n",
       "      <td>NaN</td>\n",
       "      <td>NaN</td>\n",
       "      <td>NaN</td>\n",
       "      <td>NaN</td>\n",
       "      <td>NaN</td>\n",
       "      <td>NaN</td>\n",
       "      <td>NaN</td>\n",
       "      <td>6 Months - 9 Years</td>\n",
       "      <td>NaN</td>\n",
       "      <td>1</td>\n",
       "      <td>2</td>\n",
       "      <td>2</td>\n",
       "      <td>NaN</td>\n",
       "      <td>2.0</td>\n",
       "      <td>NaN</td>\n",
       "      <td>3</td>\n",
       "      <td>MSA, Not Principle City</td>\n",
       "      <td>2.0</td>\n",
       "      <td>3.0</td>\n",
       "      <td>5.0</td>\n",
       "      <td>NaN</td>\n",
       "      <td>NaN</td>\n",
       "      <td>4</td>\n",
       "      <td>FLORIDA</td>\n",
       "      <td>0</td>\n",
       "    </tr>\n",
       "    <tr>\n",
       "      <th>10</th>\n",
       "      <td>2.0</td>\n",
       "      <td>1.0</td>\n",
       "      <td>0.0</td>\n",
       "      <td>1.0</td>\n",
       "      <td>0.0</td>\n",
       "      <td>0.0</td>\n",
       "      <td>1.0</td>\n",
       "      <td>1.0</td>\n",
       "      <td>0.0</td>\n",
       "      <td>0.0</td>\n",
       "      <td>0.0</td>\n",
       "      <td>0.0</td>\n",
       "      <td>0.0</td>\n",
       "      <td>0.0</td>\n",
       "      <td>0.0</td>\n",
       "      <td>Not Very Effective</td>\n",
       "      <td>Refused</td>\n",
       "      <td>Somewhat Worried</td>\n",
       "      <td>Somewhat Effective</td>\n",
       "      <td>Somewhat High</td>\n",
       "      <td>Not At All Worried</td>\n",
       "      <td>35 - 44 Years</td>\n",
       "      <td>3.0</td>\n",
       "      <td>2</td>\n",
       "      <td>2</td>\n",
       "      <td>3</td>\n",
       "      <td>1.0</td>\n",
       "      <td>1.0</td>\n",
       "      <td>Not in Labor Force</td>\n",
       "      <td>2</td>\n",
       "      <td>MSA, Not Principle City</td>\n",
       "      <td>2.0</td>\n",
       "      <td>1.0</td>\n",
       "      <td>3.0</td>\n",
       "      <td>NaN</td>\n",
       "      <td>NaN</td>\n",
       "      <td>7</td>\n",
       "      <td>MISSOURI</td>\n",
       "      <td>0</td>\n",
       "    </tr>\n",
       "    <tr>\n",
       "      <th>11</th>\n",
       "      <td>NaN</td>\n",
       "      <td>NaN</td>\n",
       "      <td>NaN</td>\n",
       "      <td>NaN</td>\n",
       "      <td>NaN</td>\n",
       "      <td>NaN</td>\n",
       "      <td>NaN</td>\n",
       "      <td>NaN</td>\n",
       "      <td>NaN</td>\n",
       "      <td>1.0</td>\n",
       "      <td>1.0</td>\n",
       "      <td>0.0</td>\n",
       "      <td>NaN</td>\n",
       "      <td>1.0</td>\n",
       "      <td>NaN</td>\n",
       "      <td>NaN</td>\n",
       "      <td>NaN</td>\n",
       "      <td>NaN</td>\n",
       "      <td>NaN</td>\n",
       "      <td>NaN</td>\n",
       "      <td>NaN</td>\n",
       "      <td>6 Months - 9 Years</td>\n",
       "      <td>NaN</td>\n",
       "      <td>3</td>\n",
       "      <td>1</td>\n",
       "      <td>1</td>\n",
       "      <td>NaN</td>\n",
       "      <td>1.0</td>\n",
       "      <td>NaN</td>\n",
       "      <td>3</td>\n",
       "      <td>MSA, Not Principle City</td>\n",
       "      <td>2.0</td>\n",
       "      <td>2.0</td>\n",
       "      <td>4.0</td>\n",
       "      <td>NaN</td>\n",
       "      <td>NaN</td>\n",
       "      <td>4</td>\n",
       "      <td>ALABAMA</td>\n",
       "      <td>1</td>\n",
       "    </tr>\n",
       "  </tbody>\n",
       "</table>\n",
       "</div>"
      ],
      "text/plain": [
       "    h1n1_concern  h1n1_knowledge  ...       state  vacc_h1n1_f\n",
       "0            NaN             NaN  ...  CALIFORNIA            0\n",
       "6            NaN             NaN  ...    MISSOURI            0\n",
       "9            NaN             NaN  ...     FLORIDA            0\n",
       "10           2.0             1.0  ...    MISSOURI            0\n",
       "11           NaN             NaN  ...     ALABAMA            1\n",
       "\n",
       "[5 rows x 39 columns]"
      ]
     },
     "execution_count": 18,
     "metadata": {
      "tags": []
     },
     "output_type": "execute_result"
    }
   ],
   "source": [
    "# 결측치 실제 값 확인 -> NaN\n",
    "train[train[\"employment_industry\"].isnull()].head(5)"
   ]
  },
  {
   "cell_type": "code",
   "execution_count": null,
   "metadata": {
    "colab": {
     "base_uri": "https://localhost:8080/",
     "height": 405
    },
    "id": "TF5JyS3yWurS",
    "outputId": "9cd9fc67-8e5c-4c12-8d9e-af7b6a3955a4"
   },
   "outputs": [
    {
     "data": {
      "text/html": [
       "<div>\n",
       "<style scoped>\n",
       "    .dataframe tbody tr th:only-of-type {\n",
       "        vertical-align: middle;\n",
       "    }\n",
       "\n",
       "    .dataframe tbody tr th {\n",
       "        vertical-align: top;\n",
       "    }\n",
       "\n",
       "    .dataframe thead th {\n",
       "        text-align: right;\n",
       "    }\n",
       "</style>\n",
       "<table border=\"1\" class=\"dataframe\">\n",
       "  <thead>\n",
       "    <tr style=\"text-align: right;\">\n",
       "      <th></th>\n",
       "      <th>count</th>\n",
       "      <th>unique</th>\n",
       "      <th>top</th>\n",
       "      <th>freq</th>\n",
       "    </tr>\n",
       "  </thead>\n",
       "  <tbody>\n",
       "    <tr>\n",
       "      <th>employment_status</th>\n",
       "      <td>31876</td>\n",
       "      <td>3</td>\n",
       "      <td>Employed</td>\n",
       "      <td>17173</td>\n",
       "    </tr>\n",
       "    <tr>\n",
       "      <th>census_msa</th>\n",
       "      <td>42154</td>\n",
       "      <td>3</td>\n",
       "      <td>MSA, Not Principle City</td>\n",
       "      <td>18957</td>\n",
       "    </tr>\n",
       "    <tr>\n",
       "      <th>opinion_h1n1_vacc_effective</th>\n",
       "      <td>33375</td>\n",
       "      <td>6</td>\n",
       "      <td>Somewhat Effective</td>\n",
       "      <td>14729</td>\n",
       "    </tr>\n",
       "    <tr>\n",
       "      <th>opinion_h1n1_risk</th>\n",
       "      <td>33329</td>\n",
       "      <td>6</td>\n",
       "      <td>Somewhat Low</td>\n",
       "      <td>12520</td>\n",
       "    </tr>\n",
       "    <tr>\n",
       "      <th>opinion_h1n1_sick_from_vacc</th>\n",
       "      <td>33285</td>\n",
       "      <td>6</td>\n",
       "      <td>Not Very Worried</td>\n",
       "      <td>11582</td>\n",
       "    </tr>\n",
       "    <tr>\n",
       "      <th>opinion_seas_vacc_effective</th>\n",
       "      <td>33220</td>\n",
       "      <td>6</td>\n",
       "      <td>Somewhat Effective</td>\n",
       "      <td>14543</td>\n",
       "    </tr>\n",
       "    <tr>\n",
       "      <th>opinion_seas_risk</th>\n",
       "      <td>33153</td>\n",
       "      <td>6</td>\n",
       "      <td>Somewhat Low</td>\n",
       "      <td>11397</td>\n",
       "    </tr>\n",
       "    <tr>\n",
       "      <th>opinion_seas_sick_from_vacc</th>\n",
       "      <td>33089</td>\n",
       "      <td>6</td>\n",
       "      <td>Not At All Worried</td>\n",
       "      <td>14749</td>\n",
       "    </tr>\n",
       "    <tr>\n",
       "      <th>agegrp</th>\n",
       "      <td>42154</td>\n",
       "      <td>7</td>\n",
       "      <td>65+ Years</td>\n",
       "      <td>8517</td>\n",
       "    </tr>\n",
       "    <tr>\n",
       "      <th>employment_industry</th>\n",
       "      <td>17165</td>\n",
       "      <td>23</td>\n",
       "      <td>Health Care and Social Assistance Industries</td>\n",
       "      <td>3086</td>\n",
       "    </tr>\n",
       "    <tr>\n",
       "      <th>employment_occupation</th>\n",
       "      <td>17165</td>\n",
       "      <td>25</td>\n",
       "      <td>Management Occupations</td>\n",
       "      <td>2188</td>\n",
       "    </tr>\n",
       "    <tr>\n",
       "      <th>state</th>\n",
       "      <td>42154</td>\n",
       "      <td>51</td>\n",
       "      <td>NEW MEXICO</td>\n",
       "      <td>1017</td>\n",
       "    </tr>\n",
       "  </tbody>\n",
       "</table>\n",
       "</div>"
      ],
      "text/plain": [
       "                             count  ...   freq\n",
       "employment_status            31876  ...  17173\n",
       "census_msa                   42154  ...  18957\n",
       "opinion_h1n1_vacc_effective  33375  ...  14729\n",
       "opinion_h1n1_risk            33329  ...  12520\n",
       "opinion_h1n1_sick_from_vacc  33285  ...  11582\n",
       "opinion_seas_vacc_effective  33220  ...  14543\n",
       "opinion_seas_risk            33153  ...  11397\n",
       "opinion_seas_sick_from_vacc  33089  ...  14749\n",
       "agegrp                       42154  ...   8517\n",
       "employment_industry          17165  ...   3086\n",
       "employment_occupation        17165  ...   2188\n",
       "state                        42154  ...   1017\n",
       "\n",
       "[12 rows x 4 columns]"
      ]
     },
     "execution_count": 19,
     "metadata": {
      "tags": []
     },
     "output_type": "execute_result"
    }
   ],
   "source": [
    "# employment_industry, employment_occupation : 결측치 개수 가장 많음. 개수 서로 동일\n",
    "# cardinality 확인 후 너무 복잡하면 과감하게 Drop\n",
    "# cardinality 확인은 데이터타입이 object인 것만 진행\n",
    "train.describe(exclude='number').T.sort_values(by='unique')"
   ]
  },
  {
   "cell_type": "code",
   "execution_count": null,
   "metadata": {
    "id": "zaksj1JoHTd7"
   },
   "outputs": [],
   "source": []
  },
  {
   "cell_type": "code",
   "execution_count": null,
   "metadata": {
    "id": "vvifuKwuHTgx"
   },
   "outputs": [],
   "source": []
  },
  {
   "cell_type": "code",
   "execution_count": null,
   "metadata": {
    "id": "nWWR9Mx-HTjE"
   },
   "outputs": [],
   "source": []
  },
  {
   "cell_type": "code",
   "execution_count": null,
   "metadata": {
    "colab": {
     "base_uri": "https://localhost:8080/"
    },
    "id": "2kSG6eJcWut7",
    "outputId": "eca5a2c6-9ed1-4acc-8e24-1dc8e2b3add7"
   },
   "outputs": [
    {
     "data": {
      "text/plain": [
       "((42154, 36), (28104, 35))"
      ]
     },
     "execution_count": 20,
     "metadata": {
      "tags": []
     },
     "output_type": "execute_result"
    }
   ],
   "source": [
    "# 불필요한 컬럼 삭제 1\n",
    "# cardinality가 가장 높은 3개 컬럼 삭제 (테스트, 훈련용 모두 동일하게 진행할 것)\n",
    "train_cleaned_1 = train.drop([\"employment_industry\",\"employment_occupation\",\"state\"], axis=1)\n",
    "test_cleaned_1 = test.drop([\"employment_industry\",\"employment_occupation\",\"state\"], axis=1)\n",
    "\n",
    "# 삭제 후 특성 개수 확인 (36,35개로 줄어들었음을 확인)\n",
    "train_cleaned_1.shape, test_cleaned_1.shape"
   ]
  },
  {
   "cell_type": "code",
   "execution_count": null,
   "metadata": {
    "colab": {
     "base_uri": "https://localhost:8080/"
    },
    "id": "Ju17xCqRWu3t",
    "outputId": "b7523fce-9b94-49e7-e633-66297cc8a3e7"
   },
   "outputs": [
    {
     "data": {
      "text/plain": [
       "((42154, 33), (28104, 32))"
      ]
     },
     "execution_count": 21,
     "metadata": {
      "tags": []
     },
     "output_type": "execute_result"
    }
   ],
   "source": [
    "# 불필요한 컬럼 삭제 2\n",
    "# 우리가 알고자 하는 것은 H1N1 독감 관련 정보이므로, 계절성 독감 백신에 대한 의견은 필요 없음\n",
    "train_cleaned_2 = train_cleaned_1.drop([\"opinion_seas_vacc_effective\",\"opinion_seas_risk\",\"opinion_seas_sick_from_vacc\"], axis=1)\n",
    "test_cleaned_2 = test_cleaned_1.drop([\"opinion_seas_vacc_effective\",\"opinion_seas_risk\",\"opinion_seas_sick_from_vacc\"], axis=1)\n",
    "\n",
    "# 특성 개수 확인 (33,32개로 줄어들었음을 확인)\n",
    "train_cleaned_2.shape, test_cleaned_2.shape"
   ]
  },
  {
   "cell_type": "code",
   "execution_count": null,
   "metadata": {
    "colab": {
     "base_uri": "https://localhost:8080/"
    },
    "id": "oy1w1oE2Wuy6",
    "outputId": "de87fb63-600b-491f-ea0e-27df7f41c6cb"
   },
   "outputs": [
    {
     "data": {
      "text/plain": [
       "((42154, 34), (28104, 33))"
      ]
     },
     "execution_count": 22,
     "metadata": {
      "tags": []
     },
     "output_type": "execute_result"
    }
   ],
   "source": [
    "# 새로운 컬럼 생성 1\n",
    "# behavior 관련 컬럼 : 0과 1이며, 0은 전염병 예방에 부정적인 응답이고, 1은 긍정적인 응답.\n",
    "# 해당 컬럼의 점수를 합치면 5점 만점이 되며, 5점일 수록 전염병 예방을 위한 노력을 해 왔다는 뜻이 되지 않을까?\n",
    "# 모두 합쳐서 \"behaviorals\"라는 컬럼을 만든다.\n",
    "\n",
    "# 함수 정의\n",
    "def behavior(df):\n",
    "  behaviorals = [col for col in df.columns if 'behavioral' in col] \n",
    "  df['behaviorals'] = df[behaviorals].sum(axis=1)\n",
    "\n",
    "\n",
    "# 함수 실행\n",
    "behavior(train_cleaned_2)\n",
    "behavior(test_cleaned_2)\n",
    "\n",
    "# 특성 개수 확인 (34,33개로 늘어났음을 확인)\n",
    "train_cleaned_2.shape, test_cleaned_2.shape"
   ]
  },
  {
   "cell_type": "code",
   "execution_count": null,
   "metadata": {
    "colab": {
     "base_uri": "https://localhost:8080/"
    },
    "id": "O9rCeLTQWu1m",
    "outputId": "37f70653-0050-487d-96c7-cb2415a748e3"
   },
   "outputs": [
    {
     "data": {
      "text/plain": [
       "Somewhat Effective      14729\n",
       "Very Effective           9052\n",
       "Dont Know                6033\n",
       "Not Very Effective       2312\n",
       "Not At All Effective     1111\n",
       "Refused                   138\n",
       "Name: opinion_h1n1_vacc_effective, dtype: int64"
      ]
     },
     "execution_count": 23,
     "metadata": {
      "tags": []
     },
     "output_type": "execute_result"
    }
   ],
   "source": [
    "# 새로운 컬럼 생성 2\n",
    "# 응답자의 opinion과 관련된 컬럼은 점수로 바꾸어서 합산해 볼 수 있다.\n",
    "# 1부터 5까지로 환산 후, sum을 하면 백신에 대해 긍정적/부정적 여부를 점수로 나타낼 수도 있지 않을까?\n",
    "\n",
    "# 1. opinion_h1n1_vacc_effective 컬럼을 수치로 바꾼다.\n",
    "\"\"\"\n",
    "백신의 효과에 대한 응답자의 생각\n",
    "\n",
    "5 : Very effective\n",
    "4 : Somewhat effective\n",
    "3 : Don't know\n",
    "2 : Not very effective\n",
    "1 : Not at all effective \n",
    "\"\"\"\n",
    "\n",
    "# 값 확인\n",
    "train_cleaned_2[\"opinion_h1n1_vacc_effective\"].value_counts()"
   ]
  },
  {
   "cell_type": "code",
   "execution_count": null,
   "metadata": {
    "colab": {
     "base_uri": "https://localhost:8080/"
    },
    "id": "_Fl-QjpHWu6o",
    "outputId": "0a08fd4a-b982-4924-800c-7d064e3785f5"
   },
   "outputs": [
    {
     "data": {
      "text/plain": [
       "8779"
      ]
     },
     "execution_count": 24,
     "metadata": {
      "tags": []
     },
     "output_type": "execute_result"
    }
   ],
   "source": [
    "# 변환 과정에서 결측치가 나오면? -> 0으로 바꾼다.\n",
    "# 결측치 보완 및 데이터 타입 일치효과\n",
    "train_cleaned_2[\"opinion_h1n1_vacc_effective\"].isnull().sum()"
   ]
  },
  {
   "cell_type": "code",
   "execution_count": null,
   "metadata": {
    "id": "IUP8PLwUfmAg"
   },
   "outputs": [],
   "source": [
    "# 함수 정의\n",
    "def effective(df):\n",
    "  df[\"opinion_h1n1_vacc_effective_score\"]=\"\"\n",
    "  \n",
    "  for index in range(len(df)):\n",
    "    opinion = df[\"opinion_h1n1_vacc_effective\"][index]\n",
    "    \n",
    "    if opinion == \"Very Effective\":\n",
    "      df[\"opinion_h1n1_vacc_effective_score\"][index] = int(5)\n",
    "\n",
    "    elif opinion == \"Somewhat Effective\":\n",
    "      df[\"opinion_h1n1_vacc_effective_score\"][index] = int(4)\n",
    "\n",
    "    elif opinion == \"Dont Know\":\n",
    "      df[\"opinion_h1n1_vacc_effective_score\"][index] = int(3)\n",
    "\n",
    "    elif opinion == \"Not very effective\":\n",
    "      df[\"opinion_h1n1_vacc_effective_score\"][index] = int(2)\n",
    "\n",
    "    elif opinion == \"Not at all effective\":\n",
    "      df[\"opinion_h1n1_vacc_effective_score\"][index] = int(1)\n",
    "      \n",
    "    else:\n",
    "      df[\"opinion_h1n1_vacc_effective_score\"][index] = int(0)\n",
    "\n",
    "  return df"
   ]
  },
  {
   "cell_type": "code",
   "execution_count": null,
   "metadata": {
    "colab": {
     "base_uri": "https://localhost:8080/"
    },
    "id": "5SlYFYqvfmDD",
    "outputId": "a71e0af6-6126-4654-e3d4-25d1585da02b"
   },
   "outputs": [
    {
     "name": "stderr",
     "output_type": "stream",
     "text": [
      "/usr/local/lib/python3.7/dist-packages/ipykernel_launcher.py:24: SettingWithCopyWarning: \n",
      "A value is trying to be set on a copy of a slice from a DataFrame\n",
      "\n",
      "See the caveats in the documentation: https://pandas.pydata.org/pandas-docs/stable/user_guide/indexing.html#returning-a-view-versus-a-copy\n",
      "/usr/local/lib/python3.7/dist-packages/ipykernel_launcher.py:9: SettingWithCopyWarning: \n",
      "A value is trying to be set on a copy of a slice from a DataFrame\n",
      "\n",
      "See the caveats in the documentation: https://pandas.pydata.org/pandas-docs/stable/user_guide/indexing.html#returning-a-view-versus-a-copy\n",
      "  if __name__ == '__main__':\n",
      "/usr/local/lib/python3.7/dist-packages/ipykernel_launcher.py:12: SettingWithCopyWarning: \n",
      "A value is trying to be set on a copy of a slice from a DataFrame\n",
      "\n",
      "See the caveats in the documentation: https://pandas.pydata.org/pandas-docs/stable/user_guide/indexing.html#returning-a-view-versus-a-copy\n",
      "  if sys.path[0] == '':\n",
      "/usr/local/lib/python3.7/dist-packages/ipykernel_launcher.py:15: SettingWithCopyWarning: \n",
      "A value is trying to be set on a copy of a slice from a DataFrame\n",
      "\n",
      "See the caveats in the documentation: https://pandas.pydata.org/pandas-docs/stable/user_guide/indexing.html#returning-a-view-versus-a-copy\n",
      "  from ipykernel import kernelapp as app\n"
     ]
    }
   ],
   "source": [
    "# 함수 실행\n",
    "train_score = effective(train_cleaned_2)\n",
    "test_score = effective(test_cleaned_2)"
   ]
  },
  {
   "cell_type": "code",
   "execution_count": null,
   "metadata": {
    "colab": {
     "base_uri": "https://localhost:8080/"
    },
    "id": "26FnwAWCfmH_",
    "outputId": "5e13cfa1-4ff5-4ca7-d698-adca0d85df31"
   },
   "outputs": [
    {
     "data": {
      "text/plain": [
       "4    14729\n",
       "0    12340\n",
       "5     9052\n",
       "3     6033\n",
       "Name: opinion_h1n1_vacc_effective_score, dtype: int64"
      ]
     },
     "execution_count": 27,
     "metadata": {
      "tags": []
     },
     "output_type": "execute_result"
    }
   ],
   "source": [
    "# 점수 변환 확인 - 훈련용\n",
    "train_score[\"opinion_h1n1_vacc_effective_score\"].value_counts()"
   ]
  },
  {
   "cell_type": "code",
   "execution_count": null,
   "metadata": {
    "colab": {
     "base_uri": "https://localhost:8080/"
    },
    "id": "PQPEPFTJfmKS",
    "outputId": "c4a649a8-f702-4018-e892-8cf40a455521"
   },
   "outputs": [
    {
     "data": {
      "text/plain": [
       "4    9935\n",
       "0    8290\n",
       "5    5923\n",
       "3    3956\n",
       "Name: opinion_h1n1_vacc_effective_score, dtype: int64"
      ]
     },
     "execution_count": 28,
     "metadata": {
      "tags": []
     },
     "output_type": "execute_result"
    }
   ],
   "source": [
    "# 점수 변환 확인 - 테스트용\n",
    "test_score[\"opinion_h1n1_vacc_effective_score\"].value_counts()"
   ]
  },
  {
   "cell_type": "code",
   "execution_count": null,
   "metadata": {
    "colab": {
     "base_uri": "https://localhost:8080/"
    },
    "id": "3GwqgHfxnrZQ",
    "outputId": "e46d47d6-66f9-4477-8093-1d99e24727a9"
   },
   "outputs": [
    {
     "data": {
      "text/plain": [
       "Somewhat Low     8372\n",
       "Very Low         6921\n",
       "Somewhat High    4436\n",
       "Very High        1452\n",
       "Dont Know         983\n",
       "Refused            37\n",
       "Name: opinion_h1n1_risk, dtype: int64"
      ]
     },
     "execution_count": 29,
     "metadata": {
      "tags": []
     },
     "output_type": "execute_result"
    }
   ],
   "source": [
    "# 2. opinion_h1n1_risk 컬럼을 수치로 바꾼다.\n",
    "\"\"\"\n",
    "H1N1백신의 위험에 대한 응답자의 생각\n",
    "# Very Low\n",
    "# Somewhat Low\n",
    "# Dont Know\n",
    "# Somewhat High\n",
    "# Very High\n",
    "\"\"\"\n",
    "\n",
    "test_score[\"opinion_h1n1_risk\"].value_counts()"
   ]
  },
  {
   "cell_type": "code",
   "execution_count": null,
   "metadata": {
    "id": "Doz3fdglfmM1"
   },
   "outputs": [],
   "source": [
    "# 함수 정의\n",
    "def risk(df):\n",
    "  df[\"opinion_h1n1_risk_score\"] = \"\"\n",
    "  \n",
    "  for index in range(len(df)):\n",
    "    opinion = df[\"opinion_h1n1_risk\"][index]\n",
    "    \n",
    "    if opinion == \"Very Low\":\n",
    "      df[\"opinion_h1n1_risk_score\"][index] = int(5)\n",
    "\n",
    "    elif opinion == \"Somewhat Low\":\n",
    "      df[\"opinion_h1n1_risk_score\"][index] = int(4)\n",
    "\n",
    "    elif opinion == \"Dont Know\":\n",
    "      df[\"opinion_h1n1_risk_score\"][index] = int(3)\n",
    "\n",
    "    elif opinion == \"Somewhat High\":\n",
    "      df[\"opinion_h1n1_risk_score\"][index] = int(2)\n",
    "\n",
    "    elif opinion == \"Very High\":\n",
    "      df[\"opinion_h1n1_risk_score\"][index] = int(1)\n",
    "      \n",
    "    else:\n",
    "      df[\"opinion_h1n1_risk_score\"][index] = 0\n",
    "\n",
    "  return df"
   ]
  },
  {
   "cell_type": "code",
   "execution_count": null,
   "metadata": {
    "colab": {
     "base_uri": "https://localhost:8080/",
     "height": 1000
    },
    "id": "P2itF0jAfmOy",
    "outputId": "fac13fec-1cfb-4489-ed8b-2aca35ea9b69"
   },
   "outputs": [
    {
     "name": "stderr",
     "output_type": "stream",
     "text": [
      "/usr/local/lib/python3.7/dist-packages/ipykernel_launcher.py:24: SettingWithCopyWarning: \n",
      "A value is trying to be set on a copy of a slice from a DataFrame\n",
      "\n",
      "See the caveats in the documentation: https://pandas.pydata.org/pandas-docs/stable/user_guide/indexing.html#returning-a-view-versus-a-copy\n",
      "/usr/local/lib/python3.7/dist-packages/ipykernel_launcher.py:9: SettingWithCopyWarning: \n",
      "A value is trying to be set on a copy of a slice from a DataFrame\n",
      "\n",
      "See the caveats in the documentation: https://pandas.pydata.org/pandas-docs/stable/user_guide/indexing.html#returning-a-view-versus-a-copy\n",
      "  if __name__ == '__main__':\n",
      "/usr/local/lib/python3.7/dist-packages/ipykernel_launcher.py:12: SettingWithCopyWarning: \n",
      "A value is trying to be set on a copy of a slice from a DataFrame\n",
      "\n",
      "See the caveats in the documentation: https://pandas.pydata.org/pandas-docs/stable/user_guide/indexing.html#returning-a-view-versus-a-copy\n",
      "  if sys.path[0] == '':\n",
      "/usr/local/lib/python3.7/dist-packages/ipykernel_launcher.py:18: SettingWithCopyWarning: \n",
      "A value is trying to be set on a copy of a slice from a DataFrame\n",
      "\n",
      "See the caveats in the documentation: https://pandas.pydata.org/pandas-docs/stable/user_guide/indexing.html#returning-a-view-versus-a-copy\n",
      "/usr/local/lib/python3.7/dist-packages/ipykernel_launcher.py:15: SettingWithCopyWarning: \n",
      "A value is trying to be set on a copy of a slice from a DataFrame\n",
      "\n",
      "See the caveats in the documentation: https://pandas.pydata.org/pandas-docs/stable/user_guide/indexing.html#returning-a-view-versus-a-copy\n",
      "  from ipykernel import kernelapp as app\n",
      "/usr/local/lib/python3.7/dist-packages/ipykernel_launcher.py:21: SettingWithCopyWarning: \n",
      "A value is trying to be set on a copy of a slice from a DataFrame\n",
      "\n",
      "See the caveats in the documentation: https://pandas.pydata.org/pandas-docs/stable/user_guide/indexing.html#returning-a-view-versus-a-copy\n"
     ]
    },
    {
     "data": {
      "text/html": [
       "<div>\n",
       "<style scoped>\n",
       "    .dataframe tbody tr th:only-of-type {\n",
       "        vertical-align: middle;\n",
       "    }\n",
       "\n",
       "    .dataframe tbody tr th {\n",
       "        vertical-align: top;\n",
       "    }\n",
       "\n",
       "    .dataframe thead th {\n",
       "        text-align: right;\n",
       "    }\n",
       "</style>\n",
       "<table border=\"1\" class=\"dataframe\">\n",
       "  <thead>\n",
       "    <tr style=\"text-align: right;\">\n",
       "      <th></th>\n",
       "      <th>h1n1_concern</th>\n",
       "      <th>h1n1_knowledge</th>\n",
       "      <th>behavioral_antiviral_meds</th>\n",
       "      <th>behavioral_avoidance</th>\n",
       "      <th>behavioral_face_mask</th>\n",
       "      <th>behavioral_wash_hands</th>\n",
       "      <th>behavioral_large_gatherings</th>\n",
       "      <th>behavioral_outside_home</th>\n",
       "      <th>behavioral_touch_face</th>\n",
       "      <th>doctor_recc_h1n1</th>\n",
       "      <th>doctor_recc_seasonal</th>\n",
       "      <th>chronic_med_condition</th>\n",
       "      <th>child_under_6_months</th>\n",
       "      <th>health_insurance</th>\n",
       "      <th>health_worker</th>\n",
       "      <th>opinion_h1n1_vacc_effective</th>\n",
       "      <th>opinion_h1n1_risk</th>\n",
       "      <th>opinion_h1n1_sick_from_vacc</th>\n",
       "      <th>agegrp</th>\n",
       "      <th>education_comp</th>\n",
       "      <th>raceeth4_i</th>\n",
       "      <th>sex_i</th>\n",
       "      <th>inc_pov</th>\n",
       "      <th>marital</th>\n",
       "      <th>rent_own_r</th>\n",
       "      <th>employment_status</th>\n",
       "      <th>census_region</th>\n",
       "      <th>census_msa</th>\n",
       "      <th>n_adult_r</th>\n",
       "      <th>household_children</th>\n",
       "      <th>n_people_r</th>\n",
       "      <th>hhs_region</th>\n",
       "      <th>behaviorals</th>\n",
       "      <th>opinion_h1n1_vacc_effective_score</th>\n",
       "      <th>opinion_h1n1_risk_score</th>\n",
       "    </tr>\n",
       "  </thead>\n",
       "  <tbody>\n",
       "    <tr>\n",
       "      <th>0</th>\n",
       "      <td>0.0</td>\n",
       "      <td>1.0</td>\n",
       "      <td>0.0</td>\n",
       "      <td>0.0</td>\n",
       "      <td>0.0</td>\n",
       "      <td>0.0</td>\n",
       "      <td>0.0</td>\n",
       "      <td>0.0</td>\n",
       "      <td>0.0</td>\n",
       "      <td>0.0</td>\n",
       "      <td>0.0</td>\n",
       "      <td>1.0</td>\n",
       "      <td>0.0</td>\n",
       "      <td>0.0</td>\n",
       "      <td>1.0</td>\n",
       "      <td>Not At All Effective</td>\n",
       "      <td>Very Low</td>\n",
       "      <td>Not At All Worried</td>\n",
       "      <td>18 - 34 Years</td>\n",
       "      <td>1.0</td>\n",
       "      <td>3</td>\n",
       "      <td>2</td>\n",
       "      <td>2</td>\n",
       "      <td>2.0</td>\n",
       "      <td>1.0</td>\n",
       "      <td>Employed</td>\n",
       "      <td>2</td>\n",
       "      <td>MSA, Not Principle City</td>\n",
       "      <td>2.0</td>\n",
       "      <td>0.0</td>\n",
       "      <td>2.0</td>\n",
       "      <td>7</td>\n",
       "      <td>0.0</td>\n",
       "      <td>0</td>\n",
       "      <td>5</td>\n",
       "    </tr>\n",
       "    <tr>\n",
       "      <th>1</th>\n",
       "      <td>3.0</td>\n",
       "      <td>0.0</td>\n",
       "      <td>0.0</td>\n",
       "      <td>0.0</td>\n",
       "      <td>1.0</td>\n",
       "      <td>1.0</td>\n",
       "      <td>1.0</td>\n",
       "      <td>0.0</td>\n",
       "      <td>0.0</td>\n",
       "      <td>0.0</td>\n",
       "      <td>0.0</td>\n",
       "      <td>NaN</td>\n",
       "      <td>NaN</td>\n",
       "      <td>NaN</td>\n",
       "      <td>NaN</td>\n",
       "      <td>Dont Know</td>\n",
       "      <td>Dont Know</td>\n",
       "      <td>Dont Know</td>\n",
       "      <td>55 - 64 Years</td>\n",
       "      <td>NaN</td>\n",
       "      <td>3</td>\n",
       "      <td>1</td>\n",
       "      <td>4</td>\n",
       "      <td>NaN</td>\n",
       "      <td>NaN</td>\n",
       "      <td>NaN</td>\n",
       "      <td>3</td>\n",
       "      <td>MSA, Principle City</td>\n",
       "      <td>1.0</td>\n",
       "      <td>0.0</td>\n",
       "      <td>1.0</td>\n",
       "      <td>6</td>\n",
       "      <td>3.0</td>\n",
       "      <td>3</td>\n",
       "      <td>3</td>\n",
       "    </tr>\n",
       "    <tr>\n",
       "      <th>2</th>\n",
       "      <td>1.0</td>\n",
       "      <td>1.0</td>\n",
       "      <td>0.0</td>\n",
       "      <td>0.0</td>\n",
       "      <td>0.0</td>\n",
       "      <td>1.0</td>\n",
       "      <td>1.0</td>\n",
       "      <td>1.0</td>\n",
       "      <td>0.0</td>\n",
       "      <td>0.0</td>\n",
       "      <td>1.0</td>\n",
       "      <td>0.0</td>\n",
       "      <td>0.0</td>\n",
       "      <td>NaN</td>\n",
       "      <td>0.0</td>\n",
       "      <td>Very Effective</td>\n",
       "      <td>Very Low</td>\n",
       "      <td>Not Very Worried</td>\n",
       "      <td>65+ Years</td>\n",
       "      <td>3.0</td>\n",
       "      <td>3</td>\n",
       "      <td>1</td>\n",
       "      <td>2</td>\n",
       "      <td>2.0</td>\n",
       "      <td>1.0</td>\n",
       "      <td>Not in Labor Force</td>\n",
       "      <td>1</td>\n",
       "      <td>Non-MSA</td>\n",
       "      <td>1.0</td>\n",
       "      <td>0.0</td>\n",
       "      <td>1.0</td>\n",
       "      <td>1</td>\n",
       "      <td>3.0</td>\n",
       "      <td>5</td>\n",
       "      <td>5</td>\n",
       "    </tr>\n",
       "    <tr>\n",
       "      <th>3</th>\n",
       "      <td>2.0</td>\n",
       "      <td>2.0</td>\n",
       "      <td>0.0</td>\n",
       "      <td>0.0</td>\n",
       "      <td>0.0</td>\n",
       "      <td>0.0</td>\n",
       "      <td>0.0</td>\n",
       "      <td>0.0</td>\n",
       "      <td>0.0</td>\n",
       "      <td>0.0</td>\n",
       "      <td>1.0</td>\n",
       "      <td>0.0</td>\n",
       "      <td>0.0</td>\n",
       "      <td>NaN</td>\n",
       "      <td>0.0</td>\n",
       "      <td>Very Effective</td>\n",
       "      <td>Somewhat High</td>\n",
       "      <td>Not Very Worried</td>\n",
       "      <td>65+ Years</td>\n",
       "      <td>4.0</td>\n",
       "      <td>3</td>\n",
       "      <td>1</td>\n",
       "      <td>4</td>\n",
       "      <td>1.0</td>\n",
       "      <td>1.0</td>\n",
       "      <td>Not in Labor Force</td>\n",
       "      <td>4</td>\n",
       "      <td>MSA, Not Principle City</td>\n",
       "      <td>2.0</td>\n",
       "      <td>0.0</td>\n",
       "      <td>2.0</td>\n",
       "      <td>9</td>\n",
       "      <td>0.0</td>\n",
       "      <td>5</td>\n",
       "      <td>2</td>\n",
       "    </tr>\n",
       "    <tr>\n",
       "      <th>4</th>\n",
       "      <td>2.0</td>\n",
       "      <td>1.0</td>\n",
       "      <td>0.0</td>\n",
       "      <td>1.0</td>\n",
       "      <td>0.0</td>\n",
       "      <td>1.0</td>\n",
       "      <td>0.0</td>\n",
       "      <td>0.0</td>\n",
       "      <td>1.0</td>\n",
       "      <td>0.0</td>\n",
       "      <td>0.0</td>\n",
       "      <td>0.0</td>\n",
       "      <td>0.0</td>\n",
       "      <td>NaN</td>\n",
       "      <td>0.0</td>\n",
       "      <td>Somewhat Effective</td>\n",
       "      <td>Somewhat Low</td>\n",
       "      <td>Not Very Worried</td>\n",
       "      <td>65+ Years</td>\n",
       "      <td>2.0</td>\n",
       "      <td>3</td>\n",
       "      <td>1</td>\n",
       "      <td>2</td>\n",
       "      <td>2.0</td>\n",
       "      <td>1.0</td>\n",
       "      <td>Not in Labor Force</td>\n",
       "      <td>1</td>\n",
       "      <td>Non-MSA</td>\n",
       "      <td>1.0</td>\n",
       "      <td>0.0</td>\n",
       "      <td>1.0</td>\n",
       "      <td>1</td>\n",
       "      <td>3.0</td>\n",
       "      <td>4</td>\n",
       "      <td>4</td>\n",
       "    </tr>\n",
       "    <tr>\n",
       "      <th>...</th>\n",
       "      <td>...</td>\n",
       "      <td>...</td>\n",
       "      <td>...</td>\n",
       "      <td>...</td>\n",
       "      <td>...</td>\n",
       "      <td>...</td>\n",
       "      <td>...</td>\n",
       "      <td>...</td>\n",
       "      <td>...</td>\n",
       "      <td>...</td>\n",
       "      <td>...</td>\n",
       "      <td>...</td>\n",
       "      <td>...</td>\n",
       "      <td>...</td>\n",
       "      <td>...</td>\n",
       "      <td>...</td>\n",
       "      <td>...</td>\n",
       "      <td>...</td>\n",
       "      <td>...</td>\n",
       "      <td>...</td>\n",
       "      <td>...</td>\n",
       "      <td>...</td>\n",
       "      <td>...</td>\n",
       "      <td>...</td>\n",
       "      <td>...</td>\n",
       "      <td>...</td>\n",
       "      <td>...</td>\n",
       "      <td>...</td>\n",
       "      <td>...</td>\n",
       "      <td>...</td>\n",
       "      <td>...</td>\n",
       "      <td>...</td>\n",
       "      <td>...</td>\n",
       "      <td>...</td>\n",
       "      <td>...</td>\n",
       "    </tr>\n",
       "    <tr>\n",
       "      <th>28099</th>\n",
       "      <td>0.0</td>\n",
       "      <td>1.0</td>\n",
       "      <td>1.0</td>\n",
       "      <td>1.0</td>\n",
       "      <td>1.0</td>\n",
       "      <td>0.0</td>\n",
       "      <td>1.0</td>\n",
       "      <td>1.0</td>\n",
       "      <td>1.0</td>\n",
       "      <td>0.0</td>\n",
       "      <td>1.0</td>\n",
       "      <td>1.0</td>\n",
       "      <td>0.0</td>\n",
       "      <td>1.0</td>\n",
       "      <td>0.0</td>\n",
       "      <td>Somewhat Effective</td>\n",
       "      <td>Somewhat Low</td>\n",
       "      <td>Not Very Worried</td>\n",
       "      <td>55 - 64 Years</td>\n",
       "      <td>3.0</td>\n",
       "      <td>3</td>\n",
       "      <td>1</td>\n",
       "      <td>3</td>\n",
       "      <td>2.0</td>\n",
       "      <td>2.0</td>\n",
       "      <td>Not in Labor Force</td>\n",
       "      <td>2</td>\n",
       "      <td>MSA, Principle City</td>\n",
       "      <td>3.0</td>\n",
       "      <td>1.0</td>\n",
       "      <td>4.0</td>\n",
       "      <td>7</td>\n",
       "      <td>6.0</td>\n",
       "      <td>4</td>\n",
       "      <td>4</td>\n",
       "    </tr>\n",
       "    <tr>\n",
       "      <th>28100</th>\n",
       "      <td>3.0</td>\n",
       "      <td>2.0</td>\n",
       "      <td>0.0</td>\n",
       "      <td>1.0</td>\n",
       "      <td>0.0</td>\n",
       "      <td>1.0</td>\n",
       "      <td>1.0</td>\n",
       "      <td>1.0</td>\n",
       "      <td>0.0</td>\n",
       "      <td>0.0</td>\n",
       "      <td>0.0</td>\n",
       "      <td>1.0</td>\n",
       "      <td>0.0</td>\n",
       "      <td>1.0</td>\n",
       "      <td>0.0</td>\n",
       "      <td>Somewhat Effective</td>\n",
       "      <td>Somewhat Low</td>\n",
       "      <td>Somewhat Worried</td>\n",
       "      <td>45 - 54 Years</td>\n",
       "      <td>2.0</td>\n",
       "      <td>3</td>\n",
       "      <td>2</td>\n",
       "      <td>2</td>\n",
       "      <td>1.0</td>\n",
       "      <td>1.0</td>\n",
       "      <td>Employed</td>\n",
       "      <td>3</td>\n",
       "      <td>MSA, Not Principle City</td>\n",
       "      <td>2.0</td>\n",
       "      <td>0.0</td>\n",
       "      <td>2.0</td>\n",
       "      <td>4</td>\n",
       "      <td>4.0</td>\n",
       "      <td>4</td>\n",
       "      <td>4</td>\n",
       "    </tr>\n",
       "    <tr>\n",
       "      <th>28101</th>\n",
       "      <td>1.0</td>\n",
       "      <td>1.0</td>\n",
       "      <td>0.0</td>\n",
       "      <td>0.0</td>\n",
       "      <td>0.0</td>\n",
       "      <td>1.0</td>\n",
       "      <td>0.0</td>\n",
       "      <td>1.0</td>\n",
       "      <td>1.0</td>\n",
       "      <td>0.0</td>\n",
       "      <td>1.0</td>\n",
       "      <td>0.0</td>\n",
       "      <td>0.0</td>\n",
       "      <td>NaN</td>\n",
       "      <td>0.0</td>\n",
       "      <td>Very Effective</td>\n",
       "      <td>Very Low</td>\n",
       "      <td>Not Very Worried</td>\n",
       "      <td>55 - 64 Years</td>\n",
       "      <td>2.0</td>\n",
       "      <td>3</td>\n",
       "      <td>1</td>\n",
       "      <td>1</td>\n",
       "      <td>1.0</td>\n",
       "      <td>1.0</td>\n",
       "      <td>Not in Labor Force</td>\n",
       "      <td>4</td>\n",
       "      <td>MSA, Not Principle City</td>\n",
       "      <td>3.0</td>\n",
       "      <td>0.0</td>\n",
       "      <td>3.0</td>\n",
       "      <td>9</td>\n",
       "      <td>3.0</td>\n",
       "      <td>5</td>\n",
       "      <td>5</td>\n",
       "    </tr>\n",
       "    <tr>\n",
       "      <th>28102</th>\n",
       "      <td>2.0</td>\n",
       "      <td>1.0</td>\n",
       "      <td>0.0</td>\n",
       "      <td>1.0</td>\n",
       "      <td>0.0</td>\n",
       "      <td>1.0</td>\n",
       "      <td>0.0</td>\n",
       "      <td>0.0</td>\n",
       "      <td>1.0</td>\n",
       "      <td>0.0</td>\n",
       "      <td>0.0</td>\n",
       "      <td>1.0</td>\n",
       "      <td>0.0</td>\n",
       "      <td>1.0</td>\n",
       "      <td>0.0</td>\n",
       "      <td>Somewhat Effective</td>\n",
       "      <td>Very High</td>\n",
       "      <td>Not At All Worried</td>\n",
       "      <td>35 - 44 Years</td>\n",
       "      <td>3.0</td>\n",
       "      <td>4</td>\n",
       "      <td>2</td>\n",
       "      <td>4</td>\n",
       "      <td>1.0</td>\n",
       "      <td>99.0</td>\n",
       "      <td>Employed</td>\n",
       "      <td>2</td>\n",
       "      <td>MSA, Principle City</td>\n",
       "      <td>2.0</td>\n",
       "      <td>2.0</td>\n",
       "      <td>4.0</td>\n",
       "      <td>7</td>\n",
       "      <td>3.0</td>\n",
       "      <td>4</td>\n",
       "      <td>1</td>\n",
       "    </tr>\n",
       "    <tr>\n",
       "      <th>28103</th>\n",
       "      <td>2.0</td>\n",
       "      <td>1.0</td>\n",
       "      <td>0.0</td>\n",
       "      <td>0.0</td>\n",
       "      <td>0.0</td>\n",
       "      <td>1.0</td>\n",
       "      <td>0.0</td>\n",
       "      <td>0.0</td>\n",
       "      <td>0.0</td>\n",
       "      <td>1.0</td>\n",
       "      <td>1.0</td>\n",
       "      <td>0.0</td>\n",
       "      <td>0.0</td>\n",
       "      <td>NaN</td>\n",
       "      <td>0.0</td>\n",
       "      <td>Somewhat Effective</td>\n",
       "      <td>Dont Know</td>\n",
       "      <td>Not Very Worried</td>\n",
       "      <td>55 - 64 Years</td>\n",
       "      <td>4.0</td>\n",
       "      <td>2</td>\n",
       "      <td>2</td>\n",
       "      <td>2</td>\n",
       "      <td>1.0</td>\n",
       "      <td>1.0</td>\n",
       "      <td>Not in Labor Force</td>\n",
       "      <td>3</td>\n",
       "      <td>Non-MSA</td>\n",
       "      <td>2.0</td>\n",
       "      <td>0.0</td>\n",
       "      <td>2.0</td>\n",
       "      <td>4</td>\n",
       "      <td>1.0</td>\n",
       "      <td>4</td>\n",
       "      <td>3</td>\n",
       "    </tr>\n",
       "  </tbody>\n",
       "</table>\n",
       "<p>28104 rows × 35 columns</p>\n",
       "</div>"
      ],
      "text/plain": [
       "       h1n1_concern  ...  opinion_h1n1_risk_score\n",
       "0               0.0  ...                        5\n",
       "1               3.0  ...                        3\n",
       "2               1.0  ...                        5\n",
       "3               2.0  ...                        2\n",
       "4               2.0  ...                        4\n",
       "...             ...  ...                      ...\n",
       "28099           0.0  ...                        4\n",
       "28100           3.0  ...                        4\n",
       "28101           1.0  ...                        5\n",
       "28102           2.0  ...                        1\n",
       "28103           2.0  ...                        3\n",
       "\n",
       "[28104 rows x 35 columns]"
      ]
     },
     "execution_count": 31,
     "metadata": {
      "tags": []
     },
     "output_type": "execute_result"
    }
   ],
   "source": [
    "risk(train_score)\n",
    "risk(test_score)"
   ]
  },
  {
   "cell_type": "code",
   "execution_count": null,
   "metadata": {
    "colab": {
     "base_uri": "https://localhost:8080/"
    },
    "id": "1ZQhzMTMfmRN",
    "outputId": "71bbd64b-022b-4817-ce4a-1f908149c678"
   },
   "outputs": [
    {
     "data": {
      "text/plain": [
       "4    12520\n",
       "5    10331\n",
       "0     8901\n",
       "2     6765\n",
       "1     2156\n",
       "3     1481\n",
       "Name: opinion_h1n1_risk_score, dtype: int64"
      ]
     },
     "execution_count": 32,
     "metadata": {
      "tags": []
     },
     "output_type": "execute_result"
    }
   ],
   "source": [
    "# 점수 변환 확인 - 훈련용\n",
    "train_score[\"opinion_h1n1_risk_score\"].value_counts()"
   ]
  },
  {
   "cell_type": "code",
   "execution_count": null,
   "metadata": {
    "colab": {
     "base_uri": "https://localhost:8080/"
    },
    "id": "uWEpDOc-pppd",
    "outputId": "278c0fda-02c9-4fee-d590-61fa47f4efb8"
   },
   "outputs": [
    {
     "data": {
      "text/plain": [
       "4    12520\n",
       "5    10331\n",
       "0     8901\n",
       "2     6765\n",
       "1     2156\n",
       "3     1481\n",
       "Name: opinion_h1n1_risk_score, dtype: int64"
      ]
     },
     "execution_count": 33,
     "metadata": {
      "tags": []
     },
     "output_type": "execute_result"
    }
   ],
   "source": [
    "# 점수 변환 확인 - 테스트용\n",
    "train_score[\"opinion_h1n1_risk_score\"].value_counts()"
   ]
  },
  {
   "cell_type": "code",
   "execution_count": null,
   "metadata": {
    "colab": {
     "base_uri": "https://localhost:8080/"
    },
    "id": "6wp2gqujppuf",
    "outputId": "5d7384ee-4ff0-46d2-82b1-fb81860b80ed"
   },
   "outputs": [
    {
     "data": {
      "text/plain": [
       "Not Very Worried      11582\n",
       "Not At All Worried    11253\n",
       "Somewhat Worried       7480\n",
       "Very Worried           2743\n",
       "Dont Know               196\n",
       "Refused                  31\n",
       "Name: opinion_h1n1_sick_from_vacc, dtype: int64"
      ]
     },
     "execution_count": 34,
     "metadata": {
      "tags": []
     },
     "output_type": "execute_result"
    }
   ],
   "source": [
    "# opinion_h1n1_sick_from_vacc 컬럼을 수치로 바꾼다.\n",
    "\n",
    "\"\"\"\n",
    "H1N1백신 투여 후 질병에 걸릴 수도 있는 위험(= 부작용)에 대한 응답자의 생각\n",
    "\n",
    "Not at all worried\n",
    "Not very worried\n",
    "Don't know\n",
    "Somewhat worried\n",
    "Very worried\n",
    "\"\"\"\n",
    "\n",
    "train_score[\"opinion_h1n1_sick_from_vacc\"].value_counts()"
   ]
  },
  {
   "cell_type": "code",
   "execution_count": null,
   "metadata": {
    "id": "_NOJv0hzppwU"
   },
   "outputs": [],
   "source": [
    "# 함수 정의\n",
    "def sick_from_vacc(df):\n",
    "  df[\"opinion_h1n1_sick_from_vacc_score\"] = \"\"\n",
    "  \n",
    "  for index in range(len(df)):\n",
    "    opinion = df[\"opinion_h1n1_sick_from_vacc\"][index]\n",
    "    \n",
    "    if opinion == \"Not At All Worried\":\n",
    "      df[\"opinion_h1n1_sick_from_vacc_score\"][index] = int(5)\n",
    "\n",
    "    elif opinion == \"Not Very Worried\":\n",
    "      df[\"opinion_h1n1_sick_from_vacc_score\"][index] = int(4)\n",
    "\n",
    "    elif opinion == \"Dont Know\":\n",
    "      df[\"opinion_h1n1_sick_from_vacc_score\"][index] = int(3)\n",
    "\n",
    "    elif opinion == \"Somewhat Worried\":\n",
    "      df[\"opinion_h1n1_sick_from_vacc_score\"][index] = int(2)\n",
    "\n",
    "    elif opinion == \"Very Worried\":\n",
    "      df[\"opinion_h1n1_sick_from_vacc_score\"][index] = int(1)\n",
    "      \n",
    "    else:\n",
    "      df[\"opinion_h1n1_sick_from_vacc_score\"][index] = 0\n",
    "\n",
    "  return df"
   ]
  },
  {
   "cell_type": "code",
   "execution_count": null,
   "metadata": {
    "colab": {
     "base_uri": "https://localhost:8080/",
     "height": 1000
    },
    "id": "FR84GJ75umH9",
    "outputId": "8467126f-07c9-4555-9ead-b66cb62ff5b2"
   },
   "outputs": [
    {
     "name": "stderr",
     "output_type": "stream",
     "text": [
      "/usr/local/lib/python3.7/dist-packages/ipykernel_launcher.py:24: SettingWithCopyWarning: \n",
      "A value is trying to be set on a copy of a slice from a DataFrame\n",
      "\n",
      "See the caveats in the documentation: https://pandas.pydata.org/pandas-docs/stable/user_guide/indexing.html#returning-a-view-versus-a-copy\n",
      "/usr/local/lib/python3.7/dist-packages/ipykernel_launcher.py:12: SettingWithCopyWarning: \n",
      "A value is trying to be set on a copy of a slice from a DataFrame\n",
      "\n",
      "See the caveats in the documentation: https://pandas.pydata.org/pandas-docs/stable/user_guide/indexing.html#returning-a-view-versus-a-copy\n",
      "  if sys.path[0] == '':\n",
      "/usr/local/lib/python3.7/dist-packages/ipykernel_launcher.py:21: SettingWithCopyWarning: \n",
      "A value is trying to be set on a copy of a slice from a DataFrame\n",
      "\n",
      "See the caveats in the documentation: https://pandas.pydata.org/pandas-docs/stable/user_guide/indexing.html#returning-a-view-versus-a-copy\n",
      "/usr/local/lib/python3.7/dist-packages/ipykernel_launcher.py:9: SettingWithCopyWarning: \n",
      "A value is trying to be set on a copy of a slice from a DataFrame\n",
      "\n",
      "See the caveats in the documentation: https://pandas.pydata.org/pandas-docs/stable/user_guide/indexing.html#returning-a-view-versus-a-copy\n",
      "  if __name__ == '__main__':\n",
      "/usr/local/lib/python3.7/dist-packages/ipykernel_launcher.py:18: SettingWithCopyWarning: \n",
      "A value is trying to be set on a copy of a slice from a DataFrame\n",
      "\n",
      "See the caveats in the documentation: https://pandas.pydata.org/pandas-docs/stable/user_guide/indexing.html#returning-a-view-versus-a-copy\n",
      "/usr/local/lib/python3.7/dist-packages/ipykernel_launcher.py:15: SettingWithCopyWarning: \n",
      "A value is trying to be set on a copy of a slice from a DataFrame\n",
      "\n",
      "See the caveats in the documentation: https://pandas.pydata.org/pandas-docs/stable/user_guide/indexing.html#returning-a-view-versus-a-copy\n",
      "  from ipykernel import kernelapp as app\n"
     ]
    },
    {
     "data": {
      "text/html": [
       "<div>\n",
       "<style scoped>\n",
       "    .dataframe tbody tr th:only-of-type {\n",
       "        vertical-align: middle;\n",
       "    }\n",
       "\n",
       "    .dataframe tbody tr th {\n",
       "        vertical-align: top;\n",
       "    }\n",
       "\n",
       "    .dataframe thead th {\n",
       "        text-align: right;\n",
       "    }\n",
       "</style>\n",
       "<table border=\"1\" class=\"dataframe\">\n",
       "  <thead>\n",
       "    <tr style=\"text-align: right;\">\n",
       "      <th></th>\n",
       "      <th>h1n1_concern</th>\n",
       "      <th>h1n1_knowledge</th>\n",
       "      <th>behavioral_antiviral_meds</th>\n",
       "      <th>behavioral_avoidance</th>\n",
       "      <th>behavioral_face_mask</th>\n",
       "      <th>behavioral_wash_hands</th>\n",
       "      <th>behavioral_large_gatherings</th>\n",
       "      <th>behavioral_outside_home</th>\n",
       "      <th>behavioral_touch_face</th>\n",
       "      <th>doctor_recc_h1n1</th>\n",
       "      <th>doctor_recc_seasonal</th>\n",
       "      <th>chronic_med_condition</th>\n",
       "      <th>child_under_6_months</th>\n",
       "      <th>health_insurance</th>\n",
       "      <th>health_worker</th>\n",
       "      <th>opinion_h1n1_vacc_effective</th>\n",
       "      <th>opinion_h1n1_risk</th>\n",
       "      <th>opinion_h1n1_sick_from_vacc</th>\n",
       "      <th>agegrp</th>\n",
       "      <th>education_comp</th>\n",
       "      <th>raceeth4_i</th>\n",
       "      <th>sex_i</th>\n",
       "      <th>inc_pov</th>\n",
       "      <th>marital</th>\n",
       "      <th>rent_own_r</th>\n",
       "      <th>employment_status</th>\n",
       "      <th>census_region</th>\n",
       "      <th>census_msa</th>\n",
       "      <th>n_adult_r</th>\n",
       "      <th>household_children</th>\n",
       "      <th>n_people_r</th>\n",
       "      <th>hhs_region</th>\n",
       "      <th>behaviorals</th>\n",
       "      <th>opinion_h1n1_vacc_effective_score</th>\n",
       "      <th>opinion_h1n1_risk_score</th>\n",
       "      <th>opinion_h1n1_sick_from_vacc_score</th>\n",
       "    </tr>\n",
       "  </thead>\n",
       "  <tbody>\n",
       "    <tr>\n",
       "      <th>0</th>\n",
       "      <td>0.0</td>\n",
       "      <td>1.0</td>\n",
       "      <td>0.0</td>\n",
       "      <td>0.0</td>\n",
       "      <td>0.0</td>\n",
       "      <td>0.0</td>\n",
       "      <td>0.0</td>\n",
       "      <td>0.0</td>\n",
       "      <td>0.0</td>\n",
       "      <td>0.0</td>\n",
       "      <td>0.0</td>\n",
       "      <td>1.0</td>\n",
       "      <td>0.0</td>\n",
       "      <td>0.0</td>\n",
       "      <td>1.0</td>\n",
       "      <td>Not At All Effective</td>\n",
       "      <td>Very Low</td>\n",
       "      <td>Not At All Worried</td>\n",
       "      <td>18 - 34 Years</td>\n",
       "      <td>1.0</td>\n",
       "      <td>3</td>\n",
       "      <td>2</td>\n",
       "      <td>2</td>\n",
       "      <td>2.0</td>\n",
       "      <td>1.0</td>\n",
       "      <td>Employed</td>\n",
       "      <td>2</td>\n",
       "      <td>MSA, Not Principle City</td>\n",
       "      <td>2.0</td>\n",
       "      <td>0.0</td>\n",
       "      <td>2.0</td>\n",
       "      <td>7</td>\n",
       "      <td>0.0</td>\n",
       "      <td>0</td>\n",
       "      <td>5</td>\n",
       "      <td>5</td>\n",
       "    </tr>\n",
       "    <tr>\n",
       "      <th>1</th>\n",
       "      <td>3.0</td>\n",
       "      <td>0.0</td>\n",
       "      <td>0.0</td>\n",
       "      <td>0.0</td>\n",
       "      <td>1.0</td>\n",
       "      <td>1.0</td>\n",
       "      <td>1.0</td>\n",
       "      <td>0.0</td>\n",
       "      <td>0.0</td>\n",
       "      <td>0.0</td>\n",
       "      <td>0.0</td>\n",
       "      <td>NaN</td>\n",
       "      <td>NaN</td>\n",
       "      <td>NaN</td>\n",
       "      <td>NaN</td>\n",
       "      <td>Dont Know</td>\n",
       "      <td>Dont Know</td>\n",
       "      <td>Dont Know</td>\n",
       "      <td>55 - 64 Years</td>\n",
       "      <td>NaN</td>\n",
       "      <td>3</td>\n",
       "      <td>1</td>\n",
       "      <td>4</td>\n",
       "      <td>NaN</td>\n",
       "      <td>NaN</td>\n",
       "      <td>NaN</td>\n",
       "      <td>3</td>\n",
       "      <td>MSA, Principle City</td>\n",
       "      <td>1.0</td>\n",
       "      <td>0.0</td>\n",
       "      <td>1.0</td>\n",
       "      <td>6</td>\n",
       "      <td>3.0</td>\n",
       "      <td>3</td>\n",
       "      <td>3</td>\n",
       "      <td>3</td>\n",
       "    </tr>\n",
       "    <tr>\n",
       "      <th>2</th>\n",
       "      <td>1.0</td>\n",
       "      <td>1.0</td>\n",
       "      <td>0.0</td>\n",
       "      <td>0.0</td>\n",
       "      <td>0.0</td>\n",
       "      <td>1.0</td>\n",
       "      <td>1.0</td>\n",
       "      <td>1.0</td>\n",
       "      <td>0.0</td>\n",
       "      <td>0.0</td>\n",
       "      <td>1.0</td>\n",
       "      <td>0.0</td>\n",
       "      <td>0.0</td>\n",
       "      <td>NaN</td>\n",
       "      <td>0.0</td>\n",
       "      <td>Very Effective</td>\n",
       "      <td>Very Low</td>\n",
       "      <td>Not Very Worried</td>\n",
       "      <td>65+ Years</td>\n",
       "      <td>3.0</td>\n",
       "      <td>3</td>\n",
       "      <td>1</td>\n",
       "      <td>2</td>\n",
       "      <td>2.0</td>\n",
       "      <td>1.0</td>\n",
       "      <td>Not in Labor Force</td>\n",
       "      <td>1</td>\n",
       "      <td>Non-MSA</td>\n",
       "      <td>1.0</td>\n",
       "      <td>0.0</td>\n",
       "      <td>1.0</td>\n",
       "      <td>1</td>\n",
       "      <td>3.0</td>\n",
       "      <td>5</td>\n",
       "      <td>5</td>\n",
       "      <td>4</td>\n",
       "    </tr>\n",
       "    <tr>\n",
       "      <th>3</th>\n",
       "      <td>2.0</td>\n",
       "      <td>2.0</td>\n",
       "      <td>0.0</td>\n",
       "      <td>0.0</td>\n",
       "      <td>0.0</td>\n",
       "      <td>0.0</td>\n",
       "      <td>0.0</td>\n",
       "      <td>0.0</td>\n",
       "      <td>0.0</td>\n",
       "      <td>0.0</td>\n",
       "      <td>1.0</td>\n",
       "      <td>0.0</td>\n",
       "      <td>0.0</td>\n",
       "      <td>NaN</td>\n",
       "      <td>0.0</td>\n",
       "      <td>Very Effective</td>\n",
       "      <td>Somewhat High</td>\n",
       "      <td>Not Very Worried</td>\n",
       "      <td>65+ Years</td>\n",
       "      <td>4.0</td>\n",
       "      <td>3</td>\n",
       "      <td>1</td>\n",
       "      <td>4</td>\n",
       "      <td>1.0</td>\n",
       "      <td>1.0</td>\n",
       "      <td>Not in Labor Force</td>\n",
       "      <td>4</td>\n",
       "      <td>MSA, Not Principle City</td>\n",
       "      <td>2.0</td>\n",
       "      <td>0.0</td>\n",
       "      <td>2.0</td>\n",
       "      <td>9</td>\n",
       "      <td>0.0</td>\n",
       "      <td>5</td>\n",
       "      <td>2</td>\n",
       "      <td>4</td>\n",
       "    </tr>\n",
       "    <tr>\n",
       "      <th>4</th>\n",
       "      <td>2.0</td>\n",
       "      <td>1.0</td>\n",
       "      <td>0.0</td>\n",
       "      <td>1.0</td>\n",
       "      <td>0.0</td>\n",
       "      <td>1.0</td>\n",
       "      <td>0.0</td>\n",
       "      <td>0.0</td>\n",
       "      <td>1.0</td>\n",
       "      <td>0.0</td>\n",
       "      <td>0.0</td>\n",
       "      <td>0.0</td>\n",
       "      <td>0.0</td>\n",
       "      <td>NaN</td>\n",
       "      <td>0.0</td>\n",
       "      <td>Somewhat Effective</td>\n",
       "      <td>Somewhat Low</td>\n",
       "      <td>Not Very Worried</td>\n",
       "      <td>65+ Years</td>\n",
       "      <td>2.0</td>\n",
       "      <td>3</td>\n",
       "      <td>1</td>\n",
       "      <td>2</td>\n",
       "      <td>2.0</td>\n",
       "      <td>1.0</td>\n",
       "      <td>Not in Labor Force</td>\n",
       "      <td>1</td>\n",
       "      <td>Non-MSA</td>\n",
       "      <td>1.0</td>\n",
       "      <td>0.0</td>\n",
       "      <td>1.0</td>\n",
       "      <td>1</td>\n",
       "      <td>3.0</td>\n",
       "      <td>4</td>\n",
       "      <td>4</td>\n",
       "      <td>4</td>\n",
       "    </tr>\n",
       "    <tr>\n",
       "      <th>...</th>\n",
       "      <td>...</td>\n",
       "      <td>...</td>\n",
       "      <td>...</td>\n",
       "      <td>...</td>\n",
       "      <td>...</td>\n",
       "      <td>...</td>\n",
       "      <td>...</td>\n",
       "      <td>...</td>\n",
       "      <td>...</td>\n",
       "      <td>...</td>\n",
       "      <td>...</td>\n",
       "      <td>...</td>\n",
       "      <td>...</td>\n",
       "      <td>...</td>\n",
       "      <td>...</td>\n",
       "      <td>...</td>\n",
       "      <td>...</td>\n",
       "      <td>...</td>\n",
       "      <td>...</td>\n",
       "      <td>...</td>\n",
       "      <td>...</td>\n",
       "      <td>...</td>\n",
       "      <td>...</td>\n",
       "      <td>...</td>\n",
       "      <td>...</td>\n",
       "      <td>...</td>\n",
       "      <td>...</td>\n",
       "      <td>...</td>\n",
       "      <td>...</td>\n",
       "      <td>...</td>\n",
       "      <td>...</td>\n",
       "      <td>...</td>\n",
       "      <td>...</td>\n",
       "      <td>...</td>\n",
       "      <td>...</td>\n",
       "      <td>...</td>\n",
       "    </tr>\n",
       "    <tr>\n",
       "      <th>28099</th>\n",
       "      <td>0.0</td>\n",
       "      <td>1.0</td>\n",
       "      <td>1.0</td>\n",
       "      <td>1.0</td>\n",
       "      <td>1.0</td>\n",
       "      <td>0.0</td>\n",
       "      <td>1.0</td>\n",
       "      <td>1.0</td>\n",
       "      <td>1.0</td>\n",
       "      <td>0.0</td>\n",
       "      <td>1.0</td>\n",
       "      <td>1.0</td>\n",
       "      <td>0.0</td>\n",
       "      <td>1.0</td>\n",
       "      <td>0.0</td>\n",
       "      <td>Somewhat Effective</td>\n",
       "      <td>Somewhat Low</td>\n",
       "      <td>Not Very Worried</td>\n",
       "      <td>55 - 64 Years</td>\n",
       "      <td>3.0</td>\n",
       "      <td>3</td>\n",
       "      <td>1</td>\n",
       "      <td>3</td>\n",
       "      <td>2.0</td>\n",
       "      <td>2.0</td>\n",
       "      <td>Not in Labor Force</td>\n",
       "      <td>2</td>\n",
       "      <td>MSA, Principle City</td>\n",
       "      <td>3.0</td>\n",
       "      <td>1.0</td>\n",
       "      <td>4.0</td>\n",
       "      <td>7</td>\n",
       "      <td>6.0</td>\n",
       "      <td>4</td>\n",
       "      <td>4</td>\n",
       "      <td>4</td>\n",
       "    </tr>\n",
       "    <tr>\n",
       "      <th>28100</th>\n",
       "      <td>3.0</td>\n",
       "      <td>2.0</td>\n",
       "      <td>0.0</td>\n",
       "      <td>1.0</td>\n",
       "      <td>0.0</td>\n",
       "      <td>1.0</td>\n",
       "      <td>1.0</td>\n",
       "      <td>1.0</td>\n",
       "      <td>0.0</td>\n",
       "      <td>0.0</td>\n",
       "      <td>0.0</td>\n",
       "      <td>1.0</td>\n",
       "      <td>0.0</td>\n",
       "      <td>1.0</td>\n",
       "      <td>0.0</td>\n",
       "      <td>Somewhat Effective</td>\n",
       "      <td>Somewhat Low</td>\n",
       "      <td>Somewhat Worried</td>\n",
       "      <td>45 - 54 Years</td>\n",
       "      <td>2.0</td>\n",
       "      <td>3</td>\n",
       "      <td>2</td>\n",
       "      <td>2</td>\n",
       "      <td>1.0</td>\n",
       "      <td>1.0</td>\n",
       "      <td>Employed</td>\n",
       "      <td>3</td>\n",
       "      <td>MSA, Not Principle City</td>\n",
       "      <td>2.0</td>\n",
       "      <td>0.0</td>\n",
       "      <td>2.0</td>\n",
       "      <td>4</td>\n",
       "      <td>4.0</td>\n",
       "      <td>4</td>\n",
       "      <td>4</td>\n",
       "      <td>2</td>\n",
       "    </tr>\n",
       "    <tr>\n",
       "      <th>28101</th>\n",
       "      <td>1.0</td>\n",
       "      <td>1.0</td>\n",
       "      <td>0.0</td>\n",
       "      <td>0.0</td>\n",
       "      <td>0.0</td>\n",
       "      <td>1.0</td>\n",
       "      <td>0.0</td>\n",
       "      <td>1.0</td>\n",
       "      <td>1.0</td>\n",
       "      <td>0.0</td>\n",
       "      <td>1.0</td>\n",
       "      <td>0.0</td>\n",
       "      <td>0.0</td>\n",
       "      <td>NaN</td>\n",
       "      <td>0.0</td>\n",
       "      <td>Very Effective</td>\n",
       "      <td>Very Low</td>\n",
       "      <td>Not Very Worried</td>\n",
       "      <td>55 - 64 Years</td>\n",
       "      <td>2.0</td>\n",
       "      <td>3</td>\n",
       "      <td>1</td>\n",
       "      <td>1</td>\n",
       "      <td>1.0</td>\n",
       "      <td>1.0</td>\n",
       "      <td>Not in Labor Force</td>\n",
       "      <td>4</td>\n",
       "      <td>MSA, Not Principle City</td>\n",
       "      <td>3.0</td>\n",
       "      <td>0.0</td>\n",
       "      <td>3.0</td>\n",
       "      <td>9</td>\n",
       "      <td>3.0</td>\n",
       "      <td>5</td>\n",
       "      <td>5</td>\n",
       "      <td>4</td>\n",
       "    </tr>\n",
       "    <tr>\n",
       "      <th>28102</th>\n",
       "      <td>2.0</td>\n",
       "      <td>1.0</td>\n",
       "      <td>0.0</td>\n",
       "      <td>1.0</td>\n",
       "      <td>0.0</td>\n",
       "      <td>1.0</td>\n",
       "      <td>0.0</td>\n",
       "      <td>0.0</td>\n",
       "      <td>1.0</td>\n",
       "      <td>0.0</td>\n",
       "      <td>0.0</td>\n",
       "      <td>1.0</td>\n",
       "      <td>0.0</td>\n",
       "      <td>1.0</td>\n",
       "      <td>0.0</td>\n",
       "      <td>Somewhat Effective</td>\n",
       "      <td>Very High</td>\n",
       "      <td>Not At All Worried</td>\n",
       "      <td>35 - 44 Years</td>\n",
       "      <td>3.0</td>\n",
       "      <td>4</td>\n",
       "      <td>2</td>\n",
       "      <td>4</td>\n",
       "      <td>1.0</td>\n",
       "      <td>99.0</td>\n",
       "      <td>Employed</td>\n",
       "      <td>2</td>\n",
       "      <td>MSA, Principle City</td>\n",
       "      <td>2.0</td>\n",
       "      <td>2.0</td>\n",
       "      <td>4.0</td>\n",
       "      <td>7</td>\n",
       "      <td>3.0</td>\n",
       "      <td>4</td>\n",
       "      <td>1</td>\n",
       "      <td>5</td>\n",
       "    </tr>\n",
       "    <tr>\n",
       "      <th>28103</th>\n",
       "      <td>2.0</td>\n",
       "      <td>1.0</td>\n",
       "      <td>0.0</td>\n",
       "      <td>0.0</td>\n",
       "      <td>0.0</td>\n",
       "      <td>1.0</td>\n",
       "      <td>0.0</td>\n",
       "      <td>0.0</td>\n",
       "      <td>0.0</td>\n",
       "      <td>1.0</td>\n",
       "      <td>1.0</td>\n",
       "      <td>0.0</td>\n",
       "      <td>0.0</td>\n",
       "      <td>NaN</td>\n",
       "      <td>0.0</td>\n",
       "      <td>Somewhat Effective</td>\n",
       "      <td>Dont Know</td>\n",
       "      <td>Not Very Worried</td>\n",
       "      <td>55 - 64 Years</td>\n",
       "      <td>4.0</td>\n",
       "      <td>2</td>\n",
       "      <td>2</td>\n",
       "      <td>2</td>\n",
       "      <td>1.0</td>\n",
       "      <td>1.0</td>\n",
       "      <td>Not in Labor Force</td>\n",
       "      <td>3</td>\n",
       "      <td>Non-MSA</td>\n",
       "      <td>2.0</td>\n",
       "      <td>0.0</td>\n",
       "      <td>2.0</td>\n",
       "      <td>4</td>\n",
       "      <td>1.0</td>\n",
       "      <td>4</td>\n",
       "      <td>3</td>\n",
       "      <td>4</td>\n",
       "    </tr>\n",
       "  </tbody>\n",
       "</table>\n",
       "<p>28104 rows × 36 columns</p>\n",
       "</div>"
      ],
      "text/plain": [
       "       h1n1_concern  ...  opinion_h1n1_sick_from_vacc_score\n",
       "0               0.0  ...                                  5\n",
       "1               3.0  ...                                  3\n",
       "2               1.0  ...                                  4\n",
       "3               2.0  ...                                  4\n",
       "4               2.0  ...                                  4\n",
       "...             ...  ...                                ...\n",
       "28099           0.0  ...                                  4\n",
       "28100           3.0  ...                                  2\n",
       "28101           1.0  ...                                  4\n",
       "28102           2.0  ...                                  5\n",
       "28103           2.0  ...                                  4\n",
       "\n",
       "[28104 rows x 36 columns]"
      ]
     },
     "execution_count": 36,
     "metadata": {
      "tags": []
     },
     "output_type": "execute_result"
    }
   ],
   "source": [
    "sick_from_vacc(train_score)\n",
    "sick_from_vacc(test_score)"
   ]
  },
  {
   "cell_type": "code",
   "execution_count": null,
   "metadata": {
    "colab": {
     "base_uri": "https://localhost:8080/"
    },
    "id": "inWZ0hd-umKX",
    "outputId": "0639e4cb-44aa-4b64-e405-50379c13b421"
   },
   "outputs": [
    {
     "data": {
      "text/plain": [
       "4    11582\n",
       "5    11253\n",
       "0     8900\n",
       "2     7480\n",
       "1     2743\n",
       "3      196\n",
       "Name: opinion_h1n1_sick_from_vacc_score, dtype: int64"
      ]
     },
     "execution_count": 37,
     "metadata": {
      "tags": []
     },
     "output_type": "execute_result"
    }
   ],
   "source": [
    "# 점수 변환 확인 - 훈련용\n",
    "train_score[\"opinion_h1n1_sick_from_vacc_score\"].value_counts()"
   ]
  },
  {
   "cell_type": "code",
   "execution_count": null,
   "metadata": {
    "colab": {
     "base_uri": "https://localhost:8080/"
    },
    "id": "lg4xtgjQumNA",
    "outputId": "81b30275-787e-4615-f54c-30422c395c97"
   },
   "outputs": [
    {
     "data": {
      "text/plain": [
       "4    7693\n",
       "5    7618\n",
       "0    5946\n",
       "2    4920\n",
       "1    1799\n",
       "3     128\n",
       "Name: opinion_h1n1_sick_from_vacc_score, dtype: int64"
      ]
     },
     "execution_count": 38,
     "metadata": {
      "tags": []
     },
     "output_type": "execute_result"
    }
   ],
   "source": [
    "# 점수 변환 확인 - 테스트용\n",
    "test_score[\"opinion_h1n1_sick_from_vacc_score\"].value_counts()"
   ]
  },
  {
   "cell_type": "code",
   "execution_count": null,
   "metadata": {
    "colab": {
     "base_uri": "https://localhost:8080/"
    },
    "id": "iqQLff-2umPY",
    "outputId": "c081a4d3-5f43-4315-83a5-8ef1386f2df9"
   },
   "outputs": [
    {
     "name": "stderr",
     "output_type": "stream",
     "text": [
      "/usr/local/lib/python3.7/dist-packages/ipykernel_launcher.py:6: SettingWithCopyWarning: \n",
      "A value is trying to be set on a copy of a slice from a DataFrame\n",
      "\n",
      "See the caveats in the documentation: https://pandas.pydata.org/pandas-docs/stable/user_guide/indexing.html#returning-a-view-versus-a-copy\n",
      "  \n"
     ]
    }
   ],
   "source": [
    "# opinion score를 합산 후 불필요한 컬럼 삭제 - 훈련용 데이터\n",
    "tmp = train_score.iloc[:, -3:].sum(axis=1)\n",
    "train_score[\"opinion_score\"] = \"\"\n",
    "\n",
    "for index in range(len(train_score)):\n",
    "  train_score[\"opinion_score\"][index] = tmp[index]"
   ]
  },
  {
   "cell_type": "code",
   "execution_count": null,
   "metadata": {
    "colab": {
     "base_uri": "https://localhost:8080/"
    },
    "id": "FMUcu7SK1j-1",
    "outputId": "a59007b2-5f96-4d07-c751-1bf330eecbcd"
   },
   "outputs": [
    {
     "data": {
      "text/plain": [
       "0.0     8791\n",
       "13.0    5553\n",
       "12.0    5350\n",
       "10.0    5167\n",
       "11.0    3905\n",
       "14.0    3664\n",
       "9.0     2896\n",
       "8.0     2894\n",
       "7.0     1522\n",
       "15.0    1030\n",
       "6.0      898\n",
       "5.0      246\n",
       "4.0      102\n",
       "3.0       98\n",
       "2.0       35\n",
       "1.0        3\n",
       "Name: opinion_score, dtype: int64"
      ]
     },
     "execution_count": 40,
     "metadata": {
      "tags": []
     },
     "output_type": "execute_result"
    }
   ],
   "source": [
    "# 확인\n",
    "train_score[\"opinion_score\"].value_counts()"
   ]
  },
  {
   "cell_type": "code",
   "execution_count": null,
   "metadata": {
    "colab": {
     "base_uri": "https://localhost:8080/"
    },
    "id": "aajUg_9W1ae4",
    "outputId": "d2012a33-9af7-4a04-e3b7-cd946ec1ef10"
   },
   "outputs": [
    {
     "name": "stderr",
     "output_type": "stream",
     "text": [
      "/usr/local/lib/python3.7/dist-packages/ipykernel_launcher.py:6: SettingWithCopyWarning: \n",
      "A value is trying to be set on a copy of a slice from a DataFrame\n",
      "\n",
      "See the caveats in the documentation: https://pandas.pydata.org/pandas-docs/stable/user_guide/indexing.html#returning-a-view-versus-a-copy\n",
      "  \n"
     ]
    }
   ],
   "source": [
    "# opinion score를 합산 후 불필요한 컬럼 삭제 - 테스트용 데이터\n",
    "tmp = test_score.iloc[:, -3:].sum(axis=1)\n",
    "test_score[\"opinion_score\"] = \"\"\n",
    "\n",
    "for index in range(len(test_score)):\n",
    "  test_score[\"opinion_score\"][index] = tmp[index]"
   ]
  },
  {
   "cell_type": "code",
   "execution_count": null,
   "metadata": {
    "colab": {
     "base_uri": "https://localhost:8080/"
    },
    "id": "IagF2_1bumSP",
    "outputId": "4f02e937-de2b-45aa-b658-1f1d789de38e"
   },
   "outputs": [
    {
     "data": {
      "text/plain": [
       "0.0     5872\n",
       "12.0    3741\n",
       "13.0    3619\n",
       "10.0    3329\n",
       "11.0    2546\n",
       "14.0    2485\n",
       "9.0     1939\n",
       "8.0     1905\n",
       "7.0     1014\n",
       "15.0     709\n",
       "6.0      613\n",
       "5.0      149\n",
       "4.0       83\n",
       "3.0       70\n",
       "2.0       30\n",
       "Name: opinion_score, dtype: int64"
      ]
     },
     "execution_count": 42,
     "metadata": {
      "tags": []
     },
     "output_type": "execute_result"
    }
   ],
   "source": [
    "# 확인\n",
    "test_score[\"opinion_score\"].value_counts()"
   ]
  },
  {
   "cell_type": "code",
   "execution_count": null,
   "metadata": {
    "id": "_xlDtDkafmUG"
   },
   "outputs": [],
   "source": [
    "# 불필요한 컬럼 삭제\n",
    "drop = [\"opinion_h1n1_vacc_effective_score\",\"opinion_h1n1_risk_score\",\"opinion_h1n1_sick_from_vacc_score\"]\n",
    "\n",
    "train_final = train_score.drop(drop,axis=1)\n",
    "test_final = test_score.drop(drop,axis=1)"
   ]
  },
  {
   "cell_type": "code",
   "execution_count": null,
   "metadata": {
    "id": "ILPG1RfN8-CA"
   },
   "outputs": [],
   "source": [
    "# 데이터 셋 나누기\n",
    "# 1. train, validation, test 3종류로 나누기\n",
    "# 2. 각각의 데이터 셋을 features와 target으로 나누기\n",
    "train_target = train_final[target]\n",
    "train_features = train_final.drop(target, axis=1)\n",
    "\n",
    "\n",
    "X_train, X_val, y_train, y_val = train_test_split(train_features, train_target, test_size=0.2, random_state = 0)\n",
    "\n",
    "X_test = test_final"
   ]
  },
  {
   "cell_type": "code",
   "execution_count": null,
   "metadata": {
    "colab": {
     "base_uri": "https://localhost:8080/"
    },
    "id": "GCK6GizK-Hf6",
    "outputId": "0c35b126-0b43-4e78-ddb2-d4da57aa3ef3"
   },
   "outputs": [
    {
     "name": "stdout",
     "output_type": "stream",
     "text": [
      "훈련용 데이터셋: (33723, 34) (33723,)\n",
      "검증용 데이터셋: (8431, 34) (8431,)\n",
      "테스트용 데이터셋: (28104, 34)\n"
     ]
    }
   ],
   "source": [
    "# 최종 데이터 셋 확인\n",
    "print(\"훈련용 데이터셋:\", X_train.shape, y_train.shape)\n",
    "print(\"검증용 데이터셋:\", X_val.shape, y_val.shape)\n",
    "print(\"테스트용 데이터셋:\", X_test.shape)"
   ]
  },
  {
   "cell_type": "code",
   "execution_count": null,
   "metadata": {
    "colab": {
     "base_uri": "https://localhost:8080/"
    },
    "id": "0EbbtaZzAY4g",
    "outputId": "b5a285a8-492f-4040-a680-3d09c61ccf89"
   },
   "outputs": [
    {
     "data": {
      "text/plain": [
       "0    25742\n",
       "1     7981\n",
       "Name: vacc_h1n1_f, dtype: int64"
      ]
     },
     "execution_count": 49,
     "metadata": {
      "tags": []
     },
     "output_type": "execute_result"
    }
   ],
   "source": [
    "# H1N1 기준모델 생성\n",
    "y_train.value_counts()"
   ]
  },
  {
   "cell_type": "code",
   "execution_count": null,
   "metadata": {
    "colab": {
     "base_uri": "https://localhost:8080/",
     "height": 280
    },
    "id": "ev_LyYE0AZC9",
    "outputId": "c39f23d9-60be-4495-8c3d-15c8c7672b6a"
   },
   "outputs": [
    {
     "data": {
      "image/png": "[encoded data removed]",
      "text/plain": [
       "<Figure size 432x288 with 1 Axes>"
      ]
     },
     "metadata": {
      "needs_background": "light",
      "tags": []
     },
     "output_type": "display_data"
    }
   ],
   "source": [
    "import seaborn as sns\n",
    "import matplotlib.pyplot as plt\n",
    "%matplotlib inline\n",
    "sns.countplot(x=y_train);"
   ]
  },
  {
   "cell_type": "code",
   "execution_count": null,
   "metadata": {
    "id": "zHZPTSBuA97K"
   },
   "outputs": [],
   "source": [
    "# mode(): Return the highest frequency value in a Series.\n",
    "major = y_train.mode()[0]\n",
    "\n",
    "# 타겟 샘플 수 만큼 0이 담긴 리스트를 만듭니다. 기준모델로 예측\n",
    "basic_model = [major] * len(y_train)"
   ]
  },
  {
   "cell_type": "code",
   "execution_count": null,
   "metadata": {
    "colab": {
     "base_uri": "https://localhost:8080/"
    },
    "id": "lU15BSLBA99q",
    "outputId": "c84e1bc1-4e44-4b83-a554-6b1bbf24f007"
   },
   "outputs": [
    {
     "name": "stdout",
     "output_type": "stream",
     "text": [
      "training accuracy:  0.7633365952020876\n"
     ]
    }
   ],
   "source": [
    "# 기준모델의 정확도\n",
    "print(\"training accuracy: \", accuracy_score(y_train, basic_model))\n",
    "\n",
    "# 답은 3번 0.76"
   ]
  },
  {
   "cell_type": "markdown",
   "metadata": {
    "id": "8nQjivEflhkP"
   },
   "source": [
    "### 2) 모델 개발\n",
    "- 결정트리를 학습시킵니다. 하이퍼파라미터를 수정하여 성능을 높여보세요. 과적합을 주의하세요!\n",
    "- 검증세트 스코어를 확인하세요.(평가지표는 F1-score입니다, 수식은 캐글 Overview-Evaluation 페이지를 확인해 주세요. 평가지표에 대한 내용은 다음에 자세히 배우고 활용할 것입니다 지금은 스코어를 올리기 위한 노력을 전혀 기울이지 말고 결정트리의 개념과 코드이해, 사용에 집중하세요!)\n",
    "- 특성중요도를 그래프로 나타내 보세요\n",
    "- **검증세트의 F1-score를 과제 제출폼에 제출하세요. (0.5 이상 통과)**"
   ]
  },
  {
   "cell_type": "code",
   "execution_count": null,
   "metadata": {
    "colab": {
     "base_uri": "https://localhost:8080/"
    },
    "id": "fr0-LsGylhkQ",
    "outputId": "70f1b54a-339a-439e-ec4f-f8fa6e190942"
   },
   "outputs": [
    {
     "name": "stderr",
     "output_type": "stream",
     "text": [
      "/usr/local/lib/python3.7/dist-packages/category_encoders/utils.py:21: FutureWarning: is_categorical is deprecated and will be removed in a future version.  Use is_categorical_dtype instead\n",
      "  elif pd.api.types.is_categorical(cols):\n"
     ]
    },
    {
     "name": "stdout",
     "output_type": "stream",
     "text": [
      "훈련 정확도:  0.9919639415235892\n",
      "검증 정확도:  0.7560194520222987\n",
      "검증 f1:  0.5039787798408488\n"
     ]
    }
   ],
   "source": [
    "# 시도 1.\n",
    "pipe = make_pipeline(\n",
    "    OneHotEncoder(use_cat_names=True),  \n",
    "    SimpleImputer(), \n",
    "    DecisionTreeClassifier(random_state=2, criterion='entropy') \n",
    ")\n",
    "\n",
    "# 모델 훈련\n",
    "pipe.fit(X_train, y_train)\n",
    "print('훈련 정확도: ', pipe.score(X_train, y_train))\n",
    "print('검증 정확도: ', pipe.score(X_val, y_val))\n",
    "\n",
    "# 검증세트로 평가\n",
    "y_pred = pipe.predict(X_val)\n",
    "print('검증 f1: ', f1_score(y_val, y_pred))"
   ]
  },
  {
   "cell_type": "code",
   "execution_count": null,
   "metadata": {
    "colab": {
     "base_uri": "https://localhost:8080/"
    },
    "id": "_JK61Fq2CBqI",
    "outputId": "993b0fc6-67bb-4d76-bf74-db8de702ac94"
   },
   "outputs": [
    {
     "name": "stderr",
     "output_type": "stream",
     "text": [
      "/usr/local/lib/python3.7/dist-packages/category_encoders/utils.py:21: FutureWarning: is_categorical is deprecated and will be removed in a future version.  Use is_categorical_dtype instead\n",
      "  elif pd.api.types.is_categorical(cols):\n"
     ]
    },
    {
     "name": "stdout",
     "output_type": "stream",
     "text": [
      "훈련 정확도:  0.8200634581739465\n",
      "검증 정확도:  0.8200687937373977\n",
      "검증 f1:  0.5451274362818591\n"
     ]
    }
   ],
   "source": [
    "# 시도 2.\n",
    "pipe = make_pipeline(\n",
    "    OneHotEncoder(use_cat_names=True), \n",
    "    SimpleImputer(), \n",
    "    DecisionTreeClassifier(max_depth=4, random_state=2, criterion='entropy')\n",
    ")\n",
    "\n",
    "# 모델 훈련\n",
    "pipe.fit(X_train, y_train)\n",
    "print('훈련 정확도: ', pipe.score(X_train, y_train))\n",
    "print('검증 정확도: ', pipe.score(X_val, y_val))\n",
    "\n",
    "# 검증세트로 평가\n",
    "y_pred = pipe.predict(X_val)\n",
    "print('검증 f1: ', f1_score(y_val, y_pred))"
   ]
  },
  {
   "cell_type": "code",
   "execution_count": null,
   "metadata": {
    "colab": {
     "base_uri": "https://localhost:8080/"
    },
    "id": "Vdp-X071CBtF",
    "outputId": "08e18c0b-5a86-420d-9c9d-82d12e6378ff"
   },
   "outputs": [
    {
     "name": "stderr",
     "output_type": "stream",
     "text": [
      "/usr/local/lib/python3.7/dist-packages/category_encoders/utils.py:21: FutureWarning: is_categorical is deprecated and will be removed in a future version.  Use is_categorical_dtype instead\n",
      "  elif pd.api.types.is_categorical(cols):\n"
     ]
    },
    {
     "name": "stdout",
     "output_type": "stream",
     "text": [
      "훈련 정확도:  0.8200634581739465\n",
      "검증 정확도:  0.8200687937373977\n",
      "검증 f1:  0.5451274362818591\n"
     ]
    }
   ],
   "source": [
    "# 시도 3.\n",
    "pipe = make_pipeline(\n",
    "    OneHotEncoder(use_cat_names=True), \n",
    "    SimpleImputer(), \n",
    "    DecisionTreeClassifier(max_depth=4, min_samples_leaf=20, random_state=2, criterion='entropy')\n",
    ")\n",
    "\n",
    "# 모델 훈련\n",
    "pipe.fit(X_train, y_train)\n",
    "print('훈련 정확도: ', pipe.score(X_train, y_train))\n",
    "print('검증 정확도: ', pipe.score(X_val, y_val))\n",
    "\n",
    "# 검증세트로 평가\n",
    "\n",
    "y_pred = pipe.predict(X_val)\n",
    "print('검증 f1: ', f1_score(y_val, y_pred))"
   ]
  },
  {
   "cell_type": "code",
   "execution_count": null,
   "metadata": {
    "colab": {
     "base_uri": "https://localhost:8080/",
     "height": 1000
    },
    "id": "weqFlMAVCBvX",
    "outputId": "31d522f5-f35c-440b-e101-8dacccb98689"
   },
   "outputs": [
    {
     "data": {
      "image/png": "[encoded data removed]",
      "text/plain": [
       "<Figure size 720x2160 with 1 Axes>"
      ]
     },
     "metadata": {
      "needs_background": "light",
      "tags": []
     },
     "output_type": "display_data"
    }
   ],
   "source": [
    "# named_steps으로 특성 중요도 확인\n",
    "enc = pipe.named_steps['onehotencoder']\n",
    "encoded_columns = enc.transform(X_val).columns\n",
    "\n",
    "model_dt = pipe.named_steps['decisiontreeclassifier']\n",
    "\n",
    "importances = pd.Series(model_dt.feature_importances_, encoded_columns)\n",
    "plt.figure(figsize=(10,30))\n",
    "importances.sort_values().plot.barh();"
   ]
  },
  {
   "cell_type": "markdown",
   "metadata": {
    "id": "Gid-mnFAlhkQ"
   },
   "source": [
    "### 3) 캐글 대회 참여\n",
    "\n",
    "- 테스트셋에 대한 예측 결과를 캐글에 제출 하세요.(스코어가 많이 낮게 나와도 결정트리를 잘 이해하고 결과를 내었다면 충분합니다!)\n",
    "- **캐글 Leaderboard의 본인 Score를 과제 제출폼에 제출하세요.**\n",
    " "
   ]
  },
  {
   "cell_type": "code",
   "execution_count": null,
   "metadata": {
    "colab": {
     "base_uri": "https://localhost:8080/"
    },
    "id": "hhFKN8COMTQu",
    "outputId": "e06a7b85-15d9-445e-fa5d-f4c63e73ffc5"
   },
   "outputs": [
    {
     "name": "stdout",
     "output_type": "stream",
     "text": [
      "Mounted at /content/drive\n"
     ]
    }
   ],
   "source": [
    "# csv 파일 저장을 위한 구글 드라이브 마운트\n",
    "from google.colab import drive\n",
    "drive.mount('/content/drive')"
   ]
  },
  {
   "cell_type": "code",
   "execution_count": null,
   "metadata": {
    "id": "650kdTU9HF81"
   },
   "outputs": [],
   "source": [
    "# test 데이터의 feature를 사용하여 예측값 도출\n",
    "y_pred_test = pipe.predict(X_test)"
   ]
  },
  {
   "cell_type": "code",
   "execution_count": null,
   "metadata": {
    "colab": {
     "base_uri": "https://localhost:8080/",
     "height": 404
    },
    "id": "hD0K2Ch5CBxw",
    "outputId": "4214ac13-f8d0-4ce4-864b-d094010cd37a"
   },
   "outputs": [
    {
     "data": {
      "text/html": [
       "<div>\n",
       "<style scoped>\n",
       "    .dataframe tbody tr th:only-of-type {\n",
       "        vertical-align: middle;\n",
       "    }\n",
       "\n",
       "    .dataframe tbody tr th {\n",
       "        vertical-align: top;\n",
       "    }\n",
       "\n",
       "    .dataframe thead th {\n",
       "        text-align: right;\n",
       "    }\n",
       "</style>\n",
       "<table border=\"1\" class=\"dataframe\">\n",
       "  <thead>\n",
       "    <tr style=\"text-align: right;\">\n",
       "      <th></th>\n",
       "      <th>Id</th>\n",
       "      <th>vacc_h1n1_f</th>\n",
       "    </tr>\n",
       "  </thead>\n",
       "  <tbody>\n",
       "    <tr>\n",
       "      <th>0</th>\n",
       "      <td>0</td>\n",
       "      <td>0</td>\n",
       "    </tr>\n",
       "    <tr>\n",
       "      <th>1</th>\n",
       "      <td>1</td>\n",
       "      <td>0</td>\n",
       "    </tr>\n",
       "    <tr>\n",
       "      <th>2</th>\n",
       "      <td>2</td>\n",
       "      <td>0</td>\n",
       "    </tr>\n",
       "    <tr>\n",
       "      <th>3</th>\n",
       "      <td>3</td>\n",
       "      <td>0</td>\n",
       "    </tr>\n",
       "    <tr>\n",
       "      <th>4</th>\n",
       "      <td>4</td>\n",
       "      <td>0</td>\n",
       "    </tr>\n",
       "    <tr>\n",
       "      <th>...</th>\n",
       "      <td>...</td>\n",
       "      <td>...</td>\n",
       "    </tr>\n",
       "    <tr>\n",
       "      <th>28099</th>\n",
       "      <td>28099</td>\n",
       "      <td>0</td>\n",
       "    </tr>\n",
       "    <tr>\n",
       "      <th>28100</th>\n",
       "      <td>28100</td>\n",
       "      <td>0</td>\n",
       "    </tr>\n",
       "    <tr>\n",
       "      <th>28101</th>\n",
       "      <td>28101</td>\n",
       "      <td>0</td>\n",
       "    </tr>\n",
       "    <tr>\n",
       "      <th>28102</th>\n",
       "      <td>28102</td>\n",
       "      <td>0</td>\n",
       "    </tr>\n",
       "    <tr>\n",
       "      <th>28103</th>\n",
       "      <td>28103</td>\n",
       "      <td>0</td>\n",
       "    </tr>\n",
       "  </tbody>\n",
       "</table>\n",
       "<p>28104 rows × 2 columns</p>\n",
       "</div>"
      ],
      "text/plain": [
       "          Id  vacc_h1n1_f\n",
       "0          0            0\n",
       "1          1            0\n",
       "2          2            0\n",
       "3          3            0\n",
       "4          4            0\n",
       "...      ...          ...\n",
       "28099  28099            0\n",
       "28100  28100            0\n",
       "28101  28101            0\n",
       "28102  28102            0\n",
       "28103  28103            0\n",
       "\n",
       "[28104 rows x 2 columns]"
      ]
     },
     "execution_count": 118,
     "metadata": {
      "tags": []
     },
     "output_type": "execute_result"
    }
   ],
   "source": [
    "# 예측값을 제출 form에 저장\n",
    "sample_submission[target] = y_pred_test\n",
    "sample_submission"
   ]
  },
  {
   "cell_type": "code",
   "execution_count": null,
   "metadata": {
    "colab": {
     "base_uri": "https://localhost:8080/"
    },
    "id": "g6nbjkrrCB2r",
    "outputId": "296bc7e9-f266-4f61-d925-9c11ba8dda14"
   },
   "outputs": [
    {
     "data": {
      "text/plain": [
       "(24058, 4046)"
      ]
     },
     "execution_count": 120,
     "metadata": {
      "tags": []
     },
     "output_type": "execute_result"
    }
   ],
   "source": [
    "# 개수 확인 (예측값에서 0, 1 개수 확인)\n",
    "(y_pred_test == 0).sum(), (y_pred_test == 1).sum()"
   ]
  },
  {
   "cell_type": "code",
   "execution_count": null,
   "metadata": {
    "colab": {
     "base_uri": "https://localhost:8080/"
    },
    "id": "XCQUo8YpCB7T",
    "outputId": "db667667-8bc6-4dee-96f0-79870dbac5a6"
   },
   "outputs": [
    {
     "data": {
      "text/plain": [
       "0    24058\n",
       "1     4046\n",
       "Name: vacc_h1n1_f, dtype: int64"
      ]
     },
     "execution_count": 119,
     "metadata": {
      "tags": []
     },
     "output_type": "execute_result"
    }
   ],
   "source": [
    "# 개수 확인 (제출폼 데이터프레임에서 0, 1 개수 확인)\n",
    "sample_submission[target].value_counts()"
   ]
  },
  {
   "cell_type": "code",
   "execution_count": null,
   "metadata": {
    "id": "C_1vBCXENbzj"
   },
   "outputs": [],
   "source": [
    "# 저장\n",
    "sample_submission.to_csv(\"/content/drive/MyDrive/ds-cs-section2-sprint2-master/n221-decision-trees/submission_dana.csv\", index = False)"
   ]
  },
  {
   "cell_type": "markdown",
   "metadata": {
    "id": "q4_p3-V9lhkR"
   },
   "source": [
    "## 🔥 도전과제"
   ]
  },
  {
   "cell_type": "markdown",
   "metadata": {
    "id": "oeGFZb-jlhkR"
   },
   "source": [
    "### 4) 다른 종류의 imputer를 사용하고 특성-타겟 관계 그래프를 나타내 보세요.\n",
    "- 다른 종류의 imputer를 사용해 보세요([scikit-learn imputers](https://scikit-learn.org/stable/modules/impute.html))\n",
    "- seaborn plots 사용하여 관심있는 특성들과 target간의 관계를 그래프로 나타내 보세요.\n",
    "- [Seaborn \"Categorical estimate\" plots](https://seaborn.pydata.org/tutorial/categorical.html)\n",
    "- [Seaborn linear model plots](https://seaborn.pydata.org/tutorial/regression.html)"
   ]
  },
  {
   "cell_type": "code",
   "execution_count": null,
   "metadata": {
    "id": "HjVh4BZVlhkS"
   },
   "outputs": [],
   "source": [
    "### 이곳에서 과제를 진행해 주세요 ###"
   ]
  }
 ],
 "metadata": {
  "colab": {
   "collapsed_sections": [],
   "include_colab_link": true,
   "name": "n221a-decision-trees.ipynb",
   "provenance": []
  },
  "kernelspec": {
   "display_name": "Python 3",
   "language": "python",
   "name": "python3"
  },
  "language_info": {
   "codemirror_mode": {
    "name": "ipython",
    "version": 3
   },
   "file_extension": ".py",
   "mimetype": "text/x-python",
   "name": "python",
   "nbconvert_exporter": "python",
   "pygments_lexer": "ipython3",
   "version": "3.8.8"
  }
 },
 "nbformat": 4,
 "nbformat_minor": 4
}
