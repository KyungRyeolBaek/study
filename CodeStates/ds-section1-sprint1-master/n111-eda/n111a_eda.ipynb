{
  "nbformat": 4,
  "nbformat_minor": 0,
  "metadata": {
    "colab": {
      "name": "n111a-eda.ipynb",
      "provenance": []
    },
    "kernelspec": {
      "name": "python3",
      "display_name": "Python 3"
    }
  },
  "cells": [
    {
      "cell_type": "markdown",
      "metadata": {
        "id": "MSnsTgZLKO72"
      },
      "source": [
        "<img src='https://i.imgur.com/RDAD11M.png' width = '200' align = 'right'>\n",
        "\n",
        "## *DATA SCIENCE / SECTION 1 / SPRINT 1 / NOTE 1*\n",
        "\n",
        "---\n",
        "\n",
        "# 📝 Assignment\n",
        "\n"
      ]
    },
    {
      "cell_type": "markdown",
      "metadata": {
        "id": "qoR8E-T2TYPd"
      },
      "source": [
        "## 1.데이터셋 불러오기 연습\n",
        "\n",
        "다음 url에서 엑셀 파일을 불러오세요. (pandas excel)\n",
        "\n",
        "<https://ds-lecture-data.s3.ap-northeast-2.amazonaws.com/stocks/Travel.xlsx>\n",
        "\n",
        "  - 데이터셋 변수의 이름은 `df1`, `df2`로 저장하세요.\n",
        "  - row가 아닌 column에 '매출액', '영업이익' 이 가도록 데이터를 transpose 하세요.\n",
        "  - 이후 아래 링크를 참조하여 첫번째 row를 column name으로 설정하세요.\n",
        "\n",
        "<https://stackoverflow.com/questions/31328861/python-pandas-replacing-header-with-top-row>\n",
        "\n",
        "- 파일은 2개의 시트로 구성되어 있으며 각각 이름은 `008770`, `035250` 입니다.\n",
        "\n"
      ]
    },
    {
      "cell_type": "code",
      "metadata": {
        "id": "wMxnu2SmTS8Z"
      },
      "source": [
        "# travel_url 설정\n",
        "\n",
        "travel_url = 'https://ds-lecture-data.s3.ap-northeast-2.amazonaws.com/stocks/Travel.xlsx'"
      ],
      "execution_count": 63,
      "outputs": []
    },
    {
      "cell_type": "code",
      "metadata": {
        "colab": {
          "base_uri": "https://localhost:8080/",
          "height": 535
        },
        "id": "afJzio_zeoij",
        "outputId": "3b8e4be7-36f7-4006-bc10-2df2f292f749"
      },
      "source": [
        "import pandas as pd\n",
        "\n",
        "df1 = pd.read_excel(travel_url, sheet_name=0, index_col=0).T\n",
        "\n",
        "df2 = pd.read_excel(travel_url, sheet_name=1, index_col=0).T\n",
        "\n",
        "\n",
        "df1"
      ],
      "execution_count": 64,
      "outputs": [
        {
          "output_type": "execute_result",
          "data": {
            "text/html": [
              "<div>\n",
              "<style scoped>\n",
              "    .dataframe tbody tr th:only-of-type {\n",
              "        vertical-align: middle;\n",
              "    }\n",
              "\n",
              "    .dataframe tbody tr th {\n",
              "        vertical-align: top;\n",
              "    }\n",
              "\n",
              "    .dataframe thead th {\n",
              "        text-align: right;\n",
              "    }\n",
              "</style>\n",
              "<table border=\"1\" class=\"dataframe\">\n",
              "  <thead>\n",
              "    <tr style=\"text-align: right;\">\n",
              "      <th>주요재무정보</th>\n",
              "      <th>매출액</th>\n",
              "      <th>영업이익</th>\n",
              "      <th>영업이익(발표기준)</th>\n",
              "      <th>세전계속사업이익</th>\n",
              "      <th>당기순이익</th>\n",
              "      <th>당기순이익(지배)</th>\n",
              "      <th>당기순이익(비지배)</th>\n",
              "      <th>자산총계</th>\n",
              "      <th>부채총계</th>\n",
              "      <th>자본총계</th>\n",
              "      <th>자본총계(지배)</th>\n",
              "      <th>자본총계(비지배)</th>\n",
              "      <th>자본금</th>\n",
              "      <th>영업활동현금흐름</th>\n",
              "      <th>투자활동현금흐름</th>\n",
              "      <th>재무활동현금흐름</th>\n",
              "      <th>CAPEX</th>\n",
              "      <th>FCF</th>\n",
              "      <th>이자발생부채</th>\n",
              "      <th>영업이익률</th>\n",
              "      <th>순이익률</th>\n",
              "      <th>ROE(%)</th>\n",
              "      <th>ROA(%)</th>\n",
              "      <th>부채비율</th>\n",
              "      <th>자본유보율</th>\n",
              "      <th>EPS(원)</th>\n",
              "      <th>PER(배)</th>\n",
              "      <th>BPS(원)</th>\n",
              "      <th>PBR(배)</th>\n",
              "      <th>현금DPS(원)</th>\n",
              "      <th>현금배당수익률</th>\n",
              "      <th>현금배당성향(%)</th>\n",
              "    </tr>\n",
              "  </thead>\n",
              "  <tbody>\n",
              "    <tr>\n",
              "      <th>2019/09\\n(IFRS연결)</th>\n",
              "      <td>14753.0</td>\n",
              "      <td>574.0</td>\n",
              "      <td>574.0</td>\n",
              "      <td>376.0</td>\n",
              "      <td>274.0</td>\n",
              "      <td>277.0</td>\n",
              "      <td>-3.0</td>\n",
              "      <td>37747.0</td>\n",
              "      <td>28854.0</td>\n",
              "      <td>8893.0</td>\n",
              "      <td>8889.0</td>\n",
              "      <td>4.0</td>\n",
              "      <td>2000.0</td>\n",
              "      <td>1652.0</td>\n",
              "      <td>-284.0</td>\n",
              "      <td>-900.0</td>\n",
              "      <td>159.0</td>\n",
              "      <td>1493.0</td>\n",
              "      <td>19035.0</td>\n",
              "      <td>3.89</td>\n",
              "      <td>1.86</td>\n",
              "      <td>13.18</td>\n",
              "      <td>3.62</td>\n",
              "      <td>324.45</td>\n",
              "      <td>395.10</td>\n",
              "      <td>692.0</td>\n",
              "      <td>31.19</td>\n",
              "      <td>23484.0</td>\n",
              "      <td>3.67</td>\n",
              "      <td>0.0</td>\n",
              "      <td>NaN</td>\n",
              "      <td>0.00</td>\n",
              "    </tr>\n",
              "    <tr>\n",
              "      <th>2019/12\\n(IFRS연결)</th>\n",
              "      <td>15440.0</td>\n",
              "      <td>776.0</td>\n",
              "      <td>776.0</td>\n",
              "      <td>538.0</td>\n",
              "      <td>380.0</td>\n",
              "      <td>380.0</td>\n",
              "      <td>0.0</td>\n",
              "      <td>35273.0</td>\n",
              "      <td>26077.0</td>\n",
              "      <td>9195.0</td>\n",
              "      <td>9192.0</td>\n",
              "      <td>4.0</td>\n",
              "      <td>2000.0</td>\n",
              "      <td>-480.0</td>\n",
              "      <td>-208.0</td>\n",
              "      <td>1230.0</td>\n",
              "      <td>109.0</td>\n",
              "      <td>-589.0</td>\n",
              "      <td>15615.0</td>\n",
              "      <td>5.03</td>\n",
              "      <td>2.46</td>\n",
              "      <td>20.16</td>\n",
              "      <td>5.81</td>\n",
              "      <td>283.59</td>\n",
              "      <td>411.78</td>\n",
              "      <td>950.0</td>\n",
              "      <td>21.40</td>\n",
              "      <td>24282.0</td>\n",
              "      <td>3.74</td>\n",
              "      <td>350.0</td>\n",
              "      <td>NaN</td>\n",
              "      <td>34.94</td>\n",
              "    </tr>\n",
              "    <tr>\n",
              "      <th>2020/03\\n(IFRS연결)</th>\n",
              "      <td>9437.0</td>\n",
              "      <td>-668.0</td>\n",
              "      <td>-668.0</td>\n",
              "      <td>-925.0</td>\n",
              "      <td>-736.0</td>\n",
              "      <td>-736.0</td>\n",
              "      <td>0.0</td>\n",
              "      <td>33188.0</td>\n",
              "      <td>24813.0</td>\n",
              "      <td>8375.0</td>\n",
              "      <td>8371.0</td>\n",
              "      <td>4.0</td>\n",
              "      <td>2000.0</td>\n",
              "      <td>-4525.0</td>\n",
              "      <td>-237.0</td>\n",
              "      <td>1288.0</td>\n",
              "      <td>155.0</td>\n",
              "      <td>-4680.0</td>\n",
              "      <td>17505.0</td>\n",
              "      <td>-7.08</td>\n",
              "      <td>-7.80</td>\n",
              "      <td>5.39</td>\n",
              "      <td>1.25</td>\n",
              "      <td>296.28</td>\n",
              "      <td>368.36</td>\n",
              "      <td>-1839.0</td>\n",
              "      <td>63.76</td>\n",
              "      <td>22114.0</td>\n",
              "      <td>3.19</td>\n",
              "      <td>NaN</td>\n",
              "      <td>NaN</td>\n",
              "      <td>0.00</td>\n",
              "    </tr>\n",
              "    <tr>\n",
              "      <th>2020/06\\n(IFRS연결)</th>\n",
              "      <td>5230.0</td>\n",
              "      <td>-634.0</td>\n",
              "      <td>-634.0</td>\n",
              "      <td>-819.0</td>\n",
              "      <td>-677.0</td>\n",
              "      <td>-678.0</td>\n",
              "      <td>1.0</td>\n",
              "      <td>33039.0</td>\n",
              "      <td>25364.0</td>\n",
              "      <td>7676.0</td>\n",
              "      <td>7671.0</td>\n",
              "      <td>5.0</td>\n",
              "      <td>2000.0</td>\n",
              "      <td>879.0</td>\n",
              "      <td>-856.0</td>\n",
              "      <td>448.0</td>\n",
              "      <td>90.0</td>\n",
              "      <td>789.0</td>\n",
              "      <td>18933.0</td>\n",
              "      <td>-12.13</td>\n",
              "      <td>-12.95</td>\n",
              "      <td>-9.31</td>\n",
              "      <td>-2.14</td>\n",
              "      <td>330.45</td>\n",
              "      <td>334.46</td>\n",
              "      <td>-1695.0</td>\n",
              "      <td>NaN</td>\n",
              "      <td>20265.0</td>\n",
              "      <td>3.50</td>\n",
              "      <td>NaN</td>\n",
              "      <td>NaN</td>\n",
              "      <td>0.00</td>\n",
              "    </tr>\n",
              "    <tr>\n",
              "      <th>2020/09\\n(IFRS연결)</th>\n",
              "      <td>8795.0</td>\n",
              "      <td>-198.0</td>\n",
              "      <td>-198.0</td>\n",
              "      <td>-366.0</td>\n",
              "      <td>-285.0</td>\n",
              "      <td>-285.0</td>\n",
              "      <td>0.0</td>\n",
              "      <td>32683.0</td>\n",
              "      <td>25318.0</td>\n",
              "      <td>7365.0</td>\n",
              "      <td>7360.0</td>\n",
              "      <td>5.0</td>\n",
              "      <td>2000.0</td>\n",
              "      <td>3104.0</td>\n",
              "      <td>-1388.0</td>\n",
              "      <td>-882.0</td>\n",
              "      <td>129.0</td>\n",
              "      <td>2975.0</td>\n",
              "      <td>17755.0</td>\n",
              "      <td>-2.25</td>\n",
              "      <td>-3.24</td>\n",
              "      <td>-16.22</td>\n",
              "      <td>-3.74</td>\n",
              "      <td>343.77</td>\n",
              "      <td>320.21</td>\n",
              "      <td>-712.0</td>\n",
              "      <td>NaN</td>\n",
              "      <td>19444.0</td>\n",
              "      <td>3.91</td>\n",
              "      <td>NaN</td>\n",
              "      <td>NaN</td>\n",
              "      <td>NaN</td>\n",
              "    </tr>\n",
              "    <tr>\n",
              "      <th>2020/12(E)\\n(IFRS연결)</th>\n",
              "      <td>9980.0</td>\n",
              "      <td>50.0</td>\n",
              "      <td>NaN</td>\n",
              "      <td>-109.0</td>\n",
              "      <td>-100.0</td>\n",
              "      <td>-100.0</td>\n",
              "      <td>NaN</td>\n",
              "      <td>32388.0</td>\n",
              "      <td>25171.0</td>\n",
              "      <td>7216.0</td>\n",
              "      <td>7263.0</td>\n",
              "      <td>NaN</td>\n",
              "      <td>2000.0</td>\n",
              "      <td>NaN</td>\n",
              "      <td>NaN</td>\n",
              "      <td>NaN</td>\n",
              "      <td>NaN</td>\n",
              "      <td>NaN</td>\n",
              "      <td>NaN</td>\n",
              "      <td>0.50</td>\n",
              "      <td>-1.01</td>\n",
              "      <td>NaN</td>\n",
              "      <td>NaN</td>\n",
              "      <td>348.79</td>\n",
              "      <td>NaN</td>\n",
              "      <td>-251.0</td>\n",
              "      <td>NaN</td>\n",
              "      <td>19187.0</td>\n",
              "      <td>4.22</td>\n",
              "      <td>NaN</td>\n",
              "      <td>NaN</td>\n",
              "      <td>NaN</td>\n",
              "    </tr>\n",
              "    <tr>\n",
              "      <th>2021/03(E)\\n(IFRS연결)</th>\n",
              "      <td>9761.0</td>\n",
              "      <td>144.0</td>\n",
              "      <td>NaN</td>\n",
              "      <td>14.0</td>\n",
              "      <td>71.0</td>\n",
              "      <td>53.0</td>\n",
              "      <td>NaN</td>\n",
              "      <td>NaN</td>\n",
              "      <td>NaN</td>\n",
              "      <td>NaN</td>\n",
              "      <td>NaN</td>\n",
              "      <td>NaN</td>\n",
              "      <td>NaN</td>\n",
              "      <td>NaN</td>\n",
              "      <td>NaN</td>\n",
              "      <td>NaN</td>\n",
              "      <td>NaN</td>\n",
              "      <td>NaN</td>\n",
              "      <td>NaN</td>\n",
              "      <td>1.47</td>\n",
              "      <td>0.73</td>\n",
              "      <td>NaN</td>\n",
              "      <td>NaN</td>\n",
              "      <td>NaN</td>\n",
              "      <td>NaN</td>\n",
              "      <td>133.0</td>\n",
              "      <td>NaN</td>\n",
              "      <td>NaN</td>\n",
              "      <td>NaN</td>\n",
              "      <td>NaN</td>\n",
              "      <td>NaN</td>\n",
              "      <td>NaN</td>\n",
              "    </tr>\n",
              "    <tr>\n",
              "      <th>2021/06(E)\\n(IFRS연결)</th>\n",
              "      <td>9820.0</td>\n",
              "      <td>265.0</td>\n",
              "      <td>NaN</td>\n",
              "      <td>172.0</td>\n",
              "      <td>214.0</td>\n",
              "      <td>123.0</td>\n",
              "      <td>NaN</td>\n",
              "      <td>NaN</td>\n",
              "      <td>NaN</td>\n",
              "      <td>NaN</td>\n",
              "      <td>NaN</td>\n",
              "      <td>NaN</td>\n",
              "      <td>NaN</td>\n",
              "      <td>NaN</td>\n",
              "      <td>NaN</td>\n",
              "      <td>NaN</td>\n",
              "      <td>NaN</td>\n",
              "      <td>NaN</td>\n",
              "      <td>NaN</td>\n",
              "      <td>2.70</td>\n",
              "      <td>2.18</td>\n",
              "      <td>NaN</td>\n",
              "      <td>NaN</td>\n",
              "      <td>NaN</td>\n",
              "      <td>NaN</td>\n",
              "      <td>308.0</td>\n",
              "      <td>NaN</td>\n",
              "      <td>NaN</td>\n",
              "      <td>NaN</td>\n",
              "      <td>NaN</td>\n",
              "      <td>NaN</td>\n",
              "      <td>NaN</td>\n",
              "    </tr>\n",
              "  </tbody>\n",
              "</table>\n",
              "</div>"
            ],
            "text/plain": [
              "주요재무정보                    매출액   영업이익  영업이익(발표기준)  ...  현금DPS(원)  현금배당수익률  현금배당성향(%)\n",
              "2019/09\\n(IFRS연결)     14753.0  574.0       574.0  ...       0.0      NaN       0.00\n",
              "2019/12\\n(IFRS연결)     15440.0  776.0       776.0  ...     350.0      NaN      34.94\n",
              "2020/03\\n(IFRS연결)      9437.0 -668.0      -668.0  ...       NaN      NaN       0.00\n",
              "2020/06\\n(IFRS연결)      5230.0 -634.0      -634.0  ...       NaN      NaN       0.00\n",
              "2020/09\\n(IFRS연결)      8795.0 -198.0      -198.0  ...       NaN      NaN        NaN\n",
              "2020/12(E)\\n(IFRS연결)   9980.0   50.0         NaN  ...       NaN      NaN        NaN\n",
              "2021/03(E)\\n(IFRS연결)   9761.0  144.0         NaN  ...       NaN      NaN        NaN\n",
              "2021/06(E)\\n(IFRS연결)   9820.0  265.0         NaN  ...       NaN      NaN        NaN\n",
              "\n",
              "[8 rows x 32 columns]"
            ]
          },
          "metadata": {
            "tags": []
          },
          "execution_count": 64
        }
      ]
    },
    {
      "cell_type": "code",
      "metadata": {
        "colab": {
          "base_uri": "https://localhost:8080/",
          "height": 535
        },
        "id": "SCbwtluMhAjt",
        "outputId": "99f15292-b471-495c-9984-bc9d4335288f"
      },
      "source": [
        "df2"
      ],
      "execution_count": 65,
      "outputs": [
        {
          "output_type": "execute_result",
          "data": {
            "text/html": [
              "<div>\n",
              "<style scoped>\n",
              "    .dataframe tbody tr th:only-of-type {\n",
              "        vertical-align: middle;\n",
              "    }\n",
              "\n",
              "    .dataframe tbody tr th {\n",
              "        vertical-align: top;\n",
              "    }\n",
              "\n",
              "    .dataframe thead th {\n",
              "        text-align: right;\n",
              "    }\n",
              "</style>\n",
              "<table border=\"1\" class=\"dataframe\">\n",
              "  <thead>\n",
              "    <tr style=\"text-align: right;\">\n",
              "      <th>주요재무정보</th>\n",
              "      <th>매출액</th>\n",
              "      <th>영업이익</th>\n",
              "      <th>영업이익(발표기준)</th>\n",
              "      <th>세전계속사업이익</th>\n",
              "      <th>당기순이익</th>\n",
              "      <th>당기순이익(지배)</th>\n",
              "      <th>당기순이익(비지배)</th>\n",
              "      <th>자산총계</th>\n",
              "      <th>부채총계</th>\n",
              "      <th>자본총계</th>\n",
              "      <th>자본총계(지배)</th>\n",
              "      <th>자본총계(비지배)</th>\n",
              "      <th>자본금</th>\n",
              "      <th>영업활동현금흐름</th>\n",
              "      <th>투자활동현금흐름</th>\n",
              "      <th>재무활동현금흐름</th>\n",
              "      <th>CAPEX</th>\n",
              "      <th>FCF</th>\n",
              "      <th>이자발생부채</th>\n",
              "      <th>영업이익률</th>\n",
              "      <th>순이익률</th>\n",
              "      <th>ROE(%)</th>\n",
              "      <th>ROA(%)</th>\n",
              "      <th>부채비율</th>\n",
              "      <th>자본유보율</th>\n",
              "      <th>EPS(원)</th>\n",
              "      <th>PER(배)</th>\n",
              "      <th>BPS(원)</th>\n",
              "      <th>PBR(배)</th>\n",
              "      <th>현금DPS(원)</th>\n",
              "      <th>현금배당수익률</th>\n",
              "      <th>현금배당성향(%)</th>\n",
              "    </tr>\n",
              "  </thead>\n",
              "  <tbody>\n",
              "    <tr>\n",
              "      <th>2019/09\\n(IFRS연결)</th>\n",
              "      <td>4055.0</td>\n",
              "      <td>1392.0</td>\n",
              "      <td>1392.0</td>\n",
              "      <td>1554.0</td>\n",
              "      <td>1286.0</td>\n",
              "      <td>1286.0</td>\n",
              "      <td>0.0</td>\n",
              "      <td>41698.0</td>\n",
              "      <td>4781.0</td>\n",
              "      <td>36917.0</td>\n",
              "      <td>36916.0</td>\n",
              "      <td>NaN</td>\n",
              "      <td>1070.0</td>\n",
              "      <td>-22.0</td>\n",
              "      <td>-1260.0</td>\n",
              "      <td>-4.0</td>\n",
              "      <td>167.0</td>\n",
              "      <td>-189.0</td>\n",
              "      <td>48.0</td>\n",
              "      <td>34.33</td>\n",
              "      <td>31.72</td>\n",
              "      <td>8.27</td>\n",
              "      <td>7.20</td>\n",
              "      <td>12.95</td>\n",
              "      <td>3513.86</td>\n",
              "      <td>601.0</td>\n",
              "      <td>21.00</td>\n",
              "      <td>18209.0</td>\n",
              "      <td>1.62</td>\n",
              "      <td>0.0</td>\n",
              "      <td>NaN</td>\n",
              "      <td>0.00</td>\n",
              "    </tr>\n",
              "    <tr>\n",
              "      <th>2019/12\\n(IFRS연결)</th>\n",
              "      <td>3728.0</td>\n",
              "      <td>641.0</td>\n",
              "      <td>641.0</td>\n",
              "      <td>769.0</td>\n",
              "      <td>526.0</td>\n",
              "      <td>526.0</td>\n",
              "      <td>0.0</td>\n",
              "      <td>44381.0</td>\n",
              "      <td>7204.0</td>\n",
              "      <td>37178.0</td>\n",
              "      <td>37177.0</td>\n",
              "      <td>NaN</td>\n",
              "      <td>1070.0</td>\n",
              "      <td>2067.0</td>\n",
              "      <td>-2370.0</td>\n",
              "      <td>-4.0</td>\n",
              "      <td>383.0</td>\n",
              "      <td>1684.0</td>\n",
              "      <td>680.0</td>\n",
              "      <td>17.18</td>\n",
              "      <td>14.11</td>\n",
              "      <td>9.16</td>\n",
              "      <td>7.72</td>\n",
              "      <td>19.38</td>\n",
              "      <td>3538.24</td>\n",
              "      <td>246.0</td>\n",
              "      <td>18.92</td>\n",
              "      <td>18337.0</td>\n",
              "      <td>1.61</td>\n",
              "      <td>900.0</td>\n",
              "      <td>NaN</td>\n",
              "      <td>346.75</td>\n",
              "    </tr>\n",
              "    <tr>\n",
              "      <th>2020/03\\n(IFRS연결)</th>\n",
              "      <td>2360.0</td>\n",
              "      <td>-1868.0</td>\n",
              "      <td>-1868.0</td>\n",
              "      <td>-2204.0</td>\n",
              "      <td>-1561.0</td>\n",
              "      <td>-1561.0</td>\n",
              "      <td>0.0</td>\n",
              "      <td>43702.0</td>\n",
              "      <td>9945.0</td>\n",
              "      <td>33757.0</td>\n",
              "      <td>33757.0</td>\n",
              "      <td>NaN</td>\n",
              "      <td>1070.0</td>\n",
              "      <td>-684.0</td>\n",
              "      <td>909.0</td>\n",
              "      <td>-4.0</td>\n",
              "      <td>124.0</td>\n",
              "      <td>-808.0</td>\n",
              "      <td>651.0</td>\n",
              "      <td>-79.14</td>\n",
              "      <td>-66.15</td>\n",
              "      <td>2.21</td>\n",
              "      <td>1.75</td>\n",
              "      <td>29.46</td>\n",
              "      <td>3218.48</td>\n",
              "      <td>-730.0</td>\n",
              "      <td>55.53</td>\n",
              "      <td>16650.0</td>\n",
              "      <td>1.19</td>\n",
              "      <td>NaN</td>\n",
              "      <td>NaN</td>\n",
              "      <td>NaN</td>\n",
              "    </tr>\n",
              "    <tr>\n",
              "      <th>2020/06\\n(IFRS연결)</th>\n",
              "      <td>346.0</td>\n",
              "      <td>-1038.0</td>\n",
              "      <td>-1038.0</td>\n",
              "      <td>-723.0</td>\n",
              "      <td>-456.0</td>\n",
              "      <td>-456.0</td>\n",
              "      <td>0.0</td>\n",
              "      <td>39178.0</td>\n",
              "      <td>5900.0</td>\n",
              "      <td>33277.0</td>\n",
              "      <td>33277.0</td>\n",
              "      <td>1.0</td>\n",
              "      <td>1070.0</td>\n",
              "      <td>-3070.0</td>\n",
              "      <td>5414.0</td>\n",
              "      <td>-1842.0</td>\n",
              "      <td>82.0</td>\n",
              "      <td>-3153.0</td>\n",
              "      <td>639.0</td>\n",
              "      <td>-299.75</td>\n",
              "      <td>-131.55</td>\n",
              "      <td>-0.59</td>\n",
              "      <td>-0.50</td>\n",
              "      <td>17.73</td>\n",
              "      <td>3173.64</td>\n",
              "      <td>-213.0</td>\n",
              "      <td>NaN</td>\n",
              "      <td>16414.0</td>\n",
              "      <td>1.31</td>\n",
              "      <td>NaN</td>\n",
              "      <td>NaN</td>\n",
              "      <td>0.00</td>\n",
              "    </tr>\n",
              "    <tr>\n",
              "      <th>2020/09\\n(IFRS연결)</th>\n",
              "      <td>766.0</td>\n",
              "      <td>-649.0</td>\n",
              "      <td>-649.0</td>\n",
              "      <td>-552.0</td>\n",
              "      <td>-409.0</td>\n",
              "      <td>-409.0</td>\n",
              "      <td>0.0</td>\n",
              "      <td>37434.0</td>\n",
              "      <td>4560.0</td>\n",
              "      <td>32875.0</td>\n",
              "      <td>32874.0</td>\n",
              "      <td>0.0</td>\n",
              "      <td>1070.0</td>\n",
              "      <td>-1584.0</td>\n",
              "      <td>2327.0</td>\n",
              "      <td>-4.0</td>\n",
              "      <td>260.0</td>\n",
              "      <td>-1844.0</td>\n",
              "      <td>646.0</td>\n",
              "      <td>-84.68</td>\n",
              "      <td>-53.33</td>\n",
              "      <td>-5.44</td>\n",
              "      <td>-4.80</td>\n",
              "      <td>13.87</td>\n",
              "      <td>3136.00</td>\n",
              "      <td>-191.0</td>\n",
              "      <td>NaN</td>\n",
              "      <td>16215.0</td>\n",
              "      <td>1.33</td>\n",
              "      <td>NaN</td>\n",
              "      <td>NaN</td>\n",
              "      <td>NaN</td>\n",
              "    </tr>\n",
              "    <tr>\n",
              "      <th>2020/12(E)\\n(IFRS연결)</th>\n",
              "      <td>1581.0</td>\n",
              "      <td>-434.0</td>\n",
              "      <td>NaN</td>\n",
              "      <td>-331.0</td>\n",
              "      <td>-465.0</td>\n",
              "      <td>-314.0</td>\n",
              "      <td>NaN</td>\n",
              "      <td>38271.0</td>\n",
              "      <td>5998.0</td>\n",
              "      <td>32274.0</td>\n",
              "      <td>32212.0</td>\n",
              "      <td>NaN</td>\n",
              "      <td>1070.0</td>\n",
              "      <td>NaN</td>\n",
              "      <td>NaN</td>\n",
              "      <td>NaN</td>\n",
              "      <td>NaN</td>\n",
              "      <td>NaN</td>\n",
              "      <td>NaN</td>\n",
              "      <td>-27.49</td>\n",
              "      <td>-29.42</td>\n",
              "      <td>NaN</td>\n",
              "      <td>NaN</td>\n",
              "      <td>18.58</td>\n",
              "      <td>NaN</td>\n",
              "      <td>-147.0</td>\n",
              "      <td>NaN</td>\n",
              "      <td>15888.0</td>\n",
              "      <td>1.46</td>\n",
              "      <td>NaN</td>\n",
              "      <td>NaN</td>\n",
              "      <td>NaN</td>\n",
              "    </tr>\n",
              "    <tr>\n",
              "      <th>2021/03(E)\\n(IFRS연결)</th>\n",
              "      <td>1473.0</td>\n",
              "      <td>-187.0</td>\n",
              "      <td>NaN</td>\n",
              "      <td>NaN</td>\n",
              "      <td>NaN</td>\n",
              "      <td>-33.0</td>\n",
              "      <td>NaN</td>\n",
              "      <td>NaN</td>\n",
              "      <td>NaN</td>\n",
              "      <td>NaN</td>\n",
              "      <td>NaN</td>\n",
              "      <td>NaN</td>\n",
              "      <td>NaN</td>\n",
              "      <td>NaN</td>\n",
              "      <td>NaN</td>\n",
              "      <td>NaN</td>\n",
              "      <td>NaN</td>\n",
              "      <td>NaN</td>\n",
              "      <td>NaN</td>\n",
              "      <td>-12.70</td>\n",
              "      <td>NaN</td>\n",
              "      <td>NaN</td>\n",
              "      <td>NaN</td>\n",
              "      <td>NaN</td>\n",
              "      <td>NaN</td>\n",
              "      <td>-15.0</td>\n",
              "      <td>NaN</td>\n",
              "      <td>NaN</td>\n",
              "      <td>NaN</td>\n",
              "      <td>NaN</td>\n",
              "      <td>NaN</td>\n",
              "      <td>NaN</td>\n",
              "    </tr>\n",
              "    <tr>\n",
              "      <th>2021/06(E)\\n(IFRS연결)</th>\n",
              "      <td>1746.0</td>\n",
              "      <td>-65.0</td>\n",
              "      <td>NaN</td>\n",
              "      <td>NaN</td>\n",
              "      <td>NaN</td>\n",
              "      <td>135.0</td>\n",
              "      <td>NaN</td>\n",
              "      <td>NaN</td>\n",
              "      <td>NaN</td>\n",
              "      <td>NaN</td>\n",
              "      <td>NaN</td>\n",
              "      <td>NaN</td>\n",
              "      <td>NaN</td>\n",
              "      <td>NaN</td>\n",
              "      <td>NaN</td>\n",
              "      <td>NaN</td>\n",
              "      <td>NaN</td>\n",
              "      <td>NaN</td>\n",
              "      <td>NaN</td>\n",
              "      <td>-3.72</td>\n",
              "      <td>NaN</td>\n",
              "      <td>NaN</td>\n",
              "      <td>NaN</td>\n",
              "      <td>NaN</td>\n",
              "      <td>NaN</td>\n",
              "      <td>63.0</td>\n",
              "      <td>NaN</td>\n",
              "      <td>NaN</td>\n",
              "      <td>NaN</td>\n",
              "      <td>NaN</td>\n",
              "      <td>NaN</td>\n",
              "      <td>NaN</td>\n",
              "    </tr>\n",
              "  </tbody>\n",
              "</table>\n",
              "</div>"
            ],
            "text/plain": [
              "주요재무정보                   매출액    영업이익  영업이익(발표기준)  ...  현금DPS(원)  현금배당수익률  현금배당성향(%)\n",
              "2019/09\\n(IFRS연결)     4055.0  1392.0      1392.0  ...       0.0      NaN       0.00\n",
              "2019/12\\n(IFRS연결)     3728.0   641.0       641.0  ...     900.0      NaN     346.75\n",
              "2020/03\\n(IFRS연결)     2360.0 -1868.0     -1868.0  ...       NaN      NaN        NaN\n",
              "2020/06\\n(IFRS연결)      346.0 -1038.0     -1038.0  ...       NaN      NaN       0.00\n",
              "2020/09\\n(IFRS연결)      766.0  -649.0      -649.0  ...       NaN      NaN        NaN\n",
              "2020/12(E)\\n(IFRS연결)  1581.0  -434.0         NaN  ...       NaN      NaN        NaN\n",
              "2021/03(E)\\n(IFRS연결)  1473.0  -187.0         NaN  ...       NaN      NaN        NaN\n",
              "2021/06(E)\\n(IFRS연결)  1746.0   -65.0         NaN  ...       NaN      NaN        NaN\n",
              "\n",
              "[8 rows x 32 columns]"
            ]
          },
          "metadata": {
            "tags": []
          },
          "execution_count": 65
        }
      ]
    },
    {
      "cell_type": "markdown",
      "metadata": {
        "id": "156P6ndeKojO"
      },
      "source": [
        "## 2. 데이터 확인\n",
        "\n",
        "- 데이터의 dimension을 확인하세요.\n",
        "- 데이터의 결측치가 어디에 있는지 확인 후 0으로 대체하세요.\n",
        "- 각 데이터 별로 **FCF**의 값을 barplot으로 시각화하세요.\n",
        "  - 0보다 큰값, 작은값의 수의 총합을 `num1`, `num2`에 저장하세요\n"
      ]
    },
    {
      "cell_type": "code",
      "metadata": {
        "colab": {
          "base_uri": "https://localhost:8080/"
        },
        "id": "hchmqKXSli72",
        "outputId": "fb821543-bcea-4f52-db7e-1d70a419640b"
      },
      "source": [
        "print(df1.shape)\n",
        "print(df2.shape)"
      ],
      "execution_count": 66,
      "outputs": [
        {
          "output_type": "stream",
          "text": [
            "(8, 32)\n",
            "(8, 32)\n"
          ],
          "name": "stdout"
        }
      ]
    },
    {
      "cell_type": "code",
      "metadata": {
        "id": "puM3Mprolwfs"
      },
      "source": [
        "import numpy as np\n",
        "df1 = df1.replace(np.nan, 0)"
      ],
      "execution_count": 67,
      "outputs": []
    },
    {
      "cell_type": "code",
      "metadata": {
        "id": "XSCqsrNAmaDU"
      },
      "source": [
        "df2 = df2.replace(np.nan, 0)"
      ],
      "execution_count": 68,
      "outputs": []
    },
    {
      "cell_type": "code",
      "metadata": {
        "colab": {
          "base_uri": "https://localhost:8080/"
        },
        "id": "JPOFknuzqq4D",
        "outputId": "8448e648-ad45-48bc-9249-cd3f6e139117"
      },
      "source": [
        "# 실행후 런타임 재시작 하고 다시 실행 해야 에러가 안뜸.\n",
        "\n",
        "!sudo apt-get install -y fonts-nanum\n",
        "!sudo fc-cache -fv\n",
        "!rm ~/.cache/matplotlib -rf"
      ],
      "execution_count": 69,
      "outputs": [
        {
          "output_type": "stream",
          "text": [
            "Reading package lists... Done\n",
            "Building dependency tree       \n",
            "Reading state information... Done\n",
            "fonts-nanum is already the newest version (20170925-1).\n",
            "The following package was automatically installed and is no longer required:\n",
            "  libnvidia-common-460\n",
            "Use 'sudo apt autoremove' to remove it.\n",
            "0 upgraded, 0 newly installed, 0 to remove and 34 not upgraded.\n",
            "/usr/share/fonts: caching, new cache contents: 0 fonts, 1 dirs\n",
            "/usr/share/fonts/truetype: caching, new cache contents: 0 fonts, 3 dirs\n",
            "/usr/share/fonts/truetype/humor-sans: caching, new cache contents: 1 fonts, 0 dirs\n",
            "/usr/share/fonts/truetype/liberation: caching, new cache contents: 16 fonts, 0 dirs\n",
            "/usr/share/fonts/truetype/nanum: caching, new cache contents: 10 fonts, 0 dirs\n",
            "/usr/local/share/fonts: caching, new cache contents: 0 fonts, 0 dirs\n",
            "/root/.local/share/fonts: skipping, no such directory\n",
            "/root/.fonts: skipping, no such directory\n",
            "/var/cache/fontconfig: cleaning cache directory\n",
            "/root/.cache/fontconfig: not cleaning non-existent cache directory\n",
            "/root/.fontconfig: not cleaning non-existent cache directory\n",
            "fc-cache: succeeded\n"
          ],
          "name": "stdout"
        }
      ]
    },
    {
      "cell_type": "code",
      "metadata": {
        "colab": {
          "base_uri": "https://localhost:8080/",
          "height": 1000
        },
        "id": "gfxV0qvAqUwZ",
        "outputId": "a6bc9591-1983-474d-9f9a-1a0426529997"
      },
      "source": [
        "import matplotlib.pyplot as plt\n",
        "\n",
        "plt.rc('font', family='NanumBarunGothic') \n",
        "plt.clf()\n",
        "\n",
        "df1[:].plot.barh(figsize=(20,20));"
      ],
      "execution_count": 70,
      "outputs": [
        {
          "output_type": "display_data",
          "data": {
            "text/plain": [
              "<Figure size 1224x360 with 0 Axes>"
            ]
          },
          "metadata": {
            "tags": []
          }
        },
        {
          "output_type": "display_data",
          "data": {
            "image/png": "[encoded data removed]",
            "text/plain": [
              "<Figure size 1440x1440 with 1 Axes>"
            ]
          },
          "metadata": {
            "tags": [],
            "needs_background": "light"
          }
        }
      ]
    },
    {
      "cell_type": "code",
      "metadata": {
        "colab": {
          "base_uri": "https://localhost:8080/",
          "height": 1000
        },
        "id": "VUUpmK7DIEPI",
        "outputId": "7fe47c39-df33-41b4-ce7b-345085c1fa8b"
      },
      "source": [
        "df2[:].plot.barh(figsize=(20,20));"
      ],
      "execution_count": 71,
      "outputs": [
        {
          "output_type": "display_data",
          "data": {
            "image/png": "[encoded data removed]",
            "text/plain": [
              "<Figure size 1440x1440 with 1 Axes>"
            ]
          },
          "metadata": {
            "tags": [],
            "needs_background": "light"
          }
        }
      ]
    },
    {
      "cell_type": "code",
      "metadata": {
        "colab": {
          "base_uri": "https://localhost:8080/"
        },
        "id": "D27EZnI4IRk2",
        "outputId": "efc88dce-9f20-4f69-f76f-ddde6126f0e1"
      },
      "source": [
        "num1 = 0\n",
        "num2 = 0\n",
        "for i, j in zip(df1['FCF'], df2['FCF']):\n",
        "  if i > 0:\n",
        "    num1 += 1\n",
        "  if j > 0:\n",
        "    num1 += 1\n",
        "  if i < 0:\n",
        "    num2 += 1\n",
        "  if j < 0:\n",
        "    num2 += 1\n",
        "print(num1, num2)"
      ],
      "execution_count": 72,
      "outputs": [
        {
          "output_type": "stream",
          "text": [
            "4 6\n"
          ],
          "name": "stdout"
        }
      ]
    },
    {
      "cell_type": "code",
      "metadata": {
        "id": "s_ld2YJujRSb"
      },
      "source": [
        "# num1 = '~'\n",
        "# num2 = '~'"
      ],
      "execution_count": 73,
      "outputs": []
    },
    {
      "cell_type": "markdown",
      "metadata": {
        "id": "OGMOBwEBTqKS"
      },
      "source": [
        "## 3. File export\n",
        "\n",
        "- 읽었던 엑셀 파일의 내용을 2개의 csv로 각각 출력하세요. (python export csv)\n",
        "\n",
        "  - 이름은 각각 `df1.csv`, `df2.csv` 입니다.\n"
      ]
    },
    {
      "cell_type": "code",
      "metadata": {
        "id": "Ds-Wv34OZt4D"
      },
      "source": [
        " from pandas import DataFrame"
      ],
      "execution_count": 74,
      "outputs": []
    },
    {
      "cell_type": "code",
      "metadata": {
        "id": "xe47NX7qk53H"
      },
      "source": [
        "df1_DF = DataFrame(df1)\n",
        "df2_DF = DataFrame(df2)"
      ],
      "execution_count": 75,
      "outputs": []
    },
    {
      "cell_type": "code",
      "metadata": {
        "colab": {
          "base_uri": "https://localhost:8080/"
        },
        "id": "OeuAGNhEZ-aO",
        "outputId": "50f4886e-ae83-41a4-c905-691741605221"
      },
      "source": [
        "df1_DF.to_csv('df1.csv', sep = ',' , na_rep = 'NaN')\n",
        "print(df1_DF)"
      ],
      "execution_count": 76,
      "outputs": [
        {
          "output_type": "stream",
          "text": [
            "주요재무정보                    매출액   영업이익  영업이익(발표기준)  ...  현금DPS(원)  현금배당수익률  현금배당성향(%)\n",
            "2019/09\\n(IFRS연결)     14753.0  574.0       574.0  ...       0.0      0.0       0.00\n",
            "2019/12\\n(IFRS연결)     15440.0  776.0       776.0  ...     350.0      0.0      34.94\n",
            "2020/03\\n(IFRS연결)      9437.0 -668.0      -668.0  ...       0.0      0.0       0.00\n",
            "2020/06\\n(IFRS연결)      5230.0 -634.0      -634.0  ...       0.0      0.0       0.00\n",
            "2020/09\\n(IFRS연결)      8795.0 -198.0      -198.0  ...       0.0      0.0       0.00\n",
            "2020/12(E)\\n(IFRS연결)   9980.0   50.0         0.0  ...       0.0      0.0       0.00\n",
            "2021/03(E)\\n(IFRS연결)   9761.0  144.0         0.0  ...       0.0      0.0       0.00\n",
            "2021/06(E)\\n(IFRS연결)   9820.0  265.0         0.0  ...       0.0      0.0       0.00\n",
            "\n",
            "[8 rows x 32 columns]\n"
          ],
          "name": "stdout"
        }
      ]
    },
    {
      "cell_type": "code",
      "metadata": {
        "id": "EDJxBZOXWuIU"
      },
      "source": [
        "df2_DF.to_csv('df2.csv', sep = ',' , na_rep = 'NaN')"
      ],
      "execution_count": 77,
      "outputs": []
    },
    {
      "cell_type": "markdown",
      "metadata": {
        "id": "DCZ01w4Ps-jO"
      },
      "source": [
        "## 4. Error Handling\n",
        "\n",
        "- 다음의 에러를 고치세요. 결과값은 6912가 나와야합니다.\n"
      ]
    },
    {
      "cell_type": "code",
      "metadata": {
        "colab": {
          "base_uri": "https://localhost:8080/"
        },
        "id": "NJdISe69ZT7E",
        "outputId": "9fda83ea-d14a-4a39-b2e6-67a60fae30fe"
      },
      "source": [
        "a = '1234'\n",
        "b = 5678\n",
        "a = int(a)\n",
        "a+b"
      ],
      "execution_count": 78,
      "outputs": [
        {
          "output_type": "execute_result",
          "data": {
            "text/plain": [
              "6912"
            ]
          },
          "metadata": {
            "tags": []
          },
          "execution_count": 78
        }
      ]
    },
    {
      "cell_type": "markdown",
      "metadata": {
        "id": "KROePyMWQc08"
      },
      "source": [
        "## 5. EDA\n",
        "\n",
        "아래의 코드는 palmer penguin 데이터를 불러올 수 있는 코드입니다.\n",
        "\n",
        "```python\n",
        "import seaborn as sns\n",
        "\n",
        "pp = sns.load_dataset('penguins')\n",
        "```\n",
        "\n",
        "이를 참조하여, `pp`의 `species`와 `sex`변수에 대해서 cross-tabulation을 시행하고, 6개의 값들 중 가장 큰 값을 `num3`에, 가장 작은 값을 `num4`에 저장하세요."
      ]
    },
    {
      "cell_type": "code",
      "metadata": {
        "id": "GuENkrLISFeR",
        "colab": {
          "base_uri": "https://localhost:8080/"
        },
        "outputId": "a8305387-b6a3-4a54-dbe5-f4ed6d0c7935"
      },
      "source": [
        "import seaborn as sns\n",
        "\n",
        "pp = sns.load_dataset('penguins')\n",
        "print(pp)"
      ],
      "execution_count": 79,
      "outputs": [
        {
          "output_type": "stream",
          "text": [
            "    species     island  bill_length_mm  ...  flipper_length_mm  body_mass_g     sex\n",
            "0    Adelie  Torgersen            39.1  ...              181.0       3750.0    Male\n",
            "1    Adelie  Torgersen            39.5  ...              186.0       3800.0  Female\n",
            "2    Adelie  Torgersen            40.3  ...              195.0       3250.0  Female\n",
            "3    Adelie  Torgersen             NaN  ...                NaN          NaN     NaN\n",
            "4    Adelie  Torgersen            36.7  ...              193.0       3450.0  Female\n",
            "..      ...        ...             ...  ...                ...          ...     ...\n",
            "339  Gentoo     Biscoe             NaN  ...                NaN          NaN     NaN\n",
            "340  Gentoo     Biscoe            46.8  ...              215.0       4850.0  Female\n",
            "341  Gentoo     Biscoe            50.4  ...              222.0       5750.0    Male\n",
            "342  Gentoo     Biscoe            45.2  ...              212.0       5200.0  Female\n",
            "343  Gentoo     Biscoe            49.9  ...              213.0       5400.0    Male\n",
            "\n",
            "[344 rows x 7 columns]\n"
          ],
          "name": "stdout"
        }
      ]
    },
    {
      "cell_type": "code",
      "metadata": {
        "colab": {
          "base_uri": "https://localhost:8080/",
          "height": 173
        },
        "id": "4SIcQY-uUMN7",
        "outputId": "5e0755ba-6939-4d12-e542-05b0a91f9f15"
      },
      "source": [
        "pang = pd.crosstab(pp.species, pp.sex)\n",
        "pang"
      ],
      "execution_count": 80,
      "outputs": [
        {
          "output_type": "execute_result",
          "data": {
            "text/html": [
              "<div>\n",
              "<style scoped>\n",
              "    .dataframe tbody tr th:only-of-type {\n",
              "        vertical-align: middle;\n",
              "    }\n",
              "\n",
              "    .dataframe tbody tr th {\n",
              "        vertical-align: top;\n",
              "    }\n",
              "\n",
              "    .dataframe thead th {\n",
              "        text-align: right;\n",
              "    }\n",
              "</style>\n",
              "<table border=\"1\" class=\"dataframe\">\n",
              "  <thead>\n",
              "    <tr style=\"text-align: right;\">\n",
              "      <th>sex</th>\n",
              "      <th>Female</th>\n",
              "      <th>Male</th>\n",
              "    </tr>\n",
              "    <tr>\n",
              "      <th>species</th>\n",
              "      <th></th>\n",
              "      <th></th>\n",
              "    </tr>\n",
              "  </thead>\n",
              "  <tbody>\n",
              "    <tr>\n",
              "      <th>Adelie</th>\n",
              "      <td>73</td>\n",
              "      <td>73</td>\n",
              "    </tr>\n",
              "    <tr>\n",
              "      <th>Chinstrap</th>\n",
              "      <td>34</td>\n",
              "      <td>34</td>\n",
              "    </tr>\n",
              "    <tr>\n",
              "      <th>Gentoo</th>\n",
              "      <td>58</td>\n",
              "      <td>61</td>\n",
              "    </tr>\n",
              "  </tbody>\n",
              "</table>\n",
              "</div>"
            ],
            "text/plain": [
              "sex        Female  Male\n",
              "species                \n",
              "Adelie         73    73\n",
              "Chinstrap      34    34\n",
              "Gentoo         58    61"
            ]
          },
          "metadata": {
            "tags": []
          },
          "execution_count": 80
        }
      ]
    },
    {
      "cell_type": "code",
      "metadata": {
        "colab": {
          "base_uri": "https://localhost:8080/"
        },
        "id": "4qquE2BHemSB",
        "outputId": "4ea01787-be70-4145-b32f-3f7e44532cbd"
      },
      "source": [
        "num3 = pang.max().max()\n",
        "num4 = pang.min().min()\n",
        "print(num3, num4)"
      ],
      "execution_count": 81,
      "outputs": [
        {
          "output_type": "stream",
          "text": [
            "73 34\n"
          ],
          "name": "stdout"
        }
      ]
    },
    {
      "cell_type": "markdown",
      "metadata": {
        "id": "en0Q_b5L4fxA"
      },
      "source": [
        "## Grading\n",
        "\n",
        "이전 과제를 완료했다면, 아래의 코드를 실행하세요. "
      ]
    },
    {
      "cell_type": "code",
      "metadata": {
        "id": "1k3zn-YV4fdg"
      },
      "source": [
        "import os\n",
        "\n",
        "def grade(df1, df2, num1, num2, num3, num4):\n",
        "  score = 0\n",
        "  \n",
        "  score += (df1['매출액'][0] == 14753)\n",
        "  score += (df2['매출액'][1] == 3728)\n",
        "  score += (df1.shape == (8, 32))\n",
        "  score += (df2.isnull().sum().sum() == 0)\n",
        "  score += (num1 == 4 and num2 == 6)\n",
        "  \n",
        "  score += (num3 == 73 and num4 == 34)\n",
        "\n",
        "  score += (os.listdir() == ['.config', 'df2.csv', 'df1.csv', 'sample_data'])\n",
        "\n",
        "  score += (a+b == 6912)\n",
        "\n",
        "  return(score)"
      ],
      "execution_count": 82,
      "outputs": []
    },
    {
      "cell_type": "code",
      "metadata": {
        "id": "nj_RslFn4lCM",
        "colab": {
          "base_uri": "https://localhost:8080/"
        },
        "outputId": "cda34920-1a03-483a-f363-81a89aa27b62"
      },
      "source": [
        "grade(df1, df2, num1, num2, num3, num4)"
      ],
      "execution_count": 83,
      "outputs": [
        {
          "output_type": "execute_result",
          "data": {
            "text/plain": [
              "7"
            ]
          },
          "metadata": {
            "tags": []
          },
          "execution_count": 83
        }
      ]
    },
    {
      "cell_type": "code",
      "metadata": {
        "colab": {
          "base_uri": "https://localhost:8080/"
        },
        "id": "dCTOtZTAsO-X",
        "outputId": "dada0f4b-4d97-4bda-ed85-989d5dd1aace"
      },
      "source": [
        "os.listdir()"
      ],
      "execution_count": 84,
      "outputs": [
        {
          "output_type": "execute_result",
          "data": {
            "text/plain": [
              "['.config', 'df1.csv', 'df2.csv', 'sample_data']"
            ]
          },
          "metadata": {
            "tags": []
          },
          "execution_count": 84
        }
      ]
    },
    {
      "cell_type": "code",
      "metadata": {
        "colab": {
          "base_uri": "https://localhost:8080/"
        },
        "id": "4Jaybec-Vm6v",
        "outputId": "e8717939-c759-4076-afe4-49afc78af546"
      },
      "source": [
        "df1['매출액'][0]"
      ],
      "execution_count": 105,
      "outputs": [
        {
          "output_type": "execute_result",
          "data": {
            "text/plain": [
              "14753.0"
            ]
          },
          "metadata": {
            "tags": []
          },
          "execution_count": 105
        }
      ]
    },
    {
      "cell_type": "code",
      "metadata": {
        "colab": {
          "base_uri": "https://localhost:8080/"
        },
        "id": "emygMPxuim98",
        "outputId": "3dce30e8-7e7c-4a90-b1f6-f7a65a833aca"
      },
      "source": [
        "df2['매출액'][1]"
      ],
      "execution_count": 85,
      "outputs": [
        {
          "output_type": "execute_result",
          "data": {
            "text/plain": [
              "3728.0"
            ]
          },
          "metadata": {
            "tags": []
          },
          "execution_count": 85
        }
      ]
    },
    {
      "cell_type": "code",
      "metadata": {
        "colab": {
          "base_uri": "https://localhost:8080/"
        },
        "id": "BSB8rqwhizcV",
        "outputId": "d504b758-2c98-4448-b607-c74ed23b4a5b"
      },
      "source": [
        "df1.shape"
      ],
      "execution_count": 86,
      "outputs": [
        {
          "output_type": "execute_result",
          "data": {
            "text/plain": [
              "(8, 32)"
            ]
          },
          "metadata": {
            "tags": []
          },
          "execution_count": 86
        }
      ]
    },
    {
      "cell_type": "code",
      "metadata": {
        "colab": {
          "base_uri": "https://localhost:8080/"
        },
        "id": "-_1sMFcCi3qo",
        "outputId": "09272422-c85c-4c34-d22d-1beaa54f03c4"
      },
      "source": [
        "df2.isnull().sum().sum()"
      ],
      "execution_count": 87,
      "outputs": [
        {
          "output_type": "execute_result",
          "data": {
            "text/plain": [
              "0"
            ]
          },
          "metadata": {
            "tags": []
          },
          "execution_count": 87
        }
      ]
    },
    {
      "cell_type": "code",
      "metadata": {
        "colab": {
          "base_uri": "https://localhost:8080/"
        },
        "id": "8_22ayJwi70N",
        "outputId": "3b2d553b-7720-453c-e929-c5e895dbbdd4"
      },
      "source": [
        "num1 - num2"
      ],
      "execution_count": 88,
      "outputs": [
        {
          "output_type": "execute_result",
          "data": {
            "text/plain": [
              "-2"
            ]
          },
          "metadata": {
            "tags": []
          },
          "execution_count": 88
        }
      ]
    },
    {
      "cell_type": "code",
      "metadata": {
        "colab": {
          "base_uri": "https://localhost:8080/"
        },
        "id": "EoNJmLTMi_n5",
        "outputId": "a1ebe1cc-fa2b-4d01-b72e-2bb72f241f46"
      },
      "source": [
        "os.listdir()"
      ],
      "execution_count": 89,
      "outputs": [
        {
          "output_type": "execute_result",
          "data": {
            "text/plain": [
              "['.config', 'df1.csv', 'df2.csv', 'sample_data']"
            ]
          },
          "metadata": {
            "tags": []
          },
          "execution_count": 89
        }
      ]
    },
    {
      "cell_type": "code",
      "metadata": {
        "colab": {
          "base_uri": "https://localhost:8080/"
        },
        "id": "hnc2OFq0jIWW",
        "outputId": "27f12435-a0eb-44af-f3fa-4d3424b9140c"
      },
      "source": [
        "a+b"
      ],
      "execution_count": 90,
      "outputs": [
        {
          "output_type": "execute_result",
          "data": {
            "text/plain": [
              "6912"
            ]
          },
          "metadata": {
            "tags": []
          },
          "execution_count": 90
        }
      ]
    },
    {
      "cell_type": "markdown",
      "metadata": {
        "id": "axPHh5t5s124"
      },
      "source": [
        "## 🔥 도전과제 \n",
        "\n",
        "- 다음 데이터를 사용하여 아래와 동일한 그래프를 그리세요.\n",
        "\n",
        "<https://ds-lecture-data.s3.ap-northeast-2.amazonaws.com/stocks/TSLA.csv>\n",
        "\n",
        "<img src='https://i.imgur.com/UsS5JcZ.png'>\n",
        "\n"
      ]
    },
    {
      "cell_type": "code",
      "metadata": {
        "id": "eNGiylrhwm2D"
      },
      "source": [
        "import pandas as pd\n",
        "import matplotlib.pyplot as plt\n",
        "plt.rc('font', family='NanumBarunGothic') \n",
        "\n",
        "df = pd.read_csv('https://ds-lecture-data.s3.ap-northeast-2.amazonaws.com/stocks/TSLA.csv')"
      ],
      "execution_count": 91,
      "outputs": []
    },
    {
      "cell_type": "code",
      "metadata": {
        "id": "3r8RFWM5aekf",
        "colab": {
          "base_uri": "https://localhost:8080/",
          "height": 335
        },
        "outputId": "8de160fb-06f0-4986-bcfd-82eb17ad4f8a"
      },
      "source": [
        "df['Close']\n",
        "df['Year'] = df['Date'].str.split('-', n = 1, expand = True)[0]\n",
        "def tofloat(string):\n",
        "  return float(string)\n",
        "df['Year'] = df['Year'].apply(tofloat)\n",
        "plt.rcParams[\"figure.figsize\"] = (17, 5)\n",
        "plt.rc('legend', fontsize = 14)\n",
        "plt.gca().set(ylabel='Close Price', title = 'Stock Price Movement Grouped by Year on Close')\n",
        "\n",
        "colors = ['steelblue', 'orange', 'mediumseagreen', 'firebrick', 'mediumpurple', 'saddlebrown', 'plum', 'lightslategrey', 'y', 'darkturquoise', 'steelblue']\n",
        "add = 0\n",
        "for i,j in zip(range(11), colors):\n",
        "    if i == 0:\n",
        "      plt.plot(df['Close'][0:len(df[df['Year'] == 2010])], j, label = 2010);\n",
        "      plt.legend(loc='upper left')\n",
        "    else:\n",
        "      add += len(df[df['Year'] == 2009+i])\n",
        "      plt.plot(df['Close'][add : add + len(df[df['Year'] == 2010+1])], j, label = 2010 + i)\n",
        "      plt.legend(loc='upper left')"
      ],
      "execution_count": 92,
      "outputs": [
        {
          "output_type": "display_data",
          "data": {
            "image/png": "[encoded data removed]",
            "text/plain": [
              "<Figure size 1224x360 with 1 Axes>"
            ]
          },
          "metadata": {
            "tags": [],
            "needs_background": "light"
          }
        }
      ]
    },
    {
      "cell_type": "code",
      "metadata": {
        "id": "mIQoDxnhl49i",
        "colab": {
          "base_uri": "https://localhost:8080/"
        },
        "outputId": "c43a3a94-1683-40b0-dc91-2a2d7defa811"
      },
      "source": [
        "len(['steelblue', 'orange', 'mediumseagreen', 'firebrick', 'mediumpurple', 'saddlebrown', 'plum', 'lightslategrey', 'y', 'darkturquoise', 'steelblue'])"
      ],
      "execution_count": 93,
      "outputs": [
        {
          "output_type": "execute_result",
          "data": {
            "text/plain": [
              "11"
            ]
          },
          "metadata": {
            "tags": []
          },
          "execution_count": 93
        }
      ]
    },
    {
      "cell_type": "markdown",
      "metadata": {
        "id": "Obp0rnowSgF8"
      },
      "source": [
        "- penguins 데이터를 계속 사용합니다.\n",
        "\n",
        "이에 대해 아래의 task들을 시행하세요.\n",
        "\n",
        "- 결측치 처리 (제거)\n",
        "\n",
        "- bill_length_mm에 대해서 qqplot 그리기\n",
        "\n",
        "- island에 대해서 다른 4개의 numerical feature 를 boxplot으로 표현하기\n",
        "\n",
        "- 각 numerical feature에 대해서 summary statistics : mean, sd, Quantiles(1Q, 2Q, 3Q, 4Q)를 계산하세요."
      ]
    },
    {
      "cell_type": "code",
      "metadata": {
        "id": "0tVL1EYBTS45",
        "colab": {
          "base_uri": "https://localhost:8080/"
        },
        "outputId": "e143ec43-1bfb-49e0-eec7-605e47f57050"
      },
      "source": [
        "import seaborn as sns\n",
        "\n",
        "pp = sns.load_dataset('penguins')\n",
        "print(pp)"
      ],
      "execution_count": 94,
      "outputs": [
        {
          "output_type": "stream",
          "text": [
            "    species     island  bill_length_mm  ...  flipper_length_mm  body_mass_g     sex\n",
            "0    Adelie  Torgersen            39.1  ...              181.0       3750.0    Male\n",
            "1    Adelie  Torgersen            39.5  ...              186.0       3800.0  Female\n",
            "2    Adelie  Torgersen            40.3  ...              195.0       3250.0  Female\n",
            "3    Adelie  Torgersen             NaN  ...                NaN          NaN     NaN\n",
            "4    Adelie  Torgersen            36.7  ...              193.0       3450.0  Female\n",
            "..      ...        ...             ...  ...                ...          ...     ...\n",
            "339  Gentoo     Biscoe             NaN  ...                NaN          NaN     NaN\n",
            "340  Gentoo     Biscoe            46.8  ...              215.0       4850.0  Female\n",
            "341  Gentoo     Biscoe            50.4  ...              222.0       5750.0    Male\n",
            "342  Gentoo     Biscoe            45.2  ...              212.0       5200.0  Female\n",
            "343  Gentoo     Biscoe            49.9  ...              213.0       5400.0    Male\n",
            "\n",
            "[344 rows x 7 columns]\n"
          ],
          "name": "stdout"
        }
      ]
    },
    {
      "cell_type": "code",
      "metadata": {
        "id": "CXSGUzgr3n8u",
        "colab": {
          "base_uri": "https://localhost:8080/",
          "height": 419
        },
        "outputId": "40b9a6fb-0f27-4b97-8c84-1acc8787ae0a"
      },
      "source": [
        "pp.dropna()"
      ],
      "execution_count": 95,
      "outputs": [
        {
          "output_type": "execute_result",
          "data": {
            "text/html": [
              "<div>\n",
              "<style scoped>\n",
              "    .dataframe tbody tr th:only-of-type {\n",
              "        vertical-align: middle;\n",
              "    }\n",
              "\n",
              "    .dataframe tbody tr th {\n",
              "        vertical-align: top;\n",
              "    }\n",
              "\n",
              "    .dataframe thead th {\n",
              "        text-align: right;\n",
              "    }\n",
              "</style>\n",
              "<table border=\"1\" class=\"dataframe\">\n",
              "  <thead>\n",
              "    <tr style=\"text-align: right;\">\n",
              "      <th></th>\n",
              "      <th>species</th>\n",
              "      <th>island</th>\n",
              "      <th>bill_length_mm</th>\n",
              "      <th>bill_depth_mm</th>\n",
              "      <th>flipper_length_mm</th>\n",
              "      <th>body_mass_g</th>\n",
              "      <th>sex</th>\n",
              "    </tr>\n",
              "  </thead>\n",
              "  <tbody>\n",
              "    <tr>\n",
              "      <th>0</th>\n",
              "      <td>Adelie</td>\n",
              "      <td>Torgersen</td>\n",
              "      <td>39.1</td>\n",
              "      <td>18.7</td>\n",
              "      <td>181.0</td>\n",
              "      <td>3750.0</td>\n",
              "      <td>Male</td>\n",
              "    </tr>\n",
              "    <tr>\n",
              "      <th>1</th>\n",
              "      <td>Adelie</td>\n",
              "      <td>Torgersen</td>\n",
              "      <td>39.5</td>\n",
              "      <td>17.4</td>\n",
              "      <td>186.0</td>\n",
              "      <td>3800.0</td>\n",
              "      <td>Female</td>\n",
              "    </tr>\n",
              "    <tr>\n",
              "      <th>2</th>\n",
              "      <td>Adelie</td>\n",
              "      <td>Torgersen</td>\n",
              "      <td>40.3</td>\n",
              "      <td>18.0</td>\n",
              "      <td>195.0</td>\n",
              "      <td>3250.0</td>\n",
              "      <td>Female</td>\n",
              "    </tr>\n",
              "    <tr>\n",
              "      <th>4</th>\n",
              "      <td>Adelie</td>\n",
              "      <td>Torgersen</td>\n",
              "      <td>36.7</td>\n",
              "      <td>19.3</td>\n",
              "      <td>193.0</td>\n",
              "      <td>3450.0</td>\n",
              "      <td>Female</td>\n",
              "    </tr>\n",
              "    <tr>\n",
              "      <th>5</th>\n",
              "      <td>Adelie</td>\n",
              "      <td>Torgersen</td>\n",
              "      <td>39.3</td>\n",
              "      <td>20.6</td>\n",
              "      <td>190.0</td>\n",
              "      <td>3650.0</td>\n",
              "      <td>Male</td>\n",
              "    </tr>\n",
              "    <tr>\n",
              "      <th>...</th>\n",
              "      <td>...</td>\n",
              "      <td>...</td>\n",
              "      <td>...</td>\n",
              "      <td>...</td>\n",
              "      <td>...</td>\n",
              "      <td>...</td>\n",
              "      <td>...</td>\n",
              "    </tr>\n",
              "    <tr>\n",
              "      <th>338</th>\n",
              "      <td>Gentoo</td>\n",
              "      <td>Biscoe</td>\n",
              "      <td>47.2</td>\n",
              "      <td>13.7</td>\n",
              "      <td>214.0</td>\n",
              "      <td>4925.0</td>\n",
              "      <td>Female</td>\n",
              "    </tr>\n",
              "    <tr>\n",
              "      <th>340</th>\n",
              "      <td>Gentoo</td>\n",
              "      <td>Biscoe</td>\n",
              "      <td>46.8</td>\n",
              "      <td>14.3</td>\n",
              "      <td>215.0</td>\n",
              "      <td>4850.0</td>\n",
              "      <td>Female</td>\n",
              "    </tr>\n",
              "    <tr>\n",
              "      <th>341</th>\n",
              "      <td>Gentoo</td>\n",
              "      <td>Biscoe</td>\n",
              "      <td>50.4</td>\n",
              "      <td>15.7</td>\n",
              "      <td>222.0</td>\n",
              "      <td>5750.0</td>\n",
              "      <td>Male</td>\n",
              "    </tr>\n",
              "    <tr>\n",
              "      <th>342</th>\n",
              "      <td>Gentoo</td>\n",
              "      <td>Biscoe</td>\n",
              "      <td>45.2</td>\n",
              "      <td>14.8</td>\n",
              "      <td>212.0</td>\n",
              "      <td>5200.0</td>\n",
              "      <td>Female</td>\n",
              "    </tr>\n",
              "    <tr>\n",
              "      <th>343</th>\n",
              "      <td>Gentoo</td>\n",
              "      <td>Biscoe</td>\n",
              "      <td>49.9</td>\n",
              "      <td>16.1</td>\n",
              "      <td>213.0</td>\n",
              "      <td>5400.0</td>\n",
              "      <td>Male</td>\n",
              "    </tr>\n",
              "  </tbody>\n",
              "</table>\n",
              "<p>333 rows × 7 columns</p>\n",
              "</div>"
            ],
            "text/plain": [
              "    species     island  bill_length_mm  ...  flipper_length_mm  body_mass_g     sex\n",
              "0    Adelie  Torgersen            39.1  ...              181.0       3750.0    Male\n",
              "1    Adelie  Torgersen            39.5  ...              186.0       3800.0  Female\n",
              "2    Adelie  Torgersen            40.3  ...              195.0       3250.0  Female\n",
              "4    Adelie  Torgersen            36.7  ...              193.0       3450.0  Female\n",
              "5    Adelie  Torgersen            39.3  ...              190.0       3650.0    Male\n",
              "..      ...        ...             ...  ...                ...          ...     ...\n",
              "338  Gentoo     Biscoe            47.2  ...              214.0       4925.0  Female\n",
              "340  Gentoo     Biscoe            46.8  ...              215.0       4850.0  Female\n",
              "341  Gentoo     Biscoe            50.4  ...              222.0       5750.0    Male\n",
              "342  Gentoo     Biscoe            45.2  ...              212.0       5200.0  Female\n",
              "343  Gentoo     Biscoe            49.9  ...              213.0       5400.0    Male\n",
              "\n",
              "[333 rows x 7 columns]"
            ]
          },
          "metadata": {
            "tags": []
          },
          "execution_count": 95
        }
      ]
    },
    {
      "cell_type": "code",
      "metadata": {
        "id": "AsaxmMr638jx",
        "colab": {
          "base_uri": "https://localhost:8080/",
          "height": 421
        },
        "outputId": "069abc51-b41e-4b40-e8cd-ef694b304b37"
      },
      "source": [
        "# Q-Q plot 이란 \n",
        "# qqplot은 분위수대조도로 불리며 정규모집단 가정을 하는 방법 중 하나이며 수집 데이터를 표준정규분포의 분위수와 비교하여 그리는 그래프입니다.\n",
        "\n",
        "# 분위수란\n",
        "# 통계 및 확률에서 분위수는 확률 분포의 범위를 동일한 확률을 가진 연속 구간으로 나누거나 동일한 방식으로 표본의 관측치를 나누는 컷 포인트입니다. \n",
        "# 생성 된 그룹 수보다 분위수가 하나 적습니다. 일반적인 분위수에는 사 분위수, 십 분위수 및 백분위 수와 같은 특수한 이름이 있습니다.\n",
        "\n",
        "\n",
        "import scipy.stats as stats\n",
        "import numpy as np\n",
        "import matplotlib.pyplot as plt\n",
        "\n",
        "plt.figure(figsize=(10,5))\n",
        "stats.probplot(pp['bill_length_mm'], dist=stats.norm, plot=plt)\n",
        "plt.show()"
      ],
      "execution_count": 96,
      "outputs": [
        {
          "output_type": "stream",
          "text": [
            "/usr/local/lib/python3.7/dist-packages/matplotlib/backends/backend_agg.py:214: RuntimeWarning: Glyph 8722 missing from current font.\n",
            "  font.set_text(s, 0.0, flags=flags)\n",
            "/usr/local/lib/python3.7/dist-packages/matplotlib/backends/backend_agg.py:183: RuntimeWarning: Glyph 8722 missing from current font.\n",
            "  font.set_text(s, 0, flags=flags)\n"
          ],
          "name": "stderr"
        },
        {
          "output_type": "display_data",
          "data": {
            "image/png": "[encoded data removed]",
            "text/plain": [
              "<Figure size 720x360 with 1 Axes>"
            ]
          },
          "metadata": {
            "tags": [],
            "needs_background": "light"
          }
        }
      ]
    },
    {
      "cell_type": "code",
      "metadata": {
        "id": "hyjz-AYD_4eT",
        "colab": {
          "base_uri": "https://localhost:8080/",
          "height": 338
        },
        "outputId": "9125760f-2656-461b-9ebd-215ff0e46528"
      },
      "source": [
        "pp['bill_length_mm'].plot()"
      ],
      "execution_count": 97,
      "outputs": [
        {
          "output_type": "execute_result",
          "data": {
            "text/plain": [
              "<matplotlib.axes._subplots.AxesSubplot at 0x7fc4b09ee250>"
            ]
          },
          "metadata": {
            "tags": []
          },
          "execution_count": 97
        },
        {
          "output_type": "display_data",
          "data": {
            "image/png": "[encoded data removed]",
            "text/plain": [
              "<Figure size 1224x360 with 1 Axes>"
            ]
          },
          "metadata": {
            "tags": [],
            "needs_background": "light"
          }
        }
      ]
    },
    {
      "cell_type": "code",
      "metadata": {
        "id": "0_TVTeKPHgYN",
        "colab": {
          "base_uri": "https://localhost:8080/"
        },
        "outputId": "f0404fb7-9713-4074-aa7e-f685fb62f2c9"
      },
      "source": [
        "pp['island']"
      ],
      "execution_count": 98,
      "outputs": [
        {
          "output_type": "execute_result",
          "data": {
            "text/plain": [
              "0      Torgersen\n",
              "1      Torgersen\n",
              "2      Torgersen\n",
              "3      Torgersen\n",
              "4      Torgersen\n",
              "         ...    \n",
              "339       Biscoe\n",
              "340       Biscoe\n",
              "341       Biscoe\n",
              "342       Biscoe\n",
              "343       Biscoe\n",
              "Name: island, Length: 344, dtype: object"
            ]
          },
          "metadata": {
            "tags": []
          },
          "execution_count": 98
        }
      ]
    },
    {
      "cell_type": "code",
      "metadata": {
        "id": "kV80VlXBI-kG",
        "colab": {
          "base_uri": "https://localhost:8080/"
        },
        "outputId": "2fc39a19-7fdd-4610-e88b-5b618f296d62"
      },
      "source": [
        "land = pp['island'].value_counts()\n",
        "land"
      ],
      "execution_count": 99,
      "outputs": [
        {
          "output_type": "execute_result",
          "data": {
            "text/plain": [
              "Biscoe       168\n",
              "Dream        124\n",
              "Torgersen     52\n",
              "Name: island, dtype: int64"
            ]
          },
          "metadata": {
            "tags": []
          },
          "execution_count": 99
        }
      ]
    },
    {
      "cell_type": "code",
      "metadata": {
        "id": "ZdlXDw8oLAoq",
        "colab": {
          "base_uri": "https://localhost:8080/",
          "height": 419
        },
        "outputId": "966a329d-c16b-4363-913e-ca5d5d5e0bf4"
      },
      "source": [
        "pp"
      ],
      "execution_count": 100,
      "outputs": [
        {
          "output_type": "execute_result",
          "data": {
            "text/html": [
              "<div>\n",
              "<style scoped>\n",
              "    .dataframe tbody tr th:only-of-type {\n",
              "        vertical-align: middle;\n",
              "    }\n",
              "\n",
              "    .dataframe tbody tr th {\n",
              "        vertical-align: top;\n",
              "    }\n",
              "\n",
              "    .dataframe thead th {\n",
              "        text-align: right;\n",
              "    }\n",
              "</style>\n",
              "<table border=\"1\" class=\"dataframe\">\n",
              "  <thead>\n",
              "    <tr style=\"text-align: right;\">\n",
              "      <th></th>\n",
              "      <th>species</th>\n",
              "      <th>island</th>\n",
              "      <th>bill_length_mm</th>\n",
              "      <th>bill_depth_mm</th>\n",
              "      <th>flipper_length_mm</th>\n",
              "      <th>body_mass_g</th>\n",
              "      <th>sex</th>\n",
              "    </tr>\n",
              "  </thead>\n",
              "  <tbody>\n",
              "    <tr>\n",
              "      <th>0</th>\n",
              "      <td>Adelie</td>\n",
              "      <td>Torgersen</td>\n",
              "      <td>39.1</td>\n",
              "      <td>18.7</td>\n",
              "      <td>181.0</td>\n",
              "      <td>3750.0</td>\n",
              "      <td>Male</td>\n",
              "    </tr>\n",
              "    <tr>\n",
              "      <th>1</th>\n",
              "      <td>Adelie</td>\n",
              "      <td>Torgersen</td>\n",
              "      <td>39.5</td>\n",
              "      <td>17.4</td>\n",
              "      <td>186.0</td>\n",
              "      <td>3800.0</td>\n",
              "      <td>Female</td>\n",
              "    </tr>\n",
              "    <tr>\n",
              "      <th>2</th>\n",
              "      <td>Adelie</td>\n",
              "      <td>Torgersen</td>\n",
              "      <td>40.3</td>\n",
              "      <td>18.0</td>\n",
              "      <td>195.0</td>\n",
              "      <td>3250.0</td>\n",
              "      <td>Female</td>\n",
              "    </tr>\n",
              "    <tr>\n",
              "      <th>3</th>\n",
              "      <td>Adelie</td>\n",
              "      <td>Torgersen</td>\n",
              "      <td>NaN</td>\n",
              "      <td>NaN</td>\n",
              "      <td>NaN</td>\n",
              "      <td>NaN</td>\n",
              "      <td>NaN</td>\n",
              "    </tr>\n",
              "    <tr>\n",
              "      <th>4</th>\n",
              "      <td>Adelie</td>\n",
              "      <td>Torgersen</td>\n",
              "      <td>36.7</td>\n",
              "      <td>19.3</td>\n",
              "      <td>193.0</td>\n",
              "      <td>3450.0</td>\n",
              "      <td>Female</td>\n",
              "    </tr>\n",
              "    <tr>\n",
              "      <th>...</th>\n",
              "      <td>...</td>\n",
              "      <td>...</td>\n",
              "      <td>...</td>\n",
              "      <td>...</td>\n",
              "      <td>...</td>\n",
              "      <td>...</td>\n",
              "      <td>...</td>\n",
              "    </tr>\n",
              "    <tr>\n",
              "      <th>339</th>\n",
              "      <td>Gentoo</td>\n",
              "      <td>Biscoe</td>\n",
              "      <td>NaN</td>\n",
              "      <td>NaN</td>\n",
              "      <td>NaN</td>\n",
              "      <td>NaN</td>\n",
              "      <td>NaN</td>\n",
              "    </tr>\n",
              "    <tr>\n",
              "      <th>340</th>\n",
              "      <td>Gentoo</td>\n",
              "      <td>Biscoe</td>\n",
              "      <td>46.8</td>\n",
              "      <td>14.3</td>\n",
              "      <td>215.0</td>\n",
              "      <td>4850.0</td>\n",
              "      <td>Female</td>\n",
              "    </tr>\n",
              "    <tr>\n",
              "      <th>341</th>\n",
              "      <td>Gentoo</td>\n",
              "      <td>Biscoe</td>\n",
              "      <td>50.4</td>\n",
              "      <td>15.7</td>\n",
              "      <td>222.0</td>\n",
              "      <td>5750.0</td>\n",
              "      <td>Male</td>\n",
              "    </tr>\n",
              "    <tr>\n",
              "      <th>342</th>\n",
              "      <td>Gentoo</td>\n",
              "      <td>Biscoe</td>\n",
              "      <td>45.2</td>\n",
              "      <td>14.8</td>\n",
              "      <td>212.0</td>\n",
              "      <td>5200.0</td>\n",
              "      <td>Female</td>\n",
              "    </tr>\n",
              "    <tr>\n",
              "      <th>343</th>\n",
              "      <td>Gentoo</td>\n",
              "      <td>Biscoe</td>\n",
              "      <td>49.9</td>\n",
              "      <td>16.1</td>\n",
              "      <td>213.0</td>\n",
              "      <td>5400.0</td>\n",
              "      <td>Male</td>\n",
              "    </tr>\n",
              "  </tbody>\n",
              "</table>\n",
              "<p>344 rows × 7 columns</p>\n",
              "</div>"
            ],
            "text/plain": [
              "    species     island  bill_length_mm  ...  flipper_length_mm  body_mass_g     sex\n",
              "0    Adelie  Torgersen            39.1  ...              181.0       3750.0    Male\n",
              "1    Adelie  Torgersen            39.5  ...              186.0       3800.0  Female\n",
              "2    Adelie  Torgersen            40.3  ...              195.0       3250.0  Female\n",
              "3    Adelie  Torgersen             NaN  ...                NaN          NaN     NaN\n",
              "4    Adelie  Torgersen            36.7  ...              193.0       3450.0  Female\n",
              "..      ...        ...             ...  ...                ...          ...     ...\n",
              "339  Gentoo     Biscoe             NaN  ...                NaN          NaN     NaN\n",
              "340  Gentoo     Biscoe            46.8  ...              215.0       4850.0  Female\n",
              "341  Gentoo     Biscoe            50.4  ...              222.0       5750.0    Male\n",
              "342  Gentoo     Biscoe            45.2  ...              212.0       5200.0  Female\n",
              "343  Gentoo     Biscoe            49.9  ...              213.0       5400.0    Male\n",
              "\n",
              "[344 rows x 7 columns]"
            ]
          },
          "metadata": {
            "tags": []
          },
          "execution_count": 100
        }
      ]
    },
    {
      "cell_type": "code",
      "metadata": {
        "id": "vDZ-VTm7MyyF",
        "colab": {
          "base_uri": "https://localhost:8080/",
          "height": 460
        },
        "outputId": "81aaddff-17f6-47e4-c5ec-4ed780270c16"
      },
      "source": [
        "numerical_feature = ['bill_length_mm', 'bill_depth_mm', 'flipper_length_mm', 'body_mass_g']\n",
        "\n",
        "kind = numerical_feature[0]\n",
        "\n",
        "plt.figure(figsize = (6,5))\n",
        "sns.boxplot(data = pp, x = 'island', y = kind)\n",
        "plt.show()\n",
        "print('summary statistics : mean, sd, Quantiles(1Q, 2Q, 3Q, 4Q)')\n",
        "print('mean = '+str(pp[kind].mean()))\n",
        "print('sd = '+str(pp[kind].std()))\n",
        "print('1Q = '+str(pp[kind].quantile(.25)))\n",
        "print('2Q = '+str(pp[kind].quantile(.50)))\n",
        "print('3Q = '+str(pp[kind].quantile(.75)))\n",
        "print('4Q = '+str(pp[kind].quantile(1)))"
      ],
      "execution_count": 101,
      "outputs": [
        {
          "output_type": "display_data",
          "data": {
            "image/png": "[encoded data removed]",
            "text/plain": [
              "<Figure size 432x360 with 1 Axes>"
            ]
          },
          "metadata": {
            "tags": [],
            "needs_background": "light"
          }
        },
        {
          "output_type": "stream",
          "text": [
            "summary statistics : mean, sd, Quantiles(1Q, 2Q, 3Q, 4Q)\n",
            "mean = 43.92192982456142\n",
            "sd = 5.459583713926532\n",
            "1Q = 39.225\n",
            "2Q = 44.45\n",
            "3Q = 48.5\n",
            "4Q = 59.6\n"
          ],
          "name": "stdout"
        }
      ]
    },
    {
      "cell_type": "code",
      "metadata": {
        "colab": {
          "base_uri": "https://localhost:8080/",
          "height": 460
        },
        "id": "EzDFMkT9QU8W",
        "outputId": "a11a2edc-e3f0-4e3a-ce59-98356fc1655c"
      },
      "source": [
        "kind = numerical_feature[1]\n",
        "\n",
        "plt.figure(figsize = (6,5))\n",
        "sns.boxplot(data = pp, x = 'island', y = kind)\n",
        "plt.show()\n",
        "print('summary statistics : mean, sd, Quantiles(1Q, 2Q, 3Q, 4Q)')\n",
        "print('mean = '+str(pp[kind].mean()))\n",
        "print('sd = '+str(pp[kind].std()))\n",
        "print('1Q = '+str(pp[kind].quantile(.25)))\n",
        "print('2Q = '+str(pp[kind].quantile(.50)))\n",
        "print('3Q = '+str(pp[kind].quantile(.75)))\n",
        "print('4Q = '+str(pp[kind].quantile(1)))"
      ],
      "execution_count": 102,
      "outputs": [
        {
          "output_type": "display_data",
          "data": {
            "image/png": "[encoded data removed]",
            "text/plain": [
              "<Figure size 432x360 with 1 Axes>"
            ]
          },
          "metadata": {
            "tags": [],
            "needs_background": "light"
          }
        },
        {
          "output_type": "stream",
          "text": [
            "summary statistics : mean, sd, Quantiles(1Q, 2Q, 3Q, 4Q)\n",
            "mean = 17.151169590643278\n",
            "sd = 1.9747931568167816\n",
            "1Q = 15.6\n",
            "2Q = 17.3\n",
            "3Q = 18.7\n",
            "4Q = 21.5\n"
          ],
          "name": "stdout"
        }
      ]
    },
    {
      "cell_type": "code",
      "metadata": {
        "colab": {
          "base_uri": "https://localhost:8080/",
          "height": 460
        },
        "id": "KcTO5BKfSTKR",
        "outputId": "ad1bb8df-43da-4b78-d753-b1d12b8163d1"
      },
      "source": [
        "kind = numerical_feature[2]\n",
        "\n",
        "plt.figure(figsize = (6,5))\n",
        "sns.boxplot(data = pp, x = 'island', y = kind)\n",
        "plt.show()\n",
        "print('summary statistics : mean, sd, Quantiles(1Q, 2Q, 3Q, 4Q)')\n",
        "print('mean = '+str(pp[kind].mean()))\n",
        "print('sd = '+str(pp[kind].std()))\n",
        "print('1Q = '+str(pp[kind].quantile(.25)))\n",
        "print('2Q = '+str(pp[kind].quantile(.50)))\n",
        "print('3Q = '+str(pp[kind].quantile(.75)))\n",
        "print('4Q = '+str(pp[kind].quantile(1)))"
      ],
      "execution_count": 103,
      "outputs": [
        {
          "output_type": "display_data",
          "data": {
            "image/png": "[encoded data removed]",
            "text/plain": [
              "<Figure size 432x360 with 1 Axes>"
            ]
          },
          "metadata": {
            "tags": [],
            "needs_background": "light"
          }
        },
        {
          "output_type": "stream",
          "text": [
            "summary statistics : mean, sd, Quantiles(1Q, 2Q, 3Q, 4Q)\n",
            "mean = 200.91520467836258\n",
            "sd = 14.061713679356894\n",
            "1Q = 190.0\n",
            "2Q = 197.0\n",
            "3Q = 213.0\n",
            "4Q = 231.0\n"
          ],
          "name": "stdout"
        }
      ]
    },
    {
      "cell_type": "code",
      "metadata": {
        "colab": {
          "base_uri": "https://localhost:8080/",
          "height": 460
        },
        "id": "t2cYF2ICSVH5",
        "outputId": "67ebae8f-ed77-43ea-ebe3-e249f79b88fd"
      },
      "source": [
        "kind = numerical_feature[3]\n",
        "\n",
        "plt.figure(figsize = (6,5))\n",
        "sns.boxplot(data = pp, x = 'island', y = kind)\n",
        "plt.show()\n",
        "print('summary statistics : mean, sd, Quantiles(1Q, 2Q, 3Q, 4Q)')\n",
        "print('mean = '+str(pp[kind].mean()))\n",
        "print('sd = '+str(pp[kind].std()))\n",
        "print('1Q = '+str(pp[kind].quantile(.25)))\n",
        "print('2Q = '+str(pp[kind].quantile(.50)))\n",
        "print('3Q = '+str(pp[kind].quantile(.75)))\n",
        "print('4Q = '+str(pp[kind].quantile(1)))"
      ],
      "execution_count": 104,
      "outputs": [
        {
          "output_type": "display_data",
          "data": {
            "image/png": "[encoded data removed]",
            "text/plain": [
              "<Figure size 432x360 with 1 Axes>"
            ]
          },
          "metadata": {
            "tags": [],
            "needs_background": "light"
          }
        },
        {
          "output_type": "stream",
          "text": [
            "summary statistics : mean, sd, Quantiles(1Q, 2Q, 3Q, 4Q)\n",
            "mean = 4201.754385964912\n",
            "sd = 801.9545356980954\n",
            "1Q = 3550.0\n",
            "2Q = 4050.0\n",
            "3Q = 4750.0\n",
            "4Q = 6300.0\n"
          ],
          "name": "stdout"
        }
      ]
    },
    {
      "cell_type": "code",
      "metadata": {
        "id": "C0qlR_HASWIZ"
      },
      "source": [
        ""
      ],
      "execution_count": 104,
      "outputs": []
    }
  ]
}