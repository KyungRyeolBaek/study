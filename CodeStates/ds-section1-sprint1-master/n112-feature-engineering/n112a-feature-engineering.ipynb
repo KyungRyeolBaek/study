{
  "nbformat": 4,
  "nbformat_minor": 0,
  "metadata": {
    "colab": {
      "name": "n112a-feature-engineering.ipynb",
      "provenance": [],
      "toc_visible": true
    },
    "kernelspec": {
      "name": "python3",
      "display_name": "Python 3"
    }
  },
  "cells": [
    {
      "cell_type": "markdown",
      "metadata": {
        "id": "SnDJqBLi0FYW"
      },
      "source": [
        "<img src='https://user-images.githubusercontent.com/6457691/89746244-a6e2a200-daf3-11ea-9314-7863d544d73c.png' width = '200' align = 'right'>\n",
        "\n",
        "## *DATA SCIENCE / SECTION 1 / SPRINT 1 / NOTE 2*\n",
        "\n",
        "# 📝 Assignment\n"
      ]
    },
    {
      "cell_type": "markdown",
      "metadata": {
        "id": "W5GjI1z5yNG4"
      },
      "source": [
        "## 1. Feature Engineering\n",
        "\n",
        "- `KT&G` 기업 데이터를 계속 사용합니다.\n",
        "  - 변수 이름은 `df`로 저장하세요.\n",
        "\n",
        "- 각 분기별 영업이익률을 직접 계산해보세요. \n",
        "  - Feature 이름은 `영업이익률2` 입니다.\n",
        "\n",
        "- 아래 데이터를 참조하여 18/19년도에 대해서 Price to Dream Ratio (PDR)을 계산하세요.\n",
        "  - 변수 이름은 `df2`, feature 이름은 `PDR`로, `df2['PDR']`을 통해 `~` 값이 확인 되어야합니다.\n",
        "\n",
        "||구분|종가|발행주식수|시가총액|시장점유율|PDR|\n",
        "|:-:|:-:|:-:|:-:|:-:|:-:|:-:|\n",
        "|0|18년|101500|137292497|13935188445500|62.0|~|\n",
        "|1|19년|93800|137292497|12878036218600|63.5|~|\n"
      ]
    },
    {
      "cell_type": "code",
      "metadata": {
        "id": "1zV7rjED-v-1"
      },
      "source": [
        "\n",
        "# 구분\t종가\t발행주식수\t시가총액\t시장점유율\tPDR\n",
        "# 0\t18년\t101500\t137292497\t13935188445500\t62.0\t~\n",
        "# 1\t19년\t93800\t137292497\t12878036218600\t63.5\t~\n",
        "\n",
        "# 데이터 프레임으로 만드는 법"
      ],
      "execution_count": 322,
      "outputs": []
    },
    {
      "cell_type": "code",
      "metadata": {
        "id": "AazB4eFwym2p"
      },
      "source": [
        "url = 'https://ds-lecture-data.s3.ap-northeast-2.amazonaws.com/kt%26g/kt%26g_0.csv'\n",
        "headers = ['분기', '매출액', '영업이익', '영업이익(발표기준)', '세전계속사업이익',\n",
        "           '당기순이익', '당기순이익(지배)', '당기순이익(비지배)', '자산총계', '부채총계',\n",
        "           '자본총계', '자본총계(지배)', '자본총계(비지배)', '자본금', '영업활동현금흐름',\n",
        "           '투자활동현금흐름', '재무활동현금흐름', '영업이익률', '순이익률', 'ROE(%)',\n",
        "           'ROA(%)', '부채비율', '자본유보율', 'EPS(원)', 'PER(배)']"
      ],
      "execution_count": 323,
      "outputs": []
    },
    {
      "cell_type": "code",
      "metadata": {
        "colab": {
          "base_uri": "https://localhost:8080/",
          "height": 255
        },
        "id": "Qu_j9JfhQypS",
        "outputId": "34028ffb-c81f-41f1-d517-7c51ef1b289a"
      },
      "source": [
        "import pandas as pd\n",
        "\n",
        "df = pd.read_csv(url, names = headers)\n",
        "df"
      ],
      "execution_count": 324,
      "outputs": [
        {
          "output_type": "execute_result",
          "data": {
            "text/html": [
              "<div>\n",
              "<style scoped>\n",
              "    .dataframe tbody tr th:only-of-type {\n",
              "        vertical-align: middle;\n",
              "    }\n",
              "\n",
              "    .dataframe tbody tr th {\n",
              "        vertical-align: top;\n",
              "    }\n",
              "\n",
              "    .dataframe thead th {\n",
              "        text-align: right;\n",
              "    }\n",
              "</style>\n",
              "<table border=\"1\" class=\"dataframe\">\n",
              "  <thead>\n",
              "    <tr style=\"text-align: right;\">\n",
              "      <th></th>\n",
              "      <th>분기</th>\n",
              "      <th>매출액</th>\n",
              "      <th>영업이익</th>\n",
              "      <th>영업이익(발표기준)</th>\n",
              "      <th>세전계속사업이익</th>\n",
              "      <th>당기순이익</th>\n",
              "      <th>당기순이익(지배)</th>\n",
              "      <th>당기순이익(비지배)</th>\n",
              "      <th>자산총계</th>\n",
              "      <th>부채총계</th>\n",
              "      <th>자본총계</th>\n",
              "      <th>자본총계(지배)</th>\n",
              "      <th>자본총계(비지배)</th>\n",
              "      <th>자본금</th>\n",
              "      <th>영업활동현금흐름</th>\n",
              "      <th>투자활동현금흐름</th>\n",
              "      <th>재무활동현금흐름</th>\n",
              "      <th>영업이익률</th>\n",
              "      <th>순이익률</th>\n",
              "      <th>ROE(%)</th>\n",
              "      <th>ROA(%)</th>\n",
              "      <th>부채비율</th>\n",
              "      <th>자본유보율</th>\n",
              "      <th>EPS(원)</th>\n",
              "      <th>PER(배)</th>\n",
              "    </tr>\n",
              "  </thead>\n",
              "  <tbody>\n",
              "    <tr>\n",
              "      <th>0</th>\n",
              "      <td>19/6</td>\n",
              "      <td>12,578</td>\n",
              "      <td>3,991</td>\n",
              "      <td>3,991</td>\n",
              "      <td>4,452</td>\n",
              "      <td>3,245</td>\n",
              "      <td>3,228</td>\n",
              "      <td>17</td>\n",
              "      <td>108,464</td>\n",
              "      <td>25,940</td>\n",
              "      <td>82,524</td>\n",
              "      <td>81,965</td>\n",
              "      <td>NaN</td>\n",
              "      <td>9,550</td>\n",
              "      <td>4,641</td>\n",
              "      <td>-1,878</td>\n",
              "      <td>-4,919</td>\n",
              "      <td>31.73</td>\n",
              "      <td>25.80</td>\n",
              "      <td>12.35</td>\n",
              "      <td>9.37</td>\n",
              "      <td>31.43</td>\n",
              "      <td>803.22</td>\n",
              "      <td>2,351</td>\n",
              "      <td>13.77</td>\n",
              "    </tr>\n",
              "    <tr>\n",
              "      <th>1</th>\n",
              "      <td>19/9</td>\n",
              "      <td>13,222</td>\n",
              "      <td>3,825</td>\n",
              "      <td>3,825</td>\n",
              "      <td>4,503</td>\n",
              "      <td>3,221</td>\n",
              "      <td>3,208</td>\n",
              "      <td>13</td>\n",
              "      <td>106,314</td>\n",
              "      <td>20,691</td>\n",
              "      <td>85,623</td>\n",
              "      <td>85,049</td>\n",
              "      <td>NaN</td>\n",
              "      <td>9,550</td>\n",
              "      <td>-2,278</td>\n",
              "      <td>-83</td>\n",
              "      <td>-329</td>\n",
              "      <td>28.93</td>\n",
              "      <td>24.36</td>\n",
              "      <td>12.67</td>\n",
              "      <td>9.95</td>\n",
              "      <td>24.17</td>\n",
              "      <td>836.86</td>\n",
              "      <td>2,337</td>\n",
              "      <td>13.87</td>\n",
              "    </tr>\n",
              "    <tr>\n",
              "      <th>2</th>\n",
              "      <td>19/12</td>\n",
              "      <td>11,982</td>\n",
              "      <td>2,523</td>\n",
              "      <td>2,523</td>\n",
              "      <td>1,794</td>\n",
              "      <td>1,183</td>\n",
              "      <td>1,198</td>\n",
              "      <td>-15</td>\n",
              "      <td>107,121</td>\n",
              "      <td>20,062</td>\n",
              "      <td>87,059</td>\n",
              "      <td>86,506</td>\n",
              "      <td>NaN</td>\n",
              "      <td>9,550</td>\n",
              "      <td>837</td>\n",
              "      <td>-501</td>\n",
              "      <td>-129</td>\n",
              "      <td>21.06</td>\n",
              "      <td>9.87</td>\n",
              "      <td>12.39</td>\n",
              "      <td>9.96</td>\n",
              "      <td>23.04</td>\n",
              "      <td>850.82</td>\n",
              "      <td>873</td>\n",
              "      <td>12.42</td>\n",
              "    </tr>\n",
              "    <tr>\n",
              "      <th>3</th>\n",
              "      <td>20/3</td>\n",
              "      <td>11,784</td>\n",
              "      <td>3,150</td>\n",
              "      <td>3,150</td>\n",
              "      <td>4,156</td>\n",
              "      <td>2,939</td>\n",
              "      <td>2,930</td>\n",
              "      <td>9</td>\n",
              "      <td>108,594</td>\n",
              "      <td>24,862</td>\n",
              "      <td>83,732</td>\n",
              "      <td>83,170</td>\n",
              "      <td>562.0</td>\n",
              "      <td>9,550</td>\n",
              "      <td>2,336</td>\n",
              "      <td>-1,392</td>\n",
              "      <td>-86</td>\n",
              "      <td>26.73</td>\n",
              "      <td>24.94</td>\n",
              "      <td>13.05</td>\n",
              "      <td>9.79</td>\n",
              "      <td>29.69</td>\n",
              "      <td>823.16</td>\n",
              "      <td>2,134</td>\n",
              "      <td>9.71</td>\n",
              "    </tr>\n",
              "    <tr>\n",
              "      <th>4</th>\n",
              "      <td>20/6</td>\n",
              "      <td>13,188</td>\n",
              "      <td>3,947</td>\n",
              "      <td>3,947</td>\n",
              "      <td>4,020</td>\n",
              "      <td>2,935</td>\n",
              "      <td>2,931</td>\n",
              "      <td>4</td>\n",
              "      <td>110,282</td>\n",
              "      <td>23,386</td>\n",
              "      <td>86,896</td>\n",
              "      <td>86,330</td>\n",
              "      <td>566.0</td>\n",
              "      <td>9,550</td>\n",
              "      <td>7,855</td>\n",
              "      <td>-214</td>\n",
              "      <td>-5,501</td>\n",
              "      <td>29.93</td>\n",
              "      <td>22.25</td>\n",
              "      <td>12.20</td>\n",
              "      <td>9.40</td>\n",
              "      <td>26.91</td>\n",
              "      <td>837.40</td>\n",
              "      <td>2,135</td>\n",
              "      <td>10.46</td>\n",
              "    </tr>\n",
              "  </tbody>\n",
              "</table>\n",
              "</div>"
            ],
            "text/plain": [
              "      분기     매출액   영업이익 영업이익(발표기준)  ...   부채비율   자본유보율 EPS(원)  PER(배)\n",
              "0   19/6  12,578  3,991      3,991  ...  31.43  803.22  2,351   13.77\n",
              "1   19/9  13,222  3,825      3,825  ...  24.17  836.86  2,337   13.87\n",
              "2  19/12  11,982  2,523      2,523  ...  23.04  850.82    873   12.42\n",
              "3   20/3  11,784  3,150      3,150  ...  29.69  823.16  2,134    9.71\n",
              "4   20/6  13,188  3,947      3,947  ...  26.91  837.40  2,135   10.46\n",
              "\n",
              "[5 rows x 25 columns]"
            ]
          },
          "metadata": {
            "tags": []
          },
          "execution_count": 324
        }
      ]
    },
    {
      "cell_type": "code",
      "metadata": {
        "colab": {
          "base_uri": "https://localhost:8080/",
          "height": 289
        },
        "id": "6yDhMGbRVNTo",
        "outputId": "550cd7f5-8ab5-4582-ba3d-624a9b2e377e"
      },
      "source": [
        "# 영업이익률 계산 방법은 구해진 영업이익을 매출액으로 나누고 100을 곱해 %를 구하시면 됩니다. 즉 총매출액대비 영업이익의 수준이 어느정도냐에 따라서 마진율이 얼마나 좋은지 파악할 수 있는 지표입니다.\n",
        "# 영업이익률2 = (영업이익 / 매출액) * 100\n",
        "def toint(string):\n",
        "  return int(string.replace(',',''))\n",
        "\n",
        "df['영업이익률2'] = (df['영업이익'].apply(toint) / df['매출액'].apply(toint)) * 100\n",
        "df"
      ],
      "execution_count": 325,
      "outputs": [
        {
          "output_type": "execute_result",
          "data": {
            "text/html": [
              "<div>\n",
              "<style scoped>\n",
              "    .dataframe tbody tr th:only-of-type {\n",
              "        vertical-align: middle;\n",
              "    }\n",
              "\n",
              "    .dataframe tbody tr th {\n",
              "        vertical-align: top;\n",
              "    }\n",
              "\n",
              "    .dataframe thead th {\n",
              "        text-align: right;\n",
              "    }\n",
              "</style>\n",
              "<table border=\"1\" class=\"dataframe\">\n",
              "  <thead>\n",
              "    <tr style=\"text-align: right;\">\n",
              "      <th></th>\n",
              "      <th>분기</th>\n",
              "      <th>매출액</th>\n",
              "      <th>영업이익</th>\n",
              "      <th>영업이익(발표기준)</th>\n",
              "      <th>세전계속사업이익</th>\n",
              "      <th>당기순이익</th>\n",
              "      <th>당기순이익(지배)</th>\n",
              "      <th>당기순이익(비지배)</th>\n",
              "      <th>자산총계</th>\n",
              "      <th>부채총계</th>\n",
              "      <th>자본총계</th>\n",
              "      <th>자본총계(지배)</th>\n",
              "      <th>자본총계(비지배)</th>\n",
              "      <th>자본금</th>\n",
              "      <th>영업활동현금흐름</th>\n",
              "      <th>투자활동현금흐름</th>\n",
              "      <th>재무활동현금흐름</th>\n",
              "      <th>영업이익률</th>\n",
              "      <th>순이익률</th>\n",
              "      <th>ROE(%)</th>\n",
              "      <th>ROA(%)</th>\n",
              "      <th>부채비율</th>\n",
              "      <th>자본유보율</th>\n",
              "      <th>EPS(원)</th>\n",
              "      <th>PER(배)</th>\n",
              "      <th>영업이익률2</th>\n",
              "    </tr>\n",
              "  </thead>\n",
              "  <tbody>\n",
              "    <tr>\n",
              "      <th>0</th>\n",
              "      <td>19/6</td>\n",
              "      <td>12,578</td>\n",
              "      <td>3,991</td>\n",
              "      <td>3,991</td>\n",
              "      <td>4,452</td>\n",
              "      <td>3,245</td>\n",
              "      <td>3,228</td>\n",
              "      <td>17</td>\n",
              "      <td>108,464</td>\n",
              "      <td>25,940</td>\n",
              "      <td>82,524</td>\n",
              "      <td>81,965</td>\n",
              "      <td>NaN</td>\n",
              "      <td>9,550</td>\n",
              "      <td>4,641</td>\n",
              "      <td>-1,878</td>\n",
              "      <td>-4,919</td>\n",
              "      <td>31.73</td>\n",
              "      <td>25.80</td>\n",
              "      <td>12.35</td>\n",
              "      <td>9.37</td>\n",
              "      <td>31.43</td>\n",
              "      <td>803.22</td>\n",
              "      <td>2,351</td>\n",
              "      <td>13.77</td>\n",
              "      <td>31.730005</td>\n",
              "    </tr>\n",
              "    <tr>\n",
              "      <th>1</th>\n",
              "      <td>19/9</td>\n",
              "      <td>13,222</td>\n",
              "      <td>3,825</td>\n",
              "      <td>3,825</td>\n",
              "      <td>4,503</td>\n",
              "      <td>3,221</td>\n",
              "      <td>3,208</td>\n",
              "      <td>13</td>\n",
              "      <td>106,314</td>\n",
              "      <td>20,691</td>\n",
              "      <td>85,623</td>\n",
              "      <td>85,049</td>\n",
              "      <td>NaN</td>\n",
              "      <td>9,550</td>\n",
              "      <td>-2,278</td>\n",
              "      <td>-83</td>\n",
              "      <td>-329</td>\n",
              "      <td>28.93</td>\n",
              "      <td>24.36</td>\n",
              "      <td>12.67</td>\n",
              "      <td>9.95</td>\n",
              "      <td>24.17</td>\n",
              "      <td>836.86</td>\n",
              "      <td>2,337</td>\n",
              "      <td>13.87</td>\n",
              "      <td>28.929058</td>\n",
              "    </tr>\n",
              "    <tr>\n",
              "      <th>2</th>\n",
              "      <td>19/12</td>\n",
              "      <td>11,982</td>\n",
              "      <td>2,523</td>\n",
              "      <td>2,523</td>\n",
              "      <td>1,794</td>\n",
              "      <td>1,183</td>\n",
              "      <td>1,198</td>\n",
              "      <td>-15</td>\n",
              "      <td>107,121</td>\n",
              "      <td>20,062</td>\n",
              "      <td>87,059</td>\n",
              "      <td>86,506</td>\n",
              "      <td>NaN</td>\n",
              "      <td>9,550</td>\n",
              "      <td>837</td>\n",
              "      <td>-501</td>\n",
              "      <td>-129</td>\n",
              "      <td>21.06</td>\n",
              "      <td>9.87</td>\n",
              "      <td>12.39</td>\n",
              "      <td>9.96</td>\n",
              "      <td>23.04</td>\n",
              "      <td>850.82</td>\n",
              "      <td>873</td>\n",
              "      <td>12.42</td>\n",
              "      <td>21.056585</td>\n",
              "    </tr>\n",
              "    <tr>\n",
              "      <th>3</th>\n",
              "      <td>20/3</td>\n",
              "      <td>11,784</td>\n",
              "      <td>3,150</td>\n",
              "      <td>3,150</td>\n",
              "      <td>4,156</td>\n",
              "      <td>2,939</td>\n",
              "      <td>2,930</td>\n",
              "      <td>9</td>\n",
              "      <td>108,594</td>\n",
              "      <td>24,862</td>\n",
              "      <td>83,732</td>\n",
              "      <td>83,170</td>\n",
              "      <td>562.0</td>\n",
              "      <td>9,550</td>\n",
              "      <td>2,336</td>\n",
              "      <td>-1,392</td>\n",
              "      <td>-86</td>\n",
              "      <td>26.73</td>\n",
              "      <td>24.94</td>\n",
              "      <td>13.05</td>\n",
              "      <td>9.79</td>\n",
              "      <td>29.69</td>\n",
              "      <td>823.16</td>\n",
              "      <td>2,134</td>\n",
              "      <td>9.71</td>\n",
              "      <td>26.731161</td>\n",
              "    </tr>\n",
              "    <tr>\n",
              "      <th>4</th>\n",
              "      <td>20/6</td>\n",
              "      <td>13,188</td>\n",
              "      <td>3,947</td>\n",
              "      <td>3,947</td>\n",
              "      <td>4,020</td>\n",
              "      <td>2,935</td>\n",
              "      <td>2,931</td>\n",
              "      <td>4</td>\n",
              "      <td>110,282</td>\n",
              "      <td>23,386</td>\n",
              "      <td>86,896</td>\n",
              "      <td>86,330</td>\n",
              "      <td>566.0</td>\n",
              "      <td>9,550</td>\n",
              "      <td>7,855</td>\n",
              "      <td>-214</td>\n",
              "      <td>-5,501</td>\n",
              "      <td>29.93</td>\n",
              "      <td>22.25</td>\n",
              "      <td>12.20</td>\n",
              "      <td>9.40</td>\n",
              "      <td>26.91</td>\n",
              "      <td>837.40</td>\n",
              "      <td>2,135</td>\n",
              "      <td>10.46</td>\n",
              "      <td>29.928723</td>\n",
              "    </tr>\n",
              "  </tbody>\n",
              "</table>\n",
              "</div>"
            ],
            "text/plain": [
              "      분기     매출액   영업이익 영업이익(발표기준)  ...   자본유보율 EPS(원) PER(배)     영업이익률2\n",
              "0   19/6  12,578  3,991      3,991  ...  803.22  2,351  13.77  31.730005\n",
              "1   19/9  13,222  3,825      3,825  ...  836.86  2,337  13.87  28.929058\n",
              "2  19/12  11,982  2,523      2,523  ...  850.82    873  12.42  21.056585\n",
              "3   20/3  11,784  3,150      3,150  ...  823.16  2,134   9.71  26.731161\n",
              "4   20/6  13,188  3,947      3,947  ...  837.40  2,135  10.46  29.928723\n",
              "\n",
              "[5 rows x 26 columns]"
            ]
          },
          "metadata": {
            "tags": []
          },
          "execution_count": 325
        }
      ]
    },
    {
      "cell_type": "code",
      "metadata": {
        "colab": {
          "base_uri": "https://localhost:8080/"
        },
        "id": "bFxFXjFqcGUV",
        "outputId": "6366d6cd-ad47-4ac6-8b32-f06bb7dddbe2"
      },
      "source": [
        "# 시가총액을 TAM(전체시장규모)에 해당 기업의 시장점유율을 곱한 값으로 나눠 PDR을 산출한다\n",
        "# PDR = 시가총액 /(전체 시장규모 * 시장 점유율)\n",
        "\n",
        "\n",
        "# 아래 데이터를 참조하여 18/19년도에 대해서 Price to Dream Ratio (PDR)을 계산하세요.\n",
        "\n",
        "# 변수 이름은 df2, feature 이름은 PDR로, df2['PDR']을 통해 ~ 값이 확인 되어야합니다.\n",
        "# 구분\t종가\t발행주식수\t시가총액\t시장점유율\tPDR\n",
        "# 0\t18년\t101500\t137292497\t13935188445500\t62.0\t~\n",
        "# 1\t19년\t93800\t137292497\t12878036218600\t63.5\t~\n",
        "\n",
        "# 오늘 PDR을 계산 하기 위해서 몇 가지 전제 조건들이 필요한데요, 해당 내용을 공유해드립니다. 점유율은 (일반담배 기준) 18년:62%, 19년 63.5% 로 계산합니다. 시장의 규모는 18년 15조, 19년 15조 라고 가정합니다.\n",
        "\n",
        "\n",
        "data = [['18년', 101500, 137292497, 13935188445500, 62.0, 15000000000000],\n",
        "        ['19년', 93800, 137292497, 12878036218600, 63.5, 15000000000000]]\n",
        "df2 = pd.DataFrame(data, columns = ['구분', '종가', '발행주식수', '시가총액', '시장점유율', '전체시장규모'] ,index = ['0', '1'])\n",
        "df2['PDR'] = (df2['시가총액'] /(df2['전체시장규모']*(df2['시장점유율']/100))) * 100\n",
        "df2['PDR']"
      ],
      "execution_count": 326,
      "outputs": [
        {
          "output_type": "execute_result",
          "data": {
            "text/plain": [
              "0    149.840736\n",
              "1    135.202480\n",
              "Name: PDR, dtype: float64"
            ]
          },
          "metadata": {
            "tags": []
          },
          "execution_count": 326
        }
      ]
    },
    {
      "cell_type": "markdown",
      "metadata": {
        "id": "XBtwwrzAnKzk"
      },
      "source": [
        "## 2. String Manipulation\n",
        "\n",
        "- replace가 아닌 다른 방법을 사용하여 19년도 2분기의 매출액 을 integer로 변경하세요. 결과값은 12578이 나와야합니다.\n",
        "  \n"
      ]
    },
    {
      "cell_type": "code",
      "metadata": {
        "id": "9-sR5inqnM0L",
        "colab": {
          "base_uri": "https://localhost:8080/"
        },
        "outputId": "bd2b4525-51d2-449d-de46-b2913e360a1c"
      },
      "source": [
        "# split(), ''.join(), int()\n",
        "int(''.join(df['매출액'][0].split(',')))"
      ],
      "execution_count": 327,
      "outputs": [
        {
          "output_type": "execute_result",
          "data": {
            "text/plain": [
              "12578"
            ]
          },
          "metadata": {
            "tags": []
          },
          "execution_count": 327
        }
      ]
    },
    {
      "cell_type": "markdown",
      "metadata": {
        "id": "357MIyg6nNWj"
      },
      "source": [
        "## 3. Apply\n",
        "- 데이터셋의 분기를 제외한 모든 feature에 대해서 수치형 데이터 (`int`, `float`) 로 수정하고, `describe`를 통해 summary statistics 를 확인하세요.\n",
        "- 단 결측치는 `0`으로 처리합니다."
      ]
    },
    {
      "cell_type": "code",
      "metadata": {
        "id": "Sp93h2pvFs7P",
        "colab": {
          "base_uri": "https://localhost:8080/"
        },
        "outputId": "fb56b5c7-c4d8-49c6-a0f6-d62ef8d7bbf4"
      },
      "source": [
        "import numpy as np\n",
        "\n",
        "df = df.replace(np.nan, 0)\n",
        "\n",
        "def tofloat(string):\n",
        "  return float(string.replace(',',''))\n",
        "\n",
        "# df['매출액'] = df['매출액'].apply(tofloat)\n",
        "\n",
        "for i, j in zip(df[:], range(26)):\n",
        "  if j > 0:\n",
        "    if df[i].dtype == object:\n",
        "      df[i] = df[i].apply(tofloat)\n",
        "\n",
        "df.dtypes"
      ],
      "execution_count": 328,
      "outputs": [
        {
          "output_type": "execute_result",
          "data": {
            "text/plain": [
              "분기             object\n",
              "매출액           float64\n",
              "영업이익          float64\n",
              "영업이익(발표기준)    float64\n",
              "세전계속사업이익      float64\n",
              "당기순이익         float64\n",
              "당기순이익(지배)     float64\n",
              "당기순이익(비지배)      int64\n",
              "자산총계          float64\n",
              "부채총계          float64\n",
              "자본총계          float64\n",
              "자본총계(지배)      float64\n",
              "자본총계(비지배)     float64\n",
              "자본금           float64\n",
              "영업활동현금흐름      float64\n",
              "투자활동현금흐름      float64\n",
              "재무활동현금흐름      float64\n",
              "영업이익률         float64\n",
              "순이익률          float64\n",
              "ROE(%)        float64\n",
              "ROA(%)        float64\n",
              "부채비율          float64\n",
              "자본유보율         float64\n",
              "EPS(원)        float64\n",
              "PER(배)        float64\n",
              "영업이익률2        float64\n",
              "dtype: object"
            ]
          },
          "metadata": {
            "tags": []
          },
          "execution_count": 328
        }
      ]
    },
    {
      "cell_type": "markdown",
      "metadata": {
        "id": "en0Q_b5L4fxA"
      },
      "source": [
        "## Grading\n",
        "\n",
        "이전 과제를 완료했다면, 아래의 코드를 실행하세요. "
      ]
    },
    {
      "cell_type": "code",
      "metadata": {
        "id": "1k3zn-YV4fdg"
      },
      "source": [
        "def grade(df, df2):\n",
        "  score = 0\n",
        "  score += (df.shape == (5, 26)) # 1-1\n",
        "  score += ((round(df2['PDR'], 3) == [149.841, 135.202]).sum() == 2) # 1-2\n",
        "  score += ((round(df['영업이익률2'], 3) == [31.730, 28.929, 21.057, 26.731, 29.929]).sum() == 5) # 1-3\n",
        "  score += (df['매출액'][0] == 12578) # 2\n",
        "  score += ((df.dtypes == 'O').sum() == 1)\n",
        "  return(score)"
      ],
      "execution_count": 329,
      "outputs": []
    },
    {
      "cell_type": "code",
      "metadata": {
        "id": "nj_RslFn4lCM",
        "colab": {
          "base_uri": "https://localhost:8080/"
        },
        "outputId": "b4fd0b6e-8d2c-4661-9053-0227b2e6c397"
      },
      "source": [
        "grade(df, df2)"
      ],
      "execution_count": 330,
      "outputs": [
        {
          "output_type": "execute_result",
          "data": {
            "text/plain": [
              "5"
            ]
          },
          "metadata": {
            "tags": []
          },
          "execution_count": 330
        }
      ]
    },
    {
      "cell_type": "code",
      "metadata": {
        "colab": {
          "base_uri": "https://localhost:8080/"
        },
        "id": "efTKYh-fMfCS",
        "outputId": "37968471-87f9-49a4-b11c-31bca941cd26"
      },
      "source": [
        "round(df2['PDR'], 3)"
      ],
      "execution_count": 331,
      "outputs": [
        {
          "output_type": "execute_result",
          "data": {
            "text/plain": [
              "0    149.841\n",
              "1    135.202\n",
              "Name: PDR, dtype: float64"
            ]
          },
          "metadata": {
            "tags": []
          },
          "execution_count": 331
        }
      ]
    },
    {
      "cell_type": "code",
      "metadata": {
        "colab": {
          "base_uri": "https://localhost:8080/"
        },
        "id": "-iCfdhCV8OhJ",
        "outputId": "4403bccc-94bd-42f9-f0a7-510829de6570"
      },
      "source": [
        "round(1.498-1.352, 3)"
      ],
      "execution_count": 332,
      "outputs": [
        {
          "output_type": "execute_result",
          "data": {
            "text/plain": [
              "0.146"
            ]
          },
          "metadata": {
            "tags": []
          },
          "execution_count": 332
        }
      ]
    },
    {
      "cell_type": "code",
      "metadata": {
        "colab": {
          "base_uri": "https://localhost:8080/"
        },
        "id": "jIQsY1-wzlFE",
        "outputId": "93995459-8864-426f-fcd9-0d6b2cde624b"
      },
      "source": [
        "round(df['영업이익률2'], 3).min()"
      ],
      "execution_count": 333,
      "outputs": [
        {
          "output_type": "execute_result",
          "data": {
            "text/plain": [
              "21.057"
            ]
          },
          "metadata": {
            "tags": []
          },
          "execution_count": 333
        }
      ]
    },
    {
      "cell_type": "code",
      "metadata": {
        "id": "8Ue_O9sWB65j",
        "outputId": "104a2b90-035b-4bc1-b399-e70bf249dc16",
        "colab": {
          "base_uri": "https://localhost:8080/"
        }
      },
      "source": [
        "df['매출액'][0]"
      ],
      "execution_count": 334,
      "outputs": [
        {
          "output_type": "execute_result",
          "data": {
            "text/plain": [
              "12578.0"
            ]
          },
          "metadata": {
            "tags": []
          },
          "execution_count": 334
        }
      ]
    },
    {
      "cell_type": "code",
      "metadata": {
        "colab": {
          "base_uri": "https://localhost:8080/"
        },
        "id": "wecr-af5z7c-",
        "outputId": "c2dd67e3-b842-466b-dd1a-2b9da1b4b731"
      },
      "source": [
        "(df.dtypes == 'O').sum()"
      ],
      "execution_count": 335,
      "outputs": [
        {
          "output_type": "execute_result",
          "data": {
            "text/plain": [
              "1"
            ]
          },
          "metadata": {
            "tags": []
          },
          "execution_count": 335
        }
      ]
    },
    {
      "cell_type": "code",
      "metadata": {
        "colab": {
          "base_uri": "https://localhost:8080/"
        },
        "id": "zzdv-kLsMyRg",
        "outputId": "a120ada3-9bca-4c59-ff52-a97f320d013b"
      },
      "source": [
        "# round(float, 소숫점 자리수)\n",
        "(round(df2['PDR'], 3) == [149.841, 135.202]).sum()"
      ],
      "execution_count": 336,
      "outputs": [
        {
          "output_type": "execute_result",
          "data": {
            "text/plain": [
              "2"
            ]
          },
          "metadata": {
            "tags": []
          },
          "execution_count": 336
        }
      ]
    },
    {
      "cell_type": "markdown",
      "metadata": {
        "id": "L8k0LiHmo5EU"
      },
      "source": [
        "## 🔥 도전과제\n",
        "\n"
      ]
    },
    {
      "cell_type": "markdown",
      "metadata": {
        "id": "sm0x-1HEoss0"
      },
      "source": [
        "### NA Value Handling\n",
        "\n",
        "- 19년도 4분기의 당기순이익(비지배) 부분을 Na로 대체하세요\n",
        "- 이후 해당 결측치를 mean imputation 방법을 사용하여 처리하세요.\n",
        "\n"
      ]
    },
    {
      "cell_type": "code",
      "metadata": {
        "id": "B2GsUS0HosSD",
        "colab": {
          "base_uri": "https://localhost:8080/",
          "height": 309
        },
        "outputId": "21580af4-1a18-4066-98a3-5fa2e0ab2a5f"
      },
      "source": [
        "df.loc[2, '당기순이익(비지배)'] = 'Na'\n",
        "df.loc[2, '당기순이익(비지배)'] = None\n",
        "df.fillna(df.mean())"
      ],
      "execution_count": 337,
      "outputs": [
        {
          "output_type": "execute_result",
          "data": {
            "text/html": [
              "<div>\n",
              "<style scoped>\n",
              "    .dataframe tbody tr th:only-of-type {\n",
              "        vertical-align: middle;\n",
              "    }\n",
              "\n",
              "    .dataframe tbody tr th {\n",
              "        vertical-align: top;\n",
              "    }\n",
              "\n",
              "    .dataframe thead th {\n",
              "        text-align: right;\n",
              "    }\n",
              "</style>\n",
              "<table border=\"1\" class=\"dataframe\">\n",
              "  <thead>\n",
              "    <tr style=\"text-align: right;\">\n",
              "      <th></th>\n",
              "      <th>분기</th>\n",
              "      <th>매출액</th>\n",
              "      <th>영업이익</th>\n",
              "      <th>영업이익(발표기준)</th>\n",
              "      <th>세전계속사업이익</th>\n",
              "      <th>당기순이익</th>\n",
              "      <th>당기순이익(지배)</th>\n",
              "      <th>당기순이익(비지배)</th>\n",
              "      <th>자산총계</th>\n",
              "      <th>부채총계</th>\n",
              "      <th>자본총계</th>\n",
              "      <th>자본총계(지배)</th>\n",
              "      <th>자본총계(비지배)</th>\n",
              "      <th>자본금</th>\n",
              "      <th>영업활동현금흐름</th>\n",
              "      <th>투자활동현금흐름</th>\n",
              "      <th>재무활동현금흐름</th>\n",
              "      <th>영업이익률</th>\n",
              "      <th>순이익률</th>\n",
              "      <th>ROE(%)</th>\n",
              "      <th>ROA(%)</th>\n",
              "      <th>부채비율</th>\n",
              "      <th>자본유보율</th>\n",
              "      <th>EPS(원)</th>\n",
              "      <th>PER(배)</th>\n",
              "      <th>영업이익률2</th>\n",
              "    </tr>\n",
              "  </thead>\n",
              "  <tbody>\n",
              "    <tr>\n",
              "      <th>0</th>\n",
              "      <td>19/6</td>\n",
              "      <td>12578.0</td>\n",
              "      <td>3991.0</td>\n",
              "      <td>3991.0</td>\n",
              "      <td>4452.0</td>\n",
              "      <td>3245.0</td>\n",
              "      <td>3228.0</td>\n",
              "      <td>17.00</td>\n",
              "      <td>108464.0</td>\n",
              "      <td>25940.0</td>\n",
              "      <td>82524.0</td>\n",
              "      <td>81965.0</td>\n",
              "      <td>0.0</td>\n",
              "      <td>9550.0</td>\n",
              "      <td>4641.0</td>\n",
              "      <td>-1878.0</td>\n",
              "      <td>-4919.0</td>\n",
              "      <td>31.73</td>\n",
              "      <td>25.80</td>\n",
              "      <td>12.35</td>\n",
              "      <td>9.37</td>\n",
              "      <td>31.43</td>\n",
              "      <td>803.22</td>\n",
              "      <td>2351.0</td>\n",
              "      <td>13.77</td>\n",
              "      <td>31.730005</td>\n",
              "    </tr>\n",
              "    <tr>\n",
              "      <th>1</th>\n",
              "      <td>19/9</td>\n",
              "      <td>13222.0</td>\n",
              "      <td>3825.0</td>\n",
              "      <td>3825.0</td>\n",
              "      <td>4503.0</td>\n",
              "      <td>3221.0</td>\n",
              "      <td>3208.0</td>\n",
              "      <td>13.00</td>\n",
              "      <td>106314.0</td>\n",
              "      <td>20691.0</td>\n",
              "      <td>85623.0</td>\n",
              "      <td>85049.0</td>\n",
              "      <td>0.0</td>\n",
              "      <td>9550.0</td>\n",
              "      <td>-2278.0</td>\n",
              "      <td>-83.0</td>\n",
              "      <td>-329.0</td>\n",
              "      <td>28.93</td>\n",
              "      <td>24.36</td>\n",
              "      <td>12.67</td>\n",
              "      <td>9.95</td>\n",
              "      <td>24.17</td>\n",
              "      <td>836.86</td>\n",
              "      <td>2337.0</td>\n",
              "      <td>13.87</td>\n",
              "      <td>28.929058</td>\n",
              "    </tr>\n",
              "    <tr>\n",
              "      <th>2</th>\n",
              "      <td>19/12</td>\n",
              "      <td>11982.0</td>\n",
              "      <td>2523.0</td>\n",
              "      <td>2523.0</td>\n",
              "      <td>1794.0</td>\n",
              "      <td>1183.0</td>\n",
              "      <td>1198.0</td>\n",
              "      <td>10.75</td>\n",
              "      <td>107121.0</td>\n",
              "      <td>20062.0</td>\n",
              "      <td>87059.0</td>\n",
              "      <td>86506.0</td>\n",
              "      <td>0.0</td>\n",
              "      <td>9550.0</td>\n",
              "      <td>837.0</td>\n",
              "      <td>-501.0</td>\n",
              "      <td>-129.0</td>\n",
              "      <td>21.06</td>\n",
              "      <td>9.87</td>\n",
              "      <td>12.39</td>\n",
              "      <td>9.96</td>\n",
              "      <td>23.04</td>\n",
              "      <td>850.82</td>\n",
              "      <td>873.0</td>\n",
              "      <td>12.42</td>\n",
              "      <td>21.056585</td>\n",
              "    </tr>\n",
              "    <tr>\n",
              "      <th>3</th>\n",
              "      <td>20/3</td>\n",
              "      <td>11784.0</td>\n",
              "      <td>3150.0</td>\n",
              "      <td>3150.0</td>\n",
              "      <td>4156.0</td>\n",
              "      <td>2939.0</td>\n",
              "      <td>2930.0</td>\n",
              "      <td>9.00</td>\n",
              "      <td>108594.0</td>\n",
              "      <td>24862.0</td>\n",
              "      <td>83732.0</td>\n",
              "      <td>83170.0</td>\n",
              "      <td>562.0</td>\n",
              "      <td>9550.0</td>\n",
              "      <td>2336.0</td>\n",
              "      <td>-1392.0</td>\n",
              "      <td>-86.0</td>\n",
              "      <td>26.73</td>\n",
              "      <td>24.94</td>\n",
              "      <td>13.05</td>\n",
              "      <td>9.79</td>\n",
              "      <td>29.69</td>\n",
              "      <td>823.16</td>\n",
              "      <td>2134.0</td>\n",
              "      <td>9.71</td>\n",
              "      <td>26.731161</td>\n",
              "    </tr>\n",
              "    <tr>\n",
              "      <th>4</th>\n",
              "      <td>20/6</td>\n",
              "      <td>13188.0</td>\n",
              "      <td>3947.0</td>\n",
              "      <td>3947.0</td>\n",
              "      <td>4020.0</td>\n",
              "      <td>2935.0</td>\n",
              "      <td>2931.0</td>\n",
              "      <td>4.00</td>\n",
              "      <td>110282.0</td>\n",
              "      <td>23386.0</td>\n",
              "      <td>86896.0</td>\n",
              "      <td>86330.0</td>\n",
              "      <td>566.0</td>\n",
              "      <td>9550.0</td>\n",
              "      <td>7855.0</td>\n",
              "      <td>-214.0</td>\n",
              "      <td>-5501.0</td>\n",
              "      <td>29.93</td>\n",
              "      <td>22.25</td>\n",
              "      <td>12.20</td>\n",
              "      <td>9.40</td>\n",
              "      <td>26.91</td>\n",
              "      <td>837.40</td>\n",
              "      <td>2135.0</td>\n",
              "      <td>10.46</td>\n",
              "      <td>29.928723</td>\n",
              "    </tr>\n",
              "  </tbody>\n",
              "</table>\n",
              "</div>"
            ],
            "text/plain": [
              "      분기      매출액    영업이익  영업이익(발표기준)  ...   자본유보율  EPS(원)  PER(배)     영업이익률2\n",
              "0   19/6  12578.0  3991.0      3991.0  ...  803.22  2351.0   13.77  31.730005\n",
              "1   19/9  13222.0  3825.0      3825.0  ...  836.86  2337.0   13.87  28.929058\n",
              "2  19/12  11982.0  2523.0      2523.0  ...  850.82   873.0   12.42  21.056585\n",
              "3   20/3  11784.0  3150.0      3150.0  ...  823.16  2134.0    9.71  26.731161\n",
              "4   20/6  13188.0  3947.0      3947.0  ...  837.40  2135.0   10.46  29.928723\n",
              "\n",
              "[5 rows x 26 columns]"
            ]
          },
          "metadata": {
            "tags": []
          },
          "execution_count": 337
        }
      ]
    },
    {
      "cell_type": "markdown",
      "metadata": {
        "id": "x8gq5wkdotTj"
      },
      "source": [
        "### Feature Engineering\n",
        "\n",
        "Relative Perfomance 라는 새로운 feature를 계산하세요.\n",
        "\n",
        "이는 최근 1년치 매출액의 평균값을 기준으로 \n",
        "\n",
        "- 10% 이상 -> `S`\n",
        "- 5% 이상 -> `A`\n",
        "- -5 ~ 5% -> `B`\n",
        "- -5%이하 -> `C`\n",
        "- 10%이하 -> `D`\n",
        "\n",
        "라는 값을 갖는 feature입니다.\n",
        "\n",
        "20년도 2분기에 해당하는 결과값은 `A`가 나와야합니다.\n",
        "\n",
        "각각에 해당하는 등급이 나오기 위해서 필요한 매출액을 추가로 서술하세요."
      ]
    },
    {
      "cell_type": "code",
      "metadata": {
        "id": "JqoaRyQjpaRm",
        "colab": {
          "base_uri": "https://localhost:8080/",
          "height": 309
        },
        "outputId": "5d410527-82bc-46a6-d7d0-4dbf7bd29a6c"
      },
      "source": [
        "import numpy as np\n",
        "\n",
        "RP = ( df['매출액'] / df['매출액'].mean() - 1 ) * 100\n",
        "\n",
        "df['Relative Perfomance'] = ( df['매출액'] / df['매출액'].mean() - 1 ) * 100\n",
        "\n",
        "df['Relative Perfomance'][RP<-10] = 'D' \n",
        "df['Relative Perfomance'][(RP>-10) & (RP<-5)]= 'C'\n",
        "df['Relative Perfomance'][(RP>-5) & (RP<5)]= 'B'\n",
        "df['Relative Perfomance'][(RP>5) & (RP<10)]= 'A'\n",
        "df['Relative Perfomance'][RP>10]= 'S' \n",
        "df"
      ],
      "execution_count": 338,
      "outputs": [
        {
          "output_type": "execute_result",
          "data": {
            "text/html": [
              "<div>\n",
              "<style scoped>\n",
              "    .dataframe tbody tr th:only-of-type {\n",
              "        vertical-align: middle;\n",
              "    }\n",
              "\n",
              "    .dataframe tbody tr th {\n",
              "        vertical-align: top;\n",
              "    }\n",
              "\n",
              "    .dataframe thead th {\n",
              "        text-align: right;\n",
              "    }\n",
              "</style>\n",
              "<table border=\"1\" class=\"dataframe\">\n",
              "  <thead>\n",
              "    <tr style=\"text-align: right;\">\n",
              "      <th></th>\n",
              "      <th>분기</th>\n",
              "      <th>매출액</th>\n",
              "      <th>영업이익</th>\n",
              "      <th>영업이익(발표기준)</th>\n",
              "      <th>세전계속사업이익</th>\n",
              "      <th>당기순이익</th>\n",
              "      <th>당기순이익(지배)</th>\n",
              "      <th>당기순이익(비지배)</th>\n",
              "      <th>자산총계</th>\n",
              "      <th>부채총계</th>\n",
              "      <th>자본총계</th>\n",
              "      <th>자본총계(지배)</th>\n",
              "      <th>자본총계(비지배)</th>\n",
              "      <th>자본금</th>\n",
              "      <th>영업활동현금흐름</th>\n",
              "      <th>투자활동현금흐름</th>\n",
              "      <th>재무활동현금흐름</th>\n",
              "      <th>영업이익률</th>\n",
              "      <th>순이익률</th>\n",
              "      <th>ROE(%)</th>\n",
              "      <th>ROA(%)</th>\n",
              "      <th>부채비율</th>\n",
              "      <th>자본유보율</th>\n",
              "      <th>EPS(원)</th>\n",
              "      <th>PER(배)</th>\n",
              "      <th>영업이익률2</th>\n",
              "      <th>Relative Perfomance</th>\n",
              "    </tr>\n",
              "  </thead>\n",
              "  <tbody>\n",
              "    <tr>\n",
              "      <th>0</th>\n",
              "      <td>19/6</td>\n",
              "      <td>12578.0</td>\n",
              "      <td>3991.0</td>\n",
              "      <td>3991.0</td>\n",
              "      <td>4452.0</td>\n",
              "      <td>3245.0</td>\n",
              "      <td>3228.0</td>\n",
              "      <td>17</td>\n",
              "      <td>108464.0</td>\n",
              "      <td>25940.0</td>\n",
              "      <td>82524.0</td>\n",
              "      <td>81965.0</td>\n",
              "      <td>0.0</td>\n",
              "      <td>9550.0</td>\n",
              "      <td>4641.0</td>\n",
              "      <td>-1878.0</td>\n",
              "      <td>-4919.0</td>\n",
              "      <td>31.73</td>\n",
              "      <td>25.80</td>\n",
              "      <td>12.35</td>\n",
              "      <td>9.37</td>\n",
              "      <td>31.43</td>\n",
              "      <td>803.22</td>\n",
              "      <td>2351.0</td>\n",
              "      <td>13.77</td>\n",
              "      <td>31.730005</td>\n",
              "      <td>B</td>\n",
              "    </tr>\n",
              "    <tr>\n",
              "      <th>1</th>\n",
              "      <td>19/9</td>\n",
              "      <td>13222.0</td>\n",
              "      <td>3825.0</td>\n",
              "      <td>3825.0</td>\n",
              "      <td>4503.0</td>\n",
              "      <td>3221.0</td>\n",
              "      <td>3208.0</td>\n",
              "      <td>13</td>\n",
              "      <td>106314.0</td>\n",
              "      <td>20691.0</td>\n",
              "      <td>85623.0</td>\n",
              "      <td>85049.0</td>\n",
              "      <td>0.0</td>\n",
              "      <td>9550.0</td>\n",
              "      <td>-2278.0</td>\n",
              "      <td>-83.0</td>\n",
              "      <td>-329.0</td>\n",
              "      <td>28.93</td>\n",
              "      <td>24.36</td>\n",
              "      <td>12.67</td>\n",
              "      <td>9.95</td>\n",
              "      <td>24.17</td>\n",
              "      <td>836.86</td>\n",
              "      <td>2337.0</td>\n",
              "      <td>13.87</td>\n",
              "      <td>28.929058</td>\n",
              "      <td>A</td>\n",
              "    </tr>\n",
              "    <tr>\n",
              "      <th>2</th>\n",
              "      <td>19/12</td>\n",
              "      <td>11982.0</td>\n",
              "      <td>2523.0</td>\n",
              "      <td>2523.0</td>\n",
              "      <td>1794.0</td>\n",
              "      <td>1183.0</td>\n",
              "      <td>1198.0</td>\n",
              "      <td>None</td>\n",
              "      <td>107121.0</td>\n",
              "      <td>20062.0</td>\n",
              "      <td>87059.0</td>\n",
              "      <td>86506.0</td>\n",
              "      <td>0.0</td>\n",
              "      <td>9550.0</td>\n",
              "      <td>837.0</td>\n",
              "      <td>-501.0</td>\n",
              "      <td>-129.0</td>\n",
              "      <td>21.06</td>\n",
              "      <td>9.87</td>\n",
              "      <td>12.39</td>\n",
              "      <td>9.96</td>\n",
              "      <td>23.04</td>\n",
              "      <td>850.82</td>\n",
              "      <td>873.0</td>\n",
              "      <td>12.42</td>\n",
              "      <td>21.056585</td>\n",
              "      <td>B</td>\n",
              "    </tr>\n",
              "    <tr>\n",
              "      <th>3</th>\n",
              "      <td>20/3</td>\n",
              "      <td>11784.0</td>\n",
              "      <td>3150.0</td>\n",
              "      <td>3150.0</td>\n",
              "      <td>4156.0</td>\n",
              "      <td>2939.0</td>\n",
              "      <td>2930.0</td>\n",
              "      <td>9</td>\n",
              "      <td>108594.0</td>\n",
              "      <td>24862.0</td>\n",
              "      <td>83732.0</td>\n",
              "      <td>83170.0</td>\n",
              "      <td>562.0</td>\n",
              "      <td>9550.0</td>\n",
              "      <td>2336.0</td>\n",
              "      <td>-1392.0</td>\n",
              "      <td>-86.0</td>\n",
              "      <td>26.73</td>\n",
              "      <td>24.94</td>\n",
              "      <td>13.05</td>\n",
              "      <td>9.79</td>\n",
              "      <td>29.69</td>\n",
              "      <td>823.16</td>\n",
              "      <td>2134.0</td>\n",
              "      <td>9.71</td>\n",
              "      <td>26.731161</td>\n",
              "      <td>C</td>\n",
              "    </tr>\n",
              "    <tr>\n",
              "      <th>4</th>\n",
              "      <td>20/6</td>\n",
              "      <td>13188.0</td>\n",
              "      <td>3947.0</td>\n",
              "      <td>3947.0</td>\n",
              "      <td>4020.0</td>\n",
              "      <td>2935.0</td>\n",
              "      <td>2931.0</td>\n",
              "      <td>4</td>\n",
              "      <td>110282.0</td>\n",
              "      <td>23386.0</td>\n",
              "      <td>86896.0</td>\n",
              "      <td>86330.0</td>\n",
              "      <td>566.0</td>\n",
              "      <td>9550.0</td>\n",
              "      <td>7855.0</td>\n",
              "      <td>-214.0</td>\n",
              "      <td>-5501.0</td>\n",
              "      <td>29.93</td>\n",
              "      <td>22.25</td>\n",
              "      <td>12.20</td>\n",
              "      <td>9.40</td>\n",
              "      <td>26.91</td>\n",
              "      <td>837.40</td>\n",
              "      <td>2135.0</td>\n",
              "      <td>10.46</td>\n",
              "      <td>29.928723</td>\n",
              "      <td>A</td>\n",
              "    </tr>\n",
              "  </tbody>\n",
              "</table>\n",
              "</div>"
            ],
            "text/plain": [
              "      분기      매출액    영업이익  ...  PER(배)     영업이익률2  Relative Perfomance\n",
              "0   19/6  12578.0  3991.0  ...   13.77  31.730005                    B\n",
              "1   19/9  13222.0  3825.0  ...   13.87  28.929058                    A\n",
              "2  19/12  11982.0  2523.0  ...   12.42  21.056585                    B\n",
              "3   20/3  11784.0  3150.0  ...    9.71  26.731161                    C\n",
              "4   20/6  13188.0  3947.0  ...   10.46  29.928723                    A\n",
              "\n",
              "[5 rows x 27 columns]"
            ]
          },
          "metadata": {
            "tags": []
          },
          "execution_count": 338
        }
      ]
    },
    {
      "cell_type": "code",
      "metadata": {
        "colab": {
          "base_uri": "https://localhost:8080/"
        },
        "id": "aVIRLjMq4Rrl",
        "outputId": "0d426071-c109-4feb-dcbd-3d378d74514c"
      },
      "source": [
        "RP"
      ],
      "execution_count": 339,
      "outputs": [
        {
          "output_type": "execute_result",
          "data": {
            "text/plain": [
              "0    0.216719\n",
              "1    5.347866\n",
              "2   -4.531982\n",
              "3   -6.109571\n",
              "4    5.076967\n",
              "Name: 매출액, dtype: float64"
            ]
          },
          "metadata": {
            "tags": []
          },
          "execution_count": 339
        }
      ]
    },
    {
      "cell_type": "code",
      "metadata": {
        "colab": {
          "base_uri": "https://localhost:8080/"
        },
        "id": "NPVwxcXI4W0N",
        "outputId": "1c4fa99d-6666-4e71-adad-e1dfb0741e06"
      },
      "source": [
        "# S 매출액 > (10 / 100 + 1)*(매출액 평균)\n",
        "# (10 / 100 + 1)*(매출액 평균) > A 매출액 > (5 / 100 + 1)*(매출액 평균)\n",
        "# (5 / 100 + 1)*(매출액 평균) > B 매출액 > (-5 / 100 + 1)*(매출액 평균)\n",
        "# (-5 / 100 + 1)*(매출액 평균) > C 매출액 > (-10 / 100 + 1)*(매출액 평균)\n",
        "# D 매출액 < (-10 / 100 + 1)*(매출액 평균)\n",
        "\n",
        "print( 'S_매출액 >',  round((10 / 100 + 1)*df['매출액'].mean(), 2))\n",
        "print(round((5 / 100 + 1)*df['매출액'].mean(), 2), '< A_매출액 <',  round((10 / 100 + 1)*df['매출액'].mean(), 2))\n",
        "print(round((-5 / 100 + 1)*df['매출액'].mean(), 2), '< B_매출액 <',  round((5 / 100 + 1)*df['매출액'].mean(), 2))\n",
        "print(round((-10 / 100 + 1)*df['매출액'].mean(), 2), '< C_매출액 <',  round((-5 / 100 + 1)*df['매출액'].mean(), 2))\n",
        "print( 'D_매출액 <',  round((-10 / 100 + 1)*df['매출액'].mean(), 2))"
      ],
      "execution_count": 340,
      "outputs": [
        {
          "output_type": "stream",
          "text": [
            "S_매출액 > 13805.88\n",
            "13178.34 < A_매출액 < 13805.88\n",
            "11923.26 < B_매출액 < 13178.34\n",
            "11295.72 < C_매출액 < 11923.26\n",
            "D_매출액 < 11295.72\n"
          ],
          "name": "stdout"
        }
      ]
    },
    {
      "cell_type": "code",
      "metadata": {
        "id": "6cuO1cSc-F2o"
      },
      "source": [
        ""
      ],
      "execution_count": 340,
      "outputs": []
    }
  ]
}