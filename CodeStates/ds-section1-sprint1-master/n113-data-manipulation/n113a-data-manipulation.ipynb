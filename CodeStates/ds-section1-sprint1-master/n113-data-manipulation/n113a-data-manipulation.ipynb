{
  "nbformat": 4,
  "nbformat_minor": 0,
  "metadata": {
    "colab": {
      "name": "n113a_data-manipulation.ipynb",
      "provenance": [],
      "collapsed_sections": [],
      "toc_visible": true
    },
    "kernelspec": {
      "display_name": "Python 3",
      "language": "python",
      "name": "python3"
    },
    "language_info": {
      "codemirror_mode": {
        "name": "ipython",
        "version": 3
      },
      "file_extension": ".py",
      "mimetype": "text/x-python",
      "name": "python",
      "nbconvert_exporter": "python",
      "pygments_lexer": "ipython3",
      "version": "3.8.5"
    }
  },
  "cells": [
    {
      "cell_type": "markdown",
      "metadata": {
        "id": "pmU5YUal1eTZ"
      },
      "source": [
        "<img src='https://user-images.githubusercontent.com/6457691/89746244-a6e2a200-daf3-11ea-9314-7863d544d73c.png' width = '200' align = 'right'>\n",
        "\n",
        "## *DATA SCIENCE / SECTION 1 / SPRINT 1 / NOTE 3*\n",
        "\n",
        "# 📝 Assignment\n",
        "\n",
        "---\n",
        "\n",
        "## 1. Concat \n",
        "\n",
        "세션시간에 다뤘던 6개의 데이터를 1개로 합치세요.\n",
        "\n",
        "데이터를 불러오기 위하여 아래의 코드를 참조하세요.\n",
        "\n",
        "합쳐진 데이터의 이름은 `df`입니다.\n",
        "\n",
        "```python\n",
        "import pandas as pd\n",
        "\n",
        "urlhead = 'https://ds-lecture-data.s3.ap-northeast-2.amazonaws.com/stocks/'\n",
        "df1 = pd.read_csv(urlhead + '000080.csv') \n",
        "# '000890.csv'\n",
        "# '005300.csv'\n",
        "# '027740.csv'\n",
        "# '035810.csv'\n",
        "# '136480.csv'\n",
        "```\n",
        "\n",
        "\n",
        "\n",
        "단, 모든 feature, 모든 데이터에 대해서가 아닌\n",
        "\n",
        "- 매출액\n",
        "- 자본총계\n",
        "- EPS\n",
        "\n",
        "- 제일 최근 분기의 데이터\n",
        "\n",
        "에 대해서만 하면 됩니다.\n",
        "\n",
        "||매출액|자본총계|EPS(원)|종목명|\n",
        "|:-:|:-:|:-:|:-:|:-:|\n",
        "|2020/09|6,243|10,897|453|하이트진로|\n",
        "|...|...|...|...|...|\n",
        "|2020/09|2,613|2,695|62|하림|\n",
        "\n",
        "(첫부분은 값이 달라도 되며, 결과 shape는 6,4입니다.)\n",
        "\n",
        "힌트 : \n",
        "- 데이터를 transpose\n",
        "- column의 이름을 변경 및 설정\n",
        "- 데이터의 일부 feature 선택\n",
        "- `종목명`이라는 feature 지정\n",
        "- 이후 `concat`으로 합치기\n",
        "- 합친 이후의 index를 종목명으로 설정 및 drop\n",
        "\n",
        "이라는 단계를 거치면 될겁니다."
      ]
    },
    {
      "cell_type": "code",
      "metadata": {
        "id": "hwBYT8GWxMXU",
        "colab": {
          "base_uri": "https://localhost:8080/",
          "height": 439
        },
        "outputId": "683e7e32-1356-44d7-88e6-0a249da547b3"
      },
      "source": [
        "import pandas as pd\n",
        "\n",
        "urlhead = 'https://ds-lecture-data.s3.ap-northeast-2.amazonaws.com/stocks/'\n",
        "file_list = [ '000080.csv', '000890.csv', '005300.csv', '027740.csv', '035810.csv', '136480.csv' ]\n",
        "def df(file_list):\n",
        "  for i in file_list:\n",
        "    if i == file_list[0]:\n",
        "      df = pd.read_csv(urlhead + i, index_col=0).T.iloc[[-1],:]\n",
        "    else:\n",
        "      df_tmp = pd.read_csv(urlhead + i, index_col=0).T.iloc[[-1],:]\n",
        "      df = pd.concat([df, df_tmp])\n",
        "  return df\n",
        "\n",
        "df = df(file_list)\n",
        "# 데이터를 transpos\n",
        "df"
      ],
      "execution_count": 110,
      "outputs": [
        {
          "output_type": "execute_result",
          "data": {
            "text/html": [
              "<div>\n",
              "<style scoped>\n",
              "    .dataframe tbody tr th:only-of-type {\n",
              "        vertical-align: middle;\n",
              "    }\n",
              "\n",
              "    .dataframe tbody tr th {\n",
              "        vertical-align: top;\n",
              "    }\n",
              "\n",
              "    .dataframe thead th {\n",
              "        text-align: right;\n",
              "    }\n",
              "</style>\n",
              "<table border=\"1\" class=\"dataframe\">\n",
              "  <thead>\n",
              "    <tr style=\"text-align: right;\">\n",
              "      <th></th>\n",
              "      <th>매출액</th>\n",
              "      <th>영업이익</th>\n",
              "      <th>영업이익(발표기준)</th>\n",
              "      <th>세전계속사업이익</th>\n",
              "      <th>당기순이익</th>\n",
              "      <th>당기순이익(지배)</th>\n",
              "      <th>당기순이익(비지배)</th>\n",
              "      <th>자산총계</th>\n",
              "      <th>부채총계</th>\n",
              "      <th>자본총계</th>\n",
              "      <th>자본총계(지배)</th>\n",
              "      <th>자본총계(비지배)</th>\n",
              "      <th>자본금</th>\n",
              "      <th>영업활동현금흐름</th>\n",
              "      <th>투자활동현금흐름</th>\n",
              "      <th>재무활동현금흐름</th>\n",
              "      <th>CAPEX</th>\n",
              "      <th>FCF</th>\n",
              "      <th>이자발생부채</th>\n",
              "      <th>영업이익률</th>\n",
              "      <th>순이익률</th>\n",
              "      <th>ROE(%)</th>\n",
              "      <th>ROA(%)</th>\n",
              "      <th>부채비율</th>\n",
              "      <th>자본유보율</th>\n",
              "      <th>EPS(원)</th>\n",
              "      <th>PER(배)</th>\n",
              "      <th>BPS(원)</th>\n",
              "      <th>PBR(배)</th>\n",
              "      <th>현금DPS(원)</th>\n",
              "      <th>현금배당수익률</th>\n",
              "      <th>현금배당성향(%)</th>\n",
              "      <th>발행주식수(보통주)</th>\n",
              "    </tr>\n",
              "  </thead>\n",
              "  <tbody>\n",
              "    <tr>\n",
              "      <th>2020/09\\n(IFRS연결)</th>\n",
              "      <td>6,243</td>\n",
              "      <td>644</td>\n",
              "      <td>644</td>\n",
              "      <td>465</td>\n",
              "      <td>322</td>\n",
              "      <td>323</td>\n",
              "      <td>0</td>\n",
              "      <td>39,617</td>\n",
              "      <td>28,720</td>\n",
              "      <td>10,897</td>\n",
              "      <td>10,893</td>\n",
              "      <td>5</td>\n",
              "      <td>3,688</td>\n",
              "      <td>-3,009</td>\n",
              "      <td>-410</td>\n",
              "      <td>-594</td>\n",
              "      <td>382</td>\n",
              "      <td>-3,391</td>\n",
              "      <td>15,995</td>\n",
              "      <td>10.31</td>\n",
              "      <td>5.17</td>\n",
              "      <td>6.89</td>\n",
              "      <td>2.04</td>\n",
              "      <td>263.55</td>\n",
              "      <td>216.77</td>\n",
              "      <td>453</td>\n",
              "      <td>34.26</td>\n",
              "      <td>15,609</td>\n",
              "      <td>2.32</td>\n",
              "      <td>NaN</td>\n",
              "      <td>NaN</td>\n",
              "      <td>NaN</td>\n",
              "      <td>70,133,611</td>\n",
              "    </tr>\n",
              "    <tr>\n",
              "      <th>2020/09\\n(IFRS연결)</th>\n",
              "      <td>205</td>\n",
              "      <td>6</td>\n",
              "      <td>6</td>\n",
              "      <td>5</td>\n",
              "      <td>4</td>\n",
              "      <td>4</td>\n",
              "      <td>NaN</td>\n",
              "      <td>1,555</td>\n",
              "      <td>739</td>\n",
              "      <td>816</td>\n",
              "      <td>816</td>\n",
              "      <td>NaN</td>\n",
              "      <td>637</td>\n",
              "      <td>-42</td>\n",
              "      <td>-10</td>\n",
              "      <td>-34</td>\n",
              "      <td>18</td>\n",
              "      <td>-60</td>\n",
              "      <td>465</td>\n",
              "      <td>2.92</td>\n",
              "      <td>2.15</td>\n",
              "      <td>-17.61</td>\n",
              "      <td>-8.99</td>\n",
              "      <td>90.59</td>\n",
              "      <td>27.50</td>\n",
              "      <td>3</td>\n",
              "      <td>NaN</td>\n",
              "      <td>640</td>\n",
              "      <td>1.41</td>\n",
              "      <td>NaN</td>\n",
              "      <td>NaN</td>\n",
              "      <td>NaN</td>\n",
              "      <td>127,449,373</td>\n",
              "    </tr>\n",
              "    <tr>\n",
              "      <th>2020/09\\n(IFRS연결)</th>\n",
              "      <td>5,980</td>\n",
              "      <td>293</td>\n",
              "      <td>293</td>\n",
              "      <td>194</td>\n",
              "      <td>155</td>\n",
              "      <td>147</td>\n",
              "      <td>7</td>\n",
              "      <td>34,066</td>\n",
              "      <td>21,970</td>\n",
              "      <td>12,096</td>\n",
              "      <td>11,942</td>\n",
              "      <td>154</td>\n",
              "      <td>44</td>\n",
              "      <td>1,284</td>\n",
              "      <td>-958</td>\n",
              "      <td>1,009</td>\n",
              "      <td>315</td>\n",
              "      <td>969</td>\n",
              "      <td>15,489</td>\n",
              "      <td>4.90</td>\n",
              "      <td>2.59</td>\n",
              "      <td>-7.07</td>\n",
              "      <td>-2.50</td>\n",
              "      <td>181.63</td>\n",
              "      <td>43,300.25</td>\n",
              "      <td>1,682</td>\n",
              "      <td>NaN</td>\n",
              "      <td>145,448</td>\n",
              "      <td>0.70</td>\n",
              "      <td>0</td>\n",
              "      <td>NaN</td>\n",
              "      <td>0.00</td>\n",
              "      <td>7,993,460</td>\n",
              "    </tr>\n",
              "    <tr>\n",
              "      <th>2020/09\\n(IFRS연결)</th>\n",
              "      <td>521</td>\n",
              "      <td>-89</td>\n",
              "      <td>-89</td>\n",
              "      <td>-104</td>\n",
              "      <td>-104</td>\n",
              "      <td>-104</td>\n",
              "      <td>0</td>\n",
              "      <td>1,897</td>\n",
              "      <td>1,273</td>\n",
              "      <td>624</td>\n",
              "      <td>622</td>\n",
              "      <td>2</td>\n",
              "      <td>792</td>\n",
              "      <td>39</td>\n",
              "      <td>39</td>\n",
              "      <td>-85</td>\n",
              "      <td>3</td>\n",
              "      <td>36</td>\n",
              "      <td>839</td>\n",
              "      <td>-17.17</td>\n",
              "      <td>-19.95</td>\n",
              "      <td>-50.65</td>\n",
              "      <td>-21.41</td>\n",
              "      <td>204.06</td>\n",
              "      <td>-33.01</td>\n",
              "      <td>-61</td>\n",
              "      <td>NaN</td>\n",
              "      <td>368</td>\n",
              "      <td>2.37</td>\n",
              "      <td>0</td>\n",
              "      <td>NaN</td>\n",
              "      <td>0.00</td>\n",
              "      <td>168,807,631</td>\n",
              "    </tr>\n",
              "    <tr>\n",
              "      <th>2020/06\\n(IFRS연결)</th>\n",
              "      <td>4,108</td>\n",
              "      <td>246</td>\n",
              "      <td>246</td>\n",
              "      <td>816</td>\n",
              "      <td>657</td>\n",
              "      <td>659</td>\n",
              "      <td>-1</td>\n",
              "      <td>18,966</td>\n",
              "      <td>11,432</td>\n",
              "      <td>7,534</td>\n",
              "      <td>4,351</td>\n",
              "      <td>3,183</td>\n",
              "      <td>282</td>\n",
              "      <td>-33</td>\n",
              "      <td>-103</td>\n",
              "      <td>1,051</td>\n",
              "      <td>82</td>\n",
              "      <td>-115</td>\n",
              "      <td>8,639</td>\n",
              "      <td>5.98</td>\n",
              "      <td>16.00</td>\n",
              "      <td>17.65</td>\n",
              "      <td>2.18</td>\n",
              "      <td>151.74</td>\n",
              "      <td>1,538.72</td>\n",
              "      <td>1,168</td>\n",
              "      <td>3.98</td>\n",
              "      <td>7,821</td>\n",
              "      <td>0.64</td>\n",
              "      <td>NaN</td>\n",
              "      <td>NaN</td>\n",
              "      <td>0.00</td>\n",
              "      <td>55,640,623</td>\n",
              "    </tr>\n",
              "    <tr>\n",
              "      <th>2020/09\\n(IFRS연결)</th>\n",
              "      <td>2,613</td>\n",
              "      <td>1</td>\n",
              "      <td>1</td>\n",
              "      <td>17</td>\n",
              "      <td>66</td>\n",
              "      <td>66</td>\n",
              "      <td>0</td>\n",
              "      <td>8,550</td>\n",
              "      <td>5,855</td>\n",
              "      <td>2,695</td>\n",
              "      <td>2,689</td>\n",
              "      <td>6</td>\n",
              "      <td>531</td>\n",
              "      <td>150</td>\n",
              "      <td>-233</td>\n",
              "      <td>-257</td>\n",
              "      <td>127</td>\n",
              "      <td>23</td>\n",
              "      <td>5,016</td>\n",
              "      <td>0.06</td>\n",
              "      <td>2.51</td>\n",
              "      <td>0.69</td>\n",
              "      <td>0.20</td>\n",
              "      <td>217.22</td>\n",
              "      <td>473.10</td>\n",
              "      <td>62</td>\n",
              "      <td>141.13</td>\n",
              "      <td>2,532</td>\n",
              "      <td>1.01</td>\n",
              "      <td>NaN</td>\n",
              "      <td>NaN</td>\n",
              "      <td>NaN</td>\n",
              "      <td>106,209,702</td>\n",
              "    </tr>\n",
              "  </tbody>\n",
              "</table>\n",
              "</div>"
            ],
            "text/plain": [
              "                     매출액 영업이익 영업이익(발표기준)  ... 현금배당수익률 현금배당성향(%)   발행주식수(보통주)\n",
              "2020/09\\n(IFRS연결)  6,243  644        644  ...     NaN       NaN   70,133,611\n",
              "2020/09\\n(IFRS연결)    205    6          6  ...     NaN       NaN  127,449,373\n",
              "2020/09\\n(IFRS연결)  5,980  293        293  ...     NaN      0.00    7,993,460\n",
              "2020/09\\n(IFRS연결)    521  -89        -89  ...     NaN      0.00  168,807,631\n",
              "2020/06\\n(IFRS연결)  4,108  246        246  ...     NaN      0.00   55,640,623\n",
              "2020/09\\n(IFRS연결)  2,613    1          1  ...     NaN       NaN  106,209,702\n",
              "\n",
              "[6 rows x 33 columns]"
            ]
          },
          "metadata": {
            "tags": []
          },
          "execution_count": 110
        }
      ]
    },
    {
      "cell_type": "code",
      "metadata": {
        "colab": {
          "base_uri": "https://localhost:8080/",
          "height": 337
        },
        "id": "R8P5p0wKt-4j",
        "outputId": "0956ebf3-a458-43fa-8ee9-cb89425a8012"
      },
      "source": [
        "df = df.reset_index()\n",
        "df = df.drop(df.columns[0], axis=1)\n",
        "# column의 이름을 변경 및 설정\n",
        "df"
      ],
      "execution_count": 111,
      "outputs": [
        {
          "output_type": "execute_result",
          "data": {
            "text/html": [
              "<div>\n",
              "<style scoped>\n",
              "    .dataframe tbody tr th:only-of-type {\n",
              "        vertical-align: middle;\n",
              "    }\n",
              "\n",
              "    .dataframe tbody tr th {\n",
              "        vertical-align: top;\n",
              "    }\n",
              "\n",
              "    .dataframe thead th {\n",
              "        text-align: right;\n",
              "    }\n",
              "</style>\n",
              "<table border=\"1\" class=\"dataframe\">\n",
              "  <thead>\n",
              "    <tr style=\"text-align: right;\">\n",
              "      <th></th>\n",
              "      <th>매출액</th>\n",
              "      <th>영업이익</th>\n",
              "      <th>영업이익(발표기준)</th>\n",
              "      <th>세전계속사업이익</th>\n",
              "      <th>당기순이익</th>\n",
              "      <th>당기순이익(지배)</th>\n",
              "      <th>당기순이익(비지배)</th>\n",
              "      <th>자산총계</th>\n",
              "      <th>부채총계</th>\n",
              "      <th>자본총계</th>\n",
              "      <th>자본총계(지배)</th>\n",
              "      <th>자본총계(비지배)</th>\n",
              "      <th>자본금</th>\n",
              "      <th>영업활동현금흐름</th>\n",
              "      <th>투자활동현금흐름</th>\n",
              "      <th>재무활동현금흐름</th>\n",
              "      <th>CAPEX</th>\n",
              "      <th>FCF</th>\n",
              "      <th>이자발생부채</th>\n",
              "      <th>영업이익률</th>\n",
              "      <th>순이익률</th>\n",
              "      <th>ROE(%)</th>\n",
              "      <th>ROA(%)</th>\n",
              "      <th>부채비율</th>\n",
              "      <th>자본유보율</th>\n",
              "      <th>EPS(원)</th>\n",
              "      <th>PER(배)</th>\n",
              "      <th>BPS(원)</th>\n",
              "      <th>PBR(배)</th>\n",
              "      <th>현금DPS(원)</th>\n",
              "      <th>현금배당수익률</th>\n",
              "      <th>현금배당성향(%)</th>\n",
              "      <th>발행주식수(보통주)</th>\n",
              "    </tr>\n",
              "  </thead>\n",
              "  <tbody>\n",
              "    <tr>\n",
              "      <th>0</th>\n",
              "      <td>6,243</td>\n",
              "      <td>644</td>\n",
              "      <td>644</td>\n",
              "      <td>465</td>\n",
              "      <td>322</td>\n",
              "      <td>323</td>\n",
              "      <td>0</td>\n",
              "      <td>39,617</td>\n",
              "      <td>28,720</td>\n",
              "      <td>10,897</td>\n",
              "      <td>10,893</td>\n",
              "      <td>5</td>\n",
              "      <td>3,688</td>\n",
              "      <td>-3,009</td>\n",
              "      <td>-410</td>\n",
              "      <td>-594</td>\n",
              "      <td>382</td>\n",
              "      <td>-3,391</td>\n",
              "      <td>15,995</td>\n",
              "      <td>10.31</td>\n",
              "      <td>5.17</td>\n",
              "      <td>6.89</td>\n",
              "      <td>2.04</td>\n",
              "      <td>263.55</td>\n",
              "      <td>216.77</td>\n",
              "      <td>453</td>\n",
              "      <td>34.26</td>\n",
              "      <td>15,609</td>\n",
              "      <td>2.32</td>\n",
              "      <td>NaN</td>\n",
              "      <td>NaN</td>\n",
              "      <td>NaN</td>\n",
              "      <td>70,133,611</td>\n",
              "    </tr>\n",
              "    <tr>\n",
              "      <th>1</th>\n",
              "      <td>205</td>\n",
              "      <td>6</td>\n",
              "      <td>6</td>\n",
              "      <td>5</td>\n",
              "      <td>4</td>\n",
              "      <td>4</td>\n",
              "      <td>NaN</td>\n",
              "      <td>1,555</td>\n",
              "      <td>739</td>\n",
              "      <td>816</td>\n",
              "      <td>816</td>\n",
              "      <td>NaN</td>\n",
              "      <td>637</td>\n",
              "      <td>-42</td>\n",
              "      <td>-10</td>\n",
              "      <td>-34</td>\n",
              "      <td>18</td>\n",
              "      <td>-60</td>\n",
              "      <td>465</td>\n",
              "      <td>2.92</td>\n",
              "      <td>2.15</td>\n",
              "      <td>-17.61</td>\n",
              "      <td>-8.99</td>\n",
              "      <td>90.59</td>\n",
              "      <td>27.50</td>\n",
              "      <td>3</td>\n",
              "      <td>NaN</td>\n",
              "      <td>640</td>\n",
              "      <td>1.41</td>\n",
              "      <td>NaN</td>\n",
              "      <td>NaN</td>\n",
              "      <td>NaN</td>\n",
              "      <td>127,449,373</td>\n",
              "    </tr>\n",
              "    <tr>\n",
              "      <th>2</th>\n",
              "      <td>5,980</td>\n",
              "      <td>293</td>\n",
              "      <td>293</td>\n",
              "      <td>194</td>\n",
              "      <td>155</td>\n",
              "      <td>147</td>\n",
              "      <td>7</td>\n",
              "      <td>34,066</td>\n",
              "      <td>21,970</td>\n",
              "      <td>12,096</td>\n",
              "      <td>11,942</td>\n",
              "      <td>154</td>\n",
              "      <td>44</td>\n",
              "      <td>1,284</td>\n",
              "      <td>-958</td>\n",
              "      <td>1,009</td>\n",
              "      <td>315</td>\n",
              "      <td>969</td>\n",
              "      <td>15,489</td>\n",
              "      <td>4.90</td>\n",
              "      <td>2.59</td>\n",
              "      <td>-7.07</td>\n",
              "      <td>-2.50</td>\n",
              "      <td>181.63</td>\n",
              "      <td>43,300.25</td>\n",
              "      <td>1,682</td>\n",
              "      <td>NaN</td>\n",
              "      <td>145,448</td>\n",
              "      <td>0.70</td>\n",
              "      <td>0</td>\n",
              "      <td>NaN</td>\n",
              "      <td>0.00</td>\n",
              "      <td>7,993,460</td>\n",
              "    </tr>\n",
              "    <tr>\n",
              "      <th>3</th>\n",
              "      <td>521</td>\n",
              "      <td>-89</td>\n",
              "      <td>-89</td>\n",
              "      <td>-104</td>\n",
              "      <td>-104</td>\n",
              "      <td>-104</td>\n",
              "      <td>0</td>\n",
              "      <td>1,897</td>\n",
              "      <td>1,273</td>\n",
              "      <td>624</td>\n",
              "      <td>622</td>\n",
              "      <td>2</td>\n",
              "      <td>792</td>\n",
              "      <td>39</td>\n",
              "      <td>39</td>\n",
              "      <td>-85</td>\n",
              "      <td>3</td>\n",
              "      <td>36</td>\n",
              "      <td>839</td>\n",
              "      <td>-17.17</td>\n",
              "      <td>-19.95</td>\n",
              "      <td>-50.65</td>\n",
              "      <td>-21.41</td>\n",
              "      <td>204.06</td>\n",
              "      <td>-33.01</td>\n",
              "      <td>-61</td>\n",
              "      <td>NaN</td>\n",
              "      <td>368</td>\n",
              "      <td>2.37</td>\n",
              "      <td>0</td>\n",
              "      <td>NaN</td>\n",
              "      <td>0.00</td>\n",
              "      <td>168,807,631</td>\n",
              "    </tr>\n",
              "    <tr>\n",
              "      <th>4</th>\n",
              "      <td>4,108</td>\n",
              "      <td>246</td>\n",
              "      <td>246</td>\n",
              "      <td>816</td>\n",
              "      <td>657</td>\n",
              "      <td>659</td>\n",
              "      <td>-1</td>\n",
              "      <td>18,966</td>\n",
              "      <td>11,432</td>\n",
              "      <td>7,534</td>\n",
              "      <td>4,351</td>\n",
              "      <td>3,183</td>\n",
              "      <td>282</td>\n",
              "      <td>-33</td>\n",
              "      <td>-103</td>\n",
              "      <td>1,051</td>\n",
              "      <td>82</td>\n",
              "      <td>-115</td>\n",
              "      <td>8,639</td>\n",
              "      <td>5.98</td>\n",
              "      <td>16.00</td>\n",
              "      <td>17.65</td>\n",
              "      <td>2.18</td>\n",
              "      <td>151.74</td>\n",
              "      <td>1,538.72</td>\n",
              "      <td>1,168</td>\n",
              "      <td>3.98</td>\n",
              "      <td>7,821</td>\n",
              "      <td>0.64</td>\n",
              "      <td>NaN</td>\n",
              "      <td>NaN</td>\n",
              "      <td>0.00</td>\n",
              "      <td>55,640,623</td>\n",
              "    </tr>\n",
              "    <tr>\n",
              "      <th>5</th>\n",
              "      <td>2,613</td>\n",
              "      <td>1</td>\n",
              "      <td>1</td>\n",
              "      <td>17</td>\n",
              "      <td>66</td>\n",
              "      <td>66</td>\n",
              "      <td>0</td>\n",
              "      <td>8,550</td>\n",
              "      <td>5,855</td>\n",
              "      <td>2,695</td>\n",
              "      <td>2,689</td>\n",
              "      <td>6</td>\n",
              "      <td>531</td>\n",
              "      <td>150</td>\n",
              "      <td>-233</td>\n",
              "      <td>-257</td>\n",
              "      <td>127</td>\n",
              "      <td>23</td>\n",
              "      <td>5,016</td>\n",
              "      <td>0.06</td>\n",
              "      <td>2.51</td>\n",
              "      <td>0.69</td>\n",
              "      <td>0.20</td>\n",
              "      <td>217.22</td>\n",
              "      <td>473.10</td>\n",
              "      <td>62</td>\n",
              "      <td>141.13</td>\n",
              "      <td>2,532</td>\n",
              "      <td>1.01</td>\n",
              "      <td>NaN</td>\n",
              "      <td>NaN</td>\n",
              "      <td>NaN</td>\n",
              "      <td>106,209,702</td>\n",
              "    </tr>\n",
              "  </tbody>\n",
              "</table>\n",
              "</div>"
            ],
            "text/plain": [
              "     매출액 영업이익 영업이익(발표기준) 세전계속사업이익  ... 현금DPS(원) 현금배당수익률 현금배당성향(%)   발행주식수(보통주)\n",
              "0  6,243  644        644      465  ...      NaN     NaN       NaN   70,133,611\n",
              "1    205    6          6        5  ...      NaN     NaN       NaN  127,449,373\n",
              "2  5,980  293        293      194  ...        0     NaN      0.00    7,993,460\n",
              "3    521  -89        -89     -104  ...        0     NaN      0.00  168,807,631\n",
              "4  4,108  246        246      816  ...      NaN     NaN      0.00   55,640,623\n",
              "5  2,613    1          1       17  ...      NaN     NaN       NaN  106,209,702\n",
              "\n",
              "[6 rows x 33 columns]"
            ]
          },
          "metadata": {
            "tags": []
          },
          "execution_count": 111
        }
      ]
    },
    {
      "cell_type": "code",
      "metadata": {
        "colab": {
          "base_uri": "https://localhost:8080/",
          "height": 266
        },
        "id": "YfLpKorzrCIq",
        "outputId": "1b0910bb-c117-4c81-c5de-7caa3c7c2c8c"
      },
      "source": [
        "df2 = pd.DataFrame(\n",
        "    {'종목' : ['000080', '000890', '005300', '027740', '035810', '136480', '136490'],\n",
        "     '종목명': ['하이트진로', '보해양조', '롯데칠성', '마니커', '이지홀딩스', '하림', '선진'], \n",
        "     '테마' : ['주류', '주류', '주류', '육계', '육계', '육계', '돼지고기']}\n",
        ")\n",
        "\n",
        "df2"
      ],
      "execution_count": 112,
      "outputs": [
        {
          "output_type": "execute_result",
          "data": {
            "text/html": [
              "<div>\n",
              "<style scoped>\n",
              "    .dataframe tbody tr th:only-of-type {\n",
              "        vertical-align: middle;\n",
              "    }\n",
              "\n",
              "    .dataframe tbody tr th {\n",
              "        vertical-align: top;\n",
              "    }\n",
              "\n",
              "    .dataframe thead th {\n",
              "        text-align: right;\n",
              "    }\n",
              "</style>\n",
              "<table border=\"1\" class=\"dataframe\">\n",
              "  <thead>\n",
              "    <tr style=\"text-align: right;\">\n",
              "      <th></th>\n",
              "      <th>종목</th>\n",
              "      <th>종목명</th>\n",
              "      <th>테마</th>\n",
              "    </tr>\n",
              "  </thead>\n",
              "  <tbody>\n",
              "    <tr>\n",
              "      <th>0</th>\n",
              "      <td>000080</td>\n",
              "      <td>하이트진로</td>\n",
              "      <td>주류</td>\n",
              "    </tr>\n",
              "    <tr>\n",
              "      <th>1</th>\n",
              "      <td>000890</td>\n",
              "      <td>보해양조</td>\n",
              "      <td>주류</td>\n",
              "    </tr>\n",
              "    <tr>\n",
              "      <th>2</th>\n",
              "      <td>005300</td>\n",
              "      <td>롯데칠성</td>\n",
              "      <td>주류</td>\n",
              "    </tr>\n",
              "    <tr>\n",
              "      <th>3</th>\n",
              "      <td>027740</td>\n",
              "      <td>마니커</td>\n",
              "      <td>육계</td>\n",
              "    </tr>\n",
              "    <tr>\n",
              "      <th>4</th>\n",
              "      <td>035810</td>\n",
              "      <td>이지홀딩스</td>\n",
              "      <td>육계</td>\n",
              "    </tr>\n",
              "    <tr>\n",
              "      <th>5</th>\n",
              "      <td>136480</td>\n",
              "      <td>하림</td>\n",
              "      <td>육계</td>\n",
              "    </tr>\n",
              "    <tr>\n",
              "      <th>6</th>\n",
              "      <td>136490</td>\n",
              "      <td>선진</td>\n",
              "      <td>돼지고기</td>\n",
              "    </tr>\n",
              "  </tbody>\n",
              "</table>\n",
              "</div>"
            ],
            "text/plain": [
              "       종목    종목명    테마\n",
              "0  000080  하이트진로    주류\n",
              "1  000890   보해양조    주류\n",
              "2  005300   롯데칠성    주류\n",
              "3  027740    마니커    육계\n",
              "4  035810  이지홀딩스    육계\n",
              "5  136480     하림    육계\n",
              "6  136490     선진  돼지고기"
            ]
          },
          "metadata": {
            "tags": []
          },
          "execution_count": 112
        }
      ]
    },
    {
      "cell_type": "code",
      "metadata": {
        "id": "Mg4EMuQVrDhZ"
      },
      "source": [
        "df = pd.concat([df2, df], axis = 1)\n",
        "# df"
      ],
      "execution_count": 113,
      "outputs": []
    },
    {
      "cell_type": "code",
      "metadata": {
        "id": "hBGZfROdw9_t"
      },
      "source": [
        "df = df.drop(6)\n",
        "df1 = df\n",
        "# df"
      ],
      "execution_count": 114,
      "outputs": []
    },
    {
      "cell_type": "code",
      "metadata": {
        "id": "bhig6t15zvwZ"
      },
      "source": [
        "df = df[['종목명', '매출액', '자산총계', 'EPS(원)']]\n",
        "# df.shape"
      ],
      "execution_count": 115,
      "outputs": []
    },
    {
      "cell_type": "code",
      "metadata": {
        "colab": {
          "base_uri": "https://localhost:8080/",
          "height": 266
        },
        "id": "MQrPC19nxjF5",
        "outputId": "acb404d4-2f8d-4f32-cc28-87c995ad570e"
      },
      "source": [
        "df = df[['종목명', '매출액', '자산총계', 'EPS(원)']].set_index('종목명')\n",
        "df"
      ],
      "execution_count": 116,
      "outputs": [
        {
          "output_type": "execute_result",
          "data": {
            "text/html": [
              "<div>\n",
              "<style scoped>\n",
              "    .dataframe tbody tr th:only-of-type {\n",
              "        vertical-align: middle;\n",
              "    }\n",
              "\n",
              "    .dataframe tbody tr th {\n",
              "        vertical-align: top;\n",
              "    }\n",
              "\n",
              "    .dataframe thead th {\n",
              "        text-align: right;\n",
              "    }\n",
              "</style>\n",
              "<table border=\"1\" class=\"dataframe\">\n",
              "  <thead>\n",
              "    <tr style=\"text-align: right;\">\n",
              "      <th></th>\n",
              "      <th>매출액</th>\n",
              "      <th>자산총계</th>\n",
              "      <th>EPS(원)</th>\n",
              "    </tr>\n",
              "    <tr>\n",
              "      <th>종목명</th>\n",
              "      <th></th>\n",
              "      <th></th>\n",
              "      <th></th>\n",
              "    </tr>\n",
              "  </thead>\n",
              "  <tbody>\n",
              "    <tr>\n",
              "      <th>하이트진로</th>\n",
              "      <td>6,243</td>\n",
              "      <td>39,617</td>\n",
              "      <td>453</td>\n",
              "    </tr>\n",
              "    <tr>\n",
              "      <th>보해양조</th>\n",
              "      <td>205</td>\n",
              "      <td>1,555</td>\n",
              "      <td>3</td>\n",
              "    </tr>\n",
              "    <tr>\n",
              "      <th>롯데칠성</th>\n",
              "      <td>5,980</td>\n",
              "      <td>34,066</td>\n",
              "      <td>1,682</td>\n",
              "    </tr>\n",
              "    <tr>\n",
              "      <th>마니커</th>\n",
              "      <td>521</td>\n",
              "      <td>1,897</td>\n",
              "      <td>-61</td>\n",
              "    </tr>\n",
              "    <tr>\n",
              "      <th>이지홀딩스</th>\n",
              "      <td>4,108</td>\n",
              "      <td>18,966</td>\n",
              "      <td>1,168</td>\n",
              "    </tr>\n",
              "    <tr>\n",
              "      <th>하림</th>\n",
              "      <td>2,613</td>\n",
              "      <td>8,550</td>\n",
              "      <td>62</td>\n",
              "    </tr>\n",
              "  </tbody>\n",
              "</table>\n",
              "</div>"
            ],
            "text/plain": [
              "         매출액    자산총계 EPS(원)\n",
              "종목명                        \n",
              "하이트진로  6,243  39,617    453\n",
              "보해양조     205   1,555      3\n",
              "롯데칠성   5,980  34,066  1,682\n",
              "마니커      521   1,897    -61\n",
              "이지홀딩스  4,108  18,966  1,168\n",
              "하림     2,613   8,550     62"
            ]
          },
          "metadata": {
            "tags": []
          },
          "execution_count": 116
        }
      ]
    },
    {
      "cell_type": "code",
      "metadata": {
        "id": "8Fp2dwrcBTHl"
      },
      "source": [
        "# 문자열 숫자로 전환\n",
        "def tofloat(string):\n",
        "  return float(string.replace(',', ''))\n",
        "\n",
        "for i in ['매출액', '자산총계', 'EPS(원)']:\n",
        "  df[i] = df[i].apply(tofloat)"
      ],
      "execution_count": 117,
      "outputs": []
    },
    {
      "cell_type": "markdown",
      "metadata": {
        "id": "RsiWi4DuXPLP"
      },
      "source": [
        "## 2. Reshape \n",
        "\n",
        "방금 만든 데이터를 아래 예시와 같은 **tidy** 형태로 만드세요.\n",
        "\n",
        "이때 tidy 데이터의 이름은 `df_tidy` 입니다.\n",
        "\n",
        "|종목명|Feature|Value|\n",
        "|:-:|:-:|:-:|\n",
        "|하이트진로|매출액|6243|\n",
        "|보해양조|매출액|205|\n",
        "|롯데칠성|매출액|5980|\n",
        "|...|...|...|\n",
        "|마니커|EPS(원)|-61|\n",
        "|이지홀딩스|EPS(원)|1168|\n",
        "|하림|EPS(원)|62|\n",
        "\n",
        "이 후 아래의 코드를 정상적으로 실행했을때 나오는 box의 수를 `res`에 저장하세요.\n",
        "\n",
        "```python\n",
        "sns.boxplot(data = df_tidy, x = '종목명', y = 'value');\n",
        "```\n",
        "\n",
        "\n"
      ]
    },
    {
      "cell_type": "code",
      "metadata": {
        "id": "gACCr67CoUv0",
        "colab": {
          "base_uri": "https://localhost:8080/",
          "height": 607
        },
        "outputId": "5e0a9928-2a59-4fe4-862a-bd38157591b5"
      },
      "source": [
        "# ... 내부에 자본총계 대신 자산총계로 대체 하였습니다.\n",
        "\n",
        "df_tidy = df.reset_index()\n",
        "df_tidy = df_tidy.melt(id_vars = '종목명', value_vars= ['매출액', '자산총계', 'EPS(원)'])\n",
        "df_tidy"
      ],
      "execution_count": 118,
      "outputs": [
        {
          "output_type": "execute_result",
          "data": {
            "text/html": [
              "<div>\n",
              "<style scoped>\n",
              "    .dataframe tbody tr th:only-of-type {\n",
              "        vertical-align: middle;\n",
              "    }\n",
              "\n",
              "    .dataframe tbody tr th {\n",
              "        vertical-align: top;\n",
              "    }\n",
              "\n",
              "    .dataframe thead th {\n",
              "        text-align: right;\n",
              "    }\n",
              "</style>\n",
              "<table border=\"1\" class=\"dataframe\">\n",
              "  <thead>\n",
              "    <tr style=\"text-align: right;\">\n",
              "      <th></th>\n",
              "      <th>종목명</th>\n",
              "      <th>variable</th>\n",
              "      <th>value</th>\n",
              "    </tr>\n",
              "  </thead>\n",
              "  <tbody>\n",
              "    <tr>\n",
              "      <th>0</th>\n",
              "      <td>하이트진로</td>\n",
              "      <td>매출액</td>\n",
              "      <td>6243.0</td>\n",
              "    </tr>\n",
              "    <tr>\n",
              "      <th>1</th>\n",
              "      <td>보해양조</td>\n",
              "      <td>매출액</td>\n",
              "      <td>205.0</td>\n",
              "    </tr>\n",
              "    <tr>\n",
              "      <th>2</th>\n",
              "      <td>롯데칠성</td>\n",
              "      <td>매출액</td>\n",
              "      <td>5980.0</td>\n",
              "    </tr>\n",
              "    <tr>\n",
              "      <th>3</th>\n",
              "      <td>마니커</td>\n",
              "      <td>매출액</td>\n",
              "      <td>521.0</td>\n",
              "    </tr>\n",
              "    <tr>\n",
              "      <th>4</th>\n",
              "      <td>이지홀딩스</td>\n",
              "      <td>매출액</td>\n",
              "      <td>4108.0</td>\n",
              "    </tr>\n",
              "    <tr>\n",
              "      <th>5</th>\n",
              "      <td>하림</td>\n",
              "      <td>매출액</td>\n",
              "      <td>2613.0</td>\n",
              "    </tr>\n",
              "    <tr>\n",
              "      <th>6</th>\n",
              "      <td>하이트진로</td>\n",
              "      <td>자산총계</td>\n",
              "      <td>39617.0</td>\n",
              "    </tr>\n",
              "    <tr>\n",
              "      <th>7</th>\n",
              "      <td>보해양조</td>\n",
              "      <td>자산총계</td>\n",
              "      <td>1555.0</td>\n",
              "    </tr>\n",
              "    <tr>\n",
              "      <th>8</th>\n",
              "      <td>롯데칠성</td>\n",
              "      <td>자산총계</td>\n",
              "      <td>34066.0</td>\n",
              "    </tr>\n",
              "    <tr>\n",
              "      <th>9</th>\n",
              "      <td>마니커</td>\n",
              "      <td>자산총계</td>\n",
              "      <td>1897.0</td>\n",
              "    </tr>\n",
              "    <tr>\n",
              "      <th>10</th>\n",
              "      <td>이지홀딩스</td>\n",
              "      <td>자산총계</td>\n",
              "      <td>18966.0</td>\n",
              "    </tr>\n",
              "    <tr>\n",
              "      <th>11</th>\n",
              "      <td>하림</td>\n",
              "      <td>자산총계</td>\n",
              "      <td>8550.0</td>\n",
              "    </tr>\n",
              "    <tr>\n",
              "      <th>12</th>\n",
              "      <td>하이트진로</td>\n",
              "      <td>EPS(원)</td>\n",
              "      <td>453.0</td>\n",
              "    </tr>\n",
              "    <tr>\n",
              "      <th>13</th>\n",
              "      <td>보해양조</td>\n",
              "      <td>EPS(원)</td>\n",
              "      <td>3.0</td>\n",
              "    </tr>\n",
              "    <tr>\n",
              "      <th>14</th>\n",
              "      <td>롯데칠성</td>\n",
              "      <td>EPS(원)</td>\n",
              "      <td>1682.0</td>\n",
              "    </tr>\n",
              "    <tr>\n",
              "      <th>15</th>\n",
              "      <td>마니커</td>\n",
              "      <td>EPS(원)</td>\n",
              "      <td>-61.0</td>\n",
              "    </tr>\n",
              "    <tr>\n",
              "      <th>16</th>\n",
              "      <td>이지홀딩스</td>\n",
              "      <td>EPS(원)</td>\n",
              "      <td>1168.0</td>\n",
              "    </tr>\n",
              "    <tr>\n",
              "      <th>17</th>\n",
              "      <td>하림</td>\n",
              "      <td>EPS(원)</td>\n",
              "      <td>62.0</td>\n",
              "    </tr>\n",
              "  </tbody>\n",
              "</table>\n",
              "</div>"
            ],
            "text/plain": [
              "      종목명 variable    value\n",
              "0   하이트진로      매출액   6243.0\n",
              "1    보해양조      매출액    205.0\n",
              "2    롯데칠성      매출액   5980.0\n",
              "3     마니커      매출액    521.0\n",
              "4   이지홀딩스      매출액   4108.0\n",
              "5      하림      매출액   2613.0\n",
              "6   하이트진로     자산총계  39617.0\n",
              "7    보해양조     자산총계   1555.0\n",
              "8    롯데칠성     자산총계  34066.0\n",
              "9     마니커     자산총계   1897.0\n",
              "10  이지홀딩스     자산총계  18966.0\n",
              "11     하림     자산총계   8550.0\n",
              "12  하이트진로   EPS(원)    453.0\n",
              "13   보해양조   EPS(원)      3.0\n",
              "14   롯데칠성   EPS(원)   1682.0\n",
              "15    마니커   EPS(원)    -61.0\n",
              "16  이지홀딩스   EPS(원)   1168.0\n",
              "17     하림   EPS(원)     62.0"
            ]
          },
          "metadata": {
            "tags": []
          },
          "execution_count": 118
        }
      ]
    },
    {
      "cell_type": "code",
      "metadata": {
        "id": "xZjfdoXu5vqt"
      },
      "source": [
        "# df_tidy.dtypes"
      ],
      "execution_count": 53,
      "outputs": []
    },
    {
      "cell_type": "code",
      "metadata": {
        "colab": {
          "base_uri": "https://localhost:8080/",
          "height": 395
        },
        "id": "9VzrHRKA1e5L",
        "outputId": "33a5caed-94c1-45da-ab7c-0927ee97e773"
      },
      "source": [
        "# 실행후 런타임 재시작 하고 다시 실행 해야 에러가 안뜸.\n",
        "\n",
        "!sudo apt-get install -y fonts-nanum\n",
        "!sudo fc-cache -fv\n",
        "!rm ~/.cache/matplotlib -rf\n",
        "\n",
        "import seaborn as sns\n",
        "import matplotlib.pyplot as plt\n",
        "import pandas as pd\n",
        "import warnings\n",
        "\n",
        "warnings.filterwarnings(\"ignore\")\n",
        "%matplotlib inline\n",
        "%config InlineBackend.figure_format='retina'\n",
        "\n",
        "plt.rc('font', family='NanumBarunGothic') \n",
        "plt.clf()"
      ],
      "execution_count": 12,
      "outputs": [
        {
          "output_type": "stream",
          "text": [
            "Reading package lists... Done\n",
            "Building dependency tree       \n",
            "Reading state information... Done\n",
            "fonts-nanum is already the newest version (20170925-1).\n",
            "The following package was automatically installed and is no longer required:\n",
            "  libnvidia-common-460\n",
            "Use 'sudo apt autoremove' to remove it.\n",
            "0 upgraded, 0 newly installed, 0 to remove and 34 not upgraded.\n",
            "/usr/share/fonts: caching, new cache contents: 0 fonts, 1 dirs\n",
            "/usr/share/fonts/truetype: caching, new cache contents: 0 fonts, 3 dirs\n",
            "/usr/share/fonts/truetype/humor-sans: caching, new cache contents: 1 fonts, 0 dirs\n",
            "/usr/share/fonts/truetype/liberation: caching, new cache contents: 16 fonts, 0 dirs\n",
            "/usr/share/fonts/truetype/nanum: caching, new cache contents: 10 fonts, 0 dirs\n",
            "/usr/local/share/fonts: caching, new cache contents: 0 fonts, 0 dirs\n",
            "/root/.local/share/fonts: skipping, no such directory\n",
            "/root/.fonts: skipping, no such directory\n",
            "/var/cache/fontconfig: cleaning cache directory\n",
            "/root/.cache/fontconfig: not cleaning non-existent cache directory\n",
            "/root/.fontconfig: not cleaning non-existent cache directory\n",
            "fc-cache: succeeded\n"
          ],
          "name": "stdout"
        },
        {
          "output_type": "display_data",
          "data": {
            "text/plain": [
              "<Figure size 432x288 with 0 Axes>"
            ]
          },
          "metadata": {
            "tags": []
          }
        }
      ]
    },
    {
      "cell_type": "code",
      "metadata": {
        "colab": {
          "base_uri": "https://localhost:8080/",
          "height": 281
        },
        "id": "S8PKAZit7i8g",
        "outputId": "fc804675-7cdd-45ef-ec13-b50778b2a90f"
      },
      "source": [
        "sns.boxplot(data = df_tidy, x = '종목명', y = 'value');"
      ],
      "execution_count": 119,
      "outputs": [
        {
          "output_type": "display_data",
          "data": {
            "image/png": "[encoded data removed]",
            "text/plain": [
              "<Figure size 432x288 with 1 Axes>"
            ]
          },
          "metadata": {
            "tags": [],
            "image/png": {
              "width": 400,
              "height": 264
            },
            "needs_background": "light"
          }
        }
      ]
    },
    {
      "cell_type": "code",
      "metadata": {
        "id": "MG12oXAF7mE_"
      },
      "source": [
        "# res 를 표시되는 박스의 수로 지정\n",
        "res = 6"
      ],
      "execution_count": 120,
      "outputs": []
    },
    {
      "cell_type": "markdown",
      "metadata": {
        "id": "8Yscu0NtMmRM"
      },
      "source": [
        "## 3. Merge & Join +\n",
        "\n",
        "pandas merge의 options중 how 에는 여러가지 옵션들이 있습니다.\n",
        "\n",
        "공식 레퍼런스를 검색, 참조하여\n",
        "\n",
        "아래 코드를 바탕으로 \n",
        "\n",
        "다음과 같은 결과물을 만드는 코드를 작성하세요\n",
        "\n",
        "변수의 이름은 `df2` 입니다.\n",
        "\n",
        "|key1|key2|A|B|C|D|\n",
        "|:-:|:-:|:-:|:-:|:-:|:-:|\n",
        "|K0|K0|A0|B0|C0|D0|\n",
        "|K0|K1|A1|B1|NaN|NaN|\n",
        "|K1|K0|A2|B2|C1|D1|\n",
        "|K1|K0|A2|B2|C2|D2|\n",
        "|K2|K1|A3|B3|NaN|NaN|\n",
        "\n",
        "\n",
        "\n"
      ]
    },
    {
      "cell_type": "code",
      "metadata": {
        "id": "DlrGYjByMvn6"
      },
      "source": [
        "import pandas as pd\n",
        "\n",
        "left = pd.DataFrame({'key1': ['K0', 'K0', 'K1', 'K2'],\n",
        "                     'key2': ['K0', 'K1', 'K0', 'K1'],\n",
        "                     'A': ['A0', 'A1', 'A2', 'A3'],\n",
        "                     'B': ['B0', 'B1', 'B2', 'B3']})\n",
        "\n",
        "right = pd.DataFrame({'key1': ['K0', 'K1', 'K1', 'K2'],\n",
        "                      'key2': ['K0', 'K0', 'K0', 'K0'],\n",
        "                      'C': ['C0', 'C1', 'C2', 'C3'],\n",
        "                      'D': ['D0', 'D1', 'D2', 'D3']})\n",
        "\n",
        "df2 = left.merge(right, how = 'outer', on = ['key1', 'key2'])\n",
        "df2 = df2.drop(5)"
      ],
      "execution_count": 121,
      "outputs": []
    },
    {
      "cell_type": "markdown",
      "metadata": {
        "id": "en0Q_b5L4fxA"
      },
      "source": [
        "## Grading\n",
        "\n",
        "이전 과제를 완료했다면, 아래의 코드를 실행하세요. "
      ]
    },
    {
      "cell_type": "code",
      "metadata": {
        "id": "1k3zn-YV4fdg"
      },
      "source": [
        "import numpy as np\n",
        "\n",
        "def grade(df, df2, df_tidy, res):\n",
        "  score = 0\n",
        "  score += (df['매출액'][2] == 5980)\n",
        "  score += (df['자산총계'][3] == 1897)   \n",
        "  score += (df2.equals(pd.DataFrame({\n",
        "    'key1' : ['K0', 'K0', 'K1', 'K1', 'K2'],\n",
        "    'key2' : ['K0', 'K1', 'K0', 'K0', 'K1'],\n",
        "    'A' : ['A0', 'A1', 'A2', 'A2', 'A3'],\n",
        "    'B' : ['B0', 'B1', 'B2', 'B2', 'B3'],\n",
        "    'C' : ['C0', np.NaN, 'C1', 'C2', np.NaN],\n",
        "    'D' : ['D0', np.NaN, 'D1', 'D2', np.NaN],\n",
        "  }))) \n",
        "  score += (res == 6)\n",
        "  # 에러 메세지 때문에 'Value' -> 'value'로 수정 했습니다.\n",
        "  score += (round(df_tidy['value'].mean(), 3) == 7090.444)\n",
        "  return(score)"
      ],
      "execution_count": 126,
      "outputs": []
    },
    {
      "cell_type": "code",
      "metadata": {
        "id": "nj_RslFn4lCM",
        "colab": {
          "base_uri": "https://localhost:8080/"
        },
        "outputId": "5790d252-e63c-4f93-895c-725b1de3dee2"
      },
      "source": [
        "grade(df, df2, df_tidy, res)"
      ],
      "execution_count": 127,
      "outputs": [
        {
          "output_type": "execute_result",
          "data": {
            "text/plain": [
              "5"
            ]
          },
          "metadata": {
            "tags": []
          },
          "execution_count": 127
        }
      ]
    },
    {
      "cell_type": "code",
      "metadata": {
        "id": "51WCYOU1DjBY",
        "colab": {
          "base_uri": "https://localhost:8080/"
        },
        "outputId": "f87cfa67-f199-4604-9aaf-82fb4799fa05"
      },
      "source": [
        "df['매출액'][2]"
      ],
      "execution_count": 128,
      "outputs": [
        {
          "output_type": "execute_result",
          "data": {
            "text/plain": [
              "5980.0"
            ]
          },
          "metadata": {
            "tags": []
          },
          "execution_count": 128
        }
      ]
    },
    {
      "cell_type": "code",
      "metadata": {
        "id": "dM18mViyDmrJ",
        "colab": {
          "base_uri": "https://localhost:8080/"
        },
        "outputId": "d92fb4cd-6a97-4772-e1f1-de1f4d901098"
      },
      "source": [
        "df['자산총계'][3]"
      ],
      "execution_count": 129,
      "outputs": [
        {
          "output_type": "execute_result",
          "data": {
            "text/plain": [
              "1897.0"
            ]
          },
          "metadata": {
            "tags": []
          },
          "execution_count": 129
        }
      ]
    },
    {
      "cell_type": "code",
      "metadata": {
        "colab": {
          "base_uri": "https://localhost:8080/"
        },
        "id": "43v4mUMX8pS8",
        "outputId": "4bd0b689-a58a-4e80-954b-c9e92b8b2db1"
      },
      "source": [
        "res"
      ],
      "execution_count": 130,
      "outputs": [
        {
          "output_type": "execute_result",
          "data": {
            "text/plain": [
              "6"
            ]
          },
          "metadata": {
            "tags": []
          },
          "execution_count": 130
        }
      ]
    },
    {
      "cell_type": "code",
      "metadata": {
        "id": "-VTXjW6vDuGx",
        "colab": {
          "base_uri": "https://localhost:8080/"
        },
        "outputId": "95c11267-3852-41d8-faf7-3f509ba4f19a"
      },
      "source": [
        "int(df_tidy['value'].mean())"
      ],
      "execution_count": 131,
      "outputs": [
        {
          "output_type": "execute_result",
          "data": {
            "text/plain": [
              "7090"
            ]
          },
          "metadata": {
            "tags": []
          },
          "execution_count": 131
        }
      ]
    },
    {
      "cell_type": "markdown",
      "metadata": {
        "id": "mnOuqL9K0dqh"
      },
      "source": [
        "## 🔥 도전과제"
      ]
    },
    {
      "cell_type": "markdown",
      "metadata": {
        "id": "GboSqR1qRoTO"
      },
      "source": [
        "아래 링크들을 참조하여, \n",
        "특정 테마별로 포함되어 있는 종목의 데이터를 직접 csv형태로 수집하고 (아래 적힌 3개씩)\n",
        "\n",
        "<https://finance.naver.com/sise/sise_group_detail.nhn?type=theme&no=408>\n",
        "\n",
        "<https://finance.naver.com/sise/sise_group_detail.nhn?type=theme&no=36>\n",
        "\n",
        "- 최종 분기에 해당하는 데이터\n",
        "\n",
        "- 테마별 평균 데이터를 결과물로 만드는 코드를 작성하세요.\n",
        "\n",
        "단, 모든 feature에 대해서가 아닌\n",
        "\n",
        "- 매출액\n",
        "- 자본총계\n",
        "- EPS\n",
        "\n",
        "에 대해서만 하면 됩니다.\n",
        "\n",
        "|종목명|매출액|자본총계|EPS|\n",
        "|:-:|:-:|:-:|:-:|\n",
        "|대한해운|...|...|...|...|\n",
        "|팬오션|...|...|...|...|\n",
        "|KSS해운|...|...|...|...|\n",
        "|세미콘라이트|...|...|...|...|\n",
        "|오성첨단소재|...|...|...|...|\n",
        "|에이아이비트|...|...|...|...|\n",
        "\n",
        "---\n",
        "\n",
        "|테마|매출액|자본총계|EPS|\n",
        "|:-:|:-:|:-:|:-:|\n",
        "|해운|...|...|...|\n",
        "|마리화나(대마)|...|...|...|\n",
        "\n",
        "이후 아래의 예시 처럼 seaborn을 사용하여 결과를 barplot으로 시각화하세요.\n",
        "\n",
        "단, 한글이 깨지는 에러를 여러분이 직접 고쳐야합니다."
      ]
    },
    {
      "cell_type": "code",
      "metadata": {
        "id": "_HQToMGHHXmA",
        "colab": {
          "base_uri": "https://localhost:8080/"
        },
        "outputId": "970ec118-5a26-4dde-d219-35956fbd363f"
      },
      "source": [
        "import pandas as pd\n",
        "\n",
        "# 자본총계 = 자산총계 - 부채총계\n",
        "marihana = '종목명\t현재가\t전일비\t등락률\t매출액\t자산총계\t부채총계\t주당순이익\t토론실  한국비엔씨\t7,750\t상승 320\t+4.31%\t194\t676\t306\t28\t토론실  우리바이오\t5,670\t상승 200\t+3.66%\t16,234\t6,461\t5,010\t375\t토론실  오성첨단소재\t4,020\t상승 15\t+0.37%\t796\t2,572\t628\t162\t토론실  에이아이비트\t543\t0\t0.00%\t292\t581\t129\t-221\t토론실  뉴프라이드\t717\t0\t0.00%\t398\t1,152\t807\t-1,423\t토론실  마이더스AI\t522\t하락 4\t-0.76%\t82\t454\t70\t-209\t토론실  에스엘바이오닉스 /1,130\t하락 20\t-1.74%\t286\t648\t178\t-8\t토론실'\n",
        "shipping = '종목명\t현재가\t전일비\t등락률\t매출액\t자산총계\t부채총계\t주당순이익\t토론실  HMM/ 44,200\t상승 1,600\t+3.76%\t64,133\t93,734\t76,848\t384\t토론실  흥아해운\t258\t0\t0.00%\t889\t3,001\t3,119\t-313\t토론실  팬오션\t7,390\t하락 50\t-0.67%\t24,972\t46,593\t18,527\t173\t토론실  대한해운\t3,535\t하락 25\t-0.70%\t8,841\t33,456\t24,923\t34\t토론실  KSS해운\t12,600\t하락 200\t-1.56%\t2,262\t10,695\t8,007\t566\t토론실'\n",
        "marihana = marihana.replace('\\t', '/')\n",
        "shipping = shipping.replace('\\t', '/')\n",
        "print(marihana)\n",
        "def stock(option):\n",
        "  stock = option.split('/')\n",
        "  stock = [stock[i:i+8] for i in range(0, len(stock), 8)]\n",
        "  stock = pd.DataFrame(stock)\n",
        "  stock[0] = stock[0].str.replace('토론실', '')\n",
        "  stock = stock.drop(len(stock)-1)\n",
        "  stock = stock[[0, 4, 5, 7]]\n",
        "  return stock\n",
        "\n",
        "marihana = stock(marihana)\n",
        "marihana.to_csv('marihana.csv')\n",
        "shipping = stock(shipping)\n",
        "shipping.to_csv('shipping.csv')"
      ],
      "execution_count": 146,
      "outputs": [
        {
          "output_type": "stream",
          "text": [
            "종목명/현재가/전일비/등락률/매출액/자산총계/부채총계/주당순이익/토론실  한국비엔씨/7,750/상승 320/+4.31%/194/676/306/28/토론실  우리바이오/5,670/상승 200/+3.66%/16,234/6,461/5,010/375/토론실  오성첨단소재/4,020/상승 15/+0.37%/796/2,572/628/162/토론실  에이아이비트/543/0/0.00%/292/581/129/-221/토론실  뉴프라이드/717/0/0.00%/398/1,152/807/-1,423/토론실  마이더스AI/522/하락 4/-0.76%/82/454/70/-209/토론실  에스엘바이오닉스 /1,130/하락 20/-1.74%/286/648/178/-8/토론실\n"
          ],
          "name": "stdout"
        }
      ]
    },
    {
      "cell_type": "code",
      "metadata": {
        "id": "KcNX9Tdyo4Gu"
      },
      "source": [
        "mari_index = [i for i in marihana.iloc[0,:]]\n",
        "shipping_index = [i for i in shipping.iloc[0,:]]\n",
        "\n",
        "df_mari = pd.read_csv('marihana.csv', names = mari_index)[1:]\n",
        "df_shipping = pd.read_csv('shipping.csv', names = shipping_index)[1:]\n",
        "df_mari['테마'] = ['대마' for _ in range(len(df_mari))]\n",
        "df_shipping['테마'] = ['해운' for _ in range(len(df_shipping))]"
      ],
      "execution_count": 162,
      "outputs": []
    },
    {
      "cell_type": "code",
      "metadata": {
        "id": "O8rot91_8qdc"
      },
      "source": [
        "df_challenge = pd.concat([df_mari, df_shipping])\n",
        "index = ['매출액', '자산총계', '주당순이익']\n",
        "def tofloat(string):\n",
        "  return float(string)\n",
        "\n",
        "for i in index:\n",
        "  df_challenge[i] = df_challenge[i].str.replace(',', '').apply(tofloat)\n",
        "df_challenge['EPS'] = df_challenge['주당순이익']\n",
        "df_challenge.drop(['주당순이익'], axis = 1, inplace=True)"
      ],
      "execution_count": 163,
      "outputs": []
    },
    {
      "cell_type": "code",
      "metadata": {
        "colab": {
          "base_uri": "https://localhost:8080/",
          "height": 421
        },
        "id": "Vg4pGwtoByoT",
        "outputId": "104b95ae-45c9-490d-cce1-75d3bd544629"
      },
      "source": [
        "df_challenge"
      ],
      "execution_count": 164,
      "outputs": [
        {
          "output_type": "execute_result",
          "data": {
            "text/html": [
              "<div>\n",
              "<style scoped>\n",
              "    .dataframe tbody tr th:only-of-type {\n",
              "        vertical-align: middle;\n",
              "    }\n",
              "\n",
              "    .dataframe tbody tr th {\n",
              "        vertical-align: top;\n",
              "    }\n",
              "\n",
              "    .dataframe thead th {\n",
              "        text-align: right;\n",
              "    }\n",
              "</style>\n",
              "<table border=\"1\" class=\"dataframe\">\n",
              "  <thead>\n",
              "    <tr style=\"text-align: right;\">\n",
              "      <th></th>\n",
              "      <th>종목명</th>\n",
              "      <th>매출액</th>\n",
              "      <th>자산총계</th>\n",
              "      <th>테마</th>\n",
              "      <th>EPS</th>\n",
              "    </tr>\n",
              "  </thead>\n",
              "  <tbody>\n",
              "    <tr>\n",
              "      <th>1.0</th>\n",
              "      <td>한국비엔씨</td>\n",
              "      <td>194.0</td>\n",
              "      <td>676.0</td>\n",
              "      <td>대마</td>\n",
              "      <td>28.0</td>\n",
              "    </tr>\n",
              "    <tr>\n",
              "      <th>2.0</th>\n",
              "      <td>우리바이오</td>\n",
              "      <td>16234.0</td>\n",
              "      <td>6461.0</td>\n",
              "      <td>대마</td>\n",
              "      <td>375.0</td>\n",
              "    </tr>\n",
              "    <tr>\n",
              "      <th>3.0</th>\n",
              "      <td>오성첨단소재</td>\n",
              "      <td>796.0</td>\n",
              "      <td>2572.0</td>\n",
              "      <td>대마</td>\n",
              "      <td>162.0</td>\n",
              "    </tr>\n",
              "    <tr>\n",
              "      <th>4.0</th>\n",
              "      <td>에이아이비트</td>\n",
              "      <td>292.0</td>\n",
              "      <td>581.0</td>\n",
              "      <td>대마</td>\n",
              "      <td>-221.0</td>\n",
              "    </tr>\n",
              "    <tr>\n",
              "      <th>5.0</th>\n",
              "      <td>뉴프라이드</td>\n",
              "      <td>398.0</td>\n",
              "      <td>1152.0</td>\n",
              "      <td>대마</td>\n",
              "      <td>-1423.0</td>\n",
              "    </tr>\n",
              "    <tr>\n",
              "      <th>6.0</th>\n",
              "      <td>마이더스AI</td>\n",
              "      <td>82.0</td>\n",
              "      <td>454.0</td>\n",
              "      <td>대마</td>\n",
              "      <td>-209.0</td>\n",
              "    </tr>\n",
              "    <tr>\n",
              "      <th>7.0</th>\n",
              "      <td>에스엘바이오닉스</td>\n",
              "      <td>286.0</td>\n",
              "      <td>648.0</td>\n",
              "      <td>대마</td>\n",
              "      <td>-8.0</td>\n",
              "    </tr>\n",
              "    <tr>\n",
              "      <th>1.0</th>\n",
              "      <td>HMM</td>\n",
              "      <td>64133.0</td>\n",
              "      <td>93734.0</td>\n",
              "      <td>해운</td>\n",
              "      <td>384.0</td>\n",
              "    </tr>\n",
              "    <tr>\n",
              "      <th>2.0</th>\n",
              "      <td>흥아해운</td>\n",
              "      <td>889.0</td>\n",
              "      <td>3001.0</td>\n",
              "      <td>해운</td>\n",
              "      <td>-313.0</td>\n",
              "    </tr>\n",
              "    <tr>\n",
              "      <th>3.0</th>\n",
              "      <td>팬오션</td>\n",
              "      <td>24972.0</td>\n",
              "      <td>46593.0</td>\n",
              "      <td>해운</td>\n",
              "      <td>173.0</td>\n",
              "    </tr>\n",
              "    <tr>\n",
              "      <th>4.0</th>\n",
              "      <td>대한해운</td>\n",
              "      <td>8841.0</td>\n",
              "      <td>33456.0</td>\n",
              "      <td>해운</td>\n",
              "      <td>34.0</td>\n",
              "    </tr>\n",
              "    <tr>\n",
              "      <th>5.0</th>\n",
              "      <td>KSS해운</td>\n",
              "      <td>2262.0</td>\n",
              "      <td>10695.0</td>\n",
              "      <td>해운</td>\n",
              "      <td>566.0</td>\n",
              "    </tr>\n",
              "  </tbody>\n",
              "</table>\n",
              "</div>"
            ],
            "text/plain": [
              "             종목명      매출액     자산총계  테마     EPS\n",
              "1.0        한국비엔씨    194.0    676.0  대마    28.0\n",
              "2.0        우리바이오  16234.0   6461.0  대마   375.0\n",
              "3.0       오성첨단소재    796.0   2572.0  대마   162.0\n",
              "4.0       에이아이비트    292.0    581.0  대마  -221.0\n",
              "5.0        뉴프라이드    398.0   1152.0  대마 -1423.0\n",
              "6.0       마이더스AI     82.0    454.0  대마  -209.0\n",
              "7.0    에스엘바이오닉스     286.0    648.0  대마    -8.0\n",
              "1.0          HMM  64133.0  93734.0  해운   384.0\n",
              "2.0         흥아해운    889.0   3001.0  해운  -313.0\n",
              "3.0          팬오션  24972.0  46593.0  해운   173.0\n",
              "4.0         대한해운   8841.0  33456.0  해운    34.0\n",
              "5.0        KSS해운   2262.0  10695.0  해운   566.0"
            ]
          },
          "metadata": {
            "tags": []
          },
          "execution_count": 164
        }
      ]
    },
    {
      "cell_type": "code",
      "metadata": {
        "id": "95x2rqSGDztt",
        "colab": {
          "base_uri": "https://localhost:8080/",
          "height": 281
        },
        "outputId": "273f4e3d-1471-4a21-e219-aeabf0d50ffb"
      },
      "source": [
        "sns.barplot(data = df_challenge, x = '테마', y = '매출액', hue = '테마');"
      ],
      "execution_count": 165,
      "outputs": [
        {
          "output_type": "display_data",
          "data": {
            "image/png": "[encoded data removed]",
            "text/plain": [
              "<Figure size 432x288 with 1 Axes>"
            ]
          },
          "metadata": {
            "tags": [],
            "image/png": {
              "width": 400,
              "height": 264
            },
            "needs_background": "light"
          }
        }
      ]
    },
    {
      "cell_type": "code",
      "metadata": {
        "id": "SJxn4OgOC_0c",
        "colab": {
          "base_uri": "https://localhost:8080/",
          "height": 281
        },
        "outputId": "fa2cb24f-206f-4a56-f97a-6a02a17d5112"
      },
      "source": [
        "sns.barplot(data = df_challenge, x = '테마', y = '자산총계', hue = '테마');"
      ],
      "execution_count": 166,
      "outputs": [
        {
          "output_type": "display_data",
          "data": {
            "image/png": "[encoded data removed]",
            "text/plain": [
              "<Figure size 432x288 with 1 Axes>"
            ]
          },
          "metadata": {
            "tags": [],
            "image/png": {
              "width": 400,
              "height": 264
            },
            "needs_background": "light"
          }
        }
      ]
    },
    {
      "cell_type": "code",
      "metadata": {
        "id": "xhRVPn2YC_6Y",
        "colab": {
          "base_uri": "https://localhost:8080/",
          "height": 281
        },
        "outputId": "5a93ec51-82b8-4107-a7a7-0229fc9e72ec"
      },
      "source": [
        "sns.barplot(data = df_challenge, x = '테마', y = 'EPS', hue = '테마');"
      ],
      "execution_count": 167,
      "outputs": [
        {
          "output_type": "display_data",
          "data": {
            "image/png": "[encoded data removed]",
            "text/plain": [
              "<Figure size 432x288 with 1 Axes>"
            ]
          },
          "metadata": {
            "tags": [],
            "image/png": {
              "width": 390,
              "height": 264
            },
            "needs_background": "light"
          }
        }
      ]
    },
    {
      "cell_type": "code",
      "metadata": {
        "colab": {
          "base_uri": "https://localhost:8080/",
          "height": 1000
        },
        "id": "YMxBfP0BGMf0",
        "outputId": "d62d859b-1136-4db2-9e63-3ea9762f64d9"
      },
      "source": [
        "df_challenge_melt = df_challenge.melt(id_vars=\"테마\", value_vars=[\"매출액\", \"자산총계\", \"EPS\"])\n",
        "df_challenge_melt = df_challenge_melt.rename(columns={\"variable\":\"Feature\", \"value\":\"Value\"})\n",
        "df_challenge_melt"
      ],
      "execution_count": 170,
      "outputs": [
        {
          "output_type": "execute_result",
          "data": {
            "text/html": [
              "<div>\n",
              "<style scoped>\n",
              "    .dataframe tbody tr th:only-of-type {\n",
              "        vertical-align: middle;\n",
              "    }\n",
              "\n",
              "    .dataframe tbody tr th {\n",
              "        vertical-align: top;\n",
              "    }\n",
              "\n",
              "    .dataframe thead th {\n",
              "        text-align: right;\n",
              "    }\n",
              "</style>\n",
              "<table border=\"1\" class=\"dataframe\">\n",
              "  <thead>\n",
              "    <tr style=\"text-align: right;\">\n",
              "      <th></th>\n",
              "      <th>테마</th>\n",
              "      <th>Feature</th>\n",
              "      <th>Value</th>\n",
              "    </tr>\n",
              "  </thead>\n",
              "  <tbody>\n",
              "    <tr>\n",
              "      <th>0</th>\n",
              "      <td>대마</td>\n",
              "      <td>매출액</td>\n",
              "      <td>194.0</td>\n",
              "    </tr>\n",
              "    <tr>\n",
              "      <th>1</th>\n",
              "      <td>대마</td>\n",
              "      <td>매출액</td>\n",
              "      <td>16234.0</td>\n",
              "    </tr>\n",
              "    <tr>\n",
              "      <th>2</th>\n",
              "      <td>대마</td>\n",
              "      <td>매출액</td>\n",
              "      <td>796.0</td>\n",
              "    </tr>\n",
              "    <tr>\n",
              "      <th>3</th>\n",
              "      <td>대마</td>\n",
              "      <td>매출액</td>\n",
              "      <td>292.0</td>\n",
              "    </tr>\n",
              "    <tr>\n",
              "      <th>4</th>\n",
              "      <td>대마</td>\n",
              "      <td>매출액</td>\n",
              "      <td>398.0</td>\n",
              "    </tr>\n",
              "    <tr>\n",
              "      <th>5</th>\n",
              "      <td>대마</td>\n",
              "      <td>매출액</td>\n",
              "      <td>82.0</td>\n",
              "    </tr>\n",
              "    <tr>\n",
              "      <th>6</th>\n",
              "      <td>대마</td>\n",
              "      <td>매출액</td>\n",
              "      <td>286.0</td>\n",
              "    </tr>\n",
              "    <tr>\n",
              "      <th>7</th>\n",
              "      <td>해운</td>\n",
              "      <td>매출액</td>\n",
              "      <td>64133.0</td>\n",
              "    </tr>\n",
              "    <tr>\n",
              "      <th>8</th>\n",
              "      <td>해운</td>\n",
              "      <td>매출액</td>\n",
              "      <td>889.0</td>\n",
              "    </tr>\n",
              "    <tr>\n",
              "      <th>9</th>\n",
              "      <td>해운</td>\n",
              "      <td>매출액</td>\n",
              "      <td>24972.0</td>\n",
              "    </tr>\n",
              "    <tr>\n",
              "      <th>10</th>\n",
              "      <td>해운</td>\n",
              "      <td>매출액</td>\n",
              "      <td>8841.0</td>\n",
              "    </tr>\n",
              "    <tr>\n",
              "      <th>11</th>\n",
              "      <td>해운</td>\n",
              "      <td>매출액</td>\n",
              "      <td>2262.0</td>\n",
              "    </tr>\n",
              "    <tr>\n",
              "      <th>12</th>\n",
              "      <td>대마</td>\n",
              "      <td>자산총계</td>\n",
              "      <td>676.0</td>\n",
              "    </tr>\n",
              "    <tr>\n",
              "      <th>13</th>\n",
              "      <td>대마</td>\n",
              "      <td>자산총계</td>\n",
              "      <td>6461.0</td>\n",
              "    </tr>\n",
              "    <tr>\n",
              "      <th>14</th>\n",
              "      <td>대마</td>\n",
              "      <td>자산총계</td>\n",
              "      <td>2572.0</td>\n",
              "    </tr>\n",
              "    <tr>\n",
              "      <th>15</th>\n",
              "      <td>대마</td>\n",
              "      <td>자산총계</td>\n",
              "      <td>581.0</td>\n",
              "    </tr>\n",
              "    <tr>\n",
              "      <th>16</th>\n",
              "      <td>대마</td>\n",
              "      <td>자산총계</td>\n",
              "      <td>1152.0</td>\n",
              "    </tr>\n",
              "    <tr>\n",
              "      <th>17</th>\n",
              "      <td>대마</td>\n",
              "      <td>자산총계</td>\n",
              "      <td>454.0</td>\n",
              "    </tr>\n",
              "    <tr>\n",
              "      <th>18</th>\n",
              "      <td>대마</td>\n",
              "      <td>자산총계</td>\n",
              "      <td>648.0</td>\n",
              "    </tr>\n",
              "    <tr>\n",
              "      <th>19</th>\n",
              "      <td>해운</td>\n",
              "      <td>자산총계</td>\n",
              "      <td>93734.0</td>\n",
              "    </tr>\n",
              "    <tr>\n",
              "      <th>20</th>\n",
              "      <td>해운</td>\n",
              "      <td>자산총계</td>\n",
              "      <td>3001.0</td>\n",
              "    </tr>\n",
              "    <tr>\n",
              "      <th>21</th>\n",
              "      <td>해운</td>\n",
              "      <td>자산총계</td>\n",
              "      <td>46593.0</td>\n",
              "    </tr>\n",
              "    <tr>\n",
              "      <th>22</th>\n",
              "      <td>해운</td>\n",
              "      <td>자산총계</td>\n",
              "      <td>33456.0</td>\n",
              "    </tr>\n",
              "    <tr>\n",
              "      <th>23</th>\n",
              "      <td>해운</td>\n",
              "      <td>자산총계</td>\n",
              "      <td>10695.0</td>\n",
              "    </tr>\n",
              "    <tr>\n",
              "      <th>24</th>\n",
              "      <td>대마</td>\n",
              "      <td>EPS</td>\n",
              "      <td>28.0</td>\n",
              "    </tr>\n",
              "    <tr>\n",
              "      <th>25</th>\n",
              "      <td>대마</td>\n",
              "      <td>EPS</td>\n",
              "      <td>375.0</td>\n",
              "    </tr>\n",
              "    <tr>\n",
              "      <th>26</th>\n",
              "      <td>대마</td>\n",
              "      <td>EPS</td>\n",
              "      <td>162.0</td>\n",
              "    </tr>\n",
              "    <tr>\n",
              "      <th>27</th>\n",
              "      <td>대마</td>\n",
              "      <td>EPS</td>\n",
              "      <td>-221.0</td>\n",
              "    </tr>\n",
              "    <tr>\n",
              "      <th>28</th>\n",
              "      <td>대마</td>\n",
              "      <td>EPS</td>\n",
              "      <td>-1423.0</td>\n",
              "    </tr>\n",
              "    <tr>\n",
              "      <th>29</th>\n",
              "      <td>대마</td>\n",
              "      <td>EPS</td>\n",
              "      <td>-209.0</td>\n",
              "    </tr>\n",
              "    <tr>\n",
              "      <th>30</th>\n",
              "      <td>대마</td>\n",
              "      <td>EPS</td>\n",
              "      <td>-8.0</td>\n",
              "    </tr>\n",
              "    <tr>\n",
              "      <th>31</th>\n",
              "      <td>해운</td>\n",
              "      <td>EPS</td>\n",
              "      <td>384.0</td>\n",
              "    </tr>\n",
              "    <tr>\n",
              "      <th>32</th>\n",
              "      <td>해운</td>\n",
              "      <td>EPS</td>\n",
              "      <td>-313.0</td>\n",
              "    </tr>\n",
              "    <tr>\n",
              "      <th>33</th>\n",
              "      <td>해운</td>\n",
              "      <td>EPS</td>\n",
              "      <td>173.0</td>\n",
              "    </tr>\n",
              "    <tr>\n",
              "      <th>34</th>\n",
              "      <td>해운</td>\n",
              "      <td>EPS</td>\n",
              "      <td>34.0</td>\n",
              "    </tr>\n",
              "    <tr>\n",
              "      <th>35</th>\n",
              "      <td>해운</td>\n",
              "      <td>EPS</td>\n",
              "      <td>566.0</td>\n",
              "    </tr>\n",
              "  </tbody>\n",
              "</table>\n",
              "</div>"
            ],
            "text/plain": [
              "    테마 Feature    Value\n",
              "0   대마     매출액    194.0\n",
              "1   대마     매출액  16234.0\n",
              "2   대마     매출액    796.0\n",
              "3   대마     매출액    292.0\n",
              "4   대마     매출액    398.0\n",
              "5   대마     매출액     82.0\n",
              "6   대마     매출액    286.0\n",
              "7   해운     매출액  64133.0\n",
              "8   해운     매출액    889.0\n",
              "9   해운     매출액  24972.0\n",
              "10  해운     매출액   8841.0\n",
              "11  해운     매출액   2262.0\n",
              "12  대마    자산총계    676.0\n",
              "13  대마    자산총계   6461.0\n",
              "14  대마    자산총계   2572.0\n",
              "15  대마    자산총계    581.0\n",
              "16  대마    자산총계   1152.0\n",
              "17  대마    자산총계    454.0\n",
              "18  대마    자산총계    648.0\n",
              "19  해운    자산총계  93734.0\n",
              "20  해운    자산총계   3001.0\n",
              "21  해운    자산총계  46593.0\n",
              "22  해운    자산총계  33456.0\n",
              "23  해운    자산총계  10695.0\n",
              "24  대마     EPS     28.0\n",
              "25  대마     EPS    375.0\n",
              "26  대마     EPS    162.0\n",
              "27  대마     EPS   -221.0\n",
              "28  대마     EPS  -1423.0\n",
              "29  대마     EPS   -209.0\n",
              "30  대마     EPS     -8.0\n",
              "31  해운     EPS    384.0\n",
              "32  해운     EPS   -313.0\n",
              "33  해운     EPS    173.0\n",
              "34  해운     EPS     34.0\n",
              "35  해운     EPS    566.0"
            ]
          },
          "metadata": {
            "tags": []
          },
          "execution_count": 170
        }
      ]
    },
    {
      "cell_type": "code",
      "metadata": {
        "id": "zb6LX8G9Demj",
        "colab": {
          "base_uri": "https://localhost:8080/",
          "height": 281
        },
        "outputId": "b1300cd0-11a4-4e52-9bef-9e9e44157bd3"
      },
      "source": [
        "sns.barplot(data = df_challenge_melt, x = \"Feature\", y = \"Value\", hue=\"테마\");"
      ],
      "execution_count": 172,
      "outputs": [
        {
          "output_type": "display_data",
          "data": {
            "image/png": "[encoded data removed]",
            "text/plain": [
              "<Figure size 432x288 with 1 Axes>"
            ]
          },
          "metadata": {
            "tags": [],
            "image/png": {
              "width": 400,
              "height": 264
            },
            "needs_background": "light"
          }
        }
      ]
    },
    {
      "cell_type": "code",
      "metadata": {
        "id": "ne0ZW8KXFdAy"
      },
      "source": [
        ""
      ],
      "execution_count": null,
      "outputs": []
    }
  ]
}