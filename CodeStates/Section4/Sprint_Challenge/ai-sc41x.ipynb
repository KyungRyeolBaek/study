{
 "cells": [
  {
   "cell_type": "markdown",
   "metadata": {
    "id": "dVNDxiWkw5y7"
   },
   "source": [
    "<img src='https://user-images.githubusercontent.com/6457691/90080969-0f758d00-dd47-11ea-8191-fa12fd2054a7.png' width = '200' align = 'right'>\n",
    "\n",
    "## AI SC41x\n",
    "\n",
    "---\n",
    "# Sprint Challenge - 신경망(Neural Network) 기본기 다지기\n",
    "\n",
    "Table of Problems\n",
    "\n",
    "1. 신경망 정의하기 \n",
    "2. 퍼셉트론 정의\n",
    "    - 퍼셉트론(Perceptron)\n",
    "    - 다층 퍼셉트론(Multilayer Perceptron)\n",
    "    - 분석과 비교\n",
    "4. Keras 사용하기"
   ]
  },
  {
   "cell_type": "markdown",
   "metadata": {
    "id": "O9qf0cRbw5y8"
   },
   "source": [
    "<a id=\"Q1\"></a>\n",
    "## 1. 신경망 용어 정의\n",
    "### 1.1 아래에 주어진 신경망 개념에 사용 되는 용어들을 자신만의 언어로 정의해보세요\n",
    "꼭 \"자신의 언어\"로 써보시고, 정리해보고, 요약해보세요 :)"
   ]
  },
  {
   "cell_type": "markdown",
   "metadata": {},
   "source": [
    "- **Neuron:**\n",
    "- **Input Layer:**\n",
    "- **Hidden Layer:**\n",
    "- **Output Layer:**\n",
    "- **Activation Function:**\n",
    "- **Back Propagation:**"
   ]
  },
  {
   "cell_type": "markdown",
   "metadata": {
    "id": "YdcS-Jx2w5y8"
   },
   "source": [
    "### 1.2 역전파 설명해보기\n",
    "이번에는 역전파 (Back Propagation)를 조금 더 디테일하게 설명해보겠습니다. \n",
    "<br> <b>초등학생</b>에게 설명한다는 생각으로 단어들을 선정해 주세요. <i>외부 자료나 이미지를 설명에 활용하셔도 좋습니다</i>."
   ]
  },
  {
   "cell_type": "code",
   "execution_count": null,
   "metadata": {
    "id": "iBZA8EQuw5y8"
   },
   "outputs": [],
   "source": [
    "# 여기에 답변하시고, Cell을 Markdown으로 변경해서 입력하세요."
   ]
  },
  {
   "cell_type": "markdown",
   "metadata": {
    "id": "W7ZSjf9Uw5y8"
   },
   "source": [
    "### 1.3 퍼셉트론 정의해보기\n",
    "신경망 수업 첫날에 들었었던 퍼셉트론의 간단한 개념으로 예측하는 과정을 설명해보세요. <br> <b>입력</b>에서 <b>출력</b>으로 어떻게 변경되는 지 단계별로 설명해보세요."
   ]
  },
  {
   "cell_type": "code",
   "execution_count": 2,
   "metadata": {
    "id": "yaJoCMf1w5y8"
   },
   "outputs": [],
   "source": [
    "# 여기에 답변하시고, Cell을 Markdown으로 변경해서 입력하세요."
   ]
  },
  {
   "cell_type": "markdown",
   "metadata": {
    "id": "1A2h2zpCw5y8"
   },
   "source": [
    "<a id=\"Q2\"></a>\n",
    "## 2. 단순 퍼셉트론\n",
    "\n",
    "이번에는 TensorFlow, keras를 사용하여 두 개의 신경망을 직접 구축한 뒤,\n",
    "<br> 아래 임의로 제공 된 $X, y$를 이용하여 두 모델에 적용한 뒤 결과를 비교해보세요. \n",
    "먼저 사용할 데이터는 다음과 같습니다."
   ]
  },
  {
   "cell_type": "code",
   "execution_count": 3,
   "metadata": {
    "colab": {
     "base_uri": "https://localhost:8080/",
     "height": 282
    },
    "executionInfo": {
     "elapsed": 969,
     "status": "ok",
     "timestamp": 1606814559651,
     "user": {
      "displayName": "Sibaek Seong",
      "photoUrl": "",
      "userId": "03151236595317567383"
     },
     "user_tz": -540
    },
    "id": "TWdXFK9Yw5y8",
    "outputId": "a9a47a44-6fa1-465a-9705-d1dff6b6160c"
   },
   "outputs": [
    {
     "data": {
      "text/plain": [
       "<matplotlib.collections.PathCollection at 0x7fed81d23f60>"
      ]
     },
     "execution_count": 3,
     "metadata": {},
     "output_type": "execute_result"
    },
    {
     "data": {
      "image/png": "[encoded data removed]",
      "text/plain": [
       "<Figure size 432x288 with 1 Axes>"
      ]
     },
     "metadata": {
      "needs_background": "light"
     },
     "output_type": "display_data"
    }
   ],
   "source": [
    "import numpy as np\n",
    "import matplotlib.pyplot as plt\n",
    "\n",
    "xx, yy = np.meshgrid(np.linspace(-3, 3, 50),\n",
    "                     np.linspace(-3, 3, 50))\n",
    "rng = np.random.RandomState(0)\n",
    "\n",
    "\n",
    "\"model1과 model2를 구축할 때 아래의 X & y를 사용하세요\"\n",
    "X = rng.randn(300, 2)\n",
    "y = np.array(np.logical_xor(X[:, 0] > 0, X[:, 1] > 0), \n",
    "             dtype=int)\n",
    "\n",
    "plt.scatter(X[:,0], X[:,1], s=y)\n"
   ]
  },
  {
   "cell_type": "markdown",
   "metadata": {
    "id": "xjr4UoQXw5y8"
   },
   "source": [
    "### 단순 퍼셉트론 구현\n",
    "Keras로 <b>sigmoid activation function</b>을 포함한 dense layer 1개가 있는</b> `model1`을 만들어 학습시키고 `h1`에 저장하세요."
   ]
  },
  {
   "cell_type": "code",
   "execution_count": null,
   "metadata": {
    "colab": {
     "base_uri": "https://localhost:8080/"
    },
    "executionInfo": {
     "elapsed": 1801,
     "status": "ok",
     "timestamp": 1606811383764,
     "user": {
      "displayName": "Sibaek Seong",
      "photoUrl": "",
      "userId": "03151236595317567383"
     },
     "user_tz": -540
    },
    "id": "vKZXIC1ew5y8",
    "outputId": "1e4e4c42-8f36-4672-de49-f18504353bb1"
   },
   "outputs": [
    {
     "name": "stdout",
     "output_type": "stream",
     "text": [
      "Epoch 1/30\n",
      "10/10 [==============================] - 0s 1ms/step - loss: 0.7649 - accuracy: 0.4667\n",
      "Epoch 2/30\n",
      "10/10 [==============================] - 0s 1ms/step - loss: 0.7627 - accuracy: 0.4700\n",
      "Epoch 3/30\n",
      "10/10 [==============================] - 0s 1ms/step - loss: 0.7608 - accuracy: 0.4733\n",
      "Epoch 4/30\n",
      "10/10 [==============================] - 0s 1ms/step - loss: 0.7587 - accuracy: 0.4733\n",
      "Epoch 5/30\n",
      "10/10 [==============================] - 0s 1ms/step - loss: 0.7568 - accuracy: 0.4733\n",
      "Epoch 6/30\n",
      "10/10 [==============================] - 0s 1ms/step - loss: 0.7547 - accuracy: 0.4767\n",
      "Epoch 7/30\n",
      "10/10 [==============================] - 0s 1ms/step - loss: 0.7529 - accuracy: 0.4800\n",
      "Epoch 8/30\n",
      "10/10 [==============================] - 0s 1ms/step - loss: 0.7510 - accuracy: 0.4800\n",
      "Epoch 9/30\n",
      "10/10 [==============================] - 0s 1ms/step - loss: 0.7492 - accuracy: 0.4767\n",
      "Epoch 10/30\n",
      "10/10 [==============================] - 0s 1ms/step - loss: 0.7474 - accuracy: 0.4767\n",
      "Epoch 11/30\n",
      "10/10 [==============================] - 0s 2ms/step - loss: 0.7457 - accuracy: 0.4800\n",
      "Epoch 12/30\n",
      "10/10 [==============================] - 0s 1ms/step - loss: 0.7440 - accuracy: 0.4800\n",
      "Epoch 13/30\n",
      "10/10 [==============================] - 0s 1ms/step - loss: 0.7424 - accuracy: 0.4800\n",
      "Epoch 14/30\n",
      "10/10 [==============================] - 0s 1ms/step - loss: 0.7407 - accuracy: 0.4833\n",
      "Epoch 15/30\n",
      "10/10 [==============================] - 0s 1ms/step - loss: 0.7391 - accuracy: 0.4833\n",
      "Epoch 16/30\n",
      "10/10 [==============================] - 0s 1ms/step - loss: 0.7376 - accuracy: 0.4833\n",
      "Epoch 17/30\n",
      "10/10 [==============================] - 0s 1ms/step - loss: 0.7361 - accuracy: 0.4867\n",
      "Epoch 18/30\n",
      "10/10 [==============================] - 0s 1ms/step - loss: 0.7346 - accuracy: 0.4867\n",
      "Epoch 19/30\n",
      "10/10 [==============================] - 0s 1ms/step - loss: 0.7331 - accuracy: 0.4900\n",
      "Epoch 20/30\n",
      "10/10 [==============================] - 0s 1ms/step - loss: 0.7316 - accuracy: 0.4900\n",
      "Epoch 21/30\n",
      "10/10 [==============================] - 0s 1ms/step - loss: 0.7303 - accuracy: 0.4933\n",
      "Epoch 22/30\n",
      "10/10 [==============================] - 0s 2ms/step - loss: 0.7289 - accuracy: 0.5000\n",
      "Epoch 23/30\n",
      "10/10 [==============================] - 0s 1ms/step - loss: 0.7276 - accuracy: 0.5033\n",
      "Epoch 24/30\n",
      "10/10 [==============================] - 0s 2ms/step - loss: 0.7263 - accuracy: 0.5133\n",
      "Epoch 25/30\n",
      "10/10 [==============================] - 0s 1ms/step - loss: 0.7252 - accuracy: 0.5133\n",
      "Epoch 26/30\n",
      "10/10 [==============================] - 0s 1ms/step - loss: 0.7239 - accuracy: 0.5167\n",
      "Epoch 27/30\n",
      "10/10 [==============================] - 0s 1ms/step - loss: 0.7226 - accuracy: 0.5233\n",
      "Epoch 28/30\n",
      "10/10 [==============================] - 0s 1ms/step - loss: 0.7215 - accuracy: 0.5200\n",
      "Epoch 29/30\n",
      "10/10 [==============================] - 0s 1ms/step - loss: 0.7203 - accuracy: 0.5267\n",
      "Epoch 30/30\n",
      "10/10 [==============================] - 0s 1ms/step - loss: 0.7192 - accuracy: 0.5300\n"
     ]
    }
   ],
   "source": [
    "model1 = ...\n",
    "\n",
    "h1 = model1.fit(...)"
   ]
  },
  {
   "cell_type": "markdown",
   "metadata": {
    "id": "0Ugkziwew5y8"
   },
   "source": [
    "\n",
    "### Multi-Layer Perceptron (MLP)\n",
    "이번에는 여러층의 레이어들을 쌓은 MLP 모델을 만들어보겠습니다. 아래는 간략한 가이드입니다 :\n",
    "- 2개의 은닉층 (출력 수를 맞추는 것까지 3개의 Dense를 사용할 것은 추천)\n",
    "- 노드의 개수는 8-32개 내에서 변경해서 사용해보세요.\n",
    "- Activation function과 optimizer는 이번 주에 배운 것들 중에서 자유롭게 골라보세요.\n",
    "- 아래 만들어진 Callback function을 모델에 통합해서 사용하세요\n",
    "\n",
    "MLP로 만들어진 `model2` 를 만들어 학습하고 `h2`에 저장하세요."
   ]
  },
  {
   "cell_type": "code",
   "execution_count": null,
   "metadata": {
    "id": "6BoIn7iBw5y8"
   },
   "outputs": [],
   "source": [
    "import tensorflow as tf\n",
    "\n",
    "class myCallback(tf.keras.callbacks.Callback): \n",
    "    def on_epoch_end(self, epoch, logs={}): \n",
    "        if(logs.get('accuracy') > .90):   \n",
    "            self.model.stop_training = True"
   ]
  },
  {
   "cell_type": "code",
   "execution_count": null,
   "metadata": {
    "colab": {
     "base_uri": "https://localhost:8080/"
    },
    "executionInfo": {
     "elapsed": 2946,
     "status": "ok",
     "timestamp": 1606815133476,
     "user": {
      "displayName": "Sibaek Seong",
      "photoUrl": "",
      "userId": "03151236595317567383"
     },
     "user_tz": -540
    },
    "id": "B63dciqEw5y8",
    "outputId": "b4eb4f8f-8715-4b29-869e-21a4e6911289"
   },
   "outputs": [
    {
     "name": "stdout",
     "output_type": "stream",
     "text": [
      "Epoch 1/50\n",
      "8/8 [==============================] - 0s 16ms/step - loss: 2.7721 - accuracy: 0.5208 - val_loss: 1.4926 - val_accuracy: 0.5833\n",
      "Epoch 2/50\n",
      "8/8 [==============================] - 0s 3ms/step - loss: 1.2109 - accuracy: 0.5458 - val_loss: 0.8048 - val_accuracy: 0.6333\n",
      "Epoch 3/50\n",
      "8/8 [==============================] - 0s 3ms/step - loss: 0.8018 - accuracy: 0.5917 - val_loss: 0.7037 - val_accuracy: 0.6667\n",
      "Epoch 4/50\n",
      "8/8 [==============================] - 0s 3ms/step - loss: 0.7060 - accuracy: 0.6250 - val_loss: 0.6449 - val_accuracy: 0.6833\n",
      "Epoch 5/50\n",
      "8/8 [==============================] - 0s 3ms/step - loss: 0.6488 - accuracy: 0.6667 - val_loss: 0.5952 - val_accuracy: 0.7167\n",
      "Epoch 6/50\n",
      "8/8 [==============================] - 0s 3ms/step - loss: 0.5997 - accuracy: 0.6833 - val_loss: 0.5539 - val_accuracy: 0.7500\n",
      "Epoch 7/50\n",
      "8/8 [==============================] - 0s 3ms/step - loss: 0.5560 - accuracy: 0.7042 - val_loss: 0.5233 - val_accuracy: 0.7667\n",
      "Epoch 8/50\n",
      "8/8 [==============================] - 0s 4ms/step - loss: 0.5269 - accuracy: 0.7125 - val_loss: 0.4967 - val_accuracy: 0.7667\n",
      "Epoch 9/50\n",
      "8/8 [==============================] - 0s 3ms/step - loss: 0.4945 - accuracy: 0.7208 - val_loss: 0.4732 - val_accuracy: 0.7667\n",
      "Epoch 10/50\n",
      "8/8 [==============================] - 0s 3ms/step - loss: 0.4680 - accuracy: 0.7292 - val_loss: 0.4515 - val_accuracy: 0.7833\n",
      "Epoch 11/50\n",
      "8/8 [==============================] - 0s 3ms/step - loss: 0.4424 - accuracy: 0.7458 - val_loss: 0.4317 - val_accuracy: 0.8000\n",
      "Epoch 12/50\n",
      "8/8 [==============================] - 0s 3ms/step - loss: 0.4192 - accuracy: 0.7667 - val_loss: 0.4138 - val_accuracy: 0.8167\n",
      "Epoch 13/50\n",
      "8/8 [==============================] - 0s 3ms/step - loss: 0.3984 - accuracy: 0.7750 - val_loss: 0.3968 - val_accuracy: 0.8167\n",
      "Epoch 14/50\n",
      "8/8 [==============================] - 0s 3ms/step - loss: 0.3781 - accuracy: 0.7875 - val_loss: 0.3805 - val_accuracy: 0.8167\n",
      "Epoch 15/50\n",
      "8/8 [==============================] - 0s 3ms/step - loss: 0.3604 - accuracy: 0.7917 - val_loss: 0.3653 - val_accuracy: 0.8167\n",
      "Epoch 16/50\n",
      "8/8 [==============================] - 0s 3ms/step - loss: 0.3433 - accuracy: 0.8042 - val_loss: 0.3517 - val_accuracy: 0.8333\n",
      "Epoch 17/50\n",
      "8/8 [==============================] - 0s 3ms/step - loss: 0.3285 - accuracy: 0.8083 - val_loss: 0.3382 - val_accuracy: 0.8333\n",
      "Epoch 18/50\n",
      "8/8 [==============================] - 0s 3ms/step - loss: 0.3141 - accuracy: 0.8250 - val_loss: 0.3266 - val_accuracy: 0.8500\n",
      "Epoch 19/50\n",
      "8/8 [==============================] - 0s 4ms/step - loss: 0.3021 - accuracy: 0.8375 - val_loss: 0.3147 - val_accuracy: 0.8500\n",
      "Epoch 20/50\n",
      "8/8 [==============================] - 0s 3ms/step - loss: 0.2898 - accuracy: 0.8542 - val_loss: 0.3041 - val_accuracy: 0.8500\n",
      "Epoch 21/50\n",
      "8/8 [==============================] - 0s 3ms/step - loss: 0.2795 - accuracy: 0.8625 - val_loss: 0.2941 - val_accuracy: 0.8667\n",
      "Epoch 22/50\n",
      "8/8 [==============================] - 0s 3ms/step - loss: 0.2692 - accuracy: 0.8708 - val_loss: 0.2847 - val_accuracy: 0.8667\n",
      "Epoch 23/50\n",
      "8/8 [==============================] - 0s 3ms/step - loss: 0.2595 - accuracy: 0.8708 - val_loss: 0.2755 - val_accuracy: 0.8833\n",
      "Epoch 24/50\n",
      "8/8 [==============================] - 0s 3ms/step - loss: 0.2504 - accuracy: 0.8708 - val_loss: 0.2664 - val_accuracy: 0.8833\n",
      "Epoch 25/50\n",
      "8/8 [==============================] - 0s 4ms/step - loss: 0.2415 - accuracy: 0.8750 - val_loss: 0.2591 - val_accuracy: 0.9000\n",
      "Epoch 26/50\n",
      "8/8 [==============================] - 0s 3ms/step - loss: 0.2335 - accuracy: 0.8833 - val_loss: 0.2524 - val_accuracy: 0.9167\n",
      "Epoch 27/50\n",
      "8/8 [==============================] - 0s 3ms/step - loss: 0.2254 - accuracy: 0.8958 - val_loss: 0.2453 - val_accuracy: 0.9167\n",
      "Epoch 28/50\n",
      "8/8 [==============================] - 0s 3ms/step - loss: 0.2185 - accuracy: 0.9000 - val_loss: 0.2392 - val_accuracy: 0.9333\n",
      "Epoch 29/50\n",
      "8/8 [==============================] - 0s 3ms/step - loss: 0.2124 - accuracy: 0.9083 - val_loss: 0.2330 - val_accuracy: 0.9333\n"
     ]
    }
   ],
   "source": [
    "model2 = ...\n",
    "\n",
    "h2 = model2.fit(...)"
   ]
  },
  {
   "cell_type": "markdown",
   "metadata": {
    "id": "xn2TsE76w5y8"
   },
   "source": [
    "### Analyze and Compare\n",
    "\n",
    "코드를 시작하기 전에 추가 라이브러리를 설치해야 합니다. 스프린트 과제에 사용 중인 환경에 패키지 `mlxtend`를 설치합니다. 설치코드를 직접 제작해보세요. 기존 자료들을 참고하면 쉽게 설치할 수 있을 것입니다. \n",
    "\n",
    "아래 셀은 모형의 의사결정 경계도(\"model1\" 및 \"model2\")를 생성합니다. 그림을 검토합니다."
   ]
  },
  {
   "cell_type": "code",
   "execution_count": null,
   "metadata": {
    "colab": {
     "base_uri": "https://localhost:8080/"
    },
    "executionInfo": {
     "elapsed": 4525,
     "status": "ok",
     "timestamp": 1606811366724,
     "user": {
      "displayName": "Sibaek Seong",
      "photoUrl": "",
      "userId": "03151236595317567383"
     },
     "user_tz": -540
    },
    "id": "96hsbGktVlgL",
    "outputId": "ec07b01d-ba1e-4d52-fd12-a98e2b0a3240"
   },
   "outputs": [
    {
     "name": "stdout",
     "output_type": "stream",
     "text": [
      "Requirement already satisfied: mlxtend in /usr/local/lib/python3.6/dist-packages (0.14.0)\n",
      "Requirement already satisfied: setuptools in /usr/local/lib/python3.6/dist-packages (from mlxtend) (50.3.2)\n",
      "Requirement already satisfied: scipy>=0.17 in /usr/local/lib/python3.6/dist-packages (from mlxtend) (1.4.1)\n",
      "Requirement already satisfied: numpy>=1.10.4 in /usr/local/lib/python3.6/dist-packages (from mlxtend) (1.18.5)\n",
      "Requirement already satisfied: pandas>=0.17.1 in /usr/local/lib/python3.6/dist-packages (from mlxtend) (1.1.4)\n",
      "Requirement already satisfied: scikit-learn>=0.18 in /usr/local/lib/python3.6/dist-packages (from mlxtend) (0.22.2.post1)\n",
      "Requirement already satisfied: matplotlib>=1.5.1 in /usr/local/lib/python3.6/dist-packages (from mlxtend) (3.2.2)\n",
      "Requirement already satisfied: python-dateutil>=2.7.3 in /usr/local/lib/python3.6/dist-packages (from pandas>=0.17.1->mlxtend) (2.8.1)\n",
      "Requirement already satisfied: pytz>=2017.2 in /usr/local/lib/python3.6/dist-packages (from pandas>=0.17.1->mlxtend) (2018.9)\n",
      "Requirement already satisfied: joblib>=0.11 in /usr/local/lib/python3.6/dist-packages (from scikit-learn>=0.18->mlxtend) (0.17.0)\n",
      "Requirement already satisfied: pyparsing!=2.0.4,!=2.1.2,!=2.1.6,>=2.0.1 in /usr/local/lib/python3.6/dist-packages (from matplotlib>=1.5.1->mlxtend) (2.4.7)\n",
      "Requirement already satisfied: cycler>=0.10 in /usr/local/lib/python3.6/dist-packages (from matplotlib>=1.5.1->mlxtend) (0.10.0)\n",
      "Requirement already satisfied: kiwisolver>=1.0.1 in /usr/local/lib/python3.6/dist-packages (from matplotlib>=1.5.1->mlxtend) (1.3.1)\n",
      "Requirement already satisfied: six>=1.5 in /usr/local/lib/python3.6/dist-packages (from python-dateutil>=2.7.3->pandas>=0.17.1->mlxtend) (1.15.0)\n"
     ]
    }
   ],
   "source": [
    "# mlxtend 라이브러리를 설치합니다\n",
    "!pip install mlxtend"
   ]
  },
  {
   "cell_type": "code",
   "execution_count": null,
   "metadata": {
    "colab": {
     "base_uri": "https://localhost:8080/",
     "height": 444
    },
    "executionInfo": {
     "elapsed": 12671,
     "status": "ok",
     "timestamp": 1606814720886,
     "user": {
      "displayName": "Sibaek Seong",
      "photoUrl": "",
      "userId": "03151236595317567383"
     },
     "user_tz": -540
    },
    "id": "ox13rgjTw5y8",
    "outputId": "032e683d-eebc-4b43-8e19-9156158f76f7"
   },
   "outputs": [
    {
     "name": "stderr",
     "output_type": "stream",
     "text": [
      "/usr/local/lib/python3.6/dist-packages/mlxtend/plotting/decision_regions.py:244: MatplotlibDeprecationWarning: Passing unsupported keyword arguments to axis() will raise a TypeError in 3.3.\n",
      "  ax.axis(xmin=xx.min(), xmax=xx.max(), y_min=yy.min(), y_max=yy.max())\n"
     ]
    },
    {
     "data": {
      "image/png": "[encoded data removed]",
      "text/plain": [
       "<Figure size 864x432 with 2 Axes>"
      ]
     },
     "metadata": {
      "needs_background": "light",
      "tags": []
     },
     "output_type": "display_data"
    }
   ],
   "source": [
    "# 이 셀의 코드는 변경하지 마세요\n",
    "\n",
    "import matplotlib.pyplot as plt\n",
    "from mlxtend.plotting import plot_decision_regions\n",
    "\n",
    "h = .02  # step size in the mesh\n",
    "\n",
    "# create a mesh to plot in\n",
    "x_min, x_max = X[:, 0].min() - .2, X[:, 0].max() + .2\n",
    "y_min, y_max = X[:, 1].min() - .2, X[:, 1].max() + .2\n",
    "xx, yy = np.meshgrid(np.arange(x_min, x_max, h),\n",
    "                     np.arange(y_min, y_max, h))\n",
    "\n",
    "fig = plt.figure(figsize=(12,6))\n",
    "\n",
    "\n",
    "for clf, hist, name, grd in zip([model1,model2], [h1, h2],['Perceptron', 'Multi-Layer Perceptron'],[1,2]):\n",
    "\n",
    "    ax = plt.subplot(1,2, grd)\n",
    "    fig = plot_decision_regions(X=X, y=y, clf=clf, legend=2)\n",
    "    title = f\"{name} with {hist.history['accuracy'][-1]:,.2f} Accuracy\"\n",
    "    plt.title(title)\n",
    "\n",
    "plt.show()"
   ]
  },
  {
   "cell_type": "markdown",
   "metadata": {
    "id": "4qBWszwMw5y8"
   },
   "source": [
    "#### 대부분의 Perceptron(\"model1\")의 정확도가 50-70% 정도로 나오실 것인데요, 왜 그것밖에 되지 않을까요? <br> 데이터 X와 레이블 y의 관계를 보다 정확하게 학습할 수 있는 다층 퍼셉트론의 구조적인 특징은 무엇일까요? (설명을 하실 때 우리가 배웠었던 특징 추출의 관점에서 설명을 해보시길 바랍니다.)"
   ]
  },
  {
   "cell_type": "code",
   "execution_count": null,
   "metadata": {
    "id": "d9-bIuHnw5y8"
   },
   "outputs": [],
   "source": [
    "# 여기에 답변하시고, Cell을 Markdown으로 변경해서 입력하세요."
   ]
  },
  {
   "cell_type": "markdown",
   "metadata": {
    "id": "FYEPmr-_w5y8"
   },
   "source": [
    "## 3. Keras MLP 튜닝\n",
    "\n",
    "이번에는 Keras 라이브러리를 사용하여 선택한 MultiLayer Perceptron(MLP) 아키텍처를 구현해보겠습니다. 극히 단순한 모델부터 복잡한 모델까지 만들어 보실 수 있습니다. 모델을 학습하고 정확도를 구해보세요. \n",
    "<br> 그런 다음 최소 <b>두 개</b>의 파라미터를 튜닝한 후에 다시 모형의 정확도를 구해보고 이전 모델과 비교해보세요. \n",
    "<br> 아래 Cell에서 심장병 데이터 세트를 불러 온 후 이진 분류 모델 (binary classification model) 을 만들어 보세요. 이진 분류 작업에 적절한 손실 함수를 사용하고, 신경망의 마지막 계층에서 적절한 출력값과 활성화 함수를 사용합니다. \n",
    "<br> 세부적인 출력을 사용하여 빠르게 수렴할 수 있도록 모델을 학습해보는 것도 중요합니다. GridSearchCV 또는 RandomSearchCV를 사용하여 모델을 하이퍼 파라미터들을 튜닝해봅니다. (최소 두 개의 하이퍼 파라미터를 튜닝해봅니다) 하이퍼 파라미터 튜닝 시 새로운 각 실험에 대해 코드 셀을 추가하여 작업하는 방법을 배워보았는데, 그대로 이용하지 말고 변형을 해서 보여주고 싶은 내용을 정리해서 보여주세요.  \n",
    "<br> 테스트할 때 하이퍼 파라미터의 각 조합에 대한 정확도를 보고하여 가장 높은 정확도를 얻을 수 있는 결과를 쉽게 확인할 수 있도록 합니다. \n",
    "<br> 이 SC에서 **3점**을 얻으려면 **최소 3개의 파라미터**를 조정해야 합니다.\n",
    "\n",
    "- BatchNormalization을 레이어에 추가하면 성능이 많이 오를 수 있습니다. \n",
    "- 하지만 BatchNormalization을 사용하기 위해서는 Batch_size 옵션을 추가해야 합니다."
   ]
  },
  {
   "cell_type": "code",
   "execution_count": 4,
   "metadata": {
    "colab": {
     "base_uri": "https://localhost:8080/",
     "height": 241
    },
    "executionInfo": {
     "elapsed": 1273,
     "status": "ok",
     "timestamp": 1606812830957,
     "user": {
      "displayName": "Sibaek Seong",
      "photoUrl": "",
      "userId": "03151236595317567383"
     },
     "user_tz": -540
    },
    "id": "F35sgQ7Cw5y8",
    "inputHidden": false,
    "jupyter": {
     "outputs_hidden": false
    },
    "outputHidden": false,
    "outputId": "2b829169-7019-4b19-ff43-521dbd381e28"
   },
   "outputs": [
    {
     "name": "stdout",
     "output_type": "stream",
     "text": [
      "(303, 14)\n"
     ]
    },
    {
     "data": {
      "text/html": [
       "<div>\n",
       "<style scoped>\n",
       "    .dataframe tbody tr th:only-of-type {\n",
       "        vertical-align: middle;\n",
       "    }\n",
       "\n",
       "    .dataframe tbody tr th {\n",
       "        vertical-align: top;\n",
       "    }\n",
       "\n",
       "    .dataframe thead th {\n",
       "        text-align: right;\n",
       "    }\n",
       "</style>\n",
       "<table border=\"1\" class=\"dataframe\">\n",
       "  <thead>\n",
       "    <tr style=\"text-align: right;\">\n",
       "      <th></th>\n",
       "      <th>age</th>\n",
       "      <th>sex</th>\n",
       "      <th>cp</th>\n",
       "      <th>trestbps</th>\n",
       "      <th>chol</th>\n",
       "      <th>fbs</th>\n",
       "      <th>restecg</th>\n",
       "      <th>thalach</th>\n",
       "      <th>exang</th>\n",
       "      <th>oldpeak</th>\n",
       "      <th>slope</th>\n",
       "      <th>ca</th>\n",
       "      <th>thal</th>\n",
       "      <th>target</th>\n",
       "    </tr>\n",
       "  </thead>\n",
       "  <tbody>\n",
       "    <tr>\n",
       "      <th>123</th>\n",
       "      <td>54</td>\n",
       "      <td>0</td>\n",
       "      <td>2</td>\n",
       "      <td>108</td>\n",
       "      <td>267</td>\n",
       "      <td>0</td>\n",
       "      <td>0</td>\n",
       "      <td>167</td>\n",
       "      <td>0</td>\n",
       "      <td>0.0</td>\n",
       "      <td>2</td>\n",
       "      <td>0</td>\n",
       "      <td>2</td>\n",
       "      <td>1</td>\n",
       "    </tr>\n",
       "    <tr>\n",
       "      <th>274</th>\n",
       "      <td>47</td>\n",
       "      <td>1</td>\n",
       "      <td>0</td>\n",
       "      <td>110</td>\n",
       "      <td>275</td>\n",
       "      <td>0</td>\n",
       "      <td>0</td>\n",
       "      <td>118</td>\n",
       "      <td>1</td>\n",
       "      <td>1.0</td>\n",
       "      <td>1</td>\n",
       "      <td>1</td>\n",
       "      <td>2</td>\n",
       "      <td>0</td>\n",
       "    </tr>\n",
       "    <tr>\n",
       "      <th>179</th>\n",
       "      <td>57</td>\n",
       "      <td>1</td>\n",
       "      <td>0</td>\n",
       "      <td>150</td>\n",
       "      <td>276</td>\n",
       "      <td>0</td>\n",
       "      <td>0</td>\n",
       "      <td>112</td>\n",
       "      <td>1</td>\n",
       "      <td>0.6</td>\n",
       "      <td>1</td>\n",
       "      <td>1</td>\n",
       "      <td>1</td>\n",
       "      <td>0</td>\n",
       "    </tr>\n",
       "    <tr>\n",
       "      <th>245</th>\n",
       "      <td>48</td>\n",
       "      <td>1</td>\n",
       "      <td>0</td>\n",
       "      <td>124</td>\n",
       "      <td>274</td>\n",
       "      <td>0</td>\n",
       "      <td>0</td>\n",
       "      <td>166</td>\n",
       "      <td>0</td>\n",
       "      <td>0.5</td>\n",
       "      <td>1</td>\n",
       "      <td>0</td>\n",
       "      <td>3</td>\n",
       "      <td>0</td>\n",
       "    </tr>\n",
       "    <tr>\n",
       "      <th>232</th>\n",
       "      <td>55</td>\n",
       "      <td>1</td>\n",
       "      <td>0</td>\n",
       "      <td>160</td>\n",
       "      <td>289</td>\n",
       "      <td>0</td>\n",
       "      <td>0</td>\n",
       "      <td>145</td>\n",
       "      <td>1</td>\n",
       "      <td>0.8</td>\n",
       "      <td>1</td>\n",
       "      <td>1</td>\n",
       "      <td>3</td>\n",
       "      <td>0</td>\n",
       "    </tr>\n",
       "  </tbody>\n",
       "</table>\n",
       "</div>"
      ],
      "text/plain": [
       "     age  sex  cp  trestbps  chol  fbs  restecg  thalach  exang  oldpeak  \\\n",
       "123   54    0   2       108   267    0        0      167      0      0.0   \n",
       "274   47    1   0       110   275    0        0      118      1      1.0   \n",
       "179   57    1   0       150   276    0        0      112      1      0.6   \n",
       "245   48    1   0       124   274    0        0      166      0      0.5   \n",
       "232   55    1   0       160   289    0        0      145      1      0.8   \n",
       "\n",
       "     slope  ca  thal  target  \n",
       "123      2   0     2       1  \n",
       "274      1   1     2       0  \n",
       "179      1   1     1       0  \n",
       "245      1   0     3       0  \n",
       "232      1   1     3       0  "
      ]
     },
     "execution_count": 4,
     "metadata": {},
     "output_type": "execute_result"
    }
   ],
   "source": [
    "import pandas as pd\n",
    "from sklearn.preprocessing import StandardScaler\n",
    "\n",
    "df = pd.read_csv('https://ds-lecture-data.s3.ap-northeast-2.amazonaws.com/datasets/heart.csv')\n",
    "df = df.sample(frac=1)\n",
    "print(df.shape)\n",
    "df.head()\n"
   ]
  },
  {
   "cell_type": "code",
   "execution_count": null,
   "metadata": {
    "colab": {
     "base_uri": "https://localhost:8080/"
    },
    "executionInfo": {
     "elapsed": 1273,
     "status": "ok",
     "timestamp": 1606812832203,
     "user": {
      "displayName": "Sibaek Seong",
      "photoUrl": "",
      "userId": "03151236595317567383"
     },
     "user_tz": -540
    },
    "id": "mDeM_1iEw5y9",
    "outputId": "8ab3314a-a819-4266-fb35-79bea646afb9"
   },
   "outputs": [
    {
     "name": "stdout",
     "output_type": "stream",
     "text": [
      "     age  sex  cp  trestbps  chol  ...  exang  oldpeak  slope  ca  thal\n",
      "212   39    1   0       118   219  ...      0      1.2      1   0     3\n",
      "46    44    1   2       140   235  ...      0      0.0      2   0     2\n",
      "217   63    1   0       130   330  ...      1      1.8      2   3     3\n",
      "93    54    0   1       132   288  ...      1      0.0      2   1     2\n",
      "39    65    0   2       160   360  ...      0      0.8      2   0     2\n",
      "\n",
      "[5 rows x 13 columns]\n",
      "212    0\n",
      "46     1\n",
      "217    0\n",
      "93     1\n",
      "39     1\n",
      "Name: target, dtype: int64\n"
     ]
    }
   ],
   "source": [
    "# 이 곳에 답안을 작성하시기 바랍니다"
   ]
  },
  {
   "cell_type": "code",
   "execution_count": null,
   "metadata": {
    "colab": {
     "base_uri": "https://localhost:8080/"
    },
    "executionInfo": {
     "elapsed": 2462,
     "status": "ok",
     "timestamp": 1606814788399,
     "user": {
      "displayName": "Sibaek Seong",
      "photoUrl": "",
      "userId": "03151236595317567383"
     },
     "user_tz": -540
    },
    "id": "xUDHLAhId4W8",
    "outputId": "16c052e3-7507-40ea-df42-e095f5cc364c"
   },
   "outputs": [
    {
     "name": "stdout",
     "output_type": "stream",
     "text": [
      "Epoch 1/200\n",
      "8/8 [==============================] - 0s 18ms/step - loss: 0.4335 - accuracy: 0.7833 - val_loss: 0.2423 - val_accuracy: 0.9667\n",
      "Epoch 2/200\n",
      "8/8 [==============================] - 0s 4ms/step - loss: 0.1616 - accuracy: 0.9583 - val_loss: 0.1773 - val_accuracy: 0.9500\n",
      "Epoch 3/200\n",
      "8/8 [==============================] - 0s 4ms/step - loss: 0.1419 - accuracy: 0.9417 - val_loss: 0.1302 - val_accuracy: 0.9667\n",
      "Epoch 4/200\n",
      "8/8 [==============================] - 0s 4ms/step - loss: 0.1753 - accuracy: 0.9292 - val_loss: 0.1447 - val_accuracy: 0.9167\n",
      "Epoch 5/200\n",
      "8/8 [==============================] - 0s 4ms/step - loss: 0.1736 - accuracy: 0.9208 - val_loss: 0.1426 - val_accuracy: 0.9833\n",
      "Epoch 6/200\n",
      "8/8 [==============================] - 0s 4ms/step - loss: 0.1953 - accuracy: 0.9375 - val_loss: 0.1006 - val_accuracy: 1.0000\n",
      "Epoch 7/200\n",
      "8/8 [==============================] - 0s 4ms/step - loss: 0.1099 - accuracy: 0.9583 - val_loss: 0.1043 - val_accuracy: 0.9667\n",
      "Epoch 8/200\n",
      "8/8 [==============================] - 0s 3ms/step - loss: 0.1404 - accuracy: 0.9542 - val_loss: 0.0910 - val_accuracy: 0.9833\n",
      "Epoch 9/200\n",
      "8/8 [==============================] - 0s 4ms/step - loss: 0.2184 - accuracy: 0.9250 - val_loss: 0.1396 - val_accuracy: 0.9667\n",
      "Epoch 10/200\n",
      "8/8 [==============================] - 0s 4ms/step - loss: 0.0926 - accuracy: 0.9750 - val_loss: 0.1287 - val_accuracy: 0.9833\n",
      "Epoch 11/200\n",
      "8/8 [==============================] - 0s 4ms/step - loss: 0.1615 - accuracy: 0.9292 - val_loss: 0.0836 - val_accuracy: 0.9833\n",
      "Epoch 12/200\n",
      "8/8 [==============================] - 0s 4ms/step - loss: 0.1524 - accuracy: 0.9292 - val_loss: 0.0852 - val_accuracy: 1.0000\n",
      "Epoch 13/200\n",
      "8/8 [==============================] - 0s 4ms/step - loss: 0.1236 - accuracy: 0.9542 - val_loss: 0.0894 - val_accuracy: 0.9833\n",
      "Epoch 14/200\n",
      "8/8 [==============================] - 0s 4ms/step - loss: 0.1270 - accuracy: 0.9542 - val_loss: 0.1026 - val_accuracy: 0.9667\n",
      "Epoch 15/200\n",
      "8/8 [==============================] - 0s 4ms/step - loss: 0.1172 - accuracy: 0.9583 - val_loss: 0.0851 - val_accuracy: 0.9833\n",
      "Epoch 16/200\n",
      "8/8 [==============================] - 0s 3ms/step - loss: 0.1418 - accuracy: 0.9458 - val_loss: 0.0945 - val_accuracy: 0.9667\n",
      "Epoch 17/200\n",
      "8/8 [==============================] - 0s 4ms/step - loss: 0.1451 - accuracy: 0.9542 - val_loss: 0.1055 - val_accuracy: 0.9833\n",
      "Epoch 18/200\n",
      "8/8 [==============================] - 0s 4ms/step - loss: 0.0957 - accuracy: 0.9625 - val_loss: 0.1003 - val_accuracy: 0.9667\n",
      "Epoch 19/200\n",
      "8/8 [==============================] - 0s 4ms/step - loss: 0.1246 - accuracy: 0.9500 - val_loss: 0.0714 - val_accuracy: 1.0000\n",
      "Epoch 20/200\n",
      "8/8 [==============================] - 0s 3ms/step - loss: 0.0918 - accuracy: 0.9500 - val_loss: 0.0796 - val_accuracy: 0.9833\n",
      "Epoch 21/200\n",
      "8/8 [==============================] - 0s 4ms/step - loss: 0.0940 - accuracy: 0.9625 - val_loss: 0.0764 - val_accuracy: 0.9833\n",
      "Epoch 00021: early stopping\n"
     ]
    }
   ],
   "source": []
  }
 ],
 "metadata": {
  "colab": {
   "name": "ds-cs-N425-Sprint_Challenge.ipynb",
   "provenance": []
  },
  "kernelspec": {
   "display_name": "Python 3",
   "language": "python",
   "name": "python3"
  },
  "language_info": {
   "codemirror_mode": {
    "name": "ipython",
    "version": 3
   },
   "file_extension": ".py",
   "mimetype": "text/x-python",
   "name": "python",
   "nbconvert_exporter": "python",
   "pygments_lexer": "ipython3",
   "version": "3.9.4"
  },
  "nteract": {
   "version": "0.23.3"
  }
 },
 "nbformat": 4,
 "nbformat_minor": 4
}
