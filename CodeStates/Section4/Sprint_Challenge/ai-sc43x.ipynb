{
 "cells": [
  {
   "cell_type": "markdown",
   "metadata": {
    "colab_type": "text",
    "id": "view-in-github"
   },
   "source": [
    "<a href=\"https://colab.research.google.com/github/codestates/ds-cs-section4-sprint3/blob/main/sc43x_forStudents.ipynb\" target=\"_parent\"><img src=\"https://colab.research.google.com/assets/colab-badge.svg\" alt=\"Open In Colab\"/></a>"
   ]
  },
  {
   "cell_type": "markdown",
   "metadata": {
    "id": "hNTnmwgAOc-H"
   },
   "source": [
    "## *SC43x*\n",
    "# Major Neural Network Architectures\n",
    "\n",
    "이번 스프린트 챌린지에서는 데이터 사이언스 분야에서 인지도가 높은 안정된 기술들을 다뤄보게 됩니다. 이번 한 주간 CNN, RNN, LSTM, Autoencoder, GAN 등 다양한 주요 신경망 구조들에 대해서 배워봤습니다. 오늘은 그 모델들을 복습하는 시간을 가지도록 하겠습니다. 이 SC는 **신경망 구조에 대한 이해와 지식**을 평가합니다. 높은 정확도를 가진 모델을 학습 시킬 수 있는지를 평가하려는 것이 아닙니다.\n",
    "\n",
    "__*주의:*__  아래의 방식들은 복잡한 연산을 요구합니다. 모든 파트의 문제들은 어떤 환경에서라도 (e.g. 로컬 주피터, Google Colab, etc.) **5-10분 내외**로 결과값이 나오도록 제작이 됐기 때문에 만일 결과값을 도출하는데 그 이상의 시간이 걸린다면 여러분의 접근 방식을 재점검해보시기 바랍니다.\n",
    "\n",
    "## 목차\n",
    "* <a href=\"#p1\">Part 1</a>: LSTM\n",
    "* <a href=\"#p2\">Part 2</a>: CNN\n",
    "* <a href=\"#p3\">Part 3</a>: Autoencoder\n",
    "* <a href=\"#p4\">Part 4</a>: Free Response"
   ]
  },
  {
   "cell_type": "markdown",
   "metadata": {
    "id": "-5UwGRnJOmD4"
   },
   "source": [
    "<a id=\"p1\"></a>\n",
    "## Part 1. LSTM\n",
    "> LSTM을 활용해서 로이터 신문 기사를 주제별로 분류하는 다중분류 모델을 학습하세요. 데이터는 이미 LSTM 모델에 사용 될 수 있도록 적절하게 인코딩이 완료 됐습니다. \n",
    "\n",
    "수업에서 활용했었던 LSTM과 [Keras IMDB sentiment classification](https://www.tensorflow.org/api_docs/python/tf/keras/datasets/reuters/load_data)를 참고해서 문제를 푸신다면 도움이 되실 것입니다.\n",
    "\n",
    "__*주의:*__  모델의 성능을 최대한 끌어올리는 것이 아닌 모델 구동에 초점을 맞춰주시길 바랍니다. 모든 문제를 완료 한 후에도 \"시간이 남았다면\" 정확도를 올리는 것에 도전하시는 것을 추천 합니다."
   ]
  },
  {
   "cell_type": "markdown",
   "metadata": {
    "id": "TEzXzuHOOb6f"
   },
   "source": [
    "### 1.1 Keras를 활용해서 분류 예측 모델을 학습 후, 기사들을 주제별로 분류하세요"
   ]
  },
  {
   "cell_type": "code",
   "execution_count": 18,
   "metadata": {
    "id": "DS-9ksWjoJit"
   },
   "outputs": [],
   "source": [
    "# 데이터셋을 불러옵니다\n",
    "from tensorflow.keras.datasets import reuters\n",
    "\n",
    "(X_train, y_train), (X_test, y_test) = reuters.load_data(num_words=None,\n",
    "                                                         skip_top=0,\n",
    "                                                         maxlen=None,\n",
    "                                                         test_split=0.2,\n",
    "                                                         seed=202012,\n",
    "                                                         start_char=1,\n",
    "                                                         oov_char=2,\n",
    "                                                         index_from=3)"
   ]
  },
  {
   "cell_type": "code",
   "execution_count": 19,
   "metadata": {
    "colab": {
     "base_uri": "https://localhost:8080/"
    },
    "id": "fLKqFh8DovaN",
    "outputId": "be04ee4e-209c-4684-dbdf-3b49eb7273b8"
   },
   "outputs": [
    {
     "name": "stdout",
     "output_type": "stream",
     "text": [
      "Iran is encoded as 779 in the data\n",
      "London is encoded as 544 in the data\n",
      "Words are encoded as numbers in our dataset.\n"
     ]
    }
   ],
   "source": [
    "# 인코딩 확인\n",
    "word_index = reuters.g et_word_index(path=\"reuters_word_index.json\")\n",
    "\n",
    "print(f\"Iran is encoded as {word_index['iran']} in the data\")\n",
    "print(f\"London is encoded as {word_index['london']} in the data\")\n",
    "print(\"Words are encoded as numbers in our dataset.\")"
   ]
  },
  {
   "cell_type": "code",
   "execution_count": 60,
   "metadata": {
    "colab": {
     "base_uri": "https://localhost:8080/"
    },
    "id": "KPv6FI-Re8of",
    "outputId": "dc007d7b-87ad-4ce4-fa20-70234ce0b034"
   },
   "outputs": [
    {
     "name": "stdout",
     "output_type": "stream",
     "text": [
      "{0, 1, 2, 3, 4, 5, 6, 7, 8, 9, 10, 11, 12, 13, 14, 15, 16, 17, 18, 19, 20, 21, 22, 23, 24, 25, 26, 27, 28, 29, 30, 31, 32, 34, 35, 36, 37, 38, 39, 40, 41, 42, 43, 44, 45}\n",
      "46\n"
     ]
    }
   ],
   "source": [
    "label = set(y_test)\n",
    "print(label)\n",
    "print(len(label)+1)"
   ]
  },
  {
   "cell_type": "code",
   "execution_count": 41,
   "metadata": {
    "colab": {
     "base_uri": "https://localhost:8080/"
    },
    "id": "WuyxYTGeVETJ",
    "outputId": "dd19a679-90a3-425e-f1bc-cdbc48c3fbd2"
   },
   "outputs": [
    {
     "name": "stdout",
     "output_type": "stream",
     "text": [
      "2376\n"
     ]
    }
   ],
   "source": [
    "import numpy as np\n",
    "lenmax = len('1')\n",
    "for x in X_train:\n",
    "  tmp = len(x)\n",
    "  lenmax = np.maximum(lenmax, tmp)\n",
    "print(lenmax)"
   ]
  },
  {
   "cell_type": "code",
   "execution_count": 56,
   "metadata": {
    "colab": {
     "base_uri": "https://localhost:8080/"
    },
    "id": "_QVSlFEAqWJM",
    "outputId": "f992f76d-7c23-47a9-c276-7a9afc6e8c16"
   },
   "outputs": [
    {
     "name": "stdout",
     "output_type": "stream",
     "text": [
      "30980\n",
      "Loading data...\n",
      "8982 train sequences\n",
      "2246 test sequences\n",
      "Pad Sequences (samples x time)\n",
      "x_train shape:  (8982, 80)\n",
      "x_test shape:  (2246, 80)\n"
     ]
    }
   ],
   "source": [
    "# 아래 코드를 바꾸지 마십시오. +1은 반드시 있어야 합니다.\n",
    "max_features = len(word_index.values()) + 1\n",
    "print(max_features)\n",
    "\n",
    "# 이 곳에 답안을 작성하십시오"
   ]
  },
  {
   "cell_type": "markdown",
   "metadata": {
    "id": "7ZDh-nHtOb6g"
   },
   "source": [
    "### 1.2 모델의 성능 및 정확도를 계산하세요"
   ]
  },
  {
   "cell_type": "code",
   "execution_count": 70,
   "metadata": {
    "colab": {
     "base_uri": "https://localhost:8080/"
    },
    "id": "9xBdhOrIOb6g",
    "outputId": "d0cdc7b2-60e0-450f-81de-77208a9bfe44"
   },
   "outputs": [
    {
     "name": "stdout",
     "output_type": "stream",
     "text": [
      "Model: \"sequential_16\"\n",
      "_________________________________________________________________\n",
      "Layer (type)                 Output Shape              Param #   \n",
      "=================================================================\n",
      "embedding_18 (Embedding)     (None, None, 128)         3965440   \n",
      "_________________________________________________________________\n",
      "cu_dnnlstm_14 (CuDNNLSTM)    (None, 128)               132096    \n",
      "_________________________________________________________________\n",
      "dense_16 (Dense)             (None, 46)                5934      \n",
      "=================================================================\n",
      "Total params: 4,103,470\n",
      "Trainable params: 4,103,470\n",
      "Non-trainable params: 0\n",
      "_________________________________________________________________\n",
      "Epoch 1/20\n",
      "281/281 [==============================] - 14s 51ms/step - loss: 2.1260 - accuracy: 0.4498 - top3_acc: 0.0000e+00 - top5_acc: 0.9770 - val_loss: 1.7595 - val_accuracy: 0.5329 - val_top3_acc: 0.0000e+00 - val_top5_acc: 1.0000\n",
      "Epoch 2/20\n",
      "281/281 [==============================] - 12s 43ms/step - loss: 1.6882 - accuracy: 0.5633 - top3_acc: 0.0000e+00 - top5_acc: 0.9999 - val_loss: 1.6573 - val_accuracy: 0.5619 - val_top3_acc: 0.0000e+00 - val_top5_acc: 1.0000\n",
      "Epoch 3/20\n",
      "281/281 [==============================] - 12s 43ms/step - loss: 1.4554 - accuracy: 0.6261 - top3_acc: 2.2267e-04 - top5_acc: 0.9974 - val_loss: 1.4467 - val_accuracy: 0.6300 - val_top3_acc: 0.0000e+00 - val_top5_acc: 0.9996\n",
      "Epoch 4/20\n",
      "281/281 [==============================] - 12s 43ms/step - loss: 1.1199 - accuracy: 0.7052 - top3_acc: 0.0039 - top5_acc: 0.9912 - val_loss: 1.3371 - val_accuracy: 0.6594 - val_top3_acc: 4.4524e-04 - val_top5_acc: 0.9688\n",
      "Epoch 5/20\n",
      "281/281 [==============================] - 12s 43ms/step - loss: 0.8684 - accuracy: 0.7705 - top3_acc: 0.0115 - top5_acc: 0.9836 - val_loss: 1.4316 - val_accuracy: 0.6558 - val_top3_acc: 0.0027 - val_top5_acc: 0.9991\n",
      "Epoch 6/20\n",
      "281/281 [==============================] - 12s 43ms/step - loss: 0.6868 - accuracy: 0.8212 - top3_acc: 0.0178 - top5_acc: 0.9989 - val_loss: 1.3900 - val_accuracy: 0.6817 - val_top3_acc: 0.0223 - val_top5_acc: 0.9996\n",
      "Epoch 7/20\n",
      "281/281 [==============================] - 12s 43ms/step - loss: 0.5471 - accuracy: 0.8603 - top3_acc: 0.0282 - top5_acc: 0.9993 - val_loss: 1.4764 - val_accuracy: 0.6768 - val_top3_acc: 0.0236 - val_top5_acc: 1.0000\n",
      "Epoch 8/20\n",
      "281/281 [==============================] - 12s 43ms/step - loss: 0.4201 - accuracy: 0.8940 - top3_acc: 0.0340 - top5_acc: 0.9990 - val_loss: 1.4788 - val_accuracy: 0.6852 - val_top3_acc: 0.0129 - val_top5_acc: 1.0000\n",
      "Epoch 9/20\n",
      "281/281 [==============================] - 12s 42ms/step - loss: 0.3276 - accuracy: 0.9193 - top3_acc: 0.0288 - top5_acc: 0.9983 - val_loss: 1.5636 - val_accuracy: 0.6776 - val_top3_acc: 0.0156 - val_top5_acc: 0.9991\n",
      "Epoch 10/20\n",
      "281/281 [==============================] - 12s 43ms/step - loss: 0.2702 - accuracy: 0.9302 - top3_acc: 0.0277 - top5_acc: 0.9979 - val_loss: 1.6153 - val_accuracy: 0.6834 - val_top3_acc: 0.0450 - val_top5_acc: 1.0000\n",
      "Epoch 11/20\n",
      "281/281 [==============================] - 12s 42ms/step - loss: 0.2212 - accuracy: 0.9426 - top3_acc: 0.0370 - top5_acc: 0.9989 - val_loss: 1.6144 - val_accuracy: 0.6888 - val_top3_acc: 0.0107 - val_top5_acc: 0.9996\n",
      "Epoch 12/20\n",
      "281/281 [==============================] - 12s 43ms/step - loss: 0.1887 - accuracy: 0.9471 - top3_acc: 0.0465 - top5_acc: 0.9980 - val_loss: 1.6622 - val_accuracy: 0.6785 - val_top3_acc: 0.0352 - val_top5_acc: 0.9987\n",
      "Epoch 13/20\n",
      "281/281 [==============================] - 12s 42ms/step - loss: 0.1661 - accuracy: 0.9488 - top3_acc: 0.0747 - top5_acc: 0.9990 - val_loss: 1.8097 - val_accuracy: 0.6558 - val_top3_acc: 0.0530 - val_top5_acc: 0.9964\n",
      "Epoch 14/20\n",
      "281/281 [==============================] - 12s 43ms/step - loss: 0.1525 - accuracy: 0.9521 - top3_acc: 0.1023 - top5_acc: 0.9977 - val_loss: 1.7820 - val_accuracy: 0.6794 - val_top3_acc: 0.0450 - val_top5_acc: 0.9964\n",
      "Epoch 15/20\n",
      "281/281 [==============================] - 12s 43ms/step - loss: 0.1450 - accuracy: 0.9510 - top3_acc: 0.0661 - top5_acc: 0.9980 - val_loss: 1.7752 - val_accuracy: 0.6803 - val_top3_acc: 0.0383 - val_top5_acc: 0.9978\n",
      "Epoch 16/20\n",
      "281/281 [==============================] - 12s 43ms/step - loss: 0.1331 - accuracy: 0.9539 - top3_acc: 0.0872 - top5_acc: 0.9974 - val_loss: 1.7697 - val_accuracy: 0.6812 - val_top3_acc: 0.0459 - val_top5_acc: 0.9987\n",
      "Epoch 17/20\n",
      "281/281 [==============================] - 12s 43ms/step - loss: 0.1205 - accuracy: 0.9535 - top3_acc: 0.1089 - top5_acc: 0.9981 - val_loss: 1.7903 - val_accuracy: 0.6834 - val_top3_acc: 0.0548 - val_top5_acc: 0.9991\n",
      "Epoch 18/20\n",
      "281/281 [==============================] - 12s 43ms/step - loss: 0.1158 - accuracy: 0.9546 - top3_acc: 0.0662 - top5_acc: 0.9987 - val_loss: 1.7810 - val_accuracy: 0.6763 - val_top3_acc: 0.0512 - val_top5_acc: 0.9987\n",
      "Epoch 19/20\n",
      "281/281 [==============================] - 12s 43ms/step - loss: 0.1100 - accuracy: 0.9558 - top3_acc: 0.0623 - top5_acc: 0.9979 - val_loss: 1.8492 - val_accuracy: 0.6719 - val_top3_acc: 0.0285 - val_top5_acc: 0.9987\n",
      "Epoch 20/20\n",
      "281/281 [==============================] - 12s 43ms/step - loss: 0.1050 - accuracy: 0.9537 - top3_acc: 0.0753 - top5_acc: 0.9980 - val_loss: 1.8464 - val_accuracy: 0.6848 - val_top3_acc: 0.0361 - val_top5_acc: 0.9996\n"
     ]
    }
   ],
   "source": [
    "# 이 곳에 답안을 작성하십시오\n",
    "# 46개의 class로 구성되어 있으니, Top 5(41번째), 중위값(25번째) accuracy도 확인할 수 있는 코드를 넣어보세요 (도전과제).\n"
   ]
  },
  {
   "cell_type": "markdown",
   "metadata": {
    "id": "7SGDnS9DOc-I",
    "nteract": {
     "transient": {
      "deleting": false
     }
    }
   },
   "source": [
    "### 1.3 아래의 질문에 답하세요\n",
    "\n",
    "#### a) 데이터셋을 학습할 때 사용하는 `pad_sequences`  메소드에 대해 설명하세요. 어떤 기능을 하나요? 왜 모델을 학습할 때 필요한가요?\n",
    "\n",
    "#### b) 종래의 RNN(Recurrent Neural Networks) 대신 LSTM (Long-ShortTerm Memory Cell unit)을 사용하는 주요한 동기는 무엇인가요? (i.e. RNN에 비해 LSTM의 좋은 점을 설명하세요)\n",
    "\n",
    "#### c) LSTM이나 RNN을 사용하는 예시를 **3개** 제시하고 왜 해당 경우에 사용하는게 적절한지 간단하게 설명하세요.\n"
   ]
  },
  {
   "cell_type": "markdown",
   "metadata": {
    "id": "5pzBrAVHOb6g"
   },
   "source": [
    "a) `답안 작성` \n",
    "\n",
    "\n",
    "b) `답안 작성`\n",
    "\n",
    "\n",
    "c) `답안 작성`"
   ]
  },
  {
   "cell_type": "markdown",
   "metadata": {
    "id": "bugEFbZ8Ay91"
   },
   "source": [
    "---"
   ]
  },
  {
   "cell_type": "markdown",
   "metadata": {
    "id": "yz0LCZd_O4IG"
   },
   "source": [
    "<a id=\"p2\"></a>\n",
    "## Part 2. CNN\n",
    "\n",
    "### 객체 탐지 모델\n",
    "Keras와  [ResNet50v2](https://www.tensorflow.org/api_docs/python/tf/keras/applications/resnet_v2) (pre-trained)을 활용하여 `im_frog` 폴더에 있는 이미지 중 어떤 이미지에 개구리가 있는지 찾는 객체 탐지 모델을 만들어 보겠습니다 (주의: 해당 이미지들을 Colab에 업로드 하셔야 합니다. 폴더이름은 다른 것을 사용하셔도 좋고, 아래 코드에서도 같이 바꾸셔야 합니다.)\n",
    "\n",
    "<img align=\"left\" src=\"https://d3i6fh83elv35t.cloudfront.net/newshour/app/uploads/2017/03/GettyImages-654745934-1024x687.jpg\" width=400>"
   ]
  },
  {
   "cell_type": "code",
   "execution_count": null,
   "metadata": {
    "id": "whIqEWR236Af"
   },
   "outputs": [],
   "source": [
    "# 아래의 코드를 실행하면 skimage의 함수가 모든 이미지를 메모리로 읽어들입니다.\n",
    "from skimage.io import imread_collection\n",
    "\n",
    "images = imread_collection('./im_frog/*.jpg')"
   ]
  },
  {
   "cell_type": "code",
   "execution_count": null,
   "metadata": {
    "id": "EKnnnM8k38sN"
   },
   "outputs": [],
   "source": [
    "print(type(images))\n",
    "print(type(images[0]), end=\"\\n\\n\")"
   ]
  },
  {
   "cell_type": "markdown",
   "metadata": {
    "id": "YZ_gNvCvOb6h"
   },
   "source": [
    "## 2.1 Resnet$V_2$을 사용하기위해서 전처리 함수를 사용하여 이미지를 전처리 하고 이미지들의 사이즈를 재조정하세요 (Hint: scikit-image)"
   ]
  },
  {
   "cell_type": "code",
   "execution_count": null,
   "metadata": {
    "id": "6stqwDYDOb6h"
   },
   "outputs": [],
   "source": [
    "# 이 곳에 답안을 작성하십시오"
   ]
  },
  {
   "cell_type": "markdown",
   "metadata": {
    "id": "QRMSyu5VOb6h"
   },
   "source": [
    "## 2.2 ResNet50v2 모델을 사용해 `images`를 분류하세요. 예측 결과는 자유롭게 출력하세요.\n",
    "> 참고: `ResNet50v2`는 \"frog\"로 예측하지 않습니다. \"frog\"의 label은 \"bullfrog, treefrog, tailed frog\"입니다"
   ]
  },
  {
   "cell_type": "code",
   "execution_count": null,
   "metadata": {
    "id": "FaT07ddW3nHz"
   },
   "outputs": [],
   "source": [
    "from tensorflow.keras.applications.resnet_v2 import ResNet50V2, decode_predictions, preprocess_input\n",
    "\n",
    "# 이 곳에 답안을 작성하십시오"
   ]
  },
  {
   "cell_type": "markdown",
   "metadata": {
    "id": "jK0FQ726ull1"
   },
   "source": [
    "---"
   ]
  },
  {
   "cell_type": "markdown",
   "metadata": {
    "id": "XEuhvSu7O5Rf"
   },
   "source": [
    "<a id=\"p3\"></a>\n",
    "# Part 3. Autoencoders"
   ]
  },
  {
   "cell_type": "markdown",
   "metadata": {
    "id": "XW4ls2msOb6h"
   },
   "source": [
    "## 3.1 오토인코더의 동작 원리와 Latent의 크기를 조절했을 때 달라지는 변화에 대해서 설명해보세요."
   ]
  },
  {
   "cell_type": "markdown",
   "metadata": {
    "id": "qqYPsnYoOb6h"
   },
   "source": [
    "`답안 작성은 이 곳에 하시길 바랍니다`\n",
    "<br><br><br><br>\n",
    "\n",
    "---"
   ]
  },
  {
   "cell_type": "markdown",
   "metadata": {
    "id": "626zYgjkO7Vq"
   },
   "source": [
    "<a id=\"p4\"></a>\n",
    "# Part 4. Free Response\n",
    "> 동료들에게 설명한다고 생각하고 간단하게 몇 문장으로 작성하세요."
   ]
  },
  {
   "cell_type": "markdown",
   "metadata": {
    "id": "__lDWfcUO8oo"
   },
   "source": [
    "### 4.1 데이터 과학자로서 본인의 강점은 무엇이라고 생각하시나요?"
   ]
  },
  {
   "cell_type": "markdown",
   "metadata": {
    "id": "pN3Tx-WfOb6h"
   },
   "source": [
    "`답안 작성은 이 곳에 하시길 바랍니다`"
   ]
  },
  {
   "cell_type": "markdown",
   "metadata": {
    "id": "WSA0mmLdOb6h"
   },
   "source": [
    "### 4.2 데이터 과학의 다양한 분야 중에서 좀 더 심도있게 배우고 싶은 분야는 무엇인가요? 그 이유는 무엇인가요?"
   ]
  },
  {
   "cell_type": "markdown",
   "metadata": {
    "id": "VZ7WTEM1Ob6h"
   },
   "source": [
    "`답안 작성은 이 곳에 하시길 바랍니다`"
   ]
  },
  {
   "cell_type": "markdown",
   "metadata": {
    "id": "q54xvk1UOb6h"
   },
   "source": [
    "### 4.3 앞으로 5년 뒤, 데이터과학 분야는 어떻게 바뀌어 있을까요? 왜 그렇게 생각하시나요?"
   ]
  },
  {
   "cell_type": "markdown",
   "metadata": {
    "id": "CVZQvQG-Ob6h"
   },
   "source": [
    "`답안 작성은 이 곳에 하시길 바랍니다`"
   ]
  },
  {
   "cell_type": "markdown",
   "metadata": {
    "id": "n6tTlgXJOb6h"
   },
   "source": [
    "### 4.4 인공지능이 우리 사회에 위협이 될 수도 있다는 주장에 대해서 어떻게 생각하시나요? 그 이유는 무엇인가요?\n"
   ]
  },
  {
   "cell_type": "markdown",
   "metadata": {
    "id": "HoP4TdsUOb6h"
   },
   "source": [
    "`답안 작성은 이 곳에 하시길 바랍니다`"
   ]
  },
  {
   "cell_type": "markdown",
   "metadata": {
    "id": "1jiZ6a7OOb6h"
   },
   "source": [
    "### 4.5 위에서 명시한 위협들에 대한 대처 방안은 어떤 것이 있을까요? 또한 반대로 인공지능이 우리 사회에서 도움이 된다면 어떤 부분이 있고 왜 그렇게 생각하시나요? "
   ]
  },
  {
   "cell_type": "markdown",
   "metadata": {
    "id": "UR918IulOb6h"
   },
   "source": [
    "`답안 작성은 이 곳에 하시길 바랍니다`"
   ]
  },
  {
   "cell_type": "markdown",
   "metadata": {
    "id": "ruR370r3Ob6h"
   },
   "source": [
    "### 4.6 여러분이 생각하실 때 Strong AI라고 불리우는 [일반 인공지능 (Artificial General Intelligence)](https://ko.wikipedia.org/wiki/%EC%9D%B8%EA%B3%B5_%EC%9D%BC%EB%B0%98_%EC%A7%80%EB%8A%A5)을 개발해내는 것이 가능할까요? 왜 그렇게 생각하시나요?"
   ]
  },
  {
   "cell_type": "markdown",
   "metadata": {
    "id": "RaybQ4huOb6h"
   },
   "source": [
    "`답안 작성은 이 곳에 하시길 바랍니다`"
   ]
  },
  {
   "cell_type": "markdown",
   "metadata": {
    "id": "_nGc8_Zavpvm"
   },
   "source": [
    "### 4.7 Continous learning에 대해서 검색 해보고 이해한 내용을 설명 해보세요."
   ]
  },
  {
   "cell_type": "markdown",
   "metadata": {
    "id": "BNVkdAP6vw7K"
   },
   "source": [
    "`답안 작성은 이 곳에 하시길 바랍니다`"
   ]
  },
  {
   "cell_type": "markdown",
   "metadata": {
    "id": "_Hoqe3mM_Mtc"
   },
   "source": [
    "# Advanced Goals: 3점을 받기 위해서는 아래의 조건 중에서 3개 이상을 달성하셔야 합니다\n",
    "### Part 1\n",
    "    - Top 5, Median(25) 번째 acc를 나타내며 학습하는 방식을 찾아보시오.\n",
    "### Part 2\n",
    "    - 개구리 이외의 다른 객체를 탐지하는 모델을 만들어보세요 (예: 물고기)\n",
    "    - 이미지를 예측한 label과 같이 출력해보세요\n",
    "    - 예측 모델을 함수로 만들어 보세요 (물론 주석도 잘 되있어야 합니다)\n",
    "### Part 3\n",
    "    - 간단한 코드를 첨부하여 설명하세요.\n",
    "### Part 4\n",
    "    - 작성한 답안을 몇 문장보다 조금 더 상세하게 작성해보세요\n",
    "    - 왜 그렇게 생각하게 되었는 지 관련 근거를 서술하세요.\n",
    "### Add\n",
    "    - 최근에 발행된 GAN을 이용한 프로젝트를 새롭게 구현해보세요."
   ]
  },
  {
   "cell_type": "code",
   "execution_count": null,
   "metadata": {
    "id": "Nk8s_R7pOb6h"
   },
   "outputs": [],
   "source": [
    "# 이 곳에 답안을 작성하시길 바랍니다."
   ]
  }
 ],
 "metadata": {
  "accelerator": "GPU",
  "colab": {
   "collapsed_sections": [],
   "include_colab_link": true,
   "name": "sc43x_forStudents.ipynb",
   "provenance": []
  },
  "kernel_info": {
   "name": "u4-s3-dnn"
  },
  "kernelspec": {
   "display_name": "Python 3",
   "language": "python",
   "name": "python3"
  },
  "language_info": {
   "codemirror_mode": {
    "name": "ipython",
    "version": 3
   },
   "file_extension": ".py",
   "mimetype": "text/x-python",
   "name": "python",
   "nbconvert_exporter": "python",
   "pygments_lexer": "ipython3",
   "version": "3.8.2"
  },
  "nteract": {
   "version": "0.23.1"
  }
 },
 "nbformat": 4,
 "nbformat_minor": 4
}
