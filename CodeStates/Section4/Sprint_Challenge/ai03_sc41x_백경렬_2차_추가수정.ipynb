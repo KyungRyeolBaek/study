{
  "nbformat": 4,
  "nbformat_minor": 0,
  "metadata": {
    "colab": {
      "name": "ai03_sc41x_백경렬_2차.ipynb",
      "provenance": [],
      "collapsed_sections": []
    },
    "kernelspec": {
      "display_name": "Python 3",
      "language": "python",
      "name": "python3"
    },
    "language_info": {
      "codemirror_mode": {
        "name": "ipython",
        "version": 3
      },
      "file_extension": ".py",
      "mimetype": "text/x-python",
      "name": "python",
      "nbconvert_exporter": "python",
      "pygments_lexer": "ipython3",
      "version": "3.9.4"
    },
    "nteract": {
      "version": "0.23.3"
    }
  },
  "cells": [
    {
      "cell_type": "markdown",
      "metadata": {
        "id": "dVNDxiWkw5y7"
      },
      "source": [
        "<img src='https://user-images.githubusercontent.com/6457691/90080969-0f758d00-dd47-11ea-8191-fa12fd2054a7.png' width = '200' align = 'right'>\n",
        "\n",
        "## AI SC41x\n",
        "\n",
        "---\n",
        "# Sprint Challenge - 신경망(Neural Network) 기본기 다지기\n",
        "\n",
        "Table of Problems\n",
        "\n",
        "1. 신경망 정의하기 \n",
        "2. 퍼셉트론 정의\n",
        "    - 퍼셉트론(Perceptron)\n",
        "    - 다층 퍼셉트론(Multilayer Perceptron)\n",
        "    - 분석과 비교\n",
        "4. Keras 사용하기"
      ]
    },
    {
      "cell_type": "markdown",
      "metadata": {
        "id": "O9qf0cRbw5y8"
      },
      "source": [
        "<a id=\"Q1\"></a>\n",
        "## 1. 신경망 용어 정의\n",
        "### 1.1 아래에 주어진 신경망 개념에 사용 되는 용어들을 자신만의 언어로 정의해보세요\n",
        "꼭 \"자신의 언어\"로 써보시고, 정리해보고, 요약해보세요 :)"
      ]
    },
    {
      "cell_type": "markdown",
      "metadata": {
        "id": "RfBaZTgw0PhB"
      },
      "source": [
        "- **Neuron: 신경계를 구성하는 세포 **\n",
        "- **Input Layer: 데이터셋으로부터 입력을 받고, 보통 어떤 계산도 수행하지 않고, 그냥 값을 전달하기만 하는 역할을 한다. **\n",
        "- **Hidden Layer: 계산이 일어나는 층이며, 입력층과 마지막 출력층 사이에 있는 층들을 은닉층이라 말한다. **\n",
        "- **Output Layer: 신경망의 가장 마지막 층이며, 활성함수가 존재한다. **\n",
        "- **Activation Function: 입력된 데이터의 가중 합을 출력 신호로 변환하는 함수이다. **\n",
        "- **Back Propagation: 원하는 값과 예측하는 값의 오차에 따라 각 노드에 따른 가중치를 편미분한 값을 바탕으로 수정하여 결과값이 원하는 값을 도출하도록 하는 과정이다. **"
      ]
    },
    {
      "cell_type": "markdown",
      "metadata": {
        "id": "YdcS-Jx2w5y8"
      },
      "source": [
        "### 1.2 역전파 설명해보기\n",
        "이번에는 역전파 (Back Propagation)를 조금 더 디테일하게 설명해보겠습니다. \n",
        "<br> <b>초등학생</b>에게 설명한다는 생각으로 단어들을 선정해 주세요. <i>외부 자료나 이미지를 설명에 활용하셔도 좋습니다</i>."
      ]
    },
    {
      "cell_type": "markdown",
      "metadata": {
        "id": "s43PkOEO2nGY"
      },
      "source": [
        "씻으려고 물 온도를 조절할 때 뜨거우면 찬물 쪽을 더 틀고, 아직도 뜨겁다 싶으면 찬물을 조금 더 틀고, 너무 차가워졌다 싶으면 다시 뜨거운 물을 더 틀죠? 이렇게 조금 조금씩 현재 상황에 맞춰서 원하는 온도로 맞춰 가는 과정을 역전파 라고 합니다."
      ]
    },
    {
      "cell_type": "markdown",
      "metadata": {
        "id": "W7ZSjf9Uw5y8"
      },
      "source": [
        "### 1.3 퍼셉트론 정의해보기\n",
        "신경망 수업 첫날에 들었었던 퍼셉트론의 간단한 개념으로 예측하는 과정을 설명해보세요. <br> <b>입력</b>에서 <b>출력</b>으로 어떻게 변경되는 지 단계별로 설명해보세요."
      ]
    },
    {
      "cell_type": "markdown",
      "metadata": {
        "id": "zNKngzxT39QY"
      },
      "source": [
        "다수의 입력을 받아서 입력 받은 노드들에게 가중치를 두어 계산하여 하나의 출력값을 얻는 과정이다.\n",
        "1. 입력을 받는다.\n",
        "2. 입력 받은 각각의 데이터에 가중치를 준다.\n",
        "3. 가중치를 받은 데이터들을 계산해서 하나의 값을 얻는다.\n",
        "4. 얻은 하나의 값을 출력한다."
      ]
    },
    {
      "cell_type": "markdown",
      "metadata": {
        "id": "1A2h2zpCw5y8"
      },
      "source": [
        "<a id=\"Q2\"></a>\n",
        "## 2. 단순 퍼셉트론\n",
        "\n",
        "이번에는 TensorFlow, keras를 사용하여 두 개의 신경망을 직접 구축한 뒤,\n",
        "<br> 아래 임의로 제공 된 $X, y$를 이용하여 두 모델에 적용한 뒤 결과를 비교해보세요. \n",
        "먼저 사용할 데이터는 다음과 같습니다."
      ]
    },
    {
      "cell_type": "code",
      "metadata": {
        "colab": {
          "base_uri": "https://localhost:8080/",
          "height": 282
        },
        "id": "TWdXFK9Yw5y8",
        "outputId": "7685d800-0c14-4269-c282-84d7ed16c9d3"
      },
      "source": [
        "import numpy as np\n",
        "import matplotlib.pyplot as plt\n",
        "\n",
        "xx, yy = np.meshgrid(np.linspace(-3, 3, 50),\n",
        "                     np.linspace(-3, 3, 50))\n",
        "rng = np.random.RandomState(0)\n",
        "\n",
        "\n",
        "\"model1과 model2를 구축할 때 아래의 X & y를 사용하세요\"\n",
        "X = rng.randn(300, 2)\n",
        "y = np.array(np.logical_xor(X[:, 0] > 0, X[:, 1] > 0), \n",
        "             dtype=int)\n",
        "\n",
        "plt.scatter(X[:,0], X[:,1], s=y)\n"
      ],
      "execution_count": 1,
      "outputs": [
        {
          "output_type": "execute_result",
          "data": {
            "text/plain": [
              "<matplotlib.collections.PathCollection at 0x7f5dc718ea10>"
            ]
          },
          "metadata": {},
          "execution_count": 1
        },
        {
          "output_type": "display_data",
          "data": {
            "image/png": "[encoded data removed]",
            "text/plain": [
              "<Figure size 432x288 with 1 Axes>"
            ]
          },
          "metadata": {
            "needs_background": "light"
          }
        }
      ]
    },
    {
      "cell_type": "markdown",
      "metadata": {
        "id": "xjr4UoQXw5y8"
      },
      "source": [
        "### 단순 퍼셉트론 구현\n",
        "Keras로 <b>sigmoid activation function</b>을 포함한 dense layer 1개가 있는</b> `model1`을 만들어 학습시키고 `h1`에 저장하세요."
      ]
    },
    {
      "cell_type": "code",
      "metadata": {
        "colab": {
          "base_uri": "https://localhost:8080/"
        },
        "id": "iRXT1mpV5UpE",
        "outputId": "aa36e2f5-8692-4fa1-8b52-c9e5a50d2e4c"
      },
      "source": [
        "X.shape, y.shape"
      ],
      "execution_count": 2,
      "outputs": [
        {
          "output_type": "execute_result",
          "data": {
            "text/plain": [
              "((300, 2), (300,))"
            ]
          },
          "metadata": {},
          "execution_count": 2
        }
      ]
    },
    {
      "cell_type": "code",
      "metadata": {
        "colab": {
          "base_uri": "https://localhost:8080/"
        },
        "id": "vKZXIC1ew5y8",
        "outputId": "e011091b-87ed-433f-f5d4-58e1b3b08f2b"
      },
      "source": [
        "from tensorflow.keras.models import Sequential\n",
        "from tensorflow.keras.layers import Dense\n",
        "\n",
        "model1 = Sequential([\n",
        "    Dense(1, activation='sigmoid')\n",
        "])\n",
        "\n",
        "model1.compile(optimizer='adam', loss='binary_crossentropy', metrics=['acc'])\n",
        "\n",
        "h1 = model1.fit(X, y, epochs = 30, batch_size= 40)"
      ],
      "execution_count": 3,
      "outputs": [
        {
          "output_type": "stream",
          "name": "stdout",
          "text": [
            "Epoch 1/30\n",
            "8/8 [==============================] - 1s 2ms/step - loss: 0.7367 - acc: 0.5433\n",
            "Epoch 2/30\n",
            "8/8 [==============================] - 0s 2ms/step - loss: 0.7354 - acc: 0.5433\n",
            "Epoch 3/30\n",
            "8/8 [==============================] - 0s 2ms/step - loss: 0.7343 - acc: 0.5467\n",
            "Epoch 4/30\n",
            "8/8 [==============================] - 0s 1ms/step - loss: 0.7331 - acc: 0.5467\n",
            "Epoch 5/30\n",
            "8/8 [==============================] - 0s 2ms/step - loss: 0.7321 - acc: 0.5533\n",
            "Epoch 6/30\n",
            "8/8 [==============================] - 0s 2ms/step - loss: 0.7309 - acc: 0.5567\n",
            "Epoch 7/30\n",
            "8/8 [==============================] - 0s 2ms/step - loss: 0.7298 - acc: 0.5600\n",
            "Epoch 8/30\n",
            "8/8 [==============================] - 0s 3ms/step - loss: 0.7287 - acc: 0.5667\n",
            "Epoch 9/30\n",
            "8/8 [==============================] - 0s 1ms/step - loss: 0.7277 - acc: 0.5667\n",
            "Epoch 10/30\n",
            "8/8 [==============================] - 0s 1ms/step - loss: 0.7267 - acc: 0.5667\n",
            "Epoch 11/30\n",
            "8/8 [==============================] - 0s 2ms/step - loss: 0.7256 - acc: 0.5667\n",
            "Epoch 12/30\n",
            "8/8 [==============================] - 0s 2ms/step - loss: 0.7246 - acc: 0.5667\n",
            "Epoch 13/30\n",
            "8/8 [==============================] - 0s 1ms/step - loss: 0.7237 - acc: 0.5700\n",
            "Epoch 14/30\n",
            "8/8 [==============================] - 0s 2ms/step - loss: 0.7228 - acc: 0.5733\n",
            "Epoch 15/30\n",
            "8/8 [==============================] - 0s 2ms/step - loss: 0.7218 - acc: 0.5733\n",
            "Epoch 16/30\n",
            "8/8 [==============================] - 0s 2ms/step - loss: 0.7209 - acc: 0.5733\n",
            "Epoch 17/30\n",
            "8/8 [==============================] - 0s 2ms/step - loss: 0.7199 - acc: 0.5767\n",
            "Epoch 18/30\n",
            "8/8 [==============================] - 0s 1ms/step - loss: 0.7189 - acc: 0.5767\n",
            "Epoch 19/30\n",
            "8/8 [==============================] - 0s 1ms/step - loss: 0.7181 - acc: 0.5767\n",
            "Epoch 20/30\n",
            "8/8 [==============================] - 0s 2ms/step - loss: 0.7172 - acc: 0.5767\n",
            "Epoch 21/30\n",
            "8/8 [==============================] - 0s 2ms/step - loss: 0.7163 - acc: 0.5767\n",
            "Epoch 22/30\n",
            "8/8 [==============================] - 0s 2ms/step - loss: 0.7156 - acc: 0.5767\n",
            "Epoch 23/30\n",
            "8/8 [==============================] - 0s 2ms/step - loss: 0.7147 - acc: 0.5800\n",
            "Epoch 24/30\n",
            "8/8 [==============================] - 0s 2ms/step - loss: 0.7140 - acc: 0.5833\n",
            "Epoch 25/30\n",
            "8/8 [==============================] - 0s 2ms/step - loss: 0.7132 - acc: 0.5867\n",
            "Epoch 26/30\n",
            "8/8 [==============================] - 0s 2ms/step - loss: 0.7125 - acc: 0.5900\n",
            "Epoch 27/30\n",
            "8/8 [==============================] - 0s 2ms/step - loss: 0.7117 - acc: 0.5900\n",
            "Epoch 28/30\n",
            "8/8 [==============================] - 0s 2ms/step - loss: 0.7110 - acc: 0.5900\n",
            "Epoch 29/30\n",
            "8/8 [==============================] - 0s 2ms/step - loss: 0.7104 - acc: 0.5933\n",
            "Epoch 30/30\n",
            "8/8 [==============================] - 0s 2ms/step - loss: 0.7096 - acc: 0.5933\n"
          ]
        }
      ]
    },
    {
      "cell_type": "markdown",
      "metadata": {
        "id": "0Ugkziwew5y8"
      },
      "source": [
        "\n",
        "### Multi-Layer Perceptron (MLP)\n",
        "이번에는 여러층의 레이어들을 쌓은 MLP 모델을 만들어보겠습니다. 아래는 간략한 가이드입니다 :\n",
        "- 2개의 은닉층 (출력 수를 맞추는 것까지 3개의 Dense를 사용할 것은 추천)\n",
        "- 노드의 개수는 8-32개 내에서 변경해서 사용해보세요.\n",
        "- Activation function과 optimizer는 이번 주에 배운 것들 중에서 자유롭게 골라보세요.\n",
        "- 아래 만들어진 Callback function을 모델에 통합해서 사용하세요\n",
        "\n",
        "MLP로 만들어진 `model2` 를 만들어 학습하고 `h2`에 저장하세요."
      ]
    },
    {
      "cell_type": "code",
      "metadata": {
        "id": "6BoIn7iBw5y8"
      },
      "source": [
        "import tensorflow as tf\n",
        "\n",
        "class myCallback(tf.keras.callbacks.Callback): \n",
        "    def on_epoch_end(self, epoch, logs={}): \n",
        "        if(logs.get('acc') > .90):   \n",
        "            self.model.stop_training = True"
      ],
      "execution_count": null,
      "outputs": []
    },
    {
      "cell_type": "code",
      "metadata": {
        "colab": {
          "base_uri": "https://localhost:8080/"
        },
        "id": "B63dciqEw5y8",
        "outputId": "84ff6925-3bdc-4b74-af6e-240fd133b6a0"
      },
      "source": [
        "model2 = Sequential([\n",
        "    Dense(32, activation='relu'),\n",
        "    Dense(16, activation='relu'), \n",
        "    Dense(1, activation='sigmoid') \n",
        "])\n",
        "\n",
        "model2.compile(optimizer='adam', loss='binary_crossentropy', metrics=['acc'])\n",
        " \n",
        "h2 = model2.fit(X,y, batch_size=40, epochs=100, callbacks=[myCallback()])"
      ],
      "execution_count": null,
      "outputs": [
        {
          "output_type": "stream",
          "text": [
            "Epoch 1/100\n",
            "8/8 [==============================] - 0s 2ms/step - loss: 0.6917 - acc: 0.5400\n",
            "Epoch 2/100\n",
            "8/8 [==============================] - 0s 2ms/step - loss: 0.6644 - acc: 0.6200\n",
            "Epoch 3/100\n",
            "8/8 [==============================] - 0s 2ms/step - loss: 0.6407 - acc: 0.7567\n",
            "Epoch 4/100\n",
            "8/8 [==============================] - 0s 2ms/step - loss: 0.6175 - acc: 0.8533\n",
            "Epoch 5/100\n",
            "8/8 [==============================] - 0s 3ms/step - loss: 0.5957 - acc: 0.8967\n",
            "Epoch 6/100\n",
            "8/8 [==============================] - 0s 2ms/step - loss: 0.5755 - acc: 0.9400\n"
          ],
          "name": "stdout"
        }
      ]
    },
    {
      "cell_type": "markdown",
      "metadata": {
        "id": "xn2TsE76w5y8"
      },
      "source": [
        "### Analyze and Compare\n",
        "\n",
        "코드를 시작하기 전에 추가 라이브러리를 설치해야 합니다. 스프린트 과제에 사용 중인 환경에 패키지 `mlxtend`를 설치합니다. 설치코드를 직접 제작해보세요. 기존 자료들을 참고하면 쉽게 설치할 수 있을 것입니다. \n",
        "\n",
        "아래 셀은 모형의 의사결정 경계도(\"model1\" 및 \"model2\")를 생성합니다. 그림을 검토합니다."
      ]
    },
    {
      "cell_type": "code",
      "metadata": {
        "colab": {
          "base_uri": "https://localhost:8080/"
        },
        "id": "96hsbGktVlgL",
        "outputId": "a0506ed5-6391-4367-d5b6-726c19580b4e"
      },
      "source": [
        "# mlxtend 라이브러리를 설치합니다\n",
        "!pip install mlxtend"
      ],
      "execution_count": null,
      "outputs": [
        {
          "output_type": "stream",
          "text": [
            "Requirement already satisfied: mlxtend in /usr/local/lib/python3.7/dist-packages (0.14.0)\n",
            "Requirement already satisfied: scipy>=0.17 in /usr/local/lib/python3.7/dist-packages (from mlxtend) (1.4.1)\n",
            "Requirement already satisfied: setuptools in /usr/local/lib/python3.7/dist-packages (from mlxtend) (57.4.0)\n",
            "Requirement already satisfied: matplotlib>=1.5.1 in /usr/local/lib/python3.7/dist-packages (from mlxtend) (3.2.2)\n",
            "Requirement already satisfied: numpy>=1.10.4 in /usr/local/lib/python3.7/dist-packages (from mlxtend) (1.19.5)\n",
            "Requirement already satisfied: pandas>=0.17.1 in /usr/local/lib/python3.7/dist-packages (from mlxtend) (1.1.5)\n",
            "Requirement already satisfied: scikit-learn>=0.18 in /usr/local/lib/python3.7/dist-packages (from mlxtend) (0.22.2.post1)\n",
            "Requirement already satisfied: pyparsing!=2.0.4,!=2.1.2,!=2.1.6,>=2.0.1 in /usr/local/lib/python3.7/dist-packages (from matplotlib>=1.5.1->mlxtend) (2.4.7)\n",
            "Requirement already satisfied: kiwisolver>=1.0.1 in /usr/local/lib/python3.7/dist-packages (from matplotlib>=1.5.1->mlxtend) (1.3.1)\n",
            "Requirement already satisfied: cycler>=0.10 in /usr/local/lib/python3.7/dist-packages (from matplotlib>=1.5.1->mlxtend) (0.10.0)\n",
            "Requirement already satisfied: python-dateutil>=2.1 in /usr/local/lib/python3.7/dist-packages (from matplotlib>=1.5.1->mlxtend) (2.8.2)\n",
            "Requirement already satisfied: six in /usr/local/lib/python3.7/dist-packages (from cycler>=0.10->matplotlib>=1.5.1->mlxtend) (1.15.0)\n",
            "Requirement already satisfied: pytz>=2017.2 in /usr/local/lib/python3.7/dist-packages (from pandas>=0.17.1->mlxtend) (2018.9)\n",
            "Requirement already satisfied: joblib>=0.11 in /usr/local/lib/python3.7/dist-packages (from scikit-learn>=0.18->mlxtend) (1.0.1)\n"
          ],
          "name": "stdout"
        }
      ]
    },
    {
      "cell_type": "code",
      "metadata": {
        "colab": {
          "base_uri": "https://localhost:8080/",
          "height": 426
        },
        "id": "ox13rgjTw5y8",
        "outputId": "7ad448f6-5eec-4329-bb70-79d388debbc4"
      },
      "source": [
        "# 이 셀의 코드는 변경하지 마세요\n",
        "\n",
        "import matplotlib.pyplot as plt\n",
        "from mlxtend.plotting import plot_decision_regions\n",
        "\n",
        "h = .02  # step size in the mesh\n",
        "\n",
        "# create a mesh to plot in\n",
        "x_min, x_max = X[:, 0].min() - .2, X[:, 0].max() + .2\n",
        "y_min, y_max = X[:, 1].min() - .2, X[:, 1].max() + .2\n",
        "xx, yy = np.meshgrid(np.arange(x_min, x_max, h),\n",
        "                     np.arange(y_min, y_max, h))\n",
        "\n",
        "fig = plt.figure(figsize=(12,6))\n",
        "\n",
        "\n",
        "for clf, hist, name, grd in zip([model1,model2], [h1, h2],['Perceptron', 'Multi-Layer Perceptron'],[1,2]):\n",
        "\n",
        "    ax = plt.subplot(1,2, grd)\n",
        "    fig = plot_decision_regions(X=X, y=y, clf=clf, legend=2)\n",
        "    title = f\"{name} with {hist.history['acc'][-1]:,.2f} Accuracy\"\n",
        "    plt.title(title)\n",
        "\n",
        "plt.show()"
      ],
      "execution_count": null,
      "outputs": [
        {
          "output_type": "stream",
          "text": [
            "/usr/local/lib/python3.7/dist-packages/mlxtend/plotting/decision_regions.py:244: MatplotlibDeprecationWarning: Passing unsupported keyword arguments to axis() will raise a TypeError in 3.3.\n",
            "  ax.axis(xmin=xx.min(), xmax=xx.max(), y_min=yy.min(), y_max=yy.max())\n"
          ],
          "name": "stderr"
        },
        {
          "output_type": "display_data",
          "data": {
            "image/png": "[encoded data removed]",
            "text/plain": [
              "<Figure size 864x432 with 2 Axes>"
            ]
          },
          "metadata": {
            "needs_background": "light"
          }
        }
      ]
    },
    {
      "cell_type": "markdown",
      "metadata": {
        "id": "4qBWszwMw5y8"
      },
      "source": [
        "#### 대부분의 Perceptron(\"model1\")의 정확도가 50-70% 정도로 나오실 것인데요, 왜 그것밖에 되지 않을까요? <br> 데이터 X와 레이블 y의 관계를 보다 정확하게 학습할 수 있는 다층 퍼셉트론의 구조적인 특징은 무엇일까요? (설명을 하실 때 우리가 배웠었던 특징 추출의 관점에서 설명을 해보시길 바랍니다.)"
      ]
    },
    {
      "cell_type": "markdown",
      "metadata": {
        "id": "_kDAzIswEeR-"
      },
      "source": [
        "model1 에서는 입력층과 출력층만 존재하여 선형적인 예측만 가능하지만,\n",
        "\n",
        "model2 에서는 다층 퍼셉트론을 이용하여 중간에 히든레이어를 넣어 비선형적인 예측이 가능하게 되어 보다 더 정확한 학습을 할 수 있게 된다.\n",
        "\n",
        "특징 추출의 관점에서 설명하자면, \n",
        "\n",
        "다층 퍼셉트론에서는 입력 데이터에서 특징을 추출하여 새로운 입력 데이터를 만들어 다시 학습을 시킨다."
      ]
    },
    {
      "cell_type": "markdown",
      "metadata": {
        "id": "FYEPmr-_w5y8"
      },
      "source": [
        "## 3. Keras MLP 튜닝\n",
        "\n",
        "이번에는 Keras 라이브러리를 사용하여 선택한 MultiLayer Perceptron(MLP) 아키텍처를 구현해보겠습니다. 극히 단순한 모델부터 복잡한 모델까지 만들어 보실 수 있습니다. 모델을 학습하고 정확도를 구해보세요. \n",
        "<br> 그런 다음 최소 <b>두 개</b>의 파라미터를 튜닝한 후에 다시 모형의 정확도를 구해보고 이전 모델과 비교해보세요. \n",
        "<br> 아래 Cell에서 심장병 데이터 세트를 불러 온 후 이진 분류 모델 (binary classification model) 을 만들어 보세요. 이진 분류 작업에 적절한 손실 함수를 사용하고, 신경망의 마지막 계층에서 적절한 출력값과 활성화 함수를 사용합니다. \n",
        "<br> 세부적인 출력을 사용하여 빠르게 수렴할 수 있도록 모델을 학습해보는 것도 중요합니다. GridSearchCV 또는 RandomSearchCV를 사용하여 모델을 하이퍼 파라미터들을 튜닝해봅니다. (최소 두 개의 하이퍼 파라미터를 튜닝해봅니다) 하이퍼 파라미터 튜닝 시 새로운 각 실험에 대해 코드 셀을 추가하여 작업하는 방법을 배워보았는데, 그대로 이용하지 말고 변형을 해서 보여주고 싶은 내용을 정리해서 보여주세요.  \n",
        "<br> 테스트할 때 하이퍼 파라미터의 각 조합에 대한 정확도를 보고하여 가장 높은 정확도를 얻을 수 있는 결과를 쉽게 확인할 수 있도록 합니다. \n",
        "<br> 이 SC에서 **3점**을 얻으려면 **최소 3개의 파라미터**를 조정해야 합니다.\n",
        "\n",
        "- BatchNormalization을 레이어에 추가하면 성능이 많이 오를 수 있습니다. \n",
        "- 하지만 BatchNormalization을 사용하기 위해서는 Batch_size 옵션을 추가해야 합니다."
      ]
    },
    {
      "cell_type": "code",
      "metadata": {
        "colab": {
          "base_uri": "https://localhost:8080/",
          "height": 222
        },
        "id": "F35sgQ7Cw5y8",
        "inputHidden": false,
        "jupyter": {
          "outputs_hidden": false
        },
        "outputHidden": false,
        "outputId": "9b6a1d4f-ed5e-44e3-e226-3a752ad435a2"
      },
      "source": [
        "import pandas as pd\n",
        "from sklearn.preprocessing import StandardScaler\n",
        "\n",
        "df = pd.read_csv('https://ds-lecture-data.s3.ap-northeast-2.amazonaws.com/datasets/heart.csv')\n",
        "df = df.sample(frac=1)\n",
        "print(df.shape)\n",
        "df.head()\n"
      ],
      "execution_count": null,
      "outputs": [
        {
          "output_type": "stream",
          "text": [
            "(303, 14)\n"
          ],
          "name": "stdout"
        },
        {
          "output_type": "execute_result",
          "data": {
            "text/html": [
              "<div>\n",
              "<style scoped>\n",
              "    .dataframe tbody tr th:only-of-type {\n",
              "        vertical-align: middle;\n",
              "    }\n",
              "\n",
              "    .dataframe tbody tr th {\n",
              "        vertical-align: top;\n",
              "    }\n",
              "\n",
              "    .dataframe thead th {\n",
              "        text-align: right;\n",
              "    }\n",
              "</style>\n",
              "<table border=\"1\" class=\"dataframe\">\n",
              "  <thead>\n",
              "    <tr style=\"text-align: right;\">\n",
              "      <th></th>\n",
              "      <th>age</th>\n",
              "      <th>sex</th>\n",
              "      <th>cp</th>\n",
              "      <th>trestbps</th>\n",
              "      <th>chol</th>\n",
              "      <th>fbs</th>\n",
              "      <th>restecg</th>\n",
              "      <th>thalach</th>\n",
              "      <th>exang</th>\n",
              "      <th>oldpeak</th>\n",
              "      <th>slope</th>\n",
              "      <th>ca</th>\n",
              "      <th>thal</th>\n",
              "      <th>target</th>\n",
              "    </tr>\n",
              "  </thead>\n",
              "  <tbody>\n",
              "    <tr>\n",
              "      <th>279</th>\n",
              "      <td>61</td>\n",
              "      <td>1</td>\n",
              "      <td>0</td>\n",
              "      <td>138</td>\n",
              "      <td>166</td>\n",
              "      <td>0</td>\n",
              "      <td>0</td>\n",
              "      <td>125</td>\n",
              "      <td>1</td>\n",
              "      <td>3.6</td>\n",
              "      <td>1</td>\n",
              "      <td>1</td>\n",
              "      <td>2</td>\n",
              "      <td>0</td>\n",
              "    </tr>\n",
              "    <tr>\n",
              "      <th>69</th>\n",
              "      <td>62</td>\n",
              "      <td>0</td>\n",
              "      <td>0</td>\n",
              "      <td>124</td>\n",
              "      <td>209</td>\n",
              "      <td>0</td>\n",
              "      <td>1</td>\n",
              "      <td>163</td>\n",
              "      <td>0</td>\n",
              "      <td>0.0</td>\n",
              "      <td>2</td>\n",
              "      <td>0</td>\n",
              "      <td>2</td>\n",
              "      <td>1</td>\n",
              "    </tr>\n",
              "    <tr>\n",
              "      <th>251</th>\n",
              "      <td>43</td>\n",
              "      <td>1</td>\n",
              "      <td>0</td>\n",
              "      <td>132</td>\n",
              "      <td>247</td>\n",
              "      <td>1</td>\n",
              "      <td>0</td>\n",
              "      <td>143</td>\n",
              "      <td>1</td>\n",
              "      <td>0.1</td>\n",
              "      <td>1</td>\n",
              "      <td>4</td>\n",
              "      <td>3</td>\n",
              "      <td>0</td>\n",
              "    </tr>\n",
              "    <tr>\n",
              "      <th>259</th>\n",
              "      <td>38</td>\n",
              "      <td>1</td>\n",
              "      <td>3</td>\n",
              "      <td>120</td>\n",
              "      <td>231</td>\n",
              "      <td>0</td>\n",
              "      <td>1</td>\n",
              "      <td>182</td>\n",
              "      <td>1</td>\n",
              "      <td>3.8</td>\n",
              "      <td>1</td>\n",
              "      <td>0</td>\n",
              "      <td>3</td>\n",
              "      <td>0</td>\n",
              "    </tr>\n",
              "    <tr>\n",
              "      <th>27</th>\n",
              "      <td>51</td>\n",
              "      <td>1</td>\n",
              "      <td>2</td>\n",
              "      <td>110</td>\n",
              "      <td>175</td>\n",
              "      <td>0</td>\n",
              "      <td>1</td>\n",
              "      <td>123</td>\n",
              "      <td>0</td>\n",
              "      <td>0.6</td>\n",
              "      <td>2</td>\n",
              "      <td>0</td>\n",
              "      <td>2</td>\n",
              "      <td>1</td>\n",
              "    </tr>\n",
              "  </tbody>\n",
              "</table>\n",
              "</div>"
            ],
            "text/plain": [
              "     age  sex  cp  trestbps  chol  fbs  ...  exang  oldpeak  slope  ca  thal  target\n",
              "279   61    1   0       138   166    0  ...      1      3.6      1   1     2       0\n",
              "69    62    0   0       124   209    0  ...      0      0.0      2   0     2       1\n",
              "251   43    1   0       132   247    1  ...      1      0.1      1   4     3       0\n",
              "259   38    1   3       120   231    0  ...      1      3.8      1   0     3       0\n",
              "27    51    1   2       110   175    0  ...      0      0.6      2   0     2       1\n",
              "\n",
              "[5 rows x 14 columns]"
            ]
          },
          "metadata": {
            "tags": []
          },
          "execution_count": 65
        }
      ]
    },
    {
      "cell_type": "code",
      "metadata": {
        "colab": {
          "base_uri": "https://localhost:8080/"
        },
        "id": "o5eoOsnfLa09",
        "outputId": "9776551c-9a05-4a5e-8804-516282bd72cf"
      },
      "source": [
        "from sklearn.model_selection import train_test_split\n",
        "\n",
        "train, test = train_test_split(df, train_size=0.80, test_size=0.20, \n",
        "                              stratify=df['target'], random_state=2)\n",
        "\n",
        "X_train, y_train, X_test, y_test = train.drop('target', axis = 1), train.target, test.drop('target', axis = 1), test.target\n",
        "\n",
        "X_train.shape, y_train.shape, X_test.shape, y_test.shape"
      ],
      "execution_count": null,
      "outputs": [
        {
          "output_type": "execute_result",
          "data": {
            "text/plain": [
              "((242, 13), (242,), (61, 13), (61,))"
            ]
          },
          "metadata": {
            "tags": []
          },
          "execution_count": 69
        }
      ]
    },
    {
      "cell_type": "markdown",
      "metadata": {
        "id": "ccj9k0irO7MG"
      },
      "source": [
        "단순한 모델"
      ]
    },
    {
      "cell_type": "code",
      "metadata": {
        "colab": {
          "base_uri": "https://localhost:8080/"
        },
        "id": "mDeM_1iEw5y9",
        "outputId": "e4c523bd-42e7-42cb-9303-c0b289a51cdc"
      },
      "source": [
        "model = Sequential([\n",
        "    Dense(1, activation='sigmoid')\n",
        "])\n",
        "\n",
        "model.compile(optimizer='adam', loss='binary_crossentropy', metrics=['acc'])\n",
        " \n",
        "results = model.fit(X_train, y_train, batch_size=32, epochs=100, validation_data=(X_test,y_test))"
      ],
      "execution_count": null,
      "outputs": [
        {
          "output_type": "stream",
          "text": [
            "Epoch 1/100\n",
            "8/8 [==============================] - 1s 22ms/step - loss: 37.9365 - acc: 0.4545 - val_loss: 37.1152 - val_acc: 0.4590\n",
            "Epoch 2/100\n",
            "8/8 [==============================] - 0s 4ms/step - loss: 35.4161 - acc: 0.4545 - val_loss: 34.6027 - val_acc: 0.4590\n",
            "Epoch 3/100\n",
            "8/8 [==============================] - 0s 5ms/step - loss: 32.8613 - acc: 0.4545 - val_loss: 32.0869 - val_acc: 0.4590\n",
            "Epoch 4/100\n",
            "8/8 [==============================] - 0s 5ms/step - loss: 30.3468 - acc: 0.4545 - val_loss: 29.5333 - val_acc: 0.4590\n",
            "Epoch 5/100\n",
            "8/8 [==============================] - 0s 4ms/step - loss: 27.8762 - acc: 0.4545 - val_loss: 26.9573 - val_acc: 0.4590\n",
            "Epoch 6/100\n",
            "8/8 [==============================] - 0s 5ms/step - loss: 25.3343 - acc: 0.4587 - val_loss: 24.4327 - val_acc: 0.4590\n",
            "Epoch 7/100\n",
            "8/8 [==============================] - 0s 4ms/step - loss: 22.8663 - acc: 0.4587 - val_loss: 21.9110 - val_acc: 0.4590\n",
            "Epoch 8/100\n",
            "8/8 [==============================] - 0s 5ms/step - loss: 20.4236 - acc: 0.4587 - val_loss: 19.3743 - val_acc: 0.4590\n",
            "Epoch 9/100\n",
            "8/8 [==============================] - 0s 5ms/step - loss: 17.8279 - acc: 0.4587 - val_loss: 16.9750 - val_acc: 0.4426\n",
            "Epoch 10/100\n",
            "8/8 [==============================] - 0s 5ms/step - loss: 15.5175 - acc: 0.4380 - val_loss: 14.6859 - val_acc: 0.4426\n",
            "Epoch 11/100\n",
            "8/8 [==============================] - 0s 5ms/step - loss: 13.4011 - acc: 0.3926 - val_loss: 12.7580 - val_acc: 0.3934\n",
            "Epoch 12/100\n",
            "8/8 [==============================] - 0s 5ms/step - loss: 11.5701 - acc: 0.3884 - val_loss: 11.1645 - val_acc: 0.3770\n",
            "Epoch 13/100\n",
            "8/8 [==============================] - 0s 5ms/step - loss: 10.1076 - acc: 0.3760 - val_loss: 9.8452 - val_acc: 0.4098\n",
            "Epoch 14/100\n",
            "8/8 [==============================] - 0s 4ms/step - loss: 8.9427 - acc: 0.3967 - val_loss: 8.8780 - val_acc: 0.3770\n",
            "Epoch 15/100\n",
            "8/8 [==============================] - 0s 5ms/step - loss: 8.2090 - acc: 0.3678 - val_loss: 8.1922 - val_acc: 0.4098\n",
            "Epoch 16/100\n",
            "8/8 [==============================] - 0s 5ms/step - loss: 7.6568 - acc: 0.3719 - val_loss: 7.8380 - val_acc: 0.4098\n",
            "Epoch 17/100\n",
            "8/8 [==============================] - 0s 5ms/step - loss: 7.3953 - acc: 0.3636 - val_loss: 7.6407 - val_acc: 0.4262\n",
            "Epoch 18/100\n",
            "8/8 [==============================] - 0s 5ms/step - loss: 7.2339 - acc: 0.3678 - val_loss: 7.5338 - val_acc: 0.4262\n",
            "Epoch 19/100\n",
            "8/8 [==============================] - 0s 5ms/step - loss: 7.1977 - acc: 0.3678 - val_loss: 7.4564 - val_acc: 0.4098\n",
            "Epoch 20/100\n",
            "8/8 [==============================] - 0s 5ms/step - loss: 7.1292 - acc: 0.3760 - val_loss: 7.4085 - val_acc: 0.4098\n",
            "Epoch 21/100\n",
            "8/8 [==============================] - 0s 5ms/step - loss: 7.0815 - acc: 0.3802 - val_loss: 7.3668 - val_acc: 0.4098\n",
            "Epoch 22/100\n",
            "8/8 [==============================] - 0s 5ms/step - loss: 7.0403 - acc: 0.3843 - val_loss: 7.3253 - val_acc: 0.4098\n",
            "Epoch 23/100\n",
            "8/8 [==============================] - 0s 5ms/step - loss: 7.0022 - acc: 0.3802 - val_loss: 7.2813 - val_acc: 0.4098\n",
            "Epoch 24/100\n",
            "8/8 [==============================] - 0s 5ms/step - loss: 6.9555 - acc: 0.3843 - val_loss: 7.2393 - val_acc: 0.4098\n",
            "Epoch 25/100\n",
            "8/8 [==============================] - 0s 5ms/step - loss: 6.9147 - acc: 0.3843 - val_loss: 7.1932 - val_acc: 0.4098\n",
            "Epoch 26/100\n",
            "8/8 [==============================] - 0s 5ms/step - loss: 6.8695 - acc: 0.3884 - val_loss: 7.1497 - val_acc: 0.4098\n",
            "Epoch 27/100\n",
            "8/8 [==============================] - 0s 5ms/step - loss: 6.8261 - acc: 0.3843 - val_loss: 7.1062 - val_acc: 0.4262\n",
            "Epoch 28/100\n",
            "8/8 [==============================] - 0s 5ms/step - loss: 6.7775 - acc: 0.3843 - val_loss: 7.0565 - val_acc: 0.4098\n",
            "Epoch 29/100\n",
            "8/8 [==============================] - 0s 4ms/step - loss: 6.7311 - acc: 0.3884 - val_loss: 7.0078 - val_acc: 0.4098\n",
            "Epoch 30/100\n",
            "8/8 [==============================] - 0s 5ms/step - loss: 6.6872 - acc: 0.3926 - val_loss: 6.9613 - val_acc: 0.4098\n",
            "Epoch 31/100\n",
            "8/8 [==============================] - 0s 4ms/step - loss: 6.6394 - acc: 0.3926 - val_loss: 6.9104 - val_acc: 0.4098\n",
            "Epoch 32/100\n",
            "8/8 [==============================] - 0s 5ms/step - loss: 6.5912 - acc: 0.3884 - val_loss: 6.8622 - val_acc: 0.4098\n",
            "Epoch 33/100\n",
            "8/8 [==============================] - 0s 5ms/step - loss: 6.5432 - acc: 0.3926 - val_loss: 6.8106 - val_acc: 0.4098\n",
            "Epoch 34/100\n",
            "8/8 [==============================] - 0s 5ms/step - loss: 6.4916 - acc: 0.3884 - val_loss: 6.7627 - val_acc: 0.4262\n",
            "Epoch 35/100\n",
            "8/8 [==============================] - 0s 4ms/step - loss: 6.4617 - acc: 0.3843 - val_loss: 6.7222 - val_acc: 0.4426\n",
            "Epoch 36/100\n",
            "8/8 [==============================] - 0s 6ms/step - loss: 6.3922 - acc: 0.3884 - val_loss: 6.6611 - val_acc: 0.4262\n",
            "Epoch 37/100\n",
            "8/8 [==============================] - 0s 4ms/step - loss: 6.3489 - acc: 0.3926 - val_loss: 6.6048 - val_acc: 0.4098\n",
            "Epoch 38/100\n",
            "8/8 [==============================] - 0s 5ms/step - loss: 6.2947 - acc: 0.3926 - val_loss: 6.5497 - val_acc: 0.4098\n",
            "Epoch 39/100\n",
            "8/8 [==============================] - 0s 5ms/step - loss: 6.2455 - acc: 0.3926 - val_loss: 6.4962 - val_acc: 0.4098\n",
            "Epoch 40/100\n",
            "8/8 [==============================] - 0s 4ms/step - loss: 6.1932 - acc: 0.3926 - val_loss: 6.4435 - val_acc: 0.4098\n",
            "Epoch 41/100\n",
            "8/8 [==============================] - 0s 8ms/step - loss: 6.1416 - acc: 0.3926 - val_loss: 6.3915 - val_acc: 0.4098\n",
            "Epoch 42/100\n",
            "8/8 [==============================] - 0s 4ms/step - loss: 6.0903 - acc: 0.3926 - val_loss: 6.3365 - val_acc: 0.4098\n",
            "Epoch 43/100\n",
            "8/8 [==============================] - 0s 4ms/step - loss: 6.0397 - acc: 0.3967 - val_loss: 6.2814 - val_acc: 0.4098\n",
            "Epoch 44/100\n",
            "8/8 [==============================] - 0s 4ms/step - loss: 5.9886 - acc: 0.3926 - val_loss: 6.2297 - val_acc: 0.4098\n",
            "Epoch 45/100\n",
            "8/8 [==============================] - 0s 5ms/step - loss: 5.9310 - acc: 0.4008 - val_loss: 6.1732 - val_acc: 0.4098\n",
            "Epoch 46/100\n",
            "8/8 [==============================] - 0s 5ms/step - loss: 5.8756 - acc: 0.4008 - val_loss: 6.1187 - val_acc: 0.4098\n",
            "Epoch 47/100\n",
            "8/8 [==============================] - 0s 6ms/step - loss: 5.8249 - acc: 0.3967 - val_loss: 6.0595 - val_acc: 0.4098\n",
            "Epoch 48/100\n",
            "8/8 [==============================] - 0s 5ms/step - loss: 5.7682 - acc: 0.3967 - val_loss: 6.0014 - val_acc: 0.4098\n",
            "Epoch 49/100\n",
            "8/8 [==============================] - 0s 5ms/step - loss: 5.7105 - acc: 0.3967 - val_loss: 5.9461 - val_acc: 0.4098\n",
            "Epoch 50/100\n",
            "8/8 [==============================] - 0s 8ms/step - loss: 5.6762 - acc: 0.3926 - val_loss: 5.8954 - val_acc: 0.4426\n",
            "Epoch 51/100\n",
            "8/8 [==============================] - 0s 5ms/step - loss: 5.6055 - acc: 0.4008 - val_loss: 5.8276 - val_acc: 0.4262\n",
            "Epoch 52/100\n",
            "8/8 [==============================] - 0s 5ms/step - loss: 5.5410 - acc: 0.4050 - val_loss: 5.7694 - val_acc: 0.4262\n",
            "Epoch 53/100\n",
            "8/8 [==============================] - 0s 5ms/step - loss: 5.4864 - acc: 0.4050 - val_loss: 5.7104 - val_acc: 0.4262\n",
            "Epoch 54/100\n",
            "8/8 [==============================] - 0s 6ms/step - loss: 5.4323 - acc: 0.4050 - val_loss: 5.6521 - val_acc: 0.4262\n",
            "Epoch 55/100\n",
            "8/8 [==============================] - 0s 8ms/step - loss: 5.3724 - acc: 0.4050 - val_loss: 5.5911 - val_acc: 0.4262\n",
            "Epoch 56/100\n",
            "8/8 [==============================] - 0s 5ms/step - loss: 5.3164 - acc: 0.4050 - val_loss: 5.5317 - val_acc: 0.4262\n",
            "Epoch 57/100\n",
            "8/8 [==============================] - 0s 6ms/step - loss: 5.2736 - acc: 0.3967 - val_loss: 5.4816 - val_acc: 0.4426\n",
            "Epoch 58/100\n",
            "8/8 [==============================] - 0s 6ms/step - loss: 5.1999 - acc: 0.4050 - val_loss: 5.4191 - val_acc: 0.4426\n",
            "Epoch 59/100\n",
            "8/8 [==============================] - 0s 6ms/step - loss: 5.1488 - acc: 0.4008 - val_loss: 5.3502 - val_acc: 0.4262\n",
            "Epoch 60/100\n",
            "8/8 [==============================] - 0s 5ms/step - loss: 5.0814 - acc: 0.4050 - val_loss: 5.2878 - val_acc: 0.4262\n",
            "Epoch 61/100\n",
            "8/8 [==============================] - 0s 5ms/step - loss: 5.0199 - acc: 0.4091 - val_loss: 5.2261 - val_acc: 0.4262\n",
            "Epoch 62/100\n",
            "8/8 [==============================] - 0s 5ms/step - loss: 4.9661 - acc: 0.4091 - val_loss: 5.1653 - val_acc: 0.4262\n",
            "Epoch 63/100\n",
            "8/8 [==============================] - 0s 6ms/step - loss: 4.9102 - acc: 0.4091 - val_loss: 5.1067 - val_acc: 0.4426\n",
            "Epoch 64/100\n",
            "8/8 [==============================] - 0s 5ms/step - loss: 4.8408 - acc: 0.4050 - val_loss: 5.0401 - val_acc: 0.4262\n",
            "Epoch 65/100\n",
            "8/8 [==============================] - 0s 5ms/step - loss: 4.7871 - acc: 0.4132 - val_loss: 4.9738 - val_acc: 0.4262\n",
            "Epoch 66/100\n",
            "8/8 [==============================] - 0s 5ms/step - loss: 4.7250 - acc: 0.4174 - val_loss: 4.9124 - val_acc: 0.4262\n",
            "Epoch 67/100\n",
            "8/8 [==============================] - 0s 4ms/step - loss: 4.6657 - acc: 0.4132 - val_loss: 4.8504 - val_acc: 0.4262\n",
            "Epoch 68/100\n",
            "8/8 [==============================] - 0s 6ms/step - loss: 4.5999 - acc: 0.4174 - val_loss: 4.7873 - val_acc: 0.4262\n",
            "Epoch 69/100\n",
            "8/8 [==============================] - 0s 5ms/step - loss: 4.5428 - acc: 0.4091 - val_loss: 4.7243 - val_acc: 0.4426\n",
            "Epoch 70/100\n",
            "8/8 [==============================] - 0s 5ms/step - loss: 4.4799 - acc: 0.4256 - val_loss: 4.6548 - val_acc: 0.4426\n",
            "Epoch 71/100\n",
            "8/8 [==============================] - 0s 6ms/step - loss: 4.4151 - acc: 0.4132 - val_loss: 4.5904 - val_acc: 0.4590\n",
            "Epoch 72/100\n",
            "8/8 [==============================] - 0s 4ms/step - loss: 4.3585 - acc: 0.4132 - val_loss: 4.5312 - val_acc: 0.4590\n",
            "Epoch 73/100\n",
            "8/8 [==============================] - 0s 4ms/step - loss: 4.2866 - acc: 0.4050 - val_loss: 4.4658 - val_acc: 0.4590\n",
            "Epoch 74/100\n",
            "8/8 [==============================] - 0s 5ms/step - loss: 4.2264 - acc: 0.4050 - val_loss: 4.4002 - val_acc: 0.4590\n",
            "Epoch 75/100\n",
            "8/8 [==============================] - 0s 5ms/step - loss: 4.1619 - acc: 0.4174 - val_loss: 4.3305 - val_acc: 0.4590\n",
            "Epoch 76/100\n",
            "8/8 [==============================] - 0s 4ms/step - loss: 4.1016 - acc: 0.4174 - val_loss: 4.2629 - val_acc: 0.4590\n",
            "Epoch 77/100\n",
            "8/8 [==============================] - 0s 5ms/step - loss: 4.0448 - acc: 0.4132 - val_loss: 4.2009 - val_acc: 0.4590\n",
            "Epoch 78/100\n",
            "8/8 [==============================] - 0s 5ms/step - loss: 3.9734 - acc: 0.4174 - val_loss: 4.1336 - val_acc: 0.4590\n",
            "Epoch 79/100\n",
            "8/8 [==============================] - 0s 5ms/step - loss: 3.9127 - acc: 0.4174 - val_loss: 4.0714 - val_acc: 0.4590\n",
            "Epoch 80/100\n",
            "8/8 [==============================] - 0s 4ms/step - loss: 3.8494 - acc: 0.4132 - val_loss: 4.0029 - val_acc: 0.4590\n",
            "Epoch 81/100\n",
            "8/8 [==============================] - 0s 5ms/step - loss: 3.7835 - acc: 0.4174 - val_loss: 3.9387 - val_acc: 0.4590\n",
            "Epoch 82/100\n",
            "8/8 [==============================] - 0s 6ms/step - loss: 3.7251 - acc: 0.4174 - val_loss: 3.8715 - val_acc: 0.4590\n",
            "Epoch 83/100\n",
            "8/8 [==============================] - 0s 5ms/step - loss: 3.6587 - acc: 0.4174 - val_loss: 3.8047 - val_acc: 0.4754\n",
            "Epoch 84/100\n",
            "8/8 [==============================] - 0s 5ms/step - loss: 3.5910 - acc: 0.4091 - val_loss: 3.7428 - val_acc: 0.4754\n",
            "Epoch 85/100\n",
            "8/8 [==============================] - 0s 5ms/step - loss: 3.5340 - acc: 0.4132 - val_loss: 3.6746 - val_acc: 0.4754\n",
            "Epoch 86/100\n",
            "8/8 [==============================] - 0s 5ms/step - loss: 3.4796 - acc: 0.4215 - val_loss: 3.6222 - val_acc: 0.4590\n",
            "Epoch 87/100\n",
            "8/8 [==============================] - 0s 5ms/step - loss: 3.4174 - acc: 0.4174 - val_loss: 3.5526 - val_acc: 0.4590\n",
            "Epoch 88/100\n",
            "8/8 [==============================] - 0s 5ms/step - loss: 3.3403 - acc: 0.4132 - val_loss: 3.4742 - val_acc: 0.4754\n",
            "Epoch 89/100\n",
            "8/8 [==============================] - 0s 5ms/step - loss: 3.2762 - acc: 0.4339 - val_loss: 3.4065 - val_acc: 0.4754\n",
            "Epoch 90/100\n",
            "8/8 [==============================] - 0s 5ms/step - loss: 3.2131 - acc: 0.4339 - val_loss: 3.3403 - val_acc: 0.4754\n",
            "Epoch 91/100\n",
            "8/8 [==============================] - 0s 5ms/step - loss: 3.1518 - acc: 0.4380 - val_loss: 3.2734 - val_acc: 0.4754\n",
            "Epoch 92/100\n",
            "8/8 [==============================] - 0s 5ms/step - loss: 3.0894 - acc: 0.4380 - val_loss: 3.2071 - val_acc: 0.4918\n",
            "Epoch 93/100\n",
            "8/8 [==============================] - 0s 4ms/step - loss: 3.0203 - acc: 0.4380 - val_loss: 3.1491 - val_acc: 0.4754\n",
            "Epoch 94/100\n",
            "8/8 [==============================] - 0s 6ms/step - loss: 2.9584 - acc: 0.4380 - val_loss: 3.0829 - val_acc: 0.4754\n",
            "Epoch 95/100\n",
            "8/8 [==============================] - 0s 5ms/step - loss: 2.9000 - acc: 0.4380 - val_loss: 3.0087 - val_acc: 0.4918\n",
            "Epoch 96/100\n",
            "8/8 [==============================] - 0s 5ms/step - loss: 2.8304 - acc: 0.4463 - val_loss: 2.9411 - val_acc: 0.4918\n",
            "Epoch 97/100\n",
            "8/8 [==============================] - 0s 5ms/step - loss: 2.7647 - acc: 0.4463 - val_loss: 2.8759 - val_acc: 0.4754\n",
            "Epoch 98/100\n",
            "8/8 [==============================] - 0s 5ms/step - loss: 2.7100 - acc: 0.4504 - val_loss: 2.8113 - val_acc: 0.4754\n",
            "Epoch 99/100\n",
            "8/8 [==============================] - 0s 5ms/step - loss: 2.6440 - acc: 0.4545 - val_loss: 2.7450 - val_acc: 0.4918\n",
            "Epoch 100/100\n",
            "8/8 [==============================] - 0s 5ms/step - loss: 2.5795 - acc: 0.4545 - val_loss: 2.6858 - val_acc: 0.4754\n"
          ],
          "name": "stdout"
        }
      ]
    },
    {
      "cell_type": "markdown",
      "metadata": {
        "id": "fiEGVnNbO-R6"
      },
      "source": [
        "복잡한 모델"
      ]
    },
    {
      "cell_type": "code",
      "metadata": {
        "id": "noD9XuW6SucK"
      },
      "source": [
        "# 표준화\n",
        "from sklearn.preprocessing import StandardScaler\n",
        "scaler = StandardScaler()\n",
        "X_train_scaled = scaler.fit_transform(X_train)\n",
        "X_test_scaled = scaler.fit_transform(X_test)"
      ],
      "execution_count": null,
      "outputs": []
    },
    {
      "cell_type": "code",
      "metadata": {
        "colab": {
          "base_uri": "https://localhost:8080/"
        },
        "id": "lLVteN5fO_wH",
        "outputId": "529f269b-bb86-43a8-d017-c1b2d4ac013c"
      },
      "source": [
        "from tensorflow.keras.wrappers.scikit_learn import KerasClassifier\n",
        "from sklearn.model_selection import GridSearchCV\n",
        "import keras\n",
        "import tensorflow as tf\n",
        "import numpy as np\n",
        "from tensorflow.keras.models import Sequential\n",
        "from tensorflow.keras.layers import Dense, Dropout, Flatten, BatchNormalization\n",
        "\n",
        "# 모델 만들기\n",
        "tf.random.set_seed(7)\n",
        "\n",
        "def model_builder(nodes=16, activation='relu'):\n",
        "\n",
        "  model = Sequential()\n",
        "  model.add(Dense(nodes, activation=activation))\n",
        "  model.add(BatchNormalization())\n",
        "  model.add(Dense(nodes, activation=activation))\n",
        "  model.add(Dropout(0.2))\n",
        "  model.add(Dense(nodes, activation=activation))\n",
        "  model.add(BatchNormalization())\n",
        "  model.add(Dense(1, activation='sigmoid')) # 이진분류니까 노드수 1, 활성함수로는 시그모이드\n",
        "\n",
        "  model.compile(optimizer='adam', \n",
        "                loss='binary_crossentropy', \n",
        "                metrics=['accuracy'])\n",
        "\n",
        "  return model\n",
        "\n",
        "# keras.wrapper를 활용하여 분류기를 만듭니다\n",
        "diff_model = KerasClassifier(build_fn=model_builder, verbose=0)\n",
        "\n",
        "# GridSearch\n",
        "batch_size = [16, 32, 64]\n",
        "epochs = [30, 100, 200]\n",
        "nodes = [32, 64, 128]\n",
        "activation = ['relu', 'sigmoid', 'tanh']\n",
        "param_grid = dict(batch_size=batch_size, epochs=epochs, nodes=nodes, activation=activation)\n",
        "\n",
        "\n",
        "# GridSearch CV를 만들기\n",
        "grid = GridSearchCV(estimator=diff_model, param_grid=param_grid, cv=3, verbose=1, n_jobs=-1)\n",
        "grid_result = grid.fit(X_train_scaled, y_train)"
      ],
      "execution_count": null,
      "outputs": [
        {
          "output_type": "stream",
          "text": [
            "Fitting 3 folds for each of 81 candidates, totalling 243 fits\n"
          ],
          "name": "stdout"
        },
        {
          "output_type": "stream",
          "text": [
            "[Parallel(n_jobs=-1)]: Using backend LokyBackend with 2 concurrent workers.\n",
            "[Parallel(n_jobs=-1)]: Done  46 tasks      | elapsed:  2.0min\n",
            "[Parallel(n_jobs=-1)]: Done 196 tasks      | elapsed:  7.9min\n",
            "[Parallel(n_jobs=-1)]: Done 243 out of 243 | elapsed:  9.5min finished\n"
          ],
          "name": "stderr"
        }
      ]
    },
    {
      "cell_type": "code",
      "metadata": {
        "colab": {
          "base_uri": "https://localhost:8080/"
        },
        "id": "naa5i9WKQV12",
        "outputId": "08b9b6ea-5a15-4ecf-bbaf-bbbb788c7c11"
      },
      "source": [
        "# 최적의 결과값을 낸 파라미터를 출력합니다\n",
        "print(f\"Best: {grid_result.best_score_} using {grid_result.best_params_}\")\n",
        "means = grid_result.cv_results_['mean_test_score']\n",
        "stds = grid_result.cv_results_['std_test_score']\n",
        "params = grid_result.cv_results_['params']\n",
        "for mean, stdev, param in zip(means, stds, params):\n",
        "    print(f\"Means: {mean}, Stdev: {stdev} with: {param}\")"
      ],
      "execution_count": null,
      "outputs": [
        {
          "output_type": "stream",
          "text": [
            "Best: 0.8429526686668396 using {'activation': 'tanh', 'batch_size': 64, 'epochs': 30, 'nodes': 128}\n",
            "Means: 0.8015946547190348, Stdev: 0.027099711170801732 with: {'activation': 'relu', 'batch_size': 16, 'epochs': 30, 'nodes': 32}\n",
            "Means: 0.8015946547190348, Stdev: 0.011168344157138611 with: {'activation': 'relu', 'batch_size': 16, 'epochs': 30, 'nodes': 64}\n",
            "Means: 0.7933642069498698, Stdev: 0.015678575657098605 with: {'activation': 'relu', 'batch_size': 16, 'epochs': 30, 'nodes': 128}\n",
            "Means: 0.7686214049657186, Stdev: 0.011043255450719146 with: {'activation': 'relu', 'batch_size': 16, 'epochs': 100, 'nodes': 32}\n",
            "Means: 0.785236636797587, Stdev: 0.02450038569954686 with: {'activation': 'relu', 'batch_size': 16, 'epochs': 100, 'nodes': 64}\n",
            "Means: 0.7684670885403951, Stdev: 0.02661021101102286 with: {'activation': 'relu', 'batch_size': 16, 'epochs': 100, 'nodes': 128}\n",
            "Means: 0.7562242746353149, Stdev: 0.02064303499115904 with: {'activation': 'relu', 'batch_size': 16, 'epochs': 200, 'nodes': 32}\n",
            "Means: 0.7686213850975037, Stdev: 0.02065879512439131 with: {'activation': 'relu', 'batch_size': 16, 'epochs': 200, 'nodes': 64}\n",
            "Means: 0.7934156457583109, Stdev: 0.011103483444538705 with: {'activation': 'relu', 'batch_size': 16, 'epochs': 200, 'nodes': 128}\n",
            "Means: 0.8182098666826884, Stdev: 0.02072424901352349 with: {'activation': 'relu', 'batch_size': 32, 'epochs': 30, 'nodes': 32}\n",
            "Means: 0.8016975323359171, Stdev: 0.009151461918575382 with: {'activation': 'relu', 'batch_size': 32, 'epochs': 30, 'nodes': 64}\n",
            "Means: 0.7851851979891459, Stdev: 0.022719616607733483 with: {'activation': 'relu', 'batch_size': 32, 'epochs': 30, 'nodes': 128}\n",
            "Means: 0.76445472240448, Stdev: 0.020207748443941298 with: {'activation': 'relu', 'batch_size': 32, 'epochs': 100, 'nodes': 32}\n",
            "Means: 0.7851337591807047, Stdev: 0.015212594029176291 with: {'activation': 'relu', 'batch_size': 32, 'epochs': 100, 'nodes': 64}\n",
            "Means: 0.7975823084513346, Stdev: 0.01459037923742874 with: {'activation': 'relu', 'batch_size': 32, 'epochs': 100, 'nodes': 128}\n",
            "Means: 0.7685699661572775, Stdev: 0.015717688437177142 with: {'activation': 'relu', 'batch_size': 32, 'epochs': 200, 'nodes': 32}\n",
            "Means: 0.8059670925140381, Stdev: 0.03461319016695033 with: {'activation': 'relu', 'batch_size': 32, 'epochs': 200, 'nodes': 64}\n",
            "Means: 0.785236636797587, Stdev: 0.019926065541990452 with: {'activation': 'relu', 'batch_size': 32, 'epochs': 200, 'nodes': 128}\n",
            "Means: 0.8306584556897482, Stdev: 0.04737785403254391 with: {'activation': 'relu', 'batch_size': 64, 'epochs': 30, 'nodes': 32}\n",
            "Means: 0.7975823084513346, Stdev: 0.01459037923742874 with: {'activation': 'relu', 'batch_size': 64, 'epochs': 30, 'nodes': 64}\n",
            "Means: 0.7645576198895773, Stdev: 0.02587700820394348 with: {'activation': 'relu', 'batch_size': 64, 'epochs': 30, 'nodes': 128}\n",
            "Means: 0.8057098786036173, Stdev: 0.01635266984145455 with: {'activation': 'relu', 'batch_size': 64, 'epochs': 100, 'nodes': 32}\n",
            "Means: 0.8098251024881998, Stdev: 0.01657127544014143 with: {'activation': 'relu', 'batch_size': 64, 'epochs': 100, 'nodes': 64}\n",
            "Means: 0.7933642069498698, Stdev: 0.015678575657098605 with: {'activation': 'relu', 'batch_size': 64, 'epochs': 100, 'nodes': 128}\n",
            "Means: 0.7851337591807047, Stdev: 0.005310574889187496 with: {'activation': 'relu', 'batch_size': 64, 'epochs': 200, 'nodes': 32}\n",
            "Means: 0.7810185352961222, Stdev: 0.02067477859059134 with: {'activation': 'relu', 'batch_size': 64, 'epochs': 200, 'nodes': 64}\n",
            "Means: 0.7851337591807047, Stdev: 0.015212594029176291 with: {'activation': 'relu', 'batch_size': 64, 'epochs': 200, 'nodes': 128}\n",
            "Means: 0.8099794189135233, Stdev: 0.022787065890856235 with: {'activation': 'sigmoid', 'batch_size': 16, 'epochs': 30, 'nodes': 32}\n",
            "Means: 0.8347736597061157, Stdev: 0.014748948712316367 with: {'activation': 'sigmoid', 'batch_size': 16, 'epochs': 30, 'nodes': 64}\n",
            "Means: 0.8016975323359171, Stdev: 0.026332711398101775 with: {'activation': 'sigmoid', 'batch_size': 16, 'epochs': 30, 'nodes': 128}\n",
            "Means: 0.818107008934021, Stdev: 0.023882509802116862 with: {'activation': 'sigmoid', 'batch_size': 16, 'epochs': 100, 'nodes': 32}\n",
            "Means: 0.8058127562204996, Stdev: 0.004728595423932238 with: {'activation': 'sigmoid', 'batch_size': 16, 'epochs': 100, 'nodes': 64}\n",
            "Means: 0.7933642069498698, Stdev: 0.015678575657098605 with: {'activation': 'sigmoid', 'batch_size': 16, 'epochs': 100, 'nodes': 128}\n",
            "Means: 0.7893518606821696, Stdev: 0.01636820628348882 with: {'activation': 'sigmoid', 'batch_size': 16, 'epochs': 200, 'nodes': 32}\n",
            "Means: 0.7933642069498698, Stdev: 0.006526631841348462 with: {'activation': 'sigmoid', 'batch_size': 16, 'epochs': 200, 'nodes': 64}\n",
            "Means: 0.7933127482732137, Stdev: 0.016410034033806965 with: {'activation': 'sigmoid', 'batch_size': 16, 'epochs': 200, 'nodes': 128}\n",
            "Means: 0.6972736716270447, Stdev: 0.1861603485130763 with: {'activation': 'sigmoid', 'batch_size': 32, 'epochs': 30, 'nodes': 32}\n",
            "Means: 0.6487654248873392, Stdev: 0.06552713093730803 with: {'activation': 'sigmoid', 'batch_size': 32, 'epochs': 30, 'nodes': 64}\n",
            "Means: 0.6947016417980194, Stdev: 0.18601528938717293 with: {'activation': 'sigmoid', 'batch_size': 32, 'epochs': 30, 'nodes': 128}\n",
            "Means: 0.814146081606547, Stdev: 0.026060387914404366 with: {'activation': 'sigmoid', 'batch_size': 32, 'epochs': 100, 'nodes': 32}\n",
            "Means: 0.822376529375712, Stdev: 0.022821063607470597 with: {'activation': 'sigmoid', 'batch_size': 32, 'epochs': 100, 'nodes': 64}\n",
            "Means: 0.8057613174120585, Stdev: 0.025527658651744806 with: {'activation': 'sigmoid', 'batch_size': 32, 'epochs': 100, 'nodes': 128}\n",
            "Means: 0.8182098666826884, Stdev: 0.00480134088446204 with: {'activation': 'sigmoid', 'batch_size': 32, 'epochs': 200, 'nodes': 32}\n",
            "Means: 0.7975308696428934, Stdev: 0.015220766888294759 with: {'activation': 'sigmoid', 'batch_size': 32, 'epochs': 200, 'nodes': 64}\n",
            "Means: 0.7891460855801901, Stdev: 0.021368613940567136 with: {'activation': 'sigmoid', 'batch_size': 32, 'epochs': 200, 'nodes': 128}\n",
            "Means: 0.6154835422833761, Stdev: 0.11704060473891872 with: {'activation': 'sigmoid', 'batch_size': 64, 'epochs': 30, 'nodes': 32}\n",
            "Means: 0.603600819905599, Stdev: 0.07878388070938477 with: {'activation': 'sigmoid', 'batch_size': 64, 'epochs': 30, 'nodes': 64}\n",
            "Means: 0.5249485671520233, Stdev: 0.06605326695627649 with: {'activation': 'sigmoid', 'batch_size': 64, 'epochs': 30, 'nodes': 128}\n",
            "Means: 0.8182098865509033, Stdev: 0.050629194495689436 with: {'activation': 'sigmoid', 'batch_size': 64, 'epochs': 100, 'nodes': 32}\n",
            "Means: 0.809876541296641, Stdev: 0.021335757290060608 with: {'activation': 'sigmoid', 'batch_size': 64, 'epochs': 100, 'nodes': 64}\n",
            "Means: 0.8182098666826884, Stdev: 0.00480134088446204 with: {'activation': 'sigmoid', 'batch_size': 64, 'epochs': 100, 'nodes': 128}\n",
            "Means: 0.8140432039896647, Stdev: 0.010139089949215817 with: {'activation': 'sigmoid', 'batch_size': 64, 'epochs': 200, 'nodes': 32}\n",
            "Means: 0.7850308616956075, Stdev: 0.016709959137967006 with: {'activation': 'sigmoid', 'batch_size': 64, 'epochs': 200, 'nodes': 64}\n",
            "Means: 0.7893004218737284, Stdev: 0.0169075139054296 with: {'activation': 'sigmoid', 'batch_size': 64, 'epochs': 200, 'nodes': 128}\n",
            "Means: 0.8099279801050822, Stdev: 0.0053581941547767905 with: {'activation': 'tanh', 'batch_size': 16, 'epochs': 30, 'nodes': 32}\n",
            "Means: 0.8182098666826884, Stdev: 0.01116527115704036 with: {'activation': 'tanh', 'batch_size': 16, 'epochs': 30, 'nodes': 64}\n",
            "Means: 0.8182098666826884, Stdev: 0.01116527115704036 with: {'activation': 'tanh', 'batch_size': 16, 'epochs': 30, 'nodes': 128}\n",
            "Means: 0.8058127562204996, Stdev: 0.011134182520718058 with: {'activation': 'tanh', 'batch_size': 16, 'epochs': 100, 'nodes': 32}\n",
            "Means: 0.8139917651812235, Stdev: 0.01806953216111865 with: {'activation': 'tanh', 'batch_size': 16, 'epochs': 100, 'nodes': 64}\n",
            "Means: 0.7852880557378134, Stdev: 0.03456821356637427 with: {'activation': 'tanh', 'batch_size': 16, 'epochs': 100, 'nodes': 128}\n",
            "Means: 0.7849794228871664, Stdev: 0.026709369488646467 with: {'activation': 'tanh', 'batch_size': 16, 'epochs': 200, 'nodes': 32}\n",
            "Means: 0.7727366288503011, Stdev: 0.015204761865651645 with: {'activation': 'tanh', 'batch_size': 16, 'epochs': 200, 'nodes': 64}\n",
            "Means: 0.7894032796223959, Stdev: 0.03561781981911005 with: {'activation': 'tanh', 'batch_size': 16, 'epochs': 200, 'nodes': 128}\n",
            "Means: 0.826337456703186, Stdev: 0.027445821227672643 with: {'activation': 'tanh', 'batch_size': 32, 'epochs': 30, 'nodes': 32}\n",
            "Means: 0.818107008934021, Stdev: 0.023882509802116862 with: {'activation': 'tanh', 'batch_size': 32, 'epochs': 30, 'nodes': 64}\n",
            "Means: 0.8058641950289408, Stdev: 0.037786462627722 with: {'activation': 'tanh', 'batch_size': 32, 'epochs': 30, 'nodes': 128}\n",
            "Means: 0.8182613054911295, Stdev: 0.014507440365110652 with: {'activation': 'tanh', 'batch_size': 32, 'epochs': 100, 'nodes': 32}\n",
            "Means: 0.8140432039896647, Stdev: 0.010139089949215817 with: {'activation': 'tanh', 'batch_size': 32, 'epochs': 100, 'nodes': 64}\n",
            "Means: 0.7976337472597758, Stdev: 0.019996453928639156 with: {'activation': 'tanh', 'batch_size': 32, 'epochs': 100, 'nodes': 128}\n",
            "Means: 0.7976851860682169, Stdev: 0.029903497465578018 with: {'activation': 'tanh', 'batch_size': 32, 'epochs': 200, 'nodes': 32}\n",
            "Means: 0.7893004218737284, Stdev: 0.0169075139054296 with: {'activation': 'tanh', 'batch_size': 32, 'epochs': 200, 'nodes': 64}\n",
            "Means: 0.7933642069498698, Stdev: 0.006526631841348462 with: {'activation': 'tanh', 'batch_size': 32, 'epochs': 200, 'nodes': 128}\n",
            "Means: 0.8222736517588297, Stdev: 0.01222180592518424 with: {'activation': 'tanh', 'batch_size': 64, 'epochs': 30, 'nodes': 32}\n",
            "Means: 0.8056069811185201, Stdev: 0.03210477893044874 with: {'activation': 'tanh', 'batch_size': 64, 'epochs': 30, 'nodes': 64}\n",
            "Means: 0.8429526686668396, Stdev: 0.03549077506748092 with: {'activation': 'tanh', 'batch_size': 64, 'epochs': 30, 'nodes': 128}\n",
            "Means: 0.8017489711443583, Stdev: 0.01928510565100901 with: {'activation': 'tanh', 'batch_size': 64, 'epochs': 100, 'nodes': 32}\n",
            "Means: 0.8058641950289408, Stdev: 0.014439248223472837 with: {'activation': 'tanh', 'batch_size': 64, 'epochs': 100, 'nodes': 64}\n",
            "Means: 0.7810699741045634, Stdev: 0.01430299854208455 with: {'activation': 'tanh', 'batch_size': 64, 'epochs': 100, 'nodes': 128}\n",
            "Means: 0.8139917651812235, Stdev: 0.01806953216111865 with: {'activation': 'tanh', 'batch_size': 64, 'epochs': 200, 'nodes': 32}\n",
            "Means: 0.7935185035069784, Stdev: 0.03755046016553819 with: {'activation': 'tanh', 'batch_size': 64, 'epochs': 200, 'nodes': 64}\n",
            "Means: 0.8016975323359171, Stdev: 0.009151461918575382 with: {'activation': 'tanh', 'batch_size': 64, 'epochs': 200, 'nodes': 128}\n"
          ],
          "name": "stdout"
        }
      ]
    },
    {
      "cell_type": "code",
      "metadata": {
        "colab": {
          "base_uri": "https://localhost:8080/"
        },
        "id": "wSzxsysRQrgg",
        "outputId": "94478641-2f3c-4169-a04a-518bb9d49cf3"
      },
      "source": [
        "def model_builder(nodes=16, activation='relu'):\n",
        "\n",
        "  model = Sequential()\n",
        "  model.add(Dense(nodes, activation=activation))\n",
        "  model.add(BatchNormalization())\n",
        "  model.add(Dense(nodes, activation=activation))\n",
        "  model.add(Dropout(0.2))\n",
        "  model.add(Dense(nodes, activation=activation))\n",
        "  model.add(BatchNormalization())\n",
        "  model.add(Dense(1, activation='sigmoid')) # 이진분류니까 노드수 1, 활성함수로는 시그모이드\n",
        "\n",
        "  model.compile(optimizer='adam', \n",
        "                loss='binary_crossentropy', \n",
        "                metrics=['accuracy'])\n",
        "\n",
        "  return model\n",
        " \n",
        "results = model_builder(nodes = 128, activation='tanh').fit(X_train_scaled, y_train, batch_size=64, epochs=30, validation_data=(X_test_scaled,y_test))"
      ],
      "execution_count": null,
      "outputs": [
        {
          "output_type": "stream",
          "text": [
            "Epoch 1/30\n",
            "4/4 [==============================] - 1s 69ms/step - loss: 0.6457 - accuracy: 0.6818 - val_loss: 0.4805 - val_accuracy: 0.8197\n",
            "Epoch 2/30\n",
            "4/4 [==============================] - 0s 13ms/step - loss: 0.3868 - accuracy: 0.8264 - val_loss: 0.4483 - val_accuracy: 0.7869\n",
            "Epoch 3/30\n",
            "4/4 [==============================] - 0s 11ms/step - loss: 0.3453 - accuracy: 0.8719 - val_loss: 0.4508 - val_accuracy: 0.7869\n",
            "Epoch 4/30\n",
            "4/4 [==============================] - 0s 12ms/step - loss: 0.3344 - accuracy: 0.8719 - val_loss: 0.4616 - val_accuracy: 0.7705\n",
            "Epoch 5/30\n",
            "4/4 [==============================] - 0s 12ms/step - loss: 0.3345 - accuracy: 0.8595 - val_loss: 0.4701 - val_accuracy: 0.7705\n",
            "Epoch 6/30\n",
            "4/4 [==============================] - 0s 11ms/step - loss: 0.2934 - accuracy: 0.8843 - val_loss: 0.4675 - val_accuracy: 0.7869\n",
            "Epoch 7/30\n",
            "4/4 [==============================] - 0s 12ms/step - loss: 0.2842 - accuracy: 0.8760 - val_loss: 0.4676 - val_accuracy: 0.7705\n",
            "Epoch 8/30\n",
            "4/4 [==============================] - 0s 13ms/step - loss: 0.2865 - accuracy: 0.8802 - val_loss: 0.4647 - val_accuracy: 0.8033\n",
            "Epoch 9/30\n",
            "4/4 [==============================] - 0s 12ms/step - loss: 0.2638 - accuracy: 0.8802 - val_loss: 0.4518 - val_accuracy: 0.8033\n",
            "Epoch 10/30\n",
            "4/4 [==============================] - 0s 10ms/step - loss: 0.2182 - accuracy: 0.9298 - val_loss: 0.4455 - val_accuracy: 0.7869\n",
            "Epoch 11/30\n",
            "4/4 [==============================] - 0s 12ms/step - loss: 0.2370 - accuracy: 0.9174 - val_loss: 0.4381 - val_accuracy: 0.7869\n",
            "Epoch 12/30\n",
            "4/4 [==============================] - 0s 11ms/step - loss: 0.2147 - accuracy: 0.9091 - val_loss: 0.4315 - val_accuracy: 0.7869\n",
            "Epoch 13/30\n",
            "4/4 [==============================] - 0s 11ms/step - loss: 0.1997 - accuracy: 0.9380 - val_loss: 0.4317 - val_accuracy: 0.8033\n",
            "Epoch 14/30\n",
            "4/4 [==============================] - 0s 10ms/step - loss: 0.1888 - accuracy: 0.9339 - val_loss: 0.4366 - val_accuracy: 0.7869\n",
            "Epoch 15/30\n",
            "4/4 [==============================] - 0s 11ms/step - loss: 0.2015 - accuracy: 0.9174 - val_loss: 0.4461 - val_accuracy: 0.7869\n",
            "Epoch 16/30\n",
            "4/4 [==============================] - 0s 11ms/step - loss: 0.1970 - accuracy: 0.9380 - val_loss: 0.4463 - val_accuracy: 0.8197\n",
            "Epoch 17/30\n",
            "4/4 [==============================] - 0s 11ms/step - loss: 0.2233 - accuracy: 0.9008 - val_loss: 0.4437 - val_accuracy: 0.7869\n",
            "Epoch 18/30\n",
            "4/4 [==============================] - 0s 12ms/step - loss: 0.1632 - accuracy: 0.9339 - val_loss: 0.4428 - val_accuracy: 0.8197\n",
            "Epoch 19/30\n",
            "4/4 [==============================] - 0s 13ms/step - loss: 0.1754 - accuracy: 0.9421 - val_loss: 0.4400 - val_accuracy: 0.8361\n",
            "Epoch 20/30\n",
            "4/4 [==============================] - 0s 12ms/step - loss: 0.1595 - accuracy: 0.9380 - val_loss: 0.4434 - val_accuracy: 0.8033\n",
            "Epoch 21/30\n",
            "4/4 [==============================] - 0s 12ms/step - loss: 0.1461 - accuracy: 0.9545 - val_loss: 0.4378 - val_accuracy: 0.8033\n",
            "Epoch 22/30\n",
            "4/4 [==============================] - 0s 12ms/step - loss: 0.1291 - accuracy: 0.9669 - val_loss: 0.4324 - val_accuracy: 0.7869\n",
            "Epoch 23/30\n",
            "4/4 [==============================] - 0s 11ms/step - loss: 0.1527 - accuracy: 0.9504 - val_loss: 0.4273 - val_accuracy: 0.8033\n",
            "Epoch 24/30\n",
            "4/4 [==============================] - 0s 11ms/step - loss: 0.1439 - accuracy: 0.9504 - val_loss: 0.4436 - val_accuracy: 0.8033\n",
            "Epoch 25/30\n",
            "4/4 [==============================] - 0s 11ms/step - loss: 0.1293 - accuracy: 0.9587 - val_loss: 0.4526 - val_accuracy: 0.8033\n",
            "Epoch 26/30\n",
            "4/4 [==============================] - 0s 11ms/step - loss: 0.1451 - accuracy: 0.9298 - val_loss: 0.4632 - val_accuracy: 0.7869\n",
            "Epoch 27/30\n",
            "4/4 [==============================] - 0s 10ms/step - loss: 0.1521 - accuracy: 0.9421 - val_loss: 0.4498 - val_accuracy: 0.8033\n",
            "Epoch 28/30\n",
            "4/4 [==============================] - 0s 12ms/step - loss: 0.1361 - accuracy: 0.9669 - val_loss: 0.4627 - val_accuracy: 0.7869\n",
            "Epoch 29/30\n",
            "4/4 [==============================] - 0s 13ms/step - loss: 0.1421 - accuracy: 0.9628 - val_loss: 0.4838 - val_accuracy: 0.7705\n",
            "Epoch 30/30\n",
            "4/4 [==============================] - 0s 11ms/step - loss: 0.1217 - accuracy: 0.9545 - val_loss: 0.4995 - val_accuracy: 0.7869\n"
          ],
          "name": "stdout"
        }
      ]
    },
    {
      "cell_type": "code",
      "metadata": {
        "id": "iJP_Nh-iTHl3"
      },
      "source": [
        ""
      ],
      "execution_count": null,
      "outputs": []
    }
  ]
}