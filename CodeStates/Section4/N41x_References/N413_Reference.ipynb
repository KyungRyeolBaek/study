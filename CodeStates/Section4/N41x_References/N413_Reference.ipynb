{
  "nbformat": 4,
  "nbformat_minor": 0,
  "metadata": {
    "colab": {
      "name": "N413_Reference.ipynb",
      "provenance": [],
      "collapsed_sections": [],
      "machine_shape": "hm"
    },
    "kernelspec": {
      "display_name": "Python 3",
      "language": "python",
      "name": "python3"
    },
    "language_info": {
      "codemirror_mode": {
        "name": "ipython",
        "version": 3
      },
      "file_extension": ".py",
      "mimetype": "text/x-python",
      "name": "python",
      "nbconvert_exporter": "python",
      "pygments_lexer": "ipython3",
      "version": "3.7.3"
    },
    "accelerator": "GPU"
  },
  "cells": [
    {
      "cell_type": "markdown",
      "metadata": {
        "id": "pBQsZEJmubLs"
      },
      "source": [
        "<img src='https://user-images.githubusercontent.com/6457691/90080969-0f758d00-dd47-11ea-8191-fa12fd2054a7.png' width = '200' align = 'right'>\n",
        "\n",
        "## *DATA SCIENCE / SECTION 4 / SPRINT 1 / Assingment 3*\n",
        "\n",
        "---\n",
        "# Neural Network Framework (Keras)\n",
        "\n"
      ]
    },
    {
      "cell_type": "markdown",
      "metadata": {
        "id": "nN5Wzlub62DZ"
      },
      "source": [
        "\n",
        "## 기본과제\n",
        "### 케라스 라이브러리를 사용하여 Multi-Layer Perceptron 모델을 CIFAR100 데이터에 적용해보세요.\n",
        "\n",
        "- 시드를 고정하십시오.\n",
        "- 데이터를 Noramlized 해줍니다. \n",
        "- 케라스에서 모델은 다음과 같이 고정합니다. \n",
        "- 활성함수는 ReLU를 사용합니다.\n",
        "- 단계별로 오늘 배운 규제방법을 적용해봅니다. \n",
        "\n",
        "\n",
        "### 문제에 기록된 텍스트를 꼭! 잘 읽어보고 답변을 다셔야 합니다."
      ]
    },
    {
      "cell_type": "code",
      "metadata": {
        "id": "SBPLbaggP52G"
      },
      "source": [
        "import keras\n",
        "import os\n",
        "import random\n",
        "import tensorflow as tf\n",
        "import numpy as np\n",
        "from tensorflow.keras.datasets import cifar100\n",
        "from tensorflow.keras.models import Sequential\n",
        "from tensorflow.keras.layers import Dense, Flatten, Dropout\n",
        "from tensorflow.keras.optimizers import Adam\n",
        "from tensorflow.keras import regularizers"
      ],
      "execution_count": 1,
      "outputs": []
    },
    {
      "cell_type": "markdown",
      "metadata": {
        "id": "I7nHEuYmd-p6"
      },
      "source": [
        "### 1) Base model을 제작합니다."
      ]
    },
    {
      "cell_type": "code",
      "metadata": {
        "id": "_T_3XkVRY2xw",
        "colab": {
          "base_uri": "https://localhost:8080/"
        },
        "outputId": "2955f751-131f-49fa-8968-4c11d0715b79"
      },
      "source": [
        "# seed를 고정합니다.\n",
        "random.seed(1)\n",
        "np.random.seed(1)\n",
        "os.environ[\"PYTHONHASHSEED\"] = str(1)\n",
        "os.environ['TF_DETERMINISTIC_OPS'] = str(1)\n",
        "tf.random.set_seed(1)\n",
        "\n",
        "# 데이터 불러오기\n",
        "(X_train, y_train), (X_test, y_test) = cifar100.load_data()\n",
        "\n",
        "# 정규화(전처리)\n",
        "X_train = X_train / 255.\n",
        "X_test = X_test / 255.\n",
        "\n",
        "# 변수 설정을 따로 하는 방법을 적용하기 위한 코드입니다. \n",
        "batch_size = 100\n",
        "epochs_max = 20\n",
        "\n",
        "# model\n",
        "model = Sequential()\n",
        "model.add(Flatten(input_shape=(32,32,3)))\n",
        "model.add(Dense(128, activation='relu'))\n",
        "model.add(Dense(128, activation='relu'))\n",
        "model.add(Dense(100, activation='softmax'))\n",
        "\n",
        "# 컴파일 단계, 옵티마이저와 손실함수, 측정지표를 연결해서 계산 그래프를 구성함\n",
        "model.compile(optimizer='adam', loss='sparse_categorical_crossentropy', metrics=['accuracy'])\n",
        "\n",
        "results = model.fit(X_train, y_train, epochs=epochs_max, batch_size=batch_size, verbose=1, validation_data=(X_test,y_test))"
      ],
      "execution_count": 2,
      "outputs": [
        {
          "output_type": "stream",
          "text": [
            "Downloading data from https://www.cs.toronto.edu/~kriz/cifar-100-python.tar.gz\n",
            "169009152/169001437 [==============================] - 2s 0us/step\n",
            "Epoch 1/20\n",
            "500/500 [==============================] - 3s 2ms/step - loss: 4.1251 - accuracy: 0.0706 - val_loss: 3.8663 - val_accuracy: 0.1067\n",
            "Epoch 2/20\n",
            "500/500 [==============================] - 1s 2ms/step - loss: 3.7585 - accuracy: 0.1222 - val_loss: 3.7262 - val_accuracy: 0.1340\n",
            "Epoch 3/20\n",
            "500/500 [==============================] - 1s 2ms/step - loss: 3.6353 - accuracy: 0.1441 - val_loss: 3.6920 - val_accuracy: 0.1453\n",
            "Epoch 4/20\n",
            "500/500 [==============================] - 1s 2ms/step - loss: 3.5534 - accuracy: 0.1577 - val_loss: 3.5891 - val_accuracy: 0.1625\n",
            "Epoch 5/20\n",
            "500/500 [==============================] - 1s 2ms/step - loss: 3.4955 - accuracy: 0.1694 - val_loss: 3.5310 - val_accuracy: 0.1710\n",
            "Epoch 6/20\n",
            "500/500 [==============================] - 1s 2ms/step - loss: 3.4374 - accuracy: 0.1787 - val_loss: 3.5177 - val_accuracy: 0.1725\n",
            "Epoch 7/20\n",
            "500/500 [==============================] - 1s 2ms/step - loss: 3.4015 - accuracy: 0.1861 - val_loss: 3.4739 - val_accuracy: 0.1836\n",
            "Epoch 8/20\n",
            "500/500 [==============================] - 1s 2ms/step - loss: 3.3607 - accuracy: 0.1935 - val_loss: 3.4674 - val_accuracy: 0.1885\n",
            "Epoch 9/20\n",
            "500/500 [==============================] - 1s 2ms/step - loss: 3.3344 - accuracy: 0.1989 - val_loss: 3.4587 - val_accuracy: 0.1840\n",
            "Epoch 10/20\n",
            "500/500 [==============================] - 1s 2ms/step - loss: 3.3131 - accuracy: 0.2023 - val_loss: 3.3987 - val_accuracy: 0.1982\n",
            "Epoch 11/20\n",
            "500/500 [==============================] - 1s 2ms/step - loss: 3.2857 - accuracy: 0.2066 - val_loss: 3.3969 - val_accuracy: 0.1967\n",
            "Epoch 12/20\n",
            "500/500 [==============================] - 1s 2ms/step - loss: 3.2618 - accuracy: 0.2109 - val_loss: 3.3784 - val_accuracy: 0.2004\n",
            "Epoch 13/20\n",
            "500/500 [==============================] - 1s 2ms/step - loss: 3.2387 - accuracy: 0.2167 - val_loss: 3.3844 - val_accuracy: 0.1976\n",
            "Epoch 14/20\n",
            "500/500 [==============================] - 1s 2ms/step - loss: 3.2263 - accuracy: 0.2205 - val_loss: 3.3747 - val_accuracy: 0.2038\n",
            "Epoch 15/20\n",
            "500/500 [==============================] - 1s 2ms/step - loss: 3.2108 - accuracy: 0.2194 - val_loss: 3.3647 - val_accuracy: 0.2061\n",
            "Epoch 16/20\n",
            "500/500 [==============================] - 1s 2ms/step - loss: 3.2003 - accuracy: 0.2219 - val_loss: 3.3618 - val_accuracy: 0.2016\n",
            "Epoch 17/20\n",
            "500/500 [==============================] - 1s 2ms/step - loss: 3.1789 - accuracy: 0.2264 - val_loss: 3.3572 - val_accuracy: 0.2042\n",
            "Epoch 18/20\n",
            "500/500 [==============================] - 1s 2ms/step - loss: 3.1672 - accuracy: 0.2256 - val_loss: 3.3359 - val_accuracy: 0.2134\n",
            "Epoch 19/20\n",
            "500/500 [==============================] - 1s 2ms/step - loss: 3.1565 - accuracy: 0.2298 - val_loss: 3.3333 - val_accuracy: 0.2101\n",
            "Epoch 20/20\n",
            "500/500 [==============================] - 1s 2ms/step - loss: 3.1447 - accuracy: 0.2307 - val_loss: 3.3712 - val_accuracy: 0.1968\n"
          ],
          "name": "stdout"
        }
      ]
    },
    {
      "cell_type": "code",
      "metadata": {
        "id": "PdxJ5AnieUxI",
        "colab": {
          "base_uri": "https://localhost:8080/"
        },
        "outputId": "b2e73c57-3270-4783-908c-f3b547f79e9d"
      },
      "source": [
        "test_loss, test_acc = model.evaluate(X_test,  y_test, verbose=1)"
      ],
      "execution_count": 3,
      "outputs": [
        {
          "output_type": "stream",
          "text": [
            "313/313 [==============================] - 1s 2ms/step - loss: 3.3712 - accuracy: 0.1968\n"
          ],
          "name": "stdout"
        }
      ]
    },
    {
      "cell_type": "markdown",
      "metadata": {
        "id": "fbNCUtz4eHIi"
      },
      "source": [
        "### 2) + Weight Decay\n",
        "\n"
      ]
    },
    {
      "cell_type": "code",
      "metadata": {
        "id": "XBQks0_rZWa9",
        "colab": {
          "base_uri": "https://localhost:8080/"
        },
        "outputId": "37afbcf8-7dd8-40fc-f4f9-334b552cad79"
      },
      "source": [
        "# seed를 고정합니다.\n",
        "random.seed(1)\n",
        "np.random.seed(1)\n",
        "os.environ[\"PYTHONHASHSEED\"] = str(1)\n",
        "os.environ['TF_DETERMINISTIC_OPS'] = str(1)\n",
        "tf.random.set_seed(1)\n",
        "\n",
        "# 데이터 불러오기\n",
        "(X_train, y_train), (X_test, y_test) = cifar100.load_data()\n",
        "\n",
        "# 정규화(전처리)\n",
        "X_train = X_train / 255.\n",
        "X_test = X_test / 255.\n",
        "\n",
        "# 변수 설정을 따로 하는 방법을 적용하기 위한 코드입니다. \n",
        "batch_size = 100\n",
        "epochs_max = 20\n",
        "\n",
        "# model\n",
        "model = Sequential()\n",
        "model.add(Flatten(input_shape=(32,32,3)))\n",
        "model.add(Dense(128, activation='relu', \n",
        "                kernel_regularizer=regularizers.l2(0.00001),   \n",
        "                activity_regularizer=regularizers.l1(0.00001)))\n",
        "model.add(Dense(128, activation='relu'))\n",
        "model.add(Dense(100, activation='softmax'))\n",
        "\n",
        "# 컴파일 단계, 옵티마이저와 손실함수, 측정지표를 연결해서 계산 그래프를 구성함\n",
        "model.compile(optimizer='adam', loss='sparse_categorical_crossentropy', metrics=['accuracy'])\n",
        "\n",
        "results = model.fit(X_train, y_train, epochs=epochs_max, batch_size=batch_size, verbose=1, validation_data=(X_test,y_test))"
      ],
      "execution_count": 4,
      "outputs": [
        {
          "output_type": "stream",
          "text": [
            "Epoch 1/20\n",
            "500/500 [==============================] - 2s 3ms/step - loss: 4.1071 - accuracy: 0.0758 - val_loss: 3.8348 - val_accuracy: 0.1140\n",
            "Epoch 2/20\n",
            "500/500 [==============================] - 1s 2ms/step - loss: 3.7283 - accuracy: 0.1302 - val_loss: 3.6595 - val_accuracy: 0.1447\n",
            "Epoch 3/20\n",
            "500/500 [==============================] - 1s 2ms/step - loss: 3.5958 - accuracy: 0.1537 - val_loss: 3.6507 - val_accuracy: 0.1492\n",
            "Epoch 4/20\n",
            "500/500 [==============================] - 1s 2ms/step - loss: 3.5069 - accuracy: 0.1684 - val_loss: 3.5077 - val_accuracy: 0.1747\n",
            "Epoch 5/20\n",
            "500/500 [==============================] - 1s 2ms/step - loss: 3.4431 - accuracy: 0.1797 - val_loss: 3.4688 - val_accuracy: 0.1776\n",
            "Epoch 6/20\n",
            "500/500 [==============================] - 1s 2ms/step - loss: 3.3795 - accuracy: 0.1912 - val_loss: 3.4517 - val_accuracy: 0.1850\n",
            "Epoch 7/20\n",
            "500/500 [==============================] - 1s 2ms/step - loss: 3.3400 - accuracy: 0.1973 - val_loss: 3.4602 - val_accuracy: 0.1858\n",
            "Epoch 8/20\n",
            "500/500 [==============================] - 1s 2ms/step - loss: 3.2938 - accuracy: 0.2069 - val_loss: 3.3822 - val_accuracy: 0.1987\n",
            "Epoch 9/20\n",
            "500/500 [==============================] - 1s 2ms/step - loss: 3.2666 - accuracy: 0.2118 - val_loss: 3.4296 - val_accuracy: 0.1916\n",
            "Epoch 10/20\n",
            "500/500 [==============================] - 1s 2ms/step - loss: 3.2415 - accuracy: 0.2178 - val_loss: 3.3440 - val_accuracy: 0.2089\n",
            "Epoch 11/20\n",
            "500/500 [==============================] - 1s 2ms/step - loss: 3.2107 - accuracy: 0.2233 - val_loss: 3.3663 - val_accuracy: 0.2076\n",
            "Epoch 12/20\n",
            "500/500 [==============================] - 1s 2ms/step - loss: 3.1869 - accuracy: 0.2264 - val_loss: 3.3419 - val_accuracy: 0.2091\n",
            "Epoch 13/20\n",
            "500/500 [==============================] - 1s 2ms/step - loss: 3.1656 - accuracy: 0.2314 - val_loss: 3.3173 - val_accuracy: 0.2122\n",
            "Epoch 14/20\n",
            "500/500 [==============================] - 1s 2ms/step - loss: 3.1446 - accuracy: 0.2363 - val_loss: 3.3038 - val_accuracy: 0.2168\n",
            "Epoch 15/20\n",
            "500/500 [==============================] - 1s 2ms/step - loss: 3.1329 - accuracy: 0.2352 - val_loss: 3.2926 - val_accuracy: 0.2205\n",
            "Epoch 16/20\n",
            "500/500 [==============================] - 1s 2ms/step - loss: 3.1222 - accuracy: 0.2386 - val_loss: 3.3269 - val_accuracy: 0.2106\n",
            "Epoch 17/20\n",
            "500/500 [==============================] - 1s 2ms/step - loss: 3.1060 - accuracy: 0.2423 - val_loss: 3.3499 - val_accuracy: 0.2136\n",
            "Epoch 18/20\n",
            "500/500 [==============================] - 1s 2ms/step - loss: 3.0935 - accuracy: 0.2431 - val_loss: 3.2895 - val_accuracy: 0.2232\n",
            "Epoch 19/20\n",
            "500/500 [==============================] - 1s 2ms/step - loss: 3.0801 - accuracy: 0.2470 - val_loss: 3.2863 - val_accuracy: 0.2274\n",
            "Epoch 20/20\n",
            "500/500 [==============================] - 1s 2ms/step - loss: 3.0662 - accuracy: 0.2463 - val_loss: 3.3301 - val_accuracy: 0.2126\n"
          ],
          "name": "stdout"
        }
      ]
    },
    {
      "cell_type": "code",
      "metadata": {
        "id": "J27A4pKj71zx",
        "colab": {
          "base_uri": "https://localhost:8080/"
        },
        "outputId": "7ec972a7-b2b5-4968-c9a3-5fe9c2fbdf40"
      },
      "source": [
        "test_loss, test_acc = model.evaluate(X_test,  y_test, verbose=1)"
      ],
      "execution_count": 5,
      "outputs": [
        {
          "output_type": "stream",
          "text": [
            "313/313 [==============================] - 1s 2ms/step - loss: 3.3301 - accuracy: 0.2126\n"
          ],
          "name": "stdout"
        }
      ]
    },
    {
      "cell_type": "markdown",
      "metadata": {
        "id": "5yQeUcY8fp4x"
      },
      "source": [
        "### 3) + Dropout"
      ]
    },
    {
      "cell_type": "code",
      "metadata": {
        "id": "e_B_mosCZ_Ds",
        "colab": {
          "base_uri": "https://localhost:8080/"
        },
        "outputId": "7c06830c-494d-480c-9e38-5fe2836a876f"
      },
      "source": [
        "# seed를 고정합니다.\n",
        "random.seed(1)\n",
        "np.random.seed(1)\n",
        "os.environ[\"PYTHONHASHSEED\"] = str(1)\n",
        "os.environ['TF_DETERMINISTIC_OPS'] = str(1)\n",
        "tf.random.set_seed(1)\n",
        "\n",
        "# 데이터 불러오기\n",
        "(X_train, y_train), (X_test, y_test) = cifar100.load_data()\n",
        "\n",
        "# 정규화(전처리)\n",
        "X_train = X_train / 255.\n",
        "X_test = X_test / 255.\n",
        "\n",
        "# 변수 설정을 따로 하는 방법을 적용하기 위한 코드입니다. \n",
        "batch_size = 100\n",
        "epochs_max = 20\n",
        "\n",
        "# model\n",
        "model = Sequential()\n",
        "model.add(Flatten(input_shape=(32,32,3)))\n",
        "model.add(Dense(128*1.1, activation='relu'))\n",
        "model.add(Dropout(0.1))\n",
        "model.add(Dense(128, activation='relu'))\n",
        "model.add(Dense(100, activation='softmax'))\n",
        "\n",
        "# 컴파일 단계, 옵티마이저와 손실함수, 측정지표를 연결해서 계산 그래프를 구성함\n",
        "model.compile(optimizer='adam', loss='sparse_categorical_crossentropy', metrics=['accuracy'])\n",
        "\n",
        "results = model.fit(X_train, y_train, epochs=epochs_max, batch_size=batch_size, verbose=1, validation_data=(X_test,y_test))"
      ],
      "execution_count": 7,
      "outputs": [
        {
          "output_type": "stream",
          "text": [
            "Epoch 1/20\n",
            "500/500 [==============================] - 2s 2ms/step - loss: 4.1921 - accuracy: 0.0592 - val_loss: 3.9198 - val_accuracy: 0.0959\n",
            "Epoch 2/20\n",
            "500/500 [==============================] - 1s 2ms/step - loss: 3.8869 - accuracy: 0.1002 - val_loss: 3.7526 - val_accuracy: 0.1267\n",
            "Epoch 3/20\n",
            "500/500 [==============================] - 1s 2ms/step - loss: 3.7819 - accuracy: 0.1194 - val_loss: 3.7013 - val_accuracy: 0.1388\n",
            "Epoch 4/20\n",
            "500/500 [==============================] - 1s 2ms/step - loss: 3.7207 - accuracy: 0.1299 - val_loss: 3.6380 - val_accuracy: 0.1557\n",
            "Epoch 5/20\n",
            "500/500 [==============================] - 1s 2ms/step - loss: 3.6690 - accuracy: 0.1367 - val_loss: 3.5919 - val_accuracy: 0.1570\n",
            "Epoch 6/20\n",
            "500/500 [==============================] - 1s 2ms/step - loss: 3.6305 - accuracy: 0.1437 - val_loss: 3.5627 - val_accuracy: 0.1612\n",
            "Epoch 7/20\n",
            "500/500 [==============================] - 1s 2ms/step - loss: 3.5918 - accuracy: 0.1496 - val_loss: 3.5640 - val_accuracy: 0.1588\n",
            "Epoch 8/20\n",
            "500/500 [==============================] - 1s 2ms/step - loss: 3.5683 - accuracy: 0.1550 - val_loss: 3.5101 - val_accuracy: 0.1713\n",
            "Epoch 9/20\n",
            "500/500 [==============================] - 1s 2ms/step - loss: 3.5415 - accuracy: 0.1603 - val_loss: 3.4783 - val_accuracy: 0.1790\n",
            "Epoch 10/20\n",
            "500/500 [==============================] - 1s 2ms/step - loss: 3.5208 - accuracy: 0.1624 - val_loss: 3.5124 - val_accuracy: 0.1746\n",
            "Epoch 11/20\n",
            "500/500 [==============================] - 1s 2ms/step - loss: 3.5047 - accuracy: 0.1655 - val_loss: 3.4403 - val_accuracy: 0.1845\n",
            "Epoch 12/20\n",
            "500/500 [==============================] - 1s 2ms/step - loss: 3.4815 - accuracy: 0.1707 - val_loss: 3.4329 - val_accuracy: 0.1878\n",
            "Epoch 13/20\n",
            "500/500 [==============================] - 1s 2ms/step - loss: 3.4609 - accuracy: 0.1736 - val_loss: 3.4438 - val_accuracy: 0.1870\n",
            "Epoch 14/20\n",
            "500/500 [==============================] - 1s 2ms/step - loss: 3.4508 - accuracy: 0.1742 - val_loss: 3.4156 - val_accuracy: 0.1860\n",
            "Epoch 15/20\n",
            "500/500 [==============================] - 1s 2ms/step - loss: 3.4349 - accuracy: 0.1780 - val_loss: 3.4296 - val_accuracy: 0.1886\n",
            "Epoch 16/20\n",
            "500/500 [==============================] - 1s 2ms/step - loss: 3.4289 - accuracy: 0.1780 - val_loss: 3.4164 - val_accuracy: 0.1914\n",
            "Epoch 17/20\n",
            "500/500 [==============================] - 1s 2ms/step - loss: 3.4118 - accuracy: 0.1817 - val_loss: 3.3912 - val_accuracy: 0.1978\n",
            "Epoch 18/20\n",
            "500/500 [==============================] - 1s 2ms/step - loss: 3.4030 - accuracy: 0.1813 - val_loss: 3.3686 - val_accuracy: 0.2020\n",
            "Epoch 19/20\n",
            "500/500 [==============================] - 1s 2ms/step - loss: 3.3926 - accuracy: 0.1857 - val_loss: 3.3929 - val_accuracy: 0.1961\n",
            "Epoch 20/20\n",
            "500/500 [==============================] - 1s 2ms/step - loss: 3.3889 - accuracy: 0.1856 - val_loss: 3.3857 - val_accuracy: 0.1966\n"
          ],
          "name": "stdout"
        }
      ]
    },
    {
      "cell_type": "code",
      "metadata": {
        "colab": {
          "base_uri": "https://localhost:8080/"
        },
        "id": "U9WzoFGE8IqX",
        "outputId": "8cd31afe-bbf6-4da6-e2aa-c6cd5f4e9624"
      },
      "source": [
        "test_loss, test_acc = model.evaluate(X_test,  y_test, verbose=1)"
      ],
      "execution_count": 8,
      "outputs": [
        {
          "output_type": "stream",
          "text": [
            "313/313 [==============================] - 1s 2ms/step - loss: 3.3857 - accuracy: 0.1966\n"
          ],
          "name": "stdout"
        }
      ]
    },
    {
      "cell_type": "markdown",
      "metadata": {
        "id": "Q3RoevKkC27v"
      },
      "source": [
        "### 문항 4) + Early Stopping\n",
        "\n",
        "1. Early Stopping을 적용해봅시다. 멈추는 기준을 `val_loss`(검증 데이터셋의 loss 값)로 하고 loss가 Best 값보다 5번 높아질 때 Stop 하도록 설정합니다.\n",
        "2. Best 모델을 저장해봅시다. Best 모델 역시 멈추는 기준을 `val_loss`(검증 데이터셋의 loss 값)로 하고 `save_best_only=True`, `save_weights_only=True` 로 설정합니다."
      ]
    },
    {
      "cell_type": "code",
      "metadata": {
        "id": "jjj4th3oLjgu",
        "colab": {
          "base_uri": "https://localhost:8080/"
        },
        "outputId": "f5391cf0-b3fe-45b2-9e30-f8857c5d9598"
      },
      "source": [
        "# seed를 고정합니다.\n",
        "random.seed(1)\n",
        "np.random.seed(1)\n",
        "os.environ[\"PYTHONHASHSEED\"] = str(1)\n",
        "os.environ['TF_DETERMINISTIC_OPS'] = str(1)\n",
        "tf.random.set_seed(1)\n",
        "\n",
        "\n",
        "# 데이터 불러오기\n",
        "(X_train, y_train), (X_test, y_test) = cifar100.load_data()\n",
        "\n",
        "\n",
        "# 정규화(전처리)\n",
        "X_train = X_train / 255.\n",
        "X_test = X_test / 255.\n",
        "\n",
        "\n",
        "# 학습시킨 데이터를 저장시키기 위한 코드입니다. \n",
        "checkpoint_filepath = \"FMbest.hdf5\"\n",
        "\n",
        "\n",
        "# 변수 설정을 따로 하는 방법을 적용하기 위한 코드입니다. \n",
        "batch_size = 100\n",
        "epochs_max = 50\n",
        "\n",
        "\n",
        "model = Sequential()\n",
        "model.add(Flatten(input_shape=(32,32,3)))\n",
        "model.add(Dense(128, activation='relu'))\n",
        "model.add(Dense(128, activation='relu'))\n",
        "model.add(Dense(100, activation='softmax'))\n",
        "\n",
        "# 컴파일 단계, 옵티마이저와 손실함수, 측정지표를 연결해서 계산 그래프를 구성함\n",
        "model.compile(optimizer='adam', loss='sparse_categorical_crossentropy', metrics=['accuracy'])\n",
        "\n",
        "                  \n",
        "# early stopping\n",
        "early_stop = tf.keras.callbacks.EarlyStopping(monitor='val_loss', min_delta=0, patience=5, verbose=1)\n",
        "\n",
        "# Validation Set을 기준으로 가장 최적의 모델을 찾기\n",
        "save_best = keras.callbacks.ModelCheckpoint(filepath=checkpoint_filepath, monitor='val_loss', verbose=1, save_best_only=True,\n",
        "    save_weights_only=True, mode='auto', save_freq='epoch', options=None)\n",
        "\n",
        "results = model.fit(X_train, y_train, epochs=epochs_max, batch_size=batch_size, validation_data=(X_test, y_test), callbacks=[early_stop, save_best])"
      ],
      "execution_count": 9,
      "outputs": [
        {
          "output_type": "stream",
          "text": [
            "Epoch 1/50\n",
            "500/500 [==============================] - 1s 2ms/step - loss: 4.1251 - accuracy: 0.0706 - val_loss: 3.8663 - val_accuracy: 0.1067\n",
            "\n",
            "Epoch 00001: val_loss improved from inf to 3.86630, saving model to FMbest.hdf5\n",
            "Epoch 2/50\n",
            "500/500 [==============================] - 1s 2ms/step - loss: 3.7585 - accuracy: 0.1222 - val_loss: 3.7262 - val_accuracy: 0.1340\n",
            "\n",
            "Epoch 00002: val_loss improved from 3.86630 to 3.72619, saving model to FMbest.hdf5\n",
            "Epoch 3/50\n",
            "500/500 [==============================] - 1s 2ms/step - loss: 3.6353 - accuracy: 0.1441 - val_loss: 3.6920 - val_accuracy: 0.1453\n",
            "\n",
            "Epoch 00003: val_loss improved from 3.72619 to 3.69198, saving model to FMbest.hdf5\n",
            "Epoch 4/50\n",
            "500/500 [==============================] - 1s 2ms/step - loss: 3.5534 - accuracy: 0.1577 - val_loss: 3.5891 - val_accuracy: 0.1625\n",
            "\n",
            "Epoch 00004: val_loss improved from 3.69198 to 3.58906, saving model to FMbest.hdf5\n",
            "Epoch 5/50\n",
            "500/500 [==============================] - 1s 2ms/step - loss: 3.4955 - accuracy: 0.1694 - val_loss: 3.5310 - val_accuracy: 0.1710\n",
            "\n",
            "Epoch 00005: val_loss improved from 3.58906 to 3.53098, saving model to FMbest.hdf5\n",
            "Epoch 6/50\n",
            "500/500 [==============================] - 1s 2ms/step - loss: 3.4374 - accuracy: 0.1787 - val_loss: 3.5177 - val_accuracy: 0.1725\n",
            "\n",
            "Epoch 00006: val_loss improved from 3.53098 to 3.51766, saving model to FMbest.hdf5\n",
            "Epoch 7/50\n",
            "500/500 [==============================] - 1s 2ms/step - loss: 3.4015 - accuracy: 0.1861 - val_loss: 3.4739 - val_accuracy: 0.1836\n",
            "\n",
            "Epoch 00007: val_loss improved from 3.51766 to 3.47387, saving model to FMbest.hdf5\n",
            "Epoch 8/50\n",
            "500/500 [==============================] - 1s 2ms/step - loss: 3.3607 - accuracy: 0.1935 - val_loss: 3.4674 - val_accuracy: 0.1885\n",
            "\n",
            "Epoch 00008: val_loss improved from 3.47387 to 3.46739, saving model to FMbest.hdf5\n",
            "Epoch 9/50\n",
            "500/500 [==============================] - 1s 2ms/step - loss: 3.3344 - accuracy: 0.1989 - val_loss: 3.4587 - val_accuracy: 0.1840\n",
            "\n",
            "Epoch 00009: val_loss improved from 3.46739 to 3.45867, saving model to FMbest.hdf5\n",
            "Epoch 10/50\n",
            "500/500 [==============================] - 1s 2ms/step - loss: 3.3131 - accuracy: 0.2023 - val_loss: 3.3987 - val_accuracy: 0.1982\n",
            "\n",
            "Epoch 00010: val_loss improved from 3.45867 to 3.39870, saving model to FMbest.hdf5\n",
            "Epoch 11/50\n",
            "500/500 [==============================] - 1s 2ms/step - loss: 3.2857 - accuracy: 0.2066 - val_loss: 3.3969 - val_accuracy: 0.1967\n",
            "\n",
            "Epoch 00011: val_loss improved from 3.39870 to 3.39694, saving model to FMbest.hdf5\n",
            "Epoch 12/50\n",
            "500/500 [==============================] - 1s 2ms/step - loss: 3.2618 - accuracy: 0.2109 - val_loss: 3.3784 - val_accuracy: 0.2004\n",
            "\n",
            "Epoch 00012: val_loss improved from 3.39694 to 3.37836, saving model to FMbest.hdf5\n",
            "Epoch 13/50\n",
            "500/500 [==============================] - 1s 2ms/step - loss: 3.2387 - accuracy: 0.2167 - val_loss: 3.3844 - val_accuracy: 0.1976\n",
            "\n",
            "Epoch 00013: val_loss did not improve from 3.37836\n",
            "Epoch 14/50\n",
            "500/500 [==============================] - 1s 2ms/step - loss: 3.2263 - accuracy: 0.2205 - val_loss: 3.3747 - val_accuracy: 0.2038\n",
            "\n",
            "Epoch 00014: val_loss improved from 3.37836 to 3.37469, saving model to FMbest.hdf5\n",
            "Epoch 15/50\n",
            "500/500 [==============================] - 1s 2ms/step - loss: 3.2108 - accuracy: 0.2194 - val_loss: 3.3647 - val_accuracy: 0.2061\n",
            "\n",
            "Epoch 00015: val_loss improved from 3.37469 to 3.36473, saving model to FMbest.hdf5\n",
            "Epoch 16/50\n",
            "500/500 [==============================] - 1s 2ms/step - loss: 3.2003 - accuracy: 0.2219 - val_loss: 3.3618 - val_accuracy: 0.2016\n",
            "\n",
            "Epoch 00016: val_loss improved from 3.36473 to 3.36181, saving model to FMbest.hdf5\n",
            "Epoch 17/50\n",
            "500/500 [==============================] - 1s 2ms/step - loss: 3.1789 - accuracy: 0.2264 - val_loss: 3.3572 - val_accuracy: 0.2042\n",
            "\n",
            "Epoch 00017: val_loss improved from 3.36181 to 3.35721, saving model to FMbest.hdf5\n",
            "Epoch 18/50\n",
            "500/500 [==============================] - 1s 2ms/step - loss: 3.1672 - accuracy: 0.2256 - val_loss: 3.3359 - val_accuracy: 0.2134\n",
            "\n",
            "Epoch 00018: val_loss improved from 3.35721 to 3.33585, saving model to FMbest.hdf5\n",
            "Epoch 19/50\n",
            "500/500 [==============================] - 1s 2ms/step - loss: 3.1565 - accuracy: 0.2298 - val_loss: 3.3333 - val_accuracy: 0.2101\n",
            "\n",
            "Epoch 00019: val_loss improved from 3.33585 to 3.33326, saving model to FMbest.hdf5\n",
            "Epoch 20/50\n",
            "500/500 [==============================] - 1s 2ms/step - loss: 3.1447 - accuracy: 0.2307 - val_loss: 3.3712 - val_accuracy: 0.1968\n",
            "\n",
            "Epoch 00020: val_loss did not improve from 3.33326\n",
            "Epoch 21/50\n",
            "500/500 [==============================] - 1s 2ms/step - loss: 3.1352 - accuracy: 0.2329 - val_loss: 3.3267 - val_accuracy: 0.2085\n",
            "\n",
            "Epoch 00021: val_loss improved from 3.33326 to 3.32666, saving model to FMbest.hdf5\n",
            "Epoch 22/50\n",
            "500/500 [==============================] - 1s 2ms/step - loss: 3.1271 - accuracy: 0.2332 - val_loss: 3.3476 - val_accuracy: 0.2056\n",
            "\n",
            "Epoch 00022: val_loss did not improve from 3.32666\n",
            "Epoch 23/50\n",
            "500/500 [==============================] - 1s 2ms/step - loss: 3.1123 - accuracy: 0.2363 - val_loss: 3.3354 - val_accuracy: 0.2100\n",
            "\n",
            "Epoch 00023: val_loss did not improve from 3.32666\n",
            "Epoch 24/50\n",
            "500/500 [==============================] - 1s 2ms/step - loss: 3.1109 - accuracy: 0.2339 - val_loss: 3.3507 - val_accuracy: 0.2025\n",
            "\n",
            "Epoch 00024: val_loss did not improve from 3.32666\n",
            "Epoch 25/50\n",
            "500/500 [==============================] - 1s 2ms/step - loss: 3.1031 - accuracy: 0.2377 - val_loss: 3.3348 - val_accuracy: 0.2091\n",
            "\n",
            "Epoch 00025: val_loss did not improve from 3.32666\n",
            "Epoch 26/50\n",
            "500/500 [==============================] - 1s 2ms/step - loss: 3.0922 - accuracy: 0.2391 - val_loss: 3.3413 - val_accuracy: 0.2090\n",
            "\n",
            "Epoch 00026: val_loss did not improve from 3.32666\n",
            "Epoch 00026: early stopping\n"
          ],
          "name": "stdout"
        }
      ]
    },
    {
      "cell_type": "code",
      "metadata": {
        "id": "Bk3GSXbfUI91",
        "colab": {
          "base_uri": "https://localhost:8080/"
        },
        "outputId": "977fcad2-8008-4cf3-d25b-26455d7ded0c"
      },
      "source": [
        "# 학습된 모델을 이용하여 테스트하는 코드\n",
        "test_loss, test_acc = model.evaluate(X_test,  y_test, verbose=1)"
      ],
      "execution_count": 10,
      "outputs": [
        {
          "output_type": "stream",
          "text": [
            "313/313 [==============================] - 1s 2ms/step - loss: 3.3413 - accuracy: 0.2090\n"
          ],
          "name": "stdout"
        }
      ]
    },
    {
      "cell_type": "code",
      "metadata": {
        "id": "Nyz7CrMIUNJX",
        "colab": {
          "base_uri": "https://localhost:8080/"
        },
        "outputId": "ee8dfbdf-495b-4006-923f-badf3a7134c3"
      },
      "source": [
        "model.load_weights(checkpoint_filepath)\n",
        "\n",
        "# best model을 이용한 테스트 데이터 예측 정확도 재확인 코드\n",
        "test_loss, test_acc = model.evaluate(X_test, y_test, verbose=1)"
      ],
      "execution_count": 11,
      "outputs": [
        {
          "output_type": "stream",
          "text": [
            "313/313 [==============================] - 1s 2ms/step - loss: 3.3267 - accuracy: 0.2085\n"
          ],
          "name": "stdout"
        }
      ]
    }
  ]
}