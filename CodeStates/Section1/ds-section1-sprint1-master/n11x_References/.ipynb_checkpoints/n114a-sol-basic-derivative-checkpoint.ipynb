{
 "cells": [
  {
   "cell_type": "markdown",
   "metadata": {
    "id": "G5hwlPlsGega"
   },
   "source": [
    "<img src='https://i.imgur.com/RDAD11M.png' width = '200' align = 'right'>\n",
    "\n",
    "## *DATA SCIENCE / SECTION 1 / SPRINT 1 / NOTE 4*\n",
    "\n",
    "---\n",
    "\n",
    "# 📝 Assignment\n",
    "\n"
   ]
  },
  {
   "cell_type": "markdown",
   "metadata": {
    "id": "neTw_DE5U30A"
   },
   "source": [
    "## 1. Dataset 불러오기\n",
    "> seaborn 라이브러리의 load_dataset()을 활용해서 iris 데이터셋을 데이터프레임으로 불러옵니다. 데이터프레임의 이름은 df_iris로 합니다. <br>\n",
    "> df_iris의 shape의 **첫번째 값을 두번째 값으로 나눈 값**을 `res1`에 저장하세요"
   ]
  },
  {
   "cell_type": "code",
   "execution_count": 1,
   "metadata": {
    "colab": {
     "base_uri": "https://localhost:8080/"
    },
    "id": "PpkwyCupU30A",
    "outputId": "697f5bed-6abe-4e2f-8df2-552b96c92fc1"
   },
   "outputs": [
    {
     "data": {
      "text/plain": [
       "30.0"
      ]
     },
     "execution_count": 1,
     "metadata": {
      "tags": []
     },
     "output_type": "execute_result"
    }
   ],
   "source": [
    "# 이곳에 답안을 작성합니다.\n",
    "import seaborn as sns\n",
    "import numpy as np\n",
    "np.random.seed(42)\n",
    "\n",
    "df_iris = sns.load_dataset('iris')\n",
    "df_iris.shape\n",
    "\n",
    "res1 = df_iris.shape[0] / df_iris.shape[1]\n",
    "res1"
   ]
  },
  {
   "cell_type": "markdown",
   "metadata": {
    "id": "XNlhFP5xU30B"
   },
   "source": [
    "## 2. X 구하기\n",
    "> df_iris에서 sepal_length만 남겨주세요. 그리고 sepal_length 칼럼의 이름은 x로 바꿉니다"
   ]
  },
  {
   "cell_type": "code",
   "execution_count": 2,
   "metadata": {
    "colab": {
     "base_uri": "https://localhost:8080/",
     "height": 402
    },
    "id": "vIGqSyh5U30B",
    "outputId": "b54cd574-5b34-4b6f-eea8-4c1f8079a431"
   },
   "outputs": [
    {
     "data": {
      "text/html": [
       "<div>\n",
       "<style scoped>\n",
       "    .dataframe tbody tr th:only-of-type {\n",
       "        vertical-align: middle;\n",
       "    }\n",
       "\n",
       "    .dataframe tbody tr th {\n",
       "        vertical-align: top;\n",
       "    }\n",
       "\n",
       "    .dataframe thead th {\n",
       "        text-align: right;\n",
       "    }\n",
       "</style>\n",
       "<table border=\"1\" class=\"dataframe\">\n",
       "  <thead>\n",
       "    <tr style=\"text-align: right;\">\n",
       "      <th></th>\n",
       "      <th>x</th>\n",
       "    </tr>\n",
       "  </thead>\n",
       "  <tbody>\n",
       "    <tr>\n",
       "      <th>0</th>\n",
       "      <td>5.1</td>\n",
       "    </tr>\n",
       "    <tr>\n",
       "      <th>1</th>\n",
       "      <td>4.9</td>\n",
       "    </tr>\n",
       "    <tr>\n",
       "      <th>2</th>\n",
       "      <td>4.7</td>\n",
       "    </tr>\n",
       "    <tr>\n",
       "      <th>3</th>\n",
       "      <td>4.6</td>\n",
       "    </tr>\n",
       "    <tr>\n",
       "      <th>4</th>\n",
       "      <td>5.0</td>\n",
       "    </tr>\n",
       "    <tr>\n",
       "      <th>...</th>\n",
       "      <td>...</td>\n",
       "    </tr>\n",
       "    <tr>\n",
       "      <th>145</th>\n",
       "      <td>6.7</td>\n",
       "    </tr>\n",
       "    <tr>\n",
       "      <th>146</th>\n",
       "      <td>6.3</td>\n",
       "    </tr>\n",
       "    <tr>\n",
       "      <th>147</th>\n",
       "      <td>6.5</td>\n",
       "    </tr>\n",
       "    <tr>\n",
       "      <th>148</th>\n",
       "      <td>6.2</td>\n",
       "    </tr>\n",
       "    <tr>\n",
       "      <th>149</th>\n",
       "      <td>5.9</td>\n",
       "    </tr>\n",
       "  </tbody>\n",
       "</table>\n",
       "<p>150 rows × 1 columns</p>\n",
       "</div>"
      ],
      "text/plain": [
       "       x\n",
       "0    5.1\n",
       "1    4.9\n",
       "2    4.7\n",
       "3    4.6\n",
       "4    5.0\n",
       "..   ...\n",
       "145  6.7\n",
       "146  6.3\n",
       "147  6.5\n",
       "148  6.2\n",
       "149  5.9\n",
       "\n",
       "[150 rows x 1 columns]"
      ]
     },
     "execution_count": 2,
     "metadata": {
      "tags": []
     },
     "output_type": "execute_result"
    }
   ],
   "source": [
    "# 이곳에 답안을 작성합니다.\n",
    "df_iris['x'] = df_iris[['sepal_length']]\n",
    "df_iris = df_iris.drop(['sepal_length', 'sepal_width', 'petal_length', 'petal_width', 'species'], axis = 1)\n",
    "df_iris"
   ]
  },
  {
   "cell_type": "markdown",
   "metadata": {
    "id": "az0kx_sxHYri"
   },
   "source": [
    "## 3. 기초 미분\n",
    "\n",
    "다음 함수를 미분한 도함수를 구한 후에 num_one 함수를 완성하세요. \n",
    "$f(x) = 4x^5 + 9x^3 + ex^2 - 7$\n",
    "\n",
    "- num_one 함수를 x에 적용한 후에 derivative_one이라는 칼럼으로 df_iris에 저장합니다. (Hint : df.apply)\n",
    "- derivative_one 칼럼의 합을 `res2`에 저장합니다 (소수점 세자리까지)"
   ]
  },
  {
   "cell_type": "code",
   "execution_count": 3,
   "metadata": {
    "colab": {
     "base_uri": "https://localhost:8080/"
    },
    "id": "J5ha7GquLbCo",
    "outputId": "40d4b009-aff8-46c0-f3f6-8835a5cce187"
   },
   "outputs": [
    {
     "data": {
      "text/plain": [
       "4077643.108045289"
      ]
     },
     "execution_count": 3,
     "metadata": {
      "tags": []
     },
     "output_type": "execute_result"
    }
   ],
   "source": [
    "def num_one(x):\n",
    "    return 20*(x**4) + 27*(x**2) + 2*(np.e)*x # 이곳에 답안을 작성해주시기 바랍니다\n",
    "\n",
    "df_iris['derivative_one'] = df_iris['x'].apply(num_one)\n",
    "\n",
    "res2 = df_iris['derivative_one'].sum()\n",
    "\n",
    "res2"
   ]
  },
  {
   "cell_type": "markdown",
   "metadata": {
    "id": "M4tsEkXFU30C"
   },
   "source": [
    "- 이번에는 scipy의 [derivative](https://docs.scipy.org/doc/scipy/reference/generated/scipy.misc.derivative.html)를 활용하여 derivative_two 칼럼으로 저장하세요.\n",
    "  - dx는 1e-7로 설정합니다.\n",
    "- derivative_two 칼럼의 합을 `res3`에 저장합니다 (소수점 세자리까지)"
   ]
  },
  {
   "cell_type": "code",
   "execution_count": 4,
   "metadata": {
    "colab": {
     "base_uri": "https://localhost:8080/"
    },
    "id": "8tMsPJpaU30D",
    "outputId": "82ad9dd4-970a-4ab9-9eb1-16ea496fec96"
   },
   "outputs": [
    {
     "data": {
      "text/plain": [
       "4077643.1205767947"
      ]
     },
     "execution_count": 4,
     "metadata": {
      "tags": []
     },
     "output_type": "execute_result"
    }
   ],
   "source": [
    "from scipy.misc import derivative\n",
    "def f(x):\n",
    "#     return None\n",
    "    return 4*(x**5) + 9*(x**3) + np.e*(x**2) - 7\n",
    "\n",
    "df_iris['derivative_two'] = derivative(f, df_iris['x'], dx = 1e-7)\n",
    "\n",
    "res3 = df_iris['derivative_two'].sum()\n",
    "\n",
    "res3"
   ]
  },
  {
   "cell_type": "code",
   "execution_count": 5,
   "metadata": {
    "colab": {
     "base_uri": "https://localhost:8080/",
     "height": 402
    },
    "id": "O3v35RmDU30D",
    "outputId": "fe6f5970-6223-412f-ae98-68c37b53f8e5"
   },
   "outputs": [
    {
     "data": {
      "text/html": [
       "<div>\n",
       "<style scoped>\n",
       "    .dataframe tbody tr th:only-of-type {\n",
       "        vertical-align: middle;\n",
       "    }\n",
       "\n",
       "    .dataframe tbody tr th {\n",
       "        vertical-align: top;\n",
       "    }\n",
       "\n",
       "    .dataframe thead th {\n",
       "        text-align: right;\n",
       "    }\n",
       "</style>\n",
       "<table border=\"1\" class=\"dataframe\">\n",
       "  <thead>\n",
       "    <tr style=\"text-align: right;\">\n",
       "      <th></th>\n",
       "      <th>x</th>\n",
       "      <th>derivative_one</th>\n",
       "      <th>derivative_two</th>\n",
       "    </tr>\n",
       "  </thead>\n",
       "  <tbody>\n",
       "    <tr>\n",
       "      <th>0</th>\n",
       "      <td>5.1</td>\n",
       "      <td>14260.398475</td>\n",
       "      <td>14260.398502</td>\n",
       "    </tr>\n",
       "    <tr>\n",
       "      <th>1</th>\n",
       "      <td>4.9</td>\n",
       "      <td>12204.511162</td>\n",
       "      <td>12204.511186</td>\n",
       "    </tr>\n",
       "    <tr>\n",
       "      <th>2</th>\n",
       "      <td>4.7</td>\n",
       "      <td>10381.343849</td>\n",
       "      <td>10381.343873</td>\n",
       "    </tr>\n",
       "    <tr>\n",
       "      <th>3</th>\n",
       "      <td>4.6</td>\n",
       "      <td>9551.240193</td>\n",
       "      <td>9551.240219</td>\n",
       "    </tr>\n",
       "    <tr>\n",
       "      <th>4</th>\n",
       "      <td>5.0</td>\n",
       "      <td>13202.182818</td>\n",
       "      <td>13202.182863</td>\n",
       "    </tr>\n",
       "    <tr>\n",
       "      <th>...</th>\n",
       "      <td>...</td>\n",
       "      <td>...</td>\n",
       "      <td>...</td>\n",
       "    </tr>\n",
       "    <tr>\n",
       "      <th>145</th>\n",
       "      <td>6.7</td>\n",
       "      <td>41550.696977</td>\n",
       "      <td>41550.697097</td>\n",
       "    </tr>\n",
       "    <tr>\n",
       "      <th>146</th>\n",
       "      <td>6.3</td>\n",
       "      <td>32611.802351</td>\n",
       "      <td>32611.802490</td>\n",
       "    </tr>\n",
       "    <tr>\n",
       "      <th>147</th>\n",
       "      <td>6.5</td>\n",
       "      <td>36877.337664</td>\n",
       "      <td>36877.337734</td>\n",
       "    </tr>\n",
       "    <tr>\n",
       "      <th>148</th>\n",
       "      <td>6.2</td>\n",
       "      <td>30624.258695</td>\n",
       "      <td>30624.258798</td>\n",
       "    </tr>\n",
       "    <tr>\n",
       "      <th>149</th>\n",
       "      <td>5.9</td>\n",
       "      <td>25206.667726</td>\n",
       "      <td>25206.667779</td>\n",
       "    </tr>\n",
       "  </tbody>\n",
       "</table>\n",
       "<p>150 rows × 3 columns</p>\n",
       "</div>"
      ],
      "text/plain": [
       "       x  derivative_one  derivative_two\n",
       "0    5.1    14260.398475    14260.398502\n",
       "1    4.9    12204.511162    12204.511186\n",
       "2    4.7    10381.343849    10381.343873\n",
       "3    4.6     9551.240193     9551.240219\n",
       "4    5.0    13202.182818    13202.182863\n",
       "..   ...             ...             ...\n",
       "145  6.7    41550.696977    41550.697097\n",
       "146  6.3    32611.802351    32611.802490\n",
       "147  6.5    36877.337664    36877.337734\n",
       "148  6.2    30624.258695    30624.258798\n",
       "149  5.9    25206.667726    25206.667779\n",
       "\n",
       "[150 rows x 3 columns]"
      ]
     },
     "execution_count": 5,
     "metadata": {
      "tags": []
     },
     "output_type": "execute_result"
    }
   ],
   "source": [
    "df_iris"
   ]
  },
  {
   "cell_type": "markdown",
   "metadata": {
    "id": "U9KQrjt3I66h"
   },
   "source": [
    "## 2. 미분 연습\n",
    ">아래의 함수들을 미분한 후에 **x = 5**일 때의 결과값을 `res4`, `res5`, `res6`, `res7`에 저장하세요. "
   ]
  },
  {
   "cell_type": "markdown",
   "metadata": {
    "id": "YU3vsYxbU30E"
   },
   "source": [
    " $f(x) = e^x$ "
   ]
  },
  {
   "cell_type": "code",
   "execution_count": 14,
   "metadata": {
    "colab": {
     "base_uri": "https://localhost:8080/"
    },
    "id": "FhjNjL4bU30E",
    "outputId": "72b8193c-b5fd-4c8b-8a9b-394310ca7f2b"
   },
   "outputs": [
    {
     "data": {
      "text/plain": [
       "148.4131591025766"
      ]
     },
     "execution_count": 14,
     "metadata": {
      "tags": []
     },
     "output_type": "execute_result"
    }
   ],
   "source": [
    "# 이 곳에 답안을 작성하세요\n",
    "import numpy as np\n",
    "\n",
    "def e_prime(x):\n",
    "    return np.exp(x)\n",
    "\n",
    "e_prime(5)"
   ]
  },
  {
   "cell_type": "markdown",
   "metadata": {
    "id": "lWdtNUMjU30E"
   },
   "source": [
    "$f(x) = lnx$"
   ]
  },
  {
   "cell_type": "code",
   "execution_count": 15,
   "metadata": {
    "colab": {
     "base_uri": "https://localhost:8080/"
    },
    "id": "fq2R1Y2OU30E",
    "outputId": "c3071e99-65c1-4a3d-9bc5-a13c3aef137a"
   },
   "outputs": [
    {
     "data": {
      "text/plain": [
       "0.2"
      ]
     },
     "execution_count": 15,
     "metadata": {
      "tags": []
     },
     "output_type": "execute_result"
    }
   ],
   "source": [
    "# 이 곳에 답안을 작성하세요\n",
    "def ln_prime(x):\n",
    "    return 1/x\n",
    "\n",
    "ln_prime(5)"
   ]
  },
  {
   "cell_type": "markdown",
   "metadata": {
    "id": "hWKVT4zcU30E"
   },
   "source": [
    "$f(x) = Sin(2x)$"
   ]
  },
  {
   "cell_type": "code",
   "execution_count": 16,
   "metadata": {
    "colab": {
     "base_uri": "https://localhost:8080/"
    },
    "id": "NoJ7TFamU30F",
    "outputId": "a213d86b-6d12-4058-d075-d44c72274339"
   },
   "outputs": [
    {
     "data": {
      "text/plain": [
       "-1.6781430581529049"
      ]
     },
     "execution_count": 16,
     "metadata": {
      "tags": []
     },
     "output_type": "execute_result"
    }
   ],
   "source": [
    "# 이 곳에 답안을 작성하세요\n",
    "def sine_prime(x):\n",
    "    return 2*np.cos(2*x)\n",
    "\n",
    "sine_prime(5)"
   ]
  },
  {
   "cell_type": "markdown",
   "metadata": {
    "id": "u91BxaQ7U30F"
   },
   "source": [
    "$f(x) = (2x^2 + 8x)^2$"
   ]
  },
  {
   "cell_type": "code",
   "execution_count": 17,
   "metadata": {
    "colab": {
     "base_uri": "https://localhost:8080/"
    },
    "id": "MyTxmTnBU30F",
    "outputId": "49889636-8316-4900-a176-16956fe1f88d"
   },
   "outputs": [
    {
     "data": {
      "text/plain": [
       "5040"
      ]
     },
     "execution_count": 17,
     "metadata": {
      "tags": []
     },
     "output_type": "execute_result"
    }
   ],
   "source": [
    "def f_prime(x):\n",
    "    return 2*(2*x**2 + 8*x)*(4*x+8)\n",
    "\n",
    "f_prime(5)"
   ]
  },
  {
   "cell_type": "markdown",
   "metadata": {
    "id": "yKehJVDsJQNg"
   },
   "source": [
    "## 3. 편미분\n",
    "\n",
    "주어진 `machine learning model`의 `error function` ($\\varepsilon$)이 다음과 같을 때 `error function`을 **최소화** 하는 최적의 `parameter`들을  구하세요. 그 후 결과를 각각 `p1`, `p2`에 저장하세요.\n",
    "\n",
    "$\\varepsilon(p_1, p_2) = (e \\cdot p_1 - p_2)^2 + {{k_2} \\over { 2 }} \\cdot p_2 $ \n",
    "\n",
    "$k_2 == 100$\n",
    "\n",
    "- 단 최적의 $p_1$은 $p_2$가 $3$일때, 최적의 $p_2$는 $p_1$이 $10$일때를 기준으로 합니다."
   ]
  },
  {
   "cell_type": "code",
   "execution_count": 10,
   "metadata": {
    "id": "TlA7rqlnK2V8"
   },
   "outputs": [],
   "source": [
    "# error function이 최소화 되는 점은 미분값(도함수의 값)이 0이 되는 점입니다."
   ]
  },
  {
   "cell_type": "markdown",
   "metadata": {
    "id": "mnm9Eru4U30G"
   },
   "source": [
    "$\\varepsilon(p_1, p_2) = (e \\cdot p_1 - p_2)^2 + 50p_2 $ "
   ]
  },
  {
   "cell_type": "markdown",
   "metadata": {
    "id": "kepetKTXU30G"
   },
   "source": [
    "#### $p_2=3$ 일 때 최적의 $p_1$ 구하기\n",
    "\n",
    "$$\n",
    "\\begin{aligned}\n",
    "\\frac{\\partial \\varepsilon}{\\partial p_1} = 2(e \\cdot p_1 - p_2) \\cdot e &= 0 \\\\\n",
    "2(e \\cdot p_1 - 3) \\cdot e &= 0 \\\\\n",
    "(e \\cdot p_1 - 3) &= 0 \\\\\n",
    "\\therefore p_1 = \\frac{3}{e}\n",
    "\\end{aligned}\n",
    "$$"
   ]
  },
  {
   "cell_type": "markdown",
   "metadata": {
    "id": "H8cccQf4U30G"
   },
   "source": [
    "#### $p_1=10$ 일 때 최적의 $p_2$ 구하기\n",
    "\n",
    "$$\n",
    "\\begin{aligned}\n",
    "\\frac{\\partial \\varepsilon}{\\partial p_2} = 2 \\cdot (e \\cdot p_1 - p_2) \\cdot (-1) + 50 &= 0 \\\\\n",
    "-2 \\cdot (10e - p_2) + 50 &= 0 \\\\\n",
    "2(10e - p_2) &= 50 \\\\\n",
    "10e - p_2 &= 25 \\\\\n",
    "\\therefore p_2 = 10e - 25\n",
    "\\end{aligned}\n",
    "$$"
   ]
  },
  {
   "cell_type": "markdown",
   "metadata": {
    "id": "ZTC_sDkNK87q"
   },
   "source": [
    "## Grading\n",
    "\n",
    "이전 과제를 완료했다면, 아래의 코드를 실행하세요. "
   ]
  },
  {
   "cell_type": "code",
   "execution_count": 21,
   "metadata": {
    "id": "MiRrKvLNK_Mc"
   },
   "outputs": [],
   "source": [
    "def grade(res1, res2, res3, res4, res5, p1, p2):\n",
    "    score = 0\n",
    "\n",
    "    score += (res1 == 30.0)\n",
    "    score += (res2 == 4073693.108)\n",
    "    score += (res3 == 4077643.121)\n",
    "    score += (round(res4, 3) == 148.413)\n",
    "    score += (round(res5, 1) == 0.2)\n",
    "    score += (round(res6, 3) == -1.678)\n",
    "    score += (res7 == 5040)\n",
    "    \n",
    "    score += (p1 == 3/exp(1))\n",
    "    score += (p2 == 10*exp(1)-25)\n",
    "  \n",
    "    return(score)"
   ]
  }
 ],
 "metadata": {
  "colab": {
   "collapsed_sections": [],
   "name": "n114a_Basic_Derivative-Sol.ipynb",
   "provenance": []
  },
  "kernelspec": {
   "display_name": "Python 3",
   "language": "python",
   "name": "python3"
  },
  "language_info": {
   "codemirror_mode": {
    "name": "ipython",
    "version": 3
   },
   "file_extension": ".py",
   "mimetype": "text/x-python",
   "name": "python",
   "nbconvert_exporter": "python",
   "pygments_lexer": "ipython3",
   "version": "3.8.8"
  }
 },
 "nbformat": 4,
 "nbformat_minor": 4
}
