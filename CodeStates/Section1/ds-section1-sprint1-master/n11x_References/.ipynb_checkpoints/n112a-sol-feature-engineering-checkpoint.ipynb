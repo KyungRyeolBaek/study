{
 "cells": [
  {
   "cell_type": "markdown",
   "metadata": {
    "id": "SnDJqBLi0FYW"
   },
   "source": [
    "<img src='https://user-images.githubusercontent.com/6457691/89746244-a6e2a200-daf3-11ea-9314-7863d544d73c.png' width = '200' align = 'right'>\n",
    "\n",
    "## *DATA SCIENCE / SECTION 1 / SPRINT 1 / NOTE 2*\n",
    "\n",
    "# 📝 Assignment\n"
   ]
  },
  {
   "cell_type": "markdown",
   "metadata": {
    "id": "W5GjI1z5yNG4"
   },
   "source": [
    "## 1. Feature Engineering\n",
    "\n",
    "- `KT&G` 기업 데이터를 계속 사용합니다.\n",
    "  - 변수 이름은 `df`로 저장하세요.\n",
    "\n",
    "- 각 분기별 영업이익률을 직접 계산해보세요. \n",
    "  - Feature 이름은 `영업이익률2` 입니다.\n",
    "\n",
    "- 아래 데이터를 참조하여 18/19년도에 대해서 Price to Dream Ratio (PDR)을 계산하세요.\n",
    "  - 변수 이름은 `df2`, feature 이름은 `PDR`로, `df2['PDR']`을 통해 `~` 값이 확인 되어야합니다.\n",
    "\n",
    "||구분|종가|발행주식수|시가총액|시장점유율|PDR|\n",
    "|:-:|:-:|:-:|:-:|:-:|:-:|:-:|\n",
    "|0|18년|101500|137292497|13935188445500|62.0|~|\n",
    "|1|19년|93800|137292497|12878036218600|63.5|~|\n"
   ]
  },
  {
   "cell_type": "code",
   "execution_count": 71,
   "metadata": {
    "executionInfo": {
     "elapsed": 736,
     "status": "ok",
     "timestamp": 1620649900815,
     "user": {
      "displayName": "Dana Son",
      "photoUrl": "",
      "userId": "05686537105084719675"
     },
     "user_tz": -540
    },
    "id": "AazB4eFwym2p"
   },
   "outputs": [],
   "source": [
    "url = 'https://ds-lecture-data.s3.ap-northeast-2.amazonaws.com/kt%26g/kt%26g_0.csv'\n",
    "headers = ['분기', '매출액', '영업이익', '영업이익(발표기준)', '세전계속사업이익',\n",
    "           '당기순이익', '당기순이익(지배)', '당기순이익(비지배)', '자산총계', '부채총계',\n",
    "           '자본총계', '자본총계(지배)', '자본총계(비지배)', '자본금', '영업활동현금흐름',\n",
    "           '투자활동현금흐름', '재무활동현금흐름', '영업이익률', '순이익률', 'ROE(%)',\n",
    "           'ROA(%)', '부채비율', '자본유보율', 'EPS(원)', 'PER(배)']"
   ]
  },
  {
   "cell_type": "code",
   "execution_count": 72,
   "metadata": {
    "colab": {
     "base_uri": "https://localhost:8080/",
     "height": 221
    },
    "executionInfo": {
     "elapsed": 1405,
     "status": "ok",
     "timestamp": 1620649901828,
     "user": {
      "displayName": "Dana Son",
      "photoUrl": "",
      "userId": "05686537105084719675"
     },
     "user_tz": -540
    },
    "id": "AKgbpLJkl2Q7",
    "outputId": "9845860a-f6cf-47a7-c629-9f51b04eaa9c"
   },
   "outputs": [
    {
     "data": {
      "text/html": [
       "<div>\n",
       "<style scoped>\n",
       "    .dataframe tbody tr th:only-of-type {\n",
       "        vertical-align: middle;\n",
       "    }\n",
       "\n",
       "    .dataframe tbody tr th {\n",
       "        vertical-align: top;\n",
       "    }\n",
       "\n",
       "    .dataframe thead th {\n",
       "        text-align: right;\n",
       "    }\n",
       "</style>\n",
       "<table border=\"1\" class=\"dataframe\">\n",
       "  <thead>\n",
       "    <tr style=\"text-align: right;\">\n",
       "      <th></th>\n",
       "      <th>분기</th>\n",
       "      <th>매출액</th>\n",
       "      <th>영업이익</th>\n",
       "      <th>영업이익(발표기준)</th>\n",
       "      <th>세전계속사업이익</th>\n",
       "      <th>당기순이익</th>\n",
       "      <th>당기순이익(지배)</th>\n",
       "      <th>당기순이익(비지배)</th>\n",
       "      <th>자산총계</th>\n",
       "      <th>부채총계</th>\n",
       "      <th>자본총계</th>\n",
       "      <th>자본총계(지배)</th>\n",
       "      <th>자본총계(비지배)</th>\n",
       "      <th>자본금</th>\n",
       "      <th>영업활동현금흐름</th>\n",
       "      <th>투자활동현금흐름</th>\n",
       "      <th>재무활동현금흐름</th>\n",
       "      <th>영업이익률</th>\n",
       "      <th>순이익률</th>\n",
       "      <th>ROE(%)</th>\n",
       "      <th>ROA(%)</th>\n",
       "      <th>부채비율</th>\n",
       "      <th>자본유보율</th>\n",
       "      <th>EPS(원)</th>\n",
       "      <th>PER(배)</th>\n",
       "    </tr>\n",
       "  </thead>\n",
       "  <tbody>\n",
       "    <tr>\n",
       "      <th>0</th>\n",
       "      <td>19/6</td>\n",
       "      <td>12,578</td>\n",
       "      <td>3,991</td>\n",
       "      <td>3,991</td>\n",
       "      <td>4,452</td>\n",
       "      <td>3,245</td>\n",
       "      <td>3,228</td>\n",
       "      <td>17</td>\n",
       "      <td>108,464</td>\n",
       "      <td>25,940</td>\n",
       "      <td>82,524</td>\n",
       "      <td>81,965</td>\n",
       "      <td>NaN</td>\n",
       "      <td>9,550</td>\n",
       "      <td>4,641</td>\n",
       "      <td>-1,878</td>\n",
       "      <td>-4,919</td>\n",
       "      <td>31.73</td>\n",
       "      <td>25.80</td>\n",
       "      <td>12.35</td>\n",
       "      <td>9.37</td>\n",
       "      <td>31.43</td>\n",
       "      <td>803.22</td>\n",
       "      <td>2,351</td>\n",
       "      <td>13.77</td>\n",
       "    </tr>\n",
       "    <tr>\n",
       "      <th>1</th>\n",
       "      <td>19/9</td>\n",
       "      <td>13,222</td>\n",
       "      <td>3,825</td>\n",
       "      <td>3,825</td>\n",
       "      <td>4,503</td>\n",
       "      <td>3,221</td>\n",
       "      <td>3,208</td>\n",
       "      <td>13</td>\n",
       "      <td>106,314</td>\n",
       "      <td>20,691</td>\n",
       "      <td>85,623</td>\n",
       "      <td>85,049</td>\n",
       "      <td>NaN</td>\n",
       "      <td>9,550</td>\n",
       "      <td>-2,278</td>\n",
       "      <td>-83</td>\n",
       "      <td>-329</td>\n",
       "      <td>28.93</td>\n",
       "      <td>24.36</td>\n",
       "      <td>12.67</td>\n",
       "      <td>9.95</td>\n",
       "      <td>24.17</td>\n",
       "      <td>836.86</td>\n",
       "      <td>2,337</td>\n",
       "      <td>13.87</td>\n",
       "    </tr>\n",
       "    <tr>\n",
       "      <th>2</th>\n",
       "      <td>19/12</td>\n",
       "      <td>11,982</td>\n",
       "      <td>2,523</td>\n",
       "      <td>2,523</td>\n",
       "      <td>1,794</td>\n",
       "      <td>1,183</td>\n",
       "      <td>1,198</td>\n",
       "      <td>-15</td>\n",
       "      <td>107,121</td>\n",
       "      <td>20,062</td>\n",
       "      <td>87,059</td>\n",
       "      <td>86,506</td>\n",
       "      <td>NaN</td>\n",
       "      <td>9,550</td>\n",
       "      <td>837</td>\n",
       "      <td>-501</td>\n",
       "      <td>-129</td>\n",
       "      <td>21.06</td>\n",
       "      <td>9.87</td>\n",
       "      <td>12.39</td>\n",
       "      <td>9.96</td>\n",
       "      <td>23.04</td>\n",
       "      <td>850.82</td>\n",
       "      <td>873</td>\n",
       "      <td>12.42</td>\n",
       "    </tr>\n",
       "    <tr>\n",
       "      <th>3</th>\n",
       "      <td>20/3</td>\n",
       "      <td>11,784</td>\n",
       "      <td>3,150</td>\n",
       "      <td>3,150</td>\n",
       "      <td>4,156</td>\n",
       "      <td>2,939</td>\n",
       "      <td>2,930</td>\n",
       "      <td>9</td>\n",
       "      <td>108,594</td>\n",
       "      <td>24,862</td>\n",
       "      <td>83,732</td>\n",
       "      <td>83,170</td>\n",
       "      <td>562.0</td>\n",
       "      <td>9,550</td>\n",
       "      <td>2,336</td>\n",
       "      <td>-1,392</td>\n",
       "      <td>-86</td>\n",
       "      <td>26.73</td>\n",
       "      <td>24.94</td>\n",
       "      <td>13.05</td>\n",
       "      <td>9.79</td>\n",
       "      <td>29.69</td>\n",
       "      <td>823.16</td>\n",
       "      <td>2,134</td>\n",
       "      <td>9.71</td>\n",
       "    </tr>\n",
       "    <tr>\n",
       "      <th>4</th>\n",
       "      <td>20/6</td>\n",
       "      <td>13,188</td>\n",
       "      <td>3,947</td>\n",
       "      <td>3,947</td>\n",
       "      <td>4,020</td>\n",
       "      <td>2,935</td>\n",
       "      <td>2,931</td>\n",
       "      <td>4</td>\n",
       "      <td>110,282</td>\n",
       "      <td>23,386</td>\n",
       "      <td>86,896</td>\n",
       "      <td>86,330</td>\n",
       "      <td>566.0</td>\n",
       "      <td>9,550</td>\n",
       "      <td>7,855</td>\n",
       "      <td>-214</td>\n",
       "      <td>-5,501</td>\n",
       "      <td>29.93</td>\n",
       "      <td>22.25</td>\n",
       "      <td>12.20</td>\n",
       "      <td>9.40</td>\n",
       "      <td>26.91</td>\n",
       "      <td>837.40</td>\n",
       "      <td>2,135</td>\n",
       "      <td>10.46</td>\n",
       "    </tr>\n",
       "  </tbody>\n",
       "</table>\n",
       "</div>"
      ],
      "text/plain": [
       "      분기     매출액   영업이익 영업이익(발표기준)  ...   부채비율   자본유보율 EPS(원)  PER(배)\n",
       "0   19/6  12,578  3,991      3,991  ...  31.43  803.22  2,351   13.77\n",
       "1   19/9  13,222  3,825      3,825  ...  24.17  836.86  2,337   13.87\n",
       "2  19/12  11,982  2,523      2,523  ...  23.04  850.82    873   12.42\n",
       "3   20/3  11,784  3,150      3,150  ...  29.69  823.16  2,134    9.71\n",
       "4   20/6  13,188  3,947      3,947  ...  26.91  837.40  2,135   10.46\n",
       "\n",
       "[5 rows x 25 columns]"
      ]
     },
     "execution_count": 72,
     "metadata": {
      "tags": []
     },
     "output_type": "execute_result"
    }
   ],
   "source": [
    "import pandas as pd\n",
    "\n",
    "df = pd.read_csv(url, header=None, names=headers)\n",
    "df"
   ]
  },
  {
   "cell_type": "code",
   "execution_count": 73,
   "metadata": {
    "colab": {
     "base_uri": "https://localhost:8080/"
    },
    "executionInfo": {
     "elapsed": 1120,
     "status": "ok",
     "timestamp": 1620649901829,
     "user": {
      "displayName": "Dana Son",
      "photoUrl": "",
      "userId": "05686537105084719675"
     },
     "user_tz": -540
    },
    "id": "t6yH6Y4ewruC",
    "outputId": "6853c571-d40f-4b55-e828-2c748bcaf039"
   },
   "outputs": [
    {
     "data": {
      "text/plain": [
       "(5, 25)"
      ]
     },
     "execution_count": 73,
     "metadata": {
      "tags": []
     },
     "output_type": "execute_result"
    }
   ],
   "source": [
    "df.shape"
   ]
  },
  {
   "cell_type": "code",
   "execution_count": 74,
   "metadata": {
    "executionInfo": {
     "elapsed": 823,
     "status": "ok",
     "timestamp": 1620649901829,
     "user": {
      "displayName": "Dana Son",
      "photoUrl": "",
      "userId": "05686537105084719675"
     },
     "user_tz": -540
    },
    "id": "3szAi2cjl2TS"
   },
   "outputs": [],
   "source": [
    "\n",
    "# 영업이익률 직접 계산\n",
    "# 자료형을 숫자로 변환 후 계산하기\n",
    "# (영업이익 / 매출액) * 100\n",
    "\n",
    "def column_cleaning(col):\n",
    "  temp_list = []  # 빈 리스트 준비\n",
    "\n",
    "  for i in col:\n",
    "    temp = int(i.replace(\",\", \"\"))  # ,를 없애고 > int로 변환합니다. \n",
    "    temp_list.append(temp)  # 최종 변환한 데이터를 리스트에 추가합니다.\n",
    "\n",
    "  return temp_list # 함수의 결과로 리스트를 반환합니다."
   ]
  },
  {
   "cell_type": "code",
   "execution_count": 75,
   "metadata": {
    "executionInfo": {
     "elapsed": 556,
     "status": "ok",
     "timestamp": 1620649901830,
     "user": {
      "displayName": "Dana Son",
      "photoUrl": "",
      "userId": "05686537105084719675"
     },
     "user_tz": -540
    },
    "id": "A_-tXJXNl2Vp"
   },
   "outputs": [],
   "source": [
    "df[\"매출액\"] = column_cleaning(df[\"매출액\"])\n",
    "df[\"영업이익\"] = column_cleaning(df[\"영업이익\"])\n",
    "\n",
    "df[\"영업이익률2\"] = round((df[\"영업이익\"]/df[\"매출액\"])*100, 2)  # round 함수를 사용하여 소수점 2자리까지 자릅니다."
   ]
  },
  {
   "cell_type": "code",
   "execution_count": 76,
   "metadata": {
    "colab": {
     "base_uri": "https://localhost:8080/"
    },
    "executionInfo": {
     "elapsed": 1175,
     "status": "ok",
     "timestamp": 1620649902726,
     "user": {
      "displayName": "Dana Son",
      "photoUrl": "",
      "userId": "05686537105084719675"
     },
     "user_tz": -540
    },
    "id": "EXPNq8YQl2aK",
    "outputId": "a394e39f-6d76-4fba-8dfb-07565b37dce5"
   },
   "outputs": [
    {
     "data": {
      "text/plain": [
       "0    31.73\n",
       "1    28.93\n",
       "2    21.06\n",
       "3    26.73\n",
       "4    29.93\n",
       "Name: 영업이익률2, dtype: float64"
      ]
     },
     "execution_count": 76,
     "metadata": {
      "tags": []
     },
     "output_type": "execute_result"
    }
   ],
   "source": [
    "# 확인\n",
    "df[\"영업이익률2\"]"
   ]
  },
  {
   "cell_type": "code",
   "execution_count": 77,
   "metadata": {
    "colab": {
     "base_uri": "https://localhost:8080/"
    },
    "executionInfo": {
     "elapsed": 1274,
     "status": "ok",
     "timestamp": 1620649903071,
     "user": {
      "displayName": "Dana Son",
      "photoUrl": "",
      "userId": "05686537105084719675"
     },
     "user_tz": -540
    },
    "id": "dKvYblO3xStV",
    "outputId": "034d3299-eda8-42e9-ba9f-ca643156f752"
   },
   "outputs": [
    {
     "data": {
      "text/plain": [
       "분기             object\n",
       "매출액             int64\n",
       "영업이익            int64\n",
       "영업이익(발표기준)     object\n",
       "세전계속사업이익       object\n",
       "당기순이익          object\n",
       "당기순이익(지배)      object\n",
       "당기순이익(비지배)      int64\n",
       "자산총계           object\n",
       "부채총계           object\n",
       "자본총계           object\n",
       "자본총계(지배)       object\n",
       "자본총계(비지배)     float64\n",
       "자본금            object\n",
       "영업활동현금흐름       object\n",
       "투자활동현금흐름       object\n",
       "재무활동현금흐름       object\n",
       "영업이익률         float64\n",
       "순이익률          float64\n",
       "ROE(%)        float64\n",
       "ROA(%)        float64\n",
       "부채비율          float64\n",
       "자본유보율         float64\n",
       "EPS(원)         object\n",
       "PER(배)        float64\n",
       "영업이익률2        float64\n",
       "dtype: object"
      ]
     },
     "execution_count": 77,
     "metadata": {
      "tags": []
     },
     "output_type": "execute_result"
    }
   ],
   "source": [
    "df.dtypes"
   ]
  },
  {
   "cell_type": "code",
   "execution_count": 78,
   "metadata": {
    "colab": {
     "base_uri": "https://localhost:8080/",
     "height": 111
    },
    "executionInfo": {
     "elapsed": 1026,
     "status": "ok",
     "timestamp": 1620649903072,
     "user": {
      "displayName": "Dana Son",
      "photoUrl": "",
      "userId": "05686537105084719675"
     },
     "user_tz": -540
    },
    "id": "_2tR8V10nqeJ",
    "outputId": "26b02590-a024-4de0-9171-47f82e912dce"
   },
   "outputs": [
    {
     "data": {
      "text/html": [
       "<div>\n",
       "<style scoped>\n",
       "    .dataframe tbody tr th:only-of-type {\n",
       "        vertical-align: middle;\n",
       "    }\n",
       "\n",
       "    .dataframe tbody tr th {\n",
       "        vertical-align: top;\n",
       "    }\n",
       "\n",
       "    .dataframe thead th {\n",
       "        text-align: right;\n",
       "    }\n",
       "</style>\n",
       "<table border=\"1\" class=\"dataframe\">\n",
       "  <thead>\n",
       "    <tr style=\"text-align: right;\">\n",
       "      <th></th>\n",
       "      <th>구분</th>\n",
       "      <th>종가</th>\n",
       "      <th>발행주식수</th>\n",
       "      <th>시가총액</th>\n",
       "      <th>시장점유율</th>\n",
       "      <th>시장규모</th>\n",
       "      <th>PDR</th>\n",
       "    </tr>\n",
       "  </thead>\n",
       "  <tbody>\n",
       "    <tr>\n",
       "      <th>0</th>\n",
       "      <td>18년</td>\n",
       "      <td>101500</td>\n",
       "      <td>137292497</td>\n",
       "      <td>13935188445500</td>\n",
       "      <td>62.0</td>\n",
       "      <td>15000000000000</td>\n",
       "      <td></td>\n",
       "    </tr>\n",
       "    <tr>\n",
       "      <th>1</th>\n",
       "      <td>19년</td>\n",
       "      <td>93800</td>\n",
       "      <td>137292497</td>\n",
       "      <td>12878036218600</td>\n",
       "      <td>63.5</td>\n",
       "      <td>15000000000000</td>\n",
       "      <td></td>\n",
       "    </tr>\n",
       "  </tbody>\n",
       "</table>\n",
       "</div>"
      ],
      "text/plain": [
       "    구분      종가      발행주식수            시가총액  시장점유율            시장규모 PDR\n",
       "0  18년  101500  137292497  13935188445500   62.0  15000000000000    \n",
       "1  19년   93800  137292497  12878036218600   63.5  15000000000000    "
      ]
     },
     "execution_count": 78,
     "metadata": {
      "tags": []
     },
     "output_type": "execute_result"
    }
   ],
   "source": [
    "# Price to Dream Ratio 계산\n",
    "# PDR : stock/(tam*(market_share/100))*100\n",
    "\n",
    "d2 = {'구분':['18년','19년'],\n",
    "    '종가':[101500,93800],\n",
    "    '발행주식수':[137292497,137292497],\n",
    "    '시가총액':[13935188445500,12878036218600],\n",
    "    '시장점유율':[62.0,63.5],\n",
    "    '시장규모':[15000000000000,15000000000000],\n",
    "    'PDR':['','']}\n",
    "    \n",
    "df2 = pd.DataFrame(data=d2)\n",
    "df2"
   ]
  },
  {
   "cell_type": "code",
   "execution_count": 79,
   "metadata": {
    "executionInfo": {
     "elapsed": 736,
     "status": "ok",
     "timestamp": 1620649903072,
     "user": {
      "displayName": "Dana Son",
      "photoUrl": "",
      "userId": "05686537105084719675"
     },
     "user_tz": -540
    },
    "id": "R9nFkyxAouzJ"
   },
   "outputs": [],
   "source": [
    "df2[\"PDR\"] = ((df2['종가']*df2['발행주식수'])/(df2['시장규모']*(df2['시장점유율']/100)))*100"
   ]
  },
  {
   "cell_type": "code",
   "execution_count": 80,
   "metadata": {
    "colab": {
     "base_uri": "https://localhost:8080/"
    },
    "executionInfo": {
     "elapsed": 475,
     "status": "ok",
     "timestamp": 1620649903073,
     "user": {
      "displayName": "Dana Son",
      "photoUrl": "",
      "userId": "05686537105084719675"
     },
     "user_tz": -540
    },
    "id": "z3KzrIyIou1m",
    "outputId": "1b8f7939-80dc-4726-d5f8-09c6d7cc2561"
   },
   "outputs": [
    {
     "data": {
      "text/plain": [
       "0    149.840736\n",
       "1    135.202480\n",
       "Name: PDR, dtype: float64"
      ]
     },
     "execution_count": 80,
     "metadata": {
      "tags": []
     },
     "output_type": "execute_result"
    }
   ],
   "source": [
    "df2[\"PDR\"]"
   ]
  },
  {
   "cell_type": "markdown",
   "metadata": {
    "id": "XBtwwrzAnKzk"
   },
   "source": [
    "## 2. String Manipulation\n",
    "\n",
    "- replace가 아닌 다른 방법을 사용하여 19년도 2분기의 매출액 을 integer로 변경하세요. 결과값은 12578이 나와야합니다.\n",
    "  \n"
   ]
  },
  {
   "cell_type": "code",
   "execution_count": 81,
   "metadata": {
    "executionInfo": {
     "elapsed": 447,
     "status": "ok",
     "timestamp": 1620649903632,
     "user": {
      "displayName": "Dana Son",
      "photoUrl": "",
      "userId": "05686537105084719675"
     },
     "user_tz": -540
    },
    "id": "9-sR5inqnM0L"
   },
   "outputs": [],
   "source": [
    "tmp = \"12,578\""
   ]
  },
  {
   "cell_type": "code",
   "execution_count": 82,
   "metadata": {
    "colab": {
     "base_uri": "https://localhost:8080/",
     "height": 35
    },
    "executionInfo": {
     "elapsed": 1061,
     "status": "ok",
     "timestamp": 1620649904533,
     "user": {
      "displayName": "Dana Son",
      "photoUrl": "",
      "userId": "05686537105084719675"
     },
     "user_tz": -540
    },
    "id": "CWG6M0W8rcAj",
    "outputId": "de8e1b22-a2b3-4e76-a3f7-d21ea01f15ca"
   },
   "outputs": [
    {
     "data": {
      "application/vnd.google.colaboratory.intrinsic+json": {
       "type": "string"
      },
      "text/plain": [
       "'12,578'"
      ]
     },
     "execution_count": 82,
     "metadata": {
      "tags": []
     },
     "output_type": "execute_result"
    }
   ],
   "source": [
    "# 확인\n",
    "tmp"
   ]
  },
  {
   "cell_type": "code",
   "execution_count": 83,
   "metadata": {
    "colab": {
     "base_uri": "https://localhost:8080/"
    },
    "executionInfo": {
     "elapsed": 1086,
     "status": "ok",
     "timestamp": 1620649904877,
     "user": {
      "displayName": "Dana Son",
      "photoUrl": "",
      "userId": "05686537105084719675"
     },
     "user_tz": -540
    },
    "id": "-ktM5KSJrcC_",
    "outputId": "a756c1f0-2037-4299-c2ad-84919c2460c4"
   },
   "outputs": [
    {
     "data": {
      "text/plain": [
       "12578"
      ]
     },
     "execution_count": 83,
     "metadata": {
      "tags": []
     },
     "output_type": "execute_result"
    }
   ],
   "source": [
    "a,b = tmp.split(\",\")\n",
    "revenue_19_2 = int(a+b)\n",
    "\n",
    "\n",
    "# 확인 \n",
    "revenue_19_2"
   ]
  },
  {
   "cell_type": "markdown",
   "metadata": {
    "id": "357MIyg6nNWj"
   },
   "source": [
    "## 3. Apply\n",
    "- 데이터셋의 분기를 제외한 모든 feature에 대해서 수치형 데이터 (`int`, `float`) 로 수정하고, `describe`를 통해 summary statistics 를 확인하세요.\n",
    "- 단 결측치는 `0`으로 처리합니다."
   ]
  },
  {
   "cell_type": "code",
   "execution_count": 84,
   "metadata": {
    "colab": {
     "base_uri": "https://localhost:8080/"
    },
    "executionInfo": {
     "elapsed": 504,
     "status": "ok",
     "timestamp": 1620649904877,
     "user": {
      "displayName": "Dana Son",
      "photoUrl": "",
      "userId": "05686537105084719675"
     },
     "user_tz": -540
    },
    "id": "Sp93h2pvFs7P",
    "outputId": "10e6fa49-6978-4356-b2ab-3c523a49fc6a"
   },
   "outputs": [
    {
     "name": "stdout",
     "output_type": "stream",
     "text": [
      "<class 'pandas.core.frame.DataFrame'>\n",
      "RangeIndex: 5 entries, 0 to 4\n",
      "Data columns (total 26 columns):\n",
      " #   Column      Non-Null Count  Dtype  \n",
      "---  ------      --------------  -----  \n",
      " 0   분기          5 non-null      object \n",
      " 1   매출액         5 non-null      int64  \n",
      " 2   영업이익        5 non-null      int64  \n",
      " 3   영업이익(발표기준)  5 non-null      object \n",
      " 4   세전계속사업이익    5 non-null      object \n",
      " 5   당기순이익       5 non-null      object \n",
      " 6   당기순이익(지배)   5 non-null      object \n",
      " 7   당기순이익(비지배)  5 non-null      int64  \n",
      " 8   자산총계        5 non-null      object \n",
      " 9   부채총계        5 non-null      object \n",
      " 10  자본총계        5 non-null      object \n",
      " 11  자본총계(지배)    5 non-null      object \n",
      " 12  자본총계(비지배)   2 non-null      float64\n",
      " 13  자본금         5 non-null      object \n",
      " 14  영업활동현금흐름    5 non-null      object \n",
      " 15  투자활동현금흐름    5 non-null      object \n",
      " 16  재무활동현금흐름    5 non-null      object \n",
      " 17  영업이익률       5 non-null      float64\n",
      " 18  순이익률        5 non-null      float64\n",
      " 19  ROE(%)      5 non-null      float64\n",
      " 20  ROA(%)      5 non-null      float64\n",
      " 21  부채비율        5 non-null      float64\n",
      " 22  자본유보율       5 non-null      float64\n",
      " 23  EPS(원)      5 non-null      object \n",
      " 24  PER(배)      5 non-null      float64\n",
      " 25  영업이익률2      5 non-null      float64\n",
      "dtypes: float64(9), int64(3), object(14)\n",
      "memory usage: 1.1+ KB\n"
     ]
    }
   ],
   "source": [
    "# 자료형 확인\n",
    "df.info()"
   ]
  },
  {
   "cell_type": "code",
   "execution_count": 85,
   "metadata": {
    "executionInfo": {
     "elapsed": 422,
     "status": "ok",
     "timestamp": 1620649905116,
     "user": {
      "displayName": "Dana Son",
      "photoUrl": "",
      "userId": "05686537105084719675"
     },
     "user_tz": -540
    },
    "id": "21WA0X8WtH7j"
   },
   "outputs": [],
   "source": [
    "# 결측치 -> 0으로 채우기\n",
    "df.fillna(0, inplace=True)"
   ]
  },
  {
   "cell_type": "code",
   "execution_count": 86,
   "metadata": {
    "colab": {
     "base_uri": "https://localhost:8080/"
    },
    "executionInfo": {
     "elapsed": 440,
     "status": "ok",
     "timestamp": 1620649905400,
     "user": {
      "displayName": "Dana Son",
      "photoUrl": "",
      "userId": "05686537105084719675"
     },
     "user_tz": -540
    },
    "id": "NwSfBoa7tOTM",
    "outputId": "9924b07c-d378-46bd-ba0d-6b67debd8dea"
   },
   "outputs": [
    {
     "data": {
      "text/plain": [
       "분기            0\n",
       "매출액           0\n",
       "영업이익          0\n",
       "영업이익(발표기준)    0\n",
       "세전계속사업이익      0\n",
       "당기순이익         0\n",
       "당기순이익(지배)     0\n",
       "당기순이익(비지배)    0\n",
       "자산총계          0\n",
       "부채총계          0\n",
       "자본총계          0\n",
       "자본총계(지배)      0\n",
       "자본총계(비지배)     0\n",
       "자본금           0\n",
       "영업활동현금흐름      0\n",
       "투자활동현금흐름      0\n",
       "재무활동현금흐름      0\n",
       "영업이익률         0\n",
       "순이익률          0\n",
       "ROE(%)        0\n",
       "ROA(%)        0\n",
       "부채비율          0\n",
       "자본유보율         0\n",
       "EPS(원)        0\n",
       "PER(배)        0\n",
       "영업이익률2        0\n",
       "dtype: int64"
      ]
     },
     "execution_count": 86,
     "metadata": {
      "tags": []
     },
     "output_type": "execute_result"
    }
   ],
   "source": [
    "# 컬럼 별 결측치 확인\n",
    "df.isnull().sum()"
   ]
  },
  {
   "cell_type": "code",
   "execution_count": 87,
   "metadata": {
    "colab": {
     "base_uri": "https://localhost:8080/"
    },
    "executionInfo": {
     "elapsed": 405,
     "status": "ok",
     "timestamp": 1620649905668,
     "user": {
      "displayName": "Dana Son",
      "photoUrl": "",
      "userId": "05686537105084719675"
     },
     "user_tz": -540
    },
    "id": "s09vwqaPtcH_",
    "outputId": "20485e68-3ecd-4b04-8afe-f7836fc0f04e"
   },
   "outputs": [
    {
     "data": {
      "text/plain": [
       "분기             object\n",
       "매출액             int64\n",
       "영업이익            int64\n",
       "영업이익(발표기준)     object\n",
       "세전계속사업이익       object\n",
       "당기순이익          object\n",
       "당기순이익(지배)      object\n",
       "당기순이익(비지배)      int64\n",
       "자산총계           object\n",
       "부채총계           object\n",
       "자본총계           object\n",
       "자본총계(지배)       object\n",
       "자본총계(비지배)     float64\n",
       "자본금            object\n",
       "영업활동현금흐름       object\n",
       "투자활동현금흐름       object\n",
       "재무활동현금흐름       object\n",
       "영업이익률         float64\n",
       "순이익률          float64\n",
       "ROE(%)        float64\n",
       "ROA(%)        float64\n",
       "부채비율          float64\n",
       "자본유보율         float64\n",
       "EPS(원)         object\n",
       "PER(배)        float64\n",
       "영업이익률2        float64\n",
       "dtype: object"
      ]
     },
     "execution_count": 87,
     "metadata": {
      "tags": []
     },
     "output_type": "execute_result"
    }
   ],
   "source": [
    "# 변환 필요한 컬럼 확인 : object를 문자열 삭제 후 int 변환\n",
    "df.dtypes"
   ]
  },
  {
   "cell_type": "code",
   "execution_count": 88,
   "metadata": {
    "executionInfo": {
     "elapsed": 1092,
     "status": "ok",
     "timestamp": 1620649907006,
     "user": {
      "displayName": "Dana Son",
      "photoUrl": "",
      "userId": "05686537105084719675"
     },
     "user_tz": -540
    },
    "id": "MVObq4Pmu_GV"
   },
   "outputs": [],
   "source": [
    "# 바뀌어야 할 컬럼을 리스트에 저장\n",
    "changes = [\"영업이익(발표기준)\", \"세전계속사업이익\", \"당기순이익\", \"당기순이익(지배)\", \n",
    "           \"자산총계\", \"부채총계\", \"자본총계\", \"자본총계(지배)\", \"자본금\", \"영업활동현금흐름\", \"투자활동현금흐름\", \n",
    "           \"재무활동현금흐름\", \"EPS(원)\" ]"
   ]
  },
  {
   "cell_type": "code",
   "execution_count": 89,
   "metadata": {
    "executionInfo": {
     "elapsed": 569,
     "status": "ok",
     "timestamp": 1620649907007,
     "user": {
      "displayName": "Dana Son",
      "photoUrl": "",
      "userId": "05686537105084719675"
     },
     "user_tz": -540
    },
    "id": "wN8CiCv3srHk"
   },
   "outputs": [],
   "source": [
    "# 반복문 및 사용자 설정 함수 사용\n",
    "for i in changes:\n",
    "  df[i] = column_cleaning(df[i])"
   ]
  },
  {
   "cell_type": "code",
   "execution_count": 90,
   "metadata": {
    "colab": {
     "base_uri": "https://localhost:8080/"
    },
    "executionInfo": {
     "elapsed": 732,
     "status": "ok",
     "timestamp": 1620649907637,
     "user": {
      "displayName": "Dana Son",
      "photoUrl": "",
      "userId": "05686537105084719675"
     },
     "user_tz": -540
    },
    "id": "_RY62ZE-srKQ",
    "outputId": "262b1555-47fa-4dc6-f2f9-f0f33516963d"
   },
   "outputs": [
    {
     "data": {
      "text/plain": [
       "분기             object\n",
       "매출액             int64\n",
       "영업이익            int64\n",
       "영업이익(발표기준)      int64\n",
       "세전계속사업이익        int64\n",
       "당기순이익           int64\n",
       "당기순이익(지배)       int64\n",
       "당기순이익(비지배)      int64\n",
       "자산총계            int64\n",
       "부채총계            int64\n",
       "자본총계            int64\n",
       "자본총계(지배)        int64\n",
       "자본총계(비지배)     float64\n",
       "자본금             int64\n",
       "영업활동현금흐름        int64\n",
       "투자활동현금흐름        int64\n",
       "재무활동현금흐름        int64\n",
       "영업이익률         float64\n",
       "순이익률          float64\n",
       "ROE(%)        float64\n",
       "ROA(%)        float64\n",
       "부채비율          float64\n",
       "자본유보율         float64\n",
       "EPS(원)          int64\n",
       "PER(배)        float64\n",
       "영업이익률2        float64\n",
       "dtype: object"
      ]
     },
     "execution_count": 90,
     "metadata": {
      "tags": []
     },
     "output_type": "execute_result"
    }
   ],
   "source": [
    "# 데이터타입 확인\n",
    "df.dtypes"
   ]
  },
  {
   "cell_type": "code",
   "execution_count": 91,
   "metadata": {
    "colab": {
     "base_uri": "https://localhost:8080/",
     "height": 334
    },
    "executionInfo": {
     "elapsed": 567,
     "status": "ok",
     "timestamp": 1620649907872,
     "user": {
      "displayName": "Dana Son",
      "photoUrl": "",
      "userId": "05686537105084719675"
     },
     "user_tz": -540
    },
    "id": "aO3gw6eGsrMp",
    "outputId": "c19621b5-c4e2-4e7a-f221-698ece507d56"
   },
   "outputs": [
    {
     "data": {
      "text/html": [
       "<div>\n",
       "<style scoped>\n",
       "    .dataframe tbody tr th:only-of-type {\n",
       "        vertical-align: middle;\n",
       "    }\n",
       "\n",
       "    .dataframe tbody tr th {\n",
       "        vertical-align: top;\n",
       "    }\n",
       "\n",
       "    .dataframe thead th {\n",
       "        text-align: right;\n",
       "    }\n",
       "</style>\n",
       "<table border=\"1\" class=\"dataframe\">\n",
       "  <thead>\n",
       "    <tr style=\"text-align: right;\">\n",
       "      <th></th>\n",
       "      <th>매출액</th>\n",
       "      <th>영업이익</th>\n",
       "      <th>영업이익(발표기준)</th>\n",
       "      <th>세전계속사업이익</th>\n",
       "      <th>당기순이익</th>\n",
       "      <th>당기순이익(지배)</th>\n",
       "      <th>당기순이익(비지배)</th>\n",
       "      <th>자산총계</th>\n",
       "      <th>부채총계</th>\n",
       "      <th>자본총계</th>\n",
       "      <th>자본총계(지배)</th>\n",
       "      <th>자본총계(비지배)</th>\n",
       "      <th>자본금</th>\n",
       "      <th>영업활동현금흐름</th>\n",
       "      <th>투자활동현금흐름</th>\n",
       "      <th>재무활동현금흐름</th>\n",
       "      <th>영업이익률</th>\n",
       "      <th>순이익률</th>\n",
       "      <th>ROE(%)</th>\n",
       "      <th>ROA(%)</th>\n",
       "      <th>부채비율</th>\n",
       "      <th>자본유보율</th>\n",
       "      <th>EPS(원)</th>\n",
       "      <th>PER(배)</th>\n",
       "      <th>영업이익률2</th>\n",
       "    </tr>\n",
       "  </thead>\n",
       "  <tbody>\n",
       "    <tr>\n",
       "      <th>count</th>\n",
       "      <td>5.000000</td>\n",
       "      <td>5.000000</td>\n",
       "      <td>5.000000</td>\n",
       "      <td>5.000000</td>\n",
       "      <td>5.000000</td>\n",
       "      <td>5.000000</td>\n",
       "      <td>5.000000</td>\n",
       "      <td>5.000000</td>\n",
       "      <td>5.00000</td>\n",
       "      <td>5.00000</td>\n",
       "      <td>5.000000</td>\n",
       "      <td>5.00000</td>\n",
       "      <td>5.0</td>\n",
       "      <td>5.000000</td>\n",
       "      <td>5.000000</td>\n",
       "      <td>5.00000</td>\n",
       "      <td>5.000000</td>\n",
       "      <td>5.000000</td>\n",
       "      <td>5.000000</td>\n",
       "      <td>5.000000</td>\n",
       "      <td>5.000000</td>\n",
       "      <td>5.00000</td>\n",
       "      <td>5.000000</td>\n",
       "      <td>5.000000</td>\n",
       "      <td>5.000000</td>\n",
       "    </tr>\n",
       "    <tr>\n",
       "      <th>mean</th>\n",
       "      <td>12550.800000</td>\n",
       "      <td>3487.200000</td>\n",
       "      <td>3487.200000</td>\n",
       "      <td>3785.000000</td>\n",
       "      <td>2704.600000</td>\n",
       "      <td>2699.000000</td>\n",
       "      <td>5.600000</td>\n",
       "      <td>108155.000000</td>\n",
       "      <td>22988.20000</td>\n",
       "      <td>85166.80000</td>\n",
       "      <td>84604.000000</td>\n",
       "      <td>225.60000</td>\n",
       "      <td>9550.0</td>\n",
       "      <td>2678.200000</td>\n",
       "      <td>-813.600000</td>\n",
       "      <td>-2192.80000</td>\n",
       "      <td>27.676000</td>\n",
       "      <td>21.444000</td>\n",
       "      <td>12.532000</td>\n",
       "      <td>9.694000</td>\n",
       "      <td>27.048000</td>\n",
       "      <td>830.29200</td>\n",
       "      <td>1966.000000</td>\n",
       "      <td>12.046000</td>\n",
       "      <td>27.676000</td>\n",
       "    </tr>\n",
       "    <tr>\n",
       "      <th>std</th>\n",
       "      <td>664.979097</td>\n",
       "      <td>636.931079</td>\n",
       "      <td>636.931079</td>\n",
       "      <td>1131.079131</td>\n",
       "      <td>863.422724</td>\n",
       "      <td>851.338358</td>\n",
       "      <td>12.481987</td>\n",
       "      <td>1522.396795</td>\n",
       "      <td>2560.38419</td>\n",
       "      <td>1988.82596</td>\n",
       "      <td>1988.427897</td>\n",
       "      <td>308.91876</td>\n",
       "      <td>0.0</td>\n",
       "      <td>3831.542731</td>\n",
       "      <td>783.981696</td>\n",
       "      <td>2763.51139</td>\n",
       "      <td>4.115651</td>\n",
       "      <td>6.601267</td>\n",
       "      <td>0.335738</td>\n",
       "      <td>0.290224</td>\n",
       "      <td>3.554859</td>\n",
       "      <td>18.01957</td>\n",
       "      <td>619.939513</td>\n",
       "      <td>1.898112</td>\n",
       "      <td>4.115651</td>\n",
       "    </tr>\n",
       "    <tr>\n",
       "      <th>min</th>\n",
       "      <td>11784.000000</td>\n",
       "      <td>2523.000000</td>\n",
       "      <td>2523.000000</td>\n",
       "      <td>1794.000000</td>\n",
       "      <td>1183.000000</td>\n",
       "      <td>1198.000000</td>\n",
       "      <td>-15.000000</td>\n",
       "      <td>106314.000000</td>\n",
       "      <td>20062.00000</td>\n",
       "      <td>82524.00000</td>\n",
       "      <td>81965.000000</td>\n",
       "      <td>0.00000</td>\n",
       "      <td>9550.0</td>\n",
       "      <td>-2278.000000</td>\n",
       "      <td>-1878.000000</td>\n",
       "      <td>-5501.00000</td>\n",
       "      <td>21.060000</td>\n",
       "      <td>9.870000</td>\n",
       "      <td>12.200000</td>\n",
       "      <td>9.370000</td>\n",
       "      <td>23.040000</td>\n",
       "      <td>803.22000</td>\n",
       "      <td>873.000000</td>\n",
       "      <td>9.710000</td>\n",
       "      <td>21.060000</td>\n",
       "    </tr>\n",
       "    <tr>\n",
       "      <th>25%</th>\n",
       "      <td>11982.000000</td>\n",
       "      <td>3150.000000</td>\n",
       "      <td>3150.000000</td>\n",
       "      <td>4020.000000</td>\n",
       "      <td>2935.000000</td>\n",
       "      <td>2930.000000</td>\n",
       "      <td>4.000000</td>\n",
       "      <td>107121.000000</td>\n",
       "      <td>20691.00000</td>\n",
       "      <td>83732.00000</td>\n",
       "      <td>83170.000000</td>\n",
       "      <td>0.00000</td>\n",
       "      <td>9550.0</td>\n",
       "      <td>837.000000</td>\n",
       "      <td>-1392.000000</td>\n",
       "      <td>-4919.00000</td>\n",
       "      <td>26.730000</td>\n",
       "      <td>22.250000</td>\n",
       "      <td>12.350000</td>\n",
       "      <td>9.400000</td>\n",
       "      <td>24.170000</td>\n",
       "      <td>823.16000</td>\n",
       "      <td>2134.000000</td>\n",
       "      <td>10.460000</td>\n",
       "      <td>26.730000</td>\n",
       "    </tr>\n",
       "    <tr>\n",
       "      <th>50%</th>\n",
       "      <td>12578.000000</td>\n",
       "      <td>3825.000000</td>\n",
       "      <td>3825.000000</td>\n",
       "      <td>4156.000000</td>\n",
       "      <td>2939.000000</td>\n",
       "      <td>2931.000000</td>\n",
       "      <td>9.000000</td>\n",
       "      <td>108464.000000</td>\n",
       "      <td>23386.00000</td>\n",
       "      <td>85623.00000</td>\n",
       "      <td>85049.000000</td>\n",
       "      <td>0.00000</td>\n",
       "      <td>9550.0</td>\n",
       "      <td>2336.000000</td>\n",
       "      <td>-501.000000</td>\n",
       "      <td>-329.00000</td>\n",
       "      <td>28.930000</td>\n",
       "      <td>24.360000</td>\n",
       "      <td>12.390000</td>\n",
       "      <td>9.790000</td>\n",
       "      <td>26.910000</td>\n",
       "      <td>836.86000</td>\n",
       "      <td>2135.000000</td>\n",
       "      <td>12.420000</td>\n",
       "      <td>28.930000</td>\n",
       "    </tr>\n",
       "    <tr>\n",
       "      <th>75%</th>\n",
       "      <td>13188.000000</td>\n",
       "      <td>3947.000000</td>\n",
       "      <td>3947.000000</td>\n",
       "      <td>4452.000000</td>\n",
       "      <td>3221.000000</td>\n",
       "      <td>3208.000000</td>\n",
       "      <td>13.000000</td>\n",
       "      <td>108594.000000</td>\n",
       "      <td>24862.00000</td>\n",
       "      <td>86896.00000</td>\n",
       "      <td>86330.000000</td>\n",
       "      <td>562.00000</td>\n",
       "      <td>9550.0</td>\n",
       "      <td>4641.000000</td>\n",
       "      <td>-214.000000</td>\n",
       "      <td>-129.00000</td>\n",
       "      <td>29.930000</td>\n",
       "      <td>24.940000</td>\n",
       "      <td>12.670000</td>\n",
       "      <td>9.950000</td>\n",
       "      <td>29.690000</td>\n",
       "      <td>837.40000</td>\n",
       "      <td>2337.000000</td>\n",
       "      <td>13.770000</td>\n",
       "      <td>29.930000</td>\n",
       "    </tr>\n",
       "    <tr>\n",
       "      <th>max</th>\n",
       "      <td>13222.000000</td>\n",
       "      <td>3991.000000</td>\n",
       "      <td>3991.000000</td>\n",
       "      <td>4503.000000</td>\n",
       "      <td>3245.000000</td>\n",
       "      <td>3228.000000</td>\n",
       "      <td>17.000000</td>\n",
       "      <td>110282.000000</td>\n",
       "      <td>25940.00000</td>\n",
       "      <td>87059.00000</td>\n",
       "      <td>86506.000000</td>\n",
       "      <td>566.00000</td>\n",
       "      <td>9550.0</td>\n",
       "      <td>7855.000000</td>\n",
       "      <td>-83.000000</td>\n",
       "      <td>-86.00000</td>\n",
       "      <td>31.730000</td>\n",
       "      <td>25.800000</td>\n",
       "      <td>13.050000</td>\n",
       "      <td>9.960000</td>\n",
       "      <td>31.430000</td>\n",
       "      <td>850.82000</td>\n",
       "      <td>2351.000000</td>\n",
       "      <td>13.870000</td>\n",
       "      <td>31.730000</td>\n",
       "    </tr>\n",
       "  </tbody>\n",
       "</table>\n",
       "</div>"
      ],
      "text/plain": [
       "                매출액         영업이익  ...     PER(배)     영업이익률2\n",
       "count      5.000000     5.000000  ...   5.000000   5.000000\n",
       "mean   12550.800000  3487.200000  ...  12.046000  27.676000\n",
       "std      664.979097   636.931079  ...   1.898112   4.115651\n",
       "min    11784.000000  2523.000000  ...   9.710000  21.060000\n",
       "25%    11982.000000  3150.000000  ...  10.460000  26.730000\n",
       "50%    12578.000000  3825.000000  ...  12.420000  28.930000\n",
       "75%    13188.000000  3947.000000  ...  13.770000  29.930000\n",
       "max    13222.000000  3991.000000  ...  13.870000  31.730000\n",
       "\n",
       "[8 rows x 25 columns]"
      ]
     },
     "execution_count": 91,
     "metadata": {
      "tags": []
     },
     "output_type": "execute_result"
    }
   ],
   "source": [
    "df.describe()"
   ]
  },
  {
   "cell_type": "markdown",
   "metadata": {
    "id": "en0Q_b5L4fxA"
   },
   "source": [
    "## Grading\n",
    "\n",
    "이전 과제를 완료했다면, 아래의 코드를 실행하세요. "
   ]
  },
  {
   "cell_type": "code",
   "execution_count": 92,
   "metadata": {
    "executionInfo": {
     "elapsed": 906,
     "status": "ok",
     "timestamp": 1620649909169,
     "user": {
      "displayName": "Dana Son",
      "photoUrl": "",
      "userId": "05686537105084719675"
     },
     "user_tz": -540
    },
    "id": "1k3zn-YV4fdg"
   },
   "outputs": [],
   "source": [
    "def grade(df, df2):\n",
    "  score = 0\n",
    "  score += (df.shape == (5, 26)) # 1-1\n",
    "  score += ((round(df2['PDR'], 3) == [149.841, 135.202]).sum() == 2) # 1-2\n",
    "  score += ((round(df['영업이익률2'], 3) == [31.730, 28.929, 21.057, 26.731, 29.929]).sum() == 5) # 1-3\n",
    "  score += (df['매출액'][0] == 12578) # 2\n",
    "  score += ((df.dtypes == 'O').sum() == 1)\n",
    "  return(score)"
   ]
  },
  {
   "cell_type": "code",
   "execution_count": 93,
   "metadata": {
    "colab": {
     "base_uri": "https://localhost:8080/"
    },
    "executionInfo": {
     "elapsed": 582,
     "status": "ok",
     "timestamp": 1620649909410,
     "user": {
      "displayName": "Dana Son",
      "photoUrl": "",
      "userId": "05686537105084719675"
     },
     "user_tz": -540
    },
    "id": "nj_RslFn4lCM",
    "outputId": "cc0c8704-4bf1-4689-af8f-d93d8a72f46c"
   },
   "outputs": [
    {
     "data": {
      "text/plain": [
       "4"
      ]
     },
     "execution_count": 93,
     "metadata": {
      "tags": []
     },
     "output_type": "execute_result"
    }
   ],
   "source": [
    "grade(df, df2)"
   ]
  }
 ],
 "metadata": {
  "colab": {
   "collapsed_sections": [],
   "name": "n112a-feature-engineering.ipynb",
   "provenance": []
  },
  "kernelspec": {
   "display_name": "Python 3",
   "language": "python",
   "name": "python3"
  },
  "language_info": {
   "codemirror_mode": {
    "name": "ipython",
    "version": 3
   },
   "file_extension": ".py",
   "mimetype": "text/x-python",
   "name": "python",
   "nbconvert_exporter": "python",
   "pygments_lexer": "ipython3",
   "version": "3.8.8"
  }
 },
 "nbformat": 4,
 "nbformat_minor": 4
}
