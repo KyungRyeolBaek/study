{
  "nbformat": 4,
  "nbformat_minor": 0,
  "metadata": {
    "colab": {
      "name": "n114a-Basic Derivative.ipynb",
      "provenance": [],
      "toc_visible": true
    },
    "kernelspec": {
      "display_name": "Python 3",
      "language": "python",
      "name": "python3"
    },
    "language_info": {
      "codemirror_mode": {
        "name": "ipython",
        "version": 3
      },
      "file_extension": ".py",
      "mimetype": "text/x-python",
      "name": "python",
      "nbconvert_exporter": "python",
      "pygments_lexer": "ipython3",
      "version": "3.8.2"
    }
  },
  "cells": [
    {
      "cell_type": "markdown",
      "metadata": {
        "id": "G5hwlPlsGega"
      },
      "source": [
        "<img src='https://i.imgur.com/RDAD11M.png' width = '200' align = 'right'>\n",
        "\n",
        "## *DATA SCIENCE / SECTION 1 / SPRINT 1 / NOTE 4*\n",
        "\n",
        "---\n",
        "\n",
        "# 📝 Assignment\n",
        "\n"
      ]
    },
    {
      "cell_type": "markdown",
      "metadata": {
        "id": "qJJy28BFaHBh"
      },
      "source": [
        "## 1. Dataset 불러오기\n",
        "> seaborn 라이브러리의 load_dataset()을 활용해서 iris 데이터셋을 데이터프레임으로 불러옵니다. 데이터프레임의 이름은 df_iris로 합니다. <br>\n",
        "> df_iris의 shape의 **첫번째 값을 두번째 값으로 나눈 값**을 `res1`에 저장하세요"
      ]
    },
    {
      "cell_type": "code",
      "metadata": {
        "colab": {
          "base_uri": "https://localhost:8080/"
        },
        "id": "Tt-1v_A0aHBh",
        "outputId": "e5af98b0-c699-4d24-9f94-540b0ea72aad"
      },
      "source": [
        "import seaborn as sns\n",
        "import numpy as np\n",
        "np.random.seed(42)\n",
        "\n",
        "df_iris = sns.load_dataset('iris')\n",
        "\n",
        "res1 = df_iris.shape[0]/df_iris.shape[1]\n",
        "res1\n",
        "# res1 = 30.0"
      ],
      "execution_count": 7,
      "outputs": [
        {
          "output_type": "execute_result",
          "data": {
            "text/plain": [
              "30.0"
            ]
          },
          "metadata": {
            "tags": []
          },
          "execution_count": 7
        }
      ]
    },
    {
      "cell_type": "markdown",
      "metadata": {
        "id": "L-uKZrz5aHBi"
      },
      "source": [
        "## 2. X 구하기\n",
        "> df_iris에서 sepal_length만 남겨주세요. 그리고 sepal_length 칼럼의 이름은 x로 바꿉니다"
      ]
    },
    {
      "cell_type": "code",
      "metadata": {
        "id": "43zEafqGaHBi"
      },
      "source": [
        "df_iris.drop(df_iris.columns[1:], axis = 1, inplace = True)\n",
        "# df.rename(columns={\"변경전\":\"변경후\"}, inplace=True)\n",
        "df_iris.rename(columns = {'sepal_length':'x'}, inplace = True)\n",
        "df_iris\n",
        "x = df_iris['x']\n",
        "# 이곳에 답안을 작성합니다."
      ],
      "execution_count": 8,
      "outputs": []
    },
    {
      "cell_type": "markdown",
      "metadata": {
        "id": "az0kx_sxHYri"
      },
      "source": [
        "## 3. 기초 미분\n",
        "\n",
        "다음 함수를 미분한 도함수를 구한 후에 num_one 함수를 완성하세요. \n",
        "$f(x) = 4x^5 + 9x^3 + ex^2 - 7$\n",
        "\n",
        "- num_one 함수를 x에 적용한 후에 **derivative_one**이라는 칼럼으로 df_iris에 저장합니다. (Hint : df.apply)\n",
        "- derivative_one 칼럼의 합을 `res2`에 저장합니다 (소수점 세자리까지)"
      ]
    },
    {
      "cell_type": "code",
      "metadata": {
        "id": "J5ha7GquLbCo",
        "colab": {
          "base_uri": "https://localhost:8080/"
        },
        "outputId": "2eb27b62-0ea1-4b57-cb27-1a8e50116ab3"
      },
      "source": [
        "def num_one(x):\n",
        "    return 20*x**4 + 27*x**2 + 2*np.exp(1)*x\n",
        "df_iris['derivative_one'] = num_one(x)\n",
        "res2 = round(df_iris['derivative_one'].sum(), 3)\n",
        "res2\n",
        "# 이곳에 답안을 작성해주시기 바랍니다\n",
        "# res2 = 4077643.108"
      ],
      "execution_count": 9,
      "outputs": [
        {
          "output_type": "execute_result",
          "data": {
            "text/plain": [
              "4077643.108"
            ]
          },
          "metadata": {
            "tags": []
          },
          "execution_count": 9
        }
      ]
    },
    {
      "cell_type": "code",
      "metadata": {
        "colab": {
          "base_uri": "https://localhost:8080/",
          "height": 419
        },
        "id": "X7dJiB1xgN36",
        "outputId": "4c1b5e2d-5f38-4159-f8c0-63993bd59f79"
      },
      "source": [
        "df_iris"
      ],
      "execution_count": 10,
      "outputs": [
        {
          "output_type": "execute_result",
          "data": {
            "text/html": [
              "<div>\n",
              "<style scoped>\n",
              "    .dataframe tbody tr th:only-of-type {\n",
              "        vertical-align: middle;\n",
              "    }\n",
              "\n",
              "    .dataframe tbody tr th {\n",
              "        vertical-align: top;\n",
              "    }\n",
              "\n",
              "    .dataframe thead th {\n",
              "        text-align: right;\n",
              "    }\n",
              "</style>\n",
              "<table border=\"1\" class=\"dataframe\">\n",
              "  <thead>\n",
              "    <tr style=\"text-align: right;\">\n",
              "      <th></th>\n",
              "      <th>x</th>\n",
              "      <th>derivative_one</th>\n",
              "    </tr>\n",
              "  </thead>\n",
              "  <tbody>\n",
              "    <tr>\n",
              "      <th>0</th>\n",
              "      <td>5.1</td>\n",
              "      <td>14260.398475</td>\n",
              "    </tr>\n",
              "    <tr>\n",
              "      <th>1</th>\n",
              "      <td>4.9</td>\n",
              "      <td>12204.511162</td>\n",
              "    </tr>\n",
              "    <tr>\n",
              "      <th>2</th>\n",
              "      <td>4.7</td>\n",
              "      <td>10381.343849</td>\n",
              "    </tr>\n",
              "    <tr>\n",
              "      <th>3</th>\n",
              "      <td>4.6</td>\n",
              "      <td>9551.240193</td>\n",
              "    </tr>\n",
              "    <tr>\n",
              "      <th>4</th>\n",
              "      <td>5.0</td>\n",
              "      <td>13202.182818</td>\n",
              "    </tr>\n",
              "    <tr>\n",
              "      <th>...</th>\n",
              "      <td>...</td>\n",
              "      <td>...</td>\n",
              "    </tr>\n",
              "    <tr>\n",
              "      <th>145</th>\n",
              "      <td>6.7</td>\n",
              "      <td>41550.696977</td>\n",
              "    </tr>\n",
              "    <tr>\n",
              "      <th>146</th>\n",
              "      <td>6.3</td>\n",
              "      <td>32611.802351</td>\n",
              "    </tr>\n",
              "    <tr>\n",
              "      <th>147</th>\n",
              "      <td>6.5</td>\n",
              "      <td>36877.337664</td>\n",
              "    </tr>\n",
              "    <tr>\n",
              "      <th>148</th>\n",
              "      <td>6.2</td>\n",
              "      <td>30624.258695</td>\n",
              "    </tr>\n",
              "    <tr>\n",
              "      <th>149</th>\n",
              "      <td>5.9</td>\n",
              "      <td>25206.667726</td>\n",
              "    </tr>\n",
              "  </tbody>\n",
              "</table>\n",
              "<p>150 rows × 2 columns</p>\n",
              "</div>"
            ],
            "text/plain": [
              "       x  derivative_one\n",
              "0    5.1    14260.398475\n",
              "1    4.9    12204.511162\n",
              "2    4.7    10381.343849\n",
              "3    4.6     9551.240193\n",
              "4    5.0    13202.182818\n",
              "..   ...             ...\n",
              "145  6.7    41550.696977\n",
              "146  6.3    32611.802351\n",
              "147  6.5    36877.337664\n",
              "148  6.2    30624.258695\n",
              "149  5.9    25206.667726\n",
              "\n",
              "[150 rows x 2 columns]"
            ]
          },
          "metadata": {
            "tags": []
          },
          "execution_count": 10
        }
      ]
    },
    {
      "cell_type": "markdown",
      "metadata": {
        "id": "vUjDPAzBaHBj"
      },
      "source": [
        "- 이번에는 scipy의 [derivative](https://docs.scipy.org/doc/scipy/reference/generated/scipy.misc.derivative.html)를 활용하여 **derivative_two** 칼럼으로 저장하세요.\n",
        "  - dx는 1e-7로 설정합니다.\n",
        "- derivative_two 칼럼의 합을 `res3`에 저장합니다 (소수점 세자리까지)"
      ]
    },
    {
      "cell_type": "code",
      "metadata": {
        "colab": {
          "base_uri": "https://localhost:8080/"
        },
        "id": "JpMfck3MaHBj",
        "outputId": "234c282b-0014-44d2-84fd-bbd963a680e8"
      },
      "source": [
        "from scipy.misc import derivative\n",
        "\n",
        "def f_real(x):\n",
        "  return 4*x**5 + 9*x**3 + np.exp(1)*x**2 - 7\n",
        "\n",
        "def f(x):\n",
        "  return derivative(f_real, x, dx = 1e-7)\n",
        "\n",
        "df_iris['derivative_two'] = f(x)\n",
        "res3 = round(df_iris['derivative_two'].sum(), 3)\n",
        "res3\n",
        "# 이곳에 답안을 작성해주시기 바랍니다\n",
        "# res3 = 4077643.121"
      ],
      "execution_count": 11,
      "outputs": [
        {
          "output_type": "execute_result",
          "data": {
            "text/plain": [
              "4077643.121"
            ]
          },
          "metadata": {
            "tags": []
          },
          "execution_count": 11
        }
      ]
    },
    {
      "cell_type": "code",
      "metadata": {
        "colab": {
          "base_uri": "https://localhost:8080/",
          "height": 419
        },
        "id": "jXt1yQhNjZV-",
        "outputId": "deb9788a-cd11-47bb-bcbb-3232e2280dd2"
      },
      "source": [
        "df_iris"
      ],
      "execution_count": 12,
      "outputs": [
        {
          "output_type": "execute_result",
          "data": {
            "text/html": [
              "<div>\n",
              "<style scoped>\n",
              "    .dataframe tbody tr th:only-of-type {\n",
              "        vertical-align: middle;\n",
              "    }\n",
              "\n",
              "    .dataframe tbody tr th {\n",
              "        vertical-align: top;\n",
              "    }\n",
              "\n",
              "    .dataframe thead th {\n",
              "        text-align: right;\n",
              "    }\n",
              "</style>\n",
              "<table border=\"1\" class=\"dataframe\">\n",
              "  <thead>\n",
              "    <tr style=\"text-align: right;\">\n",
              "      <th></th>\n",
              "      <th>x</th>\n",
              "      <th>derivative_one</th>\n",
              "      <th>derivative_two</th>\n",
              "    </tr>\n",
              "  </thead>\n",
              "  <tbody>\n",
              "    <tr>\n",
              "      <th>0</th>\n",
              "      <td>5.1</td>\n",
              "      <td>14260.398475</td>\n",
              "      <td>14260.398502</td>\n",
              "    </tr>\n",
              "    <tr>\n",
              "      <th>1</th>\n",
              "      <td>4.9</td>\n",
              "      <td>12204.511162</td>\n",
              "      <td>12204.511186</td>\n",
              "    </tr>\n",
              "    <tr>\n",
              "      <th>2</th>\n",
              "      <td>4.7</td>\n",
              "      <td>10381.343849</td>\n",
              "      <td>10381.343873</td>\n",
              "    </tr>\n",
              "    <tr>\n",
              "      <th>3</th>\n",
              "      <td>4.6</td>\n",
              "      <td>9551.240193</td>\n",
              "      <td>9551.240219</td>\n",
              "    </tr>\n",
              "    <tr>\n",
              "      <th>4</th>\n",
              "      <td>5.0</td>\n",
              "      <td>13202.182818</td>\n",
              "      <td>13202.182863</td>\n",
              "    </tr>\n",
              "    <tr>\n",
              "      <th>...</th>\n",
              "      <td>...</td>\n",
              "      <td>...</td>\n",
              "      <td>...</td>\n",
              "    </tr>\n",
              "    <tr>\n",
              "      <th>145</th>\n",
              "      <td>6.7</td>\n",
              "      <td>41550.696977</td>\n",
              "      <td>41550.697097</td>\n",
              "    </tr>\n",
              "    <tr>\n",
              "      <th>146</th>\n",
              "      <td>6.3</td>\n",
              "      <td>32611.802351</td>\n",
              "      <td>32611.802490</td>\n",
              "    </tr>\n",
              "    <tr>\n",
              "      <th>147</th>\n",
              "      <td>6.5</td>\n",
              "      <td>36877.337664</td>\n",
              "      <td>36877.337734</td>\n",
              "    </tr>\n",
              "    <tr>\n",
              "      <th>148</th>\n",
              "      <td>6.2</td>\n",
              "      <td>30624.258695</td>\n",
              "      <td>30624.258798</td>\n",
              "    </tr>\n",
              "    <tr>\n",
              "      <th>149</th>\n",
              "      <td>5.9</td>\n",
              "      <td>25206.667726</td>\n",
              "      <td>25206.667779</td>\n",
              "    </tr>\n",
              "  </tbody>\n",
              "</table>\n",
              "<p>150 rows × 3 columns</p>\n",
              "</div>"
            ],
            "text/plain": [
              "       x  derivative_one  derivative_two\n",
              "0    5.1    14260.398475    14260.398502\n",
              "1    4.9    12204.511162    12204.511186\n",
              "2    4.7    10381.343849    10381.343873\n",
              "3    4.6     9551.240193     9551.240219\n",
              "4    5.0    13202.182818    13202.182863\n",
              "..   ...             ...             ...\n",
              "145  6.7    41550.696977    41550.697097\n",
              "146  6.3    32611.802351    32611.802490\n",
              "147  6.5    36877.337664    36877.337734\n",
              "148  6.2    30624.258695    30624.258798\n",
              "149  5.9    25206.667726    25206.667779\n",
              "\n",
              "[150 rows x 3 columns]"
            ]
          },
          "metadata": {
            "tags": []
          },
          "execution_count": 12
        }
      ]
    },
    {
      "cell_type": "markdown",
      "metadata": {
        "id": "U9KQrjt3I66h"
      },
      "source": [
        "## 4. 미분 연습\n",
        ">아래의 함수들을 미분한 후에 **x = 5**일 때의 결과값을 `res4`, `res5`, `res6`, `res7`에 저장하세요. "
      ]
    },
    {
      "cell_type": "markdown",
      "metadata": {
        "id": "HATeCF6WaHBj"
      },
      "source": [
        " $f(x) = e^x$ "
      ]
    },
    {
      "cell_type": "code",
      "metadata": {
        "colab": {
          "base_uri": "https://localhost:8080/"
        },
        "id": "ZD7C8FNAaHBk",
        "outputId": "ed46395d-2e24-4c5c-c013-2b99eae44eeb"
      },
      "source": [
        "x_defult = 5\n",
        "delta_x = 1e-7\n",
        "\n",
        "def derivative_function(fx, x):\n",
        "  return ((fx(x + delta_x)) - (fx(x - delta_x))) / (2*delta_x)\n",
        "\n",
        "def f4(x):\n",
        " return np.exp(x)\n",
        "\n",
        "def e_prime(x):\n",
        "  return derivative(f4, x_defult, dx = delta_x) \n",
        "\n",
        "print(np.exp(x_defult))\n",
        "print(e_prime(x_defult))\n",
        "print(derivative_function(f4, x_defult))\n",
        "print(round(e_prime(x_defult), 3) == round(np.exp(5), 3) == round(derivative_function(f4, x_defult), 3))\n",
        "res4 = e_prime(x_defult)\n",
        "res4\n",
        "# 이 곳에 답안을 작성하세요\n",
        "# res4 = 148.41315959301937"
      ],
      "execution_count": 13,
      "outputs": [
        {
          "output_type": "stream",
          "text": [
            "148.4131591025766\n",
            "148.41315959301937\n",
            "148.41315959301937\n",
            "True\n"
          ],
          "name": "stdout"
        },
        {
          "output_type": "execute_result",
          "data": {
            "text/plain": [
              "148.41315959301937"
            ]
          },
          "metadata": {
            "tags": []
          },
          "execution_count": 13
        }
      ]
    },
    {
      "cell_type": "markdown",
      "metadata": {
        "id": "JDOlh3mAaHBk"
      },
      "source": [
        "$f(x) = lnx$"
      ]
    },
    {
      "cell_type": "code",
      "metadata": {
        "colab": {
          "base_uri": "https://localhost:8080/"
        },
        "id": "_RRO16PYaHBk",
        "outputId": "d9a933ab-5c3e-4394-a92f-3c725e37d6d9"
      },
      "source": [
        "def f5(x):\n",
        "  return np.log(x)\n",
        "\n",
        "def ln_prime(x):\n",
        "  return derivative(f5, x_defult, delta_x)\n",
        "\n",
        "res5 = ln_prime(x_defult)\n",
        "res5\n",
        "# 이 곳에 답안을 작성하세요\n",
        "# res5 = 0.19999999989472883"
      ],
      "execution_count": 14,
      "outputs": [
        {
          "output_type": "execute_result",
          "data": {
            "text/plain": [
              "0.19999999989472883"
            ]
          },
          "metadata": {
            "tags": []
          },
          "execution_count": 14
        }
      ]
    },
    {
      "cell_type": "markdown",
      "metadata": {
        "id": "UnDYnQLEaHBk"
      },
      "source": [
        "$f(x) = Sin(2x)$"
      ]
    },
    {
      "cell_type": "code",
      "metadata": {
        "colab": {
          "base_uri": "https://localhost:8080/"
        },
        "id": "SYMpheflaHBk",
        "outputId": "6b517486-136c-4f0d-db6c-4a4f85db7abf"
      },
      "source": [
        "def f6(x):\n",
        "  return np.sin(2*x)\n",
        "\n",
        "def sine_prime(x):\n",
        "  return derivative(f6, x_defult, dx = delta_x)\n",
        "\n",
        "res6 = sine_prime(x_defult)\n",
        "res6\n",
        "# 이 곳에 답안을 작성하세요\n",
        "# res6 = -1.6781430628443061"
      ],
      "execution_count": 15,
      "outputs": [
        {
          "output_type": "execute_result",
          "data": {
            "text/plain": [
              "-1.6781430628443061"
            ]
          },
          "metadata": {
            "tags": []
          },
          "execution_count": 15
        }
      ]
    },
    {
      "cell_type": "markdown",
      "metadata": {
        "id": "l62VBTfHaHBl"
      },
      "source": [
        "$f(x) = (2x^2 + 8x)^2$"
      ]
    },
    {
      "cell_type": "code",
      "metadata": {
        "colab": {
          "base_uri": "https://localhost:8080/"
        },
        "id": "ot-LTH4AaHBl",
        "outputId": "1ae02c88-366e-4dbd-9ab9-31377d4c197f"
      },
      "source": [
        "def f7(x):\n",
        "  return (2*x**2 + 8*x)**2\n",
        "\n",
        "def f_prime(x):\n",
        "  return derivative(f7, x_defult, delta_x)\n",
        "\n",
        "res7 = int(f_prime(x_defult))\n",
        "res7"
      ],
      "execution_count": 16,
      "outputs": [
        {
          "output_type": "execute_result",
          "data": {
            "text/plain": [
              "5040"
            ]
          },
          "metadata": {
            "tags": []
          },
          "execution_count": 16
        }
      ]
    },
    {
      "cell_type": "markdown",
      "metadata": {
        "id": "yKehJVDsJQNg"
      },
      "source": [
        "## 3. 편미분\n",
        "\n",
        "주어진 `machine learning model`의 `error function` ($\\varepsilon$)이 다음과 같을 때 `error function`을 **최소화** 하는 최적의 `parameter`들을  구하세요. 그 후 결과를 각각 `p1`, `p2`에 저장하세요.\n",
        "\n",
        "$\\varepsilon(p_1, p_2) = (e \\cdot p_1 - p_2)^2 + {{k_2} \\over { 2 }} \\cdot p_2 $ \n",
        "\n",
        "$k_2 == 100$\n",
        "\n",
        "- 단 최적의 $p_1$은 $p_2$가 $3$일때, 최적의 $p_2$는 $p_1$이 $10$일때를 기준으로 합니다."
      ]
    },
    {
      "cell_type": "code",
      "metadata": {
        "colab": {
          "base_uri": "https://localhost:8080/"
        },
        "id": "hMssSYSFUnHe",
        "outputId": "2a16e668-325b-43de-a93f-27952c12f560"
      },
      "source": [
        "xp2 = 3\n",
        "p1 = xp2/np.exp(1)\n",
        "print(p1)\n",
        "\n",
        "xp1 = 10\n",
        "k2 = 100\n",
        "p2 = - ((-k2/2) / -2) + np.exp(1)*xp1\n",
        "print(p2)\n",
        "\n",
        "# 이 곳에 답안을 작성하세요\n",
        "# p1 = 1.103638323514327 , p2 = 2.18281828459045"
      ],
      "execution_count": 110,
      "outputs": [
        {
          "output_type": "stream",
          "text": [
            "1.103638323514327\n",
            "2.18281828459045\n"
          ],
          "name": "stdout"
        }
      ]
    },
    {
      "cell_type": "code",
      "metadata": {
        "id": "J-0HjBJKiceB"
      },
      "source": [
        "# def gradient_descent(X, y, lr = 0.05, epoch = 10):\n",
        "    \n",
        "#     a, b = 0.33, 0.48 # 임의 선택한 파라미터 a, b\n",
        "#     N = len(X) # 샘플 갯수\n",
        "    \n",
        "#     for _ in range(epoch):            \n",
        "#         f = y - (a*X + b)\n",
        "    \n",
        "#         # a와 b를 업데이트 합니다\n",
        "#         a -= lr * (-2 * X.dot(f).sum() / N)\n",
        "#         b -= lr * (-2 * f.sum() / N)   \n",
        "        \n",
        "#     print('a: '+str(a))\n",
        "#     print('b: '+str(b))\n",
        "\n",
        "# p1 에 대해서 미분\n",
        "# def p1_prim(p1,p2):\n",
        "#   return 2*(np.exp(1)*p1 - p2)*(np.exp(1))\n",
        "\n",
        "# # p2 에 대해서 미분\n",
        "# def p1_prim(p1,p2):\n",
        "#   k2 = 100\n",
        "#   return -2*(np.exp(1)*p1 - p2) + k2/2\n",
        "\n",
        "\n",
        "# def fp1(p1):\n",
        "#   p2 = 3\n",
        "#   k2 = 100\n",
        "#   return (np.exp(1)*p1 - p2)**2 + (k2/2)*p2\n",
        "\n",
        "# def fp1_prim(p1):\n",
        "#   return derivative(fp1, p1, delta_x)\n",
        "\n",
        "# def fp2(p2):\n",
        "#   p1 = 10\n",
        "#   k2 = 100\n",
        "#   return (np.exp(1)*p1 - p2)**2 + (k2/2)*p2\n",
        "\n",
        "# def fp2_prim(p2):\n",
        "#   return derivative(fp2, p2, delta_x)\n",
        "\n",
        "\n",
        "# def gradient_descent(X, y, lr = 0.05, epoch = 10):\n",
        "#   # p1만 임의 의 수, p2는 3\n",
        "#   p1, p2 = 1, 3\n",
        "\n",
        "#   N = len(X)\n",
        "\n",
        "#   for _ in range(epoch):\n",
        "#     f = y - fp1(X)\n",
        "\n",
        "#     # p1 업데이트\n",
        "#     p1 -= lr * (-2 * X.dot(f).sum() / N)\n",
        "  \n",
        "#   print('p1: ' + str(p1))\n",
        "#   print('p2: ' + str(p2))\n",
        "\n",
        "# X = np.array([0, 1, 2, 3, 4, 5, 6, 7, 8, 9, 10, 11, 12])\n",
        "# y = fp1(X)\n",
        "# gradient_descent(X, y, lr = 0.05, epoch = 100)\n",
        "\n",
        "\n",
        "\n",
        "#   p1, p2 = 1, 1\n",
        "#   N = "
      ],
      "execution_count": 111,
      "outputs": []
    },
    {
      "cell_type": "markdown",
      "metadata": {
        "id": "ZTC_sDkNK87q"
      },
      "source": [
        "## Grading\n",
        "\n",
        "이전 과제를 완료했다면, 아래의 코드를 실행하세요. "
      ]
    },
    {
      "cell_type": "code",
      "metadata": {
        "id": "MiRrKvLNK_Mc"
      },
      "source": [
        "def grade(res1, res2, res3, res4, res5, p1, p2):\n",
        "    score = 0\n",
        "\n",
        "    score += (res1 == 30.0)\n",
        "    score += (res2 == 4077643.108)\n",
        "    score += (res3 == 4077643.121)\n",
        "    score += (round(res4, 3) == 148.413)\n",
        "    score += (round(res5, 1) == 0.2)\n",
        "    score += (round(res6, 3) == -1.678)\n",
        "    score += (res7 == 5040)\n",
        "    \n",
        "    score += (p1 == 3/np.exp(1))\n",
        "    score += (p2 == 10*np.exp(1)-25)\n",
        "  \n",
        "    return(score)"
      ],
      "execution_count": 108,
      "outputs": []
    },
    {
      "cell_type": "code",
      "metadata": {
        "colab": {
          "base_uri": "https://localhost:8080/"
        },
        "id": "6Tx4tPVAsoPV",
        "outputId": "b947c979-3ef1-4afc-cc4e-5d43e97482d7"
      },
      "source": [
        "grade(res1, res2, res3, res4, res5, p1, p2)"
      ],
      "execution_count": 109,
      "outputs": [
        {
          "output_type": "execute_result",
          "data": {
            "text/plain": [
              "9"
            ]
          },
          "metadata": {
            "tags": []
          },
          "execution_count": 109
        }
      ]
    },
    {
      "cell_type": "markdown",
      "metadata": {
        "id": "ksW7uwOzL-eY"
      },
      "source": [
        "## 🔥 도전과제 "
      ]
    },
    {
      "cell_type": "markdown",
      "metadata": {
        "id": "MltjgTsvMZmv"
      },
      "source": [
        "### 다음 함수를 미분하세요. 이후에 x = 3일 때의 결과를 `challenge`에 저장하세요.  \n",
        "$\\sigma(x) = {{1} \\over {1 + e^-x}}$. "
      ]
    },
    {
      "cell_type": "code",
      "metadata": {
        "colab": {
          "base_uri": "https://localhost:8080/"
        },
        "id": "7VscC8ZIaHBm",
        "outputId": "a0754b66-139a-46a2-afd6-ef262aed8b02"
      },
      "source": [
        "def sig(x):\n",
        "  return 1/(1 + np.exp(1)**(-x))\n",
        "\n",
        "def sig_prime(x):\n",
        "    return derivative(sig, x, dx = delta_x)\n",
        "\n",
        "x = 3\n",
        "challenge = sig_prime(x)\n",
        "challenge   \n",
        "# 이곳에 답안을 작성하세요.\n",
        "# challenge = 0.045176660190549"
      ],
      "execution_count": 116,
      "outputs": [
        {
          "output_type": "execute_result",
          "data": {
            "text/plain": [
              "0.045176660190549"
            ]
          },
          "metadata": {
            "tags": []
          },
          "execution_count": 116
        }
      ]
    },
    {
      "cell_type": "code",
      "metadata": {
        "id": "CKZDDZQB1Orz"
      },
      "source": [
        ""
      ],
      "execution_count": null,
      "outputs": []
    }
  ]
}