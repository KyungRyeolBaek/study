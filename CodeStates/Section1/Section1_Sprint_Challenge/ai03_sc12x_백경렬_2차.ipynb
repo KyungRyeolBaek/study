{
  "nbformat": 4,
  "nbformat_minor": 0,
  "metadata": {
    "colab": {
      "name": "ai03_sc12x_백경렬.ipynb",
      "provenance": [],
      "collapsed_sections": [],
      "toc_visible": true,
      "include_colab_link": true
    },
    "kernelspec": {
      "display_name": "Python 3",
      "language": "python",
      "name": "python3"
    },
    "language_info": {
      "codemirror_mode": {
        "name": "ipython",
        "version": 3
      },
      "file_extension": ".py",
      "mimetype": "text/x-python",
      "name": "python",
      "nbconvert_exporter": "python",
      "pygments_lexer": "ipython3",
      "version": "3.8.2"
    }
  },
  "cells": [
    {
      "cell_type": "markdown",
      "metadata": {
        "id": "view-in-github",
        "colab_type": "text"
      },
      "source": [
        "<a href=\"https://colab.research.google.com/github/KyungRyeolBaek/study/blob/main/ai03_sc12x_%EB%B0%B1%EA%B2%BD%EB%A0%AC_2%EC%B0%A8.ipynb\" target=\"_parent\"><img src=\"https://colab.research.google.com/assets/colab-badge.svg\" alt=\"Open In Colab\"/></a>"
      ]
    },
    {
      "cell_type": "markdown",
      "metadata": {
        "id": "NooAiTdnafkz"
      },
      "source": [
        "<img src='https://i.imgur.com/RDAD11M.png' width = '200' align = 'right'>\n",
        "\n",
        "# SC12x\n",
        "\n",
        "## Statistical Analysis"
      ]
    },
    {
      "cell_type": "markdown",
      "metadata": {
        "id": "p1WIHlUA7itE"
      },
      "source": [
        "## 개요\n",
        "\n",
        "여러분은 코스 수료를 마치고 CodeStates에 DS CA (Coaching  Assistant)로 합류했습니다.\n",
        "\n",
        "여러분에게 주어진 메인 태스크는 세션 및 수강생 핸들링이지만. \n",
        "\n",
        "시간을 짜내어 사이드 프로젝트를 하고 싶어졌습니다.\n",
        "\n",
        "AIB 팀원들과의 커피타임을 통해 수강생 데이터를 하나 받을 수 있었습니다.\n",
        "\n",
        "> 기수별 학생들 성취도 데이터인데, 어떤 의미가 있는지 확인해주세요."
      ]
    },
    {
      "cell_type": "markdown",
      "metadata": {
        "id": "WpH5PrMh-rOU"
      },
      "source": [
        "### Data Description\n",
        "\n",
        "- F1 : `N`, `D`\n",
        "- F2 : `Y`, `N`\n",
        "- F3 : `A`, `B`, `C`, `D` (기수)\n",
        "- F4 : Continuous\n",
        "- F5 : Continuous\n",
        "- F6 : `A` ~ `H`\n",
        "- F7 : Continuous\n",
        "- F8 : `X`, `Y`, `Z`\n",
        "- F9 : `Y`, `N`"
      ]
    },
    {
      "cell_type": "markdown",
      "metadata": {
        "id": "5wch6ksCbJtZ"
      },
      "source": [
        "## 1. 다음 링크를 참조하여 데이터를 불러오세요. \n",
        "\n",
        "<https://ds-lecture-data.s3.ap-northeast-2.amazonaws.com/sc12x/csdata.csv>\n",
        "\n",
        "이후 간단한 전처리를 하세요.\n"
      ]
    },
    {
      "cell_type": "code",
      "metadata": {
        "colab": {
          "base_uri": "https://localhost:8080/"
        },
        "id": "NiNrzNjRaxu4",
        "outputId": "69b09523-9eba-4ddd-88e2-edd80d6c5d6f"
      },
      "source": [
        "import pandas as pd\n",
        "\n",
        "df = pd.read_csv(\"https://ds-lecture-data.s3.ap-northeast-2.amazonaws.com/sc12x/csdata.csv\")\n",
        "df.info()"
      ],
      "execution_count": 76,
      "outputs": [
        {
          "output_type": "stream",
          "text": [
            "<class 'pandas.core.frame.DataFrame'>\n",
            "RangeIndex: 200 entries, 0 to 199\n",
            "Data columns (total 10 columns):\n",
            " #   Column      Non-Null Count  Dtype  \n",
            "---  ------      --------------  -----  \n",
            " 0   Unnamed: 0  200 non-null    int64  \n",
            " 1   F1          200 non-null    object \n",
            " 2   F2          191 non-null    object \n",
            " 3   F3          200 non-null    object \n",
            " 4   F4          200 non-null    float64\n",
            " 5   F5          170 non-null    float64\n",
            " 6   F6          200 non-null    object \n",
            " 7   F7          197 non-null    float64\n",
            " 8   F8          200 non-null    object \n",
            " 9   F9          200 non-null    object \n",
            "dtypes: float64(3), int64(1), object(6)\n",
            "memory usage: 15.8+ KB\n"
          ],
          "name": "stdout"
        }
      ]
    },
    {
      "cell_type": "code",
      "metadata": {
        "colab": {
          "base_uri": "https://localhost:8080/"
        },
        "id": "Q03CXrYAbpHr",
        "outputId": "4ce9b5fc-9672-4d6b-be24-a2904ca8ac7e"
      },
      "source": [
        "# F2 결측치 제거\n",
        "# F5, F7 결측치 평균값으로 보간\n",
        "df['F5'].fillna(df['F5'].mean(), inplace = True)\n",
        "df['F7'].fillna(round(df['F7'].mean(), 0), inplace = True)\n",
        "df.dropna(inplace = True)\n",
        "\n",
        "df.isnull().sum()"
      ],
      "execution_count": 77,
      "outputs": [
        {
          "output_type": "execute_result",
          "data": {
            "text/plain": [
              "Unnamed: 0    0\n",
              "F1            0\n",
              "F2            0\n",
              "F3            0\n",
              "F4            0\n",
              "F5            0\n",
              "F6            0\n",
              "F7            0\n",
              "F8            0\n",
              "F9            0\n",
              "dtype: int64"
            ]
          },
          "metadata": {
            "tags": []
          },
          "execution_count": 77
        }
      ]
    },
    {
      "cell_type": "code",
      "metadata": {
        "colab": {
          "base_uri": "https://localhost:8080/"
        },
        "id": "Z6oNB4f55hOU",
        "outputId": "8ddb4136-9a70-46c0-cdb3-55a406ed52a4"
      },
      "source": [
        "df.info()"
      ],
      "execution_count": 78,
      "outputs": [
        {
          "output_type": "stream",
          "text": [
            "<class 'pandas.core.frame.DataFrame'>\n",
            "Int64Index: 191 entries, 0 to 199\n",
            "Data columns (total 10 columns):\n",
            " #   Column      Non-Null Count  Dtype  \n",
            "---  ------      --------------  -----  \n",
            " 0   Unnamed: 0  191 non-null    int64  \n",
            " 1   F1          191 non-null    object \n",
            " 2   F2          191 non-null    object \n",
            " 3   F3          191 non-null    object \n",
            " 4   F4          191 non-null    float64\n",
            " 5   F5          191 non-null    float64\n",
            " 6   F6          191 non-null    object \n",
            " 7   F7          191 non-null    float64\n",
            " 8   F8          191 non-null    object \n",
            " 9   F9          191 non-null    object \n",
            "dtypes: float64(3), int64(1), object(6)\n",
            "memory usage: 16.4+ KB\n"
          ],
          "name": "stdout"
        }
      ]
    },
    {
      "cell_type": "code",
      "metadata": {
        "colab": {
          "base_uri": "https://localhost:8080/"
        },
        "id": "TEdgSMde3UdA",
        "outputId": "42d3451d-6fc9-45fa-c52a-f72a17f39c0a"
      },
      "source": [
        "for i in df:\n",
        "  print(i, df[i].unique())"
      ],
      "execution_count": 79,
      "outputs": [
        {
          "output_type": "stream",
          "text": [
            "Unnamed: 0 [  1   2   3   4   5   6   7   8   9  10  11  12  13  14  15  16  17  18\n",
            "  19  21  22  23  24  25  26  27  28  29  30  31  32  33  34  35  36  37\n",
            "  38  39  40  41  42  43  44  45  46  47  48  49  50  51  52  53  55  56\n",
            "  57  58  59  60  61  62  63  64  65  66  67  68  69  70  71  72  73  74\n",
            "  75  76  77  78  79  80  81  82  83  84  86  87  88  89  90  91  92  93\n",
            "  94  95  97  98  99 100 101 102 103 104 105 106 107 108 110 111 112 113\n",
            " 114 115 116 117 118 119 120 121 122 123 124 125 126 127 128 129 130 131\n",
            " 132 133 134 135 136 137 138 139 141 142 144 145 146 147 148 149 150 151\n",
            " 152 154 155 156 157 158 159 160 161 162 163 164 165 166 167 168 169 170\n",
            " 171 172 173 174 175 176 177 178 179 180 181 182 183 184 185 186 187 188\n",
            " 189 190 192 193 194 195 196 197 198 199 200]\n",
            "F1 ['N' 'D']\n",
            "F2 ['N' 'Y']\n",
            "F3 ['A' 'a' 'B' 'b' 'C' 'c' 'D' 'd']\n",
            "F4 [2.23954182 1.60889961 2.5444093  0.78285689 1.53272053 0.81871588\n",
            " 1.06524315 2.28529887 2.65427391 1.2804742  2.0041468  0.67579729\n",
            " 0.09099458 2.64734174 3.60453172 0.79281549 1.83274438 1.17394236\n",
            " 1.37716624 4.0648035  2.22082054 2.00863029 0.25242016 1.69883062\n",
            " 0.4020049  0.34831379 4.15526642 0.0349386  0.0220788  0.12267233\n",
            " 0.99676878 4.19531815 1.99597034 1.59591573 2.14910132 0.22960125\n",
            " 1.18244079 1.99912219 1.44893286 1.21417667 1.38920105 0.08962549\n",
            " 1.43621166 2.42785609 1.81082392 2.74899293 2.65555387 2.16444529\n",
            " 0.90138022 0.28125715 2.66487069 2.07706275 2.48908943 2.26902846\n",
            " 3.61456421 2.24010784 2.53696981 2.85896053 1.75178767 2.6120374\n",
            " 0.6686539  2.15349709 1.14962702 1.07490614 1.82178853 1.04361092\n",
            " 3.7449809  4.85550113 2.65131004 2.26535962 3.43164645 1.73824545\n",
            " 2.42594715 3.45154833 0.78429043 3.26245304 2.74109266 3.08255989\n",
            " 3.24418408 3.3944511  2.70513764 3.14440783 4.71108622 1.47987359\n",
            " 3.16097815 3.76496147 4.26383683 2.12488523 2.60467005 1.65511521\n",
            " 2.21088491 2.33589023 2.54872568 3.2598635  3.60036332 1.01834496\n",
            " 4.51142817 3.91242335 4.34114595 3.93063078 4.54427288 5.09737497\n",
            " 3.27977619 2.95379749 2.75429011 3.33177282 2.68192922 5.86896685\n",
            " 3.84047776 2.91353597 4.1795355  4.12572286 2.57153897 2.30676282\n",
            " 4.64846853 2.84601201 1.45804754 3.96877582 2.35587818 4.58947104\n",
            " 2.85112808 4.54645429 2.58124016 2.17433552 3.08428749 3.0397191\n",
            " 3.21538458 4.14595883 3.03567353 2.84744055 1.47227916 3.54667482\n",
            " 1.88611084 3.69338776 2.29135011 3.20707157 4.31786244 3.5381893\n",
            " 3.39612415 2.66584099 3.27867865 3.30334965 2.39367538 2.36396396\n",
            " 0.86532167 4.08169458 2.50075721 1.12737749 2.28870363 2.42602362\n",
            " 3.31211049 1.27309251 3.11292186 1.73485293 2.21501395 2.64964879\n",
            " 4.30049145 3.47615433 3.29055273 1.24005431 2.82169292 3.47232778\n",
            " 2.97489549 0.86677381 0.31805827 2.81723487 2.1410336  1.02421154\n",
            " 3.4873984  2.27229108 1.77085988 0.17791204 2.50904848 2.8307098\n",
            " 3.26014011 4.04048443 3.11553132 1.39792366 2.34050394 3.81057593\n",
            " 3.6357676  3.4215281  1.72661657 3.92768962 2.70883505 2.27337343\n",
            " 2.76532676 3.09849925 1.61386064 3.00378919 2.46808269]\n",
            "F5 [0.77370768 0.13361238 0.72187272 0.25975072 0.28353355 0.99341229\n",
            " 0.79011903 0.07847718 0.55014044 0.46634267 0.50022705 0.49759304\n",
            " 0.12918905 0.10757751 0.28314974 0.97945741 0.55629248 0.85464653\n",
            " 0.52664131 0.85088497 0.17877113 0.23246095 0.86291007 0.64342018\n",
            " 0.62541029 0.73395564 0.62772521 0.48130022 0.44323458 0.68653267\n",
            " 0.22576694 0.30257103 0.26413374 0.15332946 0.35900903 0.31327388\n",
            " 0.90191131 0.08987063 0.48599237 0.63022277 0.63047029 0.54976085\n",
            " 0.17972475 0.71341744 0.96931878 0.19444139 0.82900328 0.28922689\n",
            " 0.7006773  0.01021195 0.82031039 0.75442729 0.93312522 0.93294123\n",
            " 0.31670725 0.4893014  0.86977223 0.28072333 0.23977174 0.65059479\n",
            " 0.36532899 0.08152011 0.08004589 0.91745868 0.26590511 0.24279755\n",
            " 0.98793982 0.8858292  0.22385566 0.88134315 0.29164166 0.13873476\n",
            " 0.63065384 0.10049273 0.4301207  0.74958062 0.6152541  0.38627592\n",
            " 0.96141416 0.83640283 0.91097757 0.5639267  0.37081382 0.07710522\n",
            " 0.55308578 0.7351503  0.79619728 0.12714707 0.70300352 0.3966924\n",
            " 0.3883444  0.04420575 0.41152752 0.6663862  0.49340561 0.76106426\n",
            " 0.27717855 0.07041121 0.55804129 0.35985558 0.95905881 0.02731074\n",
            " 0.10051203 0.1618439  0.31254196 0.95593216 0.24837177 0.99274453\n",
            " 0.59844401 0.67931435 0.84467933 0.46948957 0.71989996 0.20061883\n",
            " 0.21757277 0.82208292 0.31399026 0.79841364 0.75224067 0.18739385\n",
            " 0.44153141 0.22034972 0.93620186 0.42098714 0.35243577 0.54454018\n",
            " 0.139194   0.56707044 0.31669526 0.83857155 0.52551342 0.48644621\n",
            " 0.48678968 0.41667752 0.62873174 0.29034404 0.20532194 0.23911684\n",
            " 0.82061374 0.93897824 0.97872115 0.98245954 0.21462738 0.55124799\n",
            " 0.93974454 0.08406556 0.56110526 0.38208366 0.09982688 0.93919336\n",
            " 0.81433277 0.28524115 0.54068186 0.44491943 0.7449789  0.18281832\n",
            " 0.11099102 0.75381422 0.63714496 0.88282998 0.89276701 0.12109427]\n",
            "F6 ['H' 'F' 'E' 'C' 'G' 'D' 'B']\n",
            "F7 [ 3.  8.  9.  4.  5.  1.  7.  6.  2.  0. 10. 11.]\n",
            "F8 ['Y' 'X' 'Z']\n",
            "F9 ['Y' 'N']\n"
          ],
          "name": "stdout"
        }
      ]
    },
    {
      "cell_type": "code",
      "metadata": {
        "colab": {
          "base_uri": "https://localhost:8080/"
        },
        "id": "CaCo5zTu139o",
        "outputId": "f539c048-7164-42d9-c78c-6c3d17512970"
      },
      "source": [
        "# F3 소문자 -> 대문자\n",
        "df['F3'] = df['F3'].str.upper()\n",
        "df['F3'].unique()"
      ],
      "execution_count": 80,
      "outputs": [
        {
          "output_type": "execute_result",
          "data": {
            "text/plain": [
              "array(['A', 'B', 'C', 'D'], dtype=object)"
            ]
          },
          "metadata": {
            "tags": []
          },
          "execution_count": 80
        }
      ]
    },
    {
      "cell_type": "code",
      "metadata": {
        "colab": {
          "base_uri": "https://localhost:8080/"
        },
        "id": "z1UMAp3s31Rb",
        "outputId": "b401dae7-5937-40d0-d4c9-5358a30bc6ca"
      },
      "source": [
        "# F2 결측치 제거\n",
        "# F3 소문자 -> 대문자로 변환 \n",
        "# F5 결측치 평균값으로 보간\n",
        "# F7 결측치 평균값 자연수로 반올림으로 대체\n",
        "df.info() "
      ],
      "execution_count": 81,
      "outputs": [
        {
          "output_type": "stream",
          "text": [
            "<class 'pandas.core.frame.DataFrame'>\n",
            "Int64Index: 191 entries, 0 to 199\n",
            "Data columns (total 10 columns):\n",
            " #   Column      Non-Null Count  Dtype  \n",
            "---  ------      --------------  -----  \n",
            " 0   Unnamed: 0  191 non-null    int64  \n",
            " 1   F1          191 non-null    object \n",
            " 2   F2          191 non-null    object \n",
            " 3   F3          191 non-null    object \n",
            " 4   F4          191 non-null    float64\n",
            " 5   F5          191 non-null    float64\n",
            " 6   F6          191 non-null    object \n",
            " 7   F7          191 non-null    float64\n",
            " 8   F8          191 non-null    object \n",
            " 9   F9          191 non-null    object \n",
            "dtypes: float64(3), int64(1), object(6)\n",
            "memory usage: 16.4+ KB\n"
          ],
          "name": "stdout"
        }
      ]
    },
    {
      "cell_type": "markdown",
      "metadata": {
        "id": "G7rLytbrO38L"
      },
      "source": [
        "## 2. **F3**에 따라서 다른 Feature들이 어떤 경향을 나타내는지 해석해보세요.\n",
        "\n",
        "- categorical feature의 경우 crosstab을 사용하여 [contingency tables](https://en.wikipedia.org/wiki/Contingency_table)과 chi-square를 시도해 볼 수 있습니다.\n",
        "\n",
        "- continuous feature의 경우 여러 시각화와 t-test를 할 수 있을 겁니다.\n",
        "\n",
        "- 이를 바탕으로 **가장 유의미한** 그리고 **가장 무의미한** feature를 찾아보세요.\n",
        "\n",
        "여기서 여러분들의 목표는 \n",
        "\n",
        "`F3`에 따라서 다른 feature들이 영향이 있는지 없는지를 알아보는 \n",
        "\n",
        "**가설검정** 입니다.\n",
        "\n",
        "따라서 데이터 탐색 및 시각화 작업에 너무 많은 시간을 쏟지 마세요. 이것은 사이드 프로젝트 입니다."
      ]
    },
    {
      "cell_type": "code",
      "metadata": {
        "colab": {
          "base_uri": "https://localhost:8080/",
          "height": 197
        },
        "id": "lGqTNs-a7j2Y",
        "outputId": "7cb7ffa7-3b22-4380-9fb1-0a281bad1170"
      },
      "source": [
        "df.head(5)"
      ],
      "execution_count": 82,
      "outputs": [
        {
          "output_type": "execute_result",
          "data": {
            "text/html": [
              "<div>\n",
              "<style scoped>\n",
              "    .dataframe tbody tr th:only-of-type {\n",
              "        vertical-align: middle;\n",
              "    }\n",
              "\n",
              "    .dataframe tbody tr th {\n",
              "        vertical-align: top;\n",
              "    }\n",
              "\n",
              "    .dataframe thead th {\n",
              "        text-align: right;\n",
              "    }\n",
              "</style>\n",
              "<table border=\"1\" class=\"dataframe\">\n",
              "  <thead>\n",
              "    <tr style=\"text-align: right;\">\n",
              "      <th></th>\n",
              "      <th>Unnamed: 0</th>\n",
              "      <th>F1</th>\n",
              "      <th>F2</th>\n",
              "      <th>F3</th>\n",
              "      <th>F4</th>\n",
              "      <th>F5</th>\n",
              "      <th>F6</th>\n",
              "      <th>F7</th>\n",
              "      <th>F8</th>\n",
              "      <th>F9</th>\n",
              "    </tr>\n",
              "  </thead>\n",
              "  <tbody>\n",
              "    <tr>\n",
              "      <th>0</th>\n",
              "      <td>1</td>\n",
              "      <td>N</td>\n",
              "      <td>N</td>\n",
              "      <td>A</td>\n",
              "      <td>2.239542</td>\n",
              "      <td>0.773708</td>\n",
              "      <td>H</td>\n",
              "      <td>3.0</td>\n",
              "      <td>Y</td>\n",
              "      <td>Y</td>\n",
              "    </tr>\n",
              "    <tr>\n",
              "      <th>1</th>\n",
              "      <td>2</td>\n",
              "      <td>D</td>\n",
              "      <td>N</td>\n",
              "      <td>A</td>\n",
              "      <td>1.608900</td>\n",
              "      <td>0.133612</td>\n",
              "      <td>H</td>\n",
              "      <td>3.0</td>\n",
              "      <td>X</td>\n",
              "      <td>Y</td>\n",
              "    </tr>\n",
              "    <tr>\n",
              "      <th>2</th>\n",
              "      <td>3</td>\n",
              "      <td>N</td>\n",
              "      <td>N</td>\n",
              "      <td>A</td>\n",
              "      <td>2.544409</td>\n",
              "      <td>0.721873</td>\n",
              "      <td>H</td>\n",
              "      <td>8.0</td>\n",
              "      <td>Y</td>\n",
              "      <td>Y</td>\n",
              "    </tr>\n",
              "    <tr>\n",
              "      <th>3</th>\n",
              "      <td>4</td>\n",
              "      <td>N</td>\n",
              "      <td>Y</td>\n",
              "      <td>A</td>\n",
              "      <td>0.782857</td>\n",
              "      <td>0.259751</td>\n",
              "      <td>F</td>\n",
              "      <td>9.0</td>\n",
              "      <td>Y</td>\n",
              "      <td>N</td>\n",
              "    </tr>\n",
              "    <tr>\n",
              "      <th>4</th>\n",
              "      <td>5</td>\n",
              "      <td>N</td>\n",
              "      <td>N</td>\n",
              "      <td>A</td>\n",
              "      <td>1.532721</td>\n",
              "      <td>0.283534</td>\n",
              "      <td>E</td>\n",
              "      <td>4.0</td>\n",
              "      <td>Z</td>\n",
              "      <td>Y</td>\n",
              "    </tr>\n",
              "  </tbody>\n",
              "</table>\n",
              "</div>"
            ],
            "text/plain": [
              "   Unnamed: 0 F1 F2 F3        F4        F5 F6   F7 F8 F9\n",
              "0           1  N  N  A  2.239542  0.773708  H  3.0  Y  Y\n",
              "1           2  D  N  A  1.608900  0.133612  H  3.0  X  Y\n",
              "2           3  N  N  A  2.544409  0.721873  H  8.0  Y  Y\n",
              "3           4  N  Y  A  0.782857  0.259751  F  9.0  Y  N\n",
              "4           5  N  N  A  1.532721  0.283534  E  4.0  Z  Y"
            ]
          },
          "metadata": {
            "tags": []
          },
          "execution_count": 82
        }
      ]
    },
    {
      "cell_type": "code",
      "metadata": {
        "id": "lPfX41-I70xg"
      },
      "source": [
        "# 비교 대상 : F3\n",
        "# categorical feature : F1, F2, F6, F8, F9 -> crosstab, chi-square\n",
        "# 귀무가설 : F3과 비교한 feature는 서로 유의미한 차이가 나지 않는다.  (채택 기준 : p-value > 0.05)\n",
        "# 대안가설 : F3과 비교한 feature는 서로 유의미한 차이가 난다.         (채택 기준 : p-value < 0.05)\n",
        "# countinuous feature : F4, F5, F7 -> t-test\n",
        "# 귀무가설 : F3과 비교한 feature는 서로 유의미한 차이가 나지 않는다.  (채택 기준 : p-value > 0.05)\n",
        "# 대안가설 : F3과 비교한 feature는 서로 유의미한 차이가 난다.         (채택 기준 : p-value < 0.05)\n",
        "from scipy.stats import chi2_contingency"
      ],
      "execution_count": 83,
      "outputs": []
    },
    {
      "cell_type": "code",
      "metadata": {
        "colab": {
          "base_uri": "https://localhost:8080/",
          "height": 203
        },
        "id": "QYHS5g5u6Vn4",
        "outputId": "2848d928-a4c2-4dc3-8b1b-a18665f60b48"
      },
      "source": [
        "# F3, F1 crosstab, contingency tables\n",
        "display(pd.crosstab(df['F1'], df['F3'], margins_name = 'sum', margins = sum))\n",
        "\n",
        "# chi-square\n",
        "chi_1 = chi2_contingency(pd.crosstab(df['F1'], df['F3'], margins_name = 'sum', margins = sum))  # p-value = 0.989\n",
        "print('\\nChi2 Statistic = {}, p-value = {}'.format(round(chi_1[0], 3), round(chi_1[1], 3)))     # 귀무가설 채택"
      ],
      "execution_count": 84,
      "outputs": [
        {
          "output_type": "display_data",
          "data": {
            "text/html": [
              "<div>\n",
              "<style scoped>\n",
              "    .dataframe tbody tr th:only-of-type {\n",
              "        vertical-align: middle;\n",
              "    }\n",
              "\n",
              "    .dataframe tbody tr th {\n",
              "        vertical-align: top;\n",
              "    }\n",
              "\n",
              "    .dataframe thead th {\n",
              "        text-align: right;\n",
              "    }\n",
              "</style>\n",
              "<table border=\"1\" class=\"dataframe\">\n",
              "  <thead>\n",
              "    <tr style=\"text-align: right;\">\n",
              "      <th>F3</th>\n",
              "      <th>A</th>\n",
              "      <th>B</th>\n",
              "      <th>C</th>\n",
              "      <th>D</th>\n",
              "      <th>sum</th>\n",
              "    </tr>\n",
              "    <tr>\n",
              "      <th>F1</th>\n",
              "      <th></th>\n",
              "      <th></th>\n",
              "      <th></th>\n",
              "      <th></th>\n",
              "      <th></th>\n",
              "    </tr>\n",
              "  </thead>\n",
              "  <tbody>\n",
              "    <tr>\n",
              "      <th>D</th>\n",
              "      <td>6</td>\n",
              "      <td>9</td>\n",
              "      <td>10</td>\n",
              "      <td>10</td>\n",
              "      <td>35</td>\n",
              "    </tr>\n",
              "    <tr>\n",
              "      <th>N</th>\n",
              "      <td>43</td>\n",
              "      <td>38</td>\n",
              "      <td>37</td>\n",
              "      <td>38</td>\n",
              "      <td>156</td>\n",
              "    </tr>\n",
              "    <tr>\n",
              "      <th>sum</th>\n",
              "      <td>49</td>\n",
              "      <td>47</td>\n",
              "      <td>47</td>\n",
              "      <td>48</td>\n",
              "      <td>191</td>\n",
              "    </tr>\n",
              "  </tbody>\n",
              "</table>\n",
              "</div>"
            ],
            "text/plain": [
              "F3    A   B   C   D  sum\n",
              "F1                      \n",
              "D     6   9  10  10   35\n",
              "N    43  38  37  38  156\n",
              "sum  49  47  47  48  191"
            ]
          },
          "metadata": {
            "tags": []
          }
        },
        {
          "output_type": "stream",
          "text": [
            "\n",
            "Chi2 Statistic = 1.707, p-value = 0.989\n"
          ],
          "name": "stdout"
        }
      ]
    },
    {
      "cell_type": "code",
      "metadata": {
        "colab": {
          "base_uri": "https://localhost:8080/",
          "height": 203
        },
        "id": "7D8eW8PK6VlF",
        "outputId": "a5a6fd62-886c-476b-d877-6f382840b574"
      },
      "source": [
        "# F3, F2 crosstab, contingency tables\n",
        "display(pd.crosstab(df['F2'], df['F3'], margins_name = 'sum', margins = sum))\n",
        "\n",
        "# chi-square\n",
        "chi_2 = chi2_contingency(pd.crosstab(df['F2'], df['F3'], margins_name = 'sum', margins = sum))  # p-value = 0.939\n",
        "print('\\nChi2 Statistic = {}, p-value = {}'.format(round(chi_2[0], 3), round(chi_2[1], 3)))     # 귀무가설 채택"
      ],
      "execution_count": 85,
      "outputs": [
        {
          "output_type": "display_data",
          "data": {
            "text/html": [
              "<div>\n",
              "<style scoped>\n",
              "    .dataframe tbody tr th:only-of-type {\n",
              "        vertical-align: middle;\n",
              "    }\n",
              "\n",
              "    .dataframe tbody tr th {\n",
              "        vertical-align: top;\n",
              "    }\n",
              "\n",
              "    .dataframe thead th {\n",
              "        text-align: right;\n",
              "    }\n",
              "</style>\n",
              "<table border=\"1\" class=\"dataframe\">\n",
              "  <thead>\n",
              "    <tr style=\"text-align: right;\">\n",
              "      <th>F3</th>\n",
              "      <th>A</th>\n",
              "      <th>B</th>\n",
              "      <th>C</th>\n",
              "      <th>D</th>\n",
              "      <th>sum</th>\n",
              "    </tr>\n",
              "    <tr>\n",
              "      <th>F2</th>\n",
              "      <th></th>\n",
              "      <th></th>\n",
              "      <th></th>\n",
              "      <th></th>\n",
              "      <th></th>\n",
              "    </tr>\n",
              "  </thead>\n",
              "  <tbody>\n",
              "    <tr>\n",
              "      <th>N</th>\n",
              "      <td>45</td>\n",
              "      <td>44</td>\n",
              "      <td>42</td>\n",
              "      <td>47</td>\n",
              "      <td>178</td>\n",
              "    </tr>\n",
              "    <tr>\n",
              "      <th>Y</th>\n",
              "      <td>4</td>\n",
              "      <td>3</td>\n",
              "      <td>5</td>\n",
              "      <td>1</td>\n",
              "      <td>13</td>\n",
              "    </tr>\n",
              "    <tr>\n",
              "      <th>sum</th>\n",
              "      <td>49</td>\n",
              "      <td>47</td>\n",
              "      <td>47</td>\n",
              "      <td>48</td>\n",
              "      <td>191</td>\n",
              "    </tr>\n",
              "  </tbody>\n",
              "</table>\n",
              "</div>"
            ],
            "text/plain": [
              "F3    A   B   C   D  sum\n",
              "F2                      \n",
              "N    45  44  42  47  178\n",
              "Y     4   3   5   1   13\n",
              "sum  49  47  47  48  191"
            ]
          },
          "metadata": {
            "tags": []
          }
        },
        {
          "output_type": "stream",
          "text": [
            "\n",
            "Chi2 Statistic = 2.932, p-value = 0.939\n"
          ],
          "name": "stdout"
        }
      ]
    },
    {
      "cell_type": "code",
      "metadata": {
        "colab": {
          "base_uri": "https://localhost:8080/",
          "height": 353
        },
        "id": "KwmS0M_S6ViW",
        "outputId": "05a84320-c2b2-4f3f-b9e9-ca3e86e771c8"
      },
      "source": [
        "# F3, F6 crosstab, contingency tables\n",
        "display(pd.crosstab(df['F6'], df['F3'], margins_name = 'sum', margins = sum))\n",
        "\n",
        "# chi-square\n",
        "chi_6 = chi2_contingency(pd.crosstab(df['F6'], df['F3'], margins_name = 'sum', margins = sum))  # p-value = 0.985\n",
        "print('\\nChi2 Statistic = {}, p-value = {}'.format(round(chi_6[0], 3), round(chi_6[1], 3)))     # 귀무가설 채택"
      ],
      "execution_count": 86,
      "outputs": [
        {
          "output_type": "display_data",
          "data": {
            "text/html": [
              "<div>\n",
              "<style scoped>\n",
              "    .dataframe tbody tr th:only-of-type {\n",
              "        vertical-align: middle;\n",
              "    }\n",
              "\n",
              "    .dataframe tbody tr th {\n",
              "        vertical-align: top;\n",
              "    }\n",
              "\n",
              "    .dataframe thead th {\n",
              "        text-align: right;\n",
              "    }\n",
              "</style>\n",
              "<table border=\"1\" class=\"dataframe\">\n",
              "  <thead>\n",
              "    <tr style=\"text-align: right;\">\n",
              "      <th>F3</th>\n",
              "      <th>A</th>\n",
              "      <th>B</th>\n",
              "      <th>C</th>\n",
              "      <th>D</th>\n",
              "      <th>sum</th>\n",
              "    </tr>\n",
              "    <tr>\n",
              "      <th>F6</th>\n",
              "      <th></th>\n",
              "      <th></th>\n",
              "      <th></th>\n",
              "      <th></th>\n",
              "      <th></th>\n",
              "    </tr>\n",
              "  </thead>\n",
              "  <tbody>\n",
              "    <tr>\n",
              "      <th>B</th>\n",
              "      <td>0</td>\n",
              "      <td>1</td>\n",
              "      <td>0</td>\n",
              "      <td>0</td>\n",
              "      <td>1</td>\n",
              "    </tr>\n",
              "    <tr>\n",
              "      <th>C</th>\n",
              "      <td>1</td>\n",
              "      <td>1</td>\n",
              "      <td>1</td>\n",
              "      <td>2</td>\n",
              "      <td>5</td>\n",
              "    </tr>\n",
              "    <tr>\n",
              "      <th>D</th>\n",
              "      <td>2</td>\n",
              "      <td>2</td>\n",
              "      <td>1</td>\n",
              "      <td>1</td>\n",
              "      <td>6</td>\n",
              "    </tr>\n",
              "    <tr>\n",
              "      <th>E</th>\n",
              "      <td>5</td>\n",
              "      <td>4</td>\n",
              "      <td>5</td>\n",
              "      <td>4</td>\n",
              "      <td>18</td>\n",
              "    </tr>\n",
              "    <tr>\n",
              "      <th>F</th>\n",
              "      <td>9</td>\n",
              "      <td>15</td>\n",
              "      <td>8</td>\n",
              "      <td>5</td>\n",
              "      <td>37</td>\n",
              "    </tr>\n",
              "    <tr>\n",
              "      <th>G</th>\n",
              "      <td>9</td>\n",
              "      <td>10</td>\n",
              "      <td>13</td>\n",
              "      <td>12</td>\n",
              "      <td>44</td>\n",
              "    </tr>\n",
              "    <tr>\n",
              "      <th>H</th>\n",
              "      <td>23</td>\n",
              "      <td>14</td>\n",
              "      <td>19</td>\n",
              "      <td>24</td>\n",
              "      <td>80</td>\n",
              "    </tr>\n",
              "    <tr>\n",
              "      <th>sum</th>\n",
              "      <td>49</td>\n",
              "      <td>47</td>\n",
              "      <td>47</td>\n",
              "      <td>48</td>\n",
              "      <td>191</td>\n",
              "    </tr>\n",
              "  </tbody>\n",
              "</table>\n",
              "</div>"
            ],
            "text/plain": [
              "F3    A   B   C   D  sum\n",
              "F6                      \n",
              "B     0   1   0   0    1\n",
              "C     1   1   1   2    5\n",
              "D     2   2   1   1    6\n",
              "E     5   4   5   4   18\n",
              "F     9  15   8   5   37\n",
              "G     9  10  13  12   44\n",
              "H    23  14  19  24   80\n",
              "sum  49  47  47  48  191"
            ]
          },
          "metadata": {
            "tags": []
          }
        },
        {
          "output_type": "stream",
          "text": [
            "\n",
            "Chi2 Statistic = 14.235, p-value = 0.985\n"
          ],
          "name": "stdout"
        }
      ]
    },
    {
      "cell_type": "code",
      "metadata": {
        "colab": {
          "base_uri": "https://localhost:8080/",
          "height": 233
        },
        "id": "_DFubFz96Vfk",
        "outputId": "3ab9344c-0103-4748-c586-c9e397b839a7"
      },
      "source": [
        "# F3, F8 crosstab, contingency tables\n",
        "display(pd.crosstab(df['F8'], df['F3'], margins_name = 'sum', margins = sum))\n",
        "\n",
        "# chi-square\n",
        "chi_8 = chi2_contingency(pd.crosstab(df['F8'], df['F3'], margins_name = 'sum', margins = sum))  # p-value = 0.944\n",
        "print('\\nChi2 Statistic = {}, p-value = {}'.format(round(chi_8[0], 3), round(chi_8[1], 3)))     # 귀무가설 채택"
      ],
      "execution_count": 87,
      "outputs": [
        {
          "output_type": "display_data",
          "data": {
            "text/html": [
              "<div>\n",
              "<style scoped>\n",
              "    .dataframe tbody tr th:only-of-type {\n",
              "        vertical-align: middle;\n",
              "    }\n",
              "\n",
              "    .dataframe tbody tr th {\n",
              "        vertical-align: top;\n",
              "    }\n",
              "\n",
              "    .dataframe thead th {\n",
              "        text-align: right;\n",
              "    }\n",
              "</style>\n",
              "<table border=\"1\" class=\"dataframe\">\n",
              "  <thead>\n",
              "    <tr style=\"text-align: right;\">\n",
              "      <th>F3</th>\n",
              "      <th>A</th>\n",
              "      <th>B</th>\n",
              "      <th>C</th>\n",
              "      <th>D</th>\n",
              "      <th>sum</th>\n",
              "    </tr>\n",
              "    <tr>\n",
              "      <th>F8</th>\n",
              "      <th></th>\n",
              "      <th></th>\n",
              "      <th></th>\n",
              "      <th></th>\n",
              "      <th></th>\n",
              "    </tr>\n",
              "  </thead>\n",
              "  <tbody>\n",
              "    <tr>\n",
              "      <th>X</th>\n",
              "      <td>9</td>\n",
              "      <td>5</td>\n",
              "      <td>13</td>\n",
              "      <td>12</td>\n",
              "      <td>39</td>\n",
              "    </tr>\n",
              "    <tr>\n",
              "      <th>Y</th>\n",
              "      <td>26</td>\n",
              "      <td>28</td>\n",
              "      <td>21</td>\n",
              "      <td>22</td>\n",
              "      <td>97</td>\n",
              "    </tr>\n",
              "    <tr>\n",
              "      <th>Z</th>\n",
              "      <td>14</td>\n",
              "      <td>14</td>\n",
              "      <td>13</td>\n",
              "      <td>14</td>\n",
              "      <td>55</td>\n",
              "    </tr>\n",
              "    <tr>\n",
              "      <th>sum</th>\n",
              "      <td>49</td>\n",
              "      <td>47</td>\n",
              "      <td>47</td>\n",
              "      <td>48</td>\n",
              "      <td>191</td>\n",
              "    </tr>\n",
              "  </tbody>\n",
              "</table>\n",
              "</div>"
            ],
            "text/plain": [
              "F3    A   B   C   D  sum\n",
              "F8                      \n",
              "X     9   5  13  12   39\n",
              "Y    26  28  21  22   97\n",
              "Z    14  14  13  14   55\n",
              "sum  49  47  47  48  191"
            ]
          },
          "metadata": {
            "tags": []
          }
        },
        {
          "output_type": "stream",
          "text": [
            "\n",
            "Chi2 Statistic = 5.385, p-value = 0.944\n"
          ],
          "name": "stdout"
        }
      ]
    },
    {
      "cell_type": "code",
      "metadata": {
        "colab": {
          "base_uri": "https://localhost:8080/",
          "height": 203
        },
        "id": "vt7lTkg06Vba",
        "outputId": "2695237d-bcf3-4bf0-a897-9f132eb97c8f"
      },
      "source": [
        "# F3, F9 crosstab, contingency tables\n",
        "display(pd.crosstab(df['F9'], df['F3'], margins_name = 'sum', margins = sum))\n",
        "\n",
        "# chi-square\n",
        "chi_9 = chi2_contingency(pd.crosstab(df['F9'], df['F3'], margins_name = 'sum', margins = sum))  # p-value = 1.0\n",
        "print('\\nChi2 Statistic = {}, p-value = {}'.format(round(chi_9[0], 3), round(chi_9[1], 3)))     # 귀무가설 채택"
      ],
      "execution_count": 88,
      "outputs": [
        {
          "output_type": "display_data",
          "data": {
            "text/html": [
              "<div>\n",
              "<style scoped>\n",
              "    .dataframe tbody tr th:only-of-type {\n",
              "        vertical-align: middle;\n",
              "    }\n",
              "\n",
              "    .dataframe tbody tr th {\n",
              "        vertical-align: top;\n",
              "    }\n",
              "\n",
              "    .dataframe thead th {\n",
              "        text-align: right;\n",
              "    }\n",
              "</style>\n",
              "<table border=\"1\" class=\"dataframe\">\n",
              "  <thead>\n",
              "    <tr style=\"text-align: right;\">\n",
              "      <th>F3</th>\n",
              "      <th>A</th>\n",
              "      <th>B</th>\n",
              "      <th>C</th>\n",
              "      <th>D</th>\n",
              "      <th>sum</th>\n",
              "    </tr>\n",
              "    <tr>\n",
              "      <th>F9</th>\n",
              "      <th></th>\n",
              "      <th></th>\n",
              "      <th></th>\n",
              "      <th></th>\n",
              "      <th></th>\n",
              "    </tr>\n",
              "  </thead>\n",
              "  <tbody>\n",
              "    <tr>\n",
              "      <th>N</th>\n",
              "      <td>25</td>\n",
              "      <td>26</td>\n",
              "      <td>26</td>\n",
              "      <td>28</td>\n",
              "      <td>105</td>\n",
              "    </tr>\n",
              "    <tr>\n",
              "      <th>Y</th>\n",
              "      <td>24</td>\n",
              "      <td>21</td>\n",
              "      <td>21</td>\n",
              "      <td>20</td>\n",
              "      <td>86</td>\n",
              "    </tr>\n",
              "    <tr>\n",
              "      <th>sum</th>\n",
              "      <td>49</td>\n",
              "      <td>47</td>\n",
              "      <td>47</td>\n",
              "      <td>48</td>\n",
              "      <td>191</td>\n",
              "    </tr>\n",
              "  </tbody>\n",
              "</table>\n",
              "</div>"
            ],
            "text/plain": [
              "F3    A   B   C   D  sum\n",
              "F9                      \n",
              "N    25  26  26  28  105\n",
              "Y    24  21  21  20   86\n",
              "sum  49  47  47  48  191"
            ]
          },
          "metadata": {
            "tags": []
          }
        },
        {
          "output_type": "stream",
          "text": [
            "\n",
            "Chi2 Statistic = 0.533, p-value = 1.0\n"
          ],
          "name": "stdout"
        }
      ]
    },
    {
      "cell_type": "code",
      "metadata": {
        "id": "XIGVFagQMeSb"
      },
      "source": [
        "# categrical feature 들 중에서 \n",
        "# F3 - F1 p-value = 0.989\n",
        "# F3 - F2 p-value = 0.939   -> 그나마 가장 유의미한 feature\n",
        "# F3 - F6 p-value = 0.985\n",
        "# F3 - F8 p-value = 0.944\n",
        "# F3 - F9 p-value = 1.0     -> 가장 무의미한 feature"
      ],
      "execution_count": 89,
      "outputs": []
    },
    {
      "cell_type": "code",
      "metadata": {
        "colab": {
          "base_uri": "https://localhost:8080/",
          "height": 278
        },
        "id": "g3alwA4z75cL",
        "outputId": "92ffd222-77dd-4f6f-cb05-de91f900487e"
      },
      "source": [
        "import seaborn as sns\n",
        "# countinuous feature : F4, F5, F7 시각화\n",
        "\n",
        "sns.boxplot(x = 'F3', y = 'F4', data = df);"
      ],
      "execution_count": 90,
      "outputs": [
        {
          "output_type": "display_data",
          "data": {
            "image/png": "[encoded data removed]",
            "text/plain": [
              "<Figure size 432x288 with 1 Axes>"
            ]
          },
          "metadata": {
            "tags": [],
            "needs_background": "light"
          }
        }
      ]
    },
    {
      "cell_type": "code",
      "metadata": {
        "colab": {
          "base_uri": "https://localhost:8080/",
          "height": 278
        },
        "id": "zsVwfQFR8p-h",
        "outputId": "83d78d8e-4c25-47e1-d107-af02a8cca881"
      },
      "source": [
        "sns.boxplot(x = 'F3', y = 'F5', data = df);"
      ],
      "execution_count": 91,
      "outputs": [
        {
          "output_type": "display_data",
          "data": {
            "image/png": "[encoded data removed]",
            "text/plain": [
              "<Figure size 432x288 with 1 Axes>"
            ]
          },
          "metadata": {
            "tags": [],
            "needs_background": "light"
          }
        }
      ]
    },
    {
      "cell_type": "code",
      "metadata": {
        "colab": {
          "base_uri": "https://localhost:8080/",
          "height": 278
        },
        "id": "J9zIcYu18p5A",
        "outputId": "2a6f940d-9029-487a-e850-808b6dbd2850"
      },
      "source": [
        "sns.boxplot(x = 'F3', y = 'F7', data = df);"
      ],
      "execution_count": 92,
      "outputs": [
        {
          "output_type": "display_data",
          "data": {
            "image/png": "[encoded data removed]",
            "text/plain": [
              "<Figure size 432x288 with 1 Axes>"
            ]
          },
          "metadata": {
            "tags": [],
            "needs_background": "light"
          }
        }
      ]
    },
    {
      "cell_type": "code",
      "metadata": {
        "colab": {
          "base_uri": "https://localhost:8080/"
        },
        "id": "cUvvRlL88pzo",
        "outputId": "2118517d-d6df-4884-8822-14de4f0b4d20"
      },
      "source": [
        "df_A = df[df['F3'] == 'A'] \n",
        "df_B = df[df['F3'] == 'B']\n",
        "df_C = df[df['F3'] == 'C']\n",
        "df_D = df[df['F3'] == 'D']\n",
        "\n",
        "import scipy.stats as st\n",
        "# F3, F4 t-test\n",
        "print('F3, F4 t-test')\n",
        "print('p-value =', round(st.ttest_ind(df_A['F4'], df_B['F4'])[1], 4))\n",
        "print('p-value =', round(st.ttest_ind(df_C['F4'], df_D['F4'])[1], 4))\n",
        "print('p-value =', round(st.ttest_ind(df_B['F4'], df_C['F4'])[1], 4))\n",
        "print('p-value =', round(st.ttest_ind(df_A['F4'], df_D['F4'])[1], 4))"
      ],
      "execution_count": 93,
      "outputs": [
        {
          "output_type": "stream",
          "text": [
            "F3, F4 t-test\n",
            "p-value = 0.0\n",
            "p-value = 0.0001\n",
            "p-value = 0.0001\n",
            "p-value = 0.0001\n"
          ],
          "name": "stdout"
        }
      ]
    },
    {
      "cell_type": "code",
      "metadata": {
        "colab": {
          "base_uri": "https://localhost:8080/"
        },
        "id": "UNLuAaMN-nhC",
        "outputId": "d8931ca7-758e-4bac-aa54-4f3737f99429"
      },
      "source": [
        "# F3, F5 t-test\n",
        "print('F3, F5 t-test')\n",
        "print('p-value =', round(st.ttest_ind(df_A['F5'], df_B['F5'])[1], 4))\n",
        "print('p-value =', round(st.ttest_ind(df_C['F5'], df_D['F5'])[1], 4))\n",
        "print('p-value =', round(st.ttest_ind(df_B['F5'], df_C['F5'])[1], 4))\n",
        "print('p-value =', round(st.ttest_ind(df_A['F5'], df_D['F5'])[1], 4))"
      ],
      "execution_count": 94,
      "outputs": [
        {
          "output_type": "stream",
          "text": [
            "F3, F5 t-test\n",
            "p-value = 0.7923\n",
            "p-value = 0.6339\n",
            "p-value = 0.6862\n",
            "p-value = 0.7434\n"
          ],
          "name": "stdout"
        }
      ]
    },
    {
      "cell_type": "code",
      "metadata": {
        "colab": {
          "base_uri": "https://localhost:8080/"
        },
        "id": "02OgjkssEjMc",
        "outputId": "0079d3e7-40a4-4ada-bc89-eb0881147168"
      },
      "source": [
        "# F3, F7 t-test\n",
        "print('F3, F7 t-test')\n",
        "print('p-value =', round(st.ttest_ind(df_A['F7'], df_B['F7'])[1], 4))\n",
        "print('p-value =', round(st.ttest_ind(df_C['F7'], df_D['F7'])[1], 4))\n",
        "print('p-value =', round(st.ttest_ind(df_B['F7'], df_C['F7'])[1], 4))\n",
        "print('p-value =', round(st.ttest_ind(df_A['F7'], df_D['F7'])[1], 4))"
      ],
      "execution_count": 95,
      "outputs": [
        {
          "output_type": "stream",
          "text": [
            "F3, F7 t-test\n",
            "p-value = 0.6287\n",
            "p-value = 0.9546\n",
            "p-value = 0.7656\n",
            "p-value = 0.8771\n"
          ],
          "name": "stdout"
        }
      ]
    },
    {
      "cell_type": "code",
      "metadata": {
        "colab": {
          "base_uri": "https://localhost:8080/"
        },
        "id": "ccGwWzySG0Lk",
        "outputId": "da240a78-3811-4d84-b9bf-7720c8ca10bf"
      },
      "source": [
        "# F3, F4 ANOVA one-way 테스트\n",
        "print('F3, F4 ANOVA one-way 테스트')\n",
        "print('p-value =', round(st.f_oneway(df_A['F4'], df_B['F4'], df_C['F4'], df_D['F4'])[1], 5))    # 가장 유의미한 feature"
      ],
      "execution_count": 96,
      "outputs": [
        {
          "output_type": "stream",
          "text": [
            "F3, F4 ANOVA one-way 테스트\n",
            "p-value = 0.0\n"
          ],
          "name": "stdout"
        }
      ]
    },
    {
      "cell_type": "code",
      "metadata": {
        "colab": {
          "base_uri": "https://localhost:8080/"
        },
        "id": "hBdArrGHG0I0",
        "outputId": "81d6f90c-4c9b-4fe6-c0c1-b31a6538ccf4"
      },
      "source": [
        "# F3, F5 ANOVA one-way 테스트\n",
        "print('F3, F5 ANOVA one-way 테스트')\n",
        "print('p-value =', round(st.f_oneway(df_A['F5'], df_B['F5'], df_C['F5'], df_D['F5'])[1], 5))"
      ],
      "execution_count": 97,
      "outputs": [
        {
          "output_type": "stream",
          "text": [
            "F3, F5 ANOVA one-way 테스트\n",
            "p-value = 0.96082\n"
          ],
          "name": "stdout"
        }
      ]
    },
    {
      "cell_type": "code",
      "metadata": {
        "colab": {
          "base_uri": "https://localhost:8080/"
        },
        "id": "dFsh0Nl0G0GA",
        "outputId": "4c9b9d95-7852-4845-d36b-bad81322e381"
      },
      "source": [
        "# F3, F7 ANOVA one-way 테스트\n",
        "print('F3, F7 ANOVA one-way 테스트')\n",
        "print('p-value =', round(st.f_oneway(df_A['F7'], df_B['F7'], df_C['F7'], df_D['F7'])[1], 5))    # 가장 무의미한 feature"
      ],
      "execution_count": 98,
      "outputs": [
        {
          "output_type": "stream",
          "text": [
            "F3, F7 ANOVA one-way 테스트\n",
            "p-value = 0.96403\n"
          ],
          "name": "stdout"
        }
      ]
    },
    {
      "cell_type": "code",
      "metadata": {
        "id": "HDp7efB-Nbr1"
      },
      "source": [
        "# categrical feature 들 중에서 \n",
        "# F3 - F1 p-value = 0.989\n",
        "# F3 - F2 p-value = 0.939   -> 그나마 가장 유의미한 feature\n",
        "# F3 - F6 p-value = 0.985\n",
        "# F3 - F8 p-value = 0.944\n",
        "# F3 - F9 p-value = 1.0     -> 가장 무의미한 feature\n",
        "\n",
        "# countinuous feature 들 중에서\n",
        "# F3, F4 p-value = 0.0      -> 가장 유의미한 feature\n",
        "# F3, F5 p-value = 0.96082\n",
        "# F3, F7 p-value = 0.96403  -> 가장 무의미한 feature"
      ],
      "execution_count": 99,
      "outputs": []
    },
    {
      "cell_type": "markdown",
      "metadata": {
        "id": "ZM8JckA2bgnp"
      },
      "source": [
        "## 3. 분석한 내용들을 설명하는 리포트를 작성해보세요. \n",
        "\n",
        "분석의 끝은 결국 설명입니다.\n",
        "\n",
        "통계 분석에 대한 이해도가 적은 다른 크루들이 이해 할 수 있도록 \n",
        "\n",
        "분석한 내용들을 설명하는 리포트를 작성해보세요. \n",
        "\n",
        "필요한 경우 코드 / 텍스트 내용을 더 추가해도 좋습니다."
      ]
    },
    {
      "cell_type": "code",
      "metadata": {
        "colab": {
          "base_uri": "https://localhost:8080/",
          "height": 106
        },
        "id": "ARqVKY0KN724",
        "outputId": "7c39ad2c-2706-4f8c-b340-e1dfdc7e377d"
      },
      "source": [
        "'''\n",
        "* 데이터 전처리 과정 :\n",
        "데이터 안의 F2, F5, F7에 결측치가 확인되었습니다.\n",
        "F2 결측치가 있는 데이터 행은 제거하고,\n",
        "F5의 결측치가 있는 곳은 F5 평균값으로 보간 하고,\n",
        "F7의 결측치가 있는 곳은 F7 평균값의 정수형태로 보간 했습니다.\n",
        "그리고 F3의 값에 소문자와 대문자가 혼합되어 있어서\n",
        "F3의 소문자들을 대문자로 변경 하였습니다.\n",
        "\n",
        "* F3에 따른 feature들의 경향 :\n",
        "categorical feature는 문자로 이루어진 F1, F2, F6, F8, F9 가 있었고, \n",
        "이것들은 crosstab을 사용해서 contingency tables와 chi-square을 사용해서 분석 했습니다.\n",
        "countinuous feature 들은 숫자로 이루어진 F4, F5, F7 이 있었고,\n",
        "이것들은 t-test 와 boxplot 시각화, ANOVA one-way 테스트를 진행하였습니다.\n",
        "가설 2가지를 세우고 분석을 진행 하였는데,\n",
        "\n",
        "귀무가설은 F3과 비교한 feature는 서로 유의미한 차이가 나지 않는다.\n",
        "대안가설은 F3과 비교한 feature는 서로 유의미한 차이가 난다.\n",
        "\n",
        "라는 두가지 가설을 세우고 분석 하였습니다.\n",
        "귀무가설은 위의 테스트를 통해서 나오는 p-value 값이 0.05 이상이 나오면 채택하고,\n",
        "대안가설은 p-value의 값이 0.05 이하가 나오면 채택 하기로 하였습니다.\n",
        "\n",
        "categrical feature 들 중에서 \n",
        "F3 - F1 p-value = 0.989\n",
        "F3 - F2 p-value = 0.939   -> 그나마 가장 유의미한 feature\n",
        "F3 - F6 p-value = 0.985\n",
        "F3 - F8 p-value = 0.944\n",
        "F3 - F9 p-value = 1.0     -> 가장 무의미한 feature\n",
        "countinuous feature 들 중에서\n",
        "F3, F4 p-value = 0.0      -> 가장 유의미한 feature\n",
        "F3, F5 p-value = 0.96082\n",
        "F3, F7 p-value = 0.96403  -> 가장 무의미한 feature\n",
        "\n",
        "* 따라서 F3과 가장 유의미한 feature는 F4이고, 가장 무의미한 feature는 F9 입니다.\n",
        "'''"
      ],
      "execution_count": 100,
      "outputs": [
        {
          "output_type": "execute_result",
          "data": {
            "application/vnd.google.colaboratory.intrinsic+json": {
              "type": "string"
            },
            "text/plain": [
              "'\\n* 데이터 전처리 과정 :\\n데이터 안의 F2, F5, F7에 결측치가 확인되었습니다.\\nF2 결측치가 있는 데이터 행은 제거하고,\\nF5의 결측치가 있는 곳은 F5 평균값으로 보간 하고,\\nF7의 결측치가 있는 곳은 F7 평균값의 정수형태로 보간 했습니다.\\n그리고 F3의 값에 소문자와 대문자가 혼합되어 있어서\\nF3의 소문자들을 대문자로 변경 하였습니다.\\n\\n* F3에 따른 feature들의 경향 :\\ncategorical feature는 문자로 이루어진 F1, F2, F6, F8, F9 가 있었고, \\n이것들은 crosstab을 사용해서 contingency tables와 chi-square을 사용해서 분석 했습니다.\\ncountinuous feature 들은 숫자로 이루어진 F4, F5, F7 이 있었고,\\n이것들은 t-test 와 boxplot 시각화, ANOVA one-way 테스트를 진행하였습니다.\\n가설 2가지를 세우고 분석을 진행 하였는데,\\n\\n귀무가설은 F3과 비교한 feature는 서로 유의미한 차이가 나지 않는다.\\n대안가설은 F3과 비교한 feature는 서로 유의미한 차이가 난다.\\n\\n라는 두가지 가설을 세우고 분석 하였습니다.\\n귀무가설은 위의 테스트를 통해서 나오는 p-value 값이 0.05 이상이 나오면 채택하고,\\n대안가설은 p-value의 값이 0.05 이하가 나오면 채택 하기로 하였습니다.\\n\\ncategrical feature 들 중에서 \\nF3 - F1 p-value = 0.989\\nF3 - F2 p-value = 0.939   -> 그나마 가장 유의미한 feature\\nF3 - F6 p-value = 0.985\\nF3 - F8 p-value = 0.944\\nF3 - F9 p-value = 1.0     -> 가장 무의미한 feature\\ncountinuous feature 들 중에서\\nF3, F4 p-value = 0.0      -> 가장 유의미한 feature\\nF3, F5 p-value = 0.96082\\nF3, F7 p-value = 0.96403  -> 가장 무의미한 feature\\n\\n* 따라서 F3과 가장 유의미한 feature는 F4이고, 가장 무의미한 feature는 F9 입니다.\\n'"
            ]
          },
          "metadata": {
            "tags": []
          },
          "execution_count": 100
        }
      ]
    },
    {
      "cell_type": "markdown",
      "metadata": {
        "id": "XOequK5xpVz7"
      },
      "source": [
        "## SC 3점 요구사항:\n",
        "\n",
        "위에서 요구된 사항들을 모두 정확하게 만족하고, 시간이 남았다면 아래 내용을 충족하는 경우 3점을 얻을 수 있습니다. \n",
        "\n",
        "아래 요구사항들 중 하나의 요구사항만 충족하면 되며, 모두 **optional** 임을 다시 한 번 강조합니다. (필수 요구사항이 아닙니다.)\n",
        "\n",
        "- Numerical 데이터에 대해서 normalize를 한 다음, 위에서 진행 했었던 분석을 다시 시행해보세요. (F4, F5, F7 vs F3)\n",
        "\n",
        "- Categorical 데이터를 one-hot encoding을 통해서 numerical 로 변환 후, 위에서 진행 했었던 분석을 다시 시행해보세요. (F1, F2, F6, F8, F9 vs F3)"
      ]
    },
    {
      "cell_type": "code",
      "metadata": {
        "id": "NT37grnxqa05",
        "colab": {
          "base_uri": "https://localhost:8080/",
          "height": 347
        },
        "outputId": "6aebbb6f-77c2-4314-dcb2-120a44598c78"
      },
      "source": [
        "countinuous = ['F4', 'F5', 'F7']\n",
        "categroical = ['F1', 'F2', 'F6', 'F8', 'F9']\n",
        "\n",
        "df_sc = df\n",
        "\n",
        "df_sc.head(10)"
      ],
      "execution_count": 101,
      "outputs": [
        {
          "output_type": "execute_result",
          "data": {
            "text/html": [
              "<div>\n",
              "<style scoped>\n",
              "    .dataframe tbody tr th:only-of-type {\n",
              "        vertical-align: middle;\n",
              "    }\n",
              "\n",
              "    .dataframe tbody tr th {\n",
              "        vertical-align: top;\n",
              "    }\n",
              "\n",
              "    .dataframe thead th {\n",
              "        text-align: right;\n",
              "    }\n",
              "</style>\n",
              "<table border=\"1\" class=\"dataframe\">\n",
              "  <thead>\n",
              "    <tr style=\"text-align: right;\">\n",
              "      <th></th>\n",
              "      <th>Unnamed: 0</th>\n",
              "      <th>F1</th>\n",
              "      <th>F2</th>\n",
              "      <th>F3</th>\n",
              "      <th>F4</th>\n",
              "      <th>F5</th>\n",
              "      <th>F6</th>\n",
              "      <th>F7</th>\n",
              "      <th>F8</th>\n",
              "      <th>F9</th>\n",
              "    </tr>\n",
              "  </thead>\n",
              "  <tbody>\n",
              "    <tr>\n",
              "      <th>0</th>\n",
              "      <td>1</td>\n",
              "      <td>N</td>\n",
              "      <td>N</td>\n",
              "      <td>A</td>\n",
              "      <td>2.239542</td>\n",
              "      <td>0.773708</td>\n",
              "      <td>H</td>\n",
              "      <td>3.0</td>\n",
              "      <td>Y</td>\n",
              "      <td>Y</td>\n",
              "    </tr>\n",
              "    <tr>\n",
              "      <th>1</th>\n",
              "      <td>2</td>\n",
              "      <td>D</td>\n",
              "      <td>N</td>\n",
              "      <td>A</td>\n",
              "      <td>1.608900</td>\n",
              "      <td>0.133612</td>\n",
              "      <td>H</td>\n",
              "      <td>3.0</td>\n",
              "      <td>X</td>\n",
              "      <td>Y</td>\n",
              "    </tr>\n",
              "    <tr>\n",
              "      <th>2</th>\n",
              "      <td>3</td>\n",
              "      <td>N</td>\n",
              "      <td>N</td>\n",
              "      <td>A</td>\n",
              "      <td>2.544409</td>\n",
              "      <td>0.721873</td>\n",
              "      <td>H</td>\n",
              "      <td>8.0</td>\n",
              "      <td>Y</td>\n",
              "      <td>Y</td>\n",
              "    </tr>\n",
              "    <tr>\n",
              "      <th>3</th>\n",
              "      <td>4</td>\n",
              "      <td>N</td>\n",
              "      <td>Y</td>\n",
              "      <td>A</td>\n",
              "      <td>0.782857</td>\n",
              "      <td>0.259751</td>\n",
              "      <td>F</td>\n",
              "      <td>9.0</td>\n",
              "      <td>Y</td>\n",
              "      <td>N</td>\n",
              "    </tr>\n",
              "    <tr>\n",
              "      <th>4</th>\n",
              "      <td>5</td>\n",
              "      <td>N</td>\n",
              "      <td>N</td>\n",
              "      <td>A</td>\n",
              "      <td>1.532721</td>\n",
              "      <td>0.283534</td>\n",
              "      <td>E</td>\n",
              "      <td>4.0</td>\n",
              "      <td>Z</td>\n",
              "      <td>Y</td>\n",
              "    </tr>\n",
              "    <tr>\n",
              "      <th>5</th>\n",
              "      <td>6</td>\n",
              "      <td>N</td>\n",
              "      <td>N</td>\n",
              "      <td>A</td>\n",
              "      <td>0.818716</td>\n",
              "      <td>0.993412</td>\n",
              "      <td>F</td>\n",
              "      <td>5.0</td>\n",
              "      <td>Y</td>\n",
              "      <td>N</td>\n",
              "    </tr>\n",
              "    <tr>\n",
              "      <th>6</th>\n",
              "      <td>7</td>\n",
              "      <td>N</td>\n",
              "      <td>Y</td>\n",
              "      <td>A</td>\n",
              "      <td>1.065243</td>\n",
              "      <td>0.790119</td>\n",
              "      <td>C</td>\n",
              "      <td>3.0</td>\n",
              "      <td>Y</td>\n",
              "      <td>N</td>\n",
              "    </tr>\n",
              "    <tr>\n",
              "      <th>7</th>\n",
              "      <td>8</td>\n",
              "      <td>N</td>\n",
              "      <td>N</td>\n",
              "      <td>A</td>\n",
              "      <td>2.285299</td>\n",
              "      <td>0.078477</td>\n",
              "      <td>H</td>\n",
              "      <td>4.0</td>\n",
              "      <td>Y</td>\n",
              "      <td>N</td>\n",
              "    </tr>\n",
              "    <tr>\n",
              "      <th>8</th>\n",
              "      <td>9</td>\n",
              "      <td>N</td>\n",
              "      <td>N</td>\n",
              "      <td>A</td>\n",
              "      <td>2.654274</td>\n",
              "      <td>0.550140</td>\n",
              "      <td>F</td>\n",
              "      <td>5.0</td>\n",
              "      <td>Y</td>\n",
              "      <td>Y</td>\n",
              "    </tr>\n",
              "    <tr>\n",
              "      <th>9</th>\n",
              "      <td>10</td>\n",
              "      <td>N</td>\n",
              "      <td>N</td>\n",
              "      <td>A</td>\n",
              "      <td>1.280474</td>\n",
              "      <td>0.466343</td>\n",
              "      <td>G</td>\n",
              "      <td>1.0</td>\n",
              "      <td>Z</td>\n",
              "      <td>Y</td>\n",
              "    </tr>\n",
              "  </tbody>\n",
              "</table>\n",
              "</div>"
            ],
            "text/plain": [
              "   Unnamed: 0 F1 F2 F3        F4        F5 F6   F7 F8 F9\n",
              "0           1  N  N  A  2.239542  0.773708  H  3.0  Y  Y\n",
              "1           2  D  N  A  1.608900  0.133612  H  3.0  X  Y\n",
              "2           3  N  N  A  2.544409  0.721873  H  8.0  Y  Y\n",
              "3           4  N  Y  A  0.782857  0.259751  F  9.0  Y  N\n",
              "4           5  N  N  A  1.532721  0.283534  E  4.0  Z  Y\n",
              "5           6  N  N  A  0.818716  0.993412  F  5.0  Y  N\n",
              "6           7  N  Y  A  1.065243  0.790119  C  3.0  Y  N\n",
              "7           8  N  N  A  2.285299  0.078477  H  4.0  Y  N\n",
              "8           9  N  N  A  2.654274  0.550140  F  5.0  Y  Y\n",
              "9          10  N  N  A  1.280474  0.466343  G  1.0  Z  Y"
            ]
          },
          "metadata": {
            "tags": []
          },
          "execution_count": 101
        }
      ]
    },
    {
      "cell_type": "code",
      "metadata": {
        "colab": {
          "base_uri": "https://localhost:8080/",
          "height": 347
        },
        "id": "nOoNQD0TUbMj",
        "outputId": "b5fc7232-da51-4729-f8b3-f20e86f03373"
      },
      "source": [
        "from sklearn.preprocessing import StandardScaler\n",
        "# Standardization 평균 0 / 분산 1\n",
        "scaler = StandardScaler()\n",
        "df_sc[countinuous] = scaler.fit_transform(df_sc[countinuous])\n",
        "df_sc.head(10)"
      ],
      "execution_count": 102,
      "outputs": [
        {
          "output_type": "execute_result",
          "data": {
            "text/html": [
              "<div>\n",
              "<style scoped>\n",
              "    .dataframe tbody tr th:only-of-type {\n",
              "        vertical-align: middle;\n",
              "    }\n",
              "\n",
              "    .dataframe tbody tr th {\n",
              "        vertical-align: top;\n",
              "    }\n",
              "\n",
              "    .dataframe thead th {\n",
              "        text-align: right;\n",
              "    }\n",
              "</style>\n",
              "<table border=\"1\" class=\"dataframe\">\n",
              "  <thead>\n",
              "    <tr style=\"text-align: right;\">\n",
              "      <th></th>\n",
              "      <th>Unnamed: 0</th>\n",
              "      <th>F1</th>\n",
              "      <th>F2</th>\n",
              "      <th>F3</th>\n",
              "      <th>F4</th>\n",
              "      <th>F5</th>\n",
              "      <th>F6</th>\n",
              "      <th>F7</th>\n",
              "      <th>F8</th>\n",
              "      <th>F9</th>\n",
              "    </tr>\n",
              "  </thead>\n",
              "  <tbody>\n",
              "    <tr>\n",
              "      <th>0</th>\n",
              "      <td>1</td>\n",
              "      <td>N</td>\n",
              "      <td>N</td>\n",
              "      <td>A</td>\n",
              "      <td>-0.213762</td>\n",
              "      <td>1.004748</td>\n",
              "      <td>H</td>\n",
              "      <td>-0.965896</td>\n",
              "      <td>Y</td>\n",
              "      <td>Y</td>\n",
              "    </tr>\n",
              "    <tr>\n",
              "      <th>1</th>\n",
              "      <td>2</td>\n",
              "      <td>D</td>\n",
              "      <td>N</td>\n",
              "      <td>A</td>\n",
              "      <td>-0.749425</td>\n",
              "      <td>-1.419117</td>\n",
              "      <td>H</td>\n",
              "      <td>-0.965896</td>\n",
              "      <td>X</td>\n",
              "      <td>Y</td>\n",
              "    </tr>\n",
              "    <tr>\n",
              "      <th>2</th>\n",
              "      <td>3</td>\n",
              "      <td>N</td>\n",
              "      <td>N</td>\n",
              "      <td>A</td>\n",
              "      <td>0.045190</td>\n",
              "      <td>0.808464</td>\n",
              "      <td>H</td>\n",
              "      <td>1.533916</td>\n",
              "      <td>Y</td>\n",
              "      <td>Y</td>\n",
              "    </tr>\n",
              "    <tr>\n",
              "      <th>3</th>\n",
              "      <td>4</td>\n",
              "      <td>N</td>\n",
              "      <td>Y</td>\n",
              "      <td>A</td>\n",
              "      <td>-1.451059</td>\n",
              "      <td>-0.941466</td>\n",
              "      <td>F</td>\n",
              "      <td>2.033878</td>\n",
              "      <td>Y</td>\n",
              "      <td>N</td>\n",
              "    </tr>\n",
              "    <tr>\n",
              "      <th>4</th>\n",
              "      <td>5</td>\n",
              "      <td>N</td>\n",
              "      <td>N</td>\n",
              "      <td>A</td>\n",
              "      <td>-0.814131</td>\n",
              "      <td>-0.851407</td>\n",
              "      <td>E</td>\n",
              "      <td>-0.465933</td>\n",
              "      <td>Z</td>\n",
              "      <td>Y</td>\n",
              "    </tr>\n",
              "    <tr>\n",
              "      <th>5</th>\n",
              "      <td>6</td>\n",
              "      <td>N</td>\n",
              "      <td>N</td>\n",
              "      <td>A</td>\n",
              "      <td>-1.420601</td>\n",
              "      <td>1.836710</td>\n",
              "      <td>F</td>\n",
              "      <td>0.034029</td>\n",
              "      <td>Y</td>\n",
              "      <td>N</td>\n",
              "    </tr>\n",
              "    <tr>\n",
              "      <th>6</th>\n",
              "      <td>7</td>\n",
              "      <td>N</td>\n",
              "      <td>Y</td>\n",
              "      <td>A</td>\n",
              "      <td>-1.211203</td>\n",
              "      <td>1.066894</td>\n",
              "      <td>C</td>\n",
              "      <td>-0.965896</td>\n",
              "      <td>Y</td>\n",
              "      <td>N</td>\n",
              "    </tr>\n",
              "    <tr>\n",
              "      <th>7</th>\n",
              "      <td>8</td>\n",
              "      <td>N</td>\n",
              "      <td>N</td>\n",
              "      <td>A</td>\n",
              "      <td>-0.174897</td>\n",
              "      <td>-1.627899</td>\n",
              "      <td>H</td>\n",
              "      <td>-0.465933</td>\n",
              "      <td>Y</td>\n",
              "      <td>N</td>\n",
              "    </tr>\n",
              "    <tr>\n",
              "      <th>8</th>\n",
              "      <td>9</td>\n",
              "      <td>N</td>\n",
              "      <td>N</td>\n",
              "      <td>A</td>\n",
              "      <td>0.138508</td>\n",
              "      <td>0.158160</td>\n",
              "      <td>F</td>\n",
              "      <td>0.034029</td>\n",
              "      <td>Y</td>\n",
              "      <td>Y</td>\n",
              "    </tr>\n",
              "    <tr>\n",
              "      <th>9</th>\n",
              "      <td>10</td>\n",
              "      <td>N</td>\n",
              "      <td>N</td>\n",
              "      <td>A</td>\n",
              "      <td>-1.028387</td>\n",
              "      <td>-0.159159</td>\n",
              "      <td>G</td>\n",
              "      <td>-1.965820</td>\n",
              "      <td>Z</td>\n",
              "      <td>Y</td>\n",
              "    </tr>\n",
              "  </tbody>\n",
              "</table>\n",
              "</div>"
            ],
            "text/plain": [
              "   Unnamed: 0 F1 F2 F3        F4        F5 F6        F7 F8 F9\n",
              "0           1  N  N  A -0.213762  1.004748  H -0.965896  Y  Y\n",
              "1           2  D  N  A -0.749425 -1.419117  H -0.965896  X  Y\n",
              "2           3  N  N  A  0.045190  0.808464  H  1.533916  Y  Y\n",
              "3           4  N  Y  A -1.451059 -0.941466  F  2.033878  Y  N\n",
              "4           5  N  N  A -0.814131 -0.851407  E -0.465933  Z  Y\n",
              "5           6  N  N  A -1.420601  1.836710  F  0.034029  Y  N\n",
              "6           7  N  Y  A -1.211203  1.066894  C -0.965896  Y  N\n",
              "7           8  N  N  A -0.174897 -1.627899  H -0.465933  Y  N\n",
              "8           9  N  N  A  0.138508  0.158160  F  0.034029  Y  Y\n",
              "9          10  N  N  A -1.028387 -0.159159  G -1.965820  Z  Y"
            ]
          },
          "metadata": {
            "tags": []
          },
          "execution_count": 102
        }
      ]
    },
    {
      "cell_type": "code",
      "metadata": {
        "colab": {
          "base_uri": "https://localhost:8080/",
          "height": 278
        },
        "id": "5Jn-PdseXPmh",
        "outputId": "a32a707c-370a-4c74-e984-7dc539731b58"
      },
      "source": [
        "# countinuous feature : F4, F5, F7 시각화\n",
        "sns.boxplot(x = 'F3', y = 'F4', data = df_sc);"
      ],
      "execution_count": 103,
      "outputs": [
        {
          "output_type": "display_data",
          "data": {
            "image/png": "[encoded data removed]",
            "text/plain": [
              "<Figure size 432x288 with 1 Axes>"
            ]
          },
          "metadata": {
            "tags": [],
            "needs_background": "light"
          }
        }
      ]
    },
    {
      "cell_type": "code",
      "metadata": {
        "colab": {
          "base_uri": "https://localhost:8080/",
          "height": 282
        },
        "id": "ABJ2NkktYhjW",
        "outputId": "43721c53-8172-46b9-9096-8c5e5775db69"
      },
      "source": [
        "sns.boxplot(x = 'F3', y = 'F5', data = df_sc);"
      ],
      "execution_count": 104,
      "outputs": [
        {
          "output_type": "display_data",
          "data": {
            "image/png": "[encoded data removed]",
            "text/plain": [
              "<Figure size 432x288 with 1 Axes>"
            ]
          },
          "metadata": {
            "tags": [],
            "needs_background": "light"
          }
        }
      ]
    },
    {
      "cell_type": "code",
      "metadata": {
        "colab": {
          "base_uri": "https://localhost:8080/",
          "height": 278
        },
        "id": "3iTC38cFYh0x",
        "outputId": "fc1ae24c-ff57-4c9f-eb75-fe40c751973d"
      },
      "source": [
        "sns.boxplot(x = 'F3', y = 'F7', data = df_sc);"
      ],
      "execution_count": 105,
      "outputs": [
        {
          "output_type": "display_data",
          "data": {
            "image/png": "[encoded data removed]",
            "text/plain": [
              "<Figure size 432x288 with 1 Axes>"
            ]
          },
          "metadata": {
            "tags": [],
            "needs_background": "light"
          }
        }
      ]
    },
    {
      "cell_type": "code",
      "metadata": {
        "colab": {
          "base_uri": "https://localhost:8080/"
        },
        "id": "56u0n0jDWuWG",
        "outputId": "eb04e473-5f15-4cd4-aaa4-de30f11f2be6"
      },
      "source": [
        "df_sc_A = df_sc[df_sc['F3'] == 'A'] \n",
        "df_sc_B = df_sc[df_sc['F3'] == 'B']\n",
        "df_sc_C = df_sc[df_sc['F3'] == 'C']\n",
        "df_sc_D = df_sc[df_sc['F3'] == 'D']\n",
        "\n",
        "import scipy.stats as st\n",
        "# F3, F4 t-test\n",
        "print('F3, F4 t-test')\n",
        "print('p-value =', round(st.ttest_ind(df_sc_A['F4'], df_sc_B['F4'])[1], 4))\n",
        "print('p-value =', round(st.ttest_ind(df_sc_C['F4'], df_sc_D['F4'])[1], 4))\n",
        "print('p-value =', round(st.ttest_ind(df_sc_B['F4'], df_sc_C['F4'])[1], 4))\n",
        "print('p-value =', round(st.ttest_ind(df_sc_A['F4'], df_sc_D['F4'])[1], 4))\n",
        "\n",
        "# F3, F5 t-test\n",
        "print('F3, F5 t-test')\n",
        "print('p-value =', round(st.ttest_ind(df_sc_A['F5'], df_sc_B['F5'])[1], 4))\n",
        "print('p-value =', round(st.ttest_ind(df_sc_C['F5'], df_sc_D['F5'])[1], 4))\n",
        "print('p-value =', round(st.ttest_ind(df_sc_B['F5'], df_sc_C['F5'])[1], 4))\n",
        "print('p-value =', round(st.ttest_ind(df_sc_A['F5'], df_sc_D['F5'])[1], 4))\n",
        "\n",
        "# F3, F7 t-test\n",
        "print('F3, F7 t-test')\n",
        "print('p-value =', round(st.ttest_ind(df_sc_A['F7'], df_sc_B['F7'])[1], 4))\n",
        "print('p-value =', round(st.ttest_ind(df_sc_C['F7'], df_sc_D['F7'])[1], 4))\n",
        "print('p-value =', round(st.ttest_ind(df_sc_B['F7'], df_sc_C['F7'])[1], 4))\n",
        "print('p-value =', round(st.ttest_ind(df_sc_A['F7'], df_sc_D['F7'])[1], 4))"
      ],
      "execution_count": 106,
      "outputs": [
        {
          "output_type": "stream",
          "text": [
            "F3, F4 t-test\n",
            "p-value = 0.0\n",
            "p-value = 0.0001\n",
            "p-value = 0.0001\n",
            "p-value = 0.0001\n",
            "F3, F5 t-test\n",
            "p-value = 0.7923\n",
            "p-value = 0.6339\n",
            "p-value = 0.6862\n",
            "p-value = 0.7434\n",
            "F3, F7 t-test\n",
            "p-value = 0.6287\n",
            "p-value = 0.9546\n",
            "p-value = 0.7656\n",
            "p-value = 0.8771\n"
          ],
          "name": "stdout"
        }
      ]
    },
    {
      "cell_type": "code",
      "metadata": {
        "colab": {
          "base_uri": "https://localhost:8080/"
        },
        "id": "6QyVVDm4YktZ",
        "outputId": "ccc08faf-3411-41f8-8845-3c1855fd0b0d"
      },
      "source": [
        "# F3, F4 ANOVA one-way 테스트\n",
        "print('F3, F4 ANOVA one-way 테스트')\n",
        "print('p-value =', round(st.f_oneway(df_sc_A['F4'], df_sc_B['F4'], df_sc_C['F4'], df_sc_D['F4'])[1], 5))    # 가장 유의미한 feature\n",
        "# F3, F5 ANOVA one-way 테스트\n",
        "print('F3, F5 ANOVA one-way 테스트')\n",
        "print('p-value =', round(st.f_oneway(df_sc_A['F5'], df_sc_B['F5'], df_sc_C['F5'], df_sc_D['F5'])[1], 5))\n",
        "# F3, F7 ANOVA one-way 테스트\n",
        "print('F3, F7 ANOVA one-way 테스트')\n",
        "print('p-value =', round(st.f_oneway(df_sc_A['F7'], df_sc_B['F7'], df_sc_C['F7'], df_sc_D['F7'])[1], 5))    # 가장 무의미한 feature"
      ],
      "execution_count": 107,
      "outputs": [
        {
          "output_type": "stream",
          "text": [
            "F3, F4 ANOVA one-way 테스트\n",
            "p-value = 0.0\n",
            "F3, F5 ANOVA one-way 테스트\n",
            "p-value = 0.96082\n",
            "F3, F7 ANOVA one-way 테스트\n",
            "p-value = 0.96403\n"
          ],
          "name": "stdout"
        }
      ]
    },
    {
      "cell_type": "code",
      "metadata": {
        "id": "2NvL15GiY2DX"
      },
      "source": [
        "# 박스 플롯 그래프만 조금 차이 나고 나머진 다 똑같음."
      ],
      "execution_count": 108,
      "outputs": []
    },
    {
      "cell_type": "code",
      "metadata": {
        "colab": {
          "base_uri": "https://localhost:8080/",
          "height": 406
        },
        "id": "r0m73dLxZKfj",
        "outputId": "4248e1e6-98b1-4cd4-e677-9e081c043d9c"
      },
      "source": [
        "df_sc2 = pd.get_dummies(df[['F1', 'F2', 'F6', 'F8', 'F9']])\n",
        "df_sc2['F3'] = df['F3']\n",
        "df_sc2"
      ],
      "execution_count": 109,
      "outputs": [
        {
          "output_type": "execute_result",
          "data": {
            "text/html": [
              "<div>\n",
              "<style scoped>\n",
              "    .dataframe tbody tr th:only-of-type {\n",
              "        vertical-align: middle;\n",
              "    }\n",
              "\n",
              "    .dataframe tbody tr th {\n",
              "        vertical-align: top;\n",
              "    }\n",
              "\n",
              "    .dataframe thead th {\n",
              "        text-align: right;\n",
              "    }\n",
              "</style>\n",
              "<table border=\"1\" class=\"dataframe\">\n",
              "  <thead>\n",
              "    <tr style=\"text-align: right;\">\n",
              "      <th></th>\n",
              "      <th>F1_D</th>\n",
              "      <th>F1_N</th>\n",
              "      <th>F2_N</th>\n",
              "      <th>F2_Y</th>\n",
              "      <th>F6_B</th>\n",
              "      <th>F6_C</th>\n",
              "      <th>F6_D</th>\n",
              "      <th>F6_E</th>\n",
              "      <th>F6_F</th>\n",
              "      <th>F6_G</th>\n",
              "      <th>F6_H</th>\n",
              "      <th>F8_X</th>\n",
              "      <th>F8_Y</th>\n",
              "      <th>F8_Z</th>\n",
              "      <th>F9_N</th>\n",
              "      <th>F9_Y</th>\n",
              "      <th>F3</th>\n",
              "    </tr>\n",
              "  </thead>\n",
              "  <tbody>\n",
              "    <tr>\n",
              "      <th>0</th>\n",
              "      <td>0</td>\n",
              "      <td>1</td>\n",
              "      <td>1</td>\n",
              "      <td>0</td>\n",
              "      <td>0</td>\n",
              "      <td>0</td>\n",
              "      <td>0</td>\n",
              "      <td>0</td>\n",
              "      <td>0</td>\n",
              "      <td>0</td>\n",
              "      <td>1</td>\n",
              "      <td>0</td>\n",
              "      <td>1</td>\n",
              "      <td>0</td>\n",
              "      <td>0</td>\n",
              "      <td>1</td>\n",
              "      <td>A</td>\n",
              "    </tr>\n",
              "    <tr>\n",
              "      <th>1</th>\n",
              "      <td>1</td>\n",
              "      <td>0</td>\n",
              "      <td>1</td>\n",
              "      <td>0</td>\n",
              "      <td>0</td>\n",
              "      <td>0</td>\n",
              "      <td>0</td>\n",
              "      <td>0</td>\n",
              "      <td>0</td>\n",
              "      <td>0</td>\n",
              "      <td>1</td>\n",
              "      <td>1</td>\n",
              "      <td>0</td>\n",
              "      <td>0</td>\n",
              "      <td>0</td>\n",
              "      <td>1</td>\n",
              "      <td>A</td>\n",
              "    </tr>\n",
              "    <tr>\n",
              "      <th>2</th>\n",
              "      <td>0</td>\n",
              "      <td>1</td>\n",
              "      <td>1</td>\n",
              "      <td>0</td>\n",
              "      <td>0</td>\n",
              "      <td>0</td>\n",
              "      <td>0</td>\n",
              "      <td>0</td>\n",
              "      <td>0</td>\n",
              "      <td>0</td>\n",
              "      <td>1</td>\n",
              "      <td>0</td>\n",
              "      <td>1</td>\n",
              "      <td>0</td>\n",
              "      <td>0</td>\n",
              "      <td>1</td>\n",
              "      <td>A</td>\n",
              "    </tr>\n",
              "    <tr>\n",
              "      <th>3</th>\n",
              "      <td>0</td>\n",
              "      <td>1</td>\n",
              "      <td>0</td>\n",
              "      <td>1</td>\n",
              "      <td>0</td>\n",
              "      <td>0</td>\n",
              "      <td>0</td>\n",
              "      <td>0</td>\n",
              "      <td>1</td>\n",
              "      <td>0</td>\n",
              "      <td>0</td>\n",
              "      <td>0</td>\n",
              "      <td>1</td>\n",
              "      <td>0</td>\n",
              "      <td>1</td>\n",
              "      <td>0</td>\n",
              "      <td>A</td>\n",
              "    </tr>\n",
              "    <tr>\n",
              "      <th>4</th>\n",
              "      <td>0</td>\n",
              "      <td>1</td>\n",
              "      <td>1</td>\n",
              "      <td>0</td>\n",
              "      <td>0</td>\n",
              "      <td>0</td>\n",
              "      <td>0</td>\n",
              "      <td>1</td>\n",
              "      <td>0</td>\n",
              "      <td>0</td>\n",
              "      <td>0</td>\n",
              "      <td>0</td>\n",
              "      <td>0</td>\n",
              "      <td>1</td>\n",
              "      <td>0</td>\n",
              "      <td>1</td>\n",
              "      <td>A</td>\n",
              "    </tr>\n",
              "    <tr>\n",
              "      <th>...</th>\n",
              "      <td>...</td>\n",
              "      <td>...</td>\n",
              "      <td>...</td>\n",
              "      <td>...</td>\n",
              "      <td>...</td>\n",
              "      <td>...</td>\n",
              "      <td>...</td>\n",
              "      <td>...</td>\n",
              "      <td>...</td>\n",
              "      <td>...</td>\n",
              "      <td>...</td>\n",
              "      <td>...</td>\n",
              "      <td>...</td>\n",
              "      <td>...</td>\n",
              "      <td>...</td>\n",
              "      <td>...</td>\n",
              "      <td>...</td>\n",
              "    </tr>\n",
              "    <tr>\n",
              "      <th>195</th>\n",
              "      <td>0</td>\n",
              "      <td>1</td>\n",
              "      <td>1</td>\n",
              "      <td>0</td>\n",
              "      <td>0</td>\n",
              "      <td>0</td>\n",
              "      <td>0</td>\n",
              "      <td>0</td>\n",
              "      <td>0</td>\n",
              "      <td>1</td>\n",
              "      <td>0</td>\n",
              "      <td>1</td>\n",
              "      <td>0</td>\n",
              "      <td>0</td>\n",
              "      <td>0</td>\n",
              "      <td>1</td>\n",
              "      <td>D</td>\n",
              "    </tr>\n",
              "    <tr>\n",
              "      <th>196</th>\n",
              "      <td>0</td>\n",
              "      <td>1</td>\n",
              "      <td>0</td>\n",
              "      <td>1</td>\n",
              "      <td>0</td>\n",
              "      <td>0</td>\n",
              "      <td>0</td>\n",
              "      <td>0</td>\n",
              "      <td>0</td>\n",
              "      <td>1</td>\n",
              "      <td>0</td>\n",
              "      <td>0</td>\n",
              "      <td>1</td>\n",
              "      <td>0</td>\n",
              "      <td>0</td>\n",
              "      <td>1</td>\n",
              "      <td>D</td>\n",
              "    </tr>\n",
              "    <tr>\n",
              "      <th>197</th>\n",
              "      <td>0</td>\n",
              "      <td>1</td>\n",
              "      <td>1</td>\n",
              "      <td>0</td>\n",
              "      <td>0</td>\n",
              "      <td>0</td>\n",
              "      <td>0</td>\n",
              "      <td>0</td>\n",
              "      <td>1</td>\n",
              "      <td>0</td>\n",
              "      <td>0</td>\n",
              "      <td>0</td>\n",
              "      <td>0</td>\n",
              "      <td>1</td>\n",
              "      <td>0</td>\n",
              "      <td>1</td>\n",
              "      <td>D</td>\n",
              "    </tr>\n",
              "    <tr>\n",
              "      <th>198</th>\n",
              "      <td>0</td>\n",
              "      <td>1</td>\n",
              "      <td>1</td>\n",
              "      <td>0</td>\n",
              "      <td>0</td>\n",
              "      <td>0</td>\n",
              "      <td>0</td>\n",
              "      <td>0</td>\n",
              "      <td>0</td>\n",
              "      <td>1</td>\n",
              "      <td>0</td>\n",
              "      <td>0</td>\n",
              "      <td>0</td>\n",
              "      <td>1</td>\n",
              "      <td>0</td>\n",
              "      <td>1</td>\n",
              "      <td>D</td>\n",
              "    </tr>\n",
              "    <tr>\n",
              "      <th>199</th>\n",
              "      <td>0</td>\n",
              "      <td>1</td>\n",
              "      <td>1</td>\n",
              "      <td>0</td>\n",
              "      <td>0</td>\n",
              "      <td>0</td>\n",
              "      <td>0</td>\n",
              "      <td>0</td>\n",
              "      <td>0</td>\n",
              "      <td>1</td>\n",
              "      <td>0</td>\n",
              "      <td>1</td>\n",
              "      <td>0</td>\n",
              "      <td>0</td>\n",
              "      <td>1</td>\n",
              "      <td>0</td>\n",
              "      <td>D</td>\n",
              "    </tr>\n",
              "  </tbody>\n",
              "</table>\n",
              "<p>191 rows × 17 columns</p>\n",
              "</div>"
            ],
            "text/plain": [
              "     F1_D  F1_N  F2_N  F2_Y  F6_B  F6_C  ...  F8_X  F8_Y  F8_Z  F9_N  F9_Y  F3\n",
              "0       0     1     1     0     0     0  ...     0     1     0     0     1   A\n",
              "1       1     0     1     0     0     0  ...     1     0     0     0     1   A\n",
              "2       0     1     1     0     0     0  ...     0     1     0     0     1   A\n",
              "3       0     1     0     1     0     0  ...     0     1     0     1     0   A\n",
              "4       0     1     1     0     0     0  ...     0     0     1     0     1   A\n",
              "..    ...   ...   ...   ...   ...   ...  ...   ...   ...   ...   ...   ...  ..\n",
              "195     0     1     1     0     0     0  ...     1     0     0     0     1   D\n",
              "196     0     1     0     1     0     0  ...     0     1     0     0     1   D\n",
              "197     0     1     1     0     0     0  ...     0     0     1     0     1   D\n",
              "198     0     1     1     0     0     0  ...     0     0     1     0     1   D\n",
              "199     0     1     1     0     0     0  ...     1     0     0     1     0   D\n",
              "\n",
              "[191 rows x 17 columns]"
            ]
          },
          "metadata": {
            "tags": []
          },
          "execution_count": 109
        }
      ]
    },
    {
      "cell_type": "code",
      "metadata": {
        "colab": {
          "base_uri": "https://localhost:8080/"
        },
        "id": "pDYnrChAZKcn",
        "outputId": "cbbd8f1f-0f22-4994-811e-4c14a6e44333"
      },
      "source": [
        "chi2_contingency(pd.crosstab(df_sc2['F1_D'], df_sc2['F3'], margins_name = 'sum', margins = sum))"
      ],
      "execution_count": 110,
      "outputs": [
        {
          "output_type": "execute_result",
          "data": {
            "text/plain": [
              "(1.7069799001355672,\n",
              " 0.9887156155909527,\n",
              " 8,\n",
              " array([[ 40.02094241,  38.38743455,  38.38743455,  39.20418848,\n",
              "         156.        ],\n",
              "        [  8.97905759,   8.61256545,   8.61256545,   8.79581152,\n",
              "          35.        ],\n",
              "        [ 49.        ,  47.        ,  47.        ,  48.        ,\n",
              "         191.        ]]))"
            ]
          },
          "metadata": {
            "tags": []
          },
          "execution_count": 110
        }
      ]
    },
    {
      "cell_type": "code",
      "metadata": {
        "colab": {
          "base_uri": "https://localhost:8080/"
        },
        "id": "xuzjrhfoXS6J",
        "outputId": "16143538-8799-4341-fb65-9004617b2aa0"
      },
      "source": [
        "for i in [i for i in df_sc2][:-1]:\n",
        "  print('{}, F3 카이제곱 테스트 p-value = {}'.format(i, round(chi2_contingency(pd.crosstab(df_sc2[i], df_sc2['F3'], margins_name = 'sum', margins = sum))[1], 3)))"
      ],
      "execution_count": 111,
      "outputs": [
        {
          "output_type": "stream",
          "text": [
            "F1_D, F3 카이제곱 테스트 p-value = 0.989\n",
            "F1_N, F3 카이제곱 테스트 p-value = 0.989\n",
            "F2_N, F3 카이제곱 테스트 p-value = 0.939\n",
            "F2_Y, F3 카이제곱 테스트 p-value = 0.939\n",
            "F6_B, F3 카이제곱 테스트 p-value = 0.929\n",
            "F6_C, F3 카이제곱 테스트 p-value = 1.0\n",
            "F6_D, F3 카이제곱 테스트 p-value = 1.0\n",
            "F6_E, F3 카이제곱 테스트 p-value = 1.0\n",
            "F6_F, F3 카이제곱 테스트 p-value = 0.495\n",
            "F6_G, F3 카이제곱 테스트 p-value = 0.995\n",
            "F6_H, F3 카이제곱 테스트 p-value = 0.791\n",
            "F8_X, F3 카이제곱 테스트 p-value = 0.754\n",
            "F8_Y, F3 카이제곱 테스트 p-value = 0.95\n",
            "F8_Z, F3 카이제곱 테스트 p-value = 1.0\n",
            "F9_N, F3 카이제곱 테스트 p-value = 1.0\n",
            "F9_Y, F3 카이제곱 테스트 p-value = 1.0\n"
          ],
          "name": "stdout"
        }
      ]
    },
    {
      "cell_type": "code",
      "metadata": {
        "colab": {
          "base_uri": "https://localhost:8080/"
        },
        "id": "NJuLk5FaXGHv",
        "outputId": "ef424f36-127e-42c0-c697-a7f13607a944"
      },
      "source": [
        "print('F1, F3 카이제곱 테스트 p-value =', round(chi_1[1], 3))\n",
        "print('F2, F3 카이제곱 테스트 p-value =', round(chi_2[1], 3))\n",
        "print('F6, F3 카이제곱 테스트 p-value =', round(chi_6[1], 3))\n",
        "print('F8, F3 카이제곱 테스트 p-value =', round(chi_8[1], 3))\n",
        "print('F9, F3 카이제곱 테스트 p-value =', round(chi_9[1], 3))\n",
        "\n",
        "# F6, F8은 pvalue가 조금 차이남 다른 값들은 차이가 없다."
      ],
      "execution_count": 112,
      "outputs": [
        {
          "output_type": "stream",
          "text": [
            "F1, F3 카이제곱 테스트 p-value = 0.989\n",
            "F2, F3 카이제곱 테스트 p-value = 0.939\n",
            "F6, F3 카이제곱 테스트 p-value = 0.985\n",
            "F8, F3 카이제곱 테스트 p-value = 0.944\n",
            "F9, F3 카이제곱 테스트 p-value = 1.0\n"
          ],
          "name": "stdout"
        }
      ]
    }
  ]
}