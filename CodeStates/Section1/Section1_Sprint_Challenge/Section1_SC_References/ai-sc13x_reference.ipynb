{
 "cells": [
  {
   "cell_type": "markdown",
   "metadata": {
    "colab_type": "text",
    "id": "view-in-github"
   },
   "source": [
    "<a href=\"https://colab.research.google.com/github/codestates/ds-sc13x/blob/master/sc13x.ipynb\" target=\"_parent\"><img src=\"https://colab.research.google.com/assets/colab-badge.svg\" alt=\"Open In Colab\"/></a>"
   ]
  },
  {
   "cell_type": "markdown",
   "metadata": {
    "id": "-wQxiT7yC4_v"
   },
   "source": [
    "<img src='https://i.imgur.com/RDAD11M.png' width = '200' align = 'right'>\n",
    "\n",
    "# SC13x \n",
    "\n",
    "## Linear Algebra"
   ]
  },
  {
   "cell_type": "markdown",
   "metadata": {
    "id": "vBbJ0ZyPD6RG"
   },
   "source": [
    "## 1. $\\vec{c} \\cdot \\vec{d}$ 를 구해보세요. 이 두 개의 vector는 orthogonal 관계 (직교)에 있나요? 왜 그런가요? 왜 아닌가요?\n",
    "\n",
    "\\begin{align}\n",
    "\\vec{c} = \\begin{bmatrix}3 & 7 & -2 & 12\\end{bmatrix}\n",
    "\\qquad\n",
    "\\vec{d} = \\begin{bmatrix}9 & -7 & 4 & 6\\end{bmatrix}\n",
    "\\end{align}"
   ]
  },
  {
   "cell_type": "code",
   "execution_count": 19,
   "metadata": {
    "id": "NYb8BalmIfgY"
   },
   "outputs": [
    {
     "name": "stdout",
     "output_type": "stream",
     "text": [
      "벡터 c와 d의 내적: 42\n"
     ]
    }
   ],
   "source": [
    "import numpy as np\n",
    "\n",
    "# vector c, d 선언\n",
    "c = np.array([3,7,-2,12])\n",
    "d = np.array([9,-7,4,6])\n",
    "\n",
    "print(f\"벡터 c와 d의 내적: {np.dot(c,d)}\")"
   ]
  },
  {
   "cell_type": "markdown",
   "metadata": {
    "id": "gS85sJHWG7iU"
   },
   "source": [
    "## 2. $E^{-1}$ 와 $E^{T}$ 를 구하세요.\n",
    "\n",
    "\\begin{align}\n",
    "E = \n",
    "\\begin{bmatrix}\n",
    "    7 & 4 & 2 \\\\\n",
    "    1 & 3 & -1 \\\\\n",
    "    2 & 6 & -4\n",
    "\\end{bmatrix}\n",
    "\\end{align}"
   ]
  },
  {
   "cell_type": "code",
   "execution_count": 30,
   "metadata": {
    "id": "QiISq5egIgSS"
   },
   "outputs": [
    {
     "name": "stdout",
     "output_type": "stream",
     "text": [
      "E: \n",
      " [[ 7  4  2]\n",
      " [ 1  3 -1]\n",
      " [ 2  6 -4]] \n",
      "\n",
      "Inverse of E: \n",
      " [[ 0.17647059 -0.82352941  0.29411765]\n",
      " [-0.05882353  0.94117647 -0.26470588]\n",
      " [ 0.          1.         -0.5       ]] \n",
      "\n",
      "Transpose of E: \n",
      " [[ 7  1  2]\n",
      " [ 4  3  6]\n",
      " [ 2 -1 -4]]\n"
     ]
    }
   ],
   "source": [
    "E = np.array([[7,4,2],\n",
    "              [1,3,-1],\n",
    "              [2,6,-4]])\n",
    "\n",
    "#numpy의 메소드를 활용해서 inverse, transpose 계산\n",
    "e_inv = np.linalg.inv(E)\n",
    "e_t = np.transpose(E)\n",
    "\n",
    "print(f\"E: \\n {E} \\n\")\n",
    "print(f\"Inverse of E: \\n {e_inv} \\n\")\n",
    "print(f\"Transpose of E: \\n {e_t}\")"
   ]
  },
  {
   "cell_type": "markdown",
   "metadata": {
    "id": "_DFQHO2HcPNz"
   },
   "source": [
    "## 3. $|F|$ 를 구하세요. 이 데이터는 어떤 의미가 있나요?\n",
    "\n",
    "\\begin{align}\n",
    "F = \n",
    "\\begin{bmatrix}\n",
    "    2 & -2 & 5 \\\\\n",
    "    4 & 1 & 10 \\\\\n",
    "    12 & 6 & 30\n",
    "\\end{bmatrix}\n",
    "\\end{align}"
   ]
  },
  {
   "cell_type": "code",
   "execution_count": 31,
   "metadata": {},
   "outputs": [
    {
     "name": "stdout",
     "output_type": "stream",
     "text": [
      "-1.6653345369377326e-14\n"
     ]
    }
   ],
   "source": [
    "# numpy의 메소드로 Determinant 계산\n",
    "F = np.array([[2,-2,5],\n",
    "              [4,1,10],\n",
    "              [12,6,30]])\n",
    "\n",
    "print(np.linalg.det(F))  "
   ]
  },
  {
   "cell_type": "code",
   "execution_count": 34,
   "metadata": {},
   "outputs": [
    {
     "data": {
      "text/plain": [
       "2"
      ]
     },
     "execution_count": 34,
     "metadata": {},
     "output_type": "execute_result"
    }
   ],
   "source": [
    "np.linalg.matrix_rank(F) "
   ]
  },
  {
   "cell_type": "markdown",
   "metadata": {
    "id": "ap-us2lBGQyi"
   },
   "source": [
    "## 4. 다음 데이터의 covariance, correlation을 구하세요.\n",
    "\n",
    "- x = [820, 760, 1250, 990, 1080, 1450, 1600]\n",
    "\n",
    "- y = [0, 1, 7, 1, 0, 6, 4]"
   ]
  },
  {
   "cell_type": "code",
   "execution_count": 52,
   "metadata": {
    "id": "xS-JuHl9JiiP"
   },
   "outputs": [
    {
     "name": "stdout",
     "output_type": "stream",
     "text": [
      "x,y의 공분산 (covariance): 670.2380952380952\n",
      "x,y의 상관계수 (correlation): 0.7284634644730714\n"
     ]
    }
   ],
   "source": [
    "x = [820, 760, 1250, 990, 1080, 1450, 1600]\n",
    "y = [0, 1, 7, 1, 0, 6, 4]\n",
    "\n",
    "print(f\"x,y의 공분산 (covariance): {np.cov(x,y)[0][1]}\")\n",
    "print(f\"x,y의 상관계수 (correlation): {np.corrcoef(x,y)[0][1]}\")"
   ]
  },
  {
   "cell_type": "markdown",
   "metadata": {
    "id": "f6qJAPaaOdzD"
   },
   "source": [
    "## 5. 다음 데이터를 정규화 하세요.\n",
    "\n",
    "아래 링크를 참조하세요.\n",
    "\n",
    "<https://scikit-learn.org/stable/modules/generated/sklearn.preprocessing.StandardScaler.html>"
   ]
  },
  {
   "cell_type": "code",
   "execution_count": 108,
   "metadata": {
    "colab": {
     "base_uri": "https://localhost:8080/",
     "height": 227
    },
    "id": "bogsxfNyJlAw",
    "outputId": "1c63e2da-a6c0-43f9-c718-c063352a6151"
   },
   "outputs": [
    {
     "data": {
      "text/html": [
       "<div>\n",
       "<style scoped>\n",
       "    .dataframe tbody tr th:only-of-type {\n",
       "        vertical-align: middle;\n",
       "    }\n",
       "\n",
       "    .dataframe tbody tr th {\n",
       "        vertical-align: top;\n",
       "    }\n",
       "\n",
       "    .dataframe thead th {\n",
       "        text-align: right;\n",
       "    }\n",
       "</style>\n",
       "<table border=\"1\" class=\"dataframe\">\n",
       "  <thead>\n",
       "    <tr style=\"text-align: right;\">\n",
       "      <th></th>\n",
       "      <th>Country</th>\n",
       "      <th>Cheese</th>\n",
       "      <th>Carcass_Meat</th>\n",
       "      <th>Other_Meat</th>\n",
       "      <th>Fish</th>\n",
       "      <th>Fats_and_Oils</th>\n",
       "      <th>Sugars</th>\n",
       "      <th>Fresh_Potatoes</th>\n",
       "      <th>Fresh_Veg</th>\n",
       "      <th>Other_Veg</th>\n",
       "      <th>Processed_Potatoes</th>\n",
       "      <th>Processed_Veg</th>\n",
       "      <th>Fresh_Fruit</th>\n",
       "      <th>Cereals</th>\n",
       "      <th>Beverages</th>\n",
       "      <th>Soft_Drinks</th>\n",
       "      <th>Alcoholic Drinks</th>\n",
       "      <th>Confectionery</th>\n",
       "    </tr>\n",
       "  </thead>\n",
       "  <tbody>\n",
       "    <tr>\n",
       "      <th>0</th>\n",
       "      <td>England</td>\n",
       "      <td>105</td>\n",
       "      <td>245</td>\n",
       "      <td>685</td>\n",
       "      <td>147</td>\n",
       "      <td>193</td>\n",
       "      <td>156</td>\n",
       "      <td>720</td>\n",
       "      <td>253</td>\n",
       "      <td>488</td>\n",
       "      <td>198</td>\n",
       "      <td>360</td>\n",
       "      <td>1102</td>\n",
       "      <td>1472</td>\n",
       "      <td>57</td>\n",
       "      <td>1374</td>\n",
       "      <td>375</td>\n",
       "      <td>54</td>\n",
       "    </tr>\n",
       "    <tr>\n",
       "      <th>1</th>\n",
       "      <td>Wales</td>\n",
       "      <td>103</td>\n",
       "      <td>227</td>\n",
       "      <td>803</td>\n",
       "      <td>160</td>\n",
       "      <td>235</td>\n",
       "      <td>175</td>\n",
       "      <td>874</td>\n",
       "      <td>265</td>\n",
       "      <td>570</td>\n",
       "      <td>203</td>\n",
       "      <td>365</td>\n",
       "      <td>1137</td>\n",
       "      <td>1582</td>\n",
       "      <td>73</td>\n",
       "      <td>1256</td>\n",
       "      <td>475</td>\n",
       "      <td>64</td>\n",
       "    </tr>\n",
       "    <tr>\n",
       "      <th>2</th>\n",
       "      <td>Scotland</td>\n",
       "      <td>103</td>\n",
       "      <td>242</td>\n",
       "      <td>750</td>\n",
       "      <td>122</td>\n",
       "      <td>184</td>\n",
       "      <td>147</td>\n",
       "      <td>566</td>\n",
       "      <td>171</td>\n",
       "      <td>418</td>\n",
       "      <td>220</td>\n",
       "      <td>337</td>\n",
       "      <td>957</td>\n",
       "      <td>1462</td>\n",
       "      <td>53</td>\n",
       "      <td>1572</td>\n",
       "      <td>458</td>\n",
       "      <td>62</td>\n",
       "    </tr>\n",
       "    <tr>\n",
       "      <th>3</th>\n",
       "      <td>North Ireland</td>\n",
       "      <td>66</td>\n",
       "      <td>267</td>\n",
       "      <td>586</td>\n",
       "      <td>93</td>\n",
       "      <td>209</td>\n",
       "      <td>139</td>\n",
       "      <td>1033</td>\n",
       "      <td>143</td>\n",
       "      <td>355</td>\n",
       "      <td>187</td>\n",
       "      <td>334</td>\n",
       "      <td>674</td>\n",
       "      <td>1494</td>\n",
       "      <td>47</td>\n",
       "      <td>1506</td>\n",
       "      <td>135</td>\n",
       "      <td>41</td>\n",
       "    </tr>\n",
       "  </tbody>\n",
       "</table>\n",
       "</div>"
      ],
      "text/plain": [
       "         Country  Cheese  Carcass_Meat  Other_Meat  Fish  Fats_and_Oils  \\\n",
       "0        England     105           245         685   147            193   \n",
       "1          Wales     103           227         803   160            235   \n",
       "2       Scotland     103           242         750   122            184   \n",
       "3  North Ireland      66           267         586    93            209   \n",
       "\n",
       "   Sugars  Fresh_Potatoes  Fresh_Veg  Other_Veg  Processed_Potatoes  \\\n",
       "0     156             720        253        488                 198   \n",
       "1     175             874        265        570                 203   \n",
       "2     147             566        171        418                 220   \n",
       "3     139            1033        143        355                 187   \n",
       "\n",
       "   Processed_Veg  Fresh_Fruit  Cereals  Beverages  Soft_Drinks  \\\n",
       "0            360         1102     1472         57         1374   \n",
       "1            365         1137     1582         73         1256   \n",
       "2            337          957     1462         53         1572   \n",
       "3            334          674     1494         47         1506   \n",
       "\n",
       "   Alcoholic Drinks  Confectionery  \n",
       "0               375             54  \n",
       "1               475             64  \n",
       "2               458             62  \n",
       "3               135             41  "
      ]
     },
     "execution_count": 108,
     "metadata": {},
     "output_type": "execute_result"
    }
   ],
   "source": [
    "import pandas as pd\n",
    "\n",
    "data = {\"Country\": [\"England\",\"Wales\",\"Scotland\",\"North Ireland\"], \n",
    "        \"Cheese\": [105,103,103,66], \n",
    "        \"Carcass_Meat\": [245,227,242,267], \n",
    "        \"Other_Meat\": [685, 803, 750, 586], \n",
    "        \"Fish\": [147, 160, 122, 93], \n",
    "        \"Fats_and_Oils\": [193, 235, 184, 209], \n",
    "        \"Sugars\": [156, 175, 147, 139], \n",
    "        \"Fresh_Potatoes\": [720, 874, 566, 1033], \n",
    "        \"Fresh_Veg\": [253, 265, 171, 143], \n",
    "        \"Other_Veg\": [488, 570, 418, 355], \n",
    "        \"Processed_Potatoes\": [198, 203, 220, 187], \n",
    "        \"Processed_Veg\": [360, 365, 337, 334], \n",
    "        \"Fresh_Fruit\": [1102, 1137, 957, 674], \n",
    "        \"Cereals\": [1472, 1582, 1462, 1494], \n",
    "        \"Beverages\": [57,73,53,47], \n",
    "        \"Soft_Drinks\": [1374, 1256, 1572, 1506], \n",
    "        \"Alcoholic Drinks\": [375, 475, 458, 135], \n",
    "        \"Confectionery\": [54, 64, 62, 41]}\n",
    "\n",
    "df = pd.DataFrame(data)\n",
    "\n",
    "df"
   ]
  },
  {
   "cell_type": "code",
   "execution_count": 109,
   "metadata": {},
   "outputs": [
    {
     "data": {
      "text/plain": [
       "Index(['Cheese', 'Carcass_Meat', 'Other_Meat', 'Fish', 'Fats_and_Oils',\n",
       "       'Sugars', 'Fresh_Potatoes', 'Fresh_Veg', 'Other_Veg',\n",
       "       'Processed_Potatoes', 'Processed_Veg', 'Fresh_Fruit', 'Cereals',\n",
       "       'Beverages', 'Soft_Drinks', 'Alcoholic Drinks', 'Confectionery'],\n",
       "      dtype='object')"
      ]
     },
     "execution_count": 109,
     "metadata": {},
     "output_type": "execute_result"
    }
   ],
   "source": [
    "# 정규화에 사용할 칼럼만 리스트로 만듭니다\n",
    "scaled_cols = df.columns.drop('Country')\n",
    "scaled_cols"
   ]
  },
  {
   "cell_type": "code",
   "execution_count": 110,
   "metadata": {
    "id": "2HY91nOpaTTZ"
   },
   "outputs": [
    {
     "data": {
      "text/html": [
       "<div>\n",
       "<style scoped>\n",
       "    .dataframe tbody tr th:only-of-type {\n",
       "        vertical-align: middle;\n",
       "    }\n",
       "\n",
       "    .dataframe tbody tr th {\n",
       "        vertical-align: top;\n",
       "    }\n",
       "\n",
       "    .dataframe thead th {\n",
       "        text-align: right;\n",
       "    }\n",
       "</style>\n",
       "<table border=\"1\" class=\"dataframe\">\n",
       "  <thead>\n",
       "    <tr style=\"text-align: right;\">\n",
       "      <th></th>\n",
       "      <th>Country</th>\n",
       "      <th>Cheese</th>\n",
       "      <th>Carcass_Meat</th>\n",
       "      <th>Other_Meat</th>\n",
       "      <th>Fish</th>\n",
       "      <th>Fats_and_Oils</th>\n",
       "      <th>Sugars</th>\n",
       "      <th>Fresh_Potatoes</th>\n",
       "      <th>Fresh_Veg</th>\n",
       "      <th>Other_Veg</th>\n",
       "      <th>Processed_Potatoes</th>\n",
       "      <th>Processed_Veg</th>\n",
       "      <th>Fresh_Fruit</th>\n",
       "      <th>Cereals</th>\n",
       "      <th>Beverages</th>\n",
       "      <th>Soft_Drinks</th>\n",
       "      <th>Alcoholic Drinks</th>\n",
       "      <th>Confectionery</th>\n",
       "    </tr>\n",
       "  </thead>\n",
       "  <tbody>\n",
       "    <tr>\n",
       "      <th>0</th>\n",
       "      <td>England</td>\n",
       "      <td>0.658275</td>\n",
       "      <td>-0.017495</td>\n",
       "      <td>-0.259546</td>\n",
       "      <td>0.644585</td>\n",
       "      <td>-0.632429</td>\n",
       "      <td>0.130551</td>\n",
       "      <td>-0.450076</td>\n",
       "      <td>0.863312</td>\n",
       "      <td>0.377736</td>\n",
       "      <td>-0.336265</td>\n",
       "      <td>0.805477</td>\n",
       "      <td>0.737407</td>\n",
       "      <td>-0.644322</td>\n",
       "      <td>-0.051917</td>\n",
       "      <td>-0.435231</td>\n",
       "      <td>0.104998</td>\n",
       "      <td>-0.138303</td>\n",
       "    </tr>\n",
       "    <tr>\n",
       "      <th>1</th>\n",
       "      <td>Wales</td>\n",
       "      <td>0.535805</td>\n",
       "      <td>-1.277169</td>\n",
       "      <td>1.198856</td>\n",
       "      <td>1.152440</td>\n",
       "      <td>1.535899</td>\n",
       "      <td>1.547958</td>\n",
       "      <td>0.435696</td>\n",
       "      <td>1.093528</td>\n",
       "      <td>1.401682</td>\n",
       "      <td>0.084066</td>\n",
       "      <td>1.171603</td>\n",
       "      <td>0.929297</td>\n",
       "      <td>1.679463</td>\n",
       "      <td>1.609440</td>\n",
       "      <td>-1.404236</td>\n",
       "      <td>0.841823</td>\n",
       "      <td>0.968122</td>\n",
       "    </tr>\n",
       "    <tr>\n",
       "      <th>2</th>\n",
       "      <td>Scotland</td>\n",
       "      <td>0.535805</td>\n",
       "      <td>-0.227441</td>\n",
       "      <td>0.543811</td>\n",
       "      <td>-0.332059</td>\n",
       "      <td>-1.097071</td>\n",
       "      <td>-0.540853</td>\n",
       "      <td>-1.335847</td>\n",
       "      <td>-0.709834</td>\n",
       "      <td>-0.496364</td>\n",
       "      <td>1.513193</td>\n",
       "      <td>-0.878702</td>\n",
       "      <td>-0.057567</td>\n",
       "      <td>-0.855575</td>\n",
       "      <td>-0.467257</td>\n",
       "      <td>1.190727</td>\n",
       "      <td>0.716563</td>\n",
       "      <td>0.746837</td>\n",
       "    </tr>\n",
       "    <tr>\n",
       "      <th>3</th>\n",
       "      <td>North Ireland</td>\n",
       "      <td>-1.729885</td>\n",
       "      <td>1.522105</td>\n",
       "      <td>-1.483121</td>\n",
       "      <td>-1.464967</td>\n",
       "      <td>0.193601</td>\n",
       "      <td>-1.137656</td>\n",
       "      <td>1.350227</td>\n",
       "      <td>-1.247006</td>\n",
       "      <td>-1.283054</td>\n",
       "      <td>-1.260994</td>\n",
       "      <td>-1.098378</td>\n",
       "      <td>-1.609137</td>\n",
       "      <td>-0.179565</td>\n",
       "      <td>-1.090266</td>\n",
       "      <td>0.648741</td>\n",
       "      <td>-1.663384</td>\n",
       "      <td>-1.576656</td>\n",
       "    </tr>\n",
       "  </tbody>\n",
       "</table>\n",
       "</div>"
      ],
      "text/plain": [
       "         Country    Cheese  Carcass_Meat  Other_Meat      Fish  Fats_and_Oils  \\\n",
       "0        England  0.658275     -0.017495   -0.259546  0.644585      -0.632429   \n",
       "1          Wales  0.535805     -1.277169    1.198856  1.152440       1.535899   \n",
       "2       Scotland  0.535805     -0.227441    0.543811 -0.332059      -1.097071   \n",
       "3  North Ireland -1.729885      1.522105   -1.483121 -1.464967       0.193601   \n",
       "\n",
       "     Sugars  Fresh_Potatoes  Fresh_Veg  Other_Veg  Processed_Potatoes  \\\n",
       "0  0.130551       -0.450076   0.863312   0.377736           -0.336265   \n",
       "1  1.547958        0.435696   1.093528   1.401682            0.084066   \n",
       "2 -0.540853       -1.335847  -0.709834  -0.496364            1.513193   \n",
       "3 -1.137656        1.350227  -1.247006  -1.283054           -1.260994   \n",
       "\n",
       "   Processed_Veg  Fresh_Fruit   Cereals  Beverages  Soft_Drinks  \\\n",
       "0       0.805477     0.737407 -0.644322  -0.051917    -0.435231   \n",
       "1       1.171603     0.929297  1.679463   1.609440    -1.404236   \n",
       "2      -0.878702    -0.057567 -0.855575  -0.467257     1.190727   \n",
       "3      -1.098378    -1.609137 -0.179565  -1.090266     0.648741   \n",
       "\n",
       "   Alcoholic Drinks  Confectionery  \n",
       "0          0.104998      -0.138303  \n",
       "1          0.841823       0.968122  \n",
       "2          0.716563       0.746837  \n",
       "3         -1.663384      -1.576656  "
      ]
     },
     "execution_count": 110,
     "metadata": {},
     "output_type": "execute_result"
    }
   ],
   "source": [
    "from sklearn.preprocessing import StandardScaler\n",
    "from sklearn.compose import ColumnTransformer  # https://stackoverflow.com/questions/38420847/apply-standardscaler-to-parts-of-a-data-set\n",
    "\n",
    "ct = ColumnTransformer([\n",
    "        (\"transformer\", StandardScaler(), scaled_cols)\n",
    "    ], remainder='passthrough')\n",
    "\n",
    "df[scaled_cols] = ct.fit_transform(df[scaled_cols])\n",
    "df"
   ]
  },
  {
   "cell_type": "markdown",
   "metadata": {
    "id": "5U50KZkdJb_s"
   },
   "source": [
    "## 6. 위 데이터에 PCA 를 적용 후 scatterplot을 그리세요."
   ]
  },
  {
   "cell_type": "code",
   "execution_count": 120,
   "metadata": {
    "id": "RqjwVokgP1fL"
   },
   "outputs": [
    {
     "data": {
      "text/html": [
       "<div>\n",
       "<style scoped>\n",
       "    .dataframe tbody tr th:only-of-type {\n",
       "        vertical-align: middle;\n",
       "    }\n",
       "\n",
       "    .dataframe tbody tr th {\n",
       "        vertical-align: top;\n",
       "    }\n",
       "\n",
       "    .dataframe thead th {\n",
       "        text-align: right;\n",
       "    }\n",
       "</style>\n",
       "<table border=\"1\" class=\"dataframe\">\n",
       "  <thead>\n",
       "    <tr style=\"text-align: right;\">\n",
       "      <th></th>\n",
       "      <th>PC1</th>\n",
       "      <th>PC2</th>\n",
       "    </tr>\n",
       "  </thead>\n",
       "  <tbody>\n",
       "    <tr>\n",
       "      <th>0</th>\n",
       "      <td>-0.954490</td>\n",
       "      <td>0.328318</td>\n",
       "    </tr>\n",
       "    <tr>\n",
       "      <th>1</th>\n",
       "      <td>-4.520951</td>\n",
       "      <td>-1.735380</td>\n",
       "    </tr>\n",
       "    <tr>\n",
       "      <th>2</th>\n",
       "      <td>0.487978</td>\n",
       "      <td>3.233672</td>\n",
       "    </tr>\n",
       "    <tr>\n",
       "      <th>3</th>\n",
       "      <td>4.987462</td>\n",
       "      <td>-1.826611</td>\n",
       "    </tr>\n",
       "  </tbody>\n",
       "</table>\n",
       "</div>"
      ],
      "text/plain": [
       "        PC1       PC2\n",
       "0 -0.954490  0.328318\n",
       "1 -4.520951 -1.735380\n",
       "2  0.487978  3.233672\n",
       "3  4.987462 -1.826611"
      ]
     },
     "execution_count": 120,
     "metadata": {},
     "output_type": "execute_result"
    }
   ],
   "source": [
    "from sklearn.decomposition import PCA\n",
    "\n",
    "# PCA 적용\n",
    "pc = PCA(2)\n",
    "Z = pc.fit_transform(df[scaled_cols])\n",
    "pca_df = pd.DataFrame(Z,columns=[\"PC1\",\"PC2\"])\n",
    "pca_df"
   ]
  },
  {
   "cell_type": "code",
   "execution_count": 121,
   "metadata": {},
   "outputs": [
    {
     "data": {
      "text/plain": [
       "<AxesSubplot:xlabel='PC1', ylabel='PC2'>"
      ]
     },
     "execution_count": 121,
     "metadata": {},
     "output_type": "execute_result"
    },
    {
     "data": {
      "image/png": "[encoded data removed]",
      "text/plain": [
       "<Figure size 432x288 with 1 Axes>"
      ]
     },
     "metadata": {
      "needs_background": "light"
     },
     "output_type": "display_data"
    }
   ],
   "source": [
    "import seaborn as sns\n",
    "\n",
    "sns.scatterplot(x = 'PC1', y = 'PC2', data = pca_df, hue=df['Country'])"
   ]
  },
  {
   "cell_type": "markdown",
   "metadata": {
    "id": "62efk4plJe54"
   },
   "source": [
    "## 7. 아래 데이터에 대해 k-means clustering을 적용 후, 결과를 그래프로 그리세요.\n"
   ]
  },
  {
   "cell_type": "code",
   "execution_count": 122,
   "metadata": {
    "colab": {
     "base_uri": "https://localhost:8080/",
     "height": 202
    },
    "id": "miK5Aeg-JlzJ",
    "outputId": "298a1e78-03d8-4ff8-d06a-a5bcbda93a89"
   },
   "outputs": [
    {
     "data": {
      "text/html": [
       "<div>\n",
       "<style scoped>\n",
       "    .dataframe tbody tr th:only-of-type {\n",
       "        vertical-align: middle;\n",
       "    }\n",
       "\n",
       "    .dataframe tbody tr th {\n",
       "        vertical-align: top;\n",
       "    }\n",
       "\n",
       "    .dataframe thead th {\n",
       "        text-align: right;\n",
       "    }\n",
       "</style>\n",
       "<table border=\"1\" class=\"dataframe\">\n",
       "  <thead>\n",
       "    <tr style=\"text-align: right;\">\n",
       "      <th></th>\n",
       "      <th>x</th>\n",
       "      <th>y</th>\n",
       "    </tr>\n",
       "  </thead>\n",
       "  <tbody>\n",
       "    <tr>\n",
       "      <th>0</th>\n",
       "      <td>-7.846803</td>\n",
       "      <td>-3.421277</td>\n",
       "    </tr>\n",
       "    <tr>\n",
       "      <th>1</th>\n",
       "      <td>-3.554323</td>\n",
       "      <td>-6.884729</td>\n",
       "    </tr>\n",
       "    <tr>\n",
       "      <th>2</th>\n",
       "      <td>-0.192822</td>\n",
       "      <td>-9.671030</td>\n",
       "    </tr>\n",
       "    <tr>\n",
       "      <th>3</th>\n",
       "      <td>-6.401456</td>\n",
       "      <td>-5.223972</td>\n",
       "    </tr>\n",
       "    <tr>\n",
       "      <th>4</th>\n",
       "      <td>-0.804026</td>\n",
       "      <td>-9.704457</td>\n",
       "    </tr>\n",
       "  </tbody>\n",
       "</table>\n",
       "</div>"
      ],
      "text/plain": [
       "          x         y\n",
       "0 -7.846803 -3.421277\n",
       "1 -3.554323 -6.884729\n",
       "2 -0.192822 -9.671030\n",
       "3 -6.401456 -5.223972\n",
       "4 -0.804026 -9.704457"
      ]
     },
     "execution_count": 122,
     "metadata": {},
     "output_type": "execute_result"
    }
   ],
   "source": [
    "points = pd.read_csv('https://ds-lecture-data.s3.ap-northeast-2.amazonaws.com/sc13x/data.csv')\n",
    "points.head()"
   ]
  },
  {
   "cell_type": "code",
   "execution_count": 123,
   "metadata": {
    "id": "Y79xDU4T97bG",
    "outputId": "f7c8447c-c00a-49d0-cdf8-ecb63f2a2b77"
   },
   "outputs": [
    {
     "data": {
      "text/plain": [
       "(200, 2)"
      ]
     },
     "execution_count": 123,
     "metadata": {},
     "output_type": "execute_result"
    }
   ],
   "source": [
    "points.shape"
   ]
  },
  {
   "cell_type": "code",
   "execution_count": 135,
   "metadata": {},
   "outputs": [],
   "source": [
    "from sklearn.cluster import KMeans\n",
    "\n",
    "km = KMeans(4)\n",
    "\n",
    "kmeans = km.fit(points[['x','y']])\n",
    "points['cluster_id'] = kmeans.labels_"
   ]
  },
  {
   "cell_type": "code",
   "execution_count": 147,
   "metadata": {},
   "outputs": [
    {
     "data": {
      "text/plain": [
       "<AxesSubplot:xlabel='x', ylabel='y'>"
      ]
     },
     "execution_count": 147,
     "metadata": {},
     "output_type": "execute_result"
    },
    {
     "data": {
      "image/png": "[encoded data removed]",
      "text/plain": [
       "<Figure size 432x288 with 1 Axes>"
      ]
     },
     "metadata": {
      "needs_background": "light"
     },
     "output_type": "display_data"
    }
   ],
   "source": [
    "sns.scatterplot(x = 'x', y = 'y', data = points, hue='cluster_id', palette='RdYlBu_r')"
   ]
  },
  {
   "cell_type": "markdown",
   "metadata": {
    "id": "oxxNyhv_FGKB"
   },
   "source": [
    "# SC 3점 요구사항:\n",
    "위에서 요구된 사항들을 모두 정확하게 만족하였으며, 아직 시간이 남았다면 아래 2개의 추가 조건들 중 하나를 만족하는 경우 3점을 얻을 수 있습니다.\n",
    "\n",
    "아래 요구사항들은 모두 **optional** 임을 다시 한 번 강조합니다. (필수 요구사항이 아닙니다.)\n",
    "\n",
    "- 6번의 PCA 결과에 대해서 `Scree plot`을 추가하세요.\n",
    "\n",
    "- 7번에서 k값을 선택하는 과정을 논리적으로 설명하세요.\n"
   ]
  },
  {
   "cell_type": "code",
   "execution_count": 149,
   "metadata": {
    "id": "1kGX2sWt97bH"
   },
   "outputs": [
    {
     "name": "stdout",
     "output_type": "stream",
     "text": [
      "[0.68327871 0.9319916 ]\n"
     ]
    },
    {
     "data": {
      "image/png": "[encoded data removed]",
      "text/plain": [
       "<Figure size 432x288 with 1 Axes>"
      ]
     },
     "metadata": {
      "needs_background": "light"
     },
     "output_type": "display_data"
    }
   ],
   "source": [
    "# 6번의 PCA 결과에 대해서 Scree plot을 추가\n",
    "import matplotlib.pyplot as plt\n",
    "def scree_plot(pca):\n",
    "    num_components = len(pca.explained_variance_ratio_)\n",
    "    ind = np.arange(num_components)\n",
    "    vals = pca.explained_variance_ratio_\n",
    "    \n",
    "    ax = plt.subplot()\n",
    "    cumvals = np.cumsum(vals)\n",
    "    \n",
    "    print(cumvals)\n",
    "    \n",
    "    ax.bar(ind, vals, color = ['#00da75', '#f1c40f']) # Bar plot\n",
    "    ax.plot(ind, cumvals, color = '#c0392b') # Line plot \n",
    "    \n",
    "    for i in range(num_components):\n",
    "        ax.annotate(r\"%s\" % ((str(vals[i]*100)[:3])), (ind[i], vals[i]), va = \"bottom\", ha = \"center\", fontsize = 13)\n",
    "     \n",
    "    ax.set_xlabel(\"PC\")\n",
    "    ax.set_ylabel(\"Variance\")\n",
    "    plt.title('Scree plot')\n",
    "    \n",
    "scree_plot(pc)"
   ]
  },
  {
   "cell_type": "code",
   "execution_count": 150,
   "metadata": {},
   "outputs": [
    {
     "data": {
      "image/png": "[encoded data removed]",
      "text/plain": [
       "<Figure size 432x288 with 1 Axes>"
      ]
     },
     "metadata": {
      "needs_background": "light"
     },
     "output_type": "display_data"
    }
   ],
   "source": [
    "# 7번에서 k값을 선택하는 과정 (Elbow methods 이용) https://m.blog.naver.com/PostView.nhn?blogId=samsjang&logNo=221017639342\n",
    "import matplotlib.pyplot as plt\n",
    "sum_of_squared_distances = []\n",
    "K = range(1, 15)\n",
    "for k in K:\n",
    "    km = KMeans(n_clusters = k)\n",
    "    km = km.fit(points)\n",
    "    sum_of_squared_distances.append(km.inertia_)\n",
    "    \n",
    "plt.plot(K, sum_of_squared_distances, 'bx-')\n",
    "plt.xlabel('k')\n",
    "plt.ylabel('Sum_of_squared_distances')\n",
    "plt.title('Elbow Method For Optimal k')\n",
    "plt.show()"
   ]
  },
  {
   "cell_type": "code",
   "execution_count": null,
   "metadata": {},
   "outputs": [],
   "source": []
  }
 ],
 "metadata": {
  "colab": {
   "authorship_tag": "ABX9TyNy0Byo0smtOUoneySO42ky",
   "include_colab_link": true,
   "name": "sc13x.ipynb",
   "provenance": []
  },
  "kernelspec": {
   "display_name": "Python 3",
   "language": "python",
   "name": "python3"
  },
  "language_info": {
   "codemirror_mode": {
    "name": "ipython",
    "version": 3
   },
   "file_extension": ".py",
   "mimetype": "text/x-python",
   "name": "python",
   "nbconvert_exporter": "python",
   "pygments_lexer": "ipython3",
   "version": "3.8.8"
  }
 },
 "nbformat": 4,
 "nbformat_minor": 4
}
