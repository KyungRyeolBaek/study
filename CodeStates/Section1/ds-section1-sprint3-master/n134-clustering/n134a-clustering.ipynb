{
 "cells": [
  {
   "cell_type": "markdown",
   "metadata": {
    "id": "y-3rVFtGLMJM"
   },
   "source": [
    "<img src='https://i.imgur.com/RDAD11M.png' width = '200' align = 'right'>\n",
    "\n",
    "## *DATA SCIENCE / SECTION 1 / SPRINT 3 / NOTE 4*\n",
    "\n",
    "# 📝 Assignment\n"
   ]
  },
  {
   "cell_type": "markdown",
   "metadata": {
    "id": "_VS3FFSFLR3a"
   },
   "source": [
    "# Breast Cancer Clustering\n",
    "\n"
   ]
  },
  {
   "cell_type": "markdown",
   "metadata": {
    "id": "3WZDb57q1j-x"
   },
   "source": [
    "## 1. 아래의 주소를 참조하여, 데이터를 `df`에 준비하세요.\r\n",
    "\r\n",
    "<https://www.kaggle.com/uciml/breast-cancer-wisconsin-data>\r\n",
    "\r\n",
    "- Feature마다 scale이 다르기 때문에 `StandardScaler`를 적용해야합니다.\r\n",
    "- 이후,  \"diagnosis\"에 있는 label 데이터를 따로 `label`이라는 변수로 생성하세요.\r\n",
    "- \"diagnosis\"를 제거한 나머지 데이터를 사용하여 k-means clustering을 하며, \r\n",
    "- `n_clusters = 2`, `random_state = 42`를 제외한 다른 parameter는 default option을 사용합니다."
   ]
  },
  {
   "cell_type": "code",
   "execution_count": null,
   "metadata": {
    "id": "ws5R9X6hLJQ2"
   },
   "outputs": [],
   "source": [
    "import pandas as pd\n",
    "import numpy as np\n",
    "from sklearn.cluster import KMeans \n",
    "from sklearn.preprocessing import StandardScaler \n",
    "\n",
    "# df로 불러옵니다"
   ]
  },
  {
   "cell_type": "markdown",
   "metadata": {
    "id": "7ghqYSxrP_FE"
   },
   "source": [
    "## 2. 원래 데이터의 label과, clustering 이후의 라벨을 비교하여 accuracy를 측정하고 결과를 `Acc`에 저장하세요. \n",
    "\n",
    "- Acc = 전체 데이터 중 라벨이 일치하는 데이터 수 입니다.\n",
    "\n",
    "ex)\n",
    "\n",
    "|원래 라벨|cluster 이후 label|\n",
    "|:-:|:-:|\n",
    "|A|A|\n",
    "|A|B|\n",
    "|A|A|\n",
    "|B|B|\n",
    "|B|B|\n",
    "|B|A|\n",
    "\n",
    "accuracy = $(2 + 2) \\over 6$\n",
    "\n",
    "이때 아래의 코드를 참고하여 `0`과 `1`로 있는데이터를 `M`과 `B`로 바꿔서 작업하면 좋습니다. \n",
    "\n",
    "```python\n",
    "label2 = label2.replace(0,'M')\n",
    "label2 = label2.replace(1,'B')\n",
    "```"
   ]
  },
  {
   "cell_type": "code",
   "execution_count": null,
   "metadata": {
    "id": "QlS6wxWB89WU"
   },
   "outputs": [],
   "source": [
    "# 이곳에 답안을 작성하시기 바랍니다"
   ]
  },
  {
   "cell_type": "markdown",
   "metadata": {
    "id": "yx2kMI0k66Qj"
   },
   "source": [
    "# 🔥 도전 과제\n",
    "\n",
    "아래 링크를 참조하여 hierarchical clustering을 breast cancer dataset에 적용하고, 그 결과를 시각화하세요.\n",
    "\n",
    "<https://scikit-learn.org/stable/modules/clustering.html#hierarchical-clustering>\n"
   ]
  },
  {
   "cell_type": "code",
   "execution_count": null,
   "metadata": {
    "id": "BwUsIoLX9TfM"
   },
   "outputs": [],
   "source": [
    "# 이곳에 답안을 작성하시기 바랍니다"
   ]
  }
 ],
 "metadata": {
  "colab": {
   "authorship_tag": "ABX9TyMtSeERuMri9elLqsjfIerW",
   "name": "n134a-clustering.ipynb",
   "provenance": [],
   "toc_visible": true
  },
  "kernelspec": {
   "display_name": "Python 3",
   "language": "python",
   "name": "python3"
  },
  "language_info": {
   "codemirror_mode": {
    "name": "ipython",
    "version": 3
   },
   "file_extension": ".py",
   "mimetype": "text/x-python",
   "name": "python",
   "nbconvert_exporter": "python",
   "pygments_lexer": "ipython3",
   "version": "3.8.2"
  }
 },
 "nbformat": 4,
 "nbformat_minor": 4
}
