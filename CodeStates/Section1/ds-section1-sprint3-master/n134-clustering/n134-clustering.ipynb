{
  "nbformat": 4,
  "nbformat_minor": 0,
  "metadata": {
    "colab": {
      "name": "n134-clustering.ipynb",
      "provenance": [],
      "toc_visible": true,
      "authorship_tag": "ABX9TyOzmiRO4jma14WnnULIonSC"
    },
    "kernelspec": {
      "name": "python3",
      "display_name": "Python 3"
    }
  },
  "cells": [
    {
      "cell_type": "markdown",
      "metadata": {
        "id": "xi9ks-kq_j8J"
      },
      "source": [
        "<img src='https://i.imgur.com/RDAD11M.png' width = '200' align = 'right'>\n",
        "\n",
        "## *DATA SCIENCE / SECTION 1 / SPRINT 3 / NOTE 4*\n",
        "\n",
        "---\n",
        "\n",
        "# Clustering\n",
        "\n",
        "## 🏆 학습 목표 \n",
        "\n",
        "- Screeplot의 의미를 이해할 수 있다.\n",
        "- Supervised / Unsupervised learning의 차이를 설명 할 수 있다.\n",
        "- K-means clustering을 설명 할 수 있다.\n",
        "\n",
        "---"
      ]
    },
    {
      "cell_type": "markdown",
      "metadata": {
        "id": "h1g4y-An90sD"
      },
      "source": [
        "## Scree Plots\n",
        "\n",
        "<https://m.blog.naver.com/PostView.nhn?blogId=hsj2864&logNo=220613527515>\n",
        "\n",
        "<img src='https://i.imgur.com/zyWQBjA.png' width = 400>\n",
        "<img src='https://i.imgur.com/f60GoIo.png' width = 400>\n",
        "<br>\n",
        "<img src='https://www.researchgate.net/profile/Raul_Ramirez-Velarde/publication/275541304/figure/fig1/AS:392017420013568@1470475644164/PCA-Scree-plot-and-cumulative-variance-plots.png' width = 400>"
      ]
    },
    {
      "cell_type": "code",
      "metadata": {
        "id": "v3rSL4ThRY9k",
        "colab": {
          "base_uri": "https://localhost:8080/",
          "height": 204
        },
        "outputId": "63f8db0a-1b3f-48ee-d914-f65ad02a3f4d"
      },
      "source": [
        "import matplotlib.pyplot as plt\n",
        "import seaborn as sns\n",
        "import pandas as pd\n",
        "import numpy as np\n",
        "%matplotlib inline\n",
        "from sklearn.datasets import make_blobs\n",
        "from sklearn import decomposition\n",
        "\n",
        "X1, Y1 = make_blobs(n_features = 10, n_samples = 100, centers = 4, random_state = 4, cluster_std = 2) ## random 하게 simulation data 생성\n",
        "\n",
        "pca = decomposition.PCA(n_components = 4)\n",
        "pc = pca.fit_transform(X1)\n",
        "\n",
        "pc_df = pd.DataFrame(data = pc, columns = ['PC1', 'PC2', 'PC3', 'PC4'])\n",
        "pc_df['Cluster'] = Y1\n",
        "pc_df.head()"
      ],
      "execution_count": 1,
      "outputs": [
        {
          "output_type": "execute_result",
          "data": {
            "text/html": [
              "<div>\n",
              "<style scoped>\n",
              "    .dataframe tbody tr th:only-of-type {\n",
              "        vertical-align: middle;\n",
              "    }\n",
              "\n",
              "    .dataframe tbody tr th {\n",
              "        vertical-align: top;\n",
              "    }\n",
              "\n",
              "    .dataframe thead th {\n",
              "        text-align: right;\n",
              "    }\n",
              "</style>\n",
              "<table border=\"1\" class=\"dataframe\">\n",
              "  <thead>\n",
              "    <tr style=\"text-align: right;\">\n",
              "      <th></th>\n",
              "      <th>PC1</th>\n",
              "      <th>PC2</th>\n",
              "      <th>PC3</th>\n",
              "      <th>PC4</th>\n",
              "      <th>Cluster</th>\n",
              "    </tr>\n",
              "  </thead>\n",
              "  <tbody>\n",
              "    <tr>\n",
              "      <th>0</th>\n",
              "      <td>-8.133443</td>\n",
              "      <td>-0.302138</td>\n",
              "      <td>9.984672</td>\n",
              "      <td>0.423878</td>\n",
              "      <td>2</td>\n",
              "    </tr>\n",
              "    <tr>\n",
              "      <th>1</th>\n",
              "      <td>18.931381</td>\n",
              "      <td>0.193838</td>\n",
              "      <td>0.045462</td>\n",
              "      <td>-3.894042</td>\n",
              "      <td>1</td>\n",
              "    </tr>\n",
              "    <tr>\n",
              "      <th>2</th>\n",
              "      <td>-6.571463</td>\n",
              "      <td>-14.188490</td>\n",
              "      <td>-3.120115</td>\n",
              "      <td>1.278588</td>\n",
              "      <td>0</td>\n",
              "    </tr>\n",
              "    <tr>\n",
              "      <th>3</th>\n",
              "      <td>-7.533948</td>\n",
              "      <td>14.439427</td>\n",
              "      <td>-5.443487</td>\n",
              "      <td>3.358252</td>\n",
              "      <td>3</td>\n",
              "    </tr>\n",
              "    <tr>\n",
              "      <th>4</th>\n",
              "      <td>-4.591760</td>\n",
              "      <td>-11.315284</td>\n",
              "      <td>-9.130630</td>\n",
              "      <td>-1.420151</td>\n",
              "      <td>0</td>\n",
              "    </tr>\n",
              "  </tbody>\n",
              "</table>\n",
              "</div>"
            ],
            "text/plain": [
              "         PC1        PC2       PC3       PC4  Cluster\n",
              "0  -8.133443  -0.302138  9.984672  0.423878        2\n",
              "1  18.931381   0.193838  0.045462 -3.894042        1\n",
              "2  -6.571463 -14.188490 -3.120115  1.278588        0\n",
              "3  -7.533948  14.439427 -5.443487  3.358252        3\n",
              "4  -4.591760 -11.315284 -9.130630 -1.420151        0"
            ]
          },
          "metadata": {
            "tags": []
          },
          "execution_count": 1
        }
      ]
    },
    {
      "cell_type": "code",
      "metadata": {
        "id": "CmxL457j-Q2y",
        "colab": {
          "base_uri": "https://localhost:8080/",
          "height": 295
        },
        "outputId": "3e309eee-c038-4198-8479-c5fd42332a11"
      },
      "source": [
        "def scree_plot(pca):\n",
        "    num_components = len(pca.explained_variance_ratio_)\n",
        "    ind = np.arange(num_components)\n",
        "    vals = pca.explained_variance_ratio_\n",
        "    \n",
        "    ax = plt.subplot()\n",
        "    cumvals = np.cumsum(vals)\n",
        "    ax.bar(ind, vals, color = ['#00da75', '#f1c40f',  '#ff6f15', '#3498db']) # Bar plot\n",
        "    ax.plot(ind, cumvals, color = '#c0392b') # Line plot \n",
        "    \n",
        "    for i in range(num_components):\n",
        "        ax.annotate(r\"%s\" % ((str(vals[i]*100)[:3])), (ind[i], vals[i]), va = \"bottom\", ha = \"center\", fontsize = 13)\n",
        "     \n",
        "    ax.set_xlabel(\"PC\")\n",
        "    ax.set_ylabel(\"Variance\")\n",
        "    plt.title('Scree plot')\n",
        "    \n",
        "scree_plot(pca)"
      ],
      "execution_count": 2,
      "outputs": [
        {
          "output_type": "display_data",
          "data": {
            "image/png": "[encoded data removed]",
            "text/plain": [
              "<Figure size 432x288 with 1 Axes>"
            ]
          },
          "metadata": {
            "tags": [],
            "needs_background": "light"
          }
        }
      ]
    },
    {
      "cell_type": "markdown",
      "metadata": {
        "id": "TBXSEvwbODsA"
      },
      "source": [
        "# Machine Learning (개요)\n",
        "\n",
        "<img src='https://i.imgur.com/FCwHoxV.png' width = 450>\n"
      ]
    },
    {
      "cell_type": "markdown",
      "metadata": {
        "id": "t4qW9d7FlHUy"
      },
      "source": [
        "- ## 지도 학습 (Supervised Learning): \n",
        "Supervised Learning은 트레이닝 데이터에 라벨(답)이 있을때 사용할 수 있습니다. \n",
        "\n",
        "  - ### 분류 (Classification)\n",
        "  분류 알고리즘은 주어진 데이터의 카테고리 혹은 클래스 예측을 위해 사용됩니다.\n",
        "  - ### 회귀 (Prediction)\n",
        "  회귀 알고리즘은 continuous 한 데이터를 바탕으로 결과를 예측 하기 위해 사용됩니다.\n",
        "\n",
        "<img src='https://i.imgur.com/Lwguk7n.png' width = 400>\n",
        "\n",
        "  "
      ]
    },
    {
      "cell_type": "markdown",
      "metadata": {
        "id": "NynJ4Ye9lHg0"
      },
      "source": [
        "- ## 비지도 학습 (Unsupervised Learning):\n",
        "  - ### 클러스터링 (Clustering)\n",
        "  데이터의 연관된 feature를 바탕으로 유사한 그룹을 생성합니다.\n",
        "\n",
        "  <img src='https://i.imgur.com/RbVlVUy.png' width = 400>\n",
        "\n",
        "  - ### 차원 축소 (Dimensionality Reduction\n",
        "  높은 차원을 갖는 데이터셋을 사용하여 feature selection / extraction 등을 통해 차원을 줄이는 방법입니다.\n",
        "  - ### 연관 규칙 학습 (Association Rule Learning)\n",
        "  데이터셋의 feature들의 관계를 발견하는 방법입니다 (feature-output 이 아닌 feature-feature)\n",
        "\n",
        "  <img src='https://i.imgur.com/9TYSGAx.png' width = 400>"
      ]
    },
    {
      "cell_type": "markdown",
      "metadata": {
        "id": "ARo_wctGlHpT"
      },
      "source": [
        "- ## 강화 학습 (Reinforcement Learning)\n",
        "  머신러닝의 한 형태로, 기계가 좋은 행동에 대해서는 **보상**, 그렇지 않은 행동에는 **처벌**이라는 피드백을 통해서 *행동*에 대해 학습해 나가는 형태입니다. \n",
        "  <img src='https://user-images.githubusercontent.com/6457691/90086283-0e4b5c80-dd55-11ea-9331-c6e9bc63775d.png' width=500>"
      ]
    },
    {
      "cell_type": "markdown",
      "metadata": {
        "id": "yzdWvN9iugsd"
      },
      "source": [
        "# ML Cheat Sheets (참고용)\n",
        "\n",
        "<img src='https://jixta.files.wordpress.com/2015/11/machinelearningalgorithms.png?w=816&h=521&zoom=2'>\n"
      ]
    },
    {
      "cell_type": "markdown",
      "metadata": {
        "id": "GjCxoJFNl0ly"
      },
      "source": [
        "# Clustering \n",
        "\n",
        "Clustering은 Unsupervised Learning Algorithm의 한 종류입니다. \n",
        "(Train Data에 대해서 label도 없고, 몇 개의 클러스터가 정확한지조차도 없는 경우가 있습니다.)"
      ]
    },
    {
      "cell_type": "markdown",
      "metadata": {
        "id": "c6S6TOtgl0sb"
      },
      "source": [
        "## Clustering의 목적\n",
        "\n",
        "Clustering이 대답할수 있는 질문은 주어진 데이터들이 **얼마나, 어떻게 유사한지** 입니다. \n",
        "\n",
        "그렇기 때문에 주어진 데이터셋을 요약/정리하는데 있어서 매우 효율적인 방법들중 하나로 사용 되고 있습니다. \n",
        "\n",
        "그러나 동시에 `정답을 보장하지 않는다`는 이슈가 있어서 production의 수준, 혹은 예측을 위한 모델링에 쓰이기 보다는 EDA를 위한 방법으로써 많이 쓰입니다."
      ]
    },
    {
      "cell_type": "markdown",
      "metadata": {
        "id": "ldJ0c24yl02e"
      },
      "source": [
        "## Clustering의 종류\n",
        "\n"
      ]
    },
    {
      "cell_type": "markdown",
      "metadata": {
        "id": "ZxAiZ9RGc-y3"
      },
      "source": [
        "### Hierarchical\n",
        "\n",
        "  - Agglomerative: 개별 포인트에서 시작후 점점 크게 합쳐감\n",
        "  \n",
        "  - Divisive: 한개의 큰 cluster에서 시작후 점점 작은 cluster로 나눠감\n",
        "\n"
      ]
    },
    {
      "cell_type": "markdown",
      "metadata": {
        "id": "RlVZL4nVdEHE"
      },
      "source": [
        "### Point Assignment\n",
        "\n",
        "  - 시작시에 cluster의 수를 정한 다음, 데이터들을 하나씩 cluster에 배정시킴\n",
        "\n"
      ]
    },
    {
      "cell_type": "markdown",
      "metadata": {
        "id": "IRAsMlzndFOP"
      },
      "source": [
        "### Hard vs Soft Clustering\n",
        "\n",
        "Hard Clustering에서 데이터는 하나의 cluster에만 할당됩니다.\n",
        "\n",
        "Soft Clustering에서 데이터는 여러 cluster에 확률을 가지고 할당됩니다.\n",
        "\n",
        "일반적으로 Hard Clustering을 Clustering이라 칭하며 오늘 배울 내용도 Hard Clustering입니다."
      ]
    },
    {
      "cell_type": "markdown",
      "metadata": {
        "id": "mnAcqxeDl06U"
      },
      "source": [
        "## 응용 예시 : 거의 모든 분야\n",
        "\n",
        "<img src='https://user-images.githubusercontent.com/6457691/71956124-a1f00400-322d-11ea-84ef-ad69689f82de.gif'>\n",
        "\n",
        "<img src='https://user-images.githubusercontent.com/6457691/71956389-64d84180-322e-11ea-9f44-dbde4c05af20.gif'>\n",
        "\n",
        "<img src='https://user-images.githubusercontent.com/6457691/71956362-4f631780-322e-11ea-8c0b-c43d3f7214dc.png'>"
      ]
    },
    {
      "cell_type": "markdown",
      "metadata": {
        "id": "WhmN7D0Ol0-E"
      },
      "source": [
        "## Similarity\n",
        "\n",
        "- Euclidean\n",
        "- Cosine\n",
        "- Jaccard\n",
        "- Edit Distance\n",
        "- Etc. \n",
        "\n",
        "일반적으로 많이 쓰이는 방식은 Euclidean 입니다, 그러나 각 목적에 따라서 다른 방식 또한 사용되며, 여러분이 특별히 Clustering에 관심이 더 있다면, 여러 clustering 알고리즘이나 distance 방식을 공부하길 권장합니다.\n",
        "\n",
        "PCA와 clustering은 반드시 연계해서 사용할 필요는 없습니다만, 이에 관련해서 PCA로 전처리를 하고, K-means를 메인 \"머신러닝\"으로 사용 하는 연습을 해보도록 하겠습니다.\n",
        "\n"
      ]
    },
    {
      "cell_type": "markdown",
      "metadata": {
        "id": "_BgqoRiDdjKW"
      },
      "source": [
        "### Euclidean\n",
        "\n",
        "<img src='https://upload.wikimedia.org/wikipedia/commons/thumb/5/55/Euclidean_distance_2d.svg/440px-Euclidean_distance_2d.svg.png' width = 400>"
      ]
    },
    {
      "cell_type": "code",
      "metadata": {
        "colab": {
          "base_uri": "https://localhost:8080/"
        },
        "id": "tkj9_pmfdikp",
        "outputId": "27c09569-dfa5-4ee4-fa42-db46cefa4af5"
      },
      "source": [
        "import numpy as np\n",
        "\n",
        "x = np.array([1, 2, 3])\n",
        "y = np.array([1, 3, 5])\n",
        "\n",
        "dist = np.linalg.norm(x-y)\n",
        "dist"
      ],
      "execution_count": 3,
      "outputs": [
        {
          "output_type": "execute_result",
          "data": {
            "text/plain": [
              "2.23606797749979"
            ]
          },
          "metadata": {
            "tags": []
          },
          "execution_count": 3
        }
      ]
    },
    {
      "cell_type": "markdown",
      "metadata": {
        "id": "rJx_PxNUmyDT"
      },
      "source": [
        "# K-Means Clustering\n",
        "\n",
        "![K-means Clustering](https://upload.wikimedia.org/wikipedia/commons/thumb/e/ea/K-means_convergence.gif/440px-K-means_convergence.gif)"
      ]
    },
    {
      "cell_type": "markdown",
      "metadata": {
        "id": "OGSeEtls_QXU"
      },
      "source": [
        "## 과정 :\n",
        "\n",
        "n-차원의 데이터에 대해서 :\n",
        "\n",
        "1) k 개의 랜덤한 데이터를 cluster의 중심점으로 설정\n",
        "\n",
        "2) 해당 cluster에 근접해 있는 데이터를 cluster로 할당\n",
        "\n",
        "3) 변경된 cluster에 대해서 중심점을 새로 계산 \n",
        "\n",
        "cluster에 유의미한 변화가 없을 때 까지 2-3을 반복"
      ]
    },
    {
      "cell_type": "markdown",
      "metadata": {
        "id": "JnwzM7vnoIDx"
      },
      "source": [
        "## Tutorial"
      ]
    },
    {
      "cell_type": "code",
      "metadata": {
        "id": "Lt03ADtDByNX",
        "colab": {
          "base_uri": "https://localhost:8080/",
          "height": 279
        },
        "outputId": "831e4063-b5a8-4c00-b82c-9ea6a2eb1c70"
      },
      "source": [
        "import pandas as pd\n",
        "import matplotlib.pyplot as plt\n",
        "from sklearn.datasets import make_blobs\n",
        "\n",
        "x, y = make_blobs(n_samples = 100, centers = 3, n_features = 2)\n",
        "df = pd.DataFrame(dict(x = x[:, 0], y = x[:, 1], label = y))\n",
        "\n",
        "colors = {0 : '#eb4d4b', 1 : '#4834d4', 2 : '#6ab04c'}\n",
        "fig, ax = plt.subplots()\n",
        "grouped = df.groupby('label')\n",
        "for key, group in grouped:\n",
        "    group.plot(ax = ax, kind = 'scatter', x = 'x', y = 'y', label = key, color = colors[key])\n",
        "plt.show()                  "
      ],
      "execution_count": 4,
      "outputs": [
        {
          "output_type": "display_data",
          "data": {
            "image/png": "[encoded data removed]",
            "text/plain": [
              "<Figure size 432x288 with 1 Axes>"
            ]
          },
          "metadata": {
            "tags": [],
            "needs_background": "light"
          }
        }
      ]
    },
    {
      "cell_type": "code",
      "metadata": {
        "colab": {
          "base_uri": "https://localhost:8080/",
          "height": 204
        },
        "id": "0X5l3UeGeJqX",
        "outputId": "21503b68-97aa-4c23-d482-f9da336ca84b"
      },
      "source": [
        "df.head()"
      ],
      "execution_count": 5,
      "outputs": [
        {
          "output_type": "execute_result",
          "data": {
            "text/html": [
              "<div>\n",
              "<style scoped>\n",
              "    .dataframe tbody tr th:only-of-type {\n",
              "        vertical-align: middle;\n",
              "    }\n",
              "\n",
              "    .dataframe tbody tr th {\n",
              "        vertical-align: top;\n",
              "    }\n",
              "\n",
              "    .dataframe thead th {\n",
              "        text-align: right;\n",
              "    }\n",
              "</style>\n",
              "<table border=\"1\" class=\"dataframe\">\n",
              "  <thead>\n",
              "    <tr style=\"text-align: right;\">\n",
              "      <th></th>\n",
              "      <th>x</th>\n",
              "      <th>y</th>\n",
              "      <th>label</th>\n",
              "    </tr>\n",
              "  </thead>\n",
              "  <tbody>\n",
              "    <tr>\n",
              "      <th>0</th>\n",
              "      <td>5.007845</td>\n",
              "      <td>-6.859295</td>\n",
              "      <td>0</td>\n",
              "    </tr>\n",
              "    <tr>\n",
              "      <th>1</th>\n",
              "      <td>1.366265</td>\n",
              "      <td>1.678980</td>\n",
              "      <td>1</td>\n",
              "    </tr>\n",
              "    <tr>\n",
              "      <th>2</th>\n",
              "      <td>-9.528970</td>\n",
              "      <td>-4.456250</td>\n",
              "      <td>2</td>\n",
              "    </tr>\n",
              "    <tr>\n",
              "      <th>3</th>\n",
              "      <td>1.402040</td>\n",
              "      <td>-0.057891</td>\n",
              "      <td>1</td>\n",
              "    </tr>\n",
              "    <tr>\n",
              "      <th>4</th>\n",
              "      <td>2.829721</td>\n",
              "      <td>-1.105872</td>\n",
              "      <td>1</td>\n",
              "    </tr>\n",
              "  </tbody>\n",
              "</table>\n",
              "</div>"
            ],
            "text/plain": [
              "          x         y  label\n",
              "0  5.007845 -6.859295      0\n",
              "1  1.366265  1.678980      1\n",
              "2 -9.528970 -4.456250      2\n",
              "3  1.402040 -0.057891      1\n",
              "4  2.829721 -1.105872      1"
            ]
          },
          "metadata": {
            "tags": []
          },
          "execution_count": 5
        }
      ]
    },
    {
      "cell_type": "code",
      "metadata": {
        "id": "jK624RjW-qGk",
        "colab": {
          "base_uri": "https://localhost:8080/",
          "height": 204
        },
        "outputId": "dfb60000-55a5-4940-a363-dc93da659a4b"
      },
      "source": [
        "points = df.drop('label', axis = 1) # label 삭제 \n",
        "points.head()"
      ],
      "execution_count": 6,
      "outputs": [
        {
          "output_type": "execute_result",
          "data": {
            "text/html": [
              "<div>\n",
              "<style scoped>\n",
              "    .dataframe tbody tr th:only-of-type {\n",
              "        vertical-align: middle;\n",
              "    }\n",
              "\n",
              "    .dataframe tbody tr th {\n",
              "        vertical-align: top;\n",
              "    }\n",
              "\n",
              "    .dataframe thead th {\n",
              "        text-align: right;\n",
              "    }\n",
              "</style>\n",
              "<table border=\"1\" class=\"dataframe\">\n",
              "  <thead>\n",
              "    <tr style=\"text-align: right;\">\n",
              "      <th></th>\n",
              "      <th>x</th>\n",
              "      <th>y</th>\n",
              "    </tr>\n",
              "  </thead>\n",
              "  <tbody>\n",
              "    <tr>\n",
              "      <th>0</th>\n",
              "      <td>5.007845</td>\n",
              "      <td>-6.859295</td>\n",
              "    </tr>\n",
              "    <tr>\n",
              "      <th>1</th>\n",
              "      <td>1.366265</td>\n",
              "      <td>1.678980</td>\n",
              "    </tr>\n",
              "    <tr>\n",
              "      <th>2</th>\n",
              "      <td>-9.528970</td>\n",
              "      <td>-4.456250</td>\n",
              "    </tr>\n",
              "    <tr>\n",
              "      <th>3</th>\n",
              "      <td>1.402040</td>\n",
              "      <td>-0.057891</td>\n",
              "    </tr>\n",
              "    <tr>\n",
              "      <th>4</th>\n",
              "      <td>2.829721</td>\n",
              "      <td>-1.105872</td>\n",
              "    </tr>\n",
              "  </tbody>\n",
              "</table>\n",
              "</div>"
            ],
            "text/plain": [
              "          x         y\n",
              "0  5.007845 -6.859295\n",
              "1  1.366265  1.678980\n",
              "2 -9.528970 -4.456250\n",
              "3  1.402040 -0.057891\n",
              "4  2.829721 -1.105872"
            ]
          },
          "metadata": {
            "tags": []
          },
          "execution_count": 6
        }
      ]
    },
    {
      "cell_type": "code",
      "metadata": {
        "id": "Ro4aO_mPoP1v",
        "colab": {
          "base_uri": "https://localhost:8080/",
          "height": 265
        },
        "outputId": "6055968a-69c0-4ac7-8c9b-72ecd54f9d65"
      },
      "source": [
        "plt.scatter(points.x, points.y)\n",
        "plt.show()"
      ],
      "execution_count": 7,
      "outputs": [
        {
          "output_type": "display_data",
          "data": {
            "image/png": "[encoded data removed]",
            "text/plain": [
              "<Figure size 432x288 with 1 Axes>"
            ]
          },
          "metadata": {
            "tags": [],
            "needs_background": "light"
          }
        }
      ]
    },
    {
      "cell_type": "markdown",
      "metadata": {
        "id": "WzETDJC2FNDK"
      },
      "source": [
        "## 중심점 (Centroid) 계산\n",
        "\n",
        "K-means 는 centroid-based clustering 알고리즘으로도 불립니다. \n",
        "\n",
        "Centroid란, 주어진 cluster 내부에 있는 모든 점들의 중심부분에 위치한 (가상의) 점입니다. "
      ]
    },
    {
      "cell_type": "code",
      "metadata": {
        "id": "xLZyrzOE_CnM",
        "colab": {
          "base_uri": "https://localhost:8080/"
        },
        "outputId": "96dc574d-042c-4ea9-e889-3532008b9264"
      },
      "source": [
        "dataset_centroid_x = points.x.mean()\n",
        "dataset_centroid_y = points.y.mean()\n",
        "\n",
        "print(dataset_centroid_x, dataset_centroid_y)"
      ],
      "execution_count": 8,
      "outputs": [
        {
          "output_type": "stream",
          "text": [
            "-0.5316497686409459 -3.8350266662423365\n"
          ],
          "name": "stdout"
        }
      ]
    },
    {
      "cell_type": "code",
      "metadata": {
        "id": "8OgBWw0c_cVq",
        "colab": {
          "base_uri": "https://localhost:8080/",
          "height": 265
        },
        "outputId": "82732a5b-dff8-482b-e014-5866241376fc"
      },
      "source": [
        "ax.plot(points.x, points.y)\n",
        "ax = plt.subplot(1,1,1)\n",
        "ax.scatter(points.x, points.y)\n",
        "ax.plot(dataset_centroid_x, dataset_centroid_y, \"or\")\n",
        "plt.show()"
      ],
      "execution_count": 9,
      "outputs": [
        {
          "output_type": "display_data",
          "data": {
            "image/png": "[encoded data removed]",
            "text/plain": [
              "<Figure size 432x288 with 1 Axes>"
            ]
          },
          "metadata": {
            "tags": [],
            "needs_background": "light"
          }
        }
      ]
    },
    {
      "cell_type": "markdown",
      "metadata": {
        "id": "gR5sjoKhm5VS"
      },
      "source": [
        "## 랜덤한 포인트를 가상 cluster의 centroid로 지정\n"
      ]
    },
    {
      "cell_type": "code",
      "metadata": {
        "id": "OvuDTEOM_4Ch",
        "colab": {
          "base_uri": "https://localhost:8080/",
          "height": 142
        },
        "outputId": "be8cc9b3-1730-4fe6-c5ff-66861da82b7a"
      },
      "source": [
        "centroids = points.sample(3) # k-means with 3 cluster\n",
        "centroids"
      ],
      "execution_count": 10,
      "outputs": [
        {
          "output_type": "execute_result",
          "data": {
            "text/html": [
              "<div>\n",
              "<style scoped>\n",
              "    .dataframe tbody tr th:only-of-type {\n",
              "        vertical-align: middle;\n",
              "    }\n",
              "\n",
              "    .dataframe tbody tr th {\n",
              "        vertical-align: top;\n",
              "    }\n",
              "\n",
              "    .dataframe thead th {\n",
              "        text-align: right;\n",
              "    }\n",
              "</style>\n",
              "<table border=\"1\" class=\"dataframe\">\n",
              "  <thead>\n",
              "    <tr style=\"text-align: right;\">\n",
              "      <th></th>\n",
              "      <th>x</th>\n",
              "      <th>y</th>\n",
              "    </tr>\n",
              "  </thead>\n",
              "  <tbody>\n",
              "    <tr>\n",
              "      <th>49</th>\n",
              "      <td>-9.515295</td>\n",
              "      <td>-4.850037</td>\n",
              "    </tr>\n",
              "    <tr>\n",
              "      <th>18</th>\n",
              "      <td>1.565384</td>\n",
              "      <td>1.241431</td>\n",
              "    </tr>\n",
              "    <tr>\n",
              "      <th>65</th>\n",
              "      <td>2.225042</td>\n",
              "      <td>-0.368973</td>\n",
              "    </tr>\n",
              "  </tbody>\n",
              "</table>\n",
              "</div>"
            ],
            "text/plain": [
              "           x         y\n",
              "49 -9.515295 -4.850037\n",
              "18  1.565384  1.241431\n",
              "65  2.225042 -0.368973"
            ]
          },
          "metadata": {
            "tags": []
          },
          "execution_count": 10
        }
      ]
    },
    {
      "cell_type": "markdown",
      "metadata": {
        "id": "9Pw7xVK9nprq"
      },
      "source": [
        "## 그래프에 표기 "
      ]
    },
    {
      "cell_type": "code",
      "metadata": {
        "id": "eXz0-YRuAGIQ",
        "colab": {
          "base_uri": "https://localhost:8080/",
          "height": 265
        },
        "outputId": "cbbf600e-bbc8-4bf3-e058-031fdb7e0e43"
      },
      "source": [
        "ax = plt.subplot(1,1,1)\n",
        "ax.scatter(points.x, points.y)\n",
        "ax.plot(centroids.iloc[0].x, centroids.iloc[0].y, \"or\")\n",
        "ax.plot(centroids.iloc[1].x, centroids.iloc[1].y, \"oc\")\n",
        "ax.plot(centroids.iloc[2].x, centroids.iloc[2].y, \"oy\")\n",
        "plt.show()"
      ],
      "execution_count": 11,
      "outputs": [
        {
          "output_type": "display_data",
          "data": {
            "image/png": "[encoded data removed]",
            "text/plain": [
              "<Figure size 432x288 with 1 Axes>"
            ]
          },
          "metadata": {
            "tags": [],
            "needs_background": "light"
          }
        }
      ]
    },
    {
      "cell_type": "code",
      "metadata": {
        "id": "-nbwx8_pA3DU"
      },
      "source": [
        "import math\n",
        "import numpy as np\n",
        "from scipy.spatial import distance\n",
        "\n",
        "def find_nearest_centroid(df, centroids, iteration):\n",
        " \n",
        "  # 포인트와 centroid 간의 거리 계산\n",
        "  distances = distance.cdist(df, centroids, 'euclidean')\n",
        "  \n",
        "  # 제일 근접한 centroid 선택\n",
        "  nearest_centroids = np.argmin(distances, axis = 1)\n",
        "    \n",
        "  # cluster 할당\n",
        "  se = pd.Series(nearest_centroids)\n",
        "  df['cluster_' + iteration] = se.values\n",
        "  \n",
        "  return df"
      ],
      "execution_count": 12,
      "outputs": []
    },
    {
      "cell_type": "code",
      "metadata": {
        "id": "ACmU-SzWoJ6-",
        "colab": {
          "base_uri": "https://localhost:8080/",
          "height": 204
        },
        "outputId": "0d9c0e07-fd94-4aac-a19e-8cba652af99d"
      },
      "source": [
        "first_pass = find_nearest_centroid(points.select_dtypes(exclude='int64'), centroids, '1')\n",
        "first_pass.head()"
      ],
      "execution_count": 13,
      "outputs": [
        {
          "output_type": "execute_result",
          "data": {
            "text/html": [
              "<div>\n",
              "<style scoped>\n",
              "    .dataframe tbody tr th:only-of-type {\n",
              "        vertical-align: middle;\n",
              "    }\n",
              "\n",
              "    .dataframe tbody tr th {\n",
              "        vertical-align: top;\n",
              "    }\n",
              "\n",
              "    .dataframe thead th {\n",
              "        text-align: right;\n",
              "    }\n",
              "</style>\n",
              "<table border=\"1\" class=\"dataframe\">\n",
              "  <thead>\n",
              "    <tr style=\"text-align: right;\">\n",
              "      <th></th>\n",
              "      <th>x</th>\n",
              "      <th>y</th>\n",
              "      <th>cluster_1</th>\n",
              "    </tr>\n",
              "  </thead>\n",
              "  <tbody>\n",
              "    <tr>\n",
              "      <th>0</th>\n",
              "      <td>5.007845</td>\n",
              "      <td>-6.859295</td>\n",
              "      <td>2</td>\n",
              "    </tr>\n",
              "    <tr>\n",
              "      <th>1</th>\n",
              "      <td>1.366265</td>\n",
              "      <td>1.678980</td>\n",
              "      <td>1</td>\n",
              "    </tr>\n",
              "    <tr>\n",
              "      <th>2</th>\n",
              "      <td>-9.528970</td>\n",
              "      <td>-4.456250</td>\n",
              "      <td>0</td>\n",
              "    </tr>\n",
              "    <tr>\n",
              "      <th>3</th>\n",
              "      <td>1.402040</td>\n",
              "      <td>-0.057891</td>\n",
              "      <td>2</td>\n",
              "    </tr>\n",
              "    <tr>\n",
              "      <th>4</th>\n",
              "      <td>2.829721</td>\n",
              "      <td>-1.105872</td>\n",
              "      <td>2</td>\n",
              "    </tr>\n",
              "  </tbody>\n",
              "</table>\n",
              "</div>"
            ],
            "text/plain": [
              "          x         y  cluster_1\n",
              "0  5.007845 -6.859295          2\n",
              "1  1.366265  1.678980          1\n",
              "2 -9.528970 -4.456250          0\n",
              "3  1.402040 -0.057891          2\n",
              "4  2.829721 -1.105872          2"
            ]
          },
          "metadata": {
            "tags": []
          },
          "execution_count": 13
        }
      ]
    },
    {
      "cell_type": "code",
      "metadata": {
        "id": "XVZQLvfAFh60",
        "colab": {
          "base_uri": "https://localhost:8080/",
          "height": 279
        },
        "outputId": "63608b2e-da5b-4321-e525-ddd982242746"
      },
      "source": [
        "def plot_clusters(df, column_header, centroids):\n",
        "  colors = {0 : 'red', 1 : 'cyan', 2 : 'yellow'}\n",
        "  fig, ax = plt.subplots()\n",
        "  ax.plot(centroids.iloc[0].x, centroids.iloc[0].y, \"ok\") # 기존 중심점\n",
        "  ax.plot(centroids.iloc[1].x, centroids.iloc[1].y, \"ok\")\n",
        "  ax.plot(centroids.iloc[2].x, centroids.iloc[2].y, \"ok\")\n",
        "  grouped = df.groupby(column_header)\n",
        "  for key, group in grouped:\n",
        "      group.plot(ax = ax, kind = 'scatter', x = 'x', y = 'y', label = key, color = colors[key])\n",
        "  plt.show()\n",
        "  \n",
        "plot_clusters(first_pass, 'cluster_1', centroids)"
      ],
      "execution_count": 14,
      "outputs": [
        {
          "output_type": "display_data",
          "data": {
            "image/png": "[encoded data removed]",
            "text/plain": [
              "<Figure size 432x288 with 1 Axes>"
            ]
          },
          "metadata": {
            "tags": [],
            "needs_background": "light"
          }
        }
      ]
    },
    {
      "cell_type": "code",
      "metadata": {
        "id": "I_6cOfkeFwWO",
        "colab": {
          "base_uri": "https://localhost:8080/",
          "height": 173
        },
        "outputId": "49b52cb0-b7cf-412a-fd01-6eed3be5a02a"
      },
      "source": [
        "def get_centroids(df, column_header):\n",
        "  new_centroids = df.groupby(column_header).mean()\n",
        "  return new_centroids\n",
        "\n",
        "centroids = get_centroids(first_pass, 'cluster_1')\n",
        "centroids"
      ],
      "execution_count": 15,
      "outputs": [
        {
          "output_type": "execute_result",
          "data": {
            "text/html": [
              "<div>\n",
              "<style scoped>\n",
              "    .dataframe tbody tr th:only-of-type {\n",
              "        vertical-align: middle;\n",
              "    }\n",
              "\n",
              "    .dataframe tbody tr th {\n",
              "        vertical-align: top;\n",
              "    }\n",
              "\n",
              "    .dataframe thead th {\n",
              "        text-align: right;\n",
              "    }\n",
              "</style>\n",
              "<table border=\"1\" class=\"dataframe\">\n",
              "  <thead>\n",
              "    <tr style=\"text-align: right;\">\n",
              "      <th></th>\n",
              "      <th>x</th>\n",
              "      <th>y</th>\n",
              "    </tr>\n",
              "    <tr>\n",
              "      <th>cluster_1</th>\n",
              "      <th></th>\n",
              "      <th></th>\n",
              "    </tr>\n",
              "  </thead>\n",
              "  <tbody>\n",
              "    <tr>\n",
              "      <th>0</th>\n",
              "      <td>-9.713331</td>\n",
              "      <td>-4.003915</td>\n",
              "    </tr>\n",
              "    <tr>\n",
              "      <th>1</th>\n",
              "      <td>1.312294</td>\n",
              "      <td>1.273753</td>\n",
              "    </tr>\n",
              "    <tr>\n",
              "      <th>2</th>\n",
              "      <td>5.130405</td>\n",
              "      <td>-5.890394</td>\n",
              "    </tr>\n",
              "  </tbody>\n",
              "</table>\n",
              "</div>"
            ],
            "text/plain": [
              "                  x         y\n",
              "cluster_1                    \n",
              "0         -9.713331 -4.003915\n",
              "1          1.312294  1.273753\n",
              "2          5.130405 -5.890394"
            ]
          },
          "metadata": {
            "tags": []
          },
          "execution_count": 15
        }
      ]
    },
    {
      "cell_type": "code",
      "metadata": {
        "id": "qyZLdP_nHKBa",
        "colab": {
          "base_uri": "https://localhost:8080/",
          "height": 279
        },
        "outputId": "27101eb0-7dad-4822-b21b-87e7ed34376e"
      },
      "source": [
        "# 변경된 cluster에 대해 centroid 계산\n",
        "centroids = get_centroids(first_pass, 'cluster_1')\n",
        "\n",
        "second_pass = find_nearest_centroid(first_pass.select_dtypes(exclude='int64'), centroids, '2')\n",
        "\n",
        "plot_clusters(second_pass, 'cluster_2', centroids)"
      ],
      "execution_count": 16,
      "outputs": [
        {
          "output_type": "display_data",
          "data": {
            "image/png": "[encoded data removed]",
            "text/plain": [
              "<Figure size 432x288 with 1 Axes>"
            ]
          },
          "metadata": {
            "tags": [],
            "needs_background": "light"
          }
        }
      ]
    },
    {
      "cell_type": "code",
      "metadata": {
        "id": "kBueXP01G8tE",
        "colab": {
          "base_uri": "https://localhost:8080/",
          "height": 279
        },
        "outputId": "5b1f164c-c9ee-460b-fe5a-24694c4bd9f3"
      },
      "source": [
        "centroids = get_centroids(second_pass, 'cluster_2')\n",
        "\n",
        "third_pass = find_nearest_centroid(second_pass.select_dtypes(exclude='int64'), centroids, '3')\n",
        "\n",
        "plot_clusters(third_pass, 'cluster_3', centroids)"
      ],
      "execution_count": 17,
      "outputs": [
        {
          "output_type": "display_data",
          "data": {
            "image/png": "[encoded data removed]",
            "text/plain": [
              "<Figure size 432x288 with 1 Axes>"
            ]
          },
          "metadata": {
            "tags": [],
            "needs_background": "light"
          }
        }
      ]
    },
    {
      "cell_type": "code",
      "metadata": {
        "id": "8u6KiGdvpD-e",
        "colab": {
          "base_uri": "https://localhost:8080/",
          "height": 279
        },
        "outputId": "352753eb-a9fc-47dd-b419-b684ace2fc0c"
      },
      "source": [
        "centroids = get_centroids(third_pass, 'cluster_3')\n",
        "\n",
        "fourth_pass = find_nearest_centroid(third_pass.select_dtypes(exclude='int64'), centroids, '4')\n",
        "\n",
        "plot_clusters(fourth_pass, 'cluster_4', centroids)"
      ],
      "execution_count": 18,
      "outputs": [
        {
          "output_type": "display_data",
          "data": {
            "image/png": "[encoded data removed]",
            "text/plain": [
              "<Figure size 432x288 with 1 Axes>"
            ]
          },
          "metadata": {
            "tags": [],
            "needs_background": "light"
          }
        }
      ]
    },
    {
      "cell_type": "code",
      "metadata": {
        "id": "jaTbGpAcpPSf",
        "colab": {
          "base_uri": "https://localhost:8080/",
          "height": 279
        },
        "outputId": "cff9a93a-de3b-4a82-f58c-815f77d8c8ad"
      },
      "source": [
        "centroids = get_centroids(fourth_pass, 'cluster_4')\n",
        "\n",
        "fifth_pass = find_nearest_centroid(fourth_pass.select_dtypes(exclude='int64'), centroids, '5')\n",
        "\n",
        "plot_clusters(fifth_pass, 'cluster_5', centroids)"
      ],
      "execution_count": 19,
      "outputs": [
        {
          "output_type": "display_data",
          "data": {
            "image/png": "[encoded data removed]",
            "text/plain": [
              "<Figure size 432x288 with 1 Axes>"
            ]
          },
          "metadata": {
            "tags": [],
            "needs_background": "light"
          }
        }
      ]
    },
    {
      "cell_type": "code",
      "metadata": {
        "id": "gXpje6GWpbYS",
        "colab": {
          "base_uri": "https://localhost:8080/",
          "height": 279
        },
        "outputId": "6abf2604-9825-4c90-e29a-6abed84952be"
      },
      "source": [
        "centroids = get_centroids(fifth_pass, 'cluster_5')\n",
        "\n",
        "sixth_pass = find_nearest_centroid(fifth_pass.select_dtypes(exclude='int64'), centroids, '6')\n",
        "\n",
        "plot_clusters(sixth_pass, 'cluster_6', centroids)"
      ],
      "execution_count": 20,
      "outputs": [
        {
          "output_type": "display_data",
          "data": {
            "image/png": "[encoded data removed]",
            "text/plain": [
              "<Figure size 432x288 with 1 Axes>"
            ]
          },
          "metadata": {
            "tags": [],
            "needs_background": "light"
          }
        }
      ]
    },
    {
      "cell_type": "code",
      "metadata": {
        "id": "nKo9xSypJvPd",
        "colab": {
          "base_uri": "https://localhost:8080/"
        },
        "outputId": "bfe1f985-0980-4b8f-ef09-5b5df7aee268"
      },
      "source": [
        "# 유의미한 차이가 없을 때 까지 반복, 이번 경우에는 전체 cluster에 변화가 없는 것을 기준으로 하겠습니다.\n",
        "convergence = np.array_equal(fifth_pass['cluster_5'], sixth_pass['cluster_6'])\n",
        "convergence"
      ],
      "execution_count": 21,
      "outputs": [
        {
          "output_type": "execute_result",
          "data": {
            "text/plain": [
              "True"
            ]
          },
          "metadata": {
            "tags": []
          },
          "execution_count": 21
        }
      ]
    },
    {
      "cell_type": "markdown",
      "metadata": {
        "id": "1-nJ_i-NQZIM"
      },
      "source": [
        "## K-means에서 K를 결정하는 방법\n",
        "\n",
        "- **The Eyeball Method** :사람의 주관적인 판단을 통해서  임의로 지정하는 방법입니다. \n",
        "\n",
        "- **Metrics** : 객관적인 지표를 설정하여, 최적화된 k를 선택하는 방법입니다.\n",
        "\n"
      ]
    },
    {
      "cell_type": "markdown",
      "metadata": {
        "id": "TGueCso5SFXN"
      },
      "source": [
        "## K-means with Scikit-learn \n",
        "\n",
        "\n",
        "\n"
      ]
    },
    {
      "cell_type": "code",
      "metadata": {
        "id": "VmyHklDKSI_m",
        "colab": {
          "base_uri": "https://localhost:8080/"
        },
        "outputId": "2982f16c-4fdd-4d6b-db21-78501c1ddd96"
      },
      "source": [
        "from sklearn.cluster import KMeans \n",
        "kmeans = KMeans(n_clusters = 3)\n",
        "kmeans.fit(x)\n",
        "labels = kmeans.labels_\n",
        "\n",
        "print(labels)"
      ],
      "execution_count": 22,
      "outputs": [
        {
          "output_type": "stream",
          "text": [
            "[1 2 0 2 2 2 1 0 1 1 0 2 0 0 1 0 0 1 2 1 0 1 2 1 2 2 0 2 1 0 1 1 1 2 0 0 2\n",
            " 2 1 2 0 2 0 2 2 1 0 0 0 0 2 2 1 2 2 2 1 2 2 1 2 1 0 2 0 2 0 2 2 2 1 1 0 1\n",
            " 1 0 1 0 1 1 1 1 2 1 0 0 0 0 2 1 0 1 2 1 0 0 1 1 0 0]\n"
          ],
          "name": "stdout"
        }
      ]
    },
    {
      "cell_type": "code",
      "metadata": {
        "id": "5Gj9sXFDWtLo",
        "colab": {
          "base_uri": "https://localhost:8080/",
          "height": 204
        },
        "outputId": "24c9b01f-fe13-4187-807d-ad5ac92bee77"
      },
      "source": [
        "new_series = pd.Series(labels)\n",
        "df['clusters'] = new_series.values\n",
        "df.head()"
      ],
      "execution_count": 23,
      "outputs": [
        {
          "output_type": "execute_result",
          "data": {
            "text/html": [
              "<div>\n",
              "<style scoped>\n",
              "    .dataframe tbody tr th:only-of-type {\n",
              "        vertical-align: middle;\n",
              "    }\n",
              "\n",
              "    .dataframe tbody tr th {\n",
              "        vertical-align: top;\n",
              "    }\n",
              "\n",
              "    .dataframe thead th {\n",
              "        text-align: right;\n",
              "    }\n",
              "</style>\n",
              "<table border=\"1\" class=\"dataframe\">\n",
              "  <thead>\n",
              "    <tr style=\"text-align: right;\">\n",
              "      <th></th>\n",
              "      <th>x</th>\n",
              "      <th>y</th>\n",
              "      <th>label</th>\n",
              "      <th>clusters</th>\n",
              "    </tr>\n",
              "  </thead>\n",
              "  <tbody>\n",
              "    <tr>\n",
              "      <th>0</th>\n",
              "      <td>5.007845</td>\n",
              "      <td>-6.859295</td>\n",
              "      <td>0</td>\n",
              "      <td>1</td>\n",
              "    </tr>\n",
              "    <tr>\n",
              "      <th>1</th>\n",
              "      <td>1.366265</td>\n",
              "      <td>1.678980</td>\n",
              "      <td>1</td>\n",
              "      <td>2</td>\n",
              "    </tr>\n",
              "    <tr>\n",
              "      <th>2</th>\n",
              "      <td>-9.528970</td>\n",
              "      <td>-4.456250</td>\n",
              "      <td>2</td>\n",
              "      <td>0</td>\n",
              "    </tr>\n",
              "    <tr>\n",
              "      <th>3</th>\n",
              "      <td>1.402040</td>\n",
              "      <td>-0.057891</td>\n",
              "      <td>1</td>\n",
              "      <td>2</td>\n",
              "    </tr>\n",
              "    <tr>\n",
              "      <th>4</th>\n",
              "      <td>2.829721</td>\n",
              "      <td>-1.105872</td>\n",
              "      <td>1</td>\n",
              "      <td>2</td>\n",
              "    </tr>\n",
              "  </tbody>\n",
              "</table>\n",
              "</div>"
            ],
            "text/plain": [
              "          x         y  label  clusters\n",
              "0  5.007845 -6.859295      0         1\n",
              "1  1.366265  1.678980      1         2\n",
              "2 -9.528970 -4.456250      2         0\n",
              "3  1.402040 -0.057891      1         2\n",
              "4  2.829721 -1.105872      1         2"
            ]
          },
          "metadata": {
            "tags": []
          },
          "execution_count": 23
        }
      ]
    },
    {
      "cell_type": "code",
      "metadata": {
        "id": "on8qYidhXaA3",
        "colab": {
          "base_uri": "https://localhost:8080/",
          "height": 279
        },
        "outputId": "8893f5ce-bc3c-4c86-c3ba-e8e86df7400f"
      },
      "source": [
        "centroids = get_centroids(df, 'clusters')\n",
        "plot_clusters(df, 'clusters', centroids)"
      ],
      "execution_count": 24,
      "outputs": [
        {
          "output_type": "display_data",
          "data": {
            "image/png": "[encoded data removed]",
            "text/plain": [
              "<Figure size 432x288 with 1 Axes>"
            ]
          },
          "metadata": {
            "tags": [],
            "needs_background": "light"
          }
        }
      ]
    },
    {
      "cell_type": "markdown",
      "metadata": {
        "id": "WF5d6AP_VT4c"
      },
      "source": [
        "## Elbow methods\n"
      ]
    },
    {
      "cell_type": "code",
      "metadata": {
        "id": "RXflkYwTL8WT"
      },
      "source": [
        "sum_of_squared_distances = []\n",
        "K = range(1, 15)\n",
        "for k in K:\n",
        "    km = KMeans(n_clusters = k)\n",
        "    km = km.fit(points)\n",
        "    sum_of_squared_distances.append(km.inertia_)"
      ],
      "execution_count": 25,
      "outputs": []
    },
    {
      "cell_type": "code",
      "metadata": {
        "id": "CxrwEX4VL-u5",
        "colab": {
          "base_uri": "https://localhost:8080/",
          "height": 295
        },
        "outputId": "5a683131-cc56-4974-afae-61d2ec0ea8f5"
      },
      "source": [
        "plt.plot(K, sum_of_squared_distances, 'bx-')\n",
        "plt.xlabel('k')\n",
        "plt.ylabel('Sum_of_squared_distances')\n",
        "plt.title('Elbow Method For Optimal k')\n",
        "plt.show()"
      ],
      "execution_count": 26,
      "outputs": [
        {
          "output_type": "display_data",
          "data": {
            "image/png": "[encoded data removed]",
            "text/plain": [
              "<Figure size 432x288 with 1 Axes>"
            ]
          },
          "metadata": {
            "tags": [],
            "needs_background": "light"
          }
        }
      ]
    },
    {
      "cell_type": "markdown",
      "metadata": {
        "id": "DhMkzbIFX96q"
      },
      "source": [
        "## Initial Centoid state\n",
        "\n",
        "k-means는 centroid를 어떻게 선택하느냐에 따라서, clustering의 결과가 안 좋거나 끝없이 반복해야 하는 경우도 있습니다.\n",
        "\n",
        "## Time complexity\n",
        "\n",
        "<img src='https://www.researchgate.net/profile/Jie_Yang224/publication/337590055/figure/tbl10/AS:830050941272075@1574910974902/Comparison-of-time-complexity-of-different-clustering-algorithms.png' width = 500>\n"
      ]
    },
    {
      "cell_type": "markdown",
      "metadata": {
        "id": "QEEQapU2uRIx"
      },
      "source": [
        "# 완벽한 알고리즘은 없다.\n",
        "\n",
        "k-means 말고도 상당히 많은 clustering 알고리즘들이 있으며 \n",
        "\n",
        "각자 `풀고자 하는 문제`에 대해서 최적화되어있습니다. \n",
        "\n",
        "그러나, 최적화된 문제를 제외한 다른부분에는 장점을 보이지 못한다는 단점도 있습니다. \n",
        "\n"
      ]
    },
    {
      "cell_type": "markdown",
      "metadata": {
        "id": "1dHllQTXg7WW"
      },
      "source": [
        "## 이게 어떤 의미를 갖나요?\n",
        "\n",
        "1) 문제 해결을 위해서 여러 방법이 있지만 항상 각각의 장단점이 있습니다. 그렇기 때문에 더 많은 방법들을 시도해보고 알고 있을 수록 더 다양한 문제에 대한 답을 줄 수 있다는 의미를 가지며 이것은 여러분이 앞으로도 계속 **연구**를 해야 하는 이유입니다.\n",
        "\n",
        "2) 한가지 더, 다양한 방법들을 선택하는 최선의 기준은 데이터의 특성일 것입니다. 즉 데이터에 대한 이해가 없다면, 아무리 좋은 방법이 있다고 해도 사용을 할 수 없기 때문에 이것이 **도메인에 대한 지식이 필요한 이유**입니다.\n",
        "\n",
        "<img src='https://cdn-images-1.medium.com/max/1600/1*oNt9G9UpVhtyFLDBwEMf8Q.png' width = 500>"
      ]
    }
  ]
}