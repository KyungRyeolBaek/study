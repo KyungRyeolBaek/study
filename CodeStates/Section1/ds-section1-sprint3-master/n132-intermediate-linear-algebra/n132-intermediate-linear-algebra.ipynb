{
  "nbformat": 4,
  "nbformat_minor": 0,
  "metadata": {
    "colab": {
      "name": "n132-intermediate-linear-algebra.ipynb",
      "provenance": [],
      "authorship_tag": "ABX9TyMOlllT0Eak8dFRgEFQuwGO"
    },
    "kernelspec": {
      "name": "python3",
      "display_name": "Python 3"
    }
  },
  "cells": [
    {
      "cell_type": "markdown",
      "metadata": {
        "id": "5QG7znERi8TQ"
      },
      "source": [
        "<img src='https://i.imgur.com/RDAD11M.png' width = '200' align = 'right'>\n",
        "\n",
        "## *DATA SCIENCE / SECTION 1 / SPRINT 3 / NOTE 2*\n",
        "\n",
        "---\n",
        "\n",
        "# 선형대수 2\n",
        "\n",
        "## 🏆 학습 목표 \n",
        "\n",
        "- 공분산, 상관계수의 목적과 사용 예시, 차이점을 설명 할 수 있다.\n",
        "- 벡터의 직교와 그 조건에 대해서 설명 할 수 있다.\n",
        "- 단위 벡터와, 단위 벡터로의 구분을 설명 할 수 있다.\n",
        "- span, basis, rank의 내용을 이해 할 수 있다.\n",
        "- Gaussian elemination의 내용을 이해 할 수 있다.\n",
        "- linear projection과 예시를 설명 할 수 있다.\n",
        "\n",
        "---"
      ]
    },
    {
      "cell_type": "markdown",
      "metadata": {
        "id": "1eF6horugVIl"
      },
      "source": [
        "# Variance\n",
        "\n",
        "분산은, 데이터가 **얼마나 퍼져있는지**를 측정하는 방법입니다. \n",
        "\n",
        "이는 각 값들의 평균으로부터 차이의 제곱 평균입니다. \n",
        "\n",
        "즉, 분산을 구하기 위해서는 일반적으로 평균을 먼저 계산하여야 합니다."
      ]
    },
    {
      "cell_type": "code",
      "metadata": {
        "id": "syFvOD-sfbFK",
        "colab": {
          "base_uri": "https://localhost:8080/",
          "height": 204
        },
        "outputId": "10573cde-4cc7-48d3-e74a-c3b7ad9a8071"
      },
      "source": [
        "import pandas as pd\n",
        "import numpy as np\n",
        "import matplotlib.pyplot as plt\n",
        "import random\n",
        "\n",
        "# 랜덤한 50개의 정수를 포함하는 2 변수 설정.\n",
        "variance_one = []\n",
        "variance_two = []\n",
        "for x in range(50):\n",
        "  variance_one.append(random.randint(25,75))\n",
        "  variance_two.append(random.randint(0,100))\n",
        "  \n",
        "variance_data = {'v1': variance_one, 'v2': variance_two}\n",
        "\n",
        "variance_df = pd.DataFrame(variance_data)\n",
        "variance_df['zeros'] = pd.Series(list(np.zeros(50)))\n",
        "\n",
        "variance_df.head()"
      ],
      "execution_count": null,
      "outputs": [
        {
          "output_type": "execute_result",
          "data": {
            "text/html": [
              "<div>\n",
              "<style scoped>\n",
              "    .dataframe tbody tr th:only-of-type {\n",
              "        vertical-align: middle;\n",
              "    }\n",
              "\n",
              "    .dataframe tbody tr th {\n",
              "        vertical-align: top;\n",
              "    }\n",
              "\n",
              "    .dataframe thead th {\n",
              "        text-align: right;\n",
              "    }\n",
              "</style>\n",
              "<table border=\"1\" class=\"dataframe\">\n",
              "  <thead>\n",
              "    <tr style=\"text-align: right;\">\n",
              "      <th></th>\n",
              "      <th>v1</th>\n",
              "      <th>v2</th>\n",
              "      <th>zeros</th>\n",
              "    </tr>\n",
              "  </thead>\n",
              "  <tbody>\n",
              "    <tr>\n",
              "      <th>0</th>\n",
              "      <td>52</td>\n",
              "      <td>86</td>\n",
              "      <td>0.0</td>\n",
              "    </tr>\n",
              "    <tr>\n",
              "      <th>1</th>\n",
              "      <td>67</td>\n",
              "      <td>21</td>\n",
              "      <td>0.0</td>\n",
              "    </tr>\n",
              "    <tr>\n",
              "      <th>2</th>\n",
              "      <td>51</td>\n",
              "      <td>46</td>\n",
              "      <td>0.0</td>\n",
              "    </tr>\n",
              "    <tr>\n",
              "      <th>3</th>\n",
              "      <td>54</td>\n",
              "      <td>83</td>\n",
              "      <td>0.0</td>\n",
              "    </tr>\n",
              "    <tr>\n",
              "      <th>4</th>\n",
              "      <td>41</td>\n",
              "      <td>25</td>\n",
              "      <td>0.0</td>\n",
              "    </tr>\n",
              "  </tbody>\n",
              "</table>\n",
              "</div>"
            ],
            "text/plain": [
              "   v1  v2  zeros\n",
              "0  52  86    0.0\n",
              "1  67  21    0.0\n",
              "2  51  46    0.0\n",
              "3  54  83    0.0\n",
              "4  41  25    0.0"
            ]
          },
          "metadata": {
            "tags": []
          },
          "execution_count": 1
        }
      ]
    },
    {
      "cell_type": "code",
      "metadata": {
        "id": "EWVbFiRZgrRI",
        "colab": {
          "base_uri": "https://localhost:8080/",
          "height": 545
        },
        "outputId": "5025df9e-234b-4aed-b8b7-303a20ac586e"
      },
      "source": [
        "# scatter plot\n",
        "\n",
        "plt.scatter(variance_df.v1, variance_df.zeros)\n",
        "plt.xlim(0,100)\n",
        "plt.title(\"Plot 1\")\n",
        "plt.show()\n",
        "\n",
        "plt.scatter(variance_df.v2, variance_df.zeros)\n",
        "plt.xlim(0,100)\n",
        "plt.title(\"Plot 2\")\n",
        "plt.show()"
      ],
      "execution_count": null,
      "outputs": [
        {
          "output_type": "display_data",
          "data": {
            "image/png": "[encoded data removed]",
            "text/plain": [
              "<Figure size 432x288 with 1 Axes>"
            ]
          },
          "metadata": {
            "tags": [],
            "needs_background": "light"
          }
        },
        {
          "output_type": "display_data",
          "data": {
            "image/png": "[encoded data removed]",
            "text/plain": [
              "<Figure size 432x288 with 1 Axes>"
            ]
          },
          "metadata": {
            "tags": [],
            "needs_background": "light"
          }
        }
      ]
    },
    {
      "cell_type": "markdown",
      "metadata": {
        "id": "4zka9GhTguP5"
      },
      "source": [
        "위의 두 데이터에 대해서, 벌어져있는 정도의 차이를 쉽게 확인 할 수 있습니다. \n",
        "\n",
        "그러나 보이는 것 말고 실제 값을 통해서 계산을 해볼까요?\n",
        "\n",
        "$\\overline{X}$ 는 평균, $N$ 은 관측의 수 입니다. (샘플의 수)\n",
        "\n",
        "$v$ 혹은 분산은 일반적으로 소문자 v로 표기되며 필요에 따라 $\\sigma^{2}$로 표기되기도 합니다.\n",
        "\n",
        "\\begin{align}\n",
        "v = \\frac{\\sum{(X_{i} - \\overline{X})^{2}} }{N}\n",
        "\\end{align}\n",
        "\n",
        "평균을 계산하는 방법은, 전부 더한 다음 수로 나누는 것입니다. \n",
        "\n",
        "그러나 이번 계산에서는 평균을 구하는 것이 아니기 때문에, 값만 더하는 것이 아니라 평균과의 차이의 제곱을 더하게 될 것입니다."
      ]
    },
    {
      "cell_type": "code",
      "metadata": {
        "id": "XqNzgMPXgrga",
        "colab": {
          "base_uri": "https://localhost:8080/",
          "height": 238
        },
        "outputId": "b1967d76-9a8e-4e4e-f832-eb2551e88208"
      },
      "source": [
        "# 평균\n",
        "v1_mean = variance_df.v1.mean()\n",
        "print(\"v1 mean: \", v1_mean)\n",
        "v2_mean = variance_df.v2.mean()\n",
        "print(\"v2 mean: \", v2_mean)\n",
        "\n",
        "# 각 데이터로부터 평균까지의 거리\n",
        "\n",
        "variance_df['v1_distance'] = variance_df.v1-v1_mean\n",
        "variance_df['v2_distance'] = variance_df.v2-v2_mean\n",
        "\n",
        "variance_df.head()"
      ],
      "execution_count": null,
      "outputs": [
        {
          "output_type": "stream",
          "text": [
            "v1 mean:  50.06\n",
            "v2 mean:  47.66\n"
          ],
          "name": "stdout"
        },
        {
          "output_type": "execute_result",
          "data": {
            "text/html": [
              "<div>\n",
              "<style scoped>\n",
              "    .dataframe tbody tr th:only-of-type {\n",
              "        vertical-align: middle;\n",
              "    }\n",
              "\n",
              "    .dataframe tbody tr th {\n",
              "        vertical-align: top;\n",
              "    }\n",
              "\n",
              "    .dataframe thead th {\n",
              "        text-align: right;\n",
              "    }\n",
              "</style>\n",
              "<table border=\"1\" class=\"dataframe\">\n",
              "  <thead>\n",
              "    <tr style=\"text-align: right;\">\n",
              "      <th></th>\n",
              "      <th>v1</th>\n",
              "      <th>v2</th>\n",
              "      <th>zeros</th>\n",
              "      <th>v1_distance</th>\n",
              "      <th>v2_distance</th>\n",
              "    </tr>\n",
              "  </thead>\n",
              "  <tbody>\n",
              "    <tr>\n",
              "      <th>0</th>\n",
              "      <td>52</td>\n",
              "      <td>86</td>\n",
              "      <td>0.0</td>\n",
              "      <td>1.94</td>\n",
              "      <td>38.34</td>\n",
              "    </tr>\n",
              "    <tr>\n",
              "      <th>1</th>\n",
              "      <td>67</td>\n",
              "      <td>21</td>\n",
              "      <td>0.0</td>\n",
              "      <td>16.94</td>\n",
              "      <td>-26.66</td>\n",
              "    </tr>\n",
              "    <tr>\n",
              "      <th>2</th>\n",
              "      <td>51</td>\n",
              "      <td>46</td>\n",
              "      <td>0.0</td>\n",
              "      <td>0.94</td>\n",
              "      <td>-1.66</td>\n",
              "    </tr>\n",
              "    <tr>\n",
              "      <th>3</th>\n",
              "      <td>54</td>\n",
              "      <td>83</td>\n",
              "      <td>0.0</td>\n",
              "      <td>3.94</td>\n",
              "      <td>35.34</td>\n",
              "    </tr>\n",
              "    <tr>\n",
              "      <th>4</th>\n",
              "      <td>41</td>\n",
              "      <td>25</td>\n",
              "      <td>0.0</td>\n",
              "      <td>-9.06</td>\n",
              "      <td>-22.66</td>\n",
              "    </tr>\n",
              "  </tbody>\n",
              "</table>\n",
              "</div>"
            ],
            "text/plain": [
              "   v1  v2  zeros  v1_distance  v2_distance\n",
              "0  52  86    0.0         1.94        38.34\n",
              "1  67  21    0.0        16.94       -26.66\n",
              "2  51  46    0.0         0.94        -1.66\n",
              "3  54  83    0.0         3.94        35.34\n",
              "4  41  25    0.0        -9.06       -22.66"
            ]
          },
          "metadata": {
            "tags": []
          },
          "execution_count": 3
        }
      ]
    },
    {
      "cell_type": "code",
      "metadata": {
        "id": "NEWaTv0mg3--",
        "colab": {
          "base_uri": "https://localhost:8080/",
          "height": 204
        },
        "outputId": "03cea842-fd3b-46bc-d82f-72753df4f350"
      },
      "source": [
        "# 제곱 \n",
        "variance_df['v1_squared_distance'] = variance_df.v1_distance**2\n",
        "variance_df['v2_squared_distance'] = variance_df.v2_distance**2\n",
        "\n",
        "# 제곱을 통해서 음수를 양수로 (거리의 크기) 바꿀 수 있습니다.\n",
        "\n",
        "variance_df.head()"
      ],
      "execution_count": null,
      "outputs": [
        {
          "output_type": "execute_result",
          "data": {
            "text/html": [
              "<div>\n",
              "<style scoped>\n",
              "    .dataframe tbody tr th:only-of-type {\n",
              "        vertical-align: middle;\n",
              "    }\n",
              "\n",
              "    .dataframe tbody tr th {\n",
              "        vertical-align: top;\n",
              "    }\n",
              "\n",
              "    .dataframe thead th {\n",
              "        text-align: right;\n",
              "    }\n",
              "</style>\n",
              "<table border=\"1\" class=\"dataframe\">\n",
              "  <thead>\n",
              "    <tr style=\"text-align: right;\">\n",
              "      <th></th>\n",
              "      <th>v1</th>\n",
              "      <th>v2</th>\n",
              "      <th>zeros</th>\n",
              "      <th>v1_distance</th>\n",
              "      <th>v2_distance</th>\n",
              "      <th>v1_squared_distance</th>\n",
              "      <th>v2_squared_distance</th>\n",
              "    </tr>\n",
              "  </thead>\n",
              "  <tbody>\n",
              "    <tr>\n",
              "      <th>0</th>\n",
              "      <td>52</td>\n",
              "      <td>86</td>\n",
              "      <td>0.0</td>\n",
              "      <td>1.94</td>\n",
              "      <td>38.34</td>\n",
              "      <td>3.7636</td>\n",
              "      <td>1469.9556</td>\n",
              "    </tr>\n",
              "    <tr>\n",
              "      <th>1</th>\n",
              "      <td>67</td>\n",
              "      <td>21</td>\n",
              "      <td>0.0</td>\n",
              "      <td>16.94</td>\n",
              "      <td>-26.66</td>\n",
              "      <td>286.9636</td>\n",
              "      <td>710.7556</td>\n",
              "    </tr>\n",
              "    <tr>\n",
              "      <th>2</th>\n",
              "      <td>51</td>\n",
              "      <td>46</td>\n",
              "      <td>0.0</td>\n",
              "      <td>0.94</td>\n",
              "      <td>-1.66</td>\n",
              "      <td>0.8836</td>\n",
              "      <td>2.7556</td>\n",
              "    </tr>\n",
              "    <tr>\n",
              "      <th>3</th>\n",
              "      <td>54</td>\n",
              "      <td>83</td>\n",
              "      <td>0.0</td>\n",
              "      <td>3.94</td>\n",
              "      <td>35.34</td>\n",
              "      <td>15.5236</td>\n",
              "      <td>1248.9156</td>\n",
              "    </tr>\n",
              "    <tr>\n",
              "      <th>4</th>\n",
              "      <td>41</td>\n",
              "      <td>25</td>\n",
              "      <td>0.0</td>\n",
              "      <td>-9.06</td>\n",
              "      <td>-22.66</td>\n",
              "      <td>82.0836</td>\n",
              "      <td>513.4756</td>\n",
              "    </tr>\n",
              "  </tbody>\n",
              "</table>\n",
              "</div>"
            ],
            "text/plain": [
              "   v1  v2  zeros  ...  v2_distance  v1_squared_distance  v2_squared_distance\n",
              "0  52  86    0.0  ...        38.34               3.7636            1469.9556\n",
              "1  67  21    0.0  ...       -26.66             286.9636             710.7556\n",
              "2  51  46    0.0  ...        -1.66               0.8836               2.7556\n",
              "3  54  83    0.0  ...        35.34              15.5236            1248.9156\n",
              "4  41  25    0.0  ...       -22.66              82.0836             513.4756\n",
              "\n",
              "[5 rows x 7 columns]"
            ]
          },
          "metadata": {
            "tags": []
          },
          "execution_count": 4
        }
      ]
    },
    {
      "cell_type": "code",
      "metadata": {
        "id": "0OvbytzqhALh",
        "colab": {
          "base_uri": "https://localhost:8080/"
        },
        "outputId": "299d6751-09dc-4913-e393-efc28cae96c0"
      },
      "source": [
        "# 더하고 나눔\n",
        "observations = len(variance_df)\n",
        "print(\"Number of Observations: \", observations)\n",
        "\n",
        "Variance_One = variance_df.v1_squared_distance.sum()/observations\n",
        "Variance_Two = variance_df.v2_squared_distance.sum()/observations\n",
        "\n",
        "print(\"Variance One: \", Variance_One)\n",
        "print(\"Variance Two: \", Variance_Two)"
      ],
      "execution_count": null,
      "outputs": [
        {
          "output_type": "stream",
          "text": [
            "Number of Observations:  50\n",
            "Variance One:  212.17640000000003\n",
            "Variance Two:  764.3844\n"
          ],
          "name": "stdout"
        }
      ]
    },
    {
      "cell_type": "markdown",
      "metadata": {
        "id": "2y6g5cYdhJCe"
      },
      "source": [
        "위의 계산이 의미하는 바가 무엇일까요? \n",
        "\n",
        "랜덤넘버를 생성할때, v1은 `25 ~ 75`까지 `50`의 범위를, v2는 `0 ~ 100`까지 `100` 범위를 바탕으로 **2배** 정도 차이가 나게 생성했지만\n",
        "\n",
        "그들의 분산의 차이는 **2배보다 훨씬** 더 큽니다. (엄밀히는 4배 정도입니다)"
      ]
    },
    {
      "cell_type": "code",
      "metadata": {
        "id": "JlyP6RX5hB-s",
        "colab": {
          "base_uri": "https://localhost:8080/"
        },
        "outputId": "21bc9318-0e37-4caa-ad5f-4047cc86b773"
      },
      "source": [
        "print(\"분산의 차이 =\", Variance_Two/Variance_One) "
      ],
      "execution_count": null,
      "outputs": [
        {
          "output_type": "stream",
          "text": [
            "분산의 차이 = 3.6025891663728857\n"
          ],
          "name": "stdout"
        }
      ]
    },
    {
      "cell_type": "markdown",
      "metadata": {
        "id": "jCjtuBpchM4s"
      },
      "source": [
        "## Variance 쉽게 계산하기"
      ]
    },
    {
      "cell_type": "code",
      "metadata": {
        "id": "1qO_uRm4hDWG",
        "colab": {
          "base_uri": "https://localhost:8080/"
        },
        "outputId": "7806a2e9-08da-4d50-8772-abf5564bd7b4"
      },
      "source": [
        "print(variance_df.v1.var(ddof = 1))\n",
        "print(variance_df.v2.var(ddof = 1))"
      ],
      "execution_count": null,
      "outputs": [
        {
          "output_type": "stream",
          "text": [
            "216.50653061224492\n",
            "779.9840816326531\n"
          ],
          "name": "stdout"
        }
      ]
    },
    {
      "cell_type": "markdown",
      "metadata": {
        "id": "edNOmpFWhQnQ"
      },
      "source": [
        "주의할점으로, 위의 결과는 이전에 계산했던 결과와는 조금 다릅니다 그 이유는, 분산을 계산하는 방법이 모집단이냐 혹은 샘플이냐에 따라서 달라지기 때문입니다.\n",
        "\n",
        " **모집단의 분산** $\\sigma^{2}$ 는 모집단의 **PARAMETER** (aspect, property, attribute, etc)이며,\n",
        "\n",
        "The **샘플의 분산** $s^{2}$ 는 샘플의 **STATISTIC** (estimated attribute)입니다.\n",
        "\n",
        "<img src='https://i.imgur.com/YZWGI8e.png' width =400>\n",
        "\n",
        "복잡한 차이가 있기는 하지만, 샘플 분산 $s^{2}$ 는 모집단 분산 $\\sigma^{2}$의 추정치입니다.\n",
        "\n",
        "일반적으로, **샘플**의 분산을 계산 할때는 $N-1$로 나누어야 합니다. 앞서 우리가 데이터를 통해 계산했던 방식은 **모집단의 분산**입니다.\n",
        "\n",
        "그렇기 때문에 만약 우리가 자유도를 0 으로 설정하는 경우, 동일한 값을 얻을 수 있습니다."
      ]
    },
    {
      "cell_type": "code",
      "metadata": {
        "id": "kjV56K7lhO7v",
        "colab": {
          "base_uri": "https://localhost:8080/"
        },
        "outputId": "d19d1c18-bf77-4399-e1ca-764ef89e293e"
      },
      "source": [
        "print(variance_df.v1.var(ddof = 0))\n",
        "print(variance_df.v2.var(ddof = 0))"
      ],
      "execution_count": null,
      "outputs": [
        {
          "output_type": "stream",
          "text": [
            "212.17640000000003\n",
            "764.3844\n"
          ],
          "name": "stdout"
        }
      ]
    },
    {
      "cell_type": "markdown",
      "metadata": {
        "id": "5kHEYk3Ziaad"
      },
      "source": [
        "# Standard Deviation\n",
        "\n",
        "분산의 의미를 이해했다면, 표준편차는 더 쉽습니다. \n",
        "\n",
        "표준편차는 분산의 값에 $\\sqrt()$를 씌운 것입니다.\n",
        "\n"
      ]
    },
    {
      "cell_type": "markdown",
      "metadata": {
        "id": "-ZS6YMsPkP31"
      },
      "source": [
        "## 분산 / 표준편차\n",
        "\n",
        "분산을 구하는 과정에서 우리는 더할때 제곱 값들을 더했습니다. \n",
        "\n",
        "그렇기 때문에 평균에 비해서 스케일이 커지는 문제가 있는데,  \n",
        "\n",
        "표준 편차는 이를 해결 하기 위해서 제곱 된 스케일을 낮춘 방법입니다. \n",
        "\n",
        "이는 많은 통계분석 프로세스에서 표준편차를 사용하여 계산하는 이유 중 하나입니다."
      ]
    },
    {
      "cell_type": "code",
      "metadata": {
        "id": "7hSnkDQJiyev",
        "colab": {
          "base_uri": "https://localhost:8080/"
        },
        "outputId": "73436e37-e371-42b3-91ab-dff139280cad"
      },
      "source": [
        "print(variance_df.v1.std(ddof=0)) # std 에 주의\n",
        "print(variance_df.v2.std(ddof=0))"
      ],
      "execution_count": null,
      "outputs": [
        {
          "output_type": "stream",
          "text": [
            "14.566276119859873\n",
            "27.647502599692437\n"
          ],
          "name": "stdout"
        }
      ]
    },
    {
      "cell_type": "markdown",
      "metadata": {
        "id": "VOFz37RxhX4N"
      },
      "source": [
        "# Covariance\n",
        "\n",
        "- Covariance란, 1개의 변수 값이 변화할 때 다른 변수가 어떠한 **연관성을 나타내며 변하는지**를 측정하는 것입니다. \n",
        "\n",
        "<https://en.wikipedia.org/wiki/Covariance#Definition>\n",
        "\n",
        "\n",
        "- 2개의 변수를 사용하기 때문에 그래프를 통해서 보는 것이 이 개념을 이해하는데에 도움을 줄 수 있습니다.\n",
        "\n",
        "<img src='https://i.imgur.com/VMneXpA.png' width =500>\n",
        "\n",
        "- 첫번째 그래프의 경우, y의 값이 높을때 x 의 값은 낮습니다. 이는 음의 (negative) 공분산 값을 갖는다 라고 표현합니다.\n",
        "\n",
        "- 두번째 그래프에서는 양 변수의 높고 낮음에 대하여 관련성을 알 수 없습니다. 그러므로 이러한 형태는 0에 가까운 공분산 값을 갖습니다.\n",
        "- 마지막 그래프에서, y 값이 낮을때 x의 값도 마찬가지로 낮으며, 높을때는 같이 높아진다는 것을 확인 할 수 있습니다. 이 경우 양 변수간의 공분산 값은 양의 (positive)값을 기대 할 수 있습니다.\n",
        "<br>\n",
        "<img src='https://user-images.githubusercontent.com/6457691/89965802-a0d1fa00-dc88-11ea-8bb4-cdef0e7a3b1c.jpg' width = 450>"
      ]
    },
    {
      "cell_type": "markdown",
      "metadata": {
        "id": "d0ztiA_iheG1"
      },
      "source": [
        "## 공분산 이해하기\n",
        "\n",
        "큰 값의 공분산은 두 변수간의 큰 연관성을 나타냅니다. \n",
        "\n",
        "그러나, 만약 변수들이 다른 스케일을 가지고 있다면 공분산은 실제 변수의 연관성에 관계 없이 영향을 받게 될 것입니다. \n",
        "\n",
        "다시 말하면 만약 두 변수가 연관성이 적더라도 큰 스케일을 가지고 있다면, 연관이 높지만 스케일이 작은 변수들에 비해서 높은 공분산 값을 가지게 될 것입니다. "
      ]
    },
    {
      "cell_type": "code",
      "metadata": {
        "id": "6qa-a_AzhT7R",
        "colab": {
          "base_uri": "https://localhost:8080/",
          "height": 521
        },
        "outputId": "51cdf8e4-31f3-4266-8e58-04668e9abca0"
      },
      "source": [
        "a = b = np.arange(5, 50, 5)\n",
        "c = d = np.arange(10,100,10)\n",
        "\n",
        "fake_data = {\"a\": a, \"b\": b, \"c\": c, \"d\": d}\n",
        "\n",
        "df = pd.DataFrame(fake_data)\n",
        "\n",
        "plt.scatter(df.a, df.b)\n",
        "plt.xlim(0,100)\n",
        "plt.ylim(0,100)\n",
        "plt.show()\n",
        "\n",
        "plt.scatter(df.c, df.d)\n",
        "plt.xlim(0,100)\n",
        "plt.ylim(0,100)\n",
        "plt.show()"
      ],
      "execution_count": null,
      "outputs": [
        {
          "output_type": "display_data",
          "data": {
            "image/png": "[encoded data removed]",
            "text/plain": [
              "<Figure size 432x288 with 1 Axes>"
            ]
          },
          "metadata": {
            "tags": [],
            "needs_background": "light"
          }
        },
        {
          "output_type": "display_data",
          "data": {
            "image/png": "[encoded data removed]",
            "text/plain": [
              "<Figure size 432x288 with 1 Axes>"
            ]
          },
          "metadata": {
            "tags": [],
            "needs_background": "light"
          }
        }
      ]
    },
    {
      "cell_type": "markdown",
      "metadata": {
        "id": "YDajsMPwhlZU"
      },
      "source": [
        "# Variance-covariance matrix\n",
        "\n",
        "위 데이터에 대해서 공분산을 계산하기 위한 방법은 다음과 같습니다."
      ]
    },
    {
      "cell_type": "code",
      "metadata": {
        "id": "eouW-AEDhgtZ",
        "colab": {
          "base_uri": "https://localhost:8080/",
          "height": 173
        },
        "outputId": "7708442f-3f4a-4696-e9af-4dc69e54bd53"
      },
      "source": [
        "df.cov()"
      ],
      "execution_count": null,
      "outputs": [
        {
          "output_type": "execute_result",
          "data": {
            "text/html": [
              "<div>\n",
              "<style scoped>\n",
              "    .dataframe tbody tr th:only-of-type {\n",
              "        vertical-align: middle;\n",
              "    }\n",
              "\n",
              "    .dataframe tbody tr th {\n",
              "        vertical-align: top;\n",
              "    }\n",
              "\n",
              "    .dataframe thead th {\n",
              "        text-align: right;\n",
              "    }\n",
              "</style>\n",
              "<table border=\"1\" class=\"dataframe\">\n",
              "  <thead>\n",
              "    <tr style=\"text-align: right;\">\n",
              "      <th></th>\n",
              "      <th>a</th>\n",
              "      <th>b</th>\n",
              "      <th>c</th>\n",
              "      <th>d</th>\n",
              "    </tr>\n",
              "  </thead>\n",
              "  <tbody>\n",
              "    <tr>\n",
              "      <th>a</th>\n",
              "      <td>187.5</td>\n",
              "      <td>187.5</td>\n",
              "      <td>375.0</td>\n",
              "      <td>375.0</td>\n",
              "    </tr>\n",
              "    <tr>\n",
              "      <th>b</th>\n",
              "      <td>187.5</td>\n",
              "      <td>187.5</td>\n",
              "      <td>375.0</td>\n",
              "      <td>375.0</td>\n",
              "    </tr>\n",
              "    <tr>\n",
              "      <th>c</th>\n",
              "      <td>375.0</td>\n",
              "      <td>375.0</td>\n",
              "      <td>750.0</td>\n",
              "      <td>750.0</td>\n",
              "    </tr>\n",
              "    <tr>\n",
              "      <th>d</th>\n",
              "      <td>375.0</td>\n",
              "      <td>375.0</td>\n",
              "      <td>750.0</td>\n",
              "      <td>750.0</td>\n",
              "    </tr>\n",
              "  </tbody>\n",
              "</table>\n",
              "</div>"
            ],
            "text/plain": [
              "       a      b      c      d\n",
              "a  187.5  187.5  375.0  375.0\n",
              "b  187.5  187.5  375.0  375.0\n",
              "c  375.0  375.0  750.0  750.0\n",
              "d  375.0  375.0  750.0  750.0"
            ]
          },
          "metadata": {
            "tags": []
          },
          "execution_count": 11
        }
      ]
    },
    {
      "cell_type": "markdown",
      "metadata": {
        "id": "Oj90iiJ1hixA"
      },
      "source": [
        "이러한 matrix를 variance-covariance matrix 라고 표현하며, \n",
        "대각선 부분은 **공분산**이 아닌, **분산**을 표현합니다.\n",
        "\n",
        "앞의 두데이터셋은 동일한 연관성을 갖고 있지만 ($x$ = $y$), 계산된 공분산의 값은 매우 다릅니다.\n",
        "\n",
        "❓ 이 문제를 어떻게 해결 할 수 있을까요?\n"
      ]
    },
    {
      "cell_type": "markdown",
      "metadata": {
        "id": "vaoTvHL_htKw"
      },
      "source": [
        "# Correlation coefficient\n",
        "\n",
        "분산에서 스케일을 조정하기 위해 표준편차를 사용했던 것처럼, \n",
        "\n",
        "이번에도 공분산의 스케일을 조정할 수 있습니다. \n",
        "\n",
        "공분산을 두 변수의 표준편차로 각각 나눠주면 스케일을 조정할 수 있으며 상관계수라고 부릅니다.\n",
        "\n",
        "상관계수는 -1에서 1까지로 정해진 범위 안의 값만을 갖으며 선형연관성이 없는 경우 0에 근접하게 됩니다. \n",
        "\n",
        "대부분의 경우, 상관계수는 공분산에 비해서 **더 좋은** 지표로써 사용되며 이유는 다음과 같습니다\n",
        "\n",
        "- 공분산은 이론상 모든 값을 가질 수 있지만, 상관계수는 `-1 ~ 1` 사이로 정해져 비교하기가 쉽습니다.\n",
        "- 공분산은 항상 스케일, 단위를 포함하고 있지만, 상관계수는 이에 영향을 받지 않습니다.\n",
        "- 상관계수는 데이터의 평균 혹은 분산의 크기에 영향을 받지 않습니다.\n",
        "\n",
        "<img src='https://i.imgur.com/1amjn9e.png' width = 500>\n",
        "\n",
        "상관 계수는 일반적으로 소문자 $r$로 표현됩니다.\n",
        "\n",
        "\\begin{align}\n",
        "cor(X,Y) = r = \\frac{cov(X,Y)}{\\sigma_{X}\\sigma_{Y}} \n",
        "\\end{align}\n",
        "\n",
        "위의 데이터를 바탕으로 correlation을 계산해보겠습니다"
      ]
    },
    {
      "cell_type": "code",
      "metadata": {
        "id": "CsptKUELhp9U",
        "colab": {
          "base_uri": "https://localhost:8080/",
          "height": 173
        },
        "outputId": "bd11c1d7-5eae-4dab-e9a0-6a446ee9705e"
      },
      "source": [
        "df.corr()"
      ],
      "execution_count": null,
      "outputs": [
        {
          "output_type": "execute_result",
          "data": {
            "text/html": [
              "<div>\n",
              "<style scoped>\n",
              "    .dataframe tbody tr th:only-of-type {\n",
              "        vertical-align: middle;\n",
              "    }\n",
              "\n",
              "    .dataframe tbody tr th {\n",
              "        vertical-align: top;\n",
              "    }\n",
              "\n",
              "    .dataframe thead th {\n",
              "        text-align: right;\n",
              "    }\n",
              "</style>\n",
              "<table border=\"1\" class=\"dataframe\">\n",
              "  <thead>\n",
              "    <tr style=\"text-align: right;\">\n",
              "      <th></th>\n",
              "      <th>a</th>\n",
              "      <th>b</th>\n",
              "      <th>c</th>\n",
              "      <th>d</th>\n",
              "    </tr>\n",
              "  </thead>\n",
              "  <tbody>\n",
              "    <tr>\n",
              "      <th>a</th>\n",
              "      <td>1.0</td>\n",
              "      <td>1.0</td>\n",
              "      <td>1.0</td>\n",
              "      <td>1.0</td>\n",
              "    </tr>\n",
              "    <tr>\n",
              "      <th>b</th>\n",
              "      <td>1.0</td>\n",
              "      <td>1.0</td>\n",
              "      <td>1.0</td>\n",
              "      <td>1.0</td>\n",
              "    </tr>\n",
              "    <tr>\n",
              "      <th>c</th>\n",
              "      <td>1.0</td>\n",
              "      <td>1.0</td>\n",
              "      <td>1.0</td>\n",
              "      <td>1.0</td>\n",
              "    </tr>\n",
              "    <tr>\n",
              "      <th>d</th>\n",
              "      <td>1.0</td>\n",
              "      <td>1.0</td>\n",
              "      <td>1.0</td>\n",
              "      <td>1.0</td>\n",
              "    </tr>\n",
              "  </tbody>\n",
              "</table>\n",
              "</div>"
            ],
            "text/plain": [
              "     a    b    c    d\n",
              "a  1.0  1.0  1.0  1.0\n",
              "b  1.0  1.0  1.0  1.0\n",
              "c  1.0  1.0  1.0  1.0\n",
              "d  1.0  1.0  1.0  1.0"
            ]
          },
          "metadata": {
            "tags": []
          },
          "execution_count": 12
        }
      ]
    },
    {
      "cell_type": "markdown",
      "metadata": {
        "id": "qBnfjEfnhx7c"
      },
      "source": [
        "상관계수가 1이라는 것은 한 변수가 다른 변수에 대해서 완벽한 양의 선형 관계를 갖고 있다는 것을 의미합니다.\n",
        "\n",
        "<img src='https://upload.wikimedia.org/wikipedia/commons/thumb/d/d4/Correlation_examples2.svg/1200px-Correlation_examples2.svg.png' width = 500>\n",
        "\n",
        "\n"
      ]
    },
    {
      "cell_type": "markdown",
      "metadata": {
        "id": "rKIiuUdJpAm8"
      },
      "source": [
        "### 🔥 Spearman correlation\n",
        "\n",
        "<https://en.wikipedia.org/wiki/Spearman%27s_rank_correlation_coefficient>\n",
        "\n",
        "우리가 이전까지 배운, correlation coefficient는 \n",
        "\n",
        "Pearson correlation.. 이라 부르며 \n",
        "\n",
        "이는 데이터로부터 **분산** 과 같은 통계치를 계산 할 수 있을때 사용 가능합니다.\n",
        "\n",
        "그러나 만약 데이터가 numeric이 아니라, categorical 이라면..? \n",
        "\n",
        "이를 위해서 우리는 저번 주에 non-parametric에 대한 개념을 배웠습니다.\n",
        "\n",
        "spearman correlation coefficient 는 값들에 대해서 순서 혹은 rank를 매기고, 그를 바탕으로 correlation을 측정하는 Non-parametric한 방식입니다.\n",
        "\n",
        "🔥 python 에서 spearman correlation을 계산하는 법을 알아보세요.\n",
        "\n"
      ]
    },
    {
      "cell_type": "markdown",
      "metadata": {
        "id": "QnaCekp1h7iK"
      },
      "source": [
        "# Orthogonality\n",
        "\n",
        "Orthogonality란, 벡터 혹은 매트릭스가 서로 수직으로 있는 상태를 나타냅니다.\n",
        "\n"
      ]
    },
    {
      "cell_type": "markdown",
      "metadata": {
        "id": "gWAphVYGr01V"
      },
      "source": [
        "## 이게 AI랑 무슨 관계가 있죠?\n",
        "\n",
        "- 분산, 공분산, 상관계수는 왜 나온거죠?\n",
        "\n",
        "다음과 같은 벡터가 있다고 칩시다.\n",
        "\n",
        "<img src='https://i.imgur.com/JImwF8w.png' width = 500>\n",
        "\n",
        "이를 시각화하면 아래 그림과 같을 것 입니다.\n",
        "\n",
        "<img src='https://i.imgur.com/sHPDJ1j.png' width = 500>\n",
        "\n",
        "좌표상에 있는 거의 모든 벡터는 다른 벡터와 상관이 아주 작게라도 있습니다.\n",
        "\n",
        "(**하나가 증가할때, 다른 하나도 증가 하는 경향을 파악하는 것이 공분산** 임을 기억하세요)\n",
        "\n",
        "딱 하나, 수직인 벡터만 상관 관계가 전혀 없다는 것이죠.\n",
        "\n",
        "데이터가 (벡터가) 선형 관계가 있는 것과 상관 관계가 없는 것이 어떤 의미를 갖는지는 앞으로 차차 알게 될 것입니다."
      ]
    },
    {
      "cell_type": "markdown",
      "metadata": {
        "id": "Q1sd0kDiRDeC"
      },
      "source": [
        "## 벡터의 orthogonality 확인\n",
        "\n",
        "임의의 두 벡터의 내적값이 0이라면 서로 수직으로 배치되어 있습니다.\n",
        "\n",
        "아래의 예시를 참조하도록 하겠습니다:"
      ]
    },
    {
      "cell_type": "code",
      "metadata": {
        "id": "BO9JKzpDUqJN",
        "colab": {
          "base_uri": "https://localhost:8080/",
          "height": 281
        },
        "outputId": "e1875675-454b-4604-f560-e2e4909dfb85"
      },
      "source": [
        "vector_1 = [0, 5]\n",
        "vector_2 = [5, 0]\n",
        "\n",
        "plt.arrow(0, 0, vector_1[0], vector_1[1], head_width = .1, head_length = .1, color ='#d63031')\n",
        "plt.arrow(0, 0, vector_2[0], vector_2[1], head_width = .1, head_length = .1, color ='#00b894')\n",
        "plt.xlim(-1, 7)          \n",
        "plt.ylim(-1, 7)\n",
        "plt.title(\"Orthogonal Vectors\")\n",
        "plt.show()"
      ],
      "execution_count": null,
      "outputs": [
        {
          "output_type": "display_data",
          "data": {
            "image/png": "[encoded data removed]",
            "text/plain": [
              "<Figure size 432x288 with 1 Axes>"
            ]
          },
          "metadata": {
            "tags": [],
            "needs_background": "light"
          }
        }
      ]
    },
    {
      "cell_type": "markdown",
      "metadata": {
        "id": "g5141Y3pU4C5"
      },
      "source": [
        "그래프 상에서는 명확하게 벡터들이 서로 수직하다는것을 확인 할 수 있습니다.\n",
        "\n",
        "\\begin{align}\n",
        "a = \\begin{bmatrix} 0 & 5\\end{bmatrix}\n",
        "\\qquad\n",
        "b = \\begin{bmatrix} 5 & 0\\end{bmatrix}\n",
        "\\\\\n",
        "a \\cdot b = (0)(5) + (5)(0) = 0\n",
        "\\end{align}"
      ]
    },
    {
      "cell_type": "code",
      "metadata": {
        "id": "g15k5VLkUtLC",
        "colab": {
          "base_uri": "https://localhost:8080/",
          "height": 281
        },
        "outputId": "06511984-25ef-42f4-dd5e-fac648c223ba"
      },
      "source": [
        "vector_1 = [-2, 2]\n",
        "vector_2 = [2, 2]\n",
        "\n",
        "plt.arrow(0, 0, vector_1[0], vector_1[1], head_width = .05, head_length = .05, color ='#0984e3')\n",
        "plt.arrow(0, 0, vector_2[0], vector_2[1], head_width = .05, head_length = .05, color ='#fdcb6e')\n",
        "plt.xlim(-3, 3)          \n",
        "plt.ylim(-1, 3)\n",
        "plt.title(\"Orthogonal Vectors\")\n",
        "plt.show()"
      ],
      "execution_count": null,
      "outputs": [
        {
          "output_type": "display_data",
          "data": {
            "image/png": "[encoded data removed]",
            "text/plain": [
              "<Figure size 432x288 with 1 Axes>"
            ]
          },
          "metadata": {
            "tags": [],
            "needs_background": "light"
          }
        }
      ]
    },
    {
      "cell_type": "markdown",
      "metadata": {
        "id": "FcoxB_bhVfAz"
      },
      "source": [
        "마찬가지로, 내적값은 0 입니다.\n",
        "\n",
        "\\begin{align}\n",
        "a = \\begin{bmatrix} -2 & 2\\end{bmatrix}\n",
        "\\qquad\n",
        "b = \\begin{bmatrix} 2 & 2\\end{bmatrix}\n",
        "\\\\\n",
        "a \\cdot b = (-2)(2) + (2)(2) = 0\n",
        "\\end{align}\n"
      ]
    },
    {
      "cell_type": "markdown",
      "metadata": {
        "id": "RuCV78PpNwB8"
      },
      "source": [
        "# 단위 벡터 ( Unit Vectors )\n",
        "\n",
        "선형대수에서, 단위 벡터란 \"단위 길이(1)\"를 갖는 모든 벡터를 말합니다. \n",
        "\n",
        "$v$ = [1, 2, 2]\n",
        "\n",
        "||$v$|| = $\\sqrt{1^2 + 2^2 + 2^2}$ = 3\n",
        "\n",
        "$\\hat{v}$ = 1 / ||$v$|| $\\cdot$ $v$ \n",
        "\n",
        "= $1 \\over 3$ $\\cdot$ [1, 2, 2] = [$1 \\over 3$, $2 \\over 3$, $2 \\over 3$]\n",
        "\n",
        "||$\\hat{v}$|| = 1\n",
        "\n",
        "---\n",
        "\n",
        "아래는 각각 1, 2, 3차원의 단위 벡터 입니다.\n",
        "\n",
        "$\\mathbb{R}$ unit vector: $\\hat{i} = \\begin{bmatrix} 1 \\end{bmatrix}$\n",
        "\n",
        "$\\mathbb{R}^2$ unit vectors: $\\hat{i} = \\begin{bmatrix} 1 \\\\ 0 \\end{bmatrix}$, $\\hat{j} = \\begin{bmatrix} 0 \\\\ 1 \\end{bmatrix}$\n",
        "\n",
        "$\\mathbb{R}^3$ unit vectors: $\\hat{i} = \\begin{bmatrix} 1 \\\\ 0 \\\\ 0 \\end{bmatrix}$, $\\hat{j} = \\begin{bmatrix} 0 \\\\ 1 \\\\ 0 \\end{bmatrix}$,  $\\hat{k} = \\begin{bmatrix} 0 \\\\ 0 \\\\ 1 \\end{bmatrix}$"
      ]
    },
    {
      "cell_type": "code",
      "metadata": {
        "id": "j4x2-DCqK4bN",
        "colab": {
          "base_uri": "https://localhost:8080/",
          "height": 281
        },
        "outputId": "667eaecf-3141-40ad-de58-f23acc630b44"
      },
      "source": [
        "# 축 설정\n",
        "\n",
        "plt.xlim(-1,2)          \n",
        "plt.ylim(-1,2)\n",
        "\n",
        "# 단위 벡터\n",
        "i_hat = [1,0]\n",
        "j_hat = [0,1]\n",
        "\n",
        "# 축 고정 \n",
        "plt.gca().set_aspect('equal')\n",
        "\n",
        "# 벡터 그리기\n",
        "plt.arrow(0, 0, i_hat[0], i_hat[1], linewidth = 3, head_width = .05, head_length = .05, color = '#d63031')\n",
        "plt.arrow(0, 0, j_hat[0], j_hat[1], linewidth = 3, head_width = .05, head_length = .05, color = '#0984e3')\n",
        "plt.title(\"basis vectors in R^2\")\n",
        "plt.show()"
      ],
      "execution_count": null,
      "outputs": [
        {
          "output_type": "display_data",
          "data": {
            "image/png": "[encoded data removed]",
            "text/plain": [
              "<Figure size 432x288 with 1 Axes>"
            ]
          },
          "metadata": {
            "tags": [],
            "needs_background": "light"
          }
        }
      ]
    },
    {
      "cell_type": "markdown",
      "metadata": {
        "id": "_w-7ECSzMJXS"
      },
      "source": [
        "## 벡터를 단위 벡터의 조합으로 표기\n",
        "\n",
        "모든 벡터 ( 혹은 매트릭스 )는 단위 벡터의 선형 조합으로 표기 됩니다. \n",
        "\n",
        "v = [5, 30]\n",
        "\n",
        "  = [1, 0] * 5 + [0, 1] * 30 \n",
        "\n",
        "  = 5 $\\cdot$ $\\hat{i}$ + 30 $\\cdot$ $\\hat{j}$\n",
        "\n",
        "위의 예시처럼, $\\mathbb{R}^2$내에 있는 임의의 벡터를 단위 벡터의 조합으로 표기 할 수 있습니다. "
      ]
    },
    {
      "cell_type": "markdown",
      "metadata": {
        "id": "eiYx3xqgO3gR"
      },
      "source": [
        "# Span\n",
        "\n",
        "Span 이란, 주어진 두 벡터의 (합이나 차와 같은) 조합으로 만들 수 있는 모든 가능한 벡터의 집합입니다. (방금 위에서 했던 것처럼)\n",
        "\n"
      ]
    },
    {
      "cell_type": "markdown",
      "metadata": {
        "id": "OXYGQXrY1k0u"
      },
      "source": [
        "## 선형 관계의 벡터 (Linearly Dependent Vector)\n",
        "\n",
        "만약 두 벡터가 같은 선상에 있는 경우, 이 벡터들은 선형 관계에 있다고 표현합니다. 즉, 이 두 벡터들은 조합을 통해서 *선 외부의* 새로운 벡터를 생성 할 수 없습니다. \n",
        "\n",
        "이러한 벡터의 span은, 평면 공간이 아닌, 벡터가 이미 올려져 있는 **선**으로 제한 됩니다. \n",
        "\n",
        "아래의 예시를 참조하세요.\n",
        "\n",
        "- ❓ 같은 선상에 있다는 것을 수학적으로 어떻게 표현 할까요?\n",
        "\n"
      ]
    },
    {
      "cell_type": "markdown",
      "metadata": {
        "id": "lWcwNpO-3To9"
      },
      "source": [
        "## 선형 관계가 없는 벡터 (Linearly Independent Vectors)\n",
        "\n",
        "반대로 같은 선상에 있지 않은 벡터들은 선형적으로 독립되어 있다고 표현하며, \n",
        "\n",
        "주어진 공간 (2개의 벡터의 경우 $\\mathbb{R}^2$ 평면)의 모든 벡터를 조합을 통해 만들어 낼 수 있습니다."
      ]
    },
    {
      "cell_type": "code",
      "metadata": {
        "id": "RAlWBSXZQYn5",
        "colab": {
          "base_uri": "https://localhost:8080/",
          "height": 281
        },
        "outputId": "669115f5-e2e3-4234-8df0-b0e2d0310cb5"
      },
      "source": [
        "plt.xlim(-1, 4)          \n",
        "plt.ylim(-1, 1)\n",
        "\n",
        "# 원 벡터 (초록)\n",
        "v = [1,0] \n",
        "\n",
        "# 선형관계의 벡터\n",
        "v2 = np.multiply(3, v) # (노랑)\n",
        "v3 = np.multiply(-1, v) # (빨강)\n",
        "\n",
        "axes = plt.gca()\n",
        "x_vals = np.array(axes.get_xlim())\n",
        "y_vals = 0 * x_vals\n",
        "\n",
        "plt.plot(x_vals, y_vals, '--', color = '#0984e3', linewidth = 1) # span 선 (파랑)\n",
        "plt.arrow(0, 0, v2[0], v2[1], linewidth = 3, head_width = .05, head_length = .05, color = '#fdcb6e')\n",
        "plt.arrow(0, 0, v[0], v[1], linewidth = 3, head_width = .05, head_length = .05, color = '#00b894')\n",
        "plt.arrow(0, 0, v3[0], v3[1], linewidth = 3, head_width = .05, head_length = .05, color = '#d63031')\n",
        "\n",
        "plt.title(\"Linearly Dependent Vectors\")\n",
        "plt.show()"
      ],
      "execution_count": null,
      "outputs": [
        {
          "output_type": "display_data",
          "data": {
            "image/png": "[encoded data removed]",
            "text/plain": [
              "<Figure size 432x288 with 1 Axes>"
            ]
          },
          "metadata": {
            "tags": [],
            "needs_background": "light"
          }
        }
      ]
    },
    {
      "cell_type": "code",
      "metadata": {
        "id": "LCZwwJswRqYt",
        "colab": {
          "base_uri": "https://localhost:8080/",
          "height": 281
        },
        "outputId": "02ad052f-f423-4d30-acae-0d7bea4d3805"
      },
      "source": [
        "# 선형 관계에 있지 않은 벡터\n",
        "\n",
        "plt.xlim(-2, 3.5)\n",
        "plt.ylim(-.5, 1.5)\n",
        "\n",
        "a = [-1.5, .5]\n",
        "b = [3, 1]\n",
        "plt.arrow(0, 0, a[0], a[1], linewidth = 3, head_width = .05, head_length = .05, color = '#74b9ff')\n",
        "plt.arrow(0, 0, b[0], b[1], linewidth = 3, head_width = .05, head_length = .05, color = '#e84393')\n",
        "\n",
        "plt.title(\"Linearly Independent Vectors\")\n",
        "plt.show()"
      ],
      "execution_count": null,
      "outputs": [
        {
          "output_type": "display_data",
          "data": {
            "image/png": "[encoded data removed]",
            "text/plain": [
              "<Figure size 432x288 with 1 Axes>"
            ]
          },
          "metadata": {
            "tags": [],
            "needs_background": "light"
          }
        }
      ]
    },
    {
      "cell_type": "markdown",
      "metadata": {
        "id": "gRQb0BFqO44V"
      },
      "source": [
        "# Basis\n",
        "\n",
        "벡터 공간 $V$의 basis 는, $V$ 라는 공간을 채울 수 있는 선형 관계에 있지 않은 벡터들의 모음입니다. ( span 의 역개념 )\n",
        "\n",
        "예를 들어, 위의 그림에서 2개의 벡터 (빨강, 파랑)는 벡터 공간 $\\mathbb{R}^2$ 의 basis 입니다.\n",
        "\n",
        "## Orthogonal Basis\n",
        "\n",
        "Orthogonal Basis란, Basis 에 추가로 Orthogonal 한 조건이 붙는, 즉 주어진 공간을 채울 수 있는 **서로 수직인** 벡터들입니다.\n",
        "\n",
        "## Orthonormal Basis\n",
        "\n",
        "Orthonomal Basis란, Orthogonal Basis에 추가로 Normalized 조건이 붙은 것으로, **길이가 서로 1인** 벡터들입니다.\n",
        "\n",
        "추가로, Gram-Schmidt 프로세스 (주어진 벡터들을 Orthonormal하게 수정하는 과정)에 대해서 알아봐도 좋습니다.\n",
        "\n",
        "<img src='https://i.imgur.com/YSWgVKw.png' width = 500>\n",
        "\n",
        "## ❓ $\\mathbb{R}^2$ 의 R은 무슨 의미 일까요?\n"
      ]
    },
    {
      "cell_type": "markdown",
      "metadata": {
        "id": "MyyqxO8DO7TP"
      },
      "source": [
        "# Rank\n",
        "\n",
        "- 매트릭스의 rank란, 매트릭스의 열을 이루고 있는 벡터들로 만들 수 있는 (span) 공간의 차원입니다. \n",
        "\n",
        "- 매트릭스의 차원과는 다를 수도 있으며 그 이유는 행과 열을 이루고 있는 벡터들 가운데 서로 선형 관계가 있을 수도 있기 때문입니다. \n",
        "\n",
        "- 이 Rank를 확인 하는 방법은 여러가지 가 있지만, 그중 하나인 Gaussian Elimination을 통해 알아보도록 하겠습니다.\n"
      ]
    },
    {
      "cell_type": "markdown",
      "metadata": {
        "id": "sdaXrA_f8ULq"
      },
      "source": [
        "## Gaussian Elimination \n",
        "\n",
        "Gaussian Elimination 은 주어진 매트릭스를 \"Row-Echelon form\"으로 바꾸는 계산과정입니다. \n",
        "\n",
        "여기서 \"Row-Echelon form\"이란, 각 행에 대해서 왼쪽에 1, 그 이후 부분은 0으로 이뤄진 형태입니다. \n",
        "\n",
        "(예시를 참조하세요) \n",
        "\n",
        "이러한 매트릭스는 일반적으로 upper-triangular 의 형태를 가지고 있습니다. \n",
        "\n",
        "<img src='https://i.imgur.com/12BKe72.png' width = 400>\n",
        "\n",
        "---\n",
        "\n",
        "\\begin{align}\n",
        " P = \\begin{bmatrix}\n",
        "  1 & 1 & 3 \\\\\n",
        "  0 & 1 & 2 \\\\\n",
        "  2 & 1 & 4 \n",
        " \\end{bmatrix}\n",
        "\\end{align}\n",
        "\n",
        "3행을 1행*2 로 뺌.\n",
        "\n",
        "\\begin{align}\n",
        " P = \\begin{bmatrix}\n",
        "  1 & 1 & 3 \\\\\n",
        "  0 & 1 & 2 \\\\\n",
        "  0 & -1 & -2 \n",
        " \\end{bmatrix}\n",
        "\\end{align}\n",
        "\n",
        "3행을 2행으로 더함\n",
        "\n",
        "\\begin{align}\n",
        " P = \\begin{bmatrix}\n",
        "  1 & 1 & 3 \\\\\n",
        "  0 & 1 & 2 \\\\\n",
        "  0 & 0 & 0 \n",
        " \\end{bmatrix}\n",
        "\\end{align}\n",
        "\n",
        "** 맨 마지막 줄이 0, 0, 0이다** 라는 것은 3개의 행이, 선형 관계가 있다는 의미입니다.\n",
        "\n",
        "(다른 행들의 스칼라 곱과 합으로 표현됨) \n",
        "\n",
        "$r_3$ = $2 \\cdot\\ r_1$ - $1 \\cdot\\ r_2$\n",
        "\n",
        "$y$ = $a \\cdot\\ x + b$\n",
        "\n",
        "---\n",
        "\n",
        "처음에 주어졌던 매트릭스\n",
        "\n",
        "\\begin{align}\n",
        " P = \\begin{bmatrix}\n",
        "  1 & 1 & 3 \\\\\n",
        "  0 & 1 & 2 \\\\\n",
        "  2 & 1 & 4 \n",
        " \\end{bmatrix}\n",
        "\\end{align}\n",
        "\n",
        "의 Rank 는 2이며 이는 3x3 매트릭스 이지만 $\\mathbb{R}^{3}$ 공간이 아닌 $\\mathbb{R}^{2}$ 만을 벡터들로 만들어 낼 수 있음을 의미합니다. \n"
      ]
    },
    {
      "cell_type": "markdown",
      "metadata": {
        "id": "9K9C_OHjhz3B"
      },
      "source": [
        "# ($\\mathbb{R}^{2}$ 공간에서의) Linear Projections\n",
        "\n",
        "<img src='https://i.imgur.com/YMmzO65.png'>\n",
        "\n",
        "---\n",
        "\n"
      ]
    },
    {
      "cell_type": "markdown",
      "metadata": {
        "id": "8QwAPhA20hYR"
      },
      "source": [
        "## Python 으로 과정 구현하기\n",
        "\n",
        "$\\mathbb{R}^{2}$ 공간의 임의의 선 $L$을 가정하겠습니다."
      ]
    },
    {
      "cell_type": "code",
      "metadata": {
        "id": "Cp_QRhVPchp4",
        "colab": {
          "base_uri": "https://localhost:8080/",
          "height": 281
        },
        "outputId": "dbffd927-6181-45d3-853f-fd37b1aa4d6d"
      },
      "source": [
        "plt.xlim(-1, 2)\n",
        "plt.ylim(-1, 2)\n",
        "axes = plt.gca()\n",
        "x_vals = np.array(axes.get_xlim())\n",
        "y_vals = 0 * x_vals\n",
        "plt.plot(x_vals, y_vals, '--', color = '#0984e3')\n",
        "plt.title(\"A Line\")\n",
        "plt.show()"
      ],
      "execution_count": null,
      "outputs": [
        {
          "output_type": "display_data",
          "data": {
            "image/png": "[encoded data removed]",
            "text/plain": [
              "<Figure size 432x288 with 1 Axes>"
            ]
          },
          "metadata": {
            "tags": [],
            "needs_background": "light"
          }
        }
      ]
    },
    {
      "cell_type": "markdown",
      "metadata": {
        "id": "faAeCF-_fQgv"
      },
      "source": [
        "임의의 벡터 $v$가 선 위에 있는 경우, $v$는 아무리 스케일을 변화시켜도 결국 선 위에 있다는 것을 알고 있습니다."
      ]
    },
    {
      "cell_type": "code",
      "metadata": {
        "id": "saQTXeIlfcQk",
        "colab": {
          "base_uri": "https://localhost:8080/",
          "height": 281
        },
        "outputId": "4ae7526f-0d6f-458f-f331-9a1d4927354c"
      },
      "source": [
        "plt.xlim(-1.1, 3)          \n",
        "plt.ylim(-1.1, 3)\n",
        "\n",
        "v = [1, 0] \n",
        "\n",
        "v2 = np.multiply(3, v)\n",
        "v3 = np.multiply(-1, v)\n",
        "\n",
        "axes = plt.gca()\n",
        "x_vals = np.array(axes.get_xlim())\n",
        "y_vals = 0 * x_vals\n",
        "\n",
        "plt.plot(x_vals, y_vals, '--', color = '#0984e3')\n",
        "\n",
        "\n",
        "plt.arrow(0, 0, v2[0], v2[1], linewidth = 3, head_width = .05, head_length = .05, color = '#fdcb6e')\n",
        "\n",
        "plt.arrow(0, 0, v[0], v[1], linewidth = 3, head_width = .05, head_length = .05, color = '#00b894')\n",
        "#### v2 다음 v를 그리는 이유는 뭘까요??\n",
        "\n",
        "\n",
        "plt.arrow(0, 0, v3[0], v3[1], linewidth = 3, head_width = .05, head_length = .05, color = '#d63031')\n",
        "\n",
        "plt.title(\"v scaled two different ways\")\n",
        "plt.show()"
      ],
      "execution_count": null,
      "outputs": [
        {
          "output_type": "display_data",
          "data": {
            "image/png": "[encoded data removed]",
            "text/plain": [
              "<Figure size 432x288 with 1 Axes>"
            ]
          },
          "metadata": {
            "tags": [],
            "needs_background": "light"
          }
        }
      ]
    },
    {
      "cell_type": "markdown",
      "metadata": {
        "id": "eH59242AkL2C"
      },
      "source": [
        "녹색 벡터를 $v$ 라고 부르겠습니다. \n",
        "\n",
        "처음에 주어진 선 $L$은 $\\mathbb{R}$ 공간내의 모든 $v$와 동일합니다. \n",
        "\n",
        "이를 식으로 표현 하면, \n",
        "\n",
        "\\begin{align}\n",
        "L = cv\n",
        "\\end{align}\n",
        "\n",
        "로 표현 할 수 있을 것입니다.\n",
        "\n",
        "이번에는 L위에 \"Project\" (투사) 하기 위한 새로운 $w$라는 벡터를 추가해보도록 하겠습니다."
      ]
    },
    {
      "cell_type": "code",
      "metadata": {
        "id": "XUXGGq3uk4Ka",
        "colab": {
          "base_uri": "https://localhost:8080/",
          "height": 281
        },
        "outputId": "5a49219c-bd08-406d-f3d3-f2f0824f05de"
      },
      "source": [
        "plt.xlim(-1.1, 3)          \n",
        "plt.ylim(-1.1, 3)\n",
        "\n",
        "v = [1, 0] \n",
        "w = [2, 2]\n",
        "\n",
        "axes = plt.gca()\n",
        "x_vals = np.array(axes.get_xlim())\n",
        "y_vals = 0 * x_vals\n",
        "\n",
        "plt.plot(x_vals, y_vals, '--', color = '#0984e3')\n",
        "plt.arrow(0, 0, v[0], v[1], linewidth = 3, head_width = .05, head_length = .05, color = '#00b894')\n",
        "plt.arrow(0, 0, w[0], w[1], linewidth = 3, head_width = .05, head_length = .05, color = '#d63031')\n",
        "\n",
        "plt.title(\"vector w\")\n",
        "plt.show()"
      ],
      "execution_count": null,
      "outputs": [
        {
          "output_type": "display_data",
          "data": {
            "image/png": "[encoded data removed]",
            "text/plain": [
              "<Figure size 432x288 with 1 Axes>"
            ]
          },
          "metadata": {
            "tags": [],
            "needs_background": "light"
          }
        }
      ]
    },
    {
      "cell_type": "markdown",
      "metadata": {
        "id": "sRP9f3AElTPl"
      },
      "source": [
        "## Notation\n",
        "\n",
        "Projection을 표기하는 방법은 다음과 같습니다.\n",
        "\n",
        "\\begin{align}proj_{L}(\\vec{w})\\end{align}"
      ]
    },
    {
      "cell_type": "code",
      "metadata": {
        "id": "V6h7LIAWpjkm",
        "colab": {
          "base_uri": "https://localhost:8080/",
          "height": 281
        },
        "outputId": "72ab733f-172f-4eff-90d1-6df95edf4cb3"
      },
      "source": [
        "plt.xlim(-1.1, 3)\n",
        "plt.ylim(-1.1, 3)\n",
        "\n",
        "v = [1, 0] \n",
        "w = [2, 2]\n",
        "proj = [2, 0]\n",
        "\n",
        "axes = plt.gca()\n",
        "x_vals = np.array(axes.get_xlim())\n",
        "y_vals = 0 * x_vals\n",
        "\n",
        "plt.plot(x_vals, y_vals, '--', color = '#0984e3')\n",
        "plt.arrow(0, 0, proj[0], proj[1], linewidth = 3, head_width = .05, head_length = .05, color = '#636e72')\n",
        "plt.arrow(0, 0, v[0], v[1], linewidth = 3, head_width = .05, head_length = .05, color = '#00b894')\n",
        "plt.arrow(0, 0, w[0], w[1], linewidth = 3, head_width = .05, head_length = .05, color = '#d63031')\n",
        "\n",
        "plt.title(\"Shadow of w\")\n",
        "plt.show()"
      ],
      "execution_count": null,
      "outputs": [
        {
          "output_type": "display_data",
          "data": {
            "image/png": "[encoded data removed]",
            "text/plain": [
              "<Figure size 432x288 with 1 Axes>"
            ]
          },
          "metadata": {
            "tags": [],
            "needs_background": "light"
          }
        }
      ]
    },
    {
      "cell_type": "markdown",
      "metadata": {
        "id": "1c5lGO9Br4LD"
      },
      "source": [
        "위 그림에서 회색 벡터는 ($proj_{L}(w)$) 빨간 벡터의 ($w$) 녹색 벡터에 ($L$) 대한 projection 이며, 녹색 벡터를 기준으로 표기 될 수 있습니다.\n",
        "\n",
        "\\begin{align}\n",
        "cv = proj_{L}(w)\n",
        "\\end{align}\n",
        "\n",
        "그러나 만약 $L$이 x축과 평행하지 않은 조금더 복잡한 상황일 경우 어떻게 계산하여야 할까요?"
      ]
    },
    {
      "cell_type": "code",
      "metadata": {
        "id": "4AEH3UNgsgwH",
        "colab": {
          "base_uri": "https://localhost:8080/",
          "height": 281
        },
        "outputId": "63dc357f-5513-4772-b171-7b39a5b08742"
      },
      "source": [
        "plt.xlim(-1.1, 3)          \n",
        "plt.ylim(-1.1, 3)\n",
        "\n",
        "v = [1, 1/2] \n",
        "w = [2, 2]\n",
        "proj = np.multiply(2, v)\n",
        "\n",
        "axes.set_aspect('equal')\n",
        "\n",
        "x_vals = np.array(axes.get_xlim())\n",
        "y_vals = 1/2 * x_vals\n",
        "\n",
        "plt.plot(x_vals, y_vals, '--', color = '#0984e3')\n",
        "plt.arrow(0, 0, proj[0], proj[1], linewidth = 3, head_width = .05, head_length = .05, color = '#636e72')\n",
        "plt.arrow(0, 0, v[0], v[1], linewidth = 3, head_width = .05, head_length = .05, color = '#00b894')\n",
        "plt.arrow(0, 0, w[0], w[1], linewidth = 3, head_width = .05, head_length = .05, color = '#d63031')\n",
        "\n",
        "plt.title(\"non x-axis projection\")\n",
        "plt.show()"
      ],
      "execution_count": null,
      "outputs": [
        {
          "output_type": "display_data",
          "data": {
            "image/png": "[encoded data removed]",
            "text/plain": [
              "<Figure size 432x288 with 1 Axes>"
            ]
          },
          "metadata": {
            "tags": [],
            "needs_background": "light"
          }
        }
      ]
    },
    {
      "cell_type": "markdown",
      "metadata": {
        "id": "MLEIt2cPzLJ_"
      },
      "source": [
        "그림을 통해서는 위처럼, 표기 할 수 있을 것입니다. 이후 단계에서는 자세한 계산을 해보도록 하겠습니다."
      ]
    },
    {
      "cell_type": "code",
      "metadata": {
        "id": "RwvZkHBvzZYJ",
        "colab": {
          "base_uri": "https://localhost:8080/",
          "height": 281
        },
        "outputId": "1c48db47-fa5e-4028-aa10-2327f69cc4d3"
      },
      "source": [
        "plt.xlim(-1.1, 3)          \n",
        "plt.ylim(-1.1, 3)\n",
        "\n",
        "v = [1, 1/2] \n",
        "w = [2, 2]\n",
        "proj = np.multiply(2.4, v)\n",
        "x_minus_proj = w - proj\n",
        "\n",
        "plt.gca().set_aspect('equal')\n",
        "\n",
        "x_vals = np.array(axes.get_xlim())\n",
        "y_vals = 1/2 * x_vals\n",
        "\n",
        "plt.plot(x_vals, y_vals, '--', color = '#0984e3')\n",
        "plt.arrow(0, 0, proj[0], proj[1], linewidth = 3, head_width = .05, head_length = .05, color = '#636e72')\n",
        "plt.arrow(0, 0, v[0], v[1], linewidth = 3, head_width = .05, head_length = .05, color = '#00b894')\n",
        "plt.arrow(0, 0, w[0], w[1], linewidth = 3, head_width = .05, head_length = .05, color = '#d63031')\n",
        "plt.arrow(proj[0], proj[1], x_minus_proj[0], x_minus_proj[1], linewidth = 3, head_width = .05, head_length = .05, color = '#fdcb6e')\n",
        "\n",
        "plt.title(\"non x-axis projection\")\n",
        "plt.show()"
      ],
      "execution_count": null,
      "outputs": [
        {
          "output_type": "display_data",
          "data": {
            "image/png": "[encoded data removed]",
            "text/plain": [
              "<Figure size 432x288 with 1 Axes>"
            ]
          },
          "metadata": {
            "tags": [],
            "needs_background": "light"
          }
        }
      ]
    },
    {
      "cell_type": "markdown",
      "metadata": {
        "id": "fXBpFhuK0Kev"
      },
      "source": [
        "$L$과 Orthogonal 한 노란 벡터를 사용해서 계산을 할건데요, 이는 projection $L$에서 시작해서 $w$로 도착하는 벡터입니다.\n",
        "\n",
        "벡터의 합과 차를 기억한다면, 회색 벡터 + 노란 벡터는 빨간 벡터가 된다는 것을 알 수 있습니다.\n",
        "\n",
        "즉, 노란 벡터는 빨간 벡터에서 회색 벡터를 뺀 것과 동일한 내용입니다. 이를 식으로 표현하면 다음과 같습니다. $w-proj_{L}(w)$\n",
        "\n",
        "이전에 L (회색) 에 대한 w (빨강) 의 projection을 cv (녹색 * 스칼라)로 표기 했었는데요, \n",
        "\n",
        "노란 벡터는 빨간 벡터에서 회색 벡터를 뺀것과 동일하다는 것을 방금 확인 했는데요, 이는 $w - cv$의 형태로 표기 될 수 있습니다.\n",
        "\n",
        "한가지 더, 회색(녹색도 마찬가지)과 노란색은 서로 수직 상태에 있기 때문에 두 벡터의 내적값은 0 이 나오게 됩니다.\n",
        "\n",
        "즉, 회색 $\\cdot$ 노란색 = 0.이며 \n",
        "\n",
        "\\begin{align}\n",
        "v \\cdot (w-cv) = 0\n",
        "\\end{align}\n",
        "\n",
        "라는 식을 얻어 낼 수 있습니다.\n",
        "\n",
        "위 식을 풀게 되면\n",
        "\n",
        "\\begin{align}\n",
        "v \\cdot w - c(v \\cdot v) = 0\n",
        "\\end{align} \n",
        "\n",
        "\\begin{align}\n",
        "v \\cdot w = c(v \\cdot v)\n",
        "\\end{align} \n",
        "\n",
        "\\begin{align}\n",
        "c = \\frac{w \\cdot v}{v \\cdot v}\n",
        "\\end{align}\n",
        "\n",
        "로 바꿀 수 있으며, $cv = proj_{L}(w)$이므로 양변에 $v$를 곱하여\n",
        "\n",
        "\\begin{align}\n",
        "proj_{L}(w) =  \\frac{w \\cdot v}{v \\cdot v}v\n",
        "\\end{align}\n",
        "\n",
        "라는 최종 식을 얻어 낼 수 있습니다. "
      ]
    },
    {
      "cell_type": "markdown",
      "metadata": {
        "id": "ZKeuuIFa0r45"
      },
      "source": [
        "# Linear Projection은 왜 공부하는 걸까요?\n",
        "\n",
        "<img src='https://i.imgur.com/zCIaU1W.png'>\n"
      ]
    }
  ]
}