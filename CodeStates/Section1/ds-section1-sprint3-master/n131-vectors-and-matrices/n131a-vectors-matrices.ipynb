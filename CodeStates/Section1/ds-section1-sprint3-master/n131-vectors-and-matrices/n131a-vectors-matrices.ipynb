{
  "nbformat": 4,
  "nbformat_minor": 0,
  "metadata": {
    "colab": {
      "name": "n131a-vectors-matrices.ipynb",
      "provenance": []
    },
    "kernelspec": {
      "display_name": "Python 3",
      "language": "python",
      "name": "python3"
    },
    "language_info": {
      "codemirror_mode": {
        "name": "ipython",
        "version": 3
      },
      "file_extension": ".py",
      "mimetype": "text/x-python",
      "name": "python",
      "nbconvert_exporter": "python",
      "pygments_lexer": "ipython3",
      "version": "3.8.2"
    }
  },
  "cells": [
    {
      "cell_type": "markdown",
      "metadata": {
        "id": "Y7hxe5O-9ukJ"
      },
      "source": [
        "<img src='https://i.imgur.com/RDAD11M.png' width = '200' align = 'right'>\n",
        "\n",
        "## *DATA SCIENCE / SECTION 1 / SPRINT 3 / NOTE 1*\n",
        "\n",
        "# 📝 Assignment"
      ]
    },
    {
      "cell_type": "markdown",
      "metadata": {
        "id": "yXA3GwWhY9KL"
      },
      "source": [
        "## 1. Portfolio\n",
        "\n",
        "`Dot product` & `Matrix Multiplication` 을 이용하여 다음 포트폴리오의 사람별 총합을 계산하세요.\n",
        "- 결과는 `res`에 list형태로 저장합니다.\n",
        "\n",
        "|People|Name|Price|Amount|\n",
        "|:-:|:-:|:-:|:-:|\n",
        "|X|A|100|35|\n",
        "|X|B|500|10|\n",
        "|X|C|250|25|\n",
        "|X|D|50|40|\n",
        "|Y|A|100|-|\n",
        "|Y|B|500|50|\n",
        "|Y|C|250|50|\n",
        "|Y|D|50|-|\n",
        "|Z|A|100|-|\n",
        "|Z|B|500|-|\n",
        "|Z|C|250|100|\n",
        "|Z|D|50|-|\n",
        "\n"
      ]
    },
    {
      "cell_type": "code",
      "metadata": {
        "id": "ErSR5soVblfv",
        "colab": {
          "base_uri": "https://localhost:8080/",
          "height": 421
        },
        "outputId": "ea638555-636c-4032-923c-ae41d8529ef8"
      },
      "source": [
        "# 이곳에 답안을 작성하시기 바랍니다\n",
        "# 데이터 프레임 생성\n",
        "import pandas as pd\n",
        "\n",
        "df = pd.DataFrame([['X','A',100,35],\n",
        "['X','B',500,10],\n",
        "['X','C',250,25],\n",
        "['X','D',50,40],\n",
        "['Y','A',100,0],\n",
        "['Y','B',500,50],\n",
        "['Y','C',250,50],\n",
        "['Y','D',50,0],\n",
        "['Z','A',100,0],\n",
        "['Z','B',500,0],\n",
        "['Z','C',250,100],\n",
        "['Z','D',50,0]], columns = ['People', 'Name', 'Price', 'Amount'])\n",
        "df"
      ],
      "execution_count": 2,
      "outputs": [
        {
          "output_type": "execute_result",
          "data": {
            "text/html": [
              "<div>\n",
              "<style scoped>\n",
              "    .dataframe tbody tr th:only-of-type {\n",
              "        vertical-align: middle;\n",
              "    }\n",
              "\n",
              "    .dataframe tbody tr th {\n",
              "        vertical-align: top;\n",
              "    }\n",
              "\n",
              "    .dataframe thead th {\n",
              "        text-align: right;\n",
              "    }\n",
              "</style>\n",
              "<table border=\"1\" class=\"dataframe\">\n",
              "  <thead>\n",
              "    <tr style=\"text-align: right;\">\n",
              "      <th></th>\n",
              "      <th>People</th>\n",
              "      <th>Name</th>\n",
              "      <th>Price</th>\n",
              "      <th>Amount</th>\n",
              "    </tr>\n",
              "  </thead>\n",
              "  <tbody>\n",
              "    <tr>\n",
              "      <th>0</th>\n",
              "      <td>X</td>\n",
              "      <td>A</td>\n",
              "      <td>100</td>\n",
              "      <td>35</td>\n",
              "    </tr>\n",
              "    <tr>\n",
              "      <th>1</th>\n",
              "      <td>X</td>\n",
              "      <td>B</td>\n",
              "      <td>500</td>\n",
              "      <td>10</td>\n",
              "    </tr>\n",
              "    <tr>\n",
              "      <th>2</th>\n",
              "      <td>X</td>\n",
              "      <td>C</td>\n",
              "      <td>250</td>\n",
              "      <td>25</td>\n",
              "    </tr>\n",
              "    <tr>\n",
              "      <th>3</th>\n",
              "      <td>X</td>\n",
              "      <td>D</td>\n",
              "      <td>50</td>\n",
              "      <td>40</td>\n",
              "    </tr>\n",
              "    <tr>\n",
              "      <th>4</th>\n",
              "      <td>Y</td>\n",
              "      <td>A</td>\n",
              "      <td>100</td>\n",
              "      <td>0</td>\n",
              "    </tr>\n",
              "    <tr>\n",
              "      <th>5</th>\n",
              "      <td>Y</td>\n",
              "      <td>B</td>\n",
              "      <td>500</td>\n",
              "      <td>50</td>\n",
              "    </tr>\n",
              "    <tr>\n",
              "      <th>6</th>\n",
              "      <td>Y</td>\n",
              "      <td>C</td>\n",
              "      <td>250</td>\n",
              "      <td>50</td>\n",
              "    </tr>\n",
              "    <tr>\n",
              "      <th>7</th>\n",
              "      <td>Y</td>\n",
              "      <td>D</td>\n",
              "      <td>50</td>\n",
              "      <td>0</td>\n",
              "    </tr>\n",
              "    <tr>\n",
              "      <th>8</th>\n",
              "      <td>Z</td>\n",
              "      <td>A</td>\n",
              "      <td>100</td>\n",
              "      <td>0</td>\n",
              "    </tr>\n",
              "    <tr>\n",
              "      <th>9</th>\n",
              "      <td>Z</td>\n",
              "      <td>B</td>\n",
              "      <td>500</td>\n",
              "      <td>0</td>\n",
              "    </tr>\n",
              "    <tr>\n",
              "      <th>10</th>\n",
              "      <td>Z</td>\n",
              "      <td>C</td>\n",
              "      <td>250</td>\n",
              "      <td>100</td>\n",
              "    </tr>\n",
              "    <tr>\n",
              "      <th>11</th>\n",
              "      <td>Z</td>\n",
              "      <td>D</td>\n",
              "      <td>50</td>\n",
              "      <td>0</td>\n",
              "    </tr>\n",
              "  </tbody>\n",
              "</table>\n",
              "</div>"
            ],
            "text/plain": [
              "   People Name  Price  Amount\n",
              "0       X    A    100      35\n",
              "1       X    B    500      10\n",
              "2       X    C    250      25\n",
              "3       X    D     50      40\n",
              "4       Y    A    100       0\n",
              "5       Y    B    500      50\n",
              "6       Y    C    250      50\n",
              "7       Y    D     50       0\n",
              "8       Z    A    100       0\n",
              "9       Z    B    500       0\n",
              "10      Z    C    250     100\n",
              "11      Z    D     50       0"
            ]
          },
          "metadata": {
            "tags": []
          },
          "execution_count": 2
        }
      ]
    },
    {
      "cell_type": "code",
      "metadata": {
        "colab": {
          "base_uri": "https://localhost:8080/"
        },
        "id": "cXB11TX1sMsV",
        "outputId": "02a32b88-f7a3-486f-b9eb-ca7a62ddda65"
      },
      "source": [
        "# 가격과 사람별 주식 수 분리\n",
        "Price = [100, 500, 250, 50]\n",
        "X = df[df['People'] == 'X']['Amount'].tolist()\n",
        "Y = df[df['People'] == 'Y']['Amount'].tolist()\n",
        "Z = df[df['People'] == 'Z']['Amount'].tolist()\n",
        "print('{} = X,\\n\\n{} = Y,\\n\\n{} = Z'.format(X, Y, Z))"
      ],
      "execution_count": 3,
      "outputs": [
        {
          "output_type": "stream",
          "text": [
            "[35, 10, 25, 40] = X,\n",
            "\n",
            "[0, 50, 50, 0] = Y,\n",
            "\n",
            "[0, 0, 100, 0] = Z\n"
          ],
          "name": "stdout"
        }
      ]
    },
    {
      "cell_type": "code",
      "metadata": {
        "colab": {
          "base_uri": "https://localhost:8080/"
        },
        "id": "30pmT6FM0yxP",
        "outputId": "31815ac5-20ad-4f60-cc7c-a979d26c3631"
      },
      "source": [
        "# Dot product (내적 곱) 를 사용하여 res에 저장\n",
        "import numpy as np\n",
        "\n",
        "res = [np.dot(X, Price), np.dot(Y, Price), np.dot(Z, Price)]\n",
        "print('np.dot(A,B) = [X, Y, Z] =', res)"
      ],
      "execution_count": 4,
      "outputs": [
        {
          "output_type": "stream",
          "text": [
            "np.dot(A,B) = [X, Y, Z] = [16750, 37500, 25000]\n"
          ],
          "name": "stdout"
        }
      ]
    },
    {
      "cell_type": "code",
      "metadata": {
        "colab": {
          "base_uri": "https://localhost:8080/"
        },
        "id": "Vu35_GnP1YXt",
        "outputId": "070c8ec1-e9d7-4053-b4ae-52e512074cda"
      },
      "source": [
        "# Matrix Multiplication (행렬 곱) 로 계산 하는 법\n",
        "import numpy as np\n",
        "\n",
        "print('np.matmul(A,B) =', [np.matmul(X, Price), np.matmul(Y, Price), np.matmul(Z, Price)])\n",
        "\n",
        "# @ 로도 행렬 곱이 가능 하지만 array 형태로 있어야 한다. list 일 경우 error 생김.\n",
        "print('A @ B =', [np.array(X) @ np.array(Price), np.array(Y) @ np.array(Price), np.array(Z) @ np.array(Price)])"
      ],
      "execution_count": 40,
      "outputs": [
        {
          "output_type": "stream",
          "text": [
            "np.matmul(A,B) = [16750, 37500, 25000]\n",
            "A @ B = [16750, 37500, 25000]\n"
          ],
          "name": "stdout"
        }
      ]
    },
    {
      "cell_type": "code",
      "metadata": {
        "colab": {
          "base_uri": "https://localhost:8080/"
        },
        "id": "Ck6EyuaQBEpu",
        "outputId": "50daff55-4b94-4563-aa35-0f38265d8934"
      },
      "source": [
        "# np 곱, 합으로 푸는 방법\n",
        "print('sum(np.array(A)*np.array(B)) =',[sum(np.array(X) * np.array(Price)), sum(np.array(Y) * np.array(Price)), sum(np.array(Z) * np.array(Price))])"
      ],
      "execution_count": 15,
      "outputs": [
        {
          "output_type": "stream",
          "text": [
            "sum(np.array(A)*np.array(B)) = [16750, 37500, 25000]\n"
          ],
          "name": "stdout"
        }
      ]
    },
    {
      "cell_type": "code",
      "metadata": {
        "colab": {
          "base_uri": "https://localhost:8080/",
          "height": 421
        },
        "id": "PShstuOWByhJ",
        "outputId": "f28793f0-64cf-49ba-84a0-c0d65e238c0e"
      },
      "source": [
        "# 데이터 프레임을 변형해서 계산.\n",
        "# Money라는 열 하나 추가\n",
        "df['Money'] = df.Price * df.Amount\n",
        "df"
      ],
      "execution_count": 37,
      "outputs": [
        {
          "output_type": "execute_result",
          "data": {
            "text/html": [
              "<div>\n",
              "<style scoped>\n",
              "    .dataframe tbody tr th:only-of-type {\n",
              "        vertical-align: middle;\n",
              "    }\n",
              "\n",
              "    .dataframe tbody tr th {\n",
              "        vertical-align: top;\n",
              "    }\n",
              "\n",
              "    .dataframe thead th {\n",
              "        text-align: right;\n",
              "    }\n",
              "</style>\n",
              "<table border=\"1\" class=\"dataframe\">\n",
              "  <thead>\n",
              "    <tr style=\"text-align: right;\">\n",
              "      <th></th>\n",
              "      <th>People</th>\n",
              "      <th>Name</th>\n",
              "      <th>Price</th>\n",
              "      <th>Amount</th>\n",
              "      <th>Money</th>\n",
              "    </tr>\n",
              "  </thead>\n",
              "  <tbody>\n",
              "    <tr>\n",
              "      <th>0</th>\n",
              "      <td>X</td>\n",
              "      <td>A</td>\n",
              "      <td>100</td>\n",
              "      <td>35</td>\n",
              "      <td>3500</td>\n",
              "    </tr>\n",
              "    <tr>\n",
              "      <th>1</th>\n",
              "      <td>X</td>\n",
              "      <td>B</td>\n",
              "      <td>500</td>\n",
              "      <td>10</td>\n",
              "      <td>5000</td>\n",
              "    </tr>\n",
              "    <tr>\n",
              "      <th>2</th>\n",
              "      <td>X</td>\n",
              "      <td>C</td>\n",
              "      <td>250</td>\n",
              "      <td>25</td>\n",
              "      <td>6250</td>\n",
              "    </tr>\n",
              "    <tr>\n",
              "      <th>3</th>\n",
              "      <td>X</td>\n",
              "      <td>D</td>\n",
              "      <td>50</td>\n",
              "      <td>40</td>\n",
              "      <td>2000</td>\n",
              "    </tr>\n",
              "    <tr>\n",
              "      <th>4</th>\n",
              "      <td>Y</td>\n",
              "      <td>A</td>\n",
              "      <td>100</td>\n",
              "      <td>0</td>\n",
              "      <td>0</td>\n",
              "    </tr>\n",
              "    <tr>\n",
              "      <th>5</th>\n",
              "      <td>Y</td>\n",
              "      <td>B</td>\n",
              "      <td>500</td>\n",
              "      <td>50</td>\n",
              "      <td>25000</td>\n",
              "    </tr>\n",
              "    <tr>\n",
              "      <th>6</th>\n",
              "      <td>Y</td>\n",
              "      <td>C</td>\n",
              "      <td>250</td>\n",
              "      <td>50</td>\n",
              "      <td>12500</td>\n",
              "    </tr>\n",
              "    <tr>\n",
              "      <th>7</th>\n",
              "      <td>Y</td>\n",
              "      <td>D</td>\n",
              "      <td>50</td>\n",
              "      <td>0</td>\n",
              "      <td>0</td>\n",
              "    </tr>\n",
              "    <tr>\n",
              "      <th>8</th>\n",
              "      <td>Z</td>\n",
              "      <td>A</td>\n",
              "      <td>100</td>\n",
              "      <td>0</td>\n",
              "      <td>0</td>\n",
              "    </tr>\n",
              "    <tr>\n",
              "      <th>9</th>\n",
              "      <td>Z</td>\n",
              "      <td>B</td>\n",
              "      <td>500</td>\n",
              "      <td>0</td>\n",
              "      <td>0</td>\n",
              "    </tr>\n",
              "    <tr>\n",
              "      <th>10</th>\n",
              "      <td>Z</td>\n",
              "      <td>C</td>\n",
              "      <td>250</td>\n",
              "      <td>100</td>\n",
              "      <td>25000</td>\n",
              "    </tr>\n",
              "    <tr>\n",
              "      <th>11</th>\n",
              "      <td>Z</td>\n",
              "      <td>D</td>\n",
              "      <td>50</td>\n",
              "      <td>0</td>\n",
              "      <td>0</td>\n",
              "    </tr>\n",
              "  </tbody>\n",
              "</table>\n",
              "</div>"
            ],
            "text/plain": [
              "   People Name  Price  Amount  Money\n",
              "0       X    A    100      35   3500\n",
              "1       X    B    500      10   5000\n",
              "2       X    C    250      25   6250\n",
              "3       X    D     50      40   2000\n",
              "4       Y    A    100       0      0\n",
              "5       Y    B    500      50  25000\n",
              "6       Y    C    250      50  12500\n",
              "7       Y    D     50       0      0\n",
              "8       Z    A    100       0      0\n",
              "9       Z    B    500       0      0\n",
              "10      Z    C    250     100  25000\n",
              "11      Z    D     50       0      0"
            ]
          },
          "metadata": {
            "tags": []
          },
          "execution_count": 37
        }
      ]
    },
    {
      "cell_type": "code",
      "metadata": {
        "colab": {
          "base_uri": "https://localhost:8080/",
          "height": 204
        },
        "id": "efpUiQi3GiV3",
        "outputId": "be2448d4-2459-4d11-fd85-833a23cda7b2"
      },
      "source": [
        "# People로 그룹 한뒤, Money 열의 총합을 계산\n",
        "df.groupby('People').agg({'Money':['sum']})"
      ],
      "execution_count": 38,
      "outputs": [
        {
          "output_type": "execute_result",
          "data": {
            "text/html": [
              "<div>\n",
              "<style scoped>\n",
              "    .dataframe tbody tr th:only-of-type {\n",
              "        vertical-align: middle;\n",
              "    }\n",
              "\n",
              "    .dataframe tbody tr th {\n",
              "        vertical-align: top;\n",
              "    }\n",
              "\n",
              "    .dataframe thead tr th {\n",
              "        text-align: left;\n",
              "    }\n",
              "\n",
              "    .dataframe thead tr:last-of-type th {\n",
              "        text-align: right;\n",
              "    }\n",
              "</style>\n",
              "<table border=\"1\" class=\"dataframe\">\n",
              "  <thead>\n",
              "    <tr>\n",
              "      <th></th>\n",
              "      <th>Money</th>\n",
              "    </tr>\n",
              "    <tr>\n",
              "      <th></th>\n",
              "      <th>sum</th>\n",
              "    </tr>\n",
              "    <tr>\n",
              "      <th>People</th>\n",
              "      <th></th>\n",
              "    </tr>\n",
              "  </thead>\n",
              "  <tbody>\n",
              "    <tr>\n",
              "      <th>X</th>\n",
              "      <td>16750</td>\n",
              "    </tr>\n",
              "    <tr>\n",
              "      <th>Y</th>\n",
              "      <td>37500</td>\n",
              "    </tr>\n",
              "    <tr>\n",
              "      <th>Z</th>\n",
              "      <td>25000</td>\n",
              "    </tr>\n",
              "  </tbody>\n",
              "</table>\n",
              "</div>"
            ],
            "text/plain": [
              "        Money\n",
              "          sum\n",
              "People       \n",
              "X       16750\n",
              "Y       37500\n",
              "Z       25000"
            ]
          },
          "metadata": {
            "tags": []
          },
          "execution_count": 38
        }
      ]
    },
    {
      "cell_type": "markdown",
      "metadata": {
        "id": "dMgAVgIuGe_B"
      },
      "source": [
        "## 2. Norms\n",
        "\n",
        "주어진 값 $x_0, x_1, ... x_n$ 를 element로 갖는 벡터 $v$에 대하여 \n",
        "\n",
        "$L_1$ Norm 의 정의는 다음과 같습니다. \n",
        "\n",
        "$|v| = |x_0| + |x_1| + ... + |x_n|$\n",
        "\n",
        "$L_2$ Norm 의 정의는 다음과 같습니다.\n",
        "\n",
        "$||v|| = \\sqrt {{x_0}^2 + {x_1}^2 + ... + {x_n}^2}$\n",
        "\n",
        "이를 참조하여 주어진 벡터에 대해서 $L_2$ Norm 의 값과 $L_1$ Norm 의 값의 차이(**절대값**)를 계산하는 함수를 만드세요.\n",
        "\n"
      ]
    },
    {
      "cell_type": "code",
      "metadata": {
        "id": "XrYfAExIGemC",
        "colab": {
          "base_uri": "https://localhost:8080/"
        },
        "outputId": "efed579f-66d2-4604-c7ae-e3be8d0a3f5b"
      },
      "source": [
        "v = np.array([1, 2, 3, 4])\n",
        "# |L2 Norm - L1 Norm| 계산 함수\n",
        "def NormDif(v): # v = np.array()\n",
        "  L1_norm = np.linalg.norm(v, axis=0, ord=1)\n",
        "  L2_norm = np.linalg.norm(v, axis=0, ord=2)\n",
        "  return abs(L2_norm - L1_norm)\n",
        "NormDif(v)"
      ],
      "execution_count": 42,
      "outputs": [
        {
          "output_type": "execute_result",
          "data": {
            "text/plain": [
              "4.522774424948339"
            ]
          },
          "metadata": {
            "tags": []
          },
          "execution_count": 42
        }
      ]
    },
    {
      "cell_type": "code",
      "metadata": {
        "colab": {
          "base_uri": "https://localhost:8080/"
        },
        "id": "GbptPz28AZmc",
        "outputId": "ac7c3391-a098-4295-d17a-4ac23cdd5cd8"
      },
      "source": [
        "# np.linalg.norm 안쓰고\n",
        "def NormDif_ori(v):\n",
        "  L1_norm_ori = sum(abs(v))\n",
        "  L2_norm_ori = sum(abs(v)**2)**0.5\n",
        "  return abs(L2_norm_ori - L1_norm_ori)\n",
        "NormDif_ori(v)"
      ],
      "execution_count": 43,
      "outputs": [
        {
          "output_type": "execute_result",
          "data": {
            "text/plain": [
              "4.522774424948339"
            ]
          },
          "metadata": {
            "tags": []
          },
          "execution_count": 43
        }
      ]
    },
    {
      "cell_type": "markdown",
      "metadata": {
        "id": "VBJHWdyalU4G"
      },
      "source": [
        "## 3. Errors\n",
        "\n",
        "\n",
        "\n",
        "- 2개의 벡터와, error의 타입을 입력받아 그 결과값을 계산하는 함수를 작성하세요.\n",
        "\n",
        "- 여기서 error의 타입은 `MSE`, `MAE` 2가지 입니다.\n",
        "\n"
      ]
    },
    {
      "cell_type": "code",
      "metadata": {
        "id": "LQy8_pEUHHDC"
      },
      "source": [
        "# MSE, MAE error 타입별 계산\n",
        "def error(x, y, type) :\n",
        "  # MAE : (실제 값과 예측 값의 차이) error를 절대값으로 변환해 평균화, 이상치가 많을 때, error에 따른 손실이 선형적으로 올라 갈 때\n",
        "  if type == 'MAE':\n",
        "    from sklearn.metrics import mean_absolute_error\n",
        "    return mean_absolute_error(x, y)\n",
        "  # MSE : (실제 값과 예측 값의 차이) error를 제곱해 평균화, 특이값이 존재할 때 수치가 많이 올라감.\n",
        "  elif type == 'MSE':\n",
        "    from sklearn.metrics import mean_squared_error \n",
        "    return mean_squared_error(x, y)"
      ],
      "execution_count": 62,
      "outputs": []
    },
    {
      "cell_type": "markdown",
      "metadata": {
        "id": "l2Teph_aS16e"
      },
      "source": [
        "# 4. Inverse\n",
        "\n",
        "- 주어진 matrix에 대해서 inverse matrix를 계산하여 반환하는 함수를 작성하세요. \n",
        "- 이 때 inverse 계산이 불가능 한 경우 `-1` 을 반환합니다."
      ]
    },
    {
      "cell_type": "code",
      "metadata": {
        "id": "1hseshZkS1eX"
      },
      "source": [
        "# Inverse matrix 반환 함수\n",
        "def myInverse(m) : # m = np.array()\n",
        "  # 행렬식 = determinant\n",
        "  import numpy as np\n",
        "  det = np.linalg.det(m)\n",
        "  if det == 0:\n",
        "    return -1\n",
        "  else:\n",
        "    return np.linalg.inv(m)"
      ],
      "execution_count": 70,
      "outputs": []
    },
    {
      "cell_type": "code",
      "metadata": {
        "colab": {
          "base_uri": "https://localhost:8080/"
        },
        "id": "nTqP8nFQ44n_",
        "outputId": "a1d25d46-4162-4547-b7f7-342ca8eb68b0"
      },
      "source": [
        "min(res)"
      ],
      "execution_count": 42,
      "outputs": [
        {
          "output_type": "execute_result",
          "data": {
            "text/plain": [
              "16750"
            ]
          },
          "metadata": {
            "tags": []
          },
          "execution_count": 42
        }
      ]
    },
    {
      "cell_type": "code",
      "metadata": {
        "colab": {
          "base_uri": "https://localhost:8080/"
        },
        "id": "xo0zB-lW4-ao",
        "outputId": "a46763a6-f3ac-440c-ed25-2ecfc6cc62fe"
      },
      "source": [
        "round(NormDif(np.array([1, 2, 3, 4])), 3)"
      ],
      "execution_count": 54,
      "outputs": [
        {
          "output_type": "execute_result",
          "data": {
            "text/plain": [
              "4.523"
            ]
          },
          "metadata": {
            "tags": []
          },
          "execution_count": 54
        }
      ]
    },
    {
      "cell_type": "code",
      "metadata": {
        "colab": {
          "base_uri": "https://localhost:8080/"
        },
        "id": "t_Zbvu0g8iAk",
        "outputId": "3876814c-a06a-400f-a278-53c3ad6d8728"
      },
      "source": [
        "round(error(np.array([5, 10, 30]), np.array([21, 2, 8]), 'MSE'), 3)"
      ],
      "execution_count": 64,
      "outputs": [
        {
          "output_type": "execute_result",
          "data": {
            "text/plain": [
              "268.0"
            ]
          },
          "metadata": {
            "tags": []
          },
          "execution_count": 64
        }
      ]
    },
    {
      "cell_type": "code",
      "metadata": {
        "colab": {
          "base_uri": "https://localhost:8080/"
        },
        "id": "vpARypSp9eDl",
        "outputId": "e0b8dd75-1c87-4569-e200-a06494bfefe3"
      },
      "source": [
        "myInverse(np.array([[2,4],[4,8]]))"
      ],
      "execution_count": 71,
      "outputs": [
        {
          "output_type": "execute_result",
          "data": {
            "text/plain": [
              "-1"
            ]
          },
          "metadata": {
            "tags": []
          },
          "execution_count": 71
        }
      ]
    },
    {
      "cell_type": "markdown",
      "metadata": {
        "id": "V0iTO4McYjtk"
      },
      "source": [
        "# 🔥 도전과제 \n",
        "\n"
      ]
    },
    {
      "cell_type": "markdown",
      "metadata": {
        "id": "3p45qAIGFTBZ"
      },
      "source": [
        "다음 링크의 내용을 참조하여 **Cramer's rule**을 사용해 $x_1$, $x_2$, $x_3$의 값을 구하세요.\n",
        "\n",
        "<https://youtu.be/6StS7VjtuGI>\n",
        "\n",
        "\n",
        "$x_1$ + $2x_3$ = 6\n",
        "\n",
        "$-3x_1$ + $4x_2$ + $6x3$ = 30\n",
        "\n",
        "$-x_1$ $-2x_2$ + $3x_3$ = 8\n",
        "\n"
      ]
    },
    {
      "cell_type": "code",
      "metadata": {
        "colab": {
          "base_uri": "https://localhost:8080/"
        },
        "id": "oEwB_GV9TTYu",
        "outputId": "ee34d3b0-e989-4c5c-a970-da81f6ef495a"
      },
      "source": [
        "import numpy as np\n",
        "\n",
        "A = np.array([[1,0,2],\n",
        "              [-3,4,6],\n",
        "              [-1,-2,3]])\n",
        "\n",
        "B = np.array([6, 30, 8])\n",
        "\n",
        "x = np.linalg.solve(A, B)\n",
        "print('x1 = {}, x2 = {}, x3 = {}'.format(x[0],x[1],x[2]))"
      ],
      "execution_count": 94,
      "outputs": [
        {
          "output_type": "stream",
          "text": [
            "x1 = -0.9090909090909104, x2 = 1.636363636363636, x3 = 3.454545454545454\n"
          ],
          "name": "stdout"
        }
      ]
    },
    {
      "cell_type": "code",
      "metadata": {
        "id": "qtYsk8FWZEHx"
      },
      "source": [
        "# Cramer's rule 사용해서 직접 풀어보기\n",
        "# x1, x2, x3 를 구하기 위해서는 D, Dx1, Dx2, Dx3를 구해야 한다.\n",
        "# x1 = Dx1/D\n",
        "# x2 = Dx2/D\n",
        "# x3 = Dx3/D"
      ],
      "execution_count": 91,
      "outputs": []
    },
    {
      "cell_type": "code",
      "metadata": {
        "colab": {
          "base_uri": "https://localhost:8080/"
        },
        "id": "EMixwqHBcEdy",
        "outputId": "00312f28-e9ce-46e8-f8e6-15f65bd8e101"
      },
      "source": [
        "# D(행렬식) 구하기.\n",
        "D = np.linalg.det(A)\n",
        "D"
      ],
      "execution_count": 92,
      "outputs": [
        {
          "output_type": "execute_result",
          "data": {
            "text/plain": [
              "44.000000000000014"
            ]
          },
          "metadata": {
            "tags": []
          },
          "execution_count": 92
        }
      ]
    },
    {
      "cell_type": "code",
      "metadata": {
        "colab": {
          "base_uri": "https://localhost:8080/"
        },
        "id": "ZlI2Px1YdO3u",
        "outputId": "1efba015-e114-452e-85a6-49c0366d67c7"
      },
      "source": [
        "# Dx1, Dx2, Dx3 구하려면 A 행렬에 B 값을 x1, x2, x3 위치에 넣어서 행렬식을 구해야 한다.\n",
        "# A 행렬에 x1, x2, x3 넣기\n",
        "Ax1 = np.insert(np.delete(A, 0, axis = 1), 0, B, axis = 1)\n",
        "Ax2 = np.insert(np.delete(A, 1, axis = 1), 1, B, axis = 1)\n",
        "Ax3 = np.insert(np.delete(A, 2, axis = 1), 2, B, axis = 1)\n",
        "print('{} = Ax1,\\n\\n{} = Ax2,\\n\\n{} = Ax3'.format(Ax1, Ax2, Ax3))"
      ],
      "execution_count": 111,
      "outputs": [
        {
          "output_type": "stream",
          "text": [
            "[[ 6  0  2]\n",
            " [30  4  6]\n",
            " [ 8 -2  3]] = Ax1,\n",
            "\n",
            "[[ 1  6  2]\n",
            " [-3 30  6]\n",
            " [-1  8  3]] = Ax2,\n",
            "\n",
            "[[ 1  0  6]\n",
            " [-3  4 30]\n",
            " [-1 -2  8]] = Ax3\n"
          ],
          "name": "stdout"
        }
      ]
    },
    {
      "cell_type": "code",
      "metadata": {
        "colab": {
          "base_uri": "https://localhost:8080/"
        },
        "id": "WT69jib8dl-C",
        "outputId": "b85dc369-6717-45c8-9f7d-7eafc06d94eb"
      },
      "source": [
        "# Dx1, Dx2, Dx3 구하기\n",
        "Dx1 = np.linalg.det(Ax1)\n",
        "Dx2 = np.linalg.det(Ax2)\n",
        "Dx3 = np.linalg.det(Ax3)\n",
        "print('Dx1 = {}, Dx2 = {}, Dx3 = {}'.format(Dx1, Dx2, Dx3))"
      ],
      "execution_count": 108,
      "outputs": [
        {
          "output_type": "stream",
          "text": [
            "Dx1 = -40.0, Dx2 = 72.0, Dx3 = 152.0\n"
          ],
          "name": "stdout"
        }
      ]
    },
    {
      "cell_type": "code",
      "metadata": {
        "colab": {
          "base_uri": "https://localhost:8080/"
        },
        "id": "QtNK49fbgW_J",
        "outputId": "62c96334-65b1-4e86-fe30-58427716e743"
      },
      "source": [
        "# x1, x2, x3 구하기\n",
        "x1 = Dx1/D\n",
        "x2 = Dx2/D\n",
        "x3 = Dx3/D\n",
        "print('x1 = {}, x2 = {}, x3 = {}'.format(x1, x2, x3))"
      ],
      "execution_count": 110,
      "outputs": [
        {
          "output_type": "stream",
          "text": [
            "x1 = -0.9090909090909088, x2 = 1.6363636363636358, x3 = 3.4545454545454533\n"
          ],
          "name": "stdout"
        }
      ]
    }
  ]
}