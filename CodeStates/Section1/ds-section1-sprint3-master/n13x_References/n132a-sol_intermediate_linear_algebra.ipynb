{
  "nbformat": 4,
  "nbformat_minor": 0,
  "metadata": {
    "colab": {
      "name": "n132a-intermediate-linear-algebra.ipynb의 사본",
      "provenance": []
    },
    "kernelspec": {
      "display_name": "Python 3",
      "language": "python",
      "name": "python3"
    },
    "language_info": {
      "codemirror_mode": {
        "name": "ipython",
        "version": 3
      },
      "file_extension": ".py",
      "mimetype": "text/x-python",
      "name": "python",
      "nbconvert_exporter": "python",
      "pygments_lexer": "ipython3",
      "version": "3.8.2"
    }
  },
  "cells": [
    {
      "cell_type": "markdown",
      "metadata": {
        "id": "GSNiYn8lr6nN"
      },
      "source": [
        "<img src='https://i.imgur.com/RDAD11M.png' width = '200' align = 'right'>\n",
        "\n",
        "## *DATA SCIENCE / SECTION 1 / SPRINT 3 / NOTE 2*\n",
        "\n",
        "# 📝 Assignment\n"
      ]
    },
    {
      "cell_type": "markdown",
      "metadata": {
        "id": "3d4izUhQvh2_"
      },
      "source": [
        "## 1. 주어진 리스트에 대해서 평균, 분산, 표준편차를 구하는 함수를 작성해보세요. (`mean`같은 builtin function 제외)\n",
        "> 이후 다음 데이터 [243, 278, 184, 249, 207] 에 대해서 해당 함수를 사용한 결과를 보이세요."
      ]
    },
    {
      "cell_type": "code",
      "metadata": {
        "id": "w1iZfYvBtEA1"
      },
      "source": [
        "import numpy as np\n",
        "\n",
        "def mymean(v):\n",
        "    return sum(v)/len(v)\n",
        "\n",
        "def myvar(v):\n",
        "    return sum(np.array([i-mymean(v) for i in v])**2)/len(v)\n",
        "\n",
        "def mystd(v):\n",
        "    return np.sqrt(myvar(v))"
      ],
      "execution_count": 7,
      "outputs": []
    },
    {
      "cell_type": "markdown",
      "metadata": {
        "id": "oh63KaOctEp_"
      },
      "source": [
        "## 2. 위에서 사용된 데이터와 다음 데이터의 공분산과, 상관계수를 구해보세요 [88, 89, 83, 112, 104] "
      ]
    },
    {
      "cell_type": "code",
      "metadata": {
        "id": "G7ZB0krot564"
      },
      "source": [
        "# v, w 는 따로 지정해주어야 합니다.\n",
        "# 공분산\n",
        "np.cov(v, w)[0,1]\n",
        "# 상관계수\n",
        "np.corrcoef(v, w)[0,1]"
      ],
      "execution_count": 12,
      "outputs": []
    },
    {
      "cell_type": "markdown",
      "metadata": {
        "id": "86iXLzwM2z8l"
      },
      "source": [
        "## 3. 다음 벡터들의 span과, 이가 의미하는 바를 설명하세요. \n",
        "\n",
        "\\begin{align}\n",
        "g = \\begin{bmatrix} 1 & 3 \\end{bmatrix}\n",
        "\\qquad\n",
        "h = \\begin{bmatrix} 2 & 6 \\end{bmatrix}\n",
        "\\end{align}"
      ]
    },
    {
      "cell_type": "code",
      "metadata": {
        "id": "fNpSjPcOScgH",
        "colab": {
          "base_uri": "https://localhost:8080/"
        },
        "outputId": "d9bdb3f2-da83-46ef-908e-a4f3c97b6211"
      },
      "source": [
        "g, h = np.array([1, 3]), np.array([2, 6])\n",
        "gh_matrix = np.stack((g, h))\n",
        "np.linalg.matrix_rank(gh_matrix)"
      ],
      "execution_count": 13,
      "outputs": [
        {
          "output_type": "execute_result",
          "data": {
            "text/plain": [
              "1"
            ]
          },
          "metadata": {
            "tags": []
          },
          "execution_count": 13
        }
      ]
    },
    {
      "cell_type": "markdown",
      "metadata": {
        "id": "7ZOHX3JasQzu"
      },
      "source": [
        "rank는 1이며, span은 벡터 g를 스칼라배 한 직선이 됩니다."
      ]
    },
    {
      "cell_type": "markdown",
      "metadata": {
        "id": "l1deylUj4IHH"
      },
      "source": [
        "## 4. 다음 벡터들의 span과, 이가 의미하는 바를 설명하세요.\n",
        "\n",
        "\\begin{align}\n",
        "l = \\begin{bmatrix} 1 & 2 & 3 \\end{bmatrix}\n",
        "\\qquad\n",
        "m = \\begin{bmatrix} -1 & 0 & 7 \\end{bmatrix}\n",
        "\\qquad\n",
        "n = \\begin{bmatrix} 4 & 8  & 2\\end{bmatrix}\n",
        "\\end{align}"
      ]
    },
    {
      "cell_type": "code",
      "metadata": {
        "id": "NWZ36G8QTMob",
        "colab": {
          "base_uri": "https://localhost:8080/"
        },
        "outputId": "5dbf4dc8-5ec1-4bda-d334-60dcd06dba98"
      },
      "source": [
        "l, m, n = np.array([1, 2, 3]), np.array([-1, 0, 7]), np.array([4, 8, 2])\n",
        "lmn_matrix = np.stack((l, m, n))\n",
        "np.linalg.matrix_rank(lmn_matrix)"
      ],
      "execution_count": 14,
      "outputs": [
        {
          "output_type": "execute_result",
          "data": {
            "text/plain": [
              "3"
            ]
          },
          "metadata": {
            "tags": []
          },
          "execution_count": 14
        }
      ]
    },
    {
      "cell_type": "markdown",
      "metadata": {
        "id": "hNeqc5Mjsp8r"
      },
      "source": [
        "rank는 3이며, 3차원 공간을 span합니다."
      ]
    },
    {
      "cell_type": "markdown",
      "metadata": {
        "id": "IpJwt9kw6v8U"
      },
      "source": [
        "## 5. 다음 매트릭스의 rank를 구하세요\n",
        "\n",
        "\\begin{align}\n",
        "P = \\begin{bmatrix} \n",
        "0 & 2 & 5 \\\\\n",
        " 3 & 6 & 12 \\\\\n",
        "3 & 2 & 2\n",
        "\\end{bmatrix}\n",
        "\\end{align}"
      ]
    },
    {
      "cell_type": "code",
      "metadata": {
        "id": "CAzw0q3KTu5d",
        "colab": {
          "base_uri": "https://localhost:8080/"
        },
        "outputId": "8d6b6d78-ec8d-455c-e2e6-0c884625307f"
      },
      "source": [
        "mat_p = np.array([[0, 2, 5], [3, 6, 12], [3, 2, 2]])\n",
        "np.linalg.matrix_rank(mat_p)"
      ],
      "execution_count": 16,
      "outputs": [
        {
          "output_type": "execute_result",
          "data": {
            "text/plain": [
              "2"
            ]
          },
          "metadata": {
            "tags": []
          },
          "execution_count": 16
        }
      ]
    }
  ]
}