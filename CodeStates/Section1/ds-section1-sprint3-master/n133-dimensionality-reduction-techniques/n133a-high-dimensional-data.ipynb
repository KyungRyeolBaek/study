{
 "cells": [
  {
   "cell_type": "markdown",
   "metadata": {
    "id": "2nEWvwVyVWdW"
   },
   "source": [
    "<img src='https://i.imgur.com/RDAD11M.png' width = '200' align = 'right'>\n",
    "\n",
    "## *DATA SCIENCE / SECTION 1 / SPRINT 3 / NOTE 3*\n",
    "\n",
    "# 📝 Assignment\n",
    "\n"
   ]
  },
  {
   "cell_type": "markdown",
   "metadata": {
    "id": "5HY0R4u7anIr"
   },
   "source": [
    "## 1. 주어진 matrix에 대해서, numpy를 사용하여, `eigenvalue`와 `eigenvector`를 구하고, 각각 `value`, `vector`에 저장하세요.\n",
    "\n",
    "\\begin{bmatrix} 4 & 2 \\\\ 2 & 4 \\end{bmatrix}"
   ]
  },
  {
   "cell_type": "code",
   "execution_count": null,
   "metadata": {
    "id": "FdLS0X9lvh3e"
   },
   "outputs": [],
   "source": [
    "# 이곳에 답안을 작성하시기 바랍니다"
   ]
  },
  {
   "cell_type": "markdown",
   "metadata": {
    "id": "7iEheetpbJdN"
   },
   "source": [
    "## 2. Penguins dataset을 사용하여 numerical feature 4개에 대해서 2차원으로 PCA를 시행 후 PC1 & PC2를 사용하여 scatter plot을 그리세요.\n",
    "\n",
    "- 데이터셋 사용을 위해, 다음 링크를 참조하세요.\n",
    "\n",
    "<http://seaborn.pydata.org/generated/seaborn.load_dataset.html#seaborn.load_dataset>\n",
    "\n",
    "- 4개의 feature는 `culmen_length_mm`, `culmen_depth_mm`, `flipper_length_mm`, `body_mass_g` 입니다.\n",
    "\n",
    "- 이후 2개의 PC를 이용하여 설명되는 variance의 ratio를 `ratio`에 저장하세요.\n",
    "\n",
    "- 다음과 같은 결과가 나와야 합니다.\n",
    "\n",
    "<img src='https://i.imgur.com/5BCEHeL.png'>"
   ]
  },
  {
   "cell_type": "code",
   "execution_count": null,
   "metadata": {
    "id": "AAH42jp-vgYY"
   },
   "outputs": [],
   "source": [
    "# 이곳에 답안을 작성하시기 바랍니다"
   ]
  },
  {
   "cell_type": "markdown",
   "metadata": {
    "id": "RQx7UvsucIrL"
   },
   "source": [
    "## 🔥 도전 과제\n",
    "\n",
    "### \"Scree Plot\" 에 대해서 알아보고, 위에서 PCA로 만든 데이터셋을 사용하여 만들어보세요. 90%의 내용을 설명하기 위해서, 몇개의 PC를 사용해야 하나요?\n"
   ]
  },
  {
   "cell_type": "code",
   "execution_count": null,
   "metadata": {
    "id": "LDWgV_vG0UWb"
   },
   "outputs": [],
   "source": [
    "# 이곳에 답안을 작성하시기 바랍니다"
   ]
  }
 ],
 "metadata": {
  "colab": {
   "authorship_tag": "ABX9TyPXnnOgIKIXombh/qpO1lu/",
   "name": "n133a-high-dimensional-data.ipynb",
   "provenance": []
  },
  "kernelspec": {
   "display_name": "Python 3",
   "language": "python",
   "name": "python3"
  },
  "language_info": {
   "codemirror_mode": {
    "name": "ipython",
    "version": 3
   },
   "file_extension": ".py",
   "mimetype": "text/x-python",
   "name": "python",
   "nbconvert_exporter": "python",
   "pygments_lexer": "ipython3",
   "version": "3.8.2"
  }
 },
 "nbformat": 4,
 "nbformat_minor": 4
}
