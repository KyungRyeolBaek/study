{
 "cells": [
  {
   "cell_type": "markdown",
   "metadata": {
    "id": "NooAiTdnafkz"
   },
   "source": [
    "<img src='https://i.imgur.com/RDAD11M.png' width = '200' align = 'right'>\n",
    "\n",
    "# SC12x\n",
    "\n",
    "## Statistical Analysis"
   ]
  },
  {
   "cell_type": "markdown",
   "metadata": {
    "id": "p1WIHlUA7itE"
   },
   "source": [
    "## 개요\n",
    "\n",
    "여러분은 코스 수료를 마치고 CodeStates에 DS CA (Coaching  Assistant)로 합류했습니다.\n",
    "\n",
    "여러분에게 주어진 메인 태스크는 세션 및 수강생 핸들링이지만. \n",
    "\n",
    "시간을 짜내어 사이드 프로젝트를 하고 싶어졌습니다.\n",
    "\n",
    "AIB 팀원들과의 커피타임을 통해 수강생 데이터를 하나 받을 수 있었습니다.\n",
    "\n",
    "> 기수별 학생들 성취도 데이터인데, 어떤 의미가 있는지 확인해주세요."
   ]
  },
  {
   "cell_type": "markdown",
   "metadata": {
    "id": "WpH5PrMh-rOU"
   },
   "source": [
    "### Data Description\n",
    "\n",
    "- F1 : `N`, `D`\n",
    "- F2 : `Y`, `N`\n",
    "- F3 : `A`, `B`, `C`, `D` (기수)\n",
    "- F4 : Continuous\n",
    "- F5 : Continuous\n",
    "- F6 : `A` ~ `H`\n",
    "- F7 : Continuous\n",
    "- F8 : `X`, `Y`, `Z`\n",
    "- F9 : `Y`, `N`"
   ]
  },
  {
   "cell_type": "markdown",
   "metadata": {
    "id": "5wch6ksCbJtZ"
   },
   "source": [
    "## 1. 다음 링크를 참조하여 데이터를 불러오세요. \n",
    "\n",
    "<https://ds-lecture-data.s3.ap-northeast-2.amazonaws.com/sc12x/csdata.csv>\n",
    "\n",
    "이후 간단한 전처리를 하세요.\n"
   ]
  },
  {
   "cell_type": "code",
   "execution_count": 143,
   "metadata": {
    "id": "1vSniBMjN950"
   },
   "outputs": [
    {
     "name": "stdout",
     "output_type": "stream",
     "text": [
      "(200, 9)\n"
     ]
    },
    {
     "data": {
      "text/html": [
       "<div>\n",
       "<style scoped>\n",
       "    .dataframe tbody tr th:only-of-type {\n",
       "        vertical-align: middle;\n",
       "    }\n",
       "\n",
       "    .dataframe tbody tr th {\n",
       "        vertical-align: top;\n",
       "    }\n",
       "\n",
       "    .dataframe thead th {\n",
       "        text-align: right;\n",
       "    }\n",
       "</style>\n",
       "<table border=\"1\" class=\"dataframe\">\n",
       "  <thead>\n",
       "    <tr style=\"text-align: right;\">\n",
       "      <th></th>\n",
       "      <th>F1</th>\n",
       "      <th>F2</th>\n",
       "      <th>F3</th>\n",
       "      <th>F4</th>\n",
       "      <th>F5</th>\n",
       "      <th>F6</th>\n",
       "      <th>F7</th>\n",
       "      <th>F8</th>\n",
       "      <th>F9</th>\n",
       "    </tr>\n",
       "  </thead>\n",
       "  <tbody>\n",
       "    <tr>\n",
       "      <th>1</th>\n",
       "      <td>N</td>\n",
       "      <td>N</td>\n",
       "      <td>A</td>\n",
       "      <td>2.239542</td>\n",
       "      <td>0.773708</td>\n",
       "      <td>H</td>\n",
       "      <td>3.0</td>\n",
       "      <td>Y</td>\n",
       "      <td>Y</td>\n",
       "    </tr>\n",
       "    <tr>\n",
       "      <th>2</th>\n",
       "      <td>D</td>\n",
       "      <td>N</td>\n",
       "      <td>A</td>\n",
       "      <td>1.608900</td>\n",
       "      <td>0.133612</td>\n",
       "      <td>H</td>\n",
       "      <td>3.0</td>\n",
       "      <td>X</td>\n",
       "      <td>Y</td>\n",
       "    </tr>\n",
       "    <tr>\n",
       "      <th>3</th>\n",
       "      <td>N</td>\n",
       "      <td>N</td>\n",
       "      <td>A</td>\n",
       "      <td>2.544409</td>\n",
       "      <td>0.721873</td>\n",
       "      <td>H</td>\n",
       "      <td>8.0</td>\n",
       "      <td>Y</td>\n",
       "      <td>Y</td>\n",
       "    </tr>\n",
       "    <tr>\n",
       "      <th>4</th>\n",
       "      <td>N</td>\n",
       "      <td>Y</td>\n",
       "      <td>A</td>\n",
       "      <td>0.782857</td>\n",
       "      <td>0.259751</td>\n",
       "      <td>F</td>\n",
       "      <td>9.0</td>\n",
       "      <td>Y</td>\n",
       "      <td>N</td>\n",
       "    </tr>\n",
       "    <tr>\n",
       "      <th>5</th>\n",
       "      <td>N</td>\n",
       "      <td>N</td>\n",
       "      <td>A</td>\n",
       "      <td>1.532721</td>\n",
       "      <td>0.283534</td>\n",
       "      <td>E</td>\n",
       "      <td>4.0</td>\n",
       "      <td>Z</td>\n",
       "      <td>Y</td>\n",
       "    </tr>\n",
       "  </tbody>\n",
       "</table>\n",
       "</div>"
      ],
      "text/plain": [
       "  F1 F2 F3        F4        F5 F6   F7 F8 F9\n",
       "1  N  N  A  2.239542  0.773708  H  3.0  Y  Y\n",
       "2  D  N  A  1.608900  0.133612  H  3.0  X  Y\n",
       "3  N  N  A  2.544409  0.721873  H  8.0  Y  Y\n",
       "4  N  Y  A  0.782857  0.259751  F  9.0  Y  N\n",
       "5  N  N  A  1.532721  0.283534  E  4.0  Z  Y"
      ]
     },
     "execution_count": 143,
     "metadata": {},
     "output_type": "execute_result"
    }
   ],
   "source": [
    "import pandas as pd\n",
    "df = pd.read_csv(\"https://ds-lecture-data.s3.ap-northeast-2.amazonaws.com/sc12x/csdata.csv\", index_col=0)\n",
    "\n",
    "print(df.shape)\n",
    "df.head()"
   ]
  },
  {
   "cell_type": "code",
   "execution_count": 144,
   "metadata": {},
   "outputs": [
    {
     "data": {
      "text/html": [
       "<div>\n",
       "<style scoped>\n",
       "    .dataframe tbody tr th:only-of-type {\n",
       "        vertical-align: middle;\n",
       "    }\n",
       "\n",
       "    .dataframe tbody tr th {\n",
       "        vertical-align: top;\n",
       "    }\n",
       "\n",
       "    .dataframe thead th {\n",
       "        text-align: right;\n",
       "    }\n",
       "</style>\n",
       "<table border=\"1\" class=\"dataframe\">\n",
       "  <thead>\n",
       "    <tr style=\"text-align: right;\">\n",
       "      <th></th>\n",
       "      <th>F4</th>\n",
       "      <th>F5</th>\n",
       "      <th>F7</th>\n",
       "    </tr>\n",
       "  </thead>\n",
       "  <tbody>\n",
       "    <tr>\n",
       "      <th>count</th>\n",
       "      <td>200.000000</td>\n",
       "      <td>170.000000</td>\n",
       "      <td>197.00000</td>\n",
       "    </tr>\n",
       "    <tr>\n",
       "      <th>mean</th>\n",
       "      <td>2.512655</td>\n",
       "      <td>0.500227</td>\n",
       "      <td>4.93401</td>\n",
       "    </tr>\n",
       "    <tr>\n",
       "      <th>std</th>\n",
       "      <td>1.166105</td>\n",
       "      <td>0.289515</td>\n",
       "      <td>2.00273</td>\n",
       "    </tr>\n",
       "    <tr>\n",
       "      <th>min</th>\n",
       "      <td>0.022079</td>\n",
       "      <td>0.010212</td>\n",
       "      <td>0.00000</td>\n",
       "    </tr>\n",
       "    <tr>\n",
       "      <th>25%</th>\n",
       "      <td>1.732794</td>\n",
       "      <td>0.244191</td>\n",
       "      <td>3.00000</td>\n",
       "    </tr>\n",
       "    <tr>\n",
       "      <th>50%</th>\n",
       "      <td>2.546567</td>\n",
       "      <td>0.486618</td>\n",
       "      <td>5.00000</td>\n",
       "    </tr>\n",
       "    <tr>\n",
       "      <th>75%</th>\n",
       "      <td>3.311934</td>\n",
       "      <td>0.753421</td>\n",
       "      <td>6.00000</td>\n",
       "    </tr>\n",
       "    <tr>\n",
       "      <th>max</th>\n",
       "      <td>5.868967</td>\n",
       "      <td>0.993412</td>\n",
       "      <td>11.00000</td>\n",
       "    </tr>\n",
       "  </tbody>\n",
       "</table>\n",
       "</div>"
      ],
      "text/plain": [
       "               F4          F5         F7\n",
       "count  200.000000  170.000000  197.00000\n",
       "mean     2.512655    0.500227    4.93401\n",
       "std      1.166105    0.289515    2.00273\n",
       "min      0.022079    0.010212    0.00000\n",
       "25%      1.732794    0.244191    3.00000\n",
       "50%      2.546567    0.486618    5.00000\n",
       "75%      3.311934    0.753421    6.00000\n",
       "max      5.868967    0.993412   11.00000"
      ]
     },
     "execution_count": 144,
     "metadata": {},
     "output_type": "execute_result"
    }
   ],
   "source": [
    "df.describe()"
   ]
  },
  {
   "cell_type": "code",
   "execution_count": 145,
   "metadata": {},
   "outputs": [
    {
     "name": "stdout",
     "output_type": "stream",
     "text": [
      "<class 'pandas.core.frame.DataFrame'>\n",
      "Int64Index: 200 entries, 1 to 200\n",
      "Data columns (total 9 columns):\n",
      " #   Column  Non-Null Count  Dtype  \n",
      "---  ------  --------------  -----  \n",
      " 0   F1      200 non-null    object \n",
      " 1   F2      191 non-null    object \n",
      " 2   F3      200 non-null    object \n",
      " 3   F4      200 non-null    float64\n",
      " 4   F5      170 non-null    float64\n",
      " 5   F6      200 non-null    object \n",
      " 6   F7      197 non-null    float64\n",
      " 7   F8      200 non-null    object \n",
      " 8   F9      200 non-null    object \n",
      "dtypes: float64(3), object(6)\n",
      "memory usage: 15.6+ KB\n"
     ]
    }
   ],
   "source": [
    "df.info()"
   ]
  },
  {
   "cell_type": "code",
   "execution_count": 146,
   "metadata": {},
   "outputs": [
    {
     "data": {
      "text/html": [
       "<div>\n",
       "<style scoped>\n",
       "    .dataframe tbody tr th:only-of-type {\n",
       "        vertical-align: middle;\n",
       "    }\n",
       "\n",
       "    .dataframe tbody tr th {\n",
       "        vertical-align: top;\n",
       "    }\n",
       "\n",
       "    .dataframe thead th {\n",
       "        text-align: right;\n",
       "    }\n",
       "</style>\n",
       "<table border=\"1\" class=\"dataframe\">\n",
       "  <thead>\n",
       "    <tr style=\"text-align: right;\">\n",
       "      <th></th>\n",
       "      <th>F1</th>\n",
       "      <th>F2</th>\n",
       "      <th>F3</th>\n",
       "      <th>F4</th>\n",
       "      <th>F5</th>\n",
       "      <th>F6</th>\n",
       "      <th>F7</th>\n",
       "      <th>F8</th>\n",
       "      <th>F9</th>\n",
       "    </tr>\n",
       "  </thead>\n",
       "  <tbody>\n",
       "    <tr>\n",
       "      <th>20</th>\n",
       "      <td>N</td>\n",
       "      <td>NaN</td>\n",
       "      <td>A</td>\n",
       "      <td>1.928164</td>\n",
       "      <td>0.222397</td>\n",
       "      <td>G</td>\n",
       "      <td>6.0</td>\n",
       "      <td>Y</td>\n",
       "      <td>N</td>\n",
       "    </tr>\n",
       "    <tr>\n",
       "      <th>54</th>\n",
       "      <td>N</td>\n",
       "      <td>NaN</td>\n",
       "      <td>b</td>\n",
       "      <td>3.311876</td>\n",
       "      <td>0.036056</td>\n",
       "      <td>G</td>\n",
       "      <td>4.0</td>\n",
       "      <td>Z</td>\n",
       "      <td>N</td>\n",
       "    </tr>\n",
       "    <tr>\n",
       "      <th>85</th>\n",
       "      <td>N</td>\n",
       "      <td>NaN</td>\n",
       "      <td>B</td>\n",
       "      <td>3.705537</td>\n",
       "      <td>0.036873</td>\n",
       "      <td>H</td>\n",
       "      <td>4.0</td>\n",
       "      <td>X</td>\n",
       "      <td>N</td>\n",
       "    </tr>\n",
       "    <tr>\n",
       "      <th>96</th>\n",
       "      <td>N</td>\n",
       "      <td>NaN</td>\n",
       "      <td>b</td>\n",
       "      <td>2.196954</td>\n",
       "      <td>0.373770</td>\n",
       "      <td>G</td>\n",
       "      <td>6.0</td>\n",
       "      <td>X</td>\n",
       "      <td>Y</td>\n",
       "    </tr>\n",
       "    <tr>\n",
       "      <th>109</th>\n",
       "      <td>N</td>\n",
       "      <td>NaN</td>\n",
       "      <td>C</td>\n",
       "      <td>3.376163</td>\n",
       "      <td>0.428907</td>\n",
       "      <td>F</td>\n",
       "      <td>5.0</td>\n",
       "      <td>X</td>\n",
       "      <td>Y</td>\n",
       "    </tr>\n",
       "    <tr>\n",
       "      <th>140</th>\n",
       "      <td>N</td>\n",
       "      <td>NaN</td>\n",
       "      <td>c</td>\n",
       "      <td>3.773357</td>\n",
       "      <td>0.825418</td>\n",
       "      <td>G</td>\n",
       "      <td>3.0</td>\n",
       "      <td>X</td>\n",
       "      <td>N</td>\n",
       "    </tr>\n",
       "    <tr>\n",
       "      <th>143</th>\n",
       "      <td>N</td>\n",
       "      <td>NaN</td>\n",
       "      <td>C</td>\n",
       "      <td>2.472788</td>\n",
       "      <td>0.544661</td>\n",
       "      <td>H</td>\n",
       "      <td>3.0</td>\n",
       "      <td>Z</td>\n",
       "      <td>N</td>\n",
       "    </tr>\n",
       "    <tr>\n",
       "      <th>153</th>\n",
       "      <td>N</td>\n",
       "      <td>NaN</td>\n",
       "      <td>D</td>\n",
       "      <td>3.478428</td>\n",
       "      <td>0.412326</td>\n",
       "      <td>G</td>\n",
       "      <td>6.0</td>\n",
       "      <td>Y</td>\n",
       "      <td>N</td>\n",
       "    </tr>\n",
       "    <tr>\n",
       "      <th>191</th>\n",
       "      <td>D</td>\n",
       "      <td>NaN</td>\n",
       "      <td>D</td>\n",
       "      <td>2.467199</td>\n",
       "      <td>0.065689</td>\n",
       "      <td>H</td>\n",
       "      <td>8.0</td>\n",
       "      <td>Z</td>\n",
       "      <td>Y</td>\n",
       "    </tr>\n",
       "  </tbody>\n",
       "</table>\n",
       "</div>"
      ],
      "text/plain": [
       "    F1   F2 F3        F4        F5 F6   F7 F8 F9\n",
       "20   N  NaN  A  1.928164  0.222397  G  6.0  Y  N\n",
       "54   N  NaN  b  3.311876  0.036056  G  4.0  Z  N\n",
       "85   N  NaN  B  3.705537  0.036873  H  4.0  X  N\n",
       "96   N  NaN  b  2.196954  0.373770  G  6.0  X  Y\n",
       "109  N  NaN  C  3.376163  0.428907  F  5.0  X  Y\n",
       "140  N  NaN  c  3.773357  0.825418  G  3.0  X  N\n",
       "143  N  NaN  C  2.472788  0.544661  H  3.0  Z  N\n",
       "153  N  NaN  D  3.478428  0.412326  G  6.0  Y  N\n",
       "191  D  NaN  D  2.467199  0.065689  H  8.0  Z  Y"
      ]
     },
     "execution_count": 146,
     "metadata": {},
     "output_type": "execute_result"
    }
   ],
   "source": [
    "df.loc[df['F2'].isnull()]"
   ]
  },
  {
   "cell_type": "code",
   "execution_count": 147,
   "metadata": {},
   "outputs": [
    {
     "data": {
      "text/html": [
       "<div>\n",
       "<style scoped>\n",
       "    .dataframe tbody tr th:only-of-type {\n",
       "        vertical-align: middle;\n",
       "    }\n",
       "\n",
       "    .dataframe tbody tr th {\n",
       "        vertical-align: top;\n",
       "    }\n",
       "\n",
       "    .dataframe thead th {\n",
       "        text-align: right;\n",
       "    }\n",
       "</style>\n",
       "<table border=\"1\" class=\"dataframe\">\n",
       "  <thead>\n",
       "    <tr style=\"text-align: right;\">\n",
       "      <th></th>\n",
       "      <th>F1</th>\n",
       "      <th>F2</th>\n",
       "      <th>F3</th>\n",
       "      <th>F4</th>\n",
       "      <th>F5</th>\n",
       "      <th>F6</th>\n",
       "      <th>F7</th>\n",
       "      <th>F8</th>\n",
       "      <th>F9</th>\n",
       "    </tr>\n",
       "  </thead>\n",
       "  <tbody>\n",
       "    <tr>\n",
       "      <th>11</th>\n",
       "      <td>N</td>\n",
       "      <td>N</td>\n",
       "      <td>A</td>\n",
       "      <td>2.004147</td>\n",
       "      <td>NaN</td>\n",
       "      <td>G</td>\n",
       "      <td>7.0</td>\n",
       "      <td>X</td>\n",
       "      <td>N</td>\n",
       "    </tr>\n",
       "    <tr>\n",
       "      <th>16</th>\n",
       "      <td>N</td>\n",
       "      <td>N</td>\n",
       "      <td>A</td>\n",
       "      <td>0.792815</td>\n",
       "      <td>NaN</td>\n",
       "      <td>G</td>\n",
       "      <td>6.0</td>\n",
       "      <td>Y</td>\n",
       "      <td>Y</td>\n",
       "    </tr>\n",
       "    <tr>\n",
       "      <th>24</th>\n",
       "      <td>N</td>\n",
       "      <td>N</td>\n",
       "      <td>A</td>\n",
       "      <td>0.252420</td>\n",
       "      <td>NaN</td>\n",
       "      <td>D</td>\n",
       "      <td>9.0</td>\n",
       "      <td>Z</td>\n",
       "      <td>N</td>\n",
       "    </tr>\n",
       "    <tr>\n",
       "      <th>28</th>\n",
       "      <td>D</td>\n",
       "      <td>N</td>\n",
       "      <td>A</td>\n",
       "      <td>4.155266</td>\n",
       "      <td>NaN</td>\n",
       "      <td>F</td>\n",
       "      <td>7.0</td>\n",
       "      <td>Y</td>\n",
       "      <td>N</td>\n",
       "    </tr>\n",
       "    <tr>\n",
       "      <th>47</th>\n",
       "      <td>N</td>\n",
       "      <td>N</td>\n",
       "      <td>a</td>\n",
       "      <td>2.748993</td>\n",
       "      <td>NaN</td>\n",
       "      <td>H</td>\n",
       "      <td>6.0</td>\n",
       "      <td>Z</td>\n",
       "      <td>Y</td>\n",
       "    </tr>\n",
       "  </tbody>\n",
       "</table>\n",
       "</div>"
      ],
      "text/plain": [
       "   F1 F2 F3        F4  F5 F6   F7 F8 F9\n",
       "11  N  N  A  2.004147 NaN  G  7.0  X  N\n",
       "16  N  N  A  0.792815 NaN  G  6.0  Y  Y\n",
       "24  N  N  A  0.252420 NaN  D  9.0  Z  N\n",
       "28  D  N  A  4.155266 NaN  F  7.0  Y  N\n",
       "47  N  N  a  2.748993 NaN  H  6.0  Z  Y"
      ]
     },
     "execution_count": 147,
     "metadata": {},
     "output_type": "execute_result"
    }
   ],
   "source": [
    "df.loc[df['F5'].isnull()].head()"
   ]
  },
  {
   "cell_type": "code",
   "execution_count": 148,
   "metadata": {},
   "outputs": [
    {
     "name": "stdout",
     "output_type": "stream",
     "text": [
      "(191, 9)\n"
     ]
    },
    {
     "data": {
      "text/html": [
       "<div>\n",
       "<style scoped>\n",
       "    .dataframe tbody tr th:only-of-type {\n",
       "        vertical-align: middle;\n",
       "    }\n",
       "\n",
       "    .dataframe tbody tr th {\n",
       "        vertical-align: top;\n",
       "    }\n",
       "\n",
       "    .dataframe thead th {\n",
       "        text-align: right;\n",
       "    }\n",
       "</style>\n",
       "<table border=\"1\" class=\"dataframe\">\n",
       "  <thead>\n",
       "    <tr style=\"text-align: right;\">\n",
       "      <th></th>\n",
       "      <th>F1</th>\n",
       "      <th>F2</th>\n",
       "      <th>F3</th>\n",
       "      <th>F4</th>\n",
       "      <th>F5</th>\n",
       "      <th>F6</th>\n",
       "      <th>F7</th>\n",
       "      <th>F8</th>\n",
       "      <th>F9</th>\n",
       "    </tr>\n",
       "  </thead>\n",
       "  <tbody>\n",
       "    <tr>\n",
       "      <th>1</th>\n",
       "      <td>N</td>\n",
       "      <td>N</td>\n",
       "      <td>A</td>\n",
       "      <td>2.239542</td>\n",
       "      <td>0.773708</td>\n",
       "      <td>H</td>\n",
       "      <td>3.0</td>\n",
       "      <td>Y</td>\n",
       "      <td>Y</td>\n",
       "    </tr>\n",
       "    <tr>\n",
       "      <th>2</th>\n",
       "      <td>D</td>\n",
       "      <td>N</td>\n",
       "      <td>A</td>\n",
       "      <td>1.608900</td>\n",
       "      <td>0.133612</td>\n",
       "      <td>H</td>\n",
       "      <td>3.0</td>\n",
       "      <td>X</td>\n",
       "      <td>Y</td>\n",
       "    </tr>\n",
       "    <tr>\n",
       "      <th>3</th>\n",
       "      <td>N</td>\n",
       "      <td>N</td>\n",
       "      <td>A</td>\n",
       "      <td>2.544409</td>\n",
       "      <td>0.721873</td>\n",
       "      <td>H</td>\n",
       "      <td>8.0</td>\n",
       "      <td>Y</td>\n",
       "      <td>Y</td>\n",
       "    </tr>\n",
       "    <tr>\n",
       "      <th>4</th>\n",
       "      <td>N</td>\n",
       "      <td>Y</td>\n",
       "      <td>A</td>\n",
       "      <td>0.782857</td>\n",
       "      <td>0.259751</td>\n",
       "      <td>F</td>\n",
       "      <td>9.0</td>\n",
       "      <td>Y</td>\n",
       "      <td>N</td>\n",
       "    </tr>\n",
       "    <tr>\n",
       "      <th>5</th>\n",
       "      <td>N</td>\n",
       "      <td>N</td>\n",
       "      <td>A</td>\n",
       "      <td>1.532721</td>\n",
       "      <td>0.283534</td>\n",
       "      <td>E</td>\n",
       "      <td>4.0</td>\n",
       "      <td>Z</td>\n",
       "      <td>Y</td>\n",
       "    </tr>\n",
       "  </tbody>\n",
       "</table>\n",
       "</div>"
      ],
      "text/plain": [
       "  F1 F2 F3        F4        F5 F6   F7 F8 F9\n",
       "1  N  N  A  2.239542  0.773708  H  3.0  Y  Y\n",
       "2  D  N  A  1.608900  0.133612  H  3.0  X  Y\n",
       "3  N  N  A  2.544409  0.721873  H  8.0  Y  Y\n",
       "4  N  Y  A  0.782857  0.259751  F  9.0  Y  N\n",
       "5  N  N  A  1.532721  0.283534  E  4.0  Z  Y"
      ]
     },
     "execution_count": 148,
     "metadata": {},
     "output_type": "execute_result"
    }
   ],
   "source": [
    "# F2의 결측치 제거\n",
    "df = df.loc[~(df['F2'].isnull())]  # ~ = 조건문의 반대 조건\n",
    "print(df.shape)\n",
    "df.head()"
   ]
  },
  {
   "cell_type": "code",
   "execution_count": 149,
   "metadata": {},
   "outputs": [
    {
     "name": "stdout",
     "output_type": "stream",
     "text": [
      "(188, 9)\n",
      "<class 'pandas.core.frame.DataFrame'>\n",
      "Int64Index: 188 entries, 1 to 200\n",
      "Data columns (total 9 columns):\n",
      " #   Column  Non-Null Count  Dtype  \n",
      "---  ------  --------------  -----  \n",
      " 0   F1      188 non-null    object \n",
      " 1   F2      188 non-null    object \n",
      " 2   F3      188 non-null    object \n",
      " 3   F4      188 non-null    float64\n",
      " 4   F5      158 non-null    float64\n",
      " 5   F6      188 non-null    object \n",
      " 6   F7      188 non-null    float64\n",
      " 7   F8      188 non-null    object \n",
      " 8   F9      188 non-null    object \n",
      "dtypes: float64(3), object(6)\n",
      "memory usage: 14.7+ KB\n"
     ]
    }
   ],
   "source": [
    "# F7의 결측치 제거\n",
    "df = df.loc[~(df['F7'].isnull())]\n",
    "print(df.shape)\n",
    "df.info()"
   ]
  },
  {
   "cell_type": "code",
   "execution_count": 150,
   "metadata": {},
   "outputs": [
    {
     "data": {
      "text/plain": [
       "array(['A', 'a', 'B', 'b', 'C', 'c', 'D', 'd'], dtype=object)"
      ]
     },
     "execution_count": 150,
     "metadata": {},
     "output_type": "execute_result"
    }
   ],
   "source": [
    "# 상이 된 값들이 확인 됩니다\n",
    "df['F3'].unique()"
   ]
  },
  {
   "cell_type": "code",
   "execution_count": 151,
   "metadata": {},
   "outputs": [
    {
     "data": {
      "text/plain": [
       "array(['A', 'B', 'C', 'D'], dtype=object)"
      ]
     },
     "execution_count": 151,
     "metadata": {},
     "output_type": "execute_result"
    }
   ],
   "source": [
    "# 전부 대문자로 변형\n",
    "df['F3'] = df['F3'].str.upper()\n",
    "df['F3'].unique()"
   ]
  },
  {
   "cell_type": "code",
   "execution_count": 152,
   "metadata": {},
   "outputs": [
    {
     "data": {
      "text/plain": [
       "count    158.000000\n",
       "mean       0.509418\n",
       "std        0.287485\n",
       "min        0.010212\n",
       "25%        0.260846\n",
       "50%        0.495499\n",
       "75%        0.754274\n",
       "max        0.992745\n",
       "Name: F5, dtype: float64"
      ]
     },
     "execution_count": 152,
     "metadata": {},
     "output_type": "execute_result"
    }
   ],
   "source": [
    "df['F5'].describe()"
   ]
  },
  {
   "cell_type": "code",
   "execution_count": 153,
   "metadata": {},
   "outputs": [
    {
     "name": "stdout",
     "output_type": "stream",
     "text": [
      "0\n",
      "<class 'pandas.core.frame.DataFrame'>\n",
      "Int64Index: 188 entries, 1 to 200\n",
      "Data columns (total 9 columns):\n",
      " #   Column  Non-Null Count  Dtype  \n",
      "---  ------  --------------  -----  \n",
      " 0   F1      188 non-null    object \n",
      " 1   F2      188 non-null    object \n",
      " 2   F3      188 non-null    object \n",
      " 3   F4      188 non-null    float64\n",
      " 4   F5      188 non-null    float64\n",
      " 5   F6      188 non-null    object \n",
      " 6   F7      188 non-null    float64\n",
      " 7   F8      188 non-null    object \n",
      " 8   F9      188 non-null    object \n",
      "dtypes: float64(3), object(6)\n",
      "memory usage: 14.7+ KB\n"
     ]
    }
   ],
   "source": [
    "df['F5'] = df['F5'].fillna(df['F5'].mean())\n",
    "print(df['F5'].isnull().sum())\n",
    "df.info()"
   ]
  },
  {
   "cell_type": "markdown",
   "metadata": {
    "id": "G7rLytbrO38L"
   },
   "source": [
    "## 2. **F3**에 따라서 다른 Feature들이 어떤 경향을 나타내는지 해석해보세요.\n",
    "\n",
    "- categorical feature의 경우 crosstab을 사용하여 [contingency tables](https://en.wikipedia.org/wiki/Contingency_table)과 chi-square를 시도해 볼 수 있습니다.\n",
    "\n",
    "- continuous feature의 경우 여러 시각화와 t-test를 할 수 있을 겁니다.\n",
    "\n",
    "- 이를 바탕으로 **가장 유의미한** 그리고 **가장 무의미한** feature를 찾아보세요.\n",
    "\n",
    "여기서 여러분들의 목표는 \n",
    "\n",
    "`F3`에 따라서 다른 feature들이 영향이 있는지 없는지를 알아보는 \n",
    "\n",
    "**가설검정** 입니다.\n",
    "\n",
    "따라서 데이터 탐색 및 시각화 작업에 너무 많은 시간을 쏟지 마세요. 이것은 사이드 프로젝트 입니다."
   ]
  },
  {
   "cell_type": "code",
   "execution_count": 154,
   "metadata": {},
   "outputs": [
    {
     "data": {
      "text/html": [
       "<div>\n",
       "<style scoped>\n",
       "    .dataframe tbody tr th:only-of-type {\n",
       "        vertical-align: middle;\n",
       "    }\n",
       "\n",
       "    .dataframe tbody tr th {\n",
       "        vertical-align: top;\n",
       "    }\n",
       "\n",
       "    .dataframe thead th {\n",
       "        text-align: right;\n",
       "    }\n",
       "</style>\n",
       "<table border=\"1\" class=\"dataframe\">\n",
       "  <thead>\n",
       "    <tr style=\"text-align: right;\">\n",
       "      <th>F3</th>\n",
       "      <th>A</th>\n",
       "      <th>B</th>\n",
       "      <th>C</th>\n",
       "      <th>D</th>\n",
       "    </tr>\n",
       "    <tr>\n",
       "      <th>F1</th>\n",
       "      <th></th>\n",
       "      <th></th>\n",
       "      <th></th>\n",
       "      <th></th>\n",
       "    </tr>\n",
       "  </thead>\n",
       "  <tbody>\n",
       "    <tr>\n",
       "      <th>D</th>\n",
       "      <td>6</td>\n",
       "      <td>9</td>\n",
       "      <td>10</td>\n",
       "      <td>9</td>\n",
       "    </tr>\n",
       "    <tr>\n",
       "      <th>N</th>\n",
       "      <td>42</td>\n",
       "      <td>37</td>\n",
       "      <td>37</td>\n",
       "      <td>38</td>\n",
       "    </tr>\n",
       "  </tbody>\n",
       "</table>\n",
       "</div>"
      ],
      "text/plain": [
       "F3   A   B   C   D\n",
       "F1                \n",
       "D    6   9  10   9\n",
       "N   42  37  37  38"
      ]
     },
     "metadata": {},
     "output_type": "display_data"
    },
    {
     "data": {
      "text/plain": [
       "(1.4377719467233525,\n",
       " 0.6967051489258402,\n",
       " 3,\n",
       " array([[ 8.68085106,  8.31914894,  8.5       ,  8.5       ],\n",
       "        [39.31914894, 37.68085106, 38.5       , 38.5       ]]))"
      ]
     },
     "execution_count": 154,
     "metadata": {},
     "output_type": "execute_result"
    }
   ],
   "source": [
    "# 범주형 특성의 통계 가설 검정을 위해 chi-square test 진행 (F1, F2, F6, F8, F9 vs. F3)\n",
    "from scipy.stats import chi2_contingency\n",
    "\n",
    "# contingency table\n",
    "display(pd.crosstab(df['F1'], df['F3'], margins = False))\n",
    "\n",
    "# chi-square 검정\n",
    "chi2_contingency(pd.crosstab(df['F1'], df['F3'], margins = False)) # p-value = 0.697"
   ]
  },
  {
   "cell_type": "code",
   "execution_count": 155,
   "metadata": {},
   "outputs": [
    {
     "data": {
      "text/html": [
       "<div>\n",
       "<style scoped>\n",
       "    .dataframe tbody tr th:only-of-type {\n",
       "        vertical-align: middle;\n",
       "    }\n",
       "\n",
       "    .dataframe tbody tr th {\n",
       "        vertical-align: top;\n",
       "    }\n",
       "\n",
       "    .dataframe thead th {\n",
       "        text-align: right;\n",
       "    }\n",
       "</style>\n",
       "<table border=\"1\" class=\"dataframe\">\n",
       "  <thead>\n",
       "    <tr style=\"text-align: right;\">\n",
       "      <th>F3</th>\n",
       "      <th>A</th>\n",
       "      <th>B</th>\n",
       "      <th>C</th>\n",
       "      <th>D</th>\n",
       "    </tr>\n",
       "    <tr>\n",
       "      <th>F2</th>\n",
       "      <th></th>\n",
       "      <th></th>\n",
       "      <th></th>\n",
       "      <th></th>\n",
       "    </tr>\n",
       "  </thead>\n",
       "  <tbody>\n",
       "    <tr>\n",
       "      <th>N</th>\n",
       "      <td>44</td>\n",
       "      <td>44</td>\n",
       "      <td>42</td>\n",
       "      <td>46</td>\n",
       "    </tr>\n",
       "    <tr>\n",
       "      <th>Y</th>\n",
       "      <td>4</td>\n",
       "      <td>2</td>\n",
       "      <td>5</td>\n",
       "      <td>1</td>\n",
       "    </tr>\n",
       "  </tbody>\n",
       "</table>\n",
       "</div>"
      ],
      "text/plain": [
       "F3   A   B   C   D\n",
       "F2                \n",
       "N   44  44  42  46\n",
       "Y    4   2   5   1"
      ]
     },
     "metadata": {},
     "output_type": "display_data"
    },
    {
     "data": {
      "text/plain": [
       "(3.472880983750549,\n",
       " 0.3242964364801447,\n",
       " 3,\n",
       " array([[44.93617021, 43.06382979, 44.        , 44.        ],\n",
       "        [ 3.06382979,  2.93617021,  3.        ,  3.        ]]))"
      ]
     },
     "execution_count": 155,
     "metadata": {},
     "output_type": "execute_result"
    }
   ],
   "source": [
    "display(pd.crosstab(df['F2'], df['F3'], margins = False))\n",
    "chi2_contingency(pd.crosstab(df['F2'], df['F3'], margins = False)) # p-value = 0.324"
   ]
  },
  {
   "cell_type": "code",
   "execution_count": 156,
   "metadata": {},
   "outputs": [
    {
     "data": {
      "text/html": [
       "<div>\n",
       "<style scoped>\n",
       "    .dataframe tbody tr th:only-of-type {\n",
       "        vertical-align: middle;\n",
       "    }\n",
       "\n",
       "    .dataframe tbody tr th {\n",
       "        vertical-align: top;\n",
       "    }\n",
       "\n",
       "    .dataframe thead th {\n",
       "        text-align: right;\n",
       "    }\n",
       "</style>\n",
       "<table border=\"1\" class=\"dataframe\">\n",
       "  <thead>\n",
       "    <tr style=\"text-align: right;\">\n",
       "      <th>F3</th>\n",
       "      <th>A</th>\n",
       "      <th>B</th>\n",
       "      <th>C</th>\n",
       "      <th>D</th>\n",
       "    </tr>\n",
       "    <tr>\n",
       "      <th>F6</th>\n",
       "      <th></th>\n",
       "      <th></th>\n",
       "      <th></th>\n",
       "      <th></th>\n",
       "    </tr>\n",
       "  </thead>\n",
       "  <tbody>\n",
       "    <tr>\n",
       "      <th>B</th>\n",
       "      <td>0</td>\n",
       "      <td>1</td>\n",
       "      <td>0</td>\n",
       "      <td>0</td>\n",
       "    </tr>\n",
       "    <tr>\n",
       "      <th>C</th>\n",
       "      <td>1</td>\n",
       "      <td>1</td>\n",
       "      <td>1</td>\n",
       "      <td>2</td>\n",
       "    </tr>\n",
       "    <tr>\n",
       "      <th>D</th>\n",
       "      <td>2</td>\n",
       "      <td>2</td>\n",
       "      <td>1</td>\n",
       "      <td>1</td>\n",
       "    </tr>\n",
       "    <tr>\n",
       "      <th>E</th>\n",
       "      <td>5</td>\n",
       "      <td>4</td>\n",
       "      <td>5</td>\n",
       "      <td>4</td>\n",
       "    </tr>\n",
       "    <tr>\n",
       "      <th>F</th>\n",
       "      <td>8</td>\n",
       "      <td>15</td>\n",
       "      <td>8</td>\n",
       "      <td>5</td>\n",
       "    </tr>\n",
       "    <tr>\n",
       "      <th>G</th>\n",
       "      <td>9</td>\n",
       "      <td>9</td>\n",
       "      <td>13</td>\n",
       "      <td>12</td>\n",
       "    </tr>\n",
       "    <tr>\n",
       "      <th>H</th>\n",
       "      <td>23</td>\n",
       "      <td>14</td>\n",
       "      <td>19</td>\n",
       "      <td>23</td>\n",
       "    </tr>\n",
       "  </tbody>\n",
       "</table>\n",
       "</div>"
      ],
      "text/plain": [
       "F3   A   B   C   D\n",
       "F6                \n",
       "B    0   1   0   0\n",
       "C    1   1   1   2\n",
       "D    2   2   1   1\n",
       "E    5   4   5   4\n",
       "F    8  15   8   5\n",
       "G    9   9  13  12\n",
       "H   23  14  19  23"
      ]
     },
     "metadata": {},
     "output_type": "display_data"
    },
    {
     "data": {
      "text/plain": [
       "(14.55861640492677,\n",
       " 0.6920174637926282,\n",
       " 18,\n",
       " array([[ 0.25531915,  0.24468085,  0.25      ,  0.25      ],\n",
       "        [ 1.27659574,  1.22340426,  1.25      ,  1.25      ],\n",
       "        [ 1.53191489,  1.46808511,  1.5       ,  1.5       ],\n",
       "        [ 4.59574468,  4.40425532,  4.5       ,  4.5       ],\n",
       "        [ 9.19148936,  8.80851064,  9.        ,  9.        ],\n",
       "        [10.9787234 , 10.5212766 , 10.75      , 10.75      ],\n",
       "        [20.17021277, 19.32978723, 19.75      , 19.75      ]]))"
      ]
     },
     "execution_count": 156,
     "metadata": {},
     "output_type": "execute_result"
    }
   ],
   "source": [
    "display(pd.crosstab(df['F6'], df['F3'], margins = False))\n",
    "chi2_contingency(pd.crosstab(df['F6'], df['F3'], margins = False)) # pvalue = 0.692"
   ]
  },
  {
   "cell_type": "code",
   "execution_count": 157,
   "metadata": {},
   "outputs": [
    {
     "data": {
      "text/html": [
       "<div>\n",
       "<style scoped>\n",
       "    .dataframe tbody tr th:only-of-type {\n",
       "        vertical-align: middle;\n",
       "    }\n",
       "\n",
       "    .dataframe tbody tr th {\n",
       "        vertical-align: top;\n",
       "    }\n",
       "\n",
       "    .dataframe thead th {\n",
       "        text-align: right;\n",
       "    }\n",
       "</style>\n",
       "<table border=\"1\" class=\"dataframe\">\n",
       "  <thead>\n",
       "    <tr style=\"text-align: right;\">\n",
       "      <th>F3</th>\n",
       "      <th>A</th>\n",
       "      <th>B</th>\n",
       "      <th>C</th>\n",
       "      <th>D</th>\n",
       "    </tr>\n",
       "    <tr>\n",
       "      <th>F8</th>\n",
       "      <th></th>\n",
       "      <th></th>\n",
       "      <th></th>\n",
       "      <th></th>\n",
       "    </tr>\n",
       "  </thead>\n",
       "  <tbody>\n",
       "    <tr>\n",
       "      <th>X</th>\n",
       "      <td>9</td>\n",
       "      <td>5</td>\n",
       "      <td>13</td>\n",
       "      <td>12</td>\n",
       "    </tr>\n",
       "    <tr>\n",
       "      <th>Y</th>\n",
       "      <td>25</td>\n",
       "      <td>27</td>\n",
       "      <td>21</td>\n",
       "      <td>22</td>\n",
       "    </tr>\n",
       "    <tr>\n",
       "      <th>Z</th>\n",
       "      <td>14</td>\n",
       "      <td>14</td>\n",
       "      <td>13</td>\n",
       "      <td>13</td>\n",
       "    </tr>\n",
       "  </tbody>\n",
       "</table>\n",
       "</div>"
      ],
      "text/plain": [
       "F3   A   B   C   D\n",
       "F8                \n",
       "X    9   5  13  12\n",
       "Y   25  27  21  22\n",
       "Z   14  14  13  13"
      ]
     },
     "metadata": {},
     "output_type": "display_data"
    },
    {
     "data": {
      "text/plain": [
       "(5.021174328115594,\n",
       " 0.5411002323035743,\n",
       " 6,\n",
       " array([[ 9.95744681,  9.54255319,  9.75      ,  9.75      ],\n",
       "        [24.25531915, 23.24468085, 23.75      , 23.75      ],\n",
       "        [13.78723404, 13.21276596, 13.5       , 13.5       ]]))"
      ]
     },
     "execution_count": 157,
     "metadata": {},
     "output_type": "execute_result"
    }
   ],
   "source": [
    "display(pd.crosstab(df['F8'], df['F3'], margins = False))\n",
    "chi2_contingency(pd.crosstab(df['F8'], df['F3'], margins = False)) # pvalue = 0.541"
   ]
  },
  {
   "cell_type": "code",
   "execution_count": 158,
   "metadata": {},
   "outputs": [
    {
     "data": {
      "text/html": [
       "<div>\n",
       "<style scoped>\n",
       "    .dataframe tbody tr th:only-of-type {\n",
       "        vertical-align: middle;\n",
       "    }\n",
       "\n",
       "    .dataframe tbody tr th {\n",
       "        vertical-align: top;\n",
       "    }\n",
       "\n",
       "    .dataframe thead th {\n",
       "        text-align: right;\n",
       "    }\n",
       "</style>\n",
       "<table border=\"1\" class=\"dataframe\">\n",
       "  <thead>\n",
       "    <tr style=\"text-align: right;\">\n",
       "      <th>F3</th>\n",
       "      <th>A</th>\n",
       "      <th>B</th>\n",
       "      <th>C</th>\n",
       "      <th>D</th>\n",
       "    </tr>\n",
       "    <tr>\n",
       "      <th>F9</th>\n",
       "      <th></th>\n",
       "      <th></th>\n",
       "      <th></th>\n",
       "      <th></th>\n",
       "    </tr>\n",
       "  </thead>\n",
       "  <tbody>\n",
       "    <tr>\n",
       "      <th>N</th>\n",
       "      <td>24</td>\n",
       "      <td>25</td>\n",
       "      <td>26</td>\n",
       "      <td>27</td>\n",
       "    </tr>\n",
       "    <tr>\n",
       "      <th>Y</th>\n",
       "      <td>24</td>\n",
       "      <td>21</td>\n",
       "      <td>21</td>\n",
       "      <td>20</td>\n",
       "    </tr>\n",
       "  </tbody>\n",
       "</table>\n",
       "</div>"
      ],
      "text/plain": [
       "F3   A   B   C   D\n",
       "F9                \n",
       "N   24  25  26  27\n",
       "Y   24  21  21  20"
      ]
     },
     "metadata": {},
     "output_type": "display_data"
    },
    {
     "data": {
      "text/plain": [
       "(0.5646820912389221,\n",
       " 0.904467812423293,\n",
       " 3,\n",
       " array([[26.04255319, 24.95744681, 25.5       , 25.5       ],\n",
       "        [21.95744681, 21.04255319, 21.5       , 21.5       ]]))"
      ]
     },
     "execution_count": 158,
     "metadata": {},
     "output_type": "execute_result"
    }
   ],
   "source": [
    "display(pd.crosstab(df['F9'], df['F3'], margins = False))\n",
    "chi2_contingency(pd.crosstab(df['F9'], df['F3'], margins = False)) # pvalue = 0.904"
   ]
  },
  {
   "cell_type": "code",
   "execution_count": 159,
   "metadata": {},
   "outputs": [
    {
     "data": {
      "text/plain": [
       "<AxesSubplot:xlabel='F3', ylabel='F4'>"
      ]
     },
     "execution_count": 159,
     "metadata": {},
     "output_type": "execute_result"
    },
    {
     "data": {
      "image/png": "[encoded data removed]",
      "text/plain": [
       "<Figure size 432x288 with 1 Axes>"
      ]
     },
     "metadata": {
      "needs_background": "light"
     },
     "output_type": "display_data"
    }
   ],
   "source": [
    "import seaborn as sns\n",
    "\n",
    "# 시각화를 통해 유의미한 결과를 낼 것 같은 특성을 찾아봅니다\n",
    "sns.boxplot(x = 'F3', y = 'F4', data = df)"
   ]
  },
  {
   "cell_type": "code",
   "execution_count": 160,
   "metadata": {},
   "outputs": [
    {
     "data": {
      "text/plain": [
       "<AxesSubplot:xlabel='F3', ylabel='F5'>"
      ]
     },
     "execution_count": 160,
     "metadata": {},
     "output_type": "execute_result"
    },
    {
     "data": {
      "image/png": "[encoded data removed]",
      "text/plain": [
       "<Figure size 432x288 with 1 Axes>"
      ]
     },
     "metadata": {
      "needs_background": "light"
     },
     "output_type": "display_data"
    }
   ],
   "source": [
    "sns.boxplot(x = 'F3', y = 'F5', data = df)"
   ]
  },
  {
   "cell_type": "code",
   "execution_count": 161,
   "metadata": {},
   "outputs": [
    {
     "data": {
      "text/plain": [
       "<AxesSubplot:xlabel='F3', ylabel='F7'>"
      ]
     },
     "execution_count": 161,
     "metadata": {},
     "output_type": "execute_result"
    },
    {
     "data": {
      "image/png": "[encoded data removed]",
      "text/plain": [
       "<Figure size 432x288 with 1 Axes>"
      ]
     },
     "metadata": {
      "needs_background": "light"
     },
     "output_type": "display_data"
    }
   ],
   "source": [
    "sns.boxplot(x = 'F3', y = 'F7', data = df)"
   ]
  },
  {
   "cell_type": "code",
   "execution_count": 162,
   "metadata": {},
   "outputs": [],
   "source": [
    "# Label 값으로 df를 나눕니다\n",
    "df_a = df.loc[df['F3'] == 'A']\n",
    "df_b = df.loc[df['F3'] == 'B']\n",
    "df_c = df.loc[df['F3'] == 'C']\n",
    "df_d = df.loc[df['F3'] == 'D']"
   ]
  },
  {
   "cell_type": "code",
   "execution_count": 163,
   "metadata": {},
   "outputs": [
    {
     "name": "stdout",
     "output_type": "stream",
     "text": [
      "Ttest_indResult(statistic=0.4851923117378722, pvalue=0.6286933117456233)\n",
      "Ttest_indResult(statistic=-0.05423608234573403, pvalue=0.956864676261056)\n",
      "Ttest_indResult(statistic=0.15509411900926384, pvalue=0.8770832353516271)\n",
      "Ttest_indResult(statistic=-0.3054371587024964, pvalue=0.760730797060728)\n"
     ]
    }
   ],
   "source": [
    "import scipy.stats as st\n",
    "\n",
    "# 2-sample t-test 진행\n",
    "print(st.ttest_ind(df_a['F7'], df_b['F7']))  # p-value = 0.6286933117456233\n",
    "print(st.ttest_ind(df_c['F7'], df_d['F7']))  # p-value = 0.956864676261056\n",
    "print(st.ttest_ind(df_a['F7'], df_d['F7']))  # p-value = 0.8770832353516271\n",
    "print(st.ttest_ind(df_b['F7'], df_c['F7']))  # p-value = 0.760730797060728"
   ]
  },
  {
   "cell_type": "code",
   "execution_count": 164,
   "metadata": {},
   "outputs": [
    {
     "name": "stdout",
     "output_type": "stream",
     "text": [
      "Ttest_indResult(statistic=-4.474496621650844, pvalue=2.1881133574189222e-05)\n",
      "Ttest_indResult(statistic=4.109785182276511, pvalue=8.589119165482429e-05)\n",
      "Ttest_indResult(statistic=-4.175847517751654, pvalue=6.685707017447214e-05)\n",
      "Ttest_indResult(statistic=-3.8719584390518205, pvalue=0.00020302751250401738)\n"
     ]
    }
   ],
   "source": [
    "print(st.ttest_ind(df_a['F4'], df_b['F4']))  # p-value = 2.1881133574189222e-05\n",
    "print(st.ttest_ind(df_c['F4'], df_d['F4']))  # p-value = 8.589119165482429e-05\n",
    "print(st.ttest_ind(df_a['F4'], df_d['F4']))  # p-value = 6.685707017447214e-05\n",
    "print(st.ttest_ind(df_b['F4'], df_c['F4']))  # p-value = 0.00020302751250401738"
   ]
  },
  {
   "cell_type": "code",
   "execution_count": 165,
   "metadata": {},
   "outputs": [
    {
     "data": {
      "text/plain": [
       "F_onewayResult(statistic=0.09320183296491334, pvalue=0.9637173247122047)"
      ]
     },
     "execution_count": 165,
     "metadata": {},
     "output_type": "execute_result"
    }
   ],
   "source": [
    "# ANOVA one-way 테스트\n",
    "st.f_oneway(df_a['F7'], df_b['F7'], df_c['F7'], df_d['F7']) # p-value = 0.963"
   ]
  },
  {
   "cell_type": "code",
   "execution_count": 166,
   "metadata": {},
   "outputs": [
    {
     "data": {
      "text/plain": [
       "F_onewayResult(statistic=23.417314372781295, pvalue=6.945888240859205e-13)"
      ]
     },
     "execution_count": 166,
     "metadata": {},
     "output_type": "execute_result"
    }
   ],
   "source": [
    "st.f_oneway(df_a['F4'], df_b['F4'], df_c['F4'], df_d['F4'])  # p-value = 6.945888240859205e-13"
   ]
  },
  {
   "cell_type": "code",
   "execution_count": 167,
   "metadata": {},
   "outputs": [
    {
     "data": {
      "text/plain": [
       "F_onewayResult(statistic=0.20768495826981972, pvalue=0.890988707081584)"
      ]
     },
     "execution_count": 167,
     "metadata": {},
     "output_type": "execute_result"
    }
   ],
   "source": [
    "st.f_oneway(df_a['F5'], df_b['F5'], df_c['F5'], df_d['F5'])  # p-value = 0.891"
   ]
  },
  {
   "cell_type": "markdown",
   "metadata": {
    "id": "ZM8JckA2bgnp"
   },
   "source": [
    "## 3.분석한 내용들을 설명하는 리포트를 작성해보세요.\n",
    "\n",
    "분석의 끝은 결국 설명입니다.\n",
    "\n",
    "통계 분석에 대한 이해도가 적은 다른 크루들이 이해 할 수 있도록 \n",
    "\n",
    "분석한 내용들을 설명하는 리포트를 작성해보세요. \n",
    "\n",
    "필요한 경우 코드 / 텍스트 내용을 더 추가해도 좋습니다."
   ]
  },
  {
   "cell_type": "markdown",
   "metadata": {
    "id": "XOequK5xpVz7"
   },
   "source": [
    "## SC 3점 요구사항:\n",
    "\n",
    "위에서 요구된 사항들을 모두 정확하게 만족하고, 시간이 남았다면 아래 내용을 충족하는 경우 3점을 얻을 수 있습니다. \n",
    "\n",
    "아래 요구사항들 중 하나의 요구사항만 충족하면 되며, 모두 **optional** 임을 다시 한 번 강조합니다. (필수 요구사항이 아닙니다.)\n",
    "\n",
    "- Numerical 데이터에 대해서 normalize를 한 다음, 위에서 진행 했었던 분석을 다시 시행해보세요. (F4, F5, F7 vs F3)\n",
    "\n",
    "- Categorical 데이터를 one-hot encoding을 통해서 numerical 로 변환 후, 위에서 진행 했었던 분석을 다시 시행해보세요. (F1, F2, F6, F8, F9 vs F3)"
   ]
  },
  {
   "cell_type": "code",
   "execution_count": 168,
   "metadata": {
    "id": "NT37grnxqa05"
   },
   "outputs": [
    {
     "data": {
      "text/html": [
       "<div>\n",
       "<style scoped>\n",
       "    .dataframe tbody tr th:only-of-type {\n",
       "        vertical-align: middle;\n",
       "    }\n",
       "\n",
       "    .dataframe tbody tr th {\n",
       "        vertical-align: top;\n",
       "    }\n",
       "\n",
       "    .dataframe thead th {\n",
       "        text-align: right;\n",
       "    }\n",
       "</style>\n",
       "<table border=\"1\" class=\"dataframe\">\n",
       "  <thead>\n",
       "    <tr style=\"text-align: right;\">\n",
       "      <th></th>\n",
       "      <th>F1</th>\n",
       "      <th>F2</th>\n",
       "      <th>F3</th>\n",
       "      <th>F4</th>\n",
       "      <th>F5</th>\n",
       "      <th>F6</th>\n",
       "      <th>F7</th>\n",
       "      <th>F8</th>\n",
       "      <th>F9</th>\n",
       "    </tr>\n",
       "  </thead>\n",
       "  <tbody>\n",
       "    <tr>\n",
       "      <th>1</th>\n",
       "      <td>N</td>\n",
       "      <td>N</td>\n",
       "      <td>A</td>\n",
       "      <td>2.239542</td>\n",
       "      <td>0.773708</td>\n",
       "      <td>H</td>\n",
       "      <td>3.0</td>\n",
       "      <td>Y</td>\n",
       "      <td>Y</td>\n",
       "    </tr>\n",
       "    <tr>\n",
       "      <th>2</th>\n",
       "      <td>D</td>\n",
       "      <td>N</td>\n",
       "      <td>A</td>\n",
       "      <td>1.608900</td>\n",
       "      <td>0.133612</td>\n",
       "      <td>H</td>\n",
       "      <td>3.0</td>\n",
       "      <td>X</td>\n",
       "      <td>Y</td>\n",
       "    </tr>\n",
       "    <tr>\n",
       "      <th>3</th>\n",
       "      <td>N</td>\n",
       "      <td>N</td>\n",
       "      <td>A</td>\n",
       "      <td>2.544409</td>\n",
       "      <td>0.721873</td>\n",
       "      <td>H</td>\n",
       "      <td>8.0</td>\n",
       "      <td>Y</td>\n",
       "      <td>Y</td>\n",
       "    </tr>\n",
       "    <tr>\n",
       "      <th>4</th>\n",
       "      <td>N</td>\n",
       "      <td>Y</td>\n",
       "      <td>A</td>\n",
       "      <td>0.782857</td>\n",
       "      <td>0.259751</td>\n",
       "      <td>F</td>\n",
       "      <td>9.0</td>\n",
       "      <td>Y</td>\n",
       "      <td>N</td>\n",
       "    </tr>\n",
       "    <tr>\n",
       "      <th>5</th>\n",
       "      <td>N</td>\n",
       "      <td>N</td>\n",
       "      <td>A</td>\n",
       "      <td>1.532721</td>\n",
       "      <td>0.283534</td>\n",
       "      <td>E</td>\n",
       "      <td>4.0</td>\n",
       "      <td>Z</td>\n",
       "      <td>Y</td>\n",
       "    </tr>\n",
       "  </tbody>\n",
       "</table>\n",
       "</div>"
      ],
      "text/plain": [
       "  F1 F2 F3        F4        F5 F6   F7 F8 F9\n",
       "1  N  N  A  2.239542  0.773708  H  3.0  Y  Y\n",
       "2  D  N  A  1.608900  0.133612  H  3.0  X  Y\n",
       "3  N  N  A  2.544409  0.721873  H  8.0  Y  Y\n",
       "4  N  Y  A  0.782857  0.259751  F  9.0  Y  N\n",
       "5  N  N  A  1.532721  0.283534  E  4.0  Z  Y"
      ]
     },
     "execution_count": 168,
     "metadata": {},
     "output_type": "execute_result"
    }
   ],
   "source": [
    "# Normalization의 방법 중 하나인 StandardScaler를 사용합니다 https://scikit-learn.org/stable/modules/generated/sklearn.preprocessing.StandardScaler.html\n",
    "from sklearn.preprocessing import StandardScaler \n",
    "\n",
    "sc = StandardScaler()\n",
    "\n",
    "sc.fit_transform(df[['F4','F5','F7']])\n",
    "\n",
    "df.head()"
   ]
  },
  {
   "cell_type": "code",
   "execution_count": 171,
   "metadata": {},
   "outputs": [],
   "source": [
    "numerical = ['F4', 'F5', 'F7']\n",
    "x = df[numerical].values\n",
    "x_scaled = sc.fit_transform(x)\n",
    "\n",
    "df_temp = pd.DataFrame(x_scaled, columns=numerical, index = df.index)\n",
    "df[numerical] = df_temp"
   ]
  },
  {
   "cell_type": "code",
   "execution_count": 172,
   "metadata": {},
   "outputs": [
    {
     "data": {
      "text/html": [
       "<div>\n",
       "<style scoped>\n",
       "    .dataframe tbody tr th:only-of-type {\n",
       "        vertical-align: middle;\n",
       "    }\n",
       "\n",
       "    .dataframe tbody tr th {\n",
       "        vertical-align: top;\n",
       "    }\n",
       "\n",
       "    .dataframe thead th {\n",
       "        text-align: right;\n",
       "    }\n",
       "</style>\n",
       "<table border=\"1\" class=\"dataframe\">\n",
       "  <thead>\n",
       "    <tr style=\"text-align: right;\">\n",
       "      <th></th>\n",
       "      <th>F1</th>\n",
       "      <th>F2</th>\n",
       "      <th>F3</th>\n",
       "      <th>F4</th>\n",
       "      <th>F5</th>\n",
       "      <th>F6</th>\n",
       "      <th>F7</th>\n",
       "      <th>F8</th>\n",
       "      <th>F9</th>\n",
       "    </tr>\n",
       "  </thead>\n",
       "  <tbody>\n",
       "    <tr>\n",
       "      <th>1</th>\n",
       "      <td>N</td>\n",
       "      <td>N</td>\n",
       "      <td>A</td>\n",
       "      <td>-0.236640</td>\n",
       "      <td>1.005994</td>\n",
       "      <td>H</td>\n",
       "      <td>-0.957750</td>\n",
       "      <td>Y</td>\n",
       "      <td>Y</td>\n",
       "    </tr>\n",
       "    <tr>\n",
       "      <th>2</th>\n",
       "      <td>D</td>\n",
       "      <td>N</td>\n",
       "      <td>A</td>\n",
       "      <td>-0.776682</td>\n",
       "      <td>-1.430464</td>\n",
       "      <td>H</td>\n",
       "      <td>-0.957750</td>\n",
       "      <td>X</td>\n",
       "      <td>Y</td>\n",
       "    </tr>\n",
       "    <tr>\n",
       "      <th>3</th>\n",
       "      <td>N</td>\n",
       "      <td>N</td>\n",
       "      <td>A</td>\n",
       "      <td>0.024430</td>\n",
       "      <td>0.808689</td>\n",
       "      <td>H</td>\n",
       "      <td>1.522374</td>\n",
       "      <td>Y</td>\n",
       "      <td>Y</td>\n",
       "    </tr>\n",
       "    <tr>\n",
       "      <th>4</th>\n",
       "      <td>N</td>\n",
       "      <td>Y</td>\n",
       "      <td>A</td>\n",
       "      <td>-1.484053</td>\n",
       "      <td>-0.950332</td>\n",
       "      <td>F</td>\n",
       "      <td>2.018399</td>\n",
       "      <td>Y</td>\n",
       "      <td>N</td>\n",
       "    </tr>\n",
       "    <tr>\n",
       "      <th>5</th>\n",
       "      <td>N</td>\n",
       "      <td>N</td>\n",
       "      <td>A</td>\n",
       "      <td>-0.841917</td>\n",
       "      <td>-0.859805</td>\n",
       "      <td>E</td>\n",
       "      <td>-0.461725</td>\n",
       "      <td>Z</td>\n",
       "      <td>Y</td>\n",
       "    </tr>\n",
       "    <tr>\n",
       "      <th>...</th>\n",
       "      <td>...</td>\n",
       "      <td>...</td>\n",
       "      <td>...</td>\n",
       "      <td>...</td>\n",
       "      <td>...</td>\n",
       "      <td>...</td>\n",
       "      <td>...</td>\n",
       "      <td>...</td>\n",
       "      <td>...</td>\n",
       "    </tr>\n",
       "    <tr>\n",
       "      <th>196</th>\n",
       "      <td>N</td>\n",
       "      <td>N</td>\n",
       "      <td>D</td>\n",
       "      <td>0.213609</td>\n",
       "      <td>0.930271</td>\n",
       "      <td>G</td>\n",
       "      <td>0.034300</td>\n",
       "      <td>X</td>\n",
       "      <td>Y</td>\n",
       "    </tr>\n",
       "    <tr>\n",
       "      <th>197</th>\n",
       "      <td>N</td>\n",
       "      <td>Y</td>\n",
       "      <td>D</td>\n",
       "      <td>0.498917</td>\n",
       "      <td>0.486182</td>\n",
       "      <td>G</td>\n",
       "      <td>-1.453775</td>\n",
       "      <td>Y</td>\n",
       "      <td>Y</td>\n",
       "    </tr>\n",
       "    <tr>\n",
       "      <th>198</th>\n",
       "      <td>N</td>\n",
       "      <td>N</td>\n",
       "      <td>D</td>\n",
       "      <td>-0.772434</td>\n",
       "      <td>1.421357</td>\n",
       "      <td>F</td>\n",
       "      <td>-1.453775</td>\n",
       "      <td>Z</td>\n",
       "      <td>Y</td>\n",
       "    </tr>\n",
       "    <tr>\n",
       "      <th>199</th>\n",
       "      <td>N</td>\n",
       "      <td>N</td>\n",
       "      <td>D</td>\n",
       "      <td>0.417814</td>\n",
       "      <td>1.459181</td>\n",
       "      <td>G</td>\n",
       "      <td>-0.461725</td>\n",
       "      <td>Z</td>\n",
       "      <td>Y</td>\n",
       "    </tr>\n",
       "    <tr>\n",
       "      <th>200</th>\n",
       "      <td>N</td>\n",
       "      <td>N</td>\n",
       "      <td>D</td>\n",
       "      <td>-0.040932</td>\n",
       "      <td>-1.478113</td>\n",
       "      <td>G</td>\n",
       "      <td>0.034300</td>\n",
       "      <td>X</td>\n",
       "      <td>N</td>\n",
       "    </tr>\n",
       "  </tbody>\n",
       "</table>\n",
       "<p>188 rows × 9 columns</p>\n",
       "</div>"
      ],
      "text/plain": [
       "    F1 F2 F3        F4        F5 F6        F7 F8 F9\n",
       "1    N  N  A -0.236640  1.005994  H -0.957750  Y  Y\n",
       "2    D  N  A -0.776682 -1.430464  H -0.957750  X  Y\n",
       "3    N  N  A  0.024430  0.808689  H  1.522374  Y  Y\n",
       "4    N  Y  A -1.484053 -0.950332  F  2.018399  Y  N\n",
       "5    N  N  A -0.841917 -0.859805  E -0.461725  Z  Y\n",
       "..  .. .. ..       ...       ... ..       ... .. ..\n",
       "196  N  N  D  0.213609  0.930271  G  0.034300  X  Y\n",
       "197  N  Y  D  0.498917  0.486182  G -1.453775  Y  Y\n",
       "198  N  N  D -0.772434  1.421357  F -1.453775  Z  Y\n",
       "199  N  N  D  0.417814  1.459181  G -0.461725  Z  Y\n",
       "200  N  N  D -0.040932 -1.478113  G  0.034300  X  N\n",
       "\n",
       "[188 rows x 9 columns]"
      ]
     },
     "execution_count": 172,
     "metadata": {},
     "output_type": "execute_result"
    }
   ],
   "source": [
    "df"
   ]
  },
  {
   "cell_type": "code",
   "execution_count": 173,
   "metadata": {},
   "outputs": [],
   "source": [
    "df_a = df.loc[df['F3'] == 'A']\n",
    "df_b = df.loc[df['F3'] == 'B']\n",
    "df_c = df.loc[df['F3'] == 'C']\n",
    "df_d = df.loc[df['F3'] == 'D']"
   ]
  },
  {
   "cell_type": "code",
   "execution_count": 174,
   "metadata": {},
   "outputs": [
    {
     "data": {
      "text/plain": [
       "F_onewayResult(statistic=0.09320183296491345, pvalue=0.9637173247122047)"
      ]
     },
     "execution_count": 174,
     "metadata": {},
     "output_type": "execute_result"
    }
   ],
   "source": [
    "# ANOVA one-way 테스트\n",
    "st.f_oneway(df_a['F7'], df_b['F7'], df_c['F7'], df_d['F7']) # p-value = 0.963"
   ]
  },
  {
   "cell_type": "code",
   "execution_count": 175,
   "metadata": {},
   "outputs": [
    {
     "data": {
      "text/plain": [
       "F_onewayResult(statistic=23.41731437278129, pvalue=6.945888240859205e-13)"
      ]
     },
     "execution_count": 175,
     "metadata": {},
     "output_type": "execute_result"
    }
   ],
   "source": [
    "st.f_oneway(df_a['F4'], df_b['F4'], df_c['F4'], df_d['F4'])  # p-value = 6.945888240859205e-13"
   ]
  },
  {
   "cell_type": "code",
   "execution_count": 176,
   "metadata": {},
   "outputs": [
    {
     "data": {
      "text/plain": [
       "F_onewayResult(statistic=0.2076849582698197, pvalue=0.890988707081584)"
      ]
     },
     "execution_count": 176,
     "metadata": {},
     "output_type": "execute_result"
    }
   ],
   "source": [
    "st.f_oneway(df_a['F5'], df_b['F5'], df_c['F5'], df_d['F5'])  # p-value = 0.891"
   ]
  },
  {
   "cell_type": "code",
   "execution_count": null,
   "metadata": {},
   "outputs": [],
   "source": [
    "# Normalization을 해도 결과값에는 차이가 없음"
   ]
  },
  {
   "cell_type": "code",
   "execution_count": 185,
   "metadata": {},
   "outputs": [
    {
     "data": {
      "text/html": [
       "<div>\n",
       "<style scoped>\n",
       "    .dataframe tbody tr th:only-of-type {\n",
       "        vertical-align: middle;\n",
       "    }\n",
       "\n",
       "    .dataframe tbody tr th {\n",
       "        vertical-align: top;\n",
       "    }\n",
       "\n",
       "    .dataframe thead th {\n",
       "        text-align: right;\n",
       "    }\n",
       "</style>\n",
       "<table border=\"1\" class=\"dataframe\">\n",
       "  <thead>\n",
       "    <tr style=\"text-align: right;\">\n",
       "      <th></th>\n",
       "      <th>F1_D</th>\n",
       "      <th>F1_N</th>\n",
       "      <th>F2_N</th>\n",
       "      <th>F2_Y</th>\n",
       "      <th>F6_B</th>\n",
       "      <th>F6_C</th>\n",
       "      <th>F6_D</th>\n",
       "      <th>F6_E</th>\n",
       "      <th>F6_F</th>\n",
       "      <th>F6_G</th>\n",
       "      <th>F6_H</th>\n",
       "      <th>F8_X</th>\n",
       "      <th>F8_Y</th>\n",
       "      <th>F8_Z</th>\n",
       "      <th>F9_N</th>\n",
       "      <th>F9_Y</th>\n",
       "      <th>F3</th>\n",
       "    </tr>\n",
       "  </thead>\n",
       "  <tbody>\n",
       "    <tr>\n",
       "      <th>1</th>\n",
       "      <td>0</td>\n",
       "      <td>1</td>\n",
       "      <td>1</td>\n",
       "      <td>0</td>\n",
       "      <td>0</td>\n",
       "      <td>0</td>\n",
       "      <td>0</td>\n",
       "      <td>0</td>\n",
       "      <td>0</td>\n",
       "      <td>0</td>\n",
       "      <td>1</td>\n",
       "      <td>0</td>\n",
       "      <td>1</td>\n",
       "      <td>0</td>\n",
       "      <td>0</td>\n",
       "      <td>1</td>\n",
       "      <td>A</td>\n",
       "    </tr>\n",
       "    <tr>\n",
       "      <th>2</th>\n",
       "      <td>1</td>\n",
       "      <td>0</td>\n",
       "      <td>1</td>\n",
       "      <td>0</td>\n",
       "      <td>0</td>\n",
       "      <td>0</td>\n",
       "      <td>0</td>\n",
       "      <td>0</td>\n",
       "      <td>0</td>\n",
       "      <td>0</td>\n",
       "      <td>1</td>\n",
       "      <td>1</td>\n",
       "      <td>0</td>\n",
       "      <td>0</td>\n",
       "      <td>0</td>\n",
       "      <td>1</td>\n",
       "      <td>A</td>\n",
       "    </tr>\n",
       "    <tr>\n",
       "      <th>3</th>\n",
       "      <td>0</td>\n",
       "      <td>1</td>\n",
       "      <td>1</td>\n",
       "      <td>0</td>\n",
       "      <td>0</td>\n",
       "      <td>0</td>\n",
       "      <td>0</td>\n",
       "      <td>0</td>\n",
       "      <td>0</td>\n",
       "      <td>0</td>\n",
       "      <td>1</td>\n",
       "      <td>0</td>\n",
       "      <td>1</td>\n",
       "      <td>0</td>\n",
       "      <td>0</td>\n",
       "      <td>1</td>\n",
       "      <td>A</td>\n",
       "    </tr>\n",
       "    <tr>\n",
       "      <th>4</th>\n",
       "      <td>0</td>\n",
       "      <td>1</td>\n",
       "      <td>0</td>\n",
       "      <td>1</td>\n",
       "      <td>0</td>\n",
       "      <td>0</td>\n",
       "      <td>0</td>\n",
       "      <td>0</td>\n",
       "      <td>1</td>\n",
       "      <td>0</td>\n",
       "      <td>0</td>\n",
       "      <td>0</td>\n",
       "      <td>1</td>\n",
       "      <td>0</td>\n",
       "      <td>1</td>\n",
       "      <td>0</td>\n",
       "      <td>A</td>\n",
       "    </tr>\n",
       "    <tr>\n",
       "      <th>5</th>\n",
       "      <td>0</td>\n",
       "      <td>1</td>\n",
       "      <td>1</td>\n",
       "      <td>0</td>\n",
       "      <td>0</td>\n",
       "      <td>0</td>\n",
       "      <td>0</td>\n",
       "      <td>1</td>\n",
       "      <td>0</td>\n",
       "      <td>0</td>\n",
       "      <td>0</td>\n",
       "      <td>0</td>\n",
       "      <td>0</td>\n",
       "      <td>1</td>\n",
       "      <td>0</td>\n",
       "      <td>1</td>\n",
       "      <td>A</td>\n",
       "    </tr>\n",
       "  </tbody>\n",
       "</table>\n",
       "</div>"
      ],
      "text/plain": [
       "   F1_D  F1_N  F2_N  F2_Y  F6_B  F6_C  F6_D  F6_E  F6_F  F6_G  F6_H  F8_X  \\\n",
       "1     0     1     1     0     0     0     0     0     0     0     1     0   \n",
       "2     1     0     1     0     0     0     0     0     0     0     1     1   \n",
       "3     0     1     1     0     0     0     0     0     0     0     1     0   \n",
       "4     0     1     0     1     0     0     0     0     1     0     0     0   \n",
       "5     0     1     1     0     0     0     0     1     0     0     0     0   \n",
       "\n",
       "   F8_Y  F8_Z  F9_N  F9_Y F3  \n",
       "1     1     0     0     1  A  \n",
       "2     0     0     0     1  A  \n",
       "3     1     0     0     1  A  \n",
       "4     1     0     1     0  A  \n",
       "5     0     1     0     1  A  "
      ]
     },
     "execution_count": 185,
     "metadata": {},
     "output_type": "execute_result"
    }
   ],
   "source": [
    "# 범주형 특성들을 One-Hot Encoding 합니다. https://pandas.pydata.org/docs/reference/api/pandas.get_dummies.html\n",
    "df_cat = pd.get_dummies(df[['F1', 'F2', 'F6', 'F8', 'F9']])\n",
    "df_cat['F3'] = df['F3']\n",
    "df_cat.head()"
   ]
  },
  {
   "cell_type": "code",
   "execution_count": 193,
   "metadata": {},
   "outputs": [
    {
     "data": {
      "text/plain": [
       "(1.4377719467233525,\n",
       " 0.6967051489258402,\n",
       " 3,\n",
       " array([[39.31914894, 37.68085106, 38.5       , 38.5       ],\n",
       "        [ 8.68085106,  8.31914894,  8.5       ,  8.5       ]]))"
      ]
     },
     "execution_count": 193,
     "metadata": {},
     "output_type": "execute_result"
    }
   ],
   "source": [
    "# Chisquare 진행 https://towardsdatascience.com/categorical-feature-selection-via-chi-square-fc558b09de43\n",
    "chi2_contingency(pd.crosstab(df_cat['F1_D'], df_cat['F3'], margins = False))"
   ]
  },
  {
   "cell_type": "code",
   "execution_count": 195,
   "metadata": {},
   "outputs": [
    {
     "data": {
      "text/plain": [
       "(3.472880983750549,\n",
       " 0.3242964364801447,\n",
       " 3,\n",
       " array([[44.93617021, 43.06382979, 44.        , 44.        ],\n",
       "        [ 3.06382979,  2.93617021,  3.        ,  3.        ]]))"
      ]
     },
     "execution_count": 195,
     "metadata": {},
     "output_type": "execute_result"
    }
   ],
   "source": [
    "chi2_contingency(pd.crosstab(df_cat['F2_Y'], df_cat['F3'], margins = False))"
   ]
  },
  {
   "cell_type": "code",
   "execution_count": 197,
   "metadata": {},
   "outputs": [],
   "source": [
    "# One-Hot Encoding을 한 특성들에 대해 F3와 Chi-square를 진행해도 결과값은 같음"
   ]
  }
 ],
 "metadata": {
  "colab": {
   "name": "ds-sc12x.ipynb",
   "provenance": []
  },
  "kernelspec": {
   "display_name": "Python 3",
   "language": "python",
   "name": "python3"
  },
  "language_info": {
   "codemirror_mode": {
    "name": "ipython",
    "version": 3
   },
   "file_extension": ".py",
   "mimetype": "text/x-python",
   "name": "python",
   "nbconvert_exporter": "python",
   "pygments_lexer": "ipython3",
   "version": "3.8.8"
  }
 },
 "nbformat": 4,
 "nbformat_minor": 4
}
