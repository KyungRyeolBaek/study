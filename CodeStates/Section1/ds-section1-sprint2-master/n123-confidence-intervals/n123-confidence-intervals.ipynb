{
  "nbformat": 4,
  "nbformat_minor": 0,
  "metadata": {
    "colab": {
      "name": "n123-confidence-intervals.ipynb",
      "provenance": [],
      "collapsed_sections": []
    },
    "kernelspec": {
      "display_name": "Python 3",
      "language": "python",
      "name": "python3"
    },
    "language_info": {
      "codemirror_mode": {
        "name": "ipython",
        "version": 3
      },
      "file_extension": ".py",
      "mimetype": "text/x-python",
      "name": "python",
      "nbconvert_exporter": "python",
      "pygments_lexer": "ipython3",
      "version": "3.8.5"
    }
  },
  "cells": [
    {
      "cell_type": "markdown",
      "metadata": {
        "id": "838Dmw1kM2LK"
      },
      "source": [
        "<img src='https://i.imgur.com/RDAD11M.png' width = '200' align = 'right'>\n",
        "\n",
        "## *DATA SCIENCE / SECTION 1 / SPRINT 2 / NOTE 3*\n",
        "\n",
        "---\n",
        "\n",
        "# Confidence Intervals\n",
        "\n",
        "## 🏆 학습 목표 \n",
        "\n",
        "- ANOVA의 의미에 대해서 설명 할 수 있다.\n",
        "- CLT의 의미에 대해서 설명 할 수 있다.\n",
        "- 신뢰구간의 목적과 사용 예시에 대해 설명 할 수 있다.\n",
        "- 추정된 통계치에 대해서 신뢰구간을 계산할 수 있다.\n",
        "\n",
        "---\n",
        "\n"
      ]
    },
    {
      "cell_type": "markdown",
      "metadata": {
        "id": "3Q_gTNqtI6-k"
      },
      "source": [
        "## ANOVA (one-way)\n",
        "\n",
        "우리는 이전에 몇가지 가설검정방법들을 배웠습니다. \n",
        "\n",
        "- 1개 그룹의 **평균**이 특정 수와 같은 지\n",
        "- 2개 그룹의 **평균**이 유의미하게 다른지\n",
        "\n",
        "와 같은거죠\n",
        "\n",
        "<img src='https://www.statstest.com/wp-content/uploads/2020/11/One-Way-Repeated-Measures-ANOVA.jpg' width = 500>\n",
        "\n",
        "이번 시간에는 \n",
        "\n",
        "- **2개 이상 그룹**의 평균에 차이가 있는지를 가설 검정하는 방법에 대해서 배워보겠습니다.\n",
        "\n",
        "\n",
        "\n"
      ]
    },
    {
      "cell_type": "markdown",
      "metadata": {
        "id": "RUBXr9RJJk01"
      },
      "source": [
        "### Multiple Comparision\n",
        "\n",
        "2개 이상의 여러 그룹을 비교하기 위해서 이런 생각을 할 수 있습니다.\n",
        "\n",
        "> `1번 vs 2번`, `1번 vs 3번`, `2번 vs 3번`\n",
        "> 을 각각 t-test 로 검정하면 되는게 아닌가?\n",
        "\n",
        "이론상으로는 가능하지만 문제가 있습니다.\n",
        "\n",
        "3번의 가설 검정에서 각각 통계적으로 에러가 날 확률은 **$\\alpha$** 입니다.\n",
        "\n",
        "<img src='https://i.imgur.com/8YM4KAW.png' width = 500>\n",
        "\n",
        "즉, 3개의 가설 검정중 적어도 하나에서 에러가 날 확률은\n",
        "\n",
        "$ {1 - (1 - \\alpha)}^{3} $ 이고 $\\alpha = 0.05$ 기준으로 약 $15$% 입니다. \n",
        "\n",
        ">m개 그룹에 대한 가설 검정이라면 \n",
        ">\n",
        ">$\\bar{\\alpha} =  {1 - (1 - \\alpha)}^{m}$ , $\\bar{\\alpha} \\leq {m \\cdot {\\alpha}}$ 라는 것이 수학적으로 증명되어 있습니다.\n",
        "\n",
        "즉 여러개를 하나하나씩 비교 하는 것은 그룹수가 늘어 날 수록 에러도 커진다는 이야기죠.\n",
        "\n",
        "<https://en.wikipedia.org/wiki/Multiple_comparisons_problem>\n",
        "\n",
        "이렇기 때문에 여러개의 그룹을 한꺼번에 비교 하는 방법이 필요한 것입니다."
      ]
    },
    {
      "cell_type": "markdown",
      "metadata": {
        "id": "8zO9rleCg6Cj"
      },
      "source": [
        "### Variation\n",
        "\n",
        "그렇다면 **여러 그룹간의 차이가 있는지**를 확인하기 위해선 어떻게 해야할까요?\n",
        "\n",
        "조금 생각의 단계가 생략되긴 했지만, **여러 그룹들이 하나의 분포에서부터 왔다** 라는 가정이 나오게 될 겁니다.\n",
        "\n",
        "이를 위한 지표는 **F-statistic**이며\n",
        "\n",
        "<https://en.wikipedia.org/wiki/F-test>\n",
        "\n",
        "지금은 \n",
        "\n",
        "$$ F = { {Variance-between-group} \\over {Variance-with-in-group} }$$\n",
        "\n",
        "으로 이해를 하면 좋습니다. \n",
        "\n",
        "그렇다면 이 F값이 높다는건 어떤 의미를 가질까요?\n",
        "\n",
        "1. **분자(다른 그룹끼리의 분산)는 크고**, 분모 (전체 그룹의 분산)는 작아야 할겁니다.\n",
        "2. 즉 **다른 그룹끼리의 분포가 다를 것이다** 라는 가정이 붙는거죠.\n",
        "\n",
        "<img src='https://i.imgur.com/mzqdUqq.png' width = 700>"
      ]
    },
    {
      "cell_type": "markdown",
      "metadata": {
        "id": "5WwJQbbVkbGM"
      },
      "source": [
        "### 공식 및 계산\n",
        "\n",
        "<https://tensorflow.blog/f-%EA%B0%92-%EC%9C%A0%EB%8F%84%EC%8B%9D/>\n",
        "\n",
        "<https://docs.scipy.org/doc/scipy/reference/generated/scipy.stats.f_oneway.html>\n",
        "\n",
        "$m$ = 전체 그룹 수, $n$ = 데이터 수\n",
        "\n",
        "$$S_{w} = \\sum_{i = 1}^{m} \\sum_{j=1}^{n} (x_{ij} - x_{i.})^2$$\n",
        "<br>\n",
        "$$x_{i.} = \\sum_{j = 1}^{n} {x_{ij} / n}$$\n",
        "<br>\n",
        "$$S_{b} = n \\sum_{i=1}^m (x_{i.} - x_{..})^2 $$\n",
        "<br>\n",
        "$$x_{..} = {{\\sum_{i=1}^m x_{i.} } \\over {m}}$$\n",
        "<br>\n",
        "$$F = { { S_{b}}/{(m-1)} \\over S_{w} / (nm-m)}$$\n",
        "<br>\n",
        "$$p( {F_{m-1, nm-m}} > F_{m-1, nm-m, \\alpha}) = \\alpha $$"
      ]
    },
    {
      "cell_type": "markdown",
      "metadata": {
        "id": "G5EMiwLOzyxR"
      },
      "source": [
        "### F-stat by hand"
      ]
    },
    {
      "cell_type": "code",
      "metadata": {
        "id": "CC6scYyUj12q"
      },
      "source": [
        "import numpy as np\n",
        "\n",
        "g1 = np.array([0, 31, 6, 26, 40])\n",
        "\n",
        "g2 = np.array([24, 15, 12, 22, 5])\n",
        "\n",
        "g3 = np.array([32, 52, 30, 18, 36])"
      ],
      "execution_count": 1,
      "outputs": []
    },
    {
      "cell_type": "code",
      "metadata": {
        "id": "mREf2lSxpJRD"
      },
      "source": [
        "s1 = g1.sum()\n",
        "s12 = (g1**2).sum()\n",
        "\n",
        "s2 = g2.sum()\n",
        "s22 = (g2**2).sum()\n",
        "\n",
        "s3 = g3.sum()\n",
        "s32 = (g3**2).sum()"
      ],
      "execution_count": 2,
      "outputs": []
    },
    {
      "cell_type": "markdown",
      "metadata": {
        "id": "K1RIfcwW0WrY"
      },
      "source": [
        "|Group|||Data|||$\\sum_j{x_{ij}}$|$\\sum_j{x_{ij}^2}$|\n",
        "|:-:|:-:|:-:|:-:|:-:|:-:|:-:|:-:|\n",
        "|1|0|31|6|26|40|103|3273|\n",
        "|2|24|15|12|22|5|78|1454|\n",
        "|3|32|52|30|18|36|168|6248|"
      ]
    },
    {
      "cell_type": "code",
      "metadata": {
        "id": "_2K5M1fP05mp",
        "colab": {
          "base_uri": "https://localhost:8080/"
        },
        "outputId": "572de398-0f5e-4e2d-c188-876f7da9caa5"
      },
      "source": [
        "m = 3\n",
        "n = 5\n",
        "\n",
        "x1 = s1 / n # 20.6\n",
        "x2 = s2 / n # 15.6\n",
        "x3 = s3 / n # 33.6\n",
        "\n",
        "x = (s1 + s2 + s3) / (n+n+n) # 23.2667\n",
        "xx = x**2\n",
        "\n",
        "ssb = n * ((x1 - x)**2 + (x2-x)**2 + (x3-x)**2) # 863.3335\n",
        "ssw1 = s12 + s22 + s32 # 10975\n",
        "\n",
        "ssw = ssw1 - n*m*xx - ssb # 1991.5772\n",
        "\n",
        "F = (ssb / (m-1)) / (ssw / (n*m - m))\n",
        "\n",
        "print(F) # 2.60"
      ],
      "execution_count": 3,
      "outputs": [
        {
          "output_type": "stream",
          "text": [
            "2.6009238802972487\n"
          ],
          "name": "stdout"
        }
      ]
    },
    {
      "cell_type": "markdown",
      "metadata": {
        "id": "RThkDfbt2i25"
      },
      "source": [
        "### F-stat by scipy"
      ]
    },
    {
      "cell_type": "code",
      "metadata": {
        "id": "jseZ1aGZ1t6E",
        "colab": {
          "base_uri": "https://localhost:8080/"
        },
        "outputId": "a046560d-986b-411d-e4f0-f192693652a7"
      },
      "source": [
        "from scipy.stats import f_oneway\n",
        "\n",
        "f_oneway(g1, g2, g3) # pvalue = 0.11 "
      ],
      "execution_count": 4,
      "outputs": [
        {
          "output_type": "execute_result",
          "data": {
            "text/plain": [
              "F_onewayResult(statistic=2.6009238802972483, pvalue=0.11524892355706169)"
            ]
          },
          "metadata": {
            "tags": []
          },
          "execution_count": 4
        }
      ]
    },
    {
      "cell_type": "markdown",
      "metadata": {
        "id": "bvvPV-RJN2vA"
      },
      "source": [
        "## Many Samples\n",
        "\n"
      ]
    },
    {
      "cell_type": "markdown",
      "metadata": {
        "id": "D4Kb8Ld7xc2q"
      },
      "source": [
        "### 큰 수의 법칙 ( Law of large numbers )\n",
        "\n",
        "sample 데이터의 수가 커질 수록, sample의 통계치는 점점 모집단의 모수와 같아진다. "
      ]
    },
    {
      "cell_type": "code",
      "metadata": {
        "id": "tVLDuJMDxera",
        "colab": {
          "base_uri": "https://localhost:8080/"
        },
        "outputId": "ee4db9c9-5014-47d4-a15e-9a783c00fcd1"
      },
      "source": [
        "import numpy as np\n",
        "import matplotlib.pyplot as plt\n",
        "import pandas as pd\n",
        "\n",
        "population = np.random.normal(50, 10, 1000) # mu = 50, sd = 1, \n",
        "population.var()"
      ],
      "execution_count": 5,
      "outputs": [
        {
          "output_type": "execute_result",
          "data": {
            "text/plain": [
              "94.67645805499781"
            ]
          },
          "metadata": {
            "tags": []
          },
          "execution_count": 5
        }
      ]
    },
    {
      "cell_type": "code",
      "metadata": {
        "id": "1j8pRPGp0d_I",
        "colab": {
          "base_uri": "https://localhost:8080/"
        },
        "outputId": "1fb12355-2bd0-441f-f309-1a5f644ff774"
      },
      "source": [
        "np.random.choice(population, 5).var()"
      ],
      "execution_count": 6,
      "outputs": [
        {
          "output_type": "execute_result",
          "data": {
            "text/plain": [
              "46.485319478955"
            ]
          },
          "metadata": {
            "tags": []
          },
          "execution_count": 6
        }
      ]
    },
    {
      "cell_type": "code",
      "metadata": {
        "id": "SGCZsVNG0oIR",
        "colab": {
          "base_uri": "https://localhost:8080/"
        },
        "outputId": "e5d85c98-7704-41d8-e338-0ad3ba52bb90"
      },
      "source": [
        "np.random.choice(population, 15).var()"
      ],
      "execution_count": 7,
      "outputs": [
        {
          "output_type": "execute_result",
          "data": {
            "text/plain": [
              "106.19317040223352"
            ]
          },
          "metadata": {
            "tags": []
          },
          "execution_count": 7
        }
      ]
    },
    {
      "cell_type": "code",
      "metadata": {
        "id": "jnyeu51p1CVu",
        "colab": {
          "base_uri": "https://localhost:8080/"
        },
        "outputId": "870bb32f-108e-4a76-d5e1-94871a1cd287"
      },
      "source": [
        "np.random.choice(population, 50).var()"
      ],
      "execution_count": 8,
      "outputs": [
        {
          "output_type": "execute_result",
          "data": {
            "text/plain": [
              "107.8398867095818"
            ]
          },
          "metadata": {
            "tags": []
          },
          "execution_count": 8
        }
      ]
    },
    {
      "cell_type": "code",
      "metadata": {
        "id": "_FcN_Qg21HRq",
        "colab": {
          "base_uri": "https://localhost:8080/"
        },
        "outputId": "5c7e9e0d-a01a-47fb-c75e-42771df974c0"
      },
      "source": [
        "np.random.choice(population, 100).var()"
      ],
      "execution_count": 9,
      "outputs": [
        {
          "output_type": "execute_result",
          "data": {
            "text/plain": [
              "103.0866699143279"
            ]
          },
          "metadata": {
            "tags": []
          },
          "execution_count": 9
        }
      ]
    },
    {
      "cell_type": "code",
      "metadata": {
        "id": "E4O88zOi1KtM",
        "colab": {
          "base_uri": "https://localhost:8080/"
        },
        "outputId": "db81dd3d-930f-4ed5-ad5c-cc1facdfc2a2"
      },
      "source": [
        "np.random.choice(population, 200).var()\n"
      ],
      "execution_count": 10,
      "outputs": [
        {
          "output_type": "execute_result",
          "data": {
            "text/plain": [
              "104.00190543150323"
            ]
          },
          "metadata": {
            "tags": []
          },
          "execution_count": 10
        }
      ]
    },
    {
      "cell_type": "code",
      "metadata": {
        "id": "w4fgmMMh1Pvn",
        "colab": {
          "base_uri": "https://localhost:8080/",
          "height": 265
        },
        "outputId": "7d1840cb-56d7-48f0-c7a8-0d2d2babec79"
      },
      "source": [
        "dat = []\n",
        "\n",
        "for i in np.arange(start = 5, stop = 995, step = 5) :\n",
        "  s = np.random.choice(population, i)\n",
        "  dat.append(s.var())\n",
        "dat\n",
        "\n",
        "(pd\n",
        " .DataFrame(dat)\n",
        " .plot\n",
        " .line(color = '#4000c7')\n",
        " .axhline(y = 100, color = '#00da75')\n",
        " );"
      ],
      "execution_count": 11,
      "outputs": [
        {
          "output_type": "display_data",
          "data": {
            "image/png": "[encoded data removed]",
            "text/plain": [
              "<Figure size 432x288 with 1 Axes>"
            ]
          },
          "metadata": {
            "tags": [],
            "needs_background": "light"
          }
        }
      ]
    },
    {
      "cell_type": "markdown",
      "metadata": {
        "id": "z06o9u0s2pL-"
      },
      "source": [
        "- method chaining 에 대해서 공부해보세요."
      ]
    },
    {
      "cell_type": "markdown",
      "metadata": {
        "id": "6zGqHH3Uxd-d"
      },
      "source": [
        "### 중심극한정리 ( Central Limit Theorem, CLT )\n",
        "\n",
        "Sample 데이터의 수가 많아질 수록, **sample의 평균**은 정규분포에 근사한 형태로 나타난다."
      ]
    },
    {
      "cell_type": "code",
      "metadata": {
        "id": "FBLoOF8qOJeJ",
        "colab": {
          "base_uri": "https://localhost:8080/",
          "height": 265
        },
        "outputId": "9af9ab65-dd9d-43f1-d9e3-97bd4ebc4f4e"
      },
      "source": [
        "sample_means = []\n",
        "\n",
        "for x in range(0, 1000):\n",
        "  coinflips = np.random.binomial(n = 1, p = 0.5, size = 100) # binomial distribution\n",
        "  sample_means.append(coinflips.mean())\n",
        "\n",
        "pd.DataFrame(sample_means).plot(color = '#4000c7');"
      ],
      "execution_count": 12,
      "outputs": [
        {
          "output_type": "display_data",
          "data": {
            "image/png": "[encoded data removed]",
            "text/plain": [
              "<Figure size 432x288 with 1 Axes>"
            ]
          },
          "metadata": {
            "tags": [],
            "needs_background": "light"
          }
        }
      ]
    },
    {
      "cell_type": "code",
      "metadata": {
        "id": "clLPqYrb3CoW",
        "colab": {
          "base_uri": "https://localhost:8080/",
          "height": 281
        },
        "outputId": "dfec91f5-949a-43a3-85cb-1b4690265c3a"
      },
      "source": [
        "pd.DataFrame(sample_means).hist(color = '#4000c7');"
      ],
      "execution_count": 13,
      "outputs": [
        {
          "output_type": "display_data",
          "data": {
            "image/png": "[encoded data removed]",
            "text/plain": [
              "<Figure size 432x288 with 1 Axes>"
            ]
          },
          "metadata": {
            "tags": [],
            "needs_background": "light"
          }
        }
      ]
    },
    {
      "cell_type": "code",
      "metadata": {
        "id": "pEDqMEPLJEO7",
        "colab": {
          "base_uri": "https://localhost:8080/",
          "height": 281
        },
        "outputId": "d934b475-aa88-4505-b5c0-8570dc0b5f9a"
      },
      "source": [
        "sample_means2 = []\n",
        "\n",
        "for x in range(0,1000):\n",
        "  one_poiss = np.random.poisson(5, 20) # Poisson 분포 데이터\n",
        "  sample_means2.append(one_poiss.mean())\n",
        "\n",
        "pd.DataFrame(sample_means2).hist(color = '#4000c7');"
      ],
      "execution_count": 14,
      "outputs": [
        {
          "output_type": "display_data",
          "data": {
            "image/png": "[encoded data removed]",
            "text/plain": [
              "<Figure size 432x288 with 1 Axes>"
            ]
          },
          "metadata": {
            "tags": [],
            "needs_background": "light"
          }
        }
      ]
    },
    {
      "cell_type": "code",
      "metadata": {
        "id": "hzZQcX2m4BKk"
      },
      "source": [
        "# normal distribution에 대해서도 실행해보세요."
      ],
      "execution_count": 15,
      "outputs": []
    },
    {
      "cell_type": "markdown",
      "metadata": {
        "id": "21Xv5a9g4PQ-"
      },
      "source": [
        "sampling을 몇번 하느냐도 중요하지만, sampling을 얼마나 하느냐도 다릅니다.\n"
      ]
    },
    {
      "cell_type": "code",
      "metadata": {
        "id": "F15l-J788ApQ"
      },
      "source": [
        "sample_means_small = []\n",
        "sample_means_medium = []\n",
        "sample_means_large = []\n",
        "\n",
        "# b(n, p)\n",
        "# N(0,1) ~ N(u, sd)\n",
        "\n",
        "for x in range(0, 3000):\n",
        "  coinflips_small = np.random.binomial(n = 1, p = .5, size = 10)\n",
        "  coinflips_medium = np.random.binomial(n = 1, p = .5, size = 50)\n",
        "  coinflips_large = np.random.binomial(n = 1, p = .5, size = 200)\n",
        "  sample_means_small.append(coinflips_small.mean())\n",
        "  sample_means_medium.append(coinflips_medium.mean())\n",
        "  sample_means_large.append(coinflips_large.mean())"
      ],
      "execution_count": 16,
      "outputs": []
    },
    {
      "cell_type": "code",
      "metadata": {
        "id": "JdES8jXz8kAG",
        "colab": {
          "base_uri": "https://localhost:8080/",
          "height": 265
        },
        "outputId": "96a8bee4-97f2-4286-b64a-10d0cdb410e6"
      },
      "source": [
        "import seaborn as sns\n",
        "ax = plt.subplots()\n",
        "\n",
        "sns.histplot(sample_means_small, color = '#e74c3c')\n",
        "\n",
        "sns.histplot(sample_means_medium, color = '#f39c12')\n",
        "\n",
        "sns.histplot(sample_means_large, color = '#27ae60');\n",
        "  \n",
        "# sample_means_small -> red \n",
        "# sample_means_medium -> orange\n",
        "# sample_means_large -> green"
      ],
      "execution_count": 17,
      "outputs": [
        {
          "output_type": "display_data",
          "data": {
            "image/png": "[encoded data removed]",
            "text/plain": [
              "<Figure size 432x288 with 1 Axes>"
            ]
          },
          "metadata": {
            "tags": [],
            "needs_background": "light"
          }
        }
      ]
    },
    {
      "cell_type": "markdown",
      "metadata": {
        "id": "Ix9QHUelSuYN"
      },
      "source": [
        "## Point estimate VS Interval estimate\n",
        "\n",
        "ex) 초등학교 3학년 1000명의 평균 키.\n",
        "\n",
        "130cm일 것이다.\n",
        "\n",
        "125 ~ 135cm 정도 일 것이다.\n",
        "\n",
        "120 ~ 140cm 정도 일 것이다.\n",
        "\n",
        "1cm ~ 300cm 정도 일 것이다. \n",
        "\n",
        "--- \n",
        "\n",
        "예측 하는 \"구간\"이 **넓어질 수록** 맞을 확률(`신뢰도`)은 올라감. \n",
        "\n",
        "\n"
      ]
    },
    {
      "cell_type": "markdown",
      "metadata": {
        "id": "857bkDvMTr8W"
      },
      "source": [
        "## 신뢰도 \n",
        "\n",
        "> 신뢰도가 95% 라는 의미는 표본을 100번 뽑았을때 95번은 신뢰구간 내에 모집단의 평균이 포함된다.\n",
        "\n",
        "앞에 예시를 다시 한번 읽어보고 윗 문장의 의미를 생각해보시길 바랍니다.\n",
        "\n"
      ]
    },
    {
      "cell_type": "markdown",
      "metadata": {
        "id": "nfdQf8QYUUmw"
      },
      "source": [
        "## 신뢰 구간의 설정 및 해석\n",
        "\n",
        "<img src='https://i.imgur.com/dbhRomh.png' width = 550> \n",
        "\n",
        "이 구간을 수학적으로 표현한 내용이 아래의 식과 같으며\n",
        "\n",
        "$$\\bar {x} \\pm {t \\cdot {s \\over \\sqrt{n} } }$$\n",
        "\n",
        "<br>\n",
        "\n",
        "- $\\bar{x}$ 를 `estimated mean`.\n",
        "\n",
        "- $ {t \\cdot {s \\over \\sqrt{n} } }$ 를 `error`라 부릅니다.\n",
        "\n"
      ]
    },
    {
      "cell_type": "code",
      "metadata": {
        "id": "VhDub0YX--Uw"
      },
      "source": [
        "from scipy import stats\n",
        "\n",
        "def confidence_interval(data, confidence = 0.95):\n",
        "  \n",
        "  \"\"\"\n",
        "  주어진 데이터의 표본 **평균**에 대한 신뢰구간을 계산.\n",
        "  기본 값으로 t-분포와 양방향 (two-tailed), 95%의 신뢰도를 사용합니다. \n",
        "  \n",
        "  입력 값 : \n",
        "    data - 여러 개로 이루어진 (list 혹은 numpy 배열) 표본 관측치\n",
        "    confidence - 신뢰구간을 위한 신뢰도 \n",
        "  \n",
        "  반환 되는 값:\n",
        "    (평균, 하한, 상한구간)으로 이루어진 tuple\n",
        "  \"\"\"\n",
        "\n",
        "  data = np.array(data)\n",
        "  mean = np.mean(data)\n",
        "  n = len(data)\n",
        "  \n",
        "  # std / sqrt(n)\n",
        "  stderr = stats.sem(data) \n",
        "  # Standard Error of Mean (https://docs.scipy.org/doc/scipy/reference/generated/scipy.stats.sem.html)\n",
        "  # s / sqrt(n)\n",
        "\n",
        "  # length_of_one_interval\n",
        "  interval = stderr * stats.t.ppf( (1 + confidence) / 2 , n - 1) # ppf : inverse of cdf\n",
        "  return (mean, mean - interval, mean + interval)\n",
        "\n",
        "# cdf -> t 를 넣으면 %\n",
        "# ppf -> % 를 넣으면 t\n",
        "\n",
        "# 1 + 0.95 / 2 -> 0.975\n",
        "# (1 - 0.95) / 2 -> 0.025"
      ],
      "execution_count": 18,
      "outputs": []
    },
    {
      "cell_type": "code",
      "metadata": {
        "id": "IovWDb0tpXsT",
        "colab": {
          "base_uri": "https://localhost:8080/"
        },
        "outputId": "a17fa4f7-4001-4a3f-842d-f48b67f68287"
      },
      "source": [
        "np.random.seed(123)\n",
        "\n",
        "data2 = np.random.normal(50, 10, 1000)\n",
        "\n",
        "sample = np.random.choice(data2, 10)\n",
        "\n",
        "confidence_interval(sample)"
      ],
      "execution_count": 19,
      "outputs": [
        {
          "output_type": "execute_result",
          "data": {
            "text/plain": [
              "(44.28501220284126, 37.93312500671013, 50.63689939897239)"
            ]
          },
          "metadata": {
            "tags": []
          },
          "execution_count": 19
        }
      ]
    },
    {
      "cell_type": "code",
      "metadata": {
        "id": "uV_Kvf8Yp8g5",
        "colab": {
          "base_uri": "https://localhost:8080/"
        },
        "outputId": "25aa204e-78d6-4ff9-c80f-aff5822f5946"
      },
      "source": [
        "confidence_interval(np.random.choice(data2, 3))"
      ],
      "execution_count": 20,
      "outputs": [
        {
          "output_type": "execute_result",
          "data": {
            "text/plain": [
              "(54.44720084005697, 21.73030800723631, 87.16409367287764)"
            ]
          },
          "metadata": {
            "tags": []
          },
          "execution_count": 20
        }
      ]
    },
    {
      "cell_type": "code",
      "metadata": {
        "id": "cNDLZd2bqKRZ",
        "colab": {
          "base_uri": "https://localhost:8080/"
        },
        "outputId": "fccb2180-c1b6-4792-c756-4d51c114370f"
      },
      "source": [
        "confidence_interval(np.random.choice(data2, 30))"
      ],
      "execution_count": 21,
      "outputs": [
        {
          "output_type": "execute_result",
          "data": {
            "text/plain": [
              "(49.75170708068175, 46.21251606095514, 53.290898100408356)"
            ]
          },
          "metadata": {
            "tags": []
          },
          "execution_count": 21
        }
      ]
    },
    {
      "cell_type": "markdown",
      "metadata": {
        "id": "C4rtc8luVUAK"
      },
      "source": [
        "## 신뢰구간의 시각화 (시각화의 이해를 위해 평균 50으로 조정)\n"
      ]
    },
    {
      "cell_type": "code",
      "metadata": {
        "id": "pz6F9_3_VmKr",
        "colab": {
          "base_uri": "https://localhost:8080/",
          "height": 265
        },
        "outputId": "768a5005-091b-469f-c69b-4169ee8b9c21"
      },
      "source": [
        "x = np.linspace(0, 100, 101) # 0 ~ 100 by 100 \n",
        "\n",
        "y = stats.norm(50, 10).pdf(x) \n",
        "\n",
        "# https://matplotlib.org/3.3.1/api/_as_gen/matplotlib.pyplot.plot.html 참조\n",
        "\n",
        "# plt.plot([A, A], [B, C]) : (A, B) ~ (A,C) 까지의 Line\n",
        "\n",
        "plt.plot(x, y) # blue line\n",
        "\n",
        "plt.plot([50, 50], [0, 0.05], 'k-', lw = 2, color = '#ff6f15') \n",
        "\n",
        "# 30 sample\n",
        "plt.plot([53.54,53.54], [0, 0.05], 'k:', lw = 2, color = '#4000c7')\n",
        "plt.plot([46.46,46.46], [0, 0.05], 'k:', lw = 2, color = '#4000c7');\n",
        "\n",
        "# 10 sample\n",
        "plt.plot([56.35,56.35], [0, 0.05], 'k--', lw = 2, color = '#e84118')\n",
        "plt.plot([43.65,43.65], [0, 0.05], 'k--', lw = 2, color = '#e84118');\n",
        "\n",
        "# 3 sample\n",
        "\n",
        "plt.plot([82.72,82.72], [0, 0.05], 'k-', lw = 2, color = '#44bd32')\n",
        "plt.plot([17.29,17.29], [0, 0.05], 'k-', lw = 2, color = '#44bd32');"
      ],
      "execution_count": 22,
      "outputs": [
        {
          "output_type": "display_data",
          "data": {
            "image/png": "[encoded data removed]",
            "text/plain": [
              "<Figure size 432x288 with 1 Axes>"
            ]
          },
          "metadata": {
            "tags": [],
            "needs_background": "light"
          }
        }
      ]
    },
    {
      "cell_type": "markdown",
      "metadata": {
        "id": "08SGJTBOu43k"
      },
      "source": [
        "## CI with scipy"
      ]
    },
    {
      "cell_type": "code",
      "metadata": {
        "id": "e9raAWhKu8FA",
        "colab": {
          "base_uri": "https://localhost:8080/"
        },
        "outputId": "e953cc58-98b4-4ac4-f569-294a7d0496f4"
      },
      "source": [
        "np.random.seed(123)\n",
        "\n",
        "data2 = np.random.normal(50, 10, 1000)\n",
        "\n",
        "sample = np.random.choice(data2, 10)\n",
        "\n",
        "confidence_interval(sample)"
      ],
      "execution_count": 23,
      "outputs": [
        {
          "output_type": "execute_result",
          "data": {
            "text/plain": [
              "(44.28501220284126, 37.93312500671013, 50.63689939897239)"
            ]
          },
          "metadata": {
            "tags": []
          },
          "execution_count": 23
        }
      ]
    },
    {
      "cell_type": "markdown",
      "metadata": {
        "id": "AFZ8FmA6wBeJ"
      },
      "source": [
        "$$\\bar {x} \\pm {t \\cdot {s \\over \\sqrt{n} } }$$"
      ]
    },
    {
      "cell_type": "code",
      "metadata": {
        "id": "EmmIxOynvkMd",
        "colab": {
          "base_uri": "https://localhost:8080/"
        },
        "outputId": "bec0f0e7-8eba-4e74-86f6-1d3fb1738ffd"
      },
      "source": [
        "from scipy.stats import t\n",
        "\n",
        "# 표본의 크기\n",
        "n = len(sample)\n",
        "# 자유도\n",
        "dof = n-1\n",
        "# 평균의 평균\n",
        "mean = np.mean(sample)\n",
        "# 표본의 표준편차\n",
        "sample_std = np.std(sample, ddof = 1)\n",
        "# 표준 오차\n",
        "std_err = sample_std / n ** 0.5 # sample_std / sqrt(n)\n",
        "\n",
        "CI = t.interval(.95, dof, loc = mean, scale = std_err) # https://docs.scipy.org/doc/scipy/reference/generated/scipy.stats.t.html\n",
        "print(\"95% 신뢰구간: \", CI)"
      ],
      "execution_count": 24,
      "outputs": [
        {
          "output_type": "stream",
          "text": [
            "95% 신뢰구간:  (37.93312500671013, 50.63689939897239)\n"
          ],
          "name": "stdout"
        }
      ]
    }
  ]
}