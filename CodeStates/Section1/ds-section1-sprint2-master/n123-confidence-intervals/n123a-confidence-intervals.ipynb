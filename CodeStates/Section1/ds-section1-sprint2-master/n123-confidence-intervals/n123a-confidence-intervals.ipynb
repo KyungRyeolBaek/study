{
  "nbformat": 4,
  "nbformat_minor": 0,
  "metadata": {
    "colab": {
      "name": "n123a-confidence-intervals.ipynb",
      "provenance": [],
      "collapsed_sections": [],
      "toc_visible": true
    },
    "kernelspec": {
      "display_name": "Python 3",
      "language": "python",
      "name": "python3"
    },
    "language_info": {
      "codemirror_mode": {
        "name": "ipython",
        "version": 3
      },
      "file_extension": ".py",
      "mimetype": "text/x-python",
      "name": "python",
      "nbconvert_exporter": "python",
      "pygments_lexer": "ipython3",
      "version": "3.8.2"
    }
  },
  "cells": [
    {
      "cell_type": "markdown",
      "metadata": {
        "id": "g_c3L9CeANiJ"
      },
      "source": [
        "<img src='https://i.imgur.com/RDAD11M.png' width = '200' align = 'right'>\n",
        "\n",
        "## *DATA SCIENCE / SECTION 1 / SPRINT 2 / NOTE 3*\n",
        "\n",
        "# 📝 Assignment\n",
        "\n",
        "# 신뢰구간\n",
        "\n",
        "서울시 기간별 시간평균 대기환경 정보 데이터셋을 이용합니다.\n",
        "\n",
        "<img src='https://user-images.githubusercontent.com/6457691/89852263-740add80-dbc9-11ea-9e6b-8059b3f7e479.png'>\n",
        "\n",
        "<https://data.seoul.go.kr/dataList/OA-2221/S/1/datasetView.do>\n",
        "\n",
        "### `2020년 3월`의 송파구 데이터만 사용합니다.\n",
        "\n"
      ]
    },
    {
      "cell_type": "markdown",
      "metadata": {
        "id": "9BT9olD8zGyP"
      },
      "source": [
        "## 1. 데이터셋을 불러오세요\n",
        "\n",
        "  - 데이터는 `df`라는 변수에 저장되어야 하며\n",
        "  - Feature로는 `측정일시`, `측정소명`, `오존(ppm)` 만 사용합니다."
      ]
    },
    {
      "cell_type": "code",
      "metadata": {
        "id": "C1Tql4HDGefU"
      },
      "source": [
        "import pandas as pd\n",
        "\n",
        "df = pd.read_csv('/content/서울시_기간별_시간평균_대기환경_정보_2020.03.csv', encoding='euc-kr')\n",
        "df = df[df['측정소명'] == '송파구'][['측정일시', '측정소명', '오존(ppm)']]"
      ],
      "execution_count": 1,
      "outputs": []
    },
    {
      "cell_type": "markdown",
      "metadata": {
        "id": "wOQ-9E8uYcni"
      },
      "source": [
        "## 2. 데이터셋으로 부터 2개의 샘플을 생성하세요.\n",
        "\n",
        "- `s1`에 저장된 1개는 20개의 데이터, `s2`에 저장된 다른 1개는 200개이며 \n",
        "- 두 경우 모두 `random_state`로 `42`를 설정합니다."
      ]
    },
    {
      "cell_type": "code",
      "metadata": {
        "id": "QP55yQ07GcMb"
      },
      "source": [
        "s1 = df.sample(20, random_state=42)\n",
        "s2 = df.sample(200, random_state=42)"
      ],
      "execution_count": 8,
      "outputs": []
    },
    {
      "cell_type": "markdown",
      "metadata": {
        "id": "y2Rz-8O-YmF9"
      },
      "source": [
        "## 3. 두 샘플데이터에 대해서 `오존(ppm)`항목의 표본 평균을 계산하세요."
      ]
    },
    {
      "cell_type": "code",
      "metadata": {
        "id": "CdV4Tl1hGa6z",
        "colab": {
          "base_uri": "https://localhost:8080/"
        },
        "outputId": "77ba022a-1da6-4f55-898c-f824c6dc7431"
      },
      "source": [
        "# 표본 평균\n",
        "s1_mean = s1['오존(ppm)'].mean()\n",
        "s2_mean = s2['오존(ppm)'].mean()"
      ],
      "execution_count": 47,
      "outputs": [
        {
          "output_type": "execute_result",
          "data": {
            "text/plain": [
              "0.021750000000000002"
            ]
          },
          "metadata": {
            "tags": []
          },
          "execution_count": 47
        }
      ]
    },
    {
      "cell_type": "markdown",
      "metadata": {
        "id": "9tIHBlM_SyGR"
      },
      "source": [
        "## 4. 위에서 추정한 값들을 바탕으로, 95%에 해당하는 신뢰구간을 `CI1과` `CI2`에 계산하세요.\n",
        "\n",
        "  - `ddof`는 `1`을 사용합니다."
      ]
    },
    {
      "cell_type": "code",
      "metadata": {
        "id": "rjq59rjMGZ-w"
      },
      "source": [
        "from scipy.stats import t\n",
        "import numpy as np\n",
        "\n",
        "# 표본의 크기\n",
        "n1 = len(s1)\n",
        "n2 = len(s2)\n",
        "# 자유도\n",
        "dof_s1 = n1-1\n",
        "dof_s2 = n2-1\n",
        "# 표본의 표준편차\n",
        "s1_std = np.std(s1['오존(ppm)'], ddof = 1)\n",
        "s2_std = np.std(s2['오존(ppm)'], ddof = 1)\n",
        "# 표준 오차\n",
        "s1_std_err = s1_std / n1 ** 0.5 # sample_std / sqrt(n)\n",
        "s2_std_err = s2_std / n2 ** 0.5\n",
        "\n",
        "CI1 = t.interval(.95, dof_s1, loc = s1_mean, scale = s1_std_err)   # https://docs.scipy.org/doc/scipy/reference/generated/scipy.stats.t.html\n",
        "CI2 = t.interval(.95, dof_s2, loc = s2_mean, scale = s2_std_err)"
      ],
      "execution_count": 10,
      "outputs": []
    },
    {
      "cell_type": "markdown",
      "metadata": {
        "id": "HsTtONTNawFi"
      },
      "source": [
        "## 5. `plt.bar`를 사용하여 다음과 같은 신뢰구간 시각화를 그리세요.\n",
        "  - 이때 보라색 선에 해당 하는 값을 `pop_mean`에 저장하세요.\n",
        "  - `colors = '#4000c7'`을 사용하세요.\n",
        "\n",
        "<img src='https://i.imgur.com/3orh30m.png'>\n",
        "\n",
        "\n",
        "\n",
        "\n"
      ]
    },
    {
      "cell_type": "code",
      "metadata": {
        "id": "skjzyQaJGIIw",
        "colab": {
          "base_uri": "https://localhost:8080/",
          "height": 265
        },
        "outputId": "33ab0db4-09ab-4edb-cd17-14bca4f99109"
      },
      "source": [
        "import matplotlib.pyplot as plt\n",
        "\n",
        "pop_mean = df['오존(ppm)'].mean()\n",
        "plt.axhline(pop_mean, color = '#4000c7', linestyle = '--')\n",
        "plt.bar(x = 's1', height = s1_mean, yerr = s1_std_err, capsize=7)\n",
        "plt.bar(x = 's2', height = s2_mean, yerr = s2_std_err, capsize=7)\n",
        "plt.show()"
      ],
      "execution_count": 11,
      "outputs": [
        {
          "output_type": "display_data",
          "data": {
            "image/png": "[encoded data removed]",
            "text/plain": [
              "<Figure size 432x288 with 1 Axes>"
            ]
          },
          "metadata": {
            "tags": [],
            "needs_background": "light"
          }
        }
      ]
    },
    {
      "cell_type": "code",
      "metadata": {
        "colab": {
          "base_uri": "https://localhost:8080/"
        },
        "id": "VfgSbLIoI51f",
        "outputId": "b54a2249-c7c3-4788-b09d-f23018af35fe"
      },
      "source": [
        "min(df.shape)"
      ],
      "execution_count": 13,
      "outputs": [
        {
          "output_type": "execute_result",
          "data": {
            "text/plain": [
              "3"
            ]
          },
          "metadata": {
            "tags": []
          },
          "execution_count": 13
        }
      ]
    },
    {
      "cell_type": "code",
      "metadata": {
        "colab": {
          "base_uri": "https://localhost:8080/"
        },
        "id": "vLP2xDvXJTyk",
        "outputId": "e068b677-c125-469c-8ee9-f2046ca17d31"
      },
      "source": [
        "s1['오존(ppm)'][9199]"
      ],
      "execution_count": 14,
      "outputs": [
        {
          "output_type": "execute_result",
          "data": {
            "text/plain": [
              "0.033"
            ]
          },
          "metadata": {
            "tags": []
          },
          "execution_count": 14
        }
      ]
    },
    {
      "cell_type": "code",
      "metadata": {
        "colab": {
          "base_uri": "https://localhost:8080/"
        },
        "id": "1gjfRJbsJZkd",
        "outputId": "81376bf8-1c86-47a8-ef85-cd0ccfc83577"
      },
      "source": [
        "s2['오존(ppm)'][4372]"
      ],
      "execution_count": 15,
      "outputs": [
        {
          "output_type": "execute_result",
          "data": {
            "text/plain": [
              "0.044000000000000004"
            ]
          },
          "metadata": {
            "tags": []
          },
          "execution_count": 15
        }
      ]
    },
    {
      "cell_type": "code",
      "metadata": {
        "colab": {
          "base_uri": "https://localhost:8080/"
        },
        "id": "T6CnWBT4JfqE",
        "outputId": "14f0b5c8-db77-4ab7-b158-f2cd90c384e9"
      },
      "source": [
        "round(CI1[0], 3)"
      ],
      "execution_count": 17,
      "outputs": [
        {
          "output_type": "execute_result",
          "data": {
            "text/plain": [
              "0.015"
            ]
          },
          "metadata": {
            "tags": []
          },
          "execution_count": 17
        }
      ]
    },
    {
      "cell_type": "code",
      "metadata": {
        "colab": {
          "base_uri": "https://localhost:8080/"
        },
        "id": "l6Vi8HOjJlIb",
        "outputId": "eb3b3d5e-fe48-4424-abd3-a0436dba0fa4"
      },
      "source": [
        "round(CI2[1], 3)"
      ],
      "execution_count": 18,
      "outputs": [
        {
          "output_type": "execute_result",
          "data": {
            "text/plain": [
              "0.025"
            ]
          },
          "metadata": {
            "tags": []
          },
          "execution_count": 18
        }
      ]
    },
    {
      "cell_type": "code",
      "metadata": {
        "colab": {
          "base_uri": "https://localhost:8080/"
        },
        "id": "vkuE00seJpDr",
        "outputId": "a15ea31b-2d43-4c56-c71c-b3265151bf69"
      },
      "source": [
        "round(pop_mean, 4)"
      ],
      "execution_count": 19,
      "outputs": [
        {
          "output_type": "execute_result",
          "data": {
            "text/plain": [
              "0.0236"
            ]
          },
          "metadata": {
            "tags": []
          },
          "execution_count": 19
        }
      ]
    },
    {
      "cell_type": "markdown",
      "metadata": {
        "id": "cvtnsGLJa4bW"
      },
      "source": [
        "# 🔥 도전과제\n",
        "> 아래 두 문제를 모두 다 하시면 됩니다."
      ]
    },
    {
      "cell_type": "markdown",
      "metadata": {
        "id": "ie_xQYk12TbX"
      },
      "source": [
        "## 1. [plotly](https://plotly.com/) 나 [seaborn](http://seaborn.pydata.org/index.html), [bokeh](https://docs.bokeh.org/en/latest/index.html) 등 다른 시각화 라이브러리를 선택하여 앞에서 그렸던 신뢰구간을 해당 라이브러리를 선택하여 그려보세요."
      ]
    },
    {
      "cell_type": "code",
      "metadata": {
        "id": "UpFeWb8gy4pr",
        "colab": {
          "base_uri": "https://localhost:8080/",
          "height": 542
        },
        "outputId": "20d54eda-68d6-4af8-f44f-97b558186380"
      },
      "source": [
        "# plotly\n",
        "\n",
        "import plotly.graph_objects as go\n",
        "\n",
        "fig = go.Figure()\n",
        "fig.add_trace(go.Bar(name = 's1', x = ['s1'], y=s1['오존(ppm)'], error_y=dict(\n",
        "            type='data', # value of error bar given in data coordinates\n",
        "            array=[s1_std_err])))\n",
        "fig.add_trace(go.Bar(name = 's2', x = ['s2'], y=s2['오존(ppm)'], error_y=dict(\n",
        "            type='data', # value of error bar given in data coordinates\n",
        "            array=[s2_std_err])))\n",
        "fig.show()"
      ],
      "execution_count": 54,
      "outputs": [
        {
          "output_type": "display_data",
          "data": {
            "text/html": [
              "<html>\n",
              "<head><meta charset=\"utf-8\" /></head>\n",
              "<body>\n",
              "    <div>            <script src=\"https://cdnjs.cloudflare.com/ajax/libs/mathjax/2.7.5/MathJax.js?config=TeX-AMS-MML_SVG\"></script><script type=\"text/javascript\">if (window.MathJax) {MathJax.Hub.Config({SVG: {font: \"STIX-Web\"}});}</script>                <script type=\"text/javascript\">window.PlotlyConfig = {MathJaxConfig: 'local'};</script>\n",
              "        <script src=\"https://cdn.plot.ly/plotly-latest.min.js\"></script>                <div id=\"c128113f-f774-4159-95a4-1c0cb3acd96d\" class=\"plotly-graph-div\" style=\"height:525px; width:100%;\"></div>            <script type=\"text/javascript\">                                    window.PLOTLYENV=window.PLOTLYENV || {};                                    if (document.getElementById(\"c128113f-f774-4159-95a4-1c0cb3acd96d\")) {                    Plotly.newPlot(                        \"c128113f-f774-4159-95a4-1c0cb3acd96d\",                        [{\"error_y\": {\"array\": [0.0031961119471863577], \"type\": \"data\"}, \"name\": \"s1\", \"type\": \"bar\", \"x\": [\"s1\"], \"y\": [0.021, 0.02, 0.002, 0.009000000000000001, 0.044000000000000004, 0.037000000000000005, 0.021, 0.019, 0.013000000000000001, 0.002, 0.026000000000000002, 0.033, 0.025, 0.034, 0.009000000000000001, 0.027999999999999997, 0.045, 0.040999999999999995, 0.004, 0.002]}, {\"error_y\": {\"array\": [0.0009703483288989501], \"type\": \"data\"}, \"name\": \"s2\", \"type\": \"bar\", \"x\": [\"s2\"], \"y\": [0.021, 0.02, 0.002, 0.009000000000000001, 0.044000000000000004, 0.037000000000000005, 0.021, 0.019, 0.013000000000000001, 0.002, 0.026000000000000002, 0.033, 0.025, 0.034, 0.009000000000000001, 0.027999999999999997, 0.045, 0.040999999999999995, 0.004, 0.002, 0.004, 0.012, 0.022000000000000002, 0.015, 0.013999999999999999, 0.027999999999999997, 0.004, 0.040999999999999995, 0.043, 0.023, 0.033, 0.034, 0.035, 0.022000000000000002, 0.023, 0.022000000000000002, 0.009000000000000001, 0.022000000000000002, 0.03, 0.002, 0.028999999999999998, 0.02, 0.023, 0.028999999999999998, 0.04, 0.009000000000000001, 0.031, 0.024, 0.024, 0.036000000000000004, 0.011000000000000001, 0.027000000000000003, 0.002, 0.051, 0.036000000000000004, 0.024, 0.032, 0.040999999999999995, 0.006, 0.033, 0.022000000000000002, 0.024, 0.026000000000000002, 0.022000000000000002, 0.032, 0.002, 0.018000000000000002, 0.027000000000000003, 0.027999999999999997, 0.024, 0.037000000000000005, 0.003, 0.02, 0.023, 0.042, 0.03, 0.033, 0.013000000000000001, 0.025, 0.037000000000000005, 0.027999999999999997, 0.024, 0.025, 0.013000000000000001, 0.043, 0.038, 0.033, 0.002, 0.023, 0.002, 0.025, 0.003, 0.027999999999999997, 0.032, 0.025, 0.028999999999999998, 0.002, 0.025, 0.013999999999999999, 0.013999999999999999, 0.040999999999999995, 0.002, 0.002, 0.031, 0.008, 0.012, 0.038, 0.032, 0.022000000000000002, 0.055, 0.022000000000000002, 0.038, 0.022000000000000002, 0.023, 0.028999999999999998, 0.038, 0.034, 0.031, 0.02, 0.005, 0.039, 0.051, 0.034, 0.038, 0.025, 0.028999999999999998, 0.003, 0.002, 0.045, 0.003, 0.003, 0.018000000000000002, 0.048, 0.016, 0.026000000000000002, 0.031, 0.003, 0.031, 0.022000000000000002, 0.003, 0.037000000000000005, 0.048, 0.036000000000000004, 0.002, 0.022000000000000002, 0.027999999999999997, 0.031, 0.052000000000000005, 0.006, 0.027000000000000003, 0.002, 0.025, 0.017, 0.005, 0.004, 0.002, 0.028999999999999998, 0.009000000000000001, 0.025, 0.037000000000000005, 0.008, 0.002, 0.034, 0.005, 0.024, 0.002, 0.04, 0.02, 0.044000000000000004, 0.024, 0.027000000000000003, 0.018000000000000002, 0.035, 0.006999999999999999, 0.006, 0.015, 0.026000000000000002, 0.046, 0.018000000000000002, 0.039, 0.006999999999999999, 0.002, 0.006999999999999999, 0.004, 0.046, 0.027999999999999997, 0.011000000000000001, 0.006, 0.052000000000000005, 0.016, 0.036000000000000004, 0.035, 0.034, 0.002, 0.006999999999999999, 0.022000000000000002, 0.026000000000000002, 0.031, 0.002, 0.034]}],                        {\"template\": {\"data\": {\"bar\": [{\"error_x\": {\"color\": \"#2a3f5f\"}, \"error_y\": {\"color\": \"#2a3f5f\"}, \"marker\": {\"line\": {\"color\": \"#E5ECF6\", \"width\": 0.5}}, \"type\": \"bar\"}], \"barpolar\": [{\"marker\": {\"line\": {\"color\": \"#E5ECF6\", \"width\": 0.5}}, \"type\": \"barpolar\"}], \"carpet\": [{\"aaxis\": {\"endlinecolor\": \"#2a3f5f\", \"gridcolor\": \"white\", \"linecolor\": \"white\", \"minorgridcolor\": \"white\", \"startlinecolor\": \"#2a3f5f\"}, \"baxis\": {\"endlinecolor\": \"#2a3f5f\", \"gridcolor\": \"white\", \"linecolor\": \"white\", \"minorgridcolor\": \"white\", \"startlinecolor\": \"#2a3f5f\"}, \"type\": \"carpet\"}], \"choropleth\": [{\"colorbar\": {\"outlinewidth\": 0, \"ticks\": \"\"}, \"type\": \"choropleth\"}], \"contour\": [{\"colorbar\": {\"outlinewidth\": 0, \"ticks\": \"\"}, \"colorscale\": [[0.0, \"#0d0887\"], [0.1111111111111111, \"#46039f\"], [0.2222222222222222, \"#7201a8\"], [0.3333333333333333, \"#9c179e\"], [0.4444444444444444, \"#bd3786\"], [0.5555555555555556, \"#d8576b\"], [0.6666666666666666, \"#ed7953\"], [0.7777777777777778, \"#fb9f3a\"], [0.8888888888888888, \"#fdca26\"], [1.0, \"#f0f921\"]], \"type\": \"contour\"}], \"contourcarpet\": [{\"colorbar\": {\"outlinewidth\": 0, \"ticks\": \"\"}, \"type\": \"contourcarpet\"}], \"heatmap\": [{\"colorbar\": {\"outlinewidth\": 0, \"ticks\": \"\"}, \"colorscale\": [[0.0, \"#0d0887\"], [0.1111111111111111, \"#46039f\"], [0.2222222222222222, \"#7201a8\"], [0.3333333333333333, \"#9c179e\"], [0.4444444444444444, \"#bd3786\"], [0.5555555555555556, \"#d8576b\"], [0.6666666666666666, \"#ed7953\"], [0.7777777777777778, \"#fb9f3a\"], [0.8888888888888888, \"#fdca26\"], [1.0, \"#f0f921\"]], \"type\": \"heatmap\"}], \"heatmapgl\": [{\"colorbar\": {\"outlinewidth\": 0, \"ticks\": \"\"}, \"colorscale\": [[0.0, \"#0d0887\"], [0.1111111111111111, \"#46039f\"], [0.2222222222222222, \"#7201a8\"], [0.3333333333333333, \"#9c179e\"], [0.4444444444444444, \"#bd3786\"], [0.5555555555555556, \"#d8576b\"], [0.6666666666666666, \"#ed7953\"], [0.7777777777777778, \"#fb9f3a\"], [0.8888888888888888, \"#fdca26\"], [1.0, \"#f0f921\"]], \"type\": \"heatmapgl\"}], \"histogram\": [{\"marker\": {\"colorbar\": {\"outlinewidth\": 0, \"ticks\": \"\"}}, \"type\": \"histogram\"}], \"histogram2d\": [{\"colorbar\": {\"outlinewidth\": 0, \"ticks\": \"\"}, \"colorscale\": [[0.0, \"#0d0887\"], [0.1111111111111111, \"#46039f\"], [0.2222222222222222, \"#7201a8\"], [0.3333333333333333, \"#9c179e\"], [0.4444444444444444, \"#bd3786\"], [0.5555555555555556, \"#d8576b\"], [0.6666666666666666, \"#ed7953\"], [0.7777777777777778, \"#fb9f3a\"], [0.8888888888888888, \"#fdca26\"], [1.0, \"#f0f921\"]], \"type\": \"histogram2d\"}], \"histogram2dcontour\": [{\"colorbar\": {\"outlinewidth\": 0, \"ticks\": \"\"}, \"colorscale\": [[0.0, \"#0d0887\"], [0.1111111111111111, \"#46039f\"], [0.2222222222222222, \"#7201a8\"], [0.3333333333333333, \"#9c179e\"], [0.4444444444444444, \"#bd3786\"], [0.5555555555555556, \"#d8576b\"], [0.6666666666666666, \"#ed7953\"], [0.7777777777777778, \"#fb9f3a\"], [0.8888888888888888, \"#fdca26\"], [1.0, \"#f0f921\"]], \"type\": \"histogram2dcontour\"}], \"mesh3d\": [{\"colorbar\": {\"outlinewidth\": 0, \"ticks\": \"\"}, \"type\": \"mesh3d\"}], \"parcoords\": [{\"line\": {\"colorbar\": {\"outlinewidth\": 0, \"ticks\": \"\"}}, \"type\": \"parcoords\"}], \"pie\": [{\"automargin\": true, \"type\": \"pie\"}], \"scatter\": [{\"marker\": {\"colorbar\": {\"outlinewidth\": 0, \"ticks\": \"\"}}, \"type\": \"scatter\"}], \"scatter3d\": [{\"line\": {\"colorbar\": {\"outlinewidth\": 0, \"ticks\": \"\"}}, \"marker\": {\"colorbar\": {\"outlinewidth\": 0, \"ticks\": \"\"}}, \"type\": \"scatter3d\"}], \"scattercarpet\": [{\"marker\": {\"colorbar\": {\"outlinewidth\": 0, \"ticks\": \"\"}}, \"type\": \"scattercarpet\"}], \"scattergeo\": [{\"marker\": {\"colorbar\": {\"outlinewidth\": 0, \"ticks\": \"\"}}, \"type\": \"scattergeo\"}], \"scattergl\": [{\"marker\": {\"colorbar\": {\"outlinewidth\": 0, \"ticks\": \"\"}}, \"type\": \"scattergl\"}], \"scattermapbox\": [{\"marker\": {\"colorbar\": {\"outlinewidth\": 0, \"ticks\": \"\"}}, \"type\": \"scattermapbox\"}], \"scatterpolar\": [{\"marker\": {\"colorbar\": {\"outlinewidth\": 0, \"ticks\": \"\"}}, \"type\": \"scatterpolar\"}], \"scatterpolargl\": [{\"marker\": {\"colorbar\": {\"outlinewidth\": 0, \"ticks\": \"\"}}, \"type\": \"scatterpolargl\"}], \"scatterternary\": [{\"marker\": {\"colorbar\": {\"outlinewidth\": 0, \"ticks\": \"\"}}, \"type\": \"scatterternary\"}], \"surface\": [{\"colorbar\": {\"outlinewidth\": 0, \"ticks\": \"\"}, \"colorscale\": [[0.0, \"#0d0887\"], [0.1111111111111111, \"#46039f\"], [0.2222222222222222, \"#7201a8\"], [0.3333333333333333, \"#9c179e\"], [0.4444444444444444, \"#bd3786\"], [0.5555555555555556, \"#d8576b\"], [0.6666666666666666, \"#ed7953\"], [0.7777777777777778, \"#fb9f3a\"], [0.8888888888888888, \"#fdca26\"], [1.0, \"#f0f921\"]], \"type\": \"surface\"}], \"table\": [{\"cells\": {\"fill\": {\"color\": \"#EBF0F8\"}, \"line\": {\"color\": \"white\"}}, \"header\": {\"fill\": {\"color\": \"#C8D4E3\"}, \"line\": {\"color\": \"white\"}}, \"type\": \"table\"}]}, \"layout\": {\"annotationdefaults\": {\"arrowcolor\": \"#2a3f5f\", \"arrowhead\": 0, \"arrowwidth\": 1}, \"coloraxis\": {\"colorbar\": {\"outlinewidth\": 0, \"ticks\": \"\"}}, \"colorscale\": {\"diverging\": [[0, \"#8e0152\"], [0.1, \"#c51b7d\"], [0.2, \"#de77ae\"], [0.3, \"#f1b6da\"], [0.4, \"#fde0ef\"], [0.5, \"#f7f7f7\"], [0.6, \"#e6f5d0\"], [0.7, \"#b8e186\"], [0.8, \"#7fbc41\"], [0.9, \"#4d9221\"], [1, \"#276419\"]], \"sequential\": [[0.0, \"#0d0887\"], [0.1111111111111111, \"#46039f\"], [0.2222222222222222, \"#7201a8\"], [0.3333333333333333, \"#9c179e\"], [0.4444444444444444, \"#bd3786\"], [0.5555555555555556, \"#d8576b\"], [0.6666666666666666, \"#ed7953\"], [0.7777777777777778, \"#fb9f3a\"], [0.8888888888888888, \"#fdca26\"], [1.0, \"#f0f921\"]], \"sequentialminus\": [[0.0, \"#0d0887\"], [0.1111111111111111, \"#46039f\"], [0.2222222222222222, \"#7201a8\"], [0.3333333333333333, \"#9c179e\"], [0.4444444444444444, \"#bd3786\"], [0.5555555555555556, \"#d8576b\"], [0.6666666666666666, \"#ed7953\"], [0.7777777777777778, \"#fb9f3a\"], [0.8888888888888888, \"#fdca26\"], [1.0, \"#f0f921\"]]}, \"colorway\": [\"#636efa\", \"#EF553B\", \"#00cc96\", \"#ab63fa\", \"#FFA15A\", \"#19d3f3\", \"#FF6692\", \"#B6E880\", \"#FF97FF\", \"#FECB52\"], \"font\": {\"color\": \"#2a3f5f\"}, \"geo\": {\"bgcolor\": \"white\", \"lakecolor\": \"white\", \"landcolor\": \"#E5ECF6\", \"showlakes\": true, \"showland\": true, \"subunitcolor\": \"white\"}, \"hoverlabel\": {\"align\": \"left\"}, \"hovermode\": \"closest\", \"mapbox\": {\"style\": \"light\"}, \"paper_bgcolor\": \"white\", \"plot_bgcolor\": \"#E5ECF6\", \"polar\": {\"angularaxis\": {\"gridcolor\": \"white\", \"linecolor\": \"white\", \"ticks\": \"\"}, \"bgcolor\": \"#E5ECF6\", \"radialaxis\": {\"gridcolor\": \"white\", \"linecolor\": \"white\", \"ticks\": \"\"}}, \"scene\": {\"xaxis\": {\"backgroundcolor\": \"#E5ECF6\", \"gridcolor\": \"white\", \"gridwidth\": 2, \"linecolor\": \"white\", \"showbackground\": true, \"ticks\": \"\", \"zerolinecolor\": \"white\"}, \"yaxis\": {\"backgroundcolor\": \"#E5ECF6\", \"gridcolor\": \"white\", \"gridwidth\": 2, \"linecolor\": \"white\", \"showbackground\": true, \"ticks\": \"\", \"zerolinecolor\": \"white\"}, \"zaxis\": {\"backgroundcolor\": \"#E5ECF6\", \"gridcolor\": \"white\", \"gridwidth\": 2, \"linecolor\": \"white\", \"showbackground\": true, \"ticks\": \"\", \"zerolinecolor\": \"white\"}}, \"shapedefaults\": {\"line\": {\"color\": \"#2a3f5f\"}}, \"ternary\": {\"aaxis\": {\"gridcolor\": \"white\", \"linecolor\": \"white\", \"ticks\": \"\"}, \"baxis\": {\"gridcolor\": \"white\", \"linecolor\": \"white\", \"ticks\": \"\"}, \"bgcolor\": \"#E5ECF6\", \"caxis\": {\"gridcolor\": \"white\", \"linecolor\": \"white\", \"ticks\": \"\"}}, \"title\": {\"x\": 0.05}, \"xaxis\": {\"automargin\": true, \"gridcolor\": \"white\", \"linecolor\": \"white\", \"ticks\": \"\", \"title\": {\"standoff\": 15}, \"zerolinecolor\": \"white\", \"zerolinewidth\": 2}, \"yaxis\": {\"automargin\": true, \"gridcolor\": \"white\", \"linecolor\": \"white\", \"ticks\": \"\", \"title\": {\"standoff\": 15}, \"zerolinecolor\": \"white\", \"zerolinewidth\": 2}}}},                        {\"responsive\": true}                    ).then(function(){\n",
              "                            \n",
              "var gd = document.getElementById('c128113f-f774-4159-95a4-1c0cb3acd96d');\n",
              "var x = new MutationObserver(function (mutations, observer) {{\n",
              "        var display = window.getComputedStyle(gd).display;\n",
              "        if (!display || display === 'none') {{\n",
              "            console.log([gd, 'removed!']);\n",
              "            Plotly.purge(gd);\n",
              "            observer.disconnect();\n",
              "        }}\n",
              "}});\n",
              "\n",
              "// Listen for the removal of the full notebook cells\n",
              "var notebookContainer = gd.closest('#notebook-container');\n",
              "if (notebookContainer) {{\n",
              "    x.observe(notebookContainer, {childList: true});\n",
              "}}\n",
              "\n",
              "// Listen for the clearing of the current output cell\n",
              "var outputEl = gd.closest('.output');\n",
              "if (outputEl) {{\n",
              "    x.observe(outputEl, {childList: true});\n",
              "}}\n",
              "\n",
              "                        })                };                            </script>        </div>\n",
              "</body>\n",
              "</html>"
            ]
          },
          "metadata": {
            "tags": []
          }
        }
      ]
    },
    {
      "cell_type": "code",
      "metadata": {
        "colab": {
          "base_uri": "https://localhost:8080/",
          "height": 265
        },
        "id": "pwfy1B4ZKi4z",
        "outputId": "1ab606fb-a45d-4a04-9a30-866d7f95cbb6"
      },
      "source": [
        "# seaborn\n",
        "\n",
        "import seaborn as sns\n",
        "\n",
        "sns.barplot(data = pd.DataFrame({'s1':s1['오존(ppm)'], 's2':s2['오존(ppm)']}))\n",
        "plt.show()"
      ],
      "execution_count": 39,
      "outputs": [
        {
          "output_type": "display_data",
          "data": {
            "image/png": "[encoded data removed]",
            "text/plain": [
              "<Figure size 432x288 with 1 Axes>"
            ]
          },
          "metadata": {
            "tags": [],
            "needs_background": "light"
          }
        }
      ]
    },
    {
      "cell_type": "code",
      "metadata": {
        "id": "-FhFIUn4KixQ"
      },
      "source": [
        "# bokeh 그래프가 안그려져요!!! ?!?!?!?\n",
        "\n",
        "# !pip install bokeh\n",
        "\n",
        "from bokeh.plotting import figure, output_file, show\n",
        "from bokeh.io import output_notebook\n",
        "\n",
        "graph = figure()\n",
        "graph.vbar(s1_mean)\n",
        "show(graph)"
      ],
      "execution_count": 60,
      "outputs": []
    },
    {
      "cell_type": "markdown",
      "metadata": {
        "id": "rfC_r9kl2VQj"
      },
      "source": [
        "## 2. 위 데이터의 `초미세먼지` 데이터를 사용하여, 큰 수의 법칙과, 중심극한가설을 표현하는 코드를 작성하세요."
      ]
    },
    {
      "cell_type": "code",
      "metadata": {
        "id": "3WzqW4jT3AvR",
        "colab": {
          "base_uri": "https://localhost:8080/",
          "height": 265
        },
        "outputId": "4eea40e7-5418-4aff-f8e0-c64b3260c002"
      },
      "source": [
        "# 큰 수의 법칙 : 셈플의 수가 많아지면, 셈플의 분산은 모집단의 분산에 가까워 진다.\n",
        "\n",
        "df = pd.read_csv('/content/서울시_기간별_시간평균_대기환경_정보_2020.03.csv', encoding='euc-kr')\n",
        "df_challenge = df['초미세먼지(㎍/㎥)']\n",
        "\n",
        "dat = []\n",
        "\n",
        "for i in np.arange(start = 5, stop = 995, step = 5) :\n",
        "  s = np.random.choice(df_challenge, i)\n",
        "  dat.append(s.var())\n",
        "dat\n",
        "\n",
        "(pd\n",
        " .DataFrame(dat)\n",
        " .plot\n",
        " .line(color = '#4000c7')\n",
        " .axhline(y = df_challenge.var(), color = '#00da75')\n",
        " );"
      ],
      "execution_count": 85,
      "outputs": [
        {
          "output_type": "display_data",
          "data": {
            "image/png": "[encoded data removed]",
            "text/plain": [
              "<Figure size 432x288 with 1 Axes>"
            ]
          },
          "metadata": {
            "tags": [],
            "needs_background": "light"
          }
        }
      ]
    },
    {
      "cell_type": "code",
      "metadata": {
        "id": "hRs7bhEaVYj4",
        "outputId": "48760dac-2911-499e-cb4d-2e5e9bc3f605",
        "colab": {
          "base_uri": "https://localhost:8080/",
          "height": 265
        }
      },
      "source": [
        "# 중심 극한 가설 : 샘플의 데이터 갯수가 많아지면 많아질수록 샘플의 평균은 샘플의 정규분포와 가까워진다.\n",
        "\n",
        "sample_means = []\n",
        "\n",
        "for x in range(0, 1000):\n",
        "  rand_sample = df_challenge.sample(100)\n",
        "  sample_means.append(rand_sample.mean())\n",
        "\n",
        "pd.DataFrame(sample_means).plot(color = '#4000c7');"
      ],
      "execution_count": 93,
      "outputs": [
        {
          "output_type": "display_data",
          "data": {
            "image/png": "[encoded data removed]",
            "text/plain": [
              "<Figure size 432x288 with 1 Axes>"
            ]
          },
          "metadata": {
            "tags": [],
            "needs_background": "light"
          }
        }
      ]
    },
    {
      "cell_type": "code",
      "metadata": {
        "id": "vJ-PvRDTXWb-",
        "outputId": "1c1511f7-96ed-4596-cdd9-fa2cd7aa8bd7",
        "colab": {
          "base_uri": "https://localhost:8080/",
          "height": 281
        }
      },
      "source": [
        "pd.DataFrame(sample_means).hist(color = '#4000c7');"
      ],
      "execution_count": 94,
      "outputs": [
        {
          "output_type": "display_data",
          "data": {
            "image/png": "[encoded data removed]",
            "text/plain": [
              "<Figure size 432x288 with 1 Axes>"
            ]
          },
          "metadata": {
            "tags": [],
            "needs_background": "light"
          }
        }
      ]
    },
    {
      "cell_type": "code",
      "metadata": {
        "id": "RtdFxA9wXjWO",
        "outputId": "86370138-4842-4422-ea2f-039e37907f51",
        "colab": {
          "base_uri": "https://localhost:8080/",
          "height": 281
        }
      },
      "source": [
        "sample_means2 = []\n",
        "\n",
        "for x in range(0,1000):\n",
        "  rand_sample = df_challenge.sample(10000)\n",
        "  sample_means2.append(rand_sample.mean())\n",
        "\n",
        "pd.DataFrame(sample_means2).hist(color = '#4000c7');"
      ],
      "execution_count": 98,
      "outputs": [
        {
          "output_type": "display_data",
          "data": {
            "image/png": "[encoded data removed]",
            "text/plain": [
              "<Figure size 432x288 with 1 Axes>"
            ]
          },
          "metadata": {
            "tags": [],
            "needs_background": "light"
          }
        }
      ]
    },
    {
      "cell_type": "code",
      "metadata": {
        "id": "J6OJ3pIIXzOn"
      },
      "source": [
        "sample_means_small = []\n",
        "sample_means_medium = []\n",
        "sample_means_large = []\n",
        "\n",
        "# b(n, p)\n",
        "# N(0,1) ~ N(u, sd)\n",
        "\n",
        "for x in range(0, 3000):\n",
        "  rand_sample_small = df_challenge.sample(100)\n",
        "  rand_sample_medium = df_challenge.sample(1000)\n",
        "  rand_sample_large = df_challenge.sample(10000)\n",
        "  sample_means_small.append(rand_sample_small.mean())\n",
        "  sample_means_medium.append(rand_sample_medium.mean())\n",
        "  sample_means_large.append(rand_sample_large.mean())"
      ],
      "execution_count": 100,
      "outputs": []
    },
    {
      "cell_type": "code",
      "metadata": {
        "id": "4yf0aQg_X9js",
        "outputId": "a5fd7e79-ad39-4da4-b855-c4d83c362344",
        "colab": {
          "base_uri": "https://localhost:8080/",
          "height": 268
        }
      },
      "source": [
        "import seaborn as sns\n",
        "ax = plt.subplots()\n",
        "\n",
        "sns.histplot(sample_means_small, color = '#e74c3c')\n",
        "\n",
        "sns.histplot(sample_means_medium, color = '#f39c12')\n",
        "\n",
        "sns.histplot(sample_means_large, color = '#27ae60');\n",
        "  \n",
        "# sample_means_small -> red \n",
        "# sample_means_medium -> orange\n",
        "# sample_means_large -> green"
      ],
      "execution_count": 101,
      "outputs": [
        {
          "output_type": "display_data",
          "data": {
            "image/png": "[encoded data removed]",
            "text/plain": [
              "<Figure size 432x288 with 1 Axes>"
            ]
          },
          "metadata": {
            "tags": [],
            "needs_background": "light"
          }
        }
      ]
    },
    {
      "cell_type": "code",
      "metadata": {
        "id": "Czrw1bFrYXwm"
      },
      "source": [
        ""
      ],
      "execution_count": null,
      "outputs": []
    }
  ]
}