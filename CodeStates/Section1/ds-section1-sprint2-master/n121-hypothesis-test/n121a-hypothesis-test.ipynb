{
  "nbformat": 4,
  "nbformat_minor": 0,
  "metadata": {
    "colab": {
      "name": "n121a-hypothesis-test.ipynb",
      "provenance": [],
      "toc_visible": true
    },
    "kernelspec": {
      "display_name": "Python 3",
      "language": "python",
      "name": "python3"
    },
    "language_info": {
      "codemirror_mode": {
        "name": "ipython",
        "version": 3
      },
      "file_extension": ".py",
      "mimetype": "text/x-python",
      "name": "python",
      "nbconvert_exporter": "python",
      "pygments_lexer": "ipython3",
      "version": "3.8.2"
    }
  },
  "cells": [
    {
      "cell_type": "markdown",
      "metadata": {
        "id": "Sa5KWMO1ngPN"
      },
      "source": [
        "<img src='https://i.imgur.com/RDAD11M.png' width = '200' align = 'right'>\n",
        "\n",
        "## *DATA SCIENCE / SECTION 1 / SPRINT 2 / NOTE 1*\n",
        "\n",
        "# 📝 Assignment"
      ]
    },
    {
      "cell_type": "markdown",
      "metadata": {
        "id": "eSwM-lExRHV1"
      },
      "source": [
        "# 가설 검정"
      ]
    },
    {
      "cell_type": "markdown",
      "metadata": {
        "id": "gZDO3KBZOJNp"
      },
      "source": [
        "## 1. One-Sample T-test 연습"
      ]
    },
    {
      "cell_type": "markdown",
      "metadata": {
        "id": "CdRkOn9X5BdF"
      },
      "source": [
        "### 데이터 불러오기\n",
        "- [서울시 가로수 데이터셋](https://data.seoul.go.kr/dataList/367/S/2/datasetView.do)을 사용합니다.\n",
        "\n",
        "다음 링크를 참조하세요. \n",
        "<https://ds-lecture-data.s3.ap-northeast-2.amazonaws.com/seoul_tree/seoul_tree.txt>\n"
      ]
    },
    {
      "cell_type": "code",
      "metadata": {
        "id": "97zdNzVEIapF"
      },
      "source": [
        "# !sudo pip3 install --upgrade scipy"
      ],
      "execution_count": null,
      "outputs": []
    },
    {
      "cell_type": "code",
      "metadata": {
        "id": "REtd_DroUHpI"
      },
      "source": [
        "import pandas as pd\n",
        "\n",
        "# data = pd.read_csv('파일경로', sep = \"\\t\", , engine='python', encoding = \"인코딩방식\")\n",
        "data = pd.read_csv('https://ds-lecture-data.s3.ap-northeast-2.amazonaws.com/seoul_tree/seoul_tree.txt', sep = \"\\t\", engine='python', header= 1)\n",
        "data = data.replace({'-':0})"
      ],
      "execution_count": null,
      "outputs": []
    },
    {
      "cell_type": "markdown",
      "metadata": {
        "id": "oxsx9cN7dUPp"
      },
      "source": [
        "### \"서울시에는 구별로 평균 약 400 그루 정도의 `이팝나무`가 있다\"라는 가설에 대해 가설검정을 시행하세요.\n",
        "\n",
        "- 단, `서울시`, `공원녹지사업소`, `시설관리공단` 부분의 데이터는 제외합니다.\n",
        "- 가설검정 결과의 pvalue 값을 `pv1`에 저장하세요. (`.pvalue` 사용)"
      ]
    },
    {
      "cell_type": "code",
      "metadata": {
        "id": "nfucb5GYpn1D",
        "colab": {
          "base_uri": "https://localhost:8080/"
        },
        "outputId": "d5157384-0b7f-4f57-b917-7d07be9edc19"
      },
      "source": [
        "tree_epop = data[['자치구', '이팝나무']].drop([data.index[0], data.index[26], data.index[27]])\n",
        "tree_epop['이팝나무'] = pd.to_numeric(tree_epop['이팝나무'].str.replace(',', ''))\n",
        "\n",
        "from scipy import stats\n",
        "result = stats.ttest_1samp(tree_epop['이팝나무'], 400)\n",
        "pv1 = result[1]\n",
        "result\n",
        "# 이 곳에 답안을 작성하시기 바랍니다"
      ],
      "execution_count": null,
      "outputs": [
        {
          "output_type": "execute_result",
          "data": {
            "text/plain": [
              "Ttest_1sampResult(statistic=3.3809205562101288, pvalue=0.002470712850935819)"
            ]
          },
          "metadata": {
            "tags": []
          },
          "execution_count": 3
        }
      ]
    },
    {
      "cell_type": "markdown",
      "metadata": {
        "id": "yAkyHaEnbNYa"
      },
      "source": [
        "### 이번에는 10개의 구를 샘플링하여, 위에 대한 가설검정을 다시 한번 시행해보세요.\n",
        "\n",
        "- 단, 아래의 코드를 참조하여 sample을 위한 seed 는 123로 설정하세요.\n",
        "- 가설검정 결과의 pvalue값을 `pv2`에 저장하세요\n"
      ]
    },
    {
      "cell_type": "code",
      "metadata": {
        "id": "DbQPGNNLq_AN",
        "colab": {
          "base_uri": "https://localhost:8080/"
        },
        "outputId": "ba43b662-1140-462f-c077-9ccfa0bfd2d5"
      },
      "source": [
        "import numpy as np\n",
        "np.random.seed(123)\n",
        "\n",
        "result2 = stats.ttest_1samp(np.random.choice(tree_epop['이팝나무'], size = 10), 400)  # \"~\"와 \" \"을 적절한 값으로 채우시면 됩니다\n",
        "pv2 = result2[1]\n",
        "result2"
      ],
      "execution_count": null,
      "outputs": [
        {
          "output_type": "execute_result",
          "data": {
            "text/plain": [
              "Ttest_1sampResult(statistic=0.706555193453698, pvalue=0.49772576203804575)"
            ]
          },
          "metadata": {
            "tags": []
          },
          "execution_count": 4
        }
      ]
    },
    {
      "cell_type": "markdown",
      "metadata": {
        "id": "TPT-ZTt0PuIk"
      },
      "source": [
        "## 2. Two-Sample T-test 연습"
      ]
    },
    {
      "cell_type": "markdown",
      "metadata": {
        "id": "2WZnCBsR_2jT"
      },
      "source": [
        "### \"서울시의 구별 평균 느티나무수와 왕벚나무의 수는 차이가 없다\"라는 가설에 대해 가설검정을 시행하세요.\n",
        "\n",
        "- 단, `서울시`, `공원녹지사업소`, `시설관리공단` 부분의 데이터는 제외합니다.\n",
        "- 가설검정 결과의 pvalue를 `pv3`에 저장하세요"
      ]
    },
    {
      "cell_type": "code",
      "metadata": {
        "id": "lAs832N1tc7k",
        "colab": {
          "base_uri": "https://localhost:8080/"
        },
        "outputId": "0dc1c791-619e-41db-e198-32ca990203a7"
      },
      "source": [
        "two_sample = data[['자치구', '느티나무', '왕벚나무']].drop([data.index[0], data.index[26], data.index[27]])\n",
        "two_sample['느티나무'] = pd.to_numeric(two_sample['느티나무'].str.replace(',', ''))\n",
        "two_sample['왕벚나무'] = pd.to_numeric(two_sample['왕벚나무'].str.replace(',', ''))\n",
        "\n",
        "# result3 = stats.ttest_ind(two_sample['느티나무'], two_sample['왕벚나무'], alternative='two-sided') \n",
        "result3 = stats.ttest_ind(two_sample['느티나무'], two_sample['왕벚나무'])\n",
        "pv3 = result3[1]\n",
        "result3\n",
        "# 이 곳에 답안을 작성하시기 바랍니다"
      ],
      "execution_count": null,
      "outputs": [
        {
          "output_type": "execute_result",
          "data": {
            "text/plain": [
              "Ttest_indResult(statistic=0.4629256014492562, pvalue=0.6455096880085703)"
            ]
          },
          "metadata": {
            "tags": []
          },
          "execution_count": 5
        }
      ]
    },
    {
      "cell_type": "markdown",
      "metadata": {
        "id": "vhhXvirEAeCH"
      },
      "source": [
        "\n",
        "### Two-Sample One-tailed test를 사용하여 **평균 느티나무수가 왕벚나무 수보다 크다**라는 가설에 대한 가설검정을 시행하세요.\n",
        "- 해당 가설검정의 결과를 `ans`에 저장하세요.\n",
        "\n",
        "이 때 `ans`가 가질 수 있는 값은 아래와 같습니다 :\n",
        "1. \"느티나무\" ( 느티나무의 수가 통계적으로 유의하게 많은 경우 )\n",
        "2. \"왕벚나무\" ( 왕벚나무의 수가 통계적으로 유의하게 많은 경우 )\n",
        "3. \"없음\" (통계적으로 유의하지 않은 경우)\n",
        "\n",
        "다음 링크를 참조하세요.\n",
        "<https://stackoverflow.com/questions/15984221/how-to-perform-two-sample-one-tailed-t-test-with-numpy-scipy>"
      ]
    },
    {
      "cell_type": "code",
      "metadata": {
        "id": "bCE3UgpbP69p",
        "colab": {
          "base_uri": "https://localhost:8080/"
        },
        "outputId": "37fbf203-4de0-4a1f-e6f4-c61d3e6c9767"
      },
      "source": [
        "from scipy import stats\n",
        "\n",
        "# 평균 느티나무 수가 평균 왕벚나무 수보다 크다\n",
        "stats.ttest_ind(two_sample['느티나무'], two_sample['왕벚나무'], alternative = 'greater')\n",
        "if pv3 < 0.005:\n",
        "  ans = 1\n",
        "else:\n",
        "  ans = 3\n",
        "# 평균 왕벚나무 수가 평균 느티나무수보다 크다\n",
        "stats.ttest_ind(two_sample['왕벚나무'], two_sample['느티나무'], alternative = 'greater')\n",
        "if pv3 < 0.005:\n",
        "  ans = 2\n",
        "else:\n",
        "  ans = 3\n",
        "\n",
        "ans\n",
        "# 이 곳에 답안을 작성하시기 바랍니다"
      ],
      "execution_count": null,
      "outputs": [
        {
          "output_type": "execute_result",
          "data": {
            "text/plain": [
              "3"
            ]
          },
          "metadata": {
            "tags": []
          },
          "execution_count": 6
        }
      ]
    },
    {
      "cell_type": "code",
      "metadata": {
        "colab": {
          "base_uri": "https://localhost:8080/"
        },
        "id": "OLKyUkSOqV-e",
        "outputId": "720aa6c3-b68d-42da-c929-c6c82528ab0f"
      },
      "source": [
        "round(pv1, 4)"
      ],
      "execution_count": null,
      "outputs": [
        {
          "output_type": "execute_result",
          "data": {
            "text/plain": [
              "0.0025"
            ]
          },
          "metadata": {
            "tags": []
          },
          "execution_count": 7
        }
      ]
    },
    {
      "cell_type": "code",
      "metadata": {
        "colab": {
          "base_uri": "https://localhost:8080/"
        },
        "id": "zIjD66ERqcFf",
        "outputId": "248c5948-1ef5-43f0-9a10-00851ef54649"
      },
      "source": [
        "round(pv2, 4)"
      ],
      "execution_count": null,
      "outputs": [
        {
          "output_type": "execute_result",
          "data": {
            "text/plain": [
              "0.4977"
            ]
          },
          "metadata": {
            "tags": []
          },
          "execution_count": 8
        }
      ]
    },
    {
      "cell_type": "code",
      "metadata": {
        "colab": {
          "base_uri": "https://localhost:8080/"
        },
        "id": "pUhuJfSMqhxJ",
        "outputId": "9e4c4c5e-5fe3-470d-e5f9-f46ef84c8388"
      },
      "source": [
        "round(pv3, 4)"
      ],
      "execution_count": null,
      "outputs": [
        {
          "output_type": "execute_result",
          "data": {
            "text/plain": [
              "0.6455"
            ]
          },
          "metadata": {
            "tags": []
          },
          "execution_count": 9
        }
      ]
    },
    {
      "cell_type": "code",
      "metadata": {
        "colab": {
          "base_uri": "https://localhost:8080/"
        },
        "id": "QyRn6YW0qjGX",
        "outputId": "43623de8-9bf8-47c1-d56b-6ffc927b9471"
      },
      "source": [
        "ans"
      ],
      "execution_count": null,
      "outputs": [
        {
          "output_type": "execute_result",
          "data": {
            "text/plain": [
              "3"
            ]
          },
          "metadata": {
            "tags": []
          },
          "execution_count": 10
        }
      ]
    },
    {
      "cell_type": "markdown",
      "metadata": {
        "id": "C5pkmOuKgK9Y"
      },
      "source": [
        "## 🔥 **도전과제**\n",
        "> 3문제 모두 하면 됩니다.\n",
        "\n"
      ]
    },
    {
      "cell_type": "markdown",
      "metadata": {
        "id": "3114xDdlPjFx"
      },
      "source": [
        "### 1. Compare mean for multiple-sample \n",
        " \n",
        "다음 링크를 참조하세요. <https://reneshbedre.github.io/blog/anova.html>\n",
        "\n",
        "구별, 은행나무, 양버즘나무, 느티나무에 대해서 ANOVA Test를 실행하세요.\n",
        "\n",
        "단, `서울시`, `공원녹지사업소`, `시설관리공단` 부분의 데이터는 제외합니다."
      ]
    },
    {
      "cell_type": "code",
      "metadata": {
        "id": "AIJYp0s3mjqZ"
      },
      "source": [
        "# !sudo apt-get install -y fonts-nanum\n",
        "# !sudo fc-cache -fv\n",
        "# !rm ~/.cache/matplotlib -rf\n",
        "import matplotlib.pyplot as plt\n",
        "plt.rc('font', family='NanumBarunGothic')\n",
        "\n",
        "import matplotlib as mpl\n",
        "#그래프의 한글을 더욱 선명하게 출력 \n",
        "from IPython.display import set_matplotlib_formats\n",
        "set_matplotlib_formats('retina')"
      ],
      "execution_count": null,
      "outputs": []
    },
    {
      "cell_type": "code",
      "metadata": {
        "id": "dPmXOHh1Cfea",
        "colab": {
          "base_uri": "https://localhost:8080/",
          "height": 299
        },
        "outputId": "83f9d8fa-9c21-4766-e3da-1549bf0e264b"
      },
      "source": [
        "df_ch = data[['자치구', '은행나무', '양버즘나무', '느티나무']].drop([data.index[0],data.index[26], data.index[27]])\n",
        "df_ch['은행나무'] = pd.to_numeric(df_ch['은행나무'].str.replace(',', ''))\n",
        "df_ch['양버즘나무'] = pd.to_numeric(df_ch['양버즘나무'].str.replace(',', ''))\n",
        "df_ch['느티나무'] = pd.to_numeric(df_ch['느티나무'].str.replace(',', ''))\n",
        "df_melt = pd.melt(df_ch.reset_index(), id_vars=['자치구'], value_vars=['은행나무', '양버즘나무', '느티나무'])\n",
        "import matplotlib.pyplot as plt\n",
        "import seaborn as sns\n",
        "ax = sns.boxplot(x='variable', y='value', data=df_melt, color='#99c2a2');\n",
        "ax = sns.swarmplot(x=\"variable\", y=\"value\", data=df_melt, color='#7d0013');\n",
        "plt.show()\n",
        "\n",
        "# 일원 분산 분석 (ANOVA Test)\n",
        "stats.f_oneway(df_ch['은행나무'], df_ch['양버즘나무'], df_ch['느티나무'])\n",
        "# 이 곳에 답안을 작성하시기 바랍니다"
      ],
      "execution_count": null,
      "outputs": [
        {
          "output_type": "display_data",
          "data": {
            "image/png": "[encoded data removed]",
            "text/plain": [
              "<Figure size 432x288 with 1 Axes>"
            ]
          },
          "metadata": {
            "tags": [],
            "image/png": {
              "width": 400,
              "height": 264
            },
            "needs_background": "light"
          }
        },
        {
          "output_type": "execute_result",
          "data": {
            "text/plain": [
              "F_onewayResult(statistic=17.006289557888046, pvalue=8.935183167883698e-07)"
            ]
          },
          "metadata": {
            "tags": []
          },
          "execution_count": 22
        }
      ]
    },
    {
      "cell_type": "markdown",
      "metadata": {
        "id": "nLl4aWDPCVaO"
      },
      "source": [
        "### 2. Sampling\n",
        "\n",
        "- 세션 시간에 배웠던 4가지 sample 방식을 구현해보세요.\n",
        "\n",
        "- 이를 위한 데이터는 1 부터 100 이며, sampling해야 하는 수는 20개 입니다.\n",
        "\n",
        "- Stratified random sampling을 위한 그룹을 나누는 기준은 1-10, 11-20, ... 과 같은 방식입니다.\n",
        "\n",
        "- Cluster sampling 을 위한 그룹을 나누는 기준은 5로 나눴을때의 나머지 값입니다. (0,1,2,3,4)"
      ]
    },
    {
      "cell_type": "code",
      "metadata": {
        "id": "QUPwaynLAQjS",
        "colab": {
          "base_uri": "https://localhost:8080/"
        },
        "outputId": "36f7b425-0ad7-479d-cd60-20f50577afcf"
      },
      "source": [
        "sample_data = range(100)\n",
        "# Effective Sampling\n",
        "# 1. Simple random sampling\n",
        "np.random.randint(1,101,20)"
      ],
      "execution_count": null,
      "outputs": [
        {
          "output_type": "execute_result",
          "data": {
            "text/plain": [
              "array([48, 74, 33, 47, 97, 26, 84, 79, 37, 97, 81, 69, 50, 56, 68,  3, 85,\n",
              "       40, 67, 85])"
            ]
          },
          "metadata": {
            "tags": []
          },
          "execution_count": 13
        }
      ]
    },
    {
      "cell_type": "code",
      "metadata": {
        "colab": {
          "base_uri": "https://localhost:8080/"
        },
        "id": "AGwwesmZjIsP",
        "outputId": "3c8d0071-9184-497e-c258-99f246c14977"
      },
      "source": [
        "# 2. Systematic sampling\n",
        "rand = np.random.randint(1, 5, 1)[0]\n",
        "[rand + 5*i for i in range(20)]"
      ],
      "execution_count": null,
      "outputs": [
        {
          "output_type": "execute_result",
          "data": {
            "text/plain": [
              "[4, 9, 14, 19, 24, 29, 34, 39, 44, 49, 54, 59, 64, 69, 74, 79, 84, 89, 94, 99]"
            ]
          },
          "metadata": {
            "tags": []
          },
          "execution_count": 14
        }
      ]
    },
    {
      "cell_type": "code",
      "metadata": {
        "colab": {
          "base_uri": "https://localhost:8080/",
          "height": 669
        },
        "id": "u74tQGUJjIbz",
        "outputId": "4e2cdd0f-aa4b-43a4-e3e2-6c5e287e691d"
      },
      "source": [
        "# 3. Stratified random sampling\n",
        "df_Stratified = pd.DataFrame({'data': range(1, 101), 'group': np.repeat([i for i in range(1,11)],10).tolist()})\n",
        "df_Stratified.sample(20)"
      ],
      "execution_count": null,
      "outputs": [
        {
          "output_type": "execute_result",
          "data": {
            "text/html": [
              "<div>\n",
              "<style scoped>\n",
              "    .dataframe tbody tr th:only-of-type {\n",
              "        vertical-align: middle;\n",
              "    }\n",
              "\n",
              "    .dataframe tbody tr th {\n",
              "        vertical-align: top;\n",
              "    }\n",
              "\n",
              "    .dataframe thead th {\n",
              "        text-align: right;\n",
              "    }\n",
              "</style>\n",
              "<table border=\"1\" class=\"dataframe\">\n",
              "  <thead>\n",
              "    <tr style=\"text-align: right;\">\n",
              "      <th></th>\n",
              "      <th>data</th>\n",
              "      <th>group</th>\n",
              "    </tr>\n",
              "  </thead>\n",
              "  <tbody>\n",
              "    <tr>\n",
              "      <th>97</th>\n",
              "      <td>98</td>\n",
              "      <td>10</td>\n",
              "    </tr>\n",
              "    <tr>\n",
              "      <th>88</th>\n",
              "      <td>89</td>\n",
              "      <td>9</td>\n",
              "    </tr>\n",
              "    <tr>\n",
              "      <th>47</th>\n",
              "      <td>48</td>\n",
              "      <td>5</td>\n",
              "    </tr>\n",
              "    <tr>\n",
              "      <th>2</th>\n",
              "      <td>3</td>\n",
              "      <td>1</td>\n",
              "    </tr>\n",
              "    <tr>\n",
              "      <th>4</th>\n",
              "      <td>5</td>\n",
              "      <td>1</td>\n",
              "    </tr>\n",
              "    <tr>\n",
              "      <th>32</th>\n",
              "      <td>33</td>\n",
              "      <td>4</td>\n",
              "    </tr>\n",
              "    <tr>\n",
              "      <th>74</th>\n",
              "      <td>75</td>\n",
              "      <td>8</td>\n",
              "    </tr>\n",
              "    <tr>\n",
              "      <th>99</th>\n",
              "      <td>100</td>\n",
              "      <td>10</td>\n",
              "    </tr>\n",
              "    <tr>\n",
              "      <th>36</th>\n",
              "      <td>37</td>\n",
              "      <td>4</td>\n",
              "    </tr>\n",
              "    <tr>\n",
              "      <th>0</th>\n",
              "      <td>1</td>\n",
              "      <td>1</td>\n",
              "    </tr>\n",
              "    <tr>\n",
              "      <th>31</th>\n",
              "      <td>32</td>\n",
              "      <td>4</td>\n",
              "    </tr>\n",
              "    <tr>\n",
              "      <th>37</th>\n",
              "      <td>38</td>\n",
              "      <td>4</td>\n",
              "    </tr>\n",
              "    <tr>\n",
              "      <th>28</th>\n",
              "      <td>29</td>\n",
              "      <td>3</td>\n",
              "    </tr>\n",
              "    <tr>\n",
              "      <th>57</th>\n",
              "      <td>58</td>\n",
              "      <td>6</td>\n",
              "    </tr>\n",
              "    <tr>\n",
              "      <th>45</th>\n",
              "      <td>46</td>\n",
              "      <td>5</td>\n",
              "    </tr>\n",
              "    <tr>\n",
              "      <th>29</th>\n",
              "      <td>30</td>\n",
              "      <td>3</td>\n",
              "    </tr>\n",
              "    <tr>\n",
              "      <th>24</th>\n",
              "      <td>25</td>\n",
              "      <td>3</td>\n",
              "    </tr>\n",
              "    <tr>\n",
              "      <th>8</th>\n",
              "      <td>9</td>\n",
              "      <td>1</td>\n",
              "    </tr>\n",
              "    <tr>\n",
              "      <th>5</th>\n",
              "      <td>6</td>\n",
              "      <td>1</td>\n",
              "    </tr>\n",
              "    <tr>\n",
              "      <th>16</th>\n",
              "      <td>17</td>\n",
              "      <td>2</td>\n",
              "    </tr>\n",
              "  </tbody>\n",
              "</table>\n",
              "</div>"
            ],
            "text/plain": [
              "    data  group\n",
              "97    98     10\n",
              "88    89      9\n",
              "47    48      5\n",
              "2      3      1\n",
              "4      5      1\n",
              "32    33      4\n",
              "74    75      8\n",
              "99   100     10\n",
              "36    37      4\n",
              "0      1      1\n",
              "31    32      4\n",
              "37    38      4\n",
              "28    29      3\n",
              "57    58      6\n",
              "45    46      5\n",
              "29    30      3\n",
              "24    25      3\n",
              "8      9      1\n",
              "5      6      1\n",
              "16    17      2"
            ]
          },
          "metadata": {
            "tags": []
          },
          "execution_count": 15
        }
      ]
    },
    {
      "cell_type": "code",
      "metadata": {
        "colab": {
          "base_uri": "https://localhost:8080/",
          "height": 669
        },
        "id": "s-XnRQhAjIVO",
        "outputId": "b9bd5fad-06ca-4bdd-b18d-39553596cd27"
      },
      "source": [
        "# 4. Cluster sampling\n",
        "df_Cluster = pd.DataFrame({'data': range(1, 101), 'group': [i % 5 for i in range(1, 101)]})\n",
        "df_Cluster.sample(20)"
      ],
      "execution_count": null,
      "outputs": [
        {
          "output_type": "execute_result",
          "data": {
            "text/html": [
              "<div>\n",
              "<style scoped>\n",
              "    .dataframe tbody tr th:only-of-type {\n",
              "        vertical-align: middle;\n",
              "    }\n",
              "\n",
              "    .dataframe tbody tr th {\n",
              "        vertical-align: top;\n",
              "    }\n",
              "\n",
              "    .dataframe thead th {\n",
              "        text-align: right;\n",
              "    }\n",
              "</style>\n",
              "<table border=\"1\" class=\"dataframe\">\n",
              "  <thead>\n",
              "    <tr style=\"text-align: right;\">\n",
              "      <th></th>\n",
              "      <th>data</th>\n",
              "      <th>group</th>\n",
              "    </tr>\n",
              "  </thead>\n",
              "  <tbody>\n",
              "    <tr>\n",
              "      <th>86</th>\n",
              "      <td>87</td>\n",
              "      <td>2</td>\n",
              "    </tr>\n",
              "    <tr>\n",
              "      <th>47</th>\n",
              "      <td>48</td>\n",
              "      <td>3</td>\n",
              "    </tr>\n",
              "    <tr>\n",
              "      <th>38</th>\n",
              "      <td>39</td>\n",
              "      <td>4</td>\n",
              "    </tr>\n",
              "    <tr>\n",
              "      <th>12</th>\n",
              "      <td>13</td>\n",
              "      <td>3</td>\n",
              "    </tr>\n",
              "    <tr>\n",
              "      <th>79</th>\n",
              "      <td>80</td>\n",
              "      <td>0</td>\n",
              "    </tr>\n",
              "    <tr>\n",
              "      <th>73</th>\n",
              "      <td>74</td>\n",
              "      <td>4</td>\n",
              "    </tr>\n",
              "    <tr>\n",
              "      <th>30</th>\n",
              "      <td>31</td>\n",
              "      <td>1</td>\n",
              "    </tr>\n",
              "    <tr>\n",
              "      <th>49</th>\n",
              "      <td>50</td>\n",
              "      <td>0</td>\n",
              "    </tr>\n",
              "    <tr>\n",
              "      <th>39</th>\n",
              "      <td>40</td>\n",
              "      <td>0</td>\n",
              "    </tr>\n",
              "    <tr>\n",
              "      <th>20</th>\n",
              "      <td>21</td>\n",
              "      <td>1</td>\n",
              "    </tr>\n",
              "    <tr>\n",
              "      <th>42</th>\n",
              "      <td>43</td>\n",
              "      <td>3</td>\n",
              "    </tr>\n",
              "    <tr>\n",
              "      <th>0</th>\n",
              "      <td>1</td>\n",
              "      <td>1</td>\n",
              "    </tr>\n",
              "    <tr>\n",
              "      <th>68</th>\n",
              "      <td>69</td>\n",
              "      <td>4</td>\n",
              "    </tr>\n",
              "    <tr>\n",
              "      <th>81</th>\n",
              "      <td>82</td>\n",
              "      <td>2</td>\n",
              "    </tr>\n",
              "    <tr>\n",
              "      <th>24</th>\n",
              "      <td>25</td>\n",
              "      <td>0</td>\n",
              "    </tr>\n",
              "    <tr>\n",
              "      <th>72</th>\n",
              "      <td>73</td>\n",
              "      <td>3</td>\n",
              "    </tr>\n",
              "    <tr>\n",
              "      <th>19</th>\n",
              "      <td>20</td>\n",
              "      <td>0</td>\n",
              "    </tr>\n",
              "    <tr>\n",
              "      <th>52</th>\n",
              "      <td>53</td>\n",
              "      <td>3</td>\n",
              "    </tr>\n",
              "    <tr>\n",
              "      <th>29</th>\n",
              "      <td>30</td>\n",
              "      <td>0</td>\n",
              "    </tr>\n",
              "    <tr>\n",
              "      <th>43</th>\n",
              "      <td>44</td>\n",
              "      <td>4</td>\n",
              "    </tr>\n",
              "  </tbody>\n",
              "</table>\n",
              "</div>"
            ],
            "text/plain": [
              "    data  group\n",
              "86    87      2\n",
              "47    48      3\n",
              "38    39      4\n",
              "12    13      3\n",
              "79    80      0\n",
              "73    74      4\n",
              "30    31      1\n",
              "49    50      0\n",
              "39    40      0\n",
              "20    21      1\n",
              "42    43      3\n",
              "0      1      1\n",
              "68    69      4\n",
              "81    82      2\n",
              "24    25      0\n",
              "72    73      3\n",
              "19    20      0\n",
              "52    53      3\n",
              "29    30      0\n",
              "43    44      4"
            ]
          },
          "metadata": {
            "tags": []
          },
          "execution_count": 16
        }
      ]
    },
    {
      "cell_type": "markdown",
      "metadata": {
        "id": "3PdoNE4VvVnR"
      },
      "source": [
        "### 3. Data transform\n",
        "다음 링크를 참조하여  `Inverse transform sampling` 을 구현합니다.\n",
        "\n",
        "<https://youtu.be/9ixzzPQWuAY>\n",
        "\n",
        "0 ~ 1 의 값을 동일한 확률로 갖는 `uniform distribution`으로 부터 `binomial distribution`으로 transform 하는 코드를 작성한 뒤, 두가지 결과를 시각화를 통해 비교하세요.\n",
        "\n",
        "Inverse transform sampling = 역변환 셈플링\n",
        "\n",
        "uniform distribution = 연속균등분포\n",
        "\n",
        "binomial distribution = 이항 분포"
      ]
    },
    {
      "cell_type": "code",
      "metadata": {
        "id": "nE9tvkLbwOGd"
      },
      "source": [
        "# 이 곳에 답안을 작성하시기 바랍니다"
      ],
      "execution_count": null,
      "outputs": []
    },
    {
      "cell_type": "code",
      "metadata": {
        "colab": {
          "base_uri": "https://localhost:8080/",
          "height": 1000
        },
        "id": "VbxwcBslHgnq",
        "outputId": "1dec3e98-3236-4611-8684-a4571ccbaf04"
      },
      "source": [
        "def Inverse_transform_sampling(n):\n",
        "  import numpy as np\n",
        "  uni = np.random.uniform(low=0, high=1, size=n)\n",
        "  bin = (-np.log(1-uni)) / 1 \n",
        "  import matplotlib.pyplot as plt\n",
        "  fig, ax = plt.subplots(1, 2, figsize=(20, 5))\n",
        "  # 연속 균등 분포 : 0 ~ 1 사이에 랜덤한 값을 추출 하다보면 size가 커질수록 균등하게 나올 확률이 증가한다.\n",
        "  ax[0].hist(uni, label = 'uniform', color = 'b', bins = 100);\n",
        "  ax[0].legend()\n",
        "  # 역변환 ! x = (-log(1-u)) / lambda\n",
        "  ax[1].hist(bin, label = 'binomial', color = 'r',  bins = 100);\n",
        "  ax[1].legend()\n",
        "  plt.show()\n",
        "\n",
        "Inverse_transform_sampling(100)\n",
        "Inverse_transform_sampling(1000)\n",
        "Inverse_transform_sampling(10000)\n",
        "Inverse_transform_sampling(100000)"
      ],
      "execution_count": null,
      "outputs": [
        {
          "output_type": "display_data",
          "data": {
            "image/png": "[encoded data removed]",
            "text/plain": [
              "<Figure size 1440x360 with 2 Axes>"
            ]
          },
          "metadata": {
            "tags": [],
            "needs_background": "light"
          }
        },
        {
          "output_type": "display_data",
          "data": {
            "image/png": "[encoded data removed]",
            "text/plain": [
              "<Figure size 1440x360 with 2 Axes>"
            ]
          },
          "metadata": {
            "tags": [],
            "needs_background": "light"
          }
        },
        {
          "output_type": "display_data",
          "data": {
            "image/png": "[encoded data removed]",
            "text/plain": [
              "<Figure size 1440x360 with 2 Axes>"
            ]
          },
          "metadata": {
            "tags": [],
            "needs_background": "light"
          }
        },
        {
          "output_type": "display_data",
          "data": {
            "image/png": "[encoded data removed]",
            "text/plain": [
              "<Figure size 1440x360 with 2 Axes>"
            ]
          },
          "metadata": {
            "tags": [],
            "needs_background": "light"
          }
        }
      ]
    },
    {
      "cell_type": "code",
      "metadata": {
        "id": "pwTST4S8hloa"
      },
      "source": [
        ""
      ],
      "execution_count": null,
      "outputs": []
    },
    {
      "cell_type": "code",
      "metadata": {
        "id": "pY9aTDM3kOFi",
        "colab": {
          "base_uri": "https://localhost:8080/",
          "height": 1000
        },
        "outputId": "7705eb63-2f05-42e3-ca8a-7b0580d68e33"
      },
      "source": [
        "# 연속 균등 분포\n",
        "def uniform_distribution(n):\n",
        "  import numpy as np\n",
        "  uni = np.random.uniform(low=0, high=1, size=n)\n",
        "  return uni\n",
        "# 난수 생성\n",
        "def inv_cdf(u):\n",
        "    return np.log(u /(1 - u))\n",
        "# 이항 분포\n",
        "def binomial_distribution(uni):\n",
        "  binomial_distribution = [inv_cdf(uni_num) for uni_num in uni]\n",
        "  return binomial_distribution\n",
        "\n",
        "\n",
        "def img_uni_bin(n):\n",
        "  import matplotlib.pyplot as plt\n",
        "  fig, ax = plt.subplots(1, 2, figsize=(20, 5))\n",
        "  # 연속 균등 분포\n",
        "  ax[0].hist(uniform_distribution(n), label = 'uniform', color = 'b', bins = 100);\n",
        "  ax[0].legend()\n",
        "  # 이항 분포 \n",
        "  ax[1].hist(binomial_distribution(uniform_distribution(n)), label = 'binomial_transform', color = 'r', bins = 100);\n",
        "  ax[1].legend()\n",
        "\n",
        "img_uni_bin(100)\n",
        "img_uni_bin(1000)\n",
        "img_uni_bin(10000)\n",
        "img_uni_bin(100000)"
      ],
      "execution_count": null,
      "outputs": [
        {
          "output_type": "display_data",
          "data": {
            "image/png": "[encoded data removed]",
            "text/plain": [
              "<Figure size 1440x360 with 2 Axes>"
            ]
          },
          "metadata": {
            "tags": [],
            "needs_background": "light"
          }
        },
        {
          "output_type": "display_data",
          "data": {
            "image/png": "[encoded data removed]",
            "text/plain": [
              "<Figure size 1440x360 with 2 Axes>"
            ]
          },
          "metadata": {
            "tags": [],
            "needs_background": "light"
          }
        },
        {
          "output_type": "display_data",
          "data": {
            "image/png": "[encoded data removed]",
            "text/plain": [
              "<Figure size 1440x360 with 2 Axes>"
            ]
          },
          "metadata": {
            "tags": [],
            "needs_background": "light"
          }
        },
        {
          "output_type": "display_data",
          "data": {
            "image/png": "[encoded data removed]",
            "text/plain": [
              "<Figure size 1440x360 with 2 Axes>"
            ]
          },
          "metadata": {
            "tags": [],
            "needs_background": "light"
          }
        }
      ]
    },
    {
      "cell_type": "code",
      "metadata": {
        "id": "hjWmOIKFmUfc"
      },
      "source": [
        ""
      ],
      "execution_count": null,
      "outputs": []
    }
  ]
}