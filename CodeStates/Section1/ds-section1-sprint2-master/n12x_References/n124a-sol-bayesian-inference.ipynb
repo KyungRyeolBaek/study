{
 "cells": [
  {
   "cell_type": "markdown",
   "metadata": {
    "id": "H7OLbevlbd_Z"
   },
   "source": [
    "<img src='https://i.imgur.com/RDAD11M.png' width = '200' align = 'right'>\n",
    "\n",
    "## *DATA SCIENCE / SECTION 1 / SPRINT 2 / NOTE 4*\n",
    "\n",
    "# 📝 Assignment\n",
    "\n",
    "# 베이지안 통계"
   ]
  },
  {
   "cell_type": "markdown",
   "metadata": {
    "id": "lPwZPpad3UOc"
   },
   "source": [
    "## 1. Multiple Choice Test\n",
    "\n",
    "객관식 문제를 푸는 과정에서, 학생은 답을 이미 알고 있거나 찍어야 합니다. \n",
    "\n",
    "학생이 답을 알 확률은 $p$이고, 답을 찍어서 맞출 확률이 $1\\over{m}$ 이라고 할 때 $m$과 $p$를 입력받아 학생이 문제의 답을 알고 맞췄을 확률을 계산하는 함수를 작성하세요."
   ]
  },
  {
   "cell_type": "code",
   "execution_count": 1,
   "metadata": {
    "id": "trk9r0Tc97Mc"
   },
   "outputs": [],
   "source": [
    "def correct(p, m):\n",
    "    p_right = 1*p + (1/m)*(1-p)\n",
    "    ans = (1*p)/p_right\n",
    "    return ans"
   ]
  },
  {
   "cell_type": "markdown",
   "metadata": {
    "id": "vV_0t8RYEDdd"
   },
   "source": [
    "## 2. Blood Test\n",
    "\n",
    "특정 질병을 가지고 있는 경우 **99%**의 확률로 탐지 할 수 있는 실험방법이 있습니다.\n",
    "\n",
    "그러나 동시에 이 방법은, **1%**의 확률로 질병이 없지만 질병이 있다고 진단 하는 경우도 있는데요.\n",
    "\n",
    "실제로 모든 인구중 **0.5%** 만이 이 질병을 가지고 있다고 하겠습니다.\n",
    "\n",
    "특정 사람이 이 방법을 통해 질병이 있다고 진단 받았을 때, 실제로 질병을 가지고 있을 확률을 구하는 함수를 작성하세요."
   ]
  },
  {
   "cell_type": "code",
   "execution_count": 2,
   "metadata": {
    "id": "qKYGZ5fkFjQ-"
   },
   "outputs": [],
   "source": [
    "def disease(prior, tpr, fpr):\n",
    "    pos = tpr*prior + fpr*(1-prior)\n",
    "    ans = (tpr*prior)/pos\n",
    "    return ans"
   ]
  }
 ],
 "metadata": {
  "colab": {
   "collapsed_sections": [],
   "name": "n124a-bayesian-inference.ipynb",
   "provenance": []
  },
  "kernelspec": {
   "display_name": "Python 3",
   "language": "python",
   "name": "python3"
  },
  "language_info": {
   "codemirror_mode": {
    "name": "ipython",
    "version": 3
   },
   "file_extension": ".py",
   "mimetype": "text/x-python",
   "name": "python",
   "nbconvert_exporter": "python",
   "pygments_lexer": "ipython3",
   "version": "3.9.4"
  }
 },
 "nbformat": 4,
 "nbformat_minor": 1
}
