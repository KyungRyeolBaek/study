{
 "cells": [
  {
   "cell_type": "markdown",
   "metadata": {
    "id": "Sa5KWMO1ngPN"
   },
   "source": [
    "<img src='https://i.imgur.com/RDAD11M.png' width = '200' align = 'right'>\n",
    "\n",
    "## *DATA SCIENCE / SECTION 1 / SPRINT 2 / NOTE 1*\n",
    "\n",
    "# 📝 Assignment"
   ]
  },
  {
   "cell_type": "markdown",
   "metadata": {
    "id": "gZDO3KBZOJNp"
   },
   "source": [
    "## 1. 1-Sample T-tests 연습"
   ]
  },
  {
   "cell_type": "markdown",
   "metadata": {
    "id": "CdRkOn9X5BdF"
   },
   "source": [
    "### 데이터 불러오기\n",
    "- [서울시 가로수 데이터셋](https://data.seoul.go.kr/dataList/367/S/2/datasetView.do)을 사용합니다.\n",
    "\n",
    "다음 링크를 참조하세요. \n",
    "<https://ds-lecture-data.s3.ap-northeast-2.amazonaws.com/seoul_tree/seoul_tree.txt>\n"
   ]
  },
  {
   "cell_type": "code",
   "execution_count": 2,
   "metadata": {
    "id": "bd5YFp7Xvu8P"
   },
   "outputs": [
    {
     "data": {
      "text/html": [
       "<div>\n",
       "<style scoped>\n",
       "    .dataframe tbody tr th:only-of-type {\n",
       "        vertical-align: middle;\n",
       "    }\n",
       "\n",
       "    .dataframe tbody tr th {\n",
       "        vertical-align: top;\n",
       "    }\n",
       "\n",
       "    .dataframe thead th {\n",
       "        text-align: right;\n",
       "    }\n",
       "</style>\n",
       "<table border=\"1\" class=\"dataframe\">\n",
       "  <thead>\n",
       "    <tr style=\"text-align: right;\">\n",
       "      <th></th>\n",
       "      <th>기간</th>\n",
       "      <th>자치구</th>\n",
       "      <th>노선수</th>\n",
       "      <th>수량</th>\n",
       "      <th>은행나무</th>\n",
       "      <th>양버즘나무</th>\n",
       "      <th>느티나무</th>\n",
       "      <th>왕벚나무</th>\n",
       "      <th>은단풍나무</th>\n",
       "      <th>메타세콰이어</th>\n",
       "      <th>...</th>\n",
       "      <th>튜울립나무</th>\n",
       "      <th>칠엽수</th>\n",
       "      <th>포플러</th>\n",
       "      <th>느릅나무</th>\n",
       "      <th>살구나무</th>\n",
       "      <th>무궁화</th>\n",
       "      <th>소나무</th>\n",
       "      <th>목련</th>\n",
       "      <th>이팝나무</th>\n",
       "      <th>기타</th>\n",
       "    </tr>\n",
       "  </thead>\n",
       "  <tbody>\n",
       "    <tr>\n",
       "      <th>0</th>\n",
       "      <td>2019</td>\n",
       "      <td>서울시</td>\n",
       "      <td>1,412</td>\n",
       "      <td>307,351</td>\n",
       "      <td>108,050</td>\n",
       "      <td>62,474</td>\n",
       "      <td>37,473</td>\n",
       "      <td>34,150</td>\n",
       "      <td>545</td>\n",
       "      <td>5,171</td>\n",
       "      <td>...</td>\n",
       "      <td>948</td>\n",
       "      <td>1,533</td>\n",
       "      <td>7</td>\n",
       "      <td>504</td>\n",
       "      <td>234</td>\n",
       "      <td>2,374</td>\n",
       "      <td>4,539</td>\n",
       "      <td>378</td>\n",
       "      <td>20,088</td>\n",
       "      <td>20,112</td>\n",
       "    </tr>\n",
       "    <tr>\n",
       "      <th>1</th>\n",
       "      <td>2019</td>\n",
       "      <td>종로구</td>\n",
       "      <td>70</td>\n",
       "      <td>7,329</td>\n",
       "      <td>4,072</td>\n",
       "      <td>1,071</td>\n",
       "      <td>619</td>\n",
       "      <td>421</td>\n",
       "      <td>-</td>\n",
       "      <td>1</td>\n",
       "      <td>...</td>\n",
       "      <td>-</td>\n",
       "      <td>17</td>\n",
       "      <td>-</td>\n",
       "      <td>-</td>\n",
       "      <td>-</td>\n",
       "      <td>-</td>\n",
       "      <td>239</td>\n",
       "      <td>-</td>\n",
       "      <td>711</td>\n",
       "      <td>29</td>\n",
       "    </tr>\n",
       "    <tr>\n",
       "      <th>2</th>\n",
       "      <td>2019</td>\n",
       "      <td>중구</td>\n",
       "      <td>48</td>\n",
       "      <td>8,250</td>\n",
       "      <td>3,640</td>\n",
       "      <td>162</td>\n",
       "      <td>460</td>\n",
       "      <td>289</td>\n",
       "      <td>-</td>\n",
       "      <td>-</td>\n",
       "      <td>...</td>\n",
       "      <td>7</td>\n",
       "      <td>-</td>\n",
       "      <td>-</td>\n",
       "      <td>-</td>\n",
       "      <td>21</td>\n",
       "      <td>46</td>\n",
       "      <td>2,162</td>\n",
       "      <td>-</td>\n",
       "      <td>470</td>\n",
       "      <td>817</td>\n",
       "    </tr>\n",
       "    <tr>\n",
       "      <th>3</th>\n",
       "      <td>2019</td>\n",
       "      <td>용산구</td>\n",
       "      <td>39</td>\n",
       "      <td>7,835</td>\n",
       "      <td>4,444</td>\n",
       "      <td>1,422</td>\n",
       "      <td>373</td>\n",
       "      <td>262</td>\n",
       "      <td>-</td>\n",
       "      <td>-</td>\n",
       "      <td>...</td>\n",
       "      <td>13</td>\n",
       "      <td>16</td>\n",
       "      <td>-</td>\n",
       "      <td>-</td>\n",
       "      <td>39</td>\n",
       "      <td>-</td>\n",
       "      <td>51</td>\n",
       "      <td>126</td>\n",
       "      <td>198</td>\n",
       "      <td>780</td>\n",
       "    </tr>\n",
       "    <tr>\n",
       "      <th>4</th>\n",
       "      <td>2019</td>\n",
       "      <td>성동구</td>\n",
       "      <td>38</td>\n",
       "      <td>8,120</td>\n",
       "      <td>1,090</td>\n",
       "      <td>2,401</td>\n",
       "      <td>1,975</td>\n",
       "      <td>602</td>\n",
       "      <td>29</td>\n",
       "      <td>48</td>\n",
       "      <td>...</td>\n",
       "      <td>-</td>\n",
       "      <td>1</td>\n",
       "      <td>3</td>\n",
       "      <td>59</td>\n",
       "      <td>-</td>\n",
       "      <td>-</td>\n",
       "      <td>53</td>\n",
       "      <td>-</td>\n",
       "      <td>709</td>\n",
       "      <td>646</td>\n",
       "    </tr>\n",
       "  </tbody>\n",
       "</table>\n",
       "<p>5 rows × 24 columns</p>\n",
       "</div>"
      ],
      "text/plain": [
       "     기간  자치구    노선수       수량     은행나무   양버즘나무    느티나무    왕벚나무 은단풍나무 메타세콰이어  \\\n",
       "0  2019  서울시  1,412  307,351  108,050  62,474  37,473  34,150   545  5,171   \n",
       "1  2019  종로구     70    7,329    4,072   1,071     619     421     -      1   \n",
       "2  2019   중구     48    8,250    3,640     162     460     289     -      -   \n",
       "3  2019  용산구     39    7,835    4,444   1,422     373     262     -      -   \n",
       "4  2019  성동구     38    8,120    1,090   2,401   1,975     602    29     48   \n",
       "\n",
       "   ... 튜울립나무    칠엽수 포플러 느릅나무 살구나무    무궁화    소나무   목련    이팝나무      기타  \n",
       "0  ...   948  1,533   7  504  234  2,374  4,539  378  20,088  20,112  \n",
       "1  ...     -     17   -    -    -      -    239    -     711      29  \n",
       "2  ...     7      -   -    -   21     46  2,162    -     470     817  \n",
       "3  ...    13     16   -    -   39      -     51  126     198     780  \n",
       "4  ...     -      1   3   59    -      -     53    -     709     646  \n",
       "\n",
       "[5 rows x 24 columns]"
      ]
     },
     "execution_count": 2,
     "metadata": {},
     "output_type": "execute_result"
    }
   ],
   "source": [
    "# 파일을 업로드 하는 과정은 생략합니다.\n",
    "import pandas as pd\n",
    "\n",
    "df = pd.read_csv('./report.txt', delimiter = \"\\t\", skiprows=1)\n",
    "df.head()"
   ]
  },
  {
   "cell_type": "markdown",
   "metadata": {
    "id": "oxsx9cN7dUPp"
   },
   "source": [
    "### \"서울시에는 구별로 평균적으로 약 400 그루 정도의 `이팝나무`가 있다\" 라는 가설에 대해 가설검정을 시행하세요.\n",
    "\n",
    "- 단, `서울시`, `공원녹지사업소`, `시설관리공단` 부분의 데이터는 제외합니다.\n",
    "- 가설검정 결과의 pvalue 값을 `pv1`에 저장하세요. (`.pvalue` 사용)"
   ]
  },
  {
   "cell_type": "code",
   "execution_count": 7,
   "metadata": {
    "id": "nfucb5GYpn1D"
   },
   "outputs": [
    {
     "data": {
      "text/html": [
       "<div>\n",
       "<style scoped>\n",
       "    .dataframe tbody tr th:only-of-type {\n",
       "        vertical-align: middle;\n",
       "    }\n",
       "\n",
       "    .dataframe tbody tr th {\n",
       "        vertical-align: top;\n",
       "    }\n",
       "\n",
       "    .dataframe thead th {\n",
       "        text-align: right;\n",
       "    }\n",
       "</style>\n",
       "<table border=\"1\" class=\"dataframe\">\n",
       "  <thead>\n",
       "    <tr style=\"text-align: right;\">\n",
       "      <th></th>\n",
       "      <th>자치구</th>\n",
       "      <th>이팝나무</th>\n",
       "    </tr>\n",
       "  </thead>\n",
       "  <tbody>\n",
       "    <tr>\n",
       "      <th>0</th>\n",
       "      <td>서울시</td>\n",
       "      <td>20,088</td>\n",
       "    </tr>\n",
       "    <tr>\n",
       "      <th>1</th>\n",
       "      <td>종로구</td>\n",
       "      <td>711</td>\n",
       "    </tr>\n",
       "    <tr>\n",
       "      <th>2</th>\n",
       "      <td>중구</td>\n",
       "      <td>470</td>\n",
       "    </tr>\n",
       "    <tr>\n",
       "      <th>3</th>\n",
       "      <td>용산구</td>\n",
       "      <td>198</td>\n",
       "    </tr>\n",
       "    <tr>\n",
       "      <th>4</th>\n",
       "      <td>성동구</td>\n",
       "      <td>709</td>\n",
       "    </tr>\n",
       "    <tr>\n",
       "      <th>5</th>\n",
       "      <td>광진구</td>\n",
       "      <td>760</td>\n",
       "    </tr>\n",
       "    <tr>\n",
       "      <th>6</th>\n",
       "      <td>동대문구</td>\n",
       "      <td>1,176</td>\n",
       "    </tr>\n",
       "    <tr>\n",
       "      <th>7</th>\n",
       "      <td>중랑구</td>\n",
       "      <td>449</td>\n",
       "    </tr>\n",
       "    <tr>\n",
       "      <th>8</th>\n",
       "      <td>성북구</td>\n",
       "      <td>853</td>\n",
       "    </tr>\n",
       "    <tr>\n",
       "      <th>9</th>\n",
       "      <td>강북구</td>\n",
       "      <td>575</td>\n",
       "    </tr>\n",
       "    <tr>\n",
       "      <th>10</th>\n",
       "      <td>도봉구</td>\n",
       "      <td>47</td>\n",
       "    </tr>\n",
       "    <tr>\n",
       "      <th>11</th>\n",
       "      <td>노원구</td>\n",
       "      <td>142</td>\n",
       "    </tr>\n",
       "    <tr>\n",
       "      <th>12</th>\n",
       "      <td>은평구</td>\n",
       "      <td>443</td>\n",
       "    </tr>\n",
       "    <tr>\n",
       "      <th>13</th>\n",
       "      <td>서대문구</td>\n",
       "      <td>493</td>\n",
       "    </tr>\n",
       "    <tr>\n",
       "      <th>14</th>\n",
       "      <td>마포구</td>\n",
       "      <td>1,280</td>\n",
       "    </tr>\n",
       "    <tr>\n",
       "      <th>15</th>\n",
       "      <td>양천구</td>\n",
       "      <td>784</td>\n",
       "    </tr>\n",
       "    <tr>\n",
       "      <th>16</th>\n",
       "      <td>강서구</td>\n",
       "      <td>1,426</td>\n",
       "    </tr>\n",
       "    <tr>\n",
       "      <th>17</th>\n",
       "      <td>구로구</td>\n",
       "      <td>1,082</td>\n",
       "    </tr>\n",
       "    <tr>\n",
       "      <th>18</th>\n",
       "      <td>금천구</td>\n",
       "      <td>184</td>\n",
       "    </tr>\n",
       "    <tr>\n",
       "      <th>19</th>\n",
       "      <td>영등포구</td>\n",
       "      <td>1,281</td>\n",
       "    </tr>\n",
       "    <tr>\n",
       "      <th>20</th>\n",
       "      <td>동작구</td>\n",
       "      <td>397</td>\n",
       "    </tr>\n",
       "    <tr>\n",
       "      <th>21</th>\n",
       "      <td>관악구</td>\n",
       "      <td>249</td>\n",
       "    </tr>\n",
       "    <tr>\n",
       "      <th>22</th>\n",
       "      <td>서초구</td>\n",
       "      <td>446</td>\n",
       "    </tr>\n",
       "    <tr>\n",
       "      <th>23</th>\n",
       "      <td>강남구</td>\n",
       "      <td>768</td>\n",
       "    </tr>\n",
       "    <tr>\n",
       "      <th>24</th>\n",
       "      <td>송파구</td>\n",
       "      <td>1,651</td>\n",
       "    </tr>\n",
       "    <tr>\n",
       "      <th>25</th>\n",
       "      <td>강동구</td>\n",
       "      <td>642</td>\n",
       "    </tr>\n",
       "    <tr>\n",
       "      <th>26</th>\n",
       "      <td>공원녹지사업소</td>\n",
       "      <td>4</td>\n",
       "    </tr>\n",
       "    <tr>\n",
       "      <th>27</th>\n",
       "      <td>시설관리공단</td>\n",
       "      <td>2,868</td>\n",
       "    </tr>\n",
       "  </tbody>\n",
       "</table>\n",
       "</div>"
      ],
      "text/plain": [
       "        자치구    이팝나무\n",
       "0       서울시  20,088\n",
       "1       종로구     711\n",
       "2        중구     470\n",
       "3       용산구     198\n",
       "4       성동구     709\n",
       "5       광진구     760\n",
       "6      동대문구   1,176\n",
       "7       중랑구     449\n",
       "8       성북구     853\n",
       "9       강북구     575\n",
       "10      도봉구      47\n",
       "11      노원구     142\n",
       "12      은평구     443\n",
       "13     서대문구     493\n",
       "14      마포구   1,280\n",
       "15      양천구     784\n",
       "16      강서구   1,426\n",
       "17      구로구   1,082\n",
       "18      금천구     184\n",
       "19     영등포구   1,281\n",
       "20      동작구     397\n",
       "21      관악구     249\n",
       "22      서초구     446\n",
       "23      강남구     768\n",
       "24      송파구   1,651\n",
       "25      강동구     642\n",
       "26  공원녹지사업소       4\n",
       "27   시설관리공단   2,868"
      ]
     },
     "execution_count": 7,
     "metadata": {},
     "output_type": "execute_result"
    }
   ],
   "source": [
    "pd.concat([df['자치구'], df['이팝나무']], axis=1)"
   ]
  },
  {
   "cell_type": "code",
   "execution_count": 8,
   "metadata": {},
   "outputs": [
    {
     "name": "stdout",
     "output_type": "stream",
     "text": [
      "1    711\n",
      "2    470\n",
      "3    198\n",
      "4    709\n",
      "5    760\n",
      "Name: 이팝나무, dtype: int64\n",
      "21     249\n",
      "22     446\n",
      "23     768\n",
      "24    1651\n",
      "25     642\n",
      "Name: 이팝나무, dtype: int64\n",
      "(25,)\n"
     ]
    }
   ],
   "source": [
    "snow_flower = df['이팝나무'][~df['자치구'].isin(['서울시','공원녹지사업소','시설관리공단'])]\n",
    "snow_flower = pd.to_numeric(snow_flower.str.replace(',',''))\n",
    "\n",
    "print(snow_flower.head(), snow_flower.tail(), snow_flower.shape, sep='\\n')"
   ]
  },
  {
   "cell_type": "code",
   "execution_count": 9,
   "metadata": {},
   "outputs": [
    {
     "data": {
      "text/plain": [
       "688.64"
      ]
     },
     "execution_count": 9,
     "metadata": {},
     "output_type": "execute_result"
    }
   ],
   "source": [
    "import numpy as np\n",
    "\n",
    "np.mean(snow_flower)"
   ]
  },
  {
   "cell_type": "code",
   "execution_count": 10,
   "metadata": {},
   "outputs": [
    {
     "data": {
      "text/plain": [
       "0.002470712850935819"
      ]
     },
     "execution_count": 10,
     "metadata": {},
     "output_type": "execute_result"
    }
   ],
   "source": [
    "from scipy import stats\n",
    "\n",
    "stats1, pv1 = stats.ttest_1samp(snow_flower, 400)\n",
    "pv1"
   ]
  },
  {
   "cell_type": "markdown",
   "metadata": {
    "id": "yAkyHaEnbNYa"
   },
   "source": [
    "### 이번에는 10개의 구를 샘플링하여, 위에 대한 가설검정을 다시 한번 시행해보세요.\n",
    "\n",
    "- 단, 아래의 코드를 참조하여 sample을 위한 seed 는 123로 설정하세요.\n",
    "- 가설검정 결과의 pvalue값을 `pv2`에 저장하세요\n"
   ]
  },
  {
   "cell_type": "code",
   "execution_count": 11,
   "metadata": {
    "id": "DbQPGNNLq_AN"
   },
   "outputs": [
    {
     "data": {
      "text/plain": [
       "479.7"
      ]
     },
     "execution_count": 11,
     "metadata": {},
     "output_type": "execute_result"
    }
   ],
   "source": [
    "import numpy as np\n",
    "\n",
    "np.random.seed(123)\n",
    "\n",
    "chosen = np.random.choice(snow_flower,size=10)\n",
    "\n",
    "np.mean(chosen)"
   ]
  },
  {
   "cell_type": "code",
   "execution_count": 12,
   "metadata": {},
   "outputs": [
    {
     "data": {
      "text/plain": [
       "0.49772576203804575"
      ]
     },
     "execution_count": 12,
     "metadata": {},
     "output_type": "execute_result"
    }
   ],
   "source": [
    "stats2, pv2 = stats.ttest_1samp(chosen, 400)\n",
    "\n",
    "pv2"
   ]
  },
  {
   "cell_type": "markdown",
   "metadata": {
    "id": "TPT-ZTt0PuIk"
   },
   "source": [
    "## 2. 2-Sample T-tests 연습"
   ]
  },
  {
   "cell_type": "markdown",
   "metadata": {
    "id": "2WZnCBsR_2jT"
   },
   "source": [
    "### \"서울시의 구별 평균 느티나무수와 왕벚나무의 수는 차이가 없다\" 라는 가설에 대해 가설검정을 시행하세요.\n",
    "\n",
    "- 단, `서울시`, `공원녹지사업소`, `시설관리공단` 부분의 데이터는 제외합니다.\n",
    "- 가설검정 결과의 pvalue를 `pv3`에 저장하세요"
   ]
  },
  {
   "cell_type": "code",
   "execution_count": 13,
   "metadata": {
    "id": "lAs832N1tc7k"
   },
   "outputs": [
    {
     "data": {
      "text/html": [
       "<div>\n",
       "<style scoped>\n",
       "    .dataframe tbody tr th:only-of-type {\n",
       "        vertical-align: middle;\n",
       "    }\n",
       "\n",
       "    .dataframe tbody tr th {\n",
       "        vertical-align: top;\n",
       "    }\n",
       "\n",
       "    .dataframe thead th {\n",
       "        text-align: right;\n",
       "    }\n",
       "</style>\n",
       "<table border=\"1\" class=\"dataframe\">\n",
       "  <thead>\n",
       "    <tr style=\"text-align: right;\">\n",
       "      <th></th>\n",
       "      <th>느티나무</th>\n",
       "      <th>왕벚나무</th>\n",
       "    </tr>\n",
       "  </thead>\n",
       "  <tbody>\n",
       "    <tr>\n",
       "      <th>1</th>\n",
       "      <td>619</td>\n",
       "      <td>421</td>\n",
       "    </tr>\n",
       "    <tr>\n",
       "      <th>2</th>\n",
       "      <td>460</td>\n",
       "      <td>289</td>\n",
       "    </tr>\n",
       "    <tr>\n",
       "      <th>3</th>\n",
       "      <td>373</td>\n",
       "      <td>262</td>\n",
       "    </tr>\n",
       "    <tr>\n",
       "      <th>4</th>\n",
       "      <td>1975</td>\n",
       "      <td>602</td>\n",
       "    </tr>\n",
       "    <tr>\n",
       "      <th>5</th>\n",
       "      <td>1057</td>\n",
       "      <td>940</td>\n",
       "    </tr>\n",
       "    <tr>\n",
       "      <th>6</th>\n",
       "      <td>855</td>\n",
       "      <td>747</td>\n",
       "    </tr>\n",
       "    <tr>\n",
       "      <th>7</th>\n",
       "      <td>471</td>\n",
       "      <td>354</td>\n",
       "    </tr>\n",
       "    <tr>\n",
       "      <th>8</th>\n",
       "      <td>1014</td>\n",
       "      <td>1656</td>\n",
       "    </tr>\n",
       "    <tr>\n",
       "      <th>9</th>\n",
       "      <td>324</td>\n",
       "      <td>497</td>\n",
       "    </tr>\n",
       "    <tr>\n",
       "      <th>10</th>\n",
       "      <td>779</td>\n",
       "      <td>2095</td>\n",
       "    </tr>\n",
       "    <tr>\n",
       "      <th>11</th>\n",
       "      <td>1165</td>\n",
       "      <td>1612</td>\n",
       "    </tr>\n",
       "    <tr>\n",
       "      <th>12</th>\n",
       "      <td>680</td>\n",
       "      <td>1748</td>\n",
       "    </tr>\n",
       "    <tr>\n",
       "      <th>13</th>\n",
       "      <td>721</td>\n",
       "      <td>732</td>\n",
       "    </tr>\n",
       "    <tr>\n",
       "      <th>14</th>\n",
       "      <td>3056</td>\n",
       "      <td>1096</td>\n",
       "    </tr>\n",
       "    <tr>\n",
       "      <th>15</th>\n",
       "      <td>1065</td>\n",
       "      <td>956</td>\n",
       "    </tr>\n",
       "    <tr>\n",
       "      <th>16</th>\n",
       "      <td>2231</td>\n",
       "      <td>2508</td>\n",
       "    </tr>\n",
       "    <tr>\n",
       "      <th>17</th>\n",
       "      <td>1884</td>\n",
       "      <td>2157</td>\n",
       "    </tr>\n",
       "    <tr>\n",
       "      <th>18</th>\n",
       "      <td>407</td>\n",
       "      <td>1123</td>\n",
       "    </tr>\n",
       "    <tr>\n",
       "      <th>19</th>\n",
       "      <td>3419</td>\n",
       "      <td>2952</td>\n",
       "    </tr>\n",
       "    <tr>\n",
       "      <th>20</th>\n",
       "      <td>1421</td>\n",
       "      <td>1127</td>\n",
       "    </tr>\n",
       "    <tr>\n",
       "      <th>21</th>\n",
       "      <td>185</td>\n",
       "      <td>2416</td>\n",
       "    </tr>\n",
       "    <tr>\n",
       "      <th>22</th>\n",
       "      <td>3409</td>\n",
       "      <td>254</td>\n",
       "    </tr>\n",
       "    <tr>\n",
       "      <th>23</th>\n",
       "      <td>2991</td>\n",
       "      <td>2455</td>\n",
       "    </tr>\n",
       "    <tr>\n",
       "      <th>24</th>\n",
       "      <td>2400</td>\n",
       "      <td>992</td>\n",
       "    </tr>\n",
       "    <tr>\n",
       "      <th>25</th>\n",
       "      <td>2417</td>\n",
       "      <td>2309</td>\n",
       "    </tr>\n",
       "  </tbody>\n",
       "</table>\n",
       "</div>"
      ],
      "text/plain": [
       "    느티나무  왕벚나무\n",
       "1    619   421\n",
       "2    460   289\n",
       "3    373   262\n",
       "4   1975   602\n",
       "5   1057   940\n",
       "6    855   747\n",
       "7    471   354\n",
       "8   1014  1656\n",
       "9    324   497\n",
       "10   779  2095\n",
       "11  1165  1612\n",
       "12   680  1748\n",
       "13   721   732\n",
       "14  3056  1096\n",
       "15  1065   956\n",
       "16  2231  2508\n",
       "17  1884  2157\n",
       "18   407  1123\n",
       "19  3419  2952\n",
       "20  1421  1127\n",
       "21   185  2416\n",
       "22  3409   254\n",
       "23  2991  2455\n",
       "24  2400   992\n",
       "25  2417  2309"
      ]
     },
     "execution_count": 13,
     "metadata": {},
     "output_type": "execute_result"
    }
   ],
   "source": [
    "zelkova = df['느티나무'][~df['자치구'].isin(['서울시','공원녹지사업소','시설관리공단'])]\n",
    "zelkova = pd.to_numeric(zelkova.str.replace(','or' ',''))\n",
    "\n",
    "cherry = df['왕벚나무'][~df['자치구'].isin(['서울시','공원녹지사업소','시설관리공단'])]\n",
    "cherry = pd.to_numeric(cherry.str.replace(',',''))\n",
    "\n",
    "pd.concat([zelkova, cherry], axis=1)"
   ]
  },
  {
   "cell_type": "code",
   "execution_count": 14,
   "metadata": {},
   "outputs": [
    {
     "data": {
      "text/plain": [
       "(0.4629256014492562, 0.6455096880085703)"
      ]
     },
     "execution_count": 14,
     "metadata": {},
     "output_type": "execute_result"
    }
   ],
   "source": [
    "stats3, pv3 = stats.ttest_ind(zelkova, cherry)\n",
    "stats3, pv3"
   ]
  },
  {
   "cell_type": "markdown",
   "metadata": {
    "id": "vhhXvirEAeCH"
   },
   "source": [
    "### Two-sample One-tailed test를 사용하여 **평균 느티나무수가 왕벚나무 수보다 크다**라는 가설에 대한 가설검정을 시행하세요.\n",
    "- 해당 가설검정의 결과를 `ans`에 저장하세요.\n",
    "\n",
    "이 때 `ans`가 가질 수 있는 값은 아래와 같습니다 :\n",
    "1. \"느티나무\" ( 느티나무의 수가 통계적으로 유의하게 많은 경우 )\n",
    "2. \"왕벚나무\" ( 왕벚나무의 수가 통계적으로 유의하게 많은 경우 )\n",
    "3. \"없음\" (통계적으로 유의하지 않은 경우)\n",
    "\n",
    "다음 링크를 참조하세요.\n",
    "\n",
    "<https://stackoverflow.com/questions/15984221/how-to-perform-two-sample-one-tailed-t-test-with-numpy-scipy>"
   ]
  },
  {
   "cell_type": "code",
   "execution_count": 15,
   "metadata": {
    "id": "bCE3UgpbP69p"
   },
   "outputs": [
    {
     "data": {
      "text/plain": [
       "'없음'"
      ]
     },
     "execution_count": 15,
     "metadata": {},
     "output_type": "execute_result"
    }
   ],
   "source": [
    "one_tailed_pv = pv3/2\n",
    "alpha = 0.05\n",
    "\n",
    "if one_tailed_pv < alpha:\n",
    "    if np.mean(zelkova) > np.mean(cherry):\n",
    "        ans = '느티나무'\n",
    "    else:\n",
    "        ans = '왕벚나무'\n",
    "else:\n",
    "    ans = '없음'\n",
    "    \n",
    "ans"
   ]
  }
 ],
 "metadata": {
  "colab": {
   "name": "n121a-hypothesis-test.ipynb",
   "provenance": []
  },
  "kernelspec": {
   "display_name": "Python 3",
   "language": "python",
   "name": "python3"
  },
  "language_info": {
   "codemirror_mode": {
    "name": "ipython",
    "version": 3
   },
   "file_extension": ".py",
   "mimetype": "text/x-python",
   "name": "python",
   "nbconvert_exporter": "python",
   "pygments_lexer": "ipython3",
   "version": "3.9.4"
  }
 },
 "nbformat": 4,
 "nbformat_minor": 1
}
