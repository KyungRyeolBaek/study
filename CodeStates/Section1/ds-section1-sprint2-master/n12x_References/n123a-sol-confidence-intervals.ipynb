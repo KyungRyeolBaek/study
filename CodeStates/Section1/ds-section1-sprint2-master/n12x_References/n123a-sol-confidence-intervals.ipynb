{
 "cells": [
  {
   "cell_type": "markdown",
   "metadata": {
    "id": "g_c3L9CeANiJ"
   },
   "source": [
    "<img src='https://i.imgur.com/RDAD11M.png' width = '200' align = 'right'>\n",
    "\n",
    "## *DATA SCIENCE / SECTION 1 / SPRINT 2 / NOTE 3*\n",
    "\n",
    "# 📝 Assignment\n",
    "\n",
    "# 신뢰구간\n",
    "\n",
    "서울시 기간별 시간평균 대기환경 정보 데이터셋을 이용합니다.\n",
    "\n",
    "<img src='https://user-images.githubusercontent.com/6457691/89852263-740add80-dbc9-11ea-9e6b-8059b3f7e479.png'>\n",
    "\n",
    "<https://data.seoul.go.kr/dataList/OA-2221/S/1/datasetView.do>\n",
    "\n",
    "### 20년 3월의 송파구 데이터만 사용합니다.\n",
    "\n"
   ]
  },
  {
   "cell_type": "markdown",
   "metadata": {
    "id": "9BT9olD8zGyP"
   },
   "source": [
    "## 1. 데이터셋을 불러오세요\n",
    "\n",
    "  - 데이터는 `df`라는 변수에 저장되어야 하며\n",
    "  - Feature로는 `측정일시`, `측정소명`, `오존(ppm)` 만 사용합니다."
   ]
  },
  {
   "cell_type": "code",
   "execution_count": 1,
   "metadata": {
    "id": "C1Tql4HDGefU"
   },
   "outputs": [
    {
     "data": {
      "text/html": [
       "<div>\n",
       "<style scoped>\n",
       "    .dataframe tbody tr th:only-of-type {\n",
       "        vertical-align: middle;\n",
       "    }\n",
       "\n",
       "    .dataframe tbody tr th {\n",
       "        vertical-align: top;\n",
       "    }\n",
       "\n",
       "    .dataframe thead th {\n",
       "        text-align: right;\n",
       "    }\n",
       "</style>\n",
       "<table border=\"1\" class=\"dataframe\">\n",
       "  <thead>\n",
       "    <tr style=\"text-align: right;\">\n",
       "      <th></th>\n",
       "      <th>측정일시</th>\n",
       "      <th>측정소명</th>\n",
       "      <th>오존(ppm)</th>\n",
       "    </tr>\n",
       "  </thead>\n",
       "  <tbody>\n",
       "    <tr>\n",
       "      <th>24</th>\n",
       "      <td>202003312300</td>\n",
       "      <td>송파구</td>\n",
       "      <td>0.020</td>\n",
       "    </tr>\n",
       "    <tr>\n",
       "      <th>49</th>\n",
       "      <td>202003312200</td>\n",
       "      <td>송파구</td>\n",
       "      <td>0.021</td>\n",
       "    </tr>\n",
       "    <tr>\n",
       "      <th>73</th>\n",
       "      <td>202003312100</td>\n",
       "      <td>송파구</td>\n",
       "      <td>0.025</td>\n",
       "    </tr>\n",
       "    <tr>\n",
       "      <th>99</th>\n",
       "      <td>202003312000</td>\n",
       "      <td>송파구</td>\n",
       "      <td>0.032</td>\n",
       "    </tr>\n",
       "    <tr>\n",
       "      <th>124</th>\n",
       "      <td>202003311900</td>\n",
       "      <td>송파구</td>\n",
       "      <td>0.034</td>\n",
       "    </tr>\n",
       "    <tr>\n",
       "      <th>...</th>\n",
       "      <td>...</td>\n",
       "      <td>...</td>\n",
       "      <td>...</td>\n",
       "    </tr>\n",
       "    <tr>\n",
       "      <th>18499</th>\n",
       "      <td>202003010400</td>\n",
       "      <td>송파구</td>\n",
       "      <td>0.002</td>\n",
       "    </tr>\n",
       "    <tr>\n",
       "      <th>18524</th>\n",
       "      <td>202003010300</td>\n",
       "      <td>송파구</td>\n",
       "      <td>0.002</td>\n",
       "    </tr>\n",
       "    <tr>\n",
       "      <th>18547</th>\n",
       "      <td>202003010200</td>\n",
       "      <td>송파구</td>\n",
       "      <td>0.002</td>\n",
       "    </tr>\n",
       "    <tr>\n",
       "      <th>18573</th>\n",
       "      <td>202003010100</td>\n",
       "      <td>송파구</td>\n",
       "      <td>0.002</td>\n",
       "    </tr>\n",
       "    <tr>\n",
       "      <th>18599</th>\n",
       "      <td>202003010000</td>\n",
       "      <td>송파구</td>\n",
       "      <td>0.002</td>\n",
       "    </tr>\n",
       "  </tbody>\n",
       "</table>\n",
       "<p>744 rows × 3 columns</p>\n",
       "</div>"
      ],
      "text/plain": [
       "               측정일시 측정소명  오존(ppm)\n",
       "24     202003312300  송파구    0.020\n",
       "49     202003312200  송파구    0.021\n",
       "73     202003312100  송파구    0.025\n",
       "99     202003312000  송파구    0.032\n",
       "124    202003311900  송파구    0.034\n",
       "...             ...  ...      ...\n",
       "18499  202003010400  송파구    0.002\n",
       "18524  202003010300  송파구    0.002\n",
       "18547  202003010200  송파구    0.002\n",
       "18573  202003010100  송파구    0.002\n",
       "18599  202003010000  송파구    0.002\n",
       "\n",
       "[744 rows x 3 columns]"
      ]
     },
     "execution_count": 1,
     "metadata": {},
     "output_type": "execute_result"
    }
   ],
   "source": [
    "import pandas as pd\n",
    "\n",
    "df_raw = pd.read_csv('./data.csv', encoding='cp949', usecols=['측정일시', '측정소명', '오존(ppm)'])\n",
    "df = df_raw[df_raw['측정소명'] == '송파구']\n",
    "df"
   ]
  },
  {
   "cell_type": "markdown",
   "metadata": {
    "id": "wOQ-9E8uYcni"
   },
   "source": [
    "## 2. 데이터셋으로 부터 2개의 샘플을 생성하세요.\n",
    "\n",
    "- `s1`에 저장된 1개는 20개의 데이터, `s2`에 저장된 다른 1개는 200개이며 \n",
    "- 두 경우 모두 `random_state`로 `42`를 설정합니다."
   ]
  },
  {
   "cell_type": "code",
   "execution_count": 2,
   "metadata": {
    "id": "QP55yQ07GcMb"
   },
   "outputs": [
    {
     "data": {
      "text/plain": [
       "0.044"
      ]
     },
     "execution_count": 2,
     "metadata": {},
     "output_type": "execute_result"
    }
   ],
   "source": [
    "import numpy as np\n",
    "\n",
    "s1 = df.sample(20, random_state=42)\n",
    "s2 = df.sample(200, random_state=42)\n",
    "\n",
    "s1['오존(ppm)'][9199]\n",
    "s2['오존(ppm)'][4372]"
   ]
  },
  {
   "cell_type": "markdown",
   "metadata": {
    "id": "y2Rz-8O-YmF9"
   },
   "source": [
    "## 3. 두 샘플데이터에 대해서 `오존(ppm)`항목의 표본 평균을 계산하세요."
   ]
  },
  {
   "cell_type": "code",
   "execution_count": 3,
   "metadata": {
    "id": "CdV4Tl1hGa6z"
   },
   "outputs": [
    {
     "data": {
      "text/plain": [
       "(0.013931528990028337, 0.013688447684087484)"
      ]
     },
     "execution_count": 3,
     "metadata": {},
     "output_type": "execute_result"
    }
   ],
   "source": [
    "s1_std = np.std(s1['오존(ppm)'])\n",
    "s2_std = np.std(s2['오존(ppm)'])\n",
    "s1_std, s2_std"
   ]
  },
  {
   "cell_type": "markdown",
   "metadata": {
    "id": "9tIHBlM_SyGR"
   },
   "source": [
    "## 4. 위에서 추정한 값들을 바탕으로, 95%에 해당하는 신뢰구간을 `CI1과` `CI2`에 계산하세요.\n",
    "\n",
    "  - `ddof`는 `1`을 사용합니다."
   ]
  },
  {
   "cell_type": "code",
   "execution_count": 4,
   "metadata": {
    "id": "rjq59rjMGZ-w"
   },
   "outputs": [],
   "source": [
    "from scipy import stats\n",
    "\n",
    "def confidence_interval(data, confidence = 0.95):\n",
    "    \n",
    "    data = np.array(data)\n",
    "    mean = np.mean(data)\n",
    "    n = len(data)\n",
    "\n",
    "    stderr = stats.sem(data) \n",
    "\n",
    "    interval = stderr * stats.t.ppf( (1 + confidence) / 2 , n - 1)\n",
    "    return (mean - interval, mean + interval)"
   ]
  },
  {
   "cell_type": "code",
   "execution_count": 5,
   "metadata": {},
   "outputs": [
    {
     "data": {
      "text/plain": [
       "(0.015060460813957323, 0.028439539186042674)"
      ]
     },
     "execution_count": 5,
     "metadata": {},
     "output_type": "execute_result"
    }
   ],
   "source": [
    "CI1 = confidence_interval(s1['오존(ppm)'])\n",
    "CI1"
   ]
  },
  {
   "cell_type": "code",
   "execution_count": 6,
   "metadata": {},
   "outputs": [
    {
     "data": {
      "text/plain": [
       "(0.02100651526262625, 0.02483348473737375)"
      ]
     },
     "execution_count": 6,
     "metadata": {},
     "output_type": "execute_result"
    }
   ],
   "source": [
    "CI2 = confidence_interval(s2['오존(ppm)'])\n",
    "CI2"
   ]
  },
  {
   "cell_type": "markdown",
   "metadata": {
    "id": "HsTtONTNawFi"
   },
   "source": [
    "## 5. `plt.bar`를 사용하여 다음과 같은 신뢰구간 시각화를 그리세요.\n",
    "  - 이때 보라색 선에 해당 하는 값을 `pop_mean`에 저장하세요.\n",
    "  - `colors = '#4000c7'`을 사용하세요.\n",
    "\n",
    "<img src='https://i.imgur.com/3orh30m.png'>\n",
    "\n",
    "\n",
    "\n",
    "\n"
   ]
  },
  {
   "cell_type": "code",
   "execution_count": 31,
   "metadata": {
    "id": "skjzyQaJGIIw"
   },
   "outputs": [
    {
     "data": {
      "image/png": "[encoded data removed]",
      "text/plain": [
       "<Figure size 432x288 with 1 Axes>"
      ]
     },
     "metadata": {
      "needs_background": "light"
     },
     "output_type": "display_data"
    }
   ],
   "source": [
    "import numpy as np\n",
    "import matplotlib.pyplot as plt\n",
    "\n",
    "fig = plt.figure()\n",
    "ax = fig.add_axes([0,0,1,1])\n",
    "\n",
    "s1_o3 = s1['오존(ppm)']\n",
    "s2_o3 = s2['오존(ppm)']\n",
    "\n",
    "sample = ['s1', 's2']\n",
    "s1_o3_mean, s2_o3_mean = np.mean(s1_o3), np.mean(s2_o3)\n",
    "pop_mean = np.mean(df['오존(ppm)'])\n",
    "\n",
    "plt.bar(x='s1', height=s1_o3_mean, yerr=CI1[0]-s1_o3_mean, capsize=10)\n",
    "plt.bar(x='s2', height=s2_o3_mean, yerr=CI2[0]-s2_o3_mean, capsize=10)\n",
    "plt.axhline(pop_mean, linestyle='--', color='#4000c7')\n",
    "plt.axhline(s1_o3_mean, color = 'black', xmin = 0.15, xmax = 0.35)\n",
    "plt.axhline(s2_o3_mean, color = 'black', xmin = 0.65, xmax = 0.85)\n",
    "\n",
    "plt.show()"
   ]
  }
 ],
 "metadata": {
  "colab": {
   "collapsed_sections": [],
   "name": "n123a-confidence-intervals.ipynb",
   "provenance": []
  },
  "kernelspec": {
   "display_name": "Python 3",
   "language": "python",
   "name": "python3"
  },
  "language_info": {
   "codemirror_mode": {
    "name": "ipython",
    "version": 3
   },
   "file_extension": ".py",
   "mimetype": "text/x-python",
   "name": "python",
   "nbconvert_exporter": "python",
   "pygments_lexer": "ipython3",
   "version": "3.9.4"
  }
 },
 "nbformat": 4,
 "nbformat_minor": 1
}
