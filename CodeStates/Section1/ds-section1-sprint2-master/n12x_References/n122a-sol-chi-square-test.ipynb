{
 "cells": [
  {
   "cell_type": "markdown",
   "metadata": {
    "id": "rQf3dSuc5PqO"
   },
   "source": [
    "<img src='https://i.imgur.com/RDAD11M.png' width = '200' align = 'right'>\n",
    "\n",
    "## *DATA SCIENCE / SECTION 1 / SPRINT 2 / NOTE 2*\n",
    "\n",
    "# 📝 Assignment"
   ]
  },
  {
   "cell_type": "markdown",
   "metadata": {
    "id": "11OzdxWTM7UR"
   },
   "source": [
    "\n",
    "## 1. 공공데이터 조작 연습. \n",
    "\n",
    "국가 통계 포털에서 아래 이미지를 참조하여\n",
    "\n",
    "<https://kosis.kr/statisticsList/statisticsListIndex.do?menuId=M_01_01&vwcd=MT_ZTITLE&parmTabId=M_01_01#SelectStatsBoxDiv>\n",
    "\n",
    "**2020년 8월**에 해당하는 규모별 미분양현황 에 대한 데이터셋을 생성하세요. \n",
    "\n",
    "<img src='https://i.imgur.com/aZc4UJO.png' width = 500>\n",
    "\n",
    "- `60m이하`, `60~85m`, `85m초과`의 3개 규모와 (column)\n",
    "- `서울`, `대전`, `대구`, `부산` 4개의 지역을 포함해야합니다. (row)\n",
    "- 데이터가 없는 경우는 0으로 처리하세요.\n",
    "\n",
    "이후 데이터셋을 colab으로 불러오세요. 이때 변수의 이름은 `df`를 사용합니다.\n"
   ]
  },
  {
   "cell_type": "code",
   "execution_count": 1,
   "metadata": {
    "id": "IhWdLFndyVAB"
   },
   "outputs": [],
   "source": [
    "col = ['~60m2', '60~85m2', '85m2~']\n",
    "row = ['서울', '대전', '대구', '부산']"
   ]
  },
  {
   "cell_type": "code",
   "execution_count": 2,
   "metadata": {},
   "outputs": [
    {
     "data": {
      "text/html": [
       "<div>\n",
       "<style scoped>\n",
       "    .dataframe tbody tr th:only-of-type {\n",
       "        vertical-align: middle;\n",
       "    }\n",
       "\n",
       "    .dataframe tbody tr th {\n",
       "        vertical-align: top;\n",
       "    }\n",
       "\n",
       "    .dataframe thead th {\n",
       "        text-align: right;\n",
       "    }\n",
       "</style>\n",
       "<table border=\"1\" class=\"dataframe\">\n",
       "  <thead>\n",
       "    <tr style=\"text-align: right;\">\n",
       "      <th></th>\n",
       "      <th>~60m2</th>\n",
       "      <th>60~85m2</th>\n",
       "      <th>85m2~</th>\n",
       "    </tr>\n",
       "    <tr>\n",
       "      <th>시도(1)</th>\n",
       "      <th></th>\n",
       "      <th></th>\n",
       "      <th></th>\n",
       "    </tr>\n",
       "  </thead>\n",
       "  <tbody>\n",
       "    <tr>\n",
       "      <th>서울</th>\n",
       "      <td>54</td>\n",
       "      <td>2</td>\n",
       "      <td>0</td>\n",
       "    </tr>\n",
       "    <tr>\n",
       "      <th>대전</th>\n",
       "      <td>782</td>\n",
       "      <td>1</td>\n",
       "      <td>0</td>\n",
       "    </tr>\n",
       "    <tr>\n",
       "      <th>대구</th>\n",
       "      <td>143</td>\n",
       "      <td>1437</td>\n",
       "      <td>44</td>\n",
       "    </tr>\n",
       "    <tr>\n",
       "      <th>부산</th>\n",
       "      <td>577</td>\n",
       "      <td>735</td>\n",
       "      <td>142</td>\n",
       "    </tr>\n",
       "  </tbody>\n",
       "</table>\n",
       "</div>"
      ],
      "text/plain": [
       "       ~60m2  60~85m2  85m2~\n",
       "시도(1)                       \n",
       "서울        54        2      0\n",
       "대전       782        1      0\n",
       "대구       143     1437     44\n",
       "부산       577      735    142"
      ]
     },
     "execution_count": 2,
     "metadata": {},
     "output_type": "execute_result"
    }
   ],
   "source": [
    "import pandas as pd\n",
    "\n",
    "df = pd.read_csv('data.csv', encoding='cp949', skiprows=(0,1), index_col='시도(1)').iloc[:,2:]\n",
    "df.columns = col\n",
    "df = df.reindex(row)\n",
    "df"
   ]
  },
  {
   "cell_type": "markdown",
   "metadata": {
    "id": "RXPZZuAi3ccI"
   },
   "source": [
    "## 2. 지역에 대해서 one-sample chi-square test를 실행, 해당 결과를 `chi1`에 저장 후 설명해보세요.\n",
    "\n",
    "예시) 9월달 데이터를 기준으로 한다면\n",
    "\n",
    "```python\n",
    " [0+0+0+52+2+0, 0+0+0+590+665+142, 0+0+0+113+1061+42, 0+0+0+772+1+0]\n",
    "```\n",
    "을 비교해야할겁니다.\n",
    "\n",
    "\n"
   ]
  },
  {
   "cell_type": "code",
   "execution_count": 3,
   "metadata": {
    "id": "oIMzAkXks-Sv"
   },
   "outputs": [
    {
     "data": {
      "text/plain": [
       "시도(1)\n",
       "서울      56\n",
       "대전     783\n",
       "대구    1624\n",
       "부산    1454\n",
       "dtype: int64"
      ]
     },
     "execution_count": 3,
     "metadata": {},
     "output_type": "execute_result"
    }
   ],
   "source": [
    "from scipy import stats\n",
    "\n",
    "df_sum = df.sum(axis=1)\n",
    "df_sum"
   ]
  },
  {
   "cell_type": "code",
   "execution_count": 5,
   "metadata": {},
   "outputs": [
    {
     "data": {
      "text/plain": [
       "Power_divergenceResult(statistic=1564.4572376818994, pvalue=0.0)"
      ]
     },
     "execution_count": 5,
     "metadata": {},
     "output_type": "execute_result"
    }
   ],
   "source": [
    "from scipy.stats import chisquare\n",
    "\n",
    "chi1 = chisquare(df_sum, axis=None)\n",
    "chi1"
   ]
  },
  {
   "cell_type": "markdown",
   "metadata": {
    "id": "eMDtugVNRu0q"
   },
   "source": [
    "## 3. 지역과 규모에 대해서 two-sample chi-square test를 실행, 해당 결과를 `chi2`에 저장 후 설명해보세요.\n",
    "\n",
    "예시) 9월달 데이터를 기준으로 한다면\n",
    "\n",
    "| |-60 | 60-85 | 85- |\n",
    "|:-:|:-:|:-:|:-:|\n",
    "|서울|52|2|0|\n",
    "|대전|772|1|0|\n",
    "|대구|113|1061|42|\n",
    "|부산|590|665|142|\n",
    "\n",
    "에 대해서 검정해야 할 겁니다.\n",
    "\n",
    "\n"
   ]
  },
  {
   "cell_type": "code",
   "execution_count": 6,
   "metadata": {},
   "outputs": [
    {
     "data": {
      "text/plain": [
       "(2064.5767314171994,\n",
       " 0.0,\n",
       " 6,\n",
       " array([[ 22.24559612,  31.09522594,   2.65917794],\n",
       "        [311.04110288, 434.77789124,  37.18100587],\n",
       "        [645.12228746, 901.76155221,  77.11616033],\n",
       "        [577.59101353, 807.36533061,  69.04365586]]))"
      ]
     },
     "execution_count": 6,
     "metadata": {},
     "output_type": "execute_result"
    }
   ],
   "source": [
    "from scipy.stats import chi2_contingency\n",
    "\n",
    "chi2 = chi2_contingency(df)\n",
    "chi2"
   ]
  },
  {
   "cell_type": "markdown",
   "metadata": {
    "id": "Tf7XPpBP6YqX"
   },
   "source": [
    "### 4. 2번에 대해서 NumPy 를 사용하여 (Scipy를 사용하지 않고) $\\chi^2$ test 시행 후 2번의 결과와 비교해보세요. \n",
    "\n",
    "- `obs`, `exp`, `chi`라는 변수를 사용해야합니다.\n",
    "\n",
    "이 후 `chi2_contingency()`의 결과물과 비교해보세요"
   ]
  },
  {
   "cell_type": "code",
   "execution_count": 7,
   "metadata": {
    "id": "OjFt0b1-wrFL"
   },
   "outputs": [],
   "source": [
    "obs = df_sum.to_numpy()"
   ]
  },
  {
   "cell_type": "code",
   "execution_count": 8,
   "metadata": {},
   "outputs": [
    {
     "data": {
      "text/plain": [
       "979.25"
      ]
     },
     "execution_count": 8,
     "metadata": {},
     "output_type": "execute_result"
    }
   ],
   "source": [
    "import numpy as np\n",
    "\n",
    "exp = np.mean(obs)\n",
    "exp"
   ]
  },
  {
   "cell_type": "code",
   "execution_count": 9,
   "metadata": {},
   "outputs": [
    {
     "data": {
      "text/plain": [
       "array([852390.5625,  38514.0625, 415702.5625, 225387.5625])"
      ]
     },
     "execution_count": 9,
     "metadata": {},
     "output_type": "execute_result"
    }
   ],
   "source": [
    "squared = np.power(obs - exp, 2)\n",
    "squared"
   ]
  },
  {
   "cell_type": "code",
   "execution_count": 11,
   "metadata": {},
   "outputs": [
    {
     "data": {
      "text/plain": [
       "1564.4572376818994"
      ]
     },
     "execution_count": 11,
     "metadata": {},
     "output_type": "execute_result"
    }
   ],
   "source": [
    "chi = np.sum(squared / exp)\n",
    "chi"
   ]
  }
 ],
 "metadata": {
  "colab": {
   "name": "n122-chi-square-test.ipynb",
   "provenance": []
  },
  "kernelspec": {
   "display_name": "Python 3",
   "language": "python",
   "name": "python3"
  },
  "language_info": {
   "codemirror_mode": {
    "name": "ipython",
    "version": 3
   },
   "file_extension": ".py",
   "mimetype": "text/x-python",
   "name": "python",
   "nbconvert_exporter": "python",
   "pygments_lexer": "ipython3",
   "version": "3.9.4"
  }
 },
 "nbformat": 4,
 "nbformat_minor": 1
}
