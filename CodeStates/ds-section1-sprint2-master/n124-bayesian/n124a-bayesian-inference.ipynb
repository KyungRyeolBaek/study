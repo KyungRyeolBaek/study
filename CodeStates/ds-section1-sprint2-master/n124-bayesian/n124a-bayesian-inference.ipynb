{
  "nbformat": 4,
  "nbformat_minor": 0,
  "metadata": {
    "colab": {
      "name": "n124a-bayesian-inference.ipynb",
      "provenance": [],
      "collapsed_sections": []
    },
    "kernelspec": {
      "display_name": "Python 3",
      "language": "python",
      "name": "python3"
    },
    "language_info": {
      "codemirror_mode": {
        "name": "ipython",
        "version": 3
      },
      "file_extension": ".py",
      "mimetype": "text/x-python",
      "name": "python",
      "nbconvert_exporter": "python",
      "pygments_lexer": "ipython3",
      "version": "3.8.2"
    }
  },
  "cells": [
    {
      "cell_type": "markdown",
      "metadata": {
        "id": "H7OLbevlbd_Z"
      },
      "source": [
        "<img src='https://i.imgur.com/RDAD11M.png' width = '200' align = 'right'>\n",
        "\n",
        "## *DATA SCIENCE / SECTION 1 / SPRINT 2 / NOTE 4*\n",
        "\n",
        "# 📝 Assignment\n",
        "\n",
        "# 베이지안 통계"
      ]
    },
    {
      "cell_type": "markdown",
      "metadata": {
        "id": "lPwZPpad3UOc"
      },
      "source": [
        "## 1. Multiple Choice Test\n",
        "\n",
        "객관식 문제를 푸는 과정에서, 학생은 답을 이미 알고 있거나 찍어야 합니다. \n",
        "\n",
        "학생이 답을 알 확률은 $p$이고, 답을 찍어서 맞출 확률이 $1\\over{m}$ 이라고 할 때 $m$과 $p$를 입력받아 학생이 문제의 답을 알고 맞췄을 확률을 계산하는 함수를 작성하세요."
      ]
    },
    {
      "cell_type": "code",
      "metadata": {
        "id": "trk9r0Tc97Mc",
        "colab": {
          "base_uri": "https://localhost:8080/"
        },
        "outputId": "48fac337-d90c-45cb-9029-3045af336bd6"
      },
      "source": [
        "def correct(p, m):\n",
        "  # 답을 알 확률 = p\n",
        "  # 답을 모르고 찍어서 맞출 확률 = (1-p)*(1/m)\n",
        "  # ( 모든 답 맞춘 사람 중에 ) 답을 알고 맞췄을 확률 = 답을 알고 맞출 확률 / 답을 알고 맞출 확률 + 답을 모르고 찍어서 맞췄을 확률\n",
        "  return (p / (p + (1-p)*(1/m)))\n",
        "  # 코드를 작성하세요.  \n",
        "\n",
        "correct( 0.25, 4 )"
      ],
      "execution_count": null,
      "outputs": [
        {
          "output_type": "execute_result",
          "data": {
            "text/plain": [
              "0.5714285714285714"
            ]
          },
          "metadata": {
            "tags": []
          },
          "execution_count": 1
        }
      ]
    },
    {
      "cell_type": "markdown",
      "metadata": {
        "id": "Efrr4oWRMqoB"
      },
      "source": [
        "## 2. Blood Test\n",
        "\n",
        "특정 질병을 가지고 있는 경우 **99%** 의 확률로 탐지 할 수 있는 실험방법이 있습니다.\n",
        "\n",
        "그러나 동시에 이 방법은, **1%** 의 확률로 질병이 없지만 질병이 있다고 진단 하는 경우도 있는데요.\n",
        "\n",
        "실제로 모든 인구중 **0.5%** 만이 이 질병을 가지고 있다고 하겠습니다.\n",
        "\n",
        "특정 사람이 이 방법을 통해 질병이 있다고 진단 받았을때, 실제로 질병을 가지고 있을 확률을 구하는 함수를 작성하세요."
      ]
    },
    {
      "cell_type": "code",
      "metadata": {
        "id": "qKYGZ5fkFjQ-",
        "colab": {
          "base_uri": "https://localhost:8080/"
        },
        "outputId": "48b22552-dee1-4fd5-d1ea-3150f771eff7"
      },
      "source": [
        "def disease(prior, tpr, fpr):\n",
        "  # prior = 0.005 # = 사전 확률 = 질병이 있을 확률\n",
        "  # tpr = 0.99  # = 실제 참인것을 참이라고 판단하는 확률 = 민감도\n",
        "  # fpr = 0.01  # = 실제 거짓인것을 거짓이라 판단하는 확률 = False 를 True로 잘못 판단 하는 확률 = 1-특이도\n",
        "  # 질병이 있는데 질병이 있다고 판정 받을 확률 = 0.005 * 0.99 = prior * tpr\n",
        "  # 질병이 없는데 질병이 있다고 판정 받을 확률 = 0.995 * 0.01 = (1-prior) * fpr\n",
        "  # P(A|B) = P(B|A)*P(A) / P(B) = P(B|A)*P(A) / P(B|A)*P(A) + P(B|A(c))*(A(c))\n",
        "  # 질병이 있다고 진단 받았을 때, 실제로 질병을 가지고 있을 확률 = 질병이 있는데 질병이 있다고 판정 받을 확률 / 질병이 있는데 질병이 있다고 판정받을 확률 + 질병이 없는데 질병이 있다고 판정 받을 확률\n",
        "  return prior * tpr / (prior * tpr + (1-prior) * fpr )\n",
        "  # 코드를 작성하세요\n",
        "\n",
        "disease(0.005, 0.99, 0.01)"
      ],
      "execution_count": null,
      "outputs": [
        {
          "output_type": "execute_result",
          "data": {
            "text/plain": [
              "0.33221476510067116"
            ]
          },
          "metadata": {
            "tags": []
          },
          "execution_count": 3
        }
      ]
    },
    {
      "cell_type": "code",
      "metadata": {
        "colab": {
          "base_uri": "https://localhost:8080/"
        },
        "id": "YSr3dpxBR3Iu",
        "outputId": "41c9f49c-c0bf-415f-c46a-a0e6050cefa8"
      },
      "source": [
        "round(correct(0.25, 4), 3)"
      ],
      "execution_count": null,
      "outputs": [
        {
          "output_type": "execute_result",
          "data": {
            "text/plain": [
              "0.571"
            ]
          },
          "metadata": {
            "tags": []
          },
          "execution_count": 11
        }
      ]
    },
    {
      "cell_type": "code",
      "metadata": {
        "id": "QUhMU-GBpVLU",
        "colab": {
          "base_uri": "https://localhost:8080/"
        },
        "outputId": "9f868d1d-6d7e-444b-b8ec-3f4df417a9c5"
      },
      "source": [
        "round(disease(0.01, 0.995, 0.005), 3)"
      ],
      "execution_count": null,
      "outputs": [
        {
          "output_type": "execute_result",
          "data": {
            "text/plain": [
              "0.668"
            ]
          },
          "metadata": {
            "tags": []
          },
          "execution_count": 12
        }
      ]
    },
    {
      "cell_type": "markdown",
      "metadata": {
        "id": "GP7Jv1XvwtkX"
      },
      "source": [
        "## 🔥 도전 과제:\n",
        "\n"
      ]
    },
    {
      "cell_type": "markdown",
      "metadata": {
        "id": "M3WuZEGM3UOd"
      },
      "source": [
        "### 다음 문제를 읽고 답을 구하세요\n",
        "\n",
        "At a Certain stage of a criminal investigation, the inspector in charge is **60%** convinced of the guild of a certain suspect. <br>\n",
        "Suppose now that a new piece of evidence that shows that the criminal has a left-handedness is uncovered. <br>\n",
        "If **20% of population possesses this characteristic**, how certain of the guilt of the suspect should the inspector now be if it turns out that the suspect is among this group? <br>\n",
        "\n",
        "After that, the new evidence is subject to different possible interpretations, and in fact only shows that it is **90% likely that the criminal possess this characteristic**.  \n",
        "In this case how likely would it be that the suspect is guilty?"
      ]
    },
    {
      "cell_type": "markdown",
      "metadata": {
        "id": "1npa86XLKrIq"
      },
      "source": [
        "\n",
        "범죄 수사의 특정 단계에서 담당 조사관은 특정 용의자의 범죄를 60 % 확신합니다.\n",
        "이제 범인이 왼손잡이임을 보여주는 새로운 증거가 발견되었다고 가정 해 보겠습니다.\n",
        "인구의 20 %가 이 특성을 가지고 있다면, 용의자가 이 그룹에 속한다는 것이 밝혀지면 조사관은 이제 용의자의 범죄를 얼마나 확신해야합니까?\n",
        "\n",
        "그 후, 새로운 증거는 가능한 다른 해석의 대상이되며 실제로 범죄자가이 특성을 가질 가능성이 90 %임을 보여줍니다.\n",
        "이 경우 용의자가 유죄 일 가능성이 얼마나됩니까?"
      ]
    },
    {
      "cell_type": "code",
      "metadata": {
        "colab": {
          "base_uri": "https://localhost:8080/"
        },
        "id": "8x41VHRMMqoC",
        "outputId": "5fed0a2c-ef40-4104-a2c0-af8adc2c1826"
      },
      "source": [
        "# 초기 조사\n",
        "# 용의자가 범죄를 저질렀을 확률 0.6\n",
        "# 범인이 왼손잡이이다\n",
        "# 왼손잡이의 인구수 0.2\n",
        "# 용의자가 범죄를 저질렀다 / 용의자는 왼손잡이다.\n",
        "# 용의자가 범인일 확률 = 용의자가 범죄를 저질렀을 확률 * 용의자가 왼손일 확률 = 0.6 * 1 = 0.6\n",
        "# 용의자가 범인이 아니고 다른 왼손잡이가 범인일 확률 = 0.4 * 0.2\n",
        "# P(용의자) = 0.6 = 용의자일 확률\n",
        "# P(왼손|용의자(c)) = 0.2 -> 문제에서 주어짐 = 용의자 외의 사람이 왼손일 확률\n",
        "# P(왼손|용의자) = 1 -> 문제에서 주어짐 = 용의자가 왼손일 확률\n",
        "# P(용의자(c)) = 0.4 -> 1 - P(용의자) = 용의자가 아닐 확률\n",
        "# P(용의자|왼손) = P(왼손|용의자)P(용의자) / P(왼손) = P(왼손|용의자)P(용의자) / P(왼손|용의자)P(용의자) + P(왼손|용의자(c))P(용의자(c))\n",
        "# 1*0.6 / 1*0.6 + 0.2*0.4\n",
        "pre = 1*0.6 / ((1*0.6) + (0.2*0.4))\n",
        "print('초기 조사 : {}, 확률 : {}%'.format(pre, pre*100))\n",
        "# 이 후 조사\n",
        "# 왼손일 확률 90%\n",
        "# P(왼손|용의자) = 0.9 -> 로 바뀔경우! 나머지는 변함이 없음. 그대로 식에 넣어보면\n",
        "# 0.9*0.6 / (0.9*0.6 + 0.2*0.4)\n",
        "after = 0.9*0.6 / (0.9*0.6 + 0.2*0.4)\n",
        "print('이후 조사 : {}, 확률 : {}%'.format(after, after*100))\n",
        "\n",
        "# 이 곳에 답안을 작성하시기 바랍니다"
      ],
      "execution_count": 1,
      "outputs": [
        {
          "output_type": "stream",
          "text": [
            "초기 조사 : 0.8823529411764707, 확률 : 88.23529411764707%\n",
            "이후 조사 : 0.8709677419354838, 확률 : 87.09677419354837%\n"
          ],
          "name": "stdout"
        }
      ]
    },
    {
      "cell_type": "code",
      "metadata": {
        "id": "ZuqBGBwOYQsG",
        "colab": {
          "base_uri": "https://localhost:8080/"
        },
        "outputId": "d7e3443f-d824-47bb-e11c-5ce3287e15f5"
      },
      "source": [
        "round(abs(pre - after), 3)"
      ],
      "execution_count": 3,
      "outputs": [
        {
          "output_type": "execute_result",
          "data": {
            "text/plain": [
              "0.011"
            ]
          },
          "metadata": {
            "tags": []
          },
          "execution_count": 3
        }
      ]
    },
    {
      "cell_type": "code",
      "metadata": {
        "id": "tPU5lQc0ilKo"
      },
      "source": [
        ""
      ],
      "execution_count": null,
      "outputs": []
    }
  ]
}