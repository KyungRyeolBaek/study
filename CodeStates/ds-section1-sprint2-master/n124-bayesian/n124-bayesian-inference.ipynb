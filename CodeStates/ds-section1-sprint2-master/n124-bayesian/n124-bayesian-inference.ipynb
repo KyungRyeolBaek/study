{
  "nbformat": 4,
  "nbformat_minor": 0,
  "metadata": {
    "colab": {
      "name": "n124-bayesian-inference..ipynb",
      "provenance": []
    },
    "kernelspec": {
      "display_name": "Python 3",
      "language": "python",
      "name": "python3"
    },
    "language_info": {
      "codemirror_mode": {
        "name": "ipython",
        "version": 3
      },
      "file_extension": ".py",
      "mimetype": "text/x-python",
      "name": "python",
      "nbconvert_exporter": "python",
      "pygments_lexer": "ipython3",
      "version": "3.8.5"
    }
  },
  "cells": [
    {
      "cell_type": "markdown",
      "metadata": {
        "id": "H7OLbevlbd_Z"
      },
      "source": [
        "<img src='https://i.imgur.com/RDAD11M.png' width = '200' align = 'right'>\n",
        "\n",
        "## *DATA SCIENCE / SECTION 1 / SPRINT 2 / NOTE 4*\n",
        "\n",
        "---\n",
        "\n",
        "# 베이지안 통계 개론 (Bayesian Inference)\n",
        "\n",
        "## 🏆 학습 목표 \n",
        "\n",
        "- 조건부 확률에 대해서 이해 할 수 있다.\n",
        "- 베이지안 통계가 어떤 개념인지 이해 할 수 있다.\n"
      ]
    },
    {
      "cell_type": "markdown",
      "metadata": {
        "id": "3mz8p08BsN6p"
      },
      "source": [
        "## 준비 - 베이지안적 사고\n",
        "\n",
        "**베이지안**은, 여태까지 접했던 통계적 내용과는 사뭇 다른 접근을 필요로 합니다. \n",
        "\n",
        "이 베이지안의 방식의 아름다운 점은, 내용도 매우 간단하지만, 다양한 분야에 적용이 가능하다는 것입니다. \n",
        "\n"
      ]
    },
    {
      "cell_type": "markdown",
      "metadata": {
        "id": "NmfXMn_Y6iOp"
      },
      "source": [
        "### 몬티홀\n",
        "\n",
        "<img src='https://user-images.githubusercontent.com/6457691/89857853-221d8400-dbd8-11ea-97e8-5546e08962e0.png' width = '300'>\n",
        "\n",
        "\n",
        "|1번문|2번문|3번문|선택유지(1번)|선택변경|\n",
        "|:-:|:-:|:-:|:-:|:-:|\n",
        "|차|염소|염소|Win|Lose|\n",
        "|염소|차|염소|Lose|Win|\n",
        "|염소|염소|차|Lose|Win|\n"
      ]
    },
    {
      "cell_type": "markdown",
      "metadata": {
        "id": "Fa-jzYp9i8La"
      },
      "source": [
        "## 총 확률의 법칙 (The Law of Total Probability)\n",
        "\n",
        "정의에 따르면, $A$라는 특정 확률 변수에 대해, 모든 가능한 이벤트의 총 확률은 1입니다. 즉 :\n",
        "\n",
        "$$P(A) = \\sum_n P(A_n) = 1$$\n",
        "\n",
        "예를 들면 **스팸메일이다** 라는 \"확률 변수\"는, 가능한 이벤트로 \n",
        "\n",
        "1. 스팸메일인경우\n",
        "2. 정상메일인경우\n",
        "\n",
        "각각 0.8과 0.2로 (**예시**) 총 합은 1입니다.\n",
        "\n",
        "조금 더 나아가서, 2개의 변수를 고려 한다면 ($A$ 와 $B$), \n",
        "두 변수가 연관이 있는 경우, $B$가 일어난 상황에서의, $A$에 대한 확률 $P(A)$는, $P(A|B)$의 형태로 표현됩니다. \n",
        "\n",
        "(반대로 연관이 없는 경우에는 $B$가 일어난 상황에서, $A$에 대한 확률 $P(A)$는 $P(A) * P(B)$ 입니다.)\n",
        "\n",
        "예를 들면 **스팸메일이다**와, **메일 내부에 \"스팸\"단어가 있다** 과 같은 이벤트라면\n",
        "\n",
        "$P(spam)$ = $P(spam|included)$ + $P(spam|not~included)$ 로 표현 될 수 있습니다.\n",
        "\n",
        "즉,\n",
        "\n",
        "$$P(A|B) = \\sum_n P(A | B_n) P(B_n)$$\n",
        "\n",
        "다시말해 $A$의 모든 확률은, 주어진 $B_n$에 대해서, 각각의 일어날 확률의 총합으로 표현 될 수 있습니다.\n",
        "\n",
        "예를 들어. \n",
        "\n",
        "$A$ -> 1 or 2\n",
        "\n",
        "$B$ -> 1 or 2\n",
        "\n",
        "- $p(A=1)$ 일 확률은 \n",
        "\n",
        "  - $p(B=1) \\cdot p( A=1 | B=1 )$ 와\n",
        "\n",
        "  - $p(B=2) \\cdot p( A=1 | B=2 )$ 인 경우 2가지로 나뉠 것이고\n",
        "\n",
        "- $p(A=2)$일 확률은\n",
        "\n",
        "  - $p(B=1) * p(A=2 | B=1)$ 와\n",
        "\n",
        "  - $p(B=2) * p(A=2 | B=2)$ 인 경우 2가지로 나뉘어지게 됩니다.\n",
        "\n",
        "그렇기 때문에\n",
        "\n",
        "$$ p(A=1) = p(B=1) \\cdot p( A=1 | B=1 ) + p(B=2) \\cdot p( A=1 | B=2 ) $$\n",
        "\n",
        "로 표현 될 수 있습니다."
      ]
    },
    {
      "cell_type": "markdown",
      "metadata": {
        "id": "GhycNr-Sbeie"
      },
      "source": [
        "## 조건부 확률 (The Law of Conditional Probability)\n",
        "\n",
        "다른 이벤트가 일어난 상황에서의 조건은 어떻게 구할 수 있을까요? 이를 구하기 위해서 밴다이어그램을 이용해보도록 하겠습니다:\n",
        "\n",
        "실재 계산 되는 부분의 식은 아래와 같습니다:\n",
        "\n",
        "$$P(A|B) = \\frac{P(A \\cap B)}{P(B)}$$\n",
        "\n",
        "![Visualization of set intersection](https://upload.wikimedia.org/wikipedia/commons/9/99/Venn0001.svg)\n",
        "\n",
        "전체 사각형이 모든 가능한 확률 공간이고, \n",
        "\n",
        "$A$는 왼쪽 원, $B$는 오른쪽 원이며 그 교집합이 가운데 붉은 부분입니다. \n",
        "\n",
        "위의 식에 $P(B)$를 양변에 곱하면, $P(A|B)P(B) = P(A \\cap B)$ 와 같은 식을 얻을 수 있으며, \n",
        "\n",
        "이는 곧 $P(A|B) = \\sum_n P(A \\cap B_n)$를 의미합니다.\n",
        "\n",
        "이는, $B$라는 정보가 주어진 상황에서 $A$의 확률은 $B$와 교집합들의 합으로 구성 되어 있다는 것을 이해 할 수 있습니다. \n"
      ]
    },
    {
      "cell_type": "markdown",
      "metadata": {
        "id": "hi45SXVyi_Wt"
      },
      "source": [
        "## 베이지안 이론 (Bayes Theorem)\n",
        "\n",
        "아래는 베이지안의 핵심공식과 유도과정입니다:\n",
        "\n",
        "$$P(A|B) = {{P(A \\cap B)} \\over {P(B)}} $$\n",
        "\n",
        "$$P(B|A) = {{P(B \\cap A)} \\over {P(A)}} $$\n",
        "\n",
        "Since \n",
        "\n",
        "$$P(A \\cap B) = P(B \\cap A),$$\n",
        "\n",
        "Therefore\n",
        "\n",
        "$$P(A|B) \\cdot P(B) = P(B|A) \\cdot P(A)$$\n",
        "\n",
        "$$P(A|B) = \\frac{P(B|A)P(A)}{P(B)}$$\n",
        "\n",
        "이는 $B$가 주어진 상황에서 $A$의 확률은 $A$가 주어진 상황에서의 $B$의 확률 곱하기 $A$의 확률, 나누기 $B$ 의 확률로 표현 됩니다.\n",
        "\n",
        "$p(A|B)$ -> 사후 확률. (B라는 정보가 업데이트 된 이후의 사(이벤트)후 확률)\n",
        "\n",
        "$p(A)$ -> 사전 확률. B라는 정보가 업데이트 되기 전의 사전확률\n",
        "\n",
        "$p(B|A)$ -> likelihood\n",
        "\n",
        "여기서 조건이 붙지 않은 확률 은 사전확률(\"Prior\"), 조건이 붙은 부분은 사후확률(\"Updated\")로 다시 표현 할 수 있습니다.\n",
        "\n",
        "이것이 중요한 이유는 무엇일까요? \n",
        "\n"
      ]
    },
    {
      "cell_type": "markdown",
      "metadata": {
        "id": "w7ZwdaIt_8Ny"
      },
      "source": [
        "### Warm-up 예시\n",
        "\n",
        "<img src='https://i.imgur.com/M8ylV1K.png' width = 600>\n",
        "<br>\n",
        "<img src='https://i.imgur.com/2mJkINP.png' width = 600>\n",
        "\n",
        "\n",
        "초콜렛을 받았다 \n",
        "\n",
        "1) 이 사람이 나한테 호감이 있고 ($p(B)$), 그래서 초콜렛을 줬다 ($p(A|B)$)\n",
        "\n",
        "2) 이 사람이 나한테 호감은 없고 ($p(not B)$), 예의상 초콜렛을 줬다 ($p(A|not B)$)\n",
        "\n",
        "$$p(A) = p(A | B) \\cdot p(B)+ p(A | not B) \\cdot p(not B)$$\n",
        "\n"
      ]
    },
    {
      "cell_type": "markdown",
      "metadata": {
        "id": "dcNEfwqg_1_3"
      },
      "source": [
        "### 💉 베이지안 테스트를 반복하여 사용 (repeated testing)\n",
        "\n",
        "다음은 [Wikipedia](https://en.wikipedia.org/wiki/Bayes%27_theorem)로 부터의 예시입니다.\n",
        "\n",
        "가정 : 약물을 실제 사용 하는 경우 결과가 양성일 확률은 99%\n",
        "\n",
        "베이지안을 적용하는 예시는 매우 많지만, 그중 하나는 약에 대한 양성반응 테스트 입니다. \n",
        "\n",
        "일반적으로, 이 테스트에서 양성반응이 나온 경우 실제로 약물이 신체에 포함되어 있을 것이라고 생각하지만. \n",
        "\n",
        "만약 1%의 위양성 (False positive, 실제로 약물이 없지만 양성반응이 나타남)이 존재하는 경우에도 테스트의 의미는 매우 크게 바뀝니다. \n",
        "\n",
        "실제 분석을 위해, 전체 인구에서 0.5%, ($1/200$) 만이 실제로 약물이 신체에 포함되어 있다고 가정해보도록 하겠습니다.\n",
        "\n",
        "양성반응 테스트의 결과가 양성으로 나왔을 경우 실제로 약물이 있을 확률은 어느정도가 될까요? \n",
        "\n",
        "단순히 생각하면, False positive를 제외한 99%라고 생각 할 수 있습니다만 우리는 이제 사전확률과 사후확률을 사용 할 수 있기 때문에 베이지안을 통해 검증해보도록 하겠습니다.\n",
        "\n",
        "다음 계산 결과에서, $User$는 실제 약물이 발견 되는 사람, $+$는 양성반응입니다.\n",
        "\n",
        "![Bayes Theorem Drug Test Example](https://wikimedia.org/api/rest_v1/media/math/render/svg/95c6524a3736c43e4bae139713f3df2392e6eda9)\n",
        "\n",
        "즉, 오직 33.2% 정도 만이 양성반응이 나왔다고 해도 실제로 약물을 포함 하는 경우입니다. \n",
        "\n",
        "이러한 이유로 인해 실제 상황에서는 여러번 반복해서 실험을 합니다. \n",
        "\n",
        "만약 2번을 반복 해서 모두 양성이 나오는 경우, 3번을 반복하는 경우... 에 따라서, 양성반응이 실제 약물로 부터 나온 결과일 확률은 매우 높아집니다.\n",
        "\n",
        "이처럼 베이지안은 약물의 반응, 음주 측정, 임신 여부와 같이 많은 부분에서 사용되며, 이에 대하여 항상 false positive rate와 사전확률을 통해 정확한 확률을 계산 할 수 있어야 합니다. \n"
      ]
    },
    {
      "cell_type": "markdown",
      "metadata": {
        "id": "dfLpvq6i5SCe"
      },
      "source": [
        "## 몬티홀 with 베이지안\n",
        "\n"
      ]
    },
    {
      "cell_type": "markdown",
      "metadata": {
        "id": "iRv45l8P-hMf"
      },
      "source": [
        "### 가정\n",
        "\n",
        "처음에 1번 문을 선택함\n",
        "\n",
        "$H$ : **Hypothesis : 1번 문 뒤에 자동차가 있음**\n",
        "$E$ : **Evidence : 진행자가 염소가 있는 문을 1개 열어줌**\n",
        "\n"
      ]
    },
    {
      "cell_type": "markdown",
      "metadata": {
        "id": "is3X95PI-dbQ"
      },
      "source": [
        "### 베이지안\n",
        "\n",
        "$$P(A|B) = \\frac{P(B|A)P(A)}{P(B)}$$\n",
        "\n",
        "우리의 목적 : 진행자가 문을 보여준 상태 : *$P(E)$* **에서** 선택했던 문에 자동차가 있을 확률 *$P(H)$* -> $P(H|E)$\n",
        "\n",
        "<br>\n",
        "\n",
        "$$P(H|E) = \\frac{P(E|H)P(H)}{P(E)} = \\frac{P(E|H)P(H)}{P(E|H)P(H)+P(E|not H)P( not H)}$$\n"
      ]
    },
    {
      "cell_type": "markdown",
      "metadata": {
        "id": "7Ow0P4uj-XPk"
      },
      "source": [
        "### 우리가 구해야 하는 것\n",
        "\n",
        "- $P(E|H)$\n",
        "  - $P(E|H)$ = 1번 문에 자동차가 있는 상황에서 진행자가 염소가 있는 문을 1개 열어줄 확률 = 1 \n",
        "  \n",
        "- $P(H)$\n",
        "  - $P(H)$ = 자동차가 1번문에 있을 확률 : $\\frac{1}{3}$\n",
        "\n",
        "- $P(E|not H)$\n",
        "  - 마찬가지로 $P(E|not H)$ = 1\n",
        "\n",
        "- $P(not H)$\n",
        "  - $P(not H)$ = $\\frac{2}{3}$\n"
      ]
    },
    {
      "cell_type": "markdown",
      "metadata": {
        "id": "q-8MgCfA-VQt"
      },
      "source": [
        "### 계산\n",
        "\n",
        "$$P(H|E) = \\frac{1 \\cdot \\frac{1}{3}}{1 \\cdot \\frac{1}{3} + 1 \\cdot \\frac{2}{3}} = \\frac{\\frac{1}{3}}{1} = \\frac{1}{3}$$\n",
        "\n",
        "염소가 있는 다른 문이라는 추가 정보($E$)가 있는 상황에서 처음에 선택했던 1번 문에 자동차가 있을 확률($H$)은 $\\frac{1}{3}$ 으로 계산됩니다."
      ]
    },
    {
      "cell_type": "markdown",
      "metadata": {
        "id": "hOvNDdddjaob"
      },
      "source": [
        "## Applications"
      ]
    },
    {
      "cell_type": "markdown",
      "metadata": {
        "id": "htI3DGvDsRJF"
      },
      "source": [
        "## 약물 양성반응 예시 계산\n",
        "\n",
        "다시 한번 정리하자면, 베이지안에서의 $P(A|B)$는 $B$라는 추가 정보를 바탕으로 한 $A$의 확률입니다."
      ]
    },
    {
      "cell_type": "markdown",
      "metadata": {
        "id": "xwhXc-Po1h1T"
      },
      "source": [
        "- TPR : **T**rue **P**ositive **R**ate (= 민감도, true accept rate)\n",
        "1인 케이스에 대해 1로 잘 예측한 비율.(암환자를 암이라고 진단 함)\n",
        "\n",
        "- FPR : **F**alse **P**ositive **R**ate (= 1-특이도, false accept rate)\n",
        "0인 케이스에 대해 1로 잘못 예측한 비율.(암환자가 아닌데 암이라고 진단 함)"
      ]
    },
    {
      "cell_type": "markdown",
      "metadata": {
        "id": "HWijbME18gPG"
      },
      "source": [
        "**이전 계산의 사후확률을 새로운 계산의 사전확률로 사용한다**"
      ]
    },
    {
      "cell_type": "code",
      "metadata": {
        "id": "ke-5EqJI0Tsn",
        "colab": {
          "base_uri": "https://localhost:8080/"
        },
        "outputId": "a515eac3-4b3b-42f3-e98e-35035a01e024"
      },
      "source": [
        "# 베이지안 계산을 위해서는 4개의 변수가 필요합니다.\n",
        "\n",
        "p_pos_used = 0.99 # True positive rate (TPR, Sensitivity)\n",
        "p_used = 0.005 # prior probability\n",
        "p_pos_not_used = 0.01 # False positive rate (FPR)\n",
        "p_not_used = 1 - p_used # 1 - p_used  \n",
        "\n",
        "numerator = p_pos_used * p_used \n",
        "\n",
        "denominator = (p_pos_used * p_used) + (p_pos_not_used * p_not_used)\n",
        "\n",
        "posterior_probability = numerator / denominator\n",
        "\n",
        "posterior_probability"
      ],
      "execution_count": 1,
      "outputs": [
        {
          "output_type": "execute_result",
          "data": {
            "text/plain": [
              "0.33221476510067116"
            ]
          },
          "metadata": {
            "tags": []
          },
          "execution_count": 1
        }
      ]
    },
    {
      "cell_type": "code",
      "metadata": {
        "id": "D4Y09DF6MFfA",
        "colab": {
          "base_uri": "https://localhost:8080/"
        },
        "outputId": "ff409042-024d-4019-a68a-1ca55869ae33"
      },
      "source": [
        "p_pos_used = 0.99 # TPR\n",
        "p_used = 0.332 # prior probability\n",
        "p_pos_not_used = 0.01 # FPR\n",
        "p_not_used = 1 - p_used # 1 - p_used  \n",
        "\n",
        "numerator = p_pos_used * p_used \n",
        "\n",
        "denominator = (p_pos_used * p_used) + (p_pos_not_used * p_not_used)\n",
        "\n",
        "posterior_probability = numerator / denominator\n",
        "\n",
        "posterior_probability"
      ],
      "execution_count": 2,
      "outputs": [
        {
          "output_type": "execute_result",
          "data": {
            "text/plain": [
              "0.980081106870229"
            ]
          },
          "metadata": {
            "tags": []
          },
          "execution_count": 2
        }
      ]
    },
    {
      "cell_type": "code",
      "metadata": {
        "id": "TAsD-ZjbMFfD",
        "colab": {
          "base_uri": "https://localhost:8080/"
        },
        "outputId": "1ff5f26c-237d-4216-b5bf-00920aa31811"
      },
      "source": [
        "p_pos_used = 0.99 # TPR \n",
        "p_used = 0.98008 # prior probability\n",
        "p_pos_not_used = 0.01 # FPR\n",
        "p_not_used = 1 - p_used # 1 - p_used  \n",
        "\n",
        "numerator = p_pos_used * p_used \n",
        "\n",
        "denominator = (p_pos_used * p_used) + (p_pos_not_used * p_not_used)\n",
        "\n",
        "posterior_probability = numerator / denominator\n",
        "\n",
        "posterior_probability #99.979%\n",
        "\n",
        "# p_value = 1 - posterior_probability"
      ],
      "execution_count": 3,
      "outputs": [
        {
          "output_type": "execute_result",
          "data": {
            "text/plain": [
              "0.9997947404084419"
            ]
          },
          "metadata": {
            "tags": []
          },
          "execution_count": 3
        }
      ]
    },
    {
      "cell_type": "markdown",
      "metadata": {
        "id": "RkX7OK5_chIk"
      },
      "source": [
        "## 동전 던지기 with 베이지안\n"
      ]
    },
    {
      "cell_type": "markdown",
      "metadata": {
        "id": "nn9mJgz7-YA6"
      },
      "source": [
        "처음 가정 = 동전을 던졌을때 **앞면**이 나올 확률은 0부터 1까지 고르게 분포해있다. (사전 정보 없음)\n",
        "\n",
        "동전을 여러번 던지면서 해당 정보를 반영하고, \n",
        "\n",
        "이를 통해 동전을 던졌을때 **앞면**이 나올 확률을 점점 추정하는 과정"
      ]
    },
    {
      "cell_type": "code",
      "metadata": {
        "colab": {
          "base_uri": "https://localhost:8080/",
          "height": 681
        },
        "id": "V86kRBnhcyjN",
        "outputId": "0a92cf71-d784-4446-e0ec-c002de42ed72"
      },
      "source": [
        "%matplotlib inline\n",
        "import matplotlib.pyplot as plt\n",
        "import numpy as np\n",
        "import scipy.stats as stats\n",
        "from IPython.core.pylabtools import figsize\n",
        "\n",
        "figsize(15, 9)\n",
        "\n",
        "dist = stats.beta\n",
        "n_trials = [0, 1, 2, 3, 4, 5, 8, 15, 50, 300, 500, 1000]\n",
        "data = stats.bernoulli.rvs(0.5, size = n_trials[-1]) # binomial with p(h) = 0.5\n",
        "x = np.linspace(0, 1, 100)\n",
        "\n",
        "for k, N in enumerate(n_trials):\n",
        "  sx = plt.subplot(len(n_trials) / 2, 2, k+1)\n",
        "  plt.xlabel(\"P(H)\", fontsize = 13) if k in [0, len(n_trials) - 1] else None\n",
        "  plt.setp(sx.get_yticklabels(), visible = False)\n",
        "  heads = data[:N].sum()\n",
        "  y = dist.pdf(x, 1 + heads, 1 + N - heads)\n",
        "  plt.plot(x, y, label = 'Trial %d \\n Head %d Times' % (N, heads))\n",
        "  plt.fill_between(x, 0, y, color = '#348abd', alpha = .4)\n",
        "  plt.vlines(0.5, 0, 4, color = 'k', linestyles = '--', lw = 1)\n",
        "\n",
        "  leg = plt.legend()\n",
        "  leg.get_frame().set_alpha(0.4)\n",
        "  plt.autoscale(tight = True)\n",
        "\n",
        "plt.suptitle('Bayesian Update (Probability of Head)', y = 1.02, fontsize = 14)\n",
        "plt.tight_layout()"
      ],
      "execution_count": 4,
      "outputs": [
        {
          "output_type": "display_data",
          "data": {
            "image/png": "[encoded data removed]",
            "text/plain": [
              "<Figure size 1080x648 with 12 Axes>"
            ]
          },
          "metadata": {
            "tags": [],
            "needs_background": "light"
          }
        }
      ]
    },
    {
      "cell_type": "markdown",
      "metadata": {
        "id": "v_orYd1M-1OX"
      },
      "source": [
        "## 신뢰구간 with 베이지안\u001f"
      ]
    },
    {
      "cell_type": "code",
      "metadata": {
        "id": "UxSsrPhmMFfF",
        "colab": {
          "base_uri": "https://localhost:8080/"
        },
        "outputId": "21acc09c-7866-4fb9-ee10-c2a755e1e0e2"
      },
      "source": [
        "import numpy as np\n",
        "\n",
        "from scipy import stats\n",
        "\n",
        "coinflips = np.random.binomial(1, 0.5, 20)\n",
        "coinflips"
      ],
      "execution_count": 5,
      "outputs": [
        {
          "output_type": "execute_result",
          "data": {
            "text/plain": [
              "array([1, 0, 0, 0, 1, 1, 0, 0, 1, 0, 1, 0, 0, 0, 0, 0, 1, 0, 1, 0])"
            ]
          },
          "metadata": {
            "tags": []
          },
          "execution_count": 5
        }
      ]
    },
    {
      "cell_type": "markdown",
      "metadata": {
        "id": "XWw6zmyG-78X"
      },
      "source": [
        "### Frequency 기반 신뢰구간 추정 ( n123의 코드 )"
      ]
    },
    {
      "cell_type": "code",
      "metadata": {
        "id": "XpVoNhZ_MFfH",
        "colab": {
          "base_uri": "https://localhost:8080/"
        },
        "outputId": "3c81af4a-c511-485d-e4eb-f4cfc65c88dd"
      },
      "source": [
        "def confidence_interval(data, confidence = 0.95):\n",
        "  \n",
        "    \"\"\"\n",
        "      주어진 데이터의 표본 평균에 대한 신뢰 구간을 계산합니다.\n",
        "      기본 값으로 t-분포와 양방향 (two-tailed), 95%의 신뢰도를 사용합니다. \n",
        "  \n",
        "      입력 값 : \n",
        "        data - 여러 개로 이루어진 (list 혹은 numpy 배열) 표본 관측치\n",
        "        confidence - 신뢰구간을 위한 신뢰도 \n",
        "      \n",
        "      반환 되는 값:\n",
        "        (평균, 하한, 상한구간)으로 이루어진 tuple\n",
        "    \"\"\"\n",
        "  \n",
        "    data = np.array(data)\n",
        "    mean = np.mean(data)\n",
        "    n = len(data)\n",
        "    s = data.std(ddof = 1)\n",
        "    stderr = s / np.sqrt(n)\n",
        "    print(stderr)\n",
        "    \n",
        "    t = stats.t.ppf( (1 + confidence) / 2.0 , n - 1)\n",
        "    margin_of_error = t * stderr\n",
        "    interval = stderr * stats.t.ppf((1 + confidence) / 2.0, n - 1)\n",
        "    return (mean, mean - interval, mean + interval)\n",
        "\n",
        "confidence_interval(coinflips)"
      ],
      "execution_count": 6,
      "outputs": [
        {
          "output_type": "stream",
          "text": [
            "0.1094243309804831\n"
          ],
          "name": "stdout"
        },
        {
          "output_type": "execute_result",
          "data": {
            "text/plain": [
              "(0.35, 0.12097224312031754, 0.5790277568796824)"
            ]
          },
          "metadata": {
            "tags": []
          },
          "execution_count": 6
        }
      ]
    },
    {
      "cell_type": "markdown",
      "metadata": {
        "id": "vBTQlQOe_QGH"
      },
      "source": [
        "### Bayesian 기반 신뢰구간 추정 (SciPy 사용) \n"
      ]
    },
    {
      "cell_type": "code",
      "metadata": {
        "id": "5_oPnNjpMFfJ",
        "colab": {
          "base_uri": "https://localhost:8080/"
        },
        "outputId": "4c5029d2-3bd6-4700-9413-ad0da24b660a"
      },
      "source": [
        "# https://docs.scipy.org/doc/scipy/reference/generated/scipy.stats.bayes_mvs.html#scipy.stats.bayes_mvs\n",
        "\n",
        "mean_CI, _, _ = stats.bayes_mvs(coinflips, alpha = .95) # mean , variance, std\n",
        "\n",
        "# mean_cntr, var_cntr, std_cntr\n",
        "\n",
        "mean_CI\n",
        "\n",
        "# 윗 결과와 유사함"
      ],
      "execution_count": 7,
      "outputs": [
        {
          "output_type": "execute_result",
          "data": {
            "text/plain": [
              "Mean(statistic=0.35, minmax=(0.12097224312031751, 0.5790277568796824))"
            ]
          },
          "metadata": {
            "tags": []
          },
          "execution_count": 7
        }
      ]
    },
    {
      "cell_type": "markdown",
      "metadata": {
        "id": "uWgWjp3PQ3Sq"
      },
      "source": [
        "### 원본 소스 코드 \n",
        "\n",
        "- [Source code for mvsdist in scipy](https://github.com/scipy/scipy/blob/90534919e139d2a81c24bf08341734ff41a3db12/scipy/stats/morestats.py#L139)"
      ]
    },
    {
      "cell_type": "markdown",
      "metadata": {
        "id": "Pl3xRl0AhOZj"
      },
      "source": [
        "## Bayesian Optimize\n"
      ]
    },
    {
      "cell_type": "markdown",
      "metadata": {
        "id": "CVZ4nPgkB6KI"
      },
      "source": [
        "<img src='https://i.imgur.com/S0aFeM8.png' width = 600>"
      ]
    },
    {
      "cell_type": "markdown",
      "metadata": {
        "id": "kRquvbsYin0v"
      },
      "source": [
        "<https://github.com/fmfn/BayesianOptimization>"
      ]
    },
    {
      "cell_type": "code",
      "metadata": {
        "colab": {
          "base_uri": "https://localhost:8080/"
        },
        "id": "pLDPBGSYhxZ2",
        "outputId": "8519e0e8-175d-4df1-fb3f-0e597dc94ffa"
      },
      "source": [
        "!pip3 install bayesian-optimization"
      ],
      "execution_count": 8,
      "outputs": [
        {
          "output_type": "stream",
          "text": [
            "Collecting bayesian-optimization\n",
            "  Downloading https://files.pythonhosted.org/packages/bb/7a/fd8059a3881d3ab37ac8f72f56b73937a14e8bb14a9733e68cc8b17dbe3c/bayesian-optimization-1.2.0.tar.gz\n",
            "Requirement already satisfied: numpy>=1.9.0 in /usr/local/lib/python3.6/dist-packages (from bayesian-optimization) (1.19.5)\n",
            "Requirement already satisfied: scipy>=0.14.0 in /usr/local/lib/python3.6/dist-packages (from bayesian-optimization) (1.4.1)\n",
            "Requirement already satisfied: scikit-learn>=0.18.0 in /usr/local/lib/python3.6/dist-packages (from bayesian-optimization) (0.22.2.post1)\n",
            "Requirement already satisfied: joblib>=0.11 in /usr/local/lib/python3.6/dist-packages (from scikit-learn>=0.18.0->bayesian-optimization) (1.0.0)\n",
            "Building wheels for collected packages: bayesian-optimization\n",
            "  Building wheel for bayesian-optimization (setup.py) ... \u001b[?25l\u001b[?25hdone\n",
            "  Created wheel for bayesian-optimization: filename=bayesian_optimization-1.2.0-cp36-none-any.whl size=11685 sha256=74c716d49a8e7a19c8525e2ab71c0fb386832bddc4fb455df5239f24dbe234ed\n",
            "  Stored in directory: /root/.cache/pip/wheels/5a/56/ae/e0e3c1fc1954dc3ec712e2df547235ed072b448094d8f94aec\n",
            "Successfully built bayesian-optimization\n",
            "Installing collected packages: bayesian-optimization\n",
            "Successfully installed bayesian-optimization-1.2.0\n"
          ],
          "name": "stdout"
        }
      ]
    },
    {
      "cell_type": "code",
      "metadata": {
        "colab": {
          "base_uri": "https://localhost:8080/"
        },
        "id": "6ADBOogHhR9W",
        "outputId": "1428acdc-7009-4ae6-b528-137b2ca0b9d1"
      },
      "source": [
        "def black_box_func(x, y):\n",
        "  return -x ** 2 - (y-1) ** 2 + 1\n",
        "\n",
        "pbounds = {'x' : (2, 4), 'y': (-3, 3)}\n",
        "\n",
        "from bayes_opt import BayesianOptimization\n",
        "\n",
        "optimizer = BayesianOptimization(f = black_box_func, \n",
        "                                 pbounds = pbounds, \n",
        "                                 random_state = 1)\n",
        "\n",
        "optimizer.maximize(init_points = 2, n_iter = 10) "
      ],
      "execution_count": 9,
      "outputs": [
        {
          "output_type": "stream",
          "text": [
            "|   iter    |  target   |     x     |     y     |\n",
            "-------------------------------------------------\n",
            "| \u001b[0m 1       \u001b[0m | \u001b[0m-7.135   \u001b[0m | \u001b[0m 2.834   \u001b[0m | \u001b[0m 1.322   \u001b[0m |\n",
            "| \u001b[0m 2       \u001b[0m | \u001b[0m-7.78    \u001b[0m | \u001b[0m 2.0     \u001b[0m | \u001b[0m-1.186   \u001b[0m |\n",
            "| \u001b[95m 3       \u001b[0m | \u001b[95m-7.11    \u001b[0m | \u001b[95m 2.218   \u001b[0m | \u001b[95m-0.7867  \u001b[0m |\n",
            "| \u001b[0m 4       \u001b[0m | \u001b[0m-11.09   \u001b[0m | \u001b[0m 3.288   \u001b[0m | \u001b[0m-0.1305  \u001b[0m |\n",
            "| \u001b[95m 5       \u001b[0m | \u001b[95m-4.335   \u001b[0m | \u001b[95m 2.299   \u001b[0m | \u001b[95m 0.7729  \u001b[0m |\n",
            "| \u001b[95m 6       \u001b[0m | \u001b[95m-4.023   \u001b[0m | \u001b[95m 2.172   \u001b[0m | \u001b[95m 1.552   \u001b[0m |\n",
            "| \u001b[95m 7       \u001b[0m | \u001b[95m-3.605   \u001b[0m | \u001b[95m 2.137   \u001b[0m | \u001b[95m 1.195   \u001b[0m |\n",
            "| \u001b[95m 8       \u001b[0m | \u001b[95m-3.004   \u001b[0m | \u001b[95m 2.0     \u001b[0m | \u001b[95m 0.9407  \u001b[0m |\n",
            "| \u001b[0m 9       \u001b[0m | \u001b[0m-3.122   \u001b[0m | \u001b[0m 2.0     \u001b[0m | \u001b[0m 0.6503  \u001b[0m |\n",
            "| \u001b[0m 10      \u001b[0m | \u001b[0m-4.426   \u001b[0m | \u001b[0m 2.0     \u001b[0m | \u001b[0m 2.194   \u001b[0m |\n",
            "| \u001b[0m 11      \u001b[0m | \u001b[0m-3.085   \u001b[0m | \u001b[0m 2.0     \u001b[0m | \u001b[0m 1.292   \u001b[0m |\n",
            "| \u001b[0m 12      \u001b[0m | \u001b[0m-31.0    \u001b[0m | \u001b[0m 4.0     \u001b[0m | \u001b[0m-3.0     \u001b[0m |\n",
            "=================================================\n"
          ],
          "name": "stdout"
        }
      ]
    },
    {
      "cell_type": "code",
      "metadata": {
        "colab": {
          "base_uri": "https://localhost:8080/"
        },
        "id": "8UpmQkpwikBj",
        "outputId": "95d9e6a5-6553-4a76-b32b-cbe6ef79ce8a"
      },
      "source": [
        "print(optimizer.max)"
      ],
      "execution_count": 10,
      "outputs": [
        {
          "output_type": "stream",
          "text": [
            "{'target': -3.0035155160504425, 'params': {'x': 2.0, 'y': 0.9407082126223019}}\n"
          ],
          "name": "stdout"
        }
      ]
    },
    {
      "cell_type": "code",
      "metadata": {
        "colab": {
          "base_uri": "https://localhost:8080/"
        },
        "id": "g2uiDEDshu9r",
        "outputId": "7a107781-6003-4448-d546-f144334b9156"
      },
      "source": [
        "import numpy as np\n",
        "\n",
        "res = -9999\n",
        "x_val = -9999\n",
        "y_val = -9999\n",
        "\n",
        "iter_cnt = 0\n",
        "\n",
        "for x in np.arange(2, 40.1, 0.1):\n",
        "  for y in np.arange(-3, 30.1, 0.1):\n",
        "    curr_res = black_box_func(x, y)\n",
        "    iter_cnt += 1\n",
        "\n",
        "    if curr_res > res:\n",
        "      res = curr_res\n",
        "      x_val = x\n",
        "      y_val = y\n",
        "\n",
        "print(iter_cnt)\n",
        "print(res)\n",
        "print(x_val)\n",
        "print(y_val)"
      ],
      "execution_count": 11,
      "outputs": [
        {
          "output_type": "stream",
          "text": [
            "126111\n",
            "-3.0\n",
            "2.0\n",
            "1.0000000000000036\n"
          ],
          "name": "stdout"
        }
      ]
    },
    {
      "cell_type": "markdown",
      "metadata": {
        "id": "GMDJ3QmpjJI4"
      },
      "source": [
        "**전범위 조사 결과**\n",
        "\n",
        "$x$ = 2, $y$ = 1~ 일때가 Maximized value\n",
        "\n",
        "**Bayesian** \n",
        "\n",
        "$x$ = 2, $y$ = 0.9407 일때가 Maximized value\n"
      ]
    }
  ]
}