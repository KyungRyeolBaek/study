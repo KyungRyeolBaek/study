{
  "nbformat": 4,
  "nbformat_minor": 0,
  "metadata": {
    "colab": {
      "name": "n122-chi-square-test.ipynb",
      "provenance": [],
      "toc_visible": true
    },
    "kernelspec": {
      "display_name": "Python 3",
      "language": "python",
      "name": "python3"
    },
    "language_info": {
      "codemirror_mode": {
        "name": "ipython",
        "version": 3
      },
      "file_extension": ".py",
      "mimetype": "text/x-python",
      "name": "python",
      "nbconvert_exporter": "python",
      "pygments_lexer": "ipython3",
      "version": "3.8.2"
    }
  },
  "cells": [
    {
      "cell_type": "markdown",
      "metadata": {
        "id": "rQf3dSuc5PqO"
      },
      "source": [
        "<img src='https://i.imgur.com/RDAD11M.png' width = '200' align = 'right'>\n",
        "\n",
        "## *DATA SCIENCE / SECTION 1 / SPRINT 2 / NOTE 2*\n",
        "\n",
        "# 📝 Assignment"
      ]
    },
    {
      "cell_type": "markdown",
      "metadata": {
        "id": "LNRamPl-k4qh"
      },
      "source": [
        "# 카이제곱검정"
      ]
    },
    {
      "cell_type": "markdown",
      "metadata": {
        "id": "11OzdxWTM7UR"
      },
      "source": [
        "\n",
        "## 1. 공공데이터 조작 연습. \n",
        "\n",
        "국가 통계 포털에서 아래 이미지를 참조하여\n",
        "\n",
        "<https://kosis.kr/statisticsList/statisticsListIndex.do?menuId=M_01_01&vwcd=MT_ZTITLE&parmTabId=M_01_01#SelectStatsBoxDiv>\n",
        "\n",
        "**2020년 8월**에 해당하는 규모별 미분양현황 에 대한 데이터셋을 생성하세요. \n",
        "\n",
        "<img src='https://i.imgur.com/aZc4UJO.png' width = 500>\n",
        "\n",
        "- `60m이하`, `60~85m`, `85m초과`의 3개 규모와 (column)\n",
        "- `서울`, `대전`, `대구`, `부산` 4개의 지역을 포함해야합니다. (row)\n",
        "- 데이터가 없는 경우는 0으로 처리하세요.\n",
        "\n",
        "이후 데이터셋을 colab으로 불러오세요. 이때 변수의 이름은 `df`를 사용합니다.\n"
      ]
    },
    {
      "cell_type": "code",
      "metadata": {
        "id": "pFZNKgq323kW"
      },
      "source": [
        "import pandas as pd\n",
        "\n",
        "df = pd.read_csv('/content/규모별_미분양현황_20210514121855.csv', encoding='euc-kr')\n",
        "df.columns = ['시도', '부문', '규모', '2020_08', '2020_09']"
      ],
      "execution_count": 96,
      "outputs": []
    },
    {
      "cell_type": "code",
      "metadata": {
        "colab": {
          "base_uri": "https://localhost:8080/",
          "height": 204
        },
        "id": "oIqLRz5740vx",
        "outputId": "6ea51879-0ef2-4445-9c88-8e46286b69fd"
      },
      "source": [
        "df_8 = df.pivot_table ( index = '시도' ,  columns = '규모' ,  values = '2020_08', aggfunc='sum')\n",
        "df_8 = df_8.rename(columns = {'60㎡이하' : '~60㎡', '85㎡초과' :'85㎡~'})\n",
        "df_8[['60∼85㎡',\t'~60㎡',\t'85㎡~']] = df_8[['60∼85㎡',\t'~60㎡',\t'85㎡~']].apply(pd.to_numeric)\n",
        "col0, col1, col2 =[df_8.columns[0]] , [df_8.columns[1]] , [df_8.columns[2]]\n",
        "new_col=col1+col0+col2\n",
        "df_8=df_8[new_col]\n",
        "df_8"
      ],
      "execution_count": 97,
      "outputs": [
        {
          "output_type": "execute_result",
          "data": {
            "text/html": [
              "<div>\n",
              "<style scoped>\n",
              "    .dataframe tbody tr th:only-of-type {\n",
              "        vertical-align: middle;\n",
              "    }\n",
              "\n",
              "    .dataframe tbody tr th {\n",
              "        vertical-align: top;\n",
              "    }\n",
              "\n",
              "    .dataframe thead th {\n",
              "        text-align: right;\n",
              "    }\n",
              "</style>\n",
              "<table border=\"1\" class=\"dataframe\">\n",
              "  <thead>\n",
              "    <tr style=\"text-align: right;\">\n",
              "      <th>규모</th>\n",
              "      <th>~60㎡</th>\n",
              "      <th>60∼85㎡</th>\n",
              "      <th>85㎡~</th>\n",
              "    </tr>\n",
              "    <tr>\n",
              "      <th>시도</th>\n",
              "      <th></th>\n",
              "      <th></th>\n",
              "      <th></th>\n",
              "    </tr>\n",
              "  </thead>\n",
              "  <tbody>\n",
              "    <tr>\n",
              "      <th>대구</th>\n",
              "      <td>143</td>\n",
              "      <td>1437</td>\n",
              "      <td>44</td>\n",
              "    </tr>\n",
              "    <tr>\n",
              "      <th>대전</th>\n",
              "      <td>782</td>\n",
              "      <td>1</td>\n",
              "      <td>0</td>\n",
              "    </tr>\n",
              "    <tr>\n",
              "      <th>부산</th>\n",
              "      <td>577</td>\n",
              "      <td>735</td>\n",
              "      <td>142</td>\n",
              "    </tr>\n",
              "    <tr>\n",
              "      <th>서울</th>\n",
              "      <td>54</td>\n",
              "      <td>2</td>\n",
              "      <td>0</td>\n",
              "    </tr>\n",
              "  </tbody>\n",
              "</table>\n",
              "</div>"
            ],
            "text/plain": [
              "규모  ~60㎡  60∼85㎡  85㎡~\n",
              "시도                    \n",
              "대구   143    1437    44\n",
              "대전   782       1     0\n",
              "부산   577     735   142\n",
              "서울    54       2     0"
            ]
          },
          "metadata": {
            "tags": []
          },
          "execution_count": 97
        }
      ]
    },
    {
      "cell_type": "code",
      "metadata": {
        "id": "IhWdLFndyVAB"
      },
      "source": [
        "col = ['~60m2', '60~85m2', '85m2~']\n",
        "row = ['서울', '대전', '대구', '부산']"
      ],
      "execution_count": 98,
      "outputs": []
    },
    {
      "cell_type": "markdown",
      "metadata": {
        "id": "RXPZZuAi3ccI"
      },
      "source": [
        "## 2. 지역에 대해서 one-sample chi-square test를 실행, 해당 결과를 `chi1`에 저장 후 설명해보세요.\n",
        "\n",
        "예시) 만약 **9월달 데이터**를 기준으로 한다면\n",
        "```python\n",
        " [0+0+0+52+2+0, 0+0+0+590+665+142, 0+0+0+113+1061+42, 0+0+0+772+1+0]\n",
        "```\n",
        "을 비교 하게 될 것입니다.\n",
        "\n",
        "\n"
      ]
    },
    {
      "cell_type": "markdown",
      "metadata": {
        "id": "h8pPw-uqQnJL"
      },
      "source": [
        "χ2  통계치 의 계산식\n",
        "χ2=∑(observedi−expectedi)2/(expectedi)\n",
        "\n",
        "p-value = 1 - stats.chi2.pdf(x2, df = (자유도))\n",
        "\n",
        " - 귀무가설 : 지역별 미분양 현황의 값은 지역과 독립적일 것이다. / 지역에 상관없이 공평하게 나올 것이다. ( p-value = 0 < 0.05, 기각 )\n",
        " - 대안가설 : 지역별 미분양 현황의 값은 지역과 독립적이지 않을 것이다. / 지역에 상관없이 공평하게 나오지 않을 것이다. ( p-value < 0.05, 채택 )\n",
        "\n",
        " - 따라서 지역별 미분양 현황의 값은 지역과 연관이 있다."
      ]
    },
    {
      "cell_type": "code",
      "metadata": {
        "id": "oIMzAkXks-Sv",
        "colab": {
          "base_uri": "https://localhost:8080/"
        },
        "outputId": "eb33f807-1874-432d-ab94-dd3eae59483e"
      },
      "source": [
        "import numpy as np\n",
        "from scipy import stats\n",
        "df_one_chi = df_8.sum(axis = 1)\n",
        "exp = np.sum(df_one_chi) / len(df_one_chi)\n",
        "one_chi_x2 = ((df_one_chi - exp)**2) / exp\n",
        "chi1 = one_chi_x2.sum()\n",
        "p_value = 1 - stats.chi2.cdf(chi1, df = (4-1))\n",
        "chi1, p_value"
      ],
      "execution_count": 99,
      "outputs": [
        {
          "output_type": "execute_result",
          "data": {
            "text/plain": [
              "(1564.4572376818994, 0.0)"
            ]
          },
          "metadata": {
            "tags": []
          },
          "execution_count": 99
        }
      ]
    },
    {
      "cell_type": "code",
      "metadata": {
        "colab": {
          "base_uri": "https://localhost:8080/"
        },
        "id": "X2rCwwYuS6YM",
        "outputId": "5824c1fc-5a95-4d37-f6ef-e75fcdfcc9c2"
      },
      "source": [
        "from scipy.stats import chisquare\n",
        "chi1 = chisquare(df_one_chi)[0]\n",
        "chisquare(df_one_chi)"
      ],
      "execution_count": 100,
      "outputs": [
        {
          "output_type": "execute_result",
          "data": {
            "text/plain": [
              "Power_divergenceResult(statistic=1564.4572376818994, pvalue=0.0)"
            ]
          },
          "metadata": {
            "tags": []
          },
          "execution_count": 100
        }
      ]
    },
    {
      "cell_type": "markdown",
      "metadata": {
        "id": "eMDtugVNRu0q"
      },
      "source": [
        "## 3. 지역과 규모에 대해서 two-sample chi-square test를 실행, 해당 결과를 `chi2`에 저장 후 설명해보세요.\n",
        "\n",
        "예시) **9월달 데이터**를 기준으로 한다면\n",
        "\n",
        "| |-60 | 60-85 | 85- |\n",
        "|:-:|:-:|:-:|:-:|\n",
        "|서울|52|2|0|\n",
        "|대전|772|1|0|\n",
        "|대구|113|1061|42|\n",
        "|부산|590|665|142|\n",
        "\n",
        "에 대해서 검정해야 할 겁니다.\n",
        "\n",
        "# Result\n",
        "\n",
        " - 귀무가설 : 미분양 현황의 값은 지역과 규모에 따라 독립적이다. / 통계적으로 유의미한 관계가 없다. ( p-value = 0 < 0.05, 기각 )\n",
        " - 대안가설 : 미분양 현황의 값은 지역과 규모에 따라 독립적이지 않다. / 통계적으로 유의미한 관계가 있다. ( p-value < 0.05, 채택 )\n",
        "\n",
        " - 따라서 미분양 현황의 값은 지역과 규모에 따라 통계적으로 유의미한 관계가 있다."
      ]
    },
    {
      "cell_type": "code",
      "metadata": {
        "id": "Ckcr4A4FM7cs",
        "colab": {
          "base_uri": "https://localhost:8080/"
        },
        "outputId": "d4d01e9d-af15-40ee-ef53-0b78133797c1"
      },
      "source": [
        "from scipy.stats import chi2_contingency\n",
        "chi2 = chi2_contingency(df_8)[0]\n",
        "chi2_contingency(df_8)[0]\n",
        "# chi2_contingency(df_8, correction = False) # correction = 모집단에서 비교를 하느냐(Faluse) , 수집된 데이터에서 비교를 하느냐(True), base = True\n",
        "print(' chi2 = {0}\\n p_value = {1}\\n 자유도 = {2}\\n array = \\n{3}'.format(chi2_contingency(df_8)[0], chi2_contingency(df_8)[1], chi2_contingency(df_8)[2], chi2_contingency(df_8)[3]))"
      ],
      "execution_count": 101,
      "outputs": [
        {
          "output_type": "stream",
          "text": [
            " chi2 = 2064.5767314171994\n",
            " p_value = 0.0\n",
            " 자유도 = 6\n",
            " array = \n",
            "[[645.12228746 901.76155221  77.11616033]\n",
            " [311.04110288 434.77789124  37.18100587]\n",
            " [577.59101353 807.36533061  69.04365586]\n",
            " [ 22.24559612  31.09522594   2.65917794]]\n"
          ],
          "name": "stdout"
        }
      ]
    },
    {
      "cell_type": "markdown",
      "metadata": {
        "id": "Tf7XPpBP6YqX"
      },
      "source": [
        "### 4. 2번에 대해서 NumPy 를 사용하여 (Scipy를 사용하지 않고) $\\chi^2$ test 시행 후 2번의 결과와 비교해보세요. \n",
        "\n",
        "- `obs`, `exp`, `chi`라는 변수를 사용해야합니다.\n",
        "\n",
        "이 후 `chi2_contingency()`의 결과물과 비교해보세요\n",
        "\n",
        "\\begin{align}\n",
        "expected_{i,j} =\\frac{(row_{i} \\text{total})(column_{j} \\text{total}) }{(\\text{total observations})}  \n",
        "\\end{align}\n",
        "\n",
        "expectedi,j=(rowitotal)(columnjtotal)/(total observations)\n",
        "\n",
        "\\begin{align}\n",
        "\\chi^2 = \\sum \\frac{(observed_i-expected_i)^2}{(expected_i)}\n",
        "\\end{align}\n",
        "\n",
        "χ2=∑(observedi−expectedi)2/(expectedi)\n",
        "\n",
        "# Result :\n",
        "\n",
        " 문제 2번과 차이 없음, p-value도 동일한 0이 나옴"
      ]
    },
    {
      "cell_type": "code",
      "metadata": {
        "colab": {
          "base_uri": "https://localhost:8080/"
        },
        "id": "2ebb8MP2r5Di",
        "outputId": "057219de-d3f6-4b12-af26-85a7e7294349"
      },
      "source": [
        "import numpy as np\n",
        "from scipy import stats\n",
        "obs = df_8.sum(axis = 1)\n",
        "exp = np.sum(obs) / len(obs)\n",
        "one_chi_x2 = ((obs - exp)**2) / exp\n",
        "chi = one_chi_x2.sum()\n",
        "p_value = 1 - stats.chi2.cdf(chi, df = (4-1))\n",
        "print(chi, p_value)\n",
        "chi2_contingency(df_8)"
      ],
      "execution_count": 102,
      "outputs": [
        {
          "output_type": "stream",
          "text": [
            "1564.4572376818994 0.0\n"
          ],
          "name": "stdout"
        },
        {
          "output_type": "execute_result",
          "data": {
            "text/plain": [
              "(2064.5767314171994, 0.0, 6, array([[645.12228746, 901.76155221,  77.11616033],\n",
              "        [311.04110288, 434.77789124,  37.18100587],\n",
              "        [577.59101353, 807.36533061,  69.04365586],\n",
              "        [ 22.24559612,  31.09522594,   2.65917794]]))"
            ]
          },
          "metadata": {
            "tags": []
          },
          "execution_count": 102
        }
      ]
    },
    {
      "cell_type": "code",
      "metadata": {
        "colab": {
          "base_uri": "https://localhost:8080/"
        },
        "id": "ca2XVdr-pc2Z",
        "outputId": "b7c1b0c9-62b8-4739-e990-18fb02ee619c"
      },
      "source": [
        "chi"
      ],
      "execution_count": 103,
      "outputs": [
        {
          "output_type": "execute_result",
          "data": {
            "text/plain": [
              "1564.4572376818994"
            ]
          },
          "metadata": {
            "tags": []
          },
          "execution_count": 103
        }
      ]
    },
    {
      "cell_type": "code",
      "metadata": {
        "id": "OjFt0b1-wrFL",
        "colab": {
          "base_uri": "https://localhost:8080/"
        },
        "outputId": "d809ea46-30ff-4c87-ff3d-37837e037866"
      },
      "source": [
        "# 헐.. 3번 결과와 비교했음.\n",
        "\n",
        "sum_col, sum_row = np.sum(df_8, axis = 0), np.sum(df_8, axis = 1)\n",
        "total_obs = np.sum(np.sum(df_8))\n",
        "exp2 = np.array([[sum_row[i]*sum_col[j] for j in range(3)] for i in range(4)]) / total_obs\n",
        "two_chi_x2 = ((df_8 - exp2)**2) / exp2\n",
        "chi2 = np.sum(np.sum(two_chi_x2))\n",
        "chi2_p_value = 1 - stats.chi2.cdf(chi2, df = (4-1)*(3-1))\n",
        "print(chi2 , chi2_p_value)\n",
        "chi2_contingency(df_8)"
      ],
      "execution_count": 104,
      "outputs": [
        {
          "output_type": "stream",
          "text": [
            "2064.5767314171994 0.0\n"
          ],
          "name": "stdout"
        },
        {
          "output_type": "execute_result",
          "data": {
            "text/plain": [
              "(2064.5767314171994, 0.0, 6, array([[645.12228746, 901.76155221,  77.11616033],\n",
              "        [311.04110288, 434.77789124,  37.18100587],\n",
              "        [577.59101353, 807.36533061,  69.04365586],\n",
              "        [ 22.24559612,  31.09522594,   2.65917794]]))"
            ]
          },
          "metadata": {
            "tags": []
          },
          "execution_count": 104
        }
      ]
    },
    {
      "cell_type": "code",
      "metadata": {
        "colab": {
          "base_uri": "https://localhost:8080/"
        },
        "id": "6dLJxbXOmWZ5",
        "outputId": "7adbd1e2-d0c5-4b4d-ee68-fb453a16d9a1"
      },
      "source": [
        "df_8.shape"
      ],
      "execution_count": 105,
      "outputs": [
        {
          "output_type": "execute_result",
          "data": {
            "text/plain": [
              "(4, 3)"
            ]
          },
          "metadata": {
            "tags": []
          },
          "execution_count": 105
        }
      ]
    },
    {
      "cell_type": "code",
      "metadata": {
        "colab": {
          "base_uri": "https://localhost:8080/"
        },
        "id": "NOy_OimTmjWA",
        "outputId": "1869a4da-8311-4859-c9a7-c4eeb996bc25"
      },
      "source": [
        "df_8.sum().sum()"
      ],
      "execution_count": 106,
      "outputs": [
        {
          "output_type": "execute_result",
          "data": {
            "text/plain": [
              "3917"
            ]
          },
          "metadata": {
            "tags": []
          },
          "execution_count": 106
        }
      ]
    },
    {
      "cell_type": "code",
      "metadata": {
        "colab": {
          "base_uri": "https://localhost:8080/"
        },
        "id": "FMlWNX5umtEr",
        "outputId": "d7fd35cb-7a19-4786-b51a-4f1fd17415cd"
      },
      "source": [
        "round(chi1)"
      ],
      "execution_count": 107,
      "outputs": [
        {
          "output_type": "execute_result",
          "data": {
            "text/plain": [
              "1564"
            ]
          },
          "metadata": {
            "tags": []
          },
          "execution_count": 107
        }
      ]
    },
    {
      "cell_type": "code",
      "metadata": {
        "colab": {
          "base_uri": "https://localhost:8080/"
        },
        "id": "fTno8OtFm18h",
        "outputId": "26442880-4ff6-49b0-8918-ca847b9023c7"
      },
      "source": [
        "round(chi2)"
      ],
      "execution_count": 108,
      "outputs": [
        {
          "output_type": "execute_result",
          "data": {
            "text/plain": [
              "2065"
            ]
          },
          "metadata": {
            "tags": []
          },
          "execution_count": 108
        }
      ]
    },
    {
      "cell_type": "code",
      "metadata": {
        "colab": {
          "base_uri": "https://localhost:8080/"
        },
        "id": "IX6d8YoOnAEB",
        "outputId": "618a918f-ab43-4d28-82c8-fe3d84e109dd"
      },
      "source": [
        "max(obs)"
      ],
      "execution_count": 109,
      "outputs": [
        {
          "output_type": "execute_result",
          "data": {
            "text/plain": [
              "1624"
            ]
          },
          "metadata": {
            "tags": []
          },
          "execution_count": 109
        }
      ]
    },
    {
      "cell_type": "code",
      "metadata": {
        "colab": {
          "base_uri": "https://localhost:8080/"
        },
        "id": "mUUYO_uQnIkj",
        "outputId": "8d30f415-683e-427d-ab99-523ab3d75702"
      },
      "source": [
        "exp"
      ],
      "execution_count": 110,
      "outputs": [
        {
          "output_type": "execute_result",
          "data": {
            "text/plain": [
              "979.25"
            ]
          },
          "metadata": {
            "tags": []
          },
          "execution_count": 110
        }
      ]
    },
    {
      "cell_type": "code",
      "metadata": {
        "colab": {
          "base_uri": "https://localhost:8080/"
        },
        "id": "Ro3jfo_vnlsC",
        "outputId": "c19fd038-808c-4763-facc-d9d5c3cf864a"
      },
      "source": [
        "round(chi)"
      ],
      "execution_count": 111,
      "outputs": [
        {
          "output_type": "execute_result",
          "data": {
            "text/plain": [
              "1564"
            ]
          },
          "metadata": {
            "tags": []
          },
          "execution_count": 111
        }
      ]
    },
    {
      "cell_type": "markdown",
      "metadata": {
        "id": "a2BrKHq8m8AS"
      },
      "source": [
        "## 🔥 도전 과제\n",
        "\n",
        "아래 세가지를 다하면 됩니다.\n",
        "\n",
        "### 1. Function\n",
        "\n",
        "4번에서 사용한 one sample chisquare test를 함수의 형태로 변경하세요."
      ]
    },
    {
      "cell_type": "code",
      "metadata": {
        "id": "AntnuAkFm-JQ",
        "colab": {
          "base_uri": "https://localhost:8080/"
        },
        "outputId": "4ec07862-d114-4c26-e1f1-dec6c27143ea"
      },
      "source": [
        "v1 = [18,22,20,15,23,22]\n",
        "v2 = [5,23,26,19,24,23]\n",
        "\n",
        "def myChisq(value):\n",
        "  import numpy as np\n",
        "  from scipy import stats\n",
        "  obs = value                   # 입력값\n",
        "  exp = np.sum(obs) / len(obs)  # 기대값\n",
        "  x2 = ((obs-exp)**2) / exp     # x**2\n",
        "  chi = x2.sum()                # chisqure\n",
        "  p_value = 1 - stats.chi2.cdf(chi, df = len(value)-1)  # p_value\n",
        "  return print('value = {}, chisquare = {} , p_value = {}'.format(value, chi, p_value)) # 내용을 채우세요.\n",
        "\n",
        "myChisq(v1) \n",
        "\n",
        "# chisquare값과 pvalue를 출력해야합니다.\n",
        "\n",
        "myChisq(v2)"
      ],
      "execution_count": 112,
      "outputs": [
        {
          "output_type": "stream",
          "text": [
            "value = [18, 22, 20, 15, 23, 22], chisquare = 2.3000000000000003 , p_value = 0.8062668698851285\n",
            "value = [5, 23, 26, 19, 24, 23], chisquare = 14.8 , p_value = 0.011251979028327308\n"
          ],
          "name": "stdout"
        }
      ]
    },
    {
      "cell_type": "markdown",
      "metadata": {
        "id": "4ohsJhQUmEuS"
      },
      "source": [
        "### 2. ANOVA\n",
        "\n",
        "아래 링크를 참조하여 ANOVA 에 대한 글을 읽고\n",
        "\n",
        "<https://partrita.github.io/posts/ANOVA-python/>\n",
        "\n",
        "다음 `4개 그룹에 대해서 평균의 차이가 있는지`에 대한 가설 검정을 시행하세요.\n",
        "\n",
        "A : `38 33 35 92 76 97 88 41 11  9`\n",
        "\n",
        "B : `18 52 62 48 30 40 87 12 97 82`\n",
        "\n",
        "C :  `28 90  5 49 66 73 96 80  4 17`\n",
        "\n",
        "D : ` 8 99  4 12  7 64 18 10  9 20`\n",
        "\n",
        "# Result\n",
        " - 귀무가설 : ' 4개 그룹에 대해서 평균의 차이가 유의하게 나지 않는다. ' ( p_value = 0.1792 > 0.05, 채택)\n",
        " - 대안가설 : ' 4개 그룹에 대해서 평균의 차이가 유의하게 난다. ' ( p_value > 0.05, 기각 )\n",
        "\n",
        " - 따라서 4개의 그룹에 대한 평균 차이가 유의하게 나지 않는다."
      ]
    },
    {
      "cell_type": "code",
      "metadata": {
        "id": "DMebi5_4UaSn",
        "colab": {
          "base_uri": "https://localhost:8080/",
          "height": 265
        },
        "outputId": "fc88aaa7-b150-4e80-a879-5b194499221f"
      },
      "source": [
        "import pandas as pd\n",
        "\n",
        "df_challenge2 = pd.DataFrame({ 'A' : [38, 33, 35, 92, 76, 97, 88, 41, 11, 9], 'B' : [18, 52, 62, 48, 30, 40, 87, 12, 97, 82], 'C' : [28, 90, 5, 49, 66, 73, 96, 80, 4, 17], 'D' : [8, 99, 4, 12, 7, 64, 18, 10, 9, 20]})\n",
        "import matplotlib.pyplot as plt\n",
        "import seaborn as sns\n",
        "ax = sns.boxplot(data=df_challenge2, color='#99c2a2');\n",
        "ax = sns.swarmplot(data=df_challenge2, color='#7d0013');\n",
        "plt.show()"
      ],
      "execution_count": 113,
      "outputs": [
        {
          "output_type": "display_data",
          "data": {
            "image/png": "[encoded data removed]",
            "text/plain": [
              "<Figure size 432x288 with 1 Axes>"
            ]
          },
          "metadata": {
            "tags": [],
            "needs_background": "light"
          }
        }
      ]
    },
    {
      "cell_type": "code",
      "metadata": {
        "colab": {
          "base_uri": "https://localhost:8080/"
        },
        "id": "7gI3IY3gzHMr",
        "outputId": "e75b8c38-cc0f-42b2-c4ca-39cba76944a0"
      },
      "source": [
        "stats.f_oneway(df_challenge2['A'], df_challenge2['B'], df_challenge2['C'], df_challenge2['D'])"
      ],
      "execution_count": 114,
      "outputs": [
        {
          "output_type": "execute_result",
          "data": {
            "text/plain": [
              "F_onewayResult(statistic=1.7249594239128412, pvalue=0.17920877113948797)"
            ]
          },
          "metadata": {
            "tags": []
          },
          "execution_count": 114
        }
      ]
    },
    {
      "cell_type": "markdown",
      "metadata": {
        "id": "cWmSdvBy8w4B"
      },
      "source": [
        "## 3. Sign Test\n",
        "\n",
        "아래 링크를 참조하여 Sign Test에 대한 글을 읽고\n",
        "\n",
        "<https://en.wikipedia.org/wiki/Sign_test>\n",
        "\n",
        "다음 데이터에서 두 그룹간에 차이가 있다에 대한 Sign Test의 과정과 결과를 설명하세요\n",
        "\n",
        "|A|B|\n",
        "|:-:|:-:|\n",
        "|142|138|\n",
        "|140|136|\n",
        "|144|147|\t\n",
        "|144|139|\t\n",
        "|142|143|\t\n",
        "|146|141|\t\n",
        "|149|143|\t\n",
        "|150|145|\t\n",
        "|142|136|\t\n",
        "|148|146|\t\n",
        "\n",
        "# Result\n",
        " - 귀무가설(H0) : 두 그룹간에 차이가 없을 것이다. ( 평균과 같을 것이다. ) ( p = 0.3437 > 0.05, 채택 )\n",
        " - 대안가설(Ha) : 두 그룹간에 차이가 있을 것이다. ( 기준 A : B보다 큰 경우 7개, B보다 작은 경우 3개) ( p > 0.05, 기각 )"
      ]
    },
    {
      "cell_type": "code",
      "metadata": {
        "id": "PJcI-oha9Sl9",
        "colab": {
          "base_uri": "https://localhost:8080/"
        },
        "outputId": "31ae3d25-24ef-4b1a-c0bc-4265cab40f99"
      },
      "source": [
        "import pandas as pd\n",
        "from scipy import stats\n",
        "# pip install --upgrade --no-deps statsmodels\n",
        "import statsmodels.api\n",
        "A = [142, 140, 144, 144, 142, 146, 149, 150, 142, 148]\n",
        "B = [138, 136, 147, 139, 143, 141, 143, 145, 136, 146]\n",
        "df_challenge3 = pd.DataFrame({'A' : A, 'B' : B})\n",
        "challenge_p_value = statsmodels.stats.descriptivestats.sign_test(df_challenge3['B']-(np.sum(A)/len(A)))[1]\n",
        "statsmodels.stats.descriptivestats.sign_test(df_challenge3['B']-(np.sum(A)/len(A)))\n",
        "# M , p_value\n",
        "# M = (N(+) - N(-))/2\n",
        "# M = ( 3 - 7 ) / 2 = -2"
      ],
      "execution_count": 115,
      "outputs": [
        {
          "output_type": "execute_result",
          "data": {
            "text/plain": [
              "(-2.0, 0.3437499999999999)"
            ]
          },
          "metadata": {
            "tags": []
          },
          "execution_count": 115
        }
      ]
    },
    {
      "cell_type": "code",
      "metadata": {
        "colab": {
          "base_uri": "https://localhost:8080/"
        },
        "id": "u2b4Wt258wt2",
        "outputId": "22df6a18-6819-46a4-bce9-cabdc4768c61"
      },
      "source": [
        "A_n = len(A)\n",
        "A_mean = np.sum(A) / A_n\n",
        "tem = B - A_mean\n",
        "sign = ['+' if i > 0 else '-' for i in tem]\n",
        "sign_pos = sign.count('+')\n",
        "sign_neg = sign.count('-')\n",
        "M = (sign_pos - sign_neg) / 2\n",
        "(sign_pos - sign_neg) / 2\n",
        "\n",
        "# p_value를 보는 법을 모르겠습니다.. ㅠㅠ\n",
        "from  scipy.stats  import  binom \n",
        "import matplotlib.pylab as plt\n",
        "binom(min(sign_pos, sign_neg), sign_pos + sign_neg, .5) # p_value"
      ],
      "execution_count": 116,
      "outputs": [
        {
          "output_type": "execute_result",
          "data": {
            "text/plain": [
              "<scipy.stats._distn_infrastructure.rv_frozen at 0x7fc201f39890>"
            ]
          },
          "metadata": {
            "tags": []
          },
          "execution_count": 116
        }
      ]
    },
    {
      "cell_type": "code",
      "metadata": {
        "colab": {
          "base_uri": "https://localhost:8080/"
        },
        "id": "iOa7C7pbCDSk",
        "outputId": "5750e8af-53cb-47b8-cfa2-38134895c5be"
      },
      "source": [
        "print('표본의 수 = {}개, A의 평균 = {}, A가 B보다 큰경우(-) = {}개, A가 B보다 작은경우(+) = {}개, M = {}, p_value = {}'.format(A_n, A_mean, sign_neg, sign_pos, M, challenge_p_value))"
      ],
      "execution_count": 117,
      "outputs": [
        {
          "output_type": "stream",
          "text": [
            "표본의 수 = 10개, A의 평균 = 144.7, A가 B보다 큰경우(-) = 7개, A가 B보다 작은경우(+) = 3개, M = -2.0, p_value = 0.3437499999999999\n"
          ],
          "name": "stdout"
        }
      ]
    }
  ]
}