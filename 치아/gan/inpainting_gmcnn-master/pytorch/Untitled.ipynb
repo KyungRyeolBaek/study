{
 "cells": [
  {
   "cell_type": "code",
   "execution_count": 5,
   "metadata": {},
   "outputs": [
    {
     "ename": "SyntaxError",
     "evalue": "from __future__ imports must occur at the beginning of the file (<ipython-input-5-607ab17990ff>, line 12)",
     "output_type": "error",
     "traceback": [
      "\u001b[1;36m  File \u001b[1;32m\"<ipython-input-5-607ab17990ff>\"\u001b[1;36m, line \u001b[1;32m12\u001b[0m\n\u001b[1;33m    \u001b[0m\n\u001b[1;37m    ^\u001b[0m\n\u001b[1;31mSyntaxError\u001b[0m\u001b[1;31m:\u001b[0m from __future__ imports must occur at the beginning of the file\n"
     ]
    }
   ],
   "source": [
    "import numpy as np\n",
    "import cv2\n",
    "import os\n",
    "import subprocess\n",
    "import glob\n",
    "from options.test_options import TestOptions\n",
    "from model.net import InpaintingModel_GMCNN\n",
    "from util.utils import generate_rect_mask, generate_stroke_mask, getLatest\n",
    "from __future__ import print_function\n",
    "import torch\n",
    "os.environ['CUDA_VISIBLE_DEVICES']=str(np.argmax([int(x.split()[2]) for x in subprocess.Popen(\"nvidia-smi -q -d Memory | grep -A4 GPU | grep Free\", shell=True, stdout=subprocess.PIPE).stdout.readlines()]))\n",
    "\n",
    "config = TestOptions().parse()\n",
    "\n",
    "if os.path.isfile(config.dataset_path):\n",
    "    pathfile = open(config.dataset_path, 'rt').read().splitlines()\n",
    "elif os.path.isdir(config.dataset_path):\n",
    "    pathfile = glob.glob(os.path.join(config.dataset_path, '*.png'))\n",
    "else:\n",
    "    print('Invalid testing data file/folder path.')\n",
    "    exit(1)\n",
    "total_number = len(pathfile)\n",
    "test_num = total_number if config.test_num == -1 else min(total_number, config.test_num)\n",
    "print('The total number of testing images is {}, and we take {} for test.'.format(total_number, test_num))\n",
    "\n",
    "print('configuring model..')\n",
    "ourModel = InpaintingModel_GMCNN(in_channels=4, opt=config)\n",
    "ourModel.print_networks()\n",
    "if config.load_model_dir != '':\n",
    "    print('Loading pretrained model from {}'.format(config.load_model_dir))\n",
    "    ourModel.load_networks(getLatest(os.path.join(config.load_model_dir, '*.pth')))\n",
    "    print('Loading done.')\n",
    "\n",
    "if config.random_mask:\n",
    "    np.random.seed(config.seed)\n",
    "\n",
    "for i in range(test_num):\n",
    "    if config.mask_type == 'rect':\n",
    "        mask, _ = generate_rect_mask(config.img_shapes, config.mask_shapes, config.random_mask)\n",
    "    else:\n",
    "        mask = generate_stroke_mask(im_size=(config.img_shapes[0], config.img_shapes[1]),\n",
    "                                    parts=8, maxBrushWidth=20, maxLength=100, maxVertex=20)\n",
    "    image = cv2.imread(pathfile[i])\n",
    "    image = cv2.cvtColor(image, cv2.COLOR_BGR2RGB)\n",
    "    h, w = image.shape[:2]\n",
    "\n",
    "    if h >= config.img_shapes[0] and w >= config.img_shapes[1]:\n",
    "        h_start = (h-config.img_shapes[0]) // 2\n",
    "        w_start = (w-config.img_shapes[1]) // 2\n",
    "        image = image[h_start: h_start+config.img_shapes[0], w_start: w_start+config.img_shapes[1], :]\n",
    "    else:\n",
    "        t = min(h, w)\n",
    "        image = image[(h-t)//2:(h-t)//2+t, (w-t)//2:(w-t)//2+t, :]\n",
    "        image = cv2.resize(image, (config.img_shapes[1], config.img_shapes[0]))\n",
    "\n",
    "    image = np.transpose(image, [2, 0, 1])\n",
    "    image = np.expand_dims(image, axis=0)\n",
    "    image_vis = image * (1-mask) + 255 * mask\n",
    "    image_vis = np.transpose(image_vis[0][::-1,:,:], [1, 2, 0])\n",
    "    cv2.imwrite(os.path.join(config.saving_path, 'input_{:03d}.png'.format(i)), image_vis.astype(np.uint8))\n",
    "\n",
    "    h, w = image.shape[2:]\n",
    "    grid = 4\n",
    "    image = image[:, :, :h // grid * grid, :w // grid * grid]\n",
    "    mask = mask[:, :, :h // grid * grid, :w // grid * grid]\n",
    "    result = ourModel.evaluate(image, mask)\n",
    "    result = np.transpose(result[0][::-1,:,:], [1, 2, 0])\n",
    "    cv2.imwrite(os.path.join(config.saving_path, '{:03d}.png'.format(i)), result)\n",
    "    print(' > {} / {}'.format(i+1, test_num))\n",
    "print('done.')\n"
   ]
  },
  {
   "cell_type": "code",
   "execution_count": null,
   "metadata": {},
   "outputs": [],
   "source": []
  }
 ],
 "metadata": {
  "kernelspec": {
   "display_name": "Python 3",
   "language": "python",
   "name": "python3"
  },
  "language_info": {
   "codemirror_mode": {
    "name": "ipython",
    "version": 3
   },
   "file_extension": ".py",
   "mimetype": "text/x-python",
   "name": "python",
   "nbconvert_exporter": "python",
   "pygments_lexer": "ipython3",
   "version": "3.7.6"
  }
 },
 "nbformat": 4,
 "nbformat_minor": 4
}
