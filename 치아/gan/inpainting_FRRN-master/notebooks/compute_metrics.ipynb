{
 "cells": [
  {
   "cell_type": "code",
   "execution_count": 1,
   "metadata": {},
   "outputs": [],
   "source": [
    "import re\n",
    "import os\n",
    "import glob\n",
    "import math\n",
    "import numpy as np\n",
    "from tqdm import tqdm\n",
    "from scipy.misc import imread"
   ]
  },
  {
   "cell_type": "code",
   "execution_count": 2,
   "metadata": {},
   "outputs": [],
   "source": [
    "# !pip install Pillow\n",
    "# !pip install scipy==1.1.0"
   ]
  },
  {
   "cell_type": "code",
   "execution_count": 7,
   "metadata": {},
   "outputs": [
    {
     "ename": "FileNotFoundError",
     "evalue": "[WinError 3] 지정된 경로를 찾을 수 없습니다: '../../Datasets/Huawei/DATASET_INPAINTING/train_gt'",
     "output_type": "error",
     "traceback": [
      "\u001b[1;31m---------------------------------------------------------------------------\u001b[0m",
      "\u001b[1;31mFileNotFoundError\u001b[0m                         Traceback (most recent call last)",
      "\u001b[1;32m<ipython-input-7-9347907d88ec>\u001b[0m in \u001b[0;36m<module>\u001b[1;34m\u001b[0m\n\u001b[0;32m      1\u001b[0m \u001b[0mpredictions_path\u001b[0m \u001b[1;33m=\u001b[0m \u001b[1;34m'../../Datasets/Huawei/DATASET_INPAINTING/train_gt'\u001b[0m\u001b[1;33m\u001b[0m\u001b[1;33m\u001b[0m\u001b[0m\n\u001b[0;32m      2\u001b[0m \u001b[1;33m\u001b[0m\u001b[0m\n\u001b[1;32m----> 3\u001b[1;33m \u001b[1;32mfor\u001b[0m \u001b[0mfilename\u001b[0m \u001b[1;32min\u001b[0m \u001b[0mtqdm\u001b[0m\u001b[1;33m(\u001b[0m\u001b[0mos\u001b[0m\u001b[1;33m.\u001b[0m\u001b[0mlistdir\u001b[0m\u001b[1;33m(\u001b[0m\u001b[0mpredictions_path\u001b[0m\u001b[1;33m)\u001b[0m\u001b[1;33m)\u001b[0m\u001b[1;33m:\u001b[0m\u001b[1;33m\u001b[0m\u001b[1;33m\u001b[0m\u001b[0m\n\u001b[0m\u001b[0;32m      4\u001b[0m     \u001b[1;32mif\u001b[0m \u001b[1;34m'_gt'\u001b[0m \u001b[1;32min\u001b[0m \u001b[0mfilename\u001b[0m\u001b[1;33m:\u001b[0m\u001b[1;33m\u001b[0m\u001b[1;33m\u001b[0m\u001b[0m\n\u001b[0;32m      5\u001b[0m         \u001b[1;32mtry\u001b[0m\u001b[1;33m:\u001b[0m\u001b[1;33m\u001b[0m\u001b[1;33m\u001b[0m\u001b[0m\n",
      "\u001b[1;31mFileNotFoundError\u001b[0m: [WinError 3] 지정된 경로를 찾을 수 없습니다: '../../Datasets/Huawei/DATASET_INPAINTING/train_gt'"
     ]
    }
   ],
   "source": [
    "predictions_path = '../../Datasets/Huawei/DATASET_INPAINTING/train_gt'\n",
    "\n",
    "for filename in tqdm(os.listdir(predictions_path)):\n",
    "    if '_gt' in filename:\n",
    "        try:\n",
    "            os.rename(\n",
    "                os.path.join(predictions_path, filename),\n",
    "                os.path.join(predictions_path, re.sub('_gt','',filename))\n",
    "            )\n",
    "        except:\n",
    "            print('Problems with: ', filename)"
   ]
  },
  {
   "cell_type": "code",
   "execution_count": 4,
   "metadata": {},
   "outputs": [],
   "source": [
    "predictions_path = '../../Datasets/Huawei/DATASET_INPAINTING/test'\n",
    "gt_path = '../../Datasets/Huawei/DATASET_INPAINTING/test_gt'"
   ]
  },
  {
   "cell_type": "code",
   "execution_count": 5,
   "metadata": {},
   "outputs": [],
   "source": [
    "def get_list_of_files(folder):\n",
    "    return glob.glob(os.path.join(folder,'*.png')) + glob.glob(os.path.join(folder,'*.jpg'))\n",
    "\n",
    "\n",
    "def psnr(y, x):\n",
    "    mse = np.mean((x.astype(np.float64) - y.astype(np.float64)) ** 2)\n",
    "    if mse == 0:\n",
    "        return math.inf\n",
    "    return 20 * math.log10(255.0 / math.sqrt(mse))\n",
    "\n",
    "\n",
    "def l1_loss(y, x):\n",
    "    return np.sum(np.abs(x / 256. - y / 256.)) / 3.  \n",
    "\n",
    "\n",
    "def compute_metrics(predictions_dir, gt_dir):\n",
    "    metrics = []\n",
    "    \n",
    "    filenames = [f.split('/')[-1] for f in get_list_of_files(predictions_dir)]\n",
    "    filenames_gt = [f.split('/')[-1] for f in get_list_of_files(gt_dir)]\n",
    "    assert set(filenames) == set(filenames_gt)\n",
    "    \n",
    "    for i, filename in enumerate(filenames):\n",
    "        prediction_image = imread(os.path.join(predictions_dir, filename))\n",
    "        gt_image = imread(os.path.join(gt_dir, filename))\n",
    "\n",
    "        metrics.append({\n",
    "            'filename': filename,\n",
    "            'psnr': psnr(prediction_image, gt_image),\n",
    "            'l1': l1_loss(prediction_image, gt_image)\n",
    "        })\n",
    "    \n",
    "    mean_psnr = round(np.mean([f['psnr'] for f in metrics]), 4)\n",
    "    mean_l1 = round(np.mean([f['l1'] for f in metrics]), 4)\n",
    "    \n",
    "    print(\n",
    "        \"PSNR: %.4f\" % mean_psnr,\n",
    "        \"L1: %.4f\" % mean_l1,\n",
    "    )\n",
    "\n",
    "    return mean_psnr, mean_l1, metrics"
   ]
  },
  {
   "cell_type": "code",
   "execution_count": 6,
   "metadata": {
    "scrolled": true
   },
   "outputs": [
    {
     "ename": "NameError",
     "evalue": "name 'predictions_dir' is not defined",
     "output_type": "error",
     "traceback": [
      "\u001b[1;31m---------------------------------------------------------------------------\u001b[0m",
      "\u001b[1;31mNameError\u001b[0m                                 Traceback (most recent call last)",
      "\u001b[1;32m<ipython-input-6-86488455d62b>\u001b[0m in \u001b[0;36m<module>\u001b[1;34m\u001b[0m\n\u001b[1;32m----> 1\u001b[1;33m \u001b[0mmean_psnr\u001b[0m\u001b[1;33m,\u001b[0m \u001b[0mmean_l1\u001b[0m\u001b[1;33m,\u001b[0m \u001b[0mmetrics\u001b[0m \u001b[1;33m=\u001b[0m \u001b[0mcompute_metrics\u001b[0m\u001b[1;33m(\u001b[0m\u001b[0mpredictions_dir\u001b[0m\u001b[1;33m,\u001b[0m \u001b[0mgt_dir\u001b[0m\u001b[1;33m)\u001b[0m\u001b[1;33m\u001b[0m\u001b[1;33m\u001b[0m\u001b[0m\n\u001b[0m",
      "\u001b[1;31mNameError\u001b[0m: name 'predictions_dir' is not defined"
     ]
    }
   ],
   "source": [
    "mean_psnr, mean_l1, metrics = compute_metrics(predictions_dir, gt_dir)"
   ]
  },
  {
   "cell_type": "code",
   "execution_count": null,
   "metadata": {},
   "outputs": [],
   "source": []
  }
 ],
 "metadata": {
  "kernelspec": {
   "display_name": "Python 3",
   "language": "python",
   "name": "python3"
  },
  "language_info": {
   "codemirror_mode": {
    "name": "ipython",
    "version": 3
   },
   "file_extension": ".py",
   "mimetype": "text/x-python",
   "name": "python",
   "nbconvert_exporter": "python",
   "pygments_lexer": "ipython3",
   "version": "3.7.6"
  }
 },
 "nbformat": 4,
 "nbformat_minor": 2
}
