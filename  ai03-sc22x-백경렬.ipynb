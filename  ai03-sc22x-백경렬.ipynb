{
  "nbformat": 4,
  "nbformat_minor": 0,
  "metadata": {
    "colab": {
      "name": "ds-sc22x.ipynb",
      "provenance": [],
      "collapsed_sections": [],
      "include_colab_link": true
    },
    "kernelspec": {
      "display_name": "Python 3",
      "language": "python",
      "name": "python3"
    },
    "language_info": {
      "codemirror_mode": {
        "name": "ipython",
        "version": 3
      },
      "file_extension": ".py",
      "mimetype": "text/x-python",
      "name": "python",
      "nbconvert_exporter": "python",
      "pygments_lexer": "ipython3",
      "version": "3.8.2"
    }
  },
  "cells": [
    {
      "cell_type": "markdown",
      "metadata": {
        "id": "view-in-github",
        "colab_type": "text"
      },
      "source": [
        "<a href=\"https://colab.research.google.com/github/KyungRyeolBaek/study/blob/main/%20ai03-sc22x-%EB%B0%B1%EA%B2%BD%EB%A0%AC.ipynb\" target=\"_parent\"><img src=\"https://colab.research.google.com/assets/colab-badge.svg\" alt=\"Open In Colab\"/></a>"
      ]
    },
    {
      "cell_type": "markdown",
      "metadata": {
        "id": "M3XH_XLsy_Bn"
      },
      "source": [
        "# DS SC22x\n",
        " \n",
        "### 코비 브라이언트의 슛 성공 여부 예측해보기\n",
        "\n",
        "이번 스프린트 챌린지에서는 故 코비 브라이언트 선수의 NBA 필드 골 시도들이 담긴 데이터셋을 다룹니다 (1996년 11월 3일부터 2016년 4월 13일까지의 정규 시즌과 플레이오프 시즌 기록).\n",
        "\n",
        "여러분은 각 슛의 성공 여부를 슈팅의 대한 정보, 게임에 대한 정보를 통해서 예측해야 합니다. 이것은 상당히 어려운 예측입니다. 해당 데이터셋은 [NBA API]((https://github.com/swar/nba_api) 파이썬 라이브러리를 통해 수집 됐습니다. "
      ]
    },
    {
      "cell_type": "code",
      "metadata": {
        "id": "Nw3CL7TE7tNq"
      },
      "source": [
        "# Google Colab으로 수행한다면 이 셀을 먼저 실행해주세요\n",
        "%%capture\n",
        "import sys\n",
        "\n",
        "if 'google.colab' in sys.modules:\n",
        "    # Install packages in Colab\n",
        "    !pip install category_encoders==2.*\n",
        "    !pip install pandas-profiling==2.*"
      ],
      "execution_count": null,
      "outputs": []
    },
    {
      "cell_type": "code",
      "metadata": {
        "id": "-Nm24pCHy_Bo"
      },
      "source": [
        "# 데이터셋을 불러옵니다\n",
        "import pandas as pd\n",
        "url = 'https://ds-lecture-data.s3.ap-northeast-2.amazonaws.com/nba/nba_kobe_bryant.csv'\n",
        "df = pd.read_csv(url)\n",
        "\n",
        "# 데이터셋이 잘 불러졌는지 확인합니다\n",
        "assert df.shape == (30697, 19)"
      ],
      "execution_count": null,
      "outputs": []
    },
    {
      "cell_type": "markdown",
      "metadata": {
        "id": "9ihIv9Wp3qHQ"
      },
      "source": [
        "# Part 1 - Data Preprocessing"
      ]
    },
    {
      "cell_type": "markdown",
      "metadata": {
        "id": "t6Jt3qjQ-zig"
      },
      "source": [
        "## 1.1 분류를 위한 베이스라인 정확도를 계산하세요\n",
        ">예측 해야하는 target은 `shot_made_flag` 입니다. 전체 데이터를 써서 baseline **accuracy score**를 계산하세요."
      ]
    },
    {
      "cell_type": "code",
      "metadata": {
        "id": "I0BDeNFG_Kee"
      },
      "source": [
        "# 이 곳에 답안을 작성하십시오"
      ],
      "execution_count": null,
      "outputs": []
    },
    {
      "cell_type": "markdown",
      "metadata": {
        "id": "Dz2QHBiVy_Br"
      },
      "source": [
        "## 1.2 모델의 예측 정확도를 시험하기 위한 test set을 만드세요.\n",
        "\n",
        "> 예측 모델 시험을 위해 2014-15 ~ 2015-16 시즌을 test set으로 만듭니다. NBA 시즌은 10월에 시작해서 6월에 종료합니다. 테스트셋에 **1826개**의 데이터가 있다면 알맞게 분할한 것입니다."
      ]
    },
    {
      "cell_type": "code",
      "metadata": {
        "id": "OPod6lBG_wTT"
      },
      "source": [
        "# 이 곳에 답안을 작성하십시오"
      ],
      "execution_count": null,
      "outputs": []
    },
    {
      "cell_type": "markdown",
      "metadata": {
        "id": "P9Nihzk6y_CF"
      },
      "source": [
        "## 1.3 새로운 feature를 만드세요\n",
        "\n",
        "> 최소 1개 이상의 새로운 feature를 만드세요. 아래의 리스트를 사용하셔도 되고 스스로의 아이디어로 만들어 주셔도 괜찮습니다.\n",
        ">- **Homecourt Advantage**: 홈 팀(`htm`)이 Los Angeles Lakers (`LAL`)인지 여부\n",
        ">- **Opponent**: LA Lakers를 상대하는 팀을 나타내는 feature\n",
        ">- **Seconds remaining in the period**: 피리어드에 남은 총 시간 (분과 초를 합칩니다)\n",
        ">- **Seconds remaining in the game**: 게임에 남은 총 시간 (피리어드와 초를 합칩니다). 농구에서 게임은 총 4개의 피리어드로 이루어져 있습니다 (각 12분)\n",
        ">- **Made previous shot**: 코비 브라이언트의 예전 슛이 성공했는지 여부\n",
        "    "
      ]
    },
    {
      "cell_type": "code",
      "metadata": {
        "id": "A0pxdFtWy_Bz"
      },
      "source": [
        "# 이 곳에 답안을 작성하십시오"
      ],
      "execution_count": null,
      "outputs": []
    },
    {
      "cell_type": "markdown",
      "metadata": {
        "id": "eLs7pt7NFJLF"
      },
      "source": [
        "## 1.4 모델을 어떻게 검증할지 결정한 후에 데이터셋을 분할하세요. \n",
        "\n",
        ">아래의 검증 방법 중 하나를 선택한 후 목적에 맞게 데이터를 분할 하세요. 어떤 방법을 선택하는지 여부로 채점되지 않습니다 (두 방법 모두 좋은 방법입니다).\n",
        ">\n",
        ">- **Train/validate/test split을 통한 검증 (Hold-out Validation): 무작위로 80/20% 비율로 나누기**\n",
        ">- **독립적인 test set으로 Cross-validation을 통한 검증**. scikit-learn에 있는 모든 cross-validation 방법을 활용하셔도 됩니다."
      ]
    },
    {
      "cell_type": "code",
      "metadata": {
        "id": "LJ58CceDISXR"
      },
      "source": [
        "# 이 곳에 답안을 작성하십시오"
      ],
      "execution_count": null,
      "outputs": []
    },
    {
      "cell_type": "markdown",
      "metadata": {
        "id": "Rg-pQzy-3qHS"
      },
      "source": [
        "# Part 2 - Modeling & Evaluation"
      ]
    },
    {
      "cell_type": "markdown",
      "metadata": {
        "id": "oQ2lWlu7JPRt"
      },
      "source": [
        "## 2.1 범주형 feature를 인코딩하고 DecisionTree 혹은 RandomForest를 이용한 학습까지 완료하는 파이프라인을 구축하세요\n",
        ">Scikit-learn의 `pipeline`을 활용합니다."
      ]
    },
    {
      "cell_type": "code",
      "metadata": {
        "id": "X2S8mUuJy_CB"
      },
      "source": [
        "# 이 곳에 답안을 작성하십시오"
      ],
      "execution_count": null,
      "outputs": []
    },
    {
      "cell_type": "markdown",
      "metadata": {
        "id": "8kJXxFpty_CH"
      },
      "source": [
        "## 2.2 검증셋을 사용해서 모델의 예측 정확도(accuracy score)를 계산하세요.\n",
        ">1.4에서 Cross-validation으로 진행한 경우는 그냥 cv score를 작성하세요."
      ]
    },
    {
      "cell_type": "code",
      "metadata": {
        "id": "7560JKvxy_CJ"
      },
      "source": [
        "# 이 곳에 답안을 작성하십시오"
      ],
      "execution_count": null,
      "outputs": []
    },
    {
      "cell_type": "markdown",
      "metadata": {
        "id": "YvyYY9tfy_CL"
      },
      "source": [
        "## 2.3 테스트셋을 사용해서 모델의 예측 정확도(accuracy score)를 계산하세요"
      ]
    },
    {
      "cell_type": "code",
      "metadata": {
        "id": "wjV2dfl6y_CL"
      },
      "source": [
        "# 이 곳에 답안을 작성하십시오"
      ],
      "execution_count": null,
      "outputs": []
    },
    {
      "cell_type": "markdown",
      "metadata": {
        "id": "xGL5stLvJCn1"
      },
      "source": [
        "# Part 3 - Confusion Matrix\n",
        "### 다음 confusion matrix를 사용해서 accuracy, precision, recall을 계산하세요. 아래의 테이블이 이진분류 모델의 confusion matrix라고 생각하고 계산하세요.\n",
        "\n",
        "<table>\n",
        "  <tr>\n",
        "    <td colspan=\"2\" rowspan=\"2\"></td>\n",
        "    <td colspan=\"2\" align='center'><b>Predicted</b></td>\n",
        "  </tr>\n",
        "  <tr>\n",
        "    <td>Negative</td>\n",
        "    <td>Positive</td>\n",
        "  </tr>\n",
        "  <tr>\n",
        "      <td rowspan=\"2\"><b>Actual</b></td>\n",
        "    <td>Negative</td>\n",
        "    <td style=\"border: solid\" align='center'>85</td>\n",
        "    <td style=\"border: solid\" align='center'>58</td>\n",
        "  </tr>\n",
        "  <tr>\n",
        "    <td>Positive</td>\n",
        "    <td style=\"border: solid\" align='center'>8</td>\n",
        "    <td style=\"border: solid\" align='center'> 36</td>\n",
        "  </tr>\n",
        "</table>"
      ]
    },
    {
      "cell_type": "markdown",
      "metadata": {
        "id": "nEvt7NkUJNao"
      },
      "source": [
        "### a) Accuracy score를 계산하세요"
      ]
    },
    {
      "cell_type": "code",
      "metadata": {
        "id": "FFszS2A5JJmv"
      },
      "source": [
        "# 이 곳에 답안을 작성하십시오"
      ],
      "execution_count": null,
      "outputs": []
    },
    {
      "cell_type": "markdown",
      "metadata": {
        "id": "XjHTmk8sJO4v"
      },
      "source": [
        "### b) Precision score를 계산하세요 "
      ]
    },
    {
      "cell_type": "code",
      "metadata": {
        "id": "7qX1gbcMJQS_"
      },
      "source": [
        "# 이 곳에 답안을 작성하십시오"
      ],
      "execution_count": null,
      "outputs": []
    },
    {
      "cell_type": "markdown",
      "metadata": {
        "id": "pFug3ZKaJQ7A"
      },
      "source": [
        "### c) Recall score를 계산하세요"
      ]
    },
    {
      "cell_type": "code",
      "metadata": {
        "id": "YqHCHzSo3qHU"
      },
      "source": [
        "# 이 곳에 답안을 작성하십시오"
      ],
      "execution_count": null,
      "outputs": []
    },
    {
      "cell_type": "code",
      "metadata": {
        "id": "L0OKc3JxJR4r"
      },
      "source": [
        "# Advanced Goals\n",
        ">**3점**을 획득하기 위해선 아래의 **\"모든 조건\"**을 만족해야합니다. \n",
        "- **4개** 이상의 새로운 feature들을 만드세요. 1.3에 있는 feature들을 포함해서 만드셔도 괜찮습니다.\n",
        "- `feature들`과 `target`의 관계를 보여주는 시각화를 **2개** 이상 해주세요.\n",
        "- 최소 3개의 하이퍼 파라미터를 사용해서 가능한 조합이 10개 이상이 되도록해서 최적화 하세요.`RandomizedSearchCV`나 `GridSearchCV`를 사용하거나 임의로 조합을 만들어도 상관 없습니다.\n",
        "- `feature importance`를 계산하고 시각화 해주세요."
      ],
      "execution_count": null,
      "outputs": []
    },
    {
      "cell_type": "code",
      "metadata": {
        "id": "a-mqWi993qHU"
      },
      "source": [
        "# 이 곳에 답안을 작성하십시오"
      ],
      "execution_count": null,
      "outputs": []
    }
  ]
}