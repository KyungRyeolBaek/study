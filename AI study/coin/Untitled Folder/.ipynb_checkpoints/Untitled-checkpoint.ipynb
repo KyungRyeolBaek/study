{
 "cells": [
  {
   "cell_type": "code",
   "execution_count": 3,
   "metadata": {},
   "outputs": [
    {
     "name": "stdout",
     "output_type": "stream",
     "text": [
      "33.74772412\n",
      "0\n"
     ]
    }
   ],
   "source": [
    "import pyupbit\n",
    "\n",
    "access = \"naahaVSh29BJPu3pfBZPEWSyjsGwytkYiexmAuHR\"          # 본인 값으로 변경\n",
    "secret = \"e0fJfTu1BjPnn35Qc2pAOheSn7xCOXIMxG0Dzluj\"          # 본인 값으로 변경\n",
    "upbit = pyupbit.Upbit(access, secret)\n",
    "\n",
    "print(upbit.get_balance(\"KRW-DOGE\"))     # KRW-XRP 조회\n",
    "print(upbit.get_balance(\"KRW\"))         # 보유 현금 조회"
   ]
  },
  {
   "cell_type": "code",
   "execution_count": null,
   "metadata": {},
   "outputs": [],
   "source": [
    "# backtest\n",
    "import numpy as np\n",
    "\n",
    "df = pyupbit.get_ohlcv(\"KRW-BTC\")\n",
    "df['range'] = (df['high'] - df['low']) * 0.5\n",
    "df['target'] = df['open'] + df['range'].shift(1)\n",
    "\n",
    "fee = 0.05\n",
    "df['ror'] = np.where(df['high'] > df['target'],\n",
    "                     df['close'] / df['target'] - fee,\n",
    "                     1)\n",
    "\n",
    "df['hpr'] = df['ror'].cumprod()\n",
    "df['dd'] = (df['hpr'].cummax() - df['hpr']) / df['hpr'].cummax() * 100\n",
    "print(\"MDD(%): \", df['dd'].max())\n",
    "df.to_excel(\"dd.xlsx\")"
   ]
  }
 ],
 "metadata": {
  "kernelspec": {
   "display_name": "Python 3",
   "language": "python",
   "name": "python3"
  },
  "language_info": {
   "codemirror_mode": {
    "name": "ipython",
    "version": 3
   },
   "file_extension": ".py",
   "mimetype": "text/x-python",
   "name": "python",
   "nbconvert_exporter": "python",
   "pygments_lexer": "ipython3",
   "version": "3.7.6"
  }
 },
 "nbformat": 4,
 "nbformat_minor": 4
}
