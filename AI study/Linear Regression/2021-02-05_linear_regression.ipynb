{
 "cells": [
  {
   "cell_type": "code",
   "execution_count": 1,
   "metadata": {},
   "outputs": [
    {
     "name": "stdout",
     "output_type": "stream",
     "text": [
      "WARNING:tensorflow:From C:\\Users\\forev\\AppData\\Roaming\\Python\\Python37\\site-packages\\tensorflow\\python\\compat\\v2_compat.py:96: disable_resource_variables (from tensorflow.python.ops.variable_scope) is deprecated and will be removed in a future version.\n",
      "Instructions for updating:\n",
      "non-resource variables are not supported in the long term\n"
     ]
    }
   ],
   "source": [
    "import tensorflow as tf\n",
    "import numpy as np\n",
    "import matplotlib.pyplot as plt\n",
    "\n",
    "### 버젼 2. tensorflow 라면 아래 코드 필요\n",
    "import tensorflow.compat.v1 as tf\n",
    "\n",
    "tf.disable_v2_behavior()"
   ]
  },
  {
   "cell_type": "code",
   "execution_count": 2,
   "metadata": {},
   "outputs": [
    {
     "data": {
      "text/plain": [
       "'2.2.0'"
      ]
     },
     "execution_count": 2,
     "metadata": {},
     "output_type": "execute_result"
    }
   ],
   "source": [
    "tf.__version__"
   ]
  },
  {
   "cell_type": "code",
   "execution_count": 3,
   "metadata": {},
   "outputs": [],
   "source": [
    "w_number = 6\n",
    "p_number = 6\n",
    "x_number = 100"
   ]
  },
  {
   "cell_type": "code",
   "execution_count": 4,
   "metadata": {},
   "outputs": [],
   "source": [
    "y1 = 1\n",
    "# y2 = 1\n",
    "y1prime = 0\n",
    "# y2prime = 0\n",
    "x = tf.Variable(tf.random_uniform([x_number]), name = 'x')\n",
    "for i in range(1, w_number + 1):\n",
    "    globals()['w{}'.format(i)] = tf.Variable(tf.random_normal([1]), name = 'w{}'.format(i))\n",
    "#     globals()['p{}'.format(i)] = tf.Variable(tf.random_normal([1]), name = 'p{}'.format(i))\n",
    "    y1 += globals()['w{}'.format(i)]*(x**i)  # y1 = 1 + w1*(x) + w2*(x**2) + w3*(x**3) + w4*(x**4) + w5*(x**5) + w6*(x**6)\n",
    "#     y2 += globals()['p{}'.format(i)]*(x**i)  # y2 = 1 + p1*(x) + p2*(x**2) + p3*(x**3) + p4*(x**4) + p5*(x**5) + p6*(x**6)\n",
    "    y1prime += i*globals()['w{}'.format(i)]*(x**(i-1))  # y1prime = w1 + 2*w2*x + 3*w3*(x**2) + 4*w4*(x**3) + 5*w5*(x**4) + 6*w6*(x**5)\n",
    "#     y2prime += i*globals()['p{}'.format(i)]*(x**(i-1))  # y2prime = q1 + 2*p2*x + 3*p3*(x**2) + 4*p4*(x**3) + 5*p5*(x**4) + 6*p6*(x**5)"
   ]
  },
  {
   "cell_type": "code",
   "execution_count": 5,
   "metadata": {},
   "outputs": [],
   "source": [
    "# a = np.array([[y1],\n",
    "#               [y2]])\n",
    "# b = np.array([[1,0],\n",
    "#               [0,1]])\n",
    "# c = np.array([[y1prime],\n",
    "#               [y2prime]])\n",
    "# ((b@c-a)[0] + (b@c-a)[1])[0]\n",
    "\n",
    "lamb = -10"
   ]
  },
  {
   "cell_type": "code",
   "execution_count": 7,
   "metadata": {},
   "outputs": [],
   "source": [
    "cost = tf.reduce_mean(tf.square(y1prime - lamb*y1))\n",
    "optimizer = tf.train.GradientDescentOptimizer(learning_rate = 1e-5)\n",
    "train = optimizer.minimize(cost)"
   ]
  },
  {
   "cell_type": "code",
   "execution_count": 8,
   "metadata": {
    "scrolled": true
   },
   "outputs": [
    {
     "name": "stdout",
     "output_type": "stream",
     "text": [
      "0 Cost:  930.3231 \n",
      "\n",
      "w1:  [array([1.9427553], dtype=float32)] w2:  [array([1.053804], dtype=float32)] w3:  [array([-0.5973701], dtype=float32)] w4:  [array([1.0335767], dtype=float32)] w5:  [array([-0.11220641], dtype=float32)] w6:  [array([0.25286403], dtype=float32)] \n",
      "\n",
      "1000 Cost:  69.20378 \n",
      "\n",
      "w1:  [array([0.4420126], dtype=float32)] w2:  [array([-0.00769004], dtype=float32)] w3:  [array([-1.4216386], dtype=float32)] w4:  [array([0.36393937], dtype=float32)] w5:  [array([-0.6725792], dtype=float32)] w6:  [array([-0.22639206], dtype=float32)] \n",
      "\n",
      "2000 Cost:  48.105663 \n",
      "\n",
      "w1:  [array([0.10604263], dtype=float32)] w2:  [array([-0.11956931], dtype=float32)] w3:  [array([-1.4453403], dtype=float32)] w4:  [array([0.38401267], dtype=float32)] w5:  [array([-0.62963176], dtype=float32)] w6:  [array([-0.17170414], dtype=float32)] \n",
      "\n",
      "3000 Cost:  39.26531 \n",
      "\n",
      "w1:  [array([-0.09671135], dtype=float32)] w2:  [array([-0.15251961], dtype=float32)] w3:  [array([-1.423171], dtype=float32)] w4:  [array([0.4278571], dtype=float32)] w5:  [array([-0.5783806], dtype=float32)] w6:  [array([-0.11974466], dtype=float32)] \n",
      "\n",
      "4000 Cost:  33.854313 \n",
      "\n",
      "w1:  [array([-0.24962384], dtype=float32)] w2:  [array([-0.16307119], dtype=float32)] w3:  [array([-1.3933488], dtype=float32)] w4:  [array([0.4705263], dtype=float32)] w5:  [array([-0.5336815], dtype=float32)] w6:  [array([-0.07754586], dtype=float32)] \n",
      "\n",
      "5000 Cost:  29.946114 \n",
      "\n",
      "w1:  [array([-0.3750532], dtype=float32)] w2:  [array([-0.1633963], dtype=float32)] w3:  [array([-1.3616912], dtype=float32)] w4:  [array([0.51034784], dtype=float32)] w5:  [array([-0.49437124], dtype=float32)] w6:  [array([-0.04200207], dtype=float32)] \n",
      "\n",
      "6000 Cost:  26.83952 \n",
      "\n",
      "w1:  [array([-0.48277774], dtype=float32)] w2:  [array([-0.1581233], dtype=float32)] w3:  [array([-1.329799], dtype=float32)] w4:  [array([0.5475134], dtype=float32)] w5:  [array([-0.45913395], dtype=float32)] w6:  [array([-0.01110761], dtype=float32)] \n",
      "\n",
      "7000 Cost:  24.216736 \n",
      "\n",
      "w1:  [array([-0.57798964], dtype=float32)] w2:  [array([-0.14946781], dtype=float32)] w3:  [array([-1.2982335], dtype=float32)] w4:  [array([0.5824379], dtype=float32)] w5:  [array([-0.42702022], dtype=float32)] w6:  [array([0.0163774], dtype=float32)] \n",
      "\n",
      "8000 Cost:  21.912956 \n",
      "\n",
      "w1:  [array([-0.66378], dtype=float32)] w2:  [array([-0.1386686], dtype=float32)] w3:  [array([-1.2671485], dtype=float32)] w4:  [array([0.61550146], dtype=float32)] w5:  [array([-0.39735892], dtype=float32)] w6:  [array([0.04126181], dtype=float32)] \n",
      "\n",
      "9000 Cost:  19.835926 \n",
      "\n",
      "w1:  [array([-0.74210936], dtype=float32)] w2:  [array([-0.12650113], dtype=float32)] w3:  [array([-1.2366244], dtype=float32)] w4:  [array([0.64700925], dtype=float32)] w5:  [array([-0.36966673], dtype=float32)] w6:  [array([0.06410182], dtype=float32)] \n",
      "\n",
      "10000 Cost:  17.93234 \n",
      "\n",
      "w1:  [array([-0.8142687], dtype=float32)] w2:  [array([-0.11349634], dtype=float32)] w3:  [array([-1.206699], dtype=float32)] w4:  [array([0.6771887], dtype=float32)] w5:  [array([-0.34359345], dtype=float32)] w6:  [array([0.08529195], dtype=float32)] \n",
      "\n",
      "11000 Cost:  16.171612 \n",
      "\n",
      "w1:  [array([-0.8811231], dtype=float32)] w2:  [array([-0.10004161], dtype=float32)] w3:  [array([-1.1774199], dtype=float32)] w4:  [array([0.70619977], dtype=float32)] w5:  [array([-0.3188864], dtype=float32)] w6:  [array([0.10511649], dtype=float32)] \n",
      "\n",
      "12000 Cost:  14.537035 \n",
      "\n",
      "w1:  [array([-0.9432567], dtype=float32)] w2:  [array([-0.08643133], dtype=float32)] w3:  [array([-1.1488419], dtype=float32)] w4:  [array([0.73414516], dtype=float32)] w5:  [array([-0.29536626], dtype=float32)] w6:  [array([0.12378103], dtype=float32)] \n",
      "\n",
      "13000 Cost:  13.020155 \n",
      "\n",
      "w1:  [array([-1.0010706], dtype=float32)] w2:  [array([-0.07289295], dtype=float32)] w3:  [array([-1.1210395], dtype=float32)] w4:  [array([0.761085], dtype=float32)] w5:  [array([-0.2729085], dtype=float32)] w6:  [array([0.14143413], dtype=float32)] \n",
      "\n",
      "14000 Cost:  11.617143 \n",
      "\n",
      "w1:  [array([-1.0548497], dtype=float32)] w2:  [array([-0.05960594], dtype=float32)] w3:  [array([-1.0940886], dtype=float32)] w4:  [array([0.7870442], dtype=float32)] w5:  [array([-0.25143027], dtype=float32)] w6:  [array([0.15818222], dtype=float32)] \n",
      "\n",
      "15000 Cost:  10.326324 \n",
      "\n",
      "w1:  [array([-1.1048089], dtype=float32)] w2:  [array([-0.04670689], dtype=float32)] w3:  [array([-1.0680705], dtype=float32)] w4:  [array([0.8120253], dtype=float32)] w5:  [array([-0.23087764], dtype=float32)] w6:  [array([0.17410176], dtype=float32)] \n",
      "\n",
      "16000 Cost:  9.14646 \n",
      "\n",
      "w1:  [array([-1.1511242], dtype=float32)] w2:  [array([-0.03429906], dtype=float32)] w3:  [array([-1.0430591], dtype=float32)] w4:  [array([0.8360163], dtype=float32)] w5:  [array([-0.2112181], dtype=float32)] w6:  [array([0.18924724], dtype=float32)] \n",
      "\n",
      "17000 Cost:  8.075752 \n",
      "\n",
      "w1:  [array([-1.1939603], dtype=float32)] w2:  [array([-0.02245699], dtype=float32)] w3:  [array([-1.0191242], dtype=float32)] w4:  [array([0.8589972], dtype=float32)] w5:  [array([-0.19243288], dtype=float32)] w6:  [array([0.20365782], dtype=float32)] \n",
      "\n",
      "18000 Cost:  7.1112413 \n",
      "\n",
      "w1:  [array([-1.2334803], dtype=float32)] w2:  [array([-0.01122882], dtype=float32)] w3:  [array([-0.996315], dtype=float32)] w4:  [array([0.8809489], dtype=float32)] w5:  [array([-0.17451046], dtype=float32)] w6:  [array([0.217363], dtype=float32)] \n",
      "\n",
      "19000 Cost:  6.248601 \n",
      "\n",
      "w1:  [array([-1.2698547], dtype=float32)] w2:  [array([-0.00064141], dtype=float32)] w3:  [array([-0.9746669], dtype=float32)] w4:  [array([0.9018548], dtype=float32)] w5:  [array([-0.15744229], dtype=float32)] w6:  [array([0.23038639], dtype=float32)] \n",
      "\n",
      "20000 Cost:  5.482229 \n",
      "\n",
      "w1:  [array([-1.3032628], dtype=float32)] w2:  [array([0.00929571], dtype=float32)] w3:  [array([-0.95419747], dtype=float32)] w4:  [array([0.9217082], dtype=float32)] w5:  [array([-0.14121947], dtype=float32)] w6:  [array([0.24274856], dtype=float32)] \n",
      "\n",
      "21000 Cost:  4.805473 \n",
      "\n",
      "w1:  [array([-1.3338941], dtype=float32)] w2:  [array([0.01858739], dtype=float32)] w3:  [array([-0.93490744], dtype=float32)] w4:  [array([0.94051033], dtype=float32)] w5:  [array([-0.12583023], dtype=float32)] w6:  [array([0.2544693], dtype=float32)] \n",
      "\n",
      "22000 Cost:  4.2109776 \n",
      "\n",
      "w1:  [array([-1.3619443], dtype=float32)] w2:  [array([0.02724937], dtype=float32)] w3:  [array([-0.91677946], dtype=float32)] w4:  [array([0.9582732], dtype=float32)] w5:  [array([-0.1112588], dtype=float32)] w6:  [array([0.26556858], dtype=float32)] \n",
      "\n",
      "23000 Cost:  3.6910093 \n",
      "\n",
      "w1:  [array([-1.387611], dtype=float32)] w2:  [array([0.03530516], dtype=float32)] w3:  [array([-0.89978516], dtype=float32)] w4:  [array([0.9750182], dtype=float32)] w5:  [array([-0.09748466], dtype=float32)] w6:  [array([0.2760679], dtype=float32)] \n",
      "\n",
      "24000 Cost:  3.2378037 \n",
      "\n",
      "w1:  [array([-1.4110906], dtype=float32)] w2:  [array([0.04278388], dtype=float32)] w3:  [array([-0.883883], dtype=float32)] w4:  [array([0.9907751], dtype=float32)] w5:  [array([-0.08448277], dtype=float32)] w6:  [array([0.28598988], dtype=float32)] \n",
      "\n",
      "25000 Cost:  2.8438206 \n",
      "\n",
      "w1:  [array([-1.4325726], dtype=float32)] w2:  [array([0.04971829], dtype=float32)] w3:  [array([-0.8690241], dtype=float32)] w4:  [array([1.0055825], dtype=float32)] w5:  [array([-0.07222399], dtype=float32)] w6:  [array([0.2953591], dtype=float32)] \n",
      "\n",
      "26000 Cost:  2.501922 \n",
      "\n",
      "w1:  [array([-1.4522383], dtype=float32)] w2:  [array([0.05614371], dtype=float32)] w3:  [array([-0.85515296], dtype=float32)] w4:  [array([1.0194815], dtype=float32)] w5:  [array([-0.06067566], dtype=float32)] w6:  [array([0.30420128], dtype=float32)] \n",
      "\n",
      "27000 Cost:  2.2055182 \n",
      "\n",
      "w1:  [array([-1.4702607], dtype=float32)] w2:  [array([0.06209466], dtype=float32)] w3:  [array([-0.8422117], dtype=float32)] w4:  [array([1.032521], dtype=float32)] w5:  [array([-0.04980318], dtype=float32)] w6:  [array([0.31254324], dtype=float32)] \n",
      "\n",
      "28000 Cost:  1.9486405 \n",
      "\n",
      "w1:  [array([-1.4867975], dtype=float32)] w2:  [array([0.06760628], dtype=float32)] w3:  [array([-0.8301404], dtype=float32)] w4:  [array([1.0447497], dtype=float32)] w5:  [array([-0.03957009], dtype=float32)] w6:  [array([0.320412], dtype=float32)] \n",
      "\n",
      "29000 Cost:  1.7259645 \n",
      "\n",
      "w1:  [array([-1.5019957], dtype=float32)] w2:  [array([0.07271267], dtype=float32)] w3:  [array([-0.81887907], dtype=float32)] w4:  [array([1.0562156], dtype=float32)] w5:  [array([-0.02993934], dtype=float32)] w6:  [array([0.3278346], dtype=float32)] \n",
      "\n"
     ]
    },
    {
     "name": "stdout",
     "output_type": "stream",
     "text": [
      "30000 Cost:  1.5327628 \n",
      "\n",
      "w1:  [array([-1.5159883], dtype=float32)] w2:  [array([0.07744586], dtype=float32)] w3:  [array([-0.8083698], dtype=float32)] w4:  [array([1.0669714], dtype=float32)] w5:  [array([-0.02087412], dtype=float32)] w6:  [array([0.33483824], dtype=float32)] \n",
      "\n"
     ]
    }
   ],
   "source": [
    "sess = tf.Session()\n",
    "sess.run(tf.global_variables_initializer())\n",
    "\n",
    "for step in range(30001):\n",
    "    for i in range(1, w_number + 1):\n",
    "        globals()['w{}_val'.format(i)] = sess.run([globals()['w{}'.format(i)]])\n",
    "    cost_val, y1prime_val, y1_val, x_val, _ = sess.run([cost, y1prime, y1, x, train])\n",
    "    if step % 1000 == 0:\n",
    "#         print(step, \"Cost: \", cost_val, \"\\nx: \", x_val,  \"yprime: \", yprime_val, \"y: \", y_val)\n",
    "        print(step, \"Cost: \", cost_val, \"\\n\")\n",
    "        print(\"w1: \", w1_val, \"w2: \", w2_val, \"w3: \", w3_val, \"w4: \", w4_val, \"w5: \", w5_val, \"w6: \", w6_val, \"\\n\")"
   ]
  },
  {
   "cell_type": "code",
   "execution_count": 9,
   "metadata": {},
   "outputs": [],
   "source": [
    "def y(x):\n",
    "    answer = 1\n",
    "    for i in range(1, w_number + 1):\n",
    "        answer += globals()['w{}_val'.format(i)]*(x**i)\n",
    "    return answer[0]"
   ]
  },
  {
   "cell_type": "code",
   "execution_count": 10,
   "metadata": {},
   "outputs": [],
   "source": [
    "globals()['w{}x{}'.format(w_number, x_number)] = [x_val, y(x_val)]"
   ]
  },
  {
   "cell_type": "code",
   "execution_count": 11,
   "metadata": {},
   "outputs": [
    {
     "data": {
      "image/png": "[encoded data removed]",
      "text/plain": [
       "<Figure size 432x288 with 1 Axes>"
      ]
     },
     "metadata": {
      "needs_background": "light"
     },
     "output_type": "display_data"
    }
   ],
   "source": [
    "plt.plot(x_val, y(x_val), '.')\n",
    "plt.show()"
   ]
  },
  {
   "cell_type": "code",
   "execution_count": 12,
   "metadata": {},
   "outputs": [
    {
     "data": {
      "image/png": "[encoded data removed]",
      "text/plain": [
       "<Figure size 432x288 with 1 Axes>"
      ]
     },
     "metadata": {
      "needs_background": "light"
     },
     "output_type": "display_data"
    }
   ],
   "source": [
    "plt.plot(w6x100[0],w6x100[1], '.')\n",
    "plt.show()"
   ]
  },
  {
   "cell_type": "code",
   "execution_count": null,
   "metadata": {},
   "outputs": [],
   "source": []
  }
 ],
 "metadata": {
  "kernelspec": {
   "display_name": "Python 3",
   "language": "python",
   "name": "python3"
  },
  "language_info": {
   "codemirror_mode": {
    "name": "ipython",
    "version": 3
   },
   "file_extension": ".py",
   "mimetype": "text/x-python",
   "name": "python",
   "nbconvert_exporter": "python",
   "pygments_lexer": "ipython3",
   "version": "3.7.6"
  }
 },
 "nbformat": 4,
 "nbformat_minor": 2
}
