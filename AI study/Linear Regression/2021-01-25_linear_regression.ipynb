{
 "cells": [
  {
   "cell_type": "code",
   "execution_count": 8,
   "metadata": {},
   "outputs": [
    {
     "name": "stdout",
     "output_type": "stream",
     "text": [
      "WARNING:tensorflow:From C:\\Users\\forev\\AppData\\Roaming\\Python\\Python37\\site-packages\\tensorflow\\python\\compat\\v2_compat.py:96: disable_resource_variables (from tensorflow.python.ops.variable_scope) is deprecated and will be removed in a future version.\n",
      "Instructions for updating:\n",
      "non-resource variables are not supported in the long term\n"
     ]
    }
   ],
   "source": [
    "import tensorflow as tf\n",
    "import numpy as np\n",
    "import matplotlib.pyplot as plt\n",
    "\n",
    "import tensorflow.compat.v1 as tf\n",
    "\n",
    "tf.disable_v2_behavior()"
   ]
  },
  {
   "cell_type": "code",
   "execution_count": 9,
   "metadata": {},
   "outputs": [
    {
     "data": {
      "text/plain": [
       "'2.2.0'"
      ]
     },
     "execution_count": 9,
     "metadata": {},
     "output_type": "execute_result"
    }
   ],
   "source": [
    "tf.__version__"
   ]
  },
  {
   "cell_type": "code",
   "execution_count": 10,
   "metadata": {},
   "outputs": [],
   "source": [
    "w_number = 6\n",
    "x_number = 100"
   ]
  },
  {
   "cell_type": "code",
   "execution_count": 13,
   "metadata": {},
   "outputs": [],
   "source": [
    "y = 1\n",
    "yprime = 0\n",
    "x = tf.Variable(tf.random_normal([x_number]), name = 'x')\n",
    "for i in range(1, w_number + 1):\n",
    "    globals()['w{}'.format(i)] = tf.Variable(tf.random_normal([1]), name = 'weight{}'.format(i))\n",
    "    y += globals()['w{}'.format(i)]*(x**i)  # y = 1 + w1*(x) + w2*(x**2) + w3*(x**3) + w4*(x**4) + w5*(x**5) + w6*(x**6)\n",
    "    yprime += i*globals()['w{}'.format(i)]*(x**(i-1))  # yprime = w1 + 2*w2*x + 3*w3*(x**2) + 4*w4*(x**3) + 5*w5*(x**4) + 6*w6*(x**5)"
   ]
  },
  {
   "cell_type": "code",
   "execution_count": 14,
   "metadata": {},
   "outputs": [],
   "source": [
    "cost = tf.reduce_mean(tf.square(yprime - y))\n",
    "optimizer = tf.train.GradientDescentOptimizer(learning_rate = 1e-5)\n",
    "train = optimizer.minimize(cost)"
   ]
  },
  {
   "cell_type": "code",
   "execution_count": 15,
   "metadata": {
    "scrolled": true
   },
   "outputs": [
    {
     "name": "stdout",
     "output_type": "stream",
     "text": [
      "0 Cost:  1466.3536 \n",
      "\n",
      "w1:  [array([0.8087095], dtype=float32)] w2:  [array([1.43524], dtype=float32)] w3:  [array([-1.2921952], dtype=float32)] w4:  [array([0.1132247], dtype=float32)] w5:  [array([0.04518669], dtype=float32)] w6:  [array([0.0843508], dtype=float32)] \n",
      "\n",
      "1000 Cost:  10.551974 \n",
      "\n",
      "w1:  [array([0.90887004], dtype=float32)] w2:  [array([1.2796409], dtype=float32)] w3:  [array([-1.0194082], dtype=float32)] w4:  [array([-0.3130697], dtype=float32)] w5:  [array([0.15032908], dtype=float32)] w6:  [array([0.03370805], dtype=float32)] \n",
      "\n",
      "2000 Cost:  5.666691 \n",
      "\n",
      "w1:  [array([0.9630982], dtype=float32)] w2:  [array([1.2096816], dtype=float32)] w3:  [array([-0.88642937], dtype=float32)] w4:  [array([-0.44338346], dtype=float32)] w5:  [array([0.12906158], dtype=float32)] w6:  [array([0.04793152], dtype=float32)] \n",
      "\n",
      "3000 Cost:  4.194283 \n",
      "\n",
      "w1:  [array([0.99953574], dtype=float32)] w2:  [array([1.169713], dtype=float32)] w3:  [array([-0.7997717], dtype=float32)] w4:  [array([-0.48266417], dtype=float32)] w5:  [array([0.11904861], dtype=float32)] w6:  [array([0.053194], dtype=float32)] \n",
      "\n",
      "4000 Cost:  3.4699893 \n",
      "\n",
      "w1:  [array([1.0274273], dtype=float32)] w2:  [array([1.1432687], dtype=float32)] w3:  [array([-0.7358213], dtype=float32)] w4:  [array([-0.48439562], dtype=float32)] w5:  [array([0.11345499], dtype=float32)] w6:  [array([0.05452254], dtype=float32)] \n",
      "\n",
      "5000 Cost:  2.9669688 \n",
      "\n",
      "w1:  [array([1.0508423], dtype=float32)] w2:  [array([1.1231624], dtype=float32)] w3:  [array([-0.68381226], dtype=float32)] w4:  [array([-0.47180885], dtype=float32)] w5:  [array([0.10959207], dtype=float32)] w6:  [array([0.05423461], dtype=float32)] \n",
      "\n",
      "6000 Cost:  2.5701807 \n",
      "\n",
      "w1:  [array([1.0715572], dtype=float32)] w2:  [array([1.106332], dtype=float32)] w3:  [array([-0.6388773], dtype=float32)] w4:  [array([-0.4544835], dtype=float32)] w5:  [array([0.10638417], dtype=float32)] w6:  [array([0.05329231], dtype=float32)] \n",
      "\n",
      "7000 Cost:  2.2445226 \n",
      "\n",
      "w1:  [array([1.0903724], dtype=float32)] w2:  [array([1.0914702], dtype=float32)] w3:  [array([-0.59874886], dtype=float32)] w4:  [array([-0.43612587], dtype=float32)] w5:  [array([0.10343124], dtype=float32)] w6:  [array([0.0520868], dtype=float32)] \n",
      "\n",
      "8000 Cost:  1.9727603 \n",
      "\n",
      "w1:  [array([1.1076822], dtype=float32)] w2:  [array([1.0779898], dtype=float32)] w3:  [array([-0.5622726], dtype=float32)] w4:  [array([-0.4180823], dtype=float32)] w5:  [array([0.10059566], dtype=float32)] w6:  [array([0.05077844], dtype=float32)] \n",
      "\n",
      "9000 Cost:  1.7433902 \n",
      "\n",
      "w1:  [array([1.1237103], dtype=float32)] w2:  [array([1.0655928], dtype=float32)] w3:  [array([-0.52877593], dtype=float32)] w4:  [array([-0.40080184], dtype=float32)] w5:  [array([0.09783991], dtype=float32)] w6:  [array([0.04943739], dtype=float32)] \n",
      "\n",
      "10000 Cost:  1.5481193 \n",
      "\n",
      "w1:  [array([1.1386069], dtype=float32)] w2:  [array([1.0541047], dtype=float32)] w3:  [array([-0.4978127], dtype=float32)] w4:  [array([-0.3843983], dtype=float32)] w5:  [array([0.09515657], dtype=float32)] w6:  [array([0.04809558], dtype=float32)] \n",
      "\n",
      "11000 Cost:  1.3806094 \n",
      "\n",
      "w1:  [array([1.152484], dtype=float32)] w2:  [array([1.0434088], dtype=float32)] w3:  [array([-0.46905833], dtype=float32)] w4:  [array([-0.3688567], dtype=float32)] w5:  [array([0.092549], dtype=float32)] w6:  [array([0.04676842], dtype=float32)] \n",
      "\n",
      "12000 Cost:  1.235939 \n",
      "\n",
      "w1:  [array([1.1654325], dtype=float32)] w2:  [array([1.0334188], dtype=float32)] w3:  [array([-0.4422576], dtype=float32)] w4:  [array([-0.35413018], dtype=float32)] w5:  [array([0.09002209], dtype=float32)] w6:  [array([0.04546433], dtype=float32)] \n",
      "\n",
      "13000 Cost:  1.1102736 \n",
      "\n",
      "w1:  [array([1.1775323], dtype=float32)] w2:  [array([1.0240597], dtype=float32)] w3:  [array([-0.4172022], dtype=float32)] w4:  [array([-0.34015992], dtype=float32)] w5:  [array([0.08757877], dtype=float32)] w6:  [array([0.0441888], dtype=float32)] \n",
      "\n",
      "14000 Cost:  1.000534 \n",
      "\n",
      "w1:  [array([1.1888505], dtype=float32)] w2:  [array([1.015268], dtype=float32)] w3:  [array([-0.39371789], dtype=float32)] w4:  [array([-0.3268897], dtype=float32)] w5:  [array([0.08522154], dtype=float32)] w6:  [array([0.04294452], dtype=float32)] \n",
      "\n",
      "15000 Cost:  0.90425605 \n",
      "\n",
      "w1:  [array([1.1994466], dtype=float32)] w2:  [array([1.0069989], dtype=float32)] w3:  [array([-0.37165585], dtype=float32)] w4:  [array([-0.31426865], dtype=float32)] w5:  [array([0.08294972], dtype=float32)] w6:  [array([0.04173362], dtype=float32)] \n",
      "\n",
      "16000 Cost:  0.8194469 \n",
      "\n",
      "w1:  [array([1.2093763], dtype=float32)] w2:  [array([0.9992014], dtype=float32)] w3:  [array([-0.35088745], dtype=float32)] w4:  [array([-0.3022512], dtype=float32)] w5:  [array([0.08076342], dtype=float32)] w6:  [array([0.0405574], dtype=float32)] \n",
      "\n",
      "17000 Cost:  0.744403 \n",
      "\n",
      "w1:  [array([1.2186849], dtype=float32)] w2:  [array([0.99183226], dtype=float32)] w3:  [array([-0.33130112], dtype=float32)] w4:  [array([-0.29079846], dtype=float32)] w5:  [array([0.07866058], dtype=float32)] w6:  [array([0.03941637], dtype=float32)] \n",
      "\n",
      "18000 Cost:  0.6778153 \n",
      "\n",
      "w1:  [array([1.227415], dtype=float32)] w2:  [array([0.9848577], dtype=float32)] w3:  [array([-0.3127992], dtype=float32)] w4:  [array([-0.27987528], dtype=float32)] w5:  [array([0.07664032], dtype=float32)] w6:  [array([0.03831135], dtype=float32)] \n",
      "\n",
      "19000 Cost:  0.6185318 \n",
      "\n",
      "w1:  [array([1.235612], dtype=float32)] w2:  [array([0.9782443], dtype=float32)] w3:  [array([-0.2952947], dtype=float32)] w4:  [array([-0.26945132], dtype=float32)] w5:  [array([0.07469783], dtype=float32)] w6:  [array([0.03724212], dtype=float32)] \n",
      "\n",
      "20000 Cost:  0.56558704 \n",
      "\n",
      "w1:  [array([1.2433064], dtype=float32)] w2:  [array([0.97196305], dtype=float32)] w3:  [array([-0.27871072], dtype=float32)] w4:  [array([-0.25949976], dtype=float32)] w5:  [array([0.07283364], dtype=float32)] w6:  [array([0.03620913], dtype=float32)] \n",
      "\n",
      "21000 Cost:  0.51818085 \n",
      "\n",
      "w1:  [array([1.2505283], dtype=float32)] w2:  [array([0.9659893], dtype=float32)] w3:  [array([-0.26297918], dtype=float32)] w4:  [array([-0.24999548], dtype=float32)] w5:  [array([0.07104288], dtype=float32)] w6:  [array([0.03521163], dtype=float32)] \n",
      "\n",
      "22000 Cost:  0.4756707 \n",
      "\n",
      "w1:  [array([1.2573117], dtype=float32)] w2:  [array([0.96029973], dtype=float32)] w3:  [array([-0.24803998], dtype=float32)] w4:  [array([-0.24091367], dtype=float32)] w5:  [array([0.06932341], dtype=float32)] w6:  [array([0.03424941], dtype=float32)] \n",
      "\n",
      "23000 Cost:  0.43745458 \n",
      "\n",
      "w1:  [array([1.2636836], dtype=float32)] w2:  [array([0.95487416], dtype=float32)] w3:  [array([-0.23383883], dtype=float32)] w4:  [array([-0.23222965], dtype=float32)] w5:  [array([0.06767146], dtype=float32)] w6:  [array([0.03332124], dtype=float32)] \n",
      "\n",
      "24000 Cost:  0.40300766 \n",
      "\n",
      "w1:  [array([1.2696686], dtype=float32)] w2:  [array([0.94969344], dtype=float32)] w3:  [array([-0.2203264], dtype=float32)] w4:  [array([-0.22392425], dtype=float32)] w5:  [array([0.06608476], dtype=float32)] w6:  [array([0.03242658], dtype=float32)] \n",
      "\n",
      "25000 Cost:  0.37192127 \n",
      "\n",
      "w1:  [array([1.2752864], dtype=float32)] w2:  [array([0.9447401], dtype=float32)] w3:  [array([-0.20745777], dtype=float32)] w4:  [array([-0.21597935], dtype=float32)] w5:  [array([0.06456073], dtype=float32)] w6:  [array([0.03156453], dtype=float32)] \n",
      "\n",
      "26000 Cost:  0.34381562 \n",
      "\n",
      "w1:  [array([1.2805586], dtype=float32)] w2:  [array([0.94000024], dtype=float32)] w3:  [array([-0.19519214], dtype=float32)] w4:  [array([-0.20837797], dtype=float32)] w5:  [array([0.06309753], dtype=float32)] w6:  [array([0.0307346], dtype=float32)] \n",
      "\n",
      "27000 Cost:  0.31837323 \n",
      "\n",
      "w1:  [array([1.2855088], dtype=float32)] w2:  [array([0.93545735], dtype=float32)] w3:  [array([-0.18349242], dtype=float32)] w4:  [array([-0.20110327], dtype=float32)] w5:  [array([0.06169223], dtype=float32)] w6:  [array([0.02993551], dtype=float32)] \n",
      "\n",
      "28000 Cost:  0.29530722 \n",
      "\n",
      "w1:  [array([1.2901529], dtype=float32)] w2:  [array([0.93110144], dtype=float32)] w3:  [array([-0.17232455], dtype=float32)] w4:  [array([-0.19414033], dtype=float32)] w5:  [array([0.06034073], dtype=float32)] w6:  [array([0.02916616], dtype=float32)] \n",
      "\n",
      "29000 Cost:  0.27435774 \n",
      "\n",
      "w1:  [array([1.2945071], dtype=float32)] w2:  [array([0.9269218], dtype=float32)] w3:  [array([-0.1616585], dtype=float32)] w4:  [array([-0.18747242], dtype=float32)] w5:  [array([0.05904304], dtype=float32)] w6:  [array([0.02842601], dtype=float32)] \n",
      "\n"
     ]
    },
    {
     "name": "stdout",
     "output_type": "stream",
     "text": [
      "30000 Cost:  0.25530854 \n",
      "\n",
      "w1:  [array([1.2985834], dtype=float32)] w2:  [array([0.92290586], dtype=float32)] w3:  [array([-0.15146473], dtype=float32)] w4:  [array([-0.18108742], dtype=float32)] w5:  [array([0.05779587], dtype=float32)] w6:  [array([0.02771398], dtype=float32)] \n",
      "\n"
     ]
    }
   ],
   "source": [
    "sess = tf.Session()\n",
    "sess.run(tf.global_variables_initializer())\n",
    "\n",
    "for step in range(30001):\n",
    "    for i in range(1, w_number + 1):\n",
    "        globals()['w{}_val'.format(i)] = sess.run([globals()['w{}'.format(i)]])\n",
    "    cost_val, yprime_val, y_val, x_val, _ = sess.run([cost, yprime, y, x, train])\n",
    "    if step % 1000 == 0:\n",
    "#         print(step, \"Cost: \", cost_val, \"\\nx: \", x_val,  \"yprime: \", yprime_val, \"y: \", y_val)\n",
    "        print(step, \"Cost: \", cost_val, \"\\n\")\n",
    "        print(\"w1: \", w1_val, \"w2: \", w2_val, \"w3: \", w3_val, \"w4: \", w4_val, \"w5: \", w5_val, \"w6: \", w6_val, \"\\n\")"
   ]
  },
  {
   "cell_type": "code",
   "execution_count": 16,
   "metadata": {},
   "outputs": [],
   "source": [
    "def y(x):\n",
    "    answer = 1\n",
    "    for i in range(1, w_number + 1):\n",
    "        answer += globals()['w{}_val'.format(i)]*(x**i)\n",
    "    return answer[0]"
   ]
  },
  {
   "cell_type": "code",
   "execution_count": 17,
   "metadata": {},
   "outputs": [],
   "source": [
    "globals()['w{}x{}'.format(w_number, x_number)] = [x_val, y(x_val)]"
   ]
  },
  {
   "cell_type": "code",
   "execution_count": 18,
   "metadata": {},
   "outputs": [
    {
     "data": {
      "image/png": "[encoded data removed]",
      "text/plain": [
       "<Figure size 432x288 with 1 Axes>"
      ]
     },
     "metadata": {
      "needs_background": "light"
     },
     "output_type": "display_data"
    }
   ],
   "source": [
    "plt.plot(x_val, y(x_val), '.')\n",
    "plt.show()"
   ]
  },
  {
   "cell_type": "code",
   "execution_count": 19,
   "metadata": {},
   "outputs": [
    {
     "data": {
      "image/png": "[encoded data removed]",
      "text/plain": [
       "<Figure size 432x288 with 1 Axes>"
      ]
     },
     "metadata": {
      "needs_background": "light"
     },
     "output_type": "display_data"
    }
   ],
   "source": [
    "plt.plot(w6x100[0],w6x100[1], '.')\n",
    "plt.show()"
   ]
  },
  {
   "cell_type": "code",
   "execution_count": null,
   "metadata": {},
   "outputs": [],
   "source": []
  }
 ],
 "metadata": {
  "kernelspec": {
   "display_name": "Python 3",
   "language": "python",
   "name": "python3"
  },
  "language_info": {
   "codemirror_mode": {
    "name": "ipython",
    "version": 3
   },
   "file_extension": ".py",
   "mimetype": "text/x-python",
   "name": "python",
   "nbconvert_exporter": "python",
   "pygments_lexer": "ipython3",
   "version": "3.7.6"
  }
 },
 "nbformat": 4,
 "nbformat_minor": 2
}
