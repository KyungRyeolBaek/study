{
 "cells": [
  {
   "cell_type": "code",
   "execution_count": 59,
   "metadata": {},
   "outputs": [],
   "source": [
    "import tensorflow as tf"
   ]
  },
  {
   "cell_type": "code",
   "execution_count": 60,
   "metadata": {},
   "outputs": [
    {
     "data": {
      "text/plain": [
       "'1.4.0'"
      ]
     },
     "execution_count": 60,
     "metadata": {},
     "output_type": "execute_result"
    }
   ],
   "source": [
    "tf.__version__"
   ]
  },
  {
   "cell_type": "code",
   "execution_count": 65,
   "metadata": {},
   "outputs": [],
   "source": [
    "w1 = tf.Variable(tf.random_normal([1]), name = 'weight1')\n",
    "w2 = tf.Variable(tf.random_normal([1]), name = 'weight2')\n",
    "w3 = tf.Variable(tf.random_normal([1]), name = 'weight3')\n",
    "w4 = tf.Variable(tf.random_normal([1]), name = 'weight4')\n",
    "w5 = tf.Variable(tf.random_normal([1]), name = 'weight5')\n",
    "w6 = tf.Variable(tf.random_normal([1]), name = 'weight6')\n",
    "\n",
    "x = tf.Variable(tf.random_normal([100]), name = 'x')\n",
    "y = 1 + w1*(x) + w2*(x**2) + w3*(x**3) + w4*(x**4) + w5*(x**5) + w6*(x**6)\n",
    "yprime = w1 + 2*w2*x + 3*w3*(x**2) + 4*w4*(x**3) + 5*w5*(x**4) + 6*w6*(x**5)\n",
    "# x = [0.1*i for i in range(1,10)\n",
    "# x = [0.04]\n",
    "# y = [1 + w1*(j) + w2*(j**2) + w3*(j**3) for j in x][0]\n",
    "# yprime = [w1 + 2*w2*k + 3*(k**2) for k in x][0]"
   ]
  },
  {
   "cell_type": "code",
   "execution_count": 66,
   "metadata": {},
   "outputs": [],
   "source": [
    "cost = tf.reduce_mean(tf.square(yprime - y))"
   ]
  },
  {
   "cell_type": "code",
   "execution_count": 67,
   "metadata": {},
   "outputs": [],
   "source": [
    "optimizer = tf.train.GradientDescentOptimizer(learning_rate = 1e-5)\n",
    "train = optimizer.minimize(cost)"
   ]
  },
  {
   "cell_type": "code",
   "execution_count": 68,
   "metadata": {
    "scrolled": true
   },
   "outputs": [
    {
     "name": "stdout",
     "output_type": "stream",
     "text": [
      "0 Cost:  699.2372 \n",
      "\n",
      "w1:  [0.411792] w2:  [0.5972096] w3:  [0.20902771] w4:  [0.04632723] w5:  [0.46327034] w6:  [0.12601049] \n",
      "\n",
      "1000 Cost:  0.5224132 \n",
      "\n",
      "w1:  [0.4323613] w2:  [0.58364886] w3:  [0.20379755] w4:  [0.02670982] w5:  [0.01069595] w6:  [0.00103531] \n",
      "\n",
      "2000 Cost:  0.3206814 \n",
      "\n",
      "w1:  [0.44797996] w2:  [0.56622344] w3:  [0.22441523] w4:  [-0.00394166] w5:  [0.0045139] w6:  [0.00414901] \n",
      "\n",
      "3000 Cost:  0.25137147 \n",
      "\n",
      "w1:  [0.46005198] w2:  [0.5547035] w3:  [0.23754035] w4:  [-0.01848238] w5:  [0.00113851] w6:  [0.00570215] \n",
      "\n",
      "4000 Cost:  0.22243324 \n",
      "\n",
      "w1:  [0.47007546] w2:  [0.5464909] w3:  [0.24632144] w4:  [-0.02441172] w5:  [-0.0006995] w6:  [0.00641559] \n",
      "\n",
      "5000 Cost:  0.20637879 \n",
      "\n",
      "w1:  [0.4788741] w2:  [0.5401632] w3:  [0.25250056] w4:  [-0.0258041] w5:  [-0.00169316] w6:  [0.00668153] \n",
      "\n",
      "6000 Cost:  0.19491822 \n",
      "\n",
      "w1:  [0.48690313] w2:  [0.534941] w3:  [0.25704893] w4:  [-0.02486498] w5:  [-0.00222034] w6:  [0.00671257] \n",
      "\n",
      "7000 Cost:  0.18547711 \n",
      "\n",
      "w1:  [0.49441743] w2:  [0.530394] w3:  [0.26051727] w4:  [-0.02278544] w5:  [-0.00248823] w6:  [0.00662402] \n",
      "\n",
      "8000 Cost:  0.17720717 \n",
      "\n",
      "w1:  [0.5015605] w2:  [0.52628446] w3:  [0.26322252] w4:  [-0.02019925] w5:  [-0.00260894] w6:  [0.00647735] \n",
      "\n",
      "9000 Cost:  0.16976894 \n",
      "\n",
      "w1:  [0.5084165] w2:  [0.5224786] w3:  [0.2653537] w4:  [-0.01744069] w5:  [-0.00264424] w6:  [0.00630547] \n",
      "\n",
      "10000 Cost:  0.16299303 \n",
      "\n",
      "w1:  [0.51503706] w2:  [0.51889884] w3:  [0.26702932] w4:  [-0.01468277] w5:  [-0.00262842] w6:  [0.00612573] \n",
      "\n",
      "11000 Cost:  0.15677518 \n",
      "\n",
      "w1:  [0.52145237] w2:  [0.5155023] w3:  [0.2683276] w4:  [-0.01201152] w5:  [-0.00258057] w6:  [0.0059471] \n",
      "\n",
      "12000 Cost:  0.15103047 \n",
      "\n",
      "w1:  [0.5276862] w2:  [0.5122596] w3:  [0.2693048] w4:  [-0.00946635] w5:  [-0.0025116] w6:  [0.00577399] \n",
      "\n",
      "13000 Cost:  0.14569333 \n",
      "\n",
      "w1:  [0.53375584] w2:  [0.50915164] w3:  [0.27000275] w4:  [-0.00706257] w5:  [-0.00242782] w6:  [0.00560847] \n",
      "\n",
      "14000 Cost:  0.14071493 \n",
      "\n",
      "w1:  [0.5396665] w2:  [0.5061647] w3:  [0.27045533] w4:  [-0.00480238] w5:  [-0.00233317] w6:  [0.00545124] \n",
      "\n",
      "15000 Cost:  0.13605677 \n",
      "\n",
      "w1:  [0.5454372] w2:  [0.503289] w3:  [0.27068928] w4:  [-0.00267996] w5:  [-0.00222946] w6:  [0.00530203] \n",
      "\n",
      "16000 Cost:  0.13167611 \n",
      "\n",
      "w1:  [0.5510707] w2:  [0.50051886] w3:  [0.27072716] w4:  [-0.00068614] w5:  [-0.00211822] w6:  [0.00516055] \n",
      "\n",
      "17000 Cost:  0.12753944 \n",
      "\n",
      "w1:  [0.55657476] w2:  [0.4978486] w3:  [0.2705914] w4:  [0.00118618] w5:  [-0.00200109] w6:  [0.00502658] \n",
      "\n",
      "18000 Cost:  0.12361815 \n",
      "\n",
      "w1:  [0.5619587] w2:  [0.49526888] w3:  [0.2703007] w4:  [0.00294485] w5:  [-0.00187924] w6:  [0.00489974] \n",
      "\n",
      "19000 Cost:  0.11989021 \n",
      "\n",
      "w1:  [0.56722885] w2:  [0.4927757] w3:  [0.26987302] w4:  [0.00459802] w5:  [-0.00175354] w6:  [0.00477959] \n",
      "\n",
      "20000 Cost:  0.116338864 \n",
      "\n",
      "w1:  [0.5723864] w2:  [0.4903642] w3:  [0.26932168] w4:  [0.00615356] w5:  [-0.00162447] w6:  [0.00466565] \n",
      "\n",
      "21000 Cost:  0.11294702 \n",
      "\n",
      "w1:  [0.57743907] w2:  [0.4880327] w3:  [0.26866114] w4:  [0.00761904] w5:  [-0.00149266] w6:  [0.00455745] \n",
      "\n",
      "22000 Cost:  0.10969853 \n",
      "\n",
      "w1:  [0.5823956] w2:  [0.48577327] w3:  [0.2679043] w4:  [0.00900148] w5:  [-0.0013587] w6:  [0.00445464] \n",
      "\n",
      "23000 Cost:  0.106585 \n",
      "\n",
      "w1:  [0.5872543] w2:  [0.4835865] w3:  [0.2670632] w4:  [0.0103074] w5:  [-0.00122297] w6:  [0.00435677] \n",
      "\n",
      "24000 Cost:  0.103593856 \n",
      "\n",
      "w1:  [0.592022] w2:  [0.48146707] w3:  [0.26614457] w4:  [0.01154269] w5:  [-0.00108558] w6:  [0.00426348] \n",
      "\n",
      "25000 Cost:  0.10071685 \n",
      "\n",
      "w1:  [0.5967017] w2:  [0.47941175] w3:  [0.26516092] w4:  [0.01271267] w5:  [-0.00094721] w6:  [0.00417447] \n",
      "\n",
      "26000 Cost:  0.0979447 \n",
      "\n",
      "w1:  [0.6013002] w2:  [0.4774183] w3:  [0.26411965] w4:  [0.01382244] w5:  [-0.00080807] w6:  [0.00408943] \n",
      "\n",
      "27000 Cost:  0.09527526 \n",
      "\n",
      "w1:  [0.60581106] w2:  [0.4754841] w3:  [0.2630293] w4:  [0.01487644] w5:  [-0.00066844] w6:  [0.00400808] \n",
      "\n",
      "28000 Cost:  0.092696965 \n",
      "\n",
      "w1:  [0.6102483] w2:  [0.47360674] w3:  [0.26189318] w4:  [0.01587891] w5:  [-0.0005284] w6:  [0.00393013] \n",
      "\n",
      "29000 Cost:  0.09020586 \n",
      "\n",
      "w1:  [0.6146132] w2:  [0.47178346] w3:  [0.26071995] w4:  [0.01683366] w5:  [-0.00038825] w6:  [0.00385537] \n",
      "\n",
      "30000 Cost:  0.08780315 \n",
      "\n",
      "w1:  [0.61889905] w2:  [0.47001216] w3:  [0.25951508] w4:  [0.01774482] w5:  [-0.00024784] w6:  [0.00378341] \n",
      "\n"
     ]
    }
   ],
   "source": [
    "sess = tf.Session()\n",
    "sess.run(tf.global_variables_initializer())\n",
    "\n",
    "for step in range(30001):\n",
    "    cost_val, yprime_val, y_val, x_val, w1_val, w2_val, w3_val, w4_val, w5_val, w6_val, _ = sess.run([cost, yprime, y, x, w1, w2, w3, w4, w5, w6, train])\n",
    "    if step % 1000 == 0:\n",
    "#         print(step, \"Cost: \", cost_val, \"\\nx: \", x_val,  \"yprime: \", yprime_val, \"y: \", y_val)\n",
    "        print(step, \"Cost: \", cost_val, \"\\n\")\n",
    "        print(\"w1: \", w1_val, \"w2: \", w2_val, \"w3: \", w3_val, \"w4: \", w4_val, \"w5: \", w5_val, \"w6: \", w6_val, \"\\n\")"
   ]
  },
  {
   "cell_type": "code",
   "execution_count": 69,
   "metadata": {},
   "outputs": [],
   "source": [
    "import numpy as np\n",
    "import matplotlib.pyplot as plt"
   ]
  },
  {
   "cell_type": "code",
   "execution_count": 70,
   "metadata": {},
   "outputs": [],
   "source": [
    "def y(x):\n",
    "    return 1 + w1_val*(x) + w2_val*(x**2) + w3_val*(x**3) + w4_val*(x**4) + w5_val*(x**5) + w6_val*(x**6)"
   ]
  },
  {
   "cell_type": "code",
   "execution_count": 71,
   "metadata": {
    "scrolled": true
   },
   "outputs": [
    {
     "data": {
      "text/plain": [
       "[-0.27987003,\n",
       " 0.805504,\n",
       " 0.24489765,\n",
       " -0.4290671,\n",
       " 0.850437,\n",
       " 1.6896468,\n",
       " 0.2833574,\n",
       " -0.055843573,\n",
       " -0.86181325,\n",
       " 0.16807358,\n",
       " -1.6106311,\n",
       " 1.6810747,\n",
       " 0.93019867,\n",
       " -0.73111904,\n",
       " -0.30732572,\n",
       " -0.15598921,\n",
       " -1.5935323,\n",
       " -0.97710305,\n",
       " -0.63228416,\n",
       " 1.1263685,\n",
       " 1.5593276,\n",
       " 0.57093686,\n",
       " 0.20317659,\n",
       " 0.48891988,\n",
       " -2.3584368,\n",
       " 0.62184644,\n",
       " 2.6863844,\n",
       " -1.4280285,\n",
       " -0.7119396,\n",
       " 1.2073059,\n",
       " 0.23423682,\n",
       " 0.5868623,\n",
       " -0.5063061,\n",
       " -0.80890316,\n",
       " -0.8313026,\n",
       " -1.266081,\n",
       " 2.3422198,\n",
       " -0.46068507,\n",
       " 0.6499694,\n",
       " -0.31857845,\n",
       " -0.3265451,\n",
       " 2.0716693,\n",
       " 0.9697364,\n",
       " -1.2568399,\n",
       " -0.6444487,\n",
       " 0.2638434,\n",
       " -2.4340303,\n",
       " 0.7921234,\n",
       " 2.8232179,\n",
       " 0.37433589,\n",
       " -2.4917674,\n",
       " -0.66376865,\n",
       " 0.16490914,\n",
       " -1.7277125,\n",
       " 1.435269,\n",
       " -0.5391204,\n",
       " -0.7715618,\n",
       " -1.3919941,\n",
       " 1.344012,\n",
       " 0.15013409,\n",
       " 1.4025594,\n",
       " -2.1806233,\n",
       " 0.18817416,\n",
       " 0.4589782,\n",
       " -0.49878293,\n",
       " -1.4873,\n",
       " -1.4964578,\n",
       " -0.40587264,\n",
       " -1.1726956,\n",
       " -1.9370942,\n",
       " 0.5875282,\n",
       " -0.82907283,\n",
       " -0.097537264,\n",
       " 1.0446616,\n",
       " -1.4079261,\n",
       " -0.92863333,\n",
       " -0.27107888,\n",
       " -0.062776715,\n",
       " -0.96074843,\n",
       " 2.0472243,\n",
       " 0.4681782,\n",
       " -0.7887848,\n",
       " 0.3807607,\n",
       " -2.572036,\n",
       " -1.1927412,\n",
       " -0.55666196,\n",
       " -0.52853626,\n",
       " 0.6781354,\n",
       " 0.5433828,\n",
       " 0.7550178,\n",
       " -0.46161166,\n",
       " -0.3054618,\n",
       " -0.5430636,\n",
       " -0.5380777,\n",
       " -2.00621,\n",
       " 0.4010188,\n",
       " -0.21471348,\n",
       " 0.6750249,\n",
       " 1.5041001,\n",
       " 0.35308206]"
      ]
     },
     "execution_count": 71,
     "metadata": {},
     "output_type": "execute_result"
    }
   ],
   "source": [
    "[v for v in x_val]"
   ]
  },
  {
   "cell_type": "code",
   "execution_count": 72,
   "metadata": {},
   "outputs": [
    {
     "name": "stdout",
     "output_type": "stream",
     "text": [
      "[array([0.8580256], dtype=float32), array([1.9475397], dtype=float32), array([1.183632], dtype=float32), array([0.8011087], dtype=float32), array([2.0364912], dtype=float32), array([4.8686576], dtype=float32), array([1.2191278], dtype=float32), array([0.9668592], dtype=float32), array([0.6610573], dtype=float32), array([1.1185443], dtype=float32), array([0.32630086], dtype=float32), array([4.8253427], dtype=float32), array([2.2068267], dtype=float32), array([0.7030282], dtype=float32), array([0.8468179], dtype=float32), array([0.9139206], dtype=float32), array([0.33607352], dtype=float32), array([0.6216007], dtype=float32), array([0.73408645], dtype=float32), array([2.7001095], dtype=float32), array([4.2488704], dtype=float32), array([1.5568609], dtype=float32), array([1.1473552], dtype=float32), array([1.446334], dtype=float32), array([-0.03152889], dtype=float32), array([1.6318636], dtype=float32), array([13.397124], dtype=float32), array([0.42628342], dtype=float32), array([0.7090607], dtype=float32), array([2.9377475], dtype=float32), array([1.1741462], dtype=float32), array([1.5797795], dtype=float32), array([0.77468896], dtype=float32), array([0.6782965], dtype=float32), array([0.6710505], dtype=float32), array([0.5051389], dtype=float32), array([9.503943], dtype=float32), array([0.7901009], dtype=float32), array([1.6755096], dtype=float32), array([0.84233135], dtype=float32), array([0.8391907], dtype=float32), array([7.223254], dtype=float32), array([2.2974486], dtype=float32), array([0.509333], dtype=float32), array([0.73025453], dtype=float32), array([1.2008649], dtype=float32), array([-0.0333795], dtype=float32), array([1.921987], dtype=float32), array([15.331989], dtype=float32), array([1.3115075], dtype=float32), array([-0.02542496], dtype=float32), array([0.7241815], dtype=float32), array([1.1160212], dtype=float32), array([0.25788075], dtype=float32), array([3.7306714], dtype=float32), array([0.7638867], dtype=float32), array([0.6902379], dtype=float32), array([0.44469315], dtype=float32), array([3.3899822], dtype=float32), array([1.1043992], dtype=float32), array([3.6047843], dtype=float32), array([0.01467243], dtype=float32), array([1.1348553], dtype=float32), array([1.4089845], dtype=float32), array([0.77719647], dtype=float32), array([0.39498773], dtype=float32), array([0.39004517], dtype=float32), array([0.8093821], dtype=float32), array([0.5460144], dtype=float32), array([0.13495465], dtype=float32), array([1.5807483], dtype=float32), array([0.671775], dtype=float32), array([0.94386655], dtype=float32), array([2.481078], dtype=float32), array([0.43661267], dtype=float32), array([0.6385591], dtype=float32), array([0.861696], dtype=float32), array([0.9629359], dtype=float32), array([0.62738967], dtype=float32), array([7.0449095], dtype=float32), array([1.4202958], dtype=float32), array([0.68474936], dtype=float32), array([1.3185025], dtype=float32), array([0.00162995], dtype=float32), array([0.53751945], dtype=float32), array([0.75819105], dtype=float32), array([0.7673484], dtype=float32), array([1.7208562], dtype=float32), array([1.518347], dtype=float32), array([1.8533127], dtype=float32), array([0.7897826], dtype=float32), array([0.84756696], dtype=float32), array([0.7626019], dtype=float32), array([0.76422685], dtype=float32), array([0.09677975], dtype=float32), array([1.3409839], dtype=float32), array([0.8862518], dtype=float32), array([1.7157669], dtype=float32), array([4.0099864], dtype=float32), array([1.288822], dtype=float32)]\n"
     ]
    }
   ],
   "source": [
    "y_graph = [y(v) for v in x_val]\n",
    "print(y_graph)"
   ]
  },
  {
   "cell_type": "code",
   "execution_count": 73,
   "metadata": {},
   "outputs": [
    {
     "data": {
      "image/png": "[encoded data removed]",
      "text/plain": [
       "<Figure size 432x288 with 1 Axes>"
      ]
     },
     "metadata": {
      "needs_background": "light"
     },
     "output_type": "display_data"
    }
   ],
   "source": [
    "plt.plot(x_val, y(x_val), '.')\n",
    "xlim = (0, 256)\n",
    "ylim = (0, 100)\n",
    "plt.show()"
   ]
  },
  {
   "cell_type": "code",
   "execution_count": null,
   "metadata": {},
   "outputs": [],
   "source": []
  }
 ],
 "metadata": {
  "kernelspec": {
   "display_name": "Python 3",
   "language": "python",
   "name": "python3"
  },
  "language_info": {
   "codemirror_mode": {
    "name": "ipython",
    "version": 3
   },
   "file_extension": ".py",
   "mimetype": "text/x-python",
   "name": "python",
   "nbconvert_exporter": "python",
   "pygments_lexer": "ipython3",
   "version": "3.6.4"
  }
 },
 "nbformat": 4,
 "nbformat_minor": 2
}
