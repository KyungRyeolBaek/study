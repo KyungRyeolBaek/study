{
  "nbformat": 4,
  "nbformat_minor": 0,
  "metadata": {
    "kernelspec": {
      "display_name": "Python 3",
      "language": "python",
      "name": "python3"
    },
    "language_info": {
      "codemirror_mode": {
        "name": "ipython",
        "version": 3
      },
      "file_extension": ".py",
      "mimetype": "text/x-python",
      "name": "python",
      "nbconvert_exporter": "python",
      "pygments_lexer": "ipython3",
      "version": "3.7.6"
    },
    "colab": {
      "name": "2021-01-25_linear_regression_1.ipynb",
      "provenance": []
    }
  },
  "cells": [
    {
      "cell_type": "markdown",
      "metadata": {
        "id": "0UAXRk1MRcZI"
      },
      "source": [
        "# tensorflow 재설치. \n",
        "실행 후 런타임 재시작 한번 하시면 됩니다."
      ]
    },
    {
      "cell_type": "code",
      "metadata": {
        "id": "CZyjFy8aPl07"
      },
      "source": [
        "# !pip uninstall tensorflow\n",
        "# !pip install tensorflow==1.14.0"
      ],
      "execution_count": 1,
      "outputs": []
    },
    {
      "cell_type": "code",
      "metadata": {
        "id": "unog-e0uOZIi",
        "outputId": "c57c1d47-fd2b-4ab8-fabb-8ca41553a4ab",
        "colab": {
          "base_uri": "https://localhost:8080/"
        }
      },
      "source": [
        "import tensorflow as tf\n",
        "import numpy as np\n",
        "import matplotlib.pyplot as plt"
      ],
      "execution_count": 2,
      "outputs": [
        {
          "output_type": "stream",
          "text": [
            "/usr/local/lib/python3.7/dist-packages/tensorflow/python/framework/dtypes.py:516: FutureWarning: Passing (type, 1) or '1type' as a synonym of type is deprecated; in a future version of numpy, it will be understood as (type, (1,)) / '(1,)type'.\n",
            "  _np_qint8 = np.dtype([(\"qint8\", np.int8, 1)])\n",
            "/usr/local/lib/python3.7/dist-packages/tensorflow/python/framework/dtypes.py:517: FutureWarning: Passing (type, 1) or '1type' as a synonym of type is deprecated; in a future version of numpy, it will be understood as (type, (1,)) / '(1,)type'.\n",
            "  _np_quint8 = np.dtype([(\"quint8\", np.uint8, 1)])\n",
            "/usr/local/lib/python3.7/dist-packages/tensorflow/python/framework/dtypes.py:518: FutureWarning: Passing (type, 1) or '1type' as a synonym of type is deprecated; in a future version of numpy, it will be understood as (type, (1,)) / '(1,)type'.\n",
            "  _np_qint16 = np.dtype([(\"qint16\", np.int16, 1)])\n",
            "/usr/local/lib/python3.7/dist-packages/tensorflow/python/framework/dtypes.py:519: FutureWarning: Passing (type, 1) or '1type' as a synonym of type is deprecated; in a future version of numpy, it will be understood as (type, (1,)) / '(1,)type'.\n",
            "  _np_quint16 = np.dtype([(\"quint16\", np.uint16, 1)])\n",
            "/usr/local/lib/python3.7/dist-packages/tensorflow/python/framework/dtypes.py:520: FutureWarning: Passing (type, 1) or '1type' as a synonym of type is deprecated; in a future version of numpy, it will be understood as (type, (1,)) / '(1,)type'.\n",
            "  _np_qint32 = np.dtype([(\"qint32\", np.int32, 1)])\n",
            "/usr/local/lib/python3.7/dist-packages/tensorflow/python/framework/dtypes.py:525: FutureWarning: Passing (type, 1) or '1type' as a synonym of type is deprecated; in a future version of numpy, it will be understood as (type, (1,)) / '(1,)type'.\n",
            "  np_resource = np.dtype([(\"resource\", np.ubyte, 1)])\n",
            "/usr/local/lib/python3.7/dist-packages/tensorboard/compat/tensorflow_stub/dtypes.py:541: FutureWarning: Passing (type, 1) or '1type' as a synonym of type is deprecated; in a future version of numpy, it will be understood as (type, (1,)) / '(1,)type'.\n",
            "  _np_qint8 = np.dtype([(\"qint8\", np.int8, 1)])\n",
            "/usr/local/lib/python3.7/dist-packages/tensorboard/compat/tensorflow_stub/dtypes.py:542: FutureWarning: Passing (type, 1) or '1type' as a synonym of type is deprecated; in a future version of numpy, it will be understood as (type, (1,)) / '(1,)type'.\n",
            "  _np_quint8 = np.dtype([(\"quint8\", np.uint8, 1)])\n",
            "/usr/local/lib/python3.7/dist-packages/tensorboard/compat/tensorflow_stub/dtypes.py:543: FutureWarning: Passing (type, 1) or '1type' as a synonym of type is deprecated; in a future version of numpy, it will be understood as (type, (1,)) / '(1,)type'.\n",
            "  _np_qint16 = np.dtype([(\"qint16\", np.int16, 1)])\n",
            "/usr/local/lib/python3.7/dist-packages/tensorboard/compat/tensorflow_stub/dtypes.py:544: FutureWarning: Passing (type, 1) or '1type' as a synonym of type is deprecated; in a future version of numpy, it will be understood as (type, (1,)) / '(1,)type'.\n",
            "  _np_quint16 = np.dtype([(\"quint16\", np.uint16, 1)])\n",
            "/usr/local/lib/python3.7/dist-packages/tensorboard/compat/tensorflow_stub/dtypes.py:545: FutureWarning: Passing (type, 1) or '1type' as a synonym of type is deprecated; in a future version of numpy, it will be understood as (type, (1,)) / '(1,)type'.\n",
            "  _np_qint32 = np.dtype([(\"qint32\", np.int32, 1)])\n",
            "/usr/local/lib/python3.7/dist-packages/tensorboard/compat/tensorflow_stub/dtypes.py:550: FutureWarning: Passing (type, 1) or '1type' as a synonym of type is deprecated; in a future version of numpy, it will be understood as (type, (1,)) / '(1,)type'.\n",
            "  np_resource = np.dtype([(\"resource\", np.ubyte, 1)])\n"
          ],
          "name": "stderr"
        }
      ]
    },
    {
      "cell_type": "code",
      "metadata": {
        "id": "Qw9a3qfcOZIl",
        "colab": {
          "base_uri": "https://localhost:8080/",
          "height": 35
        },
        "outputId": "0e815b78-b237-4bf4-8e7c-304dae7e1861"
      },
      "source": [
        "tf.__version__"
      ],
      "execution_count": 3,
      "outputs": [
        {
          "output_type": "execute_result",
          "data": {
            "application/vnd.google.colaboratory.intrinsic+json": {
              "type": "string"
            },
            "text/plain": [
              "'1.14.0'"
            ]
          },
          "metadata": {
            "tags": []
          },
          "execution_count": 3
        }
      ]
    },
    {
      "cell_type": "code",
      "metadata": {
        "id": "8Kk1MRzIOZIl"
      },
      "source": [
        "def graph(w_number, x_number, step_number):\n",
        "    %%time\n",
        "    y = 1\n",
        "    yprime = 0\n",
        "    x = tf.Variable(tf.random_normal([x_number]), name = 'x')\n",
        "    \n",
        "    for i in range(1, w_number + 1):\n",
        "        globals()['w{}'.format(i)] = tf.Variable(tf.random_normal([1]), name = 'weight{}'.format(i))\n",
        "        y += globals()['w{}'.format(i)]*(x**i)  # y = 1 + w1*(x) + w2*(x**2) + w3*(x**3) + w4*(x**4) + w5*(x**5) + w6*(x**6)\n",
        "        yprime += i*globals()['w{}'.format(i)]*(x**(i-1))  # yprime = w1 + 2*w2*x + 3*w3*(x**2) + 4*w4*(x**3) + 5*w5*(x**4) + 6*w6*(x**5)\n",
        "    \n",
        "    cost = tf.reduce_mean(tf.square(yprime - y))\n",
        "    optimizer = tf.train.GradientDescentOptimizer(learning_rate = 1e-5)\n",
        "    train = optimizer.minimize(cost)\n",
        "    \n",
        "    sess = tf.Session()\n",
        "    sess.run(tf.global_variables_initializer())\n",
        "    \n",
        "    for step in range(step_number + 1):\n",
        "        for i in range(1, w_number + 1):\n",
        "            globals()['w{}_val'.format(i)] = sess.run([globals()['w{}'.format(i)]])\n",
        "        cost_val, yprime_val, y_val, x_val, _ = sess.run([cost, yprime, y, x, train])\n",
        "        if step % int(step_number / 5) == 0:\n",
        "    #         print(step, \"Cost: \", cost_val, \"\\nx: \", x_val,  \"yprime: \", yprime_val, \"y: \", y_val)\n",
        "            print(step, \"Cost: \", cost_val, \"\\n\")\n",
        "            print(\"w1: \", w1_val, \"w2: \", w2_val, \"w3: \", w3_val, \"w4: \", w4_val, \"w5: \", w5_val, \"w6: \", w6_val, \"\\n\")\n",
        "            \n",
        "    def y(x):\n",
        "        answer = 1\n",
        "        for i in range(1, w_number + 1):\n",
        "            answer += globals()['w{}_val'.format(i)]*(x**i)\n",
        "        return answer[0]\n",
        "    \n",
        "    globals()['w{}x{}'.format(w_number, x_number)] = [x_val, y(x_val)]\n",
        "    plt.plot(x_val, y(x_val), '.')\n",
        "    plt.show()"
      ],
      "execution_count": 34,
      "outputs": []
    },
    {
      "cell_type": "code",
      "metadata": {
        "scrolled": false,
        "id": "nC48wGtsOZIm",
        "colab": {
          "base_uri": "https://localhost:8080/",
          "height": 737
        },
        "outputId": "17bc0b18-9c9f-4d34-93d7-79253bc86c32"
      },
      "source": [
        "graph(6, 100, 30000)"
      ],
      "execution_count": 35,
      "outputs": [
        {
          "output_type": "stream",
          "text": [
            "CPU times: user 3 µs, sys: 0 ns, total: 3 µs\n",
            "Wall time: 5.48 µs\n",
            "0 Cost:  20590.537 \n",
            "\n",
            "w1:  [array([-0.49528152], dtype=float32)] w2:  [array([-0.14437383], dtype=float32)] w3:  [array([-0.21956494], dtype=float32)] w4:  [array([0.96004486], dtype=float32)] w5:  [array([1.9523621], dtype=float32)] w6:  [array([-0.9444495], dtype=float32)] \n",
            "\n",
            "6000 Cost:  3.165199 \n",
            "\n",
            "w1:  [array([-0.355094], dtype=float32)] w2:  [array([-0.2381458], dtype=float32)] w3:  [array([-0.58024645], dtype=float32)] w4:  [array([0.64963216], dtype=float32)] w5:  [array([0.41869664], dtype=float32)] w6:  [array([-0.16946904], dtype=float32)] \n",
            "\n",
            "12000 Cost:  1.6665174 \n",
            "\n",
            "w1:  [array([-0.2207138], dtype=float32)] w2:  [array([-0.32657036], dtype=float32)] w3:  [array([-0.54730535], dtype=float32)] w4:  [array([0.4556358], dtype=float32)] w5:  [array([0.32621184], dtype=float32)] w6:  [array([-0.12747604], dtype=float32)] \n",
            "\n",
            "18000 Cost:  1.2184246 \n",
            "\n",
            "w1:  [array([-0.11450641], dtype=float32)] w2:  [array([-0.3676853], dtype=float32)] w3:  [array([-0.49719024], dtype=float32)] w4:  [array([0.38141775], dtype=float32)] w5:  [array([0.27469274], dtype=float32)] w6:  [array([-0.10613649], dtype=float32)] \n",
            "\n",
            "24000 Cost:  0.9791563 \n",
            "\n",
            "w1:  [array([-0.02516819], dtype=float32)] w2:  [array([-0.3877469], dtype=float32)] w3:  [array([-0.4446221], dtype=float32)] w4:  [array([0.3524455], dtype=float32)] w5:  [array([0.24037644], dtype=float32)] w6:  [array([-0.09363799], dtype=float32)] \n",
            "\n",
            "30000 Cost:  0.812949 \n",
            "\n",
            "w1:  [array([0.05227704], dtype=float32)] w2:  [array([-0.39715767], dtype=float32)] w3:  [array([-0.39468113], dtype=float32)] w4:  [array([0.3416576], dtype=float32)] w5:  [array([0.21459062], dtype=float32)] w6:  [array([-0.0852259], dtype=float32)] \n",
            "\n"
          ],
          "name": "stdout"
        },
        {
          "output_type": "display_data",
          "data": {
            "image/png": "[encoded data removed]",
            "text/plain": [
              "<Figure size 432x288 with 1 Axes>"
            ]
          },
          "metadata": {
            "tags": [],
            "needs_background": "light"
          }
        }
      ]
    },
    {
      "cell_type": "code",
      "metadata": {
        "id": "g1nuGl6xOZIm",
        "colab": {
          "base_uri": "https://localhost:8080/",
          "height": 691
        },
        "outputId": "4c51af31-0412-40e4-c5d1-466c04ccafb9"
      },
      "source": [
        "graph(6, 1000, 30000)"
      ],
      "execution_count": null,
      "outputs": [
        {
          "output_type": "stream",
          "text": [
            "0 Cost:  1674.1755 \n",
            "\n",
            "w1:  [array([0.22503605], dtype=float32)] w2:  [array([-0.29615358], dtype=float32)] w3:  [array([0.4226972], dtype=float32)] w4:  [array([-0.33600375], dtype=float32)] w5:  [array([0.47519094], dtype=float32)] w6:  [array([-0.09891133], dtype=float32)] \n",
            "\n",
            "6000 Cost:  0.36330044 \n",
            "\n",
            "w1:  [array([0.19052328], dtype=float32)] w2:  [array([-0.13934608], dtype=float32)] w3:  [array([0.21961175], dtype=float32)] w4:  [array([0.10837085], dtype=float32)] w5:  [array([-0.00412909], dtype=float32)] w6:  [array([-0.00372566], dtype=float32)] \n",
            "\n",
            "12000 Cost:  0.3304314 \n",
            "\n",
            "w1:  [array([0.22183777], dtype=float32)] w2:  [array([-0.11581508], dtype=float32)] w3:  [array([0.20155239], dtype=float32)] w4:  [array([0.10962896], dtype=float32)] w5:  [array([-0.00163829], dtype=float32)] w6:  [array([-0.00398772], dtype=float32)] \n",
            "\n",
            "18000 Cost:  0.30439955 \n",
            "\n",
            "w1:  [array([0.2540354], dtype=float32)] w2:  [array([-0.09598428], dtype=float32)] w3:  [array([0.19178708], dtype=float32)] w4:  [array([0.10600845], dtype=float32)] w5:  [array([-0.00063459], dtype=float32)] w6:  [array([-0.00375586], dtype=float32)] \n",
            "\n",
            "24000 Cost:  0.28101203 \n",
            "\n",
            "w1:  [array([0.28533843], dtype=float32)] w2:  [array([-0.07713844], dtype=float32)] w3:  [array([0.18530048], dtype=float32)] w4:  [array([0.10343587], dtype=float32)] w5:  [array([0.00015224], dtype=float32)] w6:  [array([-0.0035733], dtype=float32)] \n",
            "\n",
            "30000 Cost:  0.25971606 \n",
            "\n",
            "w1:  [array([0.3154548], dtype=float32)] w2:  [array([-0.0589416], dtype=float32)] w3:  [array([0.18062697], dtype=float32)] w4:  [array([0.10144117], dtype=float32)] w5:  [array([0.00082309], dtype=float32)] w6:  [array([-0.00341837], dtype=float32)] \n",
            "\n"
          ],
          "name": "stdout"
        },
        {
          "output_type": "display_data",
          "data": {
            "image/png": "[encoded data removed]",
            "text/plain": [
              "<Figure size 432x288 with 1 Axes>"
            ]
          },
          "metadata": {
            "tags": [],
            "needs_background": "light"
          }
        }
      ]
    },
    {
      "cell_type": "code",
      "metadata": {
        "id": "0Zz62PnDOZIn",
        "colab": {
          "base_uri": "https://localhost:8080/",
          "height": 691
        },
        "outputId": "a187d4ad-1435-40ee-997f-6b14addb0d74"
      },
      "source": [
        "graph(6, 10000, 30000)"
      ],
      "execution_count": null,
      "outputs": [
        {
          "output_type": "stream",
          "text": [
            "0 Cost:  16542.277 \n",
            "\n",
            "w1:  [array([-0.17550696], dtype=float32)] w2:  [array([-0.5823108], dtype=float32)] w3:  [array([0.5545456], dtype=float32)] w4:  [array([0.32682055], dtype=float32)] w5:  [array([-0.38329548], dtype=float32)] w6:  [array([0.40438274], dtype=float32)] \n",
            "\n",
            "6000 Cost:  1.0762184 \n",
            "\n",
            "w1:  [array([-0.17120807], dtype=float32)] w2:  [array([-0.5098731], dtype=float32)] w3:  [array([0.40481502], dtype=float32)] w4:  [array([0.21737936], dtype=float32)] w5:  [array([-0.02148394], dtype=float32)] w6:  [array([-0.01062955], dtype=float32)] \n",
            "\n",
            "12000 Cost:  0.8266081 \n",
            "\n",
            "w1:  [array([-0.14569058], dtype=float32)] w2:  [array([-0.45367083], dtype=float32)] w3:  [array([0.310754], dtype=float32)] w4:  [array([0.17464685], dtype=float32)] w5:  [array([-0.01525361], dtype=float32)] w6:  [array([-0.00818765], dtype=float32)] \n",
            "\n",
            "18000 Cost:  0.7159659 \n",
            "\n",
            "w1:  [array([-0.11038312], dtype=float32)] w2:  [array([-0.40935737], dtype=float32)] w3:  [array([0.25881326], dtype=float32)] w4:  [array([0.15054673], dtype=float32)] w5:  [array([-0.0115135], dtype=float32)] w6:  [array([-0.00676465], dtype=float32)] \n",
            "\n",
            "24000 Cost:  0.6477433 \n",
            "\n",
            "w1:  [array([-0.07088348], dtype=float32)] w2:  [array([-0.37170604], dtype=float32)] w3:  [array([0.2294382], dtype=float32)] w4:  [array([0.13641226], dtype=float32)] w5:  [array([-0.00912096], dtype=float32)] w6:  [array([-0.00589155], dtype=float32)] \n",
            "\n",
            "30000 Cost:  0.5944598 \n",
            "\n",
            "w1:  [array([-0.03009855], dtype=float32)] w2:  [array([-0.33796737], dtype=float32)] w3:  [array([0.2122297], dtype=float32)] w4:  [array([0.12761132], dtype=float32)] w5:  [array([-0.00746605], dtype=float32)] w6:  [array([-0.00531489], dtype=float32)] \n",
            "\n"
          ],
          "name": "stdout"
        },
        {
          "output_type": "display_data",
          "data": {
            "image/png": "[encoded data removed]",
            "text/plain": [
              "<Figure size 432x288 with 1 Axes>"
            ]
          },
          "metadata": {
            "tags": [],
            "needs_background": "light"
          }
        }
      ]
    },
    {
      "cell_type": "code",
      "metadata": {
        "id": "84p6_RttOZIn",
        "colab": {
          "base_uri": "https://localhost:8080/",
          "height": 592
        },
        "outputId": "250ae72c-745e-4a70-e869-10423b082f74"
      },
      "source": [
        "x = np.array([i for i in range(-40, 50, 1)])\n",
        "plt.figure(figsize = (20, 10))\n",
        "plt.plot(0.1*x, np.exp(0.1*x), '.b', label = 'exp')\n",
        "plt.plot(w6x100[0],w6x100[1], '.r', label = 'w=6, x=100')\n",
        "plt.plot(w6x1000[0],w6x1000[1], '.g', label = 'w=6, x=1000')\n",
        "plt.plot(w6x10000[0],w6x10000[1], '.c', label = 'w=6, x=10000')\n",
        "plt.legend(loc = 'upper right', fontsize = 'large')\n",
        "\n",
        "plt.show()"
      ],
      "execution_count": null,
      "outputs": [
        {
          "output_type": "display_data",
          "data": {
            "image/png": "[encoded data removed]",
            "text/plain": [
              "<Figure size 1440x720 with 1 Axes>"
            ]
          },
          "metadata": {
            "tags": [],
            "needs_background": "light"
          }
        }
      ]
    },
    {
      "cell_type": "markdown",
      "metadata": {
        "id": "bCSdm2I4TqpF"
      },
      "source": [
        "# 2021-06-21 추가 수정"
      ]
    },
    {
      "cell_type": "code",
      "metadata": {
        "id": "HITZrtf_OfPo"
      },
      "source": [
        "import autograd.numpy as np\n",
        "from autograd import grad \n",
        "import autograd.numpy.random as npr\n",
        "\n",
        "from autograd.core import primitive\n",
        "\n",
        "from matplotlib import pyplot as plt\n",
        "%matplotlib inline\n",
        "\n",
        "nx = 10\n",
        "dx = 1. / nx\n",
        "\n",
        "def A(x):\n",
        "    '''\n",
        "        Left part of initial equation\n",
        "    '''\n",
        "    return x + (1. + 3.*x**2) / (1. + x + x**3)\n",
        "\n",
        "\n",
        "def B(x):\n",
        "    '''\n",
        "        Right part of initial equation\n",
        "    '''\n",
        "    return x**3 + 2.*x + x**2 * ((1. + 3.*x**2) / (1. + x + x**3))\n",
        "\n",
        "\n",
        "def f(x, psy):\n",
        "    '''\n",
        "        d(psy)/dx = f(x, psy)\n",
        "        This is f() function on the right\n",
        "    '''\n",
        "    return B(x) - psy * A(x)\n",
        "\n",
        "\n",
        "def psy_analytic(x):\n",
        "    '''\n",
        "        Analytical solution of current problem\n",
        "    '''\n",
        "    return (np.exp((-x**2)/2.)) / (1. + x + x**3) + x**2\n",
        "\n",
        "x_space = np.linspace(0, 1, nx)    \n",
        "y_space = psy_analytic(x_space)\n",
        "psy_fd = np.zeros_like(y_space)\n",
        "psy_fd[0] = 1. # IC\n",
        "\n",
        "for i in range(1, len(x_space)):\n",
        "    psy_fd[i] = psy_fd[i-1] + B(x_space[i]) * dx - psy_fd[i-1] * A(x_space[i]) * dx\n",
        "  \n",
        "# plt.figure()\n",
        "# plt.plot(x_space, y_space) \n",
        "# plt.plot(x_space, psy_fd)\n",
        "# plt.show()\n",
        "\n",
        "def sigmoid(x):\n",
        "    return 1 / (1 + np.exp(-x))\n",
        "\n",
        "\n",
        "def sigmoid_grad(x):\n",
        "    return sigmoid(x) * (1 - sigmoid(x))\n",
        "\n",
        "\n",
        "def neural_network(W, x):\n",
        "    a1 = sigmoid(np.dot(x, W[0]))\n",
        "    return np.dot(a1, W[1])\n",
        "\n",
        "\n",
        "def d_neural_network_dx(W, x, k=1):\n",
        "    return np.dot(np.dot(W[1].T, W[0].T**k), sigmoid_grad(x))\n",
        "\n",
        "\n",
        "def loss_function(W, x):\n",
        "    loss_sum = 0.\n",
        "    for xi in x:\n",
        "        net_out = neural_network(W, xi)[0][0]\n",
        "        psy_t = 1. + xi * net_out\n",
        "        d_net_out = d_neural_network_dx(W, xi)[0][0]\n",
        "        d_psy_t = net_out + xi * d_net_out\n",
        "        func = f(xi, psy_t)       \n",
        "        err_sqr = (d_psy_t - func)**2\n",
        "\n",
        "        loss_sum += err_sqr\n",
        "    return loss_sum\n",
        "\n",
        "W = [npr.randn(1, 10), npr.randn(10, 1)]\n",
        "lmb = 0.001\n",
        "\n",
        "x = np.array(1)\n",
        "# print neural_network(W, x)\n",
        "# print d_neural_network_dx(W, x)\n",
        "\n",
        "for i in range(1000):\n",
        "    loss_grad =  grad(loss_function)(W, x_space)\n",
        "    \n",
        "#     print loss_grad[0].shape, W[0].shape\n",
        "#     print loss_grad[1].shape, W[1].shape\n",
        "    \n",
        "    W[0] = W[0] - lmb * loss_grad[0]\n",
        "    W[1] = W[1] - lmb * loss_grad[1]\n",
        "    \n",
        "#     print loss_function(W, x_space)\n",
        "\n",
        "# print(loss_function(W, x_space))\n",
        "res = [1 + xi * neural_network(W, xi)[0][0] for xi in x_space] \n",
        "\n",
        "# print(W)\n",
        "\n",
        "# plt.figure()\n",
        "# plt.plot(x_space, y_space) \n",
        "# plt.plot(x_space, psy_fd)\n",
        "# plt.plot(x_space, res)\n",
        "# plt.show()"
      ],
      "execution_count": 4,
      "outputs": []
    },
    {
      "cell_type": "code",
      "metadata": {
        "id": "Um7LcmLW0QYt"
      },
      "source": [
        "def graph(w_number, x_number, step_number):\n",
        "    %%time\n",
        "    y = 1\n",
        "    yprime = 0\n",
        "    x = tf.Variable(tf.random_normal([x_number]), name = 'x')\n",
        "    \n",
        "    for i in range(1, w_number + 1):\n",
        "        globals()['w{}'.format(i)] = tf.Variable(tf.random_normal([1]), name = 'weight{}'.format(i))\n",
        "        y += globals()['w{}'.format(i)]*(x**i)  # y = 1 + w1*(x) + w2*(x**2) + w3*(x**3) + w4*(x**4) + w5*(x**5) + w6*(x**6)\n",
        "        yprime += i*globals()['w{}'.format(i)]*(x**(i-1))  # yprime = w1 + 2*w2*x + 3*w3*(x**2) + 4*w4*(x**3) + 5*w5*(x**4) + 6*w6*(x**5)\n",
        "    \n",
        "    cost = tf.reduce_mean(tf.square(yprime - y))\n",
        "    optimizer = tf.train.GradientDescentOptimizer(learning_rate = 1e-5)\n",
        "    train = optimizer.minimize(cost)\n",
        "    \n",
        "    sess = tf.Session()\n",
        "    sess.run(tf.global_variables_initializer())\n",
        "    \n",
        "    for step in range(step_number + 1):\n",
        "        for i in range(1, w_number + 1):\n",
        "            globals()['w{}_val'.format(i)] = sess.run([globals()['w{}'.format(i)]])\n",
        "        cost_val, yprime_val, y_val, x_val, _ = sess.run([cost, yprime, y, x, train])\n",
        "        if step % int(step_number / 5) == 0:\n",
        "    #         print(step, \"Cost: \", cost_val, \"\\nx: \", x_val,  \"yprime: \", yprime_val, \"y: \", y_val)\n",
        "            print(step, \"Cost: \", cost_val, \"\\n\")\n",
        "            print(\"w1: \", w1_val, \"w2: \", w2_val, \"w3: \", w3_val, \"w4: \", w4_val, \"w5: \", w5_val, \"w6: \", w6_val, \"\\n\")\n",
        "            \n",
        "    def y(x):\n",
        "        answer = 1\n",
        "        for i in range(1, w_number + 1):\n",
        "            answer += globals()['w{}_val'.format(i)]*(x**i)\n",
        "        return answer[0]\n",
        "    \n",
        "    globals()['w{}x{}'.format(w_number, x_number)] = [x_val, y(x_val)]\n",
        "    plt.plot(x_val, y(x_val), '.')\n",
        "    plt.show()"
      ],
      "execution_count": null,
      "outputs": []
    },
    {
      "cell_type": "code",
      "metadata": {
        "id": "BXF5ZFtTYKc5"
      },
      "source": [
        "def graph_N(w_number, x_number, step_number):\n",
        "  y = 1\n",
        "  yprime = 0\n",
        "  x = tf.Variable(tf.random_normal([x_number]), name = 'x')\n",
        "\n",
        "  for i in range(1, w_number + 1):\n",
        "    globals()['w{}'.format(i)] = tf.Variable(tf.random_normal([1]), name = 'weight{}'.format(i))\n",
        "    y += globals()['w{}'.format(i)]*(x**i)  # y = 1 + w1*(x) + w2*(x**2) + w3*(x**3) + w4*(x**4) + w5*(x**5) + w6*(x**6)\n",
        "    # y += neural_network(W, x)[0][0]\n",
        "    yprime += i*globals()['w{}'.format(i)]*(x**(i-1))  # yprime = w1 + 2*w2*x + 3*w3*(x**2) + 4*w4*(x**3) + 5*w5*(x**4) + 6*w6*(x**5)\n",
        "    yprime += d_neural_network_dx(W, 1)\n",
        "  cost = tf.reduce_mean(tf.square(yprime - y))\n",
        "  optimizer = tf.train.GradientDescentOptimizer(learning_rate = 1e-5)\n",
        "  train = optimizer.minimize(cost)\n",
        "\n",
        "  sess = tf.Session()\n",
        "  sess.run(tf.global_variables_initializer())\n",
        "\n",
        "  for step in range(step_number + 1):\n",
        "    for i in range(1, w_number + 1):\n",
        "        globals()['w{}_val'.format(i)] = sess.run([globals()['w{}'.format(i)]])\n",
        "    cost_val, yprime_val, y_val, x_val, _ = sess.run([cost, yprime, y, x, train])\n",
        "    if step % int(step_number / 5) == 0:\n",
        "  #         print(step, \"Cost: \", cost_val, \"\\nx: \", x_val,  \"yprime: \", yprime_val, \"y: \", y_val)\n",
        "        print(step, \"Cost: \", cost_val, \"\\n\")\n",
        "        print(\"w1: \", w1_val, \"w2: \", w2_val, \"w3: \", w3_val, \"w4: \", w4_val, \"w5: \", w5_val, \"w6: \", w6_val, \"\\n\")\n",
        "        \n",
        "  def y(x):\n",
        "    answer = 1\n",
        "    for i in range(1, w_number + 1):\n",
        "        answer += globals()['w{}_val'.format(i)]*(x**i)\n",
        "    return answer[0]\n",
        "\n",
        "  globals()['w{}x{}'.format(w_number, x_number)] = [x_val, y(x_val)]\n",
        "  plt.plot(x_val, y(x_val), '.')\n",
        "  plt.show()"
      ],
      "execution_count": 40,
      "outputs": []
    },
    {
      "cell_type": "code",
      "metadata": {
        "id": "QxIy-fKuw-BO"
      },
      "source": [
        "w_number, x_number, step_number = 6, 100, 30000\n",
        "y = 1\n",
        "yprime = 0\n",
        "x = tf.Variable(tf.random_normal([x_number]), name = 'x')\n",
        "# x_space = np.linspace(0, 1, nx)\n",
        "# [neural_network(W, xi)[0][0] for xi in x_space] "
      ],
      "execution_count": 31,
      "outputs": []
    },
    {
      "cell_type": "code",
      "metadata": {
        "id": "Ihr1Rsm1wS6p"
      },
      "source": [
        "w_number, x_number, step_number = 6, 100, 30000\n",
        "y = 1\n",
        "yprime = 0\n",
        "x = tf.Variable(tf.random_normal([x_number], seed = 7), name = 'x')\n",
        "xi = tf.random_normal([x_number], seed = 7)\n",
        "\n",
        "for i in range(1, w_number + 1):\n",
        "  globals()['w{}'.format(i)] = tf.Variable(tf.random_normal([1]), name = 'weight{}'.format(i))\n",
        "  y += globals()['w{}'.format(i)]*(x**i)  # y = 1 + w1*(x) + w2*(x**2) + w3*(x**3) + w4*(x**4) + w5*(x**5) + w6*(x**6)\n",
        "  y += neural_network(W, 0.1)[0][0]\n",
        "  yprime += i*globals()['w{}'.format(i)]*(x**(i-1))  # yprime = w1 + 2*w2*x + 3*w3*(x**2) + 4*w4*(x**3) + 5*w5*(x**4) + 6*w6*(x**5)\n",
        "  # yprime += d_neural_network_dx(W, 1)\n",
        "cost = tf.reduce_mean(tf.square(yprime - y))\n",
        "optimizer = tf.train.GradientDescentOptimizer(learning_rate = 1e-5)\n",
        "train = optimizer.minimize(cost)\n",
        "\n",
        "sess = tf.Session()\n",
        "sess.run(tf.global_variables_initializer())\n",
        "\n",
        "# for step in range(step_number + 1):\n",
        "#   for i in range(1, w_number + 1):\n",
        "#       globals()['w{}_val'.format(i)] = sess.run([globals()['w{}'.format(i)]])\n",
        "#   cost_val, yprime_val, y_val, x_val, _ = sess.run([cost, yprime, y, x, train])\n",
        "#   if step % int(step_number / 5) == 0:\n",
        "# #         print(step, \"Cost: \", cost_val, \"\\nx: \", x_val,  \"yprime: \", yprime_val, \"y: \", y_val)\n",
        "#       print(step, \"Cost: \", cost_val, \"\\n\")\n",
        "#       print(\"w1: \", w1_val, \"w2: \", w2_val, \"w3: \", w3_val, \"w4: \", w4_val, \"w5: \", w5_val, \"w6: \", w6_val, \"\\n\")\n",
        "      \n",
        "# def y(x):\n",
        "#   answer = 1\n",
        "#   for i in range(1, w_number + 1):\n",
        "#       answer += globals()['w{}_val'.format(i)]*(x**i)\n",
        "#   return answer[0]\n",
        "\n",
        "# globals()['w{}x{}'.format(w_number, x_number)] = [x_val, y(x_val)]\n",
        "# plt.plot(x_val, y(x_val), '.')\n",
        "# plt.show()"
      ],
      "execution_count": 55,
      "outputs": []
    },
    {
      "cell_type": "code",
      "metadata": {
        "colab": {
          "base_uri": "https://localhost:8080/",
          "height": 1000
        },
        "id": "qe29rhl2YbGL",
        "outputId": "fec9783d-66ad-45e2-a087-bbf903dbb5ac"
      },
      "source": [
        "graph_N(6, 100, 30000)\n",
        "graph_N(6, 1000, 30000)\n",
        "graph_N(6, 10000, 30000)"
      ],
      "execution_count": 41,
      "outputs": [
        {
          "output_type": "stream",
          "text": [
            "0 Cost:  13450.183 \n",
            "\n",
            "w1:  [array([1.293387], dtype=float32)] w2:  [array([0.10165562], dtype=float32)] w3:  [array([0.41230524], dtype=float32)] w4:  [array([0.04083968], dtype=float32)] w5:  [array([-2.0635266], dtype=float32)] w6:  [array([-0.78854465], dtype=float32)] \n",
            "\n",
            "6000 Cost:  24.406519 \n",
            "\n",
            "w1:  [array([0.7289162], dtype=float32)] w2:  [array([0.33656108], dtype=float32)] w3:  [array([0.2261066], dtype=float32)] w4:  [array([0.19219731], dtype=float32)] w5:  [array([-0.9790135], dtype=float32)] w6:  [array([-0.43826088], dtype=float32)] \n",
            "\n",
            "12000 Cost:  18.609327 \n",
            "\n",
            "w1:  [array([0.31121984], dtype=float32)] w2:  [array([0.44900557], dtype=float32)] w3:  [array([0.01856664], dtype=float32)] w4:  [array([0.18202041], dtype=float32)] w5:  [array([-0.9751548], dtype=float32)] w6:  [array([-0.48576233], dtype=float32)] \n",
            "\n",
            "18000 Cost:  15.108413 \n",
            "\n",
            "w1:  [array([-0.02523027], dtype=float32)] w2:  [array([0.50382483], dtype=float32)] w3:  [array([-0.11426352], dtype=float32)] w4:  [array([0.13302006], dtype=float32)] w5:  [array([-0.9583873], dtype=float32)] w6:  [array([-0.5071768], dtype=float32)] \n",
            "\n",
            "24000 Cost:  12.562369 \n",
            "\n",
            "w1:  [array([-0.31075904], dtype=float32)] w2:  [array([0.53399706], dtype=float32)] w3:  [array([-0.21215974], dtype=float32)] w4:  [array([0.07965151], dtype=float32)] w5:  [array([-0.94340426], dtype=float32)] w6:  [array([-0.520225], dtype=float32)] \n",
            "\n",
            "30000 Cost:  10.688447 \n",
            "\n",
            "w1:  [array([-0.55753124], dtype=float32)] w2:  [array([0.54878753], dtype=float32)] w3:  [array([-0.2846541], dtype=float32)] w4:  [array([0.0259696], dtype=float32)] w5:  [array([-0.92938375], dtype=float32)] w6:  [array([-0.52511525], dtype=float32)] \n",
            "\n"
          ],
          "name": "stdout"
        },
        {
          "output_type": "display_data",
          "data": {
            "image/png": "[encoded data removed]",
            "text/plain": [
              "<Figure size 432x288 with 1 Axes>"
            ]
          },
          "metadata": {
            "tags": [],
            "needs_background": "light"
          }
        },
        {
          "output_type": "stream",
          "text": [
            "0 Cost:  4824.3584 \n",
            "\n",
            "w1:  [array([-0.6633776], dtype=float32)] w2:  [array([-0.01175488], dtype=float32)] w3:  [array([3.1886625], dtype=float32)] w4:  [array([0.5900314], dtype=float32)] w5:  [array([1.6464615], dtype=float32)] w6:  [array([0.37505236], dtype=float32)] \n",
            "\n",
            "6000 Cost:  39.675594 \n",
            "\n",
            "w1:  [array([-1.3513299], dtype=float32)] w2:  [array([0.34151784], dtype=float32)] w3:  [array([1.334134], dtype=float32)] w4:  [array([0.37915063], dtype=float32)] w5:  [array([-0.16952159], dtype=float32)] w6:  [array([-0.04470785], dtype=float32)] \n",
            "\n",
            "12000 Cost:  20.977152 \n",
            "\n",
            "w1:  [array([-1.7847126], dtype=float32)] w2:  [array([0.39778367], dtype=float32)] w3:  [array([0.490537], dtype=float32)] w4:  [array([-0.00073201], dtype=float32)] w5:  [array([-0.11356431], dtype=float32)] w6:  [array([-0.02179909], dtype=float32)] \n",
            "\n",
            "18000 Cost:  13.354324 \n",
            "\n",
            "w1:  [array([-2.1004066], dtype=float32)] w2:  [array([0.37734386], dtype=float32)] w3:  [array([-0.04866066], dtype=float32)] w4:  [array([-0.22956015], dtype=float32)] w5:  [array([-0.07123363], dtype=float32)] w6:  [array([-0.00617042], dtype=float32)] \n",
            "\n",
            "24000 Cost:  9.782963 \n",
            "\n",
            "w1:  [array([-2.340193], dtype=float32)] w2:  [array([0.31136063], dtype=float32)] w3:  [array([-0.40578225], dtype=float32)] w4:  [array([-0.3716254], dtype=float32)] w5:  [array([-0.04269084], dtype=float32)] w6:  [array([0.00392056], dtype=float32)] \n",
            "\n",
            "30000 Cost:  7.9149437 \n",
            "\n",
            "w1:  [array([-2.5301423], dtype=float32)] w2:  [array([0.21902537], dtype=float32)] w3:  [array([-0.64509326], dtype=float32)] w4:  [array([-0.45997235], dtype=float32)] w5:  [array([-0.02425867], dtype=float32)] w6:  [array([0.01030902], dtype=float32)] \n",
            "\n"
          ],
          "name": "stdout"
        },
        {
          "output_type": "display_data",
          "data": {
            "image/png": "[encoded data removed]",
            "text/plain": [
              "<Figure size 432x288 with 1 Axes>"
            ]
          },
          "metadata": {
            "tags": [],
            "needs_background": "light"
          }
        },
        {
          "output_type": "stream",
          "text": [
            "0 Cost:  19916.188 \n",
            "\n",
            "w1:  [array([-1.7793304], dtype=float32)] w2:  [array([-0.26734802], dtype=float32)] w3:  [array([0.39394024], dtype=float32)] w4:  [array([-0.19300933], dtype=float32)] w5:  [array([-0.6452084], dtype=float32)] w6:  [array([0.6596733], dtype=float32)] \n",
            "\n",
            "6000 Cost:  11.052685 \n",
            "\n",
            "w1:  [array([-2.1612287], dtype=float32)] w2:  [array([-0.14291608], dtype=float32)] w3:  [array([-0.3162494], dtype=float32)] w4:  [array([-0.23768908], dtype=float32)] w5:  [array([-0.05275263], dtype=float32)] w6:  [array([-0.00228784], dtype=float32)] \n",
            "\n",
            "12000 Cost:  8.032146 \n",
            "\n",
            "w1:  [array([-2.4053962], dtype=float32)] w2:  [array([-0.16644679], dtype=float32)] w3:  [array([-0.62870413], dtype=float32)] w4:  [array([-0.3691309], dtype=float32)] w5:  [array([-0.0389194], dtype=float32)] w6:  [array([0.00422818], dtype=float32)] \n",
            "\n",
            "18000 Cost:  6.880058 \n",
            "\n",
            "w1:  [array([-2.5992143], dtype=float32)] w2:  [array([-0.227327], dtype=float32)] w3:  [array([-0.7771994], dtype=float32)] w4:  [array([-0.43078023], dtype=float32)] w5:  [array([-0.03338443], dtype=float32)] w6:  [array([0.00718348], dtype=float32)] \n",
            "\n",
            "24000 Cost:  6.204007 \n",
            "\n",
            "w1:  [array([-2.7650006], dtype=float32)] w2:  [array([-0.30471003], dtype=float32)] w3:  [array([-0.8472175], dtype=float32)] w4:  [array([-0.45827678], dtype=float32)] w5:  [array([-0.0316634], dtype=float32)] w6:  [array([0.00840819], dtype=float32)] \n",
            "\n",
            "30000 Cost:  5.674862 \n",
            "\n",
            "w1:  [array([-2.913696], dtype=float32)] w2:  [array([-0.38861907], dtype=float32)] w3:  [array([-0.8798433], dtype=float32)] w4:  [array([-0.46925145], dtype=float32)] w5:  [array([-0.03171459], dtype=float32)] w6:  [array([0.0087952], dtype=float32)] \n",
            "\n"
          ],
          "name": "stdout"
        },
        {
          "output_type": "display_data",
          "data": {
            "image/png": "[encoded data removed]",
            "text/plain": [
              "<Figure size 432x288 with 1 Axes>"
            ]
          },
          "metadata": {
            "tags": [],
            "needs_background": "light"
          }
        }
      ]
    },
    {
      "cell_type": "code",
      "metadata": {
        "colab": {
          "base_uri": "https://localhost:8080/",
          "height": 595
        },
        "id": "A89_TanZrT0g",
        "outputId": "225707bc-66eb-4912-9e19-7af95664b519"
      },
      "source": [
        "x = np.array([i for i in range(-40, 50, 1)])\n",
        "plt.figure(figsize = (20, 10))\n",
        "plt.plot(0.1*x, np.exp(0.1*x), '.b', label = 'exp')\n",
        "plt.plot(w6x100[0],w6x100[1], '.r', label = 'w=6, x=100')\n",
        "plt.plot(w6x1000[0],w6x1000[1], '.g', label = 'w=6, x=1000')\n",
        "plt.plot(w6x10000[0],w6x10000[1], '.c', label = 'w=6, x=10000')\n",
        "plt.legend(loc = 'upper right', fontsize = 'large')\n",
        "\n",
        "plt.show()"
      ],
      "execution_count": 42,
      "outputs": [
        {
          "output_type": "display_data",
          "data": {
            "image/png": "[encoded data removed]",
            "text/plain": [
              "<Figure size 1440x720 with 1 Axes>"
            ]
          },
          "metadata": {
            "tags": [],
            "needs_background": "light"
          }
        }
      ]
    },
    {
      "cell_type": "code",
      "metadata": {
        "id": "rcdWSiDk_xeW",
        "colab": {
          "base_uri": "https://localhost:8080/"
        },
        "outputId": "8bcb5f0c-6f40-45ba-9815-8d5b1096e8c7"
      },
      "source": [
        "x"
      ],
      "execution_count": null,
      "outputs": [
        {
          "output_type": "execute_result",
          "data": {
            "text/plain": [
              "array([-40, -39, -38, -37, -36, -35, -34, -33, -32, -31, -30, -29, -28,\n",
              "       -27, -26, -25, -24, -23, -22, -21, -20, -19, -18, -17, -16, -15,\n",
              "       -14, -13, -12, -11, -10,  -9,  -8,  -7,  -6,  -5,  -4,  -3,  -2,\n",
              "        -1,   0,   1,   2,   3,   4,   5,   6,   7,   8,   9,  10,  11,\n",
              "        12,  13,  14,  15,  16,  17,  18,  19,  20,  21,  22,  23,  24,\n",
              "        25,  26,  27,  28,  29,  30,  31,  32,  33,  34,  35,  36,  37,\n",
              "        38,  39,  40,  41,  42,  43,  44,  45,  46,  47,  48,  49])"
            ]
          },
          "metadata": {
            "tags": []
          },
          "execution_count": 18
        }
      ]
    },
    {
      "cell_type": "code",
      "metadata": {
        "id": "t2Mewh4JGFCP",
        "colab": {
          "base_uri": "https://localhost:8080/",
          "height": 265
        },
        "outputId": "b63fab49-9573-4f5c-d1fd-4fa0185e5acb"
      },
      "source": [
        "x_space = np.linspace(0, 1, nx)    \n",
        "y_space = psy_analytic(x_space)\n",
        "psy_fd = np.zeros_like(y_space)\n",
        "psy_fd[0] = 1. # IC\n",
        "\n",
        "for i in range(1, len(x_space)):\n",
        "    psy_fd[i] = psy_fd[i-1] + B(x_space[i]) * dx - psy_fd[i-1] * A(x_space[i]) * dx\n",
        "\n",
        "W = [npr.randn(1, 10), npr.randn(10, 1)]\n",
        "lmb = 0.001\n",
        "\n",
        "x = np.array(1)\n",
        "# print neural_network(W, x)\n",
        "# print d_neural_network_dx(W, x)\n",
        "\n",
        "for i in range(1000):\n",
        "    loss_grad =  grad(loss_function)(W, x_space)\n",
        "    \n",
        "#     print loss_grad[0].shape, W[0].shape\n",
        "#     print loss_grad[1].shape, W[1].shape\n",
        "    \n",
        "    W[0] = W[0] - lmb * loss_grad[0]\n",
        "    W[1] = W[1] - lmb * loss_grad[1]\n",
        "    \n",
        "#     print loss_function(W, x_space)\n",
        "\n",
        "# print(loss_function(W, x_space))\n",
        "res = [1 + xi * neural_network(W, xi)[0][0] for xi in x_space] \n",
        "\n",
        "# print(W)\n",
        "\n",
        "plt.figure()\n",
        "plt.plot(x_space, y_space) \n",
        "plt.plot(x_space, psy_fd)\n",
        "plt.plot(x_space, res)\n",
        "plt.show()"
      ],
      "execution_count": null,
      "outputs": [
        {
          "output_type": "display_data",
          "data": {
            "image/png": "[encoded data removed]",
            "text/plain": [
              "<Figure size 432x288 with 1 Axes>"
            ]
          },
          "metadata": {
            "tags": [],
            "needs_background": "light"
          }
        }
      ]
    },
    {
      "cell_type": "code",
      "metadata": {
        "id": "ihRzt1FGGseM"
      },
      "source": [
        ""
      ],
      "execution_count": null,
      "outputs": []
    }
  ]
}