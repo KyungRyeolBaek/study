{
  "nbformat": 4,
  "nbformat_minor": 0,
  "metadata": {
    "kernelspec": {
      "display_name": "Python 3",
      "language": "python",
      "name": "python3"
    },
    "language_info": {
      "codemirror_mode": {
        "name": "ipython",
        "version": 3
      },
      "file_extension": ".py",
      "mimetype": "text/x-python",
      "name": "python",
      "nbconvert_exporter": "python",
      "pygments_lexer": "ipython3",
      "version": "3.7.6"
    },
    "colab": {
      "name": "2021-01-25_linear_regression_1.ipynb",
      "provenance": []
    }
  },
  "cells": [
    {
      "cell_type": "markdown",
      "metadata": {
        "id": "0UAXRk1MRcZI"
      },
      "source": [
        "# tensorflow 재설치. \n",
        "실행 후 런타임 재시작 한번 하시면 됩니다."
      ]
    },
    {
      "cell_type": "code",
      "metadata": {
        "id": "CZyjFy8aPl07",
        "outputId": "47cd1831-c76a-4dbe-b5e5-5269666a5464",
        "colab": {
          "base_uri": "https://localhost:8080/",
          "height": 853
        }
      },
      "source": [
        "!pip uninstall tensorflow\n",
        "!pip install tensorflow==1.14.0"
      ],
      "execution_count": 8,
      "outputs": [
        {
          "output_type": "stream",
          "text": [
            "\u001b[33mWARNING: Skipping tensorflow as it is not installed.\u001b[0m\n",
            "Collecting tensorflow==1.14.0\n",
            "\u001b[?25l  Downloading https://files.pythonhosted.org/packages/f4/28/96efba1a516cdacc2e2d6d081f699c001d414cc8ca3250e6d59ae657eb2b/tensorflow-1.14.0-cp37-cp37m-manylinux1_x86_64.whl (109.3MB)\n",
            "\u001b[K     |████████████████████████████████| 109.3MB 98kB/s \n",
            "\u001b[?25hRequirement already satisfied: astor>=0.6.0 in /usr/local/lib/python3.7/dist-packages (from tensorflow==1.14.0) (0.8.1)\n",
            "Requirement already satisfied: google-pasta>=0.1.6 in /usr/local/lib/python3.7/dist-packages (from tensorflow==1.14.0) (0.2.0)\n",
            "Requirement already satisfied: termcolor>=1.1.0 in /usr/local/lib/python3.7/dist-packages (from tensorflow==1.14.0) (1.1.0)\n",
            "Requirement already satisfied: wheel>=0.26 in /usr/local/lib/python3.7/dist-packages (from tensorflow==1.14.0) (0.36.2)\n",
            "Collecting tensorboard<1.15.0,>=1.14.0\n",
            "\u001b[?25l  Downloading https://files.pythonhosted.org/packages/91/2d/2ed263449a078cd9c8a9ba50ebd50123adf1f8cfbea1492f9084169b89d9/tensorboard-1.14.0-py3-none-any.whl (3.1MB)\n",
            "\u001b[K     |████████████████████████████████| 3.2MB 34.9MB/s \n",
            "\u001b[?25hRequirement already satisfied: absl-py>=0.7.0 in /usr/local/lib/python3.7/dist-packages (from tensorflow==1.14.0) (0.12.0)\n",
            "Requirement already satisfied: numpy<2.0,>=1.14.5 in /usr/local/lib/python3.7/dist-packages (from tensorflow==1.14.0) (1.19.5)\n",
            "Requirement already satisfied: grpcio>=1.8.6 in /usr/local/lib/python3.7/dist-packages (from tensorflow==1.14.0) (1.34.1)\n",
            "Requirement already satisfied: six>=1.10.0 in /usr/local/lib/python3.7/dist-packages (from tensorflow==1.14.0) (1.15.0)\n",
            "Requirement already satisfied: gast>=0.2.0 in /usr/local/lib/python3.7/dist-packages (from tensorflow==1.14.0) (0.4.0)\n",
            "Requirement already satisfied: protobuf>=3.6.1 in /usr/local/lib/python3.7/dist-packages (from tensorflow==1.14.0) (3.12.4)\n",
            "Collecting tensorflow-estimator<1.15.0rc0,>=1.14.0rc0\n",
            "\u001b[?25l  Downloading https://files.pythonhosted.org/packages/3c/d5/21860a5b11caf0678fbc8319341b0ae21a07156911132e0e71bffed0510d/tensorflow_estimator-1.14.0-py2.py3-none-any.whl (488kB)\n",
            "\u001b[K     |████████████████████████████████| 491kB 28.9MB/s \n",
            "\u001b[?25hCollecting keras-applications>=1.0.6\n",
            "\u001b[?25l  Downloading https://files.pythonhosted.org/packages/71/e3/19762fdfc62877ae9102edf6342d71b28fbfd9dea3d2f96a882ce099b03f/Keras_Applications-1.0.8-py3-none-any.whl (50kB)\n",
            "\u001b[K     |████████████████████████████████| 51kB 5.7MB/s \n",
            "\u001b[?25hRequirement already satisfied: keras-preprocessing>=1.0.5 in /usr/local/lib/python3.7/dist-packages (from tensorflow==1.14.0) (1.1.2)\n",
            "Requirement already satisfied: wrapt>=1.11.1 in /usr/local/lib/python3.7/dist-packages (from tensorflow==1.14.0) (1.12.1)\n",
            "Requirement already satisfied: setuptools>=41.0.0 in /usr/local/lib/python3.7/dist-packages (from tensorboard<1.15.0,>=1.14.0->tensorflow==1.14.0) (57.0.0)\n",
            "Requirement already satisfied: markdown>=2.6.8 in /usr/local/lib/python3.7/dist-packages (from tensorboard<1.15.0,>=1.14.0->tensorflow==1.14.0) (3.3.4)\n",
            "Requirement already satisfied: werkzeug>=0.11.15 in /usr/local/lib/python3.7/dist-packages (from tensorboard<1.15.0,>=1.14.0->tensorflow==1.14.0) (1.0.1)\n",
            "Requirement already satisfied: h5py in /usr/local/lib/python3.7/dist-packages (from keras-applications>=1.0.6->tensorflow==1.14.0) (3.1.0)\n",
            "Requirement already satisfied: importlib-metadata; python_version < \"3.8\" in /usr/local/lib/python3.7/dist-packages (from markdown>=2.6.8->tensorboard<1.15.0,>=1.14.0->tensorflow==1.14.0) (4.5.0)\n",
            "Requirement already satisfied: cached-property; python_version < \"3.8\" in /usr/local/lib/python3.7/dist-packages (from h5py->keras-applications>=1.0.6->tensorflow==1.14.0) (1.5.2)\n",
            "Requirement already satisfied: zipp>=0.5 in /usr/local/lib/python3.7/dist-packages (from importlib-metadata; python_version < \"3.8\"->markdown>=2.6.8->tensorboard<1.15.0,>=1.14.0->tensorflow==1.14.0) (3.4.1)\n",
            "Requirement already satisfied: typing-extensions>=3.6.4; python_version < \"3.8\" in /usr/local/lib/python3.7/dist-packages (from importlib-metadata; python_version < \"3.8\"->markdown>=2.6.8->tensorboard<1.15.0,>=1.14.0->tensorflow==1.14.0) (3.7.4.3)\n",
            "\u001b[31mERROR: kapre 0.3.5 has requirement tensorflow>=2.0.0, but you'll have tensorflow 1.14.0 which is incompatible.\u001b[0m\n",
            "Installing collected packages: tensorboard, tensorflow-estimator, keras-applications, tensorflow\n",
            "  Found existing installation: tensorboard 2.5.0\n",
            "    Uninstalling tensorboard-2.5.0:\n",
            "      Successfully uninstalled tensorboard-2.5.0\n",
            "  Found existing installation: tensorflow-estimator 2.5.0\n",
            "    Uninstalling tensorflow-estimator-2.5.0:\n",
            "      Successfully uninstalled tensorflow-estimator-2.5.0\n",
            "Successfully installed keras-applications-1.0.8 tensorboard-1.14.0 tensorflow-1.14.0 tensorflow-estimator-1.14.0\n"
          ],
          "name": "stdout"
        },
        {
          "output_type": "display_data",
          "data": {
            "application/vnd.colab-display-data+json": {
              "pip_warning": {
                "packages": [
                  "tensorboard",
                  "tensorflow"
                ]
              }
            }
          },
          "metadata": {
            "tags": []
          }
        }
      ]
    },
    {
      "cell_type": "code",
      "metadata": {
        "id": "unog-e0uOZIi",
        "outputId": "41fc354d-89a0-4881-8011-84e34816df56",
        "colab": {
          "base_uri": "https://localhost:8080/"
        }
      },
      "source": [
        "import tensorflow as tf\n",
        "import numpy as np\n",
        "import matplotlib.pyplot as plt"
      ],
      "execution_count": 1,
      "outputs": [
        {
          "output_type": "stream",
          "text": [
            "/usr/local/lib/python3.7/dist-packages/tensorflow/python/framework/dtypes.py:516: FutureWarning: Passing (type, 1) or '1type' as a synonym of type is deprecated; in a future version of numpy, it will be understood as (type, (1,)) / '(1,)type'.\n",
            "  _np_qint8 = np.dtype([(\"qint8\", np.int8, 1)])\n",
            "/usr/local/lib/python3.7/dist-packages/tensorflow/python/framework/dtypes.py:517: FutureWarning: Passing (type, 1) or '1type' as a synonym of type is deprecated; in a future version of numpy, it will be understood as (type, (1,)) / '(1,)type'.\n",
            "  _np_quint8 = np.dtype([(\"quint8\", np.uint8, 1)])\n",
            "/usr/local/lib/python3.7/dist-packages/tensorflow/python/framework/dtypes.py:518: FutureWarning: Passing (type, 1) or '1type' as a synonym of type is deprecated; in a future version of numpy, it will be understood as (type, (1,)) / '(1,)type'.\n",
            "  _np_qint16 = np.dtype([(\"qint16\", np.int16, 1)])\n",
            "/usr/local/lib/python3.7/dist-packages/tensorflow/python/framework/dtypes.py:519: FutureWarning: Passing (type, 1) or '1type' as a synonym of type is deprecated; in a future version of numpy, it will be understood as (type, (1,)) / '(1,)type'.\n",
            "  _np_quint16 = np.dtype([(\"quint16\", np.uint16, 1)])\n",
            "/usr/local/lib/python3.7/dist-packages/tensorflow/python/framework/dtypes.py:520: FutureWarning: Passing (type, 1) or '1type' as a synonym of type is deprecated; in a future version of numpy, it will be understood as (type, (1,)) / '(1,)type'.\n",
            "  _np_qint32 = np.dtype([(\"qint32\", np.int32, 1)])\n",
            "/usr/local/lib/python3.7/dist-packages/tensorflow/python/framework/dtypes.py:525: FutureWarning: Passing (type, 1) or '1type' as a synonym of type is deprecated; in a future version of numpy, it will be understood as (type, (1,)) / '(1,)type'.\n",
            "  np_resource = np.dtype([(\"resource\", np.ubyte, 1)])\n",
            "/usr/local/lib/python3.7/dist-packages/tensorboard/compat/tensorflow_stub/dtypes.py:541: FutureWarning: Passing (type, 1) or '1type' as a synonym of type is deprecated; in a future version of numpy, it will be understood as (type, (1,)) / '(1,)type'.\n",
            "  _np_qint8 = np.dtype([(\"qint8\", np.int8, 1)])\n",
            "/usr/local/lib/python3.7/dist-packages/tensorboard/compat/tensorflow_stub/dtypes.py:542: FutureWarning: Passing (type, 1) or '1type' as a synonym of type is deprecated; in a future version of numpy, it will be understood as (type, (1,)) / '(1,)type'.\n",
            "  _np_quint8 = np.dtype([(\"quint8\", np.uint8, 1)])\n",
            "/usr/local/lib/python3.7/dist-packages/tensorboard/compat/tensorflow_stub/dtypes.py:543: FutureWarning: Passing (type, 1) or '1type' as a synonym of type is deprecated; in a future version of numpy, it will be understood as (type, (1,)) / '(1,)type'.\n",
            "  _np_qint16 = np.dtype([(\"qint16\", np.int16, 1)])\n",
            "/usr/local/lib/python3.7/dist-packages/tensorboard/compat/tensorflow_stub/dtypes.py:544: FutureWarning: Passing (type, 1) or '1type' as a synonym of type is deprecated; in a future version of numpy, it will be understood as (type, (1,)) / '(1,)type'.\n",
            "  _np_quint16 = np.dtype([(\"quint16\", np.uint16, 1)])\n",
            "/usr/local/lib/python3.7/dist-packages/tensorboard/compat/tensorflow_stub/dtypes.py:545: FutureWarning: Passing (type, 1) or '1type' as a synonym of type is deprecated; in a future version of numpy, it will be understood as (type, (1,)) / '(1,)type'.\n",
            "  _np_qint32 = np.dtype([(\"qint32\", np.int32, 1)])\n",
            "/usr/local/lib/python3.7/dist-packages/tensorboard/compat/tensorflow_stub/dtypes.py:550: FutureWarning: Passing (type, 1) or '1type' as a synonym of type is deprecated; in a future version of numpy, it will be understood as (type, (1,)) / '(1,)type'.\n",
            "  np_resource = np.dtype([(\"resource\", np.ubyte, 1)])\n"
          ],
          "name": "stderr"
        }
      ]
    },
    {
      "cell_type": "code",
      "metadata": {
        "id": "Qw9a3qfcOZIl",
        "outputId": "32afe2f7-c7d3-4893-f547-942a8d231f7d",
        "colab": {
          "base_uri": "https://localhost:8080/",
          "height": 34
        }
      },
      "source": [
        "tf.__version__"
      ],
      "execution_count": 2,
      "outputs": [
        {
          "output_type": "execute_result",
          "data": {
            "application/vnd.google.colaboratory.intrinsic+json": {
              "type": "string"
            },
            "text/plain": [
              "'1.14.0'"
            ]
          },
          "metadata": {
            "tags": []
          },
          "execution_count": 2
        }
      ]
    },
    {
      "cell_type": "code",
      "metadata": {
        "id": "8Kk1MRzIOZIl"
      },
      "source": [
        "def graph(w_number, x_number, step_number):\n",
        "    %%time\n",
        "    y = 1\n",
        "    yprime = 0\n",
        "    x = tf.Variable(tf.random_normal([x_number]), name = 'x')\n",
        "    \n",
        "    for i in range(1, w_number + 1):\n",
        "        globals()['w{}'.format(i)] = tf.Variable(tf.random_normal([1]), name = 'weight{}'.format(i))\n",
        "        y += globals()['w{}'.format(i)]*(x**i)  # y = 1 + w1*(x) + w2*(x**2) + w3*(x**3) + w4*(x**4) + w5*(x**5) + w6*(x**6)\n",
        "        yprime += i*globals()['w{}'.format(i)]*(x**(i-1))  # yprime = w1 + 2*w2*x + 3*w3*(x**2) + 4*w4*(x**3) + 5*w5*(x**4) + 6*w6*(x**5)\n",
        "    \n",
        "    cost = tf.reduce_mean(tf.square(yprime - y))\n",
        "    optimizer = tf.train.GradientDescentOptimizer(learning_rate = 1e-5)\n",
        "    train = optimizer.minimize(cost)\n",
        "    \n",
        "    sess = tf.Session()\n",
        "    sess.run(tf.global_variables_initializer())\n",
        "    \n",
        "    for step in range(step_number + 1):\n",
        "        for i in range(1, w_number + 1):\n",
        "            globals()['w{}_val'.format(i)] = sess.run([globals()['w{}'.format(i)]])\n",
        "        cost_val, yprime_val, y_val, x_val, _ = sess.run([cost, yprime, y, x, train])\n",
        "        if step % int(step_number / 5) == 0:\n",
        "    #         print(step, \"Cost: \", cost_val, \"\\nx: \", x_val,  \"yprime: \", yprime_val, \"y: \", y_val)\n",
        "            print(step, \"Cost: \", cost_val, \"\\n\")\n",
        "            print(\"w1: \", w1_val, \"w2: \", w2_val, \"w3: \", w3_val, \"w4: \", w4_val, \"w5: \", w5_val, \"w6: \", w6_val, \"\\n\")\n",
        "            \n",
        "    def y(x):\n",
        "        answer = 1\n",
        "        for i in range(1, w_number + 1):\n",
        "            answer += globals()['w{}_val'.format(i)]*(x**i)\n",
        "        return answer[0]\n",
        "    \n",
        "    globals()['w{}x{}'.format(w_number, x_number)] = [x_val, y(x_val)]\n",
        "    plt.plot(x_val, y(x_val), '.')\n",
        "    plt.show()"
      ],
      "execution_count": 3,
      "outputs": []
    },
    {
      "cell_type": "code",
      "metadata": {
        "scrolled": false,
        "id": "nC48wGtsOZIm",
        "outputId": "7382e027-8162-4b65-d464-c0991bd39089",
        "colab": {
          "base_uri": "https://localhost:8080/",
          "height": 691
        }
      },
      "source": [
        "graph(6, 100, 30000)"
      ],
      "execution_count": 5,
      "outputs": [
        {
          "output_type": "stream",
          "text": [
            "0 Cost:  2765.5916 \n",
            "\n",
            "w1:  [array([1.2230387], dtype=float32)] w2:  [array([-0.39536425], dtype=float32)] w3:  [array([-1.1803962], dtype=float32)] w4:  [array([-1.792004], dtype=float32)] w5:  [array([-0.24328007], dtype=float32)] w6:  [array([-0.16846558], dtype=float32)] \n",
            "\n",
            "6000 Cost:  4.43597 \n",
            "\n",
            "w1:  [array([1.0769826], dtype=float32)] w2:  [array([-0.00456852], dtype=float32)] w3:  [array([-1.256238], dtype=float32)] w4:  [array([-0.7064952], dtype=float32)] w5:  [array([0.12721656], dtype=float32)] w6:  [array([0.09477866], dtype=float32)] \n",
            "\n",
            "12000 Cost:  2.580317 \n",
            "\n",
            "w1:  [array([1.1041596], dtype=float32)] w2:  [array([0.07087775], dtype=float32)] w3:  [array([-1.0883006], dtype=float32)] w4:  [array([-0.48287], dtype=float32)] w5:  [array([0.13093184], dtype=float32)] w6:  [array([0.06743483], dtype=float32)] \n",
            "\n",
            "18000 Cost:  1.7316006 \n",
            "\n",
            "w1:  [array([1.1409498], dtype=float32)] w2:  [array([0.10578667], dtype=float32)] w3:  [array([-0.927832], dtype=float32)] w4:  [array([-0.3665582], dtype=float32)] w5:  [array([0.12145471], dtype=float32)] w6:  [array([0.0540683], dtype=float32)] \n",
            "\n",
            "24000 Cost:  1.2201561 \n",
            "\n",
            "w1:  [array([1.1708106], dtype=float32)] w2:  [array([0.1323675], dtype=float32)] w3:  [array([-0.7930863], dtype=float32)] w4:  [array([-0.2857614], dtype=float32)] w5:  [array([0.11069429], dtype=float32)] w6:  [array([0.0446951], dtype=float32)] \n",
            "\n",
            "30000 Cost:  0.8892285 \n",
            "\n",
            "w1:  [array([1.1928321], dtype=float32)] w2:  [array([0.1563826], dtype=float32)] w3:  [array([-0.6810588], dtype=float32)] w4:  [array([-0.2232023], dtype=float32)] w5:  [array([0.10072254], dtype=float32)] w6:  [array([0.03718851], dtype=float32)] \n",
            "\n"
          ],
          "name": "stdout"
        },
        {
          "output_type": "display_data",
          "data": {
            "image/png": "[encoded data removed]",
            "text/plain": [
              "<Figure size 432x288 with 1 Axes>"
            ]
          },
          "metadata": {
            "tags": [],
            "needs_background": "light"
          }
        }
      ]
    },
    {
      "cell_type": "code",
      "metadata": {
        "id": "g1nuGl6xOZIm",
        "outputId": "4c51af31-0412-40e4-c5d1-466c04ccafb9",
        "colab": {
          "base_uri": "https://localhost:8080/",
          "height": 691
        }
      },
      "source": [
        "graph(6, 1000, 30000)"
      ],
      "execution_count": 6,
      "outputs": [
        {
          "output_type": "stream",
          "text": [
            "0 Cost:  1674.1755 \n",
            "\n",
            "w1:  [array([0.22503605], dtype=float32)] w2:  [array([-0.29615358], dtype=float32)] w3:  [array([0.4226972], dtype=float32)] w4:  [array([-0.33600375], dtype=float32)] w5:  [array([0.47519094], dtype=float32)] w6:  [array([-0.09891133], dtype=float32)] \n",
            "\n",
            "6000 Cost:  0.36330044 \n",
            "\n",
            "w1:  [array([0.19052328], dtype=float32)] w2:  [array([-0.13934608], dtype=float32)] w3:  [array([0.21961175], dtype=float32)] w4:  [array([0.10837085], dtype=float32)] w5:  [array([-0.00412909], dtype=float32)] w6:  [array([-0.00372566], dtype=float32)] \n",
            "\n",
            "12000 Cost:  0.3304314 \n",
            "\n",
            "w1:  [array([0.22183777], dtype=float32)] w2:  [array([-0.11581508], dtype=float32)] w3:  [array([0.20155239], dtype=float32)] w4:  [array([0.10962896], dtype=float32)] w5:  [array([-0.00163829], dtype=float32)] w6:  [array([-0.00398772], dtype=float32)] \n",
            "\n",
            "18000 Cost:  0.30439955 \n",
            "\n",
            "w1:  [array([0.2540354], dtype=float32)] w2:  [array([-0.09598428], dtype=float32)] w3:  [array([0.19178708], dtype=float32)] w4:  [array([0.10600845], dtype=float32)] w5:  [array([-0.00063459], dtype=float32)] w6:  [array([-0.00375586], dtype=float32)] \n",
            "\n",
            "24000 Cost:  0.28101203 \n",
            "\n",
            "w1:  [array([0.28533843], dtype=float32)] w2:  [array([-0.07713844], dtype=float32)] w3:  [array([0.18530048], dtype=float32)] w4:  [array([0.10343587], dtype=float32)] w5:  [array([0.00015224], dtype=float32)] w6:  [array([-0.0035733], dtype=float32)] \n",
            "\n",
            "30000 Cost:  0.25971606 \n",
            "\n",
            "w1:  [array([0.3154548], dtype=float32)] w2:  [array([-0.0589416], dtype=float32)] w3:  [array([0.18062697], dtype=float32)] w4:  [array([0.10144117], dtype=float32)] w5:  [array([0.00082309], dtype=float32)] w6:  [array([-0.00341837], dtype=float32)] \n",
            "\n"
          ],
          "name": "stdout"
        },
        {
          "output_type": "display_data",
          "data": {
            "image/png": "[encoded data removed]",
            "text/plain": [
              "<Figure size 432x288 with 1 Axes>"
            ]
          },
          "metadata": {
            "tags": [],
            "needs_background": "light"
          }
        }
      ]
    },
    {
      "cell_type": "code",
      "metadata": {
        "id": "0Zz62PnDOZIn",
        "outputId": "a187d4ad-1435-40ee-997f-6b14addb0d74",
        "colab": {
          "base_uri": "https://localhost:8080/",
          "height": 691
        }
      },
      "source": [
        "graph(6, 10000, 30000)"
      ],
      "execution_count": 7,
      "outputs": [
        {
          "output_type": "stream",
          "text": [
            "0 Cost:  16542.277 \n",
            "\n",
            "w1:  [array([-0.17550696], dtype=float32)] w2:  [array([-0.5823108], dtype=float32)] w3:  [array([0.5545456], dtype=float32)] w4:  [array([0.32682055], dtype=float32)] w5:  [array([-0.38329548], dtype=float32)] w6:  [array([0.40438274], dtype=float32)] \n",
            "\n",
            "6000 Cost:  1.0762184 \n",
            "\n",
            "w1:  [array([-0.17120807], dtype=float32)] w2:  [array([-0.5098731], dtype=float32)] w3:  [array([0.40481502], dtype=float32)] w4:  [array([0.21737936], dtype=float32)] w5:  [array([-0.02148394], dtype=float32)] w6:  [array([-0.01062955], dtype=float32)] \n",
            "\n",
            "12000 Cost:  0.8266081 \n",
            "\n",
            "w1:  [array([-0.14569058], dtype=float32)] w2:  [array([-0.45367083], dtype=float32)] w3:  [array([0.310754], dtype=float32)] w4:  [array([0.17464685], dtype=float32)] w5:  [array([-0.01525361], dtype=float32)] w6:  [array([-0.00818765], dtype=float32)] \n",
            "\n",
            "18000 Cost:  0.7159659 \n",
            "\n",
            "w1:  [array([-0.11038312], dtype=float32)] w2:  [array([-0.40935737], dtype=float32)] w3:  [array([0.25881326], dtype=float32)] w4:  [array([0.15054673], dtype=float32)] w5:  [array([-0.0115135], dtype=float32)] w6:  [array([-0.00676465], dtype=float32)] \n",
            "\n",
            "24000 Cost:  0.6477433 \n",
            "\n",
            "w1:  [array([-0.07088348], dtype=float32)] w2:  [array([-0.37170604], dtype=float32)] w3:  [array([0.2294382], dtype=float32)] w4:  [array([0.13641226], dtype=float32)] w5:  [array([-0.00912096], dtype=float32)] w6:  [array([-0.00589155], dtype=float32)] \n",
            "\n",
            "30000 Cost:  0.5944598 \n",
            "\n",
            "w1:  [array([-0.03009855], dtype=float32)] w2:  [array([-0.33796737], dtype=float32)] w3:  [array([0.2122297], dtype=float32)] w4:  [array([0.12761132], dtype=float32)] w5:  [array([-0.00746605], dtype=float32)] w6:  [array([-0.00531489], dtype=float32)] \n",
            "\n"
          ],
          "name": "stdout"
        },
        {
          "output_type": "display_data",
          "data": {
            "image/png": "[encoded data removed]",
            "text/plain": [
              "<Figure size 432x288 with 1 Axes>"
            ]
          },
          "metadata": {
            "tags": [],
            "needs_background": "light"
          }
        }
      ]
    },
    {
      "cell_type": "code",
      "metadata": {
        "id": "84p6_RttOZIn",
        "outputId": "250ae72c-745e-4a70-e869-10423b082f74",
        "colab": {
          "base_uri": "https://localhost:8080/",
          "height": 592
        }
      },
      "source": [
        "x = np.array([i for i in range(-40, 50, 1)])\n",
        "plt.figure(figsize = (20, 10))\n",
        "plt.plot(0.1*x, np.exp(0.1*x), '.b', label = 'exp')\n",
        "plt.plot(w6x100[0],w6x100[1], '.r', label = 'w=6, x=100')\n",
        "plt.plot(w6x1000[0],w6x1000[1], '.g', label = 'w=6, x=1000')\n",
        "plt.plot(w6x10000[0],w6x10000[1], '.c', label = 'w=6, x=10000')\n",
        "plt.legend(loc = 'upper right', fontsize = 'large')\n",
        "\n",
        "plt.show()"
      ],
      "execution_count": 13,
      "outputs": [
        {
          "output_type": "display_data",
          "data": {
            "image/png": "[encoded data removed]",
            "text/plain": [
              "<Figure size 1440x720 with 1 Axes>"
            ]
          },
          "metadata": {
            "tags": [],
            "needs_background": "light"
          }
        }
      ]
    },
    {
      "cell_type": "markdown",
      "metadata": {
        "id": "bCSdm2I4TqpF"
      },
      "source": [
        "# 2021-06-21 추가 수정"
      ]
    },
    {
      "cell_type": "code",
      "metadata": {
        "id": "HITZrtf_OfPo"
      },
      "source": [
        "import autograd.numpy as np\n",
        "from autograd import grad \n",
        "import autograd.numpy.random as npr\n",
        "\n",
        "from autograd.core import primitive\n",
        "\n",
        "from matplotlib import pyplot as plt\n",
        "%matplotlib inline\n",
        "\n",
        "nx = 10\n",
        "dx = 1. / nx\n",
        "\n",
        "def A(x):\n",
        "    '''\n",
        "        Left part of initial equation\n",
        "    '''\n",
        "    return x + (1. + 3.*x**2) / (1. + x + x**3)\n",
        "\n",
        "\n",
        "def B(x):\n",
        "    '''\n",
        "        Right part of initial equation\n",
        "    '''\n",
        "    return x**3 + 2.*x + x**2 * ((1. + 3.*x**2) / (1. + x + x**3))\n",
        "\n",
        "\n",
        "def f(x, psy):\n",
        "    '''\n",
        "        d(psy)/dx = f(x, psy)\n",
        "        This is f() function on the right\n",
        "    '''\n",
        "    return B(x) - psy * A(x)\n",
        "\n",
        "\n",
        "def psy_analytic(x):\n",
        "    '''\n",
        "        Analytical solution of current problem\n",
        "    '''\n",
        "    return (np.exp((-x**2)/2.)) / (1. + x + x**3) + x**2\n",
        "\n",
        "x_space = np.linspace(0, 1, nx)    \n",
        "y_space = psy_analytic(x_space)\n",
        "psy_fd = np.zeros_like(y_space)\n",
        "psy_fd[0] = 1. # IC\n",
        "\n",
        "for i in range(1, len(x_space)):\n",
        "    psy_fd[i] = psy_fd[i-1] + B(x_space[i]) * dx - psy_fd[i-1] * A(x_space[i]) * dx\n",
        "  \n",
        "# plt.figure()\n",
        "# plt.plot(x_space, y_space) \n",
        "# plt.plot(x_space, psy_fd)\n",
        "# plt.show()\n",
        "\n",
        "def sigmoid(x):\n",
        "    return 1 / (1 + np.exp(-x))\n",
        "\n",
        "\n",
        "def sigmoid_grad(x):\n",
        "    return sigmoid(x) * (1 - sigmoid(x))\n",
        "\n",
        "\n",
        "def neural_network(W, x):\n",
        "    a1 = sigmoid(np.dot(x, W[0]))\n",
        "    return np.dot(a1, W[1])\n",
        "\n",
        "\n",
        "def d_neural_network_dx(W, x, k=1):\n",
        "    return np.dot(np.dot(W[1].T, W[0].T**k), sigmoid_grad(x))\n",
        "\n",
        "\n",
        "def loss_function(W, x):\n",
        "    loss_sum = 0.\n",
        "    for xi in x:\n",
        "        net_out = neural_network(W, xi)[0][0]\n",
        "        psy_t = 1. + xi * net_out\n",
        "        d_net_out = d_neural_network_dx(W, xi)[0][0]\n",
        "        d_psy_t = net_out + xi * d_net_out\n",
        "        func = f(xi, psy_t)       \n",
        "        err_sqr = (d_psy_t - func)**2\n",
        "\n",
        "        loss_sum += err_sqr\n",
        "    return loss_sum\n",
        "\n",
        "W = [npr.randn(1, 10), npr.randn(10, 1)]\n",
        "lmb = 0.001\n",
        "\n",
        "x = np.array(1)\n",
        "# print neural_network(W, x)\n",
        "# print d_neural_network_dx(W, x)\n",
        "\n",
        "for i in range(1000):\n",
        "    loss_grad =  grad(loss_function)(W, x_space)\n",
        "    \n",
        "#     print loss_grad[0].shape, W[0].shape\n",
        "#     print loss_grad[1].shape, W[1].shape\n",
        "    \n",
        "    W[0] = W[0] - lmb * loss_grad[0]\n",
        "    W[1] = W[1] - lmb * loss_grad[1]\n",
        "    \n",
        "#     print loss_function(W, x_space)\n",
        "\n",
        "# print(loss_function(W, x_space))\n",
        "res = [1 + xi * neural_network(W, xi)[0][0] for xi in x_space] \n",
        "\n",
        "# print(W)\n",
        "\n",
        "# plt.figure()\n",
        "# plt.plot(x_space, y_space) \n",
        "# plt.plot(x_space, psy_fd)\n",
        "# plt.plot(x_space, res)\n",
        "# plt.show()"
      ],
      "execution_count": 18,
      "outputs": []
    },
    {
      "cell_type": "code",
      "metadata": {
        "id": "QbEoj3QnXbV2"
      },
      "source": [
        "def graph_N(w_number, x_number, step_number):\n",
        "    y = 1\n",
        "    yprime = 0\n",
        "    x = tf.Variable(tf.random_normal([x_number]), name = 'x')\n",
        "    \n",
        "    for i in range(1, w_number + 1):\n",
        "        globals()['w{}'.format(i)] = tf.Variable(tf.random_normal([1]), name = 'weight{}'.format(i))\n",
        "        y += globals()['w{}'.format(i)]*(x**i)  # y = 1 + w1*(x) + w2*(x**2) + w3*(x**3) + w4*(x**4) + w5*(x**5) + w6*(x**6)\n",
        "        yprime += i*globals()['w{}'.format(i)]*(x**(i-1))  # yprime = w1 + 2*w2*x + 3*w3*(x**2) + 4*w4*(x**3) + 5*w5*(x**4) + 6*w6*(x**5)\n",
        "    \n",
        "    cost = tf.reduce_mean(tf.square(yprime - y))\n",
        "    optimizer = tf.train.GradientDescentOptimizer(learning_rate = 1e-5)\n",
        "    train = optimizer.minimize(cost)\n",
        "    \n",
        "    sess = tf.Session()\n",
        "    sess.run(tf.global_variables_initializer())\n",
        "    \n",
        "    for step in range(step_number + 1):\n",
        "        for i in range(1, w_number + 1):\n",
        "            globals()['w{}_val'.format(i)] = sess.run([globals()['w{}'.format(i)]])\n",
        "        cost_val, yprime_val, y_val, x_val, _ = sess.run([cost, yprime, y, x, train])\n",
        "        if step % int(step_number / 5) == 0:\n",
        "    #         print(step, \"Cost: \", cost_val, \"\\nx: \", x_val,  \"yprime: \", yprime_val, \"y: \", y_val)\n",
        "            print(step, \"Cost: \", cost_val, \"\\n\")\n",
        "            print(\"w1: \", w1_val, \"w2: \", w2_val, \"w3: \", w3_val, \"w4: \", w4_val, \"w5: \", w5_val, \"w6: \", w6_val, \"\\n\")\n",
        "            \n",
        "    def y(x):\n",
        "        answer = 1\n",
        "        for i in range(1, w_number + 1):\n",
        "            answer += globals()['w{}_val'.format(i)]*(x**i)\n",
        "        return answer[0]\n",
        "    \n",
        "    globals()['w{}x{}'.format(w_number, x_number)] = [x_val, y(x_val)]\n",
        "    plt.plot(x_val, y(x_val), '.')\n",
        "    plt.show()"
      ],
      "execution_count": null,
      "outputs": []
    },
    {
      "cell_type": "code",
      "metadata": {
        "id": "BXF5ZFtTYKc5"
      },
      "source": [
        "def graph_N(w_number, x_number, step_number):\n",
        "  y = 1\n",
        "  yprime = 0\n",
        "  x = tf.Variable(tf.random_normal([x_number]), name = 'x')\n",
        "\n",
        "  for i in range(1, w_number + 1):\n",
        "    globals()['w{}'.format(i)] = tf.Variable(tf.random_normal([1]), name = 'weight{}'.format(i))\n",
        "    y += globals()['w{}'.format(i)]*(x**i)  # y = 1 + w1*(x) + w2*(x**2) + w3*(x**3) + w4*(x**4) + w5*(x**5) + w6*(x**6)\n",
        "    y += neural_network(W, x)[0][0]\n",
        "    yprime += i*globals()['w{}'.format(i)]*(x**(i-1))  # yprime = w1 + 2*w2*x + 3*w3*(x**2) + 4*w4*(x**3) + 5*w5*(x**4) + 6*w6*(x**5)\n",
        "    yprime += d_neural_network_dx(W, 1)\n",
        "  cost = tf.reduce_mean(tf.square(yprime - y))\n",
        "  optimizer = tf.train.GradientDescentOptimizer(learning_rate = 1e-5)\n",
        "  train = optimizer.minimize(cost)\n",
        "\n",
        "  sess = tf.Session()\n",
        "  sess.run(tf.global_variables_initializer())\n",
        "\n",
        "  for step in range(step_number + 1):\n",
        "    for i in range(1, w_number + 1):\n",
        "        globals()['w{}_val'.format(i)] = sess.run([globals()['w{}'.format(i)]])\n",
        "    cost_val, yprime_val, y_val, x_val, _ = sess.run([cost, yprime, y, x, train])\n",
        "    if step % int(step_number / 5) == 0:\n",
        "  #         print(step, \"Cost: \", cost_val, \"\\nx: \", x_val,  \"yprime: \", yprime_val, \"y: \", y_val)\n",
        "        print(step, \"Cost: \", cost_val, \"\\n\")\n",
        "        print(\"w1: \", w1_val, \"w2: \", w2_val, \"w3: \", w3_val, \"w4: \", w4_val, \"w5: \", w5_val, \"w6: \", w6_val, \"\\n\")\n",
        "        \n",
        "  def y(x):\n",
        "    answer = 1\n",
        "    for i in range(1, w_number + 1):\n",
        "        answer += globals()['w{}_val'.format(i)]*(x**i)\n",
        "    return answer[0]\n",
        "\n",
        "  globals()['w{}x{}'.format(w_number, x_number)] = [x_val, y(x_val)]\n",
        "  plt.plot(x_val, y(x_val), '.')\n",
        "  plt.show()"
      ],
      "execution_count": 30,
      "outputs": []
    },
    {
      "cell_type": "code",
      "metadata": {
        "id": "qe29rhl2YbGL",
        "outputId": "6902f86b-bae2-4426-a64a-fbee9d34e129",
        "colab": {
          "base_uri": "https://localhost:8080/",
          "height": 1000
        }
      },
      "source": [
        "graph(6, 100, 30000)\n",
        "graph(6, 1000, 30000)\n",
        "graph(6, 10000, 30000)"
      ],
      "execution_count": 31,
      "outputs": [
        {
          "output_type": "stream",
          "text": [
            "0 Cost:  78125.53 \n",
            "\n",
            "w1:  [array([-1.4321502], dtype=float32)] w2:  [array([-1.5899175], dtype=float32)] w3:  [array([0.704434], dtype=float32)] w4:  [array([0.7909279], dtype=float32)] w5:  [array([1.4626967], dtype=float32)] w6:  [array([-0.70908636], dtype=float32)] \n",
            "\n",
            "6000 Cost:  2.4678888 \n",
            "\n",
            "w1:  [array([-1.3104626], dtype=float32)] w2:  [array([-1.6179756], dtype=float32)] w3:  [array([0.49377942], dtype=float32)] w4:  [array([0.61616004], dtype=float32)] w5:  [array([-0.04447815], dtype=float32)] w6:  [array([-0.06427387], dtype=float32)] \n",
            "\n",
            "12000 Cost:  2.0975714 \n",
            "\n",
            "w1:  [array([-1.229837], dtype=float32)] w2:  [array([-1.6037472], dtype=float32)] w3:  [array([0.4465603], dtype=float32)] w4:  [array([0.5391756], dtype=float32)] w5:  [array([-0.04974389], dtype=float32)] w6:  [array([-0.05482843], dtype=float32)] \n",
            "\n",
            "18000 Cost:  1.9138821 \n",
            "\n",
            "w1:  [array([-1.1592962], dtype=float32)] w2:  [array([-1.5727634], dtype=float32)] w3:  [array([0.40784892], dtype=float32)] w4:  [array([0.5189833], dtype=float32)] w5:  [array([-0.04712186], dtype=float32)] w6:  [array([-0.05319924], dtype=float32)] \n",
            "\n",
            "24000 Cost:  1.766203 \n",
            "\n",
            "w1:  [array([-1.0913993], dtype=float32)] w2:  [array([-1.5403439], dtype=float32)] w3:  [array([0.3781039], dtype=float32)] w4:  [array([0.51382005], dtype=float32)] w5:  [array([-0.04358681], dtype=float32)] w6:  [array([-0.05344623], dtype=float32)] \n",
            "\n",
            "30000 Cost:  1.6370419 \n",
            "\n",
            "w1:  [array([-1.0251883], dtype=float32)] w2:  [array([-1.509489], dtype=float32)] w3:  [array([0.35502055], dtype=float32)] w4:  [array([0.5134404], dtype=float32)] w5:  [array([-0.04037988], dtype=float32)] w6:  [array([-0.0541574], dtype=float32)] \n",
            "\n"
          ],
          "name": "stdout"
        },
        {
          "output_type": "display_data",
          "data": {
            "image/png": "[encoded data removed]",
            "text/plain": [
              "<Figure size 432x288 with 1 Axes>"
            ]
          },
          "metadata": {
            "tags": [],
            "needs_background": "light"
          }
        },
        {
          "output_type": "stream",
          "text": [
            "0 Cost:  5341.6543 \n",
            "\n",
            "w1:  [array([-1.21794], dtype=float32)] w2:  [array([0.28128603], dtype=float32)] w3:  [array([2.3273616], dtype=float32)] w4:  [array([-0.8752297], dtype=float32)] w5:  [array([-0.88784575], dtype=float32)] w6:  [array([0.30138466], dtype=float32)] \n",
            "\n",
            "6000 Cost:  5.421517 \n",
            "\n",
            "w1:  [array([-1.3280566], dtype=float32)] w2:  [array([0.58827955], dtype=float32)] w3:  [array([1.5962266], dtype=float32)] w4:  [array([0.06887627], dtype=float32)] w5:  [array([-0.14016195], dtype=float32)] w6:  [array([-0.00022512], dtype=float32)] \n",
            "\n",
            "12000 Cost:  4.0124083 \n",
            "\n",
            "w1:  [array([-1.2313963], dtype=float32)] w2:  [array([0.5576892], dtype=float32)] w3:  [array([1.3461677], dtype=float32)] w4:  [array([0.04455365], dtype=float32)] w5:  [array([-0.11609571], dtype=float32)] w6:  [array([0.00056949], dtype=float32)] \n",
            "\n",
            "18000 Cost:  3.2137458 \n",
            "\n",
            "w1:  [array([-1.1214408], dtype=float32)] w2:  [array([0.51241577], dtype=float32)] w3:  [array([1.1765198], dtype=float32)] w4:  [array([0.01246244], dtype=float32)] w5:  [array([-0.10174116], dtype=float32)] w6:  [array([0.0033388], dtype=float32)] \n",
            "\n",
            "24000 Cost:  2.6663866 \n",
            "\n",
            "w1:  [array([-1.0109124], dtype=float32)] w2:  [array([0.46832567], dtype=float32)] w3:  [array([1.0488863], dtype=float32)] w4:  [array([-0.00475233], dtype=float32)] w5:  [array([-0.09054852], dtype=float32)] w6:  [array([0.00496287], dtype=float32)] \n",
            "\n",
            "30000 Cost:  2.2558157 \n",
            "\n",
            "w1:  [array([-0.9030613], dtype=float32)] w2:  [array([0.42750084], dtype=float32)] w3:  [array([0.94865316], dtype=float32)] w4:  [array([-0.01152445], dtype=float32)] w5:  [array([-0.0813835], dtype=float32)] w6:  [array([0.00566631], dtype=float32)] \n",
            "\n"
          ],
          "name": "stdout"
        },
        {
          "output_type": "display_data",
          "data": {
            "image/png": "[encoded data removed]",
            "text/plain": [
              "<Figure size 432x288 with 1 Axes>"
            ]
          },
          "metadata": {
            "tags": [],
            "needs_background": "light"
          }
        },
        {
          "output_type": "stream",
          "text": [
            "0 Cost:  63943.63 \n",
            "\n",
            "w1:  [array([1.6749017], dtype=float32)] w2:  [array([0.5989829], dtype=float32)] w3:  [array([0.4842402], dtype=float32)] w4:  [array([0.16648926], dtype=float32)] w5:  [array([0.45943823], dtype=float32)] w6:  [array([1.4471037], dtype=float32)] \n",
            "\n",
            "6000 Cost:  0.40105423 \n",
            "\n",
            "w1:  [array([1.5869428], dtype=float32)] w2:  [array([0.67694503], dtype=float32)] w3:  [array([0.2608654], dtype=float32)] w4:  [array([0.11599608], dtype=float32)] w5:  [array([0.01259298], dtype=float32)] w6:  [array([-0.00189323], dtype=float32)] \n",
            "\n",
            "12000 Cost:  0.19766663 \n",
            "\n",
            "w1:  [array([1.5325826], dtype=float32)] w2:  [array([0.7002034], dtype=float32)] w3:  [array([0.1807329], dtype=float32)] w4:  [array([0.07203708], dtype=float32)] w5:  [array([0.01689389], dtype=float32)] w6:  [array([0.0007907], dtype=float32)] \n",
            "\n",
            "18000 Cost:  0.12763184 \n",
            "\n",
            "w1:  [array([1.4917989], dtype=float32)] w2:  [array([0.71279836], dtype=float32)] w3:  [array([0.13990687], dtype=float32)] w4:  [array([0.04736406], dtype=float32)] w5:  [array([0.01893791], dtype=float32)] w6:  [array([0.00228734], dtype=float32)] \n",
            "\n",
            "24000 Cost:  0.09916891 \n",
            "\n",
            "w1:  [array([1.4592551], dtype=float32)] w2:  [array([0.7191743], dtype=float32)] w3:  [array([0.12027259], dtype=float32)] w4:  [array([0.03354179], dtype=float32)] w5:  [array([0.01979007], dtype=float32)] w6:  [array([0.00311414], dtype=float32)] \n",
            "\n",
            "30000 Cost:  0.084320985 \n",
            "\n",
            "w1:  [array([1.4319557], dtype=float32)] w2:  [array([0.72179], dtype=float32)] w3:  [array([0.11197659], dtype=float32)] w4:  [array([0.02576525], dtype=float32)] w5:  [array([0.02001101], dtype=float32)] w6:  [array([0.00356797], dtype=float32)] \n",
            "\n"
          ],
          "name": "stdout"
        },
        {
          "output_type": "display_data",
          "data": {
            "image/png": "[encoded data removed]",
            "text/plain": [
              "<Figure size 432x288 with 1 Axes>"
            ]
          },
          "metadata": {
            "tags": [],
            "needs_background": "light"
          }
        }
      ]
    },
    {
      "cell_type": "code",
      "metadata": {
        "id": "A89_TanZrT0g",
        "outputId": "7758329d-4955-4f1f-dbb1-683bdb03fc2e",
        "colab": {
          "base_uri": "https://localhost:8080/",
          "height": 592
        }
      },
      "source": [
        "x = np.array([i for i in range(-40, 50, 1)])\n",
        "plt.figure(figsize = (20, 10))\n",
        "plt.plot(0.1*x, np.exp(0.1*x), '.b', label = 'exp')\n",
        "plt.plot(w6x100[0],w6x100[1], '.r', label = 'w=6, x=100')\n",
        "plt.plot(w6x1000[0],w6x1000[1], '.g', label = 'w=6, x=1000')\n",
        "plt.plot(w6x10000[0],w6x10000[1], '.c', label = 'w=6, x=10000')\n",
        "plt.legend(loc = 'upper right', fontsize = 'large')\n",
        "\n",
        "plt.show()"
      ],
      "execution_count": 33,
      "outputs": [
        {
          "output_type": "display_data",
          "data": {
            "image/png": "[encoded data removed]",
            "text/plain": [
              "<Figure size 1440x720 with 1 Axes>"
            ]
          },
          "metadata": {
            "tags": [],
            "needs_background": "light"
          }
        }
      ]
    },
    {
      "cell_type": "code",
      "metadata": {
        "id": "rcdWSiDk_xeW"
      },
      "source": [
        ""
      ],
      "execution_count": null,
      "outputs": []
    }
  ]
}