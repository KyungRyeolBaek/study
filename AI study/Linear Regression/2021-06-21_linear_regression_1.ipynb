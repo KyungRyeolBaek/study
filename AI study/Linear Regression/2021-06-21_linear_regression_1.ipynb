{
  "nbformat": 4,
  "nbformat_minor": 0,
  "metadata": {
    "kernelspec": {
      "display_name": "Python 3",
      "language": "python",
      "name": "python3"
    },
    "language_info": {
      "codemirror_mode": {
        "name": "ipython",
        "version": 3
      },
      "file_extension": ".py",
      "mimetype": "text/x-python",
      "name": "python",
      "nbconvert_exporter": "python",
      "pygments_lexer": "ipython3",
      "version": "3.7.6"
    },
    "colab": {
      "name": "2021-01-25_linear_regression_1.ipynb",
      "provenance": []
    }
  },
  "cells": [
    {
      "cell_type": "code",
      "metadata": {
        "id": "unog-e0uOZIi"
      },
      "source": [
        "import tensorflow as tf\n",
        "import numpy as np\n",
        "import matplotlib.pyplot as plt"
      ],
      "execution_count": null,
      "outputs": []
    },
    {
      "cell_type": "code",
      "metadata": {
        "id": "6IH2wMpJOuk3"
      },
      "source": [
        ""
      ],
      "execution_count": null,
      "outputs": []
    },
    {
      "cell_type": "code",
      "metadata": {
        "id": "Qw9a3qfcOZIl",
        "outputId": "0a0ca3a9-252e-4be8-fb3c-cca47970f833"
      },
      "source": [
        "tf.__version__"
      ],
      "execution_count": null,
      "outputs": [
        {
          "output_type": "execute_result",
          "data": {
            "text/plain": [
              "'1.4.0'"
            ]
          },
          "metadata": {
            "tags": []
          },
          "execution_count": 2
        }
      ]
    },
    {
      "cell_type": "code",
      "metadata": {
        "id": "8Kk1MRzIOZIl"
      },
      "source": [
        "def graph(w_number, x_number, step_number):\n",
        "    y = 1\n",
        "    yprime = 0\n",
        "    x = tf.Variable(tf.random_normal([x_number]), name = 'x')\n",
        "    \n",
        "    for i in range(1, w_number + 1):\n",
        "        globals()['w{}'.format(i)] = tf.Variable(tf.random_normal([1]), name = 'weight{}'.format(i))\n",
        "        y += globals()['w{}'.format(i)]*(x**i)  # y = 1 + w1*(x) + w2*(x**2) + w3*(x**3) + w4*(x**4) + w5*(x**5) + w6*(x**6)\n",
        "        yprime += i*globals()['w{}'.format(i)]*(x**(i-1))  # yprime = w1 + 2*w2*x + 3*w3*(x**2) + 4*w4*(x**3) + 5*w5*(x**4) + 6*w6*(x**5)\n",
        "    \n",
        "    cost = tf.reduce_mean(tf.square(yprime - y))\n",
        "    optimizer = tf.train.GradientDescentOptimizer(learning_rate = 1e-5)\n",
        "    train = optimizer.minimize(cost)\n",
        "    \n",
        "    sess = tf.Session()\n",
        "    sess.run(tf.global_variables_initializer())\n",
        "    \n",
        "    for step in range(step_number + 1):\n",
        "        for i in range(1, w_number + 1):\n",
        "            globals()['w{}_val'.format(i)] = sess.run([globals()['w{}'.format(i)]])\n",
        "        cost_val, yprime_val, y_val, x_val, _ = sess.run([cost, yprime, y, x, train])\n",
        "        if step % int(step_number / 5) == 0:\n",
        "    #         print(step, \"Cost: \", cost_val, \"\\nx: \", x_val,  \"yprime: \", yprime_val, \"y: \", y_val)\n",
        "            print(step, \"Cost: \", cost_val, \"\\n\")\n",
        "            print(\"w1: \", w1_val, \"w2: \", w2_val, \"w3: \", w3_val, \"w4: \", w4_val, \"w5: \", w5_val, \"w6: \", w6_val, \"\\n\")\n",
        "            \n",
        "    def y(x):\n",
        "        answer = 1\n",
        "        for i in range(1, w_number + 1):\n",
        "            answer += globals()['w{}_val'.format(i)]*(x**i)\n",
        "        return answer[0]\n",
        "    \n",
        "    globals()['w{}x{}'.format(w_number, x_number)] = [x_val, y(x_val)]\n",
        "    plt.plot(x_val, y(x_val), '.')\n",
        "    plt.show()"
      ],
      "execution_count": null,
      "outputs": []
    },
    {
      "cell_type": "code",
      "metadata": {
        "scrolled": false,
        "id": "nC48wGtsOZIm",
        "outputId": "8f10abb6-a731-4869-de90-c40f29e1da9c"
      },
      "source": [
        "graph(6, 100, 30000)"
      ],
      "execution_count": null,
      "outputs": [
        {
          "output_type": "stream",
          "text": [
            "0 Cost:  9191.391 \n",
            "\n",
            "w1:  [array([-0.72676325], dtype=float32)] w2:  [array([0.32074443], dtype=float32)] w3:  [array([0.28441238], dtype=float32)] w4:  [array([-0.7433455], dtype=float32)] w5:  [array([-0.37139085], dtype=float32)] w6:  [array([0.7430384], dtype=float32)] \n",
            "\n",
            "6000 Cost:  2.0026758 \n",
            "\n",
            "w1:  [array([-0.6540626], dtype=float32)] w2:  [array([0.3927884], dtype=float32)] w3:  [array([0.40081298], dtype=float32)] w4:  [array([-0.3565301], dtype=float32)] w5:  [array([-0.06474543], dtype=float32)] w6:  [array([0.04368989], dtype=float32)] \n",
            "\n",
            "12000 Cost:  1.3473178 \n",
            "\n",
            "w1:  [array([-0.5468038], dtype=float32)] w2:  [array([0.37701944], dtype=float32)] w3:  [array([0.47908893], dtype=float32)] w4:  [array([-0.22051175], dtype=float32)] w5:  [array([-0.05679346], dtype=float32)] w6:  [array([0.03028223], dtype=float32)] \n",
            "\n",
            "18000 Cost:  1.0632786 \n",
            "\n",
            "w1:  [array([-0.4483399], dtype=float32)] w2:  [array([0.3529752], dtype=float32)] w3:  [array([0.52589697], dtype=float32)] w4:  [array([-0.15785909], dtype=float32)] w5:  [array([-0.05628101], dtype=float32)] w6:  [array([0.02481237], dtype=float32)] \n",
            "\n",
            "24000 Cost:  0.8944364 \n",
            "\n",
            "w1:  [array([-0.36223823], dtype=float32)] w2:  [array([0.3332729], dtype=float32)] w3:  [array([0.5478148], dtype=float32)] w4:  [array([-0.11983876], dtype=float32)] w5:  [array([-0.05579255], dtype=float32)] w6:  [array([0.02161119], dtype=float32)] \n",
            "\n",
            "30000 Cost:  0.7775522 \n",
            "\n",
            "w1:  [array([-0.2863007], dtype=float32)] w2:  [array([0.3184697], dtype=float32)] w3:  [array([0.55337393], dtype=float32)] w4:  [array([-0.09359331], dtype=float32)] w5:  [array([-0.05448592], dtype=float32)] w6:  [array([0.01933538], dtype=float32)] \n",
            "\n"
          ],
          "name": "stdout"
        },
        {
          "output_type": "display_data",
          "data": {
            "image/png": "[encoded data removed]",
            "text/plain": [
              "<Figure size 432x288 with 1 Axes>"
            ]
          },
          "metadata": {
            "tags": [],
            "needs_background": "light"
          }
        }
      ]
    },
    {
      "cell_type": "code",
      "metadata": {
        "id": "g1nuGl6xOZIm",
        "outputId": "c34b7f9f-75bc-42fd-f99a-8ac475a5eb82"
      },
      "source": [
        "graph(6, 1000, 30000)"
      ],
      "execution_count": null,
      "outputs": [
        {
          "output_type": "stream",
          "text": [
            "0 Cost:  171850.28 \n",
            "\n",
            "w1:  [array([-3.189711], dtype=float32)] w2:  [array([0.13546804], dtype=float32)] w3:  [array([1.0863686], dtype=float32)] w4:  [array([1.3920088], dtype=float32)] w5:  [array([1.0606041], dtype=float32)] w6:  [array([-2.579457], dtype=float32)] \n",
            "\n",
            "6000 Cost:  8.222584 \n",
            "\n",
            "w1:  [array([-2.7050903], dtype=float32)] w2:  [array([-0.3812338], dtype=float32)] w3:  [array([1.1907239], dtype=float32)] w4:  [array([0.29417518], dtype=float32)] w5:  [array([-0.09017897], dtype=float32)] w6:  [array([-0.02616009], dtype=float32)] \n",
            "\n",
            "12000 Cost:  5.2424316 \n",
            "\n",
            "w1:  [array([-2.4662552], dtype=float32)] w2:  [array([-0.50578976], dtype=float32)] w3:  [array([1.2113156], dtype=float32)] w4:  [array([0.01505555], dtype=float32)] w5:  [array([-0.14418714], dtype=float32)] w6:  [array([0.01332845], dtype=float32)] \n",
            "\n",
            "18000 Cost:  4.629617 \n",
            "\n",
            "w1:  [array([-2.293383], dtype=float32)] w2:  [array([-0.53164285], dtype=float32)] w3:  [array([1.1789285], dtype=float32)] w4:  [array([-0.0351704], dtype=float32)] w5:  [array([-0.15116522], dtype=float32)] w6:  [array([0.02092469], dtype=float32)] \n",
            "\n",
            "24000 Cost:  4.1934347 \n",
            "\n",
            "w1:  [array([-2.142662], dtype=float32)] w2:  [array([-0.53279036], dtype=float32)] w3:  [array([1.135106], dtype=float32)] w4:  [array([-0.03522091], dtype=float32)] w5:  [array([-0.1476479], dtype=float32)] w6:  [array([0.02135396], dtype=float32)] \n",
            "\n",
            "30000 Cost:  3.8119078 \n",
            "\n",
            "w1:  [array([-2.0034404], dtype=float32)] w2:  [array([-0.5264353], dtype=float32)] w3:  [array([1.0896341], dtype=float32)] w4:  [array([-0.02497794], dtype=float32)] w5:  [array([-0.14177631], dtype=float32)] w6:  [array([0.02020764], dtype=float32)] \n",
            "\n"
          ],
          "name": "stdout"
        },
        {
          "output_type": "display_data",
          "data": {
            "image/png": "[encoded data removed]",
            "text/plain": [
              "<Figure size 432x288 with 1 Axes>"
            ]
          },
          "metadata": {
            "tags": [],
            "needs_background": "light"
          }
        }
      ]
    },
    {
      "cell_type": "code",
      "metadata": {
        "id": "0Zz62PnDOZIn",
        "outputId": "c6fbf3ba-0fbd-4a30-9600-e604a3b9fceb"
      },
      "source": [
        "graph(6, 10000, 30000)"
      ],
      "execution_count": null,
      "outputs": [
        {
          "output_type": "stream",
          "text": [
            "0 Cost:  3524.8215 \n",
            "\n",
            "w1:  [array([0.3738627], dtype=float32)] w2:  [array([0.35528964], dtype=float32)] w3:  [array([0.8828763], dtype=float32)] w4:  [array([-0.9923401], dtype=float32)] w5:  [array([1.3019189], dtype=float32)] w6:  [array([0.43725964], dtype=float32)] \n",
            "\n",
            "6000 Cost:  0.4571418 \n",
            "\n",
            "w1:  [array([0.33245304], dtype=float32)] w2:  [array([0.5411629], dtype=float32)] w3:  [array([0.38262394], dtype=float32)] w4:  [array([0.04003801], dtype=float32)] w5:  [array([-0.00487726], dtype=float32)] w6:  [array([0.00071349], dtype=float32)] \n",
            "\n",
            "12000 Cost:  0.34902287 \n",
            "\n",
            "w1:  [array([0.3873854], dtype=float32)] w2:  [array([0.5048929], dtype=float32)] w3:  [array([0.3368017], dtype=float32)] w4:  [array([0.03772557], dtype=float32)] w5:  [array([-0.00230195], dtype=float32)] w6:  [array([0.00090812], dtype=float32)] \n",
            "\n",
            "18000 Cost:  0.27145398 \n",
            "\n",
            "w1:  [array([0.4377496], dtype=float32)] w2:  [array([0.47350842], dtype=float32)] w3:  [array([0.3035636], dtype=float32)] w4:  [array([0.03818177], dtype=float32)] w5:  [array([-0.00038468], dtype=float32)] w6:  [array([0.00095362], dtype=float32)] \n",
            "\n",
            "24000 Cost:  0.21405572 \n",
            "\n",
            "w1:  [array([0.48329085], dtype=float32)] w2:  [array([0.44708362], dtype=float32)] w3:  [array([0.2780242], dtype=float32)] w4:  [array([0.03976418], dtype=float32)] w5:  [array([0.00113595], dtype=float32)] w6:  [array([0.00093579], dtype=float32)] \n",
            "\n",
            "30000 Cost:  0.171002 \n",
            "\n",
            "w1:  [array([0.52422756], dtype=float32)] w2:  [array([0.42525107], dtype=float32)] w3:  [array([0.25756472], dtype=float32)] w4:  [array([0.04168998], dtype=float32)] w5:  [array([0.00239151], dtype=float32)] w6:  [array([0.00089316], dtype=float32)] \n",
            "\n"
          ],
          "name": "stdout"
        },
        {
          "output_type": "display_data",
          "data": {
            "image/png": "[encoded data removed]",
            "text/plain": [
              "<Figure size 432x288 with 1 Axes>"
            ]
          },
          "metadata": {
            "tags": [],
            "needs_background": "light"
          }
        }
      ]
    },
    {
      "cell_type": "code",
      "metadata": {
        "id": "84p6_RttOZIn",
        "outputId": "44b1b6ce-d1ba-4bd6-ae59-1074a73c5577"
      },
      "source": [
        "x = np.array([i for i in range(-40, 50, 1)])\n",
        "plt.plot(0.1*x, np.exp(0.1*x), '.b', label = 'exp')\n",
        "plt.plot(w6x100[0],w6x100[1], '.r', label = 'w=6, x=100')\n",
        "plt.plot(w6x1000[0],w6x1000[1], '.g', label = 'w=6, x=1000')\n",
        "plt.plot(w6x10000[0],w6x10000[1], '.c', label = 'w=6, x=10000')\n",
        "plt.legend(loc = 'upper right', fontsize = 'xx-small')\n",
        "\n",
        "plt.show()"
      ],
      "execution_count": null,
      "outputs": [
        {
          "output_type": "display_data",
          "data": {
            "image/png": "[encoded data removed]",
            "text/plain": [
              "<Figure size 432x288 with 1 Axes>"
            ]
          },
          "metadata": {
            "tags": [],
            "needs_background": "light"
          }
        }
      ]
    },
    {
      "cell_type": "code",
      "metadata": {
        "id": "HITZrtf_OfPo"
      },
      "source": [
        ""
      ],
      "execution_count": null,
      "outputs": []
    }
  ]
}