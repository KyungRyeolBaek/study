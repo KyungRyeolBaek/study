{
 "cells": [
  {
   "cell_type": "code",
   "execution_count": 26,
   "metadata": {},
   "outputs": [],
   "source": [
    "import tensorflow as tf\n",
    "import numpy as np\n",
    "import matplotlib.pyplot as plt"
   ]
  },
  {
   "cell_type": "code",
   "execution_count": 27,
   "metadata": {},
   "outputs": [
    {
     "data": {
      "text/plain": [
       "'1.4.0'"
      ]
     },
     "execution_count": 27,
     "metadata": {},
     "output_type": "execute_result"
    }
   ],
   "source": [
    "tf.__version__"
   ]
  },
  {
   "cell_type": "code",
   "execution_count": 28,
   "metadata": {},
   "outputs": [],
   "source": [
    "w_number = 6\n",
    "x_number = 100"
   ]
  },
  {
   "cell_type": "code",
   "execution_count": 29,
   "metadata": {},
   "outputs": [],
   "source": [
    "y = 1\n",
    "yprime = 0\n",
    "x = tf.Variable(tf.random_normal([x_number]), name = 'x')\n",
    "for i in range(1, w_number + 1):\n",
    "    globals()['w{}'.format(i)] = tf.Variable(tf.random_normal([1]), name = 'weight{}'.format(i))\n",
    "    y += globals()['w{}'.format(i)]*(x**i)  # y = 1 + w1*(x) + w2*(x**2) + w3*(x**3) + w4*(x**4) + w5*(x**5) + w6*(x**6)\n",
    "    yprime += i*globals()['w{}'.format(i)]*(x**(i-1))  # yprime = w1 + 2*w2*x + 3*w3*(x**2) + 4*w4*(x**3) + 5*w5*(x**4) + 6*w6*(x**5)"
   ]
  },
  {
   "cell_type": "code",
   "execution_count": 30,
   "metadata": {},
   "outputs": [],
   "source": [
    "cost = tf.reduce_mean(tf.square(yprime - y))\n",
    "optimizer = tf.train.GradientDescentOptimizer(learning_rate = 1e-5)\n",
    "train = optimizer.minimize(cost)"
   ]
  },
  {
   "cell_type": "code",
   "execution_count": 31,
   "metadata": {
    "scrolled": true
   },
   "outputs": [
    {
     "name": "stdout",
     "output_type": "stream",
     "text": [
      "0 Cost:  23719.355 \n",
      "\n",
      "w1:  [array([1.295792], dtype=float32)] w2:  [array([0.3648643], dtype=float32)] w3:  [array([0.17877124], dtype=float32)] w4:  [array([-0.00450181], dtype=float32)] w5:  [array([-0.12581539], dtype=float32)] w6:  [array([-0.8290765], dtype=float32)] \n",
      "\n",
      "1000 Cost:  0.26036945 \n",
      "\n",
      "w1:  [array([1.2833513], dtype=float32)] w2:  [array([0.37267146], dtype=float32)] w3:  [array([0.17440613], dtype=float32)] w4:  [array([0.04914819], dtype=float32)] w5:  [array([-0.0019356], dtype=float32)] w6:  [array([0.00505076], dtype=float32)] \n",
      "\n",
      "2000 Cost:  0.1894054 \n",
      "\n",
      "w1:  [array([1.2722008], dtype=float32)] w2:  [array([0.38481414], dtype=float32)] w3:  [array([0.16175255], dtype=float32)] w4:  [array([0.06457003], dtype=float32)] w5:  [array([0.00356219], dtype=float32)] w6:  [array([0.00289364], dtype=float32)] \n",
      "\n",
      "3000 Cost:  0.14391346 \n",
      "\n",
      "w1:  [array([1.2625731], dtype=float32)] w2:  [array([0.3947762], dtype=float32)] w3:  [array([0.15108214], dtype=float32)] w4:  [array([0.07576638], dtype=float32)] w5:  [array([0.00786508], dtype=float32)] w6:  [array([0.00125822], dtype=float32)] \n",
      "\n",
      "4000 Cost:  0.11405489 \n",
      "\n",
      "w1:  [array([1.2541647], dtype=float32)] w2:  [array([0.40302384], dtype=float32)] w3:  [array([0.14201877], dtype=float32)] w4:  [array([0.08373491], dtype=float32)] w5:  [array([0.01123009], dtype=float32)] w6:  [array([2.7237815e-05], dtype=float32)] \n",
      "\n",
      "5000 Cost:  0.093891494 \n",
      "\n",
      "w1:  [array([1.2467378], dtype=float32)] w2:  [array([0.40991813], dtype=float32)] w3:  [array([0.13426957], dtype=float32)] w4:  [array([0.08924264], dtype=float32)] w5:  [array([0.01385838], dtype=float32)] w6:  [array([-0.00089113], dtype=float32)] \n",
      "\n",
      "6000 Cost:  0.079828955 \n",
      "\n",
      "w1:  [array([1.2401092], dtype=float32)] w2:  [array([0.41573927], dtype=float32)] w3:  [array([0.1276055], dtype=float32)] w4:  [array([0.09287912], dtype=float32)] w5:  [array([0.01591058], dtype=float32)] w6:  [array([-0.00156801], dtype=float32)] \n",
      "\n",
      "7000 Cost:  0.06966629 \n",
      "\n",
      "w1:  [array([1.2341335], dtype=float32)] w2:  [array([0.42070583], dtype=float32)] w3:  [array([0.12184436], dtype=float32)] w4:  [array([0.09509864], dtype=float32)] w5:  [array([0.01751061], dtype=float32)] w6:  [array([-0.00205844], dtype=float32)] \n",
      "\n",
      "8000 Cost:  0.06204815 \n",
      "\n",
      "w1:  [array([1.2286944], dtype=float32)] w2:  [array([0.42498842], dtype=float32)] w3:  [array([0.11684128], dtype=float32)] w4:  [array([0.09625109], dtype=float32)] w5:  [array([0.01875622], dtype=float32)] w6:  [array([-0.00240546], dtype=float32)] \n",
      "\n",
      "9000 Cost:  0.05613328 \n",
      "\n",
      "w1:  [array([1.223705], dtype=float32)] w2:  [array([0.4287212], dtype=float32)] w3:  [array([0.11247944], dtype=float32)] w4:  [array([0.09660619], dtype=float32)] w5:  [array([0.01972382], dtype=float32)] w6:  [array([-0.00264246], dtype=float32)] \n",
      "\n",
      "10000 Cost:  0.05138798 \n",
      "\n",
      "w1:  [array([1.2190874], dtype=float32)] w2:  [array([0.43200934], dtype=float32)] w3:  [array([0.10866434], dtype=float32)] w4:  [array([0.09637167], dtype=float32)] w5:  [array([0.02047301], dtype=float32)] w6:  [array([-0.00279535], dtype=float32)] \n",
      "\n",
      "11000 Cost:  0.04747593 \n",
      "\n",
      "w1:  [array([1.2147899], dtype=float32)] w2:  [array([0.43493593], dtype=float32)] w3:  [array([0.10531904], dtype=float32)] w4:  [array([0.0957072], dtype=float32)] w5:  [array([0.02105032], dtype=float32)] w6:  [array([-0.00288417], dtype=float32)] \n",
      "\n",
      "12000 Cost:  0.044173583 \n",
      "\n",
      "w1:  [array([1.2107595], dtype=float32)] w2:  [array([0.43756637], dtype=float32)] w3:  [array([0.10238056], dtype=float32)] w4:  [array([0.09473506], dtype=float32)] w5:  [array([0.02149219], dtype=float32)] w6:  [array([-0.00292449], dtype=float32)] \n",
      "\n",
      "13000 Cost:  0.0413362 \n",
      "\n",
      "w1:  [array([1.2069645], dtype=float32)] w2:  [array([0.43995294], dtype=float32)] w3:  [array([0.09979691], dtype=float32)] w4:  [array([0.09354868], dtype=float32)] w5:  [array([0.02182705], dtype=float32)] w6:  [array([-0.00292826], dtype=float32)] \n",
      "\n",
      "14000 Cost:  0.03885993 \n",
      "\n",
      "w1:  [array([1.2033647], dtype=float32)] w2:  [array([0.4421355], dtype=float32)] w3:  [array([0.09752479], dtype=float32)] w4:  [array([0.09221915], dtype=float32)] w5:  [array([0.02207725], dtype=float32)] w6:  [array([-0.00290482], dtype=float32)] \n",
      "\n",
      "15000 Cost:  0.03667985 \n",
      "\n",
      "w1:  [array([1.1999537], dtype=float32)] w2:  [array([0.44414788], dtype=float32)] w3:  [array([0.09552801], dtype=float32)] w4:  [array([0.09080032], dtype=float32)] w5:  [array([0.02225992], dtype=float32)] w6:  [array([-0.00286118], dtype=float32)] \n",
      "\n",
      "16000 Cost:  0.03473712 \n",
      "\n",
      "w1:  [array([1.1966906], dtype=float32)] w2:  [array([0.44601697], dtype=float32)] w3:  [array([0.093776], dtype=float32)] w4:  [array([0.08933233], dtype=float32)] w5:  [array([0.02238911], dtype=float32)] w6:  [array([-0.00280296], dtype=float32)] \n",
      "\n",
      "17000 Cost:  0.03299581 \n",
      "\n",
      "w1:  [array([1.1935667], dtype=float32)] w2:  [array([0.44776163], dtype=float32)] w3:  [array([0.09224277], dtype=float32)] w4:  [array([0.08784487], dtype=float32)] w5:  [array([0.02247532], dtype=float32)] w6:  [array([-0.00273426], dtype=float32)] \n",
      "\n",
      "18000 Cost:  0.031426866 \n",
      "\n",
      "w1:  [array([1.1905721], dtype=float32)] w2:  [array([0.44940075], dtype=float32)] w3:  [array([0.09090599], dtype=float32)] w4:  [array([0.08636227], dtype=float32)] w5:  [array([0.02252733], dtype=float32)] w6:  [array([-0.00265848], dtype=float32)] \n",
      "\n",
      "19000 Cost:  0.030005991 \n",
      "\n",
      "w1:  [array([1.187696], dtype=float32)] w2:  [array([0.4509478], dtype=float32)] w3:  [array([0.08974631], dtype=float32)] w4:  [array([0.08489891], dtype=float32)] w5:  [array([0.02255158], dtype=float32)] w6:  [array([-0.00257791], dtype=float32)] \n",
      "\n",
      "20000 Cost:  0.028713016 \n",
      "\n",
      "w1:  [array([1.1849254], dtype=float32)] w2:  [array([0.45241198], dtype=float32)] w3:  [array([0.08874705], dtype=float32)] w4:  [array([0.08346689], dtype=float32)] w5:  [array([0.02255336], dtype=float32)] w6:  [array([-0.00249445], dtype=float32)] \n",
      "\n",
      "21000 Cost:  0.02753096 \n",
      "\n",
      "w1:  [array([1.1822461], dtype=float32)] w2:  [array([0.45380622], dtype=float32)] w3:  [array([0.08789334], dtype=float32)] w4:  [array([0.08207342], dtype=float32)] w5:  [array([0.02253743], dtype=float32)] w6:  [array([-0.00240923], dtype=float32)] \n",
      "\n",
      "22000 Cost:  0.026443236 \n",
      "\n",
      "w1:  [array([1.1796416], dtype=float32)] w2:  [array([0.45513585], dtype=float32)] w3:  [array([0.08717195], dtype=float32)] w4:  [array([0.08072285], dtype=float32)] w5:  [array([0.02250699], dtype=float32)] w6:  [array([-0.00232337], dtype=float32)] \n",
      "\n",
      "23000 Cost:  0.02544557 \n",
      "\n",
      "w1:  [array([1.1771382], dtype=float32)] w2:  [array([0.45640674], dtype=float32)] w3:  [array([0.08657101], dtype=float32)] w4:  [array([0.07941905], dtype=float32)] w5:  [array([0.02246371], dtype=float32)] w6:  [array([-0.00223765], dtype=float32)] \n",
      "\n",
      "24000 Cost:  0.024522167 \n",
      "\n",
      "w1:  [array([1.174709], dtype=float32)] w2:  [array([0.45762563], dtype=float32)] w3:  [array([0.08608048], dtype=float32)] w4:  [array([0.0781633], dtype=float32)] w5:  [array([0.02241036], dtype=float32)] w6:  [array([-0.0021528], dtype=float32)] \n",
      "\n",
      "25000 Cost:  0.02365872 \n",
      "\n",
      "w1:  [array([1.1723248], dtype=float32)] w2:  [array([0.45879936], dtype=float32)] w3:  [array([0.08569065], dtype=float32)] w4:  [array([0.0769569], dtype=float32)] w5:  [array([0.02234896], dtype=float32)] w6:  [array([-0.00206946], dtype=float32)] \n",
      "\n",
      "26000 Cost:  0.022864442 \n",
      "\n",
      "w1:  [array([1.1700492], dtype=float32)] w2:  [array([0.45992583], dtype=float32)] w3:  [array([0.08539326], dtype=float32)] w4:  [array([0.07579969], dtype=float32)] w5:  [array([0.02227985], dtype=float32)] w6:  [array([-0.00198738], dtype=float32)] \n",
      "\n",
      "27000 Cost:  0.022110624 \n",
      "\n",
      "w1:  [array([1.1677842], dtype=float32)] w2:  [array([0.4610138], dtype=float32)] w3:  [array([0.08518073], dtype=float32)] w4:  [array([0.07469059], dtype=float32)] w5:  [array([0.02220564], dtype=float32)] w6:  [array([-0.00190747], dtype=float32)] \n",
      "\n",
      "28000 Cost:  0.02141652 \n",
      "\n",
      "w1:  [array([1.1656371], dtype=float32)] w2:  [array([0.4620658], dtype=float32)] w3:  [array([0.08504584], dtype=float32)] w4:  [array([0.07362883], dtype=float32)] w5:  [array([0.02212583], dtype=float32)] w6:  [array([-0.00182908], dtype=float32)] \n",
      "\n",
      "29000 Cost:  0.020752521 \n",
      "\n",
      "w1:  [array([1.1634914], dtype=float32)] w2:  [array([0.46308365], dtype=float32)] w3:  [array([0.08498251], dtype=float32)] w4:  [array([0.07261246], dtype=float32)] w5:  [array([0.02204272], dtype=float32)] w6:  [array([-0.00175306], dtype=float32)] \n",
      "\n"
     ]
    },
    {
     "name": "stdout",
     "output_type": "stream",
     "text": [
      "30000 Cost:  0.020135762 \n",
      "\n",
      "w1:  [array([1.1614438], dtype=float32)] w2:  [array([0.464068], dtype=float32)] w3:  [array([0.08498484], dtype=float32)] w4:  [array([0.07164007], dtype=float32)] w5:  [array([0.02195545], dtype=float32)] w6:  [array([-0.00167872], dtype=float32)] \n",
      "\n"
     ]
    }
   ],
   "source": [
    "sess = tf.Session()\n",
    "sess.run(tf.global_variables_initializer())\n",
    "\n",
    "for step in range(30001):\n",
    "    for i in range(1, w_number + 1):\n",
    "        globals()['w{}_val'.format(i)] = sess.run([globals()['w{}'.format(i)]])\n",
    "    cost_val, yprime_val, y_val, x_val, _ = sess.run([cost, yprime, y, x, train])\n",
    "    if step % 1000 == 0:\n",
    "#         print(step, \"Cost: \", cost_val, \"\\nx: \", x_val,  \"yprime: \", yprime_val, \"y: \", y_val)\n",
    "        print(step, \"Cost: \", cost_val, \"\\n\")\n",
    "        print(\"w1: \", w1_val, \"w2: \", w2_val, \"w3: \", w3_val, \"w4: \", w4_val, \"w5: \", w5_val, \"w6: \", w6_val, \"\\n\")"
   ]
  },
  {
   "cell_type": "code",
   "execution_count": 42,
   "metadata": {},
   "outputs": [],
   "source": [
    "def y(x):\n",
    "    answer = 1\n",
    "    for i in range(1, w_number + 1):\n",
    "        answer += globals()['w{}_val'.format(i)]*(x**i)\n",
    "    return answer[0]"
   ]
  },
  {
   "cell_type": "code",
   "execution_count": 46,
   "metadata": {},
   "outputs": [],
   "source": [
    "globals()['w{}x{}'.format(w_number, x_number)] = [x_val, y(x_val)]"
   ]
  },
  {
   "cell_type": "code",
   "execution_count": 45,
   "metadata": {},
   "outputs": [
    {
     "data": {
      "image/png": "[encoded data removed]",
      "text/plain": [
       "<Figure size 432x288 with 1 Axes>"
      ]
     },
     "metadata": {
      "needs_background": "light"
     },
     "output_type": "display_data"
    }
   ],
   "source": [
    "plt.plot(x_val, y(x_val), '.')\n",
    "plt.show()"
   ]
  },
  {
   "cell_type": "code",
   "execution_count": 49,
   "metadata": {},
   "outputs": [
    {
     "data": {
      "image/png": "[encoded data removed]",
      "text/plain": [
       "<Figure size 432x288 with 1 Axes>"
      ]
     },
     "metadata": {
      "needs_background": "light"
     },
     "output_type": "display_data"
    }
   ],
   "source": [
    "plt.plot(w6x100[0],w6x100[1], '.')\n",
    "plt.show()"
   ]
  },
  {
   "cell_type": "code",
   "execution_count": null,
   "metadata": {},
   "outputs": [],
   "source": []
  }
 ],
 "metadata": {
  "kernelspec": {
   "display_name": "Python 3",
   "language": "python",
   "name": "python3"
  },
  "language_info": {
   "codemirror_mode": {
    "name": "ipython",
    "version": 3
   },
   "file_extension": ".py",
   "mimetype": "text/x-python",
   "name": "python",
   "nbconvert_exporter": "python",
   "pygments_lexer": "ipython3",
   "version": "3.7.6"
  }
 },
 "nbformat": 4,
 "nbformat_minor": 2
}
