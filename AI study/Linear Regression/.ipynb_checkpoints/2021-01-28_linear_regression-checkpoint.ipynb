{
 "cells": [
  {
   "cell_type": "code",
   "execution_count": 6,
   "metadata": {},
   "outputs": [
    {
     "name": "stdout",
     "output_type": "stream",
     "text": [
      "WARNING:tensorflow:From C:\\Users\\forev\\AppData\\Roaming\\Python\\Python37\\site-packages\\tensorflow\\python\\compat\\v2_compat.py:96: disable_resource_variables (from tensorflow.python.ops.variable_scope) is deprecated and will be removed in a future version.\n",
      "Instructions for updating:\n",
      "non-resource variables are not supported in the long term\n"
     ]
    }
   ],
   "source": [
    "import tensorflow as tf\n",
    "import numpy as np\n",
    "import matplotlib.pyplot as plt\n",
    "\n",
    "### 버젼 2. tensorflow 라면 아래 코드 필요\n",
    "import tensorflow.compat.v1 as tf\n",
    "\n",
    "tf.disable_v2_behavior()"
   ]
  },
  {
   "cell_type": "code",
   "execution_count": 7,
   "metadata": {},
   "outputs": [
    {
     "data": {
      "text/plain": [
       "'2.2.0'"
      ]
     },
     "execution_count": 7,
     "metadata": {},
     "output_type": "execute_result"
    }
   ],
   "source": [
    "tf.__version__"
   ]
  },
  {
   "cell_type": "code",
   "execution_count": 8,
   "metadata": {},
   "outputs": [],
   "source": [
    "w_number = 6\n",
    "x_number = 100"
   ]
  },
  {
   "cell_type": "code",
   "execution_count": 9,
   "metadata": {},
   "outputs": [],
   "source": [
    "y = 1\n",
    "yprime = 0\n",
    "x = tf.Variable(tf.random_uniform([x_number], minval = -1, maxval = 1), name = 'x')\n",
    "for i in range(1, w_number + 1):\n",
    "    globals()['w{}'.format(i)] = tf.Variable(tf.random_normal([1]), name = 'weight{}'.format(i))\n",
    "    y += globals()['w{}'.format(i)]*(x**i)  # y = 1 + w1*(x) + w2*(x**2) + w3*(x**3) + w4*(x**4) + w5*(x**5) + w6*(x**6)\n",
    "    yprime += i*globals()['w{}'.format(i)]*(x**(i-1))  # yprime = w1 + 2*w2*x + 3*w3*(x**2) + 4*w4*(x**3) + 5*w5*(x**4) + 6*w6*(x**5)"
   ]
  },
  {
   "cell_type": "code",
   "execution_count": 10,
   "metadata": {},
   "outputs": [],
   "source": [
    "cost = tf.reduce_mean(tf.square(yprime - y))\n",
    "optimizer = tf.train.GradientDescentOptimizer(learning_rate = 1e-5)\n",
    "train = optimizer.minimize(cost)"
   ]
  },
  {
   "cell_type": "code",
   "execution_count": 11,
   "metadata": {
    "scrolled": true
   },
   "outputs": [
    {
     "name": "stdout",
     "output_type": "stream",
     "text": [
      "0 Cost:  20.819483 \n",
      "\n",
      "w1:  [array([-0.80028284], dtype=float32)] w2:  [array([2.0521023], dtype=float32)] w3:  [array([0.47431737], dtype=float32)] w4:  [array([1.0998874], dtype=float32)] w5:  [array([0.00733946], dtype=float32)] w6:  [array([-0.06811889], dtype=float32)] \n",
      "\n",
      "1000 Cost:  15.252947 \n",
      "\n",
      "w1:  [array([-0.72241205], dtype=float32)] w2:  [array([1.95476], dtype=float32)] w3:  [array([0.53872764], dtype=float32)] w4:  [array([0.9918856], dtype=float32)] w5:  [array([0.06286406], dtype=float32)] w6:  [array([-0.17541772], dtype=float32)] \n",
      "\n",
      "2000 Cost:  11.858622 \n",
      "\n",
      "w1:  [array([-0.65504855], dtype=float32)] w2:  [array([1.8721385], dtype=float32)] w3:  [array([0.58947563], dtype=float32)] w4:  [array([0.90378124], dtype=float32)] w5:  [array([0.10282086], dtype=float32)] w6:  [array([-0.25964096], dtype=float32)] \n",
      "\n",
      "3000 Cost:  9.510192 \n",
      "\n",
      "w1:  [array([-0.5954063], dtype=float32)] w2:  [array([1.7999834], dtype=float32)] w3:  [array([0.6313965], dtype=float32)] w4:  [array([0.828748], dtype=float32)] w5:  [array([0.13383657], dtype=float32)] w6:  [array([-0.32978395], dtype=float32)] \n",
      "\n",
      "4000 Cost:  7.7693176 \n",
      "\n",
      "w1:  [array([-0.5419245], dtype=float32)] w2:  [array([1.735986], dtype=float32)] w3:  [array([0.66690236], dtype=float32)] w4:  [array([0.76334405], dtype=float32)] w5:  [array([0.15891442], dtype=float32)] w6:  [array([-0.39007634], dtype=float32)] \n",
      "\n",
      "5000 Cost:  6.4262886 \n",
      "\n",
      "w1:  [array([-0.493612], dtype=float32)] w2:  [array([1.6787248], dtype=float32)] w3:  [array([0.69735724], dtype=float32)] w4:  [array([0.70559174], dtype=float32)] w5:  [array([0.17960052], dtype=float32)] w6:  [array([-0.4428095], dtype=float32)] \n",
      "\n",
      "6000 Cost:  5.3670783 \n",
      "\n",
      "w1:  [array([-0.4497787], dtype=float32)] w2:  [array([1.6272452], dtype=float32)] w3:  [array([0.7235984], dtype=float32)] w4:  [array([0.65425605], dtype=float32)] w5:  [array([0.19674613], dtype=float32)] w6:  [array([-0.489327], dtype=float32)] \n",
      "\n",
      "7000 Cost:  4.523139 \n",
      "\n",
      "w1:  [array([-0.40990442], dtype=float32)] w2:  [array([1.5808523], dtype=float32)] w3:  [array([0.7461821], dtype=float32)] w4:  [array([0.6085063], dtype=float32)] w5:  [array([0.21084547], dtype=float32)] w6:  [array([-0.5304677], dtype=float32)] \n",
      "\n",
      "8000 Cost:  3.8489144 \n",
      "\n",
      "w1:  [array([-0.37356544], dtype=float32)] w2:  [array([1.538999], dtype=float32)] w3:  [array([0.76551676], dtype=float32)] w4:  [array([0.56773406], dtype=float32)] w5:  [array([0.22221605], dtype=float32)] w6:  [array([-0.5668029], dtype=float32)] \n",
      "\n",
      "9000 Cost:  3.3106906 \n",
      "\n",
      "w1:  [array([-0.34039363], dtype=float32)] w2:  [array([1.5012192], dtype=float32)] w3:  [array([0.78194034], dtype=float32)] w4:  [array([0.53144306], dtype=float32)] w5:  [array([0.23110455], dtype=float32)] w6:  [array([-0.5987781], dtype=float32)] \n",
      "\n",
      "10000 Cost:  2.8812838 \n",
      "\n",
      "w1:  [array([-0.31005445], dtype=float32)] w2:  [array([1.4670916], dtype=float32)] w3:  [array([0.7957623], dtype=float32)] w4:  [array([0.49918798], dtype=float32)] w5:  [array([0.2377469], dtype=float32)] w6:  [array([-0.6267964], dtype=float32)] \n",
      "\n",
      "11000 Cost:  2.5378788 \n",
      "\n",
      "w1:  [array([-0.2822372], dtype=float32)] w2:  [array([1.436225], dtype=float32)] w3:  [array([0.8072819], dtype=float32)] w4:  [array([0.47054553], dtype=float32)] w5:  [array([0.24239421], dtype=float32)] w6:  [array([-0.6512583], dtype=float32)] \n",
      "\n",
      "12000 Cost:  2.2614546 \n",
      "\n",
      "w1:  [array([-0.25665465], dtype=float32)] w2:  [array([1.4082544], dtype=float32)] w3:  [array([0.8167909], dtype=float32)] w4:  [array([0.44510877], dtype=float32)] w5:  [array([0.24531393], dtype=float32)] w6:  [array([-0.6725677], dtype=float32)] \n",
      "\n",
      "13000 Cost:  2.03664 \n",
      "\n",
      "w1:  [array([-0.23304397], dtype=float32)] w2:  [array([1.3828439], dtype=float32)] w3:  [array([0.82456636], dtype=float32)] w4:  [array([0.42249268], dtype=float32)] w5:  [array([0.2467761], dtype=float32)] w6:  [array([-0.6911209], dtype=float32)] \n",
      "\n",
      "14000 Cost:  1.8515143 \n",
      "\n",
      "w1:  [array([-0.21116942], dtype=float32)] w2:  [array([1.3596879], dtype=float32)] w3:  [array([0.8308632], dtype=float32)] w4:  [array([0.40234384], dtype=float32)] w5:  [array([0.24703814], dtype=float32)] w6:  [array([-0.7072889], dtype=float32)] \n",
      "\n",
      "15000 Cost:  1.6970665 \n",
      "\n",
      "w1:  [array([-0.1908227], dtype=float32)] w2:  [array([1.3385181], dtype=float32)] w3:  [array([0.8359079], dtype=float32)] w4:  [array([0.38434666], dtype=float32)] w5:  [array([0.2463319], dtype=float32)] w6:  [array([-0.7214051], dtype=float32)] \n",
      "\n",
      "16000 Cost:  1.5666138 \n",
      "\n",
      "w1:  [array([-0.17182204], dtype=float32)] w2:  [array([1.3190961], dtype=float32)] w3:  [array([0.8398982], dtype=float32)] w4:  [array([0.36822522], dtype=float32)] w5:  [array([0.24485782], dtype=float32)] w6:  [array([-0.73375845], dtype=float32)] \n",
      "\n",
      "17000 Cost:  1.4551944 \n",
      "\n",
      "w1:  [array([-0.15400988], dtype=float32)] w2:  [array([1.3012182], dtype=float32)] w3:  [array([0.8430029], dtype=float32)] w4:  [array([0.3537427], dtype=float32)] w5:  [array([0.2427838], dtype=float32)] w6:  [array([-0.7445949], dtype=float32)] \n",
      "\n",
      "18000 Cost:  1.3591046 \n",
      "\n",
      "w1:  [array([-0.13725027], dtype=float32)] w2:  [array([1.2847062], dtype=float32)] w3:  [array([0.8453621], dtype=float32)] w4:  [array([0.34069633], dtype=float32)] w5:  [array([0.24024731], dtype=float32)] w6:  [array([-0.7541197], dtype=float32)] \n",
      "\n",
      "19000 Cost:  1.2755536 \n",
      "\n",
      "w1:  [array([-0.12142599], dtype=float32)] w2:  [array([1.2694076], dtype=float32)] w3:  [array([0.8470969], dtype=float32)] w4:  [array([0.32891366], dtype=float32)] w5:  [array([0.23735976], dtype=float32)] w6:  [array([-0.7625045], dtype=float32)] \n",
      "\n",
      "20000 Cost:  1.202352 \n",
      "\n",
      "w1:  [array([-0.10643566], dtype=float32)] w2:  [array([1.2551914], dtype=float32)] w3:  [array([0.8483052], dtype=float32)] w4:  [array([0.31824708], dtype=float32)] w5:  [array([0.23421033], dtype=float32)] w6:  [array([-0.76989293], dtype=float32)] \n",
      "\n",
      "21000 Cost:  1.1377866 \n",
      "\n",
      "w1:  [array([-0.09219152], dtype=float32)] w2:  [array([1.2419393], dtype=float32)] w3:  [array([0.8490716], dtype=float32)] w4:  [array([0.30857062], dtype=float32)] w5:  [array([0.23087043], dtype=float32)] w6:  [array([-0.7764054], dtype=float32)] \n",
      "\n",
      "22000 Cost:  1.0804887 \n",
      "\n",
      "w1:  [array([-0.07861748], dtype=float32)] w2:  [array([1.2295536], dtype=float32)] w3:  [array([0.84946436], dtype=float32)] w4:  [array([0.29977518], dtype=float32)] w5:  [array([0.22739744], dtype=float32)] w6:  [array([-0.78214294], dtype=float32)] \n",
      "\n",
      "23000 Cost:  1.0293509 \n",
      "\n",
      "w1:  [array([-0.06564713], dtype=float32)] w2:  [array([1.2179486], dtype=float32)] w3:  [array([0.8495439], dtype=float32)] w4:  [array([0.29176676], dtype=float32)] w5:  [array([0.22383566], dtype=float32)] w6:  [array([-0.7871935], dtype=float32)] \n",
      "\n",
      "24000 Cost:  0.9834399 \n",
      "\n",
      "w1:  [array([-0.05322241], dtype=float32)] w2:  [array([1.2070442], dtype=float32)] w3:  [array([0.8493596], dtype=float32)] w4:  [array([0.28446302], dtype=float32)] w5:  [array([0.22022289], dtype=float32)] w6:  [array([-0.7916312], dtype=float32)] \n",
      "\n",
      "25000 Cost:  0.94201577 \n",
      "\n",
      "w1:  [array([-0.0412926], dtype=float32)] w2:  [array([1.1967732], dtype=float32)] w3:  [array([0.8489549], dtype=float32)] w4:  [array([0.27779174], dtype=float32)] w5:  [array([0.216587], dtype=float32)] w6:  [array([-0.7955214], dtype=float32)] \n",
      "\n",
      "26000 Cost:  0.90443957 \n",
      "\n",
      "w1:  [array([-0.02981279], dtype=float32)] w2:  [array([1.187078], dtype=float32)] w3:  [array([0.84836024], dtype=float32)] w4:  [array([0.2716894], dtype=float32)] w5:  [array([0.21295112], dtype=float32)] w6:  [array([-0.7989218], dtype=float32)] \n",
      "\n",
      "27000 Cost:  0.8701877 \n",
      "\n",
      "w1:  [array([-0.01874348], dtype=float32)] w2:  [array([1.1779026], dtype=float32)] w3:  [array([0.847609], dtype=float32)] w4:  [array([0.2660997], dtype=float32)] w5:  [array([0.2093316], dtype=float32)] w6:  [array([-0.80188215], dtype=float32)] \n",
      "\n",
      "28000 Cost:  0.8388126 \n",
      "\n",
      "w1:  [array([-0.00804987], dtype=float32)] w2:  [array([1.1692008], dtype=float32)] w3:  [array([0.8467271], dtype=float32)] w4:  [array([0.26097345], dtype=float32)] w5:  [array([0.20574284], dtype=float32)] w6:  [array([-0.8044465], dtype=float32)] \n",
      "\n",
      "29000 Cost:  0.8099395 \n",
      "\n",
      "w1:  [array([0.0022988], dtype=float32)] w2:  [array([1.1609294], dtype=float32)] w3:  [array([0.84573853], dtype=float32)] w4:  [array([0.2562658], dtype=float32)] w5:  [array([0.20219776], dtype=float32)] w6:  [array([-0.80665535], dtype=float32)] \n",
      "\n"
     ]
    },
    {
     "name": "stdout",
     "output_type": "stream",
     "text": [
      "30000 Cost:  0.7832479 \n",
      "\n",
      "w1:  [array([0.01232975], dtype=float32)] w2:  [array([1.1530519], dtype=float32)] w3:  [array([0.84465224], dtype=float32)] w4:  [array([0.2519375], dtype=float32)] w5:  [array([0.19870327], dtype=float32)] w6:  [array([-0.8085429], dtype=float32)] \n",
      "\n"
     ]
    }
   ],
   "source": [
    "sess = tf.Session()\n",
    "sess.run(tf.global_variables_initializer())\n",
    "\n",
    "for step in range(30001):\n",
    "    for i in range(1, w_number + 1):\n",
    "        globals()['w{}_val'.format(i)] = sess.run([globals()['w{}'.format(i)]])\n",
    "    cost_val, yprime_val, y_val, x_val, _ = sess.run([cost, yprime, y, x, train])\n",
    "    if step % 1000 == 0:\n",
    "#         print(step, \"Cost: \", cost_val, \"\\nx: \", x_val,  \"yprime: \", yprime_val, \"y: \", y_val)\n",
    "        print(step, \"Cost: \", cost_val, \"\\n\")\n",
    "        print(\"w1: \", w1_val, \"w2: \", w2_val, \"w3: \", w3_val, \"w4: \", w4_val, \"w5: \", w5_val, \"w6: \", w6_val, \"\\n\")"
   ]
  },
  {
   "cell_type": "code",
   "execution_count": 12,
   "metadata": {},
   "outputs": [],
   "source": [
    "def y(x):\n",
    "    answer = 1\n",
    "    for i in range(1, w_number + 1):\n",
    "        answer += globals()['w{}_val'.format(i)]*(x**i)\n",
    "    return answer[0]"
   ]
  },
  {
   "cell_type": "code",
   "execution_count": 13,
   "metadata": {},
   "outputs": [],
   "source": [
    "globals()['w{}x{}'.format(w_number, x_number)] = [x_val, y(x_val)]"
   ]
  },
  {
   "cell_type": "code",
   "execution_count": 14,
   "metadata": {},
   "outputs": [
    {
     "data": {
      "image/png": "[encoded data removed]",
      "text/plain": [
       "<Figure size 432x288 with 1 Axes>"
      ]
     },
     "metadata": {
      "needs_background": "light"
     },
     "output_type": "display_data"
    }
   ],
   "source": [
    "plt.plot(x_val, y(x_val), '.')\n",
    "plt.show()"
   ]
  },
  {
   "cell_type": "code",
   "execution_count": 15,
   "metadata": {},
   "outputs": [
    {
     "data": {
      "image/png": "[encoded data removed]",
      "text/plain": [
       "<Figure size 432x288 with 1 Axes>"
      ]
     },
     "metadata": {
      "needs_background": "light"
     },
     "output_type": "display_data"
    }
   ],
   "source": [
    "plt.plot(w6x100[0],w6x100[1], '.')\n",
    "plt.show()"
   ]
  },
  {
   "cell_type": "code",
   "execution_count": null,
   "metadata": {},
   "outputs": [],
   "source": []
  }
 ],
 "metadata": {
  "kernelspec": {
   "display_name": "Python 3",
   "language": "python",
   "name": "python3"
  },
  "language_info": {
   "codemirror_mode": {
    "name": "ipython",
    "version": 3
   },
   "file_extension": ".py",
   "mimetype": "text/x-python",
   "name": "python",
   "nbconvert_exporter": "python",
   "pygments_lexer": "ipython3",
   "version": "3.7.6"
  }
 },
 "nbformat": 4,
 "nbformat_minor": 2
}
