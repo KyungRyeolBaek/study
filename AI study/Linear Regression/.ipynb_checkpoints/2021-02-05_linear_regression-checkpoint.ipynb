{
 "cells": [
  {
   "cell_type": "code",
   "execution_count": 19,
   "metadata": {},
   "outputs": [
    {
     "name": "stdout",
     "output_type": "stream",
     "text": [
      "WARNING:tensorflow:From C:\\Users\\forev\\AppData\\Roaming\\Python\\Python37\\site-packages\\tensorflow\\python\\compat\\v2_compat.py:96: disable_resource_variables (from tensorflow.python.ops.variable_scope) is deprecated and will be removed in a future version.\n",
      "Instructions for updating:\n",
      "non-resource variables are not supported in the long term\n"
     ]
    }
   ],
   "source": [
    "import tensorflow as tf\n",
    "import numpy as np\n",
    "import matplotlib.pyplot as plt\n",
    "\n",
    "### 버젼 2. tensorflow 라면 아래 코드 필요\n",
    "import tensorflow.compat.v1 as tf\n",
    "\n",
    "tf.disable_v2_behavior()"
   ]
  },
  {
   "cell_type": "code",
   "execution_count": 20,
   "metadata": {},
   "outputs": [
    {
     "data": {
      "text/plain": [
       "'2.2.0'"
      ]
     },
     "execution_count": 20,
     "metadata": {},
     "output_type": "execute_result"
    }
   ],
   "source": [
    "tf.__version__"
   ]
  },
  {
   "cell_type": "code",
   "execution_count": 21,
   "metadata": {},
   "outputs": [],
   "source": [
    "w_number = 6\n",
    "p_number = 6\n",
    "x_number = 100"
   ]
  },
  {
   "cell_type": "code",
   "execution_count": 24,
   "metadata": {},
   "outputs": [],
   "source": [
    "y1 = 1\n",
    "y2 = 1\n",
    "y1prime = 0\n",
    "y2prime = 0\n",
    "x = tf.Variable(tf.random_uniform([x_number]), name = 'x')\n",
    "for i in range(1, w_number + 1):\n",
    "    globals()['w{}'.format(i)] = tf.Variable(tf.random_normal([1]), name = 'w{}'.format(i))\n",
    "    globals()['p{}'.format(i)] = tf.Variable(tf.random_normal([1]), name = 'p{}'.format(i))\n",
    "    y1 += globals()['w{}'.format(i)]*(x**i)  # y1 = 1 + w1*(x) + w2*(x**2) + w3*(x**3) + w4*(x**4) + w5*(x**5) + w6*(x**6)\n",
    "    y2 += globals()['p{}'.format(i)]*(x**i)  # y2 = 1 + p1*(x) + p2*(x**2) + p3*(x**3) + p4*(x**4) + p5*(x**5) + p6*(x**6)\n",
    "    y1prime += i*globals()['w{}'.format(i)]*(x**(i-1))  # y1prime = w1 + 2*w2*x + 3*w3*(x**2) + 4*w4*(x**3) + 5*w5*(x**4) + 6*w6*(x**5)\n",
    "    y2prime += i*globals()['p{}'.format(i)]*(x**(i-1))  # y2prime = q1 + 2*p2*x + 3*p3*(x**2) + 4*p4*(x**3) + 5*p5*(x**4) + 6*p6*(x**5)"
   ]
  },
  {
   "cell_type": "code",
   "execution_count": 40,
   "metadata": {},
   "outputs": [
    {
     "data": {
      "text/plain": [
       "<tf.Tensor 'add_71:0' shape=(100,) dtype=float32>"
      ]
     },
     "execution_count": 40,
     "metadata": {},
     "output_type": "execute_result"
    }
   ],
   "source": [
    "a = np.array([[y1],\n",
    "              [y2]])\n",
    "b = np.array([[1,0],\n",
    "              [0,1]])\n",
    "c = np.array([[y1prime],\n",
    "              [y2prime]])\n",
    "((b@c-a)[0] + (b@c-a)[1])[0]"
   ]
  },
  {
   "cell_type": "code",
   "execution_count": 41,
   "metadata": {},
   "outputs": [],
   "source": [
    "cost = tf.reduce_mean(tf.square(((b@c-a)[0] + (b@c-a)[1])[0]))\n",
    "optimizer = tf.train.GradientDescentOptimizer(learning_rate = 1e-5)\n",
    "train = optimizer.minimize(cost)"
   ]
  },
  {
   "cell_type": "code",
   "execution_count": 44,
   "metadata": {
    "scrolled": true
   },
   "outputs": [
    {
     "name": "stdout",
     "output_type": "stream",
     "text": [
      "0 Cost:  13.138389 \n",
      "\n",
      "w1:  [array([-0.68921113], dtype=float32)] w2:  [array([-1.0092478], dtype=float32)] w3:  [array([0.02297696], dtype=float32)] w4:  [array([-0.84688115], dtype=float32)] w5:  [array([-0.34524253], dtype=float32)] w6:  [array([0.5200461], dtype=float32)] \n",
      "\n",
      "1000 Cost:  8.558903 \n",
      "\n",
      "w1:  [array([-0.66538894], dtype=float32)] w2:  [array([-0.9612271], dtype=float32)] w3:  [array([0.08365171], dtype=float32)] w4:  [array([-0.7787297], dtype=float32)] w5:  [array([-0.27221453], dtype=float32)] w6:  [array([0.5965467], dtype=float32)] \n",
      "\n",
      "2000 Cost:  5.9486146 \n",
      "\n",
      "w1:  [array([-0.64383936], dtype=float32)] w2:  [array([-0.92223436], dtype=float32)] w3:  [array([0.13076007], dtype=float32)] w4:  [array([-0.72742957], dtype=float32)] w5:  [array([-0.21854618], dtype=float32)] w6:  [array([0.65169036], dtype=float32)] \n",
      "\n",
      "3000 Cost:  4.4497356 \n",
      "\n",
      "w1:  [array([-0.6240775], dtype=float32)] w2:  [array([-0.8900857], dtype=float32)] w3:  [array([0.16762963], dtype=float32)] w4:  [array([-0.68885386], dtype=float32)] w5:  [array([-0.1795412], dtype=float32)] w6:  [array([0.69057834], dtype=float32)] \n",
      "\n",
      "4000 Cost:  3.582262 \n",
      "\n",
      "w1:  [array([-0.60572004], dtype=float32)] w2:  [array([-0.8631143], dtype=float32)] w3:  [array([0.19677718], dtype=float32)] w4:  [array([-0.6598934], dtype=float32)] w5:  [array([-0.15166707], dtype=float32)] w6:  [array([0.71705157], dtype=float32)] \n",
      "\n",
      "5000 Cost:  3.0566163 \n",
      "\n",
      "w1:  [array([-0.5884826], dtype=float32)] w2:  [array([-0.8400187], dtype=float32)] w3:  [array([0.2202127], dtype=float32)] w4:  [array([-0.6380073], dtype=float32)] w5:  [array([-0.13196157], dtype=float32)] w6:  [array([0.73442274], dtype=float32)] \n",
      "\n",
      "6000 Cost:  2.7093692 \n",
      "\n",
      "w1:  [array([-0.5721612], dtype=float32)] w2:  [array([-0.81981385], dtype=float32)] w3:  [array([0.23948684], dtype=float32)] w4:  [array([-0.62119436], dtype=float32)] w5:  [array([-0.11804012], dtype=float32)] w6:  [array([0.74541914], dtype=float32)] \n",
      "\n",
      "7000 Cost:  2.4560888 \n",
      "\n",
      "w1:  [array([-0.5566101], dtype=float32)] w2:  [array([-0.8017864], dtype=float32)] w3:  [array([0.25573477], dtype=float32)] w4:  [array([-0.60797614], dtype=float32)] w5:  [array([-0.10812341], dtype=float32)] w6:  [array([0.7520964], dtype=float32)] \n",
      "\n",
      "8000 Cost:  2.25547 \n",
      "\n",
      "w1:  [array([-0.5417238], dtype=float32)] w2:  [array([-0.7854319], dtype=float32)] w3:  [array([0.26975518], dtype=float32)] w4:  [array([-0.59731317], dtype=float32)] w5:  [array([-0.10096192], dtype=float32)] w6:  [array([0.7558968], dtype=float32)] \n",
      "\n",
      "9000 Cost:  2.087411 \n",
      "\n",
      "w1:  [array([-0.527425], dtype=float32)] w2:  [array([-0.77039826], dtype=float32)] w3:  [array([0.28209963], dtype=float32)] w4:  [array([-0.58849466], dtype=float32)] w5:  [array([-0.0957094], dtype=float32)] w6:  [array([0.7577882], dtype=float32)] \n",
      "\n",
      "10000 Cost:  1.9417077 \n",
      "\n",
      "w1:  [array([-0.51365393], dtype=float32)] w2:  [array([-0.7564368], dtype=float32)] w3:  [array([0.29314813], dtype=float32)] w4:  [array([-0.5810398], dtype=float32)] w5:  [array([-0.09180105], dtype=float32)] w6:  [array([0.7584069], dtype=float32)] \n",
      "\n",
      "11000 Cost:  1.8127751 \n",
      "\n",
      "w1:  [array([-0.5003628], dtype=float32)] w2:  [array([-0.7433693], dtype=float32)] w3:  [array([0.30316558], dtype=float32)] w4:  [array([-0.57461995], dtype=float32)] w5:  [array([-0.08886018], dtype=float32)] w6:  [array([0.7581689], dtype=float32)] \n",
      "\n",
      "12000 Cost:  1.6972445 \n",
      "\n",
      "w1:  [array([-0.48751423], dtype=float32)] w2:  [array([-0.7310662], dtype=float32)] w3:  [array([0.31234], dtype=float32)] w4:  [array([-0.569009], dtype=float32)] w5:  [array([-0.0866333], dtype=float32)] w6:  [array([0.75734526], dtype=float32)] \n",
      "\n",
      "13000 Cost:  1.5928442 \n",
      "\n",
      "w1:  [array([-0.47507602], dtype=float32)] w2:  [array([-0.7194292], dtype=float32)] w3:  [array([0.32080826], dtype=float32)] w4:  [array([-0.5640462], dtype=float32)] w5:  [array([-0.08494714], dtype=float32)] w6:  [array([0.7561165], dtype=float32)] \n",
      "\n",
      "14000 Cost:  1.4979141 \n",
      "\n",
      "w1:  [array([-0.46302143], dtype=float32)] w2:  [array([-0.70838094], dtype=float32)] w3:  [array([0.32867208], dtype=float32)] w4:  [array([-0.55961764], dtype=float32)] w5:  [array([-0.0836809], dtype=float32)] w6:  [array([0.7546038], dtype=float32)] \n",
      "\n",
      "15000 Cost:  1.4112068 \n",
      "\n",
      "w1:  [array([-0.45132706], dtype=float32)] w2:  [array([-0.69786125], dtype=float32)] w3:  [array([0.33601055], dtype=float32)] w4:  [array([-0.55563563], dtype=float32)] w5:  [array([-0.08274758], dtype=float32)] w6:  [array([0.7528896], dtype=float32)] \n",
      "\n",
      "16000 Cost:  1.3317212 \n",
      "\n",
      "w1:  [array([-0.43997243], dtype=float32)] w2:  [array([-0.6878209], dtype=float32)] w3:  [array([0.3428856], dtype=float32)] w4:  [array([-0.552036], dtype=float32)] w5:  [array([-0.08208443], dtype=float32)] w6:  [array([0.7510319], dtype=float32)] \n",
      "\n",
      "17000 Cost:  1.2586077 \n",
      "\n",
      "w1:  [array([-0.4289398], dtype=float32)] w2:  [array([-0.6782182], dtype=float32)] w3:  [array([0.34934643], dtype=float32)] w4:  [array([-0.548769], dtype=float32)] w5:  [array([-0.08164441], dtype=float32)] w6:  [array([0.7490741], dtype=float32)] \n",
      "\n",
      "18000 Cost:  1.1911758 \n",
      "\n",
      "w1:  [array([-0.41821182], dtype=float32)] w2:  [array([-0.6690187], dtype=float32)] w3:  [array([0.35543483], dtype=float32)] w4:  [array([-0.54579186], dtype=float32)] w5:  [array([-0.08139127], dtype=float32)] w6:  [array([0.74703765], dtype=float32)] \n",
      "\n",
      "19000 Cost:  1.1288062 \n",
      "\n",
      "w1:  [array([-0.40777364], dtype=float32)] w2:  [array([-0.6601913], dtype=float32)] w3:  [array([0.36118457], dtype=float32)] w4:  [array([-0.54307294], dtype=float32)] w5:  [array([-0.08129755], dtype=float32)] w6:  [array([0.7449515], dtype=float32)] \n",
      "\n",
      "20000 Cost:  1.0709932 \n",
      "\n",
      "w1:  [array([-0.39761227], dtype=float32)] w2:  [array([-0.6517081], dtype=float32)] w3:  [array([0.36662635], dtype=float32)] w4:  [array([-0.5405852], dtype=float32)] w5:  [array([-0.08133917], dtype=float32)] w6:  [array([0.74281657], dtype=float32)] \n",
      "\n",
      "21000 Cost:  1.0172956 \n",
      "\n",
      "w1:  [array([-0.38771516], dtype=float32)] w2:  [array([-0.64354867], dtype=float32)] w3:  [array([0.3717856], dtype=float32)] w4:  [array([-0.5383022], dtype=float32)] w5:  [array([-0.08149838], dtype=float32)] w6:  [array([0.7406708], dtype=float32)] \n",
      "\n",
      "22000 Cost:  0.96731263 \n",
      "\n",
      "w1:  [array([-0.37806982], dtype=float32)] w2:  [array([-0.6356896], dtype=float32)] w3:  [array([0.3766834], dtype=float32)] w4:  [array([-0.53620815], dtype=float32)] w5:  [array([-0.08176116], dtype=float32)] w6:  [array([0.73852503], dtype=float32)] \n",
      "\n",
      "23000 Cost:  0.9206868 \n",
      "\n",
      "w1:  [array([-0.36866674], dtype=float32)] w2:  [array([-0.6281147], dtype=float32)] w3:  [array([0.38134053], dtype=float32)] w4:  [array([-0.53428614], dtype=float32)] w5:  [array([-0.08211461], dtype=float32)] w6:  [array([0.7363313], dtype=float32)] \n",
      "\n",
      "24000 Cost:  0.8771262 \n",
      "\n",
      "w1:  [array([-0.35949567], dtype=float32)] w2:  [array([-0.6208024], dtype=float32)] w3:  [array([0.38577443], dtype=float32)] w4:  [array([-0.53251475], dtype=float32)] w5:  [array([-0.08254652], dtype=float32)] w6:  [array([0.7341259], dtype=float32)] \n",
      "\n",
      "25000 Cost:  0.836355 \n",
      "\n",
      "w1:  [array([-0.3505464], dtype=float32)] w2:  [array([-0.6137409], dtype=float32)] w3:  [array([0.39000207], dtype=float32)] w4:  [array([-0.5308893], dtype=float32)] w5:  [array([-0.0830477], dtype=float32)] w6:  [array([0.73192304], dtype=float32)] \n",
      "\n",
      "26000 Cost:  0.7981441 \n",
      "\n",
      "w1:  [array([-0.3418112], dtype=float32)] w2:  [array([-0.60691535], dtype=float32)] w3:  [array([0.39403617], dtype=float32)] w4:  [array([-0.5293919], dtype=float32)] w5:  [array([-0.08361067], dtype=float32)] w6:  [array([0.7297773], dtype=float32)] \n",
      "\n",
      "27000 Cost:  0.7622662 \n",
      "\n",
      "w1:  [array([-0.3332821], dtype=float32)] w2:  [array([-0.60031295], dtype=float32)] w3:  [array([0.39789107], dtype=float32)] w4:  [array([-0.52801275], dtype=float32)] w5:  [array([-0.08422805], dtype=float32)] w6:  [array([0.7276315], dtype=float32)] \n",
      "\n",
      "28000 Cost:  0.7285287 \n",
      "\n",
      "w1:  [array([-0.32495075], dtype=float32)] w2:  [array([-0.5939179], dtype=float32)] w3:  [array([0.40157744], dtype=float32)] w4:  [array([-0.52674013], dtype=float32)] w5:  [array([-0.08489291], dtype=float32)] w6:  [array([0.72548574], dtype=float32)] \n",
      "\n",
      "29000 Cost:  0.69675964 \n",
      "\n",
      "w1:  [array([-0.31681055], dtype=float32)] w2:  [array([-0.58772415], dtype=float32)] w3:  [array([0.40510803], dtype=float32)] w4:  [array([-0.52557313], dtype=float32)] w5:  [array([-0.08559904], dtype=float32)] w6:  [array([0.72334], dtype=float32)] \n",
      "\n"
     ]
    },
    {
     "name": "stdout",
     "output_type": "stream",
     "text": [
      "30000 Cost:  0.6668067 \n",
      "\n",
      "w1:  [array([-0.3088543], dtype=float32)] w2:  [array([-0.58171827], dtype=float32)] w3:  [array([0.40849274], dtype=float32)] w4:  [array([-0.52449197], dtype=float32)] w5:  [array([-0.08634101], dtype=float32)] w6:  [array([0.72120416], dtype=float32)] \n",
      "\n"
     ]
    }
   ],
   "source": [
    "sess = tf.Session()\n",
    "sess.run(tf.global_variables_initializer())\n",
    "\n",
    "for step in range(30001):\n",
    "    for i in range(1, w_number + 1):\n",
    "        globals()['w{}_val'.format(i)] = sess.run([globals()['w{}'.format(i)]])\n",
    "    cost_val, y1prime_val, y1_val, y2prime_val, y2_val, x_val, _ = sess.run([cost, y1prime, y1, y2prime, y2, x, train])\n",
    "    if step % 1000 == 0:\n",
    "#         print(step, \"Cost: \", cost_val, \"\\nx: \", x_val,  \"yprime: \", yprime_val, \"y: \", y_val)\n",
    "        print(step, \"Cost: \", cost_val, \"\\n\")\n",
    "        print(\"w1: \", w1_val, \"w2: \", w2_val, \"w3: \", w3_val, \"w4: \", w4_val, \"w5: \", w5_val, \"w6: \", w6_val, \"\\n\")"
   ]
  },
  {
   "cell_type": "code",
   "execution_count": 45,
   "metadata": {},
   "outputs": [],
   "source": [
    "def y(x):\n",
    "    answer = 1\n",
    "    for i in range(1, w_number + 1):\n",
    "        answer += globals()['w{}_val'.format(i)]*(x**i)\n",
    "    return answer[0]"
   ]
  },
  {
   "cell_type": "code",
   "execution_count": 46,
   "metadata": {},
   "outputs": [],
   "source": [
    "globals()['w{}x{}'.format(w_number, x_number)] = [x_val, y(x_val)]"
   ]
  },
  {
   "cell_type": "code",
   "execution_count": 47,
   "metadata": {},
   "outputs": [
    {
     "data": {
      "image/png": "[encoded data removed]",
      "text/plain": [
       "<Figure size 432x288 with 1 Axes>"
      ]
     },
     "metadata": {
      "needs_background": "light"
     },
     "output_type": "display_data"
    }
   ],
   "source": [
    "plt.plot(x_val, y(x_val), '.')\n",
    "plt.show()"
   ]
  },
  {
   "cell_type": "code",
   "execution_count": 48,
   "metadata": {},
   "outputs": [
    {
     "data": {
      "image/png": "[encoded data removed]",
      "text/plain": [
       "<Figure size 432x288 with 1 Axes>"
      ]
     },
     "metadata": {
      "needs_background": "light"
     },
     "output_type": "display_data"
    }
   ],
   "source": [
    "plt.plot(w6x100[0],w6x100[1], '.')\n",
    "plt.show()"
   ]
  },
  {
   "cell_type": "code",
   "execution_count": null,
   "metadata": {},
   "outputs": [],
   "source": []
  }
 ],
 "metadata": {
  "kernelspec": {
   "display_name": "Python 3",
   "language": "python",
   "name": "python3"
  },
  "language_info": {
   "codemirror_mode": {
    "name": "ipython",
    "version": 3
   },
   "file_extension": ".py",
   "mimetype": "text/x-python",
   "name": "python",
   "nbconvert_exporter": "python",
   "pygments_lexer": "ipython3",
   "version": "3.7.6"
  }
 },
 "nbformat": 4,
 "nbformat_minor": 2
}
