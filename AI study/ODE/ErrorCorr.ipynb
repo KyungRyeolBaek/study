{
  "nbformat": 4,
  "nbformat_minor": 0,
  "metadata": {
    "colab": {
      "name": "Untitled7.ipynb",
      "provenance": [],
      "authorship_tag": "ABX9TyOsY1BJhuFY/qphhWb6GZyZ",
      "include_colab_link": true
    },
    "kernelspec": {
      "name": "python3",
      "display_name": "Python 3"
    },
    "language_info": {
      "name": "python"
    }
  },
  "cells": [
    {
      "cell_type": "markdown",
      "metadata": {
        "id": "view-in-github",
        "colab_type": "text"
      },
      "source": [
        "<a href=\"https://colab.research.google.com/github/KyungRyeolBaek/study/blob/main/AI%20study/ODE/ErrorCorr.ipynb\" target=\"_parent\"><img src=\"https://colab.research.google.com/assets/colab-badge.svg\" alt=\"Open In Colab\"/></a>"
      ]
    },
    {
      "cell_type": "markdown",
      "metadata": {
        "id": "ti-zPaf492G8"
      },
      "source": [
        "# Error Corr"
      ]
    },
    {
      "cell_type": "code",
      "metadata": {
        "id": "6NOaeOmRiy9F",
        "outputId": "1d8bf212-b874-4b75-a76e-1d9a660d4db3",
        "colab": {
          "base_uri": "https://localhost:8080/"
        }
      },
      "source": [
        "import autograd.numpy as np\n",
        "from autograd import grad \n",
        "import autograd.numpy.random as npr\n",
        "from autograd.core import primitive\n",
        "from matplotlib import pyplot as plt\n",
        "%matplotlib inline\n",
        "import tensorflow.compat.v1 as tf\n",
        "tf.disable_v2_behavior()\n",
        "import torch"
      ],
      "execution_count": 1,
      "outputs": [
        {
          "output_type": "stream",
          "text": [
            "WARNING:tensorflow:From /usr/local/lib/python3.7/dist-packages/tensorflow/python/compat/v2_compat.py:96: disable_resource_variables (from tensorflow.python.ops.variable_scope) is deprecated and will be removed in a future version.\n",
            "Instructions for updating:\n",
            "non-resource variables are not supported in the long term\n"
          ],
          "name": "stdout"
        }
      ]
    },
    {
      "cell_type": "code",
      "metadata": {
        "id": "celI1LfL3hI4"
      },
      "source": [
        "nx = 10\n",
        "dx = 1. / nx\n",
        "\n",
        "def A(x):\n",
        "    '''\n",
        "        Left part of initial equation\n",
        "    '''\n",
        "    return x + (1. + 3.*x**2) / (1. + x + x**3)\n",
        "\n",
        "\n",
        "def B(x):\n",
        "    '''\n",
        "        Right part of initial equation\n",
        "    '''\n",
        "    return x**3 + 2.*x + x**2 * ((1. + 3.*x**2) / (1. + x + x**3))\n",
        "\n",
        "\n",
        "def f(x, psy):\n",
        "    '''\n",
        "        d(psy)/dx = f(x, psy)\n",
        "        This is f() function on the right\n",
        "    '''\n",
        "    return B(x) - psy * A(x)\n",
        "\n",
        "def sigmoid(x):\n",
        "    return 1 / (1 + np.exp(-x))\n",
        "\n",
        "\n",
        "def sigmoid_grad(x):\n",
        "    return sigmoid(x) * (1 - sigmoid(x))\n",
        "\n",
        "\n",
        "def neural_network(W, x):\n",
        "    a1 = sigmoid(np.dot(x, W[0]))\n",
        "    return np.dot(a1, W[1])\n",
        "\n",
        "\n",
        "def d_neural_network_dx(W, x, k=1):\n",
        "    return np.dot(np.dot(W[1].T, W[0].T**k), sigmoid_grad(x))\n",
        "\n",
        "\n",
        "def loss_function(W, x):\n",
        "    loss_sum = 0.\n",
        "    for xi in x:\n",
        "        net_out = neural_network(W, xi)[0][0]\n",
        "        psy_t = 1. + xi * net_out\n",
        "        d_net_out = d_neural_network_dx(W, xi)[0][0]\n",
        "        d_psy_t = net_out + xi * d_net_out\n",
        "        func = f(xi, psy_t)       \n",
        "        err_sqr = (d_psy_t - func)**2\n",
        "\n",
        "        loss_sum += err_sqr\n",
        "    return loss_sum\n",
        "\n",
        "# x_space = np.linspace(0, 1, nx)\n",
        "# W = [npr.randn(1, 10), npr.randn(10, 1)]\n",
        "# lmb = 0.001\n",
        "\n",
        "# for i in range(1000):\n",
        "#     loss_grad =  grad(loss_function)(W, x_space)\n",
        "    \n",
        "#     W[0] = W[0] - lmb * loss_grad[0]\n",
        "#     W[1] = W[1] - lmb * loss_grad[1]\n",
        "\n",
        "# res = [1 + xi * neural_network(W, xi)[0][0] for xi in x_space] "
      ],
      "execution_count": 4,
      "outputs": []
    },
    {
      "cell_type": "code",
      "metadata": {
        "id": "BXF5ZFtTYKc5"
      },
      "source": [
        "def graph_N(w_number, x_number, step_number):\n",
        "  y = 1\n",
        "  yprime = 0\n",
        "  x = tf.Variable(tf.random_normal([x_number]), name = 'x')\n",
        "\n",
        "  for i in range(1, w_number + 1):\n",
        "    globals()['w{}'.format(i)] = tf.Variable(tf.random_normal([1]), name = 'weight{}'.format(i))\n",
        "    y += globals()['w{}'.format(i)]*(x**i)  # y = 1 + w1*(x) + w2*(x**2) + w3*(x**3) + w4*(x**4) + w5*(x**5) + w6*(x**6)\n",
        "    yprime += i*globals()['w{}'.format(i)]*(x**(i-1))  # yprime = w1 + 2*w2*x + 3*w3*(x**2) + 4*w4*(x**3) + 5*w5*(x**4) + 6*w6*(x**5)\n",
        "  \n",
        "  x_space = np.linspace(0, 1, x_number)\n",
        "  W = [npr.randn(1, w_number), npr.randn(w_number, 1)]\n",
        "  lmb = 0.001\n",
        "\n",
        "  for i in range(1000):\n",
        "    loss_grad =  grad(loss_function)(W, x_space)\n",
        "    \n",
        "    W[0] = W[0] - lmb * loss_grad[0]\n",
        "    W[1] = W[1] - lmb * loss_grad[1]\n",
        "\n",
        "  y += torch.Tensor([neural_network(W, xi)[0][0] for xi in x_space] )\n",
        "  yprime += torch.Tensor(d_neural_network_dx(W, 1))\n",
        "  \n",
        "  cost = tf.reduce_mean(tf.square(yprime - y))\n",
        "  optimizer = tf.train.GradientDescentOptimizer(learning_rate = 1e-5)\n",
        "  train = optimizer.minimize(cost)\n",
        "\n",
        "  sess = tf.Session()\n",
        "  sess.run(tf.global_variables_initializer())\n",
        "\n",
        "  for step in range(step_number + 1):\n",
        "    for i in range(1, w_number + 1):\n",
        "        globals()['w{}_val'.format(i)] = sess.run([globals()['w{}'.format(i)]])\n",
        "    cost_val, yprime_val, y_val, x_val, _ = sess.run([cost, yprime, y, x, train])\n",
        "    if step % int(step_number / 5) == 0:\n",
        "  #         print(step, \"Cost: \", cost_val, \"\\nx: \", x_val,  \"yprime: \", yprime_val, \"y: \", y_val)\n",
        "        print(step, \"Cost: \", cost_val, \"\\n\")\n",
        "        print(\"w1: \", w1_val, \"w2: \", w2_val, \"w3: \", w3_val, \"w4: \", w4_val, \"w5: \", w5_val, \"w6: \", w6_val, \"\\n\")\n",
        "        \n",
        "  def y(x):\n",
        "    answer = 1\n",
        "    for i in range(1, w_number + 1):\n",
        "        answer += globals()['w{}_val'.format(i)]*(x**i)\n",
        "    return answer[0]\n",
        "\n",
        "  globals()['w{}x{}'.format(w_number, x_number)] = [x_val, y(x_val)]\n",
        "  plt.plot(x_val, y(x_val), '.')\n",
        "  plt.show()"
      ],
      "execution_count": 29,
      "outputs": []
    },
    {
      "cell_type": "code",
      "metadata": {
        "colab": {
          "base_uri": "https://localhost:8080/"
        },
        "id": "qe29rhl2YbGL",
        "outputId": "42884b6e-da31-4296-ed0a-5ed44200063f"
      },
      "source": [
        "graph_N(6, 100, 30000)\n",
        "graph_N(6, 1000, 30000)\n",
        "graph_N(6, 10000, 30000)"
      ],
      "execution_count": null,
      "outputs": [
        {
          "output_type": "stream",
          "text": [
            "0 Cost:  24315.99 \n",
            "\n",
            "w1:  [array([0.720313], dtype=float32)] w2:  [array([-0.11088338], dtype=float32)] w3:  [array([-0.8730286], dtype=float32)] w4:  [array([-0.12122729], dtype=float32)] w5:  [array([0.771264], dtype=float32)] w6:  [array([2.012427], dtype=float32)] \n",
            "\n",
            "6000 Cost:  1.2354578 \n",
            "\n",
            "w1:  [array([0.63914126], dtype=float32)] w2:  [array([-0.14555836], dtype=float32)] w3:  [array([-1.0098164], dtype=float32)] w4:  [array([-0.5728918], dtype=float32)] w5:  [array([0.39954326], dtype=float32)] w6:  [array([0.351314], dtype=float32)] \n",
            "\n",
            "12000 Cost:  0.89722556 \n",
            "\n",
            "w1:  [array([0.5465381], dtype=float32)] w2:  [array([-0.08965334], dtype=float32)] w3:  [array([-1.0495533], dtype=float32)] w4:  [array([-0.55496764], dtype=float32)] w5:  [array([0.36965778], dtype=float32)] w6:  [array([0.29768625], dtype=float32)] \n",
            "\n"
          ],
          "name": "stdout"
        }
      ]
    },
    {
      "cell_type": "code",
      "metadata": {
        "id": "A89_TanZrT0g"
      },
      "source": [
        "x = np.array([i for i in range(-40, 50, 1)])\n",
        "plt.figure(figsize = (20, 10))\n",
        "plt.plot(0.1*x, np.exp(0.1*x), '.b', label = 'exp')\n",
        "plt.plot(w6x100[0],w6x100[1], '.r', label = 'w=6, x=100')\n",
        "plt.plot(w6x1000[0],w6x1000[1], '.g', label = 'w=6, x=1000')\n",
        "plt.plot(w6x10000[0],w6x10000[1], '.c', label = 'w=6, x=10000')\n",
        "plt.legend(loc = 'upper right', fontsize = 'large')\n",
        "\n",
        "plt.show()"
      ],
      "execution_count": null,
      "outputs": []
    },
    {
      "cell_type": "code",
      "metadata": {
        "id": "gMNM5JqU9bAt"
      },
      "source": [
        ""
      ],
      "execution_count": null,
      "outputs": []
    }
  ]
}