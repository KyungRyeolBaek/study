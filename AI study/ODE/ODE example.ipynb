{
  "nbformat": 4,
  "nbformat_minor": 0,
  "metadata": {
    "kernelspec": {
      "display_name": "Python 3",
      "language": "python",
      "name": "python3"
    },
    "language_info": {
      "codemirror_mode": {
        "name": "ipython",
        "version": 3
      },
      "file_extension": ".py",
      "mimetype": "text/x-python",
      "name": "python",
      "nbconvert_exporter": "python",
      "pygments_lexer": "ipython3",
      "version": "3.6.4"
    },
    "colab": {
      "name": "ODE example.ipynb",
      "provenance": []
    }
  },
  "cells": [
    {
      "cell_type": "markdown",
      "metadata": {
        "id": "iLojN8R-kwI5"
      },
      "source": [
        "# ODE example"
      ]
    },
    {
      "cell_type": "code",
      "metadata": {
        "id": "ymDh1g2XWjfF"
      },
      "source": [
        "import autograd.numpy as np\n",
        "from autograd import grad \n",
        "import autograd.numpy.random as npr\n",
        "\n",
        "from autograd.core import primitive\n",
        "\n",
        "from matplotlib import pyplot as plt\n",
        "%matplotlib inline"
      ],
      "execution_count": null,
      "outputs": []
    },
    {
      "cell_type": "code",
      "metadata": {
        "id": "e4IS90KJWjfH"
      },
      "source": [
        "nx = 10\n",
        "dx = 1. / nx"
      ],
      "execution_count": null,
      "outputs": []
    },
    {
      "cell_type": "code",
      "metadata": {
        "id": "PWPphUaXWjfH"
      },
      "source": [
        "def A(x):\n",
        "    '''\n",
        "        Left part of initial equation\n",
        "    '''\n",
        "    return x + (1. + 3.*x**2) / (1. + x + x**3)\n",
        "\n",
        "\n",
        "def B(x):\n",
        "    '''\n",
        "        Right part of initial equation\n",
        "    '''\n",
        "    return x**3 + 2.*x + x**2 * ((1. + 3.*x**2) / (1. + x + x**3))\n",
        "\n",
        "\n",
        "def f(x, psy):\n",
        "    '''\n",
        "        d(psy)/dx = f(x, psy)\n",
        "        This is f() function on the right\n",
        "    '''\n",
        "    return B(x) - psy * A(x)\n",
        "\n",
        "\n",
        "def psy_analytic(x):\n",
        "    '''\n",
        "        Analytical solution of current problem\n",
        "    '''\n",
        "    return (np.exp((-x**2)/2.)) / (1. + x + x**3) + x**2"
      ],
      "execution_count": null,
      "outputs": []
    },
    {
      "cell_type": "code",
      "metadata": {
        "id": "j62FP8WlWjfH",
        "colab": {
          "base_uri": "https://localhost:8080/",
          "height": 264
        },
        "outputId": "7f7497fb-9047-4481-f0f5-df026453c5f2"
      },
      "source": [
        "x_space = np.linspace(0, 1, nx)    \n",
        "y_space = psy_analytic(x_space)\n",
        "psy_fd = np.zeros_like(y_space)\n",
        "psy_fd[0] = 1. # IC\n",
        "\n",
        "for i in range(1, len(x_space)):\n",
        "    psy_fd[i] = psy_fd[i-1] + B(x_space[i]) * dx - psy_fd[i-1] * A(x_space[i]) * dx\n",
        "  \n",
        "plt.figure()\n",
        "plt.plot(x_space, y_space) \n",
        "plt.plot(x_space, psy_fd)\n",
        "plt.show()"
      ],
      "execution_count": null,
      "outputs": [
        {
          "output_type": "display_data",
          "data": {
            "image/png": "[encoded data removed]",
            "text/plain": [
              "<Figure size 432x288 with 1 Axes>"
            ]
          },
          "metadata": {
            "tags": [],
            "needs_background": "light"
          }
        }
      ]
    },
    {
      "cell_type": "code",
      "metadata": {
        "id": "d-kstGU-WjfI"
      },
      "source": [
        "def sigmoid(x):\n",
        "    return 1 / (1 + np.exp(-x))\n",
        "\n",
        "\n",
        "def sigmoid_grad(x):\n",
        "    return sigmoid(x) * (1 - sigmoid(x))\n",
        "\n",
        "\n",
        "def neural_network(W, x):\n",
        "    a1 = sigmoid(np.dot(x, W[0]))\n",
        "    return np.dot(a1, W[1])\n",
        "\n",
        "\n",
        "def d_neural_network_dx(W, x, k=1):\n",
        "    return np.dot(np.dot(W[1].T, W[0].T**k), sigmoid_grad(x))\n",
        "\n",
        "\n",
        "def loss_function(W, x):\n",
        "    loss_sum = 0.\n",
        "    for xi in x:\n",
        "        net_out = neural_network(W, xi)[0][0]\n",
        "        psy_t = 1. + xi * net_out\n",
        "        d_net_out = d_neural_network_dx(W, xi)[0][0]\n",
        "        d_psy_t = net_out + xi * d_net_out\n",
        "        func = f(xi, psy_t)       \n",
        "        err_sqr = (d_psy_t - func)**2\n",
        "\n",
        "        loss_sum += err_sqr\n",
        "    return loss_sum"
      ],
      "execution_count": null,
      "outputs": []
    },
    {
      "cell_type": "code",
      "metadata": {
        "id": "q8xzvh1eWjfJ"
      },
      "source": [
        "W = [npr.randn(1, 10), npr.randn(10, 1)]\n",
        "lmb = 0.001\n",
        "\n",
        "# x = np.array(1)\n",
        "# print neural_network(W, x)\n",
        "# print d_neural_network_dx(W, x)\n",
        "\n",
        "for i in range(1000):\n",
        "    loss_grad =  grad(loss_function)(W, x_space)\n",
        "    \n",
        "#     print loss_grad[0].shape, W[0].shape\n",
        "#     print loss_grad[1].shape, W[1].shape\n",
        "    \n",
        "    W[0] = W[0] - lmb * loss_grad[0]\n",
        "    W[1] = W[1] - lmb * loss_grad[1]\n",
        "    \n",
        "#     print loss_function(W, x_space)"
      ],
      "execution_count": null,
      "outputs": []
    },
    {
      "cell_type": "code",
      "metadata": {
        "id": "OtekhGLWWjfJ",
        "colab": {
          "base_uri": "https://localhost:8080/",
          "height": 477
        },
        "outputId": "875e688b-5679-4c69-9bdb-42fd7e54b126"
      },
      "source": [
        "print(loss_function(W, x_space))\n",
        "res = [1 + xi * neural_network(W, xi)[0][0] for xi in x_space] \n",
        "\n",
        "print(W)\n",
        "\n",
        "plt.figure()\n",
        "plt.plot(x_space, y_space) \n",
        "plt.plot(x_space, psy_fd)\n",
        "plt.plot(x_space, res)\n",
        "plt.show()"
      ],
      "execution_count": null,
      "outputs": [
        {
          "output_type": "stream",
          "text": [
            "0.1988981768410802\n",
            "[array([[ 2.02458047, -0.28579277,  0.22670631,  0.76298733, -0.51182393,\n",
            "         0.70153994,  0.92370917, -1.66934446, -1.02911881, -0.97064678]]), array([[ 1.13883316],\n",
            "       [-0.26275492],\n",
            "       [-0.59325484],\n",
            "       [ 1.93063511],\n",
            "       [-1.14040168],\n",
            "       [ 0.13196031],\n",
            "       [-1.19173433],\n",
            "       [-0.84307813],\n",
            "       [-1.07277809],\n",
            "       [-0.41278791]])]\n"
          ],
          "name": "stdout"
        },
        {
          "output_type": "display_data",
          "data": {
            "image/png": "[encoded data removed]",
            "text/plain": [
              "<Figure size 432x288 with 1 Axes>"
            ]
          },
          "metadata": {
            "tags": [],
            "needs_background": "light"
          }
        }
      ]
    },
    {
      "cell_type": "code",
      "metadata": {
        "collapsed": true,
        "id": "0GCDySGmWjfJ"
      },
      "source": [
        ""
      ],
      "execution_count": null,
      "outputs": []
    }
  ]
}