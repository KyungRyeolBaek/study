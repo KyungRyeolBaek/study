{
  "cells": [
    {
      "cell_type": "markdown",
      "metadata": {
        "id": "VVbLOnWf2F87"
      },
      "source": [
        "# Error Corr"
      ]
    },
    {
      "cell_type": "code",
      "execution_count": 1,
      "metadata": {},
      "outputs": [
        {
          "name": "stdout",
          "output_type": "stream",
          "text": [
            "Python 3.7.6\n"
          ]
        }
      ],
      "source": [
        "# 2022_01_20 기준 Python 3.10에는 tensorflow가 지원이 안된다.\n",
        "!python --version"
      ]
    },
    {
      "cell_type": "code",
      "execution_count": 2,
      "metadata": {},
      "outputs": [
        {
          "data": {
            "text/plain": [
              "'\\n!pip install autograd\\n!pip install matplotlib\\n!pip install tensorflow\\n'"
            ]
          },
          "execution_count": 2,
          "metadata": {},
          "output_type": "execute_result"
        }
      ],
      "source": [
        "# 필요한 라이브러리\n",
        "'''\n",
        "!pip install autograd\n",
        "!pip install matplotlib\n",
        "!pip install tensorflow\n",
        "'''"
      ]
    },
    {
      "cell_type": "markdown",
      "metadata": {
        "id": "F7BIZCqP2F88"
      },
      "source": [
        "import"
      ]
    },
    {
      "cell_type": "code",
      "execution_count": 3,
      "metadata": {
        "id": "uj6ACMy42F88"
      },
      "outputs": [],
      "source": [
        "import autograd.numpy as np\n",
        "from autograd import grad \n",
        "import autograd.numpy.random as npr\n",
        "from autograd.core import primitive\n",
        "from matplotlib import pyplot as plt\n",
        "%matplotlib inline"
      ]
    },
    {
      "cell_type": "markdown",
      "metadata": {
        "id": "FGG2qdtv2F89"
      },
      "source": [
        "using GPU"
      ]
    },
    {
      "cell_type": "code",
      "execution_count": 4,
      "metadata": {
        "colab": {
          "base_uri": "https://localhost:8080/"
        },
        "id": "s0OVmzFN2F89",
        "outputId": "74cd3373-1a14-4a1e-e8a4-fb12299d0b0f"
      },
      "outputs": [
        {
          "name": "stdout",
          "output_type": "stream",
          "text": [
            "WARNING:tensorflow:From C:\\Users\\forev\\AppData\\Roaming\\Python\\Python37\\site-packages\\tensorflow\\python\\compat\\v2_compat.py:96: disable_resource_variables (from tensorflow.python.ops.variable_scope) is deprecated and will be removed in a future version.\n",
            "Instructions for updating:\n",
            "non-resource variables are not supported in the long term\n",
            "WARNING:tensorflow:From <ipython-input-4-7fd9ae13077d>:5: is_gpu_available (from tensorflow.python.framework.test_util) is deprecated and will be removed in a future version.\n",
            "Instructions for updating:\n",
            "Use `tf.config.list_physical_devices('GPU')` instead.\n"
          ]
        },
        {
          "data": {
            "text/plain": [
              "False"
            ]
          },
          "execution_count": 4,
          "metadata": {},
          "output_type": "execute_result"
        }
      ],
      "source": [
        "import tensorflow.compat.v1 as tf\n",
        "tf.disable_v2_behavior()\n",
        "from tensorflow.python.client import device_lib \n",
        "device_lib.list_local_devices() \n",
        "tf.test.is_gpu_available()\n",
        "# gpu를 사용하려면 cmd와 jupyter notebook cell에서 모두 True값이 나와야 함"
      ]
    },
    {
      "cell_type": "markdown",
      "metadata": {
        "id": "Uwk4cL5t2F8-"
      },
      "source": [
        "Parameter"
      ]
    },
    {
      "cell_type": "code",
      "execution_count": 5,
      "metadata": {
        "id": "z6IALTNr2F8-"
      },
      "outputs": [],
      "source": [
        "x_max = 1             # 최대 x 범위 : 0 <= x < x_max\n",
        "w_number = 6          # w 개수\n",
        "cost_limit = 0.1      # 최소 cost \n",
        "step_number = 30000   # step 횟수"
      ]
    },
    {
      "cell_type": "markdown",
      "metadata": {
        "id": "BCgyjQm32Xgu"
      },
      "source": [
        "Function :\n",
        "$$y = 1+ w_{1}x + w_{2}x^{2} + ... + w_{6}x^{6}$$\n",
        "$$y' = w_{1} + 2w_{2}x + ... + 6w_{6}x^{5}$$\n",
        "\n",
        "Neural Network : $$ye = 1 + xN$$\n",
        "$$ye' = \\frac{ N + N'x }{ \\Big\\lVert y - y' \\Big\\rVert^{2} }$$\n",
        "\n",
        "Cost : $$\\sum_{ i=0 }^{ n } { \\frac{ (ye' - ye)^{2} }{ n } } + \\sum_{ i=0 }^{ n } { \\frac{ (y' - y)^{2} }{ n } }$$"
      ]
    },
    {
      "cell_type": "code",
      "execution_count": 6,
      "metadata": {
        "id": "Zj7itAwm2F8_"
      },
      "outputs": [],
      "source": [
        "# 예측에 넣을 함수.\n",
        "# def f(x, y):          # f(x, y)\n",
        "#   return 2*y\n",
        "\n",
        "# 정답이 되는 함수.\n",
        "def anal(x):\n",
        "  return np.exp(list(2*np.array(x)))\n",
        "\n",
        "# 함수 정의\n",
        "def Error_Corr(x_max = 1, w_number = 6, cost_limt = 0.1, step_number = 30000):\n",
        "  def sigmoid(x):\n",
        "      return 1 / (1 + tf.math.exp(-x))\n",
        "\n",
        "  def sigmoid_grad(x):\n",
        "      return sigmoid(x) * (1 - sigmoid(x))\n",
        "\n",
        "  def neural_network(W, x):\n",
        "      a1 = sigmoid(tf.tensordot(x, W[0], axes = 1))\n",
        "      return tf.tensordot(a1, W[1], axes = 1)\n",
        "\n",
        "  def d_neural_network_dx(W, x, k=1):\n",
        "      return tf.tensordot(tf.transpose(W[1]), tf.transpose(W[0])**k, axes = 1) * sigmoid_grad(x)\n",
        "\n",
        "  x = tf.Variable(np.array([[i/100] for i in range(0, x_max * 100, 1)], dtype = np.float32))\n",
        "  W = [tf.Variable(tf.random_normal([1, 10])), tf.Variable(tf.random_normal([10, 1]))]\n",
        "  for i in range(1, w_number + 1):\n",
        "      # 수정\n",
        "      # globals()['w{}'.format(i)] = tf.Variable(tf.random_normal([1]), name = 'weight{}'.format(i))\n",
        "      globals()['w{}'.format(i)] = tf.Variable(np.array([[0.5]], dtype = np.float32), name = 'weight{}'.format(i))\n",
        "  y = 1\n",
        "  yprime = 0\n",
        "\n",
        "  sess = tf.Session()\n",
        "  init = tf.global_variables_initializer()\n",
        "  sess.run(init)\n",
        "\n",
        "  for i in range(1, w_number + 1):\n",
        "      y += globals()['w{}'.format(i)]*(x**i)  # y = 1 + w1*(x) + w2*(x**2) + w3*(x**3) + w4*(x**4) + w5*(x**5) + w6*(x**6)\n",
        "      yprime += i*globals()['w{}'.format(i)]*(x**(i-1))  # yprime = w1 + 2*w2*x + 3*w3*(x**2) + 4*w4*(x**3) + 5*w5*(x**4) + 6*w6*(x**5)\n",
        "\n",
        "  # 수정\n",
        "  ye = 0\n",
        "  yeprime = 0\n",
        "  # ye = (x**(w_number + 1)) * neural_network(W, x)\n",
        "  # yeprime = (w_number + 1) * (x**(w_number))*neural_network(W, x) + (x**(w_number + 1)) * d_neural_network_dx(W, x)\n",
        "\n",
        "  # Cost 계산\n",
        "  # 수정\n",
        "  # cost = tf.reduce_mean(tf.square(yeprime - 2*ye)) + tf.reduce_mean(tf.square(yprime - 2*y))\n",
        "  cost = tf.reduce_mean(tf.square(yprime - 2*y))\n",
        "  # Optimizer 함수\n",
        "  optimizer = tf.train.GradientDescentOptimizer(learning_rate = 2e-5)\n",
        "  # 0에 수렴하는 Cost 값을 찾아 변수 수정\n",
        "  train = optimizer.minimize(cost)\n",
        "\n",
        "  count = 0\n",
        "  cost_val = 1\n",
        "  # cost_val값이 cost_limt 값에 도달할 때 까지 반복.\n",
        "  while cost_val > cost_limt:\n",
        "    global x_space\n",
        "    global y_space\n",
        "    global ye_space\n",
        "    global corr_space\n",
        "    global cost_space\n",
        "\n",
        "    x_space = []\n",
        "    y_space = []\n",
        "    ye_space = []\n",
        "    corr_space = []\n",
        "    cost_space = []\n",
        "\n",
        "    # 중간 출력 과정.\n",
        "    if count % 1 == 0:\n",
        "      print(\"count: \", count)\n",
        "    for step in range(step_number + 1):\n",
        "      for i in range(1, w_number + 1):\n",
        "          globals()['w{}_val'.format(i)] = sess.run([globals()['w{}'.format(i)]])\n",
        "      # 수정\n",
        "      # cost_val, yeprime_val, ye_val, yprime_val, y_val, x_val, _ = sess.run([cost, yeprime, ye, yprime, y, x, train])\n",
        "      cost_val, yprime_val, y_val, x_val, _ = sess.run([cost, yprime, y, x, train])\n",
        "      if count % 1 == 0:\n",
        "        if step % int(step_number / 2) == 0:\n",
        "            print('step: ', step, \", Cost: \", cost_val, \"\\n\")\n",
        "    if count % 1 == 0:\n",
        "      print(\"\\n\")\n",
        "\n",
        "    count += 1\n",
        "\n",
        "    # 결과를 담을 List\n",
        "    x_space += list(x_val)\n",
        "    # 수정\n",
        "    # corr_space += list(ye_val + y_val)\n",
        "    y_space += list(y_val)\n",
        "    # ye_space += list(ye_val)\n",
        "\n",
        "    # final_sol = ye + f(x, y)\n",
        "    # anal_sol = anal(x)\n",
        "    # error = abs(final_sol - anal_sol)\n",
        "    # print(np.linalg.norm)\n",
        "\n",
        "    # 결과 출력\n",
        "    # 수정\n",
        "    # plt.plot(x_space, corr_space, '.', label = 'ye + f(x,y)')\n",
        "    plt.plot(x_space, y_space, '.', label = 'f(x,y)')\n",
        "    # plt.plot(x_space, ye_space, '.', label = 'ye')\n",
        "    plt.plot(x_space, anal(x_space), '.', label = 'exp')\n",
        "    plt.legend()\n",
        "    plt.show()\n",
        "\n",
        "  sess.close()"
      ]
    },
    {
      "cell_type": "code",
      "execution_count": 7,
      "metadata": {
        "colab": {
          "base_uri": "https://localhost:8080/"
        },
        "id": "GtqspMJz2F9A",
        "outputId": "e1ddd413-39c6-4be3-c910-2d5d03d77fea"
      },
      "outputs": [
        {
          "name": "stdout",
          "output_type": "stream",
          "text": [
            "count:  0\n",
            "step:  0 , Cost:  1.5257964 \n",
            "\n",
            "step:  2500 , Cost:  1.2966429 \n",
            "\n",
            "step:  5000 , Cost:  1.1767043 \n",
            "\n",
            "\n",
            "\n"
          ]
        },
        {
          "data": {
            "image/png": "[encoded data removed]",
            "text/plain": [
              "<Figure size 432x288 with 1 Axes>"
            ]
          },
          "metadata": {
            "needs_background": "light"
          },
          "output_type": "display_data"
        },
        {
          "name": "stdout",
          "output_type": "stream",
          "text": [
            "count:  1\n",
            "step:  0 , Cost:  1.1766663 \n",
            "\n",
            "step:  2500 , Cost:  1.0944009 \n",
            "\n",
            "step:  5000 , Cost:  1.0283835 \n",
            "\n",
            "\n",
            "\n"
          ]
        },
        {
          "data": {
            "image/png": "[encoded data removed]",
            "text/plain": [
              "<Figure size 432x288 with 1 Axes>"
            ]
          },
          "metadata": {
            "needs_background": "light"
          },
          "output_type": "display_data"
        },
        {
          "name": "stdout",
          "output_type": "stream",
          "text": [
            "count:  2\n",
            "step:  0 , Cost:  1.0283592 \n",
            "\n",
            "step:  2500 , Cost:  0.97090364 \n",
            "\n",
            "step:  5000 , Cost:  0.918905 \n",
            "\n",
            "\n",
            "\n"
          ]
        },
        {
          "data": {
            "image/png": "[encoded data removed]",
            "text/plain": [
              "<Figure size 432x288 with 1 Axes>"
            ]
          },
          "metadata": {
            "needs_background": "light"
          },
          "output_type": "display_data"
        },
        {
          "name": "stdout",
          "output_type": "stream",
          "text": [
            "count:  3\n",
            "step:  0 , Cost:  0.91888505 \n",
            "\n",
            "step:  2500 , Cost:  0.8709052 \n",
            "\n",
            "step:  5000 , Cost:  0.8261876 \n",
            "\n",
            "\n",
            "\n"
          ]
        },
        {
          "data": {
            "image/png": "[encoded data removed]",
            "text/plain": [
              "<Figure size 432x288 with 1 Axes>"
            ]
          },
          "metadata": {
            "needs_background": "light"
          },
          "output_type": "display_data"
        }
      ],
      "source": [
        "x_max = 1             # 최대 x 범위 : 0 <= x < x_max\n",
        "w_number = 6          # w 개수\n",
        "cost_limit = 0.9      # 최소 cost \n",
        "step_number = 5000    # step 횟수 -> 총 step 횟수 = count * step\n",
        "\n",
        "# def f(x, y):          # f(x, y)\n",
        "#   return 2*y\n",
        "\n",
        "def anal(x):\n",
        "  return np.exp(list(2*np.array(x)))\n",
        "\n",
        "Error_Corr(x_max, w_number, cost_limit, step_number)"
      ]
    },
    {
      "cell_type": "code",
      "execution_count": 8,
      "metadata": {
        "id": "VyEb9Niv2F9B"
      },
      "outputs": [
        {
          "ename": "ValueError",
          "evalue": "x and y must have same first dimension, but have shapes (100, 1) and (0,)",
          "output_type": "error",
          "traceback": [
            "\u001b[1;31m---------------------------------------------------------------------------\u001b[0m",
            "\u001b[1;31mValueError\u001b[0m                                Traceback (most recent call last)",
            "\u001b[1;32m<ipython-input-8-2d4e3e07f276>\u001b[0m in \u001b[0;36m<module>\u001b[1;34m\u001b[0m\n\u001b[0;32m      1\u001b[0m \u001b[0merror\u001b[0m \u001b[1;33m=\u001b[0m \u001b[1;33m[\u001b[0m\u001b[0mabs\u001b[0m\u001b[1;33m(\u001b[0m\u001b[0ma\u001b[0m \u001b[1;33m-\u001b[0m \u001b[0mb\u001b[0m\u001b[1;33m)\u001b[0m \u001b[1;32mfor\u001b[0m \u001b[0ma\u001b[0m\u001b[1;33m,\u001b[0m \u001b[0mb\u001b[0m \u001b[1;32min\u001b[0m \u001b[0mzip\u001b[0m\u001b[1;33m(\u001b[0m\u001b[0mcorr_space\u001b[0m\u001b[1;33m,\u001b[0m \u001b[0manal\u001b[0m\u001b[1;33m(\u001b[0m\u001b[0mx_space\u001b[0m\u001b[1;33m)\u001b[0m\u001b[1;33m)\u001b[0m\u001b[1;33m]\u001b[0m\u001b[1;33m\u001b[0m\u001b[1;33m\u001b[0m\u001b[0m\n\u001b[0;32m      2\u001b[0m \u001b[0mplt\u001b[0m\u001b[1;33m.\u001b[0m\u001b[0mplot\u001b[0m\u001b[1;33m(\u001b[0m\u001b[0mx_space\u001b[0m\u001b[1;33m,\u001b[0m \u001b[0manal\u001b[0m\u001b[1;33m(\u001b[0m\u001b[0mx_space\u001b[0m\u001b[1;33m)\u001b[0m\u001b[1;33m,\u001b[0m \u001b[1;34m'.'\u001b[0m\u001b[1;33m,\u001b[0m \u001b[0mlabel\u001b[0m \u001b[1;33m=\u001b[0m \u001b[1;34m'anal sol'\u001b[0m\u001b[1;33m)\u001b[0m\u001b[1;33m\u001b[0m\u001b[1;33m\u001b[0m\u001b[0m\n\u001b[1;32m----> 3\u001b[1;33m \u001b[0mplt\u001b[0m\u001b[1;33m.\u001b[0m\u001b[0mplot\u001b[0m\u001b[1;33m(\u001b[0m\u001b[0mx_space\u001b[0m\u001b[1;33m,\u001b[0m \u001b[0mcorr_space\u001b[0m\u001b[1;33m,\u001b[0m \u001b[1;34m'.'\u001b[0m\u001b[1;33m,\u001b[0m \u001b[0mlabel\u001b[0m \u001b[1;33m=\u001b[0m \u001b[1;34m'final sol'\u001b[0m\u001b[1;33m)\u001b[0m\u001b[1;33m\u001b[0m\u001b[1;33m\u001b[0m\u001b[0m\n\u001b[0m\u001b[0;32m      4\u001b[0m \u001b[0mplt\u001b[0m\u001b[1;33m.\u001b[0m\u001b[0mplot\u001b[0m\u001b[1;33m(\u001b[0m\u001b[0mx_space\u001b[0m\u001b[1;33m,\u001b[0m \u001b[0merror\u001b[0m\u001b[1;33m,\u001b[0m \u001b[1;34m'.'\u001b[0m\u001b[1;33m,\u001b[0m \u001b[0mlabel\u001b[0m \u001b[1;33m=\u001b[0m \u001b[1;34m'error'\u001b[0m\u001b[1;33m)\u001b[0m\u001b[1;33m\u001b[0m\u001b[1;33m\u001b[0m\u001b[0m\n\u001b[0;32m      5\u001b[0m \u001b[0mplt\u001b[0m\u001b[1;33m.\u001b[0m\u001b[0mlegend\u001b[0m\u001b[1;33m(\u001b[0m\u001b[1;33m)\u001b[0m\u001b[1;33m\u001b[0m\u001b[1;33m\u001b[0m\u001b[0m\n",
            "\u001b[1;32m~\\anaconda3\\lib\\site-packages\\matplotlib\\pyplot.py\u001b[0m in \u001b[0;36mplot\u001b[1;34m(scalex, scaley, data, *args, **kwargs)\u001b[0m\n\u001b[0;32m   2794\u001b[0m     return gca().plot(\n\u001b[0;32m   2795\u001b[0m         *args, scalex=scalex, scaley=scaley, **({\"data\": data} if data\n\u001b[1;32m-> 2796\u001b[1;33m         is not None else {}), **kwargs)\n\u001b[0m\u001b[0;32m   2797\u001b[0m \u001b[1;33m\u001b[0m\u001b[0m\n\u001b[0;32m   2798\u001b[0m \u001b[1;33m\u001b[0m\u001b[0m\n",
            "\u001b[1;32m~\\anaconda3\\lib\\site-packages\\matplotlib\\axes\\_axes.py\u001b[0m in \u001b[0;36mplot\u001b[1;34m(self, scalex, scaley, data, *args, **kwargs)\u001b[0m\n\u001b[0;32m   1663\u001b[0m         \"\"\"\n\u001b[0;32m   1664\u001b[0m         \u001b[0mkwargs\u001b[0m \u001b[1;33m=\u001b[0m \u001b[0mcbook\u001b[0m\u001b[1;33m.\u001b[0m\u001b[0mnormalize_kwargs\u001b[0m\u001b[1;33m(\u001b[0m\u001b[0mkwargs\u001b[0m\u001b[1;33m,\u001b[0m \u001b[0mmlines\u001b[0m\u001b[1;33m.\u001b[0m\u001b[0mLine2D\u001b[0m\u001b[1;33m.\u001b[0m\u001b[0m_alias_map\u001b[0m\u001b[1;33m)\u001b[0m\u001b[1;33m\u001b[0m\u001b[1;33m\u001b[0m\u001b[0m\n\u001b[1;32m-> 1665\u001b[1;33m         \u001b[0mlines\u001b[0m \u001b[1;33m=\u001b[0m \u001b[1;33m[\u001b[0m\u001b[1;33m*\u001b[0m\u001b[0mself\u001b[0m\u001b[1;33m.\u001b[0m\u001b[0m_get_lines\u001b[0m\u001b[1;33m(\u001b[0m\u001b[1;33m*\u001b[0m\u001b[0margs\u001b[0m\u001b[1;33m,\u001b[0m \u001b[0mdata\u001b[0m\u001b[1;33m=\u001b[0m\u001b[0mdata\u001b[0m\u001b[1;33m,\u001b[0m \u001b[1;33m**\u001b[0m\u001b[0mkwargs\u001b[0m\u001b[1;33m)\u001b[0m\u001b[1;33m]\u001b[0m\u001b[1;33m\u001b[0m\u001b[1;33m\u001b[0m\u001b[0m\n\u001b[0m\u001b[0;32m   1666\u001b[0m         \u001b[1;32mfor\u001b[0m \u001b[0mline\u001b[0m \u001b[1;32min\u001b[0m \u001b[0mlines\u001b[0m\u001b[1;33m:\u001b[0m\u001b[1;33m\u001b[0m\u001b[1;33m\u001b[0m\u001b[0m\n\u001b[0;32m   1667\u001b[0m             \u001b[0mself\u001b[0m\u001b[1;33m.\u001b[0m\u001b[0madd_line\u001b[0m\u001b[1;33m(\u001b[0m\u001b[0mline\u001b[0m\u001b[1;33m)\u001b[0m\u001b[1;33m\u001b[0m\u001b[1;33m\u001b[0m\u001b[0m\n",
            "\u001b[1;32m~\\anaconda3\\lib\\site-packages\\matplotlib\\axes\\_base.py\u001b[0m in \u001b[0;36m__call__\u001b[1;34m(self, *args, **kwargs)\u001b[0m\n\u001b[0;32m    223\u001b[0m                 \u001b[0mthis\u001b[0m \u001b[1;33m+=\u001b[0m \u001b[0margs\u001b[0m\u001b[1;33m[\u001b[0m\u001b[1;36m0\u001b[0m\u001b[1;33m]\u001b[0m\u001b[1;33m,\u001b[0m\u001b[1;33m\u001b[0m\u001b[1;33m\u001b[0m\u001b[0m\n\u001b[0;32m    224\u001b[0m                 \u001b[0margs\u001b[0m \u001b[1;33m=\u001b[0m \u001b[0margs\u001b[0m\u001b[1;33m[\u001b[0m\u001b[1;36m1\u001b[0m\u001b[1;33m:\u001b[0m\u001b[1;33m]\u001b[0m\u001b[1;33m\u001b[0m\u001b[1;33m\u001b[0m\u001b[0m\n\u001b[1;32m--> 225\u001b[1;33m             \u001b[1;32myield\u001b[0m \u001b[1;32mfrom\u001b[0m \u001b[0mself\u001b[0m\u001b[1;33m.\u001b[0m\u001b[0m_plot_args\u001b[0m\u001b[1;33m(\u001b[0m\u001b[0mthis\u001b[0m\u001b[1;33m,\u001b[0m \u001b[0mkwargs\u001b[0m\u001b[1;33m)\u001b[0m\u001b[1;33m\u001b[0m\u001b[1;33m\u001b[0m\u001b[0m\n\u001b[0m\u001b[0;32m    226\u001b[0m \u001b[1;33m\u001b[0m\u001b[0m\n\u001b[0;32m    227\u001b[0m     \u001b[1;32mdef\u001b[0m \u001b[0mget_next_color\u001b[0m\u001b[1;33m(\u001b[0m\u001b[0mself\u001b[0m\u001b[1;33m)\u001b[0m\u001b[1;33m:\u001b[0m\u001b[1;33m\u001b[0m\u001b[1;33m\u001b[0m\u001b[0m\n",
            "\u001b[1;32m~\\anaconda3\\lib\\site-packages\\matplotlib\\axes\\_base.py\u001b[0m in \u001b[0;36m_plot_args\u001b[1;34m(self, tup, kwargs)\u001b[0m\n\u001b[0;32m    389\u001b[0m             \u001b[0mx\u001b[0m\u001b[1;33m,\u001b[0m \u001b[0my\u001b[0m \u001b[1;33m=\u001b[0m \u001b[0mindex_of\u001b[0m\u001b[1;33m(\u001b[0m\u001b[0mtup\u001b[0m\u001b[1;33m[\u001b[0m\u001b[1;33m-\u001b[0m\u001b[1;36m1\u001b[0m\u001b[1;33m]\u001b[0m\u001b[1;33m)\u001b[0m\u001b[1;33m\u001b[0m\u001b[1;33m\u001b[0m\u001b[0m\n\u001b[0;32m    390\u001b[0m \u001b[1;33m\u001b[0m\u001b[0m\n\u001b[1;32m--> 391\u001b[1;33m         \u001b[0mx\u001b[0m\u001b[1;33m,\u001b[0m \u001b[0my\u001b[0m \u001b[1;33m=\u001b[0m \u001b[0mself\u001b[0m\u001b[1;33m.\u001b[0m\u001b[0m_xy_from_xy\u001b[0m\u001b[1;33m(\u001b[0m\u001b[0mx\u001b[0m\u001b[1;33m,\u001b[0m \u001b[0my\u001b[0m\u001b[1;33m)\u001b[0m\u001b[1;33m\u001b[0m\u001b[1;33m\u001b[0m\u001b[0m\n\u001b[0m\u001b[0;32m    392\u001b[0m \u001b[1;33m\u001b[0m\u001b[0m\n\u001b[0;32m    393\u001b[0m         \u001b[1;32mif\u001b[0m \u001b[0mself\u001b[0m\u001b[1;33m.\u001b[0m\u001b[0mcommand\u001b[0m \u001b[1;33m==\u001b[0m \u001b[1;34m'plot'\u001b[0m\u001b[1;33m:\u001b[0m\u001b[1;33m\u001b[0m\u001b[1;33m\u001b[0m\u001b[0m\n",
            "\u001b[1;32m~\\anaconda3\\lib\\site-packages\\matplotlib\\axes\\_base.py\u001b[0m in \u001b[0;36m_xy_from_xy\u001b[1;34m(self, x, y)\u001b[0m\n\u001b[0;32m    268\u001b[0m         \u001b[1;32mif\u001b[0m \u001b[0mx\u001b[0m\u001b[1;33m.\u001b[0m\u001b[0mshape\u001b[0m\u001b[1;33m[\u001b[0m\u001b[1;36m0\u001b[0m\u001b[1;33m]\u001b[0m \u001b[1;33m!=\u001b[0m \u001b[0my\u001b[0m\u001b[1;33m.\u001b[0m\u001b[0mshape\u001b[0m\u001b[1;33m[\u001b[0m\u001b[1;36m0\u001b[0m\u001b[1;33m]\u001b[0m\u001b[1;33m:\u001b[0m\u001b[1;33m\u001b[0m\u001b[1;33m\u001b[0m\u001b[0m\n\u001b[0;32m    269\u001b[0m             raise ValueError(\"x and y must have same first dimension, but \"\n\u001b[1;32m--> 270\u001b[1;33m                              \"have shapes {} and {}\".format(x.shape, y.shape))\n\u001b[0m\u001b[0;32m    271\u001b[0m         \u001b[1;32mif\u001b[0m \u001b[0mx\u001b[0m\u001b[1;33m.\u001b[0m\u001b[0mndim\u001b[0m \u001b[1;33m>\u001b[0m \u001b[1;36m2\u001b[0m \u001b[1;32mor\u001b[0m \u001b[0my\u001b[0m\u001b[1;33m.\u001b[0m\u001b[0mndim\u001b[0m \u001b[1;33m>\u001b[0m \u001b[1;36m2\u001b[0m\u001b[1;33m:\u001b[0m\u001b[1;33m\u001b[0m\u001b[1;33m\u001b[0m\u001b[0m\n\u001b[0;32m    272\u001b[0m             raise ValueError(\"x and y can be no greater than 2-D, but have \"\n",
            "\u001b[1;31mValueError\u001b[0m: x and y must have same first dimension, but have shapes (100, 1) and (0,)"
          ]
        },
        {
          "data": {
            "image/png": "[encoded data removed]",
            "text/plain": [
              "<Figure size 432x288 with 1 Axes>"
            ]
          },
          "metadata": {
            "needs_background": "light"
          },
          "output_type": "display_data"
        }
      ],
      "source": [
        "error = [abs(a - b) for a, b in zip(corr_space, anal(x_space))]\n",
        "plt.plot(x_space, anal(x_space), '.', label = 'anal sol')\n",
        "plt.plot(x_space, corr_space, '.', label = 'final sol')\n",
        "plt.plot(x_space, error, '.', label = 'error')\n",
        "plt.legend()\n",
        "plt.show()\n",
        "print(np.linalg.norm(error))"
      ]
    },
    {
      "cell_type": "code",
      "execution_count": null,
      "metadata": {
        "id": "sYz5QYSe2F9B"
      },
      "outputs": [],
      "source": []
    }
  ],
  "metadata": {
    "accelerator": "GPU",
    "colab": {
      "collapsed_sections": [],
      "name": "ErrorCorr_f(xy)_22_01_20_train.ipynb",
      "provenance": []
    },
    "kernelspec": {
      "display_name": "Python 3",
      "language": "python",
      "name": "python3"
    },
    "language_info": {
      "codemirror_mode": {
        "name": "ipython",
        "version": 3
      },
      "file_extension": ".py",
      "mimetype": "text/x-python",
      "name": "python",
      "nbconvert_exporter": "python",
      "pygments_lexer": "ipython3",
      "version": "3.7.6"
    }
  },
  "nbformat": 4,
  "nbformat_minor": 0
}
