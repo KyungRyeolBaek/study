{
  "nbformat": 4,
  "nbformat_minor": 0,
  "metadata": {
    "colab": {
      "name": "Untitled13.ipynb",
      "provenance": [],
      "authorship_tag": "ABX9TyOUUZw4e/ej3Lh6DHYLYpm/",
      "include_colab_link": true
    },
    "kernelspec": {
      "name": "python3",
      "display_name": "Python 3"
    },
    "language_info": {
      "name": "python"
    }
  },
  "cells": [
    {
      "cell_type": "markdown",
      "metadata": {
        "id": "view-in-github",
        "colab_type": "text"
      },
      "source": [
        "<a href=\"https://colab.research.google.com/github/KyungRyeolBaek/study/blob/main/AI%20study/ODE/ErrorCorr_21_07_20.ipynb\" target=\"_parent\"><img src=\"https://colab.research.google.com/assets/colab-badge.svg\" alt=\"Open In Colab\"/></a>"
      ]
    },
    {
      "cell_type": "markdown",
      "metadata": {
        "id": "ti-zPaf492G8"
      },
      "source": [
        "# Error Corr"
      ]
    },
    {
      "cell_type": "code",
      "metadata": {
        "id": "-bIcwRnvVw1f",
        "colab": {
          "base_uri": "https://localhost:8080/",
          "height": 427
        },
        "outputId": "73038ae1-5800-4960-a306-4cd8a4f24dc0"
      },
      "source": [
        "import autograd.numpy as np\n",
        "from autograd import grad \n",
        "import autograd.numpy.random as npr\n",
        "from autograd.core import primitive\n",
        "from matplotlib import pyplot as plt\n",
        "%matplotlib inline\n",
        "import tensorflow.compat.v1 as tf\n",
        "tf.disable_v2_behavior()\n",
        "import torch\n",
        "\n",
        "def sigmoid(x):\n",
        "    return 1 / (1 + tf.math.exp(-x))\n",
        "\n",
        "def sigmoid_grad(x):\n",
        "    return sigmoid(x) * (1 - sigmoid(x))\n",
        "\n",
        "def neural_network(W, x):\n",
        "    a1 = sigmoid(tf.tensordot(x, W[0], axes = 1))\n",
        "    return tf.tensordot(a1, W[1], axes = 1)\n",
        "\n",
        "def d_neural_network_dx(W, x, k=1):\n",
        "    return tf.tensordot(tf.transpose(W[1]), tf.transpose(W[0])**k, axes = 1) * sigmoid_grad(x)\n",
        "\n",
        "x_space = []\n",
        "ye_space = []\n",
        "x_number = 1\n",
        "w_number = 6\n",
        "step_number = 30000\n",
        "\n",
        "for z in range(x_number):\n",
        "  x = tf.Variable(tf.random_normal([1000, 1]), name = 'x')\n",
        "  W = [tf.Variable(tf.random_normal([1, 10])), tf.Variable(tf.random_normal([10, 1]))]\n",
        "  for i in range(1, w_number + 1):\n",
        "      globals()['w{}'.format(i)] = tf.Variable(tf.random_normal([1]), name = 'weight{}'.format(i))\n",
        "  y = 1\n",
        "  yprime = 0\n",
        "\n",
        "  sess = tf.Session()\n",
        "  init = tf.global_variables_initializer()\n",
        "  sess.run(init)\n",
        "\n",
        "  for i in range(1, w_number + 1):\n",
        "      y += globals()['w{}'.format(i)]*(x**i)  # y = 1 + w1*(x) + w2*(x**2) + w3*(x**3) + w4*(x**4) + w5*(x**5) + w6*(x**6)\n",
        "      yprime += i*globals()['w{}'.format(i)]*(x**(i-1))  # yprime = w1 + 2*w2*x + 3*w3*(x**2) + 4*w4*(x**3) + 5*w5*(x**4) + 6*w6*(x**5)\n",
        "\n",
        "  ye = x * neural_network(W, x)\n",
        "  yeprime = neural_network(W, x) + x * d_neural_network_dx(W, x)\n",
        "\n",
        "  cost = tf.reduce_mean(tf.square(yeprime - ye)) + tf.reduce_mean(tf.square(yprime - y))\n",
        "  optimizer = tf.train.GradientDescentOptimizer(learning_rate = 1e-5)\n",
        "  train = optimizer.minimize(cost)\n",
        "\n",
        "  if z % int(x_number / 1) == 0:\n",
        "    print(\"x: \", z)\n",
        "  for step in range(step_number + 1):\n",
        "    for i in range(1, w_number + 1):\n",
        "        globals()['w{}_val'.format(i)] = sess.run([globals()['w{}'.format(i)]])\n",
        "    cost_val, yeprime_val, ye_val, yprime_val, y_val, x_val, _ = sess.run([cost, yeprime, ye, yprime, y, x, train])\n",
        "    if z % int(x_number / 1) == 0:\n",
        "      if step % int(step_number / 2) == 0:\n",
        "          print(step, \"Cost: \", cost_val, \"\\n\")\n",
        "  if z % int(x_number / 1) == 0:\n",
        "    print(\"\\n\")\n",
        "\n",
        "  x_space += list(x_val)\n",
        "  ye_space += list(ye_val)\n",
        "\n",
        "  sess.close()\n",
        "\n",
        "plt.plot(x_space, ye_space, '.')\n",
        "plt.show()"
      ],
      "execution_count": null,
      "outputs": [
        {
          "output_type": "stream",
          "text": [
            "x:  6\n",
            "0 Cost:  31697.615 \n",
            "\n",
            "15000 Cost:  2.9360156 \n",
            "\n",
            "30000 Cost:  1.6255306 \n",
            "\n",
            "\n",
            "\n"
          ],
          "name": "stdout"
        },
        {
          "output_type": "display_data",
          "data": {
            "image/png": "[encoded data removed]",
            "text/plain": [
              "<Figure size 432x288 with 1 Axes>"
            ]
          },
          "metadata": {
            "tags": [],
            "needs_background": "light"
          }
        }
      ]
    },
    {
      "cell_type": "code",
      "metadata": {
        "colab": {
          "base_uri": "https://localhost:8080/",
          "height": 427
        },
        "id": "hzt1X-kgZHap",
        "outputId": "a3476538-cd82-4b69-8477-dbf395f9f07a"
      },
      "source": [
        "import autograd.numpy as np\n",
        "from autograd import grad \n",
        "import autograd.numpy.random as npr\n",
        "from autograd.core import primitive\n",
        "from matplotlib import pyplot as plt\n",
        "%matplotlib inline\n",
        "import tensorflow.compat.v1 as tf\n",
        "tf.disable_v2_behavior()\n",
        "import torch\n",
        "\n",
        "def sigmoid(x):\n",
        "    return 1 / (1 + tf.math.exp(-x))\n",
        "\n",
        "def sigmoid_grad(x):\n",
        "    return sigmoid(x) * (1 - sigmoid(x))\n",
        "\n",
        "def neural_network(W, x):\n",
        "    a1 = sigmoid(tf.tensordot(x, W[0], axes = 1))\n",
        "    return tf.tensordot(a1, W[1], axes = 1)\n",
        "\n",
        "def d_neural_network_dx(W, x, k=1):\n",
        "    return tf.tensordot(tf.transpose(W[1]), tf.transpose(W[0])**k, axes = 1) * sigmoid_grad(x)\n",
        "\n",
        "x_space = []\n",
        "y_space = []\n",
        "ye_space = []\n",
        "corr_space = []\n",
        "cost_space = []\n",
        "x_number = 1\n",
        "w_number = 6\n",
        "step_number = 30000\n",
        "\n",
        "for z in range(x_number):\n",
        "  x = tf.Variable(np.array([[i/100] for i in range(0, 100, 1)], dtype = np.float32))\n",
        "  W = [tf.Variable(tf.random_normal([1, 10])), tf.Variable(tf.random_normal([10, 1]))]\n",
        "  for i in range(1, w_number + 1):\n",
        "      globals()['w{}'.format(i)] = tf.Variable(tf.random_normal([1]), name = 'weight{}'.format(i))\n",
        "  y = 1\n",
        "  yprime = 0\n",
        "\n",
        "  sess = tf.Session()\n",
        "  init = tf.global_variables_initializer()\n",
        "  sess.run(init)\n",
        "\n",
        "  for i in range(1, w_number + 1):\n",
        "      y += globals()['w{}'.format(i)]*(x**i)  # y = 1 + w1*(x) + w2*(x**2) + w3*(x**3) + w4*(x**4) + w5*(x**5) + w6*(x**6)\n",
        "      yprime += i*globals()['w{}'.format(i)]*(x**(i-1))  # yprime = w1 + 2*w2*x + 3*w3*(x**2) + 4*w4*(x**3) + 5*w5*(x**4) + 6*w6*(x**5)\n",
        "\n",
        "  ye = (x**(w_number + 1)) * neural_network(W, x)\n",
        "  yeprime = (w_number + 1) * (x**(w_number))*neural_network(W, x) + (x**(w_number + 1)) * d_neural_network_dx(W, x)\n",
        "\n",
        "  cost = tf.reduce_mean(tf.square(yeprime - ye)) + tf.reduce_mean(tf.square(yprime - y))\n",
        "  optimizer = tf.train.GradientDescentOptimizer(learning_rate = 1e-5)\n",
        "  train = optimizer.minimize(cost)\n",
        "\n",
        "  if z % int(x_number / 1) == 0:\n",
        "    print(\"x: \", z)\n",
        "  for step in range(step_number + 1):\n",
        "    for i in range(1, w_number + 1):\n",
        "        globals()['w{}_val'.format(i)] = sess.run([globals()['w{}'.format(i)]])\n",
        "    cost_val, yeprime_val, ye_val, yprime_val, y_val, x_val, _ = sess.run([cost, yeprime, ye, yprime, y, x, train])\n",
        "    if z % int(x_number / 1) == 0:\n",
        "      if step % int(step_number / 2) == 0:\n",
        "          print(step, \"Cost: \", cost_val, \"\\n\")\n",
        "  if z % int(x_number / 1) == 0:\n",
        "    print(\"\\n\")\n",
        "\n",
        "  x_space += list(x_val)\n",
        "  corr_space += list(ye_val + y_val)\n",
        "  y_space += list(y_val)\n",
        "  ye_space += list(ye_val)\n",
        "\n",
        "  sess.close()\n",
        "\n",
        "plt.plot(x_space, corr_space, '.', label = 'ye + y')\n",
        "plt.plot(x_space, y_space, '.', label = 'y')\n",
        "plt.plot(x_space, ye_space, '.', label = 'ye')\n",
        "plt.legend()\n",
        "plt.show()"
      ],
      "execution_count": 7,
      "outputs": [
        {
          "output_type": "stream",
          "text": [
            "x:  0\n",
            "0 Cost:  20.710375 \n",
            "\n",
            "15000 Cost:  0.7659605 \n",
            "\n",
            "30000 Cost:  0.39341018 \n",
            "\n",
            "\n",
            "\n"
          ],
          "name": "stdout"
        },
        {
          "output_type": "display_data",
          "data": {
            "image/png": "[encoded data removed]",
            "text/plain": [
              "<Figure size 432x288 with 1 Axes>"
            ]
          },
          "metadata": {
            "tags": [],
            "needs_background": "light"
          }
        }
      ]
    },
    {
      "cell_type": "code",
      "metadata": {
        "colab": {
          "base_uri": "https://localhost:8080/",
          "height": 265
        },
        "id": "lnVL1lf2F24-",
        "outputId": "4f69b3e2-4333-478d-9926-332d92368a50"
      },
      "source": [
        "plt.plot(x_space, corr_space, '.', label = 'ye + y')\n",
        "plt.plot(x_space, y_space, '.', label = 'y')\n",
        "plt.plot(x_space, ye_space, '.', label = 'ye')\n",
        "plt.plot(x_space, np.exp(x_space), '.', label = 'exp')\n",
        "plt.legend()\n",
        "plt.show()"
      ],
      "execution_count": 8,
      "outputs": [
        {
          "output_type": "display_data",
          "data": {
            "image/png": "[encoded data removed]",
            "text/plain": [
              "<Figure size 432x288 with 1 Axes>"
            ]
          },
          "metadata": {
            "tags": [],
            "needs_background": "light"
          }
        }
      ]
    },
    {
      "cell_type": "code",
      "metadata": {
        "id": "z_q4KUnkHWPU"
      },
      "source": [
        ""
      ],
      "execution_count": null,
      "outputs": []
    }
  ]
}