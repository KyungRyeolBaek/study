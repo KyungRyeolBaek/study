{
  "nbformat": 4,
  "nbformat_minor": 0,
  "metadata": {
    "colab": {
      "name": "Untitled6.ipynb",
      "provenance": [],
      "authorship_tag": "ABX9TyMyQ50DLgFfJWRmv+WguyY8",
      "include_colab_link": true
    },
    "kernelspec": {
      "name": "python3",
      "display_name": "Python 3"
    },
    "language_info": {
      "name": "python"
    }
  },
  "cells": [
    {
      "cell_type": "markdown",
      "metadata": {
        "id": "view-in-github",
        "colab_type": "text"
      },
      "source": [
        "<a href=\"https://colab.research.google.com/github/KyungRyeolBaek/study/blob/main/PowerSeries.ipynb\" target=\"_parent\"><img src=\"https://colab.research.google.com/assets/colab-badge.svg\" alt=\"Open In Colab\"/></a>"
      ]
    },
    {
      "cell_type": "markdown",
      "metadata": {
        "id": "kaffmRikibnT"
      },
      "source": [
        "# Power 시리즈"
      ]
    },
    {
      "cell_type": "code",
      "metadata": {
        "id": "unog-e0uOZIi",
        "colab": {
          "base_uri": "https://localhost:8080/"
        },
        "outputId": "315e760f-597e-4603-f78b-64f1610cb71e"
      },
      "source": [
        "import tensorflow.compat.v1 as tf\n",
        "tf.disable_v2_behavior()\n",
        "import numpy as np\n",
        "import matplotlib.pyplot as plt"
      ],
      "execution_count": null,
      "outputs": [
        {
          "output_type": "stream",
          "text": [
            "WARNING:tensorflow:From /usr/local/lib/python3.7/dist-packages/tensorflow/python/compat/v2_compat.py:96: disable_resource_variables (from tensorflow.python.ops.variable_scope) is deprecated and will be removed in a future version.\n",
            "Instructions for updating:\n",
            "non-resource variables are not supported in the long term\n"
          ],
          "name": "stdout"
        }
      ]
    },
    {
      "cell_type": "code",
      "metadata": {
        "id": "Qw9a3qfcOZIl",
        "colab": {
          "base_uri": "https://localhost:8080/",
          "height": 35
        },
        "outputId": "5c40752c-0f9a-4c7a-bfcb-10fa22536268"
      },
      "source": [
        "tf.__version__"
      ],
      "execution_count": null,
      "outputs": [
        {
          "output_type": "execute_result",
          "data": {
            "application/vnd.google.colaboratory.intrinsic+json": {
              "type": "string"
            },
            "text/plain": [
              "'2.5.0'"
            ]
          },
          "metadata": {
            "tags": []
          },
          "execution_count": 3
        }
      ]
    },
    {
      "cell_type": "code",
      "metadata": {
        "id": "8Kk1MRzIOZIl"
      },
      "source": [
        "def graph(w_number, x_number, step_number):\n",
        "    %%time\n",
        "    y = 1\n",
        "    yprime = 0\n",
        "    x = tf.Variable(tf.random_normal([x_number]), name = 'x')\n",
        "    \n",
        "    for i in range(1, w_number + 1):\n",
        "        globals()['w{}'.format(i)] = tf.Variable(tf.random_normal([1]), name = 'weight{}'.format(i))\n",
        "        y += globals()['w{}'.format(i)]*(x**i)  # y = 1 + w1*(x) + w2*(x**2) + w3*(x**3) + w4*(x**4) + w5*(x**5) + w6*(x**6)\n",
        "        yprime += i*globals()['w{}'.format(i)]*(x**(i-1))  # yprime = w1 + 2*w2*x + 3*w3*(x**2) + 4*w4*(x**3) + 5*w5*(x**4) + 6*w6*(x**5)\n",
        "    \n",
        "    cost = tf.reduce_mean(tf.square(yprime - y))\n",
        "    optimizer = tf.train.GradientDescentOptimizer(learning_rate = 1e-5)\n",
        "    train = optimizer.minimize(cost)\n",
        "    \n",
        "    sess = tf.Session()\n",
        "    sess.run(tf.global_variables_initializer())\n",
        "    \n",
        "    for step in range(step_number + 1):\n",
        "        for i in range(1, w_number + 1):\n",
        "            globals()['w{}_val'.format(i)] = sess.run([globals()['w{}'.format(i)]])\n",
        "        cost_val, yprime_val, y_val, x_val, _ = sess.run([cost, yprime, y, x, train])\n",
        "        if step % int(step_number / 5) == 0:\n",
        "    #         print(step, \"Cost: \", cost_val, \"\\nx: \", x_val,  \"yprime: \", yprime_val, \"y: \", y_val)\n",
        "            print(step, \"Cost: \", cost_val, \"\\n\")\n",
        "            print(\"w1: \", w1_val, \"w2: \", w2_val, \"w3: \", w3_val, \"w4: \", w4_val, \"w5: \", w5_val, \"w6: \", w6_val, \"\\n\")\n",
        "            \n",
        "    def y(x):\n",
        "        answer = 1\n",
        "        for i in range(1, w_number + 1):\n",
        "            answer += globals()['w{}_val'.format(i)]*(x**i)\n",
        "        return answer[0]\n",
        "    \n",
        "    globals()['w{}x{}'.format(w_number, x_number)] = [x_val, y(x_val)]\n",
        "    plt.plot(x_val, y(x_val), '.')\n",
        "    plt.show()"
      ],
      "execution_count": null,
      "outputs": []
    },
    {
      "cell_type": "code",
      "metadata": {
        "scrolled": false,
        "id": "nC48wGtsOZIm",
        "colab": {
          "base_uri": "https://localhost:8080/",
          "height": 733
        },
        "outputId": "75486ba9-694d-4c04-9229-ff1ec63cce35"
      },
      "source": [
        "graph(6, 100, 30000)"
      ],
      "execution_count": null,
      "outputs": [
        {
          "output_type": "stream",
          "text": [
            "CPU times: user 3 µs, sys: 0 ns, total: 3 µs\n",
            "Wall time: 8.11 µs\n",
            "0 Cost:  222.55373 \n",
            "\n",
            "w1:  [array([-1.6274484], dtype=float32)] w2:  [array([1.6442195], dtype=float32)] w3:  [array([0.85651195], dtype=float32)] w4:  [array([-0.35377035], dtype=float32)] w5:  [array([0.5972331], dtype=float32)] w6:  [array([0.21052586], dtype=float32)] \n",
            "\n",
            "6000 Cost:  5.051987 \n",
            "\n",
            "w1:  [array([-1.3900592], dtype=float32)] w2:  [array([1.4783907], dtype=float32)] w3:  [array([0.8532944], dtype=float32)] w4:  [array([-0.42095324], dtype=float32)] w5:  [array([-0.06419628], dtype=float32)] w6:  [array([0.03889411], dtype=float32)] \n",
            "\n",
            "12000 Cost:  3.8841717 \n",
            "\n",
            "w1:  [array([-1.2043784], dtype=float32)] w2:  [array([1.3584106], dtype=float32)] w3:  [array([0.87857157], dtype=float32)] w4:  [array([-0.39106834], dtype=float32)] w5:  [array([-0.07342355], dtype=float32)] w6:  [array([0.03988887], dtype=float32)] \n",
            "\n",
            "18000 Cost:  3.040623 \n",
            "\n",
            "w1:  [array([-1.0460738], dtype=float32)] w2:  [array([1.261293], dtype=float32)] w3:  [array([0.89013344], dtype=float32)] w4:  [array([-0.376212], dtype=float32)] w5:  [array([-0.0806004], dtype=float32)] w6:  [array([0.04270758], dtype=float32)] \n",
            "\n",
            "24000 Cost:  2.4423683 \n",
            "\n",
            "w1:  [array([-0.90993196], dtype=float32)] w2:  [array([1.1832029], dtype=float32)] w3:  [array([0.89235747], dtype=float32)] w4:  [array([-0.3688768], dtype=float32)] w5:  [array([-0.08598919], dtype=float32)] w6:  [array([0.04583532], dtype=float32)] \n",
            "\n",
            "30000 Cost:  2.0268996 \n",
            "\n",
            "w1:  [array([-0.7918569], dtype=float32)] w2:  [array([1.1211236], dtype=float32)] w3:  [array([0.8864215], dtype=float32)] w4:  [array([-0.36015624], dtype=float32)] w5:  [array([-0.08924105], dtype=float32)] w6:  [array([0.04778706], dtype=float32)] \n",
            "\n"
          ],
          "name": "stdout"
        },
        {
          "output_type": "display_data",
          "data": {
            "image/png": "[encoded data removed]",
            "text/plain": [
              "<Figure size 432x288 with 1 Axes>"
            ]
          },
          "metadata": {
            "tags": [],
            "needs_background": "light"
          }
        }
      ]
    },
    {
      "cell_type": "code",
      "metadata": {
        "id": "g1nuGl6xOZIm",
        "colab": {
          "base_uri": "https://localhost:8080/",
          "height": 691
        },
        "outputId": "4c51af31-0412-40e4-c5d1-466c04ccafb9"
      },
      "source": [
        "graph(6, 1000, 30000)"
      ],
      "execution_count": null,
      "outputs": [
        {
          "output_type": "stream",
          "text": [
            "0 Cost:  1674.1755 \n",
            "\n",
            "w1:  [array([0.22503605], dtype=float32)] w2:  [array([-0.29615358], dtype=float32)] w3:  [array([0.4226972], dtype=float32)] w4:  [array([-0.33600375], dtype=float32)] w5:  [array([0.47519094], dtype=float32)] w6:  [array([-0.09891133], dtype=float32)] \n",
            "\n",
            "6000 Cost:  0.36330044 \n",
            "\n",
            "w1:  [array([0.19052328], dtype=float32)] w2:  [array([-0.13934608], dtype=float32)] w3:  [array([0.21961175], dtype=float32)] w4:  [array([0.10837085], dtype=float32)] w5:  [array([-0.00412909], dtype=float32)] w6:  [array([-0.00372566], dtype=float32)] \n",
            "\n",
            "12000 Cost:  0.3304314 \n",
            "\n",
            "w1:  [array([0.22183777], dtype=float32)] w2:  [array([-0.11581508], dtype=float32)] w3:  [array([0.20155239], dtype=float32)] w4:  [array([0.10962896], dtype=float32)] w5:  [array([-0.00163829], dtype=float32)] w6:  [array([-0.00398772], dtype=float32)] \n",
            "\n",
            "18000 Cost:  0.30439955 \n",
            "\n",
            "w1:  [array([0.2540354], dtype=float32)] w2:  [array([-0.09598428], dtype=float32)] w3:  [array([0.19178708], dtype=float32)] w4:  [array([0.10600845], dtype=float32)] w5:  [array([-0.00063459], dtype=float32)] w6:  [array([-0.00375586], dtype=float32)] \n",
            "\n",
            "24000 Cost:  0.28101203 \n",
            "\n",
            "w1:  [array([0.28533843], dtype=float32)] w2:  [array([-0.07713844], dtype=float32)] w3:  [array([0.18530048], dtype=float32)] w4:  [array([0.10343587], dtype=float32)] w5:  [array([0.00015224], dtype=float32)] w6:  [array([-0.0035733], dtype=float32)] \n",
            "\n",
            "30000 Cost:  0.25971606 \n",
            "\n",
            "w1:  [array([0.3154548], dtype=float32)] w2:  [array([-0.0589416], dtype=float32)] w3:  [array([0.18062697], dtype=float32)] w4:  [array([0.10144117], dtype=float32)] w5:  [array([0.00082309], dtype=float32)] w6:  [array([-0.00341837], dtype=float32)] \n",
            "\n"
          ],
          "name": "stdout"
        },
        {
          "output_type": "display_data",
          "data": {
            "image/png": "[encoded data removed]",
            "text/plain": [
              "<Figure size 432x288 with 1 Axes>"
            ]
          },
          "metadata": {
            "tags": [],
            "needs_background": "light"
          }
        }
      ]
    },
    {
      "cell_type": "code",
      "metadata": {
        "id": "0Zz62PnDOZIn",
        "colab": {
          "base_uri": "https://localhost:8080/",
          "height": 691
        },
        "outputId": "a187d4ad-1435-40ee-997f-6b14addb0d74"
      },
      "source": [
        "graph(6, 10000, 30000)"
      ],
      "execution_count": null,
      "outputs": [
        {
          "output_type": "stream",
          "text": [
            "0 Cost:  16542.277 \n",
            "\n",
            "w1:  [array([-0.17550696], dtype=float32)] w2:  [array([-0.5823108], dtype=float32)] w3:  [array([0.5545456], dtype=float32)] w4:  [array([0.32682055], dtype=float32)] w5:  [array([-0.38329548], dtype=float32)] w6:  [array([0.40438274], dtype=float32)] \n",
            "\n",
            "6000 Cost:  1.0762184 \n",
            "\n",
            "w1:  [array([-0.17120807], dtype=float32)] w2:  [array([-0.5098731], dtype=float32)] w3:  [array([0.40481502], dtype=float32)] w4:  [array([0.21737936], dtype=float32)] w5:  [array([-0.02148394], dtype=float32)] w6:  [array([-0.01062955], dtype=float32)] \n",
            "\n",
            "12000 Cost:  0.8266081 \n",
            "\n",
            "w1:  [array([-0.14569058], dtype=float32)] w2:  [array([-0.45367083], dtype=float32)] w3:  [array([0.310754], dtype=float32)] w4:  [array([0.17464685], dtype=float32)] w5:  [array([-0.01525361], dtype=float32)] w6:  [array([-0.00818765], dtype=float32)] \n",
            "\n",
            "18000 Cost:  0.7159659 \n",
            "\n",
            "w1:  [array([-0.11038312], dtype=float32)] w2:  [array([-0.40935737], dtype=float32)] w3:  [array([0.25881326], dtype=float32)] w4:  [array([0.15054673], dtype=float32)] w5:  [array([-0.0115135], dtype=float32)] w6:  [array([-0.00676465], dtype=float32)] \n",
            "\n",
            "24000 Cost:  0.6477433 \n",
            "\n",
            "w1:  [array([-0.07088348], dtype=float32)] w2:  [array([-0.37170604], dtype=float32)] w3:  [array([0.2294382], dtype=float32)] w4:  [array([0.13641226], dtype=float32)] w5:  [array([-0.00912096], dtype=float32)] w6:  [array([-0.00589155], dtype=float32)] \n",
            "\n",
            "30000 Cost:  0.5944598 \n",
            "\n",
            "w1:  [array([-0.03009855], dtype=float32)] w2:  [array([-0.33796737], dtype=float32)] w3:  [array([0.2122297], dtype=float32)] w4:  [array([0.12761132], dtype=float32)] w5:  [array([-0.00746605], dtype=float32)] w6:  [array([-0.00531489], dtype=float32)] \n",
            "\n"
          ],
          "name": "stdout"
        },
        {
          "output_type": "display_data",
          "data": {
            "image/png": "[encoded data removed]",
            "text/plain": [
              "<Figure size 432x288 with 1 Axes>"
            ]
          },
          "metadata": {
            "tags": [],
            "needs_background": "light"
          }
        }
      ]
    },
    {
      "cell_type": "code",
      "metadata": {
        "id": "84p6_RttOZIn",
        "colab": {
          "base_uri": "https://localhost:8080/",
          "height": 592
        },
        "outputId": "250ae72c-745e-4a70-e869-10423b082f74"
      },
      "source": [
        "x = np.array([i for i in range(-40, 50, 1)])\n",
        "plt.figure(figsize = (20, 10))\n",
        "plt.plot(0.1*x, np.exp(0.1*x), '.b', label = 'exp')\n",
        "plt.plot(w6x100[0],w6x100[1], '.r', label = 'w=6, x=100')\n",
        "plt.plot(w6x1000[0],w6x1000[1], '.g', label = 'w=6, x=1000')\n",
        "plt.plot(w6x10000[0],w6x10000[1], '.c', label = 'w=6, x=10000')\n",
        "plt.legend(loc = 'upper right', fontsize = 'large')\n",
        "\n",
        "plt.show()"
      ],
      "execution_count": null,
      "outputs": [
        {
          "output_type": "display_data",
          "data": {
            "image/png": "[encoded data removed]",
            "text/plain": [
              "<Figure size 1440x720 with 1 Axes>"
            ]
          },
          "metadata": {
            "tags": [],
            "needs_background": "light"
          }
        }
      ]
    }
  ]
}