{
  "nbformat": 4,
  "nbformat_minor": 0,
  "metadata": {
    "colab": {
      "name": "ai03_백경렬_Section1_Project.ipynb",
      "provenance": [],
      "authorship_tag": "ABX9TyMbKybdaG6C1twbV/II57J7",
      "include_colab_link": true
    },
    "kernelspec": {
      "name": "python3",
      "display_name": "Python 3"
    },
    "language_info": {
      "name": "python"
    }
  },
  "cells": [
    {
      "cell_type": "markdown",
      "metadata": {
        "id": "view-in-github",
        "colab_type": "text"
      },
      "source": [
        "<a href=\"https://colab.research.google.com/github/KyungRyeolBaek/study/blob/main/ai03_%EB%B0%B1%EA%B2%BD%EB%A0%AC_Section1_Project.ipynb\" target=\"_parent\"><img src=\"https://colab.research.google.com/assets/colab-badge.svg\" alt=\"Open In Colab\"/></a>"
      ]
    },
    {
      "cell_type": "code",
      "metadata": {
        "colab": {
          "base_uri": "https://localhost:8080/",
          "height": 419
        },
        "id": "XrhT4cAFeltG",
        "outputId": "77d6a834-c075-4115-e60c-817b86ea99f2"
      },
      "source": [
        "import pandas as pd\n",
        "\n",
        "df = pd.read_csv('vgames2.csv', index_col = 0)\n",
        "df"
      ],
      "execution_count": 4,
      "outputs": [
        {
          "output_type": "execute_result",
          "data": {
            "text/html": [
              "<div>\n",
              "<style scoped>\n",
              "    .dataframe tbody tr th:only-of-type {\n",
              "        vertical-align: middle;\n",
              "    }\n",
              "\n",
              "    .dataframe tbody tr th {\n",
              "        vertical-align: top;\n",
              "    }\n",
              "\n",
              "    .dataframe thead th {\n",
              "        text-align: right;\n",
              "    }\n",
              "</style>\n",
              "<table border=\"1\" class=\"dataframe\">\n",
              "  <thead>\n",
              "    <tr style=\"text-align: right;\">\n",
              "      <th></th>\n",
              "      <th>Name</th>\n",
              "      <th>Platform</th>\n",
              "      <th>Year</th>\n",
              "      <th>Genre</th>\n",
              "      <th>Publisher</th>\n",
              "      <th>NA_Sales</th>\n",
              "      <th>EU_Sales</th>\n",
              "      <th>JP_Sales</th>\n",
              "      <th>Other_Sales</th>\n",
              "    </tr>\n",
              "  </thead>\n",
              "  <tbody>\n",
              "    <tr>\n",
              "      <th>1</th>\n",
              "      <td>Candace Kane's Candy Factory</td>\n",
              "      <td>DS</td>\n",
              "      <td>2008.0</td>\n",
              "      <td>Action</td>\n",
              "      <td>Destineer</td>\n",
              "      <td>0.04</td>\n",
              "      <td>0</td>\n",
              "      <td>0</td>\n",
              "      <td>0</td>\n",
              "    </tr>\n",
              "    <tr>\n",
              "      <th>2</th>\n",
              "      <td>The Munchables</td>\n",
              "      <td>Wii</td>\n",
              "      <td>2009.0</td>\n",
              "      <td>Action</td>\n",
              "      <td>Namco Bandai Games</td>\n",
              "      <td>0.17</td>\n",
              "      <td>0</td>\n",
              "      <td>0</td>\n",
              "      <td>0.01</td>\n",
              "    </tr>\n",
              "    <tr>\n",
              "      <th>3</th>\n",
              "      <td>Otome wa Oanesama Boku ni Koi Shiteru Portable</td>\n",
              "      <td>PSP</td>\n",
              "      <td>2010.0</td>\n",
              "      <td>Adventure</td>\n",
              "      <td>Alchemist</td>\n",
              "      <td>0</td>\n",
              "      <td>0</td>\n",
              "      <td>0.02</td>\n",
              "      <td>0</td>\n",
              "    </tr>\n",
              "    <tr>\n",
              "      <th>4</th>\n",
              "      <td>Deal or No Deal: Special Edition</td>\n",
              "      <td>DS</td>\n",
              "      <td>2010.0</td>\n",
              "      <td>Misc</td>\n",
              "      <td>Zoo Games</td>\n",
              "      <td>0.04</td>\n",
              "      <td>0</td>\n",
              "      <td>0</td>\n",
              "      <td>0</td>\n",
              "    </tr>\n",
              "    <tr>\n",
              "      <th>5</th>\n",
              "      <td>Ben 10 Ultimate Alien: Cosmic Destruction</td>\n",
              "      <td>PS3</td>\n",
              "      <td>2010.0</td>\n",
              "      <td>Platform</td>\n",
              "      <td>D3Publisher</td>\n",
              "      <td>0.12</td>\n",
              "      <td>0.09</td>\n",
              "      <td>0</td>\n",
              "      <td>0.04</td>\n",
              "    </tr>\n",
              "    <tr>\n",
              "      <th>...</th>\n",
              "      <td>...</td>\n",
              "      <td>...</td>\n",
              "      <td>...</td>\n",
              "      <td>...</td>\n",
              "      <td>...</td>\n",
              "      <td>...</td>\n",
              "      <td>...</td>\n",
              "      <td>...</td>\n",
              "      <td>...</td>\n",
              "    </tr>\n",
              "    <tr>\n",
              "      <th>16594</th>\n",
              "      <td>Ice Age 2: The Meltdown</td>\n",
              "      <td>GC</td>\n",
              "      <td>2006.0</td>\n",
              "      <td>Platform</td>\n",
              "      <td>Vivendi Games</td>\n",
              "      <td>0.15</td>\n",
              "      <td>0.04</td>\n",
              "      <td>0</td>\n",
              "      <td>0.01</td>\n",
              "    </tr>\n",
              "    <tr>\n",
              "      <th>16595</th>\n",
              "      <td>Rainbow Islands: Revolution</td>\n",
              "      <td>PSP</td>\n",
              "      <td>2005.0</td>\n",
              "      <td>Action</td>\n",
              "      <td>Rising Star Games</td>\n",
              "      <td>0.01</td>\n",
              "      <td>0</td>\n",
              "      <td>0</td>\n",
              "      <td>0</td>\n",
              "    </tr>\n",
              "    <tr>\n",
              "      <th>16596</th>\n",
              "      <td>NBA 2K16</td>\n",
              "      <td>PS3</td>\n",
              "      <td>2015.0</td>\n",
              "      <td>Sports</td>\n",
              "      <td>Take-Two Interactive</td>\n",
              "      <td>0.44</td>\n",
              "      <td>0.19</td>\n",
              "      <td>0.03</td>\n",
              "      <td>0.13</td>\n",
              "    </tr>\n",
              "    <tr>\n",
              "      <th>16597</th>\n",
              "      <td>Toukiden: The Age of Demons</td>\n",
              "      <td>PSV</td>\n",
              "      <td>2013.0</td>\n",
              "      <td>Action</td>\n",
              "      <td>Tecmo Koei</td>\n",
              "      <td>0.05</td>\n",
              "      <td>0.05</td>\n",
              "      <td>0.25</td>\n",
              "      <td>0.03</td>\n",
              "    </tr>\n",
              "    <tr>\n",
              "      <th>16598</th>\n",
              "      <td>The King of Fighters '95</td>\n",
              "      <td>PS</td>\n",
              "      <td>1996.0</td>\n",
              "      <td>Fighting</td>\n",
              "      <td>Sony Computer Entertainment</td>\n",
              "      <td>0</td>\n",
              "      <td>0</td>\n",
              "      <td>0.16</td>\n",
              "      <td>0.01</td>\n",
              "    </tr>\n",
              "  </tbody>\n",
              "</table>\n",
              "<p>16598 rows × 9 columns</p>\n",
              "</div>"
            ],
            "text/plain": [
              "                                                 Name  ... Other_Sales\n",
              "1                        Candace Kane's Candy Factory  ...           0\n",
              "2                                      The Munchables  ...        0.01\n",
              "3      Otome wa Oanesama Boku ni Koi Shiteru Portable  ...           0\n",
              "4                    Deal or No Deal: Special Edition  ...           0\n",
              "5           Ben 10 Ultimate Alien: Cosmic Destruction  ...        0.04\n",
              "...                                               ...  ...         ...\n",
              "16594                         Ice Age 2: The Meltdown  ...        0.01\n",
              "16595                     Rainbow Islands: Revolution  ...           0\n",
              "16596                                        NBA 2K16  ...        0.13\n",
              "16597                     Toukiden: The Age of Demons  ...        0.03\n",
              "16598                        The King of Fighters '95  ...        0.01\n",
              "\n",
              "[16598 rows x 9 columns]"
            ]
          },
          "metadata": {
            "tags": []
          },
          "execution_count": 4
        }
      ]
    },
    {
      "cell_type": "code",
      "metadata": {
        "colab": {
          "base_uri": "https://localhost:8080/"
        },
        "id": "0jw919Kwexaa",
        "outputId": "e156ea45-90c9-4227-aff0-ed210202ba5d"
      },
      "source": [
        "df.value_counts('Genre')"
      ],
      "execution_count": 6,
      "outputs": [
        {
          "output_type": "execute_result",
          "data": {
            "text/plain": [
              "Genre\n",
              "Action          3305\n",
              "Sports          2341\n",
              "Misc            1734\n",
              "Role-Playing    1483\n",
              "Shooter         1308\n",
              "Adventure       1280\n",
              "Racing          1243\n",
              "Platform         884\n",
              "Simulation       865\n",
              "Fighting         847\n",
              "Strategy         680\n",
              "Puzzle           578\n",
              "dtype: int64"
            ]
          },
          "metadata": {
            "tags": []
          },
          "execution_count": 6
        }
      ]
    },
    {
      "cell_type": "code",
      "metadata": {
        "colab": {
          "base_uri": "https://localhost:8080/"
        },
        "id": "LcRI2l1KmRUB",
        "outputId": "07fd4c05-6dc6-48f0-b1cd-c22ce7e1c521"
      },
      "source": [
        "df.value_counts('Platform')"
      ],
      "execution_count": 7,
      "outputs": [
        {
          "output_type": "execute_result",
          "data": {
            "text/plain": [
              "Platform\n",
              "DS      2163\n",
              "PS2     2161\n",
              "PS3     1329\n",
              "Wii     1325\n",
              "X360    1265\n",
              "PSP     1213\n",
              "PS      1196\n",
              "PC       960\n",
              "XB       824\n",
              "GBA      822\n",
              "GC       556\n",
              "3DS      509\n",
              "PSV      413\n",
              "PS4      336\n",
              "N64      319\n",
              "SNES     239\n",
              "XOne     213\n",
              "SAT      173\n",
              "WiiU     143\n",
              "2600     133\n",
              "NES       98\n",
              "GB        98\n",
              "DC        52\n",
              "GEN       27\n",
              "NG        12\n",
              "SCD        6\n",
              "WS         6\n",
              "3DO        3\n",
              "TG16       2\n",
              "PCFX       1\n",
              "GG         1\n",
              "dtype: int64"
            ]
          },
          "metadata": {
            "tags": []
          },
          "execution_count": 7
        }
      ]
    },
    {
      "cell_type": "code",
      "metadata": {
        "colab": {
          "base_uri": "https://localhost:8080/"
        },
        "id": "yLgcyd4ymWL8",
        "outputId": "c21df052-840d-4fef-9827-8eafa6c4ee8e"
      },
      "source": [
        "df.value_counts('Name')"
      ],
      "execution_count": 8,
      "outputs": [
        {
          "output_type": "execute_result",
          "data": {
            "text/plain": [
              "Name\n",
              "Need for Speed: Most Wanted                    12\n",
              "FIFA 14                                         9\n",
              "Madden NFL 07                                   9\n",
              "LEGO Marvel Super Heroes                        9\n",
              "Ratatouille                                     9\n",
              "                                               ..\n",
              "PenPen TriIceLon                                1\n",
              "Pen 1 Grand Prix: Penguin no Mondai Special     1\n",
              "Peggle: Dual Shot                               1\n",
              "Peggle Nights                                   1\n",
              "'98 Koshien                                     1\n",
              "Length: 11493, dtype: int64"
            ]
          },
          "metadata": {
            "tags": []
          },
          "execution_count": 8
        }
      ]
    },
    {
      "cell_type": "code",
      "metadata": {
        "colab": {
          "base_uri": "https://localhost:8080/"
        },
        "id": "jXEAjwOtmcXI",
        "outputId": "33cde8ad-71f0-49a1-a938-0047ae3d9074"
      },
      "source": [
        "df.value_counts('Year')"
      ],
      "execution_count": 9,
      "outputs": [
        {
          "output_type": "execute_result",
          "data": {
            "text/plain": [
              "Year\n",
              "2009.0    1421\n",
              "2008.0    1418\n",
              "2010.0    1252\n",
              "2007.0    1199\n",
              "2011.0    1129\n",
              "          ... \n",
              "97.0         2\n",
              "1.0          2\n",
              "86.0         1\n",
              "94.0         1\n",
              "2020.0       1\n",
              "Length: 62, dtype: int64"
            ]
          },
          "metadata": {
            "tags": []
          },
          "execution_count": 9
        }
      ]
    },
    {
      "cell_type": "code",
      "metadata": {
        "colab": {
          "base_uri": "https://localhost:8080/"
        },
        "id": "TUAIJwWzmh46",
        "outputId": "c3876597-d7d5-48b9-b508-3d481ef51ccb"
      },
      "source": [
        "df.value_counts('Publisher')"
      ],
      "execution_count": 10,
      "outputs": [
        {
          "output_type": "execute_result",
          "data": {
            "text/plain": [
              "Publisher\n",
              "Electronic Arts                 1351\n",
              "Activision                       975\n",
              "Namco Bandai Games               932\n",
              "Ubisoft                          921\n",
              "Konami Digital Entertainment     832\n",
              "                                ... \n",
              "EON Digital Entertainment          1\n",
              "EA Games                           1\n",
              "DreamWorks Interactive             1\n",
              "Rain Games                         1\n",
              "Locus                              1\n",
              "Length: 578, dtype: int64"
            ]
          },
          "metadata": {
            "tags": []
          },
          "execution_count": 10
        }
      ]
    },
    {
      "cell_type": "code",
      "metadata": {
        "colab": {
          "base_uri": "https://localhost:8080/"
        },
        "id": "61W47U4KmoKA",
        "outputId": "0b916943-e1c1-4967-821e-ca87e696af2f"
      },
      "source": [
        "df.value_counts('NA_Sales')"
      ],
      "execution_count": 11,
      "outputs": [
        {
          "output_type": "execute_result",
          "data": {
            "text/plain": [
              "NA_Sales\n",
              "0        4443\n",
              "0.02      537\n",
              "0.01      536\n",
              "0.03      528\n",
              "0.05      523\n",
              "         ... \n",
              "3.38        1\n",
              "3.39        1\n",
              "3.4         1\n",
              "3.42        1\n",
              "11.38       1\n",
              "Length: 494, dtype: int64"
            ]
          },
          "metadata": {
            "tags": []
          },
          "execution_count": 11
        }
      ]
    },
    {
      "cell_type": "code",
      "metadata": {
        "colab": {
          "base_uri": "https://localhost:8080/"
        },
        "id": "v8zzBQuFmrPa",
        "outputId": "cb3d24ac-d674-4b91-d87b-96ab189262c2"
      },
      "source": [
        "df.value_counts('EU_Sales')"
      ],
      "execution_count": 12,
      "outputs": [
        {
          "output_type": "execute_result",
          "data": {
            "text/plain": [
              "EU_Sales\n",
              "0       5665\n",
              "0.01    1480\n",
              "0.02    1255\n",
              "0.03     925\n",
              "0.04     734\n",
              "        ... \n",
              "2.65       1\n",
              "2.75       1\n",
              "2.77       1\n",
              "2.78       1\n",
              "960K       1\n",
              "Length: 363, dtype: int64"
            ]
          },
          "metadata": {
            "tags": []
          },
          "execution_count": 12
        }
      ]
    },
    {
      "cell_type": "code",
      "metadata": {
        "colab": {
          "base_uri": "https://localhost:8080/"
        },
        "id": "Y76QOj7BmxoI",
        "outputId": "30afd481-2672-481d-e6a1-bad683971e99"
      },
      "source": [
        "df.value_counts('JP_Sales')"
      ],
      "execution_count": 13,
      "outputs": [
        {
          "output_type": "execute_result",
          "data": {
            "text/plain": [
              "JP_Sales\n",
              "0        10333\n",
              "0.02       716\n",
              "0.01       696\n",
              "0.03       521\n",
              "0.04       393\n",
              "         ...  \n",
              "2.05         1\n",
              "0.75M        1\n",
              "2            1\n",
              "150K         1\n",
              "1.21         1\n",
              "Length: 282, dtype: int64"
            ]
          },
          "metadata": {
            "tags": []
          },
          "execution_count": 13
        }
      ]
    },
    {
      "cell_type": "code",
      "metadata": {
        "colab": {
          "base_uri": "https://localhost:8080/"
        },
        "id": "Aj1eWXKQm1nc",
        "outputId": "88664784-6cfb-494f-8c5d-b46bb3033bb9"
      },
      "source": [
        "df.value_counts('Other_Sales')"
      ],
      "execution_count": 14,
      "outputs": [
        {
          "output_type": "execute_result",
          "data": {
            "text/plain": [
              "Other_Sales\n",
              "0        6386\n",
              "0.01     3412\n",
              "0.02     1567\n",
              "0.03      926\n",
              "0.04      660\n",
              "         ... \n",
              "1.82        1\n",
              "1.83        1\n",
              "1.92        1\n",
              "10.57       1\n",
              "1.42        1\n",
              "Length: 190, dtype: int64"
            ]
          },
          "metadata": {
            "tags": []
          },
          "execution_count": 14
        }
      ]
    },
    {
      "cell_type": "markdown",
      "metadata": {
        "id": "592PnTPYiiW_"
      },
      "source": [
        "1. 다음 분기에 어떤 게임을 출시 해야 할 것인가 ! ( 다음 분기에 어떤 게임을 설계 해야 하는가?)\n",
        "\n",
        "2. 데이터 내용을 분석 하고 colab으로 작성 해서 해당 내용 설명을 영상으로 작성해야 함.\n",
        "\n",
        "3. 배운 내용 위주로 설정 하는 것을 권장.\n",
        "\n",
        "4. 발표를 듣는 사람이 비데이터 직군이라 가정. ( 배경 지식 없는 사람도 이해하기 쉽게 설명 해야 함 )\n",
        "\n",
        "5. 수업시간에 배운 주제를 위주로 사용.\n",
        "\n",
        "6. 반드시 들어가야 하는 내용 ! ( 질문에 대답 할 수 있어야 한다 ! )\n",
        " - 지역에 따라서 선호하는 게임의 장르가 다를까 ?\n",
        " - 연도별 게임의 트렌드가 있을까 ?\n",
        " - 출고량 높은 게임에 대한 분석 및 시각화 프로세스 포함 !\n",
        "7. 준비물 !\n",
        " - PPT 사용 가능 (옵션), Colab 노트북 보면서 발표 해도 됨. \n",
        " - 발표 스크립트 (옵션), \n",
        " - 발표 영상\n",
        "8. 슬라이드에 들어가야 할 내용\n",
        " - 여러분이 생각 하는 문제 (혹은 풀었으면 하는 문제) 제시\n",
        " - 그 문제에 대한 가설 및 사용한 데이터셋에 대한 설명\n",
        " - 작업 결과 및 결론\n",
        "9. 발표 스크립트 \n",
        " - 슬라이드를 설명 하는 스크립트 작성 ( 있으면 없는거랑 차이 큼 , 자연스럽게 말을 하듯 스크립트 작성 하면 자연스러운 결과물 만들 수 있음 )\n",
        "10. 발표 영상 ( 녹화 및 제출 )\n",
        " - 발표 영상을 슬라이드, 스크립트를 사용해서 Zoom 으로 5분 이내 영상을 녹화.\n",
        " - 영상 촬영 방법은 AI Docs를 참조 \n",
        " - 녹화 영상 파일 설문조사 폼을 통해서 제출\n",
        "11. 단정한 복장 \n",
        "\n",
        "# 수요일 6시 까지 제출. 미리 제출 하는게 좋을 것임. 영상 올리다 짤리면 안됨!\n",
        "# 최소한 한시간 전에 폼 작성 하는 것이 바람직.\n",
        "\n",
        "\n"
      ]
    }
  ]
}