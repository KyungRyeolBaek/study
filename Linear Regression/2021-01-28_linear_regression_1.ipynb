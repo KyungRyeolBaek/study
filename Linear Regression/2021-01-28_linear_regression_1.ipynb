{
 "cells": [
  {
   "cell_type": "code",
   "execution_count": 1,
   "metadata": {},
   "outputs": [
    {
     "name": "stdout",
     "output_type": "stream",
     "text": [
      "WARNING:tensorflow:From C:\\Users\\forev\\AppData\\Roaming\\Python\\Python37\\site-packages\\tensorflow\\python\\compat\\v2_compat.py:96: disable_resource_variables (from tensorflow.python.ops.variable_scope) is deprecated and will be removed in a future version.\n",
      "Instructions for updating:\n",
      "non-resource variables are not supported in the long term\n"
     ]
    }
   ],
   "source": [
    "import tensorflow as tf\n",
    "import numpy as np\n",
    "import matplotlib.pyplot as plt\n",
    "\n",
    "### 버젼 2. tensorflow 라면 아래 코드 필요\n",
    "import tensorflow.compat.v1 as tf\n",
    "\n",
    "tf.disable_v2_behavior()"
   ]
  },
  {
   "cell_type": "code",
   "execution_count": 2,
   "metadata": {},
   "outputs": [
    {
     "data": {
      "text/plain": [
       "'2.2.0'"
      ]
     },
     "execution_count": 2,
     "metadata": {},
     "output_type": "execute_result"
    }
   ],
   "source": [
    "tf.__version__"
   ]
  },
  {
   "cell_type": "code",
   "execution_count": 5,
   "metadata": {},
   "outputs": [],
   "source": [
    "def graph(w_number, x_number, step_number):\n",
    "    y = 1\n",
    "    yprime = 0\n",
    "    x = tf.Variable(tf.random_uniform([x_number], minval = -1, maxval = 1), name = 'x')\n",
    "    \n",
    "    for i in range(1, w_number + 1):\n",
    "        globals()['w{}'.format(i)] = tf.Variable(tf.random_normal([1]), name = 'weight{}'.format(i))\n",
    "        y += globals()['w{}'.format(i)]*(x**i)  # y = 1 + w1*(x) + w2*(x**2) + w3*(x**3) + w4*(x**4) + w5*(x**5) + w6*(x**6)\n",
    "        yprime += i*globals()['w{}'.format(i)]*(x**(i-1))  # yprime = w1 + 2*w2*x + 3*w3*(x**2) + 4*w4*(x**3) + 5*w5*(x**4) + 6*w6*(x**5)\n",
    "    \n",
    "    cost = tf.reduce_mean(tf.square(yprime - y))\n",
    "    optimizer = tf.train.GradientDescentOptimizer(learning_rate = 1e-5)\n",
    "    train = optimizer.minimize(cost)\n",
    "    \n",
    "    sess = tf.Session()\n",
    "    sess.run(tf.global_variables_initializer())\n",
    "    \n",
    "    for step in range(step_number + 1):\n",
    "        for i in range(1, w_number + 1):\n",
    "            globals()['w{}_val'.format(i)] = sess.run([globals()['w{}'.format(i)]])\n",
    "        cost_val, yprime_val, y_val, x_val, _ = sess.run([cost, yprime, y, x, train])\n",
    "        if step % int(step_number / 5) == 0:\n",
    "    #         print(step, \"Cost: \", cost_val, \"\\nx: \", x_val,  \"yprime: \", yprime_val, \"y: \", y_val)\n",
    "            print(step, \"Cost: \", cost_val, \"\\n\")\n",
    "            print(\"w1: \", w1_val, \"w2: \", w2_val, \"w3: \", w3_val, \"w4: \", w4_val, \"w5: \", w5_val, \"w6: \", w6_val, \"\\n\")\n",
    "            \n",
    "    def y(x):\n",
    "        answer = 1\n",
    "        for i in range(1, w_number + 1):\n",
    "            answer += globals()['w{}_val'.format(i)]*(x**i)\n",
    "        return answer[0]\n",
    "    \n",
    "    globals()['w{}x{}'.format(w_number, x_number)] = [x_val, y(x_val)]\n",
    "    plt.plot(x_val, y(x_val), '.')\n",
    "    plt.show()"
   ]
  },
  {
   "cell_type": "code",
   "execution_count": 6,
   "metadata": {
    "scrolled": false
   },
   "outputs": [
    {
     "name": "stdout",
     "output_type": "stream",
     "text": [
      "0 Cost:  16.572618 \n",
      "\n",
      "w1:  [array([0.9757669], dtype=float32)] w2:  [array([-1.1399046], dtype=float32)] w3:  [array([0.3378033], dtype=float32)] w4:  [array([-0.18537572], dtype=float32)] w5:  [array([-0.38110355], dtype=float32)] w6:  [array([-1.2685349], dtype=float32)] \n",
      "\n",
      "6000 Cost:  3.4929895 \n",
      "\n",
      "w1:  [array([0.8268331], dtype=float32)] w2:  [array([-0.8234293], dtype=float32)] w3:  [array([0.26955947], dtype=float32)] w4:  [array([0.1767357], dtype=float32)] w5:  [array([-0.41473633], dtype=float32)] w6:  [array([-0.9247006], dtype=float32)] \n",
      "\n",
      "12000 Cost:  1.6692122 \n",
      "\n",
      "w1:  [array([0.7610029], dtype=float32)] w2:  [array([-0.6468256], dtype=float32)] w3:  [array([0.26009554], dtype=float32)] w4:  [array([0.35023224], dtype=float32)] w5:  [array([-0.40544638], dtype=float32)] w6:  [array([-0.78602403], dtype=float32)] \n",
      "\n",
      "18000 Cost:  0.95680183 \n",
      "\n",
      "w1:  [array([0.7267375], dtype=float32)] w2:  [array([-0.5240517], dtype=float32)] w3:  [array([0.26416922], dtype=float32)] w4:  [array([0.46500048], dtype=float32)] w5:  [array([-0.39214283], dtype=float32)] w6:  [array([-0.69921535], dtype=float32)] \n",
      "\n",
      "24000 Cost:  0.6018317 \n",
      "\n",
      "w1:  [array([0.71003056], dtype=float32)] w2:  [array([-0.43295452], dtype=float32)] w3:  [array([0.27428856], dtype=float32)] w4:  [array([0.54804003], dtype=float32)] w5:  [array([-0.37789747], dtype=float32)] w6:  [array([-0.6381519], dtype=float32)] \n",
      "\n",
      "30000 Cost:  0.40242615 \n",
      "\n",
      "w1:  [array([0.7040187], dtype=float32)] w2:  [array([-0.3630265], dtype=float32)] w3:  [array([0.28732786], dtype=float32)] w4:  [array([0.6107447], dtype=float32)] w5:  [array([-0.363635], dtype=float32)] w6:  [array([-0.59283423], dtype=float32)] \n",
      "\n"
     ]
    },
    {
     "data": {
      "image/png": "[encoded data removed]",
      "text/plain": [
       "<Figure size 432x288 with 1 Axes>"
      ]
     },
     "metadata": {
      "needs_background": "light"
     },
     "output_type": "display_data"
    }
   ],
   "source": [
    "graph(6, 100, 30000)"
   ]
  },
  {
   "cell_type": "code",
   "execution_count": 7,
   "metadata": {},
   "outputs": [
    {
     "name": "stdout",
     "output_type": "stream",
     "text": [
      "0 Cost:  45.968662 \n",
      "\n",
      "w1:  [array([0.286876], dtype=float32)] w2:  [array([0.59884983], dtype=float32)] w3:  [array([-0.8428805], dtype=float32)] w4:  [array([-2.5629635], dtype=float32)] w5:  [array([1.0479623], dtype=float32)] w6:  [array([-1.8013939], dtype=float32)] \n",
      "\n",
      "6000 Cost:  8.623036 \n",
      "\n",
      "w1:  [array([0.14100426], dtype=float32)] w2:  [array([1.0528642], dtype=float32)] w3:  [array([-0.9534335], dtype=float32)] w4:  [array([-1.8978672], dtype=float32)] w5:  [array([0.9655012], dtype=float32)] w6:  [array([-1.056878], dtype=float32)] \n",
      "\n",
      "12000 Cost:  3.9360347 \n",
      "\n",
      "w1:  [array([0.15619086], dtype=float32)] w2:  [array([1.2357217], dtype=float32)] w3:  [array([-0.9091902], dtype=float32)] w4:  [array([-1.6046711], dtype=float32)] w5:  [array([1.0275848], dtype=float32)] w6:  [array([-0.73756397], dtype=float32)] \n",
      "\n",
      "18000 Cost:  2.3251388 \n",
      "\n",
      "w1:  [array([0.21219602], dtype=float32)] w2:  [array([1.3266512], dtype=float32)] w3:  [array([-0.846307], dtype=float32)] w4:  [array([-1.4331313], dtype=float32)] w5:  [array([1.0929463], dtype=float32)] w6:  [array([-0.54679227], dtype=float32)] \n",
      "\n",
      "24000 Cost:  1.5679387 \n",
      "\n",
      "w1:  [array([0.2788087], dtype=float32)] w2:  [array([1.3742329], dtype=float32)] w3:  [array([-0.7883103], dtype=float32)] w4:  [array([-1.3216423], dtype=float32)] w5:  [array([1.14535], dtype=float32)] w6:  [array([-0.41924232], dtype=float32)] \n",
      "\n",
      "30000 Cost:  1.1527351 \n",
      "\n",
      "w1:  [array([0.34532914], dtype=float32)] w2:  [array([1.3988762], dtype=float32)] w3:  [array([-0.7407425], dtype=float32)] w4:  [array([-1.24445], dtype=float32)] w5:  [array([1.1830386], dtype=float32)] w6:  [array([-0.3284236], dtype=float32)] \n",
      "\n"
     ]
    },
    {
     "data": {
      "image/png": "[encoded data removed]",
      "text/plain": [
       "<Figure size 432x288 with 1 Axes>"
      ]
     },
     "metadata": {
      "needs_background": "light"
     },
     "output_type": "display_data"
    }
   ],
   "source": [
    "graph(6, 1000, 30000)"
   ]
  },
  {
   "cell_type": "code",
   "execution_count": 8,
   "metadata": {},
   "outputs": [
    {
     "name": "stdout",
     "output_type": "stream",
     "text": [
      "0 Cost:  8.698483 \n",
      "\n",
      "w1:  [array([-0.2858754], dtype=float32)] w2:  [array([1.1449072], dtype=float32)] w3:  [array([0.19669302], dtype=float32)] w4:  [array([-1.429263], dtype=float32)] w5:  [array([-1.1930232], dtype=float32)] w6:  [array([-0.27972612], dtype=float32)] \n",
      "\n",
      "6000 Cost:  3.9613593 \n",
      "\n",
      "w1:  [array([-0.10053354], dtype=float32)] w2:  [array([1.1269188], dtype=float32)] w3:  [array([0.48266944], dtype=float32)] w4:  [array([-1.3278326], dtype=float32)] w5:  [array([-0.84813154], dtype=float32)] w6:  [array([-0.10902978], dtype=float32)] \n",
      "\n",
      "12000 Cost:  1.9938992 \n",
      "\n",
      "w1:  [array([0.02291407], dtype=float32)] w2:  [array([1.1294798], dtype=float32)] w3:  [array([0.65295696], dtype=float32)] w4:  [array([-1.2331353], dtype=float32)] w5:  [array([-0.6463746], dtype=float32)] w6:  [array([0.03805629], dtype=float32)] \n",
      "\n",
      "18000 Cost:  1.0988297 \n",
      "\n",
      "w1:  [array([0.11425038], dtype=float32)] w2:  [array([1.1329465], dtype=float32)] w3:  [array([0.7593666], dtype=float32)] w4:  [array([-1.1592269], dtype=float32)] w5:  [array([-0.5243607], dtype=float32)] w6:  [array([0.1513952], dtype=float32)] \n",
      "\n",
      "24000 Cost:  0.6700606 \n",
      "\n",
      "w1:  [array([0.18655682], dtype=float32)] w2:  [array([1.132809], dtype=float32)] w3:  [array([0.8275021], dtype=float32)] w4:  [array([-1.1050106], dtype=float32)] w5:  [array([-0.4500965], dtype=float32)] w6:  [array([0.23551373], dtype=float32)] \n",
      "\n",
      "30000 Cost:  0.45384762 \n",
      "\n",
      "w1:  [array([0.24630314], dtype=float32)] w2:  [array([1.1290557], dtype=float32)] w3:  [array([0.8714482], dtype=float32)] w4:  [array([-1.0660737], dtype=float32)] w5:  [array([-0.4056781], dtype=float32)] w6:  [array([0.29746276], dtype=float32)] \n",
      "\n"
     ]
    },
    {
     "data": {
      "image/png": "[encoded data removed]",
      "text/plain": [
       "<Figure size 432x288 with 1 Axes>"
      ]
     },
     "metadata": {
      "needs_background": "light"
     },
     "output_type": "display_data"
    }
   ],
   "source": [
    "graph(6, 10000, 30000)"
   ]
  },
  {
   "cell_type": "code",
   "execution_count": 11,
   "metadata": {},
   "outputs": [
    {
     "name": "stdout",
     "output_type": "stream",
     "text": [
      "0 Cost:  10.856895 \n",
      "\n",
      "w1:  [array([-0.28182435], dtype=float32)] w2:  [array([-1.6635908], dtype=float32)] w3:  [array([-0.68282914], dtype=float32)] w4:  [array([-0.359197], dtype=float32)] w5:  [array([0.7466556], dtype=float32)] w6:  [array([-0.5150819], dtype=float32)] \n",
      "\n",
      "6000 Cost:  3.3354273 \n",
      "\n",
      "w1:  [array([-0.32840458], dtype=float32)] w2:  [array([-1.3831959], dtype=float32)] w3:  [array([-0.75879085], dtype=float32)] w4:  [array([0.01685216], dtype=float32)] w5:  [array([0.64714074], dtype=float32)] w6:  [array([-0.09141795], dtype=float32)] \n",
      "\n",
      "12000 Cost:  1.967614 \n",
      "\n",
      "w1:  [array([-0.28225395], dtype=float32)] w2:  [array([-1.2575058], dtype=float32)] w3:  [array([-0.7363782], dtype=float32)] w4:  [array([0.18190083], dtype=float32)] w5:  [array([0.6485379], dtype=float32)] w6:  [array([0.08822282], dtype=float32)] \n",
      "\n",
      "18000 Cost:  1.5293171 \n",
      "\n",
      "w1:  [array([-0.2125475], dtype=float32)] w2:  [array([-1.1876906], dtype=float32)] w3:  [array([-0.694717], dtype=float32)] w4:  [array([0.2654216], dtype=float32)] w5:  [array([0.6668793], dtype=float32)] w6:  [array([0.17132431], dtype=float32)] \n",
      "\n",
      "24000 Cost:  1.3066813 \n",
      "\n",
      "w1:  [array([-0.1408102], dtype=float32)] w2:  [array([-1.1392865], dtype=float32)] w3:  [array([-0.655914], dtype=float32)] w4:  [array([0.31432524], dtype=float32)] w5:  [array([0.6799422], dtype=float32)] w6:  [array([0.21214604], dtype=float32)] \n",
      "\n",
      "30000 Cost:  1.1626251 \n",
      "\n",
      "w1:  [array([-0.07307196], dtype=float32)] w2:  [array([-1.09988], dtype=float32)] w3:  [array([-0.62437034], dtype=float32)] w4:  [array([0.34666562], dtype=float32)] w5:  [array([0.6841699], dtype=float32)] w6:  [array([0.23209532], dtype=float32)] \n",
      "\n"
     ]
    },
    {
     "data": {
      "image/png": "[encoded data removed]",
      "text/plain": [
       "<Figure size 432x288 with 1 Axes>"
      ]
     },
     "metadata": {
      "needs_background": "light"
     },
     "output_type": "display_data"
    }
   ],
   "source": [
    "graph(6, 100000, 30000)"
   ]
  },
  {
   "cell_type": "code",
   "execution_count": 17,
   "metadata": {},
   "outputs": [
    {
     "data": {
      "image/png": "[encoded data removed]",
      "text/plain": [
       "<Figure size 432x288 with 1 Axes>"
      ]
     },
     "metadata": {
      "needs_background": "light"
     },
     "output_type": "display_data"
    }
   ],
   "source": [
    "x = np.array([i for i in range(-10, 10, 1)])\n",
    "plt.plot(0.1*x, np.exp(0.1*x), '.b', label = 'exp')\n",
    "plt.plot(w6x100[0],w6x100[1], '.r', label = 'w=6, x=100')\n",
    "plt.plot(w6x1000[0],w6x1000[1], '.g', label = 'w=6, x=1000')\n",
    "plt.plot(w6x10000[0],w6x10000[1], '.c', label = 'w=6, x=10000')\n",
    "plt.plot(w6x100000[0],w6x100000[1], '.m', label = 'w=6, x=100000')\n",
    "plt.legend(loc = 'upper right', fontsize = 'xx-small')\n",
    "\n",
    "plt.show()"
   ]
  },
  {
   "cell_type": "code",
   "execution_count": null,
   "metadata": {},
   "outputs": [],
   "source": []
  }
 ],
 "metadata": {
  "kernelspec": {
   "display_name": "Python 3",
   "language": "python",
   "name": "python3"
  },
  "language_info": {
   "codemirror_mode": {
    "name": "ipython",
    "version": 3
   },
   "file_extension": ".py",
   "mimetype": "text/x-python",
   "name": "python",
   "nbconvert_exporter": "python",
   "pygments_lexer": "ipython3",
   "version": "3.7.6"
  }
 },
 "nbformat": 4,
 "nbformat_minor": 2
}
