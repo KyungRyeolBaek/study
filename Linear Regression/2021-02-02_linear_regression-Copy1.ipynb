{
 "cells": [
  {
   "cell_type": "code",
   "execution_count": 1,
   "metadata": {},
   "outputs": [
    {
     "name": "stdout",
     "output_type": "stream",
     "text": [
      "WARNING:tensorflow:From C:\\Users\\forev\\AppData\\Roaming\\Python\\Python37\\site-packages\\tensorflow\\python\\compat\\v2_compat.py:96: disable_resource_variables (from tensorflow.python.ops.variable_scope) is deprecated and will be removed in a future version.\n",
      "Instructions for updating:\n",
      "non-resource variables are not supported in the long term\n"
     ]
    }
   ],
   "source": [
    "import tensorflow as tf\n",
    "import numpy as np\n",
    "import matplotlib.pyplot as plt\n",
    "\n",
    "### 버젼 2. tensorflow 라면 아래 코드 필요\n",
    "import tensorflow.compat.v1 as tf\n",
    "\n",
    "tf.disable_v2_behavior()"
   ]
  },
  {
   "cell_type": "code",
   "execution_count": 2,
   "metadata": {},
   "outputs": [
    {
     "data": {
      "text/plain": [
       "'2.2.0'"
      ]
     },
     "execution_count": 2,
     "metadata": {},
     "output_type": "execute_result"
    }
   ],
   "source": [
    "tf.__version__"
   ]
  },
  {
   "cell_type": "code",
   "execution_count": 3,
   "metadata": {},
   "outputs": [],
   "source": [
    "w_number = 6\n",
    "p_number = 6\n",
    "x_number = 100"
   ]
  },
  {
   "cell_type": "code",
   "execution_count": 4,
   "metadata": {},
   "outputs": [],
   "source": [
    "y1 = 1\n",
    "y2 = 1\n",
    "y1prime = 0\n",
    "y2prime = 0\n",
    "x = tf.Variable(tf.random_uniform([x_number]), name = 'x')\n",
    "for i in range(1, w_number + 1):\n",
    "    globals()['w{}'.format(i)] = tf.Variable(tf.random_normal([1]), name = 'w{}'.format(i))\n",
    "    globals()['p{}'.format(i)] = tf.Variable(tf.random_normal([1]), name = 'p{}'.format(i))\n",
    "    y1 += globals()['w{}'.format(i)]*(x**i)  # y1 = 1 + w1*(x) + w2*(x**2) + w3*(x**3) + w4*(x**4) + w5*(x**5) + w6*(x**6)\n",
    "    y2 += globals()['p{}'.format(i)]*(x**i)  # y2 = 1 + p1*(x) + p2*(x**2) + p3*(x**3) + p4*(x**4) + p5*(x**5) + p6*(x**6)\n",
    "    y1prime += i*globals()['w{}'.format(i)]*(x**(i-1))  # y1prime = w1 + 2*w2*x + 3*w3*(x**2) + 4*w4*(x**3) + 5*w5*(x**4) + 6*w6*(x**5)\n",
    "    y2prime += i*globals()['p{}'.format(i)]*(x**(i-1))  # y2prime = q1 + 2*p2*x + 3*p3*(x**2) + 4*p4*(x**3) + 5*p5*(x**4) + 6*p6*(x**5)"
   ]
  },
  {
   "cell_type": "code",
   "execution_count": 10,
   "metadata": {},
   "outputs": [
    {
     "data": {
      "text/plain": [
       "array([<tf.Tensor 'pow_24:0' shape=(100,) dtype=float32>], dtype=object)"
      ]
     },
     "execution_count": 10,
     "metadata": {},
     "output_type": "execute_result"
    }
   ],
   "source": [
    "a = np.array([[y1],\n",
    "              [y2]])\n",
    "b = np.array([[1,0],\n",
    "              [0,1]])\n",
    "c = np.array([[y1prime],\n",
    "              [y2prime]])\n",
    "# ((b@c-a)[0] + (b@c-a)[1])[0]\n",
    "(np.dot(b,a) - c)[0] + (np.dot(b,a -c)[1])"
   ]
  },
  {
   "cell_type": "code",
   "execution_count": 11,
   "metadata": {},
   "outputs": [],
   "source": [
    "cost = tf.reduce_mean(tf.square(((b@a-c)[0] + (b@a-c)[1])[0]))\n",
    "optimizer = tf.train.GradientDescentOptimizer(learning_rate = 1e-5)\n",
    "train = optimizer.minimize(cost)"
   ]
  },
  {
   "cell_type": "code",
   "execution_count": 12,
   "metadata": {
    "scrolled": true
   },
   "outputs": [
    {
     "name": "stdout",
     "output_type": "stream",
     "text": [
      "0 Cost:  1.153384 \n",
      "\n",
      "w1:  [array([-0.00016015], dtype=float32)] w2:  [array([2.8007283], dtype=float32)] w3:  [array([-1.4038386], dtype=float32)] w4:  [array([-0.4725582], dtype=float32)] w5:  [array([-0.16700703], dtype=float32)] w6:  [array([-0.30419], dtype=float32)] \n",
      "\n",
      "1000 Cost:  0.93460673 \n",
      "\n",
      "w1:  [array([0.0100827], dtype=float32)] w2:  [array([2.8128798], dtype=float32)] w3:  [array([-1.3903275], dtype=float32)] w4:  [array([-0.45832586], dtype=float32)] w5:  [array([-0.15243796], dtype=float32)] w6:  [array([-0.28952965], dtype=float32)] \n",
      "\n",
      "2000 Cost:  0.8089437 \n",
      "\n",
      "w1:  [array([0.01974601], dtype=float32)] w2:  [array([2.822978], dtype=float32)] w3:  [array([-1.3799262], dtype=float32)] w4:  [array([-0.44798842], dtype=float32)] w5:  [array([-0.14237514], dtype=float32)] w6:  [array([-0.27986872], dtype=float32)] \n",
      "\n",
      "3000 Cost:  0.73156786 \n",
      "\n",
      "w1:  [array([0.02894568], dtype=float32)] w2:  [array([2.8315816], dtype=float32)] w3:  [array([-1.3717703], dtype=float32)] w4:  [array([-0.4404443], dtype=float32)] w5:  [array([-0.13553141], dtype=float32)] w6:  [array([-0.273769], dtype=float32)] \n",
      "\n",
      "4000 Cost:  0.6793279 \n",
      "\n",
      "w1:  [array([0.03776557], dtype=float32)] w2:  [array([2.8390784], dtype=float32)] w3:  [array([-1.3652341], dtype=float32)] w4:  [array([-0.434897], dtype=float32)] w5:  [array([-0.13097323], dtype=float32)] w6:  [array([-0.27018443], dtype=float32)] \n",
      "\n",
      "5000 Cost:  0.6403872 \n",
      "\n",
      "w1:  [array([0.04626643], dtype=float32)] w2:  [array([2.8457577], dtype=float32)] w3:  [array([-1.3598727], dtype=float32)] w4:  [array([-0.43077517], dtype=float32)] w5:  [array([-0.12803023], dtype=float32)] w6:  [array([-0.26836264], dtype=float32)] \n",
      "\n",
      "6000 Cost:  0.60873556 \n",
      "\n",
      "w1:  [array([0.05449252], dtype=float32)] w2:  [array([2.8518248], dtype=float32)] w3:  [array([-1.3553646], dtype=float32)] w4:  [array([-0.42767173], dtype=float32)] w5:  [array([-0.12622483], dtype=float32)] w6:  [array([-0.26776755], dtype=float32)] \n",
      "\n",
      "7000 Cost:  0.5813316 \n",
      "\n",
      "w1:  [array([0.06247646], dtype=float32)] w2:  [array([2.8574226], dtype=float32)] w3:  [array([-1.3514814], dtype=float32)] w4:  [array([-0.4252983], dtype=float32)] w5:  [array([-0.12521899], dtype=float32)] w6:  [array([-0.26802018], dtype=float32)] \n",
      "\n",
      "8000 Cost:  0.55661714 \n",
      "\n",
      "w1:  [array([0.07024259], dtype=float32)] w2:  [array([2.8626535], dtype=float32)] w3:  [array([-1.3480703], dtype=float32)] w4:  [array([-0.42345047], dtype=float32)] w5:  [array([-0.12477432], dtype=float32)] w6:  [array([-0.26885426], dtype=float32)] \n",
      "\n",
      "9000 Cost:  0.53377753 \n",
      "\n",
      "w1:  [array([0.07780938], dtype=float32)] w2:  [array([2.8675907], dtype=float32)] w3:  [array([-1.3450036], dtype=float32)] w4:  [array([-0.421984], dtype=float32)] w5:  [array([-0.12472291], dtype=float32)] w6:  [array([-0.2700829], dtype=float32)] \n",
      "\n",
      "10000 Cost:  0.5123832 \n",
      "\n",
      "w1:  [array([0.08519109], dtype=float32)] w2:  [array([2.8723016], dtype=float32)] w3:  [array([-1.342212], dtype=float32)] w4:  [array([-0.42079678], dtype=float32)] w5:  [array([-0.1249467], dtype=float32)] w6:  [array([-0.27157477], dtype=float32)] \n",
      "\n",
      "11000 Cost:  0.49218002 \n",
      "\n",
      "w1:  [array([0.09239906], dtype=float32)] w2:  [array([2.8768315], dtype=float32)] w3:  [array([-1.3396405], dtype=float32)] w4:  [array([-0.41981673], dtype=float32)] w5:  [array([-0.12536317], dtype=float32)] w6:  [array([-0.2732404], dtype=float32)] \n",
      "\n",
      "12000 Cost:  0.47304156 \n",
      "\n",
      "w1:  [array([0.09944247], dtype=float32)] w2:  [array([2.8811316], dtype=float32)] w3:  [array([-1.3372254], dtype=float32)] w4:  [array([-0.41899097], dtype=float32)] w5:  [array([-0.12591286], dtype=float32)] w6:  [array([-0.27501392], dtype=float32)] \n",
      "\n",
      "13000 Cost:  0.45482886 \n",
      "\n",
      "w1:  [array([0.10632873], dtype=float32)] w2:  [array([2.8853254], dtype=float32)] w3:  [array([-1.3349535], dtype=float32)] w4:  [array([-0.41828623], dtype=float32)] w5:  [array([-0.12655583], dtype=float32)] w6:  [array([-0.276851], dtype=float32)] \n",
      "\n",
      "14000 Cost:  0.43747804 \n",
      "\n",
      "w1:  [array([0.11306465], dtype=float32)] w2:  [array([2.8893785], dtype=float32)] w3:  [array([-1.3328078], dtype=float32)] w4:  [array([-0.4176697], dtype=float32)] w5:  [array([-0.12725998], dtype=float32)] w6:  [array([-0.27872455], dtype=float32)] \n",
      "\n",
      "15000 Cost:  0.42094186 \n",
      "\n",
      "w1:  [array([0.11965533], dtype=float32)] w2:  [array([2.8933053], dtype=float32)] w3:  [array([-1.3307676], dtype=float32)] w4:  [array([-0.4171276], dtype=float32)] w5:  [array([-0.1280064], dtype=float32)] w6:  [array([-0.2806021], dtype=float32)] \n",
      "\n",
      "16000 Cost:  0.4051553 \n",
      "\n",
      "w1:  [array([0.12610616], dtype=float32)] w2:  [array([2.89712], dtype=float32)] w3:  [array([-1.328811], dtype=float32)] w4:  [array([-0.41664174], dtype=float32)] w5:  [array([-0.12877822], dtype=float32)] w6:  [array([-0.28247964], dtype=float32)] \n",
      "\n",
      "17000 Cost:  0.3900626 \n",
      "\n",
      "w1:  [array([0.13242124], dtype=float32)] w2:  [array([2.9008584], dtype=float32)] w3:  [array([-1.3269079], dtype=float32)] w4:  [array([-0.4162062], dtype=float32)] w5:  [array([-0.12956755], dtype=float32)] w6:  [array([-0.28434044], dtype=float32)] \n",
      "\n",
      "18000 Cost:  0.3756913 \n",
      "\n",
      "w1:  [array([0.138605], dtype=float32)] w2:  [array([2.9044347], dtype=float32)] w3:  [array([-1.3251197], dtype=float32)] w4:  [array([-0.41580683], dtype=float32)] w5:  [array([-0.13035993], dtype=float32)] w6:  [array([-0.28617966], dtype=float32)] \n",
      "\n",
      "19000 Cost:  0.3619123 \n",
      "\n",
      "w1:  [array([0.14466085], dtype=float32)] w2:  [array([2.908011], dtype=float32)] w3:  [array([-1.3233606], dtype=float32)] w4:  [array([-0.41544208], dtype=float32)] w5:  [array([-0.1311646], dtype=float32)] w6:  [array([-0.28799388], dtype=float32)] \n",
      "\n",
      "20000 Cost:  0.34876847 \n",
      "\n",
      "w1:  [array([0.1505924], dtype=float32)] w2:  [array([2.911399], dtype=float32)] w3:  [array([-1.3216916], dtype=float32)] w4:  [array([-0.41510943], dtype=float32)] w5:  [array([-0.1319672], dtype=float32)] w6:  [array([-0.28977618], dtype=float32)] \n",
      "\n",
      "21000 Cost:  0.33617392 \n",
      "\n",
      "w1:  [array([0.15640321], dtype=float32)] w2:  [array([2.9147367], dtype=float32)] w3:  [array([-1.3200427], dtype=float32)] w4:  [array([-0.41480172], dtype=float32)] w5:  [array([-0.13275696], dtype=float32)] w6:  [array([-0.29152647], dtype=float32)] \n",
      "\n",
      "22000 Cost:  0.32411546 \n",
      "\n",
      "w1:  [array([0.16209626], dtype=float32)] w2:  [array([2.9180746], dtype=float32)] w3:  [array([-1.318493], dtype=float32)] w4:  [array([-0.41451395], dtype=float32)] w5:  [array([-0.13354672], dtype=float32)] w6:  [array([-0.29324248], dtype=float32)] \n",
      "\n",
      "23000 Cost:  0.31260487 \n",
      "\n",
      "w1:  [array([0.16767472], dtype=float32)] w2:  [array([2.9211893], dtype=float32)] w3:  [array([-1.3169433], dtype=float32)] w4:  [array([-0.41424572], dtype=float32)] w5:  [array([-0.13432443], dtype=float32)] w6:  [array([-0.29492465], dtype=float32)] \n",
      "\n",
      "24000 Cost:  0.30157697 \n",
      "\n",
      "w1:  [array([0.1731411], dtype=float32)] w2:  [array([2.9242887], dtype=float32)] w3:  [array([-1.3154889], dtype=float32)] w4:  [array([-0.4140022], dtype=float32)] w5:  [array([-0.13509807], dtype=float32)] w6:  [array([-0.2965734], dtype=float32)] \n",
      "\n",
      "25000 Cost:  0.29098576 \n",
      "\n",
      "w1:  [array([0.17849827], dtype=float32)] w2:  [array([2.9273882], dtype=float32)] w3:  [array([-1.3140584], dtype=float32)] w4:  [array([-0.4137716], dtype=float32)] w5:  [array([-0.13585803], dtype=float32)] w6:  [array([-0.29818985], dtype=float32)] \n",
      "\n",
      "26000 Cost:  0.28088063 \n",
      "\n",
      "w1:  [array([0.18374851], dtype=float32)] w2:  [array([2.9302943], dtype=float32)] w3:  [array([-1.312662], dtype=float32)] w4:  [array([-0.41356298], dtype=float32)] w5:  [array([-0.13661799], dtype=float32)] w6:  [array([-0.29977712], dtype=float32)] \n",
      "\n",
      "27000 Cost:  0.27119002 \n",
      "\n",
      "w1:  [array([0.18889496], dtype=float32)] w2:  [array([2.9331553], dtype=float32)] w3:  [array([-1.3113507], dtype=float32)] w4:  [array([-0.41337302], dtype=float32)] w5:  [array([-0.1373646], dtype=float32)] w6:  [array([-0.3013332], dtype=float32)] \n",
      "\n",
      "28000 Cost:  0.2618696 \n",
      "\n",
      "w1:  [array([0.19394004], dtype=float32)] w2:  [array([2.9360163], dtype=float32)] w3:  [array([-1.3100394], dtype=float32)] w4:  [array([-0.4131942], dtype=float32)] w5:  [array([-0.13810252], dtype=float32)] w6:  [array([-0.3028561], dtype=float32)] \n",
      "\n",
      "29000 Cost:  0.2529418 \n",
      "\n",
      "w1:  [array([0.19888599], dtype=float32)] w2:  [array([2.9387958], dtype=float32)] w3:  [array([-1.3087693], dtype=float32)] w4:  [array([-0.41302568], dtype=float32)] w5:  [array([-0.13882852], dtype=float32)] w6:  [array([-0.30434206], dtype=float32)] \n",
      "\n"
     ]
    },
    {
     "name": "stdout",
     "output_type": "stream",
     "text": [
      "30000 Cost:  0.24441324 \n",
      "\n",
      "w1:  [array([0.20373555], dtype=float32)] w2:  [array([2.9414184], dtype=float32)] w3:  [array([-1.3075773], dtype=float32)] w4:  [array([-0.41287667], dtype=float32)] w5:  [array([-0.13953929], dtype=float32)] w6:  [array([-0.30579302], dtype=float32)] \n",
      "\n"
     ]
    }
   ],
   "source": [
    "sess = tf.Session()\n",
    "sess.run(tf.global_variables_initializer())\n",
    "\n",
    "for step in range(30001):\n",
    "    for i in range(1, w_number + 1):\n",
    "        globals()['w{}_val'.format(i)] = sess.run([globals()['w{}'.format(i)]])\n",
    "    cost_val, y1prime_val, y1_val, y2prime_val, y2_val, x_val, _ = sess.run([cost, y1prime, y1, y2prime, y2, x, train])\n",
    "    if step % 1000 == 0:\n",
    "#         print(step, \"Cost: \", cost_val, \"\\nx: \", x_val,  \"yprime: \", yprime_val, \"y: \", y_val)\n",
    "        print(step, \"Cost: \", cost_val, \"\\n\")\n",
    "        print(\"w1: \", w1_val, \"w2: \", w2_val, \"w3: \", w3_val, \"w4: \", w4_val, \"w5: \", w5_val, \"w6: \", w6_val, \"\\n\")"
   ]
  },
  {
   "cell_type": "code",
   "execution_count": 13,
   "metadata": {},
   "outputs": [],
   "source": [
    "def y(x):\n",
    "    answer = 1\n",
    "    for i in range(1, w_number + 1):\n",
    "        answer += globals()['w{}_val'.format(i)]*(x**i)\n",
    "    return answer[0]"
   ]
  },
  {
   "cell_type": "code",
   "execution_count": 14,
   "metadata": {},
   "outputs": [],
   "source": [
    "globals()['w{}x{}'.format(w_number, x_number)] = [x_val, y(x_val)]"
   ]
  },
  {
   "cell_type": "code",
   "execution_count": 15,
   "metadata": {},
   "outputs": [
    {
     "data": {
      "image/png": "[encoded data removed]",
      "text/plain": [
       "<Figure size 432x288 with 1 Axes>"
      ]
     },
     "metadata": {
      "needs_background": "light"
     },
     "output_type": "display_data"
    }
   ],
   "source": [
    "plt.plot(x_val, y(x_val), '.')\n",
    "plt.show()"
   ]
  },
  {
   "cell_type": "code",
   "execution_count": 16,
   "metadata": {},
   "outputs": [
    {
     "data": {
      "image/png": "[encoded data removed]",
      "text/plain": [
       "<Figure size 432x288 with 1 Axes>"
      ]
     },
     "metadata": {
      "needs_background": "light"
     },
     "output_type": "display_data"
    }
   ],
   "source": [
    "plt.plot(w6x100[0],w6x100[1], '.')\n",
    "plt.show()"
   ]
  },
  {
   "cell_type": "code",
   "execution_count": null,
   "metadata": {},
   "outputs": [],
   "source": []
  }
 ],
 "metadata": {
  "kernelspec": {
   "display_name": "Python 3",
   "language": "python",
   "name": "python3"
  },
  "language_info": {
   "codemirror_mode": {
    "name": "ipython",
    "version": 3
   },
   "file_extension": ".py",
   "mimetype": "text/x-python",
   "name": "python",
   "nbconvert_exporter": "python",
   "pygments_lexer": "ipython3",
   "version": "3.7.6"
  }
 },
 "nbformat": 4,
 "nbformat_minor": 2
}
