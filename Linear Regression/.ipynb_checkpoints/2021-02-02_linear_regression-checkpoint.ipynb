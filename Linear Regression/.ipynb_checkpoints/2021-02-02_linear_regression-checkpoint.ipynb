{
 "cells": [
  {
   "cell_type": "code",
   "execution_count": 24,
   "metadata": {},
   "outputs": [],
   "source": [
    "import tensorflow as tf\n",
    "import numpy as np\n",
    "import matplotlib.pyplot as plt\n",
    "\n",
    "### 버젼 2. tensorflow 라면 아래 코드 필요\n",
    "import tensorflow.compat.v1 as tf\n",
    "\n",
    "tf.disable_v2_behavior()"
   ]
  },
  {
   "cell_type": "code",
   "execution_count": 25,
   "metadata": {},
   "outputs": [
    {
     "data": {
      "text/plain": [
       "'2.2.0'"
      ]
     },
     "execution_count": 25,
     "metadata": {},
     "output_type": "execute_result"
    }
   ],
   "source": [
    "tf.__version__"
   ]
  },
  {
   "cell_type": "code",
   "execution_count": 26,
   "metadata": {},
   "outputs": [],
   "source": [
    "w_number = 6\n",
    "x_number = 100"
   ]
  },
  {
   "cell_type": "code",
   "execution_count": 34,
   "metadata": {},
   "outputs": [],
   "source": [
    "y = 1\n",
    "yprime = 0\n",
    "x = tf.Variable(tf.random_uniform([x_number], minval = -2, maxval = 4), name = 'x')\n",
    "for i in range(1, w_number + 1):\n",
    "    globals()['w{}'.format(i)] = tf.Variable(tf.random_normal([1]), name = 'weight{}'.format(i))\n",
    "    y += globals()['w{}'.format(i)]*(x**i)  # y = 1 + w1*(x) + w2*(x**2) + w3*(x**3) + w4*(x**4) + w5*(x**5) + w6*(x**6)\n",
    "    yprime += i*globals()['w{}'.format(i)]*(x**(i-1))  # yprime = w1 + 2*w2*x + 3*w3*(x**2) + 4*w4*(x**3) + 5*w5*(x**4) + 6*w6*(x**5)"
   ]
  },
  {
   "cell_type": "code",
   "execution_count": 35,
   "metadata": {},
   "outputs": [],
   "source": [
    "cost = tf.reduce_mean(tf.square(yprime - y))\n",
    "optimizer = tf.train.GradientDescentOptimizer(learning_rate = 1e-5)\n",
    "train = optimizer.minimize(cost)"
   ]
  },
  {
   "cell_type": "code",
   "execution_count": 36,
   "metadata": {
    "scrolled": true
   },
   "outputs": [
    {
     "name": "stdout",
     "output_type": "stream",
     "text": [
      "0 Cost:  342409.0 \n",
      "\n",
      "w1:  [array([0.3708901], dtype=float32)] w2:  [array([1.4978437], dtype=float32)] w3:  [array([-0.05011744], dtype=float32)] w4:  [array([0.4461955], dtype=float32)] w5:  [array([-0.9375137], dtype=float32)] w6:  [array([1.3709571], dtype=float32)] \n",
      "\n",
      "1000 Cost:  6.485542 \n",
      "\n",
      "w1:  [array([0.5101325], dtype=float32)] w2:  [array([1.2463493], dtype=float32)] w3:  [array([0.20830812], dtype=float32)] w4:  [array([-0.17353873], dtype=float32)] w5:  [array([-0.23129937], dtype=float32)] w6:  [array([0.12767209], dtype=float32)] \n",
      "\n",
      "2000 Cost:  1.0851164 \n",
      "\n",
      "w1:  [array([0.542602], dtype=float32)] w2:  [array([1.1974603], dtype=float32)] w3:  [array([0.28940648], dtype=float32)] w4:  [array([-0.24465945], dtype=float32)] w5:  [array([-0.05812391], dtype=float32)] w6:  [array([0.06349521], dtype=float32)] \n",
      "\n",
      "3000 Cost:  0.29668033 \n",
      "\n",
      "w1:  [array([0.5572495], dtype=float32)] w2:  [array([1.1762788], dtype=float32)] w3:  [array([0.3209029], dtype=float32)] w4:  [array([-0.27364713], dtype=float32)] w5:  [array([0.00730077], dtype=float32)] w6:  [array([0.03938589], dtype=float32)] \n",
      "\n",
      "4000 Cost:  0.17262623 \n",
      "\n",
      "w1:  [array([0.56496376], dtype=float32)] w2:  [array([1.1658449], dtype=float32)] w3:  [array([0.33339265], dtype=float32)] w4:  [array([-0.28629375], dtype=float32)] w5:  [array([0.03182377], dtype=float32)] w6:  [array([0.03093474], dtype=float32)] \n",
      "\n",
      "5000 Cost:  0.15080318 \n",
      "\n",
      "w1:  [array([0.56993806], dtype=float32)] w2:  [array([1.1596597], dtype=float32)] w3:  [array([0.33843765], dtype=float32)] w4:  [array([-0.2924921], dtype=float32)] w5:  [array([0.04031637], dtype=float32)] w6:  [array([0.0286114], dtype=float32)] \n",
      "\n",
      "6000 Cost:  0.14465542 \n",
      "\n",
      "w1:  [array([0.5738209], dtype=float32)] w2:  [array([1.1551673], dtype=float32)] w3:  [array([0.3405859], dtype=float32)] w4:  [array([-0.29613778], dtype=float32)] w5:  [array([0.04256764], dtype=float32)] w6:  [array([0.02865586], dtype=float32)] \n",
      "\n",
      "7000 Cost:  0.14097388 \n",
      "\n",
      "w1:  [array([0.5772571], dtype=float32)] w2:  [array([1.1513658], dtype=float32)] w3:  [array([0.34161386], dtype=float32)] w4:  [array([-0.29875314], dtype=float32)] w5:  [array([0.04240634], dtype=float32)] w6:  [array([0.0296008], dtype=float32)] \n",
      "\n",
      "8000 Cost:  0.13775659 \n",
      "\n",
      "w1:  [array([0.58049625], dtype=float32)] w2:  [array([1.1478629], dtype=float32)] w3:  [array([0.34221524], dtype=float32)] w4:  [array([-0.3009322], dtype=float32)] w5:  [array([0.04132693], dtype=float32)] w6:  [array([0.03087377], dtype=float32)] \n",
      "\n",
      "9000 Cost:  0.13470143 \n",
      "\n",
      "w1:  [array([0.5836341], dtype=float32)] w2:  [array([1.144516], dtype=float32)] w3:  [array([0.3426575], dtype=float32)] w4:  [array([-0.30290592], dtype=float32)] w5:  [array([0.03990553], dtype=float32)] w6:  [array([0.03225527], dtype=float32)] \n",
      "\n",
      "10000 Cost:  0.13175768 \n",
      "\n",
      "w1:  [array([0.58671623], dtype=float32)] w2:  [array([1.1412725], dtype=float32)] w3:  [array([0.34304512], dtype=float32)] w4:  [array([-0.30476454], dtype=float32)] w5:  [array([0.03836547], dtype=float32)] w6:  [array([0.03365955], dtype=float32)] \n",
      "\n",
      "11000 Cost:  0.1288983 \n",
      "\n",
      "w1:  [array([0.5897561], dtype=float32)] w2:  [array([1.1380539], dtype=float32)] w3:  [array([0.3434042], dtype=float32)] w4:  [array([-0.30654517], dtype=float32)] w5:  [array([0.03679538], dtype=float32)] w6:  [array([0.03505582], dtype=float32)] \n",
      "\n",
      "12000 Cost:  0.12615761 \n",
      "\n",
      "w1:  [array([0.59274393], dtype=float32)] w2:  [array([1.134954], dtype=float32)] w3:  [array([0.3437642], dtype=float32)] w4:  [array([-0.3082611], dtype=float32)] w5:  [array([0.03522873], dtype=float32)] w6:  [array([0.03642803], dtype=float32)] \n",
      "\n",
      "13000 Cost:  0.123487756 \n",
      "\n",
      "w1:  [array([0.59571], dtype=float32)] w2:  [array([1.1318545], dtype=float32)] w3:  [array([0.34415162], dtype=float32)] w4:  [array([-0.30991948], dtype=float32)] w5:  [array([0.03367408], dtype=float32)] w6:  [array([0.03777545], dtype=float32)] \n",
      "\n",
      "14000 Cost:  0.12091975 \n",
      "\n",
      "w1:  [array([0.5986306], dtype=float32)] w2:  [array([1.1288428], dtype=float32)] w3:  [array([0.34453905], dtype=float32)] w4:  [array([-0.3115209], dtype=float32)] w5:  [array([0.03213252], dtype=float32)] w6:  [array([0.03909727], dtype=float32)] \n",
      "\n",
      "15000 Cost:  0.11843035 \n",
      "\n",
      "w1:  [array([0.60152173], dtype=float32)] w2:  [array([1.1258626], dtype=float32)] w3:  [array([0.34492648], dtype=float32)] w4:  [array([-0.31307146], dtype=float32)] w5:  [array([0.03061248], dtype=float32)] w6:  [array([0.04039261], dtype=float32)] \n",
      "\n",
      "16000 Cost:  0.116018265 \n",
      "\n",
      "w1:  [array([0.60438275], dtype=float32)] w2:  [array([1.1229124], dtype=float32)] w3:  [array([0.3453139], dtype=float32)] w4:  [array([-0.3145717], dtype=float32)] w5:  [array([0.02911086], dtype=float32)] w6:  [array([0.04166379], dtype=float32)] \n",
      "\n",
      "17000 Cost:  0.11369946 \n",
      "\n",
      "w1:  [array([0.607203], dtype=float32)] w2:  [array([1.1200514], dtype=float32)] w3:  [array([0.3457142], dtype=float32)] w4:  [array([-0.3160203], dtype=float32)] w5:  [array([0.02762943], dtype=float32)] w6:  [array([0.0429064], dtype=float32)] \n",
      "\n",
      "18000 Cost:  0.11143432 \n",
      "\n",
      "w1:  [array([0.6100044], dtype=float32)] w2:  [array([1.1171904], dtype=float32)] w3:  [array([0.34613144], dtype=float32)] w4:  [array([-0.31742114], dtype=float32)] w5:  [array([0.02616466], dtype=float32)] w6:  [array([0.04412572], dtype=float32)] \n",
      "\n",
      "19000 Cost:  0.10925252 \n",
      "\n",
      "w1:  [array([0.6127553], dtype=float32)] w2:  [array([1.1144032], dtype=float32)] w3:  [array([0.34654868], dtype=float32)] w4:  [array([-0.3187747], dtype=float32)] w5:  [array([0.0247169], dtype=float32)] w6:  [array([0.04532007], dtype=float32)] \n",
      "\n",
      "20000 Cost:  0.10713398 \n",
      "\n",
      "w1:  [array([0.6154971], dtype=float32)] w2:  [array([1.1116614], dtype=float32)] w3:  [array([0.3469659], dtype=float32)] w4:  [array([-0.32008433], dtype=float32)] w5:  [array([0.02329413], dtype=float32)] w6:  [array([0.04648842], dtype=float32)] \n",
      "\n",
      "21000 Cost:  0.105073854 \n",
      "\n",
      "w1:  [array([0.61818707], dtype=float32)] w2:  [array([1.1089196], dtype=float32)] w3:  [array([0.34738842], dtype=float32)] w4:  [array([-0.3213502], dtype=float32)] w5:  [array([0.02189148], dtype=float32)] w6:  [array([0.04763338], dtype=float32)] \n",
      "\n",
      "22000 Cost:  0.103081375 \n",
      "\n",
      "w1:  [array([0.6208693], dtype=float32)] w2:  [array([1.1062676], dtype=float32)] w3:  [array([0.34783545], dtype=float32)] w4:  [array([-0.3225721], dtype=float32)] w5:  [array([0.02050474], dtype=float32)] w6:  [array([0.04875368], dtype=float32)] \n",
      "\n",
      "23000 Cost:  0.10115283 \n",
      "\n",
      "w1:  [array([0.6234991], dtype=float32)] w2:  [array([1.103645], dtype=float32)] w3:  [array([0.3482825], dtype=float32)] w4:  [array([-0.3237522], dtype=float32)] w5:  [array([0.01913902], dtype=float32)] w6:  [array([0.04984931], dtype=float32)] \n",
      "\n",
      "24000 Cost:  0.09926592 \n",
      "\n",
      "w1:  [array([0.6261217], dtype=float32)] w2:  [array([1.1010224], dtype=float32)] w3:  [array([0.34872952], dtype=float32)] w4:  [array([-0.32489386], dtype=float32)] w5:  [array([0.01779195], dtype=float32)] w6:  [array([0.05092495], dtype=float32)] \n",
      "\n",
      "25000 Cost:  0.097451985 \n",
      "\n",
      "w1:  [array([0.6286939], dtype=float32)] w2:  [array([1.0984855], dtype=float32)] w3:  [array([0.34917656], dtype=float32)] w4:  [array([-0.325992], dtype=float32)] w5:  [array([0.01646283], dtype=float32)] w6:  [array([0.05197727], dtype=float32)] \n",
      "\n",
      "26000 Cost:  0.09568716 \n",
      "\n",
      "w1:  [array([0.6312569], dtype=float32)] w2:  [array([1.0959821], dtype=float32)] w3:  [array([0.34964213], dtype=float32)] w4:  [array([-0.32705352], dtype=float32)] w5:  [array([0.01515544], dtype=float32)] w6:  [array([0.05300506], dtype=float32)] \n",
      "\n",
      "27000 Cost:  0.093966745 \n",
      "\n",
      "w1:  [array([0.6337775], dtype=float32)] w2:  [array([1.0934787], dtype=float32)] w3:  [array([0.35011896], dtype=float32)] w4:  [array([-0.32807717], dtype=float32)] w5:  [array([0.01386064], dtype=float32)] w6:  [array([0.05401433], dtype=float32)] \n",
      "\n",
      "28000 Cost:  0.09229799 \n",
      "\n",
      "w1:  [array([0.6362809], dtype=float32)] w2:  [array([1.0910337], dtype=float32)] w3:  [array([0.3505958], dtype=float32)] w4:  [array([-0.32906243], dtype=float32)] w5:  [array([0.01258035], dtype=float32)] w6:  [array([0.05500429], dtype=float32)] \n",
      "\n",
      "29000 Cost:  0.090685405 \n",
      "\n",
      "w1:  [array([0.6387533], dtype=float32)] w2:  [array([1.0886495], dtype=float32)] w3:  [array([0.35107264], dtype=float32)] w4:  [array([-0.3300109], dtype=float32)] w5:  [array([0.01132087], dtype=float32)] w6:  [array([0.0559709], dtype=float32)] \n",
      "\n"
     ]
    },
    {
     "name": "stdout",
     "output_type": "stream",
     "text": [
      "30000 Cost:  0.08911123 \n",
      "\n",
      "w1:  [array([0.6411971], dtype=float32)] w2:  [array([1.0862653], dtype=float32)] w3:  [array([0.35154948], dtype=float32)] w4:  [array([-0.3309246], dtype=float32)] w5:  [array([0.01008017], dtype=float32)] w6:  [array([0.05691804], dtype=float32)] \n",
      "\n"
     ]
    }
   ],
   "source": [
    "sess = tf.Session()\n",
    "sess.run(tf.global_variables_initializer())\n",
    "\n",
    "for step in range(30001):\n",
    "    for i in range(1, w_number + 1):\n",
    "        globals()['w{}_val'.format(i)] = sess.run([globals()['w{}'.format(i)]])\n",
    "    cost_val, yprime_val, y_val, x_val, _ = sess.run([cost, yprime, y, x, train])\n",
    "    if step % 1000 == 0:\n",
    "#         print(step, \"Cost: \", cost_val, \"\\nx: \", x_val,  \"yprime: \", yprime_val, \"y: \", y_val)\n",
    "        print(step, \"Cost: \", cost_val, \"\\n\")\n",
    "        print(\"w1: \", w1_val, \"w2: \", w2_val, \"w3: \", w3_val, \"w4: \", w4_val, \"w5: \", w5_val, \"w6: \", w6_val, \"\\n\")"
   ]
  },
  {
   "cell_type": "code",
   "execution_count": 37,
   "metadata": {},
   "outputs": [],
   "source": [
    "def y(x):\n",
    "    answer = 1\n",
    "    for i in range(1, w_number + 1):\n",
    "        answer += globals()['w{}_val'.format(i)]*(x**i)\n",
    "    return answer[0]"
   ]
  },
  {
   "cell_type": "code",
   "execution_count": 38,
   "metadata": {},
   "outputs": [],
   "source": [
    "globals()['w{}x{}'.format(w_number, x_number)] = [x_val, y(x_val)]"
   ]
  },
  {
   "cell_type": "code",
   "execution_count": 39,
   "metadata": {},
   "outputs": [
    {
     "data": {
      "image/png": "[encoded data removed]",
      "text/plain": [
       "<Figure size 432x288 with 1 Axes>"
      ]
     },
     "metadata": {
      "needs_background": "light"
     },
     "output_type": "display_data"
    }
   ],
   "source": [
    "plt.plot(x_val, y(x_val), '.')\n",
    "plt.show()"
   ]
  },
  {
   "cell_type": "code",
   "execution_count": 40,
   "metadata": {},
   "outputs": [
    {
     "data": {
      "image/png": "[encoded data removed]",
      "text/plain": [
       "<Figure size 432x288 with 1 Axes>"
      ]
     },
     "metadata": {
      "needs_background": "light"
     },
     "output_type": "display_data"
    }
   ],
   "source": [
    "plt.plot(w6x100[0],w6x100[1], '.')\n",
    "plt.show()"
   ]
  },
  {
   "cell_type": "code",
   "execution_count": null,
   "metadata": {},
   "outputs": [],
   "source": []
  }
 ],
 "metadata": {
  "kernelspec": {
   "display_name": "Python 3",
   "language": "python",
   "name": "python3"
  },
  "language_info": {
   "codemirror_mode": {
    "name": "ipython",
    "version": 3
   },
   "file_extension": ".py",
   "mimetype": "text/x-python",
   "name": "python",
   "nbconvert_exporter": "python",
   "pygments_lexer": "ipython3",
   "version": "3.7.6"
  }
 },
 "nbformat": 4,
 "nbformat_minor": 2
}
