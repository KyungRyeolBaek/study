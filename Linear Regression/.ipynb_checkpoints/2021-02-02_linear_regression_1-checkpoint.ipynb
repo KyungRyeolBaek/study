{
 "cells": [
  {
   "cell_type": "code",
   "execution_count": 2,
   "metadata": {},
   "outputs": [
    {
     "name": "stdout",
     "output_type": "stream",
     "text": [
      "WARNING:tensorflow:From C:\\Users\\forev\\AppData\\Roaming\\Python\\Python37\\site-packages\\tensorflow\\python\\compat\\v2_compat.py:96: disable_resource_variables (from tensorflow.python.ops.variable_scope) is deprecated and will be removed in a future version.\n",
      "Instructions for updating:\n",
      "non-resource variables are not supported in the long term\n"
     ]
    }
   ],
   "source": [
    "import tensorflow as tf\n",
    "import numpy as np\n",
    "import matplotlib.pyplot as plt\n",
    "\n",
    "### 버젼 2. tensorflow 라면 아래 코드 필요\n",
    "import tensorflow.compat.v1 as tf\n",
    "\n",
    "tf.disable_v2_behavior()"
   ]
  },
  {
   "cell_type": "code",
   "execution_count": 3,
   "metadata": {},
   "outputs": [
    {
     "data": {
      "text/plain": [
       "'2.2.0'"
      ]
     },
     "execution_count": 3,
     "metadata": {},
     "output_type": "execute_result"
    }
   ],
   "source": [
    "tf.__version__"
   ]
  },
  {
   "cell_type": "code",
   "execution_count": 16,
   "metadata": {},
   "outputs": [],
   "source": [
    "def graph(w_number, x_number, step_number):\n",
    "    y = 1\n",
    "    yprime = 0\n",
    "    x = tf.Variable(tf.random_uniform([x_number], minval = -1, maxval = 1), name = 'x')\n",
    "    \n",
    "    for i in range(1, w_number + 1):\n",
    "        globals()['w{}'.format(i)] = tf.Variable(tf.random_normal([1]), name = 'weight{}'.format(i))\n",
    "        y += globals()['w{}'.format(i)]*(x**i)  # y = 1 + w1*(x) + w2*(x**2) + w3*(x**3) + w4*(x**4) + w5*(x**5) + w6*(x**6)\n",
    "        yprime += i*globals()['w{}'.format(i)]*(x**(i-1))  # yprime = w1 + 2*w2*x + 3*w3*(x**2) + 4*w4*(x**3) + 5*w5*(x**4) + 6*w6*(x**5)\n",
    "    \n",
    "    cost = tf.reduce_mean(tf.square(yprime - y))\n",
    "    optimizer = tf.train.GradientDescentOptimizer(learning_rate = 1e-5)\n",
    "    train = optimizer.minimize(cost)\n",
    "    \n",
    "    sess = tf.Session()\n",
    "    sess.run(tf.global_variables_initializer())\n",
    "    \n",
    "    for step in range(step_number + 1):\n",
    "        for i in range(1, w_number + 1):\n",
    "            globals()['w{}_val'.format(i)] = sess.run([globals()['w{}'.format(i)]])\n",
    "        cost_val, yprime_val, y_val, x_val, _ = sess.run([cost, yprime, y, x, train])\n",
    "        if step % int(step_number / 5) == 0:\n",
    "    #         print(step, \"Cost: \", cost_val, \"\\nx: \", x_val,  \"yprime: \", yprime_val, \"y: \", y_val)\n",
    "            print(step, \"Cost: \", cost_val, \"\\n\")\n",
    "            print(\"w1: \", w1_val, \"w2: \", w2_val, \"w3: \", w3_val, \"w4: \", w4_val, \"w5: \", w5_val, \"w6: \", w6_val, \"\\n\")\n",
    "            if cost_val > 0.5:\n",
    "                step = 0\n",
    "            \n",
    "#         if cost_val == :\n",
    "#             break\n",
    "            \n",
    "            \n",
    "    def y(x):\n",
    "        answer = 1\n",
    "        for i in range(1, w_number + 1):\n",
    "            answer += globals()['w{}_val'.format(i)]*(x**i)\n",
    "        return answer[0]\n",
    "    \n",
    "    globals()['w{}x{}'.format(w_number, x_number)] = [x_val, y(x_val)]\n",
    "    plt.plot(x_val, y(x_val), '.')\n",
    "    plt.show()"
   ]
  },
  {
   "cell_type": "code",
   "execution_count": 7,
   "metadata": {
    "scrolled": true
   },
   "outputs": [
    {
     "name": "stdout",
     "output_type": "stream",
     "text": [
      "0 Cost:  1.3960433 \n",
      "\n",
      "w1:  [array([0.57665163], dtype=float32)] w2:  [array([1.6291932], dtype=float32)] w3:  [array([-0.05430273], dtype=float32)] w4:  [array([-0.00511152], dtype=float32)] w5:  [array([0.79915875], dtype=float32)] w6:  [array([-0.86129653], dtype=float32)] \n",
      "\n",
      "7000 Cost:  0.7365197 \n",
      "\n",
      "w1:  [array([0.62954104], dtype=float32)] w2:  [array([1.5819322], dtype=float32)] w3:  [array([-0.06912118], dtype=float32)] w4:  [array([-0.00300821], dtype=float32)] w5:  [array([0.7562794], dtype=float32)] w6:  [array([-0.82908183], dtype=float32)] \n",
      "\n",
      "8000 Cost:  0.7061575 \n",
      "\n",
      "w1:  [array([0.63768315], dtype=float32)] w2:  [array([1.5740087], dtype=float32)] w3:  [array([-0.06884307], dtype=float32)] w4:  [array([-0.00509103], dtype=float32)] w5:  [array([0.7538073], dtype=float32)] w6:  [array([-0.82778186], dtype=float32)] \n",
      "\n",
      "9000 Cost:  0.67853296 \n",
      "\n",
      "w1:  [array([0.64571786], dtype=float32)] w2:  [array([1.5661409], dtype=float32)] w3:  [array([-0.06841626], dtype=float32)] w4:  [array([-0.00724346], dtype=float32)] w5:  [array([0.75164527], dtype=float32)] w6:  [array([-0.82664394], dtype=float32)] \n",
      "\n",
      "10000 Cost:  0.6531117 \n",
      "\n",
      "w1:  [array([0.6536163], dtype=float32)] w2:  [array([1.5583793], dtype=float32)] w3:  [array([-0.06788941], dtype=float32)] w4:  [array([-0.00941591], dtype=float32)] w5:  [array([0.7497275], dtype=float32)] w6:  [array([-0.82560676], dtype=float32)] \n",
      "\n",
      "11000 Cost:  0.6295336 \n",
      "\n",
      "w1:  [array([0.66136354], dtype=float32)] w2:  [array([1.5507288], dtype=float32)] w3:  [array([-0.06729827], dtype=float32)] w4:  [array([-0.01157459], dtype=float32)] w5:  [array([0.74800843], dtype=float32)] w6:  [array([-0.8246345], dtype=float32)] \n",
      "\n",
      "12000 Cost:  0.60751796 \n",
      "\n",
      "w1:  [array([0.66894615], dtype=float32)] w2:  [array([1.5432117], dtype=float32)] w3:  [array([-0.06666906], dtype=float32)] w4:  [array([-0.01369618], dtype=float32)] w5:  [array([0.7464528], dtype=float32)] w6:  [array([-0.8236808], dtype=float32)] \n",
      "\n",
      "13000 Cost:  0.5869099 \n",
      "\n",
      "w1:  [array([0.6763608], dtype=float32)] w2:  [array([1.5358466], dtype=float32)] w3:  [array([-0.06602243], dtype=float32)] w4:  [array([-0.01576568], dtype=float32)] w5:  [array([0.74502856], dtype=float32)] w6:  [array([-0.82272714], dtype=float32)] \n",
      "\n",
      "14000 Cost:  0.5675321 \n",
      "\n",
      "w1:  [array([0.6836036], dtype=float32)] w2:  [array([1.5286242], dtype=float32)] w3:  [array([-0.06537423], dtype=float32)] w4:  [array([-0.01777261], dtype=float32)] w5:  [array([0.7437141], dtype=float32)] w6:  [array([-0.82177347], dtype=float32)] \n",
      "\n",
      "15000 Cost:  0.5492613 \n",
      "\n",
      "w1:  [array([0.69067293], dtype=float32)] w2:  [array([1.5215459], dtype=float32)] w3:  [array([-0.06473132], dtype=float32)] w4:  [array([-0.01970975], dtype=float32)] w5:  [array([0.7424931], dtype=float32)] w6:  [array([-0.8208198], dtype=float32)] \n",
      "\n",
      "16000 Cost:  0.5320028 \n",
      "\n",
      "w1:  [array([0.6975695], dtype=float32)] w2:  [array([1.5146171], dtype=float32)] w3:  [array([-0.06410494], dtype=float32)] w4:  [array([-0.02157304], dtype=float32)] w5:  [array([0.74134713], dtype=float32)] w6:  [array([-0.8198661], dtype=float32)] \n",
      "\n",
      "17000 Cost:  0.5156786 \n",
      "\n",
      "w1:  [array([0.7042952], dtype=float32)] w2:  [array([1.5078517], dtype=float32)] w3:  [array([-0.06350085], dtype=float32)] w4:  [array([-0.02336043], dtype=float32)] w5:  [array([0.74027], dtype=float32)] w6:  [array([-0.8188972], dtype=float32)] \n",
      "\n",
      "18000 Cost:  0.5002073 \n",
      "\n",
      "w1:  [array([0.71085125], dtype=float32)] w2:  [array([1.5012282], dtype=float32)] w3:  [array([-0.06292403], dtype=float32)] w4:  [array([-0.02507174], dtype=float32)] w5:  [array([0.73925424], dtype=float32)] w6:  [array([-0.8178839], dtype=float32)] \n",
      "\n",
      "19000 Cost:  0.48551604 \n",
      "\n",
      "w1:  [array([0.7172401], dtype=float32)] w2:  [array([1.4947454], dtype=float32)] w3:  [array([-0.06237771], dtype=float32)] w4:  [array([-0.0267074], dtype=float32)] w5:  [array([0.73828954], dtype=float32)] w6:  [array([-0.8168706], dtype=float32)] \n",
      "\n"
     ]
    },
    {
     "data": {
      "image/png": "[encoded data removed]",
      "text/plain": [
       "<Figure size 432x288 with 1 Axes>"
      ]
     },
     "metadata": {
      "needs_background": "light"
     },
     "output_type": "display_data"
    }
   ],
   "source": [
    "graph(6, 100, 30000)"
   ]
  },
  {
   "cell_type": "code",
   "execution_count": 17,
   "metadata": {
    "scrolled": true
   },
   "outputs": [
    {
     "name": "stdout",
     "output_type": "stream",
     "text": [
      "0 Cost:  448.15488 \n",
      "\n",
      "w1:  [array([-1.3892084], dtype=float32)] w2:  [array([0.279662], dtype=float32)] w3:  [array([1.1930159], dtype=float32)] w4:  [array([1.3350328], dtype=float32)] w5:  [array([0.45067677], dtype=float32)] w6:  [array([-0.16046168], dtype=float32)] \n",
      "\n",
      "6000 Cost:  6.4915977 \n",
      "\n",
      "w1:  [array([-1.3219458], dtype=float32)] w2:  [array([0.21468627], dtype=float32)] w3:  [array([0.9782697], dtype=float32)] w4:  [array([1.255342], dtype=float32)] w5:  [array([0.15731655], dtype=float32)] w6:  [array([-0.24007322], dtype=float32)] \n",
      "\n",
      "12000 Cost:  4.327856 \n",
      "\n",
      "w1:  [array([-1.2048113], dtype=float32)] w2:  [array([0.1368192], dtype=float32)] w3:  [array([0.91477984], dtype=float32)] w4:  [array([1.1950907], dtype=float32)] w5:  [array([0.05986371], dtype=float32)] w6:  [array([-0.2791577], dtype=float32)] \n",
      "\n",
      "18000 Cost:  3.3406875 \n",
      "\n",
      "w1:  [array([-1.0877081], dtype=float32)] w2:  [array([0.06894215], dtype=float32)] w3:  [array([0.8787132], dtype=float32)] w4:  [array([1.1466672], dtype=float32)] w5:  [array([-0.0040072], dtype=float32)] w6:  [array([-0.3083848], dtype=float32)] \n",
      "\n",
      "24000 Cost:  2.7224035 \n",
      "\n",
      "w1:  [array([-0.97773975], dtype=float32)] w2:  [array([0.01287475], dtype=float32)] w3:  [array([0.8529699], dtype=float32)] w4:  [array([1.1090693], dtype=float32)] w5:  [array([-0.05357239], dtype=float32)] w6:  [array([-0.3297263], dtype=float32)] \n",
      "\n",
      "30000 Cost:  2.285628 \n",
      "\n",
      "w1:  [array([-0.8761078], dtype=float32)] w2:  [array([-0.03275372], dtype=float32)] w3:  [array([0.83193874], dtype=float32)] w4:  [array([1.080132], dtype=float32)] w5:  [array([-0.09532951], dtype=float32)] w6:  [array([-0.3451644], dtype=float32)] \n",
      "\n"
     ]
    },
    {
     "data": {
      "image/png": "[encoded data removed]",
      "text/plain": [
       "<Figure size 432x288 with 1 Axes>"
      ]
     },
     "metadata": {
      "needs_background": "light"
     },
     "output_type": "display_data"
    }
   ],
   "source": [
    "graph(60, 1000, 30000)"
   ]
  },
  {
   "cell_type": "code",
   "execution_count": 10,
   "metadata": {},
   "outputs": [
    {
     "name": "stdout",
     "output_type": "stream",
     "text": [
      "0 Cost:  1.5869613 \n",
      "\n",
      "w1:  [array([1.0940142], dtype=float32)] w2:  [array([-0.06924665], dtype=float32)] w3:  [array([-1.0224724], dtype=float32)] w4:  [array([-0.30702692], dtype=float32)] w5:  [array([0.3478922], dtype=float32)] w6:  [array([-0.14387228], dtype=float32)] \n",
      "\n",
      "7000 Cost:  0.6092913 \n",
      "\n",
      "w1:  [array([1.0928969], dtype=float32)] w2:  [array([0.0236393], dtype=float32)] w3:  [array([-0.9611079], dtype=float32)] w4:  [array([-0.1672629], dtype=float32)] w5:  [array([0.42777887], dtype=float32)] w6:  [array([0.02025731], dtype=float32)] \n",
      "\n",
      "8000 Cost:  0.5447775 \n",
      "\n",
      "w1:  [array([1.0945926], dtype=float32)] w2:  [array([0.03201607], dtype=float32)] w3:  [array([-0.9519944], dtype=float32)] w4:  [array([-0.15472732], dtype=float32)] w5:  [array([0.4387714], dtype=float32)] w6:  [array([0.03477284], dtype=float32)] \n",
      "\n",
      "9000 Cost:  0.48937094 \n",
      "\n",
      "w1:  [array([1.0964547], dtype=float32)] w2:  [array([0.03965736], dtype=float32)] w3:  [array([-0.9430747], dtype=float32)] w4:  [array([-0.14337547], dtype=float32)] w5:  [array([0.44938907], dtype=float32)] w6:  [array([0.04783986], dtype=float32)] \n",
      "\n",
      "18000 Cost:  0.22540699 \n",
      "\n",
      "w1:  [array([1.1148155], dtype=float32)] w2:  [array([0.08785544], dtype=float32)] w3:  [array([-0.8753969], dtype=float32)] w4:  [array([-0.07623666], dtype=float32)] w5:  [array([0.5251486], dtype=float32)] w6:  [array([0.1218996], dtype=float32)] \n",
      "\n",
      "27000 Cost:  0.14281033 \n",
      "\n",
      "w1:  [array([1.1293682], dtype=float32)] w2:  [array([0.118114], dtype=float32)] w3:  [array([-0.8301985], dtype=float32)] w4:  [array([-0.04245569], dtype=float32)] w5:  [array([0.5689803], dtype=float32)] w6:  [array([0.15358551], dtype=float32)] \n",
      "\n"
     ]
    },
    {
     "data": {
      "image/png": "[encoded data removed]",
      "text/plain": [
       "<Figure size 432x288 with 1 Axes>"
      ]
     },
     "metadata": {
      "needs_background": "light"
     },
     "output_type": "display_data"
    }
   ],
   "source": [
    "graph(6, 10000, 30000)"
   ]
  },
  {
   "cell_type": "code",
   "execution_count": 11,
   "metadata": {
    "scrolled": true
   },
   "outputs": [
    {
     "name": "stdout",
     "output_type": "stream",
     "text": [
      "0 Cost:  9.938731 \n",
      "\n",
      "w1:  [array([-0.88590163], dtype=float32)] w2:  [array([0.9088405], dtype=float32)] w3:  [array([0.34345934], dtype=float32)] w4:  [array([-0.23862648], dtype=float32)] w5:  [array([-1.0183637], dtype=float32)] w6:  [array([-0.34100154], dtype=float32)] \n",
      "\n",
      "7000 Cost:  2.948811 \n",
      "\n",
      "w1:  [array([-0.566962], dtype=float32)] w2:  [array([0.7333345], dtype=float32)] w3:  [array([0.713893], dtype=float32)] w4:  [array([-0.3396932], dtype=float32)] w5:  [array([-0.6103083], dtype=float32)] w6:  [array([-0.394891], dtype=float32)] \n",
      "\n",
      "8000 Cost:  2.6223478 \n",
      "\n",
      "w1:  [array([-0.53627574], dtype=float32)] w2:  [array([0.7221504], dtype=float32)] w3:  [array([0.74552464], dtype=float32)] w4:  [array([-0.33951095], dtype=float32)] w5:  [array([-0.5765296], dtype=float32)] w6:  [array([-0.38763973], dtype=float32)] \n",
      "\n",
      "9000 Cost:  2.3548038 \n",
      "\n",
      "w1:  [array([-0.5078482], dtype=float32)] w2:  [array([0.71277916], dtype=float32)] w3:  [array([0.7738231], dtype=float32)] w4:  [array([-0.33764166], dtype=float32)] w5:  [array([-0.5466257], dtype=float32)] w6:  [array([-0.37879393], dtype=float32)] \n",
      "\n",
      "10000 Cost:  2.1324496 \n",
      "\n",
      "w1:  [array([-0.48137468], dtype=float32)] w2:  [array([0.7048897], dtype=float32)] w3:  [array([0.7992145], dtype=float32)] w4:  [array([-0.33446676], dtype=float32)] w5:  [array([-0.52010983], dtype=float32)] w6:  [array([-0.36876458], dtype=float32)] \n",
      "\n",
      "11000 Cost:  1.9452516 \n",
      "\n",
      "w1:  [array([-0.45659873], dtype=float32)] w2:  [array([0.6982101], dtype=float32)] w3:  [array([0.8220614], dtype=float32)] w4:  [array([-0.33029854], dtype=float32)] w5:  [array([-0.4965654], dtype=float32)] w6:  [array([-0.35788515], dtype=float32)] \n",
      "\n",
      "12000 Cost:  1.7857924 \n",
      "\n",
      "w1:  [array([-0.43330306], dtype=float32)] w2:  [array([0.6925142], dtype=float32)] w3:  [array([0.84267443], dtype=float32)] w4:  [array([-0.32539067], dtype=float32)] w5:  [array([-0.4756351], dtype=float32)] w6:  [array([-0.34642556], dtype=float32)] \n",
      "\n",
      "13000 Cost:  1.6485347 \n",
      "\n",
      "w1:  [array([-0.411304], dtype=float32)] w2:  [array([0.6876169], dtype=float32)] w3:  [array([0.86131907], dtype=float32)] w4:  [array([-0.31994942], dtype=float32)] w5:  [array([-0.45701218], dtype=float32)] w6:  [array([-0.33460277], dtype=float32)] \n",
      "\n",
      "14000 Cost:  1.5292909 \n",
      "\n",
      "w1:  [array([-0.3904461], dtype=float32)] w2:  [array([0.68336535], dtype=float32)] w3:  [array([0.8782231], dtype=float32)] w4:  [array([-0.31414127], dtype=float32)] w5:  [array([-0.4404317], dtype=float32)] w6:  [array([-0.32259107], dtype=float32)] \n",
      "\n",
      "15000 Cost:  1.4248428 \n",
      "\n",
      "w1:  [array([-0.370597], dtype=float32)] w2:  [array([0.67963433], dtype=float32)] w3:  [array([0.8935838], dtype=float32)] w4:  [array([-0.30809984], dtype=float32)] w5:  [array([-0.42566466], dtype=float32)] w6:  [array([-0.31052345], dtype=float32)] \n",
      "\n",
      "16000 Cost:  1.3327081 \n",
      "\n",
      "w1:  [array([-0.3516445], dtype=float32)] w2:  [array([0.67631936], dtype=float32)] w3:  [array([0.90757024], dtype=float32)] w4:  [array([-0.30193144], dtype=float32)] w5:  [array([-0.41251275], dtype=float32)] w6:  [array([-0.2985178], dtype=float32)] \n",
      "\n",
      "17000 Cost:  1.2509211 \n",
      "\n",
      "w1:  [array([-0.3334924], dtype=float32)] w2:  [array([0.67333806], dtype=float32)] w3:  [array([0.9203299], dtype=float32)] w4:  [array([-0.29573256], dtype=float32)] w5:  [array([-0.40080306], dtype=float32)] w6:  [array([-0.286653], dtype=float32)] \n",
      "\n",
      "18000 Cost:  1.1779022 \n",
      "\n",
      "w1:  [array([-0.31605893], dtype=float32)] w2:  [array([0.6706213], dtype=float32)] w3:  [array([0.93198925], dtype=float32)] w4:  [array([-0.28954825], dtype=float32)] w5:  [array([-0.39038512], dtype=float32)] w6:  [array([-0.27499464], dtype=float32)] \n",
      "\n",
      "19000 Cost:  1.1123871 \n",
      "\n",
      "w1:  [array([-0.29927358], dtype=float32)] w2:  [array([0.6681115], dtype=float32)] w3:  [array([0.942661], dtype=float32)] w4:  [array([-0.28344288], dtype=float32)] w5:  [array([-0.38112664], dtype=float32)] w6:  [array([-0.26359197], dtype=float32)] \n",
      "\n",
      "20000 Cost:  1.0533361 \n",
      "\n",
      "w1:  [array([-0.2830758], dtype=float32)] w2:  [array([0.6657661], dtype=float32)] w3:  [array([0.9524416], dtype=float32)] w4:  [array([-0.2774533], dtype=float32)] w5:  [array([-0.372912], dtype=float32)] w6:  [array([-0.25248066], dtype=float32)] \n",
      "\n",
      "21000 Cost:  0.99988794 \n",
      "\n",
      "w1:  [array([-0.2674135], dtype=float32)] w2:  [array([0.66354376], dtype=float32)] w3:  [array([0.9614167], dtype=float32)] w4:  [array([-0.27161115], dtype=float32)] w5:  [array([-0.36563876], dtype=float32)] w6:  [array([-0.24168652], dtype=float32)] \n",
      "\n",
      "22000 Cost:  0.95132315 \n",
      "\n",
      "w1:  [array([-0.25224137], dtype=float32)] w2:  [array([0.66142225], dtype=float32)] w3:  [array([0.9696618], dtype=float32)] w4:  [array([-0.2659375], dtype=float32)] w5:  [array([-0.35921684], dtype=float32)] w6:  [array([-0.23122592], dtype=float32)] \n",
      "\n",
      "23000 Cost:  0.9070338 \n",
      "\n",
      "w1:  [array([-0.23752043], dtype=float32)] w2:  [array([0.6593707], dtype=float32)] w3:  [array([0.9772419], dtype=float32)] w4:  [array([-0.26044828], dtype=float32)] w5:  [array([-0.35356587], dtype=float32)] w6:  [array([-0.22110906], dtype=float32)] \n",
      "\n",
      "24000 Cost:  0.86650157 \n",
      "\n",
      "w1:  [array([-0.22321635], dtype=float32)] w2:  [array([0.65737283], dtype=float32)] w3:  [array([0.9842174], dtype=float32)] w4:  [array([-0.2551525], dtype=float32)] w5:  [array([-0.348615], dtype=float32)] w6:  [array([-0.21134044], dtype=float32)] \n",
      "\n",
      "25000 Cost:  0.8292834 \n",
      "\n",
      "w1:  [array([-0.20929919], dtype=float32)] w2:  [array([0.6554059], dtype=float32)] w3:  [array([0.99064016], dtype=float32)] w4:  [array([-0.25005695], dtype=float32)] w5:  [array([-0.34430006], dtype=float32)] w6:  [array([-0.20192042], dtype=float32)] \n",
      "\n",
      "26000 Cost:  0.7950036 \n",
      "\n",
      "w1:  [array([-0.19574292], dtype=float32)] w2:  [array([0.65348303], dtype=float32)] w3:  [array([0.996556], dtype=float32)] w4:  [array([-0.24516355], dtype=float32)] w5:  [array([-0.3405644], dtype=float32)] w6:  [array([-0.19284576], dtype=float32)] \n",
      "\n",
      "27000 Cost:  0.7633291 \n",
      "\n",
      "w1:  [array([-0.18252389], dtype=float32)] w2:  [array([0.6515757], dtype=float32)] w3:  [array([1.0020074], dtype=float32)] w4:  [array([-0.2404733], dtype=float32)] w5:  [array([-0.33735633], dtype=float32)] w6:  [array([-0.18411149], dtype=float32)] \n",
      "\n",
      "28000 Cost:  0.73397 \n",
      "\n",
      "w1:  [array([-0.16962191], dtype=float32)] w2:  [array([0.64966834], dtype=float32)] w3:  [array([1.0070355], dtype=float32)] w4:  [array([-0.23598312], dtype=float32)] w5:  [array([-0.3346302], dtype=float32)] w6:  [array([-0.17570935], dtype=float32)] \n",
      "\n",
      "29000 Cost:  0.7066833 \n",
      "\n",
      "w1:  [array([-0.15701899], dtype=float32)] w2:  [array([0.647761], dtype=float32)] w3:  [array([1.0116645], dtype=float32)] w4:  [array([-0.23168916], dtype=float32)] w5:  [array([-0.3323443], dtype=float32)] w6:  [array([-0.16763], dtype=float32)] \n",
      "\n",
      "30000 Cost:  0.68124735 \n",
      "\n",
      "w1:  [array([-0.14469868], dtype=float32)] w2:  [array([0.64585364], dtype=float32)] w3:  [array([1.015934], dtype=float32)] w4:  [array([-0.22758648], dtype=float32)] w5:  [array([-0.33046103], dtype=float32)] w6:  [array([-0.15986331], dtype=float32)] \n",
      "\n"
     ]
    },
    {
     "data": {
      "image/png": "[encoded data removed]",
      "text/plain": [
       "<Figure size 432x288 with 1 Axes>"
      ]
     },
     "metadata": {
      "needs_background": "light"
     },
     "output_type": "display_data"
    }
   ],
   "source": [
    "graph(6, 100000, 30000)"
   ]
  },
  {
   "cell_type": "code",
   "execution_count": 12,
   "metadata": {},
   "outputs": [
    {
     "data": {
      "image/png": "[encoded data removed]",
      "text/plain": [
       "<Figure size 432x288 with 1 Axes>"
      ]
     },
     "metadata": {
      "needs_background": "light"
     },
     "output_type": "display_data"
    }
   ],
   "source": [
    "x = np.array([i for i in range(-10, 10, 1)])\n",
    "plt.plot(0.1*x, np.exp(0.1*x), '.b', label = 'exp')\n",
    "plt.plot(w6x100[0],w6x100[1], '.r', label = 'w=6, x=100')\n",
    "plt.plot(w6x1000[0],w6x1000[1], '.g', label = 'w=6, x=1000')\n",
    "plt.plot(w6x10000[0],w6x10000[1], '.c', label = 'w=6, x=10000')\n",
    "plt.plot(w6x100000[0],w6x100000[1], '.m', label = 'w=6, x=100000')\n",
    "plt.legend(loc = 'upper right', fontsize = 'xx-small')\n",
    "\n",
    "plt.show()"
   ]
  },
  {
   "cell_type": "code",
   "execution_count": null,
   "metadata": {},
   "outputs": [],
   "source": []
  }
 ],
 "metadata": {
  "kernelspec": {
   "display_name": "Python 3",
   "language": "python",
   "name": "python3"
  },
  "language_info": {
   "codemirror_mode": {
    "name": "ipython",
    "version": 3
   },
   "file_extension": ".py",
   "mimetype": "text/x-python",
   "name": "python",
   "nbconvert_exporter": "python",
   "pygments_lexer": "ipython3",
   "version": "3.7.6"
  }
 },
 "nbformat": 4,
 "nbformat_minor": 2
}
