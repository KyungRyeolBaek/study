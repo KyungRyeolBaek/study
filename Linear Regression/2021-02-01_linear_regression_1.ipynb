{
 "cells": [
  {
   "cell_type": "code",
   "execution_count": 3,
   "metadata": {},
   "outputs": [
    {
     "name": "stdout",
     "output_type": "stream",
     "text": [
      "WARNING:tensorflow:From C:\\Users\\forev\\AppData\\Roaming\\Python\\Python37\\site-packages\\tensorflow\\python\\compat\\v2_compat.py:96: disable_resource_variables (from tensorflow.python.ops.variable_scope) is deprecated and will be removed in a future version.\n",
      "Instructions for updating:\n",
      "non-resource variables are not supported in the long term\n"
     ]
    }
   ],
   "source": [
    "import tensorflow as tf\n",
    "import numpy as np\n",
    "import matplotlib.pyplot as plt\n",
    "\n",
    "### 버젼 2. tensorflow 라면 아래 코드 필요\n",
    "import tensorflow.compat.v1 as tf\n",
    "\n",
    "tf.disable_v2_behavior()"
   ]
  },
  {
   "cell_type": "code",
   "execution_count": 4,
   "metadata": {},
   "outputs": [
    {
     "data": {
      "text/plain": [
       "'2.2.0'"
      ]
     },
     "execution_count": 4,
     "metadata": {},
     "output_type": "execute_result"
    }
   ],
   "source": [
    "tf.__version__"
   ]
  },
  {
   "cell_type": "code",
   "execution_count": 9,
   "metadata": {},
   "outputs": [],
   "source": [
    "def graph(w_number, x_number, step_number):\n",
    "    y = 1\n",
    "    yprime = 0\n",
    "    x = tf.Variable(tf.random_uniform([x_number], minval = -1, maxval = 1), name = 'x')\n",
    "    \n",
    "    for i in range(1, w_number + 1):\n",
    "        globals()['w{}'.format(i)] = tf.Variable(tf.random_normal([1]), name = 'weight{}'.format(i))\n",
    "        y += globals()['w{}'.format(i)]*(x**i)  # y = 1 + w1*(x) + w2*(x**2) + w3*(x**3) + w4*(x**4) + w5*(x**5) + w6*(x**6)\n",
    "        yprime += i*globals()['w{}'.format(i)]*(x**(i-1))  # yprime = w1 + 2*w2*x + 3*w3*(x**2) + 4*w4*(x**3) + 5*w5*(x**4) + 6*w6*(x**5)\n",
    "    \n",
    "    cost = tf.reduce_mean(tf.square(yprime - y))\n",
    "    optimizer = tf.train.GradientDescentOptimizer(learning_rate = 1e-5)\n",
    "    train = optimizer.minimize(cost)\n",
    "    \n",
    "    sess = tf.Session()\n",
    "    sess.run(tf.global_variables_initializer())\n",
    "    cost_val = 1\n",
    "    step = 0\n",
    "    while cost_val > 0.5:  \n",
    "        for i in range(1, w_number + 1):\n",
    "            globals()['w{}_val'.format(i)] = sess.run([globals()['w{}'.format(i)]])\n",
    "        cost_val, yprime_val, y_val, x_val, _ = sess.run([cost, yprime, y, x, train])\n",
    "        if step % int(step_number / 5) == 0:\n",
    "    #         print(step, \"Cost: \", cost_val, \"\\nx: \", x_val,  \"yprime: \", yprime_val, \"y: \", y_val)\n",
    "            print(step, \"Cost: \", cost_val, \"\\n\")\n",
    "            print(\"w1: \", w1_val, \"w2: \", w2_val, \"w3: \", w3_val, \"w4: \", w4_val, \"w5: \", w5_val, \"w6: \", w6_val, \"\\n\")\n",
    "        step += 1\n",
    "        \n",
    "#     for step in range(step_number + 1):\n",
    "#         for i in range(1, w_number + 1):\n",
    "#             globals()['w{}_val'.format(i)] = sess.run([globals()['w{}'.format(i)]])\n",
    "#         cost_val, yprime_val, y_val, x_val, _ = sess.run([cost, yprime, y, x, train])\n",
    "#         if step % int(step_number / 5) == 0:\n",
    "#     #         print(step, \"Cost: \", cost_val, \"\\nx: \", x_val,  \"yprime: \", yprime_val, \"y: \", y_val)\n",
    "#             print(step, \"Cost: \", cost_val, \"\\n\")\n",
    "#             print(\"w1: \", w1_val, \"w2: \", w2_val, \"w3: \", w3_val, \"w4: \", w4_val, \"w5: \", w5_val, \"w6: \", w6_val, \"\\n\")\n",
    "#             if cost_val > 0.5:\n",
    "#                 step = 0\n",
    "            \n",
    "# #         if cost_val == :\n",
    "# #             break\n",
    "            \n",
    "            \n",
    "    def y(x):\n",
    "        answer = 1\n",
    "        for i in range(1, w_number + 1):\n",
    "            answer += globals()['w{}_val'.format(i)]*(x**i)\n",
    "        return answer[0]\n",
    "    \n",
    "    globals()['w{}x{}'.format(w_number, x_number)] = [x_val, y(x_val)]\n",
    "    plt.plot(x_val, y(x_val), '.')\n",
    "    plt.show()"
   ]
  },
  {
   "cell_type": "code",
   "execution_count": 10,
   "metadata": {
    "scrolled": true
   },
   "outputs": [
    {
     "name": "stdout",
     "output_type": "stream",
     "text": [
      "0 Cost:  33.71699 \n",
      "\n",
      "w1:  [array([-0.58037186], dtype=float32)] w2:  [array([-0.22550867], dtype=float32)] w3:  [array([1.0945385], dtype=float32)] w4:  [array([-0.810589], dtype=float32)] w5:  [array([-0.09983978], dtype=float32)] w6:  [array([-2.1416488], dtype=float32)] \n",
      "\n",
      "6000 Cost:  3.2457647 \n",
      "\n",
      "w1:  [array([-0.60702], dtype=float32)] w2:  [array([0.0201622], dtype=float32)] w3:  [array([1.0721607], dtype=float32)] w4:  [array([-0.50523466], dtype=float32)] w5:  [array([-0.08342585], dtype=float32)] w6:  [array([-1.8438683], dtype=float32)] \n",
      "\n",
      "12000 Cost:  1.9637333 \n",
      "\n",
      "w1:  [array([-0.55359167], dtype=float32)] w2:  [array([0.12101801], dtype=float32)] w3:  [array([1.1013395], dtype=float32)] w4:  [array([-0.40064642], dtype=float32)] w5:  [array([-0.05183863], dtype=float32)] w6:  [array([-1.7653971], dtype=float32)] \n",
      "\n",
      "18000 Cost:  1.4682404 \n",
      "\n",
      "w1:  [array([-0.4882824], dtype=float32)] w2:  [array([0.18755953], dtype=float32)] w3:  [array([1.1313328], dtype=float32)] w4:  [array([-0.33436382], dtype=float32)] w5:  [array([-0.02717503], dtype=float32)] w6:  [array([-1.719244], dtype=float32)] \n",
      "\n",
      "24000 Cost:  1.1798167 \n",
      "\n",
      "w1:  [array([-0.42179215], dtype=float32)] w2:  [array([0.23768395], dtype=float32)] w3:  [array([1.1583543], dtype=float32)] w4:  [array([-0.28563184], dtype=float32)] w5:  [array([-0.00759149], dtype=float32)] w6:  [array([-1.6868018], dtype=float32)] \n",
      "\n",
      "30000 Cost:  0.981282 \n",
      "\n",
      "w1:  [array([-0.3576728], dtype=float32)] w2:  [array([0.27817243], dtype=float32)] w3:  [array([1.1817517], dtype=float32)] w4:  [array([-0.2470989], dtype=float32)] w5:  [array([0.00810488], dtype=float32)] w6:  [array([-1.6619793], dtype=float32)] \n",
      "\n",
      "36000 Cost:  0.83317345 \n",
      "\n",
      "w1:  [array([-0.29719663], dtype=float32)] w2:  [array([0.31229], dtype=float32)] w3:  [array([1.2016258], dtype=float32)] w4:  [array([-0.21531187], dtype=float32)] w5:  [array([0.02072071], dtype=float32)] w6:  [array([-1.6420368], dtype=float32)] \n",
      "\n",
      "42000 Cost:  0.7177829 \n",
      "\n",
      "w1:  [array([-0.2407475], dtype=float32)] w2:  [array([0.34183148], dtype=float32)] w3:  [array([1.2182355], dtype=float32)] w4:  [array([-0.18837857], dtype=float32)] w5:  [array([0.03084018], dtype=float32)] w6:  [array([-1.6255246], dtype=float32)] \n",
      "\n",
      "48000 Cost:  0.6254232 \n",
      "\n",
      "w1:  [array([-0.18831548], dtype=float32)] w2:  [array([0.367873], dtype=float32)] w3:  [array([1.2319763], dtype=float32)] w4:  [array([-0.16515146], dtype=float32)] w5:  [array([0.03890428], dtype=float32)] w6:  [array([-1.6115721], dtype=float32)] \n",
      "\n",
      "54000 Cost:  0.5501244 \n",
      "\n",
      "w1:  [array([-0.13971129], dtype=float32)] w2:  [array([0.3911073], dtype=float32)] w3:  [array([1.2431477], dtype=float32)] w4:  [array([-0.14487979], dtype=float32)] w5:  [array([0.04525855], dtype=float32)] w6:  [array([-1.5995803], dtype=float32)] \n",
      "\n"
     ]
    },
    {
     "data": {
      "image/png": "[encoded data removed]",
      "text/plain": [
       "<Figure size 432x288 with 1 Axes>"
      ]
     },
     "metadata": {
      "needs_background": "light"
     },
     "output_type": "display_data"
    }
   ],
   "source": [
    "graph(6, 100, 30000)"
   ]
  },
  {
   "cell_type": "code",
   "execution_count": 16,
   "metadata": {
    "scrolled": true
   },
   "outputs": [
    {
     "name": "stdout",
     "output_type": "stream",
     "text": [
      "0 Cost:  766.903 \n",
      "\n",
      "w1:  [array([-0.7773928], dtype=float32)] w2:  [array([-0.99589485], dtype=float32)] w3:  [array([-1.4645568], dtype=float32)] w4:  [array([-1.6128476], dtype=float32)] w5:  [array([-0.3411711], dtype=float32)] w6:  [array([0.5407684], dtype=float32)] \n",
      "\n",
      "6000 Cost:  5.1525645 \n",
      "\n",
      "w1:  [array([-0.6095145], dtype=float32)] w2:  [array([-0.9223852], dtype=float32)] w3:  [array([-1.2736773], dtype=float32)] w4:  [array([-1.5130422], dtype=float32)] w5:  [array([-0.16530144], dtype=float32)] w6:  [array([0.62570703], dtype=float32)] \n",
      "\n",
      "12000 Cost:  3.8283365 \n",
      "\n",
      "w1:  [array([-0.48669845], dtype=float32)] w2:  [array([-0.8399595], dtype=float32)] w3:  [array([-1.1698376], dtype=float32)] w4:  [array([-1.4160943], dtype=float32)] w5:  [array([-0.09008553], dtype=float32)] w6:  [array([0.70590305], dtype=float32)] \n",
      "\n",
      "18000 Cost:  3.0966065 \n",
      "\n",
      "w1:  [array([-0.37776995], dtype=float32)] w2:  [array([-0.7706566], dtype=float32)] w3:  [array([-1.0911123], dtype=float32)] w4:  [array([-1.3415588], dtype=float32)] w5:  [array([-0.04096018], dtype=float32)] w6:  [array([0.7630458], dtype=float32)] \n",
      "\n",
      "24000 Cost:  2.6051695 \n",
      "\n",
      "w1:  [array([-0.27948025], dtype=float32)] w2:  [array([-0.71034944], dtype=float32)] w3:  [array([-1.0280505], dtype=float32)] w4:  [array([-1.2819023], dtype=float32)] w5:  [array([-0.00701776], dtype=float32)] w6:  [array([0.80510247], dtype=float32)] \n",
      "\n",
      "30000 Cost:  2.2336397 \n",
      "\n",
      "w1:  [array([-0.19021015], dtype=float32)] w2:  [array([-0.6557361], dtype=float32)] w3:  [array([-0.97539604], dtype=float32)] w4:  [array([-1.2312201], dtype=float32)] w5:  [array([0.01802362], dtype=float32)] w6:  [array([0.83861536], dtype=float32)] \n",
      "\n",
      "36000 Cost:  1.9388926 \n",
      "\n",
      "w1:  [array([-0.10873129], dtype=float32)] w2:  [array([-0.6053328], dtype=float32)] w3:  [array([-0.93050545], dtype=float32)] w4:  [array([-1.1868691], dtype=float32)] w5:  [array([0.03700333], dtype=float32)] w6:  [array([0.8663711], dtype=float32)] \n",
      "\n",
      "42000 Cost:  1.6989176 \n",
      "\n",
      "w1:  [array([-0.03405028], dtype=float32)] w2:  [array([-0.5582296], dtype=float32)] w3:  [array([-0.89157844], dtype=float32)] w4:  [array([-1.1472014], dtype=float32)] w5:  [array([0.051768], dtype=float32)] w6:  [array([0.8901661], dtype=float32)] \n",
      "\n",
      "48000 Cost:  1.5025188 \n",
      "\n",
      "w1:  [array([0.03467132], dtype=float32)] w2:  [array([-0.5140902], dtype=float32)] w3:  [array([-0.8576268], dtype=float32)] w4:  [array([-1.1116287], dtype=float32)] w5:  [array([0.06308455], dtype=float32)] w6:  [array([0.9105032], dtype=float32)] \n",
      "\n",
      "54000 Cost:  1.3376532 \n",
      "\n",
      "w1:  [array([0.09813669], dtype=float32)] w2:  [array([-0.47249836], dtype=float32)] w3:  [array([-0.82767063], dtype=float32)] w4:  [array([-1.079413], dtype=float32)] w5:  [array([0.07181978], dtype=float32)] w6:  [array([0.9280721], dtype=float32)] \n",
      "\n",
      "60000 Cost:  1.1975042 \n",
      "\n",
      "w1:  [array([0.15692258], dtype=float32)] w2:  [array([-0.43317667], dtype=float32)] w3:  [array([-0.8010249], dtype=float32)] w4:  [array([-1.0500894], dtype=float32)] w5:  [array([0.07852513], dtype=float32)] w6:  [array([0.94327956], dtype=float32)] \n",
      "\n",
      "66000 Cost:  1.076492 \n",
      "\n",
      "w1:  [array([0.21150371], dtype=float32)] w2:  [array([-0.39581293], dtype=float32)] w3:  [array([-0.77709144], dtype=float32)] w4:  [array([-1.0231358], dtype=float32)] w5:  [array([0.08373758], dtype=float32)] w6:  [array([0.95663834], dtype=float32)] \n",
      "\n",
      "72000 Cost:  0.9712378 \n",
      "\n",
      "w1:  [array([0.26228204], dtype=float32)] w2:  [array([-0.3601859], dtype=float32)] w3:  [array([-0.7554335], dtype=float32)] w4:  [array([-0.9981832], dtype=float32)] w5:  [array([0.08780351], dtype=float32)] w6:  [array([0.96851987], dtype=float32)] \n",
      "\n",
      "78000 Cost:  0.87925345 \n",
      "\n",
      "w1:  [array([0.3096106], dtype=float32)] w2:  [array([-0.32615522], dtype=float32)] w3:  [array([-0.73572344], dtype=float32)] w4:  [array([-0.97496116], dtype=float32)] w5:  [array([0.09095971], dtype=float32)] w6:  [array([0.97915536], dtype=float32)] \n",
      "\n",
      "84000 Cost:  0.7982519 \n",
      "\n",
      "w1:  [array([0.3538086], dtype=float32)] w2:  [array([-0.2936186], dtype=float32)] w3:  [array([-0.71768534], dtype=float32)] w4:  [array([-0.9532925], dtype=float32)] w5:  [array([0.09340784], dtype=float32)] w6:  [array([0.98873895], dtype=float32)] \n",
      "\n",
      "90000 Cost:  0.7267843 \n",
      "\n",
      "w1:  [array([0.39514747], dtype=float32)] w2:  [array([-0.26248354], dtype=float32)] w3:  [array([-0.70110786], dtype=float32)] w4:  [array([-0.9330574], dtype=float32)] w5:  [array([0.09526804], dtype=float32)] w6:  [array([0.9973488], dtype=float32)] \n",
      "\n",
      "96000 Cost:  0.6632261 \n",
      "\n",
      "w1:  [array([0.43387336], dtype=float32)] w2:  [array([-0.23267528], dtype=float32)] w3:  [array([-0.68582326], dtype=float32)] w4:  [array([-0.9141179], dtype=float32)] w5:  [array([0.096656], dtype=float32)] w6:  [array([1.0051227], dtype=float32)] \n",
      "\n",
      "102000 Cost:  0.60673827 \n",
      "\n",
      "w1:  [array([0.47020897], dtype=float32)] w2:  [array([-0.20413111], dtype=float32)] w3:  [array([-0.6716471], dtype=float32)] w4:  [array([-0.8964004], dtype=float32)] w5:  [array([0.09765646], dtype=float32)] w6:  [array([1.012053], dtype=float32)] \n",
      "\n",
      "108000 Cost:  0.55620384 \n",
      "\n",
      "w1:  [array([0.5043492], dtype=float32)] w2:  [array([-0.176777], dtype=float32)] w3:  [array([-0.6584501], dtype=float32)] w4:  [array([-0.8797959], dtype=float32)] w5:  [array([0.09835041], dtype=float32)] w6:  [array([1.0182784], dtype=float32)] \n",
      "\n",
      "114000 Cost:  0.5109151 \n",
      "\n",
      "w1:  [array([0.5364492], dtype=float32)] w2:  [array([-0.15054613], dtype=float32)] w3:  [array([-0.64610636], dtype=float32)] w4:  [array([-0.8642068], dtype=float32)] w5:  [array([0.09883315], dtype=float32)] w6:  [array([1.023875], dtype=float32)] \n",
      "\n"
     ]
    },
    {
     "data": {
      "image/png": "[encoded data removed]",
      "text/plain": [
       "<Figure size 432x288 with 1 Axes>"
      ]
     },
     "metadata": {
      "needs_background": "light"
     },
     "output_type": "display_data"
    }
   ],
   "source": [
    "graph(60, 1000, 30000)"
   ]
  },
  {
   "cell_type": "code",
   "execution_count": 13,
   "metadata": {},
   "outputs": [
    {
     "name": "stdout",
     "output_type": "stream",
     "text": [
      "0 Cost:  5.955911 \n",
      "\n",
      "w1:  [array([-0.8499209], dtype=float32)] w2:  [array([-0.5191504], dtype=float32)] w3:  [array([-0.16329242], dtype=float32)] w4:  [array([-0.0966441], dtype=float32)] w5:  [array([0.70631886], dtype=float32)] w6:  [array([1.2921201], dtype=float32)] \n",
      "\n",
      "6000 Cost:  2.4450593 \n",
      "\n",
      "w1:  [array([-0.65904325], dtype=float32)] w2:  [array([-0.66394854], dtype=float32)] w3:  [array([-0.07249316], dtype=float32)] w4:  [array([-0.31712848], dtype=float32)] w5:  [array([0.74394363], dtype=float32)] w6:  [array([1.0155576], dtype=float32)] \n",
      "\n",
      "12000 Cost:  1.8042209 \n",
      "\n",
      "w1:  [array([-0.5455108], dtype=float32)] w2:  [array([-0.7022431], dtype=float32)] w3:  [array([-0.05925432], dtype=float32)] w4:  [array([-0.39717498], dtype=float32)] w5:  [array([0.7041934], dtype=float32)] w6:  [array([0.8997787], dtype=float32)] \n",
      "\n",
      "18000 Cost:  1.55348 \n",
      "\n",
      "w1:  [array([-0.45903647], dtype=float32)] w2:  [array([-0.7029473], dtype=float32)] w3:  [array([-0.06492422], dtype=float32)] w4:  [array([-0.4260357], dtype=float32)] w5:  [array([0.64984095], dtype=float32)] w6:  [array([0.84343153], dtype=float32)] \n",
      "\n",
      "24000 Cost:  1.3874131 \n",
      "\n",
      "w1:  [array([-0.38346666], dtype=float32)] w2:  [array([-0.6895613], dtype=float32)] w3:  [array([-0.07236077], dtype=float32)] w4:  [array([-0.43483153], dtype=float32)] w5:  [array([0.5985094], dtype=float32)] w6:  [array([0.8108873], dtype=float32)] \n",
      "\n",
      "30000 Cost:  1.2559255 \n",
      "\n",
      "w1:  [array([-0.31369916], dtype=float32)] w2:  [array([-0.67037696], dtype=float32)] w3:  [array([-0.07739102], dtype=float32)] w4:  [array([-0.43498194], dtype=float32)] w5:  [array([0.55386156], dtype=float32)] w6:  [array([0.78887933], dtype=float32)] \n",
      "\n",
      "36000 Cost:  1.1450762 \n",
      "\n",
      "w1:  [array([-0.24814725], dtype=float32)] w2:  [array([-0.6485084], dtype=float32)] w3:  [array([-0.07964696], dtype=float32)] w4:  [array([-0.43101528], dtype=float32)] w5:  [array([0.5156344], dtype=float32)] w6:  [array([0.7720351], dtype=float32)] \n",
      "\n",
      "42000 Cost:  1.0488997 \n",
      "\n",
      "w1:  [array([-0.18629427], dtype=float32)] w2:  [array([-0.6252285], dtype=float32)] w3:  [array([-0.07968871], dtype=float32)] w4:  [array([-0.42493123], dtype=float32)] w5:  [array([0.48270506], dtype=float32)] w6:  [array([0.7579476], dtype=float32)] \n",
      "\n",
      "48000 Cost:  0.9640842 \n",
      "\n",
      "w1:  [array([-0.12792116], dtype=float32)] w2:  [array([-0.6011413], dtype=float32)] w3:  [array([-0.07816263], dtype=float32)] w4:  [array([-0.41772917], dtype=float32)] w5:  [array([0.45398867], dtype=float32)] w6:  [array([0.74537444], dtype=float32)] \n",
      "\n",
      "54000 Cost:  0.8885621 \n",
      "\n",
      "w1:  [array([-0.07287255], dtype=float32)] w2:  [array([-0.5766098], dtype=float32)] w3:  [array([-0.07559058], dtype=float32)] w4:  [array([-0.4099602], dtype=float32)] w5:  [array([0.4286086], dtype=float32)] w6:  [array([0.7336607], dtype=float32)] \n",
      "\n",
      "60000 Cost:  0.8208588 \n",
      "\n",
      "w1:  [array([-0.02099595], dtype=float32)] w2:  [array([-0.55193347], dtype=float32)] w3:  [array([-0.07235399], dtype=float32)] w4:  [array([-0.40193653], dtype=float32)] w5:  [array([0.4059024], dtype=float32)] w6:  [array([0.72240096], dtype=float32)] \n",
      "\n",
      "66000 Cost:  0.7597762 \n",
      "\n",
      "w1:  [array([0.02786737], dtype=float32)] w2:  [array([-0.5270638], dtype=float32)] w3:  [array([-0.06871781], dtype=float32)] w4:  [array([-0.3938899], dtype=float32)] w5:  [array([0.3853908], dtype=float32)] w6:  [array([0.7113145], dtype=float32)] \n",
      "\n",
      "72000 Cost:  0.70454603 \n",
      "\n",
      "w1:  [array([0.07388403], dtype=float32)] w2:  [array([-0.5023658], dtype=float32)] w3:  [array([-0.06485899], dtype=float32)] w4:  [array([-0.38585222], dtype=float32)] w5:  [array([0.36671183], dtype=float32)] w6:  [array([0.7002955], dtype=float32)] \n",
      "\n",
      "78000 Cost:  0.6543492 \n",
      "\n",
      "w1:  [array([0.11723028], dtype=float32)] w2:  [array([-0.47764033], dtype=float32)] w3:  [array([-0.06089125], dtype=float32)] w4:  [array([-0.377992], dtype=float32)] w5:  [array([0.34960288], dtype=float32)] w6:  [array([0.68929684], dtype=float32)] \n",
      "\n",
      "84000 Cost:  0.60861534 \n",
      "\n",
      "w1:  [array([0.1580736], dtype=float32)] w2:  [array([-0.4530534], dtype=float32)] w3:  [array([-0.05689029], dtype=float32)] w4:  [array([-0.37033045], dtype=float32)] w5:  [array([0.33385617], dtype=float32)] w6:  [array([0.67822325], dtype=float32)] \n",
      "\n",
      "90000 Cost:  0.5668583 \n",
      "\n",
      "w1:  [array([0.19657582], dtype=float32)] w2:  [array([-0.42867297], dtype=float32)] w3:  [array([-0.05291747], dtype=float32)] w4:  [array([-0.36288583], dtype=float32)] w5:  [array([0.3193113], dtype=float32)] w6:  [array([0.6671368], dtype=float32)] \n",
      "\n",
      "96000 Cost:  0.5286462 \n",
      "\n",
      "w1:  [array([0.23289478], dtype=float32)] w2:  [array([-0.40457752], dtype=float32)] w3:  [array([-0.04899514], dtype=float32)] w4:  [array([-0.355668], dtype=float32)] w5:  [array([0.3058314], dtype=float32)] w6:  [array([0.6560503], dtype=float32)] \n",
      "\n"
     ]
    },
    {
     "data": {
      "image/png": "[encoded data removed]",
      "text/plain": [
       "<Figure size 432x288 with 1 Axes>"
      ]
     },
     "metadata": {
      "needs_background": "light"
     },
     "output_type": "display_data"
    }
   ],
   "source": [
    "graph(6, 10000, 30000)"
   ]
  },
  {
   "cell_type": "code",
   "execution_count": 14,
   "metadata": {
    "scrolled": true
   },
   "outputs": [
    {
     "name": "stdout",
     "output_type": "stream",
     "text": [
      "0 Cost:  22.188347 \n",
      "\n",
      "w1:  [array([1.3761337], dtype=float32)] w2:  [array([0.11139093], dtype=float32)] w3:  [array([0.6900639], dtype=float32)] w4:  [array([2.2501588], dtype=float32)] w5:  [array([0.9047758], dtype=float32)] w6:  [array([1.2022839], dtype=float32)] \n",
      "\n",
      "6000 Cost:  7.924106 \n",
      "\n",
      "w1:  [array([1.398403], dtype=float32)] w2:  [array([-0.17092101], dtype=float32)] w3:  [array([0.5691523], dtype=float32)] w4:  [array([1.7379683], dtype=float32)] w5:  [array([0.7099659], dtype=float32)] w6:  [array([0.5537996], dtype=float32)] \n",
      "\n",
      "12000 Cost:  3.449974 \n",
      "\n",
      "w1:  [array([1.350883], dtype=float32)] w2:  [array([-0.28423342], dtype=float32)] w3:  [array([0.41919094], dtype=float32)] w4:  [array([1.4810776], dtype=float32)] w5:  [array([0.5069941], dtype=float32)] w6:  [array([0.21195742], dtype=float32)] \n",
      "\n",
      "18000 Cost:  1.6318394 \n",
      "\n",
      "w1:  [array([1.2935464], dtype=float32)] w2:  [array([-0.33091438], dtype=float32)] w3:  [array([0.295178], dtype=float32)] w4:  [array([1.3371023], dtype=float32)] w5:  [array([0.3481007], dtype=float32)] w6:  [array([0.01057439], dtype=float32)] \n",
      "\n",
      "24000 Cost:  0.8189086 \n",
      "\n",
      "w1:  [array([1.2424201], dtype=float32)] w2:  [array([-0.34877262], dtype=float32)] w3:  [array([0.2040664], dtype=float32)] w4:  [array([1.2494504], dtype=float32)] w5:  [array([0.23554114], dtype=float32)] w6:  [array([-0.11807101], dtype=float32)] \n",
      "\n"
     ]
    },
    {
     "data": {
      "image/png": "[encoded data removed]",
      "text/plain": [
       "<Figure size 432x288 with 1 Axes>"
      ]
     },
     "metadata": {
      "needs_background": "light"
     },
     "output_type": "display_data"
    }
   ],
   "source": [
    "graph(6, 100000, 30000)"
   ]
  },
  {
   "cell_type": "code",
   "execution_count": 20,
   "metadata": {},
   "outputs": [
    {
     "data": {
      "image/png": "[encoded data removed]",
      "text/plain": [
       "<Figure size 432x288 with 1 Axes>"
      ]
     },
     "metadata": {
      "needs_background": "light"
     },
     "output_type": "display_data"
    }
   ],
   "source": [
    "x = np.array([i for i in range(-10, 10, 1)])\n",
    "plt.plot(0.1*x, np.exp(0.1*x), '.b', label = 'exp')\n",
    "plt.plot(w6x100[0],w6x100[1], '.r', label = 'w=6, x=100')\n",
    "plt.plot(w60x1000[0],w60x1000[1], '.g', label = 'w=60, x=1000')\n",
    "plt.plot(w6x10000[0],w6x10000[1], '.c', label = 'w=6, x=10000')\n",
    "plt.plot(w6x100000[0],w6x100000[1], '.m', label = 'w=6, x=100000')\n",
    "plt.legend(loc = 'upper right', fontsize = 'xx-small')\n",
    "\n",
    "plt.show()"
   ]
  },
  {
   "cell_type": "code",
   "execution_count": null,
   "metadata": {},
   "outputs": [],
   "source": []
  }
 ],
 "metadata": {
  "kernelspec": {
   "display_name": "Python 3",
   "language": "python",
   "name": "python3"
  },
  "language_info": {
   "codemirror_mode": {
    "name": "ipython",
    "version": 3
   },
   "file_extension": ".py",
   "mimetype": "text/x-python",
   "name": "python",
   "nbconvert_exporter": "python",
   "pygments_lexer": "ipython3",
   "version": "3.7.6"
  }
 },
 "nbformat": 4,
 "nbformat_minor": 2
}
