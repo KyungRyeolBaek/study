{
  "nbformat": 4,
  "nbformat_minor": 0,
  "metadata": {
    "colab": {
      "name": "ai03_sc12x_백경렬.ipynb",
      "provenance": [],
      "collapsed_sections": [],
      "toc_visible": true,
      "include_colab_link": true
    },
    "kernelspec": {
      "display_name": "Python 3",
      "language": "python",
      "name": "python3"
    },
    "language_info": {
      "codemirror_mode": {
        "name": "ipython",
        "version": 3
      },
      "file_extension": ".py",
      "mimetype": "text/x-python",
      "name": "python",
      "nbconvert_exporter": "python",
      "pygments_lexer": "ipython3",
      "version": "3.8.2"
    }
  },
  "cells": [
    {
      "cell_type": "markdown",
      "metadata": {
        "id": "view-in-github",
        "colab_type": "text"
      },
      "source": [
        "<a href=\"https://colab.research.google.com/github/KyungRyeolBaek/study/blob/main/ai03_sc12x_%EB%B0%B1%EA%B2%BD%EB%A0%AC.ipynb\" target=\"_parent\"><img src=\"https://colab.research.google.com/assets/colab-badge.svg\" alt=\"Open In Colab\"/></a>"
      ]
    },
    {
      "cell_type": "markdown",
      "metadata": {
        "id": "NooAiTdnafkz"
      },
      "source": [
        "<img src='https://i.imgur.com/RDAD11M.png' width = '200' align = 'right'>\n",
        "\n",
        "# SC12x\n",
        "\n",
        "## Statistical Analysis"
      ]
    },
    {
      "cell_type": "markdown",
      "metadata": {
        "id": "p1WIHlUA7itE"
      },
      "source": [
        "## 개요\n",
        "\n",
        "여러분은 코스 수료를 마치고 CodeStates에 DS CA (Coaching  Assistant)로 합류했습니다.\n",
        "\n",
        "여러분에게 주어진 메인 태스크는 세션 및 수강생 핸들링이지만. \n",
        "\n",
        "시간을 짜내어 사이드 프로젝트를 하고 싶어졌습니다.\n",
        "\n",
        "AIB 팀원들과의 커피타임을 통해 수강생 데이터를 하나 받을 수 있었습니다.\n",
        "\n",
        "> 기수별 학생들 성취도 데이터인데, 어떤 의미가 있는지 확인해주세요."
      ]
    },
    {
      "cell_type": "markdown",
      "metadata": {
        "id": "WpH5PrMh-rOU"
      },
      "source": [
        "### Data Description\n",
        "\n",
        "- F1 : `N`, `D`\n",
        "- F2 : `Y`, `N`\n",
        "- F3 : `A`, `B`, `C`, `D` (기수)\n",
        "- F4 : Continuous\n",
        "- F5 : Continuous\n",
        "- F6 : `A` ~ `H`\n",
        "- F7 : Continuous\n",
        "- F8 : `X`, `Y`, `Z`\n",
        "- F9 : `Y`, `N`"
      ]
    },
    {
      "cell_type": "markdown",
      "metadata": {
        "id": "5wch6ksCbJtZ"
      },
      "source": [
        "## 1. 다음 링크를 참조하여 데이터를 불러오세요. \n",
        "\n",
        "<https://ds-lecture-data.s3.ap-northeast-2.amazonaws.com/sc12x/csdata.csv>\n",
        "\n",
        "이후 간단한 전처리를 하세요.\n"
      ]
    },
    {
      "cell_type": "code",
      "metadata": {
        "colab": {
          "base_uri": "https://localhost:8080/"
        },
        "id": "NiNrzNjRaxu4",
        "outputId": "4daa7f84-ba14-43ef-ffa4-dc300334738d"
      },
      "source": [
        "import pandas as pd\n",
        "\n",
        "df = pd.read_csv(\"https://ds-lecture-data.s3.ap-northeast-2.amazonaws.com/sc12x/csdata.csv\")\n",
        "df.info()"
      ],
      "execution_count": 4,
      "outputs": [
        {
          "output_type": "stream",
          "text": [
            "<class 'pandas.core.frame.DataFrame'>\n",
            "RangeIndex: 200 entries, 0 to 199\n",
            "Data columns (total 10 columns):\n",
            " #   Column      Non-Null Count  Dtype  \n",
            "---  ------      --------------  -----  \n",
            " 0   Unnamed: 0  200 non-null    int64  \n",
            " 1   F1          200 non-null    object \n",
            " 2   F2          191 non-null    object \n",
            " 3   F3          200 non-null    object \n",
            " 4   F4          200 non-null    float64\n",
            " 5   F5          170 non-null    float64\n",
            " 6   F6          200 non-null    object \n",
            " 7   F7          197 non-null    float64\n",
            " 8   F8          200 non-null    object \n",
            " 9   F9          200 non-null    object \n",
            "dtypes: float64(3), int64(1), object(6)\n",
            "memory usage: 15.8+ KB\n"
          ],
          "name": "stdout"
        }
      ]
    },
    {
      "cell_type": "code",
      "metadata": {
        "id": "Q03CXrYAbpHr"
      },
      "source": [
        "# F2, F5, F7 결측치 확인.\n",
        "df.isnull"
      ],
      "execution_count": null,
      "outputs": []
    },
    {
      "cell_type": "code",
      "metadata": {
        "id": "1vSniBMjN950",
        "colab": {
          "base_uri": "https://localhost:8080/",
          "height": 406
        },
        "outputId": "f00400b2-ae65-4eec-887e-4801791da3cd"
      },
      "source": [
        "import pandas as pd\n",
        "df = pd.read_csv(\"https://ds-lecture-data.s3.ap-northeast-2.amazonaws.com/sc12x/csdata.csv\")\n",
        "# 데이터에 소문자, NA가 섞여 있음. 결측값이 있는 데이터를 제거 하느냐, 보간 하느냐.\n",
        "\n",
        "# 결측값 drop (제거)\n",
        "df = df.dropna()\n",
        "\n",
        "# 결측값 ''로 대체\n",
        "# df = df.fillna(value = '')\n",
        "\n",
        "\n",
        "# 소문자 -> 대문자\n",
        "def upper_case(string):\n",
        "  return string.upper()\n",
        "for i in ['F1', 'F2', 'F3', 'F6', 'F8', 'F9']:\n",
        "  df[i] = df[i].apply(upper_case)\n",
        "df\n"
      ],
      "execution_count": 1,
      "outputs": [
        {
          "output_type": "execute_result",
          "data": {
            "text/html": [
              "<div>\n",
              "<style scoped>\n",
              "    .dataframe tbody tr th:only-of-type {\n",
              "        vertical-align: middle;\n",
              "    }\n",
              "\n",
              "    .dataframe tbody tr th {\n",
              "        vertical-align: top;\n",
              "    }\n",
              "\n",
              "    .dataframe thead th {\n",
              "        text-align: right;\n",
              "    }\n",
              "</style>\n",
              "<table border=\"1\" class=\"dataframe\">\n",
              "  <thead>\n",
              "    <tr style=\"text-align: right;\">\n",
              "      <th></th>\n",
              "      <th>Unnamed: 0</th>\n",
              "      <th>F1</th>\n",
              "      <th>F2</th>\n",
              "      <th>F3</th>\n",
              "      <th>F4</th>\n",
              "      <th>F5</th>\n",
              "      <th>F6</th>\n",
              "      <th>F7</th>\n",
              "      <th>F8</th>\n",
              "      <th>F9</th>\n",
              "    </tr>\n",
              "  </thead>\n",
              "  <tbody>\n",
              "    <tr>\n",
              "      <th>0</th>\n",
              "      <td>1</td>\n",
              "      <td>N</td>\n",
              "      <td>N</td>\n",
              "      <td>A</td>\n",
              "      <td>2.239542</td>\n",
              "      <td>0.773708</td>\n",
              "      <td>H</td>\n",
              "      <td>3.0</td>\n",
              "      <td>Y</td>\n",
              "      <td>Y</td>\n",
              "    </tr>\n",
              "    <tr>\n",
              "      <th>1</th>\n",
              "      <td>2</td>\n",
              "      <td>D</td>\n",
              "      <td>N</td>\n",
              "      <td>A</td>\n",
              "      <td>1.608900</td>\n",
              "      <td>0.133612</td>\n",
              "      <td>H</td>\n",
              "      <td>3.0</td>\n",
              "      <td>X</td>\n",
              "      <td>Y</td>\n",
              "    </tr>\n",
              "    <tr>\n",
              "      <th>2</th>\n",
              "      <td>3</td>\n",
              "      <td>N</td>\n",
              "      <td>N</td>\n",
              "      <td>A</td>\n",
              "      <td>2.544409</td>\n",
              "      <td>0.721873</td>\n",
              "      <td>H</td>\n",
              "      <td>8.0</td>\n",
              "      <td>Y</td>\n",
              "      <td>Y</td>\n",
              "    </tr>\n",
              "    <tr>\n",
              "      <th>3</th>\n",
              "      <td>4</td>\n",
              "      <td>N</td>\n",
              "      <td>Y</td>\n",
              "      <td>A</td>\n",
              "      <td>0.782857</td>\n",
              "      <td>0.259751</td>\n",
              "      <td>F</td>\n",
              "      <td>9.0</td>\n",
              "      <td>Y</td>\n",
              "      <td>N</td>\n",
              "    </tr>\n",
              "    <tr>\n",
              "      <th>4</th>\n",
              "      <td>5</td>\n",
              "      <td>N</td>\n",
              "      <td>N</td>\n",
              "      <td>A</td>\n",
              "      <td>1.532721</td>\n",
              "      <td>0.283534</td>\n",
              "      <td>E</td>\n",
              "      <td>4.0</td>\n",
              "      <td>Z</td>\n",
              "      <td>Y</td>\n",
              "    </tr>\n",
              "    <tr>\n",
              "      <th>...</th>\n",
              "      <td>...</td>\n",
              "      <td>...</td>\n",
              "      <td>...</td>\n",
              "      <td>...</td>\n",
              "      <td>...</td>\n",
              "      <td>...</td>\n",
              "      <td>...</td>\n",
              "      <td>...</td>\n",
              "      <td>...</td>\n",
              "      <td>...</td>\n",
              "    </tr>\n",
              "    <tr>\n",
              "      <th>195</th>\n",
              "      <td>196</td>\n",
              "      <td>N</td>\n",
              "      <td>N</td>\n",
              "      <td>D</td>\n",
              "      <td>2.765327</td>\n",
              "      <td>0.753814</td>\n",
              "      <td>G</td>\n",
              "      <td>5.0</td>\n",
              "      <td>X</td>\n",
              "      <td>Y</td>\n",
              "    </tr>\n",
              "    <tr>\n",
              "      <th>196</th>\n",
              "      <td>197</td>\n",
              "      <td>N</td>\n",
              "      <td>Y</td>\n",
              "      <td>D</td>\n",
              "      <td>3.098499</td>\n",
              "      <td>0.637145</td>\n",
              "      <td>G</td>\n",
              "      <td>2.0</td>\n",
              "      <td>Y</td>\n",
              "      <td>Y</td>\n",
              "    </tr>\n",
              "    <tr>\n",
              "      <th>197</th>\n",
              "      <td>198</td>\n",
              "      <td>N</td>\n",
              "      <td>N</td>\n",
              "      <td>D</td>\n",
              "      <td>1.613861</td>\n",
              "      <td>0.882830</td>\n",
              "      <td>F</td>\n",
              "      <td>2.0</td>\n",
              "      <td>Z</td>\n",
              "      <td>Y</td>\n",
              "    </tr>\n",
              "    <tr>\n",
              "      <th>198</th>\n",
              "      <td>199</td>\n",
              "      <td>N</td>\n",
              "      <td>N</td>\n",
              "      <td>D</td>\n",
              "      <td>3.003789</td>\n",
              "      <td>0.892767</td>\n",
              "      <td>G</td>\n",
              "      <td>4.0</td>\n",
              "      <td>Z</td>\n",
              "      <td>Y</td>\n",
              "    </tr>\n",
              "    <tr>\n",
              "      <th>199</th>\n",
              "      <td>200</td>\n",
              "      <td>N</td>\n",
              "      <td>N</td>\n",
              "      <td>D</td>\n",
              "      <td>2.468083</td>\n",
              "      <td>0.121094</td>\n",
              "      <td>G</td>\n",
              "      <td>5.0</td>\n",
              "      <td>X</td>\n",
              "      <td>N</td>\n",
              "    </tr>\n",
              "  </tbody>\n",
              "</table>\n",
              "<p>158 rows × 10 columns</p>\n",
              "</div>"
            ],
            "text/plain": [
              "     Unnamed: 0 F1 F2 F3        F4        F5 F6   F7 F8 F9\n",
              "0             1  N  N  A  2.239542  0.773708  H  3.0  Y  Y\n",
              "1             2  D  N  A  1.608900  0.133612  H  3.0  X  Y\n",
              "2             3  N  N  A  2.544409  0.721873  H  8.0  Y  Y\n",
              "3             4  N  Y  A  0.782857  0.259751  F  9.0  Y  N\n",
              "4             5  N  N  A  1.532721  0.283534  E  4.0  Z  Y\n",
              "..          ... .. .. ..       ...       ... ..  ... .. ..\n",
              "195         196  N  N  D  2.765327  0.753814  G  5.0  X  Y\n",
              "196         197  N  Y  D  3.098499  0.637145  G  2.0  Y  Y\n",
              "197         198  N  N  D  1.613861  0.882830  F  2.0  Z  Y\n",
              "198         199  N  N  D  3.003789  0.892767  G  4.0  Z  Y\n",
              "199         200  N  N  D  2.468083  0.121094  G  5.0  X  N\n",
              "\n",
              "[158 rows x 10 columns]"
            ]
          },
          "metadata": {
            "tags": []
          },
          "execution_count": 1
        }
      ]
    },
    {
      "cell_type": "markdown",
      "metadata": {
        "id": "G7rLytbrO38L"
      },
      "source": [
        "## 2. **F3**에 따라서 다른 Feature들이 어떤 경향을 나타내는지 해석해보세요.\n",
        "\n",
        "- categorical feature의 경우 crosstab을 사용하여 [contingency tables](https://en.wikipedia.org/wiki/Contingency_table)과 chi-square를 시도해 볼 수 있습니다.\n",
        "\n",
        "- continuous feature의 경우 여러 시각화와 t-test를 할 수 있을 겁니다.\n",
        "\n",
        "- 이를 바탕으로 **가장 유의미한** 그리고 **가장 무의미한** feature를 찾아보세요.\n",
        "\n",
        "여기서 여러분들의 목표는 \n",
        "\n",
        "`F3`에 따라서 다른 feature들이 영향이 있는지 없는지를 알아보는 \n",
        "\n",
        "**가설검정** 입니다.\n",
        "\n",
        "따라서 데이터 탐색 및 시각화 작업에 너무 많은 시간을 쏟지 마세요. 이것은 사이드 프로젝트 입니다."
      ]
    },
    {
      "cell_type": "code",
      "metadata": {
        "id": "_nqcgc0yzm68",
        "colab": {
          "base_uri": "https://localhost:8080/",
          "height": 335
        },
        "outputId": "344459c7-b8ae-4788-8399-9eae55835cf1"
      },
      "source": [
        "# 이 곳에 답안을 작성하시기 바랍니다\n",
        "# !sudo pip3 install --upgrade scipy\n",
        "import numpy as np\n",
        "from scipy.stats import chisquare\n",
        "from scipy import stats\n",
        "import matplotlib.pyplot as plt\n",
        "from scipy.stats import chi2_contingency\n",
        "df_F7 = pd.crosstab(index = df.F3, columns = df.F7)\n",
        "df_F4 = pd.crosstab(index = df.F3, columns = df.F4)\n",
        "df_F5 = pd.crosstab(index = df.F3, columns = df.F5)\n",
        "\n",
        "A_sum = 0\n",
        "for i, j in zip(df_F7.loc['A'], df_F7.columns):\n",
        "  A_sum += i*j\n",
        "\n",
        "B_sum = 0\n",
        "for i, j in zip(df_F7.loc['B'], df_F7.columns):\n",
        "  B_sum += i*j\n",
        "\n",
        "C_sum = 0\n",
        "for i, j in zip(df_F7.loc['C'], df_F7.columns):\n",
        "  C_sum += i*j\n",
        "\n",
        "D_sum = 0\n",
        "for i, j in zip(df_F7.loc['D'], df_F7.columns):\n",
        "  D_sum += i*j\n",
        "\n",
        "# F3의 F7 평균값 bar 그래프. \n",
        "plt.bar(x = df_F7.index, height = [A_sum/df_F7.shape[1], B_sum/df_F7.shape[1], C_sum/df_F7.shape[1], D_sum/df_F7.shape[1]]);\n",
        "\n",
        "# F3에 대해서 F4, F5, F7은 영향이 있는가\n",
        "df_F7_one = df_F7.sum(axis = 1)\n",
        "chisquare(df_F7_one)\n",
        "\n",
        "# df_F4_one = df_F4.sum(axis = 1)\n",
        "# chisquare(df_F4_one)\n",
        "\n",
        "# df_F5_one = df_F5.sum(axis = 1)\n",
        "# chisquare(df_F5_one)\n",
        "\n",
        "# print(chisquare(df_F7_one),chisquare(df_F4_one),chisquare(df_F5_one))\n",
        "\n",
        "# chisquare(df[['F3', 'F7']].pivot_table ( index = 'F3' ))\n",
        "\n",
        "# 가설 검정 T-test\n",
        "# 귀무 가설 : F3 의 A가 B보다 F7이 더 크다는 유의미한 결과가 나오지 않는다. ( pvalue = 0.5418 > 0.05 , 귀무가설 채택 )\n",
        "# 대안 가설 : F3 의 A가 B보다 F7이 더 크다는 유의미한 결과가 나온다. ( 대안가설 기각 )\n",
        "df_A = df[df['F3'] == 'A']['F7']\n",
        "df_B = df[df['F3'] == 'B']['F7']\n",
        "print('F3과 F7의 T-test statistic =', stats.ttest_ind(df_A, df_B, alternative = 'greater')[0], 'p-value =', stats.ttest_ind(df_A, df_B, alternative = 'greater')[1], '따라서 귀무가설 채택, F3의 A가 B보다 F7이 더 크다는 유의미한 결과가 나오지 않는다.')\n",
        "\n",
        "# 가설 검정 two-sample chi-square test\n",
        "# 귀무 가설 : F3에 대해서 F4, F5, F7이 연관이 있다는 유의미한 결과가 나오지 않는다. ( p-value = 0.999 > 0.05 , 귀무가설 채택, 거의 연관이 없다.)\n",
        "# 대안 가설 : F3에 대해서 F4, F5, F7이 연관이 있다는 유의미한 결과가 나온다. ( 대안가설 기각 )\n",
        "df_chi = df[['F3', 'F4', 'F5', 'F7']].dropna()\n",
        "df_chi = df_chi.pivot_table ( index = 'F3' )\n",
        "chi_test = chi2_contingency(df_chi)\n",
        "print('F3에 대해서 다른 Feature 들에 관한 카이 제곱 테스트 결과 statistic = {}, p-value = {}, 따라서 귀무가설 채택, F3에 대해서 다른 Feature들이 영향이 있다는 유의미한 결과가 나오지 않는다.'.format(chi_test[0], chi_test[1]))\n",
        "\n",
        "# F3과 가장 유의미한 결과가 나오는 Feature 찾기\n",
        "df_chi1 = df[['F3', 'F4']].dropna()\n",
        "df_chi1 = df_chi1.pivot_table ( index = 'F3' )\n",
        "chi_test1 = chisquare(df_chi1)\n",
        "\n",
        "df_chi2 = df[['F3', 'F5']].dropna()\n",
        "df_chi2 = df_chi2.pivot_table ( index = 'F3' )\n",
        "chi_test2 = chisquare(df_chi2)\n",
        "\n",
        "df_chi3 = df[['F3', 'F7']].dropna()\n",
        "df_chi3 = df_chi3.pivot_table ( index = 'F3' )\n",
        "chi_test3 = chisquare(df_chi3)\n",
        "\n",
        "print('F3,F4의 p-value = {}, F3,F5의 p-value = {}, F3,F7의 p-value = {}'.format(chi_test1[1], chi_test2[1], chi_test3[1]))\n",
        "print('F3과 F4, F5, F7 중 제일 유의미한 Feature는 F4이고, 제일 무의미한 Feature는 F7이다.')"
      ],
      "execution_count": 2,
      "outputs": [
        {
          "output_type": "stream",
          "text": [
            "F3과 F7의 T-test statistic = -0.10525336685582157 p-value = 0.5417792239576368 따라서 귀무가설 채택, F3의 A가 B보다 F7이 더 크다는 유의미한 결과가 나오지 않는다.\n",
            "F3에 대해서 다른 Feature 들에 관한 카이 제곱 테스트 결과 statistic = 0.40422922117756616, p-value = 0.9988165625307686, 따라서 귀무가설 채택, F3에 대해서 다른 Feature들이 영향이 있다는 유의미한 결과가 나오지 않는다.\n",
            "F3,F4의 p-value = [0.89512559], F3,F5의 p-value = [0.99996509], F3,F7의 p-value = [0.99998592]\n",
            "F3과 F4, F5, F7 중 제일 유의미한 Feature는 F4이고, 제일 무의미한 Feature는 F7이다.\n"
          ],
          "name": "stdout"
        },
        {
          "output_type": "display_data",
          "data": {
            "image/png": "[encoded data removed]",
            "text/plain": [
              "<Figure size 432x288 with 1 Axes>"
            ]
          },
          "metadata": {
            "tags": [],
            "needs_background": "light"
          }
        }
      ]
    },
    {
      "cell_type": "markdown",
      "metadata": {
        "id": "ZM8JckA2bgnp"
      },
      "source": [
        "## 3. 분석한 내용들을 설명하는 리포트를 작성해보세요. \n",
        "\n",
        "분석의 끝은 결국 설명입니다.\n",
        "\n",
        "통계 분석에 대한 이해도가 적은 다른 크루들이 이해 할 수 있도록 \n",
        "\n",
        "분석한 내용들을 설명하는 리포트를 작성해보세요. \n",
        "\n",
        "필요한 경우 코드 / 텍스트 내용을 더 추가해도 좋습니다."
      ]
    },
    {
      "cell_type": "code",
      "metadata": {
        "id": "rHsthhmPLaqk",
        "colab": {
          "base_uri": "https://localhost:8080/",
          "height": 52
        },
        "outputId": "5ebc600a-1ec4-4a53-ba1a-e1ed323d63f6"
      },
      "source": [
        "# 이 곳에 답안을 작성하시기 바랍니다\n",
        "# 우선 우리가 받은 데이터 내에 결측값이 있었고, 그 결측값이 있는 데이터를 제거 함으로써 결측값을 처리 했습니다.\n",
        "'''\n",
        "결측값 제거\n",
        "df = df.dropna()\n",
        "'''\n",
        "# 결측값을 다 제거 하고 난 후의 데이터 형태는 158 rows × 10 columns 이었습니다.\n",
        "# 이 내부 데이터 안에 소문자와 대문자가 섞여 있어 모든 소문자를 대문자로 전환 하였습니다.\n",
        "'''\n",
        "소문자를 대문자로 전환\n",
        "def upper_case(string):\n",
        "  return string.upper()\n",
        "for i in ['F1', 'F2', 'F3', 'F6', 'F8', 'F9']:\n",
        "  df[i] = df[i].apply(upper_case)\n",
        "'''\n",
        "# 이 데이터를 통해서 가설 검정을 하기 위해 숫자화 되어 있는 Feature는 F4, F5, F7 이었고, 이를 F3에 대하여 가설검정을 설계하였습니다.\n",
        "# 가설 검정으로 F3과 Feature에 대해서 카이제곱검정을 실행하였으며,\n",
        "# 귀무가설은 F3에 대해서 Feature가 유의미한 관계가 없다.\n",
        "# 대안가설은 F3에 대해서 Featrue가 유의미한 관계가 있다. 로 가정 하고 가설검정을 시작하였습니다.\n",
        "# 카이제곱테스트 결과로는 statistic : 0.4042 , p-value : 0.9988 로 나왔고,\n",
        "# 귀무가설이 채택 되기 위해서는 p-value가 0.05 이상이 나와야 하고, 대안가설이 채택 되기 위해서는 p-value가 0.05 이하가 나와야 합니다.\n",
        "# 이 테스트 결과의 p-value는 0.9988이 나왔고, p-value의 값이 0.05 보다 크므로 귀무가설이 채택 되었습니다.\n",
        "\n",
        "# 추가로 F3과 가장 유의미한 결과가 나온 Feature와 무의미한 결과가 나온 Feature를 찾기 위해 아래와 같은 코드를 사용 하였습니다.\n",
        "'''\n",
        "F3과 가장 유의미한 결과가 나오는 Feature 찾기\n",
        "df_chi1 = df[['F3', 'F4']].dropna()\n",
        "df_chi1 = df_chi1.pivot_table ( index = 'F3' )\n",
        "chi_test1 = chisquare(df_chi1)\n",
        "\n",
        "df_chi2 = df[['F3', 'F5']].dropna()\n",
        "df_chi2 = df_chi2.pivot_table ( index = 'F3' )\n",
        "chi_test2 = chisquare(df_chi2)\n",
        "\n",
        "df_chi3 = df[['F3', 'F7']].dropna()\n",
        "df_chi3 = df_chi3.pivot_table ( index = 'F3' )\n",
        "chi_test3 = chisquare(df_chi3)\n",
        "'''\n",
        "# 각 Feature 들의 F3과의 관계에 대해서 p-value를 구하였습니다.\n",
        "# 그 결과로 F3,F4의 p-value = [0.89512559], F3,F5의 p-value = [0.99996509], F3,F7의 p-value = [0.99998592] 가 나왔으며, p-value가 낮을수록 F3과 연관이 있다고 설명 할수 있습니다.\n",
        "# 이 결과 데이터에 따르면, F3과 F4의 p-value 값이 그나마 가장 낮으므로 F4, F5, F7 중에서는 F4가 가장 유의미한 결과가 나왔다고 말할 수 있습니다.\n",
        "# 반대로 가장 높은 p-value를 가진 F3과 F7의 경우에는 F7이 F3에 대해서 가장 무의미한 결과라고 말할 수 있습니다.\n",
        "\n",
        "# crosstab을 이용한 시각화로는 F3과 F7에 대해서 bar 그래프를 그려보았고,\n",
        "\n",
        "# 가설 검정 T-test로는 귀무 가설을 'F3 의 A가 B보다 F7이 더 크다는 유의미한 결과가 나오지 않는다.' 로 가정 하였고, 대안 가설을 'F3 의 A가 B보다 F7이 더 크다는 유의미한 결과가 나온다.' 로 가정 하였습니다.\n",
        "# F3과 F7의 T-test 결과로는 statistic이 -0.1053이 나왔고, p-value는 0.5418이 나왔습니다. T-test도 마찬가지로 p-value가 0.05 이상이면 귀무가설이 채택되고, 0.05이하 이여야 대안 가설을 채택 합니다.\n",
        "# p-value는 0.5418이 나왔고 따라서 귀무가설 채택 되었습니다. \n",
        "# F3의 A가 B보다 F7이 더 크다는 유의미한 결과가 나오지 않는다. 라는 결론이 나왔습니다."
      ],
      "execution_count": 3,
      "outputs": [
        {
          "output_type": "execute_result",
          "data": {
            "application/vnd.google.colaboratory.intrinsic+json": {
              "type": "string"
            },
            "text/plain": [
              "\"\\nF3과 가장 유의미한 결과가 나오는 Feature 찾기\\ndf_chi1 = df[['F3', 'F4']].dropna()\\ndf_chi1 = df_chi1.pivot_table ( index = 'F3' )\\nchi_test1 = chisquare(df_chi1)\\n\\ndf_chi2 = df[['F3', 'F5']].dropna()\\ndf_chi2 = df_chi2.pivot_table ( index = 'F3' )\\nchi_test2 = chisquare(df_chi2)\\n\\ndf_chi3 = df[['F3', 'F7']].dropna()\\ndf_chi3 = df_chi3.pivot_table ( index = 'F3' )\\nchi_test3 = chisquare(df_chi3)\\n\""
            ]
          },
          "metadata": {
            "tags": []
          },
          "execution_count": 3
        }
      ]
    },
    {
      "cell_type": "markdown",
      "metadata": {
        "id": "XOequK5xpVz7"
      },
      "source": [
        "## SC 3점 요구사항:\n",
        "\n",
        "위에서 요구된 사항들을 모두 정확하게 만족하고, 시간이 남았다면 아래 내용을 충족하는 경우 3점을 얻을 수 있습니다. \n",
        "\n",
        "아래 요구사항들 중 하나의 요구사항만 충족하면 되며, 모두 **optional** 임을 다시 한 번 강조합니다. (필수 요구사항이 아닙니다.)\n",
        "\n",
        "- Numerical 데이터에 대해서 normalize를 한 다음, 위에서 진행 했었던 분석을 다시 시행해보세요. (F4, F5, F7 vs F3)\n",
        "\n",
        "- Categorical 데이터를 one-hot encoding을 통해서 numerical 로 변환 후, 위에서 진행 했었던 분석을 다시 시행해보세요. (F1, F2, F6, F8, F9 vs F3)"
      ]
    },
    {
      "cell_type": "code",
      "metadata": {
        "id": "NT37grnxqa05"
      },
      "source": [
        "# 이 곳에 답안을 작성하시기 바랍니다"
      ],
      "execution_count": 4,
      "outputs": []
    }
  ]
}